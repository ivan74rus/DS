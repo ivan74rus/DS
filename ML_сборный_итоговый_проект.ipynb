{
  "cells": [
    {
      "cell_type": "markdown",
      "metadata": {
        "id": "view-in-github",
        "colab_type": "text"
      },
      "source": [
        "<a href=\"https://colab.research.google.com/github/ivan74rus/DS/blob/main/ML_%D1%81%D0%B1%D0%BE%D1%80%D0%BD%D1%8B%D0%B9_%D0%B8%D1%82%D0%BE%D0%B3%D0%BE%D0%B2%D1%8B%D0%B9_%D0%BF%D1%80%D0%BE%D0%B5%D0%BA%D1%82.ipynb\" target=\"_parent\"><img src=\"https://colab.research.google.com/assets/colab-badge.svg\" alt=\"Open In Colab\"/></a>"
      ]
    },
    {
      "cell_type": "markdown",
      "metadata": {
        "id": "Xr3c9aydxHJY"
      },
      "source": [
        "<h1>Содержание<span class=\"tocSkip\"></span></h1>\n",
        "<div class=\"toc\"><ul class=\"toc-item\"><li><span><a href=\"#Подготовка-данных\" data-toc-modified-id=\"Подготовка-данных-1\"><span class=\"toc-item-num\">1&nbsp;&nbsp;</span>Подготовка данных</a></span><ul class=\"toc-item\"><li><span><a href=\"#Открытие---и-изучение-файлов.\" data-toc-modified-id=\"Открытие---и-изучение-файлов.-1.1\"><span class=\"toc-item-num\">1.1&nbsp;&nbsp;</span>Открытие   и изучение файлов.</a></span></li><li><span><a href=\"#Проверьте,-что-эффективность-обогащения-рассчитана-правильно.-Вычислите-её-на-обучающей-выборке-для-признака-rougher.output.recovery.-Найдите-MAE-между-вашими-расчётами-и-значением-признака.-Опишите-выводы.\" data-toc-modified-id=\"Проверьте,-что-эффективность-обогащения-рассчитана-правильно.-Вычислите-её-на-обучающей-выборке-для-признака-rougher.output.recovery.-Найдите-MAE-между-вашими-расчётами-и-значением-признака.-Опишите-выводы.-1.2\"><span class=\"toc-item-num\">1.2&nbsp;&nbsp;</span>Проверьте, что эффективность обогащения рассчитана правильно. Вычислите её на обучающей выборке для признака rougher.output.recovery. Найдите MAE между вашими расчётами и значением признака. Опишите выводы.</a></span></li><li><span><a href=\"#Проанализируйте-признаки,-недоступные-в-тестовой-выборке.-Что-это-за-параметры?-К-какому-типу-относятся?\" data-toc-modified-id=\"Проанализируйте-признаки,-недоступные-в-тестовой-выборке.-Что-это-за-параметры?-К-какому-типу-относятся?-1.3\"><span class=\"toc-item-num\">1.3&nbsp;&nbsp;</span>Проанализируйте признаки, недоступные в тестовой выборке. Что это за параметры? К какому типу относятся?</a></span></li><li><span><a href=\"#Проведите-предобработку-данных.\" data-toc-modified-id=\"Проведите-предобработку-данных.-1.4\"><span class=\"toc-item-num\">1.4&nbsp;&nbsp;</span>Проведите предобработку данных.</a></span><ul class=\"toc-item\"><li><span><a href=\"#Пропуски\" data-toc-modified-id=\"Пропуски-1.4.1\"><span class=\"toc-item-num\">1.4.1&nbsp;&nbsp;</span>Пропуски</a></span></li><li><span><a href=\"#Нулевые-значения-в-rougher.output.recovery--и-final.output.recovery-(выбросы)\" data-toc-modified-id=\"Нулевые-значения-в-rougher.output.recovery--и-final.output.recovery-(выбросы)-1.4.2\"><span class=\"toc-item-num\">1.4.2&nbsp;&nbsp;</span>Нулевые значения в rougher.output.recovery  и final.output.recovery (выбросы)</a></span></li></ul></li></ul></li><li><span><a href=\"#Анализ-данных\" data-toc-modified-id=\"Анализ-данных-2\"><span class=\"toc-item-num\">2&nbsp;&nbsp;</span>Анализ данных</a></span><ul class=\"toc-item\"><li><span><a href=\"#2.1.-Посмотрите,-как-меняется-концентрация-металлов-(Au,-Ag,-Pb)-на-различных-этапах-очистки.-Опишите-выводы.\" data-toc-modified-id=\"2.1.-Посмотрите,-как-меняется-концентрация-металлов-(Au,-Ag,-Pb)-на-различных-этапах-очистки.-Опишите-выводы.-2.1\"><span class=\"toc-item-num\">2.1&nbsp;&nbsp;</span>2.1. Посмотрите, как меняется концентрация металлов (Au, Ag, Pb) на различных этапах очистки. Опишите выводы.</a></span></li><li><span><a href=\"#Сравните-распределения-размеров-гранул-сырья-на-обучающей-и-тестовой-выборках.-Если-распределения-сильно-отличаются-друг-от-друга,-оценка-модели-будет-неправильной.\" data-toc-modified-id=\"Сравните-распределения-размеров-гранул-сырья-на-обучающей-и-тестовой-выборках.-Если-распределения-сильно-отличаются-друг-от-друга,-оценка-модели-будет-неправильной.-2.2\"><span class=\"toc-item-num\">2.2&nbsp;&nbsp;</span>Сравните распределения размеров гранул сырья на обучающей и тестовой выборках. Если распределения сильно отличаются друг от друга, оценка модели будет неправильной.</a></span></li><li><span><a href=\"#Исследуйте-суммарную-концентрацию-всех-веществ-на-разных-стадиях:-в-сырье,-в-черновом-и-финальном-концентратах.\" data-toc-modified-id=\"Исследуйте-суммарную-концентрацию-всех-веществ-на-разных-стадиях:-в-сырье,-в-черновом-и-финальном-концентратах.-2.3\"><span class=\"toc-item-num\">2.3&nbsp;&nbsp;</span>Исследуйте суммарную концентрацию всех веществ на разных стадиях: в сырье, в черновом и финальном концентратах.</a></span><ul class=\"toc-item\"><li><span><a href=\"#Удалим-выбросы-окло-нуля-в-train--выборке.\" data-toc-modified-id=\"Удалим-выбросы-окло-нуля-в-train--выборке.-2.3.1\"><span class=\"toc-item-num\">2.3.1&nbsp;&nbsp;</span>Удалим выбросы окло нуля в train  выборке.</a></span></li></ul></li><li><span><a href=\"#Удаление--части-признаоков-и-train,-котрых-нет-в-test-выборках.\" data-toc-modified-id=\"Удаление--части-признаоков-и-train,-котрых-нет-в-test-выборках.-2.4\"><span class=\"toc-item-num\">2.4&nbsp;&nbsp;</span>Удаление  части признаоков и train, котрых нет в test выборках.</a></span></li></ul></li><li><span><a href=\"#Модель\" data-toc-modified-id=\"Модель-3\"><span class=\"toc-item-num\">3&nbsp;&nbsp;</span>Модель</a></span><ul class=\"toc-item\"><li><span><a href=\"#Напишите-функцию-для-вычисления-итоговой-sMAPE.\" data-toc-modified-id=\"Напишите-функцию-для-вычисления-итоговой-sMAPE.-3.1\"><span class=\"toc-item-num\">3.1&nbsp;&nbsp;</span>Напишите функцию для вычисления итоговой sMAPE.</a></span></li><li><span><a href=\"#Обучите-разные-модели-и-оцените-их-качество-кросс-валидацией.-Выберите-лучшую-модель-и-проверьте-её-на-тестовой-выборке.-Опишите-выводы.\" data-toc-modified-id=\"Обучите-разные-модели-и-оцените-их-качество-кросс-валидацией.-Выберите-лучшую-модель-и-проверьте-её-на-тестовой-выборке.-Опишите-выводы.-3.2\"><span class=\"toc-item-num\">3.2&nbsp;&nbsp;</span>Обучите разные модели и оцените их качество кросс-валидацией. Выберите лучшую модель и проверьте её на тестовой выборке. Опишите выводы.</a></span><ul class=\"toc-item\"><li><span><a href=\"#Подготовка-дата-сета-к-ML\" data-toc-modified-id=\"Подготовка-дата-сета-к-ML-3.2.1\"><span class=\"toc-item-num\">3.2.1&nbsp;&nbsp;</span>Подготовка дата сета к ML</a></span></li><li><span><a href=\"#Проведем-масштабирование.\" data-toc-modified-id=\"Проведем-масштабирование.-3.2.2\"><span class=\"toc-item-num\">3.2.2&nbsp;&nbsp;</span>Проведем масштабирование.</a></span></li><li><span><a href=\"#Обучение-моделей-с-помощью-кросс-валидации\" data-toc-modified-id=\"Обучение-моделей-с-помощью-кросс-валидации-3.2.3\"><span class=\"toc-item-num\">3.2.3&nbsp;&nbsp;</span>Обучение моделей с помощью кросс валидации</a></span></li><li><span><a href=\"#Подбор-лучших-гипер-параметров-дял-модели-Дерева-используя-цикл--и-cross_val_score\" data-toc-modified-id=\"Подбор-лучших-гипер-параметров-дял-модели-Дерева-используя-цикл--и-cross_val_score-3.2.4\"><span class=\"toc-item-num\">3.2.4&nbsp;&nbsp;</span>Подбор лучших гипер параметров дял модели Дерева используя цикл  и cross_val_score</a></span></li><li><span><a href=\"#Подбор-гиперпараметров-для-модели-СлучЛес-используя-GridSearchCV\" data-toc-modified-id=\"Подбор-гиперпараметров-для-модели-СлучЛес-используя-GridSearchCV-3.2.5\"><span class=\"toc-item-num\">3.2.5&nbsp;&nbsp;</span>Подбор гиперпараметров для модели СлучЛес используя GridSearchCV</a></span></li><li><span><a href=\"#Сравнение-различных-моделей-,c-помощью-цикла-с-кроссвалидацией-по-финальной-метрике-sMAPE_итоговое\" data-toc-modified-id=\"Сравнение-различных-моделей-,c-помощью-цикла-с-кроссвалидацией-по-финальной-метрике-sMAPE_итоговое-3.2.6\"><span class=\"toc-item-num\">3.2.6&nbsp;&nbsp;</span>Сравнение различных моделей ,c помощью цикла с кроссвалидацией по финальной метрике sMAPE_итоговое</a></span></li><li><span><a href=\"#Посмотрим-на-рапределение-предсказаний!\" data-toc-modified-id=\"Посмотрим-на-рапределение-предсказаний!-3.2.7\"><span class=\"toc-item-num\">3.2.7&nbsp;&nbsp;</span>Посмотрим на рапределение предсказаний!</a></span></li></ul></li><li><span><a href=\"#Применим-к-тестовой-выборке,-получим-предикт-для-бизнеса-,-сравним-с-тест-таргетом\" data-toc-modified-id=\"Применим-к-тестовой-выборке,-получим-предикт-для-бизнеса-,-сравним-с-тест-таргетом-3.3\"><span class=\"toc-item-num\">3.3&nbsp;&nbsp;</span>Применим к тестовой выборке, получим предикт для бизнеса , сравним с тест таргетом</a></span></li></ul></li><li><span><a href=\"#Чек-лист-готовности-проекта\" data-toc-modified-id=\"Чек-лист-готовности-проекта-4\"><span class=\"toc-item-num\">4&nbsp;&nbsp;</span>Чек-лист готовности проекта</a></span></li></ul></div>"
      ]
    },
    {
      "cell_type": "markdown",
      "metadata": {
        "id": "2K2IrL-KxHJZ"
      },
      "source": [
        "# Восстановление золота из руды"
      ]
    },
    {
      "cell_type": "markdown",
      "metadata": {
        "id": "vd2Tvr8qxHJa"
      },
      "source": [
        "Подготовьте прототип модели машинного обучения для «Цифры». Компания разрабатывает решения для эффективной работы промышленных предприятий.\n",
        "\n",
        "Модель должна предсказать коэффициент восстановления золота из золотосодержащей руды. Используйте данные с параметрами добычи и очистки. \n",
        "\n",
        "Модель поможет оптимизировать производство, чтобы не запускать предприятие с убыточными характеристиками.\n",
        "\n",
        "Вам нужно:\n",
        "\n",
        "1. Подготовить данные;\n",
        "2. Провести исследовательский анализ данных;\n",
        "3. Построить и обучить модель.\n",
        "\n",
        "Чтобы выполнить проект, обращайтесь к библиотекам *pandas*, *matplotlib* и *sklearn.* Вам поможет их документация."
      ]
    },
    {
      "cell_type": "markdown",
      "metadata": {
        "id": "Optioa2RxHJb"
      },
      "source": [
        "## Подготовка данных"
      ]
    },
    {
      "cell_type": "code",
      "execution_count": null,
      "metadata": {
        "colab": {
          "base_uri": "https://localhost:8080/"
        },
        "id": "utDhK3lbx-8p",
        "outputId": "f2a30f42-ec25-4fd8-f233-388a1f943291"
      },
      "outputs": [
        {
          "name": "stdout",
          "output_type": "stream",
          "text": [
            "Mounted at /content/drive\n"
          ]
        }
      ],
      "source": [
        "#подключить гугл диск\n",
        "from google.colab import drive\n",
        "drive.mount('/content/drive')"
      ]
    },
    {
      "cell_type": "code",
      "execution_count": null,
      "metadata": {
        "colab": {
          "base_uri": "https://localhost:8080/"
        },
        "id": "0ahgaLgBx6Eq",
        "outputId": "7c732c9f-8d71-4d28-ae92-b5900807b4c1"
      },
      "outputs": [
        {
          "name": "stdout",
          "output_type": "stream",
          "text": [
            "Looking in indexes: https://pypi.org/simple, https://us-python.pkg.dev/colab-wheels/public/simple/\n",
            "Collecting catboost\n",
            "  Downloading catboost-1.1.1-cp38-none-manylinux1_x86_64.whl (76.6 MB)\n",
            "\u001b[2K     \u001b[90m━━━━━━━━━━━━━━━━━━━━━━━━━━━━━━━━━━━━━━━━\u001b[0m \u001b[32m76.6/76.6 MB\u001b[0m \u001b[31m10.6 MB/s\u001b[0m eta \u001b[36m0:00:00\u001b[0m\n",
            "\u001b[?25hRequirement already satisfied: plotly in /usr/local/lib/python3.8/dist-packages (from catboost) (5.5.0)\n",
            "Requirement already satisfied: numpy>=1.16.0 in /usr/local/lib/python3.8/dist-packages (from catboost) (1.21.6)\n",
            "Requirement already satisfied: six in /usr/local/lib/python3.8/dist-packages (from catboost) (1.15.0)\n",
            "Requirement already satisfied: scipy in /usr/local/lib/python3.8/dist-packages (from catboost) (1.7.3)\n",
            "Requirement already satisfied: pandas>=0.24.0 in /usr/local/lib/python3.8/dist-packages (from catboost) (1.3.5)\n",
            "Requirement already satisfied: graphviz in /usr/local/lib/python3.8/dist-packages (from catboost) (0.10.1)\n",
            "Requirement already satisfied: matplotlib in /usr/local/lib/python3.8/dist-packages (from catboost) (3.2.2)\n",
            "Requirement already satisfied: python-dateutil>=2.7.3 in /usr/local/lib/python3.8/dist-packages (from pandas>=0.24.0->catboost) (2.8.2)\n",
            "Requirement already satisfied: pytz>=2017.3 in /usr/local/lib/python3.8/dist-packages (from pandas>=0.24.0->catboost) (2022.7.1)\n",
            "Requirement already satisfied: cycler>=0.10 in /usr/local/lib/python3.8/dist-packages (from matplotlib->catboost) (0.11.0)\n",
            "Requirement already satisfied: pyparsing!=2.0.4,!=2.1.2,!=2.1.6,>=2.0.1 in /usr/local/lib/python3.8/dist-packages (from matplotlib->catboost) (3.0.9)\n",
            "Requirement already satisfied: kiwisolver>=1.0.1 in /usr/local/lib/python3.8/dist-packages (from matplotlib->catboost) (1.4.4)\n",
            "Requirement already satisfied: tenacity>=6.2.0 in /usr/local/lib/python3.8/dist-packages (from plotly->catboost) (8.2.1)\n",
            "Installing collected packages: catboost\n",
            "Successfully installed catboost-1.1.1\n"
          ]
        }
      ],
      "source": [
        "#instal catboost\n",
        "!pip install catboost\n"
      ]
    },
    {
      "cell_type": "code",
      "execution_count": null,
      "metadata": {
        "id": "yiAzmecaxHJb"
      },
      "outputs": [],
      "source": [
        "#imports\n",
        "import pandas as pd\n",
        "import matplotlib.pyplot as plt\n",
        "import numpy as np\n",
        "from scipy import stats as st\n",
        "\n",
        "from sklearn.metrics import mean_absolute_error\n",
        "from sklearn.metrics import make_scorer\n",
        "from sklearn.preprocessing import StandardScaler\n",
        "\n",
        "from sklearn.model_selection import cross_val_score\n",
        "from sklearn.model_selection import GridSearchCV\n",
        "\n",
        "from sklearn.dummy import DummyRegressor\n",
        "from sklearn.tree import DecisionTreeRegressor  \n",
        "from sklearn.linear_model import LinearRegression\n",
        "from catboost import CatBoostRegressor\n",
        "from sklearn.ensemble import RandomForestRegressor\n",
        "\n",
        "from numpy.random import RandomState"
      ]
    },
    {
      "cell_type": "code",
      "execution_count": null,
      "metadata": {
        "id": "odCJmvLjxWNb"
      },
      "outputs": [],
      "source": [
        "# const\n",
        "LOCAL_DATA_PATH = '/content/drive/MyDrive/DS/'"
      ]
    },
    {
      "cell_type": "markdown",
      "metadata": {
        "id": "_83Rc8zLxHJe"
      },
      "source": [
        "###  Открытие   и изучение файлов."
      ]
    },
    {
      "cell_type": "code",
      "execution_count": null,
      "metadata": {
        "id": "w46dlpxjxHJe"
      },
      "outputs": [],
      "source": [
        "# читаем файлы\n",
        "df_train = pd.read_csv(f'{LOCAL_DATA_PATH}gold_recovery_train_new.csv')\n",
        "df_test = pd.read_csv(f'{LOCAL_DATA_PATH}gold_recovery_test_new.csv')\n",
        "df_full = pd.read_csv(f'{LOCAL_DATA_PATH}gold_recovery_full_new.csv')\n"
      ]
    },
    {
      "cell_type": "code",
      "execution_count": null,
      "metadata": {
        "colab": {
          "base_uri": "https://localhost:8080/"
        },
        "id": "bMbCa9eGxHJe",
        "outputId": "49eaa1f0-1c96-4448-cc41-797612cc07f6"
      },
      "outputs": [
        {
          "name": "stdout",
          "output_type": "stream",
          "text": [
            "<class 'pandas.core.frame.DataFrame'>\n",
            "RangeIndex: 14149 entries, 0 to 14148\n",
            "Data columns (total 87 columns):\n",
            " #   Column                                              Non-Null Count  Dtype  \n",
            "---  ------                                              --------------  -----  \n",
            " 0   date                                                14149 non-null  object \n",
            " 1   final.output.concentrate_ag                         14148 non-null  float64\n",
            " 2   final.output.concentrate_pb                         14148 non-null  float64\n",
            " 3   final.output.concentrate_sol                        13938 non-null  float64\n",
            " 4   final.output.concentrate_au                         14149 non-null  float64\n",
            " 5   final.output.recovery                               14149 non-null  float64\n",
            " 6   final.output.tail_ag                                14149 non-null  float64\n",
            " 7   final.output.tail_pb                                14049 non-null  float64\n",
            " 8   final.output.tail_sol                               14144 non-null  float64\n",
            " 9   final.output.tail_au                                14149 non-null  float64\n",
            " 10  primary_cleaner.input.sulfate                       14129 non-null  float64\n",
            " 11  primary_cleaner.input.depressant                    14117 non-null  float64\n",
            " 12  primary_cleaner.input.feed_size                     14149 non-null  float64\n",
            " 13  primary_cleaner.input.xanthate                      14049 non-null  float64\n",
            " 14  primary_cleaner.output.concentrate_ag               14149 non-null  float64\n",
            " 15  primary_cleaner.output.concentrate_pb               14063 non-null  float64\n",
            " 16  primary_cleaner.output.concentrate_sol              13863 non-null  float64\n",
            " 17  primary_cleaner.output.concentrate_au               14149 non-null  float64\n",
            " 18  primary_cleaner.output.tail_ag                      14148 non-null  float64\n",
            " 19  primary_cleaner.output.tail_pb                      14134 non-null  float64\n",
            " 20  primary_cleaner.output.tail_sol                     14103 non-null  float64\n",
            " 21  primary_cleaner.output.tail_au                      14149 non-null  float64\n",
            " 22  primary_cleaner.state.floatbank8_a_air              14145 non-null  float64\n",
            " 23  primary_cleaner.state.floatbank8_a_level            14148 non-null  float64\n",
            " 24  primary_cleaner.state.floatbank8_b_air              14145 non-null  float64\n",
            " 25  primary_cleaner.state.floatbank8_b_level            14148 non-null  float64\n",
            " 26  primary_cleaner.state.floatbank8_c_air              14147 non-null  float64\n",
            " 27  primary_cleaner.state.floatbank8_c_level            14148 non-null  float64\n",
            " 28  primary_cleaner.state.floatbank8_d_air              14146 non-null  float64\n",
            " 29  primary_cleaner.state.floatbank8_d_level            14148 non-null  float64\n",
            " 30  rougher.calculation.sulfate_to_au_concentrate       14148 non-null  float64\n",
            " 31  rougher.calculation.floatbank10_sulfate_to_au_feed  14148 non-null  float64\n",
            " 32  rougher.calculation.floatbank11_sulfate_to_au_feed  14148 non-null  float64\n",
            " 33  rougher.calculation.au_pb_ratio                     14149 non-null  float64\n",
            " 34  rougher.input.feed_ag                               14149 non-null  float64\n",
            " 35  rougher.input.feed_pb                               14049 non-null  float64\n",
            " 36  rougher.input.feed_rate                             14141 non-null  float64\n",
            " 37  rougher.input.feed_size                             14005 non-null  float64\n",
            " 38  rougher.input.feed_sol                              14071 non-null  float64\n",
            " 39  rougher.input.feed_au                               14149 non-null  float64\n",
            " 40  rougher.input.floatbank10_sulfate                   14120 non-null  float64\n",
            " 41  rougher.input.floatbank10_xanthate                  14141 non-null  float64\n",
            " 42  rougher.input.floatbank11_sulfate                   14113 non-null  float64\n",
            " 43  rougher.input.floatbank11_xanthate                  13721 non-null  float64\n",
            " 44  rougher.output.concentrate_ag                       14149 non-null  float64\n",
            " 45  rougher.output.concentrate_pb                       14149 non-null  float64\n",
            " 46  rougher.output.concentrate_sol                      14127 non-null  float64\n",
            " 47  rougher.output.concentrate_au                       14149 non-null  float64\n",
            " 48  rougher.output.recovery                             14149 non-null  float64\n",
            " 49  rougher.output.tail_ag                              14148 non-null  float64\n",
            " 50  rougher.output.tail_pb                              14149 non-null  float64\n",
            " 51  rougher.output.tail_sol                             14149 non-null  float64\n",
            " 52  rougher.output.tail_au                              14149 non-null  float64\n",
            " 53  rougher.state.floatbank10_a_air                     14148 non-null  float64\n",
            " 54  rougher.state.floatbank10_a_level                   14148 non-null  float64\n",
            " 55  rougher.state.floatbank10_b_air                     14148 non-null  float64\n",
            " 56  rougher.state.floatbank10_b_level                   14148 non-null  float64\n",
            " 57  rougher.state.floatbank10_c_air                     14148 non-null  float64\n",
            " 58  rougher.state.floatbank10_c_level                   14148 non-null  float64\n",
            " 59  rougher.state.floatbank10_d_air                     14149 non-null  float64\n",
            " 60  rougher.state.floatbank10_d_level                   14149 non-null  float64\n",
            " 61  rougher.state.floatbank10_e_air                     13713 non-null  float64\n",
            " 62  rougher.state.floatbank10_e_level                   14149 non-null  float64\n",
            " 63  rougher.state.floatbank10_f_air                     14149 non-null  float64\n",
            " 64  rougher.state.floatbank10_f_level                   14149 non-null  float64\n",
            " 65  secondary_cleaner.output.tail_ag                    14147 non-null  float64\n",
            " 66  secondary_cleaner.output.tail_pb                    14139 non-null  float64\n",
            " 67  secondary_cleaner.output.tail_sol                   12544 non-null  float64\n",
            " 68  secondary_cleaner.output.tail_au                    14149 non-null  float64\n",
            " 69  secondary_cleaner.state.floatbank2_a_air            13932 non-null  float64\n",
            " 70  secondary_cleaner.state.floatbank2_a_level          14148 non-null  float64\n",
            " 71  secondary_cleaner.state.floatbank2_b_air            14128 non-null  float64\n",
            " 72  secondary_cleaner.state.floatbank2_b_level          14148 non-null  float64\n",
            " 73  secondary_cleaner.state.floatbank3_a_air            14145 non-null  float64\n",
            " 74  secondary_cleaner.state.floatbank3_a_level          14148 non-null  float64\n",
            " 75  secondary_cleaner.state.floatbank3_b_air            14148 non-null  float64\n",
            " 76  secondary_cleaner.state.floatbank3_b_level          14148 non-null  float64\n",
            " 77  secondary_cleaner.state.floatbank4_a_air            14143 non-null  float64\n",
            " 78  secondary_cleaner.state.floatbank4_a_level          14148 non-null  float64\n",
            " 79  secondary_cleaner.state.floatbank4_b_air            14148 non-null  float64\n",
            " 80  secondary_cleaner.state.floatbank4_b_level          14148 non-null  float64\n",
            " 81  secondary_cleaner.state.floatbank5_a_air            14148 non-null  float64\n",
            " 82  secondary_cleaner.state.floatbank5_a_level          14148 non-null  float64\n",
            " 83  secondary_cleaner.state.floatbank5_b_air            14148 non-null  float64\n",
            " 84  secondary_cleaner.state.floatbank5_b_level          14148 non-null  float64\n",
            " 85  secondary_cleaner.state.floatbank6_a_air            14147 non-null  float64\n",
            " 86  secondary_cleaner.state.floatbank6_a_level          14148 non-null  float64\n",
            "dtypes: float64(86), object(1)\n",
            "memory usage: 9.4+ MB\n",
            "<class 'pandas.core.frame.DataFrame'>\n",
            "RangeIndex: 5290 entries, 0 to 5289\n",
            "Data columns (total 53 columns):\n",
            " #   Column                                      Non-Null Count  Dtype  \n",
            "---  ------                                      --------------  -----  \n",
            " 0   date                                        5290 non-null   object \n",
            " 1   primary_cleaner.input.sulfate               5286 non-null   float64\n",
            " 2   primary_cleaner.input.depressant            5285 non-null   float64\n",
            " 3   primary_cleaner.input.feed_size             5290 non-null   float64\n",
            " 4   primary_cleaner.input.xanthate              5286 non-null   float64\n",
            " 5   primary_cleaner.state.floatbank8_a_air      5290 non-null   float64\n",
            " 6   primary_cleaner.state.floatbank8_a_level    5290 non-null   float64\n",
            " 7   primary_cleaner.state.floatbank8_b_air      5290 non-null   float64\n",
            " 8   primary_cleaner.state.floatbank8_b_level    5290 non-null   float64\n",
            " 9   primary_cleaner.state.floatbank8_c_air      5290 non-null   float64\n",
            " 10  primary_cleaner.state.floatbank8_c_level    5290 non-null   float64\n",
            " 11  primary_cleaner.state.floatbank8_d_air      5290 non-null   float64\n",
            " 12  primary_cleaner.state.floatbank8_d_level    5290 non-null   float64\n",
            " 13  rougher.input.feed_ag                       5290 non-null   float64\n",
            " 14  rougher.input.feed_pb                       5290 non-null   float64\n",
            " 15  rougher.input.feed_rate                     5287 non-null   float64\n",
            " 16  rougher.input.feed_size                     5289 non-null   float64\n",
            " 17  rougher.input.feed_sol                      5269 non-null   float64\n",
            " 18  rougher.input.feed_au                       5290 non-null   float64\n",
            " 19  rougher.input.floatbank10_sulfate           5285 non-null   float64\n",
            " 20  rougher.input.floatbank10_xanthate          5290 non-null   float64\n",
            " 21  rougher.input.floatbank11_sulfate           5282 non-null   float64\n",
            " 22  rougher.input.floatbank11_xanthate          5265 non-null   float64\n",
            " 23  rougher.state.floatbank10_a_air             5290 non-null   float64\n",
            " 24  rougher.state.floatbank10_a_level           5290 non-null   float64\n",
            " 25  rougher.state.floatbank10_b_air             5290 non-null   float64\n",
            " 26  rougher.state.floatbank10_b_level           5290 non-null   float64\n",
            " 27  rougher.state.floatbank10_c_air             5290 non-null   float64\n",
            " 28  rougher.state.floatbank10_c_level           5290 non-null   float64\n",
            " 29  rougher.state.floatbank10_d_air             5290 non-null   float64\n",
            " 30  rougher.state.floatbank10_d_level           5290 non-null   float64\n",
            " 31  rougher.state.floatbank10_e_air             5290 non-null   float64\n",
            " 32  rougher.state.floatbank10_e_level           5290 non-null   float64\n",
            " 33  rougher.state.floatbank10_f_air             5290 non-null   float64\n",
            " 34  rougher.state.floatbank10_f_level           5290 non-null   float64\n",
            " 35  secondary_cleaner.state.floatbank2_a_air    5287 non-null   float64\n",
            " 36  secondary_cleaner.state.floatbank2_a_level  5290 non-null   float64\n",
            " 37  secondary_cleaner.state.floatbank2_b_air    5288 non-null   float64\n",
            " 38  secondary_cleaner.state.floatbank2_b_level  5290 non-null   float64\n",
            " 39  secondary_cleaner.state.floatbank3_a_air    5281 non-null   float64\n",
            " 40  secondary_cleaner.state.floatbank3_a_level  5290 non-null   float64\n",
            " 41  secondary_cleaner.state.floatbank3_b_air    5290 non-null   float64\n",
            " 42  secondary_cleaner.state.floatbank3_b_level  5290 non-null   float64\n",
            " 43  secondary_cleaner.state.floatbank4_a_air    5290 non-null   float64\n",
            " 44  secondary_cleaner.state.floatbank4_a_level  5290 non-null   float64\n",
            " 45  secondary_cleaner.state.floatbank4_b_air    5290 non-null   float64\n",
            " 46  secondary_cleaner.state.floatbank4_b_level  5290 non-null   float64\n",
            " 47  secondary_cleaner.state.floatbank5_a_air    5290 non-null   float64\n",
            " 48  secondary_cleaner.state.floatbank5_a_level  5290 non-null   float64\n",
            " 49  secondary_cleaner.state.floatbank5_b_air    5290 non-null   float64\n",
            " 50  secondary_cleaner.state.floatbank5_b_level  5290 non-null   float64\n",
            " 51  secondary_cleaner.state.floatbank6_a_air    5290 non-null   float64\n",
            " 52  secondary_cleaner.state.floatbank6_a_level  5290 non-null   float64\n",
            "dtypes: float64(52), object(1)\n",
            "memory usage: 2.1+ MB\n",
            "<class 'pandas.core.frame.DataFrame'>\n",
            "RangeIndex: 19439 entries, 0 to 19438\n",
            "Data columns (total 87 columns):\n",
            " #   Column                                              Non-Null Count  Dtype  \n",
            "---  ------                                              --------------  -----  \n",
            " 0   date                                                19439 non-null  object \n",
            " 1   final.output.concentrate_ag                         19438 non-null  float64\n",
            " 2   final.output.concentrate_pb                         19438 non-null  float64\n",
            " 3   final.output.concentrate_sol                        19228 non-null  float64\n",
            " 4   final.output.concentrate_au                         19439 non-null  float64\n",
            " 5   final.output.recovery                               19439 non-null  float64\n",
            " 6   final.output.tail_ag                                19438 non-null  float64\n",
            " 7   final.output.tail_pb                                19338 non-null  float64\n",
            " 8   final.output.tail_sol                               19433 non-null  float64\n",
            " 9   final.output.tail_au                                19439 non-null  float64\n",
            " 10  primary_cleaner.input.sulfate                       19415 non-null  float64\n",
            " 11  primary_cleaner.input.depressant                    19402 non-null  float64\n",
            " 12  primary_cleaner.input.feed_size                     19439 non-null  float64\n",
            " 13  primary_cleaner.input.xanthate                      19335 non-null  float64\n",
            " 14  primary_cleaner.output.concentrate_ag               19439 non-null  float64\n",
            " 15  primary_cleaner.output.concentrate_pb               19323 non-null  float64\n",
            " 16  primary_cleaner.output.concentrate_sol              19069 non-null  float64\n",
            " 17  primary_cleaner.output.concentrate_au               19439 non-null  float64\n",
            " 18  primary_cleaner.output.tail_ag                      19435 non-null  float64\n",
            " 19  primary_cleaner.output.tail_pb                      19418 non-null  float64\n",
            " 20  primary_cleaner.output.tail_sol                     19377 non-null  float64\n",
            " 21  primary_cleaner.output.tail_au                      19439 non-null  float64\n",
            " 22  primary_cleaner.state.floatbank8_a_air              19435 non-null  float64\n",
            " 23  primary_cleaner.state.floatbank8_a_level            19438 non-null  float64\n",
            " 24  primary_cleaner.state.floatbank8_b_air              19435 non-null  float64\n",
            " 25  primary_cleaner.state.floatbank8_b_level            19438 non-null  float64\n",
            " 26  primary_cleaner.state.floatbank8_c_air              19437 non-null  float64\n",
            " 27  primary_cleaner.state.floatbank8_c_level            19438 non-null  float64\n",
            " 28  primary_cleaner.state.floatbank8_d_air              19436 non-null  float64\n",
            " 29  primary_cleaner.state.floatbank8_d_level            19438 non-null  float64\n",
            " 30  rougher.calculation.sulfate_to_au_concentrate       19437 non-null  float64\n",
            " 31  rougher.calculation.floatbank10_sulfate_to_au_feed  19437 non-null  float64\n",
            " 32  rougher.calculation.floatbank11_sulfate_to_au_feed  19437 non-null  float64\n",
            " 33  rougher.calculation.au_pb_ratio                     19439 non-null  float64\n",
            " 34  rougher.input.feed_ag                               19439 non-null  float64\n",
            " 35  rougher.input.feed_pb                               19339 non-null  float64\n",
            " 36  rougher.input.feed_rate                             19428 non-null  float64\n",
            " 37  rougher.input.feed_size                             19294 non-null  float64\n",
            " 38  rougher.input.feed_sol                              19340 non-null  float64\n",
            " 39  rougher.input.feed_au                               19439 non-null  float64\n",
            " 40  rougher.input.floatbank10_sulfate                   19405 non-null  float64\n",
            " 41  rougher.input.floatbank10_xanthate                  19431 non-null  float64\n",
            " 42  rougher.input.floatbank11_sulfate                   19395 non-null  float64\n",
            " 43  rougher.input.floatbank11_xanthate                  18986 non-null  float64\n",
            " 44  rougher.output.concentrate_ag                       19439 non-null  float64\n",
            " 45  rougher.output.concentrate_pb                       19439 non-null  float64\n",
            " 46  rougher.output.concentrate_sol                      19416 non-null  float64\n",
            " 47  rougher.output.concentrate_au                       19439 non-null  float64\n",
            " 48  rougher.output.recovery                             19439 non-null  float64\n",
            " 49  rougher.output.tail_ag                              19438 non-null  float64\n",
            " 50  rougher.output.tail_pb                              19439 non-null  float64\n",
            " 51  rougher.output.tail_sol                             19439 non-null  float64\n",
            " 52  rougher.output.tail_au                              19439 non-null  float64\n",
            " 53  rougher.state.floatbank10_a_air                     19438 non-null  float64\n",
            " 54  rougher.state.floatbank10_a_level                   19438 non-null  float64\n",
            " 55  rougher.state.floatbank10_b_air                     19438 non-null  float64\n",
            " 56  rougher.state.floatbank10_b_level                   19438 non-null  float64\n",
            " 57  rougher.state.floatbank10_c_air                     19438 non-null  float64\n",
            " 58  rougher.state.floatbank10_c_level                   19438 non-null  float64\n",
            " 59  rougher.state.floatbank10_d_air                     19439 non-null  float64\n",
            " 60  rougher.state.floatbank10_d_level                   19439 non-null  float64\n",
            " 61  rougher.state.floatbank10_e_air                     19003 non-null  float64\n",
            " 62  rougher.state.floatbank10_e_level                   19439 non-null  float64\n",
            " 63  rougher.state.floatbank10_f_air                     19439 non-null  float64\n",
            " 64  rougher.state.floatbank10_f_level                   19439 non-null  float64\n",
            " 65  secondary_cleaner.output.tail_ag                    19437 non-null  float64\n",
            " 66  secondary_cleaner.output.tail_pb                    19427 non-null  float64\n",
            " 67  secondary_cleaner.output.tail_sol                   17691 non-null  float64\n",
            " 68  secondary_cleaner.output.tail_au                    19439 non-null  float64\n",
            " 69  secondary_cleaner.state.floatbank2_a_air            19219 non-null  float64\n",
            " 70  secondary_cleaner.state.floatbank2_a_level          19438 non-null  float64\n",
            " 71  secondary_cleaner.state.floatbank2_b_air            19416 non-null  float64\n",
            " 72  secondary_cleaner.state.floatbank2_b_level          19438 non-null  float64\n",
            " 73  secondary_cleaner.state.floatbank3_a_air            19426 non-null  float64\n",
            " 74  secondary_cleaner.state.floatbank3_a_level          19438 non-null  float64\n",
            " 75  secondary_cleaner.state.floatbank3_b_air            19438 non-null  float64\n",
            " 76  secondary_cleaner.state.floatbank3_b_level          19438 non-null  float64\n",
            " 77  secondary_cleaner.state.floatbank4_a_air            19433 non-null  float64\n",
            " 78  secondary_cleaner.state.floatbank4_a_level          19438 non-null  float64\n",
            " 79  secondary_cleaner.state.floatbank4_b_air            19438 non-null  float64\n",
            " 80  secondary_cleaner.state.floatbank4_b_level          19438 non-null  float64\n",
            " 81  secondary_cleaner.state.floatbank5_a_air            19438 non-null  float64\n",
            " 82  secondary_cleaner.state.floatbank5_a_level          19438 non-null  float64\n",
            " 83  secondary_cleaner.state.floatbank5_b_air            19438 non-null  float64\n",
            " 84  secondary_cleaner.state.floatbank5_b_level          19438 non-null  float64\n",
            " 85  secondary_cleaner.state.floatbank6_a_air            19437 non-null  float64\n",
            " 86  secondary_cleaner.state.floatbank6_a_level          19438 non-null  float64\n",
            "dtypes: float64(86), object(1)\n",
            "memory usage: 12.9+ MB\n"
          ]
        }
      ],
      "source": [
        "# смотрим на файлы \n",
        "df_train.info()\n",
        "df_test.info()\n",
        "df_full.info()\n"
      ]
    },
    {
      "cell_type": "markdown",
      "metadata": {
        "id": "xfQ0dNZZxHJf"
      },
      "source": [
        "### Проверьте, что эффективность обогащения рассчитана правильно. Вычислите её на обучающей выборке для признака rougher.output.recovery. Найдите MAE между вашими расчётами и значением признака. Опишите выводы.\n"
      ]
    },
    {
      "cell_type": "code",
      "execution_count": null,
      "metadata": {
        "colab": {
          "base_uri": "https://localhost:8080/",
          "height": 286
        },
        "id": "swDNSLnKxHJf",
        "outputId": "40fe9732-6c50-4d83-85f4-f9867370a63e"
      },
      "outputs": [
        {
          "data": {
            "text/plain": [
              "<matplotlib.axes._subplots.AxesSubplot at 0x7fe038da5670>"
            ]
          },
          "execution_count": 49,
          "metadata": {},
          "output_type": "execute_result"
        },
        {
          "data": {
            "image/png": "[encoded data removed]",
            "text/plain": [
              "<Figure size 432x288 with 1 Axes>"
            ]
          },
          "metadata": {},
          "output_type": "display_data"
        }
      ],
      "source": [
        "# rougher.output.recovery изучим\n",
        "df_train['rougher.output.recovery'].hist(bins=100)"
      ]
    },
    {
      "cell_type": "markdown",
      "metadata": {
        "id": "2Ptauf9SxHJg"
      },
      "source": [
        "Эффективность обогащения рассчитывается по формуле      \n",
        "где:\n",
        "Recovery = C * (F - T ) / F * (C - T)    *100 %        \n",
        "C — доля золота в концентрате после флотации/очистки;       \n",
        "F — доля золота в сырье/концентрате до флотации/очистки;     \n",
        "T — доля золота в отвальных хвостах после флотации/очистки.    "
      ]
    },
    {
      "cell_type": "code",
      "execution_count": null,
      "metadata": {
        "id": "e8FoXAQIxHJg"
      },
      "outputs": [],
      "source": [
        "# считаем  rougher.calculation.recovery'\n",
        "C = df_train['rougher.output.concentrate_au']\n",
        "F = df_train['rougher.input.feed_au']\n",
        "T = df_train['rougher.output.tail_au']\n",
        "\n",
        "df_train['rougher.calculation.recovery'] =  (C * (F - T ) / (F * (C - T)))*100\n"
      ]
    },
    {
      "cell_type": "code",
      "execution_count": null,
      "metadata": {
        "colab": {
          "base_uri": "https://localhost:8080/",
          "height": 286
        },
        "id": "30JFQSkBxHJg",
        "outputId": "d4f5aad8-f09a-4686-eef0-fe1f66964044"
      },
      "outputs": [
        {
          "data": {
            "text/plain": [
              "<matplotlib.axes._subplots.AxesSubplot at 0x7fe038507f70>"
            ]
          },
          "execution_count": 51,
          "metadata": {},
          "output_type": "execute_result"
        },
        {
          "data": {
            "image/png": "[encoded data removed]",
            "text/plain": [
              "<Figure size 432x288 with 1 Axes>"
            ]
          },
          "metadata": {},
          "output_type": "display_data"
        }
      ],
      "source": [
        "df_train['rougher.calculation.recovery'].hist(bins=100)"
      ]
    },
    {
      "cell_type": "markdown",
      "metadata": {
        "id": "IDOwLGoSxHJh"
      },
      "source": [
        "Видно что расчеты не  отличаются. Имеются выбросы в районе 0 их можно устранить в след пунктах.   \n",
        "Считаем МАЕ\n"
      ]
    },
    {
      "cell_type": "code",
      "execution_count": null,
      "metadata": {
        "colab": {
          "base_uri": "https://localhost:8080/"
        },
        "id": "eKbfOr40xHJh",
        "outputId": "6c1c3467-4923-4111-c7ff-e68eb9c6f9af"
      },
      "outputs": [
        {
          "data": {
            "text/plain": [
              "9.73512347450521e-15"
            ]
          },
          "execution_count": 52,
          "metadata": {},
          "output_type": "execute_result"
        }
      ],
      "source": [
        "mean_absolute_error(df_train['rougher.calculation.recovery'],df_train['rougher.output.recovery'] )"
      ]
    },
    {
      "cell_type": "markdown",
      "metadata": {
        "id": "YuL8EjeTxHJh"
      },
      "source": [
        "**Вывод**  МАЕ практически равно нулю. Расчеты одинаковы."
      ]
    },
    {
      "cell_type": "markdown",
      "metadata": {
        "id": "fQq1NtXCxHJi"
      },
      "source": [
        "### Анализ признаков, недоступных в тестовой выборке. "
      ]
    },
    {
      "cell_type": "code",
      "execution_count": null,
      "metadata": {
        "colab": {
          "base_uri": "https://localhost:8080/"
        },
        "id": "NYnbKZoqxHJi",
        "outputId": "f6bfd35a-5a83-45d1-9725-e69f70cac7b9"
      },
      "outputs": [
        {
          "data": {
            "text/plain": [
              "{'final.output.concentrate_ag',\n",
              " 'final.output.concentrate_au',\n",
              " 'final.output.concentrate_pb',\n",
              " 'final.output.concentrate_sol',\n",
              " 'final.output.recovery',\n",
              " 'final.output.tail_ag',\n",
              " 'final.output.tail_au',\n",
              " 'final.output.tail_pb',\n",
              " 'final.output.tail_sol',\n",
              " 'primary_cleaner.output.concentrate_ag',\n",
              " 'primary_cleaner.output.concentrate_au',\n",
              " 'primary_cleaner.output.concentrate_pb',\n",
              " 'primary_cleaner.output.concentrate_sol',\n",
              " 'primary_cleaner.output.tail_ag',\n",
              " 'primary_cleaner.output.tail_au',\n",
              " 'primary_cleaner.output.tail_pb',\n",
              " 'primary_cleaner.output.tail_sol',\n",
              " 'rougher.calculation.au_pb_ratio',\n",
              " 'rougher.calculation.floatbank10_sulfate_to_au_feed',\n",
              " 'rougher.calculation.floatbank11_sulfate_to_au_feed',\n",
              " 'rougher.calculation.recovery',\n",
              " 'rougher.calculation.sulfate_to_au_concentrate',\n",
              " 'rougher.output.concentrate_ag',\n",
              " 'rougher.output.concentrate_au',\n",
              " 'rougher.output.concentrate_pb',\n",
              " 'rougher.output.concentrate_sol',\n",
              " 'rougher.output.recovery',\n",
              " 'rougher.output.tail_ag',\n",
              " 'rougher.output.tail_au',\n",
              " 'rougher.output.tail_pb',\n",
              " 'rougher.output.tail_sol',\n",
              " 'secondary_cleaner.output.tail_ag',\n",
              " 'secondary_cleaner.output.tail_au',\n",
              " 'secondary_cleaner.output.tail_pb',\n",
              " 'secondary_cleaner.output.tail_sol'}"
            ]
          },
          "execution_count": 53,
          "metadata": {},
          "output_type": "execute_result"
        }
      ],
      "source": [
        "# определим признаки отсутсвующие в  тест датасете\n",
        "set(df_train.columns) - set(df_test.columns)"
      ]
    },
    {
      "cell_type": "markdown",
      "metadata": {
        "id": "ge5CdiSexHJi"
      },
      "source": [
        "Как видно отсутсвующие признаки в test выборке это данные output — параметры продукта и calculation — расчётные характеристики"
      ]
    },
    {
      "cell_type": "markdown",
      "metadata": {
        "id": "cGq7RUQFxHJi"
      },
      "source": [
        "### Предобработка данных.      \n"
      ]
    },
    {
      "cell_type": "markdown",
      "metadata": {
        "id": "wvM7XC_mxHJi"
      },
      "source": [
        "#### Пропуски      \n",
        "в данных есть  пропуски, причем во многих столбцах и разбросаны по датасету.     \n",
        "Т к данные близкие по времени у нас похожи , заполним пропуски медианой ближайших ячеек в каждом столбце. \n",
        "\n"
      ]
    },
    {
      "cell_type": "code",
      "execution_count": null,
      "metadata": {
        "id": "6T2Sk5GJxHJi"
      },
      "outputs": [],
      "source": [
        "# цикл по всем колонкам\n",
        "# получаем индекс где isna()  и заменяем его медианой + -20 строк вверх и низ\n",
        "# т е берем соседние данные ,кототрые похожи.\n",
        "for column_name in df_train.columns:\n",
        "    # индексы NAN\n",
        "    index_nan = df_train [df_train [column_name].isna()][column_name].index\n",
        "    # каждое значение заменяем медианой в 40 значений\n",
        "    for i in index_nan.to_list():\n",
        "        df_train.loc[i,column_name] =  df_train.loc [i-20:i+20 , column_name].median()\n",
        "   \n",
        "   "
      ]
    },
    {
      "cell_type": "code",
      "execution_count": null,
      "metadata": {
        "colab": {
          "base_uri": "https://localhost:8080/"
        },
        "id": "cM72-oYIxHJj",
        "outputId": "761e9f02-dc73-4f1c-f461-99f4c892b694"
      },
      "outputs": [
        {
          "name": "stdout",
          "output_type": "stream",
          "text": [
            "<class 'pandas.core.frame.DataFrame'>\n",
            "RangeIndex: 14149 entries, 0 to 14148\n",
            "Data columns (total 88 columns):\n",
            " #   Column                                              Non-Null Count  Dtype  \n",
            "---  ------                                              --------------  -----  \n",
            " 0   date                                                14149 non-null  object \n",
            " 1   final.output.concentrate_ag                         14149 non-null  float64\n",
            " 2   final.output.concentrate_pb                         14149 non-null  float64\n",
            " 3   final.output.concentrate_sol                        14149 non-null  float64\n",
            " 4   final.output.concentrate_au                         14149 non-null  float64\n",
            " 5   final.output.recovery                               14149 non-null  float64\n",
            " 6   final.output.tail_ag                                14149 non-null  float64\n",
            " 7   final.output.tail_pb                                14149 non-null  float64\n",
            " 8   final.output.tail_sol                               14149 non-null  float64\n",
            " 9   final.output.tail_au                                14149 non-null  float64\n",
            " 10  primary_cleaner.input.sulfate                       14149 non-null  float64\n",
            " 11  primary_cleaner.input.depressant                    14149 non-null  float64\n",
            " 12  primary_cleaner.input.feed_size                     14149 non-null  float64\n",
            " 13  primary_cleaner.input.xanthate                      14149 non-null  float64\n",
            " 14  primary_cleaner.output.concentrate_ag               14149 non-null  float64\n",
            " 15  primary_cleaner.output.concentrate_pb               14149 non-null  float64\n",
            " 16  primary_cleaner.output.concentrate_sol              14149 non-null  float64\n",
            " 17  primary_cleaner.output.concentrate_au               14149 non-null  float64\n",
            " 18  primary_cleaner.output.tail_ag                      14149 non-null  float64\n",
            " 19  primary_cleaner.output.tail_pb                      14149 non-null  float64\n",
            " 20  primary_cleaner.output.tail_sol                     14149 non-null  float64\n",
            " 21  primary_cleaner.output.tail_au                      14149 non-null  float64\n",
            " 22  primary_cleaner.state.floatbank8_a_air              14149 non-null  float64\n",
            " 23  primary_cleaner.state.floatbank8_a_level            14149 non-null  float64\n",
            " 24  primary_cleaner.state.floatbank8_b_air              14149 non-null  float64\n",
            " 25  primary_cleaner.state.floatbank8_b_level            14149 non-null  float64\n",
            " 26  primary_cleaner.state.floatbank8_c_air              14149 non-null  float64\n",
            " 27  primary_cleaner.state.floatbank8_c_level            14149 non-null  float64\n",
            " 28  primary_cleaner.state.floatbank8_d_air              14149 non-null  float64\n",
            " 29  primary_cleaner.state.floatbank8_d_level            14149 non-null  float64\n",
            " 30  rougher.calculation.sulfate_to_au_concentrate       14149 non-null  float64\n",
            " 31  rougher.calculation.floatbank10_sulfate_to_au_feed  14149 non-null  float64\n",
            " 32  rougher.calculation.floatbank11_sulfate_to_au_feed  14149 non-null  float64\n",
            " 33  rougher.calculation.au_pb_ratio                     14149 non-null  float64\n",
            " 34  rougher.input.feed_ag                               14149 non-null  float64\n",
            " 35  rougher.input.feed_pb                               14149 non-null  float64\n",
            " 36  rougher.input.feed_rate                             14149 non-null  float64\n",
            " 37  rougher.input.feed_size                             14149 non-null  float64\n",
            " 38  rougher.input.feed_sol                              14149 non-null  float64\n",
            " 39  rougher.input.feed_au                               14149 non-null  float64\n",
            " 40  rougher.input.floatbank10_sulfate                   14149 non-null  float64\n",
            " 41  rougher.input.floatbank10_xanthate                  14149 non-null  float64\n",
            " 42  rougher.input.floatbank11_sulfate                   14149 non-null  float64\n",
            " 43  rougher.input.floatbank11_xanthate                  14149 non-null  float64\n",
            " 44  rougher.output.concentrate_ag                       14149 non-null  float64\n",
            " 45  rougher.output.concentrate_pb                       14149 non-null  float64\n",
            " 46  rougher.output.concentrate_sol                      14149 non-null  float64\n",
            " 47  rougher.output.concentrate_au                       14149 non-null  float64\n",
            " 48  rougher.output.recovery                             14149 non-null  float64\n",
            " 49  rougher.output.tail_ag                              14149 non-null  float64\n",
            " 50  rougher.output.tail_pb                              14149 non-null  float64\n",
            " 51  rougher.output.tail_sol                             14149 non-null  float64\n",
            " 52  rougher.output.tail_au                              14149 non-null  float64\n",
            " 53  rougher.state.floatbank10_a_air                     14149 non-null  float64\n",
            " 54  rougher.state.floatbank10_a_level                   14149 non-null  float64\n",
            " 55  rougher.state.floatbank10_b_air                     14149 non-null  float64\n",
            " 56  rougher.state.floatbank10_b_level                   14149 non-null  float64\n",
            " 57  rougher.state.floatbank10_c_air                     14149 non-null  float64\n",
            " 58  rougher.state.floatbank10_c_level                   14149 non-null  float64\n",
            " 59  rougher.state.floatbank10_d_air                     14149 non-null  float64\n",
            " 60  rougher.state.floatbank10_d_level                   14149 non-null  float64\n",
            " 61  rougher.state.floatbank10_e_air                     14149 non-null  float64\n",
            " 62  rougher.state.floatbank10_e_level                   14149 non-null  float64\n",
            " 63  rougher.state.floatbank10_f_air                     14149 non-null  float64\n",
            " 64  rougher.state.floatbank10_f_level                   14149 non-null  float64\n",
            " 65  secondary_cleaner.output.tail_ag                    14149 non-null  float64\n",
            " 66  secondary_cleaner.output.tail_pb                    14149 non-null  float64\n",
            " 67  secondary_cleaner.output.tail_sol                   14149 non-null  float64\n",
            " 68  secondary_cleaner.output.tail_au                    14149 non-null  float64\n",
            " 69  secondary_cleaner.state.floatbank2_a_air            14149 non-null  float64\n",
            " 70  secondary_cleaner.state.floatbank2_a_level          14149 non-null  float64\n",
            " 71  secondary_cleaner.state.floatbank2_b_air            14149 non-null  float64\n",
            " 72  secondary_cleaner.state.floatbank2_b_level          14149 non-null  float64\n",
            " 73  secondary_cleaner.state.floatbank3_a_air            14149 non-null  float64\n",
            " 74  secondary_cleaner.state.floatbank3_a_level          14149 non-null  float64\n",
            " 75  secondary_cleaner.state.floatbank3_b_air            14149 non-null  float64\n",
            " 76  secondary_cleaner.state.floatbank3_b_level          14149 non-null  float64\n",
            " 77  secondary_cleaner.state.floatbank4_a_air            14149 non-null  float64\n",
            " 78  secondary_cleaner.state.floatbank4_a_level          14149 non-null  float64\n",
            " 79  secondary_cleaner.state.floatbank4_b_air            14149 non-null  float64\n",
            " 80  secondary_cleaner.state.floatbank4_b_level          14149 non-null  float64\n",
            " 81  secondary_cleaner.state.floatbank5_a_air            14149 non-null  float64\n",
            " 82  secondary_cleaner.state.floatbank5_a_level          14149 non-null  float64\n",
            " 83  secondary_cleaner.state.floatbank5_b_air            14149 non-null  float64\n",
            " 84  secondary_cleaner.state.floatbank5_b_level          14149 non-null  float64\n",
            " 85  secondary_cleaner.state.floatbank6_a_air            14149 non-null  float64\n",
            " 86  secondary_cleaner.state.floatbank6_a_level          14149 non-null  float64\n",
            " 87  rougher.calculation.recovery                        14149 non-null  float64\n",
            "dtypes: float64(87), object(1)\n",
            "memory usage: 9.5+ MB\n"
          ]
        }
      ],
      "source": [
        "# проверяем заполненойсть\n",
        "df_train.info()"
      ]
    },
    {
      "cell_type": "code",
      "execution_count": null,
      "metadata": {
        "colab": {
          "base_uri": "https://localhost:8080/"
        },
        "id": "RFup3969xHJj",
        "outputId": "176de4f4-436f-4686-d6b3-7ca0732b98df"
      },
      "outputs": [
        {
          "data": {
            "text/plain": [
              "(5290, 53)"
            ]
          },
          "execution_count": 56,
          "metadata": {},
          "output_type": "execute_result"
        }
      ],
      "source": [
        "df_test.shape"
      ]
    },
    {
      "cell_type": "code",
      "execution_count": null,
      "metadata": {
        "colab": {
          "base_uri": "https://localhost:8080/"
        },
        "id": "VWR4PEMzxHJj",
        "outputId": "4f6a8d41-e1a7-4f8d-e073-a4e0c498c5e7"
      },
      "outputs": [
        {
          "data": {
            "text/plain": [
              "(5229, 53)"
            ]
          },
          "execution_count": 57,
          "metadata": {},
          "output_type": "execute_result"
        }
      ],
      "source": [
        "#дроп  втест выборке всех строк гже есть пропуски их немного\n",
        "df_test.dropna(how='any' , inplace=True)\n",
        "#размер после дропа\n",
        "df_test.shape"
      ]
    },
    {
      "cell_type": "markdown",
      "metadata": {
        "id": "t9Er-x6WxHJj"
      },
      "source": [
        "#### Нулевые значения в rougher.output.recovery  и final.output.recovery (выбросы)   \n",
        "Нулевые оставляем , возможно это и есть цель прогноза модели."
      ]
    },
    {
      "cell_type": "code",
      "execution_count": null,
      "metadata": {
        "colab": {
          "base_uri": "https://localhost:8080/"
        },
        "id": "p_tw_dlBxHJk",
        "outputId": "5386d4bd-59e6-42a7-b8d0-d3cf6d8e9823"
      },
      "outputs": [
        {
          "data": {
            "text/plain": [
              "(297, 88)"
            ]
          },
          "execution_count": 58,
          "metadata": {},
          "output_type": "execute_result"
        }
      ],
      "source": [
        "#смотрим кол-во строк с 0 'rougher.output.recovery'\n",
        "df_train[df_train['rougher.output.recovery'] == 0].shape"
      ]
    },
    {
      "cell_type": "code",
      "execution_count": null,
      "metadata": {
        "colab": {
          "base_uri": "https://localhost:8080/"
        },
        "id": "aSYLbCBFxHJk",
        "outputId": "30c9ecc0-d9bc-457e-ee76-eb1eff34cb97"
      },
      "outputs": [
        {
          "data": {
            "text/plain": [
              "(58, 88)"
            ]
          },
          "execution_count": 59,
          "metadata": {},
          "output_type": "execute_result"
        }
      ],
      "source": [
        "#смотрим кол-во строк с 0 'final.output.recovery'\n",
        "df_train[df_train['final.output.recovery'] == 0].shape"
      ]
    },
    {
      "cell_type": "code",
      "execution_count": null,
      "metadata": {
        "colab": {
          "base_uri": "https://localhost:8080/"
        },
        "id": "mwxxqhfbxHJk",
        "outputId": "cc3af671-9f2e-4159-df96-7373a2b77346"
      },
      "outputs": [
        {
          "data": {
            "text/plain": [
              "(14149, 88)"
            ]
          },
          "execution_count": 60,
          "metadata": {},
          "output_type": "execute_result"
        }
      ],
      "source": [
        "df_train.shape\n",
        "#df_test.shape"
      ]
    },
    {
      "cell_type": "markdown",
      "metadata": {
        "id": "Fub0k-TSxHJk"
      },
      "source": [
        "**Вывод**    \n",
        "Пропуски данных заменениы медианой ближайших ячеек.    \n",
        "Нулевые занчения оставлены.   \n"
      ]
    },
    {
      "cell_type": "markdown",
      "metadata": {
        "id": "vac7jds1xHJl"
      },
      "source": [
        "## Анализ данных"
      ]
    },
    {
      "cell_type": "markdown",
      "metadata": {
        "id": "3ogNget6xHJl"
      },
      "source": [
        "### 2.1. Посмотрите, как меняется концентрация металлов (Au, Ag, Pb) на различных этапах очистки. Опишите выводы."
      ]
    },
    {
      "cell_type": "code",
      "execution_count": null,
      "metadata": {
        "colab": {
          "base_uri": "https://localhost:8080/",
          "height": 336
        },
        "id": "eoe54OLExHJl",
        "outputId": "3dd81663-14c6-4a7b-cd80-7f302f4a54c7"
      },
      "outputs": [
        {
          "data": {
            "image/png": "[encoded data removed]",
            "text/plain": [
              "<Figure size 720x360 with 4 Axes>"
            ]
          },
          "metadata": {},
          "output_type": "display_data"
        }
      ],
      "source": [
        "#средн концтр золота\n",
        "df_full[['rougher.input.feed_au','rougher.output.concentrate_au',\\\n",
        "         'primary_cleaner.output.concentrate_au','final.output.concentrate_au']].hist(bins=100, figsize=(10,5))\n",
        "plt.show()"
      ]
    },
    {
      "cell_type": "code",
      "execution_count": null,
      "metadata": {
        "colab": {
          "base_uri": "https://localhost:8080/",
          "height": 336
        },
        "id": "UFEPwmznxHJl",
        "outputId": "26920b93-81e3-4e55-a071-21f4a7700156"
      },
      "outputs": [
        {
          "data": {
            "image/png": "[encoded data removed]",
            "text/plain": [
              "<Figure size 720x360 with 4 Axes>"
            ]
          },
          "metadata": {},
          "output_type": "display_data"
        }
      ],
      "source": [
        "#средн концтр серебра\n",
        "df_full[['rougher.input.feed_ag','rougher.output.concentrate_ag',\\\n",
        "         'primary_cleaner.output.concentrate_ag','final.output.concentrate_ag']].hist(bins=100, figsize=(10,5))\n",
        "plt.show()"
      ]
    },
    {
      "cell_type": "code",
      "execution_count": null,
      "metadata": {
        "colab": {
          "base_uri": "https://localhost:8080/",
          "height": 336
        },
        "id": "F2NSAASmxHJl",
        "outputId": "d60f40bb-62ca-4639-e0e3-bde70bbfaee1"
      },
      "outputs": [
        {
          "data": {
            "image/png": "[encoded data removed]",
            "text/plain": [
              "<Figure size 720x360 with 4 Axes>"
            ]
          },
          "metadata": {},
          "output_type": "display_data"
        }
      ],
      "source": [
        "#сред концтр свинца\n",
        "df_full[['rougher.input.feed_pb','rougher.output.concentrate_pb',\\\n",
        "         'primary_cleaner.output.concentrate_pb','final.output.concentrate_pb']].hist(bins=100, figsize=(10,5))\n",
        "plt.show()"
      ]
    },
    {
      "cell_type": "markdown",
      "metadata": {
        "id": "H5fmclT_xHJl"
      },
      "source": [
        "**Вывод** Концетрация золота увеличивается с каждым этапом очистки, что логично, т к это и есть цель производства. Концентрация свинца так же увеличилась, но не так значительно. А вот концентрация серебра упала. Отметим ,что в  целом медиана и среднее почти одинаковы, каких то значительных выбросов в данных нет."
      ]
    },
    {
      "cell_type": "markdown",
      "metadata": {
        "id": "5D4cuUxFxHJm"
      },
      "source": [
        "### Сравните распределения размеров гранул сырья на обучающей и тестовой выборках. Если распределения сильно отличаются друг от друга, оценка модели будет неправильной."
      ]
    },
    {
      "cell_type": "code",
      "execution_count": null,
      "metadata": {
        "colab": {
          "base_uri": "https://localhost:8080/",
          "height": 336
        },
        "id": "mHdinJ9vxHJm",
        "outputId": "1c7b3d0e-af60-42f6-8df7-8c6872397c91"
      },
      "outputs": [
        {
          "data": {
            "image/png": "[encoded data removed]",
            "text/plain": [
              "<Figure size 720x360 with 2 Axes>"
            ]
          },
          "metadata": {},
          "output_type": "display_data"
        }
      ],
      "source": [
        "#посмотрим диаграммы на трайн\n",
        "df_train[['rougher.input.feed_size','primary_cleaner.input.feed_size']].hist(bins=100, figsize=(10,5),density=True)\n",
        "plt.show()"
      ]
    },
    {
      "cell_type": "code",
      "execution_count": null,
      "metadata": {
        "colab": {
          "base_uri": "https://localhost:8080/",
          "height": 388
        },
        "id": "yb0cm0sfxHJm",
        "outputId": "e2834eb2-0f64-4a6f-935a-48220fe63771"
      },
      "outputs": [
        {
          "data": {
            "text/plain": [
              "array([[<matplotlib.axes._subplots.AxesSubplot object at 0x7fe039b47d00>,\n",
              "        <matplotlib.axes._subplots.AxesSubplot object at 0x7fe0383ddca0>]],\n",
              "      dtype=object)"
            ]
          },
          "execution_count": 65,
          "metadata": {},
          "output_type": "execute_result"
        },
        {
          "data": {
            "image/png": "[encoded data removed]",
            "text/plain": [
              "<Figure size 720x360 with 2 Axes>"
            ]
          },
          "metadata": {},
          "output_type": "display_data"
        }
      ],
      "source": [
        "#диаграммы на тест выборке\n",
        "df_test[['rougher.input.feed_size','primary_cleaner.input.feed_size']].hist(bins=100, figsize=(10,5),density=True)"
      ]
    },
    {
      "cell_type": "markdown",
      "metadata": {
        "id": "uvhy0WjvxHJm"
      },
      "source": [
        "Визуально  распределения похожи.      \n",
        "Посмотрим средние и медианы."
      ]
    },
    {
      "cell_type": "code",
      "execution_count": null,
      "metadata": {
        "colab": {
          "base_uri": "https://localhost:8080/",
          "height": 112
        },
        "id": "xI5rFYiUxHJn",
        "outputId": "a19320d6-4ae7-4f01-c4ba-c0acf41a9293"
      },
      "outputs": [
        {
          "data": {
            "text/html": [
              "\n",
              "  <div id=\"df-ea1962fb-8274-4600-a160-3f4a77f6bb68\">\n",
              "    <div class=\"colab-df-container\">\n",
              "      <div>\n",
              "<style scoped>\n",
              "    .dataframe tbody tr th:only-of-type {\n",
              "        vertical-align: middle;\n",
              "    }\n",
              "\n",
              "    .dataframe tbody tr th {\n",
              "        vertical-align: top;\n",
              "    }\n",
              "\n",
              "    .dataframe thead th {\n",
              "        text-align: right;\n",
              "    }\n",
              "</style>\n",
              "<table border=\"1\" class=\"dataframe\">\n",
              "  <thead>\n",
              "    <tr style=\"text-align: right;\">\n",
              "      <th></th>\n",
              "      <th>rougher.input.feed_size</th>\n",
              "      <th>primary_cleaner.input.feed_size</th>\n",
              "    </tr>\n",
              "  </thead>\n",
              "  <tbody>\n",
              "    <tr>\n",
              "      <th>mean</th>\n",
              "      <td>60.089470</td>\n",
              "      <td>7.32231</td>\n",
              "    </tr>\n",
              "    <tr>\n",
              "      <th>median</th>\n",
              "      <td>55.244951</td>\n",
              "      <td>7.29000</td>\n",
              "    </tr>\n",
              "  </tbody>\n",
              "</table>\n",
              "</div>\n",
              "      <button class=\"colab-df-convert\" onclick=\"convertToInteractive('df-ea1962fb-8274-4600-a160-3f4a77f6bb68')\"\n",
              "              title=\"Convert this dataframe to an interactive table.\"\n",
              "              style=\"display:none;\">\n",
              "        \n",
              "  <svg xmlns=\"http://www.w3.org/2000/svg\" height=\"24px\"viewBox=\"0 0 24 24\"\n",
              "       width=\"24px\">\n",
              "    <path d=\"M0 0h24v24H0V0z\" fill=\"none\"/>\n",
              "    <path d=\"M18.56 5.44l.94 2.06.94-2.06 2.06-.94-2.06-.94-.94-2.06-.94 2.06-2.06.94zm-11 1L8.5 8.5l.94-2.06 2.06-.94-2.06-.94L8.5 2.5l-.94 2.06-2.06.94zm10 10l.94 2.06.94-2.06 2.06-.94-2.06-.94-.94-2.06-.94 2.06-2.06.94z\"/><path d=\"M17.41 7.96l-1.37-1.37c-.4-.4-.92-.59-1.43-.59-.52 0-1.04.2-1.43.59L10.3 9.45l-7.72 7.72c-.78.78-.78 2.05 0 2.83L4 21.41c.39.39.9.59 1.41.59.51 0 1.02-.2 1.41-.59l7.78-7.78 2.81-2.81c.8-.78.8-2.07 0-2.86zM5.41 20L4 18.59l7.72-7.72 1.47 1.35L5.41 20z\"/>\n",
              "  </svg>\n",
              "      </button>\n",
              "      \n",
              "  <style>\n",
              "    .colab-df-container {\n",
              "      display:flex;\n",
              "      flex-wrap:wrap;\n",
              "      gap: 12px;\n",
              "    }\n",
              "\n",
              "    .colab-df-convert {\n",
              "      background-color: #E8F0FE;\n",
              "      border: none;\n",
              "      border-radius: 50%;\n",
              "      cursor: pointer;\n",
              "      display: none;\n",
              "      fill: #1967D2;\n",
              "      height: 32px;\n",
              "      padding: 0 0 0 0;\n",
              "      width: 32px;\n",
              "    }\n",
              "\n",
              "    .colab-df-convert:hover {\n",
              "      background-color: #E2EBFA;\n",
              "      box-shadow: 0px 1px 2px rgba(60, 64, 67, 0.3), 0px 1px 3px 1px rgba(60, 64, 67, 0.15);\n",
              "      fill: #174EA6;\n",
              "    }\n",
              "\n",
              "    [theme=dark] .colab-df-convert {\n",
              "      background-color: #3B4455;\n",
              "      fill: #D2E3FC;\n",
              "    }\n",
              "\n",
              "    [theme=dark] .colab-df-convert:hover {\n",
              "      background-color: #434B5C;\n",
              "      box-shadow: 0px 1px 3px 1px rgba(0, 0, 0, 0.15);\n",
              "      filter: drop-shadow(0px 1px 2px rgba(0, 0, 0, 0.3));\n",
              "      fill: #FFFFFF;\n",
              "    }\n",
              "  </style>\n",
              "\n",
              "      <script>\n",
              "        const buttonEl =\n",
              "          document.querySelector('#df-ea1962fb-8274-4600-a160-3f4a77f6bb68 button.colab-df-convert');\n",
              "        buttonEl.style.display =\n",
              "          google.colab.kernel.accessAllowed ? 'block' : 'none';\n",
              "\n",
              "        async function convertToInteractive(key) {\n",
              "          const element = document.querySelector('#df-ea1962fb-8274-4600-a160-3f4a77f6bb68');\n",
              "          const dataTable =\n",
              "            await google.colab.kernel.invokeFunction('convertToInteractive',\n",
              "                                                     [key], {});\n",
              "          if (!dataTable) return;\n",
              "\n",
              "          const docLinkHtml = 'Like what you see? Visit the ' +\n",
              "            '<a target=\"_blank\" href=https://colab.research.google.com/notebooks/data_table.ipynb>data table notebook</a>'\n",
              "            + ' to learn more about interactive tables.';\n",
              "          element.innerHTML = '';\n",
              "          dataTable['output_type'] = 'display_data';\n",
              "          await google.colab.output.renderOutput(dataTable, element);\n",
              "          const docLink = document.createElement('div');\n",
              "          docLink.innerHTML = docLinkHtml;\n",
              "          element.appendChild(docLink);\n",
              "        }\n",
              "      </script>\n",
              "    </div>\n",
              "  </div>\n",
              "  "
            ],
            "text/plain": [
              "        rougher.input.feed_size  primary_cleaner.input.feed_size\n",
              "mean                  60.089470                          7.32231\n",
              "median                55.244951                          7.29000"
            ]
          },
          "execution_count": 66,
          "metadata": {},
          "output_type": "execute_result"
        }
      ],
      "source": [
        "# медианы и среднее трайн\n",
        "df_train[['rougher.input.feed_size','primary_cleaner.input.feed_size']].agg(['mean','median'])"
      ]
    },
    {
      "cell_type": "code",
      "execution_count": null,
      "metadata": {
        "colab": {
          "base_uri": "https://localhost:8080/",
          "height": 112
        },
        "id": "QU2N7M94xHJn",
        "outputId": "894cccc9-8820-45ee-ce9d-a5a87ad25a32"
      },
      "outputs": [
        {
          "data": {
            "text/html": [
              "\n",
              "  <div id=\"df-41222e6a-01d1-41b4-92c7-576203721185\">\n",
              "    <div class=\"colab-df-container\">\n",
              "      <div>\n",
              "<style scoped>\n",
              "    .dataframe tbody tr th:only-of-type {\n",
              "        vertical-align: middle;\n",
              "    }\n",
              "\n",
              "    .dataframe tbody tr th {\n",
              "        vertical-align: top;\n",
              "    }\n",
              "\n",
              "    .dataframe thead th {\n",
              "        text-align: right;\n",
              "    }\n",
              "</style>\n",
              "<table border=\"1\" class=\"dataframe\">\n",
              "  <thead>\n",
              "    <tr style=\"text-align: right;\">\n",
              "      <th></th>\n",
              "      <th>rougher.input.feed_size</th>\n",
              "      <th>primary_cleaner.input.feed_size</th>\n",
              "    </tr>\n",
              "  </thead>\n",
              "  <tbody>\n",
              "    <tr>\n",
              "      <th>mean</th>\n",
              "      <td>55.863978</td>\n",
              "      <td>7.271546</td>\n",
              "    </tr>\n",
              "    <tr>\n",
              "      <th>median</th>\n",
              "      <td>50.772729</td>\n",
              "      <td>7.250000</td>\n",
              "    </tr>\n",
              "  </tbody>\n",
              "</table>\n",
              "</div>\n",
              "      <button class=\"colab-df-convert\" onclick=\"convertToInteractive('df-41222e6a-01d1-41b4-92c7-576203721185')\"\n",
              "              title=\"Convert this dataframe to an interactive table.\"\n",
              "              style=\"display:none;\">\n",
              "        \n",
              "  <svg xmlns=\"http://www.w3.org/2000/svg\" height=\"24px\"viewBox=\"0 0 24 24\"\n",
              "       width=\"24px\">\n",
              "    <path d=\"M0 0h24v24H0V0z\" fill=\"none\"/>\n",
              "    <path d=\"M18.56 5.44l.94 2.06.94-2.06 2.06-.94-2.06-.94-.94-2.06-.94 2.06-2.06.94zm-11 1L8.5 8.5l.94-2.06 2.06-.94-2.06-.94L8.5 2.5l-.94 2.06-2.06.94zm10 10l.94 2.06.94-2.06 2.06-.94-2.06-.94-.94-2.06-.94 2.06-2.06.94z\"/><path d=\"M17.41 7.96l-1.37-1.37c-.4-.4-.92-.59-1.43-.59-.52 0-1.04.2-1.43.59L10.3 9.45l-7.72 7.72c-.78.78-.78 2.05 0 2.83L4 21.41c.39.39.9.59 1.41.59.51 0 1.02-.2 1.41-.59l7.78-7.78 2.81-2.81c.8-.78.8-2.07 0-2.86zM5.41 20L4 18.59l7.72-7.72 1.47 1.35L5.41 20z\"/>\n",
              "  </svg>\n",
              "      </button>\n",
              "      \n",
              "  <style>\n",
              "    .colab-df-container {\n",
              "      display:flex;\n",
              "      flex-wrap:wrap;\n",
              "      gap: 12px;\n",
              "    }\n",
              "\n",
              "    .colab-df-convert {\n",
              "      background-color: #E8F0FE;\n",
              "      border: none;\n",
              "      border-radius: 50%;\n",
              "      cursor: pointer;\n",
              "      display: none;\n",
              "      fill: #1967D2;\n",
              "      height: 32px;\n",
              "      padding: 0 0 0 0;\n",
              "      width: 32px;\n",
              "    }\n",
              "\n",
              "    .colab-df-convert:hover {\n",
              "      background-color: #E2EBFA;\n",
              "      box-shadow: 0px 1px 2px rgba(60, 64, 67, 0.3), 0px 1px 3px 1px rgba(60, 64, 67, 0.15);\n",
              "      fill: #174EA6;\n",
              "    }\n",
              "\n",
              "    [theme=dark] .colab-df-convert {\n",
              "      background-color: #3B4455;\n",
              "      fill: #D2E3FC;\n",
              "    }\n",
              "\n",
              "    [theme=dark] .colab-df-convert:hover {\n",
              "      background-color: #434B5C;\n",
              "      box-shadow: 0px 1px 3px 1px rgba(0, 0, 0, 0.15);\n",
              "      filter: drop-shadow(0px 1px 2px rgba(0, 0, 0, 0.3));\n",
              "      fill: #FFFFFF;\n",
              "    }\n",
              "  </style>\n",
              "\n",
              "      <script>\n",
              "        const buttonEl =\n",
              "          document.querySelector('#df-41222e6a-01d1-41b4-92c7-576203721185 button.colab-df-convert');\n",
              "        buttonEl.style.display =\n",
              "          google.colab.kernel.accessAllowed ? 'block' : 'none';\n",
              "\n",
              "        async function convertToInteractive(key) {\n",
              "          const element = document.querySelector('#df-41222e6a-01d1-41b4-92c7-576203721185');\n",
              "          const dataTable =\n",
              "            await google.colab.kernel.invokeFunction('convertToInteractive',\n",
              "                                                     [key], {});\n",
              "          if (!dataTable) return;\n",
              "\n",
              "          const docLinkHtml = 'Like what you see? Visit the ' +\n",
              "            '<a target=\"_blank\" href=https://colab.research.google.com/notebooks/data_table.ipynb>data table notebook</a>'\n",
              "            + ' to learn more about interactive tables.';\n",
              "          element.innerHTML = '';\n",
              "          dataTable['output_type'] = 'display_data';\n",
              "          await google.colab.output.renderOutput(dataTable, element);\n",
              "          const docLink = document.createElement('div');\n",
              "          docLink.innerHTML = docLinkHtml;\n",
              "          element.appendChild(docLink);\n",
              "        }\n",
              "      </script>\n",
              "    </div>\n",
              "  </div>\n",
              "  "
            ],
            "text/plain": [
              "        rougher.input.feed_size  primary_cleaner.input.feed_size\n",
              "mean                  55.863978                         7.271546\n",
              "median                50.772729                         7.250000"
            ]
          },
          "execution_count": 67,
          "metadata": {},
          "output_type": "execute_result"
        }
      ],
      "source": [
        "# медианы и среднее тест\n",
        "df_test[['rougher.input.feed_size','primary_cleaner.input.feed_size']].agg(['mean','median'])"
      ]
    },
    {
      "cell_type": "markdown",
      "metadata": {
        "id": "4jypQKT8xHJn"
      },
      "source": []
    },
    {
      "cell_type": "markdown",
      "metadata": {
        "id": "fbjoDm39xHJn"
      },
      "source": [
        "**Вывод** Распределение размеров гранул не сильно отличаются, можно продолжать исследования."
      ]
    },
    {
      "cell_type": "markdown",
      "metadata": {
        "id": "XD33NEwTxHJn"
      },
      "source": [
        "### Исследуйте суммарную концентрацию всех веществ на разных стадиях: в сырье, в черновом и финальном концентратах. "
      ]
    },
    {
      "cell_type": "markdown",
      "metadata": {
        "id": "-yVO7SxpxHJn"
      },
      "source": [
        "вещества     \n",
        "final.output.concentrate_ag  \n",
        "final.output.concentrate_pb     \n",
        "final.output.concentrate_sol       \n",
        "final.output.concentrate_au "
      ]
    },
    {
      "cell_type": "code",
      "execution_count": null,
      "metadata": {
        "colab": {
          "base_uri": "https://localhost:8080/",
          "height": 282
        },
        "id": "0Uv1BteixHJn",
        "outputId": "b0f1a30a-5eba-4b11-c513-1a2aec2ca885",
        "scrolled": true
      },
      "outputs": [
        {
          "data": {
            "text/plain": [
              "<matplotlib.axes._subplots.AxesSubplot at 0x7fe03880bee0>"
            ]
          },
          "execution_count": 68,
          "metadata": {},
          "output_type": "execute_result"
        },
        {
          "data": {
            "image/png": "[encoded data removed]",
            "text/plain": [
              "<Figure size 432x288 with 1 Axes>"
            ]
          },
          "metadata": {},
          "output_type": "display_data"
        }
      ],
      "source": [
        "#суммар концтр  всех веществ на стадии 'rougher.input'\n",
        "\n",
        "rougher_input_feed_sum = ( df_train['rougher.input.feed_au'] + df_train['rougher.input.feed_ag'] \\\n",
        "+ df_train['rougher.input.feed_pb'] +  df_train['rougher.input.feed_sol'])\n",
        "rougher_input_feed_sum.hist(bins=100)"
      ]
    },
    {
      "cell_type": "code",
      "execution_count": null,
      "metadata": {
        "colab": {
          "base_uri": "https://localhost:8080/",
          "height": 282
        },
        "id": "aqdnYfwIxHJo",
        "outputId": "b9ff02a1-f9a2-4432-f39d-22d2c7f9e846"
      },
      "outputs": [
        {
          "data": {
            "text/plain": [
              "<matplotlib.axes._subplots.AxesSubplot at 0x7fe038e60c40>"
            ]
          },
          "execution_count": 69,
          "metadata": {},
          "output_type": "execute_result"
        },
        {
          "data": {
            "image/png": "[encoded data removed]",
            "text/plain": [
              "<Figure size 432x288 with 1 Axes>"
            ]
          },
          "metadata": {},
          "output_type": "display_data"
        }
      ],
      "source": [
        "#суммар концтр  всех веществ на стадии 'rougher.output'\n",
        "\n",
        "rougher_output_concentrate_sum = (df_train['rougher.output.concentrate_au'] + df_train['rougher.output.concentrate_ag'] \\\n",
        " + df_train['rougher.output.concentrate_pb'] +  df_train['rougher.output.concentrate_sol'])\n",
        "rougher_output_concentrate_sum.hist(bins=100)"
      ]
    },
    {
      "cell_type": "code",
      "execution_count": null,
      "metadata": {
        "colab": {
          "base_uri": "https://localhost:8080/",
          "height": 282
        },
        "id": "aF_x__eUxHJo",
        "outputId": "2cfeb8ed-a0c7-4892-b99f-160edbc37012"
      },
      "outputs": [
        {
          "data": {
            "text/plain": [
              "<matplotlib.axes._subplots.AxesSubplot at 0x7fe038a341f0>"
            ]
          },
          "execution_count": 70,
          "metadata": {},
          "output_type": "execute_result"
        },
        {
          "data": {
            "image/png": "[encoded data removed]",
            "text/plain": [
              "<Figure size 432x288 with 1 Axes>"
            ]
          },
          "metadata": {},
          "output_type": "display_data"
        }
      ],
      "source": [
        "#суммар концтр всех веществ на стадии primary_cleaner.output\n",
        "primary_cleaner_output_concentrate_sum = (df_train['primary_cleaner.output.concentrate_au'] + df_train['primary_cleaner.output.concentrate_ag'] \\\n",
        " + df_train['primary_cleaner.output.concentrate_pb'] +  df_train['primary_cleaner.output.concentrate_sol']) \n",
        "primary_cleaner_output_concentrate_sum.hist(bins=100)"
      ]
    },
    {
      "cell_type": "code",
      "execution_count": null,
      "metadata": {
        "colab": {
          "base_uri": "https://localhost:8080/",
          "height": 286
        },
        "id": "qIFClZDgxHJo",
        "outputId": "52c13cb9-8f61-41f6-9eb3-72393238bcc5"
      },
      "outputs": [
        {
          "data": {
            "text/plain": [
              "<matplotlib.axes._subplots.AxesSubplot at 0x7fe039b47670>"
            ]
          },
          "execution_count": 71,
          "metadata": {},
          "output_type": "execute_result"
        },
        {
          "data": {
            "image/png": "[encoded data removed]",
            "text/plain": [
              "<Figure size 432x288 with 1 Axes>"
            ]
          },
          "metadata": {},
          "output_type": "display_data"
        }
      ],
      "source": [
        "#суммар концтр всех веществ на стадии 'final.output'\n",
        "final_output_concentrate_sum = (df_train['final.output.concentrate_au'] + df_train['final.output.concentrate_ag'] \\\n",
        " + df_train['final.output.concentrate_pb'] +  df_train['final.output.concentrate_sol'])\n",
        "final_output_concentrate_sum.hist(bins=100)"
      ]
    },
    {
      "cell_type": "code",
      "execution_count": null,
      "metadata": {
        "colab": {
          "base_uri": "https://localhost:8080/"
        },
        "id": "gZhuz1TvxHJo",
        "outputId": "6a7e63ab-145d-43b3-e9c5-ea496f09d640"
      },
      "outputs": [
        {
          "data": {
            "text/plain": [
              "13.164521351228663"
            ]
          },
          "execution_count": 72,
          "metadata": {},
          "output_type": "execute_result"
        }
      ],
      "source": [
        "final_output_concentrate_sum.quantile(0.005)"
      ]
    },
    {
      "cell_type": "markdown",
      "metadata": {
        "id": "Wkv09_iuxHJo"
      },
      "source": [
        "#### Удалим выбросы окло нуля в train  выборке.\n"
      ]
    },
    {
      "cell_type": "code",
      "execution_count": null,
      "metadata": {
        "colab": {
          "base_uri": "https://localhost:8080/"
        },
        "id": "tBbHkd58xHJo",
        "outputId": "da7f0c7e-6a46-411b-ec95-71b06c551ecf"
      },
      "outputs": [
        {
          "name": "stdout",
          "output_type": "stream",
          "text": [
            "около нулевые выбросы для :\n",
            "rougher_input_feed_sum (5, 88)\n",
            "rougher_output_concentrate_sum (302, 88)\n",
            "primary_cleaner_output_concentrate_sum (193, 88)\n",
            "final_output_concentrate_sum (59, 88)\n"
          ]
        }
      ],
      "source": [
        "#посомтрим кол-во около нулевых выбросов\n",
        "#k - предел околонулевых значений\n",
        "k = 0.5\n",
        "# оценим кол-во выбросов прежде чем отбрасывать\n",
        "print('около нулевые выбросы для :')\n",
        "print ('rougher_input_feed_sum', df_train[rougher_input_feed_sum < k].shape)\n",
        "print ('rougher_output_concentrate_sum', df_train[rougher_output_concentrate_sum < k].shape)\n",
        "print ('primary_cleaner_output_concentrate_sum', df_train[primary_cleaner_output_concentrate_sum < k].shape)\n",
        "print ('final_output_concentrate_sum', df_train[final_output_concentrate_sum < k].shape)\n"
      ]
    },
    {
      "cell_type": "code",
      "execution_count": null,
      "metadata": {
        "id": "w7VsI5HrxHJp"
      },
      "outputs": [],
      "source": [
        "#для читабльности кода соберем индексы для дропа в перменую\n",
        "index_for_drop = (df_train[rougher_input_feed_sum < k] + df_train[rougher_output_concentrate_sum < k] +\\\n",
        "                  df_train[primary_cleaner_output_concentrate_sum < k] + df_train[final_output_concentrate_sum < k]).index"
      ]
    },
    {
      "cell_type": "code",
      "execution_count": null,
      "metadata": {
        "colab": {
          "base_uri": "https://localhost:8080/"
        },
        "id": "U1wzNHkgxHJp",
        "outputId": "7cd4ee09-ad45-4cb4-c206-6b55ad4d0e65"
      },
      "outputs": [
        {
          "data": {
            "text/plain": [
              "(549,)"
            ]
          },
          "execution_count": 75,
          "metadata": {},
          "output_type": "execute_result"
        }
      ],
      "source": [
        "#всего под дроп строк\n",
        "index_for_drop.shape\n",
        "#df_train.shape"
      ]
    },
    {
      "cell_type": "code",
      "execution_count": null,
      "metadata": {
        "id": "gwdDFRPqxHJp"
      },
      "outputs": [],
      "source": [
        "#df_train.drop\n",
        "df_train = df_train.drop(index=index_for_drop)"
      ]
    },
    {
      "cell_type": "code",
      "execution_count": null,
      "metadata": {
        "colab": {
          "base_uri": "https://localhost:8080/"
        },
        "id": "OnrmjIFUxHJp",
        "outputId": "309ea536-c3a1-4e10-cf5f-9c83c61d182b"
      },
      "outputs": [
        {
          "data": {
            "text/plain": [
              "(13600, 88)"
            ]
          },
          "execution_count": 77,
          "metadata": {},
          "output_type": "execute_result"
        }
      ],
      "source": [
        "df_train.shape"
      ]
    },
    {
      "cell_type": "markdown",
      "metadata": {
        "id": "6PA2ruGOxHJp"
      },
      "source": [
        "**Вывод** Выбросы около нуля для суммы концентрации всех веществ на разных стадиях отброшены."
      ]
    },
    {
      "cell_type": "markdown",
      "metadata": {
        "id": "ov32fZxMxHJq"
      },
      "source": [
        "### Удаление  части признаоков и train, котрых нет в test выборках.    \n",
        "Нужно \"лишние\" признаки удалить из трайн выборки, котрых нет в тестовой.   \n",
        "Иначе как модель будет предсказывать.    \n",
        "Удалем сразу,чтобы эти столбцы не обрабатывать далее.  Т к в любом случаее  эти столбцы не нужны\n",
        "    \n"
      ]
    },
    {
      "cell_type": "code",
      "execution_count": null,
      "metadata": {
        "colab": {
          "base_uri": "https://localhost:8080/",
          "height": 112
        },
        "id": "p7vpSvGjxHJq",
        "outputId": "36784f31-60c5-4c95-ae66-a538b7d9dc47"
      },
      "outputs": [
        {
          "data": {
            "text/html": [
              "\n",
              "  <div id=\"df-8c57965f-941c-4cd1-8bf6-9b71a2d0b9fe\">\n",
              "    <div class=\"colab-df-container\">\n",
              "      <div>\n",
              "<style scoped>\n",
              "    .dataframe tbody tr th:only-of-type {\n",
              "        vertical-align: middle;\n",
              "    }\n",
              "\n",
              "    .dataframe tbody tr th {\n",
              "        vertical-align: top;\n",
              "    }\n",
              "\n",
              "    .dataframe thead th {\n",
              "        text-align: right;\n",
              "    }\n",
              "</style>\n",
              "<table border=\"1\" class=\"dataframe\">\n",
              "  <thead>\n",
              "    <tr style=\"text-align: right;\">\n",
              "      <th></th>\n",
              "      <th>final.output.recovery</th>\n",
              "      <th>rougher.output.recovery</th>\n",
              "    </tr>\n",
              "  </thead>\n",
              "  <tbody>\n",
              "    <tr>\n",
              "      <th>0</th>\n",
              "      <td>70.541216</td>\n",
              "      <td>87.107763</td>\n",
              "    </tr>\n",
              "    <tr>\n",
              "      <th>1</th>\n",
              "      <td>69.266198</td>\n",
              "      <td>86.843261</td>\n",
              "    </tr>\n",
              "  </tbody>\n",
              "</table>\n",
              "</div>\n",
              "      <button class=\"colab-df-convert\" onclick=\"convertToInteractive('df-8c57965f-941c-4cd1-8bf6-9b71a2d0b9fe')\"\n",
              "              title=\"Convert this dataframe to an interactive table.\"\n",
              "              style=\"display:none;\">\n",
              "        \n",
              "  <svg xmlns=\"http://www.w3.org/2000/svg\" height=\"24px\"viewBox=\"0 0 24 24\"\n",
              "       width=\"24px\">\n",
              "    <path d=\"M0 0h24v24H0V0z\" fill=\"none\"/>\n",
              "    <path d=\"M18.56 5.44l.94 2.06.94-2.06 2.06-.94-2.06-.94-.94-2.06-.94 2.06-2.06.94zm-11 1L8.5 8.5l.94-2.06 2.06-.94-2.06-.94L8.5 2.5l-.94 2.06-2.06.94zm10 10l.94 2.06.94-2.06 2.06-.94-2.06-.94-.94-2.06-.94 2.06-2.06.94z\"/><path d=\"M17.41 7.96l-1.37-1.37c-.4-.4-.92-.59-1.43-.59-.52 0-1.04.2-1.43.59L10.3 9.45l-7.72 7.72c-.78.78-.78 2.05 0 2.83L4 21.41c.39.39.9.59 1.41.59.51 0 1.02-.2 1.41-.59l7.78-7.78 2.81-2.81c.8-.78.8-2.07 0-2.86zM5.41 20L4 18.59l7.72-7.72 1.47 1.35L5.41 20z\"/>\n",
              "  </svg>\n",
              "      </button>\n",
              "      \n",
              "  <style>\n",
              "    .colab-df-container {\n",
              "      display:flex;\n",
              "      flex-wrap:wrap;\n",
              "      gap: 12px;\n",
              "    }\n",
              "\n",
              "    .colab-df-convert {\n",
              "      background-color: #E8F0FE;\n",
              "      border: none;\n",
              "      border-radius: 50%;\n",
              "      cursor: pointer;\n",
              "      display: none;\n",
              "      fill: #1967D2;\n",
              "      height: 32px;\n",
              "      padding: 0 0 0 0;\n",
              "      width: 32px;\n",
              "    }\n",
              "\n",
              "    .colab-df-convert:hover {\n",
              "      background-color: #E2EBFA;\n",
              "      box-shadow: 0px 1px 2px rgba(60, 64, 67, 0.3), 0px 1px 3px 1px rgba(60, 64, 67, 0.15);\n",
              "      fill: #174EA6;\n",
              "    }\n",
              "\n",
              "    [theme=dark] .colab-df-convert {\n",
              "      background-color: #3B4455;\n",
              "      fill: #D2E3FC;\n",
              "    }\n",
              "\n",
              "    [theme=dark] .colab-df-convert:hover {\n",
              "      background-color: #434B5C;\n",
              "      box-shadow: 0px 1px 3px 1px rgba(0, 0, 0, 0.15);\n",
              "      filter: drop-shadow(0px 1px 2px rgba(0, 0, 0, 0.3));\n",
              "      fill: #FFFFFF;\n",
              "    }\n",
              "  </style>\n",
              "\n",
              "      <script>\n",
              "        const buttonEl =\n",
              "          document.querySelector('#df-8c57965f-941c-4cd1-8bf6-9b71a2d0b9fe button.colab-df-convert');\n",
              "        buttonEl.style.display =\n",
              "          google.colab.kernel.accessAllowed ? 'block' : 'none';\n",
              "\n",
              "        async function convertToInteractive(key) {\n",
              "          const element = document.querySelector('#df-8c57965f-941c-4cd1-8bf6-9b71a2d0b9fe');\n",
              "          const dataTable =\n",
              "            await google.colab.kernel.invokeFunction('convertToInteractive',\n",
              "                                                     [key], {});\n",
              "          if (!dataTable) return;\n",
              "\n",
              "          const docLinkHtml = 'Like what you see? Visit the ' +\n",
              "            '<a target=\"_blank\" href=https://colab.research.google.com/notebooks/data_table.ipynb>data table notebook</a>'\n",
              "            + ' to learn more about interactive tables.';\n",
              "          element.innerHTML = '';\n",
              "          dataTable['output_type'] = 'display_data';\n",
              "          await google.colab.output.renderOutput(dataTable, element);\n",
              "          const docLink = document.createElement('div');\n",
              "          docLink.innerHTML = docLinkHtml;\n",
              "          element.appendChild(docLink);\n",
              "        }\n",
              "      </script>\n",
              "    </div>\n",
              "  </div>\n",
              "  "
            ],
            "text/plain": [
              "   final.output.recovery  rougher.output.recovery\n",
              "0              70.541216                87.107763\n",
              "1              69.266198                86.843261"
            ]
          },
          "execution_count": 78,
          "metadata": {},
          "output_type": "execute_result"
        }
      ],
      "source": [
        "#удаляем из трайн признаки, которых нет в тест\n",
        "# но оставляем таргеты final.output.recovery и  rougher.output.recovery\n",
        "\n",
        "# сохранем столбцы с таргетом\n",
        "df_tmp = df_train[['final.output.recovery',  'rougher.output.recovery']]\n",
        "\n",
        "#дропаемвсе колонки, токтрых нет в тест выборке\n",
        "df_train.drop(columns=(set(df_train.columns) - set(df_test.columns)), inplace=True)\n",
        "\n",
        "#возвращаем обратно два столбца с таргетом\n",
        "df_train[['final.output.recovery',  'rougher.output.recovery']] = df_tmp\n",
        "df_train[['final.output.recovery',  'rougher.output.recovery']].head(2)"
      ]
    },
    {
      "cell_type": "markdown",
      "metadata": {
        "id": "fnTqQj8txHJq"
      },
      "source": [
        "## Модель"
      ]
    },
    {
      "cell_type": "markdown",
      "metadata": {
        "id": "Ah5XqetBxHJq"
      },
      "source": [
        "### Напишите функцию для вычисления итоговой sMAPE.    \n",
        "rougher.output.recovery    \n",
        "final.output.recovery"
      ]
    },
    {
      "cell_type": "code",
      "execution_count": null,
      "metadata": {
        "id": "CM5J-JoCxHJq"
      },
      "outputs": [],
      "source": [
        "#функция sMAPE\n",
        "\n",
        "def smape(target, predict):\n",
        "    \n",
        "    sum = 0\n",
        "    # сбрасываем индексы, чтобы счет шел по ним для формулы\n",
        "    target = target.reset_index(drop=True)\n",
        "    predict = pd.Series(predict)\n",
        "    predict = predict.reset_index(drop=True)\n",
        "       \n",
        "    \n",
        "    a = (target - predict).abs()  /  ((target.abs() + predict.abs()) / 2 )\n",
        "    \n",
        "    \n",
        "    return 100 /  (len(a)) * a.sum()                        "
      ]
    },
    {
      "cell_type": "code",
      "execution_count": null,
      "metadata": {
        "colab": {
          "base_uri": "https://localhost:8080/"
        },
        "id": "8KFRURgTxHJr",
        "outputId": "0de6429d-8eb4-4711-82d7-74a9d1be5c64"
      },
      "outputs": [
        {
          "data": {
            "text/plain": [
              "7.142857142857142"
            ]
          },
          "execution_count": 80,
          "metadata": {},
          "output_type": "execute_result"
        }
      ],
      "source": [
        "#тест функции с нулем\n",
        "y_target = pd.Series([10,20,30,0])\n",
        "y_predict = pd.Series([11,22,33,0])\n",
        "\n",
        "smape (y_target, y_predict)"
      ]
    },
    {
      "cell_type": "code",
      "execution_count": null,
      "metadata": {
        "id": "0otSnREVxHJr"
      },
      "outputs": [],
      "source": [
        "# функц итогового sMAPE_total \n",
        "#sMAPE_total = 0.25 * smape_rougher + 0.75 * smape_final\n",
        "\n",
        "def smape_total(smape_rougher, smape_final):\n",
        "    return    0.25 * smape_rougher + 0.75 * smape_final\n",
        "\n"
      ]
    },
    {
      "cell_type": "markdown",
      "metadata": {
        "id": "fVqIbSXYxHJr"
      },
      "source": [
        "### Обучите разные модели и оцените их качество кросс-валидацией. Выберите лучшую модель и проверьте её на тестовой выборке. Опишите выводы."
      ]
    },
    {
      "cell_type": "markdown",
      "metadata": {
        "id": "MBMw7clsxHJr"
      },
      "source": [
        "#### Подготовка дата сета к ML"
      ]
    },
    {
      "cell_type": "code",
      "execution_count": null,
      "metadata": {
        "id": "YG_MA3syxHJr"
      },
      "outputs": [],
      "source": [
        "#дроп врмени, оно не нужно ни в трайн ни в тесте, но в тесте еще понадобится ,ч тобы выдернуть таргеты из df_full\n",
        "df_train.drop(columns='date', inplace=True)\n"
      ]
    },
    {
      "cell_type": "code",
      "execution_count": null,
      "metadata": {
        "colab": {
          "base_uri": "https://localhost:8080/"
        },
        "id": "_TK3vTUmxHJs",
        "outputId": "987cb0b8-ddb3-4b91-d06a-a965b73d60d1"
      },
      "outputs": [
        {
          "name": "stdout",
          "output_type": "stream",
          "text": [
            "df_train.shape =                 (13600, 54)\n",
            "df_train_features.shape =        (13600, 52)\n",
            "df_train_target_rougher.shape =  (13600,)\n",
            "df_train_target_final.shape =    (13600,)\n",
            "df_test.shape =                  (5229, 53)\n",
            "set(df_train_features.columns) - set(df_test.columns) = set()\n"
          ]
        }
      ],
      "source": [
        "#разобьем дата сет  трайн на фьючи и таргеты(их два)\n",
        "df_train_features = df_train.drop(columns=(['final.output.recovery','rougher.output.recovery']))\n",
        "df_train_target_rougher = df_train['rougher.output.recovery']\n",
        "df_train_target_final = df_train['final.output.recovery']\n",
        "\n",
        "#проверим все размерности\n",
        "print ('df_train.shape =                ',df_train.shape )\n",
        "print ('df_train_features.shape =       ',df_train_features.shape )\n",
        "print ('df_train_target_rougher.shape = ',df_train_target_rougher.shape)\n",
        "print ('df_train_target_final.shape =   ', df_train_target_final.shape)\n",
        "print ('df_test.shape =                 ',df_test.shape )\n",
        "#проверка равества признаков в трайн_фьючи и тесте выборках\n",
        "print ('set(df_train_features.columns) - set(df_test.columns) =', set(df_train_features.columns) - set(df_test.columns))"
      ]
    },
    {
      "cell_type": "markdown",
      "metadata": {
        "id": "BQleeoHaxHJs"
      },
      "source": [
        "#### Масштабирование.    \n",
        "оно не дает эфект, поэтому убрано"
      ]
    },
    {
      "cell_type": "markdown",
      "metadata": {
        "id": "ZCdzibUixHJt"
      },
      "source": [
        "#### Обучение моделей с помощью кросс валидации"
      ]
    },
    {
      "cell_type": "markdown",
      "metadata": {
        "id": "bjTR5l6mxHJt"
      },
      "source": [
        "#### Подбор лучших гипер параметров дял модели Дерева используя цикл  и cross_val_score\n",
        "подберем наилучшие гипер параметры моедли Дерева c помощью цикла для df_train_target_final    \n",
        "используя кросс валидацию и cross_val_score ,с нашей метрикой smape"
      ]
    },
    {
      "cell_type": "code",
      "execution_count": null,
      "metadata": {
        "id": "2W6fMPvNxHJt"
      },
      "outputs": [],
      "source": [
        "#метрика\n",
        "my_scorer = make_scorer(smape,greater_is_better = False)"
      ]
    },
    {
      "cell_type": "code",
      "execution_count": null,
      "metadata": {
        "colab": {
          "base_uri": "https://localhost:8080/"
        },
        "id": "9BT77UXyxHJt",
        "outputId": "3ff84951-b2e8-4d3f-b6fd-9bbb49dd3413"
      },
      "outputs": [
        {
          "name": "stdout",
          "output_type": "stream",
          "text": [
            "score_best =  9.666217329496174\n",
            "best_depth =  1\n"
          ]
        }
      ],
      "source": [
        "# подберем наилучшие гипер параметры моедли Дерева c помощью цикла \n",
        "\n",
        "X_tr = df_train_features\n",
        "y_tr = df_train_target_final\n",
        "score_best = 100\n",
        "for i  in range (1,15):\n",
        "    model = DecisionTreeRegressor(max_depth = i)\n",
        "    \n",
        "    score = np.mean(cross_val_score(model, X_tr, y_tr, scoring=my_scorer,cv=5))\n",
        "    if score_best > abs(score):\n",
        "        score_best = score\n",
        "        best_depth = i\n",
        "print ('score_best = ', abs(score_best))\n",
        "print ('best_depth = ',best_depth)\n",
        "    \n",
        "\n",
        "\n"
      ]
    },
    {
      "cell_type": "markdown",
      "metadata": {
        "id": "ivdrx9xAxHJt"
      },
      "source": [
        "#### Подбор гиперпараметров для модели СлучЛес используя GridSearchCV\n",
        "Чтобы быстрее проводились расчеты,воспользуемя Центарльно Предельной Теоремой и сделаем выборку. На ней найдем наилучшие гипер параметры и затем их будем применять на всей выборке."
      ]
    },
    {
      "cell_type": "code",
      "execution_count": null,
      "metadata": {
        "colab": {
          "base_uri": "https://localhost:8080/"
        },
        "id": "pTyZNwG9xHJt",
        "outputId": "f020f2f5-b251-45de-da46-b4a7a2c455b2"
      },
      "outputs": [
        {
          "data": {
            "text/plain": [
              "(2040, 54)"
            ]
          },
          "execution_count": 86,
          "metadata": {},
          "output_type": "execute_result"
        }
      ],
      "source": [
        "# выборка\n",
        "state = np.random.RandomState(777)\n",
        "df_train_sample = df_train.sample(frac=0.15,  random_state=state) \n",
        "\n",
        "X_tr = df_train_sample.drop(columns=(['final.output.recovery','rougher.output.recovery']))\n",
        "y_tr_rougher = df_train_sample['rougher.output.recovery']\n",
        "y_tr_final = df_train_sample['final.output.recovery']\n",
        "df_train_sample.shape"
      ]
    },
    {
      "cell_type": "code",
      "execution_count": null,
      "metadata": {
        "colab": {
          "base_uri": "https://localhost:8080/",
          "height": 1000
        },
        "id": "aSLmewuoxHJu",
        "outputId": "57c3d6e9-9d87-42fb-8958-7d8b6c27608e"
      },
      "outputs": [
        {
          "data": {
            "image/png": "[encoded data removed]",
            "text/plain": [
              "<Figure size 432x288 with 1 Axes>"
            ]
          },
          "metadata": {},
          "output_type": "display_data"
        },
        {
          "data": {
            "image/png": "[encoded data removed]",
            "text/plain": [
              "<Figure size 432x288 with 1 Axes>"
            ]
          },
          "metadata": {},
          "output_type": "display_data"
        },
        {
          "data": {
            "image/png": "[encoded data removed]",
            "text/plain": [
              "<Figure size 432x288 with 1 Axes>"
            ]
          },
          "metadata": {},
          "output_type": "display_data"
        },
        {
          "data": {
            "image/png": "[encoded data removed]",
            "text/plain": [
              "<Figure size 432x288 with 1 Axes>"
            ]
          },
          "metadata": {},
          "output_type": "display_data"
        }
      ],
      "source": [
        "#Посмотрим на схожесть выборок\n",
        "\n",
        "y_tr_rougher.plot(xlim=(40,100),kind='hist', bins=200,density=True,grid=True)\n",
        "plt.show()\n",
        "df_train_target_rougher.plot(xlim=(40,100),kind='hist', bins=200,density=True,grid=True)\n",
        "plt.show()\n",
        "y_tr_final.hist(bins=200,density=True)\n",
        "plt.show()\n",
        "df_train_target_final.hist(bins=200,density=True)\n",
        "plt.show()"
      ]
    },
    {
      "cell_type": "code",
      "execution_count": null,
      "metadata": {
        "colab": {
          "base_uri": "https://localhost:8080/"
        },
        "id": "VLg4eZO0xHJu",
        "outputId": "68977767-9841-464c-c2fa-e525d74a5b55",
        "scrolled": true
      },
      "outputs": [
        {
          "name": "stdout",
          "output_type": "stream",
          "text": [
            "Best hyperparameters are: {'max_depth': 9, 'n_estimators': 50}\n",
            "Best score is: -3.581153607080585\n",
            "CPU times: user 3min 4s, sys: 316 ms, total: 3min 5s\n",
            "Wall time: 3min 16s\n"
          ]
        }
      ],
      "source": [
        "%%time\n",
        "# подбор для первого таргета rougher\n",
        "model = RandomForestRegressor()\n",
        "\n",
        "grid_space={'max_depth':range(1,11,2),\n",
        "            'n_estimators':range(10,110,10),\n",
        "           }\n",
        "\n",
        "grid = GridSearchCV(model,param_grid=grid_space,cv=3,scoring=my_scorer, )\n",
        "model_grid = grid.fit(X_tr,y_tr_rougher)\n",
        "print('Best hyperparameters are: '+str(model_grid.best_params_))\n",
        "print('Best score is: '+str(model_grid.best_score_))"
      ]
    },
    {
      "cell_type": "code",
      "execution_count": null,
      "metadata": {
        "colab": {
          "base_uri": "https://localhost:8080/"
        },
        "id": "DBcC5o7ixHJv",
        "outputId": "8d5eebe8-cda0-458b-d776-cb196aad544e",
        "scrolled": true
      },
      "outputs": [
        {
          "name": "stdout",
          "output_type": "stream",
          "text": [
            "Best hyperparameters are: {'max_depth': 9, 'n_estimators': 70}\n",
            "Best score is: -6.81428161723137\n",
            "CPU times: user 3min 8s, sys: 309 ms, total: 3min 8s\n",
            "Wall time: 3min 11s\n"
          ]
        }
      ],
      "source": [
        "%%time\n",
        "# подбор для второго таргета final\n",
        "model = RandomForestRegressor()\n",
        "\n",
        "grid_space={'max_depth':range(1,11,2),\n",
        "            'n_estimators':range(10,110,10),\n",
        "           }\n",
        "\n",
        "grid = GridSearchCV(model,param_grid=grid_space,cv=3,scoring=my_scorer)\n",
        "model_grid = grid.fit(X_tr,y_tr_final)\n",
        "print('Best hyperparameters are: '+str(model_grid.best_params_))\n",
        "print('Best score is: '+str(model_grid.best_score_))"
      ]
    },
    {
      "cell_type": "markdown",
      "metadata": {
        "id": "TpIkOCSFxHJv"
      },
      "source": [
        "Лучшие  гиперпараметры для RandomForestRegressor() по sMAPE:   \n",
        "для таргета rougher max_depth = 1, n_estimators = 20,     \n",
        "для таргета finak max_depth = 1, n_estimators = 10    \n"
      ]
    },
    {
      "cell_type": "markdown",
      "metadata": {
        "id": "i9GVpXs0xHJw"
      },
      "source": [
        "#### Сравнение различных моделей ,c помощью цикла с кроссвалидацией по финальной метрике sMAPE_итоговое"
      ]
    },
    {
      "cell_type": "code",
      "execution_count": null,
      "metadata": {
        "id": "6N8TZVBuxHJw"
      },
      "outputs": [],
      "source": [
        "#модели ЛинРегрессия, ДервоРегрес и КэтБуст\n",
        "linreg = LinearRegression()\n",
        "linreg_2 = LinearRegression()\n",
        "tree = DecisionTreeRegressor(max_depth = best_depth)\n",
        "tree_2 = DecisionTreeRegressor(max_depth = 5)\n",
        "cat =  CatBoostRegressor(iterations=100, silent=True)  #взято мало итераций, чтобы бытсрее считала модель\n",
        "cat_2 =  CatBoostRegressor(iterations=50, silent=True)\n",
        "forest = RandomForestRegressor( max_depth = 9, n_estimators = 50)\n",
        "forest_2 = RandomForestRegressor( max_depth = 9, n_estimators = 70)"
      ]
    },
    {
      "cell_type": "code",
      "execution_count": null,
      "metadata": {
        "id": "_0ld5cJlxHJw"
      },
      "outputs": [],
      "source": [
        "# сбросим индексы, чтобы все индексы шли по порядку  для цикла кросс валидации в цикле\n",
        "df_train = df_train.reset_index(drop=True)\n",
        "df_train_features.reset_index(inplace=True)\n",
        "df_train_target_rougher = df_train_target_rougher.reset_index(drop=True)\n",
        "df_train_target_final = df_train_target_final.reset_index(drop=True)"
      ]
    },
    {
      "cell_type": "code",
      "execution_count": null,
      "metadata": {
        "colab": {
          "base_uri": "https://localhost:8080/",
          "height": 623
        },
        "collapsed": true,
        "id": "GoQH-8xWxHJw",
        "outputId": "fc8f77be-d5e2-410e-8a2b-9bd970ac0041"
      },
      "outputs": [
        {
          "name": "stdout",
          "output_type": "stream",
          "text": [
            "\n",
            "Средняя оценка качества моделей: LinearRegression() LinearRegression()  =  8.812610561703583\n",
            "Оценка качества модели на каждом шаге: [9.74395528763816, 8.184556243406865, 8.796492939604473, 7.7293106873604005, 9.608737650508012]\n",
            "\n",
            "\n",
            "Средняя оценка качества моделей: DecisionTreeRegressor(max_depth=1) DecisionTreeRegressor(max_depth=5)  =  9.586683178725734\n",
            "Оценка качества модели на каждом шаге: [9.469441800467685, 9.288086299539977, 9.139250965408344, 10.189430871967396, 9.847205956245267]\n",
            "\n",
            "\n",
            "Средняя оценка качества моделей: <catboost.core.CatBoostRegressor object at 0x7fe039f9f190> <catboost.core.CatBoostRegressor object at 0x7fe039f9f730>  =  9.386663135207083\n",
            "Оценка качества модели на каждом шаге: [10.577993647390802, 9.269274965112043, 9.016531872565736, 8.576727328365209, 9.492787862601627]\n",
            "\n"
          ]
        },
        {
          "ename": "KeyboardInterrupt",
          "evalue": "ignored",
          "output_type": "error",
          "traceback": [
            "\u001b[0;31m---------------------------------------------------------------------------\u001b[0m",
            "\u001b[0;31mKeyboardInterrupt\u001b[0m                         Traceback (most recent call last)",
            "\u001b[0;32m<timed exec>\u001b[0m in \u001b[0;36m<module>\u001b[0;34m\u001b[0m\n",
            "\u001b[0;32m/usr/local/lib/python3.8/dist-packages/sklearn/ensemble/_forest.py\u001b[0m in \u001b[0;36mfit\u001b[0;34m(self, X, y, sample_weight)\u001b[0m\n\u001b[1;32m    448\u001b[0m             \u001b[0;31m# parallel_backend contexts set at a higher level,\u001b[0m\u001b[0;34m\u001b[0m\u001b[0;34m\u001b[0m\u001b[0;34m\u001b[0m\u001b[0m\n\u001b[1;32m    449\u001b[0m             \u001b[0;31m# since correctness does not rely on using threads.\u001b[0m\u001b[0;34m\u001b[0m\u001b[0;34m\u001b[0m\u001b[0;34m\u001b[0m\u001b[0m\n\u001b[0;32m--> 450\u001b[0;31m             trees = Parallel(\n\u001b[0m\u001b[1;32m    451\u001b[0m                 \u001b[0mn_jobs\u001b[0m\u001b[0;34m=\u001b[0m\u001b[0mself\u001b[0m\u001b[0;34m.\u001b[0m\u001b[0mn_jobs\u001b[0m\u001b[0;34m,\u001b[0m\u001b[0;34m\u001b[0m\u001b[0;34m\u001b[0m\u001b[0m\n\u001b[1;32m    452\u001b[0m                 \u001b[0mverbose\u001b[0m\u001b[0;34m=\u001b[0m\u001b[0mself\u001b[0m\u001b[0;34m.\u001b[0m\u001b[0mverbose\u001b[0m\u001b[0;34m,\u001b[0m\u001b[0;34m\u001b[0m\u001b[0;34m\u001b[0m\u001b[0m\n",
            "\u001b[0;32m/usr/local/lib/python3.8/dist-packages/joblib/parallel.py\u001b[0m in \u001b[0;36m__call__\u001b[0;34m(self, iterable)\u001b[0m\n\u001b[1;32m   1086\u001b[0m                 \u001b[0mself\u001b[0m\u001b[0;34m.\u001b[0m\u001b[0m_iterating\u001b[0m \u001b[0;34m=\u001b[0m \u001b[0mself\u001b[0m\u001b[0;34m.\u001b[0m\u001b[0m_original_iterator\u001b[0m \u001b[0;32mis\u001b[0m \u001b[0;32mnot\u001b[0m \u001b[0;32mNone\u001b[0m\u001b[0;34m\u001b[0m\u001b[0;34m\u001b[0m\u001b[0m\n\u001b[1;32m   1087\u001b[0m \u001b[0;34m\u001b[0m\u001b[0m\n\u001b[0;32m-> 1088\u001b[0;31m             \u001b[0;32mwhile\u001b[0m \u001b[0mself\u001b[0m\u001b[0;34m.\u001b[0m\u001b[0mdispatch_one_batch\u001b[0m\u001b[0;34m(\u001b[0m\u001b[0miterator\u001b[0m\u001b[0;34m)\u001b[0m\u001b[0;34m:\u001b[0m\u001b[0;34m\u001b[0m\u001b[0;34m\u001b[0m\u001b[0m\n\u001b[0m\u001b[1;32m   1089\u001b[0m                 \u001b[0;32mpass\u001b[0m\u001b[0;34m\u001b[0m\u001b[0;34m\u001b[0m\u001b[0m\n\u001b[1;32m   1090\u001b[0m \u001b[0;34m\u001b[0m\u001b[0m\n",
            "\u001b[0;32m/usr/local/lib/python3.8/dist-packages/joblib/parallel.py\u001b[0m in \u001b[0;36mdispatch_one_batch\u001b[0;34m(self, iterator)\u001b[0m\n\u001b[1;32m    899\u001b[0m                 \u001b[0;32mreturn\u001b[0m \u001b[0;32mFalse\u001b[0m\u001b[0;34m\u001b[0m\u001b[0;34m\u001b[0m\u001b[0m\n\u001b[1;32m    900\u001b[0m             \u001b[0;32melse\u001b[0m\u001b[0;34m:\u001b[0m\u001b[0;34m\u001b[0m\u001b[0;34m\u001b[0m\u001b[0m\n\u001b[0;32m--> 901\u001b[0;31m                 \u001b[0mself\u001b[0m\u001b[0;34m.\u001b[0m\u001b[0m_dispatch\u001b[0m\u001b[0;34m(\u001b[0m\u001b[0mtasks\u001b[0m\u001b[0;34m)\u001b[0m\u001b[0;34m\u001b[0m\u001b[0;34m\u001b[0m\u001b[0m\n\u001b[0m\u001b[1;32m    902\u001b[0m                 \u001b[0;32mreturn\u001b[0m \u001b[0;32mTrue\u001b[0m\u001b[0;34m\u001b[0m\u001b[0;34m\u001b[0m\u001b[0m\n\u001b[1;32m    903\u001b[0m \u001b[0;34m\u001b[0m\u001b[0m\n",
            "\u001b[0;32m/usr/local/lib/python3.8/dist-packages/joblib/parallel.py\u001b[0m in \u001b[0;36m_dispatch\u001b[0;34m(self, batch)\u001b[0m\n\u001b[1;32m    817\u001b[0m         \u001b[0;32mwith\u001b[0m \u001b[0mself\u001b[0m\u001b[0;34m.\u001b[0m\u001b[0m_lock\u001b[0m\u001b[0;34m:\u001b[0m\u001b[0;34m\u001b[0m\u001b[0;34m\u001b[0m\u001b[0m\n\u001b[1;32m    818\u001b[0m             \u001b[0mjob_idx\u001b[0m \u001b[0;34m=\u001b[0m \u001b[0mlen\u001b[0m\u001b[0;34m(\u001b[0m\u001b[0mself\u001b[0m\u001b[0;34m.\u001b[0m\u001b[0m_jobs\u001b[0m\u001b[0;34m)\u001b[0m\u001b[0;34m\u001b[0m\u001b[0;34m\u001b[0m\u001b[0m\n\u001b[0;32m--> 819\u001b[0;31m             \u001b[0mjob\u001b[0m \u001b[0;34m=\u001b[0m \u001b[0mself\u001b[0m\u001b[0;34m.\u001b[0m\u001b[0m_backend\u001b[0m\u001b[0;34m.\u001b[0m\u001b[0mapply_async\u001b[0m\u001b[0;34m(\u001b[0m\u001b[0mbatch\u001b[0m\u001b[0;34m,\u001b[0m \u001b[0mcallback\u001b[0m\u001b[0;34m=\u001b[0m\u001b[0mcb\u001b[0m\u001b[0;34m)\u001b[0m\u001b[0;34m\u001b[0m\u001b[0;34m\u001b[0m\u001b[0m\n\u001b[0m\u001b[1;32m    820\u001b[0m             \u001b[0;31m# A job can complete so quickly than its callback is\u001b[0m\u001b[0;34m\u001b[0m\u001b[0;34m\u001b[0m\u001b[0;34m\u001b[0m\u001b[0m\n\u001b[1;32m    821\u001b[0m             \u001b[0;31m# called before we get here, causing self._jobs to\u001b[0m\u001b[0;34m\u001b[0m\u001b[0;34m\u001b[0m\u001b[0;34m\u001b[0m\u001b[0m\n",
            "\u001b[0;32m/usr/local/lib/python3.8/dist-packages/joblib/_parallel_backends.py\u001b[0m in \u001b[0;36mapply_async\u001b[0;34m(self, func, callback)\u001b[0m\n\u001b[1;32m    206\u001b[0m     \u001b[0;32mdef\u001b[0m \u001b[0mapply_async\u001b[0m\u001b[0;34m(\u001b[0m\u001b[0mself\u001b[0m\u001b[0;34m,\u001b[0m \u001b[0mfunc\u001b[0m\u001b[0;34m,\u001b[0m \u001b[0mcallback\u001b[0m\u001b[0;34m=\u001b[0m\u001b[0;32mNone\u001b[0m\u001b[0;34m)\u001b[0m\u001b[0;34m:\u001b[0m\u001b[0;34m\u001b[0m\u001b[0;34m\u001b[0m\u001b[0m\n\u001b[1;32m    207\u001b[0m         \u001b[0;34m\"\"\"Schedule a func to be run\"\"\"\u001b[0m\u001b[0;34m\u001b[0m\u001b[0;34m\u001b[0m\u001b[0m\n\u001b[0;32m--> 208\u001b[0;31m         \u001b[0mresult\u001b[0m \u001b[0;34m=\u001b[0m \u001b[0mImmediateResult\u001b[0m\u001b[0;34m(\u001b[0m\u001b[0mfunc\u001b[0m\u001b[0;34m)\u001b[0m\u001b[0;34m\u001b[0m\u001b[0;34m\u001b[0m\u001b[0m\n\u001b[0m\u001b[1;32m    209\u001b[0m         \u001b[0;32mif\u001b[0m \u001b[0mcallback\u001b[0m\u001b[0;34m:\u001b[0m\u001b[0;34m\u001b[0m\u001b[0;34m\u001b[0m\u001b[0m\n\u001b[1;32m    210\u001b[0m             \u001b[0mcallback\u001b[0m\u001b[0;34m(\u001b[0m\u001b[0mresult\u001b[0m\u001b[0;34m)\u001b[0m\u001b[0;34m\u001b[0m\u001b[0;34m\u001b[0m\u001b[0m\n",
            "\u001b[0;32m/usr/local/lib/python3.8/dist-packages/joblib/_parallel_backends.py\u001b[0m in \u001b[0;36m__init__\u001b[0;34m(self, batch)\u001b[0m\n\u001b[1;32m    595\u001b[0m         \u001b[0;31m# Don't delay the application, to avoid keeping the input\u001b[0m\u001b[0;34m\u001b[0m\u001b[0;34m\u001b[0m\u001b[0;34m\u001b[0m\u001b[0m\n\u001b[1;32m    596\u001b[0m         \u001b[0;31m# arguments in memory\u001b[0m\u001b[0;34m\u001b[0m\u001b[0;34m\u001b[0m\u001b[0;34m\u001b[0m\u001b[0m\n\u001b[0;32m--> 597\u001b[0;31m         \u001b[0mself\u001b[0m\u001b[0;34m.\u001b[0m\u001b[0mresults\u001b[0m \u001b[0;34m=\u001b[0m \u001b[0mbatch\u001b[0m\u001b[0;34m(\u001b[0m\u001b[0;34m)\u001b[0m\u001b[0;34m\u001b[0m\u001b[0;34m\u001b[0m\u001b[0m\n\u001b[0m\u001b[1;32m    598\u001b[0m \u001b[0;34m\u001b[0m\u001b[0m\n\u001b[1;32m    599\u001b[0m     \u001b[0;32mdef\u001b[0m \u001b[0mget\u001b[0m\u001b[0;34m(\u001b[0m\u001b[0mself\u001b[0m\u001b[0;34m)\u001b[0m\u001b[0;34m:\u001b[0m\u001b[0;34m\u001b[0m\u001b[0;34m\u001b[0m\u001b[0m\n",
            "\u001b[0;32m/usr/local/lib/python3.8/dist-packages/joblib/parallel.py\u001b[0m in \u001b[0;36m__call__\u001b[0;34m(self)\u001b[0m\n\u001b[1;32m    286\u001b[0m         \u001b[0;31m# change the default number of processes to -1\u001b[0m\u001b[0;34m\u001b[0m\u001b[0;34m\u001b[0m\u001b[0;34m\u001b[0m\u001b[0m\n\u001b[1;32m    287\u001b[0m         \u001b[0;32mwith\u001b[0m \u001b[0mparallel_backend\u001b[0m\u001b[0;34m(\u001b[0m\u001b[0mself\u001b[0m\u001b[0;34m.\u001b[0m\u001b[0m_backend\u001b[0m\u001b[0;34m,\u001b[0m \u001b[0mn_jobs\u001b[0m\u001b[0;34m=\u001b[0m\u001b[0mself\u001b[0m\u001b[0;34m.\u001b[0m\u001b[0m_n_jobs\u001b[0m\u001b[0;34m)\u001b[0m\u001b[0;34m:\u001b[0m\u001b[0;34m\u001b[0m\u001b[0;34m\u001b[0m\u001b[0m\n\u001b[0;32m--> 288\u001b[0;31m             return [func(*args, **kwargs)\n\u001b[0m\u001b[1;32m    289\u001b[0m                     for func, args, kwargs in self.items]\n\u001b[1;32m    290\u001b[0m \u001b[0;34m\u001b[0m\u001b[0m\n",
            "\u001b[0;32m/usr/local/lib/python3.8/dist-packages/joblib/parallel.py\u001b[0m in \u001b[0;36m<listcomp>\u001b[0;34m(.0)\u001b[0m\n\u001b[1;32m    286\u001b[0m         \u001b[0;31m# change the default number of processes to -1\u001b[0m\u001b[0;34m\u001b[0m\u001b[0;34m\u001b[0m\u001b[0;34m\u001b[0m\u001b[0m\n\u001b[1;32m    287\u001b[0m         \u001b[0;32mwith\u001b[0m \u001b[0mparallel_backend\u001b[0m\u001b[0;34m(\u001b[0m\u001b[0mself\u001b[0m\u001b[0;34m.\u001b[0m\u001b[0m_backend\u001b[0m\u001b[0;34m,\u001b[0m \u001b[0mn_jobs\u001b[0m\u001b[0;34m=\u001b[0m\u001b[0mself\u001b[0m\u001b[0;34m.\u001b[0m\u001b[0m_n_jobs\u001b[0m\u001b[0;34m)\u001b[0m\u001b[0;34m:\u001b[0m\u001b[0;34m\u001b[0m\u001b[0;34m\u001b[0m\u001b[0m\n\u001b[0;32m--> 288\u001b[0;31m             return [func(*args, **kwargs)\n\u001b[0m\u001b[1;32m    289\u001b[0m                     for func, args, kwargs in self.items]\n\u001b[1;32m    290\u001b[0m \u001b[0;34m\u001b[0m\u001b[0m\n",
            "\u001b[0;32m/usr/local/lib/python3.8/dist-packages/sklearn/utils/fixes.py\u001b[0m in \u001b[0;36m__call__\u001b[0;34m(self, *args, **kwargs)\u001b[0m\n\u001b[1;32m    214\u001b[0m     \u001b[0;32mdef\u001b[0m \u001b[0m__call__\u001b[0m\u001b[0;34m(\u001b[0m\u001b[0mself\u001b[0m\u001b[0;34m,\u001b[0m \u001b[0;34m*\u001b[0m\u001b[0margs\u001b[0m\u001b[0;34m,\u001b[0m \u001b[0;34m**\u001b[0m\u001b[0mkwargs\u001b[0m\u001b[0;34m)\u001b[0m\u001b[0;34m:\u001b[0m\u001b[0;34m\u001b[0m\u001b[0;34m\u001b[0m\u001b[0m\n\u001b[1;32m    215\u001b[0m         \u001b[0;32mwith\u001b[0m \u001b[0mconfig_context\u001b[0m\u001b[0;34m(\u001b[0m\u001b[0;34m**\u001b[0m\u001b[0mself\u001b[0m\u001b[0;34m.\u001b[0m\u001b[0mconfig\u001b[0m\u001b[0;34m)\u001b[0m\u001b[0;34m:\u001b[0m\u001b[0;34m\u001b[0m\u001b[0;34m\u001b[0m\u001b[0m\n\u001b[0;32m--> 216\u001b[0;31m             \u001b[0;32mreturn\u001b[0m \u001b[0mself\u001b[0m\u001b[0;34m.\u001b[0m\u001b[0mfunction\u001b[0m\u001b[0;34m(\u001b[0m\u001b[0;34m*\u001b[0m\u001b[0margs\u001b[0m\u001b[0;34m,\u001b[0m \u001b[0;34m**\u001b[0m\u001b[0mkwargs\u001b[0m\u001b[0;34m)\u001b[0m\u001b[0;34m\u001b[0m\u001b[0;34m\u001b[0m\u001b[0m\n\u001b[0m\u001b[1;32m    217\u001b[0m \u001b[0;34m\u001b[0m\u001b[0m\n\u001b[1;32m    218\u001b[0m \u001b[0;34m\u001b[0m\u001b[0m\n",
            "\u001b[0;32m/usr/local/lib/python3.8/dist-packages/sklearn/ensemble/_forest.py\u001b[0m in \u001b[0;36m_parallel_build_trees\u001b[0;34m(tree, forest, X, y, sample_weight, tree_idx, n_trees, verbose, class_weight, n_samples_bootstrap)\u001b[0m\n\u001b[1;32m    183\u001b[0m             \u001b[0mcurr_sample_weight\u001b[0m \u001b[0;34m*=\u001b[0m \u001b[0mcompute_sample_weight\u001b[0m\u001b[0;34m(\u001b[0m\u001b[0;34m\"balanced\"\u001b[0m\u001b[0;34m,\u001b[0m \u001b[0my\u001b[0m\u001b[0;34m,\u001b[0m \u001b[0mindices\u001b[0m\u001b[0;34m=\u001b[0m\u001b[0mindices\u001b[0m\u001b[0;34m)\u001b[0m\u001b[0;34m\u001b[0m\u001b[0;34m\u001b[0m\u001b[0m\n\u001b[1;32m    184\u001b[0m \u001b[0;34m\u001b[0m\u001b[0m\n\u001b[0;32m--> 185\u001b[0;31m         \u001b[0mtree\u001b[0m\u001b[0;34m.\u001b[0m\u001b[0mfit\u001b[0m\u001b[0;34m(\u001b[0m\u001b[0mX\u001b[0m\u001b[0;34m,\u001b[0m \u001b[0my\u001b[0m\u001b[0;34m,\u001b[0m \u001b[0msample_weight\u001b[0m\u001b[0;34m=\u001b[0m\u001b[0mcurr_sample_weight\u001b[0m\u001b[0;34m,\u001b[0m \u001b[0mcheck_input\u001b[0m\u001b[0;34m=\u001b[0m\u001b[0;32mFalse\u001b[0m\u001b[0;34m)\u001b[0m\u001b[0;34m\u001b[0m\u001b[0;34m\u001b[0m\u001b[0m\n\u001b[0m\u001b[1;32m    186\u001b[0m     \u001b[0;32melse\u001b[0m\u001b[0;34m:\u001b[0m\u001b[0;34m\u001b[0m\u001b[0;34m\u001b[0m\u001b[0m\n\u001b[1;32m    187\u001b[0m         \u001b[0mtree\u001b[0m\u001b[0;34m.\u001b[0m\u001b[0mfit\u001b[0m\u001b[0;34m(\u001b[0m\u001b[0mX\u001b[0m\u001b[0;34m,\u001b[0m \u001b[0my\u001b[0m\u001b[0;34m,\u001b[0m \u001b[0msample_weight\u001b[0m\u001b[0;34m=\u001b[0m\u001b[0msample_weight\u001b[0m\u001b[0;34m,\u001b[0m \u001b[0mcheck_input\u001b[0m\u001b[0;34m=\u001b[0m\u001b[0;32mFalse\u001b[0m\u001b[0;34m)\u001b[0m\u001b[0;34m\u001b[0m\u001b[0;34m\u001b[0m\u001b[0m\n",
            "\u001b[0;32m/usr/local/lib/python3.8/dist-packages/sklearn/tree/_classes.py\u001b[0m in \u001b[0;36mfit\u001b[0;34m(self, X, y, sample_weight, check_input, X_idx_sorted)\u001b[0m\n\u001b[1;32m   1313\u001b[0m         \"\"\"\n\u001b[1;32m   1314\u001b[0m \u001b[0;34m\u001b[0m\u001b[0m\n\u001b[0;32m-> 1315\u001b[0;31m         super().fit(\n\u001b[0m\u001b[1;32m   1316\u001b[0m             \u001b[0mX\u001b[0m\u001b[0;34m,\u001b[0m\u001b[0;34m\u001b[0m\u001b[0;34m\u001b[0m\u001b[0m\n\u001b[1;32m   1317\u001b[0m             \u001b[0my\u001b[0m\u001b[0;34m,\u001b[0m\u001b[0;34m\u001b[0m\u001b[0;34m\u001b[0m\u001b[0m\n",
            "\u001b[0;32m/usr/local/lib/python3.8/dist-packages/sklearn/tree/_classes.py\u001b[0m in \u001b[0;36mfit\u001b[0;34m(self, X, y, sample_weight, check_input, X_idx_sorted)\u001b[0m\n\u001b[1;32m    418\u001b[0m             )\n\u001b[1;32m    419\u001b[0m \u001b[0;34m\u001b[0m\u001b[0m\n\u001b[0;32m--> 420\u001b[0;31m         \u001b[0mbuilder\u001b[0m\u001b[0;34m.\u001b[0m\u001b[0mbuild\u001b[0m\u001b[0;34m(\u001b[0m\u001b[0mself\u001b[0m\u001b[0;34m.\u001b[0m\u001b[0mtree_\u001b[0m\u001b[0;34m,\u001b[0m \u001b[0mX\u001b[0m\u001b[0;34m,\u001b[0m \u001b[0my\u001b[0m\u001b[0;34m,\u001b[0m \u001b[0msample_weight\u001b[0m\u001b[0;34m)\u001b[0m\u001b[0;34m\u001b[0m\u001b[0;34m\u001b[0m\u001b[0m\n\u001b[0m\u001b[1;32m    421\u001b[0m \u001b[0;34m\u001b[0m\u001b[0m\n\u001b[1;32m    422\u001b[0m         \u001b[0;32mif\u001b[0m \u001b[0mself\u001b[0m\u001b[0;34m.\u001b[0m\u001b[0mn_outputs_\u001b[0m \u001b[0;34m==\u001b[0m \u001b[0;36m1\u001b[0m \u001b[0;32mand\u001b[0m \u001b[0mis_classifier\u001b[0m\u001b[0;34m(\u001b[0m\u001b[0mself\u001b[0m\u001b[0;34m)\u001b[0m\u001b[0;34m:\u001b[0m\u001b[0;34m\u001b[0m\u001b[0;34m\u001b[0m\u001b[0m\n",
            "\u001b[0;31mKeyboardInterrupt\u001b[0m: "
          ]
        }
      ],
      "source": [
        "%%time\n",
        "# кросс валидация через ЦИКЛ   и сравнение уже разных моделей \n",
        "\n",
        "# данные в кросс валидацию\n",
        "data = df_train\n",
        "\n",
        "# зададим размер блока,  5 частей\n",
        "sample_size = int(len(data)/5)\n",
        "#список моделей\n",
        "models_list = [linreg, tree, cat, forest]\n",
        "models_list_2 = [linreg_2, tree_2, cat_2, forest_2]\n",
        "\n",
        "#перебираем модели из списка\n",
        "for j in range (0,4):\n",
        "    \n",
        "    #результат моделей\n",
        "    scores = []\n",
        "    \n",
        "    for i in range(0, int(len(data)/5)*5, sample_size):  #тут нужны целые блоки, поэтому хвост откидываем\n",
        "        #получаем списки индексов\n",
        "        valid_indexes = data.loc[i:i+sample_size-1].index\n",
        "        train_indexes = data.query('index not in @valid_indexes').index\n",
        "       \n",
        "        # разбивкаа  на трайн и валид выборки, у нас  2 таргета\n",
        "        # трайн выборка\n",
        "        features_train = df_train_features.loc[train_indexes]\n",
        "        target_train_rougher = df_train_target_rougher.loc[train_indexes]\n",
        "        target_train_final = df_train_target_final.loc[train_indexes]\n",
        "        #валид выборка\n",
        "        features_valid = df_train_features.loc[valid_indexes]\n",
        "        target_valid_rougher = df_train_target_rougher.loc[valid_indexes]\n",
        "        target_valid_final = df_train_target_final.loc[valid_indexes]\n",
        "      \n",
        "      \n",
        "        #выбираем модель и обучаем два раза на разные таргеты\n",
        "        #model_1 = model\n",
        "        #model_2 = model\n",
        "        model_1 = models_list[j]\n",
        "        model_2 = models_list_2[j]\n",
        "    \n",
        "        model_1.fit(features_train, target_train_rougher)\n",
        "        model_2.fit(features_train, target_train_final)\n",
        "    \n",
        "        #считаем метрики\n",
        "        smape_rougher = smape(target_valid_rougher, model_1.predict(features_valid))\n",
        "        smape_final = smape(target_valid_final, model_2.predict(features_valid))\n",
        "    \n",
        "        #принты для отладки цикла, закомментарить после\n",
        "        #print ('min(valid_index)',min(valid_indexes))\n",
        "        #print ('max(valid_index)',max(valid_indexes) )\n",
        "        #print ('i', i)\n",
        "        #print ('smape_rougher', smape_rougher)\n",
        "        #print ('smape_final', smape_final)\n",
        "    \n",
        "        #считаем финал метрику и записываем результат\n",
        "        score = smape_total(smape_rougher, smape_final)\n",
        "        scores.append(score)\n",
        "   \n",
        "    final_score = pd.Series(scores).mean() \n",
        "    print ('')\n",
        "    print('Средняя оценка качества моделей:',model_1, model_2 ,' = ', final_score , )\n",
        "    print('Оценка качества модели на каждом шаге:', scores)\n",
        "    print ('')\n",
        "   "
      ]
    },
    {
      "cell_type": "markdown",
      "metadata": {
        "id": "iXaEWcY8xHJx"
      },
      "source": [
        "#### Посмотрим на рапределение предсказаний!\n",
        "smape  это хорошо. Но сравним распредление предсказаний."
      ]
    },
    {
      "cell_type": "code",
      "execution_count": null,
      "metadata": {
        "colab": {
          "background_save": true,
          "base_uri": "https://localhost:8080/",
          "height": 809
        },
        "id": "sjZkY5vjxHJx",
        "outputId": "df111aa3-6e81-4e9d-fb10-f4049dd6901b"
      },
      "outputs": [
        {
          "data": {
            "image/png": "[encoded data removed]",
            "text/plain": [
              "<Figure size 432x288 with 1 Axes>"
            ]
          },
          "metadata": {},
          "output_type": "display_data"
        },
        {
          "data": {
            "image/png": "[encoded data removed]",
            "text/plain": [
              "<Figure size 432x288 with 1 Axes>"
            ]
          },
          "metadata": {},
          "output_type": "display_data"
        },
        {
          "data": {
            "image/png": "[encoded data removed]",
            "text/plain": [
              "<Figure size 432x288 with 1 Axes>"
            ]
          },
          "metadata": {},
          "output_type": "display_data"
        },
        {
          "data": {
            "image/png": "[encoded data removed]",
            "text/plain": [
              "<Figure size 432x288 with 1 Axes>"
            ]
          },
          "metadata": {},
          "output_type": "display_data"
        }
      ],
      "source": [
        "\n",
        "#перебираем модели из списка\n",
        "for model in models_list_2:\n",
        "    #выбираем модель и обучаем два раза на разные таргеты\n",
        "   # model_1 = model\n",
        "    model_2 = model\n",
        "    #model_1.fit(df_train_features, df_train_target_rougher)\n",
        "    model_2.fit(df_train_features, df_train_target_final)\n",
        "    \n",
        "\n",
        "#Распределение предсказаний  для  финал таргет\n",
        "    plt.title(model_2)\n",
        "    pd.Series(model_2.predict(features_valid)).hist(bins=100)\n",
        "    plt.show()"
      ]
    },
    {
      "cell_type": "code",
      "execution_count": null,
      "metadata": {
        "colab": {
          "background_save": true
        },
        "id": "aH1ipUqtxHJx",
        "outputId": "d9c622a3-9178-4e5b-ccfe-7cae949b954d"
      },
      "outputs": [
        {
          "data": {
            "text/plain": [
              "<matplotlib.axes._subplots.AxesSubplot at 0x7fe015da9790>"
            ]
          },
          "execution_count": 94,
          "metadata": {},
          "output_type": "execute_result"
        },
        {
          "data": {
            "image/png": "[encoded data removed]",
            "text/plain": [
              "<Figure size 432x288 with 1 Axes>"
            ]
          },
          "metadata": {},
          "output_type": "display_data"
        }
      ],
      "source": [
        "# распределение таргета\n",
        "df_train_target_final.hist(bins=100)"
      ]
    },
    {
      "cell_type": "markdown",
      "metadata": {
        "id": "SmbW2EDHxHJy"
      },
      "source": [
        "**Вывод** Лучшая модель cat, распределение у нее больше похоже на таргет."
      ]
    },
    {
      "cell_type": "markdown",
      "metadata": {
        "id": "7TCwLsOPxHJy"
      },
      "source": [
        "### Применим к тестовой выборке, получим предикт для бизнеса , сравним с тест таргетом    \n",
        "Для начала нужно получить таргеты для тет выборки из полного датасета. Оригинанльным  \"индексом\" явлется колонка дата-тайм.   \n",
        "Выделим список дата-тайма из теста"
      ]
    },
    {
      "cell_type": "code",
      "execution_count": null,
      "metadata": {
        "colab": {
          "background_save": true
        },
        "id": "qQhitQFqxHJz",
        "outputId": "a29ea6ab-12bd-484e-ced7-5d779f80baa8"
      },
      "outputs": [
        {
          "data": {
            "text/html": [
              "\n",
              "  <div id=\"df-08cc9e30-c020-4a6b-98dc-cd0dbb1dc83b\">\n",
              "    <div class=\"colab-df-container\">\n",
              "      <div>\n",
              "<style scoped>\n",
              "    .dataframe tbody tr th:only-of-type {\n",
              "        vertical-align: middle;\n",
              "    }\n",
              "\n",
              "    .dataframe tbody tr th {\n",
              "        vertical-align: top;\n",
              "    }\n",
              "\n",
              "    .dataframe thead th {\n",
              "        text-align: right;\n",
              "    }\n",
              "</style>\n",
              "<table border=\"1\" class=\"dataframe\">\n",
              "  <thead>\n",
              "    <tr style=\"text-align: right;\">\n",
              "      <th></th>\n",
              "      <th>rougher.output.recovery</th>\n",
              "      <th>final.output.recovery</th>\n",
              "    </tr>\n",
              "  </thead>\n",
              "  <tbody>\n",
              "    <tr>\n",
              "      <th>4682</th>\n",
              "      <td>89.993421</td>\n",
              "      <td>70.273583</td>\n",
              "    </tr>\n",
              "    <tr>\n",
              "      <th>4683</th>\n",
              "      <td>88.089657</td>\n",
              "      <td>68.910432</td>\n",
              "    </tr>\n",
              "    <tr>\n",
              "      <th>4684</th>\n",
              "      <td>88.412756</td>\n",
              "      <td>68.143213</td>\n",
              "    </tr>\n",
              "  </tbody>\n",
              "</table>\n",
              "</div>\n",
              "      <button class=\"colab-df-convert\" onclick=\"convertToInteractive('df-08cc9e30-c020-4a6b-98dc-cd0dbb1dc83b')\"\n",
              "              title=\"Convert this dataframe to an interactive table.\"\n",
              "              style=\"display:none;\">\n",
              "        \n",
              "  <svg xmlns=\"http://www.w3.org/2000/svg\" height=\"24px\"viewBox=\"0 0 24 24\"\n",
              "       width=\"24px\">\n",
              "    <path d=\"M0 0h24v24H0V0z\" fill=\"none\"/>\n",
              "    <path d=\"M18.56 5.44l.94 2.06.94-2.06 2.06-.94-2.06-.94-.94-2.06-.94 2.06-2.06.94zm-11 1L8.5 8.5l.94-2.06 2.06-.94-2.06-.94L8.5 2.5l-.94 2.06-2.06.94zm10 10l.94 2.06.94-2.06 2.06-.94-2.06-.94-.94-2.06-.94 2.06-2.06.94z\"/><path d=\"M17.41 7.96l-1.37-1.37c-.4-.4-.92-.59-1.43-.59-.52 0-1.04.2-1.43.59L10.3 9.45l-7.72 7.72c-.78.78-.78 2.05 0 2.83L4 21.41c.39.39.9.59 1.41.59.51 0 1.02-.2 1.41-.59l7.78-7.78 2.81-2.81c.8-.78.8-2.07 0-2.86zM5.41 20L4 18.59l7.72-7.72 1.47 1.35L5.41 20z\"/>\n",
              "  </svg>\n",
              "      </button>\n",
              "      \n",
              "  <style>\n",
              "    .colab-df-container {\n",
              "      display:flex;\n",
              "      flex-wrap:wrap;\n",
              "      gap: 12px;\n",
              "    }\n",
              "\n",
              "    .colab-df-convert {\n",
              "      background-color: #E8F0FE;\n",
              "      border: none;\n",
              "      border-radius: 50%;\n",
              "      cursor: pointer;\n",
              "      display: none;\n",
              "      fill: #1967D2;\n",
              "      height: 32px;\n",
              "      padding: 0 0 0 0;\n",
              "      width: 32px;\n",
              "    }\n",
              "\n",
              "    .colab-df-convert:hover {\n",
              "      background-color: #E2EBFA;\n",
              "      box-shadow: 0px 1px 2px rgba(60, 64, 67, 0.3), 0px 1px 3px 1px rgba(60, 64, 67, 0.15);\n",
              "      fill: #174EA6;\n",
              "    }\n",
              "\n",
              "    [theme=dark] .colab-df-convert {\n",
              "      background-color: #3B4455;\n",
              "      fill: #D2E3FC;\n",
              "    }\n",
              "\n",
              "    [theme=dark] .colab-df-convert:hover {\n",
              "      background-color: #434B5C;\n",
              "      box-shadow: 0px 1px 3px 1px rgba(0, 0, 0, 0.15);\n",
              "      filter: drop-shadow(0px 1px 2px rgba(0, 0, 0, 0.3));\n",
              "      fill: #FFFFFF;\n",
              "    }\n",
              "  </style>\n",
              "\n",
              "      <script>\n",
              "        const buttonEl =\n",
              "          document.querySelector('#df-08cc9e30-c020-4a6b-98dc-cd0dbb1dc83b button.colab-df-convert');\n",
              "        buttonEl.style.display =\n",
              "          google.colab.kernel.accessAllowed ? 'block' : 'none';\n",
              "\n",
              "        async function convertToInteractive(key) {\n",
              "          const element = document.querySelector('#df-08cc9e30-c020-4a6b-98dc-cd0dbb1dc83b');\n",
              "          const dataTable =\n",
              "            await google.colab.kernel.invokeFunction('convertToInteractive',\n",
              "                                                     [key], {});\n",
              "          if (!dataTable) return;\n",
              "\n",
              "          const docLinkHtml = 'Like what you see? Visit the ' +\n",
              "            '<a target=\"_blank\" href=https://colab.research.google.com/notebooks/data_table.ipynb>data table notebook</a>'\n",
              "            + ' to learn more about interactive tables.';\n",
              "          element.innerHTML = '';\n",
              "          dataTable['output_type'] = 'display_data';\n",
              "          await google.colab.output.renderOutput(dataTable, element);\n",
              "          const docLink = document.createElement('div');\n",
              "          docLink.innerHTML = docLinkHtml;\n",
              "          element.appendChild(docLink);\n",
              "        }\n",
              "      </script>\n",
              "    </div>\n",
              "  </div>\n",
              "  "
            ],
            "text/plain": [
              "      rougher.output.recovery  final.output.recovery\n",
              "4682                89.993421              70.273583\n",
              "4683                88.089657              68.910432\n",
              "4684                88.412756              68.143213"
            ]
          },
          "execution_count": 95,
          "metadata": {},
          "output_type": "execute_result"
        }
      ],
      "source": [
        "# список дат из теста с дропнутыми пропусками\n",
        "list_date_df_test = df_test['date'].to_list()\n",
        "#срез со стороками из df_test, находим их по дата-времени это и есть таргеты в df_test\n",
        "df_full.query('date in @list_date_df_test')[['rougher.output.recovery', 'final.output.recovery']].head(3)"
      ]
    },
    {
      "cell_type": "code",
      "execution_count": null,
      "metadata": {
        "colab": {
          "background_save": true
        },
        "id": "5s0VTuMsxHJz"
      },
      "outputs": [],
      "source": [
        "#тарег 1 на тест выборке\n",
        "df_test_target_rougher = df_full.query('date in @list_date_df_test')['rougher.output.recovery']\n",
        "#таргет 2 на тест выборке \n",
        "df_test_target_final = df_full.query('date in @list_date_df_test')['final.output.recovery']\n",
        "\n",
        "#дропаем столбец с датой после всех этих манипуляци, тк  он мешать будет моделям предсказывать\n",
        "df_test.drop(columns='date', inplace=True)\n",
        "\n"
      ]
    },
    {
      "cell_type": "code",
      "execution_count": null,
      "metadata": {
        "colab": {
          "background_save": true
        },
        "id": "LY6PQm1_xHJz"
      },
      "outputs": [],
      "source": [
        "#не знаю откуда тут берется колнка 'index', но она упроно берется,поэтому дроп ее\n",
        "df_train_features.drop(columns='index', inplace=True)"
      ]
    },
    {
      "cell_type": "code",
      "execution_count": null,
      "metadata": {
        "colab": {
          "background_save": true
        },
        "id": "TC_RYCFaxHJz"
      },
      "outputs": [],
      "source": []
    },
    {
      "cell_type": "code",
      "execution_count": null,
      "metadata": {
        "colab": {
          "background_save": true
        },
        "id": "AVchlEyIxHJz",
        "scrolled": false,
        "outputId": "1997dcde-610f-4e76-aff3-fd9dac5d23d4"
      },
      "outputs": [
        {
          "name": "stdout",
          "output_type": "stream",
          "text": [
            "df_test.shape = (5229, 52)\n",
            "df_train_features.shape = (13600, 52)\n",
            "df_test_target_rougher.shape = (5229,)\n",
            "df_test_target_rougher.final = (5229,)\n"
          ]
        }
      ],
      "source": [
        "#проверка размерностей\n",
        "print ('df_test.shape =',df_test.shape )\n",
        "print ('df_train_features.shape =',df_train_features.shape)\n",
        "print ('df_test_target_rougher.shape =',df_test_target_rougher.shape)\n",
        "print ('df_test_target_rougher.final =',df_test_target_final.shape)"
      ]
    },
    {
      "cell_type": "code",
      "execution_count": null,
      "metadata": {
        "colab": {
          "background_save": true
        },
        "id": "cG6o8fWkxHJ0",
        "outputId": "c8e9ad71-7dbf-4389-cf3b-9ed518554b7c"
      },
      "outputs": [
        {
          "name": "stdout",
          "output_type": "stream",
          "text": [
            "Итоговое sMAPE на тест выборке =  8.831662867444905 модель <catboost.core.CatBoostRegressor object at 0x7fe039f9f190>\n"
          ]
        },
        {
          "data": {
            "text/plain": [
              "<matplotlib.axes._subplots.AxesSubplot at 0x7fe01c204fd0>"
            ]
          },
          "execution_count": 99,
          "metadata": {},
          "output_type": "execute_result"
        },
        {
          "data": {
            "image/png": "[encoded data removed]",
            "text/plain": [
              "<Figure size 432x288 with 1 Axes>"
            ]
          },
          "metadata": {},
          "output_type": "display_data"
        }
      ],
      "source": [
        "#  что на чем обучаем и что предсказываем\n",
        "#df_test   тест выборка, тут тока фьючи, для нее делаем предикт\n",
        "#df_train_features это наши фьючи на трайн выборке\n",
        "#df_train_target_rougher это таргет_1 на трайн выборке\n",
        "#df_train_target_final это таргет_2 на трайн выборке\n",
        "#df_test_target_rougher  это таргет_1 на тест выборке\n",
        "#df_test_target_final это таргет_2 на тест выборке\n",
        "\n",
        "\n",
        "#модели\n",
        "model_1 = cat\n",
        "model_2 = cat_2\n",
        "#обучаем на трайн выборке(всей)  \n",
        "model_1.fit(df_train_features, df_train_target_rougher)\n",
        "model_2.fit(df_train_features, df_train_target_final)\n",
        "    \n",
        "#предсказания для бизнеса\n",
        "predict_rougher_test = model_1.predict(df_test)\n",
        "predict_final_test = model_2.predict(df_test)\n",
        "\n",
        "#метрики smape  для обоих таргетов\n",
        "smape_test_rougher = smape(df_test_target_rougher , predict_rougher_test)\n",
        "smape_test_final = smape(df_test_target_final, predict_final_test)\n",
        "\n",
        "# финальная метрика\n",
        "print ('Итоговое sMAPE на тест выборке = ',smape_total(smape_test_rougher, smape_test_final) , 'модель', model_1 )\n",
        "\n",
        "#pd.Series(predict_final_test).hist(bins=100)\n",
        "#Распределение предсказаний  \n",
        "#plt.title(model_1)\n",
        "pd.Series(predict_rougher_test).hist(bins=100)\n",
        "#plt.show()\n",
        "#plt.title(model_2)\n",
        "pd.Series(predict_final_test).hist(bins=100)\n",
        "#plt.show()"
      ]
    },
    {
      "cell_type": "code",
      "execution_count": null,
      "metadata": {
        "colab": {
          "background_save": true
        },
        "id": "LWJNtHoOxHJ0",
        "outputId": "6e59232b-c946-4ac2-8167-df39f2a3df9f"
      },
      "outputs": [
        {
          "data": {
            "text/plain": [
              "<matplotlib.axes._subplots.AxesSubplot at 0x7fe038cd1f10>"
            ]
          },
          "execution_count": 100,
          "metadata": {},
          "output_type": "execute_result"
        },
        {
          "data": {
            "image/png": "[encoded data removed]",
            "text/plain": [
              "<Figure size 432x288 with 1 Axes>"
            ]
          },
          "metadata": {},
          "output_type": "display_data"
        }
      ],
      "source": [
        "#распределение таргета\n",
        "df_test_target_rougher.hist(bins=100)\n",
        "df_test_target_final.hist(bins=100)"
      ]
    },
    {
      "cell_type": "code",
      "execution_count": null,
      "metadata": {
        "colab": {
          "background_save": true
        },
        "id": "Zhu7eXUhxHJ0",
        "outputId": "60062321-3722-4f55-a61a-0d36bd4a2175"
      },
      "outputs": [
        {
          "data": {
            "text/plain": [
              "(7.856022577880989, 9.156876297299542)"
            ]
          },
          "execution_count": 101,
          "metadata": {},
          "output_type": "execute_result"
        }
      ],
      "source": [
        "smape_test_rougher, smape_test_final"
      ]
    },
    {
      "cell_type": "markdown",
      "metadata": {
        "id": "FNYB69TOxHJ4"
      },
      "source": [
        "Как видно, предсказания очень похожи на таргеты по распределению.   \n",
        "Далее проверим на адекватность с помощью дамми"
      ]
    },
    {
      "cell_type": "code",
      "execution_count": null,
      "metadata": {
        "colab": {
          "background_save": true
        },
        "id": "AnZzhGRfxHJ4",
        "outputId": "ac75a164-7ee9-4859-a2b7-ace3f5f174d2"
      },
      "outputs": [
        {
          "name": "stdout",
          "output_type": "stream",
          "text": [
            "Итоговое sMAPE на тест выборке =  9.409560053849521 модель DummyRegressor()\n"
          ]
        }
      ],
      "source": [
        "# проверим модель на адекватность\n",
        "model_1 = DummyRegressor(strategy = 'mean' )\n",
        "model_2 = DummyRegressor(strategy = 'mean' )\n",
        "#обучаем на трайн выборке(всей)  \n",
        "model_1.fit(df_train_features, df_train_target_rougher)\n",
        "model_2.fit(df_train_features, df_train_target_final)\n",
        "    \n",
        "#предсказания для бизнеса\n",
        "predict_rougher_test = model_1.predict(df_test)\n",
        "predict_final_test = model_2.predict(df_test)\n",
        "\n",
        "#метрики smape  для обоих таргетов\n",
        "smape_test_rougher = smape(df_test_target_rougher , predict_rougher_test)\n",
        "smape_test_final = smape(df_test_target_final, predict_final_test)\n",
        "# финальная метрика\n",
        "print ('Итоговое sMAPE на тест выборке = ',smape_total(smape_test_rougher, smape_test_final) , 'модель', model_1 )"
      ]
    },
    {
      "cell_type": "markdown",
      "metadata": {
        "id": "OW08kMIbxHJ4"
      },
      "source": [
        "Дамми среднее показал по smape хуже результат , но сопоставим с моделями. Потому что даныне имеют нормальнео распределение."
      ]
    },
    {
      "cell_type": "markdown",
      "metadata": {
        "id": "PptkNEavxHJ5"
      },
      "source": [
        "**Вывод общий:**     \n",
        "Данные были проанализированы.\n",
        "Отброшены лишние признаки(тех что нет в тест выборке).     \n",
        "Строки с пропусками данных заменены медианами ближайших соседей.      \n",
        "Строки с нулевыми значениями  в 'rougher.output.recovery'  и 'final.output.recovery'   оставлены.\n",
        "Проанализирвоаны технолигические процесы: средняя и суммарная концентрация веществ на разных стадиях обогащения.  Концентрация золота растет на каждых стадиях обогащения.   \n",
        "Написана формцула метрики  sMAE и итогового sMAE.   \n",
        "Данные train выборки подготовлены к ML( разбитие на фьючи таргеты, дроп линших строк). \n",
        "С помощью цикла на кросс валидации найдены лучшие гипер параметры модели Дерева.\n",
        "Кросс валидацией потерстированы три различные модели. Выбрана самая лучшая модель  на основе лучшего распределениея предсказаний.\n",
        "Для тест выборки были получены таргеты из полного датасета df_full. С помощью индексации столбца с дата-временем.    \n",
        "ДЛя тест выборки применина лучшая модель и вычлесена метрика.    \n",
        "Итоговое sMAPE на тест выборке =  8.831662867444905"
      ]
    },
    {
      "cell_type": "markdown",
      "metadata": {
        "id": "1NLONejSxHJ8"
      },
      "source": [
        "### заметки\n"
      ]
    },
    {
      "cell_type": "markdown",
      "metadata": {
        "id": "CsNAWbKzxHJ9"
      },
      "source": [
        "\n",
        "-- - -- -- -   \n",
        "кэт на дефолтах       \n",
        "Итоговое sMAPE на тест выборке = 13.717711670136104 это с дропом nan всех  и дропом 0 выбросов    \n",
        "Итоговое sMAPE на тест выборке =  13.773847001047045  это замена медианами nan      \n",
        "Итоговое sMAPE на тест выборке =  14.885606785741167  заоплняем пропуски, и не дропаем нули-выбросы\n",
        "Итоговое sMAPE на тест выборке = 14.181835117558014 допнулин нулевые выборсоы по суумме вееществ\n",
        "\n",
        "Итоговое sMAPE на тест выборке =  13.088744513753603 модель DecisionTreeRegressor(max_depth=2-3-4) -но это чит\n",
        "\n",
        "\n",
        "после фикса  кода на текстовых данных\n",
        "Итоговое sMAPE на тест выборке =  8.805788978278748\n",
        "\n"
      ]
    }
  ],
  "metadata": {
    "ExecuteTimeLog": [
      {
        "duration": 4,
        "start_time": "2023-01-30T11:17:07.015Z"
      },
      {
        "duration": 458,
        "start_time": "2023-01-31T07:50:18.446Z"
      },
      {
        "duration": 3634,
        "start_time": "2023-01-31T08:07:45.843Z"
      },
      {
        "duration": 36,
        "start_time": "2023-01-31T08:16:12.317Z"
      },
      {
        "duration": 28,
        "start_time": "2023-01-31T08:16:55.620Z"
      },
      {
        "duration": 15,
        "start_time": "2023-01-31T08:17:35.459Z"
      },
      {
        "duration": 85,
        "start_time": "2023-01-31T08:33:47.871Z"
      },
      {
        "duration": 39,
        "start_time": "2023-01-31T08:34:02.029Z"
      },
      {
        "duration": 15,
        "start_time": "2023-01-31T08:34:12.863Z"
      },
      {
        "duration": 35,
        "start_time": "2023-01-31T08:37:26.699Z"
      },
      {
        "duration": 14,
        "start_time": "2023-01-31T08:38:27.572Z"
      },
      {
        "duration": 13,
        "start_time": "2023-01-31T08:38:29.244Z"
      },
      {
        "duration": 16,
        "start_time": "2023-01-31T08:39:00.484Z"
      },
      {
        "duration": 7,
        "start_time": "2023-01-31T08:40:52.237Z"
      },
      {
        "duration": 12,
        "start_time": "2023-01-31T08:41:14.799Z"
      },
      {
        "duration": 10,
        "start_time": "2023-01-31T08:41:19.974Z"
      },
      {
        "duration": 627,
        "start_time": "2023-01-31T08:42:46.191Z"
      },
      {
        "duration": 1547,
        "start_time": "2023-01-31T08:42:57.303Z"
      },
      {
        "duration": 294,
        "start_time": "2023-01-31T08:43:08.456Z"
      },
      {
        "duration": 9,
        "start_time": "2023-01-31T08:43:30.513Z"
      },
      {
        "duration": 7,
        "start_time": "2023-01-31T09:09:10.595Z"
      },
      {
        "duration": 443,
        "start_time": "2023-01-31T09:10:09.229Z"
      },
      {
        "duration": 19,
        "start_time": "2023-01-31T09:46:49.248Z"
      },
      {
        "duration": 697,
        "start_time": "2023-01-31T09:46:56.737Z"
      },
      {
        "duration": 6,
        "start_time": "2023-01-31T09:47:04.443Z"
      },
      {
        "duration": 6,
        "start_time": "2023-01-31T09:50:54.447Z"
      },
      {
        "duration": 367,
        "start_time": "2023-01-31T09:50:56.533Z"
      },
      {
        "duration": 7,
        "start_time": "2023-01-31T09:51:07.382Z"
      },
      {
        "duration": 6,
        "start_time": "2023-01-31T10:02:15.375Z"
      },
      {
        "duration": 65,
        "start_time": "2023-01-31T10:02:40.319Z"
      },
      {
        "duration": 5,
        "start_time": "2023-01-31T10:02:48.319Z"
      },
      {
        "duration": 3,
        "start_time": "2023-01-31T10:03:11.512Z"
      },
      {
        "duration": 4,
        "start_time": "2023-01-31T10:03:19.216Z"
      },
      {
        "duration": 6,
        "start_time": "2023-01-31T10:03:36.815Z"
      },
      {
        "duration": 90,
        "start_time": "2023-01-31T10:05:49.561Z"
      },
      {
        "duration": 4,
        "start_time": "2023-01-31T10:05:54.417Z"
      },
      {
        "duration": 99,
        "start_time": "2023-01-31T10:09:46.036Z"
      },
      {
        "duration": 99,
        "start_time": "2023-01-31T10:09:51.140Z"
      },
      {
        "duration": 11,
        "start_time": "2023-01-31T10:09:55.764Z"
      },
      {
        "duration": 7,
        "start_time": "2023-01-31T10:11:04.541Z"
      },
      {
        "duration": 11,
        "start_time": "2023-01-31T10:12:57.726Z"
      },
      {
        "duration": 7,
        "start_time": "2023-01-31T10:13:06.583Z"
      },
      {
        "duration": 21,
        "start_time": "2023-01-31T10:14:22.335Z"
      },
      {
        "duration": 6,
        "start_time": "2023-01-31T10:17:45.587Z"
      },
      {
        "duration": 9,
        "start_time": "2023-01-31T10:17:48.706Z"
      },
      {
        "duration": 5,
        "start_time": "2023-01-31T10:17:56.811Z"
      },
      {
        "duration": 10,
        "start_time": "2023-01-31T10:20:38.389Z"
      },
      {
        "duration": 5,
        "start_time": "2023-01-31T10:21:05.917Z"
      },
      {
        "duration": 4,
        "start_time": "2023-01-31T10:21:14.046Z"
      },
      {
        "duration": 10,
        "start_time": "2023-01-31T10:21:24.817Z"
      },
      {
        "duration": 3,
        "start_time": "2023-01-31T10:23:26.079Z"
      },
      {
        "duration": 5,
        "start_time": "2023-01-31T10:23:35.247Z"
      },
      {
        "duration": 5,
        "start_time": "2023-01-31T10:26:26.882Z"
      },
      {
        "duration": 4,
        "start_time": "2023-01-31T10:29:02.843Z"
      },
      {
        "duration": 5,
        "start_time": "2023-01-31T11:06:12.175Z"
      },
      {
        "duration": 7,
        "start_time": "2023-01-31T11:06:15.233Z"
      },
      {
        "duration": 6,
        "start_time": "2023-01-31T11:06:23.305Z"
      },
      {
        "duration": 5,
        "start_time": "2023-01-31T11:09:25.268Z"
      },
      {
        "duration": 11,
        "start_time": "2023-01-31T11:09:34.372Z"
      },
      {
        "duration": 5,
        "start_time": "2023-01-31T11:09:39.204Z"
      },
      {
        "duration": 41,
        "start_time": "2023-01-31T11:12:54.079Z"
      },
      {
        "duration": 86,
        "start_time": "2023-01-31T11:13:20.663Z"
      },
      {
        "duration": 725,
        "start_time": "2023-01-31T11:15:03.049Z"
      },
      {
        "duration": 301,
        "start_time": "2023-01-31T11:15:09.488Z"
      },
      {
        "duration": 1298,
        "start_time": "2023-01-31T11:15:12.336Z"
      },
      {
        "duration": 6,
        "start_time": "2023-01-31T11:15:17.785Z"
      },
      {
        "duration": 289,
        "start_time": "2023-01-31T11:15:19.993Z"
      },
      {
        "duration": 4,
        "start_time": "2023-01-31T11:15:28.504Z"
      },
      {
        "duration": 3,
        "start_time": "2023-01-31T11:15:49.832Z"
      },
      {
        "duration": 144,
        "start_time": "2023-01-31T11:15:56.225Z"
      },
      {
        "duration": 36,
        "start_time": "2023-01-31T11:17:32.738Z"
      },
      {
        "duration": 4,
        "start_time": "2023-01-31T11:17:40.019Z"
      },
      {
        "duration": 4,
        "start_time": "2023-01-31T11:21:14.219Z"
      },
      {
        "duration": 1508,
        "start_time": "2023-01-31T11:21:25.021Z"
      },
      {
        "duration": 1568,
        "start_time": "2023-01-31T11:21:44.285Z"
      },
      {
        "duration": 12,
        "start_time": "2023-01-31T11:22:14.190Z"
      },
      {
        "duration": 13,
        "start_time": "2023-01-31T11:22:41.518Z"
      },
      {
        "duration": 4,
        "start_time": "2023-01-31T11:23:11.495Z"
      },
      {
        "duration": 4,
        "start_time": "2023-01-31T11:23:42.431Z"
      },
      {
        "duration": 1435,
        "start_time": "2023-01-31T11:24:08.920Z"
      },
      {
        "duration": 1538,
        "start_time": "2023-01-31T12:00:00.580Z"
      },
      {
        "duration": 775,
        "start_time": "2023-01-31T12:00:02.120Z"
      },
      {
        "duration": 27,
        "start_time": "2023-01-31T12:00:02.897Z"
      },
      {
        "duration": 15,
        "start_time": "2023-01-31T12:00:02.926Z"
      },
      {
        "duration": 24,
        "start_time": "2023-01-31T12:00:02.943Z"
      },
      {
        "duration": 305,
        "start_time": "2023-01-31T12:00:02.968Z"
      },
      {
        "duration": 7,
        "start_time": "2023-01-31T12:00:03.275Z"
      },
      {
        "duration": 279,
        "start_time": "2023-01-31T12:00:03.284Z"
      },
      {
        "duration": 7,
        "start_time": "2023-01-31T12:00:03.565Z"
      },
      {
        "duration": 13,
        "start_time": "2023-01-31T12:00:03.575Z"
      },
      {
        "duration": 8,
        "start_time": "2023-01-31T12:00:03.590Z"
      },
      {
        "duration": 21,
        "start_time": "2023-01-31T12:00:03.600Z"
      },
      {
        "duration": 128,
        "start_time": "2023-01-31T12:00:03.623Z"
      },
      {
        "duration": 1,
        "start_time": "2023-01-31T12:00:03.753Z"
      },
      {
        "duration": 52,
        "start_time": "2023-01-31T12:00:56.807Z"
      },
      {
        "duration": 15,
        "start_time": "2023-01-31T12:01:28.403Z"
      },
      {
        "duration": 5,
        "start_time": "2023-01-31T12:01:39.293Z"
      },
      {
        "duration": 18,
        "start_time": "2023-01-31T12:02:17.894Z"
      },
      {
        "duration": 15,
        "start_time": "2023-01-31T12:04:53.672Z"
      },
      {
        "duration": 6,
        "start_time": "2023-01-31T12:29:43.931Z"
      },
      {
        "duration": 4,
        "start_time": "2023-01-31T12:29:52.459Z"
      },
      {
        "duration": 334,
        "start_time": "2023-01-31T12:31:19.269Z"
      },
      {
        "duration": 1193,
        "start_time": "2023-01-31T12:31:55.573Z"
      },
      {
        "duration": 1276,
        "start_time": "2023-01-31T12:32:13.486Z"
      },
      {
        "duration": 270,
        "start_time": "2023-01-31T12:33:16.078Z"
      },
      {
        "duration": 275,
        "start_time": "2023-01-31T12:33:34.799Z"
      },
      {
        "duration": 1244,
        "start_time": "2023-01-31T12:34:26.841Z"
      },
      {
        "duration": 1248,
        "start_time": "2023-01-31T12:34:44.279Z"
      },
      {
        "duration": 12,
        "start_time": "2023-01-31T12:35:05.199Z"
      },
      {
        "duration": 245,
        "start_time": "2023-01-31T12:35:13.405Z"
      },
      {
        "duration": 468,
        "start_time": "2023-01-31T12:35:33.376Z"
      },
      {
        "duration": 622,
        "start_time": "2023-01-31T12:35:54.088Z"
      },
      {
        "duration": 466,
        "start_time": "2023-01-31T12:36:12.008Z"
      },
      {
        "duration": 499,
        "start_time": "2023-01-31T12:36:19.472Z"
      },
      {
        "duration": 863,
        "start_time": "2023-01-31T12:38:23.706Z"
      },
      {
        "duration": 9,
        "start_time": "2023-01-31T12:38:49.585Z"
      },
      {
        "duration": 5,
        "start_time": "2023-01-31T12:41:38.085Z"
      },
      {
        "duration": 6,
        "start_time": "2023-01-31T12:41:46.428Z"
      },
      {
        "duration": 99,
        "start_time": "2023-01-31T12:48:48.115Z"
      },
      {
        "duration": 92,
        "start_time": "2023-01-31T12:48:58.738Z"
      },
      {
        "duration": 21,
        "start_time": "2023-01-31T12:54:57.896Z"
      },
      {
        "duration": 13,
        "start_time": "2023-01-31T12:55:08.015Z"
      },
      {
        "duration": 86,
        "start_time": "2023-01-31T13:00:36.596Z"
      },
      {
        "duration": 129,
        "start_time": "2023-01-31T13:00:48.616Z"
      },
      {
        "duration": 1875,
        "start_time": "2023-01-31T13:02:44.238Z"
      },
      {
        "duration": 17,
        "start_time": "2023-01-31T13:03:13.405Z"
      },
      {
        "duration": 21,
        "start_time": "2023-01-31T13:03:45.765Z"
      },
      {
        "duration": 48,
        "start_time": "2023-01-31T16:04:10.849Z"
      },
      {
        "duration": 1475,
        "start_time": "2023-01-31T16:04:19.170Z"
      },
      {
        "duration": 2078,
        "start_time": "2023-01-31T16:04:20.647Z"
      },
      {
        "duration": 19,
        "start_time": "2023-01-31T16:04:22.726Z"
      },
      {
        "duration": 13,
        "start_time": "2023-01-31T16:04:22.747Z"
      },
      {
        "duration": 20,
        "start_time": "2023-01-31T16:04:22.761Z"
      },
      {
        "duration": 258,
        "start_time": "2023-01-31T16:04:22.783Z"
      },
      {
        "duration": 7,
        "start_time": "2023-01-31T16:04:23.043Z"
      },
      {
        "duration": 250,
        "start_time": "2023-01-31T16:04:23.052Z"
      },
      {
        "duration": 4,
        "start_time": "2023-01-31T16:04:23.304Z"
      },
      {
        "duration": 10,
        "start_time": "2023-01-31T16:04:23.310Z"
      },
      {
        "duration": 18,
        "start_time": "2023-01-31T16:04:23.321Z"
      },
      {
        "duration": 29,
        "start_time": "2023-01-31T16:04:23.340Z"
      },
      {
        "duration": 33,
        "start_time": "2023-01-31T16:04:23.370Z"
      },
      {
        "duration": 5,
        "start_time": "2023-01-31T16:04:23.404Z"
      },
      {
        "duration": 351,
        "start_time": "2023-01-31T16:04:23.410Z"
      },
      {
        "duration": 4,
        "start_time": "2023-01-31T16:04:23.763Z"
      },
      {
        "duration": 124,
        "start_time": "2023-01-31T16:04:23.769Z"
      },
      {
        "duration": 7,
        "start_time": "2023-01-31T16:06:04.088Z"
      },
      {
        "duration": 254,
        "start_time": "2023-01-31T16:06:16.637Z"
      },
      {
        "duration": 6,
        "start_time": "2023-01-31T16:06:20.980Z"
      },
      {
        "duration": 40,
        "start_time": "2023-01-31T16:23:27.655Z"
      },
      {
        "duration": 6,
        "start_time": "2023-01-31T16:23:49.446Z"
      },
      {
        "duration": 8,
        "start_time": "2023-01-31T16:24:00.294Z"
      },
      {
        "duration": 3,
        "start_time": "2023-01-31T16:24:11.076Z"
      },
      {
        "duration": 20,
        "start_time": "2023-01-31T16:25:14.602Z"
      },
      {
        "duration": 1271,
        "start_time": "2023-01-31T16:27:41.299Z"
      },
      {
        "duration": 682,
        "start_time": "2023-01-31T16:27:42.572Z"
      },
      {
        "duration": 20,
        "start_time": "2023-01-31T16:27:43.255Z"
      },
      {
        "duration": 25,
        "start_time": "2023-01-31T16:27:43.276Z"
      },
      {
        "duration": 18,
        "start_time": "2023-01-31T16:27:43.303Z"
      },
      {
        "duration": 315,
        "start_time": "2023-01-31T16:27:43.322Z"
      },
      {
        "duration": 8,
        "start_time": "2023-01-31T16:27:43.640Z"
      },
      {
        "duration": 337,
        "start_time": "2023-01-31T16:27:43.650Z"
      },
      {
        "duration": 13,
        "start_time": "2023-01-31T16:27:43.989Z"
      },
      {
        "duration": 39,
        "start_time": "2023-01-31T16:27:44.006Z"
      },
      {
        "duration": 64,
        "start_time": "2023-01-31T16:27:44.048Z"
      },
      {
        "duration": 41,
        "start_time": "2023-01-31T16:27:44.115Z"
      },
      {
        "duration": 45,
        "start_time": "2023-01-31T16:27:44.158Z"
      },
      {
        "duration": 45,
        "start_time": "2023-01-31T16:27:44.205Z"
      },
      {
        "duration": 125,
        "start_time": "2023-01-31T16:27:44.252Z"
      },
      {
        "duration": 0,
        "start_time": "2023-01-31T16:27:44.379Z"
      },
      {
        "duration": 0,
        "start_time": "2023-01-31T16:27:44.381Z"
      },
      {
        "duration": 0,
        "start_time": "2023-01-31T16:27:44.382Z"
      },
      {
        "duration": 0,
        "start_time": "2023-01-31T16:27:44.383Z"
      },
      {
        "duration": 25,
        "start_time": "2023-01-31T16:31:35.399Z"
      },
      {
        "duration": 23,
        "start_time": "2023-01-31T16:33:44.003Z"
      },
      {
        "duration": 15,
        "start_time": "2023-01-31T16:35:10.998Z"
      },
      {
        "duration": 15,
        "start_time": "2023-01-31T16:35:29.246Z"
      },
      {
        "duration": 21,
        "start_time": "2023-01-31T16:36:15.935Z"
      },
      {
        "duration": 17,
        "start_time": "2023-01-31T16:37:47.795Z"
      },
      {
        "duration": 14,
        "start_time": "2023-01-31T16:46:45.858Z"
      },
      {
        "duration": 709,
        "start_time": "2023-01-31T16:48:39.042Z"
      },
      {
        "duration": 502,
        "start_time": "2023-01-31T16:48:58.218Z"
      },
      {
        "duration": 446,
        "start_time": "2023-01-31T16:49:32.326Z"
      },
      {
        "duration": 432,
        "start_time": "2023-01-31T16:49:44.329Z"
      },
      {
        "duration": 450,
        "start_time": "2023-01-31T16:51:37.680Z"
      },
      {
        "duration": 542,
        "start_time": "2023-01-31T16:54:04.425Z"
      },
      {
        "duration": 473,
        "start_time": "2023-01-31T16:54:10.742Z"
      },
      {
        "duration": 15,
        "start_time": "2023-01-31T16:55:09.390Z"
      },
      {
        "duration": 26,
        "start_time": "2023-01-31T16:55:46.214Z"
      },
      {
        "duration": 13,
        "start_time": "2023-01-31T16:56:42.324Z"
      },
      {
        "duration": 13,
        "start_time": "2023-01-31T16:57:17.162Z"
      },
      {
        "duration": 3,
        "start_time": "2023-01-31T17:01:50.714Z"
      },
      {
        "duration": 5,
        "start_time": "2023-01-31T17:09:02.077Z"
      },
      {
        "duration": 6,
        "start_time": "2023-01-31T17:10:43.591Z"
      },
      {
        "duration": 5,
        "start_time": "2023-01-31T17:12:03.298Z"
      },
      {
        "duration": 6,
        "start_time": "2023-01-31T17:12:14.173Z"
      },
      {
        "duration": 4,
        "start_time": "2023-01-31T17:12:30.774Z"
      },
      {
        "duration": 3,
        "start_time": "2023-01-31T17:12:49.836Z"
      },
      {
        "duration": 6,
        "start_time": "2023-01-31T17:12:54.820Z"
      },
      {
        "duration": 1272,
        "start_time": "2023-01-31T17:13:57.435Z"
      },
      {
        "duration": 659,
        "start_time": "2023-01-31T17:13:58.709Z"
      },
      {
        "duration": 30,
        "start_time": "2023-01-31T17:13:59.370Z"
      },
      {
        "duration": 14,
        "start_time": "2023-01-31T17:13:59.402Z"
      },
      {
        "duration": 26,
        "start_time": "2023-01-31T17:13:59.418Z"
      },
      {
        "duration": 270,
        "start_time": "2023-01-31T17:13:59.446Z"
      },
      {
        "duration": 6,
        "start_time": "2023-01-31T17:13:59.718Z"
      },
      {
        "duration": 253,
        "start_time": "2023-01-31T17:13:59.726Z"
      },
      {
        "duration": 5,
        "start_time": "2023-01-31T17:13:59.981Z"
      },
      {
        "duration": 36,
        "start_time": "2023-01-31T17:13:59.989Z"
      },
      {
        "duration": 36,
        "start_time": "2023-01-31T17:14:00.027Z"
      },
      {
        "duration": 4,
        "start_time": "2023-01-31T17:14:00.065Z"
      },
      {
        "duration": 19,
        "start_time": "2023-01-31T17:14:00.071Z"
      },
      {
        "duration": 31,
        "start_time": "2023-01-31T17:14:00.092Z"
      },
      {
        "duration": 15,
        "start_time": "2023-01-31T17:14:00.124Z"
      },
      {
        "duration": 15,
        "start_time": "2023-01-31T17:14:00.140Z"
      },
      {
        "duration": 573,
        "start_time": "2023-01-31T17:14:00.157Z"
      },
      {
        "duration": 549,
        "start_time": "2023-01-31T17:14:00.732Z"
      },
      {
        "duration": 20,
        "start_time": "2023-01-31T17:14:01.283Z"
      },
      {
        "duration": 23,
        "start_time": "2023-01-31T17:14:01.305Z"
      },
      {
        "duration": 31,
        "start_time": "2023-01-31T17:14:01.330Z"
      },
      {
        "duration": 28,
        "start_time": "2023-01-31T17:14:01.363Z"
      },
      {
        "duration": 42,
        "start_time": "2023-01-31T17:14:01.393Z"
      },
      {
        "duration": 6,
        "start_time": "2023-01-31T17:14:37.221Z"
      },
      {
        "duration": 6,
        "start_time": "2023-01-31T17:14:42.331Z"
      },
      {
        "duration": 6,
        "start_time": "2023-01-31T17:15:02.672Z"
      },
      {
        "duration": 6,
        "start_time": "2023-01-31T17:15:48.891Z"
      },
      {
        "duration": 13,
        "start_time": "2023-01-31T17:16:09.803Z"
      },
      {
        "duration": 106,
        "start_time": "2023-01-31T17:17:00.163Z"
      },
      {
        "duration": 9,
        "start_time": "2023-01-31T17:19:16.939Z"
      },
      {
        "duration": 16,
        "start_time": "2023-01-31T17:20:30.777Z"
      },
      {
        "duration": 7,
        "start_time": "2023-01-31T17:20:38.890Z"
      },
      {
        "duration": 5,
        "start_time": "2023-01-31T17:40:02.115Z"
      },
      {
        "duration": 7,
        "start_time": "2023-01-31T17:44:10.542Z"
      },
      {
        "duration": 5,
        "start_time": "2023-01-31T17:44:29.293Z"
      },
      {
        "duration": 7,
        "start_time": "2023-01-31T17:50:47.097Z"
      },
      {
        "duration": 8,
        "start_time": "2023-01-31T17:53:02.610Z"
      },
      {
        "duration": 6,
        "start_time": "2023-01-31T17:53:21.529Z"
      },
      {
        "duration": 6,
        "start_time": "2023-01-31T17:53:38.129Z"
      },
      {
        "duration": 5,
        "start_time": "2023-01-31T18:06:38.513Z"
      },
      {
        "duration": 17,
        "start_time": "2023-01-31T18:26:43.825Z"
      },
      {
        "duration": 5,
        "start_time": "2023-01-31T18:29:38.640Z"
      },
      {
        "duration": 1584,
        "start_time": "2023-02-01T08:48:00.972Z"
      },
      {
        "duration": 3310,
        "start_time": "2023-02-01T08:48:02.557Z"
      },
      {
        "duration": 27,
        "start_time": "2023-02-01T08:48:05.869Z"
      },
      {
        "duration": 13,
        "start_time": "2023-02-01T08:48:05.898Z"
      },
      {
        "duration": 28,
        "start_time": "2023-02-01T08:48:05.913Z"
      },
      {
        "duration": 316,
        "start_time": "2023-02-01T08:48:05.943Z"
      },
      {
        "duration": 22,
        "start_time": "2023-02-01T08:48:06.261Z"
      },
      {
        "duration": 269,
        "start_time": "2023-02-01T08:48:06.286Z"
      },
      {
        "duration": 14,
        "start_time": "2023-02-01T08:48:06.556Z"
      },
      {
        "duration": 18,
        "start_time": "2023-02-01T08:48:06.573Z"
      },
      {
        "duration": 19,
        "start_time": "2023-02-01T08:48:06.592Z"
      },
      {
        "duration": 3,
        "start_time": "2023-02-01T08:48:06.613Z"
      },
      {
        "duration": 14,
        "start_time": "2023-02-01T08:48:06.617Z"
      },
      {
        "duration": 3,
        "start_time": "2023-02-01T08:48:06.632Z"
      },
      {
        "duration": 30,
        "start_time": "2023-02-01T08:48:06.637Z"
      },
      {
        "duration": 20,
        "start_time": "2023-02-01T08:48:06.668Z"
      },
      {
        "duration": 15,
        "start_time": "2023-02-01T08:48:06.690Z"
      },
      {
        "duration": 16,
        "start_time": "2023-02-01T08:48:06.706Z"
      },
      {
        "duration": 579,
        "start_time": "2023-02-01T08:48:06.724Z"
      },
      {
        "duration": 457,
        "start_time": "2023-02-01T08:48:07.305Z"
      },
      {
        "duration": 16,
        "start_time": "2023-02-01T08:48:07.766Z"
      },
      {
        "duration": 16,
        "start_time": "2023-02-01T08:48:07.784Z"
      },
      {
        "duration": 13,
        "start_time": "2023-02-01T08:48:07.801Z"
      },
      {
        "duration": 14,
        "start_time": "2023-02-01T08:48:07.816Z"
      },
      {
        "duration": 5,
        "start_time": "2023-02-01T09:35:13.991Z"
      },
      {
        "duration": 6,
        "start_time": "2023-02-01T09:35:49.144Z"
      },
      {
        "duration": 2,
        "start_time": "2023-02-01T09:36:21.687Z"
      },
      {
        "duration": 69,
        "start_time": "2023-02-01T09:36:29.616Z"
      },
      {
        "duration": 95,
        "start_time": "2023-02-01T09:37:37.698Z"
      },
      {
        "duration": 145,
        "start_time": "2023-02-01T09:37:48.050Z"
      },
      {
        "duration": 85,
        "start_time": "2023-02-01T09:37:58.545Z"
      },
      {
        "duration": 109,
        "start_time": "2023-02-01T09:38:11.547Z"
      },
      {
        "duration": 82,
        "start_time": "2023-02-01T09:38:15.531Z"
      },
      {
        "duration": 79,
        "start_time": "2023-02-01T09:38:18.890Z"
      },
      {
        "duration": 121,
        "start_time": "2023-02-01T09:38:28.571Z"
      },
      {
        "duration": 102,
        "start_time": "2023-02-01T09:40:44.093Z"
      },
      {
        "duration": 3,
        "start_time": "2023-02-01T09:43:35.615Z"
      },
      {
        "duration": 2,
        "start_time": "2023-02-01T09:43:39.263Z"
      },
      {
        "duration": 6,
        "start_time": "2023-02-01T09:43:43.367Z"
      },
      {
        "duration": 2,
        "start_time": "2023-02-01T09:43:55.976Z"
      },
      {
        "duration": 4,
        "start_time": "2023-02-01T09:44:02.175Z"
      },
      {
        "duration": 3,
        "start_time": "2023-02-01T09:45:51.505Z"
      },
      {
        "duration": 7,
        "start_time": "2023-02-01T09:46:12.337Z"
      },
      {
        "duration": 102,
        "start_time": "2023-02-01T09:46:28.008Z"
      },
      {
        "duration": 7,
        "start_time": "2023-02-01T09:46:44.921Z"
      },
      {
        "duration": 5,
        "start_time": "2023-02-01T09:46:58.433Z"
      },
      {
        "duration": 7,
        "start_time": "2023-02-01T09:47:13.462Z"
      },
      {
        "duration": 5,
        "start_time": "2023-02-01T09:48:12.610Z"
      },
      {
        "duration": 5,
        "start_time": "2023-02-01T09:48:26.283Z"
      },
      {
        "duration": 3,
        "start_time": "2023-02-01T09:49:07.187Z"
      },
      {
        "duration": 6,
        "start_time": "2023-02-01T09:49:09.099Z"
      },
      {
        "duration": 4,
        "start_time": "2023-02-01T09:49:11.954Z"
      },
      {
        "duration": 96,
        "start_time": "2023-02-01T09:49:13.763Z"
      },
      {
        "duration": 9,
        "start_time": "2023-02-01T09:49:26.796Z"
      },
      {
        "duration": 15,
        "start_time": "2023-02-01T09:49:49.339Z"
      },
      {
        "duration": 2,
        "start_time": "2023-02-01T09:50:07.980Z"
      },
      {
        "duration": 5,
        "start_time": "2023-02-01T09:50:09.900Z"
      },
      {
        "duration": 1243,
        "start_time": "2023-02-01T09:50:12.572Z"
      },
      {
        "duration": 2,
        "start_time": "2023-02-01T09:51:19.789Z"
      },
      {
        "duration": 6,
        "start_time": "2023-02-01T09:51:23.054Z"
      },
      {
        "duration": 1199,
        "start_time": "2023-02-01T09:51:25.309Z"
      },
      {
        "duration": 5,
        "start_time": "2023-02-01T09:52:28.493Z"
      },
      {
        "duration": 126,
        "start_time": "2023-02-01T09:52:37.390Z"
      },
      {
        "duration": 4,
        "start_time": "2023-02-01T09:53:00.902Z"
      },
      {
        "duration": 4,
        "start_time": "2023-02-01T09:53:12.078Z"
      },
      {
        "duration": 4,
        "start_time": "2023-02-01T09:54:12.095Z"
      },
      {
        "duration": 1173,
        "start_time": "2023-02-01T09:54:14.591Z"
      },
      {
        "duration": 9,
        "start_time": "2023-02-01T09:55:21.815Z"
      },
      {
        "duration": 1141,
        "start_time": "2023-02-01T09:55:31.951Z"
      },
      {
        "duration": 158,
        "start_time": "2023-02-01T09:56:05.025Z"
      },
      {
        "duration": 1162,
        "start_time": "2023-02-01T09:56:12.017Z"
      },
      {
        "duration": 1154,
        "start_time": "2023-02-01T09:56:34.145Z"
      },
      {
        "duration": 4,
        "start_time": "2023-02-01T09:56:50.777Z"
      },
      {
        "duration": 1160,
        "start_time": "2023-02-01T09:56:58.258Z"
      },
      {
        "duration": 6,
        "start_time": "2023-02-01T09:57:15.762Z"
      },
      {
        "duration": 6,
        "start_time": "2023-02-01T09:57:21.834Z"
      },
      {
        "duration": 69,
        "start_time": "2023-02-01T09:58:33.571Z"
      },
      {
        "duration": 8,
        "start_time": "2023-02-01T09:59:13.211Z"
      },
      {
        "duration": 4,
        "start_time": "2023-02-01T09:59:21.428Z"
      },
      {
        "duration": 4,
        "start_time": "2023-02-01T09:59:30.812Z"
      },
      {
        "duration": 4,
        "start_time": "2023-02-01T09:59:46.100Z"
      },
      {
        "duration": 8,
        "start_time": "2023-02-01T10:00:41.997Z"
      },
      {
        "duration": 9,
        "start_time": "2023-02-01T10:02:12.180Z"
      },
      {
        "duration": 6,
        "start_time": "2023-02-01T10:02:21.030Z"
      },
      {
        "duration": 8,
        "start_time": "2023-02-01T10:02:33.302Z"
      },
      {
        "duration": 5,
        "start_time": "2023-02-01T10:02:42.543Z"
      },
      {
        "duration": 4,
        "start_time": "2023-02-01T10:04:52.608Z"
      },
      {
        "duration": 8,
        "start_time": "2023-02-01T10:05:07.600Z"
      },
      {
        "duration": 5,
        "start_time": "2023-02-01T10:06:18.578Z"
      },
      {
        "duration": 4,
        "start_time": "2023-02-01T10:08:46.581Z"
      },
      {
        "duration": 3,
        "start_time": "2023-02-01T10:08:53.906Z"
      },
      {
        "duration": 1259,
        "start_time": "2023-02-01T10:09:02.131Z"
      },
      {
        "duration": 4,
        "start_time": "2023-02-01T10:09:36.652Z"
      },
      {
        "duration": 39,
        "start_time": "2023-02-01T10:09:39.341Z"
      },
      {
        "duration": 4,
        "start_time": "2023-02-01T10:14:45.808Z"
      },
      {
        "duration": 59,
        "start_time": "2023-02-01T10:14:47.934Z"
      },
      {
        "duration": 89,
        "start_time": "2023-02-01T10:58:54.740Z"
      },
      {
        "duration": 9,
        "start_time": "2023-02-01T10:59:03.497Z"
      },
      {
        "duration": 6,
        "start_time": "2023-02-01T10:59:19.695Z"
      },
      {
        "duration": 17,
        "start_time": "2023-02-01T11:04:51.624Z"
      },
      {
        "duration": 1398,
        "start_time": "2023-02-01T11:05:11.225Z"
      },
      {
        "duration": 6,
        "start_time": "2023-02-01T11:05:19.457Z"
      },
      {
        "duration": 5,
        "start_time": "2023-02-01T11:05:43.201Z"
      },
      {
        "duration": 32,
        "start_time": "2023-02-01T11:07:09.851Z"
      },
      {
        "duration": 14,
        "start_time": "2023-02-01T11:07:20.066Z"
      },
      {
        "duration": 6,
        "start_time": "2023-02-01T11:07:27.692Z"
      },
      {
        "duration": 14,
        "start_time": "2023-02-01T11:07:37.899Z"
      },
      {
        "duration": 9,
        "start_time": "2023-02-01T11:12:46.534Z"
      },
      {
        "duration": 10,
        "start_time": "2023-02-01T11:12:54.399Z"
      },
      {
        "duration": 87,
        "start_time": "2023-02-01T11:13:12.439Z"
      },
      {
        "duration": 7,
        "start_time": "2023-02-01T11:15:32.698Z"
      },
      {
        "duration": 1599,
        "start_time": "2023-02-02T04:41:07.598Z"
      },
      {
        "duration": 2992,
        "start_time": "2023-02-02T04:41:09.199Z"
      },
      {
        "duration": 20,
        "start_time": "2023-02-02T04:41:12.193Z"
      },
      {
        "duration": 14,
        "start_time": "2023-02-02T04:41:12.216Z"
      },
      {
        "duration": 19,
        "start_time": "2023-02-02T04:41:12.232Z"
      },
      {
        "duration": 307,
        "start_time": "2023-02-02T04:41:12.253Z"
      },
      {
        "duration": 7,
        "start_time": "2023-02-02T04:41:12.562Z"
      },
      {
        "duration": 264,
        "start_time": "2023-02-02T04:41:12.571Z"
      },
      {
        "duration": 6,
        "start_time": "2023-02-02T04:41:12.837Z"
      },
      {
        "duration": 44,
        "start_time": "2023-02-02T04:41:12.845Z"
      },
      {
        "duration": 35,
        "start_time": "2023-02-02T04:41:12.890Z"
      },
      {
        "duration": 6,
        "start_time": "2023-02-02T04:41:12.927Z"
      },
      {
        "duration": 26,
        "start_time": "2023-02-02T04:41:12.935Z"
      },
      {
        "duration": 18,
        "start_time": "2023-02-02T04:41:12.963Z"
      },
      {
        "duration": 12,
        "start_time": "2023-02-02T04:41:12.983Z"
      },
      {
        "duration": 37,
        "start_time": "2023-02-02T04:41:12.997Z"
      },
      {
        "duration": 19,
        "start_time": "2023-02-02T04:41:13.036Z"
      },
      {
        "duration": 20,
        "start_time": "2023-02-02T04:41:13.056Z"
      },
      {
        "duration": 616,
        "start_time": "2023-02-02T04:41:13.078Z"
      },
      {
        "duration": 498,
        "start_time": "2023-02-02T04:41:13.696Z"
      },
      {
        "duration": 12,
        "start_time": "2023-02-02T04:41:14.196Z"
      },
      {
        "duration": 10,
        "start_time": "2023-02-02T04:41:14.210Z"
      },
      {
        "duration": 6,
        "start_time": "2023-02-02T04:41:14.222Z"
      },
      {
        "duration": 31,
        "start_time": "2023-02-02T04:41:14.230Z"
      },
      {
        "duration": 9,
        "start_time": "2023-02-02T04:41:14.263Z"
      },
      {
        "duration": 13,
        "start_time": "2023-02-02T04:41:14.274Z"
      },
      {
        "duration": 53,
        "start_time": "2023-02-02T04:41:14.289Z"
      },
      {
        "duration": 25,
        "start_time": "2023-02-02T04:41:14.346Z"
      },
      {
        "duration": 700,
        "start_time": "2023-02-02T04:43:38.408Z"
      },
      {
        "duration": 8,
        "start_time": "2023-02-02T04:44:55.125Z"
      },
      {
        "duration": 9,
        "start_time": "2023-02-02T04:45:21.028Z"
      },
      {
        "duration": 11,
        "start_time": "2023-02-02T04:47:03.408Z"
      },
      {
        "duration": 4,
        "start_time": "2023-02-02T04:50:57.489Z"
      },
      {
        "duration": 4,
        "start_time": "2023-02-02T04:51:10.890Z"
      },
      {
        "duration": 81,
        "start_time": "2023-02-02T04:51:22.370Z"
      },
      {
        "duration": 15,
        "start_time": "2023-02-02T04:51:33.554Z"
      },
      {
        "duration": 1327,
        "start_time": "2023-02-02T04:52:54.156Z"
      },
      {
        "duration": 695,
        "start_time": "2023-02-02T04:52:55.485Z"
      },
      {
        "duration": 32,
        "start_time": "2023-02-02T04:52:56.183Z"
      },
      {
        "duration": 17,
        "start_time": "2023-02-02T04:52:56.217Z"
      },
      {
        "duration": 27,
        "start_time": "2023-02-02T04:52:56.236Z"
      },
      {
        "duration": 314,
        "start_time": "2023-02-02T04:52:56.265Z"
      },
      {
        "duration": 12,
        "start_time": "2023-02-02T04:52:56.580Z"
      },
      {
        "duration": 264,
        "start_time": "2023-02-02T04:52:56.594Z"
      },
      {
        "duration": 6,
        "start_time": "2023-02-02T04:52:56.859Z"
      },
      {
        "duration": 27,
        "start_time": "2023-02-02T04:52:56.867Z"
      },
      {
        "duration": 39,
        "start_time": "2023-02-02T04:52:56.895Z"
      },
      {
        "duration": 3,
        "start_time": "2023-02-02T04:52:56.936Z"
      },
      {
        "duration": 35,
        "start_time": "2023-02-02T04:52:56.941Z"
      },
      {
        "duration": 25,
        "start_time": "2023-02-02T04:52:56.978Z"
      },
      {
        "duration": 25,
        "start_time": "2023-02-02T04:52:57.005Z"
      },
      {
        "duration": 36,
        "start_time": "2023-02-02T04:52:57.032Z"
      },
      {
        "duration": 14,
        "start_time": "2023-02-02T04:52:57.070Z"
      },
      {
        "duration": 16,
        "start_time": "2023-02-02T04:52:57.085Z"
      },
      {
        "duration": 566,
        "start_time": "2023-02-02T04:52:57.102Z"
      },
      {
        "duration": 553,
        "start_time": "2023-02-02T04:52:57.670Z"
      },
      {
        "duration": 16,
        "start_time": "2023-02-02T04:52:58.225Z"
      },
      {
        "duration": 13,
        "start_time": "2023-02-02T04:52:58.243Z"
      },
      {
        "duration": 35,
        "start_time": "2023-02-02T04:52:58.258Z"
      },
      {
        "duration": 3,
        "start_time": "2023-02-02T04:52:58.295Z"
      },
      {
        "duration": 23,
        "start_time": "2023-02-02T04:52:58.300Z"
      },
      {
        "duration": 12,
        "start_time": "2023-02-02T04:52:58.324Z"
      },
      {
        "duration": 20,
        "start_time": "2023-02-02T04:52:58.338Z"
      },
      {
        "duration": 19,
        "start_time": "2023-02-02T04:52:58.361Z"
      },
      {
        "duration": 130,
        "start_time": "2023-02-02T04:57:31.591Z"
      },
      {
        "duration": 12,
        "start_time": "2023-02-02T05:02:34.530Z"
      },
      {
        "duration": 1371,
        "start_time": "2023-02-02T05:02:58.388Z"
      },
      {
        "duration": 690,
        "start_time": "2023-02-02T05:02:59.761Z"
      },
      {
        "duration": 19,
        "start_time": "2023-02-02T05:03:00.452Z"
      },
      {
        "duration": 36,
        "start_time": "2023-02-02T05:03:00.473Z"
      },
      {
        "duration": 46,
        "start_time": "2023-02-02T05:03:00.511Z"
      },
      {
        "duration": 329,
        "start_time": "2023-02-02T05:03:00.558Z"
      },
      {
        "duration": 12,
        "start_time": "2023-02-02T05:03:00.891Z"
      },
      {
        "duration": 303,
        "start_time": "2023-02-02T05:03:00.905Z"
      },
      {
        "duration": 6,
        "start_time": "2023-02-02T05:03:01.210Z"
      },
      {
        "duration": 63,
        "start_time": "2023-02-02T05:03:01.220Z"
      },
      {
        "duration": 83,
        "start_time": "2023-02-02T05:03:01.285Z"
      },
      {
        "duration": 35,
        "start_time": "2023-02-02T05:03:01.370Z"
      },
      {
        "duration": 66,
        "start_time": "2023-02-02T05:03:01.407Z"
      },
      {
        "duration": 62,
        "start_time": "2023-02-02T05:03:01.475Z"
      },
      {
        "duration": 75,
        "start_time": "2023-02-02T05:03:01.539Z"
      },
      {
        "duration": 40,
        "start_time": "2023-02-02T05:03:01.616Z"
      },
      {
        "duration": 21,
        "start_time": "2023-02-02T05:03:01.657Z"
      },
      {
        "duration": 45,
        "start_time": "2023-02-02T05:03:01.680Z"
      },
      {
        "duration": 559,
        "start_time": "2023-02-02T05:03:01.727Z"
      },
      {
        "duration": 493,
        "start_time": "2023-02-02T05:03:02.293Z"
      },
      {
        "duration": 22,
        "start_time": "2023-02-02T05:03:02.792Z"
      },
      {
        "duration": 17,
        "start_time": "2023-02-02T05:03:02.816Z"
      },
      {
        "duration": 6,
        "start_time": "2023-02-02T05:03:02.834Z"
      },
      {
        "duration": 8,
        "start_time": "2023-02-02T05:03:02.842Z"
      },
      {
        "duration": 7,
        "start_time": "2023-02-02T05:03:02.852Z"
      },
      {
        "duration": 6,
        "start_time": "2023-02-02T05:03:02.860Z"
      },
      {
        "duration": 7,
        "start_time": "2023-02-02T05:03:02.867Z"
      },
      {
        "duration": 144,
        "start_time": "2023-02-02T05:03:02.877Z"
      },
      {
        "duration": 0,
        "start_time": "2023-02-02T05:03:03.023Z"
      },
      {
        "duration": 19,
        "start_time": "2023-02-02T05:04:34.786Z"
      },
      {
        "duration": 14,
        "start_time": "2023-02-02T05:05:33.349Z"
      },
      {
        "duration": 7,
        "start_time": "2023-02-02T05:07:12.526Z"
      },
      {
        "duration": 11,
        "start_time": "2023-02-02T05:08:11.734Z"
      },
      {
        "duration": 14,
        "start_time": "2023-02-02T05:10:44.306Z"
      },
      {
        "duration": 10,
        "start_time": "2023-02-02T05:10:57.506Z"
      },
      {
        "duration": 4,
        "start_time": "2023-02-02T05:11:03.906Z"
      },
      {
        "duration": 10,
        "start_time": "2023-02-02T05:11:51.217Z"
      },
      {
        "duration": 10,
        "start_time": "2023-02-02T05:14:43.107Z"
      },
      {
        "duration": 9,
        "start_time": "2023-02-02T05:29:11.740Z"
      },
      {
        "duration": 13,
        "start_time": "2023-02-02T05:29:34.286Z"
      },
      {
        "duration": 18,
        "start_time": "2023-02-02T05:30:14.903Z"
      },
      {
        "duration": 10,
        "start_time": "2023-02-02T05:30:23.767Z"
      },
      {
        "duration": 10,
        "start_time": "2023-02-02T05:30:39.287Z"
      },
      {
        "duration": 5,
        "start_time": "2023-02-02T05:30:46.462Z"
      },
      {
        "duration": 14,
        "start_time": "2023-02-02T05:30:57.456Z"
      },
      {
        "duration": 27,
        "start_time": "2023-02-02T05:32:27.689Z"
      },
      {
        "duration": 1427,
        "start_time": "2023-02-02T06:35:55.412Z"
      },
      {
        "duration": 684,
        "start_time": "2023-02-02T06:35:56.841Z"
      },
      {
        "duration": 19,
        "start_time": "2023-02-02T06:35:57.526Z"
      },
      {
        "duration": 12,
        "start_time": "2023-02-02T06:35:57.547Z"
      },
      {
        "duration": 52,
        "start_time": "2023-02-02T06:35:57.560Z"
      },
      {
        "duration": 276,
        "start_time": "2023-02-02T06:35:57.614Z"
      },
      {
        "duration": 15,
        "start_time": "2023-02-02T06:35:57.892Z"
      },
      {
        "duration": 253,
        "start_time": "2023-02-02T06:35:57.913Z"
      },
      {
        "duration": 6,
        "start_time": "2023-02-02T06:35:58.168Z"
      },
      {
        "duration": 19,
        "start_time": "2023-02-02T06:35:58.177Z"
      },
      {
        "duration": 29,
        "start_time": "2023-02-02T06:35:58.209Z"
      },
      {
        "duration": 4,
        "start_time": "2023-02-02T06:35:58.239Z"
      },
      {
        "duration": 11,
        "start_time": "2023-02-02T06:35:58.245Z"
      },
      {
        "duration": 4,
        "start_time": "2023-02-02T06:35:58.258Z"
      },
      {
        "duration": 41,
        "start_time": "2023-02-02T06:35:58.263Z"
      },
      {
        "duration": 21,
        "start_time": "2023-02-02T06:35:58.307Z"
      },
      {
        "duration": 16,
        "start_time": "2023-02-02T06:35:58.330Z"
      },
      {
        "duration": 13,
        "start_time": "2023-02-02T06:35:58.348Z"
      },
      {
        "duration": 690,
        "start_time": "2023-02-02T06:35:58.362Z"
      },
      {
        "duration": 514,
        "start_time": "2023-02-02T06:35:59.053Z"
      },
      {
        "duration": 12,
        "start_time": "2023-02-02T06:35:59.568Z"
      },
      {
        "duration": 26,
        "start_time": "2023-02-02T06:35:59.582Z"
      },
      {
        "duration": 8,
        "start_time": "2023-02-02T06:35:59.609Z"
      },
      {
        "duration": 4,
        "start_time": "2023-02-02T06:35:59.619Z"
      },
      {
        "duration": 6,
        "start_time": "2023-02-02T06:35:59.625Z"
      },
      {
        "duration": 8,
        "start_time": "2023-02-02T06:35:59.632Z"
      },
      {
        "duration": 10,
        "start_time": "2023-02-02T06:35:59.642Z"
      },
      {
        "duration": 13,
        "start_time": "2023-02-02T06:35:59.654Z"
      },
      {
        "duration": 35,
        "start_time": "2023-02-02T06:35:59.669Z"
      },
      {
        "duration": 28,
        "start_time": "2023-02-02T06:35:59.705Z"
      },
      {
        "duration": 14,
        "start_time": "2023-02-02T06:35:59.735Z"
      },
      {
        "duration": 21,
        "start_time": "2023-02-02T06:36:20.529Z"
      },
      {
        "duration": 46,
        "start_time": "2023-02-02T06:36:58.278Z"
      },
      {
        "duration": 5,
        "start_time": "2023-02-02T06:37:11.821Z"
      },
      {
        "duration": 3,
        "start_time": "2023-02-02T06:37:50.569Z"
      },
      {
        "duration": 5,
        "start_time": "2023-02-02T06:37:56.920Z"
      },
      {
        "duration": 115,
        "start_time": "2023-02-02T06:39:54.071Z"
      },
      {
        "duration": 2,
        "start_time": "2023-02-02T06:39:59.084Z"
      },
      {
        "duration": 4,
        "start_time": "2023-02-02T06:40:02.872Z"
      },
      {
        "duration": 22,
        "start_time": "2023-02-02T06:40:12.584Z"
      },
      {
        "duration": 3,
        "start_time": "2023-02-02T06:40:19.217Z"
      },
      {
        "duration": 4,
        "start_time": "2023-02-02T06:40:21.279Z"
      },
      {
        "duration": 1379,
        "start_time": "2023-02-02T06:41:07.672Z"
      },
      {
        "duration": 721,
        "start_time": "2023-02-02T06:41:09.054Z"
      },
      {
        "duration": 28,
        "start_time": "2023-02-02T06:41:09.777Z"
      },
      {
        "duration": 19,
        "start_time": "2023-02-02T06:41:09.812Z"
      },
      {
        "duration": 17,
        "start_time": "2023-02-02T06:41:09.833Z"
      },
      {
        "duration": 314,
        "start_time": "2023-02-02T06:41:09.851Z"
      },
      {
        "duration": 6,
        "start_time": "2023-02-02T06:41:10.167Z"
      },
      {
        "duration": 276,
        "start_time": "2023-02-02T06:41:10.175Z"
      },
      {
        "duration": 6,
        "start_time": "2023-02-02T06:41:10.453Z"
      },
      {
        "duration": 21,
        "start_time": "2023-02-02T06:41:10.460Z"
      },
      {
        "duration": 63,
        "start_time": "2023-02-02T06:41:10.483Z"
      },
      {
        "duration": 5,
        "start_time": "2023-02-02T06:41:10.548Z"
      },
      {
        "duration": 12,
        "start_time": "2023-02-02T06:41:10.555Z"
      },
      {
        "duration": 3,
        "start_time": "2023-02-02T06:41:10.571Z"
      },
      {
        "duration": 47,
        "start_time": "2023-02-02T06:41:10.576Z"
      },
      {
        "duration": 17,
        "start_time": "2023-02-02T06:41:10.625Z"
      },
      {
        "duration": 13,
        "start_time": "2023-02-02T06:41:10.644Z"
      },
      {
        "duration": 13,
        "start_time": "2023-02-02T06:41:10.658Z"
      },
      {
        "duration": 566,
        "start_time": "2023-02-02T06:41:10.673Z"
      },
      {
        "duration": 547,
        "start_time": "2023-02-02T06:41:11.241Z"
      },
      {
        "duration": 21,
        "start_time": "2023-02-02T06:41:11.790Z"
      },
      {
        "duration": 16,
        "start_time": "2023-02-02T06:41:11.821Z"
      },
      {
        "duration": 9,
        "start_time": "2023-02-02T06:41:11.838Z"
      },
      {
        "duration": 16,
        "start_time": "2023-02-02T06:41:11.848Z"
      },
      {
        "duration": 45,
        "start_time": "2023-02-02T06:41:11.866Z"
      },
      {
        "duration": 20,
        "start_time": "2023-02-02T06:41:11.918Z"
      },
      {
        "duration": 8,
        "start_time": "2023-02-02T06:41:11.940Z"
      },
      {
        "duration": 15,
        "start_time": "2023-02-02T06:41:11.949Z"
      },
      {
        "duration": 48,
        "start_time": "2023-02-02T06:41:11.966Z"
      },
      {
        "duration": 10,
        "start_time": "2023-02-02T06:41:12.017Z"
      },
      {
        "duration": 14,
        "start_time": "2023-02-02T06:41:12.029Z"
      },
      {
        "duration": 119,
        "start_time": "2023-02-02T06:41:40.449Z"
      },
      {
        "duration": 1449,
        "start_time": "2023-02-02T06:49:43.277Z"
      },
      {
        "duration": 693,
        "start_time": "2023-02-02T06:49:44.728Z"
      },
      {
        "duration": 18,
        "start_time": "2023-02-02T06:49:45.423Z"
      },
      {
        "duration": 19,
        "start_time": "2023-02-02T06:49:45.444Z"
      },
      {
        "duration": 32,
        "start_time": "2023-02-02T06:49:45.465Z"
      },
      {
        "duration": 318,
        "start_time": "2023-02-02T06:49:45.500Z"
      },
      {
        "duration": 7,
        "start_time": "2023-02-02T06:49:45.821Z"
      },
      {
        "duration": 333,
        "start_time": "2023-02-02T06:49:45.829Z"
      },
      {
        "duration": 6,
        "start_time": "2023-02-02T06:49:46.164Z"
      },
      {
        "duration": 30,
        "start_time": "2023-02-02T06:49:46.173Z"
      },
      {
        "duration": 47,
        "start_time": "2023-02-02T06:49:46.205Z"
      },
      {
        "duration": 6,
        "start_time": "2023-02-02T06:49:46.254Z"
      },
      {
        "duration": 14,
        "start_time": "2023-02-02T06:49:46.263Z"
      },
      {
        "duration": 5,
        "start_time": "2023-02-02T06:49:46.278Z"
      },
      {
        "duration": 15,
        "start_time": "2023-02-02T06:49:46.292Z"
      },
      {
        "duration": 19,
        "start_time": "2023-02-02T06:49:46.309Z"
      },
      {
        "duration": 13,
        "start_time": "2023-02-02T06:49:46.329Z"
      },
      {
        "duration": 13,
        "start_time": "2023-02-02T06:49:46.344Z"
      },
      {
        "duration": 646,
        "start_time": "2023-02-02T06:49:46.359Z"
      },
      {
        "duration": 559,
        "start_time": "2023-02-02T06:49:47.007Z"
      },
      {
        "duration": 12,
        "start_time": "2023-02-02T06:49:47.567Z"
      },
      {
        "duration": 28,
        "start_time": "2023-02-02T06:49:47.580Z"
      },
      {
        "duration": 9,
        "start_time": "2023-02-02T06:49:47.610Z"
      },
      {
        "duration": 6,
        "start_time": "2023-02-02T06:49:47.620Z"
      },
      {
        "duration": 7,
        "start_time": "2023-02-02T06:49:47.627Z"
      },
      {
        "duration": 7,
        "start_time": "2023-02-02T06:49:47.636Z"
      },
      {
        "duration": 18,
        "start_time": "2023-02-02T06:49:47.645Z"
      },
      {
        "duration": 26,
        "start_time": "2023-02-02T06:49:47.666Z"
      },
      {
        "duration": 9,
        "start_time": "2023-02-02T06:49:47.694Z"
      },
      {
        "duration": 30,
        "start_time": "2023-02-02T06:49:47.706Z"
      },
      {
        "duration": 17,
        "start_time": "2023-02-02T06:49:47.738Z"
      },
      {
        "duration": 76,
        "start_time": "2023-02-02T06:54:06.778Z"
      },
      {
        "duration": 3,
        "start_time": "2023-02-02T07:21:49.085Z"
      },
      {
        "duration": 37,
        "start_time": "2023-02-02T07:37:19.379Z"
      },
      {
        "duration": 136,
        "start_time": "2023-02-02T07:38:34.158Z"
      },
      {
        "duration": 5,
        "start_time": "2023-02-02T07:38:43.286Z"
      },
      {
        "duration": 3,
        "start_time": "2023-02-02T07:58:50.487Z"
      },
      {
        "duration": 17420,
        "start_time": "2023-02-02T07:59:44.384Z"
      },
      {
        "duration": 17377,
        "start_time": "2023-02-02T08:00:22.205Z"
      },
      {
        "duration": 5,
        "start_time": "2023-02-02T08:00:41.790Z"
      },
      {
        "duration": 13,
        "start_time": "2023-02-02T08:00:57.853Z"
      },
      {
        "duration": 37,
        "start_time": "2023-02-02T08:15:35.226Z"
      },
      {
        "duration": 4,
        "start_time": "2023-02-02T08:16:14.651Z"
      },
      {
        "duration": 33,
        "start_time": "2023-02-02T08:16:16.812Z"
      },
      {
        "duration": 23,
        "start_time": "2023-02-02T08:20:01.928Z"
      },
      {
        "duration": 21,
        "start_time": "2023-02-02T08:20:31.422Z"
      },
      {
        "duration": 21,
        "start_time": "2023-02-02T08:21:28.089Z"
      },
      {
        "duration": 4,
        "start_time": "2023-02-02T08:29:18.724Z"
      },
      {
        "duration": 12,
        "start_time": "2023-02-02T08:29:23.492Z"
      },
      {
        "duration": 12,
        "start_time": "2023-02-02T08:30:18.516Z"
      },
      {
        "duration": 27,
        "start_time": "2023-02-02T08:30:20.282Z"
      },
      {
        "duration": 14,
        "start_time": "2023-02-02T08:31:31.888Z"
      },
      {
        "duration": 12,
        "start_time": "2023-02-02T08:32:22.734Z"
      },
      {
        "duration": 29,
        "start_time": "2023-02-02T08:32:37.407Z"
      },
      {
        "duration": 334,
        "start_time": "2023-02-02T08:32:58.065Z"
      },
      {
        "duration": 4,
        "start_time": "2023-02-02T08:36:37.921Z"
      },
      {
        "duration": 3,
        "start_time": "2023-02-02T08:37:07.634Z"
      },
      {
        "duration": 570,
        "start_time": "2023-02-02T08:37:44.723Z"
      },
      {
        "duration": 5,
        "start_time": "2023-02-02T08:38:46.483Z"
      },
      {
        "duration": 7,
        "start_time": "2023-02-02T08:38:56.387Z"
      },
      {
        "duration": 4,
        "start_time": "2023-02-02T08:39:03.866Z"
      },
      {
        "duration": 5,
        "start_time": "2023-02-02T08:39:14.976Z"
      },
      {
        "duration": 5,
        "start_time": "2023-02-02T08:45:02.785Z"
      },
      {
        "duration": 466,
        "start_time": "2023-02-02T08:45:06.738Z"
      },
      {
        "duration": 3,
        "start_time": "2023-02-02T08:45:24.792Z"
      },
      {
        "duration": 4,
        "start_time": "2023-02-02T08:46:37.513Z"
      },
      {
        "duration": 594,
        "start_time": "2023-02-02T08:46:43.409Z"
      },
      {
        "duration": 4,
        "start_time": "2023-02-02T08:47:53.842Z"
      },
      {
        "duration": 378,
        "start_time": "2023-02-02T08:47:58.426Z"
      },
      {
        "duration": 83,
        "start_time": "2023-02-02T08:50:01.947Z"
      },
      {
        "duration": 6,
        "start_time": "2023-02-02T08:50:36.148Z"
      },
      {
        "duration": 4,
        "start_time": "2023-02-02T08:50:47.524Z"
      },
      {
        "duration": 1258,
        "start_time": "2023-02-02T08:50:50.043Z"
      },
      {
        "duration": 4,
        "start_time": "2023-02-02T08:51:08.763Z"
      },
      {
        "duration": 5,
        "start_time": "2023-02-02T08:51:12.407Z"
      },
      {
        "duration": 5,
        "start_time": "2023-02-02T08:51:29.052Z"
      },
      {
        "duration": 5,
        "start_time": "2023-02-02T08:51:54.580Z"
      },
      {
        "duration": 5,
        "start_time": "2023-02-02T08:51:56.700Z"
      },
      {
        "duration": 4,
        "start_time": "2023-02-02T08:52:34.974Z"
      },
      {
        "duration": 1181,
        "start_time": "2023-02-02T08:52:39.430Z"
      },
      {
        "duration": 8,
        "start_time": "2023-02-02T08:53:39.918Z"
      },
      {
        "duration": 4,
        "start_time": "2023-02-02T08:53:43.149Z"
      },
      {
        "duration": 4,
        "start_time": "2023-02-02T08:53:50.069Z"
      },
      {
        "duration": 5,
        "start_time": "2023-02-02T08:53:55.030Z"
      },
      {
        "duration": 1466,
        "start_time": "2023-02-02T08:53:57.390Z"
      },
      {
        "duration": 4,
        "start_time": "2023-02-02T08:55:15.608Z"
      },
      {
        "duration": 71,
        "start_time": "2023-02-02T08:55:20.632Z"
      },
      {
        "duration": 396,
        "start_time": "2023-02-02T08:55:29.208Z"
      },
      {
        "duration": 4,
        "start_time": "2023-02-02T08:56:51.729Z"
      },
      {
        "duration": 1222,
        "start_time": "2023-02-02T08:56:54.519Z"
      },
      {
        "duration": 5,
        "start_time": "2023-02-02T08:57:12.449Z"
      },
      {
        "duration": 80,
        "start_time": "2023-02-02T08:57:15.982Z"
      },
      {
        "duration": 304,
        "start_time": "2023-02-02T08:57:22.800Z"
      },
      {
        "duration": 5,
        "start_time": "2023-02-02T08:57:48.914Z"
      },
      {
        "duration": 632,
        "start_time": "2023-02-02T08:57:52.482Z"
      },
      {
        "duration": 10,
        "start_time": "2023-02-02T09:01:40.542Z"
      },
      {
        "duration": 11,
        "start_time": "2023-02-02T09:01:48.828Z"
      },
      {
        "duration": 11,
        "start_time": "2023-02-02T09:02:08.622Z"
      },
      {
        "duration": 9,
        "start_time": "2023-02-02T09:02:27.262Z"
      },
      {
        "duration": 3,
        "start_time": "2023-02-02T09:02:51.535Z"
      },
      {
        "duration": 5,
        "start_time": "2023-02-02T09:05:34.650Z"
      },
      {
        "duration": 10,
        "start_time": "2023-02-02T09:05:55.113Z"
      },
      {
        "duration": 8,
        "start_time": "2023-02-02T09:06:03.881Z"
      },
      {
        "duration": 13,
        "start_time": "2023-02-02T09:06:10.969Z"
      },
      {
        "duration": 10,
        "start_time": "2023-02-02T09:06:18.114Z"
      },
      {
        "duration": 13,
        "start_time": "2023-02-02T09:06:39.146Z"
      },
      {
        "duration": 4,
        "start_time": "2023-02-02T09:08:39.564Z"
      },
      {
        "duration": 832,
        "start_time": "2023-02-02T09:09:25.885Z"
      },
      {
        "duration": 1341,
        "start_time": "2023-02-02T09:10:07.094Z"
      },
      {
        "duration": 14,
        "start_time": "2023-02-02T09:10:15.980Z"
      },
      {
        "duration": 13,
        "start_time": "2023-02-02T09:10:27.398Z"
      },
      {
        "duration": 8,
        "start_time": "2023-02-02T09:11:41.495Z"
      },
      {
        "duration": 1333,
        "start_time": "2023-02-02T09:12:56.464Z"
      },
      {
        "duration": 5,
        "start_time": "2023-02-02T09:13:59.313Z"
      },
      {
        "duration": 6078,
        "start_time": "2023-02-02T09:14:03.816Z"
      },
      {
        "duration": 222374,
        "start_time": "2023-02-02T09:15:41.761Z"
      },
      {
        "duration": 3130,
        "start_time": "2023-02-02T09:22:45.768Z"
      },
      {
        "duration": 3690,
        "start_time": "2023-02-02T09:23:44.402Z"
      },
      {
        "duration": 125,
        "start_time": "2023-02-02T09:24:23.272Z"
      },
      {
        "duration": 3403,
        "start_time": "2023-02-02T09:24:28.393Z"
      },
      {
        "duration": 11251,
        "start_time": "2023-02-02T09:24:58.109Z"
      },
      {
        "duration": 1696,
        "start_time": "2023-02-02T14:18:54.521Z"
      },
      {
        "duration": 3155,
        "start_time": "2023-02-02T14:18:56.219Z"
      },
      {
        "duration": 25,
        "start_time": "2023-02-02T14:18:59.380Z"
      },
      {
        "duration": 19,
        "start_time": "2023-02-02T14:18:59.407Z"
      },
      {
        "duration": 41,
        "start_time": "2023-02-02T14:18:59.428Z"
      },
      {
        "duration": 323,
        "start_time": "2023-02-02T14:18:59.471Z"
      },
      {
        "duration": 7,
        "start_time": "2023-02-02T14:18:59.796Z"
      },
      {
        "duration": 312,
        "start_time": "2023-02-02T14:18:59.805Z"
      },
      {
        "duration": 6,
        "start_time": "2023-02-02T14:19:00.120Z"
      },
      {
        "duration": 38,
        "start_time": "2023-02-02T14:19:00.127Z"
      },
      {
        "duration": 54,
        "start_time": "2023-02-02T14:19:00.167Z"
      },
      {
        "duration": 13,
        "start_time": "2023-02-02T14:19:00.222Z"
      },
      {
        "duration": 56,
        "start_time": "2023-02-02T14:19:00.236Z"
      },
      {
        "duration": 34,
        "start_time": "2023-02-02T14:19:00.294Z"
      },
      {
        "duration": 40,
        "start_time": "2023-02-02T14:19:00.329Z"
      },
      {
        "duration": 56,
        "start_time": "2023-02-02T14:19:00.370Z"
      },
      {
        "duration": 63,
        "start_time": "2023-02-02T14:19:00.427Z"
      },
      {
        "duration": 42,
        "start_time": "2023-02-02T14:19:00.492Z"
      },
      {
        "duration": 628,
        "start_time": "2023-02-02T14:19:00.536Z"
      },
      {
        "duration": 539,
        "start_time": "2023-02-02T14:19:01.166Z"
      },
      {
        "duration": 12,
        "start_time": "2023-02-02T14:19:01.708Z"
      },
      {
        "duration": 55,
        "start_time": "2023-02-02T14:19:01.722Z"
      },
      {
        "duration": 55,
        "start_time": "2023-02-02T14:19:01.779Z"
      },
      {
        "duration": 71,
        "start_time": "2023-02-02T14:19:01.839Z"
      },
      {
        "duration": 162,
        "start_time": "2023-02-02T14:19:01.912Z"
      },
      {
        "duration": 0,
        "start_time": "2023-02-02T14:19:02.082Z"
      },
      {
        "duration": 0,
        "start_time": "2023-02-02T14:19:02.083Z"
      },
      {
        "duration": 0,
        "start_time": "2023-02-02T14:19:02.085Z"
      },
      {
        "duration": 1,
        "start_time": "2023-02-02T14:19:02.086Z"
      },
      {
        "duration": 0,
        "start_time": "2023-02-02T14:19:02.088Z"
      },
      {
        "duration": 1,
        "start_time": "2023-02-02T14:19:02.090Z"
      },
      {
        "duration": 0,
        "start_time": "2023-02-02T14:19:02.092Z"
      },
      {
        "duration": 0,
        "start_time": "2023-02-02T14:19:02.094Z"
      },
      {
        "duration": 0,
        "start_time": "2023-02-02T14:19:02.095Z"
      },
      {
        "duration": 0,
        "start_time": "2023-02-02T14:19:02.096Z"
      },
      {
        "duration": 0,
        "start_time": "2023-02-02T14:19:02.098Z"
      },
      {
        "duration": 4,
        "start_time": "2023-02-02T14:21:49.380Z"
      },
      {
        "duration": 3,
        "start_time": "2023-02-02T14:21:50.540Z"
      },
      {
        "duration": 7,
        "start_time": "2023-02-02T14:21:51.669Z"
      },
      {
        "duration": 10,
        "start_time": "2023-02-02T14:21:51.861Z"
      },
      {
        "duration": 3,
        "start_time": "2023-02-02T14:21:52.189Z"
      },
      {
        "duration": 4,
        "start_time": "2023-02-02T14:21:52.692Z"
      },
      {
        "duration": 6,
        "start_time": "2023-02-02T14:21:52.853Z"
      },
      {
        "duration": 30,
        "start_time": "2023-02-02T14:21:53.005Z"
      },
      {
        "duration": 4,
        "start_time": "2023-02-02T14:22:16.287Z"
      },
      {
        "duration": 5,
        "start_time": "2023-02-02T14:22:16.757Z"
      },
      {
        "duration": 25,
        "start_time": "2023-02-02T14:22:17.574Z"
      },
      {
        "duration": 1436,
        "start_time": "2023-02-02T14:22:35.910Z"
      },
      {
        "duration": 692,
        "start_time": "2023-02-02T14:22:37.348Z"
      },
      {
        "duration": 19,
        "start_time": "2023-02-02T14:22:38.041Z"
      },
      {
        "duration": 23,
        "start_time": "2023-02-02T14:22:38.062Z"
      },
      {
        "duration": 20,
        "start_time": "2023-02-02T14:22:38.087Z"
      },
      {
        "duration": 292,
        "start_time": "2023-02-02T14:22:38.108Z"
      },
      {
        "duration": 7,
        "start_time": "2023-02-02T14:22:38.401Z"
      },
      {
        "duration": 263,
        "start_time": "2023-02-02T14:22:38.409Z"
      },
      {
        "duration": 8,
        "start_time": "2023-02-02T14:22:38.674Z"
      },
      {
        "duration": 6,
        "start_time": "2023-02-02T14:22:38.684Z"
      },
      {
        "duration": 36,
        "start_time": "2023-02-02T14:22:38.692Z"
      },
      {
        "duration": 5,
        "start_time": "2023-02-02T14:22:38.730Z"
      },
      {
        "duration": 44,
        "start_time": "2023-02-02T14:22:38.738Z"
      },
      {
        "duration": 5,
        "start_time": "2023-02-02T14:22:38.784Z"
      },
      {
        "duration": 17,
        "start_time": "2023-02-02T14:22:38.790Z"
      },
      {
        "duration": 16,
        "start_time": "2023-02-02T14:22:38.808Z"
      },
      {
        "duration": 15,
        "start_time": "2023-02-02T14:22:38.825Z"
      },
      {
        "duration": 41,
        "start_time": "2023-02-02T14:22:38.842Z"
      },
      {
        "duration": 560,
        "start_time": "2023-02-02T14:22:38.885Z"
      },
      {
        "duration": 500,
        "start_time": "2023-02-02T14:22:39.448Z"
      },
      {
        "duration": 14,
        "start_time": "2023-02-02T14:22:39.950Z"
      },
      {
        "duration": 25,
        "start_time": "2023-02-02T14:22:39.965Z"
      },
      {
        "duration": 5,
        "start_time": "2023-02-02T14:22:39.992Z"
      },
      {
        "duration": 10,
        "start_time": "2023-02-02T14:22:39.999Z"
      },
      {
        "duration": 10,
        "start_time": "2023-02-02T14:22:40.010Z"
      },
      {
        "duration": 9,
        "start_time": "2023-02-02T14:22:40.021Z"
      },
      {
        "duration": 26,
        "start_time": "2023-02-02T14:22:40.032Z"
      },
      {
        "duration": 9,
        "start_time": "2023-02-02T14:22:40.061Z"
      },
      {
        "duration": 10,
        "start_time": "2023-02-02T14:22:40.072Z"
      },
      {
        "duration": 11,
        "start_time": "2023-02-02T14:22:40.083Z"
      },
      {
        "duration": 14,
        "start_time": "2023-02-02T14:22:40.096Z"
      },
      {
        "duration": 124,
        "start_time": "2023-02-02T14:22:40.112Z"
      },
      {
        "duration": 0,
        "start_time": "2023-02-02T14:22:40.238Z"
      },
      {
        "duration": 0,
        "start_time": "2023-02-02T14:22:40.240Z"
      },
      {
        "duration": 0,
        "start_time": "2023-02-02T14:22:40.241Z"
      },
      {
        "duration": 6,
        "start_time": "2023-02-02T14:26:12.635Z"
      },
      {
        "duration": 11210,
        "start_time": "2023-02-02T14:26:14.380Z"
      },
      {
        "duration": 9,
        "start_time": "2023-02-02T14:29:16.168Z"
      },
      {
        "duration": 6,
        "start_time": "2023-02-02T14:29:34.353Z"
      },
      {
        "duration": 5,
        "start_time": "2023-02-02T14:29:48.601Z"
      },
      {
        "duration": 4,
        "start_time": "2023-02-02T14:30:08.512Z"
      },
      {
        "duration": 4,
        "start_time": "2023-02-02T14:30:17.608Z"
      },
      {
        "duration": 9005,
        "start_time": "2023-02-02T14:30:33.986Z"
      },
      {
        "duration": 6,
        "start_time": "2023-02-02T14:31:03.815Z"
      },
      {
        "duration": 24,
        "start_time": "2023-02-02T14:32:54.144Z"
      },
      {
        "duration": 9188,
        "start_time": "2023-02-02T14:33:25.519Z"
      },
      {
        "duration": 12958,
        "start_time": "2023-02-02T14:34:25.821Z"
      },
      {
        "duration": 3,
        "start_time": "2023-02-02T14:35:06.221Z"
      },
      {
        "duration": 4,
        "start_time": "2023-02-02T14:35:09.805Z"
      },
      {
        "duration": 4,
        "start_time": "2023-02-02T14:35:38.268Z"
      },
      {
        "duration": 3939,
        "start_time": "2023-02-02T14:37:26.844Z"
      },
      {
        "duration": 3798,
        "start_time": "2023-02-02T14:38:02.892Z"
      },
      {
        "duration": 3299,
        "start_time": "2023-02-02T14:38:42.083Z"
      },
      {
        "duration": 6,
        "start_time": "2023-02-02T14:41:41.362Z"
      },
      {
        "duration": 2929,
        "start_time": "2023-02-02T14:41:55.555Z"
      },
      {
        "duration": 10,
        "start_time": "2023-02-02T14:43:00.178Z"
      },
      {
        "duration": 11,
        "start_time": "2023-02-02T14:43:05.707Z"
      },
      {
        "duration": 8707,
        "start_time": "2023-02-02T14:43:28.044Z"
      },
      {
        "duration": 8,
        "start_time": "2023-02-02T14:43:43.722Z"
      },
      {
        "duration": 6,
        "start_time": "2023-02-02T14:46:27.785Z"
      },
      {
        "duration": 6,
        "start_time": "2023-02-02T14:46:37.817Z"
      },
      {
        "duration": 6,
        "start_time": "2023-02-02T14:46:53.264Z"
      },
      {
        "duration": 5,
        "start_time": "2023-02-02T14:47:05.600Z"
      },
      {
        "duration": 1557,
        "start_time": "2023-02-03T04:41:37.999Z"
      },
      {
        "duration": 1909,
        "start_time": "2023-02-03T04:41:39.558Z"
      },
      {
        "duration": 19,
        "start_time": "2023-02-03T04:41:41.468Z"
      },
      {
        "duration": 13,
        "start_time": "2023-02-03T04:41:41.489Z"
      },
      {
        "duration": 18,
        "start_time": "2023-02-03T04:41:41.504Z"
      },
      {
        "duration": 252,
        "start_time": "2023-02-03T04:41:41.524Z"
      },
      {
        "duration": 6,
        "start_time": "2023-02-03T04:41:41.777Z"
      },
      {
        "duration": 236,
        "start_time": "2023-02-03T04:41:41.785Z"
      },
      {
        "duration": 5,
        "start_time": "2023-02-03T04:41:42.023Z"
      },
      {
        "duration": 7,
        "start_time": "2023-02-03T04:41:42.030Z"
      },
      {
        "duration": 35,
        "start_time": "2023-02-03T04:41:42.038Z"
      },
      {
        "duration": 4,
        "start_time": "2023-02-03T04:41:42.074Z"
      },
      {
        "duration": 10,
        "start_time": "2023-02-03T04:41:42.099Z"
      },
      {
        "duration": 4,
        "start_time": "2023-02-03T04:41:42.111Z"
      },
      {
        "duration": 12,
        "start_time": "2023-02-03T04:41:42.117Z"
      },
      {
        "duration": 15,
        "start_time": "2023-02-03T04:41:42.131Z"
      },
      {
        "duration": 15,
        "start_time": "2023-02-03T04:41:42.147Z"
      },
      {
        "duration": 47,
        "start_time": "2023-02-03T04:41:42.164Z"
      },
      {
        "duration": 502,
        "start_time": "2023-02-03T04:41:42.212Z"
      },
      {
        "duration": 487,
        "start_time": "2023-02-03T04:41:42.716Z"
      },
      {
        "duration": 12,
        "start_time": "2023-02-03T04:41:43.205Z"
      },
      {
        "duration": 10,
        "start_time": "2023-02-03T04:41:43.219Z"
      },
      {
        "duration": 6,
        "start_time": "2023-02-03T04:41:43.231Z"
      },
      {
        "duration": 5,
        "start_time": "2023-02-03T04:41:43.239Z"
      },
      {
        "duration": 13,
        "start_time": "2023-02-03T04:41:43.245Z"
      },
      {
        "duration": 7,
        "start_time": "2023-02-03T04:41:43.260Z"
      },
      {
        "duration": 16,
        "start_time": "2023-02-03T04:41:43.269Z"
      },
      {
        "duration": 10,
        "start_time": "2023-02-03T04:41:43.301Z"
      },
      {
        "duration": 4,
        "start_time": "2023-02-03T04:41:43.313Z"
      },
      {
        "duration": 5,
        "start_time": "2023-02-03T04:41:43.319Z"
      },
      {
        "duration": 12,
        "start_time": "2023-02-03T04:41:43.325Z"
      },
      {
        "duration": 7740,
        "start_time": "2023-02-03T04:41:43.338Z"
      },
      {
        "duration": 6,
        "start_time": "2023-02-03T04:41:51.080Z"
      },
      {
        "duration": 13,
        "start_time": "2023-02-03T04:41:51.088Z"
      },
      {
        "duration": 8,
        "start_time": "2023-02-03T04:41:51.102Z"
      },
      {
        "duration": 6,
        "start_time": "2023-02-03T04:41:51.111Z"
      },
      {
        "duration": 9,
        "start_time": "2023-02-03T04:41:51.118Z"
      },
      {
        "duration": 26,
        "start_time": "2023-02-03T04:59:44.197Z"
      },
      {
        "duration": 5,
        "start_time": "2023-02-03T04:59:56.275Z"
      },
      {
        "duration": 6,
        "start_time": "2023-02-03T05:01:43.566Z"
      },
      {
        "duration": 7,
        "start_time": "2023-02-03T05:02:22.806Z"
      },
      {
        "duration": 7977,
        "start_time": "2023-02-03T05:03:13.448Z"
      },
      {
        "duration": 7200,
        "start_time": "2023-02-03T05:05:01.721Z"
      },
      {
        "duration": 6,
        "start_time": "2023-02-03T05:07:10.330Z"
      },
      {
        "duration": 7,
        "start_time": "2023-02-03T05:09:21.596Z"
      },
      {
        "duration": 7002,
        "start_time": "2023-02-03T05:10:05.074Z"
      },
      {
        "duration": 4,
        "start_time": "2023-02-03T05:13:34.839Z"
      },
      {
        "duration": 116,
        "start_time": "2023-02-03T05:16:58.474Z"
      },
      {
        "duration": 4,
        "start_time": "2023-02-03T05:18:10.874Z"
      },
      {
        "duration": 11,
        "start_time": "2023-02-03T05:18:13.123Z"
      },
      {
        "duration": 3,
        "start_time": "2023-02-03T05:18:29.748Z"
      },
      {
        "duration": 10,
        "start_time": "2023-02-03T05:18:31.874Z"
      },
      {
        "duration": 3,
        "start_time": "2023-02-03T05:18:39.843Z"
      },
      {
        "duration": 5,
        "start_time": "2023-02-03T05:28:51.960Z"
      },
      {
        "duration": 58,
        "start_time": "2023-02-03T05:32:55.660Z"
      },
      {
        "duration": 4,
        "start_time": "2023-02-03T05:33:08.230Z"
      },
      {
        "duration": 5,
        "start_time": "2023-02-03T05:33:11.615Z"
      },
      {
        "duration": 6,
        "start_time": "2023-02-03T05:34:53.421Z"
      },
      {
        "duration": 5,
        "start_time": "2023-02-03T05:35:17.335Z"
      },
      {
        "duration": 5,
        "start_time": "2023-02-03T05:37:20.234Z"
      },
      {
        "duration": 4,
        "start_time": "2023-02-03T05:39:12.264Z"
      },
      {
        "duration": 7,
        "start_time": "2023-02-03T05:39:14.394Z"
      },
      {
        "duration": 5,
        "start_time": "2023-02-03T05:40:11.563Z"
      },
      {
        "duration": 5,
        "start_time": "2023-02-03T05:40:13.716Z"
      },
      {
        "duration": 6,
        "start_time": "2023-02-03T05:40:15.771Z"
      },
      {
        "duration": 837,
        "start_time": "2023-02-03T05:41:22.748Z"
      },
      {
        "duration": 6,
        "start_time": "2023-02-03T05:42:05.534Z"
      },
      {
        "duration": 8,
        "start_time": "2023-02-03T05:43:16.050Z"
      },
      {
        "duration": 7,
        "start_time": "2023-02-03T05:43:28.582Z"
      },
      {
        "duration": 8,
        "start_time": "2023-02-03T05:44:24.152Z"
      },
      {
        "duration": 8,
        "start_time": "2023-02-03T05:45:32.211Z"
      },
      {
        "duration": 10,
        "start_time": "2023-02-03T05:45:49.488Z"
      },
      {
        "duration": 10,
        "start_time": "2023-02-03T05:46:40.482Z"
      },
      {
        "duration": 5,
        "start_time": "2023-02-03T05:47:59.753Z"
      },
      {
        "duration": 15,
        "start_time": "2023-02-03T05:49:00.499Z"
      },
      {
        "duration": 19,
        "start_time": "2023-02-03T05:53:38.694Z"
      },
      {
        "duration": 17,
        "start_time": "2023-02-03T05:53:55.894Z"
      },
      {
        "duration": 9,
        "start_time": "2023-02-03T05:54:23.845Z"
      },
      {
        "duration": 11,
        "start_time": "2023-02-03T05:54:59.808Z"
      },
      {
        "duration": 10,
        "start_time": "2023-02-03T05:55:31.984Z"
      },
      {
        "duration": 12,
        "start_time": "2023-02-03T05:56:55.530Z"
      },
      {
        "duration": 12,
        "start_time": "2023-02-03T05:58:30.420Z"
      },
      {
        "duration": 5,
        "start_time": "2023-02-03T05:59:09.814Z"
      },
      {
        "duration": 5,
        "start_time": "2023-02-03T05:59:34.358Z"
      },
      {
        "duration": 6,
        "start_time": "2023-02-03T05:59:38.450Z"
      },
      {
        "duration": 8,
        "start_time": "2023-02-03T06:00:22.197Z"
      },
      {
        "duration": 5,
        "start_time": "2023-02-03T06:00:24.923Z"
      },
      {
        "duration": 13,
        "start_time": "2023-02-03T06:00:57.018Z"
      },
      {
        "duration": 22,
        "start_time": "2023-02-03T06:05:17.200Z"
      },
      {
        "duration": 17,
        "start_time": "2023-02-03T06:05:45.128Z"
      },
      {
        "duration": 13,
        "start_time": "2023-02-03T06:06:03.710Z"
      },
      {
        "duration": 17,
        "start_time": "2023-02-03T06:06:44.969Z"
      },
      {
        "duration": 5,
        "start_time": "2023-02-03T06:07:24.849Z"
      },
      {
        "duration": 12,
        "start_time": "2023-02-03T06:16:00.055Z"
      },
      {
        "duration": 1432,
        "start_time": "2023-02-03T06:19:25.510Z"
      },
      {
        "duration": 740,
        "start_time": "2023-02-03T06:19:26.944Z"
      },
      {
        "duration": 25,
        "start_time": "2023-02-03T06:19:27.685Z"
      },
      {
        "duration": 13,
        "start_time": "2023-02-03T06:19:27.712Z"
      },
      {
        "duration": 23,
        "start_time": "2023-02-03T06:19:27.727Z"
      },
      {
        "duration": 264,
        "start_time": "2023-02-03T06:19:27.751Z"
      },
      {
        "duration": 6,
        "start_time": "2023-02-03T06:19:28.017Z"
      },
      {
        "duration": 241,
        "start_time": "2023-02-03T06:19:28.024Z"
      },
      {
        "duration": 4,
        "start_time": "2023-02-03T06:19:28.267Z"
      },
      {
        "duration": 7,
        "start_time": "2023-02-03T06:19:28.273Z"
      },
      {
        "duration": 52,
        "start_time": "2023-02-03T06:19:28.282Z"
      },
      {
        "duration": 4,
        "start_time": "2023-02-03T06:19:28.336Z"
      },
      {
        "duration": 9,
        "start_time": "2023-02-03T06:19:28.341Z"
      },
      {
        "duration": 3,
        "start_time": "2023-02-03T06:19:28.448Z"
      },
      {
        "duration": 11,
        "start_time": "2023-02-03T06:19:28.453Z"
      },
      {
        "duration": 8,
        "start_time": "2023-02-03T06:19:28.465Z"
      },
      {
        "duration": 7,
        "start_time": "2023-02-03T06:19:28.475Z"
      },
      {
        "duration": 5,
        "start_time": "2023-02-03T06:19:28.484Z"
      },
      {
        "duration": 8,
        "start_time": "2023-02-03T06:19:28.509Z"
      },
      {
        "duration": 21,
        "start_time": "2023-02-03T06:19:28.519Z"
      },
      {
        "duration": 25,
        "start_time": "2023-02-03T06:19:28.542Z"
      },
      {
        "duration": 16,
        "start_time": "2023-02-03T06:19:28.569Z"
      },
      {
        "duration": 473,
        "start_time": "2023-02-03T06:19:28.587Z"
      },
      {
        "duration": 463,
        "start_time": "2023-02-03T06:19:29.062Z"
      },
      {
        "duration": 11,
        "start_time": "2023-02-03T06:19:29.527Z"
      },
      {
        "duration": 11,
        "start_time": "2023-02-03T06:19:29.540Z"
      },
      {
        "duration": 5,
        "start_time": "2023-02-03T06:19:29.553Z"
      },
      {
        "duration": 7,
        "start_time": "2023-02-03T06:19:29.560Z"
      },
      {
        "duration": 4,
        "start_time": "2023-02-03T06:19:29.569Z"
      },
      {
        "duration": 8,
        "start_time": "2023-02-03T06:19:29.605Z"
      },
      {
        "duration": 7,
        "start_time": "2023-02-03T06:19:29.615Z"
      },
      {
        "duration": 10,
        "start_time": "2023-02-03T06:19:29.623Z"
      },
      {
        "duration": 14,
        "start_time": "2023-02-03T06:19:29.635Z"
      },
      {
        "duration": 7,
        "start_time": "2023-02-03T06:19:29.650Z"
      },
      {
        "duration": 7,
        "start_time": "2023-02-03T06:19:29.659Z"
      },
      {
        "duration": 5,
        "start_time": "2023-02-03T06:19:29.668Z"
      },
      {
        "duration": 8,
        "start_time": "2023-02-03T06:19:29.675Z"
      },
      {
        "duration": 141,
        "start_time": "2023-02-03T06:19:29.705Z"
      },
      {
        "duration": 0,
        "start_time": "2023-02-03T06:19:29.848Z"
      },
      {
        "duration": 0,
        "start_time": "2023-02-03T06:19:29.849Z"
      },
      {
        "duration": 0,
        "start_time": "2023-02-03T06:19:29.851Z"
      },
      {
        "duration": 0,
        "start_time": "2023-02-03T06:19:29.852Z"
      },
      {
        "duration": 0,
        "start_time": "2023-02-03T06:19:29.854Z"
      },
      {
        "duration": 1325,
        "start_time": "2023-02-03T06:21:44.921Z"
      },
      {
        "duration": 701,
        "start_time": "2023-02-03T06:21:46.248Z"
      },
      {
        "duration": 21,
        "start_time": "2023-02-03T06:21:46.951Z"
      },
      {
        "duration": 12,
        "start_time": "2023-02-03T06:21:46.974Z"
      },
      {
        "duration": 37,
        "start_time": "2023-02-03T06:21:46.987Z"
      },
      {
        "duration": 300,
        "start_time": "2023-02-03T06:21:47.026Z"
      },
      {
        "duration": 6,
        "start_time": "2023-02-03T06:21:47.328Z"
      },
      {
        "duration": 270,
        "start_time": "2023-02-03T06:21:47.336Z"
      },
      {
        "duration": 9,
        "start_time": "2023-02-03T06:21:47.613Z"
      },
      {
        "duration": 8,
        "start_time": "2023-02-03T06:21:47.625Z"
      },
      {
        "duration": 36,
        "start_time": "2023-02-03T06:21:47.635Z"
      },
      {
        "duration": 4,
        "start_time": "2023-02-03T06:21:47.673Z"
      },
      {
        "duration": 37,
        "start_time": "2023-02-03T06:21:47.678Z"
      },
      {
        "duration": 7,
        "start_time": "2023-02-03T06:21:47.717Z"
      },
      {
        "duration": 12,
        "start_time": "2023-02-03T06:21:47.726Z"
      },
      {
        "duration": 6,
        "start_time": "2023-02-03T06:21:47.740Z"
      },
      {
        "duration": 14,
        "start_time": "2023-02-03T06:21:47.747Z"
      },
      {
        "duration": 30,
        "start_time": "2023-02-03T06:21:47.763Z"
      },
      {
        "duration": 7,
        "start_time": "2023-02-03T06:21:47.795Z"
      },
      {
        "duration": 39,
        "start_time": "2023-02-03T06:21:47.803Z"
      },
      {
        "duration": 16,
        "start_time": "2023-02-03T06:21:47.844Z"
      },
      {
        "duration": 15,
        "start_time": "2023-02-03T06:21:47.861Z"
      },
      {
        "duration": 538,
        "start_time": "2023-02-03T06:21:47.877Z"
      },
      {
        "duration": 500,
        "start_time": "2023-02-03T06:21:48.417Z"
      },
      {
        "duration": 13,
        "start_time": "2023-02-03T06:21:48.919Z"
      },
      {
        "duration": 13,
        "start_time": "2023-02-03T06:21:48.934Z"
      },
      {
        "duration": 6,
        "start_time": "2023-02-03T06:21:48.949Z"
      },
      {
        "duration": 10,
        "start_time": "2023-02-03T06:21:48.959Z"
      },
      {
        "duration": 31,
        "start_time": "2023-02-03T06:21:48.971Z"
      },
      {
        "duration": 20,
        "start_time": "2023-02-03T06:21:49.004Z"
      },
      {
        "duration": 9,
        "start_time": "2023-02-03T06:21:49.025Z"
      },
      {
        "duration": 12,
        "start_time": "2023-02-03T06:21:49.036Z"
      },
      {
        "duration": 10,
        "start_time": "2023-02-03T06:21:49.049Z"
      },
      {
        "duration": 7,
        "start_time": "2023-02-03T06:21:49.061Z"
      },
      {
        "duration": 6,
        "start_time": "2023-02-03T06:21:49.069Z"
      },
      {
        "duration": 5,
        "start_time": "2023-02-03T06:21:49.076Z"
      },
      {
        "duration": 9,
        "start_time": "2023-02-03T06:21:49.083Z"
      },
      {
        "duration": 8338,
        "start_time": "2023-02-03T06:21:49.094Z"
      },
      {
        "duration": 6,
        "start_time": "2023-02-03T06:21:57.433Z"
      },
      {
        "duration": 10,
        "start_time": "2023-02-03T06:21:57.441Z"
      },
      {
        "duration": 14,
        "start_time": "2023-02-03T06:21:57.453Z"
      },
      {
        "duration": 11,
        "start_time": "2023-02-03T06:21:57.469Z"
      },
      {
        "duration": 14,
        "start_time": "2023-02-03T06:21:57.481Z"
      },
      {
        "duration": 3767,
        "start_time": "2023-02-03T06:23:10.461Z"
      },
      {
        "duration": 176549,
        "start_time": "2023-02-03T06:24:16.617Z"
      },
      {
        "duration": 8528,
        "start_time": "2023-02-03T06:28:14.225Z"
      },
      {
        "duration": 3572,
        "start_time": "2023-02-03T06:30:50.546Z"
      },
      {
        "duration": 4051,
        "start_time": "2023-02-03T06:33:12.960Z"
      },
      {
        "duration": 25,
        "start_time": "2023-02-03T07:09:40.120Z"
      },
      {
        "duration": 17,
        "start_time": "2023-02-03T07:13:34.588Z"
      },
      {
        "duration": 13,
        "start_time": "2023-02-03T07:16:18.113Z"
      },
      {
        "duration": 12,
        "start_time": "2023-02-03T07:17:29.670Z"
      },
      {
        "duration": 14,
        "start_time": "2023-02-03T07:18:23.167Z"
      },
      {
        "duration": 13,
        "start_time": "2023-02-03T07:19:20.359Z"
      },
      {
        "duration": 5,
        "start_time": "2023-02-03T07:28:47.678Z"
      },
      {
        "duration": 6,
        "start_time": "2023-02-03T07:28:49.791Z"
      },
      {
        "duration": 9,
        "start_time": "2023-02-03T07:29:11.807Z"
      },
      {
        "duration": 5,
        "start_time": "2023-02-03T07:29:13.735Z"
      },
      {
        "duration": 4,
        "start_time": "2023-02-03T07:29:18.262Z"
      },
      {
        "duration": 2768,
        "start_time": "2023-02-03T07:29:32.233Z"
      },
      {
        "duration": 2939,
        "start_time": "2023-02-03T07:31:40.065Z"
      },
      {
        "duration": 7228,
        "start_time": "2023-02-03T07:33:16.899Z"
      },
      {
        "duration": 4,
        "start_time": "2023-02-03T07:34:53.435Z"
      },
      {
        "duration": 15344,
        "start_time": "2023-02-03T07:35:03.667Z"
      },
      {
        "duration": 264,
        "start_time": "2023-02-03T07:37:15.141Z"
      },
      {
        "duration": 1160,
        "start_time": "2023-02-03T07:40:47.320Z"
      },
      {
        "duration": 1139,
        "start_time": "2023-02-03T07:41:09.807Z"
      },
      {
        "duration": 137,
        "start_time": "2023-02-03T07:41:14.864Z"
      },
      {
        "duration": 52,
        "start_time": "2023-02-03T07:44:20.298Z"
      },
      {
        "duration": 10037,
        "start_time": "2023-02-03T07:44:46.587Z"
      },
      {
        "duration": 10094,
        "start_time": "2023-02-03T07:48:26.549Z"
      },
      {
        "duration": 10700,
        "start_time": "2023-02-03T07:49:12.686Z"
      },
      {
        "duration": 10533,
        "start_time": "2023-02-03T07:49:32.638Z"
      },
      {
        "duration": 3,
        "start_time": "2023-02-03T07:53:18.529Z"
      },
      {
        "duration": 23244,
        "start_time": "2023-02-03T07:53:28.929Z"
      },
      {
        "duration": 3,
        "start_time": "2023-02-03T07:55:19.770Z"
      },
      {
        "duration": 2827,
        "start_time": "2023-02-03T08:22:32.674Z"
      },
      {
        "duration": 2866,
        "start_time": "2023-02-03T08:23:21.328Z"
      },
      {
        "duration": 5,
        "start_time": "2023-02-03T08:27:11.523Z"
      },
      {
        "duration": 191,
        "start_time": "2023-02-03T08:27:28.715Z"
      },
      {
        "duration": 3,
        "start_time": "2023-02-03T08:27:47.283Z"
      },
      {
        "duration": 4,
        "start_time": "2023-02-03T08:28:02.026Z"
      },
      {
        "duration": 11,
        "start_time": "2023-02-03T08:28:56.980Z"
      },
      {
        "duration": 5,
        "start_time": "2023-02-03T08:29:30.140Z"
      },
      {
        "duration": 12,
        "start_time": "2023-02-03T08:29:36.468Z"
      },
      {
        "duration": 659,
        "start_time": "2023-02-03T08:30:24.381Z"
      },
      {
        "duration": 13,
        "start_time": "2023-02-03T08:30:35.645Z"
      },
      {
        "duration": 12,
        "start_time": "2023-02-03T08:30:41.950Z"
      },
      {
        "duration": 9,
        "start_time": "2023-02-03T08:31:17.445Z"
      },
      {
        "duration": 9,
        "start_time": "2023-02-03T08:31:19.134Z"
      },
      {
        "duration": 18,
        "start_time": "2023-02-03T08:31:26.031Z"
      },
      {
        "duration": 12,
        "start_time": "2023-02-03T08:31:28.941Z"
      },
      {
        "duration": 655,
        "start_time": "2023-02-03T08:32:11.694Z"
      },
      {
        "duration": 17,
        "start_time": "2023-02-03T08:32:12.470Z"
      },
      {
        "duration": 14,
        "start_time": "2023-02-03T08:32:12.805Z"
      },
      {
        "duration": 23,
        "start_time": "2023-02-03T08:32:13.183Z"
      },
      {
        "duration": 261,
        "start_time": "2023-02-03T08:32:14.422Z"
      },
      {
        "duration": 6,
        "start_time": "2023-02-03T08:32:15.334Z"
      },
      {
        "duration": 370,
        "start_time": "2023-02-03T08:32:15.646Z"
      },
      {
        "duration": 5,
        "start_time": "2023-02-03T08:32:17.437Z"
      },
      {
        "duration": 4,
        "start_time": "2023-02-03T08:32:21.518Z"
      },
      {
        "duration": 22,
        "start_time": "2023-02-03T08:32:26.806Z"
      },
      {
        "duration": 4,
        "start_time": "2023-02-03T08:32:28.670Z"
      },
      {
        "duration": 10,
        "start_time": "2023-02-03T08:32:28.894Z"
      },
      {
        "duration": 8,
        "start_time": "2023-02-03T08:32:29.078Z"
      },
      {
        "duration": 5,
        "start_time": "2023-02-03T08:32:31.294Z"
      },
      {
        "duration": 5,
        "start_time": "2023-02-03T08:32:31.477Z"
      },
      {
        "duration": 8,
        "start_time": "2023-02-03T08:32:31.646Z"
      },
      {
        "duration": 3,
        "start_time": "2023-02-03T08:32:31.816Z"
      },
      {
        "duration": 14,
        "start_time": "2023-02-03T08:32:34.670Z"
      },
      {
        "duration": 15,
        "start_time": "2023-02-03T08:32:34.822Z"
      },
      {
        "duration": 17,
        "start_time": "2023-02-03T08:32:34.959Z"
      },
      {
        "duration": 424,
        "start_time": "2023-02-03T08:32:35.390Z"
      },
      {
        "duration": 460,
        "start_time": "2023-02-03T08:32:35.817Z"
      },
      {
        "duration": 21,
        "start_time": "2023-02-03T08:32:36.278Z"
      },
      {
        "duration": 13,
        "start_time": "2023-02-03T08:32:36.301Z"
      },
      {
        "duration": 7,
        "start_time": "2023-02-03T08:32:36.316Z"
      },
      {
        "duration": 14,
        "start_time": "2023-02-03T08:32:38.910Z"
      },
      {
        "duration": 17,
        "start_time": "2023-02-03T08:32:41.254Z"
      },
      {
        "duration": 13,
        "start_time": "2023-02-03T08:32:42.190Z"
      },
      {
        "duration": 14,
        "start_time": "2023-02-03T08:32:42.389Z"
      },
      {
        "duration": 6,
        "start_time": "2023-02-03T08:33:11.288Z"
      },
      {
        "duration": 9,
        "start_time": "2023-02-03T08:33:13.135Z"
      },
      {
        "duration": 12,
        "start_time": "2023-02-03T08:33:26.494Z"
      },
      {
        "duration": 12,
        "start_time": "2023-02-03T08:38:19.627Z"
      },
      {
        "duration": 14,
        "start_time": "2023-02-03T08:38:59.300Z"
      },
      {
        "duration": 130,
        "start_time": "2023-02-03T08:39:23.380Z"
      },
      {
        "duration": 176,
        "start_time": "2023-02-03T08:43:52.728Z"
      },
      {
        "duration": 38,
        "start_time": "2023-02-03T08:49:47.076Z"
      },
      {
        "duration": 2556,
        "start_time": "2023-02-03T08:54:28.392Z"
      },
      {
        "duration": 606,
        "start_time": "2023-02-03T09:02:26.429Z"
      },
      {
        "duration": 19,
        "start_time": "2023-02-03T09:02:39.534Z"
      },
      {
        "duration": 5,
        "start_time": "2023-02-03T09:02:52.342Z"
      },
      {
        "duration": 642,
        "start_time": "2023-02-03T09:10:59.045Z"
      },
      {
        "duration": 682,
        "start_time": "2023-02-03T09:11:32.429Z"
      },
      {
        "duration": 6,
        "start_time": "2023-02-03T09:13:26.654Z"
      },
      {
        "duration": 6,
        "start_time": "2023-02-03T09:13:37.288Z"
      },
      {
        "duration": 5,
        "start_time": "2023-02-03T09:13:54.400Z"
      },
      {
        "duration": 5,
        "start_time": "2023-02-03T09:21:10.605Z"
      },
      {
        "duration": 6,
        "start_time": "2023-02-03T09:21:17.468Z"
      },
      {
        "duration": 16,
        "start_time": "2023-02-03T09:36:53.889Z"
      },
      {
        "duration": 3,
        "start_time": "2023-02-03T09:38:03.338Z"
      },
      {
        "duration": 13,
        "start_time": "2023-02-03T09:38:08.450Z"
      },
      {
        "duration": 3,
        "start_time": "2023-02-03T09:38:16.835Z"
      },
      {
        "duration": 35,
        "start_time": "2023-02-03T09:38:47.491Z"
      },
      {
        "duration": 37,
        "start_time": "2023-02-03T09:38:55.045Z"
      },
      {
        "duration": 18,
        "start_time": "2023-02-03T09:39:04.796Z"
      },
      {
        "duration": 5,
        "start_time": "2023-02-03T09:39:44.420Z"
      },
      {
        "duration": 14,
        "start_time": "2023-02-03T09:40:14.628Z"
      },
      {
        "duration": 12,
        "start_time": "2023-02-03T09:45:16.288Z"
      },
      {
        "duration": 4,
        "start_time": "2023-02-03T09:46:47.876Z"
      },
      {
        "duration": 9,
        "start_time": "2023-02-03T09:46:53.914Z"
      },
      {
        "duration": 4,
        "start_time": "2023-02-03T09:46:56.057Z"
      },
      {
        "duration": 1283,
        "start_time": "2023-02-03T09:52:58.632Z"
      },
      {
        "duration": 685,
        "start_time": "2023-02-03T09:52:59.917Z"
      },
      {
        "duration": 43,
        "start_time": "2023-02-03T09:53:00.604Z"
      },
      {
        "duration": 276,
        "start_time": "2023-02-03T09:53:00.649Z"
      },
      {
        "duration": 7,
        "start_time": "2023-02-03T09:53:00.927Z"
      },
      {
        "duration": 308,
        "start_time": "2023-02-03T09:53:00.935Z"
      },
      {
        "duration": 7,
        "start_time": "2023-02-03T09:53:01.244Z"
      },
      {
        "duration": 48,
        "start_time": "2023-02-03T09:53:01.253Z"
      },
      {
        "duration": 54,
        "start_time": "2023-02-03T09:53:01.303Z"
      },
      {
        "duration": 15,
        "start_time": "2023-02-03T09:53:01.359Z"
      },
      {
        "duration": 92,
        "start_time": "2023-02-03T09:53:01.376Z"
      },
      {
        "duration": 33,
        "start_time": "2023-02-03T09:53:01.470Z"
      },
      {
        "duration": 31,
        "start_time": "2023-02-03T09:53:01.505Z"
      },
      {
        "duration": 30,
        "start_time": "2023-02-03T09:53:01.538Z"
      },
      {
        "duration": 38,
        "start_time": "2023-02-03T09:53:01.570Z"
      },
      {
        "duration": 17,
        "start_time": "2023-02-03T09:53:01.610Z"
      },
      {
        "duration": 48,
        "start_time": "2023-02-03T09:53:01.629Z"
      },
      {
        "duration": 22,
        "start_time": "2023-02-03T09:53:01.679Z"
      },
      {
        "duration": 26,
        "start_time": "2023-02-03T09:53:01.703Z"
      },
      {
        "duration": 461,
        "start_time": "2023-02-03T09:53:01.730Z"
      },
      {
        "duration": 456,
        "start_time": "2023-02-03T09:53:02.192Z"
      },
      {
        "duration": 10,
        "start_time": "2023-02-03T09:53:02.650Z"
      },
      {
        "duration": 17,
        "start_time": "2023-02-03T09:53:02.662Z"
      },
      {
        "duration": 19,
        "start_time": "2023-02-03T09:53:02.680Z"
      },
      {
        "duration": 13,
        "start_time": "2023-02-03T09:53:02.701Z"
      },
      {
        "duration": 31,
        "start_time": "2023-02-03T09:53:02.716Z"
      },
      {
        "duration": 24,
        "start_time": "2023-02-03T09:53:02.748Z"
      },
      {
        "duration": 15,
        "start_time": "2023-02-03T09:53:02.775Z"
      },
      {
        "duration": 8,
        "start_time": "2023-02-03T09:53:02.792Z"
      },
      {
        "duration": 40,
        "start_time": "2023-02-03T09:53:02.802Z"
      },
      {
        "duration": 18,
        "start_time": "2023-02-03T09:53:02.843Z"
      },
      {
        "duration": 15,
        "start_time": "2023-02-03T09:53:02.863Z"
      },
      {
        "duration": 17,
        "start_time": "2023-02-03T09:53:02.880Z"
      },
      {
        "duration": 24,
        "start_time": "2023-02-03T09:53:02.899Z"
      },
      {
        "duration": 20,
        "start_time": "2023-02-03T09:53:02.924Z"
      },
      {
        "duration": 15,
        "start_time": "2023-02-03T09:53:02.946Z"
      },
      {
        "duration": 23191,
        "start_time": "2023-02-03T09:53:02.963Z"
      },
      {
        "duration": 4160,
        "start_time": "2023-02-03T09:53:26.156Z"
      },
      {
        "duration": 0,
        "start_time": "2023-02-03T09:53:30.317Z"
      },
      {
        "duration": 0,
        "start_time": "2023-02-03T09:53:30.319Z"
      },
      {
        "duration": 1,
        "start_time": "2023-02-03T09:53:30.319Z"
      },
      {
        "duration": 3,
        "start_time": "2023-02-03T09:53:59.766Z"
      },
      {
        "duration": 13,
        "start_time": "2023-02-03T09:54:02.134Z"
      },
      {
        "duration": 12,
        "start_time": "2023-02-03T09:57:36.737Z"
      },
      {
        "duration": 25,
        "start_time": "2023-02-03T09:59:45.395Z"
      },
      {
        "duration": 35,
        "start_time": "2023-02-03T10:00:22.516Z"
      },
      {
        "duration": 21,
        "start_time": "2023-02-03T10:00:43.660Z"
      },
      {
        "duration": 15,
        "start_time": "2023-02-03T10:01:18.165Z"
      },
      {
        "duration": 18,
        "start_time": "2023-02-03T10:07:05.729Z"
      },
      {
        "duration": 20,
        "start_time": "2023-02-03T10:07:16.394Z"
      },
      {
        "duration": 1380,
        "start_time": "2023-02-03T10:11:53.352Z"
      },
      {
        "duration": 687,
        "start_time": "2023-02-03T10:11:54.734Z"
      },
      {
        "duration": 39,
        "start_time": "2023-02-03T10:11:55.423Z"
      },
      {
        "duration": 273,
        "start_time": "2023-02-03T10:11:55.464Z"
      },
      {
        "duration": 8,
        "start_time": "2023-02-03T10:11:55.739Z"
      },
      {
        "duration": 258,
        "start_time": "2023-02-03T10:11:55.749Z"
      },
      {
        "duration": 5,
        "start_time": "2023-02-03T10:11:56.009Z"
      },
      {
        "duration": 29,
        "start_time": "2023-02-03T10:11:56.016Z"
      },
      {
        "duration": 56,
        "start_time": "2023-02-03T10:11:56.047Z"
      },
      {
        "duration": 3,
        "start_time": "2023-02-03T10:11:56.106Z"
      },
      {
        "duration": 97,
        "start_time": "2023-02-03T10:11:56.111Z"
      },
      {
        "duration": 23,
        "start_time": "2023-02-03T10:11:56.210Z"
      },
      {
        "duration": 6,
        "start_time": "2023-02-03T10:11:56.235Z"
      },
      {
        "duration": 25,
        "start_time": "2023-02-03T10:11:56.243Z"
      },
      {
        "duration": 29,
        "start_time": "2023-02-03T10:11:56.269Z"
      },
      {
        "duration": 13,
        "start_time": "2023-02-03T10:11:56.300Z"
      },
      {
        "duration": 20,
        "start_time": "2023-02-03T10:11:56.315Z"
      },
      {
        "duration": 18,
        "start_time": "2023-02-03T10:11:56.337Z"
      },
      {
        "duration": 26,
        "start_time": "2023-02-03T10:11:56.357Z"
      },
      {
        "duration": 504,
        "start_time": "2023-02-03T10:11:56.385Z"
      },
      {
        "duration": 544,
        "start_time": "2023-02-03T10:11:56.891Z"
      },
      {
        "duration": 12,
        "start_time": "2023-02-03T10:11:57.436Z"
      },
      {
        "duration": 11,
        "start_time": "2023-02-03T10:11:57.450Z"
      },
      {
        "duration": 6,
        "start_time": "2023-02-03T10:11:57.463Z"
      },
      {
        "duration": 39,
        "start_time": "2023-02-03T10:11:57.471Z"
      },
      {
        "duration": 14,
        "start_time": "2023-02-03T10:11:57.512Z"
      },
      {
        "duration": 14,
        "start_time": "2023-02-03T10:11:57.527Z"
      },
      {
        "duration": 12,
        "start_time": "2023-02-03T10:11:57.544Z"
      },
      {
        "duration": 41,
        "start_time": "2023-02-03T10:11:57.558Z"
      },
      {
        "duration": 7,
        "start_time": "2023-02-03T10:11:57.601Z"
      },
      {
        "duration": 13,
        "start_time": "2023-02-03T10:11:57.610Z"
      },
      {
        "duration": 10,
        "start_time": "2023-02-03T10:11:57.625Z"
      },
      {
        "duration": 12,
        "start_time": "2023-02-03T10:11:57.637Z"
      },
      {
        "duration": 10,
        "start_time": "2023-02-03T10:11:57.651Z"
      },
      {
        "duration": 7,
        "start_time": "2023-02-03T10:11:57.663Z"
      },
      {
        "duration": 8,
        "start_time": "2023-02-03T10:11:57.672Z"
      },
      {
        "duration": 23931,
        "start_time": "2023-02-03T10:11:57.682Z"
      },
      {
        "duration": 17,
        "start_time": "2023-02-03T10:12:21.614Z"
      },
      {
        "duration": 129,
        "start_time": "2023-02-03T10:12:21.633Z"
      },
      {
        "duration": 0,
        "start_time": "2023-02-03T10:12:21.764Z"
      },
      {
        "duration": 21,
        "start_time": "2023-02-03T10:16:57.562Z"
      },
      {
        "duration": 3074,
        "start_time": "2023-02-03T10:17:00.529Z"
      },
      {
        "duration": 34,
        "start_time": "2023-02-03T10:17:54.747Z"
      },
      {
        "duration": 20,
        "start_time": "2023-02-03T10:18:10.081Z"
      },
      {
        "duration": 6,
        "start_time": "2023-02-03T10:18:45.074Z"
      },
      {
        "duration": 15,
        "start_time": "2023-02-03T10:19:08.931Z"
      },
      {
        "duration": 3,
        "start_time": "2023-02-03T10:19:23.427Z"
      },
      {
        "duration": 11,
        "start_time": "2023-02-03T10:20:48.068Z"
      },
      {
        "duration": 5,
        "start_time": "2023-02-03T10:21:04.063Z"
      },
      {
        "duration": 5,
        "start_time": "2023-02-03T10:21:28.068Z"
      },
      {
        "duration": 12,
        "start_time": "2023-02-03T10:23:06.597Z"
      },
      {
        "duration": 269,
        "start_time": "2023-02-03T10:23:34.047Z"
      },
      {
        "duration": 4,
        "start_time": "2023-02-03T10:23:43.191Z"
      },
      {
        "duration": 4,
        "start_time": "2023-02-03T10:23:49.654Z"
      },
      {
        "duration": 4,
        "start_time": "2023-02-03T10:23:51.686Z"
      },
      {
        "duration": 20,
        "start_time": "2023-02-03T10:23:59.782Z"
      },
      {
        "duration": 7,
        "start_time": "2023-02-03T10:24:22.262Z"
      },
      {
        "duration": 9,
        "start_time": "2023-02-03T10:24:24.989Z"
      },
      {
        "duration": 283,
        "start_time": "2023-02-03T10:24:30.959Z"
      },
      {
        "duration": 7,
        "start_time": "2023-02-03T10:24:34.249Z"
      },
      {
        "duration": 9,
        "start_time": "2023-02-03T10:24:36.175Z"
      },
      {
        "duration": 13,
        "start_time": "2023-02-03T10:24:41.960Z"
      },
      {
        "duration": 11,
        "start_time": "2023-02-03T10:24:46.509Z"
      },
      {
        "duration": 1331,
        "start_time": "2023-02-03T10:25:11.438Z"
      },
      {
        "duration": 746,
        "start_time": "2023-02-03T10:25:12.771Z"
      },
      {
        "duration": 53,
        "start_time": "2023-02-03T10:25:13.519Z"
      },
      {
        "duration": 330,
        "start_time": "2023-02-03T10:25:13.574Z"
      },
      {
        "duration": 10,
        "start_time": "2023-02-03T10:25:13.907Z"
      },
      {
        "duration": 333,
        "start_time": "2023-02-03T10:25:13.919Z"
      },
      {
        "duration": 6,
        "start_time": "2023-02-03T10:25:14.253Z"
      },
      {
        "duration": 10,
        "start_time": "2023-02-03T10:25:14.261Z"
      },
      {
        "duration": 48,
        "start_time": "2023-02-03T10:25:14.273Z"
      },
      {
        "duration": 4,
        "start_time": "2023-02-03T10:25:14.325Z"
      },
      {
        "duration": 104,
        "start_time": "2023-02-03T10:25:14.330Z"
      },
      {
        "duration": 18,
        "start_time": "2023-02-03T10:25:14.436Z"
      },
      {
        "duration": 6,
        "start_time": "2023-02-03T10:25:14.457Z"
      },
      {
        "duration": 7,
        "start_time": "2023-02-03T10:25:14.465Z"
      },
      {
        "duration": 10,
        "start_time": "2023-02-03T10:25:14.474Z"
      },
      {
        "duration": 4,
        "start_time": "2023-02-03T10:25:14.500Z"
      },
      {
        "duration": 29,
        "start_time": "2023-02-03T10:25:14.506Z"
      },
      {
        "duration": 17,
        "start_time": "2023-02-03T10:25:14.536Z"
      },
      {
        "duration": 16,
        "start_time": "2023-02-03T10:25:14.555Z"
      },
      {
        "duration": 520,
        "start_time": "2023-02-03T10:25:14.573Z"
      },
      {
        "duration": 508,
        "start_time": "2023-02-03T10:25:15.094Z"
      },
      {
        "duration": 13,
        "start_time": "2023-02-03T10:25:15.604Z"
      },
      {
        "duration": 12,
        "start_time": "2023-02-03T10:25:15.619Z"
      },
      {
        "duration": 5,
        "start_time": "2023-02-03T10:25:15.633Z"
      },
      {
        "duration": 17,
        "start_time": "2023-02-03T10:25:15.640Z"
      },
      {
        "duration": 42,
        "start_time": "2023-02-03T10:25:15.658Z"
      },
      {
        "duration": 16,
        "start_time": "2023-02-03T10:25:15.702Z"
      },
      {
        "duration": 15,
        "start_time": "2023-02-03T10:25:15.722Z"
      },
      {
        "duration": 6,
        "start_time": "2023-02-03T10:25:15.739Z"
      },
      {
        "duration": 14,
        "start_time": "2023-02-03T10:25:15.747Z"
      },
      {
        "duration": 7,
        "start_time": "2023-02-03T10:25:15.763Z"
      },
      {
        "duration": 7,
        "start_time": "2023-02-03T10:25:15.798Z"
      },
      {
        "duration": 13,
        "start_time": "2023-02-03T10:25:15.807Z"
      },
      {
        "duration": 9,
        "start_time": "2023-02-03T10:25:15.821Z"
      },
      {
        "duration": 8,
        "start_time": "2023-02-03T10:25:15.832Z"
      },
      {
        "duration": 15,
        "start_time": "2023-02-03T10:25:15.841Z"
      },
      {
        "duration": 22825,
        "start_time": "2023-02-03T10:25:15.858Z"
      },
      {
        "duration": 19,
        "start_time": "2023-02-03T10:25:38.685Z"
      },
      {
        "duration": 24,
        "start_time": "2023-02-03T10:25:38.706Z"
      },
      {
        "duration": 17,
        "start_time": "2023-02-03T10:25:38.732Z"
      },
      {
        "duration": 3178,
        "start_time": "2023-02-03T10:25:38.751Z"
      },
      {
        "duration": 1383,
        "start_time": "2023-02-03T10:26:52.166Z"
      },
      {
        "duration": 703,
        "start_time": "2023-02-03T10:26:53.551Z"
      },
      {
        "duration": 51,
        "start_time": "2023-02-03T10:26:54.256Z"
      },
      {
        "duration": 269,
        "start_time": "2023-02-03T10:26:54.309Z"
      },
      {
        "duration": 6,
        "start_time": "2023-02-03T10:26:54.580Z"
      },
      {
        "duration": 248,
        "start_time": "2023-02-03T10:26:54.588Z"
      },
      {
        "duration": 5,
        "start_time": "2023-02-03T10:26:54.838Z"
      },
      {
        "duration": 10,
        "start_time": "2023-02-03T10:26:54.844Z"
      },
      {
        "duration": 44,
        "start_time": "2023-02-03T10:26:54.855Z"
      },
      {
        "duration": 4,
        "start_time": "2023-02-03T10:26:54.901Z"
      },
      {
        "duration": 101,
        "start_time": "2023-02-03T10:26:54.907Z"
      },
      {
        "duration": 7,
        "start_time": "2023-02-03T10:26:55.010Z"
      },
      {
        "duration": 7,
        "start_time": "2023-02-03T10:26:55.019Z"
      },
      {
        "duration": 8,
        "start_time": "2023-02-03T10:26:55.028Z"
      },
      {
        "duration": 11,
        "start_time": "2023-02-03T10:26:55.038Z"
      },
      {
        "duration": 7,
        "start_time": "2023-02-03T10:26:55.050Z"
      },
      {
        "duration": 41,
        "start_time": "2023-02-03T10:26:55.058Z"
      },
      {
        "duration": 15,
        "start_time": "2023-02-03T10:26:55.101Z"
      },
      {
        "duration": 15,
        "start_time": "2023-02-03T10:26:55.118Z"
      },
      {
        "duration": 450,
        "start_time": "2023-02-03T10:26:55.134Z"
      },
      {
        "duration": 478,
        "start_time": "2023-02-03T10:26:55.585Z"
      },
      {
        "duration": 13,
        "start_time": "2023-02-03T10:26:56.066Z"
      },
      {
        "duration": 25,
        "start_time": "2023-02-03T10:26:56.081Z"
      },
      {
        "duration": 18,
        "start_time": "2023-02-03T10:26:56.108Z"
      },
      {
        "duration": 24,
        "start_time": "2023-02-03T10:26:56.128Z"
      },
      {
        "duration": 23,
        "start_time": "2023-02-03T10:26:56.154Z"
      },
      {
        "duration": 16,
        "start_time": "2023-02-03T10:26:56.179Z"
      },
      {
        "duration": 18,
        "start_time": "2023-02-03T10:26:56.202Z"
      },
      {
        "duration": 4,
        "start_time": "2023-02-03T10:26:56.222Z"
      },
      {
        "duration": 14,
        "start_time": "2023-02-03T10:26:56.228Z"
      },
      {
        "duration": 8,
        "start_time": "2023-02-03T10:26:56.244Z"
      },
      {
        "duration": 12,
        "start_time": "2023-02-03T10:26:56.254Z"
      },
      {
        "duration": 20,
        "start_time": "2023-02-03T10:26:56.268Z"
      },
      {
        "duration": 6,
        "start_time": "2023-02-03T10:26:56.299Z"
      },
      {
        "duration": 23,
        "start_time": "2023-02-03T10:26:56.307Z"
      },
      {
        "duration": 16,
        "start_time": "2023-02-03T10:26:56.332Z"
      },
      {
        "duration": 283,
        "start_time": "2023-02-03T10:26:56.349Z"
      },
      {
        "duration": 18,
        "start_time": "2023-02-03T10:26:56.634Z"
      },
      {
        "duration": 25,
        "start_time": "2023-02-03T10:26:56.653Z"
      },
      {
        "duration": 4,
        "start_time": "2023-02-03T10:26:56.679Z"
      },
      {
        "duration": 2984,
        "start_time": "2023-02-03T10:26:56.685Z"
      },
      {
        "duration": 7,
        "start_time": "2023-02-03T10:28:26.898Z"
      },
      {
        "duration": 5,
        "start_time": "2023-02-03T10:28:57.899Z"
      },
      {
        "duration": 23220,
        "start_time": "2023-02-03T10:28:59.979Z"
      },
      {
        "duration": 5,
        "start_time": "2023-02-03T10:30:45.227Z"
      },
      {
        "duration": 13,
        "start_time": "2023-02-03T10:31:20.763Z"
      },
      {
        "duration": 16,
        "start_time": "2023-02-03T10:31:54.157Z"
      },
      {
        "duration": 1372,
        "start_time": "2023-02-03T10:32:08.773Z"
      },
      {
        "duration": 686,
        "start_time": "2023-02-03T10:32:10.147Z"
      },
      {
        "duration": 39,
        "start_time": "2023-02-03T10:32:10.834Z"
      },
      {
        "duration": 266,
        "start_time": "2023-02-03T10:32:10.875Z"
      },
      {
        "duration": 6,
        "start_time": "2023-02-03T10:32:11.142Z"
      },
      {
        "duration": 241,
        "start_time": "2023-02-03T10:32:11.150Z"
      },
      {
        "duration": 10,
        "start_time": "2023-02-03T10:32:11.392Z"
      },
      {
        "duration": 8,
        "start_time": "2023-02-03T10:32:11.403Z"
      },
      {
        "duration": 35,
        "start_time": "2023-02-03T10:32:11.412Z"
      },
      {
        "duration": 3,
        "start_time": "2023-02-03T10:32:11.449Z"
      },
      {
        "duration": 102,
        "start_time": "2023-02-03T10:32:11.453Z"
      },
      {
        "duration": 11,
        "start_time": "2023-02-03T10:32:11.556Z"
      },
      {
        "duration": 4,
        "start_time": "2023-02-03T10:32:11.569Z"
      },
      {
        "duration": 7,
        "start_time": "2023-02-03T10:32:11.575Z"
      },
      {
        "duration": 8,
        "start_time": "2023-02-03T10:32:11.599Z"
      },
      {
        "duration": 5,
        "start_time": "2023-02-03T10:32:11.609Z"
      },
      {
        "duration": 18,
        "start_time": "2023-02-03T10:32:11.615Z"
      },
      {
        "duration": 15,
        "start_time": "2023-02-03T10:32:11.635Z"
      },
      {
        "duration": 14,
        "start_time": "2023-02-03T10:32:11.652Z"
      },
      {
        "duration": 493,
        "start_time": "2023-02-03T10:32:11.667Z"
      },
      {
        "duration": 488,
        "start_time": "2023-02-03T10:32:12.162Z"
      },
      {
        "duration": 11,
        "start_time": "2023-02-03T10:32:12.653Z"
      },
      {
        "duration": 22,
        "start_time": "2023-02-03T10:32:12.666Z"
      },
      {
        "duration": 14,
        "start_time": "2023-02-03T10:32:12.690Z"
      },
      {
        "duration": 38,
        "start_time": "2023-02-03T10:32:12.705Z"
      },
      {
        "duration": 38,
        "start_time": "2023-02-03T10:32:12.745Z"
      },
      {
        "duration": 27,
        "start_time": "2023-02-03T10:32:12.785Z"
      },
      {
        "duration": 16,
        "start_time": "2023-02-03T10:32:12.815Z"
      },
      {
        "duration": 23,
        "start_time": "2023-02-03T10:32:12.832Z"
      },
      {
        "duration": 15,
        "start_time": "2023-02-03T10:32:12.856Z"
      },
      {
        "duration": 6,
        "start_time": "2023-02-03T10:32:12.873Z"
      },
      {
        "duration": 11,
        "start_time": "2023-02-03T10:32:12.881Z"
      },
      {
        "duration": 24,
        "start_time": "2023-02-03T10:32:12.893Z"
      },
      {
        "duration": 14,
        "start_time": "2023-02-03T10:32:12.918Z"
      },
      {
        "duration": 15,
        "start_time": "2023-02-03T10:32:12.933Z"
      },
      {
        "duration": 11,
        "start_time": "2023-02-03T10:32:12.949Z"
      },
      {
        "duration": 23171,
        "start_time": "2023-02-03T10:32:12.963Z"
      },
      {
        "duration": 20,
        "start_time": "2023-02-03T10:32:36.136Z"
      },
      {
        "duration": 25,
        "start_time": "2023-02-03T10:32:36.158Z"
      },
      {
        "duration": 4,
        "start_time": "2023-02-03T10:32:36.199Z"
      },
      {
        "duration": 3005,
        "start_time": "2023-02-03T10:32:36.205Z"
      },
      {
        "duration": 0,
        "start_time": "2023-02-03T10:32:39.212Z"
      },
      {
        "duration": 13,
        "start_time": "2023-02-03T10:32:46.229Z"
      },
      {
        "duration": 17,
        "start_time": "2023-02-03T10:33:09.788Z"
      },
      {
        "duration": 6,
        "start_time": "2023-02-03T10:33:38.310Z"
      },
      {
        "duration": 4,
        "start_time": "2023-02-03T10:33:41.326Z"
      },
      {
        "duration": 16,
        "start_time": "2023-02-03T10:34:43.967Z"
      },
      {
        "duration": 6,
        "start_time": "2023-02-03T10:34:49.957Z"
      },
      {
        "duration": 4,
        "start_time": "2023-02-03T10:34:55.222Z"
      },
      {
        "duration": 12,
        "start_time": "2023-02-03T10:35:07.239Z"
      },
      {
        "duration": 6,
        "start_time": "2023-02-03T10:35:10.807Z"
      },
      {
        "duration": 2678,
        "start_time": "2023-02-03T10:35:22.295Z"
      },
      {
        "duration": 2561,
        "start_time": "2023-02-03T10:39:23.259Z"
      },
      {
        "duration": 61,
        "start_time": "2023-02-03T10:40:21.379Z"
      },
      {
        "duration": 45,
        "start_time": "2023-02-03T10:40:32.932Z"
      },
      {
        "duration": 2549,
        "start_time": "2023-02-03T10:40:37.435Z"
      },
      {
        "duration": 1281,
        "start_time": "2023-02-03T10:40:55.240Z"
      },
      {
        "duration": 686,
        "start_time": "2023-02-03T10:40:56.522Z"
      },
      {
        "duration": 42,
        "start_time": "2023-02-03T10:40:57.210Z"
      },
      {
        "duration": 269,
        "start_time": "2023-02-03T10:40:57.256Z"
      },
      {
        "duration": 6,
        "start_time": "2023-02-03T10:40:57.527Z"
      },
      {
        "duration": 288,
        "start_time": "2023-02-03T10:40:57.534Z"
      },
      {
        "duration": 5,
        "start_time": "2023-02-03T10:40:57.824Z"
      },
      {
        "duration": 8,
        "start_time": "2023-02-03T10:40:57.831Z"
      },
      {
        "duration": 40,
        "start_time": "2023-02-03T10:40:57.841Z"
      },
      {
        "duration": 16,
        "start_time": "2023-02-03T10:40:57.884Z"
      },
      {
        "duration": 99,
        "start_time": "2023-02-03T10:40:57.902Z"
      },
      {
        "duration": 8,
        "start_time": "2023-02-03T10:40:58.003Z"
      },
      {
        "duration": 11,
        "start_time": "2023-02-03T10:40:58.013Z"
      },
      {
        "duration": 7,
        "start_time": "2023-02-03T10:40:58.025Z"
      },
      {
        "duration": 20,
        "start_time": "2023-02-03T10:40:58.034Z"
      },
      {
        "duration": 7,
        "start_time": "2023-02-03T10:40:58.056Z"
      },
      {
        "duration": 23,
        "start_time": "2023-02-03T10:40:58.064Z"
      },
      {
        "duration": 18,
        "start_time": "2023-02-03T10:40:58.099Z"
      },
      {
        "duration": 14,
        "start_time": "2023-02-03T10:40:58.119Z"
      },
      {
        "duration": 487,
        "start_time": "2023-02-03T10:40:58.135Z"
      },
      {
        "duration": 534,
        "start_time": "2023-02-03T10:40:58.624Z"
      },
      {
        "duration": 13,
        "start_time": "2023-02-03T10:40:59.159Z"
      },
      {
        "duration": 26,
        "start_time": "2023-02-03T10:40:59.174Z"
      },
      {
        "duration": 7,
        "start_time": "2023-02-03T10:40:59.202Z"
      },
      {
        "duration": 24,
        "start_time": "2023-02-03T10:40:59.211Z"
      },
      {
        "duration": 18,
        "start_time": "2023-02-03T10:40:59.237Z"
      },
      {
        "duration": 13,
        "start_time": "2023-02-03T10:40:59.257Z"
      },
      {
        "duration": 29,
        "start_time": "2023-02-03T10:40:59.274Z"
      },
      {
        "duration": 5,
        "start_time": "2023-02-03T10:40:59.305Z"
      },
      {
        "duration": 22,
        "start_time": "2023-02-03T10:40:59.312Z"
      },
      {
        "duration": 7,
        "start_time": "2023-02-03T10:40:59.336Z"
      },
      {
        "duration": 14,
        "start_time": "2023-02-03T10:40:59.345Z"
      },
      {
        "duration": 14,
        "start_time": "2023-02-03T10:40:59.361Z"
      },
      {
        "duration": 13,
        "start_time": "2023-02-03T10:40:59.377Z"
      },
      {
        "duration": 13,
        "start_time": "2023-02-03T10:40:59.391Z"
      },
      {
        "duration": 19,
        "start_time": "2023-02-03T10:40:59.406Z"
      },
      {
        "duration": 22974,
        "start_time": "2023-02-03T10:40:59.427Z"
      },
      {
        "duration": 19,
        "start_time": "2023-02-03T10:41:22.403Z"
      },
      {
        "duration": 23,
        "start_time": "2023-02-03T10:41:22.424Z"
      },
      {
        "duration": 6,
        "start_time": "2023-02-03T10:41:22.449Z"
      },
      {
        "duration": 11,
        "start_time": "2023-02-03T10:41:22.457Z"
      },
      {
        "duration": 2600,
        "start_time": "2023-02-03T10:41:22.469Z"
      },
      {
        "duration": 52,
        "start_time": "2023-02-03T10:43:06.566Z"
      },
      {
        "duration": 730,
        "start_time": "2023-02-03T10:43:13.518Z"
      },
      {
        "duration": 1893,
        "start_time": "2023-02-03T10:43:53.862Z"
      },
      {
        "duration": 4,
        "start_time": "2023-02-03T10:44:10.095Z"
      },
      {
        "duration": 5,
        "start_time": "2023-02-03T10:44:25.758Z"
      },
      {
        "duration": 1814,
        "start_time": "2023-02-03T10:45:52.312Z"
      },
      {
        "duration": 514,
        "start_time": "2023-02-03T10:46:04.762Z"
      },
      {
        "duration": 2677,
        "start_time": "2023-02-03T10:46:15.337Z"
      },
      {
        "duration": 1312,
        "start_time": "2023-02-03T10:57:02.129Z"
      },
      {
        "duration": 687,
        "start_time": "2023-02-03T10:57:03.443Z"
      },
      {
        "duration": 40,
        "start_time": "2023-02-03T10:57:04.132Z"
      },
      {
        "duration": 263,
        "start_time": "2023-02-03T10:57:04.175Z"
      },
      {
        "duration": 6,
        "start_time": "2023-02-03T10:57:04.440Z"
      },
      {
        "duration": 263,
        "start_time": "2023-02-03T10:57:04.448Z"
      },
      {
        "duration": 5,
        "start_time": "2023-02-03T10:57:04.713Z"
      },
      {
        "duration": 8,
        "start_time": "2023-02-03T10:57:04.719Z"
      },
      {
        "duration": 38,
        "start_time": "2023-02-03T10:57:04.729Z"
      },
      {
        "duration": 5,
        "start_time": "2023-02-03T10:57:04.770Z"
      },
      {
        "duration": 109,
        "start_time": "2023-02-03T10:57:04.777Z"
      },
      {
        "duration": 9,
        "start_time": "2023-02-03T10:57:04.899Z"
      },
      {
        "duration": 45,
        "start_time": "2023-02-03T10:57:04.910Z"
      },
      {
        "duration": 14,
        "start_time": "2023-02-03T10:57:04.957Z"
      },
      {
        "duration": 15,
        "start_time": "2023-02-03T10:57:04.973Z"
      },
      {
        "duration": 27,
        "start_time": "2023-02-03T10:57:04.990Z"
      },
      {
        "duration": 18,
        "start_time": "2023-02-03T10:57:05.019Z"
      },
      {
        "duration": 16,
        "start_time": "2023-02-03T10:57:05.039Z"
      },
      {
        "duration": 17,
        "start_time": "2023-02-03T10:57:05.057Z"
      },
      {
        "duration": 440,
        "start_time": "2023-02-03T10:57:05.076Z"
      },
      {
        "duration": 487,
        "start_time": "2023-02-03T10:57:05.518Z"
      },
      {
        "duration": 11,
        "start_time": "2023-02-03T10:57:06.007Z"
      },
      {
        "duration": 38,
        "start_time": "2023-02-03T10:57:06.019Z"
      },
      {
        "duration": 6,
        "start_time": "2023-02-03T10:57:06.059Z"
      },
      {
        "duration": 18,
        "start_time": "2023-02-03T10:57:06.066Z"
      },
      {
        "duration": 14,
        "start_time": "2023-02-03T10:57:06.085Z"
      },
      {
        "duration": 16,
        "start_time": "2023-02-03T10:57:06.100Z"
      },
      {
        "duration": 12,
        "start_time": "2023-02-03T10:57:06.119Z"
      },
      {
        "duration": 5,
        "start_time": "2023-02-03T10:57:06.132Z"
      },
      {
        "duration": 13,
        "start_time": "2023-02-03T10:57:06.138Z"
      },
      {
        "duration": 5,
        "start_time": "2023-02-03T10:57:06.152Z"
      },
      {
        "duration": 7,
        "start_time": "2023-02-03T10:57:06.159Z"
      },
      {
        "duration": 11,
        "start_time": "2023-02-03T10:57:06.168Z"
      },
      {
        "duration": 18,
        "start_time": "2023-02-03T10:57:06.181Z"
      },
      {
        "duration": 6,
        "start_time": "2023-02-03T10:57:06.201Z"
      },
      {
        "duration": 13,
        "start_time": "2023-02-03T10:57:06.209Z"
      },
      {
        "duration": 23029,
        "start_time": "2023-02-03T10:57:06.223Z"
      },
      {
        "duration": 20,
        "start_time": "2023-02-03T10:57:29.254Z"
      },
      {
        "duration": 28,
        "start_time": "2023-02-03T10:57:29.275Z"
      },
      {
        "duration": 7,
        "start_time": "2023-02-03T10:57:29.304Z"
      },
      {
        "duration": 12,
        "start_time": "2023-02-03T10:57:29.313Z"
      },
      {
        "duration": 2760,
        "start_time": "2023-02-03T10:57:29.326Z"
      },
      {
        "duration": 3869,
        "start_time": "2023-02-03T14:30:57.300Z"
      },
      {
        "duration": 659,
        "start_time": "2023-02-03T14:31:01.171Z"
      },
      {
        "duration": 38,
        "start_time": "2023-02-03T14:31:01.832Z"
      },
      {
        "duration": 269,
        "start_time": "2023-02-03T14:31:01.872Z"
      },
      {
        "duration": 7,
        "start_time": "2023-02-03T14:31:02.142Z"
      },
      {
        "duration": 251,
        "start_time": "2023-02-03T14:31:02.150Z"
      },
      {
        "duration": 5,
        "start_time": "2023-02-03T14:31:02.402Z"
      },
      {
        "duration": 20,
        "start_time": "2023-02-03T14:31:02.408Z"
      },
      {
        "duration": 34,
        "start_time": "2023-02-03T14:31:02.429Z"
      },
      {
        "duration": 3,
        "start_time": "2023-02-03T14:31:02.466Z"
      },
      {
        "duration": 87,
        "start_time": "2023-02-03T14:31:02.471Z"
      },
      {
        "duration": 16,
        "start_time": "2023-02-03T14:31:02.559Z"
      },
      {
        "duration": 9,
        "start_time": "2023-02-03T14:31:02.576Z"
      },
      {
        "duration": 7,
        "start_time": "2023-02-03T14:31:02.587Z"
      },
      {
        "duration": 9,
        "start_time": "2023-02-03T14:31:02.595Z"
      },
      {
        "duration": 21,
        "start_time": "2023-02-03T14:31:02.606Z"
      },
      {
        "duration": 15,
        "start_time": "2023-02-03T14:31:02.629Z"
      },
      {
        "duration": 14,
        "start_time": "2023-02-03T14:31:02.646Z"
      },
      {
        "duration": 14,
        "start_time": "2023-02-03T14:31:02.662Z"
      },
      {
        "duration": 477,
        "start_time": "2023-02-03T14:31:02.677Z"
      },
      {
        "duration": 495,
        "start_time": "2023-02-03T14:31:03.156Z"
      },
      {
        "duration": 11,
        "start_time": "2023-02-03T14:31:03.653Z"
      },
      {
        "duration": 11,
        "start_time": "2023-02-03T14:31:03.665Z"
      },
      {
        "duration": 6,
        "start_time": "2023-02-03T14:31:03.677Z"
      },
      {
        "duration": 13,
        "start_time": "2023-02-03T14:31:03.685Z"
      },
      {
        "duration": 39,
        "start_time": "2023-02-03T14:31:03.699Z"
      },
      {
        "duration": 12,
        "start_time": "2023-02-03T14:31:03.740Z"
      },
      {
        "duration": 12,
        "start_time": "2023-02-03T14:31:03.755Z"
      },
      {
        "duration": 4,
        "start_time": "2023-02-03T14:31:03.769Z"
      },
      {
        "duration": 10,
        "start_time": "2023-02-03T14:31:03.774Z"
      },
      {
        "duration": 19,
        "start_time": "2023-02-03T14:31:03.786Z"
      },
      {
        "duration": 20,
        "start_time": "2023-02-03T14:31:03.807Z"
      },
      {
        "duration": 12,
        "start_time": "2023-02-03T14:31:03.829Z"
      },
      {
        "duration": 8,
        "start_time": "2023-02-03T14:31:03.843Z"
      },
      {
        "duration": 7,
        "start_time": "2023-02-03T14:31:03.852Z"
      },
      {
        "duration": 14,
        "start_time": "2023-02-03T14:31:03.860Z"
      },
      {
        "duration": 19,
        "start_time": "2023-02-03T14:31:21.005Z"
      },
      {
        "duration": 24,
        "start_time": "2023-02-03T14:31:21.672Z"
      },
      {
        "duration": 6,
        "start_time": "2023-02-03T14:31:22.861Z"
      },
      {
        "duration": 4,
        "start_time": "2023-02-03T14:31:23.363Z"
      },
      {
        "duration": 3278,
        "start_time": "2023-02-03T14:31:25.303Z"
      },
      {
        "duration": 4,
        "start_time": "2023-02-03T14:32:16.462Z"
      },
      {
        "duration": 1430,
        "start_time": "2023-02-06T05:56:27.768Z"
      },
      {
        "duration": 3208,
        "start_time": "2023-02-06T05:56:29.200Z"
      },
      {
        "duration": 35,
        "start_time": "2023-02-06T05:56:32.410Z"
      },
      {
        "duration": 293,
        "start_time": "2023-02-06T05:56:34.702Z"
      },
      {
        "duration": 7,
        "start_time": "2023-02-06T05:56:36.630Z"
      },
      {
        "duration": 297,
        "start_time": "2023-02-06T05:56:38.173Z"
      },
      {
        "duration": 6,
        "start_time": "2023-02-06T05:56:51.509Z"
      },
      {
        "duration": 6,
        "start_time": "2023-02-06T06:01:22.878Z"
      },
      {
        "duration": 46,
        "start_time": "2023-02-06T06:01:46.366Z"
      },
      {
        "duration": 7,
        "start_time": "2023-02-06T06:02:02.299Z"
      },
      {
        "duration": 5,
        "start_time": "2023-02-06T06:02:14.402Z"
      },
      {
        "duration": 4,
        "start_time": "2023-02-06T06:02:56.081Z"
      },
      {
        "duration": 79,
        "start_time": "2023-02-06T06:03:55.899Z"
      },
      {
        "duration": 107,
        "start_time": "2023-02-06T06:04:08.826Z"
      },
      {
        "duration": 7,
        "start_time": "2023-02-06T06:04:15.604Z"
      },
      {
        "duration": 5,
        "start_time": "2023-02-06T06:04:36.268Z"
      },
      {
        "duration": 6,
        "start_time": "2023-02-06T06:07:16.476Z"
      },
      {
        "duration": 36,
        "start_time": "2023-02-06T06:08:55.727Z"
      },
      {
        "duration": 4,
        "start_time": "2023-02-06T06:09:33.880Z"
      },
      {
        "duration": 105,
        "start_time": "2023-02-06T06:11:42.449Z"
      },
      {
        "duration": 22,
        "start_time": "2023-02-06T06:11:49.097Z"
      },
      {
        "duration": 21,
        "start_time": "2023-02-06T06:12:39.289Z"
      },
      {
        "duration": 43,
        "start_time": "2023-02-06T06:13:31.809Z"
      },
      {
        "duration": 43,
        "start_time": "2023-02-06T06:14:28.531Z"
      },
      {
        "duration": 21,
        "start_time": "2023-02-06T06:15:59.009Z"
      },
      {
        "duration": 6,
        "start_time": "2023-02-06T06:18:01.869Z"
      },
      {
        "duration": 23,
        "start_time": "2023-02-06T06:18:05.818Z"
      },
      {
        "duration": 4,
        "start_time": "2023-02-06T06:29:45.182Z"
      },
      {
        "duration": 688,
        "start_time": "2023-02-06T06:29:55.174Z"
      },
      {
        "duration": 5,
        "start_time": "2023-02-06T06:30:00.908Z"
      },
      {
        "duration": 21,
        "start_time": "2023-02-06T06:30:29.799Z"
      },
      {
        "duration": 647,
        "start_time": "2023-02-06T06:30:37.118Z"
      },
      {
        "duration": 4,
        "start_time": "2023-02-06T06:30:49.766Z"
      },
      {
        "duration": 34,
        "start_time": "2023-02-06T06:31:39.038Z"
      },
      {
        "duration": 4,
        "start_time": "2023-02-06T07:10:56.962Z"
      },
      {
        "duration": 104,
        "start_time": "2023-02-06T07:17:14.742Z"
      },
      {
        "duration": 85,
        "start_time": "2023-02-06T07:18:08.262Z"
      },
      {
        "duration": 11,
        "start_time": "2023-02-06T07:19:34.008Z"
      },
      {
        "duration": 7,
        "start_time": "2023-02-06T07:19:42.831Z"
      },
      {
        "duration": 9,
        "start_time": "2023-02-06T07:19:53.327Z"
      },
      {
        "duration": 12,
        "start_time": "2023-02-06T07:20:00.015Z"
      },
      {
        "duration": 719,
        "start_time": "2023-02-06T07:20:24.679Z"
      },
      {
        "duration": 17,
        "start_time": "2023-02-06T07:21:28.916Z"
      },
      {
        "duration": 1219,
        "start_time": "2023-02-06T07:24:16.205Z"
      },
      {
        "duration": 979,
        "start_time": "2023-02-06T07:24:57.651Z"
      },
      {
        "duration": 14,
        "start_time": "2023-02-06T07:25:24.347Z"
      },
      {
        "duration": 1373,
        "start_time": "2023-02-06T07:36:02.707Z"
      },
      {
        "duration": 635,
        "start_time": "2023-02-06T07:36:04.082Z"
      },
      {
        "duration": 57,
        "start_time": "2023-02-06T07:36:04.719Z"
      },
      {
        "duration": 268,
        "start_time": "2023-02-06T07:36:04.778Z"
      },
      {
        "duration": 7,
        "start_time": "2023-02-06T07:36:05.049Z"
      },
      {
        "duration": 256,
        "start_time": "2023-02-06T07:36:05.057Z"
      },
      {
        "duration": 6,
        "start_time": "2023-02-06T07:36:05.315Z"
      },
      {
        "duration": 17,
        "start_time": "2023-02-06T07:36:05.323Z"
      },
      {
        "duration": 37,
        "start_time": "2023-02-06T07:36:05.344Z"
      },
      {
        "duration": 1099,
        "start_time": "2023-02-06T07:36:05.383Z"
      },
      {
        "duration": 13,
        "start_time": "2023-02-06T07:36:06.484Z"
      },
      {
        "duration": 12,
        "start_time": "2023-02-06T07:36:06.499Z"
      },
      {
        "duration": 28,
        "start_time": "2023-02-06T07:36:06.512Z"
      },
      {
        "duration": 6,
        "start_time": "2023-02-06T07:36:06.546Z"
      },
      {
        "duration": 20,
        "start_time": "2023-02-06T07:36:06.554Z"
      },
      {
        "duration": 10,
        "start_time": "2023-02-06T07:36:06.576Z"
      },
      {
        "duration": 20,
        "start_time": "2023-02-06T07:36:06.588Z"
      },
      {
        "duration": 38,
        "start_time": "2023-02-06T07:36:06.610Z"
      },
      {
        "duration": 15,
        "start_time": "2023-02-06T07:36:06.649Z"
      },
      {
        "duration": 489,
        "start_time": "2023-02-06T07:36:06.666Z"
      },
      {
        "duration": 516,
        "start_time": "2023-02-06T07:36:07.157Z"
      },
      {
        "duration": 15,
        "start_time": "2023-02-06T07:36:07.675Z"
      },
      {
        "duration": 14,
        "start_time": "2023-02-06T07:36:07.692Z"
      },
      {
        "duration": 20,
        "start_time": "2023-02-06T07:36:07.707Z"
      },
      {
        "duration": 33,
        "start_time": "2023-02-06T07:36:07.729Z"
      },
      {
        "duration": 20,
        "start_time": "2023-02-06T07:36:07.763Z"
      },
      {
        "duration": 16,
        "start_time": "2023-02-06T07:36:07.785Z"
      },
      {
        "duration": 14,
        "start_time": "2023-02-06T07:36:07.803Z"
      },
      {
        "duration": 4,
        "start_time": "2023-02-06T07:36:07.819Z"
      },
      {
        "duration": 23,
        "start_time": "2023-02-06T07:36:07.824Z"
      },
      {
        "duration": 21,
        "start_time": "2023-02-06T07:36:07.849Z"
      },
      {
        "duration": 12,
        "start_time": "2023-02-06T07:36:07.872Z"
      },
      {
        "duration": 15,
        "start_time": "2023-02-06T07:36:07.885Z"
      },
      {
        "duration": 11,
        "start_time": "2023-02-06T07:36:07.901Z"
      },
      {
        "duration": 10,
        "start_time": "2023-02-06T07:36:07.913Z"
      },
      {
        "duration": 18,
        "start_time": "2023-02-06T07:36:07.924Z"
      },
      {
        "duration": 30202,
        "start_time": "2023-02-06T07:36:07.944Z"
      },
      {
        "duration": 17,
        "start_time": "2023-02-06T07:36:38.148Z"
      },
      {
        "duration": 23,
        "start_time": "2023-02-06T07:36:38.166Z"
      },
      {
        "duration": 7,
        "start_time": "2023-02-06T07:36:38.190Z"
      },
      {
        "duration": 11,
        "start_time": "2023-02-06T07:36:38.200Z"
      },
      {
        "duration": 3014,
        "start_time": "2023-02-06T07:36:38.213Z"
      },
      {
        "duration": 89,
        "start_time": "2023-02-06T07:54:49.605Z"
      },
      {
        "duration": 432,
        "start_time": "2023-02-06T07:55:00.254Z"
      },
      {
        "duration": 591,
        "start_time": "2023-02-06T07:55:21.574Z"
      },
      {
        "duration": 358,
        "start_time": "2023-02-06T08:03:09.683Z"
      },
      {
        "duration": 820,
        "start_time": "2023-02-06T08:03:34.788Z"
      },
      {
        "duration": 1007,
        "start_time": "2023-02-06T08:03:45.403Z"
      },
      {
        "duration": 1079,
        "start_time": "2023-02-06T08:03:54.437Z"
      },
      {
        "duration": 811,
        "start_time": "2023-02-06T08:04:30.301Z"
      },
      {
        "duration": 1213,
        "start_time": "2023-02-06T08:04:54.524Z"
      },
      {
        "duration": 6,
        "start_time": "2023-02-06T08:08:54.296Z"
      },
      {
        "duration": 4,
        "start_time": "2023-02-06T08:10:20.497Z"
      },
      {
        "duration": 1308,
        "start_time": "2023-02-06T08:10:52.272Z"
      },
      {
        "duration": 709,
        "start_time": "2023-02-06T08:10:53.582Z"
      },
      {
        "duration": 41,
        "start_time": "2023-02-06T08:10:54.293Z"
      },
      {
        "duration": 275,
        "start_time": "2023-02-06T08:10:54.345Z"
      },
      {
        "duration": 8,
        "start_time": "2023-02-06T08:10:54.622Z"
      },
      {
        "duration": 303,
        "start_time": "2023-02-06T08:10:54.632Z"
      },
      {
        "duration": 10,
        "start_time": "2023-02-06T08:10:54.937Z"
      },
      {
        "duration": 8,
        "start_time": "2023-02-06T08:10:54.948Z"
      },
      {
        "duration": 34,
        "start_time": "2023-02-06T08:10:54.958Z"
      },
      {
        "duration": 1227,
        "start_time": "2023-02-06T08:10:54.994Z"
      },
      {
        "duration": 21,
        "start_time": "2023-02-06T08:10:56.223Z"
      },
      {
        "duration": 9,
        "start_time": "2023-02-06T08:10:56.246Z"
      },
      {
        "duration": 9,
        "start_time": "2023-02-06T08:10:56.257Z"
      },
      {
        "duration": 7,
        "start_time": "2023-02-06T08:10:56.267Z"
      },
      {
        "duration": 7,
        "start_time": "2023-02-06T08:10:56.276Z"
      },
      {
        "duration": 919,
        "start_time": "2023-02-06T08:10:56.284Z"
      },
      {
        "duration": 1024,
        "start_time": "2023-02-06T08:10:57.204Z"
      },
      {
        "duration": 819,
        "start_time": "2023-02-06T08:10:58.230Z"
      },
      {
        "duration": 457,
        "start_time": "2023-02-06T08:10:59.051Z"
      },
      {
        "duration": 638,
        "start_time": "2023-02-06T08:10:59.510Z"
      },
      {
        "duration": 11,
        "start_time": "2023-02-06T08:11:00.150Z"
      },
      {
        "duration": 39,
        "start_time": "2023-02-06T08:11:00.162Z"
      },
      {
        "duration": 22,
        "start_time": "2023-02-06T08:11:00.202Z"
      },
      {
        "duration": 35,
        "start_time": "2023-02-06T08:11:00.225Z"
      },
      {
        "duration": 25,
        "start_time": "2023-02-06T08:11:00.262Z"
      },
      {
        "duration": 38,
        "start_time": "2023-02-06T08:11:00.289Z"
      },
      {
        "duration": 34,
        "start_time": "2023-02-06T08:11:00.329Z"
      },
      {
        "duration": 49,
        "start_time": "2023-02-06T08:11:00.366Z"
      },
      {
        "duration": 59,
        "start_time": "2023-02-06T08:11:00.417Z"
      },
      {
        "duration": 60,
        "start_time": "2023-02-06T08:11:00.478Z"
      },
      {
        "duration": 60,
        "start_time": "2023-02-06T08:11:00.540Z"
      },
      {
        "duration": 59,
        "start_time": "2023-02-06T08:11:00.602Z"
      },
      {
        "duration": 68,
        "start_time": "2023-02-06T08:11:00.662Z"
      },
      {
        "duration": 56,
        "start_time": "2023-02-06T08:11:00.732Z"
      },
      {
        "duration": 29,
        "start_time": "2023-02-06T08:11:00.790Z"
      },
      {
        "duration": 28152,
        "start_time": "2023-02-06T08:11:00.820Z"
      },
      {
        "duration": 17,
        "start_time": "2023-02-06T08:11:28.973Z"
      },
      {
        "duration": 32,
        "start_time": "2023-02-06T08:11:28.992Z"
      },
      {
        "duration": 14,
        "start_time": "2023-02-06T08:11:29.026Z"
      },
      {
        "duration": 29,
        "start_time": "2023-02-06T08:11:29.042Z"
      },
      {
        "duration": 3001,
        "start_time": "2023-02-06T08:11:29.072Z"
      },
      {
        "duration": 387,
        "start_time": "2023-02-06T08:21:17.479Z"
      },
      {
        "duration": 135,
        "start_time": "2023-02-06T08:34:05.788Z"
      },
      {
        "duration": 1555,
        "start_time": "2023-02-07T11:07:29.695Z"
      },
      {
        "duration": 1925,
        "start_time": "2023-02-07T11:07:31.251Z"
      },
      {
        "duration": 39,
        "start_time": "2023-02-07T11:07:33.178Z"
      },
      {
        "duration": 240,
        "start_time": "2023-02-07T11:07:33.219Z"
      },
      {
        "duration": 7,
        "start_time": "2023-02-07T11:07:33.461Z"
      },
      {
        "duration": 289,
        "start_time": "2023-02-07T11:07:33.469Z"
      },
      {
        "duration": 5,
        "start_time": "2023-02-07T11:07:33.760Z"
      },
      {
        "duration": 10,
        "start_time": "2023-02-07T11:07:33.767Z"
      },
      {
        "duration": 39,
        "start_time": "2023-02-07T11:07:33.778Z"
      },
      {
        "duration": 787,
        "start_time": "2023-02-07T11:07:33.820Z"
      },
      {
        "duration": 13,
        "start_time": "2023-02-07T11:07:34.609Z"
      },
      {
        "duration": 8,
        "start_time": "2023-02-07T11:07:34.624Z"
      },
      {
        "duration": 4,
        "start_time": "2023-02-07T11:07:34.633Z"
      },
      {
        "duration": 4,
        "start_time": "2023-02-07T11:07:34.639Z"
      },
      {
        "duration": 4,
        "start_time": "2023-02-07T11:07:34.645Z"
      },
      {
        "duration": 775,
        "start_time": "2023-02-07T11:07:34.650Z"
      },
      {
        "duration": 834,
        "start_time": "2023-02-07T11:07:35.426Z"
      },
      {
        "duration": 823,
        "start_time": "2023-02-07T11:07:36.262Z"
      },
      {
        "duration": 548,
        "start_time": "2023-02-07T11:07:37.087Z"
      },
      {
        "duration": 427,
        "start_time": "2023-02-07T11:07:37.637Z"
      },
      {
        "duration": 12,
        "start_time": "2023-02-07T11:07:38.066Z"
      },
      {
        "duration": 9,
        "start_time": "2023-02-07T11:07:38.080Z"
      },
      {
        "duration": 21,
        "start_time": "2023-02-07T11:07:38.091Z"
      },
      {
        "duration": 130,
        "start_time": "2023-02-07T11:07:38.114Z"
      },
      {
        "duration": 13,
        "start_time": "2023-02-07T11:07:38.245Z"
      },
      {
        "duration": 11,
        "start_time": "2023-02-07T11:07:38.259Z"
      },
      {
        "duration": 11,
        "start_time": "2023-02-07T11:07:38.271Z"
      },
      {
        "duration": 27,
        "start_time": "2023-02-07T11:07:38.285Z"
      },
      {
        "duration": 8,
        "start_time": "2023-02-07T11:07:38.313Z"
      },
      {
        "duration": 4,
        "start_time": "2023-02-07T11:07:38.322Z"
      },
      {
        "duration": 8,
        "start_time": "2023-02-07T11:07:38.327Z"
      },
      {
        "duration": 20,
        "start_time": "2023-02-07T11:07:38.337Z"
      },
      {
        "duration": 11,
        "start_time": "2023-02-07T11:07:38.359Z"
      },
      {
        "duration": 4,
        "start_time": "2023-02-07T11:07:38.371Z"
      },
      {
        "duration": 8,
        "start_time": "2023-02-07T11:07:38.377Z"
      },
      {
        "duration": 27179,
        "start_time": "2023-02-07T11:07:38.387Z"
      },
      {
        "duration": 17,
        "start_time": "2023-02-07T11:08:05.568Z"
      },
      {
        "duration": 31,
        "start_time": "2023-02-07T11:08:05.587Z"
      },
      {
        "duration": 5,
        "start_time": "2023-02-07T11:08:05.620Z"
      },
      {
        "duration": 10,
        "start_time": "2023-02-07T11:08:05.627Z"
      },
      {
        "duration": 2735,
        "start_time": "2023-02-07T11:08:05.639Z"
      },
      {
        "duration": 121,
        "start_time": "2023-02-07T11:25:38.655Z"
      },
      {
        "duration": 5,
        "start_time": "2023-02-07T11:25:45.753Z"
      },
      {
        "duration": 124,
        "start_time": "2023-02-07T11:26:25.986Z"
      },
      {
        "duration": 237,
        "start_time": "2023-02-07T11:26:33.210Z"
      },
      {
        "duration": 45,
        "start_time": "2023-02-07T11:27:55.161Z"
      },
      {
        "duration": 220,
        "start_time": "2023-02-07T11:28:16.243Z"
      },
      {
        "duration": 815,
        "start_time": "2023-02-07T11:28:47.421Z"
      },
      {
        "duration": 900,
        "start_time": "2023-02-07T11:29:45.565Z"
      },
      {
        "duration": 4,
        "start_time": "2023-02-07T11:31:33.701Z"
      },
      {
        "duration": 667,
        "start_time": "2023-02-07T11:31:34.269Z"
      },
      {
        "duration": 39,
        "start_time": "2023-02-07T11:31:34.938Z"
      },
      {
        "duration": 251,
        "start_time": "2023-02-07T11:31:34.979Z"
      },
      {
        "duration": 5,
        "start_time": "2023-02-07T11:31:35.231Z"
      },
      {
        "duration": 269,
        "start_time": "2023-02-07T11:31:36.446Z"
      },
      {
        "duration": 5,
        "start_time": "2023-02-07T11:31:37.757Z"
      },
      {
        "duration": 4,
        "start_time": "2023-02-07T11:31:40.565Z"
      },
      {
        "duration": 1949,
        "start_time": "2023-02-07T11:31:47.477Z"
      },
      {
        "duration": 16,
        "start_time": "2023-02-07T11:31:49.428Z"
      },
      {
        "duration": 4,
        "start_time": "2023-02-07T11:33:06.647Z"
      },
      {
        "duration": 15,
        "start_time": "2023-02-07T11:34:23.407Z"
      },
      {
        "duration": 6,
        "start_time": "2023-02-07T11:34:25.854Z"
      },
      {
        "duration": 10,
        "start_time": "2023-02-07T11:34:26.705Z"
      },
      {
        "duration": 785,
        "start_time": "2023-02-07T11:35:53.190Z"
      },
      {
        "duration": 701,
        "start_time": "2023-02-07T11:36:20.465Z"
      },
      {
        "duration": 749,
        "start_time": "2023-02-07T11:36:30.489Z"
      },
      {
        "duration": 13,
        "start_time": "2023-02-07T11:36:49.313Z"
      },
      {
        "duration": 17,
        "start_time": "2023-02-07T11:39:10.403Z"
      },
      {
        "duration": 16,
        "start_time": "2023-02-07T11:40:03.573Z"
      },
      {
        "duration": 318,
        "start_time": "2023-02-07T11:40:36.884Z"
      },
      {
        "duration": 216,
        "start_time": "2023-02-07T11:41:04.869Z"
      },
      {
        "duration": 46,
        "start_time": "2023-02-07T11:42:05.759Z"
      },
      {
        "duration": 210,
        "start_time": "2023-02-07T11:42:20.694Z"
      },
      {
        "duration": 214,
        "start_time": "2023-02-07T11:43:05.591Z"
      },
      {
        "duration": 698,
        "start_time": "2023-02-07T11:44:29.613Z"
      },
      {
        "duration": 225,
        "start_time": "2023-02-07T11:45:12.802Z"
      },
      {
        "duration": 240,
        "start_time": "2023-02-07T11:46:15.481Z"
      },
      {
        "duration": 4,
        "start_time": "2023-02-07T11:55:54.783Z"
      },
      {
        "duration": 22,
        "start_time": "2023-02-07T11:55:59.367Z"
      },
      {
        "duration": 4,
        "start_time": "2023-02-07T11:57:12.592Z"
      },
      {
        "duration": 7,
        "start_time": "2023-02-07T11:57:15.096Z"
      },
      {
        "duration": 43,
        "start_time": "2023-02-07T11:58:55.289Z"
      },
      {
        "duration": 9,
        "start_time": "2023-02-07T12:00:45.347Z"
      },
      {
        "duration": 9,
        "start_time": "2023-02-07T12:00:54.035Z"
      },
      {
        "duration": 9,
        "start_time": "2023-02-07T12:01:15.891Z"
      },
      {
        "duration": 9,
        "start_time": "2023-02-07T12:01:23.323Z"
      },
      {
        "duration": 3,
        "start_time": "2023-02-07T12:01:29.553Z"
      },
      {
        "duration": 3,
        "start_time": "2023-02-07T12:01:40.994Z"
      },
      {
        "duration": 5,
        "start_time": "2023-02-07T12:01:52.323Z"
      },
      {
        "duration": 5,
        "start_time": "2023-02-07T12:02:09.596Z"
      },
      {
        "duration": 3,
        "start_time": "2023-02-07T12:02:34.189Z"
      },
      {
        "duration": 8,
        "start_time": "2023-02-07T12:02:36.402Z"
      },
      {
        "duration": 4,
        "start_time": "2023-02-07T12:04:34.093Z"
      },
      {
        "duration": 7,
        "start_time": "2023-02-07T12:04:36.291Z"
      },
      {
        "duration": 4,
        "start_time": "2023-02-07T12:04:55.063Z"
      },
      {
        "duration": 7,
        "start_time": "2023-02-07T12:04:57.365Z"
      },
      {
        "duration": 3,
        "start_time": "2023-02-07T12:07:53.943Z"
      },
      {
        "duration": 6,
        "start_time": "2023-02-07T12:07:59.199Z"
      },
      {
        "duration": 5,
        "start_time": "2023-02-07T12:08:13.512Z"
      },
      {
        "duration": 6,
        "start_time": "2023-02-07T12:08:15.887Z"
      },
      {
        "duration": 4,
        "start_time": "2023-02-07T12:44:27.657Z"
      },
      {
        "duration": 12,
        "start_time": "2023-02-07T12:47:22.844Z"
      },
      {
        "duration": 4,
        "start_time": "2023-02-07T12:49:30.668Z"
      },
      {
        "duration": 1509,
        "start_time": "2023-02-07T13:50:39.190Z"
      },
      {
        "duration": 779,
        "start_time": "2023-02-07T13:50:40.700Z"
      },
      {
        "duration": 44,
        "start_time": "2023-02-07T13:50:41.481Z"
      },
      {
        "duration": 290,
        "start_time": "2023-02-07T13:50:41.527Z"
      },
      {
        "duration": 12,
        "start_time": "2023-02-07T13:50:41.819Z"
      },
      {
        "duration": 318,
        "start_time": "2023-02-07T13:50:41.833Z"
      },
      {
        "duration": 5,
        "start_time": "2023-02-07T13:50:42.152Z"
      },
      {
        "duration": 10,
        "start_time": "2023-02-07T13:50:42.158Z"
      },
      {
        "duration": 48,
        "start_time": "2023-02-07T13:50:42.169Z"
      },
      {
        "duration": 863,
        "start_time": "2023-02-07T13:50:42.220Z"
      },
      {
        "duration": 15,
        "start_time": "2023-02-07T13:50:43.085Z"
      },
      {
        "duration": 22,
        "start_time": "2023-02-07T13:50:43.109Z"
      },
      {
        "duration": 12,
        "start_time": "2023-02-07T13:50:43.134Z"
      },
      {
        "duration": 5,
        "start_time": "2023-02-07T13:50:43.148Z"
      },
      {
        "duration": 10,
        "start_time": "2023-02-07T13:50:43.154Z"
      },
      {
        "duration": 8,
        "start_time": "2023-02-07T13:50:43.165Z"
      },
      {
        "duration": 840,
        "start_time": "2023-02-07T13:50:43.174Z"
      },
      {
        "duration": 898,
        "start_time": "2023-02-07T13:50:44.016Z"
      },
      {
        "duration": 823,
        "start_time": "2023-02-07T13:50:44.916Z"
      },
      {
        "duration": 552,
        "start_time": "2023-02-07T13:50:45.740Z"
      },
      {
        "duration": 514,
        "start_time": "2023-02-07T13:50:46.293Z"
      },
      {
        "duration": 16,
        "start_time": "2023-02-07T13:50:46.815Z"
      },
      {
        "duration": 29,
        "start_time": "2023-02-07T13:50:46.832Z"
      },
      {
        "duration": 284,
        "start_time": "2023-02-07T13:50:46.863Z"
      },
      {
        "duration": 228,
        "start_time": "2023-02-07T13:50:47.149Z"
      },
      {
        "duration": 251,
        "start_time": "2023-02-07T13:50:47.379Z"
      },
      {
        "duration": 335,
        "start_time": "2023-02-07T13:50:47.631Z"
      },
      {
        "duration": 4,
        "start_time": "2023-02-07T13:50:47.970Z"
      },
      {
        "duration": 10,
        "start_time": "2023-02-07T13:50:47.975Z"
      },
      {
        "duration": 4,
        "start_time": "2023-02-07T13:50:47.987Z"
      },
      {
        "duration": 30,
        "start_time": "2023-02-07T13:50:47.993Z"
      },
      {
        "duration": 14,
        "start_time": "2023-02-07T13:50:48.031Z"
      },
      {
        "duration": 3,
        "start_time": "2023-02-07T13:50:48.047Z"
      },
      {
        "duration": 4,
        "start_time": "2023-02-07T13:50:48.052Z"
      },
      {
        "duration": 7,
        "start_time": "2023-02-07T13:50:48.057Z"
      },
      {
        "duration": 3,
        "start_time": "2023-02-07T13:50:48.066Z"
      },
      {
        "duration": 30329,
        "start_time": "2023-02-07T13:50:48.071Z"
      },
      {
        "duration": 64,
        "start_time": "2023-02-07T13:51:18.403Z"
      },
      {
        "duration": 0,
        "start_time": "2023-02-07T13:51:18.468Z"
      },
      {
        "duration": 0,
        "start_time": "2023-02-07T13:51:18.470Z"
      },
      {
        "duration": 0,
        "start_time": "2023-02-07T13:51:18.471Z"
      },
      {
        "duration": 0,
        "start_time": "2023-02-07T13:51:18.473Z"
      },
      {
        "duration": 0,
        "start_time": "2023-02-07T13:51:18.474Z"
      },
      {
        "duration": 3,
        "start_time": "2023-02-07T14:32:41.331Z"
      },
      {
        "duration": 1296,
        "start_time": "2023-02-07T15:09:25.051Z"
      },
      {
        "duration": 714,
        "start_time": "2023-02-07T15:09:26.348Z"
      },
      {
        "duration": 47,
        "start_time": "2023-02-07T15:09:27.063Z"
      },
      {
        "duration": 245,
        "start_time": "2023-02-07T15:09:27.112Z"
      },
      {
        "duration": 6,
        "start_time": "2023-02-07T15:09:27.358Z"
      },
      {
        "duration": 297,
        "start_time": "2023-02-07T15:09:27.365Z"
      },
      {
        "duration": 6,
        "start_time": "2023-02-07T15:09:27.664Z"
      },
      {
        "duration": 6,
        "start_time": "2023-02-07T15:09:27.672Z"
      },
      {
        "duration": 46,
        "start_time": "2023-02-07T15:09:27.680Z"
      },
      {
        "duration": 813,
        "start_time": "2023-02-07T15:09:27.730Z"
      },
      {
        "duration": 13,
        "start_time": "2023-02-07T15:09:28.545Z"
      },
      {
        "duration": 4,
        "start_time": "2023-02-07T15:09:28.559Z"
      },
      {
        "duration": 16,
        "start_time": "2023-02-07T15:09:28.564Z"
      },
      {
        "duration": 9,
        "start_time": "2023-02-07T15:09:28.581Z"
      },
      {
        "duration": 17,
        "start_time": "2023-02-07T15:09:28.592Z"
      },
      {
        "duration": 3,
        "start_time": "2023-02-07T15:09:28.611Z"
      },
      {
        "duration": 741,
        "start_time": "2023-02-07T15:09:28.616Z"
      },
      {
        "duration": 816,
        "start_time": "2023-02-07T15:09:29.359Z"
      },
      {
        "duration": 753,
        "start_time": "2023-02-07T15:09:30.176Z"
      },
      {
        "duration": 512,
        "start_time": "2023-02-07T15:09:30.931Z"
      },
      {
        "duration": 415,
        "start_time": "2023-02-07T15:09:31.444Z"
      },
      {
        "duration": 11,
        "start_time": "2023-02-07T15:09:31.860Z"
      },
      {
        "duration": 15,
        "start_time": "2023-02-07T15:09:31.872Z"
      },
      {
        "duration": 233,
        "start_time": "2023-02-07T15:09:31.888Z"
      },
      {
        "duration": 210,
        "start_time": "2023-02-07T15:09:32.122Z"
      },
      {
        "duration": 228,
        "start_time": "2023-02-07T15:09:32.334Z"
      },
      {
        "duration": 295,
        "start_time": "2023-02-07T15:09:32.563Z"
      },
      {
        "duration": 3,
        "start_time": "2023-02-07T15:09:32.862Z"
      },
      {
        "duration": 8,
        "start_time": "2023-02-07T15:09:32.867Z"
      },
      {
        "duration": 4,
        "start_time": "2023-02-07T15:09:32.877Z"
      },
      {
        "duration": 5,
        "start_time": "2023-02-07T15:09:32.882Z"
      },
      {
        "duration": 22,
        "start_time": "2023-02-07T15:09:32.889Z"
      },
      {
        "duration": 4,
        "start_time": "2023-02-07T15:09:32.913Z"
      },
      {
        "duration": 4,
        "start_time": "2023-02-07T15:09:32.919Z"
      },
      {
        "duration": 7,
        "start_time": "2023-02-07T15:09:32.924Z"
      },
      {
        "duration": 27028,
        "start_time": "2023-02-07T15:09:32.933Z"
      },
      {
        "duration": 17,
        "start_time": "2023-02-07T15:09:59.962Z"
      },
      {
        "duration": 22,
        "start_time": "2023-02-07T15:09:59.981Z"
      },
      {
        "duration": 5,
        "start_time": "2023-02-07T15:10:00.005Z"
      },
      {
        "duration": 21,
        "start_time": "2023-02-07T15:10:00.012Z"
      },
      {
        "duration": 2653,
        "start_time": "2023-02-07T15:10:00.035Z"
      },
      {
        "duration": 174,
        "start_time": "2023-02-07T15:27:04.032Z"
      },
      {
        "duration": 51,
        "start_time": "2023-02-07T15:27:46.369Z"
      },
      {
        "duration": 54,
        "start_time": "2023-02-07T15:29:28.659Z"
      },
      {
        "duration": 1029,
        "start_time": "2023-02-07T15:30:05.091Z"
      },
      {
        "duration": 62,
        "start_time": "2023-02-07T15:30:46.369Z"
      },
      {
        "duration": 309,
        "start_time": "2023-02-07T15:33:19.361Z"
      },
      {
        "duration": 316,
        "start_time": "2023-02-07T15:33:59.297Z"
      },
      {
        "duration": 328,
        "start_time": "2023-02-07T15:34:26.889Z"
      },
      {
        "duration": 333,
        "start_time": "2023-02-07T15:35:16.149Z"
      },
      {
        "duration": 1511,
        "start_time": "2023-02-07T15:35:27.432Z"
      },
      {
        "duration": 390,
        "start_time": "2023-02-07T15:36:29.224Z"
      },
      {
        "duration": 1421,
        "start_time": "2023-02-07T15:36:41.778Z"
      },
      {
        "duration": 634,
        "start_time": "2023-02-07T15:36:43.201Z"
      },
      {
        "duration": 40,
        "start_time": "2023-02-07T15:36:43.837Z"
      },
      {
        "duration": 240,
        "start_time": "2023-02-07T15:36:43.879Z"
      },
      {
        "duration": 6,
        "start_time": "2023-02-07T15:36:44.120Z"
      },
      {
        "duration": 301,
        "start_time": "2023-02-07T15:36:44.127Z"
      },
      {
        "duration": 5,
        "start_time": "2023-02-07T15:36:44.430Z"
      },
      {
        "duration": 8,
        "start_time": "2023-02-07T15:36:44.436Z"
      },
      {
        "duration": 28,
        "start_time": "2023-02-07T15:36:44.445Z"
      },
      {
        "duration": 859,
        "start_time": "2023-02-07T15:36:44.476Z"
      },
      {
        "duration": 13,
        "start_time": "2023-02-07T15:36:45.336Z"
      },
      {
        "duration": 4,
        "start_time": "2023-02-07T15:36:45.350Z"
      },
      {
        "duration": 11,
        "start_time": "2023-02-07T15:36:45.356Z"
      },
      {
        "duration": 5,
        "start_time": "2023-02-07T15:36:45.368Z"
      },
      {
        "duration": 8,
        "start_time": "2023-02-07T15:36:45.374Z"
      },
      {
        "duration": 4,
        "start_time": "2023-02-07T15:36:45.410Z"
      },
      {
        "duration": 772,
        "start_time": "2023-02-07T15:36:45.415Z"
      },
      {
        "duration": 913,
        "start_time": "2023-02-07T15:36:46.189Z"
      },
      {
        "duration": 801,
        "start_time": "2023-02-07T15:36:47.110Z"
      },
      {
        "duration": 546,
        "start_time": "2023-02-07T15:36:47.913Z"
      },
      {
        "duration": 428,
        "start_time": "2023-02-07T15:36:48.461Z"
      },
      {
        "duration": 21,
        "start_time": "2023-02-07T15:36:48.890Z"
      },
      {
        "duration": 9,
        "start_time": "2023-02-07T15:36:48.913Z"
      },
      {
        "duration": 224,
        "start_time": "2023-02-07T15:36:48.924Z"
      },
      {
        "duration": 208,
        "start_time": "2023-02-07T15:36:49.150Z"
      },
      {
        "duration": 232,
        "start_time": "2023-02-07T15:36:49.360Z"
      },
      {
        "duration": 300,
        "start_time": "2023-02-07T15:36:49.595Z"
      },
      {
        "duration": 3,
        "start_time": "2023-02-07T15:36:49.899Z"
      },
      {
        "duration": 6,
        "start_time": "2023-02-07T15:36:49.909Z"
      },
      {
        "duration": 7,
        "start_time": "2023-02-07T15:36:49.916Z"
      },
      {
        "duration": 5,
        "start_time": "2023-02-07T15:36:49.925Z"
      },
      {
        "duration": 12,
        "start_time": "2023-02-07T15:36:49.932Z"
      },
      {
        "duration": 4,
        "start_time": "2023-02-07T15:36:49.945Z"
      },
      {
        "duration": 4,
        "start_time": "2023-02-07T15:36:49.950Z"
      },
      {
        "duration": 7,
        "start_time": "2023-02-07T15:36:49.956Z"
      },
      {
        "duration": 1488,
        "start_time": "2023-02-07T15:36:49.965Z"
      },
      {
        "duration": 27971,
        "start_time": "2023-02-07T15:36:51.454Z"
      },
      {
        "duration": 17,
        "start_time": "2023-02-07T15:37:19.427Z"
      },
      {
        "duration": 24,
        "start_time": "2023-02-07T15:37:19.445Z"
      },
      {
        "duration": 5,
        "start_time": "2023-02-07T15:37:19.471Z"
      },
      {
        "duration": 8,
        "start_time": "2023-02-07T15:37:19.477Z"
      },
      {
        "duration": 2613,
        "start_time": "2023-02-07T15:37:19.486Z"
      },
      {
        "duration": 1495,
        "start_time": "2023-02-07T15:37:22.101Z"
      },
      {
        "duration": 51,
        "start_time": "2023-02-07T15:38:16.334Z"
      },
      {
        "duration": 46,
        "start_time": "2023-02-07T15:39:15.350Z"
      },
      {
        "duration": 1347,
        "start_time": "2023-02-07T15:39:28.495Z"
      },
      {
        "duration": 644,
        "start_time": "2023-02-07T15:39:29.846Z"
      },
      {
        "duration": 48,
        "start_time": "2023-02-07T15:39:30.492Z"
      },
      {
        "duration": 240,
        "start_time": "2023-02-07T15:39:30.541Z"
      },
      {
        "duration": 5,
        "start_time": "2023-02-07T15:39:30.783Z"
      },
      {
        "duration": 320,
        "start_time": "2023-02-07T15:39:30.790Z"
      },
      {
        "duration": 5,
        "start_time": "2023-02-07T15:39:31.111Z"
      },
      {
        "duration": 40,
        "start_time": "2023-02-07T15:39:31.117Z"
      },
      {
        "duration": 60,
        "start_time": "2023-02-07T15:39:31.159Z"
      },
      {
        "duration": 833,
        "start_time": "2023-02-07T15:39:31.220Z"
      },
      {
        "duration": 13,
        "start_time": "2023-02-07T15:39:32.055Z"
      },
      {
        "duration": 3,
        "start_time": "2023-02-07T15:39:32.070Z"
      },
      {
        "duration": 15,
        "start_time": "2023-02-07T15:39:32.075Z"
      },
      {
        "duration": 19,
        "start_time": "2023-02-07T15:39:32.092Z"
      },
      {
        "duration": 5,
        "start_time": "2023-02-07T15:39:32.113Z"
      },
      {
        "duration": 5,
        "start_time": "2023-02-07T15:39:32.120Z"
      },
      {
        "duration": 790,
        "start_time": "2023-02-07T15:39:32.126Z"
      },
      {
        "duration": 945,
        "start_time": "2023-02-07T15:39:32.918Z"
      },
      {
        "duration": 823,
        "start_time": "2023-02-07T15:39:33.865Z"
      },
      {
        "duration": 442,
        "start_time": "2023-02-07T15:39:34.689Z"
      },
      {
        "duration": 536,
        "start_time": "2023-02-07T15:39:35.133Z"
      },
      {
        "duration": 11,
        "start_time": "2023-02-07T15:39:35.670Z"
      },
      {
        "duration": 10,
        "start_time": "2023-02-07T15:39:35.682Z"
      },
      {
        "duration": 233,
        "start_time": "2023-02-07T15:39:35.693Z"
      },
      {
        "duration": 217,
        "start_time": "2023-02-07T15:39:35.927Z"
      },
      {
        "duration": 234,
        "start_time": "2023-02-07T15:39:36.147Z"
      },
      {
        "duration": 227,
        "start_time": "2023-02-07T15:39:36.385Z"
      },
      {
        "duration": 4,
        "start_time": "2023-02-07T15:39:36.614Z"
      },
      {
        "duration": 9,
        "start_time": "2023-02-07T15:39:36.620Z"
      },
      {
        "duration": 6,
        "start_time": "2023-02-07T15:39:36.631Z"
      },
      {
        "duration": 7,
        "start_time": "2023-02-07T15:39:36.639Z"
      },
      {
        "duration": 10,
        "start_time": "2023-02-07T15:39:36.648Z"
      },
      {
        "duration": 4,
        "start_time": "2023-02-07T15:39:36.659Z"
      },
      {
        "duration": 5,
        "start_time": "2023-02-07T15:39:36.665Z"
      },
      {
        "duration": 10,
        "start_time": "2023-02-07T15:39:36.672Z"
      },
      {
        "duration": 51,
        "start_time": "2023-02-07T15:39:36.683Z"
      },
      {
        "duration": 0,
        "start_time": "2023-02-07T15:39:36.736Z"
      },
      {
        "duration": 0,
        "start_time": "2023-02-07T15:39:36.738Z"
      },
      {
        "duration": 0,
        "start_time": "2023-02-07T15:39:36.739Z"
      },
      {
        "duration": 0,
        "start_time": "2023-02-07T15:39:36.741Z"
      },
      {
        "duration": 1,
        "start_time": "2023-02-07T15:39:36.742Z"
      },
      {
        "duration": 0,
        "start_time": "2023-02-07T15:39:36.744Z"
      },
      {
        "duration": 26358,
        "start_time": "2023-02-07T15:41:18.253Z"
      },
      {
        "duration": 18,
        "start_time": "2023-02-07T15:41:59.830Z"
      },
      {
        "duration": 22,
        "start_time": "2023-02-07T15:42:00.212Z"
      },
      {
        "duration": 6,
        "start_time": "2023-02-07T15:42:04.612Z"
      },
      {
        "duration": 4,
        "start_time": "2023-02-07T15:42:05.036Z"
      },
      {
        "duration": 2526,
        "start_time": "2023-02-07T15:42:05.947Z"
      },
      {
        "duration": 1466,
        "start_time": "2023-02-07T15:46:08.916Z"
      },
      {
        "duration": 35,
        "start_time": "2023-02-07T15:46:20.786Z"
      },
      {
        "duration": 7,
        "start_time": "2023-02-07T15:46:34.872Z"
      },
      {
        "duration": 7,
        "start_time": "2023-02-07T15:47:06.866Z"
      },
      {
        "duration": 1468,
        "start_time": "2023-02-07T15:47:31.042Z"
      },
      {
        "duration": 1466,
        "start_time": "2023-02-07T15:47:50.353Z"
      },
      {
        "duration": 1563,
        "start_time": "2023-02-07T15:52:18.032Z"
      },
      {
        "duration": 1455,
        "start_time": "2023-02-07T15:52:29.070Z"
      },
      {
        "duration": 4056,
        "start_time": "2023-02-07T15:52:40.095Z"
      },
      {
        "duration": 2592,
        "start_time": "2023-02-07T15:52:59.534Z"
      },
      {
        "duration": 5568,
        "start_time": "2023-02-07T15:53:13.823Z"
      },
      {
        "duration": 5576,
        "start_time": "2023-02-07T15:53:30.822Z"
      },
      {
        "duration": 5593,
        "start_time": "2023-02-07T15:54:12.903Z"
      },
      {
        "duration": 5608,
        "start_time": "2023-02-07T15:54:37.254Z"
      },
      {
        "duration": 5596,
        "start_time": "2023-02-07T15:54:54.341Z"
      },
      {
        "duration": 7,
        "start_time": "2023-02-07T15:55:03.045Z"
      },
      {
        "duration": 5602,
        "start_time": "2023-02-07T15:55:18.318Z"
      },
      {
        "duration": 5599,
        "start_time": "2023-02-07T15:58:08.156Z"
      },
      {
        "duration": 5702,
        "start_time": "2023-02-07T15:58:29.548Z"
      },
      {
        "duration": 5603,
        "start_time": "2023-02-07T15:58:47.955Z"
      },
      {
        "duration": 3580,
        "start_time": "2023-02-07T16:04:35.866Z"
      },
      {
        "duration": 3737,
        "start_time": "2023-02-07T16:05:05.712Z"
      },
      {
        "duration": 1772,
        "start_time": "2023-02-07T16:05:32.480Z"
      },
      {
        "duration": 3503,
        "start_time": "2023-02-07T16:05:45.921Z"
      },
      {
        "duration": 17576,
        "start_time": "2023-02-07T16:05:59.880Z"
      },
      {
        "duration": 7098,
        "start_time": "2023-02-07T16:06:56.615Z"
      },
      {
        "duration": 4,
        "start_time": "2023-02-07T16:09:13.015Z"
      },
      {
        "duration": 16416,
        "start_time": "2023-02-07T16:09:56.246Z"
      },
      {
        "duration": 1371,
        "start_time": "2023-02-07T16:19:29.281Z"
      },
      {
        "duration": 640,
        "start_time": "2023-02-07T16:19:30.654Z"
      },
      {
        "duration": 46,
        "start_time": "2023-02-07T16:19:31.307Z"
      },
      {
        "duration": 246,
        "start_time": "2023-02-07T16:19:31.355Z"
      },
      {
        "duration": 11,
        "start_time": "2023-02-07T16:19:31.602Z"
      },
      {
        "duration": 297,
        "start_time": "2023-02-07T16:19:31.614Z"
      },
      {
        "duration": 4,
        "start_time": "2023-02-07T16:19:31.913Z"
      },
      {
        "duration": 6,
        "start_time": "2023-02-07T16:19:31.919Z"
      },
      {
        "duration": 29,
        "start_time": "2023-02-07T16:19:31.927Z"
      },
      {
        "duration": 857,
        "start_time": "2023-02-07T16:19:31.959Z"
      },
      {
        "duration": 13,
        "start_time": "2023-02-07T16:19:32.817Z"
      },
      {
        "duration": 3,
        "start_time": "2023-02-07T16:19:32.832Z"
      },
      {
        "duration": 8,
        "start_time": "2023-02-07T16:19:32.837Z"
      },
      {
        "duration": 4,
        "start_time": "2023-02-07T16:19:32.846Z"
      },
      {
        "duration": 8,
        "start_time": "2023-02-07T16:19:32.851Z"
      },
      {
        "duration": 5,
        "start_time": "2023-02-07T16:19:32.860Z"
      },
      {
        "duration": 831,
        "start_time": "2023-02-07T16:19:32.867Z"
      },
      {
        "duration": 864,
        "start_time": "2023-02-07T16:19:33.699Z"
      },
      {
        "duration": 796,
        "start_time": "2023-02-07T16:19:34.565Z"
      },
      {
        "duration": 536,
        "start_time": "2023-02-07T16:19:35.363Z"
      },
      {
        "duration": 443,
        "start_time": "2023-02-07T16:19:35.901Z"
      },
      {
        "duration": 11,
        "start_time": "2023-02-07T16:19:36.346Z"
      },
      {
        "duration": 9,
        "start_time": "2023-02-07T16:19:36.358Z"
      },
      {
        "duration": 234,
        "start_time": "2023-02-07T16:19:36.369Z"
      },
      {
        "duration": 228,
        "start_time": "2023-02-07T16:19:36.604Z"
      },
      {
        "duration": 221,
        "start_time": "2023-02-07T16:19:36.833Z"
      },
      {
        "duration": 386,
        "start_time": "2023-02-07T16:19:37.056Z"
      },
      {
        "duration": 4,
        "start_time": "2023-02-07T16:19:37.445Z"
      },
      {
        "duration": 11,
        "start_time": "2023-02-07T16:19:37.450Z"
      },
      {
        "duration": 6,
        "start_time": "2023-02-07T16:19:37.462Z"
      },
      {
        "duration": 7,
        "start_time": "2023-02-07T16:19:37.469Z"
      },
      {
        "duration": 9,
        "start_time": "2023-02-07T16:19:37.477Z"
      },
      {
        "duration": 3,
        "start_time": "2023-02-07T16:19:37.509Z"
      },
      {
        "duration": 9332,
        "start_time": "2023-02-07T16:19:37.514Z"
      },
      {
        "duration": 4,
        "start_time": "2023-02-07T16:19:46.848Z"
      },
      {
        "duration": 16,
        "start_time": "2023-02-07T16:19:46.911Z"
      },
      {
        "duration": 17996,
        "start_time": "2023-02-07T16:19:46.929Z"
      },
      {
        "duration": 19,
        "start_time": "2023-02-07T16:20:04.926Z"
      },
      {
        "duration": 21,
        "start_time": "2023-02-07T16:20:04.947Z"
      },
      {
        "duration": 6,
        "start_time": "2023-02-07T16:20:04.971Z"
      },
      {
        "duration": 13,
        "start_time": "2023-02-07T16:20:04.979Z"
      },
      {
        "duration": 2619,
        "start_time": "2023-02-07T16:20:05.010Z"
      },
      {
        "duration": 374,
        "start_time": "2023-02-07T16:21:49.723Z"
      },
      {
        "duration": 3,
        "start_time": "2023-02-07T16:22:11.065Z"
      },
      {
        "duration": 8,
        "start_time": "2023-02-07T16:22:16.575Z"
      },
      {
        "duration": 26427,
        "start_time": "2023-02-07T16:22:18.255Z"
      },
      {
        "duration": 7551,
        "start_time": "2023-02-07T16:27:00.495Z"
      },
      {
        "duration": 7397,
        "start_time": "2023-02-07T16:28:20.140Z"
      },
      {
        "duration": 7291,
        "start_time": "2023-02-07T16:29:29.068Z"
      },
      {
        "duration": 3,
        "start_time": "2023-02-07T16:30:03.733Z"
      },
      {
        "duration": 3,
        "start_time": "2023-02-07T16:30:08.996Z"
      },
      {
        "duration": 6,
        "start_time": "2023-02-07T16:30:15.187Z"
      },
      {
        "duration": 20544,
        "start_time": "2023-02-07T16:30:17.125Z"
      },
      {
        "duration": 829,
        "start_time": "2023-02-07T16:32:04.659Z"
      },
      {
        "duration": 693,
        "start_time": "2023-02-07T16:32:26.859Z"
      },
      {
        "duration": 1469,
        "start_time": "2023-02-07T16:40:21.084Z"
      },
      {
        "duration": 703,
        "start_time": "2023-02-07T16:40:22.555Z"
      },
      {
        "duration": 52,
        "start_time": "2023-02-07T16:40:23.260Z"
      },
      {
        "duration": 266,
        "start_time": "2023-02-07T16:40:23.316Z"
      },
      {
        "duration": 6,
        "start_time": "2023-02-07T16:40:23.584Z"
      },
      {
        "duration": 298,
        "start_time": "2023-02-07T16:40:23.592Z"
      },
      {
        "duration": 5,
        "start_time": "2023-02-07T16:40:23.892Z"
      },
      {
        "duration": 15,
        "start_time": "2023-02-07T16:40:23.898Z"
      },
      {
        "duration": 30,
        "start_time": "2023-02-07T16:40:23.914Z"
      },
      {
        "duration": 901,
        "start_time": "2023-02-07T16:40:23.946Z"
      },
      {
        "duration": 13,
        "start_time": "2023-02-07T16:40:24.849Z"
      },
      {
        "duration": 4,
        "start_time": "2023-02-07T16:40:24.864Z"
      },
      {
        "duration": 10,
        "start_time": "2023-02-07T16:40:24.870Z"
      },
      {
        "duration": 30,
        "start_time": "2023-02-07T16:40:24.881Z"
      },
      {
        "duration": 10,
        "start_time": "2023-02-07T16:40:24.914Z"
      },
      {
        "duration": 5,
        "start_time": "2023-02-07T16:40:24.926Z"
      },
      {
        "duration": 813,
        "start_time": "2023-02-07T16:40:24.933Z"
      },
      {
        "duration": 875,
        "start_time": "2023-02-07T16:40:25.747Z"
      },
      {
        "duration": 893,
        "start_time": "2023-02-07T16:40:26.624Z"
      },
      {
        "duration": 557,
        "start_time": "2023-02-07T16:40:27.519Z"
      },
      {
        "duration": 436,
        "start_time": "2023-02-07T16:40:28.077Z"
      },
      {
        "duration": 11,
        "start_time": "2023-02-07T16:40:28.515Z"
      },
      {
        "duration": 10,
        "start_time": "2023-02-07T16:40:28.528Z"
      },
      {
        "duration": 272,
        "start_time": "2023-02-07T16:40:28.540Z"
      },
      {
        "duration": 231,
        "start_time": "2023-02-07T16:40:28.814Z"
      },
      {
        "duration": 242,
        "start_time": "2023-02-07T16:40:29.047Z"
      },
      {
        "duration": 322,
        "start_time": "2023-02-07T16:40:29.291Z"
      },
      {
        "duration": 4,
        "start_time": "2023-02-07T16:40:29.616Z"
      },
      {
        "duration": 14,
        "start_time": "2023-02-07T16:40:29.622Z"
      },
      {
        "duration": 9,
        "start_time": "2023-02-07T16:40:29.638Z"
      },
      {
        "duration": 9,
        "start_time": "2023-02-07T16:40:29.649Z"
      },
      {
        "duration": 10,
        "start_time": "2023-02-07T16:40:29.660Z"
      },
      {
        "duration": 7097,
        "start_time": "2023-02-07T16:40:29.672Z"
      },
      {
        "duration": 5,
        "start_time": "2023-02-07T16:40:36.772Z"
      },
      {
        "duration": 12,
        "start_time": "2023-02-07T16:40:36.779Z"
      },
      {
        "duration": 19292,
        "start_time": "2023-02-07T16:40:36.793Z"
      },
      {
        "duration": 18,
        "start_time": "2023-02-07T16:40:56.087Z"
      },
      {
        "duration": 22,
        "start_time": "2023-02-07T16:40:56.106Z"
      },
      {
        "duration": 9,
        "start_time": "2023-02-07T16:40:56.129Z"
      },
      {
        "duration": 7,
        "start_time": "2023-02-07T16:40:56.140Z"
      },
      {
        "duration": 388,
        "start_time": "2023-02-07T16:40:56.149Z"
      },
      {
        "duration": 139,
        "start_time": "2023-02-07T17:09:34.949Z"
      },
      {
        "duration": 613,
        "start_time": "2023-02-07T17:10:09.561Z"
      },
      {
        "duration": 610,
        "start_time": "2023-02-07T17:10:31.089Z"
      },
      {
        "duration": 46,
        "start_time": "2023-02-07T17:21:05.957Z"
      },
      {
        "duration": 43,
        "start_time": "2023-02-07T17:26:31.718Z"
      },
      {
        "duration": 11,
        "start_time": "2023-02-07T17:28:44.680Z"
      },
      {
        "duration": 23,
        "start_time": "2023-02-07T17:28:53.849Z"
      },
      {
        "duration": 22,
        "start_time": "2023-02-07T17:29:12.728Z"
      },
      {
        "duration": 21,
        "start_time": "2023-02-07T17:29:30.617Z"
      },
      {
        "duration": 4,
        "start_time": "2023-02-07T17:39:02.940Z"
      },
      {
        "duration": 9,
        "start_time": "2023-02-07T17:41:04.051Z"
      },
      {
        "duration": 9,
        "start_time": "2023-02-07T17:41:15.059Z"
      },
      {
        "duration": 11,
        "start_time": "2023-02-07T17:41:36.756Z"
      },
      {
        "duration": 5,
        "start_time": "2023-02-07T17:42:27.963Z"
      },
      {
        "duration": 8,
        "start_time": "2023-02-07T17:42:53.170Z"
      },
      {
        "duration": 4,
        "start_time": "2023-02-07T17:42:59.898Z"
      },
      {
        "duration": 116,
        "start_time": "2023-02-07T17:44:03.787Z"
      },
      {
        "duration": 213,
        "start_time": "2023-02-07T17:44:13.199Z"
      },
      {
        "duration": 199,
        "start_time": "2023-02-07T17:44:29.945Z"
      },
      {
        "duration": 45,
        "start_time": "2023-02-07T17:44:49.001Z"
      },
      {
        "duration": 11,
        "start_time": "2023-02-07T17:44:53.809Z"
      },
      {
        "duration": 12,
        "start_time": "2023-02-07T17:44:59.177Z"
      },
      {
        "duration": 9,
        "start_time": "2023-02-07T17:45:41.625Z"
      },
      {
        "duration": 208,
        "start_time": "2023-02-07T17:45:50.707Z"
      },
      {
        "duration": 4,
        "start_time": "2023-02-07T17:45:54.280Z"
      },
      {
        "duration": 8,
        "start_time": "2023-02-07T17:46:28.745Z"
      },
      {
        "duration": 8,
        "start_time": "2023-02-07T17:46:46.617Z"
      },
      {
        "duration": 8,
        "start_time": "2023-02-07T17:46:53.403Z"
      },
      {
        "duration": 4,
        "start_time": "2023-02-07T17:46:58.449Z"
      },
      {
        "duration": 9,
        "start_time": "2023-02-07T17:47:27.472Z"
      },
      {
        "duration": 378,
        "start_time": "2023-02-07T17:47:56.401Z"
      },
      {
        "duration": 9,
        "start_time": "2023-02-07T17:48:11.630Z"
      },
      {
        "duration": 124,
        "start_time": "2023-02-07T17:48:25.006Z"
      },
      {
        "duration": 333,
        "start_time": "2023-02-07T17:48:32.952Z"
      },
      {
        "duration": 6,
        "start_time": "2023-02-07T17:49:10.919Z"
      },
      {
        "duration": 111,
        "start_time": "2023-02-07T17:49:17.831Z"
      },
      {
        "duration": 9,
        "start_time": "2023-02-07T17:49:24.512Z"
      },
      {
        "duration": 202,
        "start_time": "2023-02-07T17:49:26.759Z"
      },
      {
        "duration": 112,
        "start_time": "2023-02-07T17:49:29.470Z"
      },
      {
        "duration": 361,
        "start_time": "2023-02-07T17:50:58.961Z"
      },
      {
        "duration": 213,
        "start_time": "2023-02-07T17:51:01.063Z"
      },
      {
        "duration": 2824,
        "start_time": "2023-02-07T17:51:13.574Z"
      },
      {
        "duration": 216,
        "start_time": "2023-02-07T17:51:16.399Z"
      },
      {
        "duration": 256,
        "start_time": "2023-02-07T17:52:52.801Z"
      },
      {
        "duration": 3343,
        "start_time": "2023-02-07T17:53:04.308Z"
      },
      {
        "duration": 3138,
        "start_time": "2023-02-07T17:53:27.279Z"
      },
      {
        "duration": 3170,
        "start_time": "2023-02-07T17:57:02.172Z"
      },
      {
        "duration": 198,
        "start_time": "2023-02-07T17:57:37.727Z"
      },
      {
        "duration": 17874,
        "start_time": "2023-02-07T17:58:37.210Z"
      },
      {
        "duration": 19787,
        "start_time": "2023-02-07T18:00:45.611Z"
      },
      {
        "duration": 3176,
        "start_time": "2023-02-07T18:09:51.538Z"
      },
      {
        "duration": 197,
        "start_time": "2023-02-07T18:09:57.425Z"
      },
      {
        "duration": 12,
        "start_time": "2023-02-07T18:11:03.239Z"
      },
      {
        "duration": 116,
        "start_time": "2023-02-07T18:11:07.440Z"
      },
      {
        "duration": 5,
        "start_time": "2023-02-07T18:11:28.641Z"
      },
      {
        "duration": 392,
        "start_time": "2023-02-07T18:12:26.715Z"
      },
      {
        "duration": 17839,
        "start_time": "2023-02-07T18:14:51.747Z"
      },
      {
        "duration": 4218,
        "start_time": "2023-02-07T18:18:32.741Z"
      },
      {
        "duration": 212,
        "start_time": "2023-02-07T18:20:01.002Z"
      },
      {
        "duration": 1406,
        "start_time": "2023-02-07T18:29:27.130Z"
      },
      {
        "duration": 650,
        "start_time": "2023-02-07T18:29:28.538Z"
      },
      {
        "duration": 49,
        "start_time": "2023-02-07T18:29:29.189Z"
      },
      {
        "duration": 244,
        "start_time": "2023-02-07T18:29:29.240Z"
      },
      {
        "duration": 6,
        "start_time": "2023-02-07T18:29:29.485Z"
      },
      {
        "duration": 278,
        "start_time": "2023-02-07T18:29:29.492Z"
      },
      {
        "duration": 5,
        "start_time": "2023-02-07T18:29:29.771Z"
      },
      {
        "duration": 6,
        "start_time": "2023-02-07T18:29:29.777Z"
      },
      {
        "duration": 44,
        "start_time": "2023-02-07T18:29:29.784Z"
      },
      {
        "duration": 836,
        "start_time": "2023-02-07T18:29:29.831Z"
      },
      {
        "duration": 14,
        "start_time": "2023-02-07T18:29:30.669Z"
      },
      {
        "duration": 25,
        "start_time": "2023-02-07T18:29:30.684Z"
      },
      {
        "duration": 28,
        "start_time": "2023-02-07T18:29:30.710Z"
      },
      {
        "duration": 28,
        "start_time": "2023-02-07T18:29:30.740Z"
      },
      {
        "duration": 26,
        "start_time": "2023-02-07T18:29:30.769Z"
      },
      {
        "duration": 22,
        "start_time": "2023-02-07T18:29:30.797Z"
      },
      {
        "duration": 762,
        "start_time": "2023-02-07T18:29:30.821Z"
      },
      {
        "duration": 851,
        "start_time": "2023-02-07T18:29:31.585Z"
      },
      {
        "duration": 786,
        "start_time": "2023-02-07T18:29:32.437Z"
      },
      {
        "duration": 529,
        "start_time": "2023-02-07T18:29:33.225Z"
      },
      {
        "duration": 449,
        "start_time": "2023-02-07T18:29:33.755Z"
      },
      {
        "duration": 11,
        "start_time": "2023-02-07T18:29:34.210Z"
      },
      {
        "duration": 10,
        "start_time": "2023-02-07T18:29:34.222Z"
      },
      {
        "duration": 238,
        "start_time": "2023-02-07T18:29:34.233Z"
      },
      {
        "duration": 213,
        "start_time": "2023-02-07T18:29:34.472Z"
      },
      {
        "duration": 233,
        "start_time": "2023-02-07T18:29:34.686Z"
      },
      {
        "duration": 324,
        "start_time": "2023-02-07T18:29:34.920Z"
      },
      {
        "duration": 4,
        "start_time": "2023-02-07T18:29:35.247Z"
      },
      {
        "duration": 9,
        "start_time": "2023-02-07T18:29:35.252Z"
      },
      {
        "duration": 10,
        "start_time": "2023-02-07T18:29:35.263Z"
      },
      {
        "duration": 22,
        "start_time": "2023-02-07T18:29:35.274Z"
      },
      {
        "duration": 19,
        "start_time": "2023-02-07T18:29:35.297Z"
      },
      {
        "duration": 6942,
        "start_time": "2023-02-07T18:29:35.318Z"
      },
      {
        "duration": 4,
        "start_time": "2023-02-07T18:29:42.261Z"
      },
      {
        "duration": 7,
        "start_time": "2023-02-07T18:29:42.267Z"
      },
      {
        "duration": 21009,
        "start_time": "2023-02-07T18:29:42.275Z"
      },
      {
        "duration": 5230,
        "start_time": "2023-02-07T18:30:03.286Z"
      },
      {
        "duration": 215,
        "start_time": "2023-02-07T18:30:08.517Z"
      },
      {
        "duration": 17,
        "start_time": "2023-02-07T18:30:08.734Z"
      },
      {
        "duration": 36,
        "start_time": "2023-02-07T18:30:08.752Z"
      },
      {
        "duration": 5,
        "start_time": "2023-02-07T18:30:08.789Z"
      },
      {
        "duration": 6,
        "start_time": "2023-02-07T18:30:08.795Z"
      },
      {
        "duration": 124,
        "start_time": "2023-02-07T18:30:08.802Z"
      },
      {
        "duration": 0,
        "start_time": "2023-02-07T18:30:08.927Z"
      },
      {
        "duration": 0,
        "start_time": "2023-02-07T18:30:08.929Z"
      },
      {
        "duration": 0,
        "start_time": "2023-02-07T18:30:08.929Z"
      },
      {
        "duration": 3957,
        "start_time": "2023-02-07T18:30:42.339Z"
      },
      {
        "duration": 206,
        "start_time": "2023-02-07T18:30:49.009Z"
      },
      {
        "duration": 54970,
        "start_time": "2023-02-07T18:33:10.544Z"
      },
      {
        "duration": 422,
        "start_time": "2023-02-07T18:34:25.367Z"
      },
      {
        "duration": 3,
        "start_time": "2023-02-07T18:34:37.144Z"
      },
      {
        "duration": 5,
        "start_time": "2023-02-07T18:34:37.599Z"
      },
      {
        "duration": 20617,
        "start_time": "2023-02-07T18:34:38.376Z"
      },
      {
        "duration": 5291,
        "start_time": "2023-02-07T18:34:58.995Z"
      },
      {
        "duration": 4248,
        "start_time": "2023-02-08T14:59:30.895Z"
      },
      {
        "duration": 754,
        "start_time": "2023-02-08T14:59:35.146Z"
      },
      {
        "duration": 56,
        "start_time": "2023-02-08T14:59:35.902Z"
      },
      {
        "duration": 311,
        "start_time": "2023-02-08T14:59:35.960Z"
      },
      {
        "duration": 9,
        "start_time": "2023-02-08T14:59:36.274Z"
      },
      {
        "duration": 524,
        "start_time": "2023-02-08T14:59:36.285Z"
      },
      {
        "duration": 13,
        "start_time": "2023-02-08T14:59:36.811Z"
      },
      {
        "duration": 7,
        "start_time": "2023-02-08T14:59:36.826Z"
      },
      {
        "duration": 49,
        "start_time": "2023-02-08T14:59:36.835Z"
      },
      {
        "duration": 1229,
        "start_time": "2023-02-08T14:59:36.886Z"
      },
      {
        "duration": 20,
        "start_time": "2023-02-08T14:59:38.117Z"
      },
      {
        "duration": 8,
        "start_time": "2023-02-08T14:59:38.139Z"
      },
      {
        "duration": 19,
        "start_time": "2023-02-08T14:59:38.149Z"
      },
      {
        "duration": 7,
        "start_time": "2023-02-08T14:59:38.173Z"
      },
      {
        "duration": 13,
        "start_time": "2023-02-08T14:59:38.182Z"
      },
      {
        "duration": 6,
        "start_time": "2023-02-08T14:59:38.220Z"
      },
      {
        "duration": 1052,
        "start_time": "2023-02-08T14:59:38.228Z"
      },
      {
        "duration": 1133,
        "start_time": "2023-02-08T14:59:39.282Z"
      },
      {
        "duration": 1121,
        "start_time": "2023-02-08T14:59:40.420Z"
      },
      {
        "duration": 531,
        "start_time": "2023-02-08T14:59:41.543Z"
      },
      {
        "duration": 682,
        "start_time": "2023-02-08T14:59:42.076Z"
      },
      {
        "duration": 13,
        "start_time": "2023-02-08T14:59:42.760Z"
      },
      {
        "duration": 11,
        "start_time": "2023-02-08T14:59:42.774Z"
      },
      {
        "duration": 279,
        "start_time": "2023-02-08T14:59:42.787Z"
      },
      {
        "duration": 296,
        "start_time": "2023-02-08T14:59:43.068Z"
      },
      {
        "duration": 324,
        "start_time": "2023-02-08T14:59:43.366Z"
      },
      {
        "duration": 263,
        "start_time": "2023-02-08T14:59:43.692Z"
      },
      {
        "duration": 4,
        "start_time": "2023-02-08T14:59:43.957Z"
      },
      {
        "duration": 10,
        "start_time": "2023-02-08T14:59:43.963Z"
      },
      {
        "duration": 6,
        "start_time": "2023-02-08T14:59:43.974Z"
      },
      {
        "duration": 15,
        "start_time": "2023-02-08T14:59:43.981Z"
      },
      {
        "duration": 27,
        "start_time": "2023-02-08T14:59:43.997Z"
      },
      {
        "duration": 30149,
        "start_time": "2023-02-08T14:59:44.025Z"
      },
      {
        "duration": 1505,
        "start_time": "2023-02-09T05:25:56.937Z"
      },
      {
        "duration": 3429,
        "start_time": "2023-02-09T05:25:58.444Z"
      },
      {
        "duration": 44,
        "start_time": "2023-02-09T05:26:01.875Z"
      },
      {
        "duration": 245,
        "start_time": "2023-02-09T05:26:01.921Z"
      },
      {
        "duration": 6,
        "start_time": "2023-02-09T05:26:02.167Z"
      },
      {
        "duration": 322,
        "start_time": "2023-02-09T05:26:02.174Z"
      },
      {
        "duration": 5,
        "start_time": "2023-02-09T05:26:02.503Z"
      },
      {
        "duration": 27,
        "start_time": "2023-02-09T05:26:02.509Z"
      },
      {
        "duration": 45,
        "start_time": "2023-02-09T05:26:02.538Z"
      },
      {
        "duration": 1026,
        "start_time": "2023-02-09T05:26:02.586Z"
      },
      {
        "duration": 13,
        "start_time": "2023-02-09T05:26:03.614Z"
      },
      {
        "duration": 6,
        "start_time": "2023-02-09T05:26:03.628Z"
      },
      {
        "duration": 25,
        "start_time": "2023-02-09T05:26:03.635Z"
      },
      {
        "duration": 6,
        "start_time": "2023-02-09T05:26:03.662Z"
      },
      {
        "duration": 6,
        "start_time": "2023-02-09T05:26:03.670Z"
      },
      {
        "duration": 8,
        "start_time": "2023-02-09T05:26:03.678Z"
      },
      {
        "duration": 848,
        "start_time": "2023-02-09T05:26:03.688Z"
      },
      {
        "duration": 952,
        "start_time": "2023-02-09T05:26:04.538Z"
      },
      {
        "duration": 883,
        "start_time": "2023-02-09T05:26:05.492Z"
      },
      {
        "duration": 669,
        "start_time": "2023-02-09T05:26:06.377Z"
      },
      {
        "duration": 483,
        "start_time": "2023-02-09T05:26:07.048Z"
      },
      {
        "duration": 11,
        "start_time": "2023-02-09T05:26:07.532Z"
      },
      {
        "duration": 10,
        "start_time": "2023-02-09T05:26:07.544Z"
      },
      {
        "duration": 256,
        "start_time": "2023-02-09T05:26:07.555Z"
      },
      {
        "duration": 225,
        "start_time": "2023-02-09T05:26:07.812Z"
      },
      {
        "duration": 260,
        "start_time": "2023-02-09T05:26:08.038Z"
      },
      {
        "duration": 351,
        "start_time": "2023-02-09T05:26:08.303Z"
      },
      {
        "duration": 5,
        "start_time": "2023-02-09T05:26:08.657Z"
      },
      {
        "duration": 9,
        "start_time": "2023-02-09T05:26:08.663Z"
      },
      {
        "duration": 5,
        "start_time": "2023-02-09T05:26:08.673Z"
      },
      {
        "duration": 25,
        "start_time": "2023-02-09T05:26:08.679Z"
      },
      {
        "duration": 17,
        "start_time": "2023-02-09T05:26:08.706Z"
      },
      {
        "duration": 26850,
        "start_time": "2023-02-09T05:26:08.724Z"
      },
      {
        "duration": 4,
        "start_time": "2023-02-09T05:26:35.576Z"
      },
      {
        "duration": 7,
        "start_time": "2023-02-09T05:26:35.582Z"
      },
      {
        "duration": 25463,
        "start_time": "2023-02-09T05:26:35.591Z"
      },
      {
        "duration": 6123,
        "start_time": "2023-02-09T05:27:01.056Z"
      },
      {
        "duration": 250,
        "start_time": "2023-02-09T05:27:07.181Z"
      },
      {
        "duration": 19,
        "start_time": "2023-02-09T05:27:07.433Z"
      },
      {
        "duration": 24,
        "start_time": "2023-02-09T05:27:07.453Z"
      },
      {
        "duration": 4,
        "start_time": "2023-02-09T05:27:07.478Z"
      },
      {
        "duration": 23,
        "start_time": "2023-02-09T05:27:07.484Z"
      },
      {
        "duration": 5166,
        "start_time": "2023-02-09T05:27:07.508Z"
      },
      {
        "duration": 223,
        "start_time": "2023-02-09T05:27:12.675Z"
      },
      {
        "duration": 9,
        "start_time": "2023-02-09T05:27:12.903Z"
      },
      {
        "duration": 4,
        "start_time": "2023-02-09T05:27:12.913Z"
      },
      {
        "duration": 18,
        "start_time": "2023-02-09T05:31:44.733Z"
      },
      {
        "duration": 236,
        "start_time": "2023-02-09T05:33:35.671Z"
      },
      {
        "duration": 1281,
        "start_time": "2023-02-09T05:34:08.727Z"
      },
      {
        "duration": 1360,
        "start_time": "2023-02-09T05:34:21.292Z"
      },
      {
        "duration": 647,
        "start_time": "2023-02-09T05:34:22.654Z"
      },
      {
        "duration": 41,
        "start_time": "2023-02-09T05:34:23.303Z"
      },
      {
        "duration": 246,
        "start_time": "2023-02-09T05:34:23.345Z"
      },
      {
        "duration": 15,
        "start_time": "2023-02-09T05:34:23.593Z"
      },
      {
        "duration": 311,
        "start_time": "2023-02-09T05:34:23.609Z"
      },
      {
        "duration": 4,
        "start_time": "2023-02-09T05:34:23.922Z"
      },
      {
        "duration": 9,
        "start_time": "2023-02-09T05:34:23.927Z"
      },
      {
        "duration": 2376,
        "start_time": "2023-02-09T05:34:23.938Z"
      },
      {
        "duration": 18,
        "start_time": "2023-02-09T05:34:26.317Z"
      },
      {
        "duration": 3,
        "start_time": "2023-02-09T05:34:26.337Z"
      },
      {
        "duration": 9,
        "start_time": "2023-02-09T05:34:26.341Z"
      },
      {
        "duration": 4,
        "start_time": "2023-02-09T05:34:26.352Z"
      },
      {
        "duration": 5,
        "start_time": "2023-02-09T05:34:26.358Z"
      },
      {
        "duration": 5,
        "start_time": "2023-02-09T05:34:26.364Z"
      },
      {
        "duration": 928,
        "start_time": "2023-02-09T05:34:26.371Z"
      },
      {
        "duration": 901,
        "start_time": "2023-02-09T05:34:27.300Z"
      },
      {
        "duration": 821,
        "start_time": "2023-02-09T05:34:28.203Z"
      },
      {
        "duration": 450,
        "start_time": "2023-02-09T05:34:29.025Z"
      },
      {
        "duration": 562,
        "start_time": "2023-02-09T05:34:29.476Z"
      },
      {
        "duration": 11,
        "start_time": "2023-02-09T05:34:30.040Z"
      },
      {
        "duration": 12,
        "start_time": "2023-02-09T05:34:30.053Z"
      },
      {
        "duration": 265,
        "start_time": "2023-02-09T05:34:30.067Z"
      },
      {
        "duration": 239,
        "start_time": "2023-02-09T05:34:30.334Z"
      },
      {
        "duration": 250,
        "start_time": "2023-02-09T05:34:30.574Z"
      },
      {
        "duration": 231,
        "start_time": "2023-02-09T05:34:30.826Z"
      },
      {
        "duration": 22,
        "start_time": "2023-02-09T05:34:31.059Z"
      },
      {
        "duration": 20,
        "start_time": "2023-02-09T05:34:31.084Z"
      },
      {
        "duration": 22,
        "start_time": "2023-02-09T05:34:31.106Z"
      },
      {
        "duration": 30,
        "start_time": "2023-02-09T05:34:31.130Z"
      },
      {
        "duration": 23,
        "start_time": "2023-02-09T05:34:31.162Z"
      },
      {
        "duration": 28,
        "start_time": "2023-02-09T05:34:31.187Z"
      },
      {
        "duration": 27467,
        "start_time": "2023-02-09T05:34:31.217Z"
      },
      {
        "duration": 3,
        "start_time": "2023-02-09T05:34:58.686Z"
      },
      {
        "duration": 21,
        "start_time": "2023-02-09T05:34:58.691Z"
      },
      {
        "duration": 23550,
        "start_time": "2023-02-09T05:34:58.713Z"
      },
      {
        "duration": 5145,
        "start_time": "2023-02-09T05:35:22.264Z"
      },
      {
        "duration": 225,
        "start_time": "2023-02-09T05:35:27.411Z"
      },
      {
        "duration": 18,
        "start_time": "2023-02-09T05:35:27.638Z"
      },
      {
        "duration": 31,
        "start_time": "2023-02-09T05:35:27.657Z"
      },
      {
        "duration": 6,
        "start_time": "2023-02-09T05:35:27.690Z"
      },
      {
        "duration": 19,
        "start_time": "2023-02-09T05:35:27.703Z"
      },
      {
        "duration": 4638,
        "start_time": "2023-02-09T05:35:27.723Z"
      },
      {
        "duration": 210,
        "start_time": "2023-02-09T05:35:32.363Z"
      },
      {
        "duration": 10,
        "start_time": "2023-02-09T05:35:32.575Z"
      },
      {
        "duration": 18,
        "start_time": "2023-02-09T05:35:32.586Z"
      },
      {
        "duration": 1392,
        "start_time": "2023-02-09T05:37:20.051Z"
      },
      {
        "duration": 1418,
        "start_time": "2023-02-09T05:37:55.222Z"
      },
      {
        "duration": 698,
        "start_time": "2023-02-09T05:37:56.643Z"
      },
      {
        "duration": 39,
        "start_time": "2023-02-09T05:37:57.343Z"
      },
      {
        "duration": 247,
        "start_time": "2023-02-09T05:37:57.384Z"
      },
      {
        "duration": 6,
        "start_time": "2023-02-09T05:37:57.633Z"
      },
      {
        "duration": 307,
        "start_time": "2023-02-09T05:37:57.640Z"
      },
      {
        "duration": 5,
        "start_time": "2023-02-09T05:37:57.949Z"
      },
      {
        "duration": 9,
        "start_time": "2023-02-09T05:37:57.956Z"
      },
      {
        "duration": 2371,
        "start_time": "2023-02-09T05:37:57.967Z"
      },
      {
        "duration": 20,
        "start_time": "2023-02-09T05:38:00.341Z"
      },
      {
        "duration": 18,
        "start_time": "2023-02-09T05:38:00.364Z"
      },
      {
        "duration": 38,
        "start_time": "2023-02-09T05:38:00.384Z"
      },
      {
        "duration": 20,
        "start_time": "2023-02-09T05:38:00.423Z"
      },
      {
        "duration": 43,
        "start_time": "2023-02-09T05:38:00.445Z"
      },
      {
        "duration": 32,
        "start_time": "2023-02-09T05:38:00.490Z"
      },
      {
        "duration": 869,
        "start_time": "2023-02-09T05:38:00.524Z"
      },
      {
        "duration": 912,
        "start_time": "2023-02-09T05:38:01.395Z"
      },
      {
        "duration": 824,
        "start_time": "2023-02-09T05:38:02.309Z"
      },
      {
        "duration": 490,
        "start_time": "2023-02-09T05:38:03.135Z"
      },
      {
        "duration": 605,
        "start_time": "2023-02-09T05:38:03.626Z"
      },
      {
        "duration": 26,
        "start_time": "2023-02-09T05:38:04.233Z"
      },
      {
        "duration": 10,
        "start_time": "2023-02-09T05:38:04.261Z"
      },
      {
        "duration": 248,
        "start_time": "2023-02-09T05:38:04.272Z"
      },
      {
        "duration": 238,
        "start_time": "2023-02-09T05:38:04.521Z"
      },
      {
        "duration": 228,
        "start_time": "2023-02-09T05:38:04.760Z"
      },
      {
        "duration": 338,
        "start_time": "2023-02-09T05:41:58.633Z"
      },
      {
        "duration": 310,
        "start_time": "2023-02-09T05:42:53.839Z"
      },
      {
        "duration": 298,
        "start_time": "2023-02-09T05:43:46.455Z"
      },
      {
        "duration": 234,
        "start_time": "2023-02-09T05:44:08.760Z"
      },
      {
        "duration": 299,
        "start_time": "2023-02-09T05:44:16.455Z"
      },
      {
        "duration": 28,
        "start_time": "2023-02-09T05:46:08.841Z"
      },
      {
        "duration": 6,
        "start_time": "2023-02-09T05:46:44.697Z"
      },
      {
        "duration": 5,
        "start_time": "2023-02-09T05:46:53.897Z"
      },
      {
        "duration": 5,
        "start_time": "2023-02-09T05:46:59.417Z"
      },
      {
        "duration": 257,
        "start_time": "2023-02-09T05:47:49.587Z"
      },
      {
        "duration": 7,
        "start_time": "2023-02-09T05:48:23.516Z"
      },
      {
        "duration": 7,
        "start_time": "2023-02-09T05:48:29.546Z"
      },
      {
        "duration": 17,
        "start_time": "2023-02-09T05:48:33.498Z"
      },
      {
        "duration": 6,
        "start_time": "2023-02-09T05:48:38.249Z"
      },
      {
        "duration": 8,
        "start_time": "2023-02-09T05:48:49.123Z"
      },
      {
        "duration": 7,
        "start_time": "2023-02-09T05:49:35.123Z"
      },
      {
        "duration": 6,
        "start_time": "2023-02-09T05:49:40.363Z"
      },
      {
        "duration": 382,
        "start_time": "2023-02-09T06:45:30.356Z"
      },
      {
        "duration": 7,
        "start_time": "2023-02-09T06:46:09.693Z"
      },
      {
        "duration": 6,
        "start_time": "2023-02-09T06:48:36.493Z"
      },
      {
        "duration": 6,
        "start_time": "2023-02-09T06:49:47.175Z"
      },
      {
        "duration": 9,
        "start_time": "2023-02-09T06:49:57.726Z"
      },
      {
        "duration": 6,
        "start_time": "2023-02-09T06:50:23.687Z"
      },
      {
        "duration": 6,
        "start_time": "2023-02-09T06:50:31.183Z"
      },
      {
        "duration": 10,
        "start_time": "2023-02-09T06:50:41.610Z"
      },
      {
        "duration": 5,
        "start_time": "2023-02-09T06:51:18.072Z"
      },
      {
        "duration": 6,
        "start_time": "2023-02-09T06:51:23.639Z"
      },
      {
        "duration": 8,
        "start_time": "2023-02-09T06:51:27.903Z"
      },
      {
        "duration": 5,
        "start_time": "2023-02-09T06:51:34.359Z"
      },
      {
        "duration": 5,
        "start_time": "2023-02-09T06:52:39.888Z"
      },
      {
        "duration": 87,
        "start_time": "2023-02-09T06:52:44.504Z"
      },
      {
        "duration": 7,
        "start_time": "2023-02-09T06:52:59.496Z"
      },
      {
        "duration": 8,
        "start_time": "2023-02-09T06:53:21.185Z"
      },
      {
        "duration": 7,
        "start_time": "2023-02-09T06:53:42.032Z"
      },
      {
        "duration": 5,
        "start_time": "2023-02-09T06:54:22.433Z"
      },
      {
        "duration": 5,
        "start_time": "2023-02-09T06:54:27.673Z"
      },
      {
        "duration": 6,
        "start_time": "2023-02-09T06:54:44.842Z"
      },
      {
        "duration": 5,
        "start_time": "2023-02-09T06:54:50.162Z"
      },
      {
        "duration": 8,
        "start_time": "2023-02-09T06:58:00.755Z"
      },
      {
        "duration": 15,
        "start_time": "2023-02-09T06:58:14.603Z"
      },
      {
        "duration": 9,
        "start_time": "2023-02-09T06:58:25.532Z"
      },
      {
        "duration": 27,
        "start_time": "2023-02-09T07:01:20.127Z"
      },
      {
        "duration": 9,
        "start_time": "2023-02-09T07:01:44.956Z"
      },
      {
        "duration": 20,
        "start_time": "2023-02-09T07:02:08.966Z"
      },
      {
        "duration": 36,
        "start_time": "2023-02-09T07:02:27.551Z"
      },
      {
        "duration": 10,
        "start_time": "2023-02-09T07:02:40.742Z"
      },
      {
        "duration": 6,
        "start_time": "2023-02-09T07:03:14.131Z"
      },
      {
        "duration": 10,
        "start_time": "2023-02-09T07:04:11.528Z"
      },
      {
        "duration": 11,
        "start_time": "2023-02-09T07:04:14.151Z"
      },
      {
        "duration": 16,
        "start_time": "2023-02-09T07:04:43.649Z"
      },
      {
        "duration": 12,
        "start_time": "2023-02-09T07:09:33.238Z"
      },
      {
        "duration": 5,
        "start_time": "2023-02-09T07:10:00.546Z"
      },
      {
        "duration": 2345,
        "start_time": "2023-02-09T07:10:41.335Z"
      },
      {
        "duration": 867,
        "start_time": "2023-02-09T07:10:43.682Z"
      },
      {
        "duration": 55,
        "start_time": "2023-02-09T07:10:44.551Z"
      },
      {
        "duration": 316,
        "start_time": "2023-02-09T07:10:44.612Z"
      },
      {
        "duration": 6,
        "start_time": "2023-02-09T07:10:44.933Z"
      },
      {
        "duration": 382,
        "start_time": "2023-02-09T07:10:44.941Z"
      },
      {
        "duration": 15,
        "start_time": "2023-02-09T07:10:45.329Z"
      },
      {
        "duration": 6,
        "start_time": "2023-02-09T07:10:45.346Z"
      },
      {
        "duration": 2784,
        "start_time": "2023-02-09T07:10:45.354Z"
      },
      {
        "duration": 16,
        "start_time": "2023-02-09T07:10:48.140Z"
      },
      {
        "duration": 3,
        "start_time": "2023-02-09T07:10:48.158Z"
      },
      {
        "duration": 9,
        "start_time": "2023-02-09T07:10:48.163Z"
      },
      {
        "duration": 5,
        "start_time": "2023-02-09T07:10:48.174Z"
      },
      {
        "duration": 9,
        "start_time": "2023-02-09T07:10:48.181Z"
      },
      {
        "duration": 25,
        "start_time": "2023-02-09T07:10:48.191Z"
      },
      {
        "duration": 1005,
        "start_time": "2023-02-09T07:10:48.217Z"
      },
      {
        "duration": 1080,
        "start_time": "2023-02-09T07:10:49.236Z"
      },
      {
        "duration": 967,
        "start_time": "2023-02-09T07:10:50.323Z"
      },
      {
        "duration": 543,
        "start_time": "2023-02-09T07:10:51.293Z"
      },
      {
        "duration": 703,
        "start_time": "2023-02-09T07:10:51.843Z"
      },
      {
        "duration": 13,
        "start_time": "2023-02-09T07:10:52.547Z"
      },
      {
        "duration": 10,
        "start_time": "2023-02-09T07:10:52.562Z"
      },
      {
        "duration": 290,
        "start_time": "2023-02-09T07:10:52.574Z"
      },
      {
        "duration": 289,
        "start_time": "2023-02-09T07:10:52.866Z"
      },
      {
        "duration": 288,
        "start_time": "2023-02-09T07:10:53.158Z"
      },
      {
        "duration": 283,
        "start_time": "2023-02-09T07:10:53.448Z"
      },
      {
        "duration": 8,
        "start_time": "2023-02-09T07:10:53.737Z"
      },
      {
        "duration": 12,
        "start_time": "2023-02-09T07:11:05.232Z"
      },
      {
        "duration": 10,
        "start_time": "2023-02-09T07:11:16.538Z"
      },
      {
        "duration": 4,
        "start_time": "2023-02-09T07:11:19.639Z"
      },
      {
        "duration": 6,
        "start_time": "2023-02-09T07:11:43.726Z"
      },
      {
        "duration": 5,
        "start_time": "2023-02-09T07:12:58.229Z"
      },
      {
        "duration": 13,
        "start_time": "2023-02-09T07:13:03.301Z"
      },
      {
        "duration": 6,
        "start_time": "2023-02-09T07:13:07.084Z"
      },
      {
        "duration": 5,
        "start_time": "2023-02-09T07:14:44.894Z"
      },
      {
        "duration": 386,
        "start_time": "2023-02-09T07:14:57.531Z"
      },
      {
        "duration": 270,
        "start_time": "2023-02-09T07:15:02.375Z"
      },
      {
        "duration": 320,
        "start_time": "2023-02-09T07:18:32.960Z"
      },
      {
        "duration": 1461,
        "start_time": "2023-02-09T07:47:13.945Z"
      },
      {
        "duration": 704,
        "start_time": "2023-02-09T07:47:15.408Z"
      },
      {
        "duration": 43,
        "start_time": "2023-02-09T07:47:16.114Z"
      },
      {
        "duration": 346,
        "start_time": "2023-02-09T07:47:16.160Z"
      },
      {
        "duration": 9,
        "start_time": "2023-02-09T07:47:16.508Z"
      },
      {
        "duration": 466,
        "start_time": "2023-02-09T07:47:16.519Z"
      },
      {
        "duration": 5,
        "start_time": "2023-02-09T07:47:16.987Z"
      },
      {
        "duration": 12,
        "start_time": "2023-02-09T07:47:16.993Z"
      },
      {
        "duration": 2507,
        "start_time": "2023-02-09T07:47:17.006Z"
      },
      {
        "duration": 16,
        "start_time": "2023-02-09T07:47:19.516Z"
      },
      {
        "duration": 4,
        "start_time": "2023-02-09T07:47:19.534Z"
      },
      {
        "duration": 13,
        "start_time": "2023-02-09T07:47:19.539Z"
      },
      {
        "duration": 5,
        "start_time": "2023-02-09T07:47:19.553Z"
      },
      {
        "duration": 11,
        "start_time": "2023-02-09T07:47:19.559Z"
      },
      {
        "duration": 9,
        "start_time": "2023-02-09T07:47:19.571Z"
      },
      {
        "duration": 854,
        "start_time": "2023-02-09T07:47:19.582Z"
      },
      {
        "duration": 965,
        "start_time": "2023-02-09T07:47:20.438Z"
      },
      {
        "duration": 899,
        "start_time": "2023-02-09T07:47:21.405Z"
      },
      {
        "duration": 469,
        "start_time": "2023-02-09T07:47:22.305Z"
      },
      {
        "duration": 589,
        "start_time": "2023-02-09T07:47:22.776Z"
      },
      {
        "duration": 12,
        "start_time": "2023-02-09T07:47:23.367Z"
      },
      {
        "duration": 23,
        "start_time": "2023-02-09T07:47:23.381Z"
      },
      {
        "duration": 242,
        "start_time": "2023-02-09T07:47:23.406Z"
      },
      {
        "duration": 235,
        "start_time": "2023-02-09T07:47:23.650Z"
      },
      {
        "duration": 237,
        "start_time": "2023-02-09T07:47:23.887Z"
      },
      {
        "duration": 256,
        "start_time": "2023-02-09T07:47:24.126Z"
      },
      {
        "duration": 4,
        "start_time": "2023-02-09T07:47:24.384Z"
      },
      {
        "duration": 16,
        "start_time": "2023-02-09T07:47:24.391Z"
      },
      {
        "duration": 9,
        "start_time": "2023-02-09T07:47:24.409Z"
      },
      {
        "duration": 3,
        "start_time": "2023-02-09T07:47:24.420Z"
      },
      {
        "duration": 17,
        "start_time": "2023-02-09T07:47:24.425Z"
      },
      {
        "duration": 5,
        "start_time": "2023-02-09T07:47:24.443Z"
      },
      {
        "duration": 22,
        "start_time": "2023-02-09T07:47:24.449Z"
      },
      {
        "duration": 4,
        "start_time": "2023-02-09T07:47:24.473Z"
      },
      {
        "duration": 7,
        "start_time": "2023-02-09T07:47:24.503Z"
      },
      {
        "duration": 17,
        "start_time": "2023-02-09T07:47:24.511Z"
      },
      {
        "duration": 19,
        "start_time": "2023-02-09T07:47:24.529Z"
      },
      {
        "duration": 22,
        "start_time": "2023-02-09T07:47:24.550Z"
      },
      {
        "duration": 25684,
        "start_time": "2023-02-09T07:47:24.574Z"
      },
      {
        "duration": 3,
        "start_time": "2023-02-09T07:48:40.406Z"
      },
      {
        "duration": 6,
        "start_time": "2023-02-09T07:49:28.327Z"
      },
      {
        "duration": 5,
        "start_time": "2023-02-09T07:49:36.679Z"
      },
      {
        "duration": 5,
        "start_time": "2023-02-09T07:52:25.138Z"
      },
      {
        "duration": 3,
        "start_time": "2023-02-09T07:52:27.409Z"
      },
      {
        "duration": 6,
        "start_time": "2023-02-09T07:52:43.555Z"
      },
      {
        "duration": 4,
        "start_time": "2023-02-09T07:52:45.888Z"
      },
      {
        "duration": 257,
        "start_time": "2023-02-09T07:53:08.059Z"
      },
      {
        "duration": 224,
        "start_time": "2023-02-09T07:53:44.019Z"
      },
      {
        "duration": 7,
        "start_time": "2023-02-09T07:53:57.834Z"
      },
      {
        "duration": 227,
        "start_time": "2023-02-09T07:53:59.674Z"
      },
      {
        "duration": 6,
        "start_time": "2023-02-09T07:54:19.579Z"
      },
      {
        "duration": 225,
        "start_time": "2023-02-09T07:54:21.955Z"
      },
      {
        "duration": 7,
        "start_time": "2023-02-09T07:54:41.570Z"
      },
      {
        "duration": 261,
        "start_time": "2023-02-09T07:54:43.420Z"
      },
      {
        "duration": 9,
        "start_time": "2023-02-09T07:54:56.682Z"
      },
      {
        "duration": 326,
        "start_time": "2023-02-09T07:54:58.779Z"
      },
      {
        "duration": 223,
        "start_time": "2023-02-09T08:01:32.572Z"
      },
      {
        "duration": 445,
        "start_time": "2023-02-09T08:01:43.801Z"
      },
      {
        "duration": 9,
        "start_time": "2023-02-09T08:02:26.353Z"
      },
      {
        "duration": 7,
        "start_time": "2023-02-09T08:02:37.754Z"
      },
      {
        "duration": 464,
        "start_time": "2023-02-09T08:02:39.594Z"
      },
      {
        "duration": 660,
        "start_time": "2023-02-09T08:03:46.995Z"
      },
      {
        "duration": 91,
        "start_time": "2023-02-09T08:04:01.651Z"
      },
      {
        "duration": 530,
        "start_time": "2023-02-09T08:04:08.395Z"
      },
      {
        "duration": 724,
        "start_time": "2023-02-09T08:04:45.420Z"
      },
      {
        "duration": 9,
        "start_time": "2023-02-09T08:05:19.853Z"
      },
      {
        "duration": 842,
        "start_time": "2023-02-09T08:05:21.820Z"
      },
      {
        "duration": 1500,
        "start_time": "2023-02-09T08:06:37.222Z"
      },
      {
        "duration": 5,
        "start_time": "2023-02-09T08:07:08.831Z"
      },
      {
        "duration": 5,
        "start_time": "2023-02-09T08:07:26.629Z"
      },
      {
        "duration": 4,
        "start_time": "2023-02-09T08:07:35.477Z"
      },
      {
        "duration": 8,
        "start_time": "2023-02-09T08:07:57.367Z"
      },
      {
        "duration": 1628,
        "start_time": "2023-02-09T08:07:59.392Z"
      },
      {
        "duration": 1652,
        "start_time": "2023-02-09T08:08:36.759Z"
      },
      {
        "duration": 616,
        "start_time": "2023-02-09T08:10:29.817Z"
      },
      {
        "duration": 505,
        "start_time": "2023-02-09T08:11:05.354Z"
      },
      {
        "duration": 1547,
        "start_time": "2023-02-09T08:11:11.898Z"
      },
      {
        "duration": 400,
        "start_time": "2023-02-09T08:11:36.322Z"
      },
      {
        "duration": 1526,
        "start_time": "2023-02-09T08:11:52.661Z"
      },
      {
        "duration": 10,
        "start_time": "2023-02-09T08:12:35.854Z"
      },
      {
        "duration": 1641,
        "start_time": "2023-02-09T08:12:42.323Z"
      },
      {
        "duration": 280554,
        "start_time": "2023-02-09T08:34:12.738Z"
      },
      {
        "duration": 2921,
        "start_time": "2023-02-09T08:41:14.617Z"
      },
      {
        "duration": 113675,
        "start_time": "2023-02-09T08:41:42.096Z"
      },
      {
        "duration": 983,
        "start_time": "2023-02-09T08:48:28.469Z"
      },
      {
        "duration": 922,
        "start_time": "2023-02-09T08:50:29.147Z"
      },
      {
        "duration": 37,
        "start_time": "2023-02-09T08:50:55.104Z"
      },
      {
        "duration": 19,
        "start_time": "2023-02-09T08:50:59.455Z"
      },
      {
        "duration": 21,
        "start_time": "2023-02-09T08:51:01.453Z"
      },
      {
        "duration": 1329,
        "start_time": "2023-02-09T08:51:13.209Z"
      },
      {
        "duration": 61,
        "start_time": "2023-02-09T08:56:47.581Z"
      },
      {
        "duration": 87,
        "start_time": "2023-02-09T08:56:57.620Z"
      },
      {
        "duration": 10,
        "start_time": "2023-02-09T08:57:40.879Z"
      },
      {
        "duration": 6,
        "start_time": "2023-02-09T08:58:18.020Z"
      },
      {
        "duration": 3,
        "start_time": "2023-02-09T08:58:28.103Z"
      },
      {
        "duration": 9,
        "start_time": "2023-02-09T08:58:46.374Z"
      },
      {
        "duration": 1507,
        "start_time": "2023-02-09T08:58:53.712Z"
      },
      {
        "duration": 115996,
        "start_time": "2023-02-09T08:59:00.271Z"
      },
      {
        "duration": 84,
        "start_time": "2023-02-09T09:08:56.581Z"
      },
      {
        "duration": 3,
        "start_time": "2023-02-09T09:09:03.468Z"
      },
      {
        "duration": 6,
        "start_time": "2023-02-09T09:09:05.265Z"
      },
      {
        "duration": 27638,
        "start_time": "2023-02-09T09:09:16.759Z"
      },
      {
        "duration": 5914,
        "start_time": "2023-02-09T09:13:29.018Z"
      },
      {
        "duration": 7256,
        "start_time": "2023-02-09T09:15:55.767Z"
      },
      {
        "duration": 10,
        "start_time": "2023-02-09T09:22:04.017Z"
      },
      {
        "duration": 6,
        "start_time": "2023-02-09T09:22:05.979Z"
      },
      {
        "duration": 1505,
        "start_time": "2023-02-09T09:22:22.817Z"
      },
      {
        "duration": 3158,
        "start_time": "2023-02-09T09:22:24.324Z"
      },
      {
        "duration": 41,
        "start_time": "2023-02-09T09:22:27.484Z"
      },
      {
        "duration": 250,
        "start_time": "2023-02-09T09:22:27.527Z"
      },
      {
        "duration": 6,
        "start_time": "2023-02-09T09:22:27.780Z"
      },
      {
        "duration": 349,
        "start_time": "2023-02-09T09:22:27.787Z"
      },
      {
        "duration": 4,
        "start_time": "2023-02-09T09:22:28.138Z"
      },
      {
        "duration": 12,
        "start_time": "2023-02-09T09:22:28.144Z"
      },
      {
        "duration": 2484,
        "start_time": "2023-02-09T09:22:28.157Z"
      },
      {
        "duration": 15,
        "start_time": "2023-02-09T09:22:30.643Z"
      },
      {
        "duration": 8,
        "start_time": "2023-02-09T09:22:30.660Z"
      },
      {
        "duration": 42,
        "start_time": "2023-02-09T09:22:30.669Z"
      },
      {
        "duration": 17,
        "start_time": "2023-02-09T09:22:30.713Z"
      },
      {
        "duration": 32,
        "start_time": "2023-02-09T09:22:30.734Z"
      },
      {
        "duration": 31,
        "start_time": "2023-02-09T09:22:30.768Z"
      },
      {
        "duration": 922,
        "start_time": "2023-02-09T09:22:30.801Z"
      },
      {
        "duration": 997,
        "start_time": "2023-02-09T09:22:31.726Z"
      },
      {
        "duration": 868,
        "start_time": "2023-02-09T09:22:32.725Z"
      },
      {
        "duration": 463,
        "start_time": "2023-02-09T09:22:33.595Z"
      },
      {
        "duration": 613,
        "start_time": "2023-02-09T09:22:34.060Z"
      },
      {
        "duration": 13,
        "start_time": "2023-02-09T09:22:34.675Z"
      },
      {
        "duration": 27,
        "start_time": "2023-02-09T09:22:34.690Z"
      },
      {
        "duration": 269,
        "start_time": "2023-02-09T09:22:34.719Z"
      },
      {
        "duration": 278,
        "start_time": "2023-02-09T09:22:34.990Z"
      },
      {
        "duration": 254,
        "start_time": "2023-02-09T09:22:35.270Z"
      },
      {
        "duration": 254,
        "start_time": "2023-02-09T09:22:35.526Z"
      },
      {
        "duration": 5,
        "start_time": "2023-02-09T09:22:35.782Z"
      },
      {
        "duration": 20,
        "start_time": "2023-02-09T09:22:35.789Z"
      },
      {
        "duration": 14,
        "start_time": "2023-02-09T09:22:35.811Z"
      },
      {
        "duration": 10,
        "start_time": "2023-02-09T09:22:35.826Z"
      },
      {
        "duration": 12,
        "start_time": "2023-02-09T09:22:35.838Z"
      },
      {
        "duration": 4,
        "start_time": "2023-02-09T09:22:35.851Z"
      },
      {
        "duration": 21,
        "start_time": "2023-02-09T09:22:35.857Z"
      },
      {
        "duration": 3,
        "start_time": "2023-02-09T09:22:35.880Z"
      },
      {
        "duration": 7,
        "start_time": "2023-02-09T09:22:35.903Z"
      },
      {
        "duration": 12,
        "start_time": "2023-02-09T09:22:35.912Z"
      },
      {
        "duration": 11,
        "start_time": "2023-02-09T09:22:35.925Z"
      },
      {
        "duration": 11,
        "start_time": "2023-02-09T09:22:35.937Z"
      },
      {
        "duration": 27267,
        "start_time": "2023-02-09T09:22:35.950Z"
      },
      {
        "duration": 9,
        "start_time": "2023-02-09T09:23:03.219Z"
      },
      {
        "duration": 1535,
        "start_time": "2023-02-09T09:23:03.232Z"
      },
      {
        "duration": 138221,
        "start_time": "2023-02-09T09:23:04.769Z"
      },
      {
        "duration": 141541,
        "start_time": "2023-02-09T09:25:22.992Z"
      },
      {
        "duration": 4,
        "start_time": "2023-02-09T09:27:44.534Z"
      },
      {
        "duration": 11,
        "start_time": "2023-02-09T09:27:44.540Z"
      },
      {
        "duration": 34012,
        "start_time": "2023-02-09T09:27:44.552Z"
      },
      {
        "duration": 8385,
        "start_time": "2023-02-09T09:28:18.566Z"
      },
      {
        "duration": 380,
        "start_time": "2023-02-09T09:28:26.953Z"
      },
      {
        "duration": 18,
        "start_time": "2023-02-09T09:28:27.335Z"
      },
      {
        "duration": 26,
        "start_time": "2023-02-09T09:28:27.354Z"
      },
      {
        "duration": 24,
        "start_time": "2023-02-09T09:28:27.381Z"
      },
      {
        "duration": 9,
        "start_time": "2023-02-09T09:28:27.406Z"
      },
      {
        "duration": 4842,
        "start_time": "2023-02-09T09:28:27.416Z"
      },
      {
        "duration": 245,
        "start_time": "2023-02-09T09:28:32.260Z"
      },
      {
        "duration": 10,
        "start_time": "2023-02-09T09:28:32.507Z"
      },
      {
        "duration": 3109,
        "start_time": "2023-02-10T07:04:22.765Z"
      },
      {
        "duration": 2270,
        "start_time": "2023-02-10T07:04:25.877Z"
      },
      {
        "duration": 59,
        "start_time": "2023-02-10T07:04:28.149Z"
      },
      {
        "duration": 396,
        "start_time": "2023-02-10T07:04:28.211Z"
      },
      {
        "duration": 20,
        "start_time": "2023-02-10T07:04:28.609Z"
      },
      {
        "duration": 551,
        "start_time": "2023-02-10T07:04:28.632Z"
      },
      {
        "duration": 10,
        "start_time": "2023-02-10T07:04:29.188Z"
      },
      {
        "duration": 15,
        "start_time": "2023-02-10T07:04:29.200Z"
      },
      {
        "duration": 3156,
        "start_time": "2023-02-10T07:04:29.217Z"
      },
      {
        "duration": 25,
        "start_time": "2023-02-10T07:04:32.377Z"
      },
      {
        "duration": 7,
        "start_time": "2023-02-10T07:04:32.405Z"
      },
      {
        "duration": 11,
        "start_time": "2023-02-10T07:04:32.428Z"
      },
      {
        "duration": 5,
        "start_time": "2023-02-10T07:04:32.442Z"
      },
      {
        "duration": 16,
        "start_time": "2023-02-10T07:04:32.449Z"
      },
      {
        "duration": 21,
        "start_time": "2023-02-10T07:04:32.467Z"
      },
      {
        "duration": 1005,
        "start_time": "2023-02-10T07:04:32.489Z"
      },
      {
        "duration": 1083,
        "start_time": "2023-02-10T07:04:33.495Z"
      },
      {
        "duration": 1031,
        "start_time": "2023-02-10T07:04:34.581Z"
      },
      {
        "duration": 531,
        "start_time": "2023-02-10T07:04:35.615Z"
      },
      {
        "duration": 800,
        "start_time": "2023-02-10T07:04:36.148Z"
      },
      {
        "duration": 18,
        "start_time": "2023-02-10T07:04:36.950Z"
      },
      {
        "duration": 14,
        "start_time": "2023-02-10T07:04:36.971Z"
      },
      {
        "duration": 309,
        "start_time": "2023-02-10T07:04:36.987Z"
      },
      {
        "duration": 268,
        "start_time": "2023-02-10T07:04:37.298Z"
      },
      {
        "duration": 284,
        "start_time": "2023-02-10T07:04:37.568Z"
      },
      {
        "duration": 293,
        "start_time": "2023-02-10T07:04:37.856Z"
      },
      {
        "duration": 11,
        "start_time": "2023-02-10T07:04:38.151Z"
      },
      {
        "duration": 13,
        "start_time": "2023-02-10T07:04:38.167Z"
      },
      {
        "duration": 14,
        "start_time": "2023-02-10T07:04:38.182Z"
      },
      {
        "duration": 33,
        "start_time": "2023-02-10T07:04:38.198Z"
      },
      {
        "duration": 18,
        "start_time": "2023-02-10T07:04:38.232Z"
      },
      {
        "duration": 5,
        "start_time": "2023-02-10T07:04:38.252Z"
      },
      {
        "duration": 45,
        "start_time": "2023-02-10T07:04:38.259Z"
      },
      {
        "duration": 5,
        "start_time": "2023-02-10T07:04:38.307Z"
      },
      {
        "duration": 29,
        "start_time": "2023-02-10T07:04:38.314Z"
      },
      {
        "duration": 4,
        "start_time": "2023-02-10T07:04:38.346Z"
      },
      {
        "duration": 11,
        "start_time": "2023-02-10T07:04:38.353Z"
      },
      {
        "duration": 27,
        "start_time": "2023-02-10T07:04:38.367Z"
      },
      {
        "duration": 34,
        "start_time": "2023-02-10T07:14:06.292Z"
      },
      {
        "duration": 32,
        "start_time": "2023-02-10T07:14:08.056Z"
      },
      {
        "duration": 184,
        "start_time": "2023-02-10T07:14:09.554Z"
      },
      {
        "duration": 7,
        "start_time": "2023-02-10T07:14:50.580Z"
      },
      {
        "duration": 7,
        "start_time": "2023-02-10T07:15:48.958Z"
      },
      {
        "duration": 13,
        "start_time": "2023-02-10T07:16:23.850Z"
      },
      {
        "duration": 6,
        "start_time": "2023-02-10T07:16:37.068Z"
      },
      {
        "duration": 8011,
        "start_time": "2023-02-10T07:17:30.909Z"
      },
      {
        "duration": 20,
        "start_time": "2023-02-10T07:25:02.603Z"
      },
      {
        "duration": 10,
        "start_time": "2023-02-10T07:46:16.423Z"
      },
      {
        "duration": 1863,
        "start_time": "2023-02-10T08:11:00.359Z"
      },
      {
        "duration": 2021,
        "start_time": "2023-02-10T08:11:02.225Z"
      },
      {
        "duration": 46,
        "start_time": "2023-02-10T08:11:04.248Z"
      },
      {
        "duration": 271,
        "start_time": "2023-02-10T08:11:04.296Z"
      },
      {
        "duration": 6,
        "start_time": "2023-02-10T08:11:04.569Z"
      },
      {
        "duration": 291,
        "start_time": "2023-02-10T08:11:04.577Z"
      },
      {
        "duration": 5,
        "start_time": "2023-02-10T08:11:04.869Z"
      },
      {
        "duration": 4,
        "start_time": "2023-02-10T08:11:04.876Z"
      },
      {
        "duration": 2221,
        "start_time": "2023-02-10T08:11:04.882Z"
      },
      {
        "duration": 27,
        "start_time": "2023-02-10T08:11:07.105Z"
      },
      {
        "duration": 8,
        "start_time": "2023-02-10T08:11:07.134Z"
      },
      {
        "duration": 10,
        "start_time": "2023-02-10T08:11:07.144Z"
      },
      {
        "duration": 6,
        "start_time": "2023-02-10T08:11:07.156Z"
      },
      {
        "duration": 6,
        "start_time": "2023-02-10T08:11:07.166Z"
      },
      {
        "duration": 42,
        "start_time": "2023-02-10T08:11:07.173Z"
      },
      {
        "duration": 859,
        "start_time": "2023-02-10T08:11:07.217Z"
      },
      {
        "duration": 1016,
        "start_time": "2023-02-10T08:11:08.078Z"
      },
      {
        "duration": 834,
        "start_time": "2023-02-10T08:11:09.096Z"
      },
      {
        "duration": 540,
        "start_time": "2023-02-10T08:11:09.932Z"
      },
      {
        "duration": 609,
        "start_time": "2023-02-10T08:11:10.474Z"
      },
      {
        "duration": 27,
        "start_time": "2023-02-10T08:11:11.085Z"
      },
      {
        "duration": 17,
        "start_time": "2023-02-10T08:11:11.114Z"
      },
      {
        "duration": 278,
        "start_time": "2023-02-10T08:11:11.132Z"
      },
      {
        "duration": 279,
        "start_time": "2023-02-10T08:11:11.412Z"
      },
      {
        "duration": 264,
        "start_time": "2023-02-10T08:11:11.693Z"
      },
      {
        "duration": 382,
        "start_time": "2023-02-10T08:11:11.959Z"
      },
      {
        "duration": 8,
        "start_time": "2023-02-10T08:11:12.343Z"
      },
      {
        "duration": 12,
        "start_time": "2023-02-10T08:11:12.353Z"
      },
      {
        "duration": 19,
        "start_time": "2023-02-10T08:11:12.367Z"
      },
      {
        "duration": 23,
        "start_time": "2023-02-10T08:11:12.389Z"
      },
      {
        "duration": 12,
        "start_time": "2023-02-10T08:11:12.414Z"
      },
      {
        "duration": 5,
        "start_time": "2023-02-10T08:11:12.428Z"
      },
      {
        "duration": 27,
        "start_time": "2023-02-10T08:11:12.435Z"
      },
      {
        "duration": 6,
        "start_time": "2023-02-10T08:11:12.465Z"
      },
      {
        "duration": 46,
        "start_time": "2023-02-10T08:11:12.473Z"
      },
      {
        "duration": 11,
        "start_time": "2023-02-10T08:11:12.521Z"
      },
      {
        "duration": 8,
        "start_time": "2023-02-10T08:11:12.533Z"
      },
      {
        "duration": 11,
        "start_time": "2023-02-10T08:11:12.544Z"
      },
      {
        "duration": 29720,
        "start_time": "2023-02-10T08:16:16.166Z"
      },
      {
        "duration": 29485,
        "start_time": "2023-02-10T08:17:58.232Z"
      },
      {
        "duration": 9,
        "start_time": "2023-02-10T10:56:04.647Z"
      },
      {
        "duration": 1513,
        "start_time": "2023-02-10T10:56:05.855Z"
      },
      {
        "duration": 157630,
        "start_time": "2023-02-10T10:56:09.923Z"
      },
      {
        "duration": 162773,
        "start_time": "2023-02-10T11:16:52.553Z"
      },
      {
        "duration": 4,
        "start_time": "2023-02-10T11:23:03.067Z"
      },
      {
        "duration": 6,
        "start_time": "2023-02-10T11:23:03.659Z"
      },
      {
        "duration": 248378,
        "start_time": "2023-02-10T11:23:12.426Z"
      },
      {
        "duration": 62879,
        "start_time": "2023-02-10T11:27:36.937Z"
      },
      {
        "duration": 30044,
        "start_time": "2023-02-10T11:30:44.481Z"
      },
      {
        "duration": 30159,
        "start_time": "2023-02-10T11:32:15.733Z"
      },
      {
        "duration": 30174,
        "start_time": "2023-02-10T11:33:36.629Z"
      },
      {
        "duration": 30030,
        "start_time": "2023-02-10T11:34:30.587Z"
      },
      {
        "duration": 48,
        "start_time": "2023-02-10T11:35:17.381Z"
      },
      {
        "duration": 30096,
        "start_time": "2023-02-10T11:35:27.237Z"
      },
      {
        "duration": 63970,
        "start_time": "2023-02-10T11:37:04.766Z"
      },
      {
        "duration": 3,
        "start_time": "2023-02-10T11:39:10.887Z"
      },
      {
        "duration": 6,
        "start_time": "2023-02-10T11:39:13.558Z"
      },
      {
        "duration": 248014,
        "start_time": "2023-02-10T11:39:20.375Z"
      },
      {
        "duration": 17,
        "start_time": "2023-02-10T11:45:15.938Z"
      },
      {
        "duration": 23,
        "start_time": "2023-02-10T11:45:18.172Z"
      },
      {
        "duration": 5,
        "start_time": "2023-02-10T11:45:22.201Z"
      },
      {
        "duration": 4,
        "start_time": "2023-02-10T11:45:24.566Z"
      },
      {
        "duration": 55006,
        "start_time": "2023-02-10T11:45:34.926Z"
      },
      {
        "duration": 18,
        "start_time": "2023-02-10T11:48:05.246Z"
      },
      {
        "duration": 19,
        "start_time": "2023-02-10T11:48:23.738Z"
      },
      {
        "duration": 5,
        "start_time": "2023-02-10T11:49:12.267Z"
      },
      {
        "duration": 4,
        "start_time": "2023-02-10T11:49:14.826Z"
      },
      {
        "duration": 53771,
        "start_time": "2023-02-10T11:49:20.087Z"
      },
      {
        "duration": 319,
        "start_time": "2023-02-10T11:50:24.287Z"
      },
      {
        "duration": 4,
        "start_time": "2023-02-10T11:50:36.230Z"
      },
      {
        "duration": 29942,
        "start_time": "2023-02-10T11:51:11.234Z"
      },
      {
        "duration": 4,
        "start_time": "2023-02-10T11:52:04.050Z"
      },
      {
        "duration": 4553,
        "start_time": "2023-02-10T11:52:51.740Z"
      },
      {
        "duration": 4,
        "start_time": "2023-02-10T11:53:06.274Z"
      },
      {
        "duration": 54209,
        "start_time": "2023-02-10T11:54:08.867Z"
      },
      {
        "duration": 5,
        "start_time": "2023-02-10T11:55:09.036Z"
      },
      {
        "duration": 30254,
        "start_time": "2023-02-10T11:55:49.450Z"
      },
      {
        "duration": 29759,
        "start_time": "2023-02-10T11:57:25.942Z"
      },
      {
        "duration": 3,
        "start_time": "2023-02-10T11:58:10.463Z"
      },
      {
        "duration": 5191,
        "start_time": "2023-02-10T11:59:00.199Z"
      },
      {
        "duration": 5606,
        "start_time": "2023-02-10T12:03:18.835Z"
      },
      {
        "duration": 10,
        "start_time": "2023-02-10T12:04:01.530Z"
      },
      {
        "duration": 9,
        "start_time": "2023-02-10T12:04:09.579Z"
      },
      {
        "duration": 341,
        "start_time": "2023-02-10T12:04:19.931Z"
      },
      {
        "duration": 4929,
        "start_time": "2023-02-10T12:04:39.675Z"
      },
      {
        "duration": 2242,
        "start_time": "2023-02-10T12:06:46.479Z"
      },
      {
        "duration": 544,
        "start_time": "2023-02-10T12:09:13.155Z"
      },
      {
        "duration": 3,
        "start_time": "2023-02-10T12:09:28.635Z"
      },
      {
        "duration": 5,
        "start_time": "2023-02-10T12:09:32.027Z"
      },
      {
        "duration": 410,
        "start_time": "2023-02-10T12:09:34.782Z"
      },
      {
        "duration": 1857,
        "start_time": "2023-02-10T13:18:26.635Z"
      },
      {
        "duration": 2903,
        "start_time": "2023-02-10T13:18:28.494Z"
      },
      {
        "duration": 51,
        "start_time": "2023-02-10T13:18:31.399Z"
      },
      {
        "duration": 272,
        "start_time": "2023-02-10T13:18:31.452Z"
      },
      {
        "duration": 8,
        "start_time": "2023-02-10T13:18:31.734Z"
      },
      {
        "duration": 339,
        "start_time": "2023-02-10T13:18:31.743Z"
      },
      {
        "duration": 5,
        "start_time": "2023-02-10T13:18:32.084Z"
      },
      {
        "duration": 49,
        "start_time": "2023-02-10T13:18:32.091Z"
      },
      {
        "duration": 2117,
        "start_time": "2023-02-10T13:18:32.142Z"
      },
      {
        "duration": 21,
        "start_time": "2023-02-10T13:18:34.262Z"
      },
      {
        "duration": 32,
        "start_time": "2023-02-10T13:18:34.286Z"
      },
      {
        "duration": 10,
        "start_time": "2023-02-10T13:18:34.327Z"
      },
      {
        "duration": 14,
        "start_time": "2023-02-10T13:18:34.339Z"
      },
      {
        "duration": 13,
        "start_time": "2023-02-10T13:18:34.355Z"
      },
      {
        "duration": 6,
        "start_time": "2023-02-10T13:18:34.370Z"
      },
      {
        "duration": 1010,
        "start_time": "2023-02-10T13:18:34.381Z"
      },
      {
        "duration": 937,
        "start_time": "2023-02-10T13:18:35.393Z"
      },
      {
        "duration": 1014,
        "start_time": "2023-02-10T13:18:36.336Z"
      },
      {
        "duration": 511,
        "start_time": "2023-02-10T13:18:37.352Z"
      },
      {
        "duration": 625,
        "start_time": "2023-02-10T13:18:37.865Z"
      },
      {
        "duration": 23,
        "start_time": "2023-02-10T13:18:38.492Z"
      },
      {
        "duration": 21,
        "start_time": "2023-02-10T13:18:38.517Z"
      },
      {
        "duration": 291,
        "start_time": "2023-02-10T13:18:38.541Z"
      },
      {
        "duration": 259,
        "start_time": "2023-02-10T13:18:38.834Z"
      },
      {
        "duration": 281,
        "start_time": "2023-02-10T13:18:39.096Z"
      },
      {
        "duration": 263,
        "start_time": "2023-02-10T13:18:39.378Z"
      },
      {
        "duration": 5,
        "start_time": "2023-02-10T13:18:39.643Z"
      },
      {
        "duration": 12,
        "start_time": "2023-02-10T13:18:39.654Z"
      },
      {
        "duration": 54,
        "start_time": "2023-02-10T13:18:39.668Z"
      },
      {
        "duration": 5,
        "start_time": "2023-02-10T13:18:39.728Z"
      },
      {
        "duration": 12,
        "start_time": "2023-02-10T13:18:39.735Z"
      },
      {
        "duration": 4,
        "start_time": "2023-02-10T13:18:39.749Z"
      },
      {
        "duration": 28,
        "start_time": "2023-02-10T13:18:39.755Z"
      },
      {
        "duration": 7,
        "start_time": "2023-02-10T13:18:39.785Z"
      },
      {
        "duration": 45,
        "start_time": "2023-02-10T13:18:39.794Z"
      },
      {
        "duration": 4,
        "start_time": "2023-02-10T13:18:39.842Z"
      },
      {
        "duration": 13,
        "start_time": "2023-02-10T13:18:39.848Z"
      },
      {
        "duration": 11,
        "start_time": "2023-02-10T13:18:39.863Z"
      },
      {
        "duration": 31940,
        "start_time": "2023-02-10T13:18:39.876Z"
      },
      {
        "duration": 14,
        "start_time": "2023-02-10T13:19:11.825Z"
      },
      {
        "duration": 1605,
        "start_time": "2023-02-10T13:19:11.841Z"
      },
      {
        "duration": 184451,
        "start_time": "2023-02-10T13:19:13.451Z"
      },
      {
        "duration": 174887,
        "start_time": "2023-02-10T13:22:17.904Z"
      },
      {
        "duration": 4,
        "start_time": "2023-02-10T13:25:12.792Z"
      },
      {
        "duration": 17,
        "start_time": "2023-02-10T13:25:12.798Z"
      },
      {
        "duration": 247665,
        "start_time": "2023-02-10T13:25:12.816Z"
      },
      {
        "duration": 63962,
        "start_time": "2023-02-10T13:29:20.482Z"
      },
      {
        "duration": 362,
        "start_time": "2023-02-10T13:30:24.446Z"
      },
      {
        "duration": 23,
        "start_time": "2023-02-10T13:30:24.810Z"
      },
      {
        "duration": 28,
        "start_time": "2023-02-10T13:30:24.835Z"
      },
      {
        "duration": 5,
        "start_time": "2023-02-10T13:30:24.865Z"
      },
      {
        "duration": 160,
        "start_time": "2023-02-10T13:30:24.872Z"
      },
      {
        "duration": 0,
        "start_time": "2023-02-10T13:30:25.034Z"
      },
      {
        "duration": 0,
        "start_time": "2023-02-10T13:30:25.035Z"
      },
      {
        "duration": 0,
        "start_time": "2023-02-10T13:30:25.037Z"
      },
      {
        "duration": 0,
        "start_time": "2023-02-10T13:30:25.038Z"
      },
      {
        "duration": 0,
        "start_time": "2023-02-10T13:30:25.039Z"
      },
      {
        "duration": 5,
        "start_time": "2023-02-10T14:22:00.313Z"
      },
      {
        "duration": 5425,
        "start_time": "2023-02-10T14:22:03.602Z"
      },
      {
        "duration": 495,
        "start_time": "2023-02-10T14:22:09.030Z"
      },
      {
        "duration": 6,
        "start_time": "2023-02-10T14:22:09.528Z"
      },
      {
        "duration": 15,
        "start_time": "2023-02-10T14:26:01.056Z"
      },
      {
        "duration": 13,
        "start_time": "2023-02-10T14:27:53.891Z"
      },
      {
        "duration": 13,
        "start_time": "2023-02-10T14:28:23.349Z"
      },
      {
        "duration": 56,
        "start_time": "2023-02-10T14:28:28.086Z"
      },
      {
        "duration": 4,
        "start_time": "2023-02-10T14:28:31.350Z"
      },
      {
        "duration": 52,
        "start_time": "2023-02-10T14:29:58.431Z"
      },
      {
        "duration": 59,
        "start_time": "2023-02-10T14:30:13.905Z"
      },
      {
        "duration": 10,
        "start_time": "2023-02-10T14:34:05.482Z"
      },
      {
        "duration": 4,
        "start_time": "2023-02-10T14:34:11.842Z"
      },
      {
        "duration": 131998,
        "start_time": "2023-02-10T14:38:57.972Z"
      },
      {
        "duration": 0,
        "start_time": "2023-02-10T14:41:09.982Z"
      },
      {
        "duration": 4,
        "start_time": "2023-02-10T14:41:13.528Z"
      },
      {
        "duration": 6,
        "start_time": "2023-02-10T14:41:40.345Z"
      },
      {
        "duration": 6,
        "start_time": "2023-02-10T14:41:53.975Z"
      },
      {
        "duration": 27082,
        "start_time": "2023-02-10T14:46:15.999Z"
      },
      {
        "duration": 42,
        "start_time": "2023-02-10T14:47:05.695Z"
      },
      {
        "duration": 279551,
        "start_time": "2023-02-10T14:47:19.325Z"
      },
      {
        "duration": 34481,
        "start_time": "2023-02-10T14:55:55.921Z"
      },
      {
        "duration": 233,
        "start_time": "2023-02-10T14:56:30.410Z"
      },
      {
        "duration": 6383,
        "start_time": "2023-02-10T14:57:40.623Z"
      },
      {
        "duration": 9,
        "start_time": "2023-02-10T14:59:21.663Z"
      },
      {
        "duration": 1505,
        "start_time": "2023-02-10T15:00:18.177Z"
      },
      {
        "duration": 1944,
        "start_time": "2023-02-10T15:00:19.684Z"
      },
      {
        "duration": 43,
        "start_time": "2023-02-10T15:00:21.629Z"
      },
      {
        "duration": 244,
        "start_time": "2023-02-10T15:00:21.674Z"
      },
      {
        "duration": 6,
        "start_time": "2023-02-10T15:00:21.919Z"
      },
      {
        "duration": 308,
        "start_time": "2023-02-10T15:00:21.927Z"
      },
      {
        "duration": 5,
        "start_time": "2023-02-10T15:00:22.237Z"
      },
      {
        "duration": 8,
        "start_time": "2023-02-10T15:00:22.244Z"
      },
      {
        "duration": 1945,
        "start_time": "2023-02-10T15:00:22.254Z"
      },
      {
        "duration": 18,
        "start_time": "2023-02-10T15:00:24.202Z"
      },
      {
        "duration": 4,
        "start_time": "2023-02-10T15:00:24.222Z"
      },
      {
        "duration": 16,
        "start_time": "2023-02-10T15:00:24.227Z"
      },
      {
        "duration": 5,
        "start_time": "2023-02-10T15:00:24.244Z"
      },
      {
        "duration": 6,
        "start_time": "2023-02-10T15:00:24.251Z"
      },
      {
        "duration": 7,
        "start_time": "2023-02-10T15:00:24.259Z"
      },
      {
        "duration": 800,
        "start_time": "2023-02-10T15:00:24.268Z"
      },
      {
        "duration": 884,
        "start_time": "2023-02-10T15:00:25.069Z"
      },
      {
        "duration": 801,
        "start_time": "2023-02-10T15:00:25.955Z"
      },
      {
        "duration": 497,
        "start_time": "2023-02-10T15:00:26.757Z"
      },
      {
        "duration": 586,
        "start_time": "2023-02-10T15:00:27.257Z"
      },
      {
        "duration": 14,
        "start_time": "2023-02-10T15:00:27.844Z"
      },
      {
        "duration": 14,
        "start_time": "2023-02-10T15:00:27.860Z"
      },
      {
        "duration": 254,
        "start_time": "2023-02-10T15:00:27.876Z"
      },
      {
        "duration": 233,
        "start_time": "2023-02-10T15:00:28.131Z"
      },
      {
        "duration": 221,
        "start_time": "2023-02-10T15:00:28.365Z"
      },
      {
        "duration": 241,
        "start_time": "2023-02-10T15:00:28.588Z"
      },
      {
        "duration": 5,
        "start_time": "2023-02-10T15:00:28.831Z"
      },
      {
        "duration": 7,
        "start_time": "2023-02-10T15:00:28.840Z"
      },
      {
        "duration": 9,
        "start_time": "2023-02-10T15:00:28.849Z"
      },
      {
        "duration": 4,
        "start_time": "2023-02-10T15:00:28.860Z"
      },
      {
        "duration": 12,
        "start_time": "2023-02-10T15:00:28.865Z"
      },
      {
        "duration": 4,
        "start_time": "2023-02-10T15:00:28.909Z"
      },
      {
        "duration": 19,
        "start_time": "2023-02-10T15:00:28.915Z"
      },
      {
        "duration": 3,
        "start_time": "2023-02-10T15:00:28.936Z"
      },
      {
        "duration": 16,
        "start_time": "2023-02-10T15:00:28.940Z"
      },
      {
        "duration": 4,
        "start_time": "2023-02-10T15:00:28.958Z"
      },
      {
        "duration": 7,
        "start_time": "2023-02-10T15:00:28.963Z"
      },
      {
        "duration": 37,
        "start_time": "2023-02-10T15:00:28.972Z"
      },
      {
        "duration": 3,
        "start_time": "2023-02-10T15:00:29.011Z"
      },
      {
        "duration": 30032,
        "start_time": "2023-02-10T15:00:29.015Z"
      },
      {
        "duration": 9,
        "start_time": "2023-02-10T15:00:59.048Z"
      },
      {
        "duration": 1423,
        "start_time": "2023-02-10T15:00:59.059Z"
      },
      {
        "duration": 158379,
        "start_time": "2023-02-10T15:01:00.483Z"
      },
      {
        "duration": 163718,
        "start_time": "2023-02-10T15:03:38.863Z"
      },
      {
        "duration": 5,
        "start_time": "2023-02-10T15:06:22.583Z"
      },
      {
        "duration": 20,
        "start_time": "2023-02-10T15:06:22.590Z"
      },
      {
        "duration": 269648,
        "start_time": "2023-02-10T15:06:22.612Z"
      },
      {
        "duration": 31300,
        "start_time": "2023-02-10T15:10:52.262Z"
      },
      {
        "duration": 367,
        "start_time": "2023-02-10T15:11:23.564Z"
      },
      {
        "duration": 18,
        "start_time": "2023-02-10T15:11:23.933Z"
      },
      {
        "duration": 27,
        "start_time": "2023-02-10T15:11:23.952Z"
      },
      {
        "duration": 5,
        "start_time": "2023-02-10T15:11:23.981Z"
      },
      {
        "duration": 24,
        "start_time": "2023-02-10T15:11:23.988Z"
      },
      {
        "duration": 3913,
        "start_time": "2023-02-10T15:11:24.014Z"
      },
      {
        "duration": 335,
        "start_time": "2023-02-10T15:11:27.928Z"
      },
      {
        "duration": 4,
        "start_time": "2023-02-10T15:11:28.265Z"
      },
      {
        "duration": 10,
        "start_time": "2023-02-10T15:11:28.271Z"
      }
    ],
    "colab": {
      "toc_visible": true,
      "provenance": [],
      "include_colab_link": true
    },
    "kernelspec": {
      "display_name": "Python 3 (ipykernel)",
      "language": "python",
      "name": "python3"
    },
    "language_info": {
      "codemirror_mode": {
        "name": "ipython",
        "version": 3
      },
      "file_extension": ".py",
      "mimetype": "text/x-python",
      "name": "python",
      "nbconvert_exporter": "python",
      "pygments_lexer": "ipython3",
      "version": "3.9.5"
    },
    "toc": {
      "base_numbering": 1,
      "nav_menu": {},
      "number_sections": true,
      "sideBar": true,
      "skip_h1_title": true,
      "title_cell": "Содержание",
      "title_sidebar": "Contents",
      "toc_cell": true,
      "toc_position": {
        "height": "calc(100% - 180px)",
        "left": "10px",
        "top": "150px",
        "width": "366.172px"
      },
      "toc_section_display": true,
      "toc_window_display": true
    }
  },
  "nbformat": 4,
  "nbformat_minor": 0
}