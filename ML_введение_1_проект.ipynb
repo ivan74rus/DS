{
  "cells": [
    {
      "cell_type": "markdown",
      "metadata": {
        "id": "view-in-github",
        "colab_type": "text"
      },
      "source": [
        "<a href=\"https://colab.research.google.com/github/ivan74rus/DS/blob/main/ML_%D0%B2%D0%B2%D0%B5%D0%B4%D0%B5%D0%BD%D0%B8%D0%B5_1_%D0%BF%D1%80%D0%BE%D0%B5%D0%BA%D1%82.ipynb\" target=\"_parent\"><img src=\"https://colab.research.google.com/assets/colab-badge.svg\" alt=\"Open In Colab\"/></a>"
      ]
    },
    {
      "cell_type": "markdown",
      "metadata": {
        "id": "pKYZat6-_Oni"
      },
      "source": [
        "# Рекомендация тарифов"
      ]
    },
    {
      "cell_type": "markdown",
      "metadata": {
        "id": "3bf60WWF_Onj"
      },
      "source": [
        "В вашем распоряжении данные о поведении клиентов, которые уже перешли на эти тарифы (из проекта курса «Статистический анализ данных»). Нужно построить модель для задачи классификации, которая выберет подходящий тариф. Предобработка данных не понадобится — вы её уже сделали.\n",
        "\n",
        "Постройте модель с максимально большим значением *accuracy*. Чтобы сдать проект успешно, нужно довести долю правильных ответов по крайней мере до 0.75. Проверьте *accuracy* на тестовой выборке самостоятельно."
      ]
    },
    {
      "cell_type": "code",
      "source": [
        "#подключить гугл диск\n",
        "from google.colab import drive\n",
        "drive.mount('/content/drive')"
      ],
      "metadata": {
        "id": "u_3mY1P9A8oD",
        "colab": {
          "base_uri": "https://localhost:8080/"
        },
        "outputId": "0c6a0eb0-a990-41c2-b445-6553db1ec565"
      },
      "execution_count": 1,
      "outputs": [
        {
          "output_type": "stream",
          "name": "stdout",
          "text": [
            "Mounted at /content/drive\n"
          ]
        }
      ]
    },
    {
      "cell_type": "code",
      "execution_count": 2,
      "metadata": {
        "id": "yyiccpX8_Onk"
      },
      "outputs": [],
      "source": [
        "#импорт\n",
        "import pandas as pd\n",
        "import matplotlib.pyplot as plt\n",
        "\n",
        "from sklearn.model_selection import train_test_split\n",
        "from sklearn.metrics import accuracy_score\n",
        "\n",
        "from sklearn.tree import DecisionTreeClassifier\n",
        "from sklearn.ensemble import RandomForestClassifier\n",
        "from sklearn.linear_model import LogisticRegression\n",
        "from sklearn import tree"
      ]
    },
    {
      "cell_type": "markdown",
      "metadata": {
        "id": "ACwSfQDl_Onl"
      },
      "source": [
        "## Изучение файла данных"
      ]
    },
    {
      "cell_type": "code",
      "execution_count": 3,
      "metadata": {
        "id": "ox27QTIq_Onn"
      },
      "outputs": [],
      "source": [
        "df = pd.read_csv('/content/drive/MyDrive/DS/users_behavior.csv')"
      ]
    },
    {
      "cell_type": "code",
      "execution_count": 4,
      "metadata": {
        "scrolled": true,
        "colab": {
          "base_uri": "https://localhost:8080/",
          "height": 0
        },
        "id": "Drm7HCTU_Onn",
        "outputId": "3911a790-d053-4291-e9df-ffd1b671c422"
      },
      "outputs": [
        {
          "output_type": "stream",
          "name": "stdout",
          "text": [
            "<class 'pandas.core.frame.DataFrame'>\n",
            "RangeIndex: 3214 entries, 0 to 3213\n",
            "Data columns (total 5 columns):\n",
            " #   Column    Non-Null Count  Dtype  \n",
            "---  ------    --------------  -----  \n",
            " 0   calls     3214 non-null   float64\n",
            " 1   minutes   3214 non-null   float64\n",
            " 2   messages  3214 non-null   float64\n",
            " 3   mb_used   3214 non-null   float64\n",
            " 4   is_ultra  3214 non-null   int64  \n",
            "dtypes: float64(4), int64(1)\n",
            "memory usage: 125.7 KB\n"
          ]
        },
        {
          "output_type": "execute_result",
          "data": {
            "text/plain": [
              "   calls  minutes  messages   mb_used  is_ultra\n",
              "0   40.0   311.90      83.0  19915.42         0\n",
              "1   85.0   516.75      56.0  22696.96         0\n",
              "2   77.0   467.66      86.0  21060.45         0\n",
              "3  106.0   745.53      81.0   8437.39         1\n",
              "4   66.0   418.74       1.0  14502.75         0"
            ],
            "text/html": [
              "\n",
              "  <div id=\"df-23936c25-a2d4-4c80-a535-7a88410f97e5\">\n",
              "    <div class=\"colab-df-container\">\n",
              "      <div>\n",
              "<style scoped>\n",
              "    .dataframe tbody tr th:only-of-type {\n",
              "        vertical-align: middle;\n",
              "    }\n",
              "\n",
              "    .dataframe tbody tr th {\n",
              "        vertical-align: top;\n",
              "    }\n",
              "\n",
              "    .dataframe thead th {\n",
              "        text-align: right;\n",
              "    }\n",
              "</style>\n",
              "<table border=\"1\" class=\"dataframe\">\n",
              "  <thead>\n",
              "    <tr style=\"text-align: right;\">\n",
              "      <th></th>\n",
              "      <th>calls</th>\n",
              "      <th>minutes</th>\n",
              "      <th>messages</th>\n",
              "      <th>mb_used</th>\n",
              "      <th>is_ultra</th>\n",
              "    </tr>\n",
              "  </thead>\n",
              "  <tbody>\n",
              "    <tr>\n",
              "      <th>0</th>\n",
              "      <td>40.0</td>\n",
              "      <td>311.90</td>\n",
              "      <td>83.0</td>\n",
              "      <td>19915.42</td>\n",
              "      <td>0</td>\n",
              "    </tr>\n",
              "    <tr>\n",
              "      <th>1</th>\n",
              "      <td>85.0</td>\n",
              "      <td>516.75</td>\n",
              "      <td>56.0</td>\n",
              "      <td>22696.96</td>\n",
              "      <td>0</td>\n",
              "    </tr>\n",
              "    <tr>\n",
              "      <th>2</th>\n",
              "      <td>77.0</td>\n",
              "      <td>467.66</td>\n",
              "      <td>86.0</td>\n",
              "      <td>21060.45</td>\n",
              "      <td>0</td>\n",
              "    </tr>\n",
              "    <tr>\n",
              "      <th>3</th>\n",
              "      <td>106.0</td>\n",
              "      <td>745.53</td>\n",
              "      <td>81.0</td>\n",
              "      <td>8437.39</td>\n",
              "      <td>1</td>\n",
              "    </tr>\n",
              "    <tr>\n",
              "      <th>4</th>\n",
              "      <td>66.0</td>\n",
              "      <td>418.74</td>\n",
              "      <td>1.0</td>\n",
              "      <td>14502.75</td>\n",
              "      <td>0</td>\n",
              "    </tr>\n",
              "  </tbody>\n",
              "</table>\n",
              "</div>\n",
              "      <button class=\"colab-df-convert\" onclick=\"convertToInteractive('df-23936c25-a2d4-4c80-a535-7a88410f97e5')\"\n",
              "              title=\"Convert this dataframe to an interactive table.\"\n",
              "              style=\"display:none;\">\n",
              "        \n",
              "  <svg xmlns=\"http://www.w3.org/2000/svg\" height=\"24px\"viewBox=\"0 0 24 24\"\n",
              "       width=\"24px\">\n",
              "    <path d=\"M0 0h24v24H0V0z\" fill=\"none\"/>\n",
              "    <path d=\"M18.56 5.44l.94 2.06.94-2.06 2.06-.94-2.06-.94-.94-2.06-.94 2.06-2.06.94zm-11 1L8.5 8.5l.94-2.06 2.06-.94-2.06-.94L8.5 2.5l-.94 2.06-2.06.94zm10 10l.94 2.06.94-2.06 2.06-.94-2.06-.94-.94-2.06-.94 2.06-2.06.94z\"/><path d=\"M17.41 7.96l-1.37-1.37c-.4-.4-.92-.59-1.43-.59-.52 0-1.04.2-1.43.59L10.3 9.45l-7.72 7.72c-.78.78-.78 2.05 0 2.83L4 21.41c.39.39.9.59 1.41.59.51 0 1.02-.2 1.41-.59l7.78-7.78 2.81-2.81c.8-.78.8-2.07 0-2.86zM5.41 20L4 18.59l7.72-7.72 1.47 1.35L5.41 20z\"/>\n",
              "  </svg>\n",
              "      </button>\n",
              "      \n",
              "  <style>\n",
              "    .colab-df-container {\n",
              "      display:flex;\n",
              "      flex-wrap:wrap;\n",
              "      gap: 12px;\n",
              "    }\n",
              "\n",
              "    .colab-df-convert {\n",
              "      background-color: #E8F0FE;\n",
              "      border: none;\n",
              "      border-radius: 50%;\n",
              "      cursor: pointer;\n",
              "      display: none;\n",
              "      fill: #1967D2;\n",
              "      height: 32px;\n",
              "      padding: 0 0 0 0;\n",
              "      width: 32px;\n",
              "    }\n",
              "\n",
              "    .colab-df-convert:hover {\n",
              "      background-color: #E2EBFA;\n",
              "      box-shadow: 0px 1px 2px rgba(60, 64, 67, 0.3), 0px 1px 3px 1px rgba(60, 64, 67, 0.15);\n",
              "      fill: #174EA6;\n",
              "    }\n",
              "\n",
              "    [theme=dark] .colab-df-convert {\n",
              "      background-color: #3B4455;\n",
              "      fill: #D2E3FC;\n",
              "    }\n",
              "\n",
              "    [theme=dark] .colab-df-convert:hover {\n",
              "      background-color: #434B5C;\n",
              "      box-shadow: 0px 1px 3px 1px rgba(0, 0, 0, 0.15);\n",
              "      filter: drop-shadow(0px 1px 2px rgba(0, 0, 0, 0.3));\n",
              "      fill: #FFFFFF;\n",
              "    }\n",
              "  </style>\n",
              "\n",
              "      <script>\n",
              "        const buttonEl =\n",
              "          document.querySelector('#df-23936c25-a2d4-4c80-a535-7a88410f97e5 button.colab-df-convert');\n",
              "        buttonEl.style.display =\n",
              "          google.colab.kernel.accessAllowed ? 'block' : 'none';\n",
              "\n",
              "        async function convertToInteractive(key) {\n",
              "          const element = document.querySelector('#df-23936c25-a2d4-4c80-a535-7a88410f97e5');\n",
              "          const dataTable =\n",
              "            await google.colab.kernel.invokeFunction('convertToInteractive',\n",
              "                                                     [key], {});\n",
              "          if (!dataTable) return;\n",
              "\n",
              "          const docLinkHtml = 'Like what you see? Visit the ' +\n",
              "            '<a target=\"_blank\" href=https://colab.research.google.com/notebooks/data_table.ipynb>data table notebook</a>'\n",
              "            + ' to learn more about interactive tables.';\n",
              "          element.innerHTML = '';\n",
              "          dataTable['output_type'] = 'display_data';\n",
              "          await google.colab.output.renderOutput(dataTable, element);\n",
              "          const docLink = document.createElement('div');\n",
              "          docLink.innerHTML = docLinkHtml;\n",
              "          element.appendChild(docLink);\n",
              "        }\n",
              "      </script>\n",
              "    </div>\n",
              "  </div>\n",
              "  "
            ]
          },
          "metadata": {},
          "execution_count": 4
        }
      ],
      "source": [
        "df.info()\n",
        "df.head()"
      ]
    },
    {
      "cell_type": "code",
      "execution_count": 5,
      "metadata": {
        "colab": {
          "base_uri": "https://localhost:8080/"
        },
        "id": "PYlC4k7V_Ono",
        "outputId": "d8132761-474a-40bc-b6fc-24941cad5837"
      },
      "outputs": [
        {
          "output_type": "stream",
          "name": "stdout",
          "text": [
            "доля тарифа ultra в датасете: 0.30647168637212197\n"
          ]
        }
      ],
      "source": [
        "#Проверим сбалансированность классов в таргете( 0 или 1)\n",
        "# для значений 0 и 1 это будет среднее арифм\n",
        "print ('доля тарифа ultra в датасете:',df['is_ultra'].mean())"
      ]
    },
    {
      "cell_type": "markdown",
      "metadata": {
        "id": "DSQqGaKu_Onp"
      },
      "source": [
        "Как видно классы в таргете распределены примрено 30 / 70%"
      ]
    },
    {
      "cell_type": "code",
      "execution_count": 6,
      "metadata": {
        "colab": {
          "base_uri": "https://localhost:8080/",
          "height": 0
        },
        "id": "D3_GFoIo_Onp",
        "outputId": "ae6b440e-8873-48c3-b0a8-84f200faac0e"
      },
      "outputs": [
        {
          "output_type": "execute_result",
          "data": {
            "text/plain": [
              "             calls   minutes  messages   mb_used  is_ultra\n",
              "calls     1.000000  0.982083  0.177385  0.286442  0.207122\n",
              "minutes   0.982083  1.000000  0.173110  0.280967  0.206955\n",
              "messages  0.177385  0.173110  1.000000  0.195721  0.203830\n",
              "mb_used   0.286442  0.280967  0.195721  1.000000  0.198568\n",
              "is_ultra  0.207122  0.206955  0.203830  0.198568  1.000000"
            ],
            "text/html": [
              "\n",
              "  <div id=\"df-71eb9466-e222-481a-8608-fb628f83ef77\">\n",
              "    <div class=\"colab-df-container\">\n",
              "      <div>\n",
              "<style scoped>\n",
              "    .dataframe tbody tr th:only-of-type {\n",
              "        vertical-align: middle;\n",
              "    }\n",
              "\n",
              "    .dataframe tbody tr th {\n",
              "        vertical-align: top;\n",
              "    }\n",
              "\n",
              "    .dataframe thead th {\n",
              "        text-align: right;\n",
              "    }\n",
              "</style>\n",
              "<table border=\"1\" class=\"dataframe\">\n",
              "  <thead>\n",
              "    <tr style=\"text-align: right;\">\n",
              "      <th></th>\n",
              "      <th>calls</th>\n",
              "      <th>minutes</th>\n",
              "      <th>messages</th>\n",
              "      <th>mb_used</th>\n",
              "      <th>is_ultra</th>\n",
              "    </tr>\n",
              "  </thead>\n",
              "  <tbody>\n",
              "    <tr>\n",
              "      <th>calls</th>\n",
              "      <td>1.000000</td>\n",
              "      <td>0.982083</td>\n",
              "      <td>0.177385</td>\n",
              "      <td>0.286442</td>\n",
              "      <td>0.207122</td>\n",
              "    </tr>\n",
              "    <tr>\n",
              "      <th>minutes</th>\n",
              "      <td>0.982083</td>\n",
              "      <td>1.000000</td>\n",
              "      <td>0.173110</td>\n",
              "      <td>0.280967</td>\n",
              "      <td>0.206955</td>\n",
              "    </tr>\n",
              "    <tr>\n",
              "      <th>messages</th>\n",
              "      <td>0.177385</td>\n",
              "      <td>0.173110</td>\n",
              "      <td>1.000000</td>\n",
              "      <td>0.195721</td>\n",
              "      <td>0.203830</td>\n",
              "    </tr>\n",
              "    <tr>\n",
              "      <th>mb_used</th>\n",
              "      <td>0.286442</td>\n",
              "      <td>0.280967</td>\n",
              "      <td>0.195721</td>\n",
              "      <td>1.000000</td>\n",
              "      <td>0.198568</td>\n",
              "    </tr>\n",
              "    <tr>\n",
              "      <th>is_ultra</th>\n",
              "      <td>0.207122</td>\n",
              "      <td>0.206955</td>\n",
              "      <td>0.203830</td>\n",
              "      <td>0.198568</td>\n",
              "      <td>1.000000</td>\n",
              "    </tr>\n",
              "  </tbody>\n",
              "</table>\n",
              "</div>\n",
              "      <button class=\"colab-df-convert\" onclick=\"convertToInteractive('df-71eb9466-e222-481a-8608-fb628f83ef77')\"\n",
              "              title=\"Convert this dataframe to an interactive table.\"\n",
              "              style=\"display:none;\">\n",
              "        \n",
              "  <svg xmlns=\"http://www.w3.org/2000/svg\" height=\"24px\"viewBox=\"0 0 24 24\"\n",
              "       width=\"24px\">\n",
              "    <path d=\"M0 0h24v24H0V0z\" fill=\"none\"/>\n",
              "    <path d=\"M18.56 5.44l.94 2.06.94-2.06 2.06-.94-2.06-.94-.94-2.06-.94 2.06-2.06.94zm-11 1L8.5 8.5l.94-2.06 2.06-.94-2.06-.94L8.5 2.5l-.94 2.06-2.06.94zm10 10l.94 2.06.94-2.06 2.06-.94-2.06-.94-.94-2.06-.94 2.06-2.06.94z\"/><path d=\"M17.41 7.96l-1.37-1.37c-.4-.4-.92-.59-1.43-.59-.52 0-1.04.2-1.43.59L10.3 9.45l-7.72 7.72c-.78.78-.78 2.05 0 2.83L4 21.41c.39.39.9.59 1.41.59.51 0 1.02-.2 1.41-.59l7.78-7.78 2.81-2.81c.8-.78.8-2.07 0-2.86zM5.41 20L4 18.59l7.72-7.72 1.47 1.35L5.41 20z\"/>\n",
              "  </svg>\n",
              "      </button>\n",
              "      \n",
              "  <style>\n",
              "    .colab-df-container {\n",
              "      display:flex;\n",
              "      flex-wrap:wrap;\n",
              "      gap: 12px;\n",
              "    }\n",
              "\n",
              "    .colab-df-convert {\n",
              "      background-color: #E8F0FE;\n",
              "      border: none;\n",
              "      border-radius: 50%;\n",
              "      cursor: pointer;\n",
              "      display: none;\n",
              "      fill: #1967D2;\n",
              "      height: 32px;\n",
              "      padding: 0 0 0 0;\n",
              "      width: 32px;\n",
              "    }\n",
              "\n",
              "    .colab-df-convert:hover {\n",
              "      background-color: #E2EBFA;\n",
              "      box-shadow: 0px 1px 2px rgba(60, 64, 67, 0.3), 0px 1px 3px 1px rgba(60, 64, 67, 0.15);\n",
              "      fill: #174EA6;\n",
              "    }\n",
              "\n",
              "    [theme=dark] .colab-df-convert {\n",
              "      background-color: #3B4455;\n",
              "      fill: #D2E3FC;\n",
              "    }\n",
              "\n",
              "    [theme=dark] .colab-df-convert:hover {\n",
              "      background-color: #434B5C;\n",
              "      box-shadow: 0px 1px 3px 1px rgba(0, 0, 0, 0.15);\n",
              "      filter: drop-shadow(0px 1px 2px rgba(0, 0, 0, 0.3));\n",
              "      fill: #FFFFFF;\n",
              "    }\n",
              "  </style>\n",
              "\n",
              "      <script>\n",
              "        const buttonEl =\n",
              "          document.querySelector('#df-71eb9466-e222-481a-8608-fb628f83ef77 button.colab-df-convert');\n",
              "        buttonEl.style.display =\n",
              "          google.colab.kernel.accessAllowed ? 'block' : 'none';\n",
              "\n",
              "        async function convertToInteractive(key) {\n",
              "          const element = document.querySelector('#df-71eb9466-e222-481a-8608-fb628f83ef77');\n",
              "          const dataTable =\n",
              "            await google.colab.kernel.invokeFunction('convertToInteractive',\n",
              "                                                     [key], {});\n",
              "          if (!dataTable) return;\n",
              "\n",
              "          const docLinkHtml = 'Like what you see? Visit the ' +\n",
              "            '<a target=\"_blank\" href=https://colab.research.google.com/notebooks/data_table.ipynb>data table notebook</a>'\n",
              "            + ' to learn more about interactive tables.';\n",
              "          element.innerHTML = '';\n",
              "          dataTable['output_type'] = 'display_data';\n",
              "          await google.colab.output.renderOutput(dataTable, element);\n",
              "          const docLink = document.createElement('div');\n",
              "          docLink.innerHTML = docLinkHtml;\n",
              "          element.appendChild(docLink);\n",
              "        }\n",
              "      </script>\n",
              "    </div>\n",
              "  </div>\n",
              "  "
            ]
          },
          "metadata": {},
          "execution_count": 6
        }
      ],
      "source": [
        "#оценим корреляцию\n",
        "df.corr()"
      ]
    },
    {
      "cell_type": "markdown",
      "metadata": {
        "id": "Q-53r5Xd_Onp"
      },
      "source": [
        "Кореляция между таргетом и признаками есть , но слабая ~ 0.2.   \n"
      ]
    },
    {
      "cell_type": "markdown",
      "metadata": {
        "id": "yCybS2Jm_Onq"
      },
      "source": [
        "**Вывод:** Файл изучен, пропусков нет, готов к работе."
      ]
    },
    {
      "cell_type": "code",
      "execution_count": 7,
      "metadata": {
        "id": "i3Jm0_Rb_Onq"
      },
      "outputs": [],
      "source": [
        "#тест , пробуем устранить мультиколлиниальность, сразу дропнем из датасета колнку 'minutes'\n",
        "# перезапустим все и сранвим результат.  Результат будет записан в конце в дополнитльном пункте.\n",
        "# в обычном режиме это дроп закомментарен должен быть\n",
        "#df = df.drop(columns='minutes')\n",
        "#df.head(1)\n"
      ]
    },
    {
      "cell_type": "markdown",
      "metadata": {
        "id": "U5CbSNet_Onq"
      },
      "source": [
        "## Разбивка данных на выборки"
      ]
    },
    {
      "cell_type": "code",
      "execution_count": 8,
      "metadata": {
        "id": "Js0BNEKF_Onq"
      },
      "outputs": [],
      "source": [
        "# создадим признаки и таргет(целевой признак)\n",
        "features = df.drop(columns='is_ultra')\n",
        "target = df['is_ultra']"
      ]
    },
    {
      "cell_type": "code",
      "execution_count": 9,
      "metadata": {
        "id": "zgHusYPw_Onq"
      },
      "outputs": [],
      "source": [
        "# разобьем дата сет на обучающий,валидац и тестовый:  60 %, 20%, 20%\n",
        "# два раза применим train_test_split\n",
        "features_train, features_temp, target_train, target_temp = \\\n",
        "train_test_split(  features, target, test_size=0.40, random_state=12345 )\n",
        "\n",
        "features_valid, features_test, target_valid, target_test = \\\n",
        "train_test_split(  features_temp, target_temp, test_size=0.50, random_state=12345)\n"
      ]
    },
    {
      "cell_type": "code",
      "execution_count": 10,
      "metadata": {
        "colab": {
          "base_uri": "https://localhost:8080/"
        },
        "id": "rOAIWVLR_Onr",
        "outputId": "1c2bd472-6441-44a9-f265-6b75532524b5"
      },
      "outputs": [
        {
          "output_type": "stream",
          "name": "stdout",
          "text": [
            "Размер features_train:  (1928, 4)\n",
            "Размер features_valid:  (643, 4)\n",
            "Размер features_test:   (643, 4)\n"
          ]
        }
      ],
      "source": [
        "#проверим разбивку по кол-ву строк\n",
        "print ('Размер features_train: ',features_train.shape)\n",
        "print ('Размер features_valid: ',features_valid.shape)\n",
        "print ('Размер features_test:  ', features_test.shape)"
      ]
    },
    {
      "cell_type": "code",
      "execution_count": 11,
      "metadata": {
        "id": "h85rtp6e_Onr",
        "outputId": "31859c0c-a5dc-4a90-cf14-9284bac0e449",
        "colab": {
          "base_uri": "https://localhost:8080/"
        }
      },
      "outputs": [
        {
          "output_type": "stream",
          "name": "stdout",
          "text": [
            "доля в  target_train  0.30757261410788383\n",
            "доля в  target_valid  0.2939346811819596\n",
            "доля в  target_test 0.3157076205287714\n"
          ]
        }
      ],
      "source": [
        "# проверим баланс классов в разбитых выборках\n",
        "print ('доля в  target_train ' , target_train.mean())\n",
        "print ('доля в  target_valid ' , target_valid.mean())\n",
        "print ('доля в  target_test' , target_test.mean())"
      ]
    },
    {
      "cell_type": "markdown",
      "metadata": {
        "id": "nBP57j_C_Onr"
      },
      "source": [
        "## Исследование  моделей"
      ]
    },
    {
      "cell_type": "markdown",
      "metadata": {
        "id": "GU6v0ZXz_Ons"
      },
      "source": [
        "### DecisionTreeClassifier дерево решений"
      ]
    },
    {
      "cell_type": "code",
      "execution_count": 12,
      "metadata": {
        "colab": {
          "base_uri": "https://localhost:8080/"
        },
        "id": "w5n0YxUZ_Ons",
        "outputId": "208d756e-f075-47ba-89b5-be202395fb18"
      },
      "outputs": [
        {
          "output_type": "stream",
          "name": "stdout",
          "text": [
            "Точность на гиперпараметрах по умолчанию 0.7293934681181959\n"
          ]
        }
      ],
      "source": [
        "#обучение модели на трениров выборке\n",
        "model = DecisionTreeClassifier(random_state=3333)\n",
        "model.fit(features_train, target_train)\n",
        "\n",
        "#проверяем модель на валидац выборке\n",
        "print ('Точность на гиперпараметрах по умолчанию',accuracy_score(target_valid, model.predict(features_valid)))"
      ]
    },
    {
      "cell_type": "markdown",
      "metadata": {
        "id": "66pMxz0u_Ons"
      },
      "source": [
        "Циклом поменяем самый важный гипер параметр max_depth и надем наилучшее решение.\n",
        "Так же построим график, чтобы увидеть наглядно как меняется точность."
      ]
    },
    {
      "cell_type": "code",
      "execution_count": 13,
      "metadata": {
        "colab": {
          "base_uri": "https://localhost:8080/"
        },
        "id": "6561SbMl_Ons",
        "outputId": "cea80287-2e27-4808-fcca-0b895d92fdbb"
      },
      "outputs": [
        {
          "output_type": "stream",
          "name": "stdout",
          "text": [
            "Лучшая точность: 0.7853810264385692 при глубине 3\n"
          ]
        }
      ],
      "source": [
        "# цикл\n",
        "best_accuracy = 0 #счетчик лучшей точности\n",
        "best_depth = 0    # счетчик глубина дерева\n",
        "tree_test = [] # резуьлтаты\n",
        "for i in range(1,51):\n",
        "    model = DecisionTreeClassifier(random_state=3333, max_depth=i )\n",
        "    model.fit(features_train, target_train)\n",
        "    accuracy = accuracy_score(target_valid, model.predict(features_valid))\n",
        "    tree_test.append(accuracy)\n",
        "    if best_accuracy < accuracy:\n",
        "        best_accuracy = accuracy\n",
        "        best_depth = i\n",
        "        model_DecisionTreeClassifier = model\n",
        "print ('Лучшая точность:', best_accuracy, 'при глубине' ,best_depth)\n",
        "\n",
        "    \n",
        "    \n"
      ]
    },
    {
      "cell_type": "code",
      "execution_count": 14,
      "metadata": {
        "colab": {
          "base_uri": "https://localhost:8080/",
          "height": 0
        },
        "id": "u8wCUEIv_Ons",
        "outputId": "a3321995-d7be-4cdd-80df-9b244a9ce5e1"
      },
      "outputs": [
        {
          "output_type": "execute_result",
          "data": {
            "text/plain": [
              "<matplotlib.axes._subplots.AxesSubplot at 0x7fae02f74d00>"
            ]
          },
          "metadata": {},
          "execution_count": 14
        },
        {
          "output_type": "display_data",
          "data": {
            "text/plain": [
              "<Figure size 432x288 with 1 Axes>"
            ],
            "image/png": "[encoded data removed]"
          },
          "metadata": {
            "needs_background": "light"
          }
        }
      ],
      "source": [
        "# теперь посмотрим на графике.\n",
        "pd.Series(tree_test).plot(grid=True)"
      ]
    },
    {
      "cell_type": "markdown",
      "metadata": {
        "id": "ORCl3KNG_Ont"
      },
      "source": [
        "Интересно что с увеличением гиперпарамтера max_depth больше 10 точность только падает, а после 23 вообще зависает на месте. Те максимальная точность как раз при небольшой глубине расположена и мы ее нашли."
      ]
    },
    {
      "cell_type": "code",
      "execution_count": 15,
      "metadata": {
        "colab": {
          "base_uri": "https://localhost:8080/",
          "height": 0
        },
        "id": "nBVH5R6e_Ont",
        "outputId": "9f4490fb-088d-47a4-a874-1fe238348799"
      },
      "outputs": [
        {
          "output_type": "display_data",
          "data": {
            "text/plain": [
              "<Figure size 432x288 with 1 Axes>"
            ],
            "image/png": "[encoded data removed]"
          },
          "metadata": {
            "needs_background": "light"
          }
        }
      ],
      "source": [
        "#посомотрим на дерево\n",
        "tree.plot_tree(model_DecisionTreeClassifier)\n",
        "plt.show()"
      ]
    },
    {
      "cell_type": "markdown",
      "metadata": {
        "id": "PQapYrfM_Onu"
      },
      "source": [
        "\n",
        "**Вывод:** После проведения тестов на валидац выборке получили самую лучшую модель с параметрами:     \n",
        "Лучшая точность: 0.7853810264385692 при глубине 3\n",
        "Сохранили ее в **model_DecisionTreeClassifier** ."
      ]
    },
    {
      "cell_type": "markdown",
      "metadata": {
        "id": "u5i5N5Yi_Onu"
      },
      "source": [
        "### RandomForestClassifier  случайный лес"
      ]
    },
    {
      "cell_type": "code",
      "execution_count": 16,
      "metadata": {
        "colab": {
          "base_uri": "https://localhost:8080/"
        },
        "id": "TrRkhUqR_Onu",
        "outputId": "3f4303e9-88b2-40e1-f067-089a46910986"
      },
      "outputs": [
        {
          "output_type": "stream",
          "name": "stdout",
          "text": [
            "Точность на гиперпараметрах по умолчанию 0.7931570762052877\n"
          ]
        }
      ],
      "source": [
        "#обучение модели на трениров выборке\n",
        "model = RandomForestClassifier(random_state=3333)\n",
        "model.fit(features_train, target_train)\n",
        "\n",
        "#проверяем модель на валидац выборке\n",
        "print ('Точность на гиперпараметрах по умолчанию',accuracy_score(target_valid, model.predict(features_valid)))"
      ]
    },
    {
      "cell_type": "markdown",
      "metadata": {
        "id": "M1Nw_mYA_Onu"
      },
      "source": [
        "Пройдемся циклом по гиперпараметрам n_estimators =i, criterion = j, max_depth=k. Вычислим лучший результат."
      ]
    },
    {
      "cell_type": "code",
      "execution_count": 17,
      "metadata": {
        "colab": {
          "base_uri": "https://localhost:8080/"
        },
        "id": "R5TKYJ3D_Onu",
        "outputId": "444b02ba-8826-4f64-fc92-10188d33c98f"
      },
      "outputs": [
        {
          "output_type": "stream",
          "name": "stdout",
          "text": [
            "Лучшая точность: 0.807153965785381 при: n_estimators =  18 , criterion =  gini ,  max_depth =  7\n",
            "CPU times: user 1min 32s, sys: 347 ms, total: 1min 32s\n",
            "Wall time: 1min 34s\n"
          ]
        }
      ],
      "source": [
        "%%time\n",
        "# цикл тройной \n",
        "\n",
        "best_accuracy = 0 #счетчик лучшей точности\n",
        "\n",
        "criterion_list = ['gini', 'entropy'] # перебор критериев\n",
        "for i in range(1,51):\n",
        "    for j in criterion_list:\n",
        "        for k in range(1,11):\n",
        "            model = RandomForestClassifier(random_state=3333, n_estimators =i, criterion = j, max_depth=k)\n",
        "            model.fit(features_train, target_train)\n",
        "            accuracy = accuracy_score(target_valid, model.predict(features_valid))\n",
        "            \n",
        "            if best_accuracy < accuracy:\n",
        "                best_accuracy = accuracy\n",
        "                n_estimators = i\n",
        "                criterion = j\n",
        "                max_depth = k\n",
        "            model_RandomForestClassifier = model\n",
        "            \n",
        "print ('Лучшая точность:', best_accuracy, 'при: n_estimators = ', n_estimators, \\\n",
        "       ', criterion = ', criterion , ',  max_depth = ', max_depth)"
      ]
    },
    {
      "cell_type": "markdown",
      "metadata": {
        "id": "Y0bFiLgR_Onu"
      },
      "source": [
        "Лучшие  результаты при тестах при изменениях различных лимитов циклов.     \n",
        "Лучшая точность: 0.7931570762052877 при кол-ве деревьев 16 , criterion entropy max_depth 3     \n",
        "Лучшая точность: 0.807153965785381 при кол-ве деревьев 18 , criterion gini max_depth 7"
      ]
    },
    {
      "cell_type": "markdown",
      "metadata": {
        "id": "HpFoeK7O_Onv"
      },
      "source": [
        "\n",
        "**Вывод:** После проведения тестов на валидац выборке получили самую лучшую модель с  со следующими характеристиками:     \n",
        "точность: 0.807153965785381 при n_estimators 18 , criterion gini, max_depth 7.      \n",
        "Сохранили ее в **model_RandomForestClassifier**."
      ]
    },
    {
      "cell_type": "markdown",
      "metadata": {
        "id": "dQfO30Xc_Onv"
      },
      "source": [
        "### LogisticRegression  Логическая регрессия"
      ]
    },
    {
      "cell_type": "code",
      "execution_count": 18,
      "metadata": {
        "colab": {
          "base_uri": "https://localhost:8080/"
        },
        "id": "LLGuuOVD_Onv",
        "outputId": "e3e3da43-5191-4ab7-b67a-4cdd10c21e88"
      },
      "outputs": [
        {
          "output_type": "stream",
          "name": "stdout",
          "text": [
            "Точность на гиперпараметрах по умолчанию 0.7107309486780715\n"
          ]
        }
      ],
      "source": [
        "#обучение модели на трениров выборке\n",
        "model = LogisticRegression(random_state=3333)\n",
        "model.fit(features_train, target_train)\n",
        "\n",
        "#проверяем модель на валидац выборке\n",
        "print ('Точность на гиперпараметрах по умолчанию',accuracy_score(target_valid, model.predict(features_valid)))"
      ]
    },
    {
      "cell_type": "markdown",
      "metadata": {
        "id": "ItvAQzb3_Onv"
      },
      "source": [
        "Логическая регрессия на гиперпараметре по умолчанию похуже, дерева решений и рандомного леса.\n",
        "Пройдемся циклом по  важному гиперпараметру  max_iter"
      ]
    },
    {
      "cell_type": "code",
      "execution_count": 19,
      "metadata": {
        "colab": {
          "base_uri": "https://localhost:8080/"
        },
        "id": "VsMmbHCd_Onw",
        "outputId": "ea00195c-8378-4332-8b2a-81d9b6eae476"
      },
      "outputs": [
        {
          "output_type": "stream",
          "name": "stderr",
          "text": [
            "/usr/local/lib/python3.8/dist-packages/sklearn/linear_model/_logistic.py:814: ConvergenceWarning: lbfgs failed to converge (status=1):\n",
            "STOP: TOTAL NO. of ITERATIONS REACHED LIMIT.\n",
            "\n",
            "Increase the number of iterations (max_iter) or scale the data as shown in:\n",
            "    https://scikit-learn.org/stable/modules/preprocessing.html\n",
            "Please also refer to the documentation for alternative solver options:\n",
            "    https://scikit-learn.org/stable/modules/linear_model.html#logistic-regression\n",
            "  n_iter_i = _check_optimize_result(\n",
            "/usr/local/lib/python3.8/dist-packages/sklearn/linear_model/_logistic.py:814: ConvergenceWarning: lbfgs failed to converge (status=1):\n",
            "STOP: TOTAL NO. of ITERATIONS REACHED LIMIT.\n",
            "\n",
            "Increase the number of iterations (max_iter) or scale the data as shown in:\n",
            "    https://scikit-learn.org/stable/modules/preprocessing.html\n",
            "Please also refer to the documentation for alternative solver options:\n",
            "    https://scikit-learn.org/stable/modules/linear_model.html#logistic-regression\n",
            "  n_iter_i = _check_optimize_result(\n",
            "/usr/local/lib/python3.8/dist-packages/sklearn/linear_model/_logistic.py:814: ConvergenceWarning: lbfgs failed to converge (status=1):\n",
            "STOP: TOTAL NO. of ITERATIONS REACHED LIMIT.\n",
            "\n",
            "Increase the number of iterations (max_iter) or scale the data as shown in:\n",
            "    https://scikit-learn.org/stable/modules/preprocessing.html\n",
            "Please also refer to the documentation for alternative solver options:\n",
            "    https://scikit-learn.org/stable/modules/linear_model.html#logistic-regression\n",
            "  n_iter_i = _check_optimize_result(\n",
            "/usr/local/lib/python3.8/dist-packages/sklearn/linear_model/_logistic.py:814: ConvergenceWarning: lbfgs failed to converge (status=1):\n",
            "STOP: TOTAL NO. of ITERATIONS REACHED LIMIT.\n",
            "\n",
            "Increase the number of iterations (max_iter) or scale the data as shown in:\n",
            "    https://scikit-learn.org/stable/modules/preprocessing.html\n",
            "Please also refer to the documentation for alternative solver options:\n",
            "    https://scikit-learn.org/stable/modules/linear_model.html#logistic-regression\n",
            "  n_iter_i = _check_optimize_result(\n",
            "/usr/local/lib/python3.8/dist-packages/sklearn/linear_model/_logistic.py:814: ConvergenceWarning: lbfgs failed to converge (status=1):\n",
            "STOP: TOTAL NO. of ITERATIONS REACHED LIMIT.\n",
            "\n",
            "Increase the number of iterations (max_iter) or scale the data as shown in:\n",
            "    https://scikit-learn.org/stable/modules/preprocessing.html\n",
            "Please also refer to the documentation for alternative solver options:\n",
            "    https://scikit-learn.org/stable/modules/linear_model.html#logistic-regression\n",
            "  n_iter_i = _check_optimize_result(\n"
          ]
        },
        {
          "output_type": "stream",
          "name": "stdout",
          "text": [
            "Лучшая точность: 0.7107309486780715 при кол-ве итераций 40\n"
          ]
        }
      ],
      "source": [
        "# цикл\n",
        "best_accuracy = 0 #счетчик лучшей точности\n",
        "best_iter = 0    # счетчик кол-ва итераций\n",
        "log_reg_test = [] # резуьлтаты\n",
        "for i in range(0,500,10):\n",
        "    model = LogisticRegression(random_state=3333, max_iter=i )\n",
        "    model.fit(features_train, target_train)\n",
        "    accuracy = accuracy_score(target_valid, model.predict(features_valid))\n",
        "    log_reg_test.append(accuracy)\n",
        "    if best_accuracy < accuracy:\n",
        "        best_accuracy = accuracy\n",
        "        best_iter = i\n",
        "        model_LogisticRegression = model\n",
        "print ('Лучшая точность:', best_accuracy, 'при кол-ве итераций' ,best_iter)"
      ]
    },
    {
      "cell_type": "markdown",
      "metadata": {
        "id": "zPD4dEKv_Onw"
      },
      "source": [
        "#log_reg_test\n",
        "Лучшая точность: 0.7107309486780715 при кол-ве итераций 40"
      ]
    },
    {
      "cell_type": "code",
      "execution_count": null,
      "metadata": {
        "id": "kYlkuOMF_Onw",
        "outputId": "b479931b-09bf-490e-c9b2-38c3bbd088df"
      },
      "outputs": [
        {
          "data": {
            "text/plain": [
              "<AxesSubplot:>"
            ]
          },
          "execution_count": 19,
          "metadata": {},
          "output_type": "execute_result"
        },
        {
          "data": {
            "image/png": "[encoded data removed]",
            "text/plain": [
              "<Figure size 432x288 with 1 Axes>"
            ]
          },
          "metadata": {
            "needs_background": "light"
          },
          "output_type": "display_data"
        }
      ],
      "source": [
        "# теперь посмотрим на графике.\n",
        "pd.Series(log_reg_test).plot(grid=True)"
      ]
    },
    {
      "cell_type": "markdown",
      "metadata": {
        "id": "zXBpG04Y_Onw"
      },
      "source": [
        "Тут получили лучший результат так же как при параметрах по умолчанию. на max_iter = 40 выходим на максимальную точность, а дальше  точность не растет.\n"
      ]
    },
    {
      "cell_type": "markdown",
      "metadata": {
        "id": "gHgqn12B_Onw"
      },
      "source": [
        "**Вывод:** После проведения тестов на валидац выборке получили самую лучшую модель с кол-вом итераций = 40.\n",
        "Сохранили ее в model_LogisticRegression для дальнейшего Сравнения."
      ]
    },
    {
      "cell_type": "markdown",
      "metadata": {
        "id": "QIkseh_E_Onx"
      },
      "source": [
        "Сравним лучших результатов трех моделей.      \n",
        "\n",
        "DecisionTreeClassifier дерево решений:    \n",
        "Лучшая точность: 0.7853810264385692 при глубине 3    \n",
        "\n",
        "RandomForestClassifier случайный лес:      \n",
        "Лучшая точность: 0.807153965785381 при n_estimators = 18 , criterion = gini, max_depth = 7   \n",
        "\n",
        " LogisticRegression Логическая регрессия:     \n",
        "Лучшая точность: 0.7107309486780715 при кол-ве итераций 40    \n",
        "\n",
        "**Вывод**  лучший результат у \"Леса\", будем эту модель применять на тестовой выборке."
      ]
    },
    {
      "cell_type": "markdown",
      "metadata": {
        "id": "59FWYwe5_Onx"
      },
      "source": [
        "## Проверьте модель на тестовой выборке"
      ]
    },
    {
      "cell_type": "markdown",
      "metadata": {
        "id": "3EyQjcbT_Onx"
      },
      "source": [
        "Проверяем  лучшую модель **model_RandomForestClassifier** на тестовой выборке"
      ]
    },
    {
      "cell_type": "code",
      "execution_count": null,
      "metadata": {
        "colab": {
          "base_uri": "https://localhost:8080/"
        },
        "id": "UMNLkVQD_Onx",
        "outputId": "54f3ab4a-7478-45fa-fa0f-dd07362e004b"
      },
      "outputs": [
        {
          "output_type": "stream",
          "name": "stdout",
          "text": [
            "Точность модели случайного леса на тестовой выборке 0.8087091757387247\n"
          ]
        }
      ],
      "source": [
        "#cлучайный лес\n",
        "print ('Точность модели случайного леса на тестовой выборке',\\\n",
        "       accuracy_score(target_test, model_RandomForestClassifier.predict(features_test)))"
      ]
    },
    {
      "cell_type": "markdown",
      "metadata": {
        "id": "9YaAC2gK_On0"
      },
      "source": [
        "**Вывод:**     \n",
        "Модель Случайного леса показала на тестовой выборке даже немного лучший результат  0.8087091757387247     \n",
        "против 0.807153965785381 на валидационной.  \n",
        "Считаем результат достигнут. Модель создана и может применяться в бизнес процессах\n"
      ]
    },
    {
      "cell_type": "markdown",
      "metadata": {
        "id": "1_Z5rxJi_On0"
      },
      "source": [
        "**Проведем дополнительный Тест:**   \n",
        "    Объединяем тренировочную выборку и валидационную.   \n",
        "    Обучаем на ней выбранную модель с выбранными гиперпараметрами.     \n",
        "    Тестируем на тестовой выборке и сравниваем результат."
      ]
    },
    {
      "cell_type": "code",
      "execution_count": null,
      "metadata": {
        "colab": {
          "base_uri": "https://localhost:8080/"
        },
        "id": "KtmBqM2a_On0",
        "outputId": "3e23a194-dbb8-4c77-bf08-a49ea43b4a7f"
      },
      "outputs": [
        {
          "output_type": "stream",
          "name": "stdout",
          "text": [
            "Размер features_additional:  (2571, 4)\n",
            "Размер target_additional:   (2571,)\n"
          ]
        }
      ],
      "source": [
        "#соеденение тренр и валидц выборок features_valid\n",
        "features_additional = pd.concat([features_train, features_valid], ignore_index=True)\n",
        "target_additional = pd.concat([target_train, target_valid], ignore_index=True)\n",
        "# и проверим размерчики\n",
        "print ('Размер features_additional: ',features_additional.shape)\n",
        "print ('Размер target_additional:  ', target_additional.shape)"
      ]
    },
    {
      "cell_type": "code",
      "execution_count": null,
      "metadata": {
        "colab": {
          "base_uri": "https://localhost:8080/"
        },
        "id": "rNydsq0__On1",
        "outputId": "d3ed7316-07d9-4aaf-d7a3-567e1eca2ded"
      },
      "outputs": [
        {
          "output_type": "execute_result",
          "data": {
            "text/plain": [
              "RandomForestClassifier(max_depth=7, n_estimators=18, random_state=3333)"
            ]
          },
          "metadata": {},
          "execution_count": 37
        }
      ],
      "source": [
        "# обучаем модель  RF  с выбранными гипер параметрами  на объединенной выборке\n",
        "model_additional = RandomForestClassifier(random_state=3333, n_estimators=18, max_depth = 7)\n",
        "model_additional.fit(features_additional, target_additional)"
      ]
    },
    {
      "cell_type": "code",
      "execution_count": null,
      "metadata": {
        "colab": {
          "base_uri": "https://localhost:8080/"
        },
        "id": "OGIpQb9P_On1",
        "outputId": "376eebb2-cd77-4176-b773-c391c2f5a440"
      },
      "outputs": [
        {
          "output_type": "stream",
          "name": "stdout",
          "text": [
            "Точность дополнительной модели RF на тестовой выборке  0.80248833592535\n"
          ]
        }
      ],
      "source": [
        "# применяем на тестовой выборке\n",
        "print ('Точность дополнительной модели RF на тестовой выборке ',\\\n",
        "       accuracy_score(target_test, model_additional.predict(features_test)))"
      ]
    },
    {
      "cell_type": "markdown",
      "metadata": {
        "id": "VdWzGR5a_On1"
      },
      "source": [
        "**Вывод по доп исследованию** .   \n",
        "Точность дополнительной модели RF на тестовой выборке  0.80248833592535      \n",
        "Лучший результат основной модели 0.8087091757387247    \n",
        "\n",
        "Точность показала немного худжий результат. возможно это в рамках погрешности/случайности, тк размер тестовой выборки не такой большой, чтобы  по настоящему оценить на болшом кол-ве данных."
      ]
    },
    {
      "cell_type": "markdown",
      "metadata": {
        "id": "rfdfo6cw_On1"
      },
      "source": [
        "## Проверка модели на адекватность"
      ]
    },
    {
      "cell_type": "markdown",
      "metadata": {
        "id": "2cqvABH6_On1"
      },
      "source": [
        "Проверим модель на адекватность на тестовой выборке.\n",
        "1. Пусть все предсказания будут 1\n",
        "2. Пусть все предсказания будут 0\n"
      ]
    },
    {
      "cell_type": "code",
      "execution_count": null,
      "metadata": {
        "id": "nMu5dFme_On1",
        "outputId": "a6d46e3e-3aa0-48d2-a966-36264b0ec7f4"
      },
      "outputs": [
        {
          "name": "stdout",
          "output_type": "stream",
          "text": [
            "точность модели  где все предсказания \"1\":   0.3157076205287714\n",
            "точность модели  где все предсказания \"0\":   0.6842923794712286\n"
          ]
        }
      ],
      "source": [
        "#все предсказания 1\n",
        "print ('точность модели  где все предсказания \"1\":  ',target_test.mean())\n",
        "print ('точность модели  где все предсказания \"0\":  ',1-target_test.mean())"
      ]
    },
    {
      "cell_type": "markdown",
      "metadata": {
        "id": "Le0qSRtw_On2"
      },
      "source": [
        "**Вывод**Как видно модель , где предсказания \"0\", сравнима по точность с логической регрессией.     \n",
        "Но вот модели дерева и леса, дают бОльшую точность,  в целом эти модели адекватны."
      ]
    },
    {
      "cell_type": "markdown",
      "metadata": {
        "id": "eEHtcr2T_On2"
      },
      "source": [
        "### попробуем устранить/потестировать мультиколлинеарность\n",
        " Признаки 'calls' и 'minutes'  сильно коллериуют, дропаем  столбец 'minutes'.  \n",
        " Сам датасет был заменен в п 1, а затем перзапущен весь код и записаны результаты , т к это оптимально.   \n",
        "Получили такие результаты\n",
        "\n",
        "**модель DT**      \n",
        "Полный дата сет      \n",
        "Лучшая точность: 0.7853810264385692 при глубине 3     \n",
        "Обрезанный дс (дроп 'minutes')       \n",
        "Лучшая точность: 0.7900466562986003 при глубине 5  \n",
        "\n",
        "**модель RF**    \n",
        "Полный дата сет     \n",
        "Лучшая точность: 0.807153965785381 при кол-ве деревьев 18 , criterion gini max_depth 7   \n",
        "Обрезанный дс (дроп 'minutes')       \n",
        "Лучшая точность: 0.7993779160186625 при: n_estimators 13 , criterion gini ,  max_depth 8   \n",
        "\n",
        "**модель LR**     \n",
        "Полный дата сет    \n",
        "Лучшая точность: 0.7107309486780715 при кол-ве итераций 40    \n",
        "Обрезанный дс (дроп 'minutes')    \n",
        "Лучшая точность: 0.7091757387247278 при кол-ве итераций 10\n",
        "\n",
        "Результат улучшился у дерева, потому  что как раз мультиколлиниальность приводит к переобучению. А тут дерево покзало лучший результат уже на большем кол-ве веток 5шт."
      ]
    },
    {
      "cell_type": "markdown",
      "metadata": {
        "id": "kLB5uNYq_On2"
      },
      "source": [
        "##  Общий вывод по проекту:    \n",
        "Задача спрогнозирвоать для пользователя выбор оптимального тарифа(из двух) исходя из имеющихся данных .\n",
        "1. Проанализированый исходный дата сет с информацией по тарифу.Дата сет без пропусков и готов к построению моделей.\n",
        "2. Данные были разделены на обучающию, валидац и тестовые выобрки в отношении 60 / 20 / 20%.\n",
        "3. На обучающей выборке были обучены модели Дерева , Случайного Леса,и  Логический Регрессии. На Валидационной выборке исследована точной каждой модели изменяя гипер параметры в циклах.    \n",
        "Найдена самая точная модель :  RandomForestClassifier (случайный лес)  Лучшая точность: 0.807153965785381 при n_estimators = 18 , criterion = gini, max_depth = 7   \n",
        "4.На тестовой выборке эта модель показала даже немного лучший результат  0.8087091757387247. Модель готва для использования в бизнес процессах.     \n",
        "Проведен дополнительный тест. Выборка обучающая и валидационная были объеденены. ЗАтем на этой выборке обучена модель с выбранными (лучшими) гиперпараметрами. Модель применена на тестовой выборке. Результат оказался чуть хуже. Поэтому лучшая модель с лучшими результатми осталась прежней.   \n",
        "5. Проведен анализ на адекватность модели. Модель адекватна. Так же проведен анализ на мультиколлиниальность. Показавший, что добиться повышенной точности модели не удалось."
      ]
    },
    {
      "cell_type": "code",
      "execution_count": null,
      "metadata": {
        "id": "GwCqdW07_On3"
      },
      "outputs": [],
      "source": []
    }
  ],
  "metadata": {
    "ExecuteTimeLog": [
      {
        "duration": 406,
        "start_time": "2022-12-19T09:41:27.263Z"
      },
      {
        "duration": 45,
        "start_time": "2022-12-19T09:41:27.794Z"
      },
      {
        "duration": 127,
        "start_time": "2022-12-19T09:41:40.923Z"
      },
      {
        "duration": 18,
        "start_time": "2022-12-19T09:41:45.810Z"
      },
      {
        "duration": 18,
        "start_time": "2022-12-19T09:42:54.443Z"
      },
      {
        "duration": 3,
        "start_time": "2022-12-19T09:44:49.333Z"
      },
      {
        "duration": 4,
        "start_time": "2022-12-19T09:48:48.889Z"
      },
      {
        "duration": 5,
        "start_time": "2022-12-19T09:49:01.505Z"
      },
      {
        "duration": 12,
        "start_time": "2022-12-19T09:49:11.075Z"
      },
      {
        "duration": 60,
        "start_time": "2022-12-19T10:00:24.806Z"
      },
      {
        "duration": 697,
        "start_time": "2022-12-19T10:00:32.585Z"
      },
      {
        "duration": 6,
        "start_time": "2022-12-19T10:00:35.406Z"
      },
      {
        "duration": 11,
        "start_time": "2022-12-19T10:00:44.177Z"
      },
      {
        "duration": 9,
        "start_time": "2022-12-19T10:00:55.611Z"
      },
      {
        "duration": 9,
        "start_time": "2022-12-19T10:01:00.130Z"
      },
      {
        "duration": 14,
        "start_time": "2022-12-19T10:01:16.043Z"
      },
      {
        "duration": 20,
        "start_time": "2022-12-19T10:01:47.700Z"
      },
      {
        "duration": 37,
        "start_time": "2022-12-19T10:02:01.827Z"
      },
      {
        "duration": 14,
        "start_time": "2022-12-19T10:02:10.755Z"
      },
      {
        "duration": 4,
        "start_time": "2022-12-19T10:02:35.606Z"
      },
      {
        "duration": 4,
        "start_time": "2022-12-19T10:03:39.517Z"
      },
      {
        "duration": 4,
        "start_time": "2022-12-19T10:04:59.428Z"
      },
      {
        "duration": 4,
        "start_time": "2022-12-19T10:05:59.127Z"
      },
      {
        "duration": 4,
        "start_time": "2022-12-19T10:06:08.310Z"
      },
      {
        "duration": 3,
        "start_time": "2022-12-19T10:10:50.922Z"
      },
      {
        "duration": 43,
        "start_time": "2022-12-19T10:16:02.695Z"
      },
      {
        "duration": 2,
        "start_time": "2022-12-19T10:20:40.279Z"
      },
      {
        "duration": 14,
        "start_time": "2022-12-19T10:21:05.979Z"
      },
      {
        "duration": 16,
        "start_time": "2022-12-19T10:23:05.116Z"
      },
      {
        "duration": 14,
        "start_time": "2022-12-19T10:23:33.022Z"
      },
      {
        "duration": 6,
        "start_time": "2022-12-19T10:25:07.705Z"
      },
      {
        "duration": 13,
        "start_time": "2022-12-19T10:25:27.968Z"
      },
      {
        "duration": 6,
        "start_time": "2022-12-19T10:25:29.938Z"
      },
      {
        "duration": 15,
        "start_time": "2022-12-19T10:25:36.510Z"
      },
      {
        "duration": 6,
        "start_time": "2022-12-19T10:25:38.400Z"
      },
      {
        "duration": 14,
        "start_time": "2022-12-19T10:25:47.647Z"
      },
      {
        "duration": 6,
        "start_time": "2022-12-19T10:25:49.655Z"
      },
      {
        "duration": 17,
        "start_time": "2022-12-19T10:25:56.951Z"
      },
      {
        "duration": 6,
        "start_time": "2022-12-19T10:25:57.550Z"
      },
      {
        "duration": 16,
        "start_time": "2022-12-19T10:26:04.871Z"
      },
      {
        "duration": 8,
        "start_time": "2022-12-19T10:26:05.699Z"
      },
      {
        "duration": 15,
        "start_time": "2022-12-19T10:26:34.159Z"
      },
      {
        "duration": 0,
        "start_time": "2022-12-19T10:56:09.358Z"
      },
      {
        "duration": 0,
        "start_time": "2022-12-19T10:56:09.359Z"
      },
      {
        "duration": 53,
        "start_time": "2022-12-19T11:05:24.817Z"
      },
      {
        "duration": 15,
        "start_time": "2022-12-19T11:05:30.642Z"
      },
      {
        "duration": 62,
        "start_time": "2022-12-19T11:23:35.497Z"
      },
      {
        "duration": 69,
        "start_time": "2022-12-19T11:24:50.667Z"
      },
      {
        "duration": 4,
        "start_time": "2022-12-19T11:32:38.136Z"
      },
      {
        "duration": 18,
        "start_time": "2022-12-19T11:35:27.323Z"
      },
      {
        "duration": 14,
        "start_time": "2022-12-19T11:35:38.100Z"
      },
      {
        "duration": 13,
        "start_time": "2022-12-19T11:36:40.469Z"
      },
      {
        "duration": 14,
        "start_time": "2022-12-19T11:37:16.296Z"
      },
      {
        "duration": 13,
        "start_time": "2022-12-19T11:37:24.059Z"
      },
      {
        "duration": 2,
        "start_time": "2022-12-19T11:37:39.605Z"
      },
      {
        "duration": 3,
        "start_time": "2022-12-19T11:37:44.581Z"
      },
      {
        "duration": 13,
        "start_time": "2022-12-19T11:37:55.645Z"
      },
      {
        "duration": 14,
        "start_time": "2022-12-19T11:39:59.318Z"
      },
      {
        "duration": 14,
        "start_time": "2022-12-19T11:40:07.759Z"
      },
      {
        "duration": 9,
        "start_time": "2022-12-19T11:40:48.855Z"
      },
      {
        "duration": 8,
        "start_time": "2022-12-19T11:41:23.367Z"
      },
      {
        "duration": 4,
        "start_time": "2022-12-19T11:41:41.144Z"
      },
      {
        "duration": 59,
        "start_time": "2022-12-19T11:41:59.217Z"
      },
      {
        "duration": 3,
        "start_time": "2022-12-19T11:42:06.425Z"
      },
      {
        "duration": 7,
        "start_time": "2022-12-19T11:42:26.465Z"
      },
      {
        "duration": 8,
        "start_time": "2022-12-19T11:42:46.490Z"
      },
      {
        "duration": 5,
        "start_time": "2022-12-19T11:42:56.961Z"
      },
      {
        "duration": 507,
        "start_time": "2022-12-19T11:43:03.225Z"
      },
      {
        "duration": 101,
        "start_time": "2022-12-19T11:43:16.585Z"
      },
      {
        "duration": 135,
        "start_time": "2022-12-19T11:43:34.122Z"
      },
      {
        "duration": 99,
        "start_time": "2022-12-19T11:43:56.354Z"
      },
      {
        "duration": 852,
        "start_time": "2022-12-19T11:44:10.770Z"
      },
      {
        "duration": 106,
        "start_time": "2022-12-19T11:44:14.058Z"
      },
      {
        "duration": 421,
        "start_time": "2022-12-19T11:44:35.970Z"
      },
      {
        "duration": 180,
        "start_time": "2022-12-19T11:44:38.947Z"
      },
      {
        "duration": 409,
        "start_time": "2022-12-19T11:45:16.267Z"
      },
      {
        "duration": 100,
        "start_time": "2022-12-19T11:45:18.435Z"
      },
      {
        "duration": 50,
        "start_time": "2022-12-19T11:46:13.349Z"
      },
      {
        "duration": 14,
        "start_time": "2022-12-19T11:46:17.211Z"
      },
      {
        "duration": 259,
        "start_time": "2022-12-19T11:47:01.404Z"
      },
      {
        "duration": 112,
        "start_time": "2022-12-19T11:47:04.085Z"
      },
      {
        "duration": 248,
        "start_time": "2022-12-19T11:47:57.141Z"
      },
      {
        "duration": 114,
        "start_time": "2022-12-19T11:47:59.165Z"
      },
      {
        "duration": 111,
        "start_time": "2022-12-19T11:50:50.808Z"
      },
      {
        "duration": 366,
        "start_time": "2022-12-19T11:55:11.787Z"
      },
      {
        "duration": 59,
        "start_time": "2022-12-19T12:10:17.687Z"
      },
      {
        "duration": 1276,
        "start_time": "2022-12-19T12:10:29.024Z"
      },
      {
        "duration": 68,
        "start_time": "2022-12-19T12:10:30.302Z"
      },
      {
        "duration": 31,
        "start_time": "2022-12-19T12:10:30.372Z"
      },
      {
        "duration": 36,
        "start_time": "2022-12-19T12:10:30.405Z"
      },
      {
        "duration": 45,
        "start_time": "2022-12-19T12:10:30.443Z"
      },
      {
        "duration": 47,
        "start_time": "2022-12-19T12:10:30.490Z"
      },
      {
        "duration": 60,
        "start_time": "2022-12-19T12:10:30.538Z"
      },
      {
        "duration": 351,
        "start_time": "2022-12-19T12:10:30.600Z"
      },
      {
        "duration": 614,
        "start_time": "2022-12-19T12:10:30.953Z"
      },
      {
        "duration": 433,
        "start_time": "2022-12-19T12:10:31.569Z"
      },
      {
        "duration": 2044,
        "start_time": "2022-12-19T12:10:32.004Z"
      },
      {
        "duration": 115,
        "start_time": "2022-12-19T12:11:02.784Z"
      },
      {
        "duration": 2122,
        "start_time": "2022-12-19T12:11:27.016Z"
      },
      {
        "duration": 150,
        "start_time": "2022-12-19T12:11:29.264Z"
      },
      {
        "duration": 5262,
        "start_time": "2022-12-19T12:14:17.065Z"
      },
      {
        "duration": 486,
        "start_time": "2022-12-19T12:14:33.371Z"
      },
      {
        "duration": 125,
        "start_time": "2022-12-19T12:14:36.507Z"
      },
      {
        "duration": 172,
        "start_time": "2022-12-19T12:14:39.699Z"
      },
      {
        "duration": 27,
        "start_time": "2022-12-19T12:20:48.527Z"
      },
      {
        "duration": 5486,
        "start_time": "2022-12-19T12:25:05.227Z"
      },
      {
        "duration": 711,
        "start_time": "2022-12-19T12:28:03.877Z"
      },
      {
        "duration": 15,
        "start_time": "2022-12-19T12:28:29.629Z"
      },
      {
        "duration": 15,
        "start_time": "2022-12-19T12:28:46.575Z"
      },
      {
        "duration": 138,
        "start_time": "2022-12-19T12:29:48.314Z"
      },
      {
        "duration": 27,
        "start_time": "2022-12-19T12:30:23.451Z"
      },
      {
        "duration": 14,
        "start_time": "2022-12-19T12:30:25.353Z"
      },
      {
        "duration": 16,
        "start_time": "2022-12-19T12:30:29.890Z"
      },
      {
        "duration": 149,
        "start_time": "2022-12-19T12:30:32.089Z"
      },
      {
        "duration": 5,
        "start_time": "2022-12-19T12:30:57.202Z"
      },
      {
        "duration": 212,
        "start_time": "2022-12-19T12:31:09.514Z"
      },
      {
        "duration": 4,
        "start_time": "2022-12-19T12:31:13.915Z"
      },
      {
        "duration": 116,
        "start_time": "2022-12-19T12:31:16.673Z"
      },
      {
        "duration": 1915,
        "start_time": "2022-12-19T12:31:24.850Z"
      },
      {
        "duration": 127,
        "start_time": "2022-12-19T12:31:30.082Z"
      },
      {
        "duration": 352,
        "start_time": "2022-12-19T12:32:07.715Z"
      },
      {
        "duration": 6,
        "start_time": "2022-12-19T12:32:10.706Z"
      },
      {
        "duration": 127,
        "start_time": "2022-12-19T12:32:13.860Z"
      },
      {
        "duration": 364,
        "start_time": "2022-12-19T12:32:23.131Z"
      },
      {
        "duration": 430,
        "start_time": "2022-12-19T12:33:00.252Z"
      },
      {
        "duration": 4,
        "start_time": "2022-12-19T12:33:12.460Z"
      },
      {
        "duration": 134,
        "start_time": "2022-12-19T12:33:14.685Z"
      },
      {
        "duration": 3,
        "start_time": "2022-12-19T12:35:35.630Z"
      },
      {
        "duration": 6,
        "start_time": "2022-12-19T12:35:38.856Z"
      },
      {
        "duration": 4,
        "start_time": "2022-12-19T12:35:44.791Z"
      },
      {
        "duration": 4,
        "start_time": "2022-12-19T12:35:47.974Z"
      },
      {
        "duration": 4,
        "start_time": "2022-12-19T12:35:51.662Z"
      },
      {
        "duration": 1695,
        "start_time": "2022-12-19T12:36:07.790Z"
      },
      {
        "duration": 148,
        "start_time": "2022-12-19T12:36:17.547Z"
      },
      {
        "duration": 175,
        "start_time": "2022-12-19T12:36:44.354Z"
      },
      {
        "duration": 5,
        "start_time": "2022-12-19T12:36:48.470Z"
      },
      {
        "duration": 127,
        "start_time": "2022-12-19T12:36:50.655Z"
      },
      {
        "duration": 204,
        "start_time": "2022-12-19T12:36:59.503Z"
      },
      {
        "duration": 4,
        "start_time": "2022-12-19T12:37:03.495Z"
      },
      {
        "duration": 962,
        "start_time": "2022-12-19T12:37:14.159Z"
      },
      {
        "duration": 127,
        "start_time": "2022-12-19T12:37:21.104Z"
      },
      {
        "duration": 1020,
        "start_time": "2022-12-19T14:23:58.122Z"
      },
      {
        "duration": 115,
        "start_time": "2022-12-19T14:23:59.144Z"
      },
      {
        "duration": 22,
        "start_time": "2022-12-19T14:23:59.261Z"
      },
      {
        "duration": 8,
        "start_time": "2022-12-19T14:23:59.285Z"
      },
      {
        "duration": 12,
        "start_time": "2022-12-19T14:23:59.295Z"
      },
      {
        "duration": 30,
        "start_time": "2022-12-19T14:23:59.308Z"
      },
      {
        "duration": 16,
        "start_time": "2022-12-19T14:23:59.339Z"
      },
      {
        "duration": 442,
        "start_time": "2022-12-19T14:23:59.357Z"
      },
      {
        "duration": 522,
        "start_time": "2022-12-19T14:23:59.801Z"
      },
      {
        "duration": 379,
        "start_time": "2022-12-19T14:24:00.325Z"
      },
      {
        "duration": 5041,
        "start_time": "2022-12-19T14:24:00.705Z"
      },
      {
        "duration": 148,
        "start_time": "2022-12-19T14:24:05.748Z"
      },
      {
        "duration": 26,
        "start_time": "2022-12-19T14:24:05.898Z"
      },
      {
        "duration": 964,
        "start_time": "2022-12-19T14:24:05.926Z"
      },
      {
        "duration": 5,
        "start_time": "2022-12-19T14:24:06.892Z"
      },
      {
        "duration": 121,
        "start_time": "2022-12-19T14:24:06.898Z"
      },
      {
        "duration": 5041,
        "start_time": "2022-12-19T14:25:07.822Z"
      },
      {
        "duration": 899,
        "start_time": "2022-12-19T14:25:33.686Z"
      },
      {
        "duration": 3,
        "start_time": "2022-12-19T14:28:14.409Z"
      },
      {
        "duration": 107,
        "start_time": "2022-12-19T14:28:18.157Z"
      },
      {
        "duration": 15,
        "start_time": "2022-12-19T14:28:50.164Z"
      },
      {
        "duration": 6,
        "start_time": "2022-12-19T14:29:24.236Z"
      },
      {
        "duration": 8,
        "start_time": "2022-12-19T14:30:24.990Z"
      },
      {
        "duration": 3,
        "start_time": "2022-12-19T14:36:27.359Z"
      },
      {
        "duration": 1075,
        "start_time": "2022-12-21T08:31:57.418Z"
      },
      {
        "duration": 125,
        "start_time": "2022-12-21T08:31:58.497Z"
      },
      {
        "duration": 25,
        "start_time": "2022-12-21T08:31:58.624Z"
      },
      {
        "duration": 7,
        "start_time": "2022-12-21T08:31:58.651Z"
      },
      {
        "duration": 25,
        "start_time": "2022-12-21T08:31:58.660Z"
      },
      {
        "duration": 7,
        "start_time": "2022-12-21T08:31:58.687Z"
      },
      {
        "duration": 33,
        "start_time": "2022-12-21T08:31:58.695Z"
      },
      {
        "duration": 485,
        "start_time": "2022-12-21T08:31:58.729Z"
      },
      {
        "duration": 590,
        "start_time": "2022-12-21T08:31:59.216Z"
      },
      {
        "duration": 427,
        "start_time": "2022-12-21T08:31:59.809Z"
      },
      {
        "duration": 5448,
        "start_time": "2022-12-21T08:32:00.238Z"
      },
      {
        "duration": 158,
        "start_time": "2022-12-21T08:32:05.688Z"
      },
      {
        "duration": 25,
        "start_time": "2022-12-21T08:32:05.848Z"
      },
      {
        "duration": 1101,
        "start_time": "2022-12-21T08:32:05.876Z"
      },
      {
        "duration": 2,
        "start_time": "2022-12-21T08:32:06.979Z"
      },
      {
        "duration": 156,
        "start_time": "2022-12-21T08:32:06.983Z"
      },
      {
        "duration": 6,
        "start_time": "2022-12-21T08:32:07.140Z"
      },
      {
        "duration": 21,
        "start_time": "2022-12-21T08:32:07.148Z"
      },
      {
        "duration": 26,
        "start_time": "2022-12-21T08:32:07.171Z"
      },
      {
        "duration": 27,
        "start_time": "2022-12-21T08:41:07.848Z"
      },
      {
        "duration": 52,
        "start_time": "2022-12-21T08:41:27.273Z"
      },
      {
        "duration": 100,
        "start_time": "2022-12-21T08:42:03.650Z"
      },
      {
        "duration": 190,
        "start_time": "2022-12-21T08:42:17.803Z"
      },
      {
        "duration": 197,
        "start_time": "2022-12-21T08:43:58.403Z"
      },
      {
        "duration": 140,
        "start_time": "2022-12-21T08:44:00.859Z"
      },
      {
        "duration": 112,
        "start_time": "2022-12-21T08:44:30.788Z"
      },
      {
        "duration": 281,
        "start_time": "2022-12-21T08:44:35.963Z"
      },
      {
        "duration": 67,
        "start_time": "2022-12-21T08:52:54.448Z"
      },
      {
        "duration": 1230,
        "start_time": "2022-12-21T11:44:49.501Z"
      },
      {
        "duration": 165,
        "start_time": "2022-12-21T11:44:50.741Z"
      },
      {
        "duration": 37,
        "start_time": "2022-12-21T11:44:50.908Z"
      },
      {
        "duration": 16,
        "start_time": "2022-12-21T11:44:50.949Z"
      },
      {
        "duration": 11,
        "start_time": "2022-12-21T11:44:50.967Z"
      },
      {
        "duration": 6,
        "start_time": "2022-12-21T11:44:50.980Z"
      },
      {
        "duration": 33,
        "start_time": "2022-12-21T11:44:50.988Z"
      },
      {
        "duration": 592,
        "start_time": "2022-12-21T11:44:51.023Z"
      },
      {
        "duration": 684,
        "start_time": "2022-12-21T11:44:51.619Z"
      },
      {
        "duration": 160,
        "start_time": "2022-12-21T11:44:52.313Z"
      },
      {
        "duration": 195,
        "start_time": "2022-12-21T11:44:52.476Z"
      },
      {
        "duration": 479,
        "start_time": "2022-12-21T11:44:52.673Z"
      },
      {
        "duration": 5967,
        "start_time": "2022-12-21T11:44:53.154Z"
      },
      {
        "duration": 181,
        "start_time": "2022-12-21T11:44:59.123Z"
      },
      {
        "duration": 39,
        "start_time": "2022-12-21T11:44:59.307Z"
      },
      {
        "duration": 1215,
        "start_time": "2022-12-21T11:44:59.348Z"
      },
      {
        "duration": 5,
        "start_time": "2022-12-21T11:45:00.570Z"
      },
      {
        "duration": 267,
        "start_time": "2022-12-21T11:45:00.577Z"
      },
      {
        "duration": 7,
        "start_time": "2022-12-21T11:45:00.847Z"
      },
      {
        "duration": 21,
        "start_time": "2022-12-21T11:45:00.856Z"
      },
      {
        "duration": 38,
        "start_time": "2022-12-21T11:45:00.879Z"
      },
      {
        "duration": 78,
        "start_time": "2022-12-21T11:49:16.295Z"
      },
      {
        "duration": 8,
        "start_time": "2022-12-21T11:49:29.375Z"
      },
      {
        "duration": 26,
        "start_time": "2022-12-21T11:52:53.202Z"
      },
      {
        "duration": 8,
        "start_time": "2022-12-21T11:54:36.474Z"
      },
      {
        "duration": 8,
        "start_time": "2022-12-21T11:58:41.765Z"
      },
      {
        "duration": 14,
        "start_time": "2022-12-21T12:09:32.057Z"
      },
      {
        "duration": 9,
        "start_time": "2022-12-21T12:09:45.742Z"
      },
      {
        "duration": 5,
        "start_time": "2022-12-21T12:09:51.300Z"
      },
      {
        "duration": 4,
        "start_time": "2022-12-21T12:11:44.976Z"
      },
      {
        "duration": 4,
        "start_time": "2022-12-21T12:12:01.590Z"
      },
      {
        "duration": 5,
        "start_time": "2022-12-21T12:12:37.270Z"
      },
      {
        "duration": 5,
        "start_time": "2022-12-21T12:12:52.502Z"
      },
      {
        "duration": 79,
        "start_time": "2022-12-21T12:14:44.172Z"
      },
      {
        "duration": 6,
        "start_time": "2022-12-21T12:15:34.897Z"
      },
      {
        "duration": 1792,
        "start_time": "2022-12-21T13:27:19.002Z"
      },
      {
        "duration": 29,
        "start_time": "2022-12-21T13:27:20.797Z"
      },
      {
        "duration": 26,
        "start_time": "2022-12-21T13:27:20.827Z"
      },
      {
        "duration": 4,
        "start_time": "2022-12-21T13:27:20.855Z"
      },
      {
        "duration": 15,
        "start_time": "2022-12-21T13:27:20.861Z"
      },
      {
        "duration": 13,
        "start_time": "2022-12-21T13:27:20.878Z"
      },
      {
        "duration": 22,
        "start_time": "2022-12-21T13:27:20.893Z"
      },
      {
        "duration": 487,
        "start_time": "2022-12-21T13:27:20.917Z"
      },
      {
        "duration": 455,
        "start_time": "2022-12-21T13:27:21.406Z"
      },
      {
        "duration": 112,
        "start_time": "2022-12-21T13:27:21.864Z"
      },
      {
        "duration": 153,
        "start_time": "2022-12-21T13:27:21.978Z"
      },
      {
        "duration": 426,
        "start_time": "2022-12-21T13:27:22.136Z"
      },
      {
        "duration": 5161,
        "start_time": "2022-12-21T13:27:22.564Z"
      },
      {
        "duration": 151,
        "start_time": "2022-12-21T13:27:27.727Z"
      },
      {
        "duration": 28,
        "start_time": "2022-12-21T13:27:27.880Z"
      },
      {
        "duration": 996,
        "start_time": "2022-12-21T13:27:27.910Z"
      },
      {
        "duration": 3,
        "start_time": "2022-12-21T13:27:28.908Z"
      },
      {
        "duration": 196,
        "start_time": "2022-12-21T13:27:28.913Z"
      },
      {
        "duration": 7,
        "start_time": "2022-12-21T13:27:29.110Z"
      },
      {
        "duration": 42,
        "start_time": "2022-12-21T13:27:29.118Z"
      },
      {
        "duration": 34,
        "start_time": "2022-12-21T13:27:29.161Z"
      },
      {
        "duration": 38,
        "start_time": "2022-12-21T13:27:29.197Z"
      },
      {
        "duration": 57,
        "start_time": "2022-12-22T04:44:03.348Z"
      },
      {
        "duration": 1075,
        "start_time": "2022-12-22T04:44:48.708Z"
      },
      {
        "duration": 111,
        "start_time": "2022-12-22T04:44:50.780Z"
      },
      {
        "duration": 25,
        "start_time": "2022-12-22T04:44:51.549Z"
      },
      {
        "duration": 3,
        "start_time": "2022-12-22T04:46:23.703Z"
      },
      {
        "duration": 50,
        "start_time": "2022-12-22T04:47:54.997Z"
      },
      {
        "duration": 3,
        "start_time": "2022-12-22T04:47:58.743Z"
      },
      {
        "duration": 3,
        "start_time": "2022-12-22T04:48:08.304Z"
      },
      {
        "duration": 12,
        "start_time": "2022-12-22T04:49:17.081Z"
      },
      {
        "duration": 4,
        "start_time": "2022-12-22T05:30:39.602Z"
      },
      {
        "duration": 101,
        "start_time": "2022-12-22T05:30:40.299Z"
      },
      {
        "duration": 6,
        "start_time": "2022-12-22T05:30:49.154Z"
      },
      {
        "duration": 4,
        "start_time": "2022-12-22T05:30:50.004Z"
      },
      {
        "duration": 4,
        "start_time": "2022-12-22T05:31:37.381Z"
      },
      {
        "duration": 3,
        "start_time": "2022-12-22T05:33:43.068Z"
      },
      {
        "duration": 10,
        "start_time": "2022-12-22T05:34:30.943Z"
      },
      {
        "duration": 5,
        "start_time": "2022-12-22T05:35:25.647Z"
      },
      {
        "duration": 4,
        "start_time": "2022-12-22T05:37:43.592Z"
      },
      {
        "duration": 4,
        "start_time": "2022-12-22T05:37:48.064Z"
      },
      {
        "duration": 7,
        "start_time": "2022-12-22T05:44:08.411Z"
      },
      {
        "duration": 16,
        "start_time": "2022-12-22T05:44:14.757Z"
      },
      {
        "duration": 435,
        "start_time": "2022-12-22T05:44:16.365Z"
      },
      {
        "duration": 491,
        "start_time": "2022-12-22T05:44:17.069Z"
      },
      {
        "duration": 24,
        "start_time": "2022-12-22T05:44:21.541Z"
      },
      {
        "duration": 8,
        "start_time": "2022-12-22T05:44:39.109Z"
      },
      {
        "duration": 1062,
        "start_time": "2022-12-22T08:22:01.609Z"
      },
      {
        "duration": 79,
        "start_time": "2022-12-22T08:22:02.674Z"
      },
      {
        "duration": 25,
        "start_time": "2022-12-22T08:22:02.754Z"
      },
      {
        "duration": 5,
        "start_time": "2022-12-22T08:22:02.782Z"
      },
      {
        "duration": 26,
        "start_time": "2022-12-22T08:22:02.789Z"
      },
      {
        "duration": 3,
        "start_time": "2022-12-22T08:22:02.817Z"
      },
      {
        "duration": 16,
        "start_time": "2022-12-22T08:22:02.822Z"
      },
      {
        "duration": 8,
        "start_time": "2022-12-22T08:22:02.840Z"
      },
      {
        "duration": 25,
        "start_time": "2022-12-22T08:22:02.849Z"
      },
      {
        "duration": 25,
        "start_time": "2022-12-22T08:22:02.877Z"
      },
      {
        "duration": 441,
        "start_time": "2022-12-22T08:22:02.904Z"
      },
      {
        "duration": 543,
        "start_time": "2022-12-22T08:22:03.347Z"
      },
      {
        "duration": 72,
        "start_time": "2022-12-22T08:22:03.892Z"
      },
      {
        "duration": 0,
        "start_time": "2022-12-22T08:22:03.966Z"
      },
      {
        "duration": 0,
        "start_time": "2022-12-22T08:22:03.967Z"
      },
      {
        "duration": 0,
        "start_time": "2022-12-22T08:22:03.969Z"
      },
      {
        "duration": 0,
        "start_time": "2022-12-22T08:22:03.970Z"
      },
      {
        "duration": 0,
        "start_time": "2022-12-22T08:22:03.971Z"
      },
      {
        "duration": 0,
        "start_time": "2022-12-22T08:22:03.973Z"
      },
      {
        "duration": 0,
        "start_time": "2022-12-22T08:22:03.974Z"
      },
      {
        "duration": 0,
        "start_time": "2022-12-22T08:22:03.976Z"
      },
      {
        "duration": 0,
        "start_time": "2022-12-22T08:22:03.977Z"
      },
      {
        "duration": 0,
        "start_time": "2022-12-22T08:22:03.978Z"
      },
      {
        "duration": 0,
        "start_time": "2022-12-22T08:22:03.980Z"
      },
      {
        "duration": 0,
        "start_time": "2022-12-22T08:22:03.981Z"
      },
      {
        "duration": 0,
        "start_time": "2022-12-22T08:22:03.982Z"
      },
      {
        "duration": 101,
        "start_time": "2022-12-22T08:22:27.898Z"
      },
      {
        "duration": 9,
        "start_time": "2022-12-22T08:22:44.725Z"
      },
      {
        "duration": 3,
        "start_time": "2022-12-22T08:26:41.223Z"
      },
      {
        "duration": 22489,
        "start_time": "2022-12-22T08:26:53.943Z"
      },
      {
        "duration": 478,
        "start_time": "2022-12-22T08:28:24.570Z"
      },
      {
        "duration": 140,
        "start_time": "2022-12-22T08:29:56.121Z"
      },
      {
        "duration": 9,
        "start_time": "2022-12-22T08:35:33.123Z"
      },
      {
        "duration": 4817,
        "start_time": "2022-12-22T08:35:39.118Z"
      },
      {
        "duration": 196,
        "start_time": "2022-12-22T08:35:43.937Z"
      },
      {
        "duration": 4,
        "start_time": "2022-12-22T08:41:39.546Z"
      },
      {
        "duration": 39,
        "start_time": "2022-12-22T08:42:02.673Z"
      },
      {
        "duration": 39,
        "start_time": "2022-12-22T08:43:31.900Z"
      },
      {
        "duration": 10411,
        "start_time": "2022-12-22T08:43:58.300Z"
      },
      {
        "duration": 10539,
        "start_time": "2022-12-22T08:45:10.092Z"
      },
      {
        "duration": 11152,
        "start_time": "2022-12-22T08:46:09.117Z"
      },
      {
        "duration": 10807,
        "start_time": "2022-12-22T08:46:25.357Z"
      },
      {
        "duration": 6,
        "start_time": "2022-12-22T08:47:17.429Z"
      },
      {
        "duration": 42403,
        "start_time": "2022-12-22T08:49:04.758Z"
      },
      {
        "duration": 199,
        "start_time": "2022-12-22T08:49:47.163Z"
      },
      {
        "duration": 6,
        "start_time": "2022-12-22T08:50:19.704Z"
      },
      {
        "duration": 11508,
        "start_time": "2022-12-22T08:51:37.099Z"
      },
      {
        "duration": 135,
        "start_time": "2022-12-22T08:52:30.905Z"
      },
      {
        "duration": 15692,
        "start_time": "2022-12-22T08:56:08.252Z"
      },
      {
        "duration": 15603,
        "start_time": "2022-12-22T08:57:08.820Z"
      },
      {
        "duration": 155,
        "start_time": "2022-12-22T08:57:53.597Z"
      },
      {
        "duration": 73477,
        "start_time": "2022-12-22T09:00:59.921Z"
      },
      {
        "duration": 55,
        "start_time": "2022-12-22T09:03:38.265Z"
      },
      {
        "duration": 72690,
        "start_time": "2022-12-22T09:03:55.833Z"
      },
      {
        "duration": 72641,
        "start_time": "2022-12-22T09:08:12.981Z"
      },
      {
        "duration": 99,
        "start_time": "2022-12-22T09:20:15.800Z"
      },
      {
        "duration": 24,
        "start_time": "2022-12-22T09:30:51.424Z"
      },
      {
        "duration": 973,
        "start_time": "2022-12-22T09:30:54.330Z"
      },
      {
        "duration": 108,
        "start_time": "2022-12-22T09:30:59.435Z"
      },
      {
        "duration": 70,
        "start_time": "2022-12-22T09:31:15.099Z"
      },
      {
        "duration": 91,
        "start_time": "2022-12-22T09:33:19.854Z"
      },
      {
        "duration": 74,
        "start_time": "2022-12-22T09:37:11.735Z"
      },
      {
        "duration": 16,
        "start_time": "2022-12-22T09:40:35.899Z"
      },
      {
        "duration": 2,
        "start_time": "2022-12-22T09:41:19.441Z"
      },
      {
        "duration": 2,
        "start_time": "2022-12-22T09:41:21.370Z"
      },
      {
        "duration": 4,
        "start_time": "2022-12-22T10:09:07.820Z"
      },
      {
        "duration": 6,
        "start_time": "2022-12-22T10:09:58.805Z"
      },
      {
        "duration": 74,
        "start_time": "2022-12-22T10:11:50.509Z"
      },
      {
        "duration": 64,
        "start_time": "2022-12-22T10:16:08.454Z"
      },
      {
        "duration": 9,
        "start_time": "2022-12-22T10:17:49.722Z"
      },
      {
        "duration": 10,
        "start_time": "2022-12-22T10:19:06.761Z"
      },
      {
        "duration": 13,
        "start_time": "2022-12-22T10:21:56.228Z"
      },
      {
        "duration": 4,
        "start_time": "2022-12-22T10:49:08.748Z"
      },
      {
        "duration": 3,
        "start_time": "2022-12-22T10:50:05.410Z"
      },
      {
        "duration": 17,
        "start_time": "2022-12-22T11:01:35.703Z"
      },
      {
        "duration": 1127,
        "start_time": "2022-12-22T11:02:03.875Z"
      },
      {
        "duration": 30,
        "start_time": "2022-12-22T11:02:05.004Z"
      },
      {
        "duration": 24,
        "start_time": "2022-12-22T11:02:05.036Z"
      },
      {
        "duration": 4,
        "start_time": "2022-12-22T11:02:05.062Z"
      },
      {
        "duration": 23,
        "start_time": "2022-12-22T11:02:05.067Z"
      },
      {
        "duration": 22,
        "start_time": "2022-12-22T11:02:05.093Z"
      },
      {
        "duration": 8,
        "start_time": "2022-12-22T11:02:05.117Z"
      },
      {
        "duration": 9,
        "start_time": "2022-12-22T11:02:05.126Z"
      },
      {
        "duration": 10,
        "start_time": "2022-12-22T11:02:05.137Z"
      },
      {
        "duration": 15,
        "start_time": "2022-12-22T11:02:05.150Z"
      },
      {
        "duration": 35,
        "start_time": "2022-12-22T11:02:05.166Z"
      },
      {
        "duration": 355,
        "start_time": "2022-12-22T11:02:05.203Z"
      },
      {
        "duration": 421,
        "start_time": "2022-12-22T11:02:05.559Z"
      },
      {
        "duration": 1272,
        "start_time": "2022-12-22T11:02:05.982Z"
      },
      {
        "duration": 295,
        "start_time": "2022-12-22T11:02:07.256Z"
      },
      {
        "duration": 185,
        "start_time": "2022-12-22T11:02:07.553Z"
      },
      {
        "duration": 19,
        "start_time": "2022-12-22T11:02:07.740Z"
      },
      {
        "duration": 625,
        "start_time": "2022-12-22T11:02:07.761Z"
      },
      {
        "duration": 125,
        "start_time": "2022-12-22T11:02:08.392Z"
      },
      {
        "duration": 10,
        "start_time": "2022-12-22T11:02:08.519Z"
      },
      {
        "duration": 0,
        "start_time": "2022-12-22T11:02:08.530Z"
      },
      {
        "duration": 0,
        "start_time": "2022-12-22T11:02:08.532Z"
      },
      {
        "duration": 0,
        "start_time": "2022-12-22T11:02:08.533Z"
      },
      {
        "duration": 0,
        "start_time": "2022-12-22T11:02:08.534Z"
      },
      {
        "duration": 4,
        "start_time": "2022-12-22T11:04:31.326Z"
      },
      {
        "duration": 17,
        "start_time": "2022-12-22T11:04:37.795Z"
      },
      {
        "duration": 1116,
        "start_time": "2022-12-22T11:04:50.015Z"
      },
      {
        "duration": 30,
        "start_time": "2022-12-22T11:04:51.133Z"
      },
      {
        "duration": 29,
        "start_time": "2022-12-22T11:04:51.164Z"
      },
      {
        "duration": 7,
        "start_time": "2022-12-22T11:04:51.196Z"
      },
      {
        "duration": 30,
        "start_time": "2022-12-22T11:04:51.205Z"
      },
      {
        "duration": 13,
        "start_time": "2022-12-22T11:04:51.236Z"
      },
      {
        "duration": 24,
        "start_time": "2022-12-22T11:04:51.250Z"
      },
      {
        "duration": 35,
        "start_time": "2022-12-22T11:04:51.276Z"
      },
      {
        "duration": 10,
        "start_time": "2022-12-22T11:04:51.313Z"
      },
      {
        "duration": 17,
        "start_time": "2022-12-22T11:04:51.325Z"
      },
      {
        "duration": 47,
        "start_time": "2022-12-22T11:04:51.343Z"
      },
      {
        "duration": 369,
        "start_time": "2022-12-22T11:04:51.393Z"
      },
      {
        "duration": 405,
        "start_time": "2022-12-22T11:04:51.764Z"
      },
      {
        "duration": 1389,
        "start_time": "2022-12-22T11:04:52.172Z"
      },
      {
        "duration": 296,
        "start_time": "2022-12-22T11:04:53.562Z"
      },
      {
        "duration": 281,
        "start_time": "2022-12-22T11:04:53.860Z"
      },
      {
        "duration": 25,
        "start_time": "2022-12-22T11:04:54.143Z"
      },
      {
        "duration": 609,
        "start_time": "2022-12-22T11:04:54.170Z"
      },
      {
        "duration": 140,
        "start_time": "2022-12-22T11:04:54.782Z"
      },
      {
        "duration": 12,
        "start_time": "2022-12-22T11:04:54.924Z"
      },
      {
        "duration": 0,
        "start_time": "2022-12-22T11:04:54.938Z"
      },
      {
        "duration": 0,
        "start_time": "2022-12-22T11:04:54.940Z"
      },
      {
        "duration": 0,
        "start_time": "2022-12-22T11:04:54.941Z"
      },
      {
        "duration": 0,
        "start_time": "2022-12-22T11:04:54.942Z"
      },
      {
        "duration": 91,
        "start_time": "2022-12-22T11:06:05.279Z"
      },
      {
        "duration": 112,
        "start_time": "2022-12-22T11:07:02.873Z"
      },
      {
        "duration": 55573,
        "start_time": "2022-12-22T11:07:43.456Z"
      },
      {
        "duration": 17,
        "start_time": "2022-12-22T11:16:28.942Z"
      },
      {
        "duration": 13,
        "start_time": "2022-12-22T11:16:32.356Z"
      },
      {
        "duration": 35,
        "start_time": "2022-12-22T11:16:51.958Z"
      },
      {
        "duration": 9,
        "start_time": "2022-12-22T11:16:56.318Z"
      },
      {
        "duration": 15,
        "start_time": "2022-12-22T11:24:41.859Z"
      },
      {
        "duration": 1186,
        "start_time": "2022-12-22T14:23:54.995Z"
      },
      {
        "duration": 71,
        "start_time": "2022-12-22T14:23:56.183Z"
      },
      {
        "duration": 26,
        "start_time": "2022-12-22T14:23:56.256Z"
      },
      {
        "duration": 4,
        "start_time": "2022-12-22T14:23:56.284Z"
      },
      {
        "duration": 14,
        "start_time": "2022-12-22T14:23:56.291Z"
      },
      {
        "duration": 3,
        "start_time": "2022-12-22T14:23:56.306Z"
      },
      {
        "duration": 8,
        "start_time": "2022-12-22T14:23:56.310Z"
      },
      {
        "duration": 25,
        "start_time": "2022-12-22T14:23:56.320Z"
      },
      {
        "duration": 9,
        "start_time": "2022-12-22T14:23:56.347Z"
      },
      {
        "duration": 32,
        "start_time": "2022-12-22T14:23:56.358Z"
      },
      {
        "duration": 20,
        "start_time": "2022-12-22T14:23:56.392Z"
      },
      {
        "duration": 522,
        "start_time": "2022-12-22T14:23:56.414Z"
      },
      {
        "duration": 612,
        "start_time": "2022-12-22T14:23:56.937Z"
      },
      {
        "duration": 488,
        "start_time": "2022-12-22T14:23:57.551Z"
      },
      {
        "duration": 420,
        "start_time": "2022-12-22T14:23:58.041Z"
      },
      {
        "duration": 71812,
        "start_time": "2022-12-22T14:23:58.464Z"
      },
      {
        "duration": 26,
        "start_time": "2022-12-22T14:25:10.278Z"
      },
      {
        "duration": 991,
        "start_time": "2022-12-22T14:25:10.306Z"
      },
      {
        "duration": 136,
        "start_time": "2022-12-22T14:25:11.299Z"
      },
      {
        "duration": 16,
        "start_time": "2022-12-22T14:25:11.438Z"
      },
      {
        "duration": 15,
        "start_time": "2022-12-22T14:25:11.455Z"
      },
      {
        "duration": 88,
        "start_time": "2022-12-22T14:25:11.471Z"
      },
      {
        "duration": 9,
        "start_time": "2022-12-22T14:25:11.561Z"
      },
      {
        "duration": 45,
        "start_time": "2022-12-22T14:25:11.572Z"
      },
      {
        "duration": 46,
        "start_time": "2022-12-23T04:21:54.517Z"
      },
      {
        "duration": 1049,
        "start_time": "2022-12-23T04:22:04.452Z"
      },
      {
        "duration": 121,
        "start_time": "2022-12-23T04:22:05.502Z"
      },
      {
        "duration": 24,
        "start_time": "2022-12-23T04:22:05.624Z"
      },
      {
        "duration": 3,
        "start_time": "2022-12-23T04:22:05.650Z"
      },
      {
        "duration": 12,
        "start_time": "2022-12-23T04:22:05.654Z"
      },
      {
        "duration": 3,
        "start_time": "2022-12-23T04:22:05.667Z"
      },
      {
        "duration": 6,
        "start_time": "2022-12-23T04:22:05.671Z"
      },
      {
        "duration": 7,
        "start_time": "2022-12-23T04:22:05.678Z"
      },
      {
        "duration": 29,
        "start_time": "2022-12-23T04:22:05.687Z"
      },
      {
        "duration": 7,
        "start_time": "2022-12-23T04:22:05.718Z"
      },
      {
        "duration": 19,
        "start_time": "2022-12-23T04:22:05.726Z"
      },
      {
        "duration": 494,
        "start_time": "2022-12-23T04:22:05.747Z"
      },
      {
        "duration": 543,
        "start_time": "2022-12-23T04:22:06.244Z"
      },
      {
        "duration": 455,
        "start_time": "2022-12-23T04:22:06.789Z"
      },
      {
        "duration": 406,
        "start_time": "2022-12-23T04:22:07.245Z"
      },
      {
        "duration": 66632,
        "start_time": "2022-12-23T04:22:07.653Z"
      },
      {
        "duration": 30,
        "start_time": "2022-12-23T04:23:14.287Z"
      },
      {
        "duration": 921,
        "start_time": "2022-12-23T04:23:14.319Z"
      },
      {
        "duration": 126,
        "start_time": "2022-12-23T04:23:15.241Z"
      },
      {
        "duration": 15,
        "start_time": "2022-12-23T04:23:15.369Z"
      },
      {
        "duration": 6,
        "start_time": "2022-12-23T04:23:15.386Z"
      },
      {
        "duration": 81,
        "start_time": "2022-12-23T04:23:15.393Z"
      },
      {
        "duration": 8,
        "start_time": "2022-12-23T04:23:15.476Z"
      },
      {
        "duration": 5,
        "start_time": "2022-12-23T04:23:15.486Z"
      }
    ],
    "kernelspec": {
      "display_name": "Python 3 (ipykernel)",
      "language": "python",
      "name": "python3"
    },
    "language_info": {
      "codemirror_mode": {
        "name": "ipython",
        "version": 3
      },
      "file_extension": ".py",
      "mimetype": "text/x-python",
      "name": "python",
      "nbconvert_exporter": "python",
      "pygments_lexer": "ipython3",
      "version": "3.9.5"
    },
    "toc": {
      "base_numbering": 1,
      "nav_menu": {},
      "number_sections": true,
      "sideBar": true,
      "skip_h1_title": true,
      "title_cell": "Table of Contents",
      "title_sidebar": "Contents",
      "toc_cell": false,
      "toc_position": {},
      "toc_section_display": true,
      "toc_window_display": false
    },
    "colab": {
      "provenance": [],
      "include_colab_link": true
    }
  },
  "nbformat": 4,
  "nbformat_minor": 0
}