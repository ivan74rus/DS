{
 "cells": [
  {
   "cell_type": "markdown",
   "metadata": {
    "colab_type": "text",
    "id": "view-in-github"
   },
   "source": [
    "<a href=\"https://colab.research.google.com/github/ivan74rus/DS/blob/main/%D0%A1%D0%B1%D1%80%D0%BD%D1%8B%D0%B9_%D0%BF%D1%80%D0%BE%D0%B5%D0%BA%D1%82_1_%D0%98%D1%81%D1%81%D0%BB%D0%B5%D0%B4%D0%BE%D0%B2%D0%B0%D0%B8%D0%B5_%D0%BF%D1%80%D0%BE%D0%B4%D0%B0%D0%B6_%D0%B8%D0%B3%D1%80.ipynb\" target=\"_parent\"><img src=\"https://colab.research.google.com/assets/colab-badge.svg\" alt=\"Open In Colab\"/></a>"
   ]
  },
  {
   "cell_type": "markdown",
   "metadata": {
    "id": "R1sFEquJ-_J5"
   },
   "source": [
    "**Описание  проекта.** \n",
    "\n",
    "Вы работаете в интернет-магазине «Стримчик», который продаёт по всему миру компьютерные игры. Из открытых источников доступны исторические данные о продажах игр, оценки пользователей и экспертов, жанры и платформы (например, Xbox или PlayStation). Вам нужно выявить определяющие успешность игры закономерности. Это позволит сделать ставку на потенциально популярный продукт и спланировать рекламные кампании.\n",
    "Перед вами данные до 2016 года. Представим, что сейчас декабрь 2016 г., и вы планируете кампанию на 2017-й. Нужно отработать принцип работы с данными. Неважно, прогнозируете ли вы продажи на 2017 год по данным 2016-го или же 2027-й — по данным 2026 года."
   ]
  },
  {
   "cell_type": "code",
   "execution_count": null,
   "metadata": {
    "id": "abAWLiwq-gNT"
   },
   "outputs": [],
   "source": [
    "# импорт библиотек\n",
    "import pandas as pd\n",
    "import matplotlib.pyplot as plt\n",
    "import numpy as np\n",
    "import seaborn as sns\n",
    "from scipy import stats as st"
   ]
  },
  {
   "cell_type": "markdown",
   "metadata": {
    "id": "2BmJohDf-gNU"
   },
   "source": [
    "##1. Предобработка данных"
   ]
  },
  {
   "cell_type": "markdown",
   "metadata": {
    "id": "1MSYzzYK-gNV"
   },
   "source": [
    "### 1.1. Чтение файла  и обработка названий столбцов"
   ]
  },
  {
   "cell_type": "code",
   "execution_count": null,
   "metadata": {
    "colab": {
     "base_uri": "https://localhost:8080/",
     "height": 206
    },
    "id": "gevzWoGJ-gNV",
    "outputId": "bed5ad23-b4a7-4327-de88-e1b739beedf2"
   },
   "outputs": [
    {
     "data": {
      "text/html": [
       "\n",
       "  <div id=\"df-3055448e-e9e6-45fe-9051-fbf33cefa32f\">\n",
       "    <div class=\"colab-df-container\">\n",
       "      <div>\n",
       "<style scoped>\n",
       "    .dataframe tbody tr th:only-of-type {\n",
       "        vertical-align: middle;\n",
       "    }\n",
       "\n",
       "    .dataframe tbody tr th {\n",
       "        vertical-align: top;\n",
       "    }\n",
       "\n",
       "    .dataframe thead th {\n",
       "        text-align: right;\n",
       "    }\n",
       "</style>\n",
       "<table border=\"1\" class=\"dataframe\">\n",
       "  <thead>\n",
       "    <tr style=\"text-align: right;\">\n",
       "      <th></th>\n",
       "      <th>Name</th>\n",
       "      <th>Platform</th>\n",
       "      <th>Year_of_Release</th>\n",
       "      <th>Genre</th>\n",
       "      <th>NA_sales</th>\n",
       "      <th>EU_sales</th>\n",
       "      <th>JP_sales</th>\n",
       "      <th>Other_sales</th>\n",
       "      <th>Critic_Score</th>\n",
       "      <th>User_Score</th>\n",
       "      <th>Rating</th>\n",
       "    </tr>\n",
       "  </thead>\n",
       "  <tbody>\n",
       "    <tr>\n",
       "      <th>0</th>\n",
       "      <td>Wii Sports</td>\n",
       "      <td>Wii</td>\n",
       "      <td>2006.0</td>\n",
       "      <td>Sports</td>\n",
       "      <td>41.36</td>\n",
       "      <td>28.96</td>\n",
       "      <td>3.77</td>\n",
       "      <td>8.45</td>\n",
       "      <td>76.0</td>\n",
       "      <td>8</td>\n",
       "      <td>E</td>\n",
       "    </tr>\n",
       "    <tr>\n",
       "      <th>1</th>\n",
       "      <td>Super Mario Bros.</td>\n",
       "      <td>NES</td>\n",
       "      <td>1985.0</td>\n",
       "      <td>Platform</td>\n",
       "      <td>29.08</td>\n",
       "      <td>3.58</td>\n",
       "      <td>6.81</td>\n",
       "      <td>0.77</td>\n",
       "      <td>NaN</td>\n",
       "      <td>NaN</td>\n",
       "      <td>NaN</td>\n",
       "    </tr>\n",
       "    <tr>\n",
       "      <th>2</th>\n",
       "      <td>Mario Kart Wii</td>\n",
       "      <td>Wii</td>\n",
       "      <td>2008.0</td>\n",
       "      <td>Racing</td>\n",
       "      <td>15.68</td>\n",
       "      <td>12.76</td>\n",
       "      <td>3.79</td>\n",
       "      <td>3.29</td>\n",
       "      <td>82.0</td>\n",
       "      <td>8.3</td>\n",
       "      <td>E</td>\n",
       "    </tr>\n",
       "    <tr>\n",
       "      <th>3</th>\n",
       "      <td>Wii Sports Resort</td>\n",
       "      <td>Wii</td>\n",
       "      <td>2009.0</td>\n",
       "      <td>Sports</td>\n",
       "      <td>15.61</td>\n",
       "      <td>10.93</td>\n",
       "      <td>3.28</td>\n",
       "      <td>2.95</td>\n",
       "      <td>80.0</td>\n",
       "      <td>8</td>\n",
       "      <td>E</td>\n",
       "    </tr>\n",
       "    <tr>\n",
       "      <th>4</th>\n",
       "      <td>Pokemon Red/Pokemon Blue</td>\n",
       "      <td>GB</td>\n",
       "      <td>1996.0</td>\n",
       "      <td>Role-Playing</td>\n",
       "      <td>11.27</td>\n",
       "      <td>8.89</td>\n",
       "      <td>10.22</td>\n",
       "      <td>1.00</td>\n",
       "      <td>NaN</td>\n",
       "      <td>NaN</td>\n",
       "      <td>NaN</td>\n",
       "    </tr>\n",
       "  </tbody>\n",
       "</table>\n",
       "</div>\n",
       "      <button class=\"colab-df-convert\" onclick=\"convertToInteractive('df-3055448e-e9e6-45fe-9051-fbf33cefa32f')\"\n",
       "              title=\"Convert this dataframe to an interactive table.\"\n",
       "              style=\"display:none;\">\n",
       "        \n",
       "  <svg xmlns=\"http://www.w3.org/2000/svg\" height=\"24px\"viewBox=\"0 0 24 24\"\n",
       "       width=\"24px\">\n",
       "    <path d=\"M0 0h24v24H0V0z\" fill=\"none\"/>\n",
       "    <path d=\"M18.56 5.44l.94 2.06.94-2.06 2.06-.94-2.06-.94-.94-2.06-.94 2.06-2.06.94zm-11 1L8.5 8.5l.94-2.06 2.06-.94-2.06-.94L8.5 2.5l-.94 2.06-2.06.94zm10 10l.94 2.06.94-2.06 2.06-.94-2.06-.94-.94-2.06-.94 2.06-2.06.94z\"/><path d=\"M17.41 7.96l-1.37-1.37c-.4-.4-.92-.59-1.43-.59-.52 0-1.04.2-1.43.59L10.3 9.45l-7.72 7.72c-.78.78-.78 2.05 0 2.83L4 21.41c.39.39.9.59 1.41.59.51 0 1.02-.2 1.41-.59l7.78-7.78 2.81-2.81c.8-.78.8-2.07 0-2.86zM5.41 20L4 18.59l7.72-7.72 1.47 1.35L5.41 20z\"/>\n",
       "  </svg>\n",
       "      </button>\n",
       "      \n",
       "  <style>\n",
       "    .colab-df-container {\n",
       "      display:flex;\n",
       "      flex-wrap:wrap;\n",
       "      gap: 12px;\n",
       "    }\n",
       "\n",
       "    .colab-df-convert {\n",
       "      background-color: #E8F0FE;\n",
       "      border: none;\n",
       "      border-radius: 50%;\n",
       "      cursor: pointer;\n",
       "      display: none;\n",
       "      fill: #1967D2;\n",
       "      height: 32px;\n",
       "      padding: 0 0 0 0;\n",
       "      width: 32px;\n",
       "    }\n",
       "\n",
       "    .colab-df-convert:hover {\n",
       "      background-color: #E2EBFA;\n",
       "      box-shadow: 0px 1px 2px rgba(60, 64, 67, 0.3), 0px 1px 3px 1px rgba(60, 64, 67, 0.15);\n",
       "      fill: #174EA6;\n",
       "    }\n",
       "\n",
       "    [theme=dark] .colab-df-convert {\n",
       "      background-color: #3B4455;\n",
       "      fill: #D2E3FC;\n",
       "    }\n",
       "\n",
       "    [theme=dark] .colab-df-convert:hover {\n",
       "      background-color: #434B5C;\n",
       "      box-shadow: 0px 1px 3px 1px rgba(0, 0, 0, 0.15);\n",
       "      filter: drop-shadow(0px 1px 2px rgba(0, 0, 0, 0.3));\n",
       "      fill: #FFFFFF;\n",
       "    }\n",
       "  </style>\n",
       "\n",
       "      <script>\n",
       "        const buttonEl =\n",
       "          document.querySelector('#df-3055448e-e9e6-45fe-9051-fbf33cefa32f button.colab-df-convert');\n",
       "        buttonEl.style.display =\n",
       "          google.colab.kernel.accessAllowed ? 'block' : 'none';\n",
       "\n",
       "        async function convertToInteractive(key) {\n",
       "          const element = document.querySelector('#df-3055448e-e9e6-45fe-9051-fbf33cefa32f');\n",
       "          const dataTable =\n",
       "            await google.colab.kernel.invokeFunction('convertToInteractive',\n",
       "                                                     [key], {});\n",
       "          if (!dataTable) return;\n",
       "\n",
       "          const docLinkHtml = 'Like what you see? Visit the ' +\n",
       "            '<a target=\"_blank\" href=https://colab.research.google.com/notebooks/data_table.ipynb>data table notebook</a>'\n",
       "            + ' to learn more about interactive tables.';\n",
       "          element.innerHTML = '';\n",
       "          dataTable['output_type'] = 'display_data';\n",
       "          await google.colab.output.renderOutput(dataTable, element);\n",
       "          const docLink = document.createElement('div');\n",
       "          docLink.innerHTML = docLinkHtml;\n",
       "          element.appendChild(docLink);\n",
       "        }\n",
       "      </script>\n",
       "    </div>\n",
       "  </div>\n",
       "  "
      ],
      "text/plain": [
       "                       Name Platform  Year_of_Release         Genre  NA_sales  \\\n",
       "0                Wii Sports      Wii           2006.0        Sports     41.36   \n",
       "1         Super Mario Bros.      NES           1985.0      Platform     29.08   \n",
       "2            Mario Kart Wii      Wii           2008.0        Racing     15.68   \n",
       "3         Wii Sports Resort      Wii           2009.0        Sports     15.61   \n",
       "4  Pokemon Red/Pokemon Blue       GB           1996.0  Role-Playing     11.27   \n",
       "\n",
       "   EU_sales  JP_sales  Other_sales  Critic_Score User_Score Rating  \n",
       "0     28.96      3.77         8.45          76.0          8      E  \n",
       "1      3.58      6.81         0.77           NaN        NaN    NaN  \n",
       "2     12.76      3.79         3.29          82.0        8.3      E  \n",
       "3     10.93      3.28         2.95          80.0          8      E  \n",
       "4      8.89     10.22         1.00           NaN        NaN    NaN  "
      ]
     },
     "execution_count": 152,
     "metadata": {},
     "output_type": "execute_result"
    }
   ],
   "source": [
    "try:\n",
    "  df = pd.read_csv('games.csv')\n",
    "\n",
    "except:\n",
    "  df = pd.read_csv('/content/drive/MyDrive/DS/games.csv')\n",
    "\n",
    "df.head()"
   ]
  },
  {
   "cell_type": "code",
   "execution_count": null,
   "metadata": {
    "colab": {
     "base_uri": "https://localhost:8080/"
    },
    "id": "nqP9mxnC-gNW",
    "outputId": "98bd5ae1-96a5-44a2-82a2-f3756140a5a1"
   },
   "outputs": [
    {
     "name": "stdout",
     "output_type": "stream",
     "text": [
      "<class 'pandas.core.frame.DataFrame'>\n",
      "RangeIndex: 16715 entries, 0 to 16714\n",
      "Data columns (total 11 columns):\n",
      " #   Column           Non-Null Count  Dtype  \n",
      "---  ------           --------------  -----  \n",
      " 0   Name             16713 non-null  object \n",
      " 1   Platform         16715 non-null  object \n",
      " 2   Year_of_Release  16446 non-null  float64\n",
      " 3   Genre            16713 non-null  object \n",
      " 4   NA_sales         16715 non-null  float64\n",
      " 5   EU_sales         16715 non-null  float64\n",
      " 6   JP_sales         16715 non-null  float64\n",
      " 7   Other_sales      16715 non-null  float64\n",
      " 8   Critic_Score     8137 non-null   float64\n",
      " 9   User_Score       10014 non-null  object \n",
      " 10  Rating           9949 non-null   object \n",
      "dtypes: float64(6), object(5)\n",
      "memory usage: 1.4+ MB\n"
     ]
    }
   ],
   "source": [
    "df.info()"
   ]
  },
  {
   "cell_type": "code",
   "execution_count": null,
   "metadata": {
    "id": "0rcQcTgA-gNX"
   },
   "outputs": [],
   "source": [
    "#цикл для переименования на нижний регистр\n",
    "#for i in list(df.columns):\n",
    "#    df = df.rename(columns={i :i.lower() })\n",
    "#df.head()"
   ]
  },
  {
   "cell_type": "code",
   "execution_count": null,
   "metadata": {
    "colab": {
     "base_uri": "https://localhost:8080/",
     "height": 206
    },
    "id": "Xk7MntRc-gNY",
    "outputId": "971a6d83-1db2-45e0-efe8-2e0d5a0c7ddd"
   },
   "outputs": [
    {
     "data": {
      "text/html": [
       "\n",
       "  <div id=\"df-7f81d029-ef2b-4bf5-b4d6-71d0b8ea1d5f\">\n",
       "    <div class=\"colab-df-container\">\n",
       "      <div>\n",
       "<style scoped>\n",
       "    .dataframe tbody tr th:only-of-type {\n",
       "        vertical-align: middle;\n",
       "    }\n",
       "\n",
       "    .dataframe tbody tr th {\n",
       "        vertical-align: top;\n",
       "    }\n",
       "\n",
       "    .dataframe thead th {\n",
       "        text-align: right;\n",
       "    }\n",
       "</style>\n",
       "<table border=\"1\" class=\"dataframe\">\n",
       "  <thead>\n",
       "    <tr style=\"text-align: right;\">\n",
       "      <th></th>\n",
       "      <th>name</th>\n",
       "      <th>platform</th>\n",
       "      <th>year_of_release</th>\n",
       "      <th>genre</th>\n",
       "      <th>na_sales</th>\n",
       "      <th>eu_sales</th>\n",
       "      <th>jp_sales</th>\n",
       "      <th>other_sales</th>\n",
       "      <th>critic_score</th>\n",
       "      <th>user_score</th>\n",
       "      <th>rating</th>\n",
       "    </tr>\n",
       "  </thead>\n",
       "  <tbody>\n",
       "    <tr>\n",
       "      <th>0</th>\n",
       "      <td>Wii Sports</td>\n",
       "      <td>Wii</td>\n",
       "      <td>2006.0</td>\n",
       "      <td>Sports</td>\n",
       "      <td>41.36</td>\n",
       "      <td>28.96</td>\n",
       "      <td>3.77</td>\n",
       "      <td>8.45</td>\n",
       "      <td>76.0</td>\n",
       "      <td>8</td>\n",
       "      <td>E</td>\n",
       "    </tr>\n",
       "    <tr>\n",
       "      <th>1</th>\n",
       "      <td>Super Mario Bros.</td>\n",
       "      <td>NES</td>\n",
       "      <td>1985.0</td>\n",
       "      <td>Platform</td>\n",
       "      <td>29.08</td>\n",
       "      <td>3.58</td>\n",
       "      <td>6.81</td>\n",
       "      <td>0.77</td>\n",
       "      <td>NaN</td>\n",
       "      <td>NaN</td>\n",
       "      <td>NaN</td>\n",
       "    </tr>\n",
       "    <tr>\n",
       "      <th>2</th>\n",
       "      <td>Mario Kart Wii</td>\n",
       "      <td>Wii</td>\n",
       "      <td>2008.0</td>\n",
       "      <td>Racing</td>\n",
       "      <td>15.68</td>\n",
       "      <td>12.76</td>\n",
       "      <td>3.79</td>\n",
       "      <td>3.29</td>\n",
       "      <td>82.0</td>\n",
       "      <td>8.3</td>\n",
       "      <td>E</td>\n",
       "    </tr>\n",
       "    <tr>\n",
       "      <th>3</th>\n",
       "      <td>Wii Sports Resort</td>\n",
       "      <td>Wii</td>\n",
       "      <td>2009.0</td>\n",
       "      <td>Sports</td>\n",
       "      <td>15.61</td>\n",
       "      <td>10.93</td>\n",
       "      <td>3.28</td>\n",
       "      <td>2.95</td>\n",
       "      <td>80.0</td>\n",
       "      <td>8</td>\n",
       "      <td>E</td>\n",
       "    </tr>\n",
       "    <tr>\n",
       "      <th>4</th>\n",
       "      <td>Pokemon Red/Pokemon Blue</td>\n",
       "      <td>GB</td>\n",
       "      <td>1996.0</td>\n",
       "      <td>Role-Playing</td>\n",
       "      <td>11.27</td>\n",
       "      <td>8.89</td>\n",
       "      <td>10.22</td>\n",
       "      <td>1.00</td>\n",
       "      <td>NaN</td>\n",
       "      <td>NaN</td>\n",
       "      <td>NaN</td>\n",
       "    </tr>\n",
       "  </tbody>\n",
       "</table>\n",
       "</div>\n",
       "      <button class=\"colab-df-convert\" onclick=\"convertToInteractive('df-7f81d029-ef2b-4bf5-b4d6-71d0b8ea1d5f')\"\n",
       "              title=\"Convert this dataframe to an interactive table.\"\n",
       "              style=\"display:none;\">\n",
       "        \n",
       "  <svg xmlns=\"http://www.w3.org/2000/svg\" height=\"24px\"viewBox=\"0 0 24 24\"\n",
       "       width=\"24px\">\n",
       "    <path d=\"M0 0h24v24H0V0z\" fill=\"none\"/>\n",
       "    <path d=\"M18.56 5.44l.94 2.06.94-2.06 2.06-.94-2.06-.94-.94-2.06-.94 2.06-2.06.94zm-11 1L8.5 8.5l.94-2.06 2.06-.94-2.06-.94L8.5 2.5l-.94 2.06-2.06.94zm10 10l.94 2.06.94-2.06 2.06-.94-2.06-.94-.94-2.06-.94 2.06-2.06.94z\"/><path d=\"M17.41 7.96l-1.37-1.37c-.4-.4-.92-.59-1.43-.59-.52 0-1.04.2-1.43.59L10.3 9.45l-7.72 7.72c-.78.78-.78 2.05 0 2.83L4 21.41c.39.39.9.59 1.41.59.51 0 1.02-.2 1.41-.59l7.78-7.78 2.81-2.81c.8-.78.8-2.07 0-2.86zM5.41 20L4 18.59l7.72-7.72 1.47 1.35L5.41 20z\"/>\n",
       "  </svg>\n",
       "      </button>\n",
       "      \n",
       "  <style>\n",
       "    .colab-df-container {\n",
       "      display:flex;\n",
       "      flex-wrap:wrap;\n",
       "      gap: 12px;\n",
       "    }\n",
       "\n",
       "    .colab-df-convert {\n",
       "      background-color: #E8F0FE;\n",
       "      border: none;\n",
       "      border-radius: 50%;\n",
       "      cursor: pointer;\n",
       "      display: none;\n",
       "      fill: #1967D2;\n",
       "      height: 32px;\n",
       "      padding: 0 0 0 0;\n",
       "      width: 32px;\n",
       "    }\n",
       "\n",
       "    .colab-df-convert:hover {\n",
       "      background-color: #E2EBFA;\n",
       "      box-shadow: 0px 1px 2px rgba(60, 64, 67, 0.3), 0px 1px 3px 1px rgba(60, 64, 67, 0.15);\n",
       "      fill: #174EA6;\n",
       "    }\n",
       "\n",
       "    [theme=dark] .colab-df-convert {\n",
       "      background-color: #3B4455;\n",
       "      fill: #D2E3FC;\n",
       "    }\n",
       "\n",
       "    [theme=dark] .colab-df-convert:hover {\n",
       "      background-color: #434B5C;\n",
       "      box-shadow: 0px 1px 3px 1px rgba(0, 0, 0, 0.15);\n",
       "      filter: drop-shadow(0px 1px 2px rgba(0, 0, 0, 0.3));\n",
       "      fill: #FFFFFF;\n",
       "    }\n",
       "  </style>\n",
       "\n",
       "      <script>\n",
       "        const buttonEl =\n",
       "          document.querySelector('#df-7f81d029-ef2b-4bf5-b4d6-71d0b8ea1d5f button.colab-df-convert');\n",
       "        buttonEl.style.display =\n",
       "          google.colab.kernel.accessAllowed ? 'block' : 'none';\n",
       "\n",
       "        async function convertToInteractive(key) {\n",
       "          const element = document.querySelector('#df-7f81d029-ef2b-4bf5-b4d6-71d0b8ea1d5f');\n",
       "          const dataTable =\n",
       "            await google.colab.kernel.invokeFunction('convertToInteractive',\n",
       "                                                     [key], {});\n",
       "          if (!dataTable) return;\n",
       "\n",
       "          const docLinkHtml = 'Like what you see? Visit the ' +\n",
       "            '<a target=\"_blank\" href=https://colab.research.google.com/notebooks/data_table.ipynb>data table notebook</a>'\n",
       "            + ' to learn more about interactive tables.';\n",
       "          element.innerHTML = '';\n",
       "          dataTable['output_type'] = 'display_data';\n",
       "          await google.colab.output.renderOutput(dataTable, element);\n",
       "          const docLink = document.createElement('div');\n",
       "          docLink.innerHTML = docLinkHtml;\n",
       "          element.appendChild(docLink);\n",
       "        }\n",
       "      </script>\n",
       "    </div>\n",
       "  </div>\n",
       "  "
      ],
      "text/plain": [
       "                       name platform  year_of_release         genre  na_sales  \\\n",
       "0                Wii Sports      Wii           2006.0        Sports     41.36   \n",
       "1         Super Mario Bros.      NES           1985.0      Platform     29.08   \n",
       "2            Mario Kart Wii      Wii           2008.0        Racing     15.68   \n",
       "3         Wii Sports Resort      Wii           2009.0        Sports     15.61   \n",
       "4  Pokemon Red/Pokemon Blue       GB           1996.0  Role-Playing     11.27   \n",
       "\n",
       "   eu_sales  jp_sales  other_sales  critic_score user_score rating  \n",
       "0     28.96      3.77         8.45          76.0          8      E  \n",
       "1      3.58      6.81         0.77           NaN        NaN    NaN  \n",
       "2     12.76      3.79         3.29          82.0        8.3      E  \n",
       "3     10.93      3.28         2.95          80.0          8      E  \n",
       "4      8.89     10.22         1.00           NaN        NaN    NaN  "
      ]
     },
     "execution_count": 155,
     "metadata": {},
     "output_type": "execute_result"
    }
   ],
   "source": [
    "# но посмотрев в доки все оказалось проще \n",
    "df = df.rename(str.lower, axis='columns')\n",
    "df.head()"
   ]
  },
  {
   "cell_type": "markdown",
   "metadata": {
    "id": "0n0ietvh-gNZ"
   },
   "source": [
    "### 1.2 Изменение типов данных обработка пропусков"
   ]
  },
  {
   "cell_type": "markdown",
   "metadata": {
    "id": "4MFNGyHV-gNZ"
   },
   "source": [
    "**Столбец 'name' .**    \n",
    "Есть 2 пропуска, но это особо не помешает,если есть все остальные параметры есть. "
   ]
  },
  {
   "cell_type": "code",
   "execution_count": null,
   "metadata": {
    "colab": {
     "base_uri": "https://localhost:8080/",
     "height": 112
    },
    "id": "PKLWU_ae-gNZ",
    "outputId": "768a9b7a-6c42-4b38-f288-1604b50e04d3"
   },
   "outputs": [
    {
     "data": {
      "text/html": [
       "\n",
       "  <div id=\"df-6fc07f51-d892-44cc-a475-ee802433d74b\">\n",
       "    <div class=\"colab-df-container\">\n",
       "      <div>\n",
       "<style scoped>\n",
       "    .dataframe tbody tr th:only-of-type {\n",
       "        vertical-align: middle;\n",
       "    }\n",
       "\n",
       "    .dataframe tbody tr th {\n",
       "        vertical-align: top;\n",
       "    }\n",
       "\n",
       "    .dataframe thead th {\n",
       "        text-align: right;\n",
       "    }\n",
       "</style>\n",
       "<table border=\"1\" class=\"dataframe\">\n",
       "  <thead>\n",
       "    <tr style=\"text-align: right;\">\n",
       "      <th></th>\n",
       "      <th>name</th>\n",
       "      <th>platform</th>\n",
       "      <th>year_of_release</th>\n",
       "      <th>genre</th>\n",
       "      <th>na_sales</th>\n",
       "      <th>eu_sales</th>\n",
       "      <th>jp_sales</th>\n",
       "      <th>other_sales</th>\n",
       "      <th>critic_score</th>\n",
       "      <th>user_score</th>\n",
       "      <th>rating</th>\n",
       "    </tr>\n",
       "  </thead>\n",
       "  <tbody>\n",
       "    <tr>\n",
       "      <th>659</th>\n",
       "      <td>NaN</td>\n",
       "      <td>GEN</td>\n",
       "      <td>1993.0</td>\n",
       "      <td>NaN</td>\n",
       "      <td>1.78</td>\n",
       "      <td>0.53</td>\n",
       "      <td>0.00</td>\n",
       "      <td>0.08</td>\n",
       "      <td>NaN</td>\n",
       "      <td>NaN</td>\n",
       "      <td>NaN</td>\n",
       "    </tr>\n",
       "    <tr>\n",
       "      <th>14244</th>\n",
       "      <td>NaN</td>\n",
       "      <td>GEN</td>\n",
       "      <td>1993.0</td>\n",
       "      <td>NaN</td>\n",
       "      <td>0.00</td>\n",
       "      <td>0.00</td>\n",
       "      <td>0.03</td>\n",
       "      <td>0.00</td>\n",
       "      <td>NaN</td>\n",
       "      <td>NaN</td>\n",
       "      <td>NaN</td>\n",
       "    </tr>\n",
       "  </tbody>\n",
       "</table>\n",
       "</div>\n",
       "      <button class=\"colab-df-convert\" onclick=\"convertToInteractive('df-6fc07f51-d892-44cc-a475-ee802433d74b')\"\n",
       "              title=\"Convert this dataframe to an interactive table.\"\n",
       "              style=\"display:none;\">\n",
       "        \n",
       "  <svg xmlns=\"http://www.w3.org/2000/svg\" height=\"24px\"viewBox=\"0 0 24 24\"\n",
       "       width=\"24px\">\n",
       "    <path d=\"M0 0h24v24H0V0z\" fill=\"none\"/>\n",
       "    <path d=\"M18.56 5.44l.94 2.06.94-2.06 2.06-.94-2.06-.94-.94-2.06-.94 2.06-2.06.94zm-11 1L8.5 8.5l.94-2.06 2.06-.94-2.06-.94L8.5 2.5l-.94 2.06-2.06.94zm10 10l.94 2.06.94-2.06 2.06-.94-2.06-.94-.94-2.06-.94 2.06-2.06.94z\"/><path d=\"M17.41 7.96l-1.37-1.37c-.4-.4-.92-.59-1.43-.59-.52 0-1.04.2-1.43.59L10.3 9.45l-7.72 7.72c-.78.78-.78 2.05 0 2.83L4 21.41c.39.39.9.59 1.41.59.51 0 1.02-.2 1.41-.59l7.78-7.78 2.81-2.81c.8-.78.8-2.07 0-2.86zM5.41 20L4 18.59l7.72-7.72 1.47 1.35L5.41 20z\"/>\n",
       "  </svg>\n",
       "      </button>\n",
       "      \n",
       "  <style>\n",
       "    .colab-df-container {\n",
       "      display:flex;\n",
       "      flex-wrap:wrap;\n",
       "      gap: 12px;\n",
       "    }\n",
       "\n",
       "    .colab-df-convert {\n",
       "      background-color: #E8F0FE;\n",
       "      border: none;\n",
       "      border-radius: 50%;\n",
       "      cursor: pointer;\n",
       "      display: none;\n",
       "      fill: #1967D2;\n",
       "      height: 32px;\n",
       "      padding: 0 0 0 0;\n",
       "      width: 32px;\n",
       "    }\n",
       "\n",
       "    .colab-df-convert:hover {\n",
       "      background-color: #E2EBFA;\n",
       "      box-shadow: 0px 1px 2px rgba(60, 64, 67, 0.3), 0px 1px 3px 1px rgba(60, 64, 67, 0.15);\n",
       "      fill: #174EA6;\n",
       "    }\n",
       "\n",
       "    [theme=dark] .colab-df-convert {\n",
       "      background-color: #3B4455;\n",
       "      fill: #D2E3FC;\n",
       "    }\n",
       "\n",
       "    [theme=dark] .colab-df-convert:hover {\n",
       "      background-color: #434B5C;\n",
       "      box-shadow: 0px 1px 3px 1px rgba(0, 0, 0, 0.15);\n",
       "      filter: drop-shadow(0px 1px 2px rgba(0, 0, 0, 0.3));\n",
       "      fill: #FFFFFF;\n",
       "    }\n",
       "  </style>\n",
       "\n",
       "      <script>\n",
       "        const buttonEl =\n",
       "          document.querySelector('#df-6fc07f51-d892-44cc-a475-ee802433d74b button.colab-df-convert');\n",
       "        buttonEl.style.display =\n",
       "          google.colab.kernel.accessAllowed ? 'block' : 'none';\n",
       "\n",
       "        async function convertToInteractive(key) {\n",
       "          const element = document.querySelector('#df-6fc07f51-d892-44cc-a475-ee802433d74b');\n",
       "          const dataTable =\n",
       "            await google.colab.kernel.invokeFunction('convertToInteractive',\n",
       "                                                     [key], {});\n",
       "          if (!dataTable) return;\n",
       "\n",
       "          const docLinkHtml = 'Like what you see? Visit the ' +\n",
       "            '<a target=\"_blank\" href=https://colab.research.google.com/notebooks/data_table.ipynb>data table notebook</a>'\n",
       "            + ' to learn more about interactive tables.';\n",
       "          element.innerHTML = '';\n",
       "          dataTable['output_type'] = 'display_data';\n",
       "          await google.colab.output.renderOutput(dataTable, element);\n",
       "          const docLink = document.createElement('div');\n",
       "          docLink.innerHTML = docLinkHtml;\n",
       "          element.appendChild(docLink);\n",
       "        }\n",
       "      </script>\n",
       "    </div>\n",
       "  </div>\n",
       "  "
      ],
      "text/plain": [
       "      name platform  year_of_release genre  na_sales  eu_sales  jp_sales  \\\n",
       "659    NaN      GEN           1993.0   NaN      1.78      0.53      0.00   \n",
       "14244  NaN      GEN           1993.0   NaN      0.00      0.00      0.03   \n",
       "\n",
       "       other_sales  critic_score user_score rating  \n",
       "659           0.08           NaN        NaN    NaN  \n",
       "14244         0.00           NaN        NaN    NaN  "
      ]
     },
     "execution_count": 156,
     "metadata": {},
     "output_type": "execute_result"
    }
   ],
   "source": [
    "df[df['name'].isna()]"
   ]
  },
  {
   "cell_type": "code",
   "execution_count": null,
   "metadata": {
    "colab": {
     "base_uri": "https://localhost:8080/"
    },
    "id": "7fyT3m_B-gNa",
    "outputId": "0c9d266c-b58b-4708-facb-e24346c50c34"
   },
   "outputs": [
    {
     "name": "stdout",
     "output_type": "stream",
     "text": [
      "<class 'pandas.core.frame.DataFrame'>\n",
      "Int64Index: 16713 entries, 0 to 16714\n",
      "Data columns (total 11 columns):\n",
      " #   Column           Non-Null Count  Dtype  \n",
      "---  ------           --------------  -----  \n",
      " 0   name             16713 non-null  object \n",
      " 1   platform         16713 non-null  object \n",
      " 2   year_of_release  16444 non-null  float64\n",
      " 3   genre            16713 non-null  object \n",
      " 4   na_sales         16713 non-null  float64\n",
      " 5   eu_sales         16713 non-null  float64\n",
      " 6   jp_sales         16713 non-null  float64\n",
      " 7   other_sales      16713 non-null  float64\n",
      " 8   critic_score     8137 non-null   float64\n",
      " 9   user_score       10014 non-null  object \n",
      " 10  rating           9949 non-null   object \n",
      "dtypes: float64(6), object(5)\n",
      "memory usage: 1.5+ MB\n"
     ]
    }
   ],
   "source": [
    "# как видно , данных нет почти, никаких выводов не сделать, лучше отбросить\n",
    "# тут же и пропуск в колноке genre, заодно его подчистим\n",
    "df = df.dropna(subset =['name'])\n",
    "#проверяем что получили\n",
    "df.info()"
   ]
  },
  {
   "cell_type": "markdown",
   "metadata": {
    "id": "BYw_ajxP-gNa"
   },
   "source": [
    "**Столбец  с годом выпуска  'year_of_release'.**    \n",
    "Т к делает прогноз по годам, то эти строки с пропусками будут бесполезны. Нужно отбросить их. Но для начала проверим долю пропусков, если небольшая, то отбрасываем. "
   ]
  },
  {
   "cell_type": "code",
   "execution_count": null,
   "metadata": {
    "colab": {
     "base_uri": "https://localhost:8080/"
    },
    "id": "WxEtSKc6-gNa",
    "outputId": "ddf319b8-343e-49f6-8773-d3352420df53"
   },
   "outputs": [
    {
     "data": {
      "text/plain": [
       "0.016095255190570215"
      ]
     },
     "execution_count": 158,
     "metadata": {},
     "output_type": "execute_result"
    }
   ],
   "source": [
    "#определим долю пропусков\n",
    "len(df[df['year_of_release'].isna()]) / len(df)"
   ]
  },
  {
   "cell_type": "code",
   "execution_count": null,
   "metadata": {
    "colab": {
     "base_uri": "https://localhost:8080/"
    },
    "id": "R9wlTnnZ-gNb",
    "outputId": "4d353d69-2c23-48f2-9d73-b90793573910"
   },
   "outputs": [
    {
     "data": {
      "text/plain": [
       "0"
      ]
     },
     "execution_count": 159,
     "metadata": {},
     "output_type": "execute_result"
    }
   ],
   "source": [
    "# доля с пропусками небольшая, отбрасываем их.\n",
    "df = df.dropna(subset=['year_of_release'])\n",
    "#проверяем\n",
    "len(df[df['year_of_release'].isna()])"
   ]
  },
  {
   "cell_type": "code",
   "execution_count": null,
   "metadata": {
    "colab": {
     "base_uri": "https://localhost:8080/"
    },
    "id": "gNehQsda-gNb",
    "outputId": "10fe5c7b-9ba3-474e-a949-a298e44cc8a3"
   },
   "outputs": [
    {
     "data": {
      "text/plain": [
       "0    2006\n",
       "Name: year_of_release, dtype: int64"
      ]
     },
     "execution_count": 160,
     "metadata": {},
     "output_type": "execute_result"
    }
   ],
   "source": [
    "#заменим тип на int\n",
    "df['year_of_release'] = df['year_of_release'].astype(int)\n",
    "# проверяемм\n",
    "df['year_of_release'].head(1)"
   ]
  },
  {
   "cell_type": "markdown",
   "metadata": {
    "id": "clO8KhhW-gNc"
   },
   "source": [
    "**Колонки 'critic_score'   ,  'user_score' ,    'rating'  .**      \n",
    "Пропусков почти половина, не будем заполнять. Они там не спроста. Есть причины,  допустим ранний год выхода,когда не было еще ретингов или мало продаж игры и рейтинг не получила, т к не с чего).\n",
    "В столбце 'user_score' нужно заменить тип на float."
   ]
  },
  {
   "cell_type": "code",
   "execution_count": null,
   "metadata": {
    "colab": {
     "base_uri": "https://localhost:8080/"
    },
    "id": "LF61QvCj-gNc",
    "outputId": "fe769bd6-2ecb-406a-f05e-688fd3d66af0"
   },
   "outputs": [
    {
     "data": {
      "text/plain": [
       "array(['8', nan, '8.3', '8.5', '6.6', '8.4', '8.6', '7.7', '6.3', '7.4',\n",
       "       '8.2', '9', '7.9', '8.1', '8.7', '7.1', '3.4', '5.3', '4.8', '3.2',\n",
       "       '8.9', '6.4', '7.8', '7.5', '2.6', '7.2', '9.2', '7', '7.3', '4.3',\n",
       "       '7.6', '5.7', '5', '9.1', '6.5', 'tbd', '8.8', '6.9', '9.4', '6.8',\n",
       "       '6.1', '6.7', '5.4', '4', '4.9', '4.5', '9.3', '6.2', '4.2', '6',\n",
       "       '3.7', '4.1', '5.8', '5.6', '5.5', '4.4', '4.6', '5.9', '3.9',\n",
       "       '3.1', '2.9', '5.2', '3.3', '4.7', '5.1', '3.5', '2.5', '1.9', '3',\n",
       "       '2.7', '2.2', '2', '9.5', '2.1', '3.6', '2.8', '1.8', '3.8', '0',\n",
       "       '1.6', '9.6', '2.4', '1.7', '1.1', '0.3', '1.5', '0.7', '1.2',\n",
       "       '2.3', '0.5', '1.3', '0.2', '0.6', '1.4', '0.9', '1', '9.7'],\n",
       "      dtype=object)"
      ]
     },
     "execution_count": 161,
     "metadata": {},
     "output_type": "execute_result"
    }
   ],
   "source": [
    "#проверим\n",
    "df['user_score'].unique()\n"
   ]
  },
  {
   "cell_type": "code",
   "execution_count": null,
   "metadata": {
    "colab": {
     "base_uri": "https://localhost:8080/",
     "height": 423
    },
    "id": "K3BA0MWF-gNc",
    "outputId": "8a34f935-3d5a-4f61-bfaa-d867d6950e31"
   },
   "outputs": [
    {
     "data": {
      "text/html": [
       "\n",
       "  <div id=\"df-18df0325-f2d2-4a4e-ae00-4c94c4cfc4a0\">\n",
       "    <div class=\"colab-df-container\">\n",
       "      <div>\n",
       "<style scoped>\n",
       "    .dataframe tbody tr th:only-of-type {\n",
       "        vertical-align: middle;\n",
       "    }\n",
       "\n",
       "    .dataframe tbody tr th {\n",
       "        vertical-align: top;\n",
       "    }\n",
       "\n",
       "    .dataframe thead th {\n",
       "        text-align: right;\n",
       "    }\n",
       "</style>\n",
       "<table border=\"1\" class=\"dataframe\">\n",
       "  <thead>\n",
       "    <tr style=\"text-align: right;\">\n",
       "      <th></th>\n",
       "      <th>name</th>\n",
       "      <th>platform</th>\n",
       "      <th>year_of_release</th>\n",
       "      <th>genre</th>\n",
       "      <th>na_sales</th>\n",
       "      <th>eu_sales</th>\n",
       "      <th>jp_sales</th>\n",
       "      <th>other_sales</th>\n",
       "      <th>critic_score</th>\n",
       "      <th>user_score</th>\n",
       "      <th>rating</th>\n",
       "    </tr>\n",
       "  </thead>\n",
       "  <tbody>\n",
       "    <tr>\n",
       "      <th>119</th>\n",
       "      <td>Zumba Fitness</td>\n",
       "      <td>Wii</td>\n",
       "      <td>2010</td>\n",
       "      <td>Sports</td>\n",
       "      <td>3.45</td>\n",
       "      <td>2.59</td>\n",
       "      <td>0.0</td>\n",
       "      <td>0.66</td>\n",
       "      <td>NaN</td>\n",
       "      <td>tbd</td>\n",
       "      <td>E</td>\n",
       "    </tr>\n",
       "    <tr>\n",
       "      <th>301</th>\n",
       "      <td>Namco Museum: 50th Anniversary</td>\n",
       "      <td>PS2</td>\n",
       "      <td>2005</td>\n",
       "      <td>Misc</td>\n",
       "      <td>2.08</td>\n",
       "      <td>1.35</td>\n",
       "      <td>0.0</td>\n",
       "      <td>0.54</td>\n",
       "      <td>61.0</td>\n",
       "      <td>tbd</td>\n",
       "      <td>E10+</td>\n",
       "    </tr>\n",
       "    <tr>\n",
       "      <th>520</th>\n",
       "      <td>Zumba Fitness 2</td>\n",
       "      <td>Wii</td>\n",
       "      <td>2011</td>\n",
       "      <td>Sports</td>\n",
       "      <td>1.51</td>\n",
       "      <td>1.03</td>\n",
       "      <td>0.0</td>\n",
       "      <td>0.27</td>\n",
       "      <td>NaN</td>\n",
       "      <td>tbd</td>\n",
       "      <td>T</td>\n",
       "    </tr>\n",
       "    <tr>\n",
       "      <th>645</th>\n",
       "      <td>uDraw Studio</td>\n",
       "      <td>Wii</td>\n",
       "      <td>2010</td>\n",
       "      <td>Misc</td>\n",
       "      <td>1.65</td>\n",
       "      <td>0.57</td>\n",
       "      <td>0.0</td>\n",
       "      <td>0.20</td>\n",
       "      <td>71.0</td>\n",
       "      <td>tbd</td>\n",
       "      <td>E</td>\n",
       "    </tr>\n",
       "    <tr>\n",
       "      <th>718</th>\n",
       "      <td>Just Dance Kids</td>\n",
       "      <td>Wii</td>\n",
       "      <td>2010</td>\n",
       "      <td>Misc</td>\n",
       "      <td>1.52</td>\n",
       "      <td>0.54</td>\n",
       "      <td>0.0</td>\n",
       "      <td>0.18</td>\n",
       "      <td>NaN</td>\n",
       "      <td>tbd</td>\n",
       "      <td>E</td>\n",
       "    </tr>\n",
       "    <tr>\n",
       "      <th>...</th>\n",
       "      <td>...</td>\n",
       "      <td>...</td>\n",
       "      <td>...</td>\n",
       "      <td>...</td>\n",
       "      <td>...</td>\n",
       "      <td>...</td>\n",
       "      <td>...</td>\n",
       "      <td>...</td>\n",
       "      <td>...</td>\n",
       "      <td>...</td>\n",
       "      <td>...</td>\n",
       "    </tr>\n",
       "    <tr>\n",
       "      <th>16695</th>\n",
       "      <td>Planet Monsters</td>\n",
       "      <td>GBA</td>\n",
       "      <td>2001</td>\n",
       "      <td>Action</td>\n",
       "      <td>0.01</td>\n",
       "      <td>0.00</td>\n",
       "      <td>0.0</td>\n",
       "      <td>0.00</td>\n",
       "      <td>67.0</td>\n",
       "      <td>tbd</td>\n",
       "      <td>E</td>\n",
       "    </tr>\n",
       "    <tr>\n",
       "      <th>16697</th>\n",
       "      <td>Bust-A-Move 3000</td>\n",
       "      <td>GC</td>\n",
       "      <td>2003</td>\n",
       "      <td>Puzzle</td>\n",
       "      <td>0.01</td>\n",
       "      <td>0.00</td>\n",
       "      <td>0.0</td>\n",
       "      <td>0.00</td>\n",
       "      <td>53.0</td>\n",
       "      <td>tbd</td>\n",
       "      <td>E</td>\n",
       "    </tr>\n",
       "    <tr>\n",
       "      <th>16698</th>\n",
       "      <td>Mega Brain Boost</td>\n",
       "      <td>DS</td>\n",
       "      <td>2008</td>\n",
       "      <td>Puzzle</td>\n",
       "      <td>0.01</td>\n",
       "      <td>0.00</td>\n",
       "      <td>0.0</td>\n",
       "      <td>0.00</td>\n",
       "      <td>48.0</td>\n",
       "      <td>tbd</td>\n",
       "      <td>E</td>\n",
       "    </tr>\n",
       "    <tr>\n",
       "      <th>16704</th>\n",
       "      <td>Plushees</td>\n",
       "      <td>DS</td>\n",
       "      <td>2008</td>\n",
       "      <td>Simulation</td>\n",
       "      <td>0.01</td>\n",
       "      <td>0.00</td>\n",
       "      <td>0.0</td>\n",
       "      <td>0.00</td>\n",
       "      <td>NaN</td>\n",
       "      <td>tbd</td>\n",
       "      <td>E</td>\n",
       "    </tr>\n",
       "    <tr>\n",
       "      <th>16706</th>\n",
       "      <td>Men in Black II: Alien Escape</td>\n",
       "      <td>GC</td>\n",
       "      <td>2003</td>\n",
       "      <td>Shooter</td>\n",
       "      <td>0.01</td>\n",
       "      <td>0.00</td>\n",
       "      <td>0.0</td>\n",
       "      <td>0.00</td>\n",
       "      <td>NaN</td>\n",
       "      <td>tbd</td>\n",
       "      <td>T</td>\n",
       "    </tr>\n",
       "  </tbody>\n",
       "</table>\n",
       "<p>2376 rows × 11 columns</p>\n",
       "</div>\n",
       "      <button class=\"colab-df-convert\" onclick=\"convertToInteractive('df-18df0325-f2d2-4a4e-ae00-4c94c4cfc4a0')\"\n",
       "              title=\"Convert this dataframe to an interactive table.\"\n",
       "              style=\"display:none;\">\n",
       "        \n",
       "  <svg xmlns=\"http://www.w3.org/2000/svg\" height=\"24px\"viewBox=\"0 0 24 24\"\n",
       "       width=\"24px\">\n",
       "    <path d=\"M0 0h24v24H0V0z\" fill=\"none\"/>\n",
       "    <path d=\"M18.56 5.44l.94 2.06.94-2.06 2.06-.94-2.06-.94-.94-2.06-.94 2.06-2.06.94zm-11 1L8.5 8.5l.94-2.06 2.06-.94-2.06-.94L8.5 2.5l-.94 2.06-2.06.94zm10 10l.94 2.06.94-2.06 2.06-.94-2.06-.94-.94-2.06-.94 2.06-2.06.94z\"/><path d=\"M17.41 7.96l-1.37-1.37c-.4-.4-.92-.59-1.43-.59-.52 0-1.04.2-1.43.59L10.3 9.45l-7.72 7.72c-.78.78-.78 2.05 0 2.83L4 21.41c.39.39.9.59 1.41.59.51 0 1.02-.2 1.41-.59l7.78-7.78 2.81-2.81c.8-.78.8-2.07 0-2.86zM5.41 20L4 18.59l7.72-7.72 1.47 1.35L5.41 20z\"/>\n",
       "  </svg>\n",
       "      </button>\n",
       "      \n",
       "  <style>\n",
       "    .colab-df-container {\n",
       "      display:flex;\n",
       "      flex-wrap:wrap;\n",
       "      gap: 12px;\n",
       "    }\n",
       "\n",
       "    .colab-df-convert {\n",
       "      background-color: #E8F0FE;\n",
       "      border: none;\n",
       "      border-radius: 50%;\n",
       "      cursor: pointer;\n",
       "      display: none;\n",
       "      fill: #1967D2;\n",
       "      height: 32px;\n",
       "      padding: 0 0 0 0;\n",
       "      width: 32px;\n",
       "    }\n",
       "\n",
       "    .colab-df-convert:hover {\n",
       "      background-color: #E2EBFA;\n",
       "      box-shadow: 0px 1px 2px rgba(60, 64, 67, 0.3), 0px 1px 3px 1px rgba(60, 64, 67, 0.15);\n",
       "      fill: #174EA6;\n",
       "    }\n",
       "\n",
       "    [theme=dark] .colab-df-convert {\n",
       "      background-color: #3B4455;\n",
       "      fill: #D2E3FC;\n",
       "    }\n",
       "\n",
       "    [theme=dark] .colab-df-convert:hover {\n",
       "      background-color: #434B5C;\n",
       "      box-shadow: 0px 1px 3px 1px rgba(0, 0, 0, 0.15);\n",
       "      filter: drop-shadow(0px 1px 2px rgba(0, 0, 0, 0.3));\n",
       "      fill: #FFFFFF;\n",
       "    }\n",
       "  </style>\n",
       "\n",
       "      <script>\n",
       "        const buttonEl =\n",
       "          document.querySelector('#df-18df0325-f2d2-4a4e-ae00-4c94c4cfc4a0 button.colab-df-convert');\n",
       "        buttonEl.style.display =\n",
       "          google.colab.kernel.accessAllowed ? 'block' : 'none';\n",
       "\n",
       "        async function convertToInteractive(key) {\n",
       "          const element = document.querySelector('#df-18df0325-f2d2-4a4e-ae00-4c94c4cfc4a0');\n",
       "          const dataTable =\n",
       "            await google.colab.kernel.invokeFunction('convertToInteractive',\n",
       "                                                     [key], {});\n",
       "          if (!dataTable) return;\n",
       "\n",
       "          const docLinkHtml = 'Like what you see? Visit the ' +\n",
       "            '<a target=\"_blank\" href=https://colab.research.google.com/notebooks/data_table.ipynb>data table notebook</a>'\n",
       "            + ' to learn more about interactive tables.';\n",
       "          element.innerHTML = '';\n",
       "          dataTable['output_type'] = 'display_data';\n",
       "          await google.colab.output.renderOutput(dataTable, element);\n",
       "          const docLink = document.createElement('div');\n",
       "          docLink.innerHTML = docLinkHtml;\n",
       "          element.appendChild(docLink);\n",
       "        }\n",
       "      </script>\n",
       "    </div>\n",
       "  </div>\n",
       "  "
      ],
      "text/plain": [
       "                                 name platform  year_of_release       genre  \\\n",
       "119                     Zumba Fitness      Wii             2010      Sports   \n",
       "301    Namco Museum: 50th Anniversary      PS2             2005        Misc   \n",
       "520                   Zumba Fitness 2      Wii             2011      Sports   \n",
       "645                      uDraw Studio      Wii             2010        Misc   \n",
       "718                   Just Dance Kids      Wii             2010        Misc   \n",
       "...                               ...      ...              ...         ...   \n",
       "16695                 Planet Monsters      GBA             2001      Action   \n",
       "16697                Bust-A-Move 3000       GC             2003      Puzzle   \n",
       "16698                Mega Brain Boost       DS             2008      Puzzle   \n",
       "16704                        Plushees       DS             2008  Simulation   \n",
       "16706   Men in Black II: Alien Escape       GC             2003     Shooter   \n",
       "\n",
       "       na_sales  eu_sales  jp_sales  other_sales  critic_score user_score  \\\n",
       "119        3.45      2.59       0.0         0.66           NaN        tbd   \n",
       "301        2.08      1.35       0.0         0.54          61.0        tbd   \n",
       "520        1.51      1.03       0.0         0.27           NaN        tbd   \n",
       "645        1.65      0.57       0.0         0.20          71.0        tbd   \n",
       "718        1.52      0.54       0.0         0.18           NaN        tbd   \n",
       "...         ...       ...       ...          ...           ...        ...   \n",
       "16695      0.01      0.00       0.0         0.00          67.0        tbd   \n",
       "16697      0.01      0.00       0.0         0.00          53.0        tbd   \n",
       "16698      0.01      0.00       0.0         0.00          48.0        tbd   \n",
       "16704      0.01      0.00       0.0         0.00           NaN        tbd   \n",
       "16706      0.01      0.00       0.0         0.00           NaN        tbd   \n",
       "\n",
       "      rating  \n",
       "119        E  \n",
       "301     E10+  \n",
       "520        T  \n",
       "645        E  \n",
       "718        E  \n",
       "...      ...  \n",
       "16695      E  \n",
       "16697      E  \n",
       "16698      E  \n",
       "16704      E  \n",
       "16706      T  \n",
       "\n",
       "[2376 rows x 11 columns]"
      ]
     },
     "execution_count": 162,
     "metadata": {},
     "output_type": "execute_result"
    }
   ],
   "source": [
    "#посмотрим,что это за tbd\n",
    "df.query('user_score == \"tbd\" ')"
   ]
  },
  {
   "cell_type": "markdown",
   "metadata": {
    "id": "52MvpnbE-gNc"
   },
   "source": [
    "Никакой взаимосвязи не видно, а яндекс сообщает,ч то это расшифровывается как \"подлежит определению\"     \n",
    "По сути это как NaN, данный рейтинг не известен на данный момент нам.   \n",
    "Чтобы перевести в float NaN и tbd заменим -1"
   ]
  },
  {
   "cell_type": "code",
   "execution_count": null,
   "metadata": {
    "colab": {
     "base_uri": "https://localhost:8080/"
    },
    "id": "-sfTRrv3-gNd",
    "outputId": "7c37af14-284a-4404-c789-e6eb2758f7eb"
   },
   "outputs": [
    {
     "data": {
      "text/plain": [
       "array(['8', '-1', '8.3', '8.5', '6.6', '8.4', '8.6', '7.7', '6.3', '7.4',\n",
       "       '8.2', '9', '7.9', '8.1', '8.7', '7.1', '3.4', '5.3', '4.8', '3.2',\n",
       "       '8.9', '6.4', '7.8', '7.5', '2.6', '7.2', '9.2', '7', '7.3', '4.3',\n",
       "       '7.6', '5.7', '5', '9.1', '6.5', '8.8', '6.9', '9.4', '6.8', '6.1',\n",
       "       '6.7', '5.4', '4', '4.9', '4.5', '9.3', '6.2', '4.2', '6', '3.7',\n",
       "       '4.1', '5.8', '5.6', '5.5', '4.4', '4.6', '5.9', '3.9', '3.1',\n",
       "       '2.9', '5.2', '3.3', '4.7', '5.1', '3.5', '2.5', '1.9', '3', '2.7',\n",
       "       '2.2', '2', '9.5', '2.1', '3.6', '2.8', '1.8', '3.8', '0', '1.6',\n",
       "       '9.6', '2.4', '1.7', '1.1', '0.3', '1.5', '0.7', '1.2', '2.3',\n",
       "       '0.5', '1.3', '0.2', '0.6', '1.4', '0.9', '1', '9.7'], dtype=object)"
      ]
     },
     "execution_count": 163,
     "metadata": {},
     "output_type": "execute_result"
    }
   ],
   "source": [
    "#замена NaN\n",
    "df['user_score'] = df['user_score'].fillna('-1')  \n",
    "# замена tbd\n",
    "df.loc[df['user_score'] == 'tbd', 'user_score'] = '-1'  \n",
    "#проверка\n",
    "df['user_score'].unique()"
   ]
  },
  {
   "cell_type": "code",
   "execution_count": null,
   "metadata": {
    "id": "rXOCVJWI-gNd"
   },
   "outputs": [],
   "source": [
    "#перевод в численный тип\n",
    "df['user_score'] = df['user_score'].astype(float)"
   ]
  },
  {
   "cell_type": "code",
   "execution_count": null,
   "metadata": {
    "colab": {
     "base_uri": "https://localhost:8080/"
    },
    "id": "ioRlWlQX-gNd",
    "outputId": "455d968d-a272-4295-ec55-075c7bcdb854"
   },
   "outputs": [
    {
     "data": {
      "text/plain": [
       "array([8. , nan, 8.3, 8.5, 6.6, 8.4, 8.6, 7.7, 6.3, 7.4, 8.2, 9. , 7.9,\n",
       "       8.1, 8.7, 7.1, 3.4, 5.3, 4.8, 3.2, 8.9, 6.4, 7.8, 7.5, 2.6, 7.2,\n",
       "       9.2, 7. , 7.3, 4.3, 7.6, 5.7, 5. , 9.1, 6.5, 8.8, 6.9, 9.4, 6.8,\n",
       "       6.1, 6.7, 5.4, 4. , 4.9, 4.5, 9.3, 6.2, 4.2, 6. , 3.7, 4.1, 5.8,\n",
       "       5.6, 5.5, 4.4, 4.6, 5.9, 3.9, 3.1, 2.9, 5.2, 3.3, 4.7, 5.1, 3.5,\n",
       "       2.5, 1.9, 3. , 2.7, 2.2, 2. , 9.5, 2.1, 3.6, 2.8, 1.8, 3.8, 0. ,\n",
       "       1.6, 9.6, 2.4, 1.7, 1.1, 0.3, 1.5, 0.7, 1.2, 2.3, 0.5, 1.3, 0.2,\n",
       "       0.6, 1.4, 0.9, 1. , 9.7])"
      ]
     },
     "execution_count": 165,
     "metadata": {},
     "output_type": "execute_result"
    }
   ],
   "source": [
    "#тут обратно превращаем -1(NaN и tbd )в NaN ,чтобы проверить, влияет ли это на подсчет корреляции дальше\n",
    "# в результате эксперемента выяснилсоь ,что влияет, -1 заменил правльным NaN из nympy,чтобы стобец был флоат\n",
    "df.loc[df['user_score'] == -1, 'user_score'] = np.NaN \n",
    "df['user_score'].unique()\n",
    "#df.info()"
   ]
  },
  {
   "cell_type": "markdown",
   "metadata": {
    "id": "xvcL6mtB-gNd"
   },
   "source": [
    "### 1.3 Суммарные продажи"
   ]
  },
  {
   "cell_type": "code",
   "execution_count": null,
   "metadata": {
    "colab": {
     "base_uri": "https://localhost:8080/"
    },
    "id": "pLXLbLh--gNe",
    "outputId": "7bc9e0f8-8368-4999-c92a-2e2ca76ac8ca"
   },
   "outputs": [
    {
     "name": "stdout",
     "output_type": "stream",
     "text": [
      "<class 'pandas.core.frame.DataFrame'>\n",
      "Int64Index: 16444 entries, 0 to 16714\n",
      "Data columns (total 12 columns):\n",
      " #   Column           Non-Null Count  Dtype  \n",
      "---  ------           --------------  -----  \n",
      " 0   name             16444 non-null  object \n",
      " 1   platform         16444 non-null  object \n",
      " 2   year_of_release  16444 non-null  int64  \n",
      " 3   genre            16444 non-null  object \n",
      " 4   na_sales         16444 non-null  float64\n",
      " 5   eu_sales         16444 non-null  float64\n",
      " 6   jp_sales         16444 non-null  float64\n",
      " 7   other_sales      16444 non-null  float64\n",
      " 8   critic_score     7983 non-null   float64\n",
      " 9   user_score       7463 non-null   float64\n",
      " 10  rating           9768 non-null   object \n",
      " 11  total_sales      16444 non-null  float64\n",
      "dtypes: float64(7), int64(1), object(4)\n",
      "memory usage: 1.6+ MB\n"
     ]
    },
    {
     "data": {
      "text/html": [
       "\n",
       "  <div id=\"df-6912b445-04c9-4c7a-8ecd-8c0ae481fb58\">\n",
       "    <div class=\"colab-df-container\">\n",
       "      <div>\n",
       "<style scoped>\n",
       "    .dataframe tbody tr th:only-of-type {\n",
       "        vertical-align: middle;\n",
       "    }\n",
       "\n",
       "    .dataframe tbody tr th {\n",
       "        vertical-align: top;\n",
       "    }\n",
       "\n",
       "    .dataframe thead th {\n",
       "        text-align: right;\n",
       "    }\n",
       "</style>\n",
       "<table border=\"1\" class=\"dataframe\">\n",
       "  <thead>\n",
       "    <tr style=\"text-align: right;\">\n",
       "      <th></th>\n",
       "      <th>name</th>\n",
       "      <th>platform</th>\n",
       "      <th>year_of_release</th>\n",
       "      <th>genre</th>\n",
       "      <th>na_sales</th>\n",
       "      <th>eu_sales</th>\n",
       "      <th>jp_sales</th>\n",
       "      <th>other_sales</th>\n",
       "      <th>critic_score</th>\n",
       "      <th>user_score</th>\n",
       "      <th>rating</th>\n",
       "      <th>total_sales</th>\n",
       "    </tr>\n",
       "  </thead>\n",
       "  <tbody>\n",
       "    <tr>\n",
       "      <th>0</th>\n",
       "      <td>Wii Sports</td>\n",
       "      <td>Wii</td>\n",
       "      <td>2006</td>\n",
       "      <td>Sports</td>\n",
       "      <td>41.36</td>\n",
       "      <td>28.96</td>\n",
       "      <td>3.77</td>\n",
       "      <td>8.45</td>\n",
       "      <td>76.0</td>\n",
       "      <td>8.0</td>\n",
       "      <td>E</td>\n",
       "      <td>82.54</td>\n",
       "    </tr>\n",
       "    <tr>\n",
       "      <th>1</th>\n",
       "      <td>Super Mario Bros.</td>\n",
       "      <td>NES</td>\n",
       "      <td>1985</td>\n",
       "      <td>Platform</td>\n",
       "      <td>29.08</td>\n",
       "      <td>3.58</td>\n",
       "      <td>6.81</td>\n",
       "      <td>0.77</td>\n",
       "      <td>NaN</td>\n",
       "      <td>NaN</td>\n",
       "      <td>NaN</td>\n",
       "      <td>40.24</td>\n",
       "    </tr>\n",
       "    <tr>\n",
       "      <th>2</th>\n",
       "      <td>Mario Kart Wii</td>\n",
       "      <td>Wii</td>\n",
       "      <td>2008</td>\n",
       "      <td>Racing</td>\n",
       "      <td>15.68</td>\n",
       "      <td>12.76</td>\n",
       "      <td>3.79</td>\n",
       "      <td>3.29</td>\n",
       "      <td>82.0</td>\n",
       "      <td>8.3</td>\n",
       "      <td>E</td>\n",
       "      <td>35.52</td>\n",
       "    </tr>\n",
       "    <tr>\n",
       "      <th>3</th>\n",
       "      <td>Wii Sports Resort</td>\n",
       "      <td>Wii</td>\n",
       "      <td>2009</td>\n",
       "      <td>Sports</td>\n",
       "      <td>15.61</td>\n",
       "      <td>10.93</td>\n",
       "      <td>3.28</td>\n",
       "      <td>2.95</td>\n",
       "      <td>80.0</td>\n",
       "      <td>8.0</td>\n",
       "      <td>E</td>\n",
       "      <td>32.77</td>\n",
       "    </tr>\n",
       "    <tr>\n",
       "      <th>4</th>\n",
       "      <td>Pokemon Red/Pokemon Blue</td>\n",
       "      <td>GB</td>\n",
       "      <td>1996</td>\n",
       "      <td>Role-Playing</td>\n",
       "      <td>11.27</td>\n",
       "      <td>8.89</td>\n",
       "      <td>10.22</td>\n",
       "      <td>1.00</td>\n",
       "      <td>NaN</td>\n",
       "      <td>NaN</td>\n",
       "      <td>NaN</td>\n",
       "      <td>31.38</td>\n",
       "    </tr>\n",
       "    <tr>\n",
       "      <th>5</th>\n",
       "      <td>Tetris</td>\n",
       "      <td>GB</td>\n",
       "      <td>1989</td>\n",
       "      <td>Puzzle</td>\n",
       "      <td>23.20</td>\n",
       "      <td>2.26</td>\n",
       "      <td>4.22</td>\n",
       "      <td>0.58</td>\n",
       "      <td>NaN</td>\n",
       "      <td>NaN</td>\n",
       "      <td>NaN</td>\n",
       "      <td>30.26</td>\n",
       "    </tr>\n",
       "    <tr>\n",
       "      <th>6</th>\n",
       "      <td>New Super Mario Bros.</td>\n",
       "      <td>DS</td>\n",
       "      <td>2006</td>\n",
       "      <td>Platform</td>\n",
       "      <td>11.28</td>\n",
       "      <td>9.14</td>\n",
       "      <td>6.50</td>\n",
       "      <td>2.88</td>\n",
       "      <td>89.0</td>\n",
       "      <td>8.5</td>\n",
       "      <td>E</td>\n",
       "      <td>29.80</td>\n",
       "    </tr>\n",
       "    <tr>\n",
       "      <th>7</th>\n",
       "      <td>Wii Play</td>\n",
       "      <td>Wii</td>\n",
       "      <td>2006</td>\n",
       "      <td>Misc</td>\n",
       "      <td>13.96</td>\n",
       "      <td>9.18</td>\n",
       "      <td>2.93</td>\n",
       "      <td>2.84</td>\n",
       "      <td>58.0</td>\n",
       "      <td>6.6</td>\n",
       "      <td>E</td>\n",
       "      <td>28.91</td>\n",
       "    </tr>\n",
       "    <tr>\n",
       "      <th>8</th>\n",
       "      <td>New Super Mario Bros. Wii</td>\n",
       "      <td>Wii</td>\n",
       "      <td>2009</td>\n",
       "      <td>Platform</td>\n",
       "      <td>14.44</td>\n",
       "      <td>6.94</td>\n",
       "      <td>4.70</td>\n",
       "      <td>2.24</td>\n",
       "      <td>87.0</td>\n",
       "      <td>8.4</td>\n",
       "      <td>E</td>\n",
       "      <td>28.32</td>\n",
       "    </tr>\n",
       "    <tr>\n",
       "      <th>9</th>\n",
       "      <td>Duck Hunt</td>\n",
       "      <td>NES</td>\n",
       "      <td>1984</td>\n",
       "      <td>Shooter</td>\n",
       "      <td>26.93</td>\n",
       "      <td>0.63</td>\n",
       "      <td>0.28</td>\n",
       "      <td>0.47</td>\n",
       "      <td>NaN</td>\n",
       "      <td>NaN</td>\n",
       "      <td>NaN</td>\n",
       "      <td>28.31</td>\n",
       "    </tr>\n",
       "  </tbody>\n",
       "</table>\n",
       "</div>\n",
       "      <button class=\"colab-df-convert\" onclick=\"convertToInteractive('df-6912b445-04c9-4c7a-8ecd-8c0ae481fb58')\"\n",
       "              title=\"Convert this dataframe to an interactive table.\"\n",
       "              style=\"display:none;\">\n",
       "        \n",
       "  <svg xmlns=\"http://www.w3.org/2000/svg\" height=\"24px\"viewBox=\"0 0 24 24\"\n",
       "       width=\"24px\">\n",
       "    <path d=\"M0 0h24v24H0V0z\" fill=\"none\"/>\n",
       "    <path d=\"M18.56 5.44l.94 2.06.94-2.06 2.06-.94-2.06-.94-.94-2.06-.94 2.06-2.06.94zm-11 1L8.5 8.5l.94-2.06 2.06-.94-2.06-.94L8.5 2.5l-.94 2.06-2.06.94zm10 10l.94 2.06.94-2.06 2.06-.94-2.06-.94-.94-2.06-.94 2.06-2.06.94z\"/><path d=\"M17.41 7.96l-1.37-1.37c-.4-.4-.92-.59-1.43-.59-.52 0-1.04.2-1.43.59L10.3 9.45l-7.72 7.72c-.78.78-.78 2.05 0 2.83L4 21.41c.39.39.9.59 1.41.59.51 0 1.02-.2 1.41-.59l7.78-7.78 2.81-2.81c.8-.78.8-2.07 0-2.86zM5.41 20L4 18.59l7.72-7.72 1.47 1.35L5.41 20z\"/>\n",
       "  </svg>\n",
       "      </button>\n",
       "      \n",
       "  <style>\n",
       "    .colab-df-container {\n",
       "      display:flex;\n",
       "      flex-wrap:wrap;\n",
       "      gap: 12px;\n",
       "    }\n",
       "\n",
       "    .colab-df-convert {\n",
       "      background-color: #E8F0FE;\n",
       "      border: none;\n",
       "      border-radius: 50%;\n",
       "      cursor: pointer;\n",
       "      display: none;\n",
       "      fill: #1967D2;\n",
       "      height: 32px;\n",
       "      padding: 0 0 0 0;\n",
       "      width: 32px;\n",
       "    }\n",
       "\n",
       "    .colab-df-convert:hover {\n",
       "      background-color: #E2EBFA;\n",
       "      box-shadow: 0px 1px 2px rgba(60, 64, 67, 0.3), 0px 1px 3px 1px rgba(60, 64, 67, 0.15);\n",
       "      fill: #174EA6;\n",
       "    }\n",
       "\n",
       "    [theme=dark] .colab-df-convert {\n",
       "      background-color: #3B4455;\n",
       "      fill: #D2E3FC;\n",
       "    }\n",
       "\n",
       "    [theme=dark] .colab-df-convert:hover {\n",
       "      background-color: #434B5C;\n",
       "      box-shadow: 0px 1px 3px 1px rgba(0, 0, 0, 0.15);\n",
       "      filter: drop-shadow(0px 1px 2px rgba(0, 0, 0, 0.3));\n",
       "      fill: #FFFFFF;\n",
       "    }\n",
       "  </style>\n",
       "\n",
       "      <script>\n",
       "        const buttonEl =\n",
       "          document.querySelector('#df-6912b445-04c9-4c7a-8ecd-8c0ae481fb58 button.colab-df-convert');\n",
       "        buttonEl.style.display =\n",
       "          google.colab.kernel.accessAllowed ? 'block' : 'none';\n",
       "\n",
       "        async function convertToInteractive(key) {\n",
       "          const element = document.querySelector('#df-6912b445-04c9-4c7a-8ecd-8c0ae481fb58');\n",
       "          const dataTable =\n",
       "            await google.colab.kernel.invokeFunction('convertToInteractive',\n",
       "                                                     [key], {});\n",
       "          if (!dataTable) return;\n",
       "\n",
       "          const docLinkHtml = 'Like what you see? Visit the ' +\n",
       "            '<a target=\"_blank\" href=https://colab.research.google.com/notebooks/data_table.ipynb>data table notebook</a>'\n",
       "            + ' to learn more about interactive tables.';\n",
       "          element.innerHTML = '';\n",
       "          dataTable['output_type'] = 'display_data';\n",
       "          await google.colab.output.renderOutput(dataTable, element);\n",
       "          const docLink = document.createElement('div');\n",
       "          docLink.innerHTML = docLinkHtml;\n",
       "          element.appendChild(docLink);\n",
       "        }\n",
       "      </script>\n",
       "    </div>\n",
       "  </div>\n",
       "  "
      ],
      "text/plain": [
       "                        name platform  year_of_release         genre  \\\n",
       "0                 Wii Sports      Wii             2006        Sports   \n",
       "1          Super Mario Bros.      NES             1985      Platform   \n",
       "2             Mario Kart Wii      Wii             2008        Racing   \n",
       "3          Wii Sports Resort      Wii             2009        Sports   \n",
       "4   Pokemon Red/Pokemon Blue       GB             1996  Role-Playing   \n",
       "5                     Tetris       GB             1989        Puzzle   \n",
       "6      New Super Mario Bros.       DS             2006      Platform   \n",
       "7                   Wii Play      Wii             2006          Misc   \n",
       "8  New Super Mario Bros. Wii      Wii             2009      Platform   \n",
       "9                  Duck Hunt      NES             1984       Shooter   \n",
       "\n",
       "   na_sales  eu_sales  jp_sales  other_sales  critic_score  user_score rating  \\\n",
       "0     41.36     28.96      3.77         8.45          76.0         8.0      E   \n",
       "1     29.08      3.58      6.81         0.77           NaN         NaN    NaN   \n",
       "2     15.68     12.76      3.79         3.29          82.0         8.3      E   \n",
       "3     15.61     10.93      3.28         2.95          80.0         8.0      E   \n",
       "4     11.27      8.89     10.22         1.00           NaN         NaN    NaN   \n",
       "5     23.20      2.26      4.22         0.58           NaN         NaN    NaN   \n",
       "6     11.28      9.14      6.50         2.88          89.0         8.5      E   \n",
       "7     13.96      9.18      2.93         2.84          58.0         6.6      E   \n",
       "8     14.44      6.94      4.70         2.24          87.0         8.4      E   \n",
       "9     26.93      0.63      0.28         0.47           NaN         NaN    NaN   \n",
       "\n",
       "   total_sales  \n",
       "0        82.54  \n",
       "1        40.24  \n",
       "2        35.52  \n",
       "3        32.77  \n",
       "4        31.38  \n",
       "5        30.26  \n",
       "6        29.80  \n",
       "7        28.91  \n",
       "8        28.32  \n",
       "9        28.31  "
      ]
     },
     "execution_count": 166,
     "metadata": {},
     "output_type": "execute_result"
    }
   ],
   "source": [
    "df['total_sales'] = df['na_sales'] + df['eu_sales'] + df['jp_sales'] + df['other_sales']\n",
    "#финал проверка\n",
    "df.info()\n",
    "df.head(10)"
   ]
  },
  {
   "cell_type": "markdown",
   "metadata": {
    "id": "qTetIOw--gNe"
   },
   "source": [
    "**Вывод по п1 подготовка данных:**    \n",
    "Данные обработаны. Пропуски в годах, имени был отброшены, тк их мало и их нельзя анализировать и не внесут вклад.   \n",
    "Пропуски в оценке критиков оставлены как есть. В оценке пользователей 'tbd' заменены на nan .  Пропуски в рейтинге оставлены как есть."
   ]
  },
  {
   "cell_type": "markdown",
   "metadata": {
    "id": "gUqtGZE0-gNe"
   },
   "source": [
    "## 2 . Исследовательский анализ данных."
   ]
  },
  {
   "cell_type": "markdown",
   "metadata": {
    "id": "ewWxIjeN-gNf"
   },
   "source": [
    "### 2.1 Оценка выпуска игр по годам"
   ]
  },
  {
   "cell_type": "code",
   "execution_count": null,
   "metadata": {
    "colab": {
     "base_uri": "https://localhost:8080/"
    },
    "id": "qrFH3ZR6-gNf",
    "outputId": "5536cc36-3357-4caa-b504-5387f74bfdd9"
   },
   "outputs": [
    {
     "data": {
      "image/png": "[encoded data removed]",
      "text/plain": [
       "<Figure size 432x288 with 1 Axes>"
      ]
     },
     "metadata": {
      "needs_background": "light"
     },
     "output_type": "display_data"
    }
   ],
   "source": [
    "plt.title(\"Кол-во выпускаемых игр в год\")\n",
    "plt.xlabel(\"годы\")\n",
    "plt.ylabel(\"кол-во игр в шт\")\n",
    "#диаграмма, bins= кл-ву уникальных зач в колонке с годами.\n",
    "df['year_of_release'].hist(bins = df['year_of_release'].nunique()) \n",
    "plt.show()"
   ]
  },
  {
   "cell_type": "markdown",
   "metadata": {
    "id": "-UQbzE41-gNf"
   },
   "source": [
    "Кол-во выпускаемых игр после 1995 г пошло в быстрый рост до 2009, затем спад до 2012  и с 12 по 16 примерно одинаково.     \n",
    "Я бы связал, это  тем ,ч то игры усложнилисьв разработке по времени и цене. Стали выходить более сложные/качтвенные, но и меньше их.     \n",
    "Либо это влияние того что игры по подписке ежемесячной стали продоваться и это не учтено в дата сете."
   ]
  },
  {
   "cell_type": "markdown",
   "metadata": {
    "id": "O9qkJVdy-gNf"
   },
   "source": [
    "### 2.2 Оценка выпуска игр по платформам"
   ]
  },
  {
   "cell_type": "code",
   "execution_count": null,
   "metadata": {
    "colab": {
     "base_uri": "https://localhost:8080/"
    },
    "id": "uAdHQv0p-gNf",
    "outputId": "4ed302c6-f0f4-44f8-af6a-cde9972a6fbf"
   },
   "outputs": [
    {
     "data": {
      "text/plain": [
       "platform\n",
       "PS2     1233.56\n",
       "X360     961.24\n",
       "PS3      931.34\n",
       "Wii      891.18\n",
       "DS       802.78\n",
       "PS       727.58\n",
       "PS4      314.14\n",
       "GBA      312.88\n",
       "PSP      289.53\n",
       "3DS      257.81\n",
       "PC       255.76\n",
       "GB       254.43\n",
       "XB       251.57\n",
       "NES      251.05\n",
       "N64      218.01\n",
       "SNES     200.04\n",
       "GC       196.73\n",
       "XOne     159.32\n",
       "2600      86.48\n",
       "WiiU      82.19\n",
       "PSV       53.81\n",
       "SAT       33.59\n",
       "GEN       28.35\n",
       "DC        15.95\n",
       "SCD        1.86\n",
       "NG         1.44\n",
       "WS         1.42\n",
       "TG16       0.16\n",
       "3DO        0.10\n",
       "GG         0.04\n",
       "PCFX       0.03\n",
       "Name: total_sales, dtype: float64"
      ]
     },
     "execution_count": 168,
     "metadata": {},
     "output_type": "execute_result"
    }
   ],
   "source": [
    "#Платформы по суммарным продажам\n",
    "df.groupby('platform')['total_sales'].sum().sort_values(ascending=False)"
   ]
  },
  {
   "cell_type": "code",
   "execution_count": null,
   "metadata": {
    "id": "NOLt45v9-gNg"
   },
   "outputs": [],
   "source": [
    "#распределение по годам по плтаформам\n",
    "#df.groupby(['platform','year_of_release', ]).agg(sales=('total_sales', 'sum'))"
   ]
  },
  {
   "cell_type": "code",
   "execution_count": null,
   "metadata": {
    "colab": {
     "base_uri": "https://localhost:8080/"
    },
    "id": "CiTwTFSD-gNg",
    "outputId": "84344b0b-750c-43e0-b282-face2beeee10"
   },
   "outputs": [
    {
     "data": {
      "text/plain": [
       "['PS2', 'X360', 'PS3', 'Wii', 'DS', 'PS']"
      ]
     },
     "execution_count": 170,
     "metadata": {},
     "output_type": "execute_result"
    }
   ],
   "source": [
    "# берем топ x платформ по самым большим продажам\n",
    "# для начала получим список топ x платформ без ручного ввода\n",
    "x = 6   \n",
    "top_platform = list(df.groupby('platform')['total_sales'].sum().sort_values(ascending=False).reset_index().head(x)['platform'])\n",
    "top_platform"
   ]
  },
  {
   "cell_type": "code",
   "execution_count": null,
   "metadata": {
    "colab": {
     "base_uri": "https://localhost:8080/"
    },
    "id": "Ka6vyQpp-gNg",
    "outputId": "47d23855-9ff3-4f2a-d775-52a15ea635b5"
   },
   "outputs": [
    {
     "data": {
      "text/plain": [
       "array(['Wii', 'DS', 'X360', 'PS3', 'PS2', 'PS'], dtype=object)"
      ]
     },
     "execution_count": 171,
     "metadata": {},
     "output_type": "execute_result"
    }
   ],
   "source": [
    "#передаем список в срез  и сохраняем отдельно дата сет\n",
    "df_top_platform = df.query('platform in @top_platform ')\n",
    "#проверяем\n",
    "df_top_platform['platform'].unique()"
   ]
  },
  {
   "cell_type": "code",
   "execution_count": null,
   "metadata": {
    "colab": {
     "base_uri": "https://localhost:8080/"
    },
    "id": "sDsaGQhe-gNg",
    "outputId": "06879d6b-d7af-4b2f-e496-1c89f32407c1"
   },
   "outputs": [
    {
     "data": {
      "image/png": "[encoded data removed]",
      "text/plain": [
       "<Figure size 1080x720 with 1 Axes>"
      ]
     },
     "metadata": {
      "needs_background": "light"
     },
     "output_type": "display_data"
    }
   ],
   "source": [
    "## остосритруем по годам и построим график\n",
    "\n",
    "df_top_platform.pivot_table(index='year_of_release',columns='platform' ,values='total_sales', aggfunc='sum').\\\n",
    "plot(figsize=(15,10), grid=True, xlim=1993)\n",
    "plt.title(\"Оценка выпуска игр по платформам по годам\")\n",
    "#plt.xlabel(\"xlabel\")\n",
    "plt.ylabel(\"кол-во продаж в млн копий\")\n",
    "plt.show()\n"
   ]
  },
  {
   "cell_type": "markdown",
   "metadata": {
    "id": "4kNjuQVR-gNh"
   },
   "source": [
    "**Вывод:** как видно расцвет и закат платформ происходит довольно быстро 5-7 лет.    \n",
    "Конечно это связано  с быстрым  прогрессом в области. Железо быстро устаревает.     \n",
    "Интересно, что к \"настоящему\" времени к 2016 году все прошлые топ платформы скатились.  "
   ]
  },
  {
   "cell_type": "markdown",
   "metadata": {
    "id": "WD-urTsy-gNh"
   },
   "source": [
    "### 2.3 Выбор актуального периода        \n",
    "Актуального периода в **5 лет**(с 2011 включительно )  более чем достаточно для прогнозирования на 2017 год. "
   ]
  },
  {
   "cell_type": "code",
   "execution_count": null,
   "metadata": {
    "colab": {
     "base_uri": "https://localhost:8080/"
    },
    "id": "dra5ss6L-gNh",
    "outputId": "95e7a8f0-b2f4-470e-f17a-7cfcc4efa7e4"
   },
   "outputs": [
    {
     "data": {
      "text/plain": [
       "array([2013, 2011, 2015, 2012, 2014, 2016])"
      ]
     },
     "execution_count": 173,
     "metadata": {},
     "output_type": "execute_result"
    }
   ],
   "source": [
    "df = df.query('year_of_release >=2011')\n",
    "df['year_of_release'].unique()     #chek"
   ]
  },
  {
   "cell_type": "code",
   "execution_count": null,
   "metadata": {
    "colab": {
     "base_uri": "https://localhost:8080/"
    },
    "id": "AHcrGb6D-gNh",
    "outputId": "6c277df7-d5e7-4b5f-8f9b-3fb071ca894e"
   },
   "outputs": [
    {
     "data": {
      "text/plain": [
       "array(['PS3', 'X360', 'PS4', '3DS', 'Wii', 'DS', 'XOne', 'WiiU', 'PC',\n",
       "       'PSV', 'PSP', 'PS2'], dtype=object)"
      ]
     },
     "execution_count": 174,
     "metadata": {},
     "output_type": "execute_result"
    }
   ],
   "source": [
    "#посомтрим что за платфрмы в укороченмо датасете\n",
    "df['platform'].unique()"
   ]
  },
  {
   "cell_type": "markdown",
   "metadata": {
    "id": "wsLur3Zs-gNh"
   },
   "source": [
    "### 2.4 Перспективные платформы"
   ]
  },
  {
   "cell_type": "code",
   "execution_count": null,
   "metadata": {
    "colab": {
     "base_uri": "https://localhost:8080/"
    },
    "id": "BMeAaghG-gNh",
    "outputId": "aaaed280-a35d-4615-bd93-4c1312e61aa6"
   },
   "outputs": [
    {
     "data": {
      "image/png": "[encoded data removed]",
      "text/plain": [
       "<Figure size 1080x720 with 1 Axes>"
      ]
     },
     "metadata": {
      "needs_background": "light"
     },
     "output_type": "display_data"
    }
   ],
   "source": [
    "# построим графики по всем платформам, для опредения растущих/перспективных\n",
    "df.pivot_table(index='year_of_release',columns='platform' ,values='total_sales', aggfunc='sum').\\\n",
    "plot(figsize=(15,10), grid=True)\n",
    "plt.title(\"Выпуск игр по платформам по годам для актуального периода\")\n",
    "plt.ylabel(\"кол-во продаж в млн копий\")\n",
    "plt.show()\n"
   ]
  },
  {
   "cell_type": "markdown",
   "metadata": {
    "id": "V8JRXMkQ-gNi"
   },
   "source": [
    "**Перспективными тут выглядят, стартанувшие в 2013 году PS4   и XOne.**   \n",
    "Остальные идут к закату. Массовых покупок игр на них не будет, только фанаты.    \n",
    "Вообще по предыдущему графику по топ Х платформ видно было,что  платформы от Сони PS всегда показывали хорошие продажи. Поэтому стоит ожидать от новой платформы таких же успехов.    \n",
    "По детищю Майкрософта так же. На предыдущем графике видно было , что X360 ,была в топе. Так же и для новой XOne можно ожидать хороших продаж.      \n",
    "А Вот у Nintendo (платформа WiiU) слабовато выглядит в 2016."
   ]
  },
  {
   "cell_type": "markdown",
   "metadata": {
    "id": "nQpX2pUd-gNi"
   },
   "source": [
    "### 2.5 График «ящик с усами» по глобальным продажам игр в разбивке по платформам."
   ]
  },
  {
   "cell_type": "code",
   "execution_count": null,
   "metadata": {
    "colab": {
     "base_uri": "https://localhost:8080/",
     "height": 716
    },
    "id": "U6hRTBOR-gNi",
    "outputId": "f7824220-e4e5-4a2a-badb-5d33a35a64fd"
   },
   "outputs": [
    {
     "name": "stderr",
     "output_type": "stream",
     "text": [
      "/usr/local/lib/python3.8/dist-packages/matplotlib/cbook/__init__.py:1376: VisibleDeprecationWarning: Creating an ndarray from ragged nested sequences (which is a list-or-tuple of lists-or-tuples-or ndarrays with different lengths or shapes) is deprecated. If you meant to do this, you must specify 'dtype=object' when creating the ndarray.\n",
      "  X = np.atleast_1d(X.T if isinstance(X, np.ndarray) else np.asarray(X))\n"
     ]
    },
    {
     "data": {
      "image/png": "[encoded data removed]",
      "text/plain": [
       "<Figure size 864x720 with 1 Axes>"
      ]
     },
     "metadata": {
      "needs_background": "light"
     },
     "output_type": "display_data"
    }
   ],
   "source": [
    "#общий график со всеми занчениями\n",
    "df.boxplot(column='total_sales',by='platform', figsize=(12,10))\n",
    "plt.title(\"Выпуск игр по платформам, boxplot по всем значениям\")\n",
    "plt.ylabel(\"кол-во продаж в млн копий\")\n",
    "plt.show()"
   ]
  },
  {
   "cell_type": "code",
   "execution_count": null,
   "metadata": {
    "colab": {
     "base_uri": "https://localhost:8080/",
     "height": 716
    },
    "id": "M27EEU4p-gNi",
    "outputId": "06ff53f2-a37a-4332-9729-16a34b79c96d"
   },
   "outputs": [
    {
     "name": "stderr",
     "output_type": "stream",
     "text": [
      "/usr/local/lib/python3.8/dist-packages/matplotlib/cbook/__init__.py:1376: VisibleDeprecationWarning: Creating an ndarray from ragged nested sequences (which is a list-or-tuple of lists-or-tuples-or ndarrays with different lengths or shapes) is deprecated. If you meant to do this, you must specify 'dtype=object' when creating the ndarray.\n",
      "  X = np.atleast_1d(X.T if isinstance(X, np.ndarray) else np.asarray(X))\n"
     ]
    },
    {
     "data": {
      "image/png": "[encoded data removed]",
      "text/plain": [
       "<Figure size 864x720 with 1 Axes>"
      ]
     },
     "metadata": {
      "needs_background": "light"
     },
     "output_type": "display_data"
    }
   ],
   "source": [
    "#общий график с отсечеными \"выбросами\" выше 5 млн\n",
    "df.query('total_sales <=5').boxplot(column='total_sales',by='platform', figsize=(12,10))\n",
    "plt.title(\"Выпуск игр по платформам  с отсеченными самыми большими выбросами \")\n",
    "plt.ylabel(\"кол-во продаж в млн копий\")\n",
    "plt.show()\n"
   ]
  },
  {
   "cell_type": "markdown",
   "metadata": {
    "id": "f87WBnAQ-gNj"
   },
   "source": [
    "Видно,что для большинства игр продажи совем небольшие. Но есть удачные \"выбросы\", которые расходятся милионными тиражами."
   ]
  },
  {
   "cell_type": "code",
   "execution_count": null,
   "metadata": {
    "colab": {
     "base_uri": "https://localhost:8080/"
    },
    "id": "Ajlm-mdO-gNj",
    "outputId": "f53096f4-4d00-436a-f105-aec42b4bdf59"
   },
   "outputs": [
    {
     "data": {
      "text/plain": [
       "count    4022.000000\n",
       "mean        0.485855\n",
       "std         1.219503\n",
       "min         0.010000\n",
       "25%         0.040000\n",
       "50%         0.130000\n",
       "75%         0.407500\n",
       "max        21.050000\n",
       "Name: total_sales, dtype: float64"
      ]
     },
     "execution_count": 178,
     "metadata": {},
     "output_type": "execute_result"
    }
   ],
   "source": [
    "# оценим суммарные продажи\n",
    "df['total_sales'].describe()"
   ]
  },
  {
   "cell_type": "markdown",
   "metadata": {
    "id": "tJPRM_Zp-gNj"
   },
   "source": [
    "Видно что медиана , это всего лишь 0,12 млн копий. Т е в осномном  игры продаются малым тиражом"
   ]
  },
  {
   "cell_type": "markdown",
   "metadata": {
    "id": "lIHknY6H-gNj"
   },
   "source": [
    "### 2.6 Влияние  на продажи  отзывов пользователей и критиков по одной платформе.\n",
    "\n",
    "Возьмем платфорому PS4"
   ]
  },
  {
   "cell_type": "code",
   "execution_count": null,
   "metadata": {
    "colab": {
     "base_uri": "https://localhost:8080/"
    },
    "id": "ozyBtvGm-gNj",
    "outputId": "11587024-08fa-4416-c9d7-659a4b91f2e5"
   },
   "outputs": [
    {
     "name": "stdout",
     "output_type": "stream",
     "text": [
      "корреляция между продажами и отзывами критиков 0.407\n",
      "корреляция между продажами и отзывами юзеров -0.032\n"
     ]
    }
   ],
   "source": [
    "#корреляции \n",
    "print('корреляция между продажами и отзывами критиков',\\\n",
    "      round((df.query('platform == \"PS4\"')['total_sales'].corr(df['critic_score'])) ,3)  )\n",
    "print('корреляция между продажами и отзывами юзеров', \\\n",
    "      round( df.query('platform == \"PS4\"')['total_sales'].corr(df['user_score']) ,3)  )"
   ]
  },
  {
   "cell_type": "code",
   "execution_count": null,
   "metadata": {
    "colab": {
     "base_uri": "https://localhost:8080/"
    },
    "id": "Jai92wnz-gNk",
    "outputId": "22b43f79-0a3d-4273-f52d-49b1873012c9"
   },
   "outputs": [
    {
     "data": {
      "image/png": "[encoded data removed]",
      "text/plain": [
       "<Figure size 432x288 with 1 Axes>"
      ]
     },
     "metadata": {
      "needs_background": "light"
     },
     "output_type": "display_data"
    },
    {
     "data": {
      "image/png": "[encoded data removed]",
      "text/plain": [
       "<Figure size 432x288 with 1 Axes>"
      ]
     },
     "metadata": {
      "needs_background": "light"
     },
     "output_type": "display_data"
    }
   ],
   "source": [
    "#диаграммы рассеивания\n",
    "df.query('platform == \"PS4\"').plot(x='critic_score',y='total_sales', kind='scatter',alpha=0.8)\n",
    "plt.show()\n",
    "df.query('platform == \"PS4\"').plot(x='user_score',y='total_sales', kind='scatter',alpha=0.8)\n",
    "plt.show()"
   ]
  },
  {
   "cell_type": "markdown",
   "metadata": {
    "id": "BSwV8WHI-gNk"
   },
   "source": [
    "**Вывод:** корреляция между продажами и отзывами критиков средняя.    \n",
    "А вот  корреляции с отзывами юзеров отсутвует."
   ]
  },
  {
   "cell_type": "markdown",
   "metadata": {
    "id": "j0HrnZ3t-gNk"
   },
   "source": [
    "### 2.7 Влияние  на продажи  отзывов пользователей и критиков по всем другим платформам."
   ]
  },
  {
   "cell_type": "code",
   "execution_count": null,
   "metadata": {
    "colab": {
     "base_uri": "https://localhost:8080/"
    },
    "id": "a3_-tD-l-gNk",
    "outputId": "597d1994-5488-40ed-ba10-c4e0fd019114"
   },
   "outputs": [
    {
     "name": "stdout",
     "output_type": "stream",
     "text": [
      "корреляция между продажами и отзывами критиков 0.317\n",
      "корреляция между продажами и отзывами юзеров 0.04\n"
     ]
    }
   ],
   "source": [
    "# корреляции по всем другим платформам\n",
    "print('корреляция между продажами и отзывами критиков',\\\n",
    "      round((df.query('platform != \"PS4\"')['total_sales'].corr(df['critic_score'])) ,3)  )\n",
    "print('корреляция между продажами и отзывами юзеров', \\\n",
    "      round( df.query('platform != \"PS4\"')['total_sales'].corr(df['user_score']) ,3)  )"
   ]
  },
  {
   "cell_type": "code",
   "execution_count": null,
   "metadata": {
    "colab": {
     "base_uri": "https://localhost:8080/",
     "height": 542
    },
    "id": "ZC22qK8J-gNk",
    "outputId": "69417e10-efce-486e-980b-c58bfd80b598"
   },
   "outputs": [
    {
     "data": {
      "image/png": "[encoded data removed]",
      "text/plain": [
       "<Figure size 432x288 with 1 Axes>"
      ]
     },
     "metadata": {
      "needs_background": "light"
     },
     "output_type": "display_data"
    },
    {
     "data": {
      "image/png": "[encoded data removed]",
      "text/plain": [
       "<Figure size 432x288 with 1 Axes>"
      ]
     },
     "metadata": {
      "needs_background": "light"
     },
     "output_type": "display_data"
    }
   ],
   "source": [
    "#диаграммы рассеивания\n",
    "df.query('platform == \"PS4\"').plot(x='critic_score',y='total_sales', kind='scatter',alpha=0.8)\n",
    "plt.show()\n",
    "df.query('platform == \"PS4\"').plot(x='user_score',y='total_sales', kind='scatter',alpha=0.8)\n",
    "plt.show()"
   ]
  },
  {
   "cell_type": "markdown",
   "metadata": {
    "id": "6cMkNKYX-gNk"
   },
   "source": [
    "**Вывод:** по всем другим платформам  почти та же картина. Корреляция с отзывами критиков немного уменьшилась по сравнению с только PS. Корреляция с отзывами пользователей почти нулевая."
   ]
  },
  {
   "cell_type": "markdown",
   "metadata": {
    "id": "tGsoFxVA-gNl"
   },
   "source": [
    "### 2.8 Анализ продаж игр по жанрам.   \n",
    "(Посмотрите на общее распределение игр по жанрам. Что можно сказать о самых прибыльных жанрах? Выделяются ли жанры с высокими и низкими продажами?)"
   ]
  },
  {
   "cell_type": "code",
   "execution_count": null,
   "metadata": {
    "colab": {
     "base_uri": "https://localhost:8080/"
    },
    "id": "Apz1fo7F-gNl",
    "outputId": "ffe64f20-83a6-4af2-a2dc-4327f14d5c4e"
   },
   "outputs": [
    {
     "data": {
      "text/plain": [
       "Action          1269\n",
       "Role-Playing     465\n",
       "Adventure        410\n",
       "Sports           389\n",
       "Misc             375\n",
       "Shooter          329\n",
       "Racing           180\n",
       "Fighting         159\n",
       "Simulation       136\n",
       "Platform         122\n",
       "Strategy         117\n",
       "Puzzle            71\n",
       "Name: genre, dtype: int64"
      ]
     },
     "execution_count": 183,
     "metadata": {},
     "output_type": "execute_result"
    }
   ],
   "source": [
    "# жанры по кол-ву\n",
    "df['genre'].value_counts()"
   ]
  },
  {
   "cell_type": "code",
   "execution_count": null,
   "metadata": {
    "colab": {
     "base_uri": "https://localhost:8080/",
     "height": 457
    },
    "id": "QmmJPN7l-gNl",
    "outputId": "6089baef-245c-4422-a240-d4b1ae78eaf5"
   },
   "outputs": [
    {
     "data": {
      "text/html": [
       "\n",
       "  <div id=\"df-48ddcc48-4fc7-40d2-873d-7d13e6f94962\">\n",
       "    <div class=\"colab-df-container\">\n",
       "      <div>\n",
       "<style scoped>\n",
       "    .dataframe tbody tr th:only-of-type {\n",
       "        vertical-align: middle;\n",
       "    }\n",
       "\n",
       "    .dataframe tbody tr th {\n",
       "        vertical-align: top;\n",
       "    }\n",
       "\n",
       "    .dataframe thead th {\n",
       "        text-align: right;\n",
       "    }\n",
       "</style>\n",
       "<table border=\"1\" class=\"dataframe\">\n",
       "  <thead>\n",
       "    <tr style=\"text-align: right;\">\n",
       "      <th></th>\n",
       "      <th>count</th>\n",
       "      <th>sum</th>\n",
       "    </tr>\n",
       "    <tr>\n",
       "      <th>genre</th>\n",
       "      <th></th>\n",
       "      <th></th>\n",
       "    </tr>\n",
       "  </thead>\n",
       "  <tbody>\n",
       "    <tr>\n",
       "      <th>Action</th>\n",
       "      <td>1269</td>\n",
       "      <td>557.80</td>\n",
       "    </tr>\n",
       "    <tr>\n",
       "      <th>Shooter</th>\n",
       "      <td>329</td>\n",
       "      <td>402.91</td>\n",
       "    </tr>\n",
       "    <tr>\n",
       "      <th>Role-Playing</th>\n",
       "      <td>465</td>\n",
       "      <td>245.63</td>\n",
       "    </tr>\n",
       "    <tr>\n",
       "      <th>Sports</th>\n",
       "      <td>389</td>\n",
       "      <td>237.15</td>\n",
       "    </tr>\n",
       "    <tr>\n",
       "      <th>Misc</th>\n",
       "      <td>375</td>\n",
       "      <td>139.42</td>\n",
       "    </tr>\n",
       "    <tr>\n",
       "      <th>Platform</th>\n",
       "      <td>122</td>\n",
       "      <td>88.68</td>\n",
       "    </tr>\n",
       "    <tr>\n",
       "      <th>Racing</th>\n",
       "      <td>180</td>\n",
       "      <td>88.31</td>\n",
       "    </tr>\n",
       "    <tr>\n",
       "      <th>Fighting</th>\n",
       "      <td>159</td>\n",
       "      <td>66.90</td>\n",
       "    </tr>\n",
       "    <tr>\n",
       "      <th>Simulation</th>\n",
       "      <td>136</td>\n",
       "      <td>50.26</td>\n",
       "    </tr>\n",
       "    <tr>\n",
       "      <th>Adventure</th>\n",
       "      <td>410</td>\n",
       "      <td>45.04</td>\n",
       "    </tr>\n",
       "    <tr>\n",
       "      <th>Strategy</th>\n",
       "      <td>117</td>\n",
       "      <td>22.16</td>\n",
       "    </tr>\n",
       "    <tr>\n",
       "      <th>Puzzle</th>\n",
       "      <td>71</td>\n",
       "      <td>9.85</td>\n",
       "    </tr>\n",
       "  </tbody>\n",
       "</table>\n",
       "</div>\n",
       "      <button class=\"colab-df-convert\" onclick=\"convertToInteractive('df-48ddcc48-4fc7-40d2-873d-7d13e6f94962')\"\n",
       "              title=\"Convert this dataframe to an interactive table.\"\n",
       "              style=\"display:none;\">\n",
       "        \n",
       "  <svg xmlns=\"http://www.w3.org/2000/svg\" height=\"24px\"viewBox=\"0 0 24 24\"\n",
       "       width=\"24px\">\n",
       "    <path d=\"M0 0h24v24H0V0z\" fill=\"none\"/>\n",
       "    <path d=\"M18.56 5.44l.94 2.06.94-2.06 2.06-.94-2.06-.94-.94-2.06-.94 2.06-2.06.94zm-11 1L8.5 8.5l.94-2.06 2.06-.94-2.06-.94L8.5 2.5l-.94 2.06-2.06.94zm10 10l.94 2.06.94-2.06 2.06-.94-2.06-.94-.94-2.06-.94 2.06-2.06.94z\"/><path d=\"M17.41 7.96l-1.37-1.37c-.4-.4-.92-.59-1.43-.59-.52 0-1.04.2-1.43.59L10.3 9.45l-7.72 7.72c-.78.78-.78 2.05 0 2.83L4 21.41c.39.39.9.59 1.41.59.51 0 1.02-.2 1.41-.59l7.78-7.78 2.81-2.81c.8-.78.8-2.07 0-2.86zM5.41 20L4 18.59l7.72-7.72 1.47 1.35L5.41 20z\"/>\n",
       "  </svg>\n",
       "      </button>\n",
       "      \n",
       "  <style>\n",
       "    .colab-df-container {\n",
       "      display:flex;\n",
       "      flex-wrap:wrap;\n",
       "      gap: 12px;\n",
       "    }\n",
       "\n",
       "    .colab-df-convert {\n",
       "      background-color: #E8F0FE;\n",
       "      border: none;\n",
       "      border-radius: 50%;\n",
       "      cursor: pointer;\n",
       "      display: none;\n",
       "      fill: #1967D2;\n",
       "      height: 32px;\n",
       "      padding: 0 0 0 0;\n",
       "      width: 32px;\n",
       "    }\n",
       "\n",
       "    .colab-df-convert:hover {\n",
       "      background-color: #E2EBFA;\n",
       "      box-shadow: 0px 1px 2px rgba(60, 64, 67, 0.3), 0px 1px 3px 1px rgba(60, 64, 67, 0.15);\n",
       "      fill: #174EA6;\n",
       "    }\n",
       "\n",
       "    [theme=dark] .colab-df-convert {\n",
       "      background-color: #3B4455;\n",
       "      fill: #D2E3FC;\n",
       "    }\n",
       "\n",
       "    [theme=dark] .colab-df-convert:hover {\n",
       "      background-color: #434B5C;\n",
       "      box-shadow: 0px 1px 3px 1px rgba(0, 0, 0, 0.15);\n",
       "      filter: drop-shadow(0px 1px 2px rgba(0, 0, 0, 0.3));\n",
       "      fill: #FFFFFF;\n",
       "    }\n",
       "  </style>\n",
       "\n",
       "      <script>\n",
       "        const buttonEl =\n",
       "          document.querySelector('#df-48ddcc48-4fc7-40d2-873d-7d13e6f94962 button.colab-df-convert');\n",
       "        buttonEl.style.display =\n",
       "          google.colab.kernel.accessAllowed ? 'block' : 'none';\n",
       "\n",
       "        async function convertToInteractive(key) {\n",
       "          const element = document.querySelector('#df-48ddcc48-4fc7-40d2-873d-7d13e6f94962');\n",
       "          const dataTable =\n",
       "            await google.colab.kernel.invokeFunction('convertToInteractive',\n",
       "                                                     [key], {});\n",
       "          if (!dataTable) return;\n",
       "\n",
       "          const docLinkHtml = 'Like what you see? Visit the ' +\n",
       "            '<a target=\"_blank\" href=https://colab.research.google.com/notebooks/data_table.ipynb>data table notebook</a>'\n",
       "            + ' to learn more about interactive tables.';\n",
       "          element.innerHTML = '';\n",
       "          dataTable['output_type'] = 'display_data';\n",
       "          await google.colab.output.renderOutput(dataTable, element);\n",
       "          const docLink = document.createElement('div');\n",
       "          docLink.innerHTML = docLinkHtml;\n",
       "          element.appendChild(docLink);\n",
       "        }\n",
       "      </script>\n",
       "    </div>\n",
       "  </div>\n",
       "  "
      ],
      "text/plain": [
       "              count     sum\n",
       "genre                      \n",
       "Action         1269  557.80\n",
       "Shooter         329  402.91\n",
       "Role-Playing    465  245.63\n",
       "Sports          389  237.15\n",
       "Misc            375  139.42\n",
       "Platform        122   88.68\n",
       "Racing          180   88.31\n",
       "Fighting        159   66.90\n",
       "Simulation      136   50.26\n",
       "Adventure       410   45.04\n",
       "Strategy        117   22.16\n",
       "Puzzle           71    9.85"
      ]
     },
     "execution_count": 184,
     "metadata": {},
     "output_type": "execute_result"
    }
   ],
   "source": [
    "# жанры по сумме проданых милилонов копий и кол-ву выпущеных игр\n",
    "df.pivot_table(index='genre', values='total_sales', aggfunc=('sum','count'))\\\n",
    "                                                    .sort_values(by='sum',ascending=False)"
   ]
  },
  {
   "cell_type": "code",
   "execution_count": null,
   "metadata": {
    "colab": {
     "base_uri": "https://localhost:8080/",
     "height": 457
    },
    "id": "OAlq4AZu-gNl",
    "outputId": "6eda9d6f-0001-42ed-a446-d78005b21dcf"
   },
   "outputs": [
    {
     "data": {
      "text/html": [
       "\n",
       "  <div id=\"df-f724f258-5b84-4a76-90ee-0a53ef9ebfa2\">\n",
       "    <div class=\"colab-df-container\">\n",
       "      <div>\n",
       "<style scoped>\n",
       "    .dataframe tbody tr th:only-of-type {\n",
       "        vertical-align: middle;\n",
       "    }\n",
       "\n",
       "    .dataframe tbody tr th {\n",
       "        vertical-align: top;\n",
       "    }\n",
       "\n",
       "    .dataframe thead th {\n",
       "        text-align: right;\n",
       "    }\n",
       "</style>\n",
       "<table border=\"1\" class=\"dataframe\">\n",
       "  <thead>\n",
       "    <tr style=\"text-align: right;\">\n",
       "      <th></th>\n",
       "      <th>count</th>\n",
       "      <th>mean</th>\n",
       "      <th>median</th>\n",
       "      <th>sum</th>\n",
       "    </tr>\n",
       "    <tr>\n",
       "      <th>genre</th>\n",
       "      <th></th>\n",
       "      <th></th>\n",
       "      <th></th>\n",
       "      <th></th>\n",
       "    </tr>\n",
       "  </thead>\n",
       "  <tbody>\n",
       "    <tr>\n",
       "      <th>Shooter</th>\n",
       "      <td>329</td>\n",
       "      <td>1.224650</td>\n",
       "      <td>0.410</td>\n",
       "      <td>402.91</td>\n",
       "    </tr>\n",
       "    <tr>\n",
       "      <th>Platform</th>\n",
       "      <td>122</td>\n",
       "      <td>0.726885</td>\n",
       "      <td>0.185</td>\n",
       "      <td>88.68</td>\n",
       "    </tr>\n",
       "    <tr>\n",
       "      <th>Sports</th>\n",
       "      <td>389</td>\n",
       "      <td>0.609640</td>\n",
       "      <td>0.200</td>\n",
       "      <td>237.15</td>\n",
       "    </tr>\n",
       "    <tr>\n",
       "      <th>Role-Playing</th>\n",
       "      <td>465</td>\n",
       "      <td>0.528237</td>\n",
       "      <td>0.150</td>\n",
       "      <td>245.63</td>\n",
       "    </tr>\n",
       "    <tr>\n",
       "      <th>Racing</th>\n",
       "      <td>180</td>\n",
       "      <td>0.490611</td>\n",
       "      <td>0.160</td>\n",
       "      <td>88.31</td>\n",
       "    </tr>\n",
       "    <tr>\n",
       "      <th>Action</th>\n",
       "      <td>1269</td>\n",
       "      <td>0.439559</td>\n",
       "      <td>0.130</td>\n",
       "      <td>557.80</td>\n",
       "    </tr>\n",
       "    <tr>\n",
       "      <th>Fighting</th>\n",
       "      <td>159</td>\n",
       "      <td>0.420755</td>\n",
       "      <td>0.180</td>\n",
       "      <td>66.90</td>\n",
       "    </tr>\n",
       "    <tr>\n",
       "      <th>Misc</th>\n",
       "      <td>375</td>\n",
       "      <td>0.371787</td>\n",
       "      <td>0.130</td>\n",
       "      <td>139.42</td>\n",
       "    </tr>\n",
       "    <tr>\n",
       "      <th>Simulation</th>\n",
       "      <td>136</td>\n",
       "      <td>0.369559</td>\n",
       "      <td>0.110</td>\n",
       "      <td>50.26</td>\n",
       "    </tr>\n",
       "    <tr>\n",
       "      <th>Strategy</th>\n",
       "      <td>117</td>\n",
       "      <td>0.189402</td>\n",
       "      <td>0.080</td>\n",
       "      <td>22.16</td>\n",
       "    </tr>\n",
       "    <tr>\n",
       "      <th>Puzzle</th>\n",
       "      <td>71</td>\n",
       "      <td>0.138732</td>\n",
       "      <td>0.050</td>\n",
       "      <td>9.85</td>\n",
       "    </tr>\n",
       "    <tr>\n",
       "      <th>Adventure</th>\n",
       "      <td>410</td>\n",
       "      <td>0.109854</td>\n",
       "      <td>0.030</td>\n",
       "      <td>45.04</td>\n",
       "    </tr>\n",
       "  </tbody>\n",
       "</table>\n",
       "</div>\n",
       "      <button class=\"colab-df-convert\" onclick=\"convertToInteractive('df-f724f258-5b84-4a76-90ee-0a53ef9ebfa2')\"\n",
       "              title=\"Convert this dataframe to an interactive table.\"\n",
       "              style=\"display:none;\">\n",
       "        \n",
       "  <svg xmlns=\"http://www.w3.org/2000/svg\" height=\"24px\"viewBox=\"0 0 24 24\"\n",
       "       width=\"24px\">\n",
       "    <path d=\"M0 0h24v24H0V0z\" fill=\"none\"/>\n",
       "    <path d=\"M18.56 5.44l.94 2.06.94-2.06 2.06-.94-2.06-.94-.94-2.06-.94 2.06-2.06.94zm-11 1L8.5 8.5l.94-2.06 2.06-.94-2.06-.94L8.5 2.5l-.94 2.06-2.06.94zm10 10l.94 2.06.94-2.06 2.06-.94-2.06-.94-.94-2.06-.94 2.06-2.06.94z\"/><path d=\"M17.41 7.96l-1.37-1.37c-.4-.4-.92-.59-1.43-.59-.52 0-1.04.2-1.43.59L10.3 9.45l-7.72 7.72c-.78.78-.78 2.05 0 2.83L4 21.41c.39.39.9.59 1.41.59.51 0 1.02-.2 1.41-.59l7.78-7.78 2.81-2.81c.8-.78.8-2.07 0-2.86zM5.41 20L4 18.59l7.72-7.72 1.47 1.35L5.41 20z\"/>\n",
       "  </svg>\n",
       "      </button>\n",
       "      \n",
       "  <style>\n",
       "    .colab-df-container {\n",
       "      display:flex;\n",
       "      flex-wrap:wrap;\n",
       "      gap: 12px;\n",
       "    }\n",
       "\n",
       "    .colab-df-convert {\n",
       "      background-color: #E8F0FE;\n",
       "      border: none;\n",
       "      border-radius: 50%;\n",
       "      cursor: pointer;\n",
       "      display: none;\n",
       "      fill: #1967D2;\n",
       "      height: 32px;\n",
       "      padding: 0 0 0 0;\n",
       "      width: 32px;\n",
       "    }\n",
       "\n",
       "    .colab-df-convert:hover {\n",
       "      background-color: #E2EBFA;\n",
       "      box-shadow: 0px 1px 2px rgba(60, 64, 67, 0.3), 0px 1px 3px 1px rgba(60, 64, 67, 0.15);\n",
       "      fill: #174EA6;\n",
       "    }\n",
       "\n",
       "    [theme=dark] .colab-df-convert {\n",
       "      background-color: #3B4455;\n",
       "      fill: #D2E3FC;\n",
       "    }\n",
       "\n",
       "    [theme=dark] .colab-df-convert:hover {\n",
       "      background-color: #434B5C;\n",
       "      box-shadow: 0px 1px 3px 1px rgba(0, 0, 0, 0.15);\n",
       "      filter: drop-shadow(0px 1px 2px rgba(0, 0, 0, 0.3));\n",
       "      fill: #FFFFFF;\n",
       "    }\n",
       "  </style>\n",
       "\n",
       "      <script>\n",
       "        const buttonEl =\n",
       "          document.querySelector('#df-f724f258-5b84-4a76-90ee-0a53ef9ebfa2 button.colab-df-convert');\n",
       "        buttonEl.style.display =\n",
       "          google.colab.kernel.accessAllowed ? 'block' : 'none';\n",
       "\n",
       "        async function convertToInteractive(key) {\n",
       "          const element = document.querySelector('#df-f724f258-5b84-4a76-90ee-0a53ef9ebfa2');\n",
       "          const dataTable =\n",
       "            await google.colab.kernel.invokeFunction('convertToInteractive',\n",
       "                                                     [key], {});\n",
       "          if (!dataTable) return;\n",
       "\n",
       "          const docLinkHtml = 'Like what you see? Visit the ' +\n",
       "            '<a target=\"_blank\" href=https://colab.research.google.com/notebooks/data_table.ipynb>data table notebook</a>'\n",
       "            + ' to learn more about interactive tables.';\n",
       "          element.innerHTML = '';\n",
       "          dataTable['output_type'] = 'display_data';\n",
       "          await google.colab.output.renderOutput(dataTable, element);\n",
       "          const docLink = document.createElement('div');\n",
       "          docLink.innerHTML = docLinkHtml;\n",
       "          element.appendChild(docLink);\n",
       "        }\n",
       "      </script>\n",
       "    </div>\n",
       "  </div>\n",
       "  "
      ],
      "text/plain": [
       "              count      mean  median     sum\n",
       "genre                                        \n",
       "Shooter         329  1.224650   0.410  402.91\n",
       "Platform        122  0.726885   0.185   88.68\n",
       "Sports          389  0.609640   0.200  237.15\n",
       "Role-Playing    465  0.528237   0.150  245.63\n",
       "Racing          180  0.490611   0.160   88.31\n",
       "Action         1269  0.439559   0.130  557.80\n",
       "Fighting        159  0.420755   0.180   66.90\n",
       "Misc            375  0.371787   0.130  139.42\n",
       "Simulation      136  0.369559   0.110   50.26\n",
       "Strategy        117  0.189402   0.080   22.16\n",
       "Puzzle           71  0.138732   0.050    9.85\n",
       "Adventure       410  0.109854   0.030   45.04"
      ]
     },
     "execution_count": 185,
     "metadata": {},
     "output_type": "execute_result"
    }
   ],
   "source": [
    "# жанры по сумме проданых милилонов копий,а так же средние и медиана  по колву проданых копий на каждую игру\n",
    "df.pivot_table(index='genre', values='total_sales', aggfunc=('sum','count','median','mean'))\\\n",
    ".sort_values(by='mean',ascending=False)"
   ]
  },
  {
   "cell_type": "markdown",
   "metadata": {
    "id": "JW-VZnpH-gNl"
   },
   "source": [
    "**Вывод:** Хотя по кол-ву выпускаемых игр  и проданных миллионов копий Action на первом месте, но средние(как и медиана) кол-во проданых копий  на игру больше у многих. А жанр Shooter чемпион по прибыльности."
   ]
  },
  {
   "cell_type": "markdown",
   "metadata": {
    "id": "6H1E0FWv-gNm"
   },
   "source": [
    "### 2.9 Анализ продаж по играм"
   ]
  },
  {
   "cell_type": "code",
   "execution_count": null,
   "metadata": {
    "colab": {
     "base_uri": "https://localhost:8080/"
    },
    "id": "qF97FWVn-gNm",
    "outputId": "7280354c-226f-40bb-a2e6-8be191e8edd7"
   },
   "outputs": [
    {
     "data": {
      "text/plain": [
       "name\n",
       "Grand Theft Auto V                56.58\n",
       "Call of Duty: Modern Warfare 3    30.60\n",
       "Call of Duty: Black Ops II        29.40\n",
       "Call of Duty: Ghosts              27.39\n",
       "Call of Duty: Black Ops 3         25.67\n",
       "Minecraft                         24.16\n",
       "Call of Duty: Advanced Warfare    21.97\n",
       "The Elder Scrolls V: Skyrim       21.14\n",
       "FIFA 15                           17.37\n",
       "Battlefield 3                     17.27\n",
       "Name: total_sales, dtype: float64"
      ]
     },
     "execution_count": 186,
     "metadata": {},
     "output_type": "execute_result"
    }
   ],
   "source": [
    "# топ 10 продаж игр общее\n",
    "df.groupby('name')['total_sales'].sum().sort_values(ascending=False).head(10)"
   ]
  },
  {
   "cell_type": "markdown",
   "metadata": {
    "id": "fL51MU59-gNm"
   },
   "source": [
    "ГТА5 в топе продаж, а затем Сall of Duty в различных вариантах. Стоит ожидать от этих компаний и в 2017 хороших продаж."
   ]
  },
  {
   "cell_type": "markdown",
   "metadata": {
    "id": "giXzQGuC-gNm"
   },
   "source": [
    "**Вывод по п2 Исследовательский анализ данных:**  \n",
    "После оценки выпускаигр по годам и платформам, было выявлено,чтовремя \"расцвета\" платформы 5-6 лет.На основании этого был выбран актуальные период  с 2011-2016 для анализа и прогнозирования на 2017 год.   \n",
    "Выявлены перспективными платформы на 2017: PS4 и XOne.    \n",
    "Выяснилось,что ретинги пользователей не влияют на продажи,а рейтинги критиков среднеее влияние имеют.\n",
    "В целом большинсво  игр продаются малым кол-вом копий 0.12млн (медиана), но есть и  удачные хиты, разлетающиеся десятками млн копий.\n",
    "Так же определен саммый массовые по кол-ву выпуска жанр - Action и самый прибыльный по кол-ву проданых копий Shooter.\n",
    "Самые ТОП продаж игры это GTA5 ГТА5 в топе продаж, а затем Сall of Duty в различных вариантах. Стоит ожидать от этих компаний и в 2017 хороших продаж."
   ]
  },
  {
   "cell_type": "markdown",
   "metadata": {
    "id": "mldRjPRL-gNn"
   },
   "source": [
    "## 3. Составление  портрета пользователя каждого региона"
   ]
  },
  {
   "cell_type": "markdown",
   "metadata": {
    "id": "mHji519N-gNn"
   },
   "source": [
    "### 3.1 Самые популярные платформы (топ-5)"
   ]
  },
  {
   "cell_type": "code",
   "execution_count": null,
   "metadata": {
    "colab": {
     "base_uri": "https://localhost:8080/"
    },
    "id": "uT14BrQE-gNn",
    "outputId": "777b8a77-27ca-4769-faab-533a0a593fc9"
   },
   "outputs": [
    {
     "data": {
      "text/plain": [
       "platform\n",
       "X360    226.80\n",
       "PS3     168.26\n",
       "PS4     108.74\n",
       "XOne     93.12\n",
       "3DS      82.65\n",
       "Name: na_sales, dtype: float64"
      ]
     },
     "execution_count": 187,
     "metadata": {},
     "output_type": "execute_result"
    }
   ],
   "source": [
    "#пользователь NothAmerica топ 5 платформ по продажам (na_sales)\n",
    "df.groupby('platform')['na_sales'].sum().sort_values(ascending=False).head()"
   ]
  },
  {
   "cell_type": "code",
   "execution_count": null,
   "metadata": {
    "colab": {
     "base_uri": "https://localhost:8080/",
     "height": 264
    },
    "id": "cm9LhaCN-gNn",
    "outputId": "92f61e62-1541-4b64-abcb-c73d51d708c9"
   },
   "outputs": [
    {
     "data": {
      "image/png": "[encoded data removed]",
      "text/plain": [
       "<Figure size 432x288 with 1 Axes>"
      ]
     },
     "metadata": {},
     "output_type": "display_data"
    }
   ],
   "source": [
    "df.groupby('platform')['na_sales'].sum().sort_values(ascending=False).head().plot(kind='pie')\n",
    "plt.title(\"Самые популярные платформы (топ-5) в Северной Америке \")\n",
    "#plt.ylabel(\"кол-во продаж в млн копий\")\n",
    "plt.show()\n"
   ]
  },
  {
   "cell_type": "code",
   "execution_count": null,
   "metadata": {
    "colab": {
     "base_uri": "https://localhost:8080/"
    },
    "id": "-nBXYQAC-gNn",
    "outputId": "d5455559-b202-4c77-a0ff-67c8e173f8dd"
   },
   "outputs": [
    {
     "data": {
      "text/plain": [
       "platform\n",
       "PS3     163.10\n",
       "PS4     141.09\n",
       "X360    117.10\n",
       "3DS      61.27\n",
       "PC       56.70\n",
       "Name: eu_sales, dtype: float64"
      ]
     },
     "execution_count": 189,
     "metadata": {},
     "output_type": "execute_result"
    }
   ],
   "source": [
    "#пользователь EUROPE топ 5 платформ по продажам (eu_sales)\n",
    "df.groupby('platform')['eu_sales'].sum().sort_values(ascending=False).head()"
   ]
  },
  {
   "cell_type": "code",
   "execution_count": null,
   "metadata": {
    "colab": {
     "base_uri": "https://localhost:8080/",
     "height": 264
    },
    "id": "vOXYBY9f-gNn",
    "outputId": "dd0cee8d-9442-46d9-8ad5-2005cba2a8c7"
   },
   "outputs": [
    {
     "data": {
      "image/png": "[encoded data removed]",
      "text/plain": [
       "<Figure size 432x288 with 1 Axes>"
      ]
     },
     "metadata": {},
     "output_type": "display_data"
    }
   ],
   "source": [
    "df.groupby('platform')['eu_sales'].sum().sort_values(ascending=False).head().plot(kind='pie')\n",
    "plt.title(\"Самые популярные платформы (топ-5) в Европе \")\n",
    "plt.show()"
   ]
  },
  {
   "cell_type": "code",
   "execution_count": null,
   "metadata": {
    "colab": {
     "base_uri": "https://localhost:8080/"
    },
    "id": "2ImrWEFO-gNo",
    "outputId": "7b2f1f86-2611-4d03-aba6-cd4cd591fe6d"
   },
   "outputs": [
    {
     "data": {
      "text/plain": [
       "platform\n",
       "3DS    100.62\n",
       "PS3     49.39\n",
       "PSP     24.04\n",
       "PSV     21.84\n",
       "PS4     15.96\n",
       "Name: jp_sales, dtype: float64"
      ]
     },
     "execution_count": 191,
     "metadata": {},
     "output_type": "execute_result"
    }
   ],
   "source": [
    "#пользователь Japan топ 5 платформ по продажам  (jp_sales)\n",
    "df.groupby('platform')['jp_sales'].sum().sort_values(ascending=False).head()"
   ]
  },
  {
   "cell_type": "code",
   "execution_count": null,
   "metadata": {
    "colab": {
     "base_uri": "https://localhost:8080/",
     "height": 264
    },
    "id": "SVfBU8pb-gNo",
    "outputId": "73d5d17f-3c52-41fc-eb88-2d64958349fb"
   },
   "outputs": [
    {
     "data": {
      "image/png": "[encoded data removed]",
      "text/plain": [
       "<Figure size 432x288 with 1 Axes>"
      ]
     },
     "metadata": {},
     "output_type": "display_data"
    }
   ],
   "source": [
    "df.groupby('platform')['jp_sales'].sum().sort_values(ascending=False).head().plot(kind='pie')\n",
    "plt.title(\"Самые популярные платформы (топ-5) в Японии \")\n",
    "plt.show()"
   ]
  },
  {
   "cell_type": "code",
   "execution_count": null,
   "metadata": {
    "colab": {
     "base_uri": "https://localhost:8080/"
    },
    "id": "AoQ-Xn7I-gNo",
    "outputId": "9ea4ce2c-546c-47a1-92ec-1f4c8e9009fa"
   },
   "outputs": [
    {
     "data": {
      "text/plain": [
       "platform\n",
       "PS3     64.82\n",
       "PS4     48.35\n",
       "X360    33.13\n",
       "XOne    14.27\n",
       "3DS     13.27\n",
       "Name: other_sales, dtype: float64"
      ]
     },
     "execution_count": 193,
     "metadata": {},
     "output_type": "execute_result"
    }
   ],
   "source": [
    "#пользователь other_sales топ 5 платформ по продажам  (other_sales)\n",
    "df.groupby('platform')['other_sales'].sum().sort_values(ascending=False).head()"
   ]
  },
  {
   "cell_type": "code",
   "execution_count": null,
   "metadata": {
    "colab": {
     "base_uri": "https://localhost:8080/",
     "height": 264
    },
    "id": "cj3aVYUc-gNo",
    "outputId": "99734e40-7b90-46e9-9980-bbbafd495816"
   },
   "outputs": [
    {
     "data": {
      "image/png": "[encoded data removed]",
      "text/plain": [
       "<Figure size 432x288 with 1 Axes>"
      ]
     },
     "metadata": {},
     "output_type": "display_data"
    }
   ],
   "source": [
    "df.groupby('platform')['other_sales'].sum().sort_values(ascending=False).head().plot(kind='pie')\n",
    "plt.title(\"Самые популярные платформы (топ-5) в других регионах \")\n",
    "plt.show()"
   ]
  },
  {
   "cell_type": "markdown",
   "metadata": {
    "id": "MXIn1j0j-gNo"
   },
   "source": [
    "**Вывод:**Как видно в каждом регионе продажи по платформам различиаются. Но везде в 5ке лидеров есть PS3,PS4, 3DS"
   ]
  },
  {
   "cell_type": "markdown",
   "metadata": {
    "id": "d7n3wdul-gNo"
   },
   "source": [
    "### 3.1 Самые популярные жанры (топ-5)"
   ]
  },
  {
   "cell_type": "code",
   "execution_count": null,
   "metadata": {
    "colab": {
     "base_uri": "https://localhost:8080/"
    },
    "id": "BocdM-jg-gNp",
    "outputId": "ab126460-88ea-4d0a-e353-d97d6d5947f2"
   },
   "outputs": [
    {
     "data": {
      "text/plain": [
       "genre\n",
       "Action          230.92\n",
       "Shooter         194.43\n",
       "Sports          108.70\n",
       "Role-Playing     83.78\n",
       "Misc             69.69\n",
       "Name: na_sales, dtype: float64"
      ]
     },
     "execution_count": 195,
     "metadata": {},
     "output_type": "execute_result"
    }
   ],
   "source": [
    "#пользователь NothAmerica топ 5 жанров по продажам (na_sales)\n",
    "df.groupby('genre')['na_sales'].sum().sort_values(ascending=False).head()"
   ]
  },
  {
   "cell_type": "code",
   "execution_count": null,
   "metadata": {
    "colab": {
     "base_uri": "https://localhost:8080/"
    },
    "id": "1kjBjS0A-gNp",
    "outputId": "b11ffd59-b4ef-4afb-a728-cbe83640028f"
   },
   "outputs": [
    {
     "data": {
      "text/plain": [
       "genre\n",
       "Action          199.12\n",
       "Shooter         148.02\n",
       "Sports           88.48\n",
       "Role-Playing     62.30\n",
       "Racing           40.58\n",
       "Name: eu_sales, dtype: float64"
      ]
     },
     "execution_count": 196,
     "metadata": {},
     "output_type": "execute_result"
    }
   ],
   "source": [
    "#пользователь EU топ 5 жанров по продажам (eu_sales)\n",
    "df.groupby('genre')['eu_sales'].sum().sort_values(ascending=False).head()"
   ]
  },
  {
   "cell_type": "code",
   "execution_count": null,
   "metadata": {
    "colab": {
     "base_uri": "https://localhost:8080/"
    },
    "id": "ibC50FOt-gNp",
    "outputId": "fb83e51d-ab17-49c8-b091-20c800c6fce5"
   },
   "outputs": [
    {
     "data": {
      "text/plain": [
       "genre\n",
       "Role-Playing    79.87\n",
       "Action          63.62\n",
       "Misc            17.60\n",
       "Fighting        12.38\n",
       "Platform        12.13\n",
       "Name: jp_sales, dtype: float64"
      ]
     },
     "execution_count": 197,
     "metadata": {},
     "output_type": "execute_result"
    }
   ],
   "source": [
    "#пользователь JP топ 5 жанров по продажам (jp_sales)\n",
    "df.groupby('genre')['jp_sales'].sum().sort_values(ascending=False).head()"
   ]
  },
  {
   "cell_type": "markdown",
   "metadata": {
    "id": "ltZT12dW-gNp"
   },
   "source": [
    "**Вывод**: В СевАмерике и Европе прдпочтения почти одинаковые, а в от в Японии отличнаются причем сильно."
   ]
  },
  {
   "cell_type": "markdown",
   "metadata": {
    "id": "DTp3321j-gNp"
   },
   "source": [
    "### 3.3 Влияние  рейтинга ESRB на продажи в отдельном регионе."
   ]
  },
  {
   "cell_type": "code",
   "execution_count": null,
   "metadata": {
    "colab": {
     "base_uri": "https://localhost:8080/",
     "height": 269
    },
    "id": "xeoT-t98-gNp",
    "outputId": "056576ef-2175-4ff2-945a-6e280b6666d4"
   },
   "outputs": [
    {
     "data": {
      "text/html": [
       "\n",
       "  <div id=\"df-d1b3baf1-97d0-4593-b89b-5b245b82ffca\">\n",
       "    <div class=\"colab-df-container\">\n",
       "      <div>\n",
       "<style scoped>\n",
       "    .dataframe tbody tr th:only-of-type {\n",
       "        vertical-align: middle;\n",
       "    }\n",
       "\n",
       "    .dataframe tbody tr th {\n",
       "        vertical-align: top;\n",
       "    }\n",
       "\n",
       "    .dataframe thead th {\n",
       "        text-align: right;\n",
       "    }\n",
       "</style>\n",
       "<table border=\"1\" class=\"dataframe\">\n",
       "  <thead>\n",
       "    <tr style=\"text-align: right;\">\n",
       "      <th></th>\n",
       "      <th>eu_sales</th>\n",
       "      <th>jp_sales</th>\n",
       "      <th>na_sales</th>\n",
       "    </tr>\n",
       "    <tr>\n",
       "      <th>rating</th>\n",
       "      <th></th>\n",
       "      <th></th>\n",
       "      <th></th>\n",
       "    </tr>\n",
       "  </thead>\n",
       "  <tbody>\n",
       "    <tr>\n",
       "      <th>M</th>\n",
       "      <td>250.26</td>\n",
       "      <td>26.14</td>\n",
       "      <td>308.45</td>\n",
       "    </tr>\n",
       "    <tr>\n",
       "      <th>E</th>\n",
       "      <td>141.73</td>\n",
       "      <td>36.68</td>\n",
       "      <td>170.17</td>\n",
       "    </tr>\n",
       "    <tr>\n",
       "      <th>E10+</th>\n",
       "      <td>78.00</td>\n",
       "      <td>11.23</td>\n",
       "      <td>117.72</td>\n",
       "    </tr>\n",
       "    <tr>\n",
       "      <th>T</th>\n",
       "      <td>83.16</td>\n",
       "      <td>33.39</td>\n",
       "      <td>109.31</td>\n",
       "    </tr>\n",
       "    <tr>\n",
       "      <th>EC</th>\n",
       "      <td>0.00</td>\n",
       "      <td>0.00</td>\n",
       "      <td>0.42</td>\n",
       "    </tr>\n",
       "    <tr>\n",
       "      <th>RP</th>\n",
       "      <td>0.03</td>\n",
       "      <td>0.00</td>\n",
       "      <td>0.00</td>\n",
       "    </tr>\n",
       "  </tbody>\n",
       "</table>\n",
       "</div>\n",
       "      <button class=\"colab-df-convert\" onclick=\"convertToInteractive('df-d1b3baf1-97d0-4593-b89b-5b245b82ffca')\"\n",
       "              title=\"Convert this dataframe to an interactive table.\"\n",
       "              style=\"display:none;\">\n",
       "        \n",
       "  <svg xmlns=\"http://www.w3.org/2000/svg\" height=\"24px\"viewBox=\"0 0 24 24\"\n",
       "       width=\"24px\">\n",
       "    <path d=\"M0 0h24v24H0V0z\" fill=\"none\"/>\n",
       "    <path d=\"M18.56 5.44l.94 2.06.94-2.06 2.06-.94-2.06-.94-.94-2.06-.94 2.06-2.06.94zm-11 1L8.5 8.5l.94-2.06 2.06-.94-2.06-.94L8.5 2.5l-.94 2.06-2.06.94zm10 10l.94 2.06.94-2.06 2.06-.94-2.06-.94-.94-2.06-.94 2.06-2.06.94z\"/><path d=\"M17.41 7.96l-1.37-1.37c-.4-.4-.92-.59-1.43-.59-.52 0-1.04.2-1.43.59L10.3 9.45l-7.72 7.72c-.78.78-.78 2.05 0 2.83L4 21.41c.39.39.9.59 1.41.59.51 0 1.02-.2 1.41-.59l7.78-7.78 2.81-2.81c.8-.78.8-2.07 0-2.86zM5.41 20L4 18.59l7.72-7.72 1.47 1.35L5.41 20z\"/>\n",
       "  </svg>\n",
       "      </button>\n",
       "      \n",
       "  <style>\n",
       "    .colab-df-container {\n",
       "      display:flex;\n",
       "      flex-wrap:wrap;\n",
       "      gap: 12px;\n",
       "    }\n",
       "\n",
       "    .colab-df-convert {\n",
       "      background-color: #E8F0FE;\n",
       "      border: none;\n",
       "      border-radius: 50%;\n",
       "      cursor: pointer;\n",
       "      display: none;\n",
       "      fill: #1967D2;\n",
       "      height: 32px;\n",
       "      padding: 0 0 0 0;\n",
       "      width: 32px;\n",
       "    }\n",
       "\n",
       "    .colab-df-convert:hover {\n",
       "      background-color: #E2EBFA;\n",
       "      box-shadow: 0px 1px 2px rgba(60, 64, 67, 0.3), 0px 1px 3px 1px rgba(60, 64, 67, 0.15);\n",
       "      fill: #174EA6;\n",
       "    }\n",
       "\n",
       "    [theme=dark] .colab-df-convert {\n",
       "      background-color: #3B4455;\n",
       "      fill: #D2E3FC;\n",
       "    }\n",
       "\n",
       "    [theme=dark] .colab-df-convert:hover {\n",
       "      background-color: #434B5C;\n",
       "      box-shadow: 0px 1px 3px 1px rgba(0, 0, 0, 0.15);\n",
       "      filter: drop-shadow(0px 1px 2px rgba(0, 0, 0, 0.3));\n",
       "      fill: #FFFFFF;\n",
       "    }\n",
       "  </style>\n",
       "\n",
       "      <script>\n",
       "        const buttonEl =\n",
       "          document.querySelector('#df-d1b3baf1-97d0-4593-b89b-5b245b82ffca button.colab-df-convert');\n",
       "        buttonEl.style.display =\n",
       "          google.colab.kernel.accessAllowed ? 'block' : 'none';\n",
       "\n",
       "        async function convertToInteractive(key) {\n",
       "          const element = document.querySelector('#df-d1b3baf1-97d0-4593-b89b-5b245b82ffca');\n",
       "          const dataTable =\n",
       "            await google.colab.kernel.invokeFunction('convertToInteractive',\n",
       "                                                     [key], {});\n",
       "          if (!dataTable) return;\n",
       "\n",
       "          const docLinkHtml = 'Like what you see? Visit the ' +\n",
       "            '<a target=\"_blank\" href=https://colab.research.google.com/notebooks/data_table.ipynb>data table notebook</a>'\n",
       "            + ' to learn more about interactive tables.';\n",
       "          element.innerHTML = '';\n",
       "          dataTable['output_type'] = 'display_data';\n",
       "          await google.colab.output.renderOutput(dataTable, element);\n",
       "          const docLink = document.createElement('div');\n",
       "          docLink.innerHTML = docLinkHtml;\n",
       "          element.appendChild(docLink);\n",
       "        }\n",
       "      </script>\n",
       "    </div>\n",
       "  </div>\n",
       "  "
      ],
      "text/plain": [
       "        eu_sales  jp_sales  na_sales\n",
       "rating                              \n",
       "M         250.26     26.14    308.45\n",
       "E         141.73     36.68    170.17\n",
       "E10+       78.00     11.23    117.72\n",
       "T          83.16     33.39    109.31\n",
       "EC          0.00      0.00      0.42\n",
       "RP          0.03      0.00      0.00"
      ]
     },
     "execution_count": 198,
     "metadata": {},
     "output_type": "execute_result"
    }
   ],
   "source": [
    "df.pivot_table(index='rating', values=['na_sales','eu_sales','jp_sales'],aggfunc='sum')\\\n",
    ".sort_values(by='na_sales',ascending=False)"
   ]
  },
  {
   "cell_type": "markdown",
   "metadata": {
    "id": "VNxJ1g5m-gNq"
   },
   "source": [
    "**Вывод** Опять видно что Европа и СевАмерика практически не отличаются. А вот в Японии другое распределение продаж по рейтингам.    \n",
    "\"Т\" (подростки) на втором месте, хотя EU и NA это только 4е"
   ]
  },
  {
   "cell_type": "markdown",
   "metadata": {
    "id": "jJ5yT_33-gNq"
   },
   "source": [
    "### 3.4 Оценка по играм"
   ]
  },
  {
   "cell_type": "code",
   "execution_count": null,
   "metadata": {
    "colab": {
     "base_uri": "https://localhost:8080/",
     "height": 394
    },
    "id": "KufrYMZl-gNq",
    "outputId": "88947cd9-88d5-46bf-8094-01c6022192b7"
   },
   "outputs": [
    {
     "data": {
      "text/html": [
       "\n",
       "  <div id=\"df-c7df9f40-98a7-4ac4-bd96-753e4e79f261\">\n",
       "    <div class=\"colab-df-container\">\n",
       "      <div>\n",
       "<style scoped>\n",
       "    .dataframe tbody tr th:only-of-type {\n",
       "        vertical-align: middle;\n",
       "    }\n",
       "\n",
       "    .dataframe tbody tr th {\n",
       "        vertical-align: top;\n",
       "    }\n",
       "\n",
       "    .dataframe thead th {\n",
       "        text-align: right;\n",
       "    }\n",
       "</style>\n",
       "<table border=\"1\" class=\"dataframe\">\n",
       "  <thead>\n",
       "    <tr style=\"text-align: right;\">\n",
       "      <th></th>\n",
       "      <th>eu_sales</th>\n",
       "      <th>jp_sales</th>\n",
       "      <th>na_sales</th>\n",
       "    </tr>\n",
       "    <tr>\n",
       "      <th>name</th>\n",
       "      <th></th>\n",
       "      <th></th>\n",
       "      <th></th>\n",
       "    </tr>\n",
       "  </thead>\n",
       "  <tbody>\n",
       "    <tr>\n",
       "      <th>Grand Theft Auto V</th>\n",
       "      <td>23.42</td>\n",
       "      <td>1.42</td>\n",
       "      <td>23.84</td>\n",
       "    </tr>\n",
       "    <tr>\n",
       "      <th>Call of Duty: Modern Warfare 3</th>\n",
       "      <td>11.15</td>\n",
       "      <td>0.62</td>\n",
       "      <td>15.54</td>\n",
       "    </tr>\n",
       "    <tr>\n",
       "      <th>Call of Duty: Ghosts</th>\n",
       "      <td>8.89</td>\n",
       "      <td>0.48</td>\n",
       "      <td>14.94</td>\n",
       "    </tr>\n",
       "    <tr>\n",
       "      <th>Call of Duty: Black Ops II</th>\n",
       "      <td>10.84</td>\n",
       "      <td>0.72</td>\n",
       "      <td>14.08</td>\n",
       "    </tr>\n",
       "    <tr>\n",
       "      <th>Call of Duty: Black Ops 3</th>\n",
       "      <td>9.49</td>\n",
       "      <td>0.44</td>\n",
       "      <td>12.25</td>\n",
       "    </tr>\n",
       "    <tr>\n",
       "      <th>Minecraft</th>\n",
       "      <td>8.75</td>\n",
       "      <td>1.24</td>\n",
       "      <td>11.28</td>\n",
       "    </tr>\n",
       "    <tr>\n",
       "      <th>Call of Duty: Advanced Warfare</th>\n",
       "      <td>8.30</td>\n",
       "      <td>0.34</td>\n",
       "      <td>10.51</td>\n",
       "    </tr>\n",
       "    <tr>\n",
       "      <th>The Elder Scrolls V: Skyrim</th>\n",
       "      <td>8.37</td>\n",
       "      <td>0.39</td>\n",
       "      <td>9.65</td>\n",
       "    </tr>\n",
       "    <tr>\n",
       "      <th>Battlefield 3</th>\n",
       "      <td>6.43</td>\n",
       "      <td>0.41</td>\n",
       "      <td>8.20</td>\n",
       "    </tr>\n",
       "    <tr>\n",
       "      <th>Just Dance 3</th>\n",
       "      <td>3.70</td>\n",
       "      <td>0.00</td>\n",
       "      <td>7.75</td>\n",
       "    </tr>\n",
       "  </tbody>\n",
       "</table>\n",
       "</div>\n",
       "      <button class=\"colab-df-convert\" onclick=\"convertToInteractive('df-c7df9f40-98a7-4ac4-bd96-753e4e79f261')\"\n",
       "              title=\"Convert this dataframe to an interactive table.\"\n",
       "              style=\"display:none;\">\n",
       "        \n",
       "  <svg xmlns=\"http://www.w3.org/2000/svg\" height=\"24px\"viewBox=\"0 0 24 24\"\n",
       "       width=\"24px\">\n",
       "    <path d=\"M0 0h24v24H0V0z\" fill=\"none\"/>\n",
       "    <path d=\"M18.56 5.44l.94 2.06.94-2.06 2.06-.94-2.06-.94-.94-2.06-.94 2.06-2.06.94zm-11 1L8.5 8.5l.94-2.06 2.06-.94-2.06-.94L8.5 2.5l-.94 2.06-2.06.94zm10 10l.94 2.06.94-2.06 2.06-.94-2.06-.94-.94-2.06-.94 2.06-2.06.94z\"/><path d=\"M17.41 7.96l-1.37-1.37c-.4-.4-.92-.59-1.43-.59-.52 0-1.04.2-1.43.59L10.3 9.45l-7.72 7.72c-.78.78-.78 2.05 0 2.83L4 21.41c.39.39.9.59 1.41.59.51 0 1.02-.2 1.41-.59l7.78-7.78 2.81-2.81c.8-.78.8-2.07 0-2.86zM5.41 20L4 18.59l7.72-7.72 1.47 1.35L5.41 20z\"/>\n",
       "  </svg>\n",
       "      </button>\n",
       "      \n",
       "  <style>\n",
       "    .colab-df-container {\n",
       "      display:flex;\n",
       "      flex-wrap:wrap;\n",
       "      gap: 12px;\n",
       "    }\n",
       "\n",
       "    .colab-df-convert {\n",
       "      background-color: #E8F0FE;\n",
       "      border: none;\n",
       "      border-radius: 50%;\n",
       "      cursor: pointer;\n",
       "      display: none;\n",
       "      fill: #1967D2;\n",
       "      height: 32px;\n",
       "      padding: 0 0 0 0;\n",
       "      width: 32px;\n",
       "    }\n",
       "\n",
       "    .colab-df-convert:hover {\n",
       "      background-color: #E2EBFA;\n",
       "      box-shadow: 0px 1px 2px rgba(60, 64, 67, 0.3), 0px 1px 3px 1px rgba(60, 64, 67, 0.15);\n",
       "      fill: #174EA6;\n",
       "    }\n",
       "\n",
       "    [theme=dark] .colab-df-convert {\n",
       "      background-color: #3B4455;\n",
       "      fill: #D2E3FC;\n",
       "    }\n",
       "\n",
       "    [theme=dark] .colab-df-convert:hover {\n",
       "      background-color: #434B5C;\n",
       "      box-shadow: 0px 1px 3px 1px rgba(0, 0, 0, 0.15);\n",
       "      filter: drop-shadow(0px 1px 2px rgba(0, 0, 0, 0.3));\n",
       "      fill: #FFFFFF;\n",
       "    }\n",
       "  </style>\n",
       "\n",
       "      <script>\n",
       "        const buttonEl =\n",
       "          document.querySelector('#df-c7df9f40-98a7-4ac4-bd96-753e4e79f261 button.colab-df-convert');\n",
       "        buttonEl.style.display =\n",
       "          google.colab.kernel.accessAllowed ? 'block' : 'none';\n",
       "\n",
       "        async function convertToInteractive(key) {\n",
       "          const element = document.querySelector('#df-c7df9f40-98a7-4ac4-bd96-753e4e79f261');\n",
       "          const dataTable =\n",
       "            await google.colab.kernel.invokeFunction('convertToInteractive',\n",
       "                                                     [key], {});\n",
       "          if (!dataTable) return;\n",
       "\n",
       "          const docLinkHtml = 'Like what you see? Visit the ' +\n",
       "            '<a target=\"_blank\" href=https://colab.research.google.com/notebooks/data_table.ipynb>data table notebook</a>'\n",
       "            + ' to learn more about interactive tables.';\n",
       "          element.innerHTML = '';\n",
       "          dataTable['output_type'] = 'display_data';\n",
       "          await google.colab.output.renderOutput(dataTable, element);\n",
       "          const docLink = document.createElement('div');\n",
       "          docLink.innerHTML = docLinkHtml;\n",
       "          element.appendChild(docLink);\n",
       "        }\n",
       "      </script>\n",
       "    </div>\n",
       "  </div>\n",
       "  "
      ],
      "text/plain": [
       "                                eu_sales  jp_sales  na_sales\n",
       "name                                                        \n",
       "Grand Theft Auto V                 23.42      1.42     23.84\n",
       "Call of Duty: Modern Warfare 3     11.15      0.62     15.54\n",
       "Call of Duty: Ghosts                8.89      0.48     14.94\n",
       "Call of Duty: Black Ops II         10.84      0.72     14.08\n",
       "Call of Duty: Black Ops 3           9.49      0.44     12.25\n",
       "Minecraft                           8.75      1.24     11.28\n",
       "Call of Duty: Advanced Warfare      8.30      0.34     10.51\n",
       "The Elder Scrolls V: Skyrim         8.37      0.39      9.65\n",
       "Battlefield 3                       6.43      0.41      8.20\n",
       "Just Dance 3                        3.70      0.00      7.75"
      ]
     },
     "execution_count": 199,
     "metadata": {},
     "output_type": "execute_result"
    }
   ],
   "source": [
    "# по регионам  в одно таблице, сортируем по NA,\n",
    "df.pivot_table(index='name', values=['na_sales', 'eu_sales','jp_sales'], aggfunc=('sum'))\\\n",
    ".sort_values(by='na_sales',ascending=False).head(10)"
   ]
  },
  {
   "cell_type": "code",
   "execution_count": null,
   "metadata": {
    "colab": {
     "base_uri": "https://localhost:8080/"
    },
    "id": "fRQo5wfr-gNq",
    "outputId": "b591b97f-5888-41b0-f0b2-81b33984996c"
   },
   "outputs": [
    {
     "data": {
      "text/plain": [
       "name\n",
       "Animal Crossing: New Leaf                    4.39\n",
       "Pokemon X/Pokemon Y                          4.35\n",
       "Monster Hunter 4                             3.44\n",
       "Super Smash Bros. for Wii U and 3DS          3.24\n",
       "Yokai Watch 2 Ganso/Honke                    3.18\n",
       "Pokemon Black 2/Pokemon White 2              3.14\n",
       "Pokemon Omega Ruby/Pokemon Alpha Sapphire    3.10\n",
       "Monster Hunter X                             2.79\n",
       "Mario Kart 7                                 2.69\n",
       "Yokai Watch 2 Shinuchi                       2.68\n",
       "Name: jp_sales, dtype: float64"
      ]
     },
     "execution_count": 200,
     "metadata": {},
     "output_type": "execute_result"
    }
   ],
   "source": [
    "# выделим Японию\n",
    "df.groupby('name')['jp_sales'].sum().sort_values(ascending=False).head(10)"
   ]
  },
  {
   "cell_type": "markdown",
   "metadata": {
    "id": "gOPo6gaL-gNq"
   },
   "source": [
    "Еще раз подтвердилось,ч то в Японии своя атмосфера. :) "
   ]
  },
  {
   "cell_type": "markdown",
   "metadata": {
    "id": "PYShBef4-gNq"
   },
   "source": [
    "**Общий вывод по п3.** Как видно Европа и Северная Америка схожи по предпочтениям, а Япония сильно отличается."
   ]
  },
  {
   "cell_type": "markdown",
   "metadata": {
    "id": "9xAdlHTF-gNq"
   },
   "source": [
    "## 4. Проверка гипотез.\n",
    "Средние пользовательские рейтинги платформ Xbox One и PC одинаковые;\n",
    "Средние пользовательские рейтинги жанров Action (англ. «действие», экшен-игры) и Sports (англ. «спортивные соревнования») разные.\n"
   ]
  },
  {
   "cell_type": "markdown",
   "metadata": {
    "id": "aOTgbCWd-gNq"
   },
   "source": [
    "### 4.1 Гипотеза1 : Средние пользовательские рейтинги платформ XOne и PC одинаковые.   \n",
    "Альтенативная гипотеза - отличаются.    \n",
    "Проверим Т тестом  на равество двух незавиимых совокупностей.\n",
    "ЧТобы гипотеза опороверглась  должно выполниться условие сильного различия выборок   \n",
    "results.pvalue < alpha - условие опровержения нулевой гипотезы"
   ]
  },
  {
   "cell_type": "code",
   "execution_count": null,
   "metadata": {
    "id": "8lheDUgF-gNr"
   },
   "outputs": [],
   "source": [
    "alpha = 0.05"
   ]
  },
  {
   "cell_type": "code",
   "execution_count": null,
   "metadata": {
    "id": "mWN70HjS-gNr"
   },
   "outputs": [],
   "source": [
    "#выборки  по платформам, выберем платформы, исключим NaN и\n",
    "# приcвоим переменным ,чтобы визуально упростить\n",
    "#через loc\n",
    "sample_1 = df.loc[(df['user_score'].notna()) & (df['platform'] =='XOne') , 'user_score' ]\n",
    "sample_2 = df.loc[(df['user_score'].notna()) & (df['platform'] =='PC') , 'user_score']"
   ]
  },
  {
   "cell_type": "code",
   "execution_count": null,
   "metadata": {
    "colab": {
     "base_uri": "https://localhost:8080/"
    },
    "id": "uIsR7TjN-gNr",
    "outputId": "69e7cf62-0a76-49ed-a22f-a57e6bdd046e"
   },
   "outputs": [
    {
     "data": {
      "text/plain": [
       "6.451791530944625"
      ]
     },
     "execution_count": 203,
     "metadata": {},
     "output_type": "execute_result"
    }
   ],
   "source": [
    "# для и интереса черз срез(тоже самое получается)\n",
    "#заодно посчитаем среднее\n",
    "df.query('platform == \"XOne\" and user_score >0')['user_score'].mean()\n",
    "df.query('platform == \"PC\" and user_score >0')['user_score'].mean()"
   ]
  },
  {
   "cell_type": "code",
   "execution_count": null,
   "metadata": {
    "colab": {
     "base_uri": "https://localhost:8080/"
    },
    "id": "D9i3o87y-gNr",
    "outputId": "8f9ffeba-d4d8-4598-eb8e-42d0bae86101"
   },
   "outputs": [
    {
     "name": "stdout",
     "output_type": "stream",
     "text": [
      "pvalue= 0.6267602271422398\n",
      "Не получилось отвергнуть нулевую гипотезу, а сл-но средние пользовательские рейтинги XOne и PC одинаковые\n"
     ]
    }
   ],
   "source": [
    "#применяем Т тест\n",
    "results = st.ttest_ind( sample_1,  sample_2)\n",
    "print('pvalue=', results.pvalue)\n",
    "if results.pvalue < alpha:\n",
    "    print('Отвергаем нулевую гипотезу,а сл-но средние пользовательские рейтинги XOne и PC разные\"')\n",
    "else:\n",
    "    print(\"Не получилось отвергнуть нулевую гипотезу, а сл-но средние пользовательские рейтинги XOne и PC одинаковые\")"
   ]
  },
  {
   "cell_type": "markdown",
   "metadata": {
    "id": "WtkMaae7-gNr"
   },
   "source": [
    "### 4.2 Гипотеза 2 Средние пользовательские рейтинги жанров Action  и Sports разные.\n",
    "Альтернативная гипотеза одинаковые. \n",
    "Тут обратная ситуация. чтобы  гипотеза опроверглась выборки  не дольжны сильно различаться.     \n",
    "results.pvalue > alpha  - условие отвергания нулевой гипотезы"
   ]
  },
  {
   "cell_type": "code",
   "execution_count": null,
   "metadata": {
    "id": "PX9ml13P-gNr"
   },
   "outputs": [],
   "source": [
    "#задаем совокупности\n",
    "sample_3 = df.query('genre == \"Action\" and user_score >0')['user_score']\n",
    "sample_4 = df.query('genre == \"Sports\" and user_score >0')['user_score']\n"
   ]
  },
  {
   "cell_type": "code",
   "execution_count": null,
   "metadata": {
    "colab": {
     "base_uri": "https://localhost:8080/"
    },
    "id": "fgfm2PSa-gNr",
    "outputId": "5f87917e-8344-4deb-e955-b494c646f5e4"
   },
   "outputs": [
    {
     "name": "stdout",
     "output_type": "stream",
     "text": [
      "pvalue= 5.1974550252152054e-24\n",
      "Не получилось отвергнуть нулевую гипотезу, а сл-но средние пользовательские рейтингижанров Action и Sports разные\n"
     ]
    }
   ],
   "source": [
    "#проводим тест\n",
    "results = st.ttest_ind( sample_3,  sample_4)\n",
    "print('pvalue=', results.pvalue)\n",
    "if results.pvalue > alpha:\n",
    "    print('Отвергаем нулевую гипотезу,а сл-но средние пользовательские рейтинги жанров Action и Sports одинаковые\"')\n",
    "else:\n",
    "    print(\"Не получилось отвергнуть нулевую гипотезу, а сл-но средние пользовательские рейтингижанров Action и Sports разные\")"
   ]
  },
  {
   "cell_type": "markdown",
   "metadata": {
    "id": "moCWZxEL-gNs"
   },
   "source": [
    "**Вывод по п 4**. После проведния Т тестов выйснилось,ч то средние  ретинги платформ XOne и PC одинаковые, а  средние рейтинги жанров Action и Sports разные."
   ]
  },
  {
   "cell_type": "markdown",
   "metadata": {
    "id": "sOvgGY4u-gNs"
   },
   "source": [
    "## Общий вывод"
   ]
  },
  {
   "cell_type": "markdown",
   "metadata": {
    "id": "K7S0gDCF-gNs"
   },
   "source": [
    "**Исследовательский анализ данных:**  \n",
    "После оценки выпускаигр по годам и платформам, было выявлено,чтовремя \"расцвета\" платформы 5-6 лет.На основании этого был выбран актуальные период  с 2011-2016 для анализа и прогнозирования на 2017 год.   \n",
    "Выявлены перспективными платформы на 2017: PS4 и XOne.    \n",
    "Выяснилось,что ретинги пользователей не влияют на продажи,а рейтинги критиков среднеее влияние имеют.\n",
    "В целом большинсво  игр продаются малым кол-вом копий 0.12млн (медиана), но есть и  удачные хиты, разлетающиеся десятками млн копий.\n",
    "Так же определен саммый массовые по кол-ву выпуска жанр - Action и самый прибыльный по кол-ву проданых копий Shooter.\n",
    "Самые ТОП продаж игры это GTA5 ГТА5 в топе продаж, а затем Сall of Duty в различных вариантах. Стоит ожидать от этих компаний и в 2017 хороших продаж.\n",
    "\n",
    "**Региональные предпочтения**\n",
    "Выяснилось,что  Европа и Северная Америка схожи по предпочтениям, а Япония сильно отличается. Надо учитывать при планировании продаж\\рекламе на 2017. ТО что хорошо продается в EU и NA, не факт пойдет в JP.\n",
    "\n",
    "**Проверка гипотез на основе польовательских рейтингов**\n",
    "При проверке гипотез выяснилсось, что пользовательские рейтинги для плтфплатформ XOne и PC одинаковые, а  средние рейтинги жанров Action и Sports разные."
   ]
  },
  {
   "cell_type": "code",
   "execution_count": null,
   "metadata": {
    "id": "7AofuDOm-gNs"
   },
   "outputs": [],
   "source": []
  }
 ],
 "metadata": {
  "ExecuteTimeLog": [
   {
    "duration": 65,
    "start_time": "2022-11-29T13:50:57.569Z"
   },
   {
    "duration": 394,
    "start_time": "2022-11-29T13:51:06.586Z"
   },
   {
    "duration": 95,
    "start_time": "2022-11-29T13:51:33.570Z"
   },
   {
    "duration": 24,
    "start_time": "2022-11-29T13:51:37.066Z"
   },
   {
    "duration": 2,
    "start_time": "2022-11-29T14:00:24.535Z"
   },
   {
    "duration": 12,
    "start_time": "2022-11-29T14:01:02.839Z"
   },
   {
    "duration": 63,
    "start_time": "2022-11-29T14:01:25.597Z"
   },
   {
    "duration": 14,
    "start_time": "2022-11-29T14:01:32.326Z"
   },
   {
    "duration": 60,
    "start_time": "2022-11-29T14:04:08.957Z"
   },
   {
    "duration": 6,
    "start_time": "2022-11-29T14:04:47.172Z"
   },
   {
    "duration": 5,
    "start_time": "2022-11-29T14:05:45.403Z"
   },
   {
    "duration": 3,
    "start_time": "2022-11-29T14:06:14.811Z"
   },
   {
    "duration": 8,
    "start_time": "2022-11-29T14:07:21.867Z"
   },
   {
    "duration": 23,
    "start_time": "2022-11-29T14:07:44.347Z"
   },
   {
    "duration": 3,
    "start_time": "2022-11-29T14:14:01.601Z"
   },
   {
    "duration": 3,
    "start_time": "2022-11-29T14:14:07.487Z"
   },
   {
    "duration": 7,
    "start_time": "2022-11-29T14:14:19.335Z"
   },
   {
    "duration": 7,
    "start_time": "2022-11-29T14:14:26.351Z"
   },
   {
    "duration": 7,
    "start_time": "2022-11-29T14:14:48.145Z"
   },
   {
    "duration": 4,
    "start_time": "2022-11-29T14:14:52.679Z"
   },
   {
    "duration": 20,
    "start_time": "2022-11-29T14:17:04.782Z"
   },
   {
    "duration": 18,
    "start_time": "2022-11-29T14:19:03.093Z"
   },
   {
    "duration": 11,
    "start_time": "2022-11-29T14:19:15.293Z"
   },
   {
    "duration": 30,
    "start_time": "2022-11-29T14:19:19.996Z"
   },
   {
    "duration": 88,
    "start_time": "2022-11-29T14:19:41.836Z"
   },
   {
    "duration": 69,
    "start_time": "2022-11-29T14:19:45.701Z"
   },
   {
    "duration": 19,
    "start_time": "2022-11-29T14:20:14.202Z"
   },
   {
    "duration": 63,
    "start_time": "2022-11-29T14:20:18.916Z"
   },
   {
    "duration": 13,
    "start_time": "2022-11-29T14:20:21.812Z"
   },
   {
    "duration": 25,
    "start_time": "2022-11-29T14:20:44.765Z"
   },
   {
    "duration": 32,
    "start_time": "2022-11-29T14:20:55.612Z"
   },
   {
    "duration": 20,
    "start_time": "2022-11-29T14:21:42.220Z"
   },
   {
    "duration": 67,
    "start_time": "2022-11-29T14:24:37.476Z"
   },
   {
    "duration": 68,
    "start_time": "2022-11-29T14:24:50.250Z"
   },
   {
    "duration": 14,
    "start_time": "2022-11-29T14:25:18.523Z"
   },
   {
    "duration": 22,
    "start_time": "2022-11-29T14:25:24.866Z"
   },
   {
    "duration": 13,
    "start_time": "2022-11-29T14:25:28.434Z"
   },
   {
    "duration": 52,
    "start_time": "2022-11-29T14:25:37.137Z"
   },
   {
    "duration": 13,
    "start_time": "2022-11-29T14:25:39.114Z"
   },
   {
    "duration": 2,
    "start_time": "2022-11-29T14:26:24.185Z"
   },
   {
    "duration": 11,
    "start_time": "2022-11-29T14:35:46.373Z"
   },
   {
    "duration": 6,
    "start_time": "2022-11-29T14:36:54.749Z"
   },
   {
    "duration": 18,
    "start_time": "2022-11-29T14:37:16.515Z"
   },
   {
    "duration": 17,
    "start_time": "2022-11-29T14:43:13.938Z"
   },
   {
    "duration": 18,
    "start_time": "2022-11-29T14:43:42.017Z"
   },
   {
    "duration": 19,
    "start_time": "2022-11-29T14:44:01.600Z"
   },
   {
    "duration": 19,
    "start_time": "2022-11-29T14:44:10.640Z"
   },
   {
    "duration": 15,
    "start_time": "2022-11-29T14:48:46.760Z"
   },
   {
    "duration": 7,
    "start_time": "2022-11-29T14:49:03.295Z"
   },
   {
    "duration": 8,
    "start_time": "2022-11-29T14:51:04.165Z"
   },
   {
    "duration": 4,
    "start_time": "2022-11-29T14:51:38.135Z"
   },
   {
    "duration": 6,
    "start_time": "2022-11-29T14:51:44.237Z"
   },
   {
    "duration": 5,
    "start_time": "2022-11-29T14:51:53.244Z"
   },
   {
    "duration": 6,
    "start_time": "2022-11-29T14:52:02.388Z"
   },
   {
    "duration": 5,
    "start_time": "2022-11-29T14:54:19.612Z"
   },
   {
    "duration": 5,
    "start_time": "2022-11-29T14:54:33.555Z"
   },
   {
    "duration": 5,
    "start_time": "2022-11-29T14:55:06.950Z"
   },
   {
    "duration": 15,
    "start_time": "2022-11-29T14:57:58.929Z"
   },
   {
    "duration": 18,
    "start_time": "2022-11-29T14:58:22.569Z"
   },
   {
    "duration": 5,
    "start_time": "2022-11-29T14:59:26.224Z"
   },
   {
    "duration": 5,
    "start_time": "2022-11-29T14:59:33.864Z"
   },
   {
    "duration": 20,
    "start_time": "2022-11-29T15:03:28.367Z"
   },
   {
    "duration": 23,
    "start_time": "2022-11-29T15:03:39.513Z"
   },
   {
    "duration": 32,
    "start_time": "2022-11-29T15:04:05.759Z"
   },
   {
    "duration": 17,
    "start_time": "2022-11-29T15:04:29.014Z"
   },
   {
    "duration": 98,
    "start_time": "2022-11-29T15:08:08.596Z"
   },
   {
    "duration": 12,
    "start_time": "2022-11-29T15:10:16.867Z"
   },
   {
    "duration": 7,
    "start_time": "2022-11-29T15:13:28.417Z"
   },
   {
    "duration": 15,
    "start_time": "2022-11-29T15:13:40.378Z"
   },
   {
    "duration": 59,
    "start_time": "2022-11-29T15:14:47.177Z"
   },
   {
    "duration": 8,
    "start_time": "2022-11-29T15:14:51.601Z"
   },
   {
    "duration": 10,
    "start_time": "2022-11-29T15:15:00.088Z"
   },
   {
    "duration": 15,
    "start_time": "2022-11-29T15:15:47.713Z"
   },
   {
    "duration": 5,
    "start_time": "2022-11-29T15:16:17.231Z"
   },
   {
    "duration": 5,
    "start_time": "2022-11-29T15:16:33.760Z"
   },
   {
    "duration": 4,
    "start_time": "2022-11-29T15:16:42.551Z"
   },
   {
    "duration": 8,
    "start_time": "2022-11-29T15:16:50.111Z"
   },
   {
    "duration": 14,
    "start_time": "2022-11-29T15:17:05.031Z"
   },
   {
    "duration": 7,
    "start_time": "2022-11-29T15:18:08.998Z"
   },
   {
    "duration": 11,
    "start_time": "2022-11-29T15:18:28.543Z"
   },
   {
    "duration": 8,
    "start_time": "2022-11-29T15:18:41.266Z"
   },
   {
    "duration": 7,
    "start_time": "2022-11-29T15:18:51.774Z"
   },
   {
    "duration": 9,
    "start_time": "2022-11-29T15:19:12.966Z"
   },
   {
    "duration": 5,
    "start_time": "2022-11-29T15:20:16.775Z"
   },
   {
    "duration": 5,
    "start_time": "2022-11-29T15:20:20.534Z"
   },
   {
    "duration": 18,
    "start_time": "2022-11-29T15:22:31.709Z"
   },
   {
    "duration": 17,
    "start_time": "2022-11-29T15:27:13.265Z"
   },
   {
    "duration": 6,
    "start_time": "2022-11-29T15:27:41.019Z"
   },
   {
    "duration": 22,
    "start_time": "2022-11-29T15:28:24.703Z"
   },
   {
    "duration": 9,
    "start_time": "2022-11-29T15:28:54.363Z"
   },
   {
    "duration": 9,
    "start_time": "2022-11-29T15:28:58.706Z"
   },
   {
    "duration": 9,
    "start_time": "2022-11-29T15:29:06.019Z"
   },
   {
    "duration": 41,
    "start_time": "2022-11-29T15:29:59.131Z"
   },
   {
    "duration": 11,
    "start_time": "2022-11-29T15:30:02.818Z"
   },
   {
    "duration": 18,
    "start_time": "2022-11-29T15:31:12.849Z"
   },
   {
    "duration": 6,
    "start_time": "2022-11-29T15:31:20.618Z"
   },
   {
    "duration": 9,
    "start_time": "2022-11-29T15:31:43.522Z"
   },
   {
    "duration": 9,
    "start_time": "2022-11-29T15:31:49.137Z"
   },
   {
    "duration": 7,
    "start_time": "2022-11-29T15:32:24.250Z"
   },
   {
    "duration": 6,
    "start_time": "2022-11-29T15:36:43.199Z"
   },
   {
    "duration": 762,
    "start_time": "2022-11-29T15:38:17.213Z"
   },
   {
    "duration": 71,
    "start_time": "2022-11-29T15:43:04.809Z"
   },
   {
    "duration": 20,
    "start_time": "2022-11-29T15:43:08.108Z"
   },
   {
    "duration": 5,
    "start_time": "2022-11-29T15:44:34.468Z"
   },
   {
    "duration": 19,
    "start_time": "2022-11-29T15:45:36.897Z"
   },
   {
    "duration": 16,
    "start_time": "2022-11-29T15:46:16.210Z"
   },
   {
    "duration": 14,
    "start_time": "2022-11-29T15:49:29.394Z"
   },
   {
    "duration": 24,
    "start_time": "2022-11-29T15:50:15.624Z"
   },
   {
    "duration": 7,
    "start_time": "2022-11-29T15:52:39.063Z"
   },
   {
    "duration": 13,
    "start_time": "2022-11-29T16:02:22.586Z"
   },
   {
    "duration": 17,
    "start_time": "2022-11-29T16:47:55.481Z"
   },
   {
    "duration": 6,
    "start_time": "2022-11-29T16:48:01.620Z"
   },
   {
    "duration": 7,
    "start_time": "2022-11-29T16:48:15.211Z"
   },
   {
    "duration": 5,
    "start_time": "2022-11-29T16:48:26.148Z"
   },
   {
    "duration": 8,
    "start_time": "2022-11-29T16:48:29.972Z"
   },
   {
    "duration": 7,
    "start_time": "2022-11-29T16:49:38.954Z"
   },
   {
    "duration": 8,
    "start_time": "2022-11-29T16:51:44.586Z"
   },
   {
    "duration": 8,
    "start_time": "2022-11-29T16:51:53.834Z"
   },
   {
    "duration": 8,
    "start_time": "2022-11-29T16:52:23.628Z"
   },
   {
    "duration": 9,
    "start_time": "2022-11-29T16:52:35.618Z"
   },
   {
    "duration": 5,
    "start_time": "2022-11-29T16:54:30.497Z"
   },
   {
    "duration": 9,
    "start_time": "2022-11-29T16:54:51.472Z"
   },
   {
    "duration": 5,
    "start_time": "2022-11-29T16:54:57.568Z"
   },
   {
    "duration": 13,
    "start_time": "2022-11-29T16:55:16.960Z"
   },
   {
    "duration": 3,
    "start_time": "2022-11-29T16:59:46.199Z"
   },
   {
    "duration": 4,
    "start_time": "2022-11-29T17:00:57.605Z"
   },
   {
    "duration": 8,
    "start_time": "2022-11-29T17:01:07.933Z"
   },
   {
    "duration": 15,
    "start_time": "2022-11-29T17:01:25.925Z"
   },
   {
    "duration": 32,
    "start_time": "2022-11-29T17:01:54.710Z"
   },
   {
    "duration": 112,
    "start_time": "2022-11-29T17:09:39.114Z"
   },
   {
    "duration": 3,
    "start_time": "2022-11-29T17:10:26.432Z"
   },
   {
    "duration": 208,
    "start_time": "2022-11-29T17:11:05.001Z"
   },
   {
    "duration": 159,
    "start_time": "2022-11-29T17:11:25.313Z"
   },
   {
    "duration": 168,
    "start_time": "2022-11-29T17:11:31.968Z"
   },
   {
    "duration": 159,
    "start_time": "2022-11-29T17:13:52.816Z"
   },
   {
    "duration": 157,
    "start_time": "2022-11-29T17:14:06.479Z"
   },
   {
    "duration": 158,
    "start_time": "2022-11-29T17:14:59.647Z"
   },
   {
    "duration": 7,
    "start_time": "2022-11-29T17:22:59.274Z"
   },
   {
    "duration": 6,
    "start_time": "2022-11-29T17:25:37.194Z"
   },
   {
    "duration": 8,
    "start_time": "2022-11-29T17:25:49.010Z"
   },
   {
    "duration": 10,
    "start_time": "2022-11-29T17:26:05.256Z"
   },
   {
    "duration": 12,
    "start_time": "2022-11-29T17:26:22.521Z"
   },
   {
    "duration": 7,
    "start_time": "2022-11-29T17:27:49.173Z"
   },
   {
    "duration": 17,
    "start_time": "2022-11-29T17:32:36.878Z"
   },
   {
    "duration": 0,
    "start_time": "2022-11-29T17:34:18.028Z"
   },
   {
    "duration": 34,
    "start_time": "2022-11-29T17:35:05.934Z"
   },
   {
    "duration": 8,
    "start_time": "2022-11-29T17:35:47.974Z"
   },
   {
    "duration": 139,
    "start_time": "2022-11-29T17:37:00.012Z"
   },
   {
    "duration": 110,
    "start_time": "2022-11-29T17:38:32.412Z"
   },
   {
    "duration": 119,
    "start_time": "2022-11-29T17:38:43.715Z"
   },
   {
    "duration": 111,
    "start_time": "2022-11-29T17:38:48.739Z"
   },
   {
    "duration": 8,
    "start_time": "2022-11-29T17:39:47.843Z"
   },
   {
    "duration": 7,
    "start_time": "2022-11-29T17:39:59.183Z"
   },
   {
    "duration": 8,
    "start_time": "2022-11-29T17:40:09.026Z"
   },
   {
    "duration": 8,
    "start_time": "2022-11-29T17:41:20.426Z"
   },
   {
    "duration": 114,
    "start_time": "2022-11-29T17:41:31.850Z"
   },
   {
    "duration": 167,
    "start_time": "2022-11-29T17:42:05.931Z"
   },
   {
    "duration": 8,
    "start_time": "2022-11-29T17:42:18.259Z"
   },
   {
    "duration": 7,
    "start_time": "2022-11-29T17:43:26.507Z"
   },
   {
    "duration": 19,
    "start_time": "2022-11-29T17:48:26.327Z"
   },
   {
    "duration": 14,
    "start_time": "2022-11-29T17:49:43.598Z"
   },
   {
    "duration": 16,
    "start_time": "2022-11-29T17:49:48.495Z"
   },
   {
    "duration": 44,
    "start_time": "2022-11-29T17:52:05.958Z"
   },
   {
    "duration": 9,
    "start_time": "2022-11-29T18:00:00.978Z"
   },
   {
    "duration": 15,
    "start_time": "2022-11-29T18:00:19.057Z"
   },
   {
    "duration": 59,
    "start_time": "2022-11-29T20:10:13.936Z"
   },
   {
    "duration": 52,
    "start_time": "2022-11-29T20:10:23.036Z"
   },
   {
    "duration": 148,
    "start_time": "2022-11-29T20:33:42.488Z"
   },
   {
    "duration": 3,
    "start_time": "2022-11-30T04:17:47.859Z"
   },
   {
    "duration": 790,
    "start_time": "2022-11-30T04:17:47.864Z"
   },
   {
    "duration": 111,
    "start_time": "2022-11-30T04:17:48.655Z"
   },
   {
    "duration": 13,
    "start_time": "2022-11-30T04:17:48.768Z"
   },
   {
    "duration": 2,
    "start_time": "2022-11-30T04:17:48.783Z"
   },
   {
    "duration": 14,
    "start_time": "2022-11-30T04:17:48.789Z"
   },
   {
    "duration": 12,
    "start_time": "2022-11-30T04:17:48.805Z"
   },
   {
    "duration": 19,
    "start_time": "2022-11-30T04:17:48.818Z"
   },
   {
    "duration": 4,
    "start_time": "2022-11-30T04:17:48.839Z"
   },
   {
    "duration": 10,
    "start_time": "2022-11-30T04:17:48.844Z"
   },
   {
    "duration": 9,
    "start_time": "2022-11-30T04:17:48.856Z"
   },
   {
    "duration": 17,
    "start_time": "2022-11-30T04:17:48.867Z"
   },
   {
    "duration": 20,
    "start_time": "2022-11-30T04:17:48.897Z"
   },
   {
    "duration": 11,
    "start_time": "2022-11-30T04:17:48.918Z"
   },
   {
    "duration": 5,
    "start_time": "2022-11-30T04:17:48.931Z"
   },
   {
    "duration": 49,
    "start_time": "2022-11-30T04:17:48.938Z"
   },
   {
    "duration": 214,
    "start_time": "2022-11-30T04:17:48.997Z"
   },
   {
    "duration": 7,
    "start_time": "2022-11-30T04:17:49.212Z"
   },
   {
    "duration": 19,
    "start_time": "2022-11-30T04:17:49.220Z"
   },
   {
    "duration": 2,
    "start_time": "2022-11-30T04:17:49.240Z"
   },
   {
    "duration": 84,
    "start_time": "2022-11-30T04:17:49.244Z"
   },
   {
    "duration": 52,
    "start_time": "2022-11-30T04:17:49.330Z"
   },
   {
    "duration": 125,
    "start_time": "2022-11-30T04:20:09.458Z"
   },
   {
    "duration": 172,
    "start_time": "2022-11-30T04:20:32.810Z"
   },
   {
    "duration": 524,
    "start_time": "2022-11-30T04:21:09.404Z"
   },
   {
    "duration": 18,
    "start_time": "2022-11-30T04:23:55.280Z"
   },
   {
    "duration": 11,
    "start_time": "2022-11-30T04:26:16.422Z"
   },
   {
    "duration": 3,
    "start_time": "2022-11-30T04:26:47.684Z"
   },
   {
    "duration": 7,
    "start_time": "2022-11-30T04:27:35.886Z"
   },
   {
    "duration": 7,
    "start_time": "2022-11-30T04:27:56.550Z"
   },
   {
    "duration": 10,
    "start_time": "2022-11-30T04:30:02.492Z"
   },
   {
    "duration": 100,
    "start_time": "2022-11-30T04:30:52.475Z"
   },
   {
    "duration": 6,
    "start_time": "2022-11-30T04:31:30.460Z"
   },
   {
    "duration": 21,
    "start_time": "2022-11-30T04:31:39.507Z"
   },
   {
    "duration": 11,
    "start_time": "2022-11-30T04:31:53.755Z"
   },
   {
    "duration": 2,
    "start_time": "2022-11-30T04:32:22.379Z"
   },
   {
    "duration": 14,
    "start_time": "2022-11-30T04:32:30.091Z"
   },
   {
    "duration": 8,
    "start_time": "2022-11-30T04:33:06.034Z"
   },
   {
    "duration": 8,
    "start_time": "2022-11-30T04:34:29.545Z"
   },
   {
    "duration": 8,
    "start_time": "2022-11-30T04:35:21.697Z"
   },
   {
    "duration": 7,
    "start_time": "2022-11-30T04:35:25.809Z"
   },
   {
    "duration": 216,
    "start_time": "2022-11-30T04:35:42.961Z"
   },
   {
    "duration": 249,
    "start_time": "2022-11-30T04:36:20.111Z"
   },
   {
    "duration": 310,
    "start_time": "2022-11-30T04:36:34.593Z"
   },
   {
    "duration": 232,
    "start_time": "2022-11-30T04:37:42.983Z"
   },
   {
    "duration": 543,
    "start_time": "2022-11-30T04:38:00.239Z"
   },
   {
    "duration": 241,
    "start_time": "2022-11-30T04:38:17.491Z"
   },
   {
    "duration": 8,
    "start_time": "2022-11-30T04:38:57.366Z"
   },
   {
    "duration": 8,
    "start_time": "2022-11-30T04:38:58.350Z"
   },
   {
    "duration": 266,
    "start_time": "2022-11-30T04:38:59.445Z"
   },
   {
    "duration": 7,
    "start_time": "2022-11-30T04:40:05.598Z"
   },
   {
    "duration": 144,
    "start_time": "2022-11-30T04:42:54.653Z"
   },
   {
    "duration": 171,
    "start_time": "2022-11-30T04:43:08.868Z"
   },
   {
    "duration": 8,
    "start_time": "2022-11-30T04:43:25.363Z"
   },
   {
    "duration": 8,
    "start_time": "2022-11-30T04:43:35.363Z"
   },
   {
    "duration": 360,
    "start_time": "2022-11-30T04:43:37.011Z"
   },
   {
    "duration": 378,
    "start_time": "2022-11-30T04:43:52.116Z"
   },
   {
    "duration": 261,
    "start_time": "2022-11-30T04:43:59.020Z"
   },
   {
    "duration": 7,
    "start_time": "2022-11-30T04:44:22.163Z"
   },
   {
    "duration": 8,
    "start_time": "2022-11-30T04:44:22.995Z"
   },
   {
    "duration": 260,
    "start_time": "2022-11-30T04:44:26.595Z"
   },
   {
    "duration": 255,
    "start_time": "2022-11-30T04:44:40.467Z"
   },
   {
    "duration": 8,
    "start_time": "2022-11-30T04:44:56.115Z"
   },
   {
    "duration": 237,
    "start_time": "2022-11-30T04:44:58.595Z"
   },
   {
    "duration": 21,
    "start_time": "2022-11-30T04:56:49.307Z"
   },
   {
    "duration": 7,
    "start_time": "2022-11-30T04:57:11.717Z"
   },
   {
    "duration": 7,
    "start_time": "2022-11-30T04:57:33.516Z"
   },
   {
    "duration": 7,
    "start_time": "2022-11-30T04:59:49.898Z"
   },
   {
    "duration": 2,
    "start_time": "2022-11-30T04:59:50.435Z"
   },
   {
    "duration": 4,
    "start_time": "2022-11-30T05:00:10.363Z"
   },
   {
    "duration": 339,
    "start_time": "2022-11-30T05:02:14.658Z"
   },
   {
    "duration": 7,
    "start_time": "2022-11-30T05:03:11.601Z"
   },
   {
    "duration": 5,
    "start_time": "2022-11-30T05:03:15.737Z"
   },
   {
    "duration": 259,
    "start_time": "2022-11-30T05:03:26.793Z"
   },
   {
    "duration": 49,
    "start_time": "2022-11-30T05:09:03.064Z"
   },
   {
    "duration": 58,
    "start_time": "2022-11-30T05:35:46.257Z"
   },
   {
    "duration": 220,
    "start_time": "2022-11-30T05:35:52.720Z"
   },
   {
    "duration": 61,
    "start_time": "2022-11-30T05:36:43.945Z"
   },
   {
    "duration": 814,
    "start_time": "2022-11-30T05:36:50.721Z"
   },
   {
    "duration": 62,
    "start_time": "2022-11-30T05:37:01.769Z"
   },
   {
    "duration": 16,
    "start_time": "2022-11-30T05:37:02.393Z"
   },
   {
    "duration": 2,
    "start_time": "2022-11-30T05:37:02.960Z"
   },
   {
    "duration": 14,
    "start_time": "2022-11-30T05:37:03.321Z"
   },
   {
    "duration": 19,
    "start_time": "2022-11-30T05:37:05.352Z"
   },
   {
    "duration": 17,
    "start_time": "2022-11-30T05:37:05.832Z"
   },
   {
    "duration": 6,
    "start_time": "2022-11-30T05:37:06.922Z"
   },
   {
    "duration": 11,
    "start_time": "2022-11-30T05:37:07.440Z"
   },
   {
    "duration": 6,
    "start_time": "2022-11-30T05:37:07.776Z"
   },
   {
    "duration": 6,
    "start_time": "2022-11-30T05:37:10.247Z"
   },
   {
    "duration": 27,
    "start_time": "2022-11-30T05:37:10.752Z"
   },
   {
    "duration": 9,
    "start_time": "2022-11-30T05:37:12.320Z"
   },
   {
    "duration": 5,
    "start_time": "2022-11-30T05:37:12.840Z"
   },
   {
    "duration": 30,
    "start_time": "2022-11-30T05:37:13.921Z"
   },
   {
    "duration": 203,
    "start_time": "2022-11-30T05:37:17.127Z"
   },
   {
    "duration": 181,
    "start_time": "2022-11-30T05:37:50.248Z"
   },
   {
    "duration": 199,
    "start_time": "2022-11-30T05:38:13.815Z"
   },
   {
    "duration": 185,
    "start_time": "2022-11-30T05:42:49.062Z"
   },
   {
    "duration": 3,
    "start_time": "2022-11-30T05:47:29.230Z"
   },
   {
    "duration": 570,
    "start_time": "2022-11-30T05:47:29.235Z"
   },
   {
    "duration": 66,
    "start_time": "2022-11-30T05:47:29.807Z"
   },
   {
    "duration": 14,
    "start_time": "2022-11-30T05:47:29.874Z"
   },
   {
    "duration": 5,
    "start_time": "2022-11-30T05:47:29.890Z"
   },
   {
    "duration": 22,
    "start_time": "2022-11-30T05:47:29.897Z"
   },
   {
    "duration": 17,
    "start_time": "2022-11-30T05:47:29.921Z"
   },
   {
    "duration": 26,
    "start_time": "2022-11-30T05:47:29.939Z"
   },
   {
    "duration": 5,
    "start_time": "2022-11-30T05:47:29.967Z"
   },
   {
    "duration": 27,
    "start_time": "2022-11-30T05:47:29.973Z"
   },
   {
    "duration": 6,
    "start_time": "2022-11-30T05:47:30.001Z"
   },
   {
    "duration": 15,
    "start_time": "2022-11-30T05:47:30.008Z"
   },
   {
    "duration": 31,
    "start_time": "2022-11-30T05:47:30.026Z"
   },
   {
    "duration": 10,
    "start_time": "2022-11-30T05:47:30.060Z"
   },
   {
    "duration": 29,
    "start_time": "2022-11-30T05:47:30.072Z"
   },
   {
    "duration": 50,
    "start_time": "2022-11-30T05:47:30.104Z"
   },
   {
    "duration": 210,
    "start_time": "2022-11-30T05:47:30.155Z"
   },
   {
    "duration": 10,
    "start_time": "2022-11-30T05:47:30.366Z"
   },
   {
    "duration": 19,
    "start_time": "2022-11-30T05:47:30.378Z"
   },
   {
    "duration": 24,
    "start_time": "2022-11-30T05:47:30.399Z"
   },
   {
    "duration": 62,
    "start_time": "2022-11-30T05:47:30.425Z"
   },
   {
    "duration": 310,
    "start_time": "2022-11-30T05:47:30.488Z"
   },
   {
    "duration": 8,
    "start_time": "2022-11-30T05:47:30.800Z"
   },
   {
    "duration": 23,
    "start_time": "2022-11-30T05:47:30.809Z"
   },
   {
    "duration": 317,
    "start_time": "2022-11-30T05:47:30.834Z"
   },
   {
    "duration": 2,
    "start_time": "2022-11-30T05:47:31.153Z"
   },
   {
    "duration": 23,
    "start_time": "2022-11-30T05:52:53.208Z"
   },
   {
    "duration": 8,
    "start_time": "2022-11-30T05:59:05.787Z"
   },
   {
    "duration": 20,
    "start_time": "2022-11-30T05:59:40.636Z"
   },
   {
    "duration": 1031,
    "start_time": "2022-11-30T06:00:41.061Z"
   },
   {
    "duration": 8,
    "start_time": "2022-11-30T06:03:44.700Z"
   },
   {
    "duration": 10,
    "start_time": "2022-11-30T06:04:14.307Z"
   },
   {
    "duration": 42,
    "start_time": "2022-11-30T06:07:15.114Z"
   },
   {
    "duration": 12,
    "start_time": "2022-11-30T06:07:30.745Z"
   },
   {
    "duration": 46,
    "start_time": "2022-11-30T06:10:36.736Z"
   },
   {
    "duration": 13,
    "start_time": "2022-11-30T06:11:35.639Z"
   },
   {
    "duration": 11,
    "start_time": "2022-11-30T06:11:44.999Z"
   },
   {
    "duration": 11,
    "start_time": "2022-11-30T06:12:27.911Z"
   },
   {
    "duration": 11,
    "start_time": "2022-11-30T06:12:46.991Z"
   },
   {
    "duration": 11,
    "start_time": "2022-11-30T06:13:03.294Z"
   },
   {
    "duration": 7,
    "start_time": "2022-11-30T06:17:11.341Z"
   },
   {
    "duration": 8,
    "start_time": "2022-11-30T06:17:18.052Z"
   },
   {
    "duration": 3,
    "start_time": "2022-11-30T06:18:48.409Z"
   },
   {
    "duration": 6,
    "start_time": "2022-11-30T06:20:38.931Z"
   },
   {
    "duration": 2,
    "start_time": "2022-11-30T06:20:44.371Z"
   },
   {
    "duration": 64,
    "start_time": "2022-11-30T06:20:45.457Z"
   },
   {
    "duration": 13,
    "start_time": "2022-11-30T06:20:45.763Z"
   },
   {
    "duration": 3,
    "start_time": "2022-11-30T06:20:46.005Z"
   },
   {
    "duration": 15,
    "start_time": "2022-11-30T06:20:46.211Z"
   },
   {
    "duration": 12,
    "start_time": "2022-11-30T06:20:46.738Z"
   },
   {
    "duration": 21,
    "start_time": "2022-11-30T06:20:46.898Z"
   },
   {
    "duration": 5,
    "start_time": "2022-11-30T06:20:50.243Z"
   },
   {
    "duration": 9,
    "start_time": "2022-11-30T06:20:52.227Z"
   },
   {
    "duration": 6,
    "start_time": "2022-11-30T06:20:52.723Z"
   },
   {
    "duration": 5,
    "start_time": "2022-11-30T06:21:06.723Z"
   },
   {
    "duration": 6,
    "start_time": "2022-11-30T06:21:16.747Z"
   },
   {
    "duration": 8,
    "start_time": "2022-11-30T06:21:35.850Z"
   },
   {
    "duration": 5,
    "start_time": "2022-11-30T06:21:40.570Z"
   },
   {
    "duration": 14,
    "start_time": "2022-11-30T06:21:59.690Z"
   },
   {
    "duration": 8,
    "start_time": "2022-11-30T06:22:23.578Z"
   },
   {
    "duration": 4,
    "start_time": "2022-11-30T06:24:36.225Z"
   },
   {
    "duration": 5,
    "start_time": "2022-11-30T06:24:45.233Z"
   },
   {
    "duration": 14,
    "start_time": "2022-11-30T06:24:55.411Z"
   },
   {
    "duration": 907,
    "start_time": "2022-11-30T06:25:50.352Z"
   },
   {
    "duration": 706,
    "start_time": "2022-11-30T06:26:09.392Z"
   },
   {
    "duration": 3,
    "start_time": "2022-11-30T06:26:16.392Z"
   },
   {
    "duration": 64,
    "start_time": "2022-11-30T06:26:16.880Z"
   },
   {
    "duration": 13,
    "start_time": "2022-11-30T06:26:17.023Z"
   },
   {
    "duration": 2,
    "start_time": "2022-11-30T06:26:17.151Z"
   },
   {
    "duration": 14,
    "start_time": "2022-11-30T06:26:17.311Z"
   },
   {
    "duration": 14,
    "start_time": "2022-11-30T06:26:17.744Z"
   },
   {
    "duration": 25,
    "start_time": "2022-11-30T06:26:17.888Z"
   },
   {
    "duration": 6,
    "start_time": "2022-11-30T06:26:18.667Z"
   },
   {
    "duration": 11,
    "start_time": "2022-11-30T06:26:18.943Z"
   },
   {
    "duration": 6,
    "start_time": "2022-11-30T06:26:19.224Z"
   },
   {
    "duration": 5,
    "start_time": "2022-11-30T06:26:23.507Z"
   },
   {
    "duration": 11,
    "start_time": "2022-11-30T06:27:16.655Z"
   },
   {
    "duration": 11,
    "start_time": "2022-11-30T06:28:19.175Z"
   },
   {
    "duration": 20,
    "start_time": "2022-11-30T06:28:25.656Z"
   },
   {
    "duration": 5,
    "start_time": "2022-11-30T06:30:36.950Z"
   },
   {
    "duration": 17,
    "start_time": "2022-11-30T06:30:43.774Z"
   },
   {
    "duration": 18,
    "start_time": "2022-11-30T06:31:22.935Z"
   },
   {
    "duration": 12,
    "start_time": "2022-11-30T06:31:30.038Z"
   },
   {
    "duration": 2,
    "start_time": "2022-11-30T06:32:48.597Z"
   },
   {
    "duration": 1037,
    "start_time": "2022-11-30T06:33:20.910Z"
   },
   {
    "duration": 4,
    "start_time": "2022-11-30T06:33:39.687Z"
   },
   {
    "duration": 629,
    "start_time": "2022-11-30T06:33:39.693Z"
   },
   {
    "duration": 68,
    "start_time": "2022-11-30T06:33:40.323Z"
   },
   {
    "duration": 25,
    "start_time": "2022-11-30T06:33:40.393Z"
   },
   {
    "duration": 37,
    "start_time": "2022-11-30T06:33:40.420Z"
   },
   {
    "duration": 56,
    "start_time": "2022-11-30T06:33:40.458Z"
   },
   {
    "duration": 29,
    "start_time": "2022-11-30T06:33:40.516Z"
   },
   {
    "duration": 42,
    "start_time": "2022-11-30T06:33:40.546Z"
   },
   {
    "duration": 50,
    "start_time": "2022-11-30T06:33:40.590Z"
   },
   {
    "duration": 53,
    "start_time": "2022-11-30T06:33:40.642Z"
   },
   {
    "duration": 34,
    "start_time": "2022-11-30T06:33:40.696Z"
   },
   {
    "duration": 42,
    "start_time": "2022-11-30T06:33:40.732Z"
   },
   {
    "duration": 53,
    "start_time": "2022-11-30T06:33:40.776Z"
   },
   {
    "duration": 30,
    "start_time": "2022-11-30T06:33:40.830Z"
   },
   {
    "duration": 48,
    "start_time": "2022-11-30T06:33:40.861Z"
   },
   {
    "duration": 41,
    "start_time": "2022-11-30T06:33:40.911Z"
   },
   {
    "duration": 55,
    "start_time": "2022-11-30T06:33:40.954Z"
   },
   {
    "duration": 202,
    "start_time": "2022-11-30T06:33:41.012Z"
   },
   {
    "duration": 8,
    "start_time": "2022-11-30T06:33:41.215Z"
   },
   {
    "duration": 35,
    "start_time": "2022-11-30T06:33:41.224Z"
   },
   {
    "duration": 50,
    "start_time": "2022-11-30T06:33:41.260Z"
   },
   {
    "duration": 37,
    "start_time": "2022-11-30T06:33:41.312Z"
   },
   {
    "duration": 279,
    "start_time": "2022-11-30T06:33:41.351Z"
   },
   {
    "duration": 9,
    "start_time": "2022-11-30T06:33:41.632Z"
   },
   {
    "duration": 73,
    "start_time": "2022-11-30T06:33:41.642Z"
   },
   {
    "duration": 319,
    "start_time": "2022-11-30T06:33:41.716Z"
   },
   {
    "duration": 286,
    "start_time": "2022-11-30T06:33:42.036Z"
   },
   {
    "duration": 0,
    "start_time": "2022-11-30T06:33:42.323Z"
   },
   {
    "duration": 7,
    "start_time": "2022-11-30T06:34:48.971Z"
   },
   {
    "duration": 3,
    "start_time": "2022-11-30T06:36:02.083Z"
   },
   {
    "duration": 602,
    "start_time": "2022-11-30T06:36:02.087Z"
   },
   {
    "duration": 65,
    "start_time": "2022-11-30T06:36:02.691Z"
   },
   {
    "duration": 13,
    "start_time": "2022-11-30T06:36:02.758Z"
   },
   {
    "duration": 38,
    "start_time": "2022-11-30T06:36:02.772Z"
   },
   {
    "duration": 25,
    "start_time": "2022-11-30T06:36:02.812Z"
   },
   {
    "duration": 15,
    "start_time": "2022-11-30T06:36:02.838Z"
   },
   {
    "duration": 21,
    "start_time": "2022-11-30T06:36:02.855Z"
   },
   {
    "duration": 24,
    "start_time": "2022-11-30T06:36:02.878Z"
   },
   {
    "duration": 22,
    "start_time": "2022-11-30T06:36:02.904Z"
   },
   {
    "duration": 13,
    "start_time": "2022-11-30T06:36:02.927Z"
   },
   {
    "duration": 11,
    "start_time": "2022-11-30T06:36:02.941Z"
   },
   {
    "duration": 25,
    "start_time": "2022-11-30T06:36:02.954Z"
   },
   {
    "duration": 18,
    "start_time": "2022-11-30T06:36:02.981Z"
   },
   {
    "duration": 13,
    "start_time": "2022-11-30T06:36:03.000Z"
   },
   {
    "duration": 25,
    "start_time": "2022-11-30T06:36:03.014Z"
   },
   {
    "duration": 28,
    "start_time": "2022-11-30T06:36:03.041Z"
   },
   {
    "duration": 175,
    "start_time": "2022-11-30T06:36:03.071Z"
   },
   {
    "duration": 9,
    "start_time": "2022-11-30T06:36:03.248Z"
   },
   {
    "duration": 10,
    "start_time": "2022-11-30T06:36:03.258Z"
   },
   {
    "duration": 12,
    "start_time": "2022-11-30T06:36:03.269Z"
   },
   {
    "duration": 21,
    "start_time": "2022-11-30T06:36:03.282Z"
   },
   {
    "duration": 265,
    "start_time": "2022-11-30T06:36:03.305Z"
   },
   {
    "duration": 7,
    "start_time": "2022-11-30T06:36:03.572Z"
   },
   {
    "duration": 8,
    "start_time": "2022-11-30T06:36:03.580Z"
   },
   {
    "duration": 268,
    "start_time": "2022-11-30T06:36:03.589Z"
   },
   {
    "duration": 10,
    "start_time": "2022-11-30T06:36:03.859Z"
   },
   {
    "duration": 9,
    "start_time": "2022-11-30T06:36:03.872Z"
   },
   {
    "duration": 14,
    "start_time": "2022-11-30T06:36:43.549Z"
   },
   {
    "duration": 7,
    "start_time": "2022-11-30T06:38:59.674Z"
   },
   {
    "duration": 138,
    "start_time": "2022-11-30T06:43:16.000Z"
   },
   {
    "duration": 194,
    "start_time": "2022-11-30T06:43:40.952Z"
   },
   {
    "duration": 145,
    "start_time": "2022-11-30T06:43:48.879Z"
   },
   {
    "duration": 133,
    "start_time": "2022-11-30T06:43:57.536Z"
   },
   {
    "duration": 141,
    "start_time": "2022-11-30T06:44:04.103Z"
   },
   {
    "duration": 131,
    "start_time": "2022-11-30T06:44:13.639Z"
   },
   {
    "duration": 130,
    "start_time": "2022-11-30T06:44:21.544Z"
   },
   {
    "duration": 126,
    "start_time": "2022-11-30T06:44:35.039Z"
   },
   {
    "duration": 255,
    "start_time": "2022-11-30T06:45:13.135Z"
   },
   {
    "duration": 265,
    "start_time": "2022-11-30T06:45:25.744Z"
   },
   {
    "duration": 316,
    "start_time": "2022-11-30T06:46:19.983Z"
   },
   {
    "duration": 424,
    "start_time": "2022-11-30T06:46:43.905Z"
   },
   {
    "duration": 367,
    "start_time": "2022-11-30T06:46:51.639Z"
   },
   {
    "duration": 362,
    "start_time": "2022-11-30T06:47:01.494Z"
   },
   {
    "duration": 231,
    "start_time": "2022-11-30T06:47:27.319Z"
   },
   {
    "duration": 52,
    "start_time": "2022-11-30T06:50:05.093Z"
   },
   {
    "duration": 5,
    "start_time": "2022-11-30T06:50:13.741Z"
   },
   {
    "duration": 392,
    "start_time": "2022-11-30T06:50:44.590Z"
   },
   {
    "duration": 10,
    "start_time": "2022-11-30T06:52:13.357Z"
   },
   {
    "duration": 11,
    "start_time": "2022-11-30T06:54:03.002Z"
   },
   {
    "duration": 12,
    "start_time": "2022-11-30T06:54:41.419Z"
   },
   {
    "duration": 243,
    "start_time": "2022-11-30T06:55:11.490Z"
   },
   {
    "duration": 19,
    "start_time": "2022-11-30T06:58:48.081Z"
   },
   {
    "duration": 6,
    "start_time": "2022-11-30T06:59:44.464Z"
   },
   {
    "duration": 131,
    "start_time": "2022-11-30T07:00:25.175Z"
   },
   {
    "duration": 119,
    "start_time": "2022-11-30T07:00:40.535Z"
   },
   {
    "duration": 9,
    "start_time": "2022-11-30T07:00:50.638Z"
   },
   {
    "duration": 6,
    "start_time": "2022-11-30T07:01:07.487Z"
   },
   {
    "duration": 17,
    "start_time": "2022-11-30T07:03:50.621Z"
   },
   {
    "duration": 8,
    "start_time": "2022-11-30T07:04:59.062Z"
   },
   {
    "duration": 78,
    "start_time": "2022-11-30T07:07:07.626Z"
   },
   {
    "duration": 20,
    "start_time": "2022-11-30T07:07:25.724Z"
   },
   {
    "duration": 19,
    "start_time": "2022-11-30T07:08:21.491Z"
   },
   {
    "duration": 20,
    "start_time": "2022-11-30T07:08:59.451Z"
   },
   {
    "duration": 28,
    "start_time": "2022-11-30T07:09:25.418Z"
   },
   {
    "duration": 18,
    "start_time": "2022-11-30T07:17:15.564Z"
   },
   {
    "duration": 26,
    "start_time": "2022-11-30T07:17:42.343Z"
   },
   {
    "duration": 47,
    "start_time": "2022-11-30T07:17:53.255Z"
   },
   {
    "duration": 49,
    "start_time": "2022-11-30T07:18:07.718Z"
   },
   {
    "duration": 21,
    "start_time": "2022-11-30T07:18:21.262Z"
   },
   {
    "duration": 49,
    "start_time": "2022-11-30T07:20:33.126Z"
   },
   {
    "duration": 1376,
    "start_time": "2022-12-01T09:25:56.196Z"
   },
   {
    "duration": 3,
    "start_time": "2022-12-01T09:26:06.184Z"
   },
   {
    "duration": 1236,
    "start_time": "2022-12-01T09:26:06.189Z"
   },
   {
    "duration": 202,
    "start_time": "2022-12-01T09:26:07.427Z"
   },
   {
    "duration": 22,
    "start_time": "2022-12-01T09:26:07.631Z"
   },
   {
    "duration": 4,
    "start_time": "2022-12-01T09:26:07.655Z"
   },
   {
    "duration": 22,
    "start_time": "2022-12-01T09:26:07.660Z"
   },
   {
    "duration": 16,
    "start_time": "2022-12-01T09:26:07.684Z"
   },
   {
    "duration": 24,
    "start_time": "2022-12-01T09:26:07.702Z"
   },
   {
    "duration": 28,
    "start_time": "2022-12-01T09:26:07.727Z"
   },
   {
    "duration": 13,
    "start_time": "2022-12-01T09:26:07.757Z"
   },
   {
    "duration": 6,
    "start_time": "2022-12-01T09:26:07.772Z"
   },
   {
    "duration": 5,
    "start_time": "2022-12-01T09:26:07.780Z"
   },
   {
    "duration": 30,
    "start_time": "2022-12-01T09:26:07.787Z"
   },
   {
    "duration": 37,
    "start_time": "2022-12-01T09:26:07.821Z"
   },
   {
    "duration": 19,
    "start_time": "2022-12-01T09:26:07.860Z"
   },
   {
    "duration": 15,
    "start_time": "2022-12-01T09:26:07.881Z"
   },
   {
    "duration": 37,
    "start_time": "2022-12-01T09:26:07.899Z"
   },
   {
    "duration": 230,
    "start_time": "2022-12-01T09:26:07.938Z"
   },
   {
    "duration": 10,
    "start_time": "2022-12-01T09:26:08.170Z"
   },
   {
    "duration": 7,
    "start_time": "2022-12-01T09:26:08.182Z"
   },
   {
    "duration": 23,
    "start_time": "2022-12-01T09:26:08.191Z"
   },
   {
    "duration": 11,
    "start_time": "2022-12-01T09:26:08.216Z"
   },
   {
    "duration": 320,
    "start_time": "2022-12-01T09:26:08.229Z"
   },
   {
    "duration": 9,
    "start_time": "2022-12-01T09:26:08.550Z"
   },
   {
    "duration": 10,
    "start_time": "2022-12-01T09:26:08.561Z"
   },
   {
    "duration": 344,
    "start_time": "2022-12-01T09:26:08.573Z"
   },
   {
    "duration": 118,
    "start_time": "2022-12-01T09:26:08.919Z"
   },
   {
    "duration": 0,
    "start_time": "2022-12-01T09:26:09.039Z"
   },
   {
    "duration": 0,
    "start_time": "2022-12-01T09:26:09.040Z"
   },
   {
    "duration": 0,
    "start_time": "2022-12-01T09:26:09.042Z"
   },
   {
    "duration": 0,
    "start_time": "2022-12-01T09:26:09.050Z"
   },
   {
    "duration": 0,
    "start_time": "2022-12-01T09:26:09.051Z"
   },
   {
    "duration": 0,
    "start_time": "2022-12-01T09:26:09.053Z"
   },
   {
    "duration": 0,
    "start_time": "2022-12-01T09:26:09.054Z"
   },
   {
    "duration": 22,
    "start_time": "2022-12-01T09:26:32.277Z"
   },
   {
    "duration": 269,
    "start_time": "2022-12-01T09:29:31.562Z"
   },
   {
    "duration": 134,
    "start_time": "2022-12-01T09:30:59.145Z"
   },
   {
    "duration": 342,
    "start_time": "2022-12-01T09:31:56.067Z"
   },
   {
    "duration": 290,
    "start_time": "2022-12-01T09:32:05.464Z"
   },
   {
    "duration": 260,
    "start_time": "2022-12-01T09:33:13.017Z"
   },
   {
    "duration": 126,
    "start_time": "2022-12-01T09:35:31.895Z"
   },
   {
    "duration": 973,
    "start_time": "2022-12-01T09:38:57.711Z"
   },
   {
    "duration": 24,
    "start_time": "2022-12-01T09:40:18.069Z"
   },
   {
    "duration": 5,
    "start_time": "2022-12-01T09:42:32.741Z"
   },
   {
    "duration": 7,
    "start_time": "2022-12-01T09:43:07.731Z"
   },
   {
    "duration": 7,
    "start_time": "2022-12-01T09:44:53.500Z"
   },
   {
    "duration": 7,
    "start_time": "2022-12-01T09:45:07.904Z"
   },
   {
    "duration": 7,
    "start_time": "2022-12-01T09:46:35.095Z"
   },
   {
    "duration": 7,
    "start_time": "2022-12-01T09:47:21.002Z"
   },
   {
    "duration": 8,
    "start_time": "2022-12-01T09:56:36.979Z"
   },
   {
    "duration": 7,
    "start_time": "2022-12-01T09:56:58.534Z"
   },
   {
    "duration": 8,
    "start_time": "2022-12-01T09:58:03.204Z"
   },
   {
    "duration": 23,
    "start_time": "2022-12-01T10:04:09.841Z"
   },
   {
    "duration": 19,
    "start_time": "2022-12-01T10:05:50.671Z"
   },
   {
    "duration": 15,
    "start_time": "2022-12-01T10:06:06.201Z"
   },
   {
    "duration": 17,
    "start_time": "2022-12-01T10:06:13.298Z"
   },
   {
    "duration": 314,
    "start_time": "2022-12-01T10:06:52.673Z"
   },
   {
    "duration": 18,
    "start_time": "2022-12-01T10:07:00.353Z"
   },
   {
    "duration": 1150,
    "start_time": "2022-12-01T10:07:23.360Z"
   },
   {
    "duration": 23,
    "start_time": "2022-12-01T10:07:35.034Z"
   },
   {
    "duration": 23,
    "start_time": "2022-12-01T10:07:42.585Z"
   },
   {
    "duration": 1183,
    "start_time": "2022-12-01T10:07:58.168Z"
   },
   {
    "duration": 17,
    "start_time": "2022-12-01T10:08:06.880Z"
   },
   {
    "duration": 25,
    "start_time": "2022-12-01T10:09:13.176Z"
   },
   {
    "duration": 17,
    "start_time": "2022-12-01T10:09:47.698Z"
   },
   {
    "duration": 4,
    "start_time": "2022-12-01T10:17:30.201Z"
   },
   {
    "duration": 1193,
    "start_time": "2022-12-01T10:17:30.207Z"
   },
   {
    "duration": 79,
    "start_time": "2022-12-01T10:17:31.402Z"
   },
   {
    "duration": 16,
    "start_time": "2022-12-01T10:17:31.483Z"
   },
   {
    "duration": 7,
    "start_time": "2022-12-01T10:17:31.502Z"
   },
   {
    "duration": 30,
    "start_time": "2022-12-01T10:17:31.511Z"
   },
   {
    "duration": 20,
    "start_time": "2022-12-01T10:17:31.543Z"
   },
   {
    "duration": 22,
    "start_time": "2022-12-01T10:17:31.564Z"
   },
   {
    "duration": 6,
    "start_time": "2022-12-01T10:17:31.588Z"
   },
   {
    "duration": 16,
    "start_time": "2022-12-01T10:17:31.596Z"
   },
   {
    "duration": 12,
    "start_time": "2022-12-01T10:17:31.614Z"
   },
   {
    "duration": 34,
    "start_time": "2022-12-01T10:17:31.628Z"
   },
   {
    "duration": 28,
    "start_time": "2022-12-01T10:17:31.664Z"
   },
   {
    "duration": 9,
    "start_time": "2022-12-01T10:17:31.695Z"
   },
   {
    "duration": 10,
    "start_time": "2022-12-01T10:17:31.706Z"
   },
   {
    "duration": 12,
    "start_time": "2022-12-01T10:17:31.718Z"
   },
   {
    "duration": 43,
    "start_time": "2022-12-01T10:17:31.732Z"
   },
   {
    "duration": 214,
    "start_time": "2022-12-01T10:17:31.776Z"
   },
   {
    "duration": 8,
    "start_time": "2022-12-01T10:17:31.992Z"
   },
   {
    "duration": 14,
    "start_time": "2022-12-01T10:17:32.002Z"
   },
   {
    "duration": 12,
    "start_time": "2022-12-01T10:17:32.018Z"
   },
   {
    "duration": 20,
    "start_time": "2022-12-01T10:17:32.032Z"
   },
   {
    "duration": 295,
    "start_time": "2022-12-01T10:17:32.053Z"
   },
   {
    "duration": 8,
    "start_time": "2022-12-01T10:17:32.350Z"
   },
   {
    "duration": 5,
    "start_time": "2022-12-01T10:17:32.360Z"
   },
   {
    "duration": 333,
    "start_time": "2022-12-01T10:17:32.366Z"
   },
   {
    "duration": 278,
    "start_time": "2022-12-01T10:17:32.701Z"
   },
   {
    "duration": 12,
    "start_time": "2022-12-01T10:17:32.981Z"
   },
   {
    "duration": 290,
    "start_time": "2022-12-01T10:17:32.994Z"
   },
   {
    "duration": 12,
    "start_time": "2022-12-01T10:17:33.286Z"
   },
   {
    "duration": 365,
    "start_time": "2022-12-01T10:17:33.300Z"
   },
   {
    "duration": 6,
    "start_time": "2022-12-01T10:17:33.667Z"
   },
   {
    "duration": 23,
    "start_time": "2022-12-01T10:17:33.674Z"
   },
   {
    "duration": 22,
    "start_time": "2022-12-01T10:17:33.699Z"
   },
   {
    "duration": 31,
    "start_time": "2022-12-01T10:17:33.723Z"
   },
   {
    "duration": 9,
    "start_time": "2022-12-01T10:17:33.756Z"
   },
   {
    "duration": 7,
    "start_time": "2022-12-01T10:17:33.766Z"
   },
   {
    "duration": 9,
    "start_time": "2022-12-01T10:17:33.774Z"
   },
   {
    "duration": 7,
    "start_time": "2022-12-01T10:17:33.784Z"
   },
   {
    "duration": 10,
    "start_time": "2022-12-01T10:17:33.793Z"
   },
   {
    "duration": 46,
    "start_time": "2022-12-01T10:17:33.806Z"
   },
   {
    "duration": 22,
    "start_time": "2022-12-01T10:30:53.006Z"
   },
   {
    "duration": 75,
    "start_time": "2022-12-01T10:32:43.748Z"
   },
   {
    "duration": 76,
    "start_time": "2022-12-01T10:33:10.261Z"
   },
   {
    "duration": 110,
    "start_time": "2022-12-01T10:33:33.508Z"
   },
   {
    "duration": 37,
    "start_time": "2022-12-01T10:33:42.428Z"
   },
   {
    "duration": 9,
    "start_time": "2022-12-01T10:33:57.718Z"
   },
   {
    "duration": 7,
    "start_time": "2022-12-01T10:34:02.437Z"
   },
   {
    "duration": 9,
    "start_time": "2022-12-01T10:36:54.673Z"
   },
   {
    "duration": 15,
    "start_time": "2022-12-01T10:37:09.027Z"
   },
   {
    "duration": 16,
    "start_time": "2022-12-01T10:38:23.075Z"
   },
   {
    "duration": 4,
    "start_time": "2022-12-01T10:41:54.681Z"
   },
   {
    "duration": 16,
    "start_time": "2022-12-01T10:42:04.848Z"
   },
   {
    "duration": 4,
    "start_time": "2022-12-01T10:42:15.934Z"
   },
   {
    "duration": 15,
    "start_time": "2022-12-01T10:46:34.665Z"
   },
   {
    "duration": 13,
    "start_time": "2022-12-01T10:46:41.207Z"
   },
   {
    "duration": 10,
    "start_time": "2022-12-01T10:48:09.381Z"
   },
   {
    "duration": 14,
    "start_time": "2022-12-01T10:50:15.317Z"
   },
   {
    "duration": 70,
    "start_time": "2022-12-01T10:52:25.940Z"
   },
   {
    "duration": 401,
    "start_time": "2022-12-01T10:52:44.587Z"
   },
   {
    "duration": 9,
    "start_time": "2022-12-01T10:53:12.043Z"
   },
   {
    "duration": 90,
    "start_time": "2022-12-01T10:53:17.940Z"
   },
   {
    "duration": 76,
    "start_time": "2022-12-01T10:54:02.091Z"
   },
   {
    "duration": 9,
    "start_time": "2022-12-01T10:54:18.082Z"
   },
   {
    "duration": 8,
    "start_time": "2022-12-01T10:54:52.394Z"
   },
   {
    "duration": 26,
    "start_time": "2022-12-01T10:55:51.434Z"
   },
   {
    "duration": 10,
    "start_time": "2022-12-01T10:56:12.849Z"
   },
   {
    "duration": 7,
    "start_time": "2022-12-01T10:56:36.250Z"
   },
   {
    "duration": 12,
    "start_time": "2022-12-01T10:58:20.112Z"
   },
   {
    "duration": 7,
    "start_time": "2022-12-01T10:58:24.584Z"
   },
   {
    "duration": 5,
    "start_time": "2022-12-01T10:59:13.632Z"
   },
   {
    "duration": 5,
    "start_time": "2022-12-01T10:59:19.368Z"
   },
   {
    "duration": 3,
    "start_time": "2022-12-01T11:00:34.025Z"
   },
   {
    "duration": 4,
    "start_time": "2022-12-01T11:01:28.135Z"
   },
   {
    "duration": 5,
    "start_time": "2022-12-01T11:03:12.159Z"
   },
   {
    "duration": 4,
    "start_time": "2022-12-01T11:03:28.582Z"
   },
   {
    "duration": 8,
    "start_time": "2022-12-01T11:04:43.382Z"
   },
   {
    "duration": 11,
    "start_time": "2022-12-01T11:04:54.612Z"
   },
   {
    "duration": 5,
    "start_time": "2022-12-01T11:05:04.574Z"
   },
   {
    "duration": 9,
    "start_time": "2022-12-01T11:07:42.820Z"
   },
   {
    "duration": 91,
    "start_time": "2022-12-01T11:08:07.348Z"
   },
   {
    "duration": 74,
    "start_time": "2022-12-01T11:08:43.052Z"
   },
   {
    "duration": 5,
    "start_time": "2022-12-01T11:09:01.027Z"
   },
   {
    "duration": 24,
    "start_time": "2022-12-01T11:21:04.702Z"
   },
   {
    "duration": 7,
    "start_time": "2022-12-01T11:22:02.645Z"
   },
   {
    "duration": 7,
    "start_time": "2022-12-01T11:22:17.581Z"
   },
   {
    "duration": 10,
    "start_time": "2022-12-01T11:22:22.894Z"
   },
   {
    "duration": 7,
    "start_time": "2022-12-01T11:22:25.004Z"
   },
   {
    "duration": 8,
    "start_time": "2022-12-01T11:22:30.510Z"
   },
   {
    "duration": 6,
    "start_time": "2022-12-01T11:24:04.396Z"
   },
   {
    "duration": 5,
    "start_time": "2022-12-01T11:24:21.492Z"
   },
   {
    "duration": 6,
    "start_time": "2022-12-01T11:25:15.420Z"
   },
   {
    "duration": 8,
    "start_time": "2022-12-01T11:25:24.636Z"
   },
   {
    "duration": 7,
    "start_time": "2022-12-01T11:25:26.715Z"
   },
   {
    "duration": 11,
    "start_time": "2022-12-01T11:26:30.043Z"
   },
   {
    "duration": 7,
    "start_time": "2022-12-01T11:27:50.267Z"
   },
   {
    "duration": 6,
    "start_time": "2022-12-01T11:29:10.066Z"
   },
   {
    "duration": 8,
    "start_time": "2022-12-01T11:29:19.635Z"
   },
   {
    "duration": 4,
    "start_time": "2022-12-01T11:29:21.978Z"
   },
   {
    "duration": 7,
    "start_time": "2022-12-01T11:29:33.668Z"
   },
   {
    "duration": 9,
    "start_time": "2022-12-01T11:29:38.786Z"
   },
   {
    "duration": 15,
    "start_time": "2022-12-01T11:29:59.769Z"
   },
   {
    "duration": 10,
    "start_time": "2022-12-01T11:30:03.367Z"
   },
   {
    "duration": 12,
    "start_time": "2022-12-01T11:30:19.690Z"
   },
   {
    "duration": 5,
    "start_time": "2022-12-01T11:30:26.889Z"
   },
   {
    "duration": 1234,
    "start_time": "2022-12-01T11:37:37.718Z"
   },
   {
    "duration": 10,
    "start_time": "2022-12-01T11:37:49.325Z"
   },
   {
    "duration": 6,
    "start_time": "2022-12-01T11:40:02.963Z"
   },
   {
    "duration": 9,
    "start_time": "2022-12-01T11:40:56.349Z"
   },
   {
    "duration": 103,
    "start_time": "2022-12-01T11:42:46.099Z"
   },
   {
    "duration": 11,
    "start_time": "2022-12-01T11:44:42.707Z"
   },
   {
    "duration": 26,
    "start_time": "2022-12-01T11:44:50.394Z"
   },
   {
    "duration": 19,
    "start_time": "2022-12-01T11:45:08.744Z"
   },
   {
    "duration": 73,
    "start_time": "2022-12-01T11:49:12.309Z"
   },
   {
    "duration": 137,
    "start_time": "2022-12-01T11:49:16.625Z"
   },
   {
    "duration": 23,
    "start_time": "2022-12-01T11:50:00.729Z"
   },
   {
    "duration": 12,
    "start_time": "2022-12-01T11:51:49.373Z"
   },
   {
    "duration": 14,
    "start_time": "2022-12-01T11:52:54.563Z"
   },
   {
    "duration": 29,
    "start_time": "2022-12-01T11:54:16.188Z"
   },
   {
    "duration": 28,
    "start_time": "2022-12-01T11:55:42.781Z"
   },
   {
    "duration": 19,
    "start_time": "2022-12-01T11:55:54.783Z"
   },
   {
    "duration": 13,
    "start_time": "2022-12-01T11:57:11.604Z"
   },
   {
    "duration": 30,
    "start_time": "2022-12-01T11:58:10.867Z"
   },
   {
    "duration": 1279,
    "start_time": "2022-12-02T04:39:56.385Z"
   },
   {
    "duration": 118,
    "start_time": "2022-12-02T04:39:57.666Z"
   },
   {
    "duration": 14,
    "start_time": "2022-12-02T04:39:57.786Z"
   },
   {
    "duration": 2,
    "start_time": "2022-12-02T04:39:58.168Z"
   },
   {
    "duration": 15,
    "start_time": "2022-12-02T04:39:58.369Z"
   },
   {
    "duration": 13,
    "start_time": "2022-12-02T04:40:00.271Z"
   },
   {
    "duration": 17,
    "start_time": "2022-12-02T04:40:00.528Z"
   },
   {
    "duration": 5,
    "start_time": "2022-12-02T04:40:01.736Z"
   },
   {
    "duration": 8,
    "start_time": "2022-12-02T04:40:01.952Z"
   },
   {
    "duration": 6,
    "start_time": "2022-12-02T04:40:02.871Z"
   },
   {
    "duration": 5,
    "start_time": "2022-12-02T04:40:05.640Z"
   },
   {
    "duration": 22,
    "start_time": "2022-12-02T04:40:05.856Z"
   },
   {
    "duration": 9,
    "start_time": "2022-12-02T04:40:06.967Z"
   },
   {
    "duration": 6,
    "start_time": "2022-12-02T04:40:07.399Z"
   },
   {
    "duration": 7,
    "start_time": "2022-12-02T04:40:07.912Z"
   },
   {
    "duration": 28,
    "start_time": "2022-12-02T04:40:09.912Z"
   },
   {
    "duration": 46,
    "start_time": "2022-12-02T04:42:25.943Z"
   },
   {
    "duration": 97,
    "start_time": "2022-12-02T04:47:44.004Z"
   },
   {
    "duration": 1194,
    "start_time": "2022-12-02T04:47:56.995Z"
   },
   {
    "duration": 65,
    "start_time": "2022-12-02T04:47:58.191Z"
   },
   {
    "duration": 14,
    "start_time": "2022-12-02T04:47:58.257Z"
   },
   {
    "duration": 5,
    "start_time": "2022-12-02T04:47:58.272Z"
   },
   {
    "duration": 19,
    "start_time": "2022-12-02T04:47:58.278Z"
   },
   {
    "duration": 12,
    "start_time": "2022-12-02T04:47:58.298Z"
   },
   {
    "duration": 23,
    "start_time": "2022-12-02T04:47:58.312Z"
   },
   {
    "duration": 5,
    "start_time": "2022-12-02T04:47:58.337Z"
   },
   {
    "duration": 18,
    "start_time": "2022-12-02T04:47:58.343Z"
   },
   {
    "duration": 6,
    "start_time": "2022-12-02T04:47:58.363Z"
   },
   {
    "duration": 27,
    "start_time": "2022-12-02T04:47:58.370Z"
   },
   {
    "duration": 20,
    "start_time": "2022-12-02T04:47:58.399Z"
   },
   {
    "duration": 8,
    "start_time": "2022-12-02T04:47:58.421Z"
   },
   {
    "duration": 6,
    "start_time": "2022-12-02T04:47:58.430Z"
   },
   {
    "duration": 7,
    "start_time": "2022-12-02T04:47:58.438Z"
   },
   {
    "duration": 52,
    "start_time": "2022-12-02T04:47:58.447Z"
   },
   {
    "duration": 190,
    "start_time": "2022-12-02T04:47:58.501Z"
   },
   {
    "duration": 9,
    "start_time": "2022-12-02T04:47:58.692Z"
   },
   {
    "duration": 6,
    "start_time": "2022-12-02T04:47:58.703Z"
   },
   {
    "duration": 11,
    "start_time": "2022-12-02T04:47:58.710Z"
   },
   {
    "duration": 15,
    "start_time": "2022-12-02T04:47:58.722Z"
   },
   {
    "duration": 271,
    "start_time": "2022-12-02T04:47:58.739Z"
   },
   {
    "duration": 9,
    "start_time": "2022-12-02T04:47:59.012Z"
   },
   {
    "duration": 13,
    "start_time": "2022-12-02T04:47:59.022Z"
   },
   {
    "duration": 300,
    "start_time": "2022-12-02T04:47:59.036Z"
   },
   {
    "duration": 235,
    "start_time": "2022-12-02T04:47:59.338Z"
   },
   {
    "duration": 8,
    "start_time": "2022-12-02T04:47:59.575Z"
   },
   {
    "duration": 10,
    "start_time": "2022-12-02T04:47:59.597Z"
   },
   {
    "duration": 256,
    "start_time": "2022-12-02T04:47:59.608Z"
   },
   {
    "duration": 10,
    "start_time": "2022-12-02T04:47:59.866Z"
   },
   {
    "duration": 375,
    "start_time": "2022-12-02T04:47:59.878Z"
   },
   {
    "duration": 6,
    "start_time": "2022-12-02T04:48:00.254Z"
   },
   {
    "duration": 20,
    "start_time": "2022-12-02T04:48:00.262Z"
   },
   {
    "duration": 30,
    "start_time": "2022-12-02T04:48:00.284Z"
   },
   {
    "duration": 8,
    "start_time": "2022-12-02T04:48:00.316Z"
   },
   {
    "duration": 35,
    "start_time": "2022-12-02T04:48:00.325Z"
   },
   {
    "duration": 16,
    "start_time": "2022-12-02T04:48:00.361Z"
   },
   {
    "duration": 18,
    "start_time": "2022-12-02T04:48:00.379Z"
   },
   {
    "duration": 24,
    "start_time": "2022-12-02T04:48:00.398Z"
   },
   {
    "duration": 12,
    "start_time": "2022-12-02T04:48:00.424Z"
   },
   {
    "duration": 9,
    "start_time": "2022-12-02T04:48:00.437Z"
   },
   {
    "duration": 18,
    "start_time": "2022-12-02T04:48:00.447Z"
   },
   {
    "duration": 16,
    "start_time": "2022-12-02T04:48:00.466Z"
   },
   {
    "duration": 17,
    "start_time": "2022-12-02T04:48:00.484Z"
   },
   {
    "duration": 26,
    "start_time": "2022-12-02T04:48:00.503Z"
   },
   {
    "duration": 16,
    "start_time": "2022-12-02T04:48:00.531Z"
   },
   {
    "duration": 24,
    "start_time": "2022-12-02T04:48:00.549Z"
   },
   {
    "duration": 18,
    "start_time": "2022-12-02T04:48:00.575Z"
   },
   {
    "duration": 31,
    "start_time": "2022-12-02T04:48:00.595Z"
   },
   {
    "duration": 15,
    "start_time": "2022-12-02T04:48:00.628Z"
   },
   {
    "duration": 297,
    "start_time": "2022-12-02T04:48:57.204Z"
   },
   {
    "duration": 311,
    "start_time": "2022-12-02T04:49:07.390Z"
   },
   {
    "duration": 210,
    "start_time": "2022-12-02T04:49:28.629Z"
   },
   {
    "duration": 286,
    "start_time": "2022-12-02T04:49:35.181Z"
   },
   {
    "duration": 207,
    "start_time": "2022-12-02T04:49:42.676Z"
   },
   {
    "duration": 270,
    "start_time": "2022-12-02T04:49:54.493Z"
   },
   {
    "duration": 211,
    "start_time": "2022-12-02T04:49:59.004Z"
   },
   {
    "duration": 287,
    "start_time": "2022-12-02T04:50:37.732Z"
   },
   {
    "duration": 220,
    "start_time": "2022-12-02T04:51:26.789Z"
   },
   {
    "duration": 221,
    "start_time": "2022-12-02T04:51:43.131Z"
   },
   {
    "duration": 186,
    "start_time": "2022-12-02T04:53:23.723Z"
   },
   {
    "duration": 212,
    "start_time": "2022-12-02T04:56:34.914Z"
   },
   {
    "duration": 1547,
    "start_time": "2022-12-02T05:00:26.983Z"
   },
   {
    "duration": 19,
    "start_time": "2022-12-02T05:03:06.899Z"
   },
   {
    "duration": 97,
    "start_time": "2022-12-02T05:03:42.661Z"
   },
   {
    "duration": 113,
    "start_time": "2022-12-02T05:04:07.991Z"
   },
   {
    "duration": 267,
    "start_time": "2022-12-02T05:04:34.764Z"
   },
   {
    "duration": 218,
    "start_time": "2022-12-02T05:05:57.693Z"
   },
   {
    "duration": 235,
    "start_time": "2022-12-02T05:07:18.173Z"
   },
   {
    "duration": 127,
    "start_time": "2022-12-02T05:07:57.300Z"
   },
   {
    "duration": 240,
    "start_time": "2022-12-02T05:09:05.132Z"
   },
   {
    "duration": 111,
    "start_time": "2022-12-02T05:15:03.290Z"
   },
   {
    "duration": 223,
    "start_time": "2022-12-02T05:15:09.240Z"
   },
   {
    "duration": 268,
    "start_time": "2022-12-02T05:15:24.906Z"
   },
   {
    "duration": 268,
    "start_time": "2022-12-02T05:16:02.768Z"
   },
   {
    "duration": 260,
    "start_time": "2022-12-02T05:16:15.048Z"
   },
   {
    "duration": 392,
    "start_time": "2022-12-02T05:21:42.334Z"
   },
   {
    "duration": 288,
    "start_time": "2022-12-02T05:24:44.116Z"
   },
   {
    "duration": 299,
    "start_time": "2022-12-02T05:25:13.964Z"
   },
   {
    "duration": 282,
    "start_time": "2022-12-02T05:25:49.509Z"
   },
   {
    "duration": 257,
    "start_time": "2022-12-02T05:27:48.100Z"
   },
   {
    "duration": 293,
    "start_time": "2022-12-02T05:28:49.921Z"
   },
   {
    "duration": 290,
    "start_time": "2022-12-02T05:29:05.160Z"
   },
   {
    "duration": 48,
    "start_time": "2022-12-02T05:29:49.200Z"
   },
   {
    "duration": 257,
    "start_time": "2022-12-02T05:30:25.217Z"
   },
   {
    "duration": 405,
    "start_time": "2022-12-02T05:30:45.361Z"
   },
   {
    "duration": 19,
    "start_time": "2022-12-02T05:31:21.729Z"
   },
   {
    "duration": 7,
    "start_time": "2022-12-02T05:31:50.080Z"
   },
   {
    "duration": 93,
    "start_time": "2022-12-02T05:35:56.637Z"
   },
   {
    "duration": 7,
    "start_time": "2022-12-02T05:37:01.309Z"
   },
   {
    "duration": 8,
    "start_time": "2022-12-02T05:37:12.285Z"
   },
   {
    "duration": 101,
    "start_time": "2022-12-02T05:37:21.452Z"
   },
   {
    "duration": 75,
    "start_time": "2022-12-02T05:38:01.829Z"
   },
   {
    "duration": 92,
    "start_time": "2022-12-02T05:39:29.267Z"
   },
   {
    "duration": 83,
    "start_time": "2022-12-02T05:40:57.027Z"
   },
   {
    "duration": 92,
    "start_time": "2022-12-02T05:41:50.042Z"
   },
   {
    "duration": 73,
    "start_time": "2022-12-02T05:42:11.723Z"
   },
   {
    "duration": 80,
    "start_time": "2022-12-02T05:43:02.448Z"
   },
   {
    "duration": 1099,
    "start_time": "2022-12-02T05:44:20.494Z"
   },
   {
    "duration": 66,
    "start_time": "2022-12-02T05:44:21.596Z"
   },
   {
    "duration": 14,
    "start_time": "2022-12-02T05:44:21.664Z"
   },
   {
    "duration": 3,
    "start_time": "2022-12-02T05:44:21.680Z"
   },
   {
    "duration": 21,
    "start_time": "2022-12-02T05:44:21.684Z"
   },
   {
    "duration": 18,
    "start_time": "2022-12-02T05:44:21.706Z"
   },
   {
    "duration": 22,
    "start_time": "2022-12-02T05:44:21.726Z"
   },
   {
    "duration": 4,
    "start_time": "2022-12-02T05:44:21.750Z"
   },
   {
    "duration": 10,
    "start_time": "2022-12-02T05:44:21.756Z"
   },
   {
    "duration": 5,
    "start_time": "2022-12-02T05:44:21.768Z"
   },
   {
    "duration": 25,
    "start_time": "2022-12-02T05:44:21.775Z"
   },
   {
    "duration": 22,
    "start_time": "2022-12-02T05:44:21.801Z"
   },
   {
    "duration": 8,
    "start_time": "2022-12-02T05:44:21.824Z"
   },
   {
    "duration": 7,
    "start_time": "2022-12-02T05:44:21.833Z"
   },
   {
    "duration": 9,
    "start_time": "2022-12-02T05:44:21.841Z"
   },
   {
    "duration": 49,
    "start_time": "2022-12-02T05:44:21.851Z"
   },
   {
    "duration": 197,
    "start_time": "2022-12-02T05:44:21.901Z"
   },
   {
    "duration": 8,
    "start_time": "2022-12-02T05:44:22.100Z"
   },
   {
    "duration": 9,
    "start_time": "2022-12-02T05:44:22.109Z"
   },
   {
    "duration": 17,
    "start_time": "2022-12-02T05:44:22.120Z"
   },
   {
    "duration": 10,
    "start_time": "2022-12-02T05:44:22.138Z"
   },
   {
    "duration": 284,
    "start_time": "2022-12-02T05:44:22.150Z"
   },
   {
    "duration": 8,
    "start_time": "2022-12-02T05:44:22.436Z"
   },
   {
    "duration": 28,
    "start_time": "2022-12-02T05:44:22.445Z"
   },
   {
    "duration": 303,
    "start_time": "2022-12-02T05:44:22.474Z"
   },
   {
    "duration": 263,
    "start_time": "2022-12-02T05:44:22.779Z"
   },
   {
    "duration": 268,
    "start_time": "2022-12-02T05:44:23.044Z"
   },
   {
    "duration": 8,
    "start_time": "2022-12-02T05:44:23.316Z"
   },
   {
    "duration": 43,
    "start_time": "2022-12-02T05:44:23.326Z"
   },
   {
    "duration": 390,
    "start_time": "2022-12-02T05:44:23.371Z"
   },
   {
    "duration": 11,
    "start_time": "2022-12-02T05:44:23.762Z"
   },
   {
    "duration": 267,
    "start_time": "2022-12-02T05:44:23.775Z"
   },
   {
    "duration": 5,
    "start_time": "2022-12-02T05:44:24.044Z"
   },
   {
    "duration": 28,
    "start_time": "2022-12-02T05:44:24.051Z"
   },
   {
    "duration": 34,
    "start_time": "2022-12-02T05:44:24.080Z"
   },
   {
    "duration": 35,
    "start_time": "2022-12-02T05:44:24.116Z"
   },
   {
    "duration": 10,
    "start_time": "2022-12-02T05:44:24.153Z"
   },
   {
    "duration": 142,
    "start_time": "2022-12-02T05:44:24.164Z"
   },
   {
    "duration": 8,
    "start_time": "2022-12-02T05:44:24.308Z"
   },
   {
    "duration": 108,
    "start_time": "2022-12-02T05:44:24.319Z"
   },
   {
    "duration": 8,
    "start_time": "2022-12-02T05:44:24.429Z"
   },
   {
    "duration": 110,
    "start_time": "2022-12-02T05:44:24.439Z"
   },
   {
    "duration": 10,
    "start_time": "2022-12-02T05:44:24.553Z"
   },
   {
    "duration": 155,
    "start_time": "2022-12-02T05:44:24.565Z"
   },
   {
    "duration": 9,
    "start_time": "2022-12-02T05:44:24.721Z"
   },
   {
    "duration": 38,
    "start_time": "2022-12-02T05:44:24.731Z"
   },
   {
    "duration": 40,
    "start_time": "2022-12-02T05:44:24.771Z"
   },
   {
    "duration": 58,
    "start_time": "2022-12-02T05:44:24.813Z"
   },
   {
    "duration": 33,
    "start_time": "2022-12-02T05:44:24.873Z"
   },
   {
    "duration": 15,
    "start_time": "2022-12-02T05:44:24.908Z"
   },
   {
    "duration": 19,
    "start_time": "2022-12-02T05:44:24.925Z"
   },
   {
    "duration": 30,
    "start_time": "2022-12-02T05:44:24.946Z"
   },
   {
    "duration": 27,
    "start_time": "2022-12-02T05:44:24.978Z"
   },
   {
    "duration": 8,
    "start_time": "2022-12-02T05:44:25.007Z"
   },
   {
    "duration": 50,
    "start_time": "2022-12-02T05:44:25.017Z"
   },
   {
    "duration": 26,
    "start_time": "2022-12-02T05:44:25.069Z"
   }
  ],
  "colab": {
   "include_colab_link": true,
   "provenance": []
  },
  "kernelspec": {
   "display_name": "Python 3 (ipykernel)",
   "language": "python",
   "name": "python3"
  },
  "language_info": {
   "codemirror_mode": {
    "name": "ipython",
    "version": 3
   },
   "file_extension": ".py",
   "mimetype": "text/x-python",
   "name": "python",
   "nbconvert_exporter": "python",
   "pygments_lexer": "ipython3",
   "version": "3.9.13"
  },
  "toc": {
   "base_numbering": 1,
   "nav_menu": {},
   "number_sections": true,
   "sideBar": true,
   "skip_h1_title": true,
   "title_cell": "Table of Contents",
   "title_sidebar": "Contents",
   "toc_cell": false,
   "toc_position": {},
   "toc_section_display": true,
   "toc_window_display": true
  }
 },
 "nbformat": 4,
 "nbformat_minor": 1
}
