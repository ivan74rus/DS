{
 "cells": [
  {
   "cell_type": "markdown",
   "metadata": {
    "id": "nZ5GZqOGjshO"
   },
   "source": [
    "# Выбор локации для скважины"
   ]
  },
  {
   "cell_type": "markdown",
   "metadata": {
    "id": "UMRjel82jshO"
   },
   "source": [
    "Предоставлены пробы нефти в трёх регионах.   \n",
    "Характеристики для каждой скважины в регионе уже известны.     \n",
    "- Необходимо построить  модель для определения региона, где добыча принесёт наибольшую прибыль. \n",
    "- Необходимо проанализировать возможную прибыль и риски техникой *Bootstrap.*\n",
    "\n"
   ]
  },
  {
   "cell_type": "code",
   "execution_count": 1,
   "metadata": {
    "colab": {
     "base_uri": "https://localhost:8080/"
    },
    "executionInfo": {
     "elapsed": 20925,
     "status": "ok",
     "timestamp": 1675080732024,
     "user": {
      "displayName": "yak ss",
      "userId": "06029463836352548104"
     },
     "user_tz": -300
    },
    "id": "F3EuarWSjzd-",
    "outputId": "25c2b4ab-0d9d-47f2-fd22-4a39238c0808"
   },
   "outputs": [
    {
     "name": "stdout",
     "output_type": "stream",
     "text": [
      "Mounted at /content/drive\n"
     ]
    }
   ],
   "source": [
    "#подключить гугл диск\n",
    "from google.colab import drive\n",
    "drive.mount('/content/drive')"
   ]
  },
  {
   "cell_type": "code",
   "execution_count": 2,
   "metadata": {
    "executionInfo": {
     "elapsed": 1742,
     "status": "ok",
     "timestamp": 1675080735441,
     "user": {
      "displayName": "yak ss",
      "userId": "06029463836352548104"
     },
     "user_tz": -300
    },
    "id": "9ZTKdS0cjshP"
   },
   "outputs": [],
   "source": [
    "#imports\n",
    "import pandas as pd\n",
    "import matplotlib.pyplot as plt\n",
    "#import pandas_profiling\n",
    "\n",
    "\n",
    "from sklearn.model_selection import train_test_split\n",
    "from sklearn.preprocessing import StandardScaler\n",
    "from sklearn.linear_model import LinearRegression\n",
    "from sklearn.metrics import mean_squared_error\n",
    "\n",
    "from numpy.random import RandomState\n",
    "\n"
   ]
  },
  {
   "cell_type": "markdown",
   "metadata": {
    "id": "0g7JteB0jshQ"
   },
   "source": [
    "## Загрузка и подготовка данных"
   ]
  },
  {
   "cell_type": "markdown",
   "metadata": {
    "id": "X9T8n0NfjshQ"
   },
   "source": [
    "### Чтение данных и анализ"
   ]
  },
  {
   "cell_type": "code",
   "execution_count": 3,
   "metadata": {
    "executionInfo": {
     "elapsed": 1701,
     "status": "ok",
     "timestamp": 1675080738134,
     "user": {
      "displayName": "yak ss",
      "userId": "06029463836352548104"
     },
     "user_tz": -300
    },
    "id": "Wy1lC7ecjshR"
   },
   "outputs": [],
   "source": [
    "#читаем файлы\n",
    "data_0 = pd.read_csv('/content/drive/MyDrive/DS/geo_data_0.csv')\n",
    "data_1 = pd.read_csv('/content/drive/MyDrive/DS/geo_data_1.csv')\n",
    "data_2 = pd.read_csv('/content/drive/MyDrive/DS/geo_data_2.csv')"
   ]
  },
  {
   "cell_type": "code",
   "execution_count": 4,
   "metadata": {
    "colab": {
     "base_uri": "https://localhost:8080/"
    },
    "executionInfo": {
     "elapsed": 275,
     "status": "ok",
     "timestamp": 1675080740078,
     "user": {
      "displayName": "yak ss",
      "userId": "06029463836352548104"
     },
     "user_tz": -300
    },
    "id": "ff3D-pTYjshR",
    "outputId": "33df64a6-aa98-412b-9ae4-4a64a24db008"
   },
   "outputs": [
    {
     "name": "stdout",
     "output_type": "stream",
     "text": [
      "<class 'pandas.core.frame.DataFrame'>\n",
      "RangeIndex: 100000 entries, 0 to 99999\n",
      "Data columns (total 5 columns):\n",
      " #   Column   Non-Null Count   Dtype  \n",
      "---  ------   --------------   -----  \n",
      " 0   id       100000 non-null  object \n",
      " 1   f0       100000 non-null  float64\n",
      " 2   f1       100000 non-null  float64\n",
      " 3   f2       100000 non-null  float64\n",
      " 4   product  100000 non-null  float64\n",
      "dtypes: float64(4), object(1)\n",
      "memory usage: 3.8+ MB\n"
     ]
    }
   ],
   "source": [
    "# просмотрим все данные(последовательно)\n",
    "data_0.info()"
   ]
  },
  {
   "cell_type": "code",
   "execution_count": 5,
   "metadata": {
    "colab": {
     "base_uri": "https://localhost:8080/",
     "height": 206
    },
    "executionInfo": {
     "elapsed": 4,
     "status": "ok",
     "timestamp": 1675080740980,
     "user": {
      "displayName": "yak ss",
      "userId": "06029463836352548104"
     },
     "user_tz": -300
    },
    "id": "Jl0lniDhjshS",
    "outputId": "65e1bb40-b89d-4c5a-aabb-51ebcd257e27"
   },
   "outputs": [
    {
     "data": {
      "text/html": [
       "\n",
       "  <div id=\"df-de9b8002-4b06-42c5-a969-8e4e21b315bf\">\n",
       "    <div class=\"colab-df-container\">\n",
       "      <div>\n",
       "<style scoped>\n",
       "    .dataframe tbody tr th:only-of-type {\n",
       "        vertical-align: middle;\n",
       "    }\n",
       "\n",
       "    .dataframe tbody tr th {\n",
       "        vertical-align: top;\n",
       "    }\n",
       "\n",
       "    .dataframe thead th {\n",
       "        text-align: right;\n",
       "    }\n",
       "</style>\n",
       "<table border=\"1\" class=\"dataframe\">\n",
       "  <thead>\n",
       "    <tr style=\"text-align: right;\">\n",
       "      <th></th>\n",
       "      <th>id</th>\n",
       "      <th>f0</th>\n",
       "      <th>f1</th>\n",
       "      <th>f2</th>\n",
       "      <th>product</th>\n",
       "    </tr>\n",
       "  </thead>\n",
       "  <tbody>\n",
       "    <tr>\n",
       "      <th>0</th>\n",
       "      <td>fwXo0</td>\n",
       "      <td>-1.146987</td>\n",
       "      <td>0.963328</td>\n",
       "      <td>-0.828965</td>\n",
       "      <td>27.758673</td>\n",
       "    </tr>\n",
       "    <tr>\n",
       "      <th>1</th>\n",
       "      <td>WJtFt</td>\n",
       "      <td>0.262778</td>\n",
       "      <td>0.269839</td>\n",
       "      <td>-2.530187</td>\n",
       "      <td>56.069697</td>\n",
       "    </tr>\n",
       "    <tr>\n",
       "      <th>2</th>\n",
       "      <td>ovLUW</td>\n",
       "      <td>0.194587</td>\n",
       "      <td>0.289035</td>\n",
       "      <td>-5.586433</td>\n",
       "      <td>62.871910</td>\n",
       "    </tr>\n",
       "    <tr>\n",
       "      <th>3</th>\n",
       "      <td>q6cA6</td>\n",
       "      <td>2.236060</td>\n",
       "      <td>-0.553760</td>\n",
       "      <td>0.930038</td>\n",
       "      <td>114.572842</td>\n",
       "    </tr>\n",
       "    <tr>\n",
       "      <th>4</th>\n",
       "      <td>WPMUX</td>\n",
       "      <td>-0.515993</td>\n",
       "      <td>1.716266</td>\n",
       "      <td>5.899011</td>\n",
       "      <td>149.600746</td>\n",
       "    </tr>\n",
       "  </tbody>\n",
       "</table>\n",
       "</div>\n",
       "      <button class=\"colab-df-convert\" onclick=\"convertToInteractive('df-de9b8002-4b06-42c5-a969-8e4e21b315bf')\"\n",
       "              title=\"Convert this dataframe to an interactive table.\"\n",
       "              style=\"display:none;\">\n",
       "        \n",
       "  <svg xmlns=\"http://www.w3.org/2000/svg\" height=\"24px\"viewBox=\"0 0 24 24\"\n",
       "       width=\"24px\">\n",
       "    <path d=\"M0 0h24v24H0V0z\" fill=\"none\"/>\n",
       "    <path d=\"M18.56 5.44l.94 2.06.94-2.06 2.06-.94-2.06-.94-.94-2.06-.94 2.06-2.06.94zm-11 1L8.5 8.5l.94-2.06 2.06-.94-2.06-.94L8.5 2.5l-.94 2.06-2.06.94zm10 10l.94 2.06.94-2.06 2.06-.94-2.06-.94-.94-2.06-.94 2.06-2.06.94z\"/><path d=\"M17.41 7.96l-1.37-1.37c-.4-.4-.92-.59-1.43-.59-.52 0-1.04.2-1.43.59L10.3 9.45l-7.72 7.72c-.78.78-.78 2.05 0 2.83L4 21.41c.39.39.9.59 1.41.59.51 0 1.02-.2 1.41-.59l7.78-7.78 2.81-2.81c.8-.78.8-2.07 0-2.86zM5.41 20L4 18.59l7.72-7.72 1.47 1.35L5.41 20z\"/>\n",
       "  </svg>\n",
       "      </button>\n",
       "      \n",
       "  <style>\n",
       "    .colab-df-container {\n",
       "      display:flex;\n",
       "      flex-wrap:wrap;\n",
       "      gap: 12px;\n",
       "    }\n",
       "\n",
       "    .colab-df-convert {\n",
       "      background-color: #E8F0FE;\n",
       "      border: none;\n",
       "      border-radius: 50%;\n",
       "      cursor: pointer;\n",
       "      display: none;\n",
       "      fill: #1967D2;\n",
       "      height: 32px;\n",
       "      padding: 0 0 0 0;\n",
       "      width: 32px;\n",
       "    }\n",
       "\n",
       "    .colab-df-convert:hover {\n",
       "      background-color: #E2EBFA;\n",
       "      box-shadow: 0px 1px 2px rgba(60, 64, 67, 0.3), 0px 1px 3px 1px rgba(60, 64, 67, 0.15);\n",
       "      fill: #174EA6;\n",
       "    }\n",
       "\n",
       "    [theme=dark] .colab-df-convert {\n",
       "      background-color: #3B4455;\n",
       "      fill: #D2E3FC;\n",
       "    }\n",
       "\n",
       "    [theme=dark] .colab-df-convert:hover {\n",
       "      background-color: #434B5C;\n",
       "      box-shadow: 0px 1px 3px 1px rgba(0, 0, 0, 0.15);\n",
       "      filter: drop-shadow(0px 1px 2px rgba(0, 0, 0, 0.3));\n",
       "      fill: #FFFFFF;\n",
       "    }\n",
       "  </style>\n",
       "\n",
       "      <script>\n",
       "        const buttonEl =\n",
       "          document.querySelector('#df-de9b8002-4b06-42c5-a969-8e4e21b315bf button.colab-df-convert');\n",
       "        buttonEl.style.display =\n",
       "          google.colab.kernel.accessAllowed ? 'block' : 'none';\n",
       "\n",
       "        async function convertToInteractive(key) {\n",
       "          const element = document.querySelector('#df-de9b8002-4b06-42c5-a969-8e4e21b315bf');\n",
       "          const dataTable =\n",
       "            await google.colab.kernel.invokeFunction('convertToInteractive',\n",
       "                                                     [key], {});\n",
       "          if (!dataTable) return;\n",
       "\n",
       "          const docLinkHtml = 'Like what you see? Visit the ' +\n",
       "            '<a target=\"_blank\" href=https://colab.research.google.com/notebooks/data_table.ipynb>data table notebook</a>'\n",
       "            + ' to learn more about interactive tables.';\n",
       "          element.innerHTML = '';\n",
       "          dataTable['output_type'] = 'display_data';\n",
       "          await google.colab.output.renderOutput(dataTable, element);\n",
       "          const docLink = document.createElement('div');\n",
       "          docLink.innerHTML = docLinkHtml;\n",
       "          element.appendChild(docLink);\n",
       "        }\n",
       "      </script>\n",
       "    </div>\n",
       "  </div>\n",
       "  "
      ],
      "text/plain": [
       "      id        f0        f1        f2     product\n",
       "0  fwXo0 -1.146987  0.963328 -0.828965   27.758673\n",
       "1  WJtFt  0.262778  0.269839 -2.530187   56.069697\n",
       "2  ovLUW  0.194587  0.289035 -5.586433   62.871910\n",
       "3  q6cA6  2.236060 -0.553760  0.930038  114.572842\n",
       "4  WPMUX -0.515993  1.716266  5.899011  149.600746"
      ]
     },
     "execution_count": 5,
     "metadata": {},
     "output_type": "execute_result"
    }
   ],
   "source": [
    "data_0.head()\n",
    "data_1.head()\n",
    "data_2.head()"
   ]
  },
  {
   "cell_type": "markdown",
   "metadata": {
    "id": "07TDIVX_jshT"
   },
   "source": [
    "Во всех 3х датасетов пропусков нет, тип данных верный. Готовы к работе.   \n",
    "     \n",
    "Посмотрим корреляции"
   ]
  },
  {
   "cell_type": "code",
   "execution_count": 6,
   "metadata": {
    "colab": {
     "base_uri": "https://localhost:8080/",
     "height": 175
    },
    "executionInfo": {
     "elapsed": 7,
     "status": "ok",
     "timestamp": 1675080743781,
     "user": {
      "displayName": "yak ss",
      "userId": "06029463836352548104"
     },
     "user_tz": -300
    },
    "id": "ZUJFdfutjshT",
    "outputId": "a5d98edc-75b0-4540-f873-a168e090a533"
   },
   "outputs": [
    {
     "data": {
      "text/html": [
       "\n",
       "  <div id=\"df-5dbe14c0-3f99-4159-8bed-8e7f000d22d6\">\n",
       "    <div class=\"colab-df-container\">\n",
       "      <div>\n",
       "<style scoped>\n",
       "    .dataframe tbody tr th:only-of-type {\n",
       "        vertical-align: middle;\n",
       "    }\n",
       "\n",
       "    .dataframe tbody tr th {\n",
       "        vertical-align: top;\n",
       "    }\n",
       "\n",
       "    .dataframe thead th {\n",
       "        text-align: right;\n",
       "    }\n",
       "</style>\n",
       "<table border=\"1\" class=\"dataframe\">\n",
       "  <thead>\n",
       "    <tr style=\"text-align: right;\">\n",
       "      <th></th>\n",
       "      <th>f0</th>\n",
       "      <th>f1</th>\n",
       "      <th>f2</th>\n",
       "      <th>product</th>\n",
       "    </tr>\n",
       "  </thead>\n",
       "  <tbody>\n",
       "    <tr>\n",
       "      <th>f0</th>\n",
       "      <td>1.000000</td>\n",
       "      <td>-0.440723</td>\n",
       "      <td>-0.003153</td>\n",
       "      <td>0.143536</td>\n",
       "    </tr>\n",
       "    <tr>\n",
       "      <th>f1</th>\n",
       "      <td>-0.440723</td>\n",
       "      <td>1.000000</td>\n",
       "      <td>0.001724</td>\n",
       "      <td>-0.192356</td>\n",
       "    </tr>\n",
       "    <tr>\n",
       "      <th>f2</th>\n",
       "      <td>-0.003153</td>\n",
       "      <td>0.001724</td>\n",
       "      <td>1.000000</td>\n",
       "      <td>0.483663</td>\n",
       "    </tr>\n",
       "    <tr>\n",
       "      <th>product</th>\n",
       "      <td>0.143536</td>\n",
       "      <td>-0.192356</td>\n",
       "      <td>0.483663</td>\n",
       "      <td>1.000000</td>\n",
       "    </tr>\n",
       "  </tbody>\n",
       "</table>\n",
       "</div>\n",
       "      <button class=\"colab-df-convert\" onclick=\"convertToInteractive('df-5dbe14c0-3f99-4159-8bed-8e7f000d22d6')\"\n",
       "              title=\"Convert this dataframe to an interactive table.\"\n",
       "              style=\"display:none;\">\n",
       "        \n",
       "  <svg xmlns=\"http://www.w3.org/2000/svg\" height=\"24px\"viewBox=\"0 0 24 24\"\n",
       "       width=\"24px\">\n",
       "    <path d=\"M0 0h24v24H0V0z\" fill=\"none\"/>\n",
       "    <path d=\"M18.56 5.44l.94 2.06.94-2.06 2.06-.94-2.06-.94-.94-2.06-.94 2.06-2.06.94zm-11 1L8.5 8.5l.94-2.06 2.06-.94-2.06-.94L8.5 2.5l-.94 2.06-2.06.94zm10 10l.94 2.06.94-2.06 2.06-.94-2.06-.94-.94-2.06-.94 2.06-2.06.94z\"/><path d=\"M17.41 7.96l-1.37-1.37c-.4-.4-.92-.59-1.43-.59-.52 0-1.04.2-1.43.59L10.3 9.45l-7.72 7.72c-.78.78-.78 2.05 0 2.83L4 21.41c.39.39.9.59 1.41.59.51 0 1.02-.2 1.41-.59l7.78-7.78 2.81-2.81c.8-.78.8-2.07 0-2.86zM5.41 20L4 18.59l7.72-7.72 1.47 1.35L5.41 20z\"/>\n",
       "  </svg>\n",
       "      </button>\n",
       "      \n",
       "  <style>\n",
       "    .colab-df-container {\n",
       "      display:flex;\n",
       "      flex-wrap:wrap;\n",
       "      gap: 12px;\n",
       "    }\n",
       "\n",
       "    .colab-df-convert {\n",
       "      background-color: #E8F0FE;\n",
       "      border: none;\n",
       "      border-radius: 50%;\n",
       "      cursor: pointer;\n",
       "      display: none;\n",
       "      fill: #1967D2;\n",
       "      height: 32px;\n",
       "      padding: 0 0 0 0;\n",
       "      width: 32px;\n",
       "    }\n",
       "\n",
       "    .colab-df-convert:hover {\n",
       "      background-color: #E2EBFA;\n",
       "      box-shadow: 0px 1px 2px rgba(60, 64, 67, 0.3), 0px 1px 3px 1px rgba(60, 64, 67, 0.15);\n",
       "      fill: #174EA6;\n",
       "    }\n",
       "\n",
       "    [theme=dark] .colab-df-convert {\n",
       "      background-color: #3B4455;\n",
       "      fill: #D2E3FC;\n",
       "    }\n",
       "\n",
       "    [theme=dark] .colab-df-convert:hover {\n",
       "      background-color: #434B5C;\n",
       "      box-shadow: 0px 1px 3px 1px rgba(0, 0, 0, 0.15);\n",
       "      filter: drop-shadow(0px 1px 2px rgba(0, 0, 0, 0.3));\n",
       "      fill: #FFFFFF;\n",
       "    }\n",
       "  </style>\n",
       "\n",
       "      <script>\n",
       "        const buttonEl =\n",
       "          document.querySelector('#df-5dbe14c0-3f99-4159-8bed-8e7f000d22d6 button.colab-df-convert');\n",
       "        buttonEl.style.display =\n",
       "          google.colab.kernel.accessAllowed ? 'block' : 'none';\n",
       "\n",
       "        async function convertToInteractive(key) {\n",
       "          const element = document.querySelector('#df-5dbe14c0-3f99-4159-8bed-8e7f000d22d6');\n",
       "          const dataTable =\n",
       "            await google.colab.kernel.invokeFunction('convertToInteractive',\n",
       "                                                     [key], {});\n",
       "          if (!dataTable) return;\n",
       "\n",
       "          const docLinkHtml = 'Like what you see? Visit the ' +\n",
       "            '<a target=\"_blank\" href=https://colab.research.google.com/notebooks/data_table.ipynb>data table notebook</a>'\n",
       "            + ' to learn more about interactive tables.';\n",
       "          element.innerHTML = '';\n",
       "          dataTable['output_type'] = 'display_data';\n",
       "          await google.colab.output.renderOutput(dataTable, element);\n",
       "          const docLink = document.createElement('div');\n",
       "          docLink.innerHTML = docLinkHtml;\n",
       "          element.appendChild(docLink);\n",
       "        }\n",
       "      </script>\n",
       "    </div>\n",
       "  </div>\n",
       "  "
      ],
      "text/plain": [
       "               f0        f1        f2   product\n",
       "f0       1.000000 -0.440723 -0.003153  0.143536\n",
       "f1      -0.440723  1.000000  0.001724 -0.192356\n",
       "f2      -0.003153  0.001724  1.000000  0.483663\n",
       "product  0.143536 -0.192356  0.483663  1.000000"
      ]
     },
     "execution_count": 6,
     "metadata": {},
     "output_type": "execute_result"
    }
   ],
   "source": [
    "data_0.corr()"
   ]
  },
  {
   "cell_type": "code",
   "execution_count": 7,
   "metadata": {
    "colab": {
     "base_uri": "https://localhost:8080/",
     "height": 175
    },
    "executionInfo": {
     "elapsed": 6,
     "status": "ok",
     "timestamp": 1675080745366,
     "user": {
      "displayName": "yak ss",
      "userId": "06029463836352548104"
     },
     "user_tz": -300
    },
    "id": "ED0rfK1mjshT",
    "outputId": "db31613a-6c00-4dc4-bd0e-371d91e4cf2f"
   },
   "outputs": [
    {
     "data": {
      "text/html": [
       "\n",
       "  <div id=\"df-e21477c2-6e73-4c6e-9a86-1e5027b4c17f\">\n",
       "    <div class=\"colab-df-container\">\n",
       "      <div>\n",
       "<style scoped>\n",
       "    .dataframe tbody tr th:only-of-type {\n",
       "        vertical-align: middle;\n",
       "    }\n",
       "\n",
       "    .dataframe tbody tr th {\n",
       "        vertical-align: top;\n",
       "    }\n",
       "\n",
       "    .dataframe thead th {\n",
       "        text-align: right;\n",
       "    }\n",
       "</style>\n",
       "<table border=\"1\" class=\"dataframe\">\n",
       "  <thead>\n",
       "    <tr style=\"text-align: right;\">\n",
       "      <th></th>\n",
       "      <th>f0</th>\n",
       "      <th>f1</th>\n",
       "      <th>f2</th>\n",
       "      <th>product</th>\n",
       "    </tr>\n",
       "  </thead>\n",
       "  <tbody>\n",
       "    <tr>\n",
       "      <th>f0</th>\n",
       "      <td>1.000000</td>\n",
       "      <td>0.182287</td>\n",
       "      <td>-0.001777</td>\n",
       "      <td>-0.030491</td>\n",
       "    </tr>\n",
       "    <tr>\n",
       "      <th>f1</th>\n",
       "      <td>0.182287</td>\n",
       "      <td>1.000000</td>\n",
       "      <td>-0.002595</td>\n",
       "      <td>-0.010155</td>\n",
       "    </tr>\n",
       "    <tr>\n",
       "      <th>f2</th>\n",
       "      <td>-0.001777</td>\n",
       "      <td>-0.002595</td>\n",
       "      <td>1.000000</td>\n",
       "      <td>0.999397</td>\n",
       "    </tr>\n",
       "    <tr>\n",
       "      <th>product</th>\n",
       "      <td>-0.030491</td>\n",
       "      <td>-0.010155</td>\n",
       "      <td>0.999397</td>\n",
       "      <td>1.000000</td>\n",
       "    </tr>\n",
       "  </tbody>\n",
       "</table>\n",
       "</div>\n",
       "      <button class=\"colab-df-convert\" onclick=\"convertToInteractive('df-e21477c2-6e73-4c6e-9a86-1e5027b4c17f')\"\n",
       "              title=\"Convert this dataframe to an interactive table.\"\n",
       "              style=\"display:none;\">\n",
       "        \n",
       "  <svg xmlns=\"http://www.w3.org/2000/svg\" height=\"24px\"viewBox=\"0 0 24 24\"\n",
       "       width=\"24px\">\n",
       "    <path d=\"M0 0h24v24H0V0z\" fill=\"none\"/>\n",
       "    <path d=\"M18.56 5.44l.94 2.06.94-2.06 2.06-.94-2.06-.94-.94-2.06-.94 2.06-2.06.94zm-11 1L8.5 8.5l.94-2.06 2.06-.94-2.06-.94L8.5 2.5l-.94 2.06-2.06.94zm10 10l.94 2.06.94-2.06 2.06-.94-2.06-.94-.94-2.06-.94 2.06-2.06.94z\"/><path d=\"M17.41 7.96l-1.37-1.37c-.4-.4-.92-.59-1.43-.59-.52 0-1.04.2-1.43.59L10.3 9.45l-7.72 7.72c-.78.78-.78 2.05 0 2.83L4 21.41c.39.39.9.59 1.41.59.51 0 1.02-.2 1.41-.59l7.78-7.78 2.81-2.81c.8-.78.8-2.07 0-2.86zM5.41 20L4 18.59l7.72-7.72 1.47 1.35L5.41 20z\"/>\n",
       "  </svg>\n",
       "      </button>\n",
       "      \n",
       "  <style>\n",
       "    .colab-df-container {\n",
       "      display:flex;\n",
       "      flex-wrap:wrap;\n",
       "      gap: 12px;\n",
       "    }\n",
       "\n",
       "    .colab-df-convert {\n",
       "      background-color: #E8F0FE;\n",
       "      border: none;\n",
       "      border-radius: 50%;\n",
       "      cursor: pointer;\n",
       "      display: none;\n",
       "      fill: #1967D2;\n",
       "      height: 32px;\n",
       "      padding: 0 0 0 0;\n",
       "      width: 32px;\n",
       "    }\n",
       "\n",
       "    .colab-df-convert:hover {\n",
       "      background-color: #E2EBFA;\n",
       "      box-shadow: 0px 1px 2px rgba(60, 64, 67, 0.3), 0px 1px 3px 1px rgba(60, 64, 67, 0.15);\n",
       "      fill: #174EA6;\n",
       "    }\n",
       "\n",
       "    [theme=dark] .colab-df-convert {\n",
       "      background-color: #3B4455;\n",
       "      fill: #D2E3FC;\n",
       "    }\n",
       "\n",
       "    [theme=dark] .colab-df-convert:hover {\n",
       "      background-color: #434B5C;\n",
       "      box-shadow: 0px 1px 3px 1px rgba(0, 0, 0, 0.15);\n",
       "      filter: drop-shadow(0px 1px 2px rgba(0, 0, 0, 0.3));\n",
       "      fill: #FFFFFF;\n",
       "    }\n",
       "  </style>\n",
       "\n",
       "      <script>\n",
       "        const buttonEl =\n",
       "          document.querySelector('#df-e21477c2-6e73-4c6e-9a86-1e5027b4c17f button.colab-df-convert');\n",
       "        buttonEl.style.display =\n",
       "          google.colab.kernel.accessAllowed ? 'block' : 'none';\n",
       "\n",
       "        async function convertToInteractive(key) {\n",
       "          const element = document.querySelector('#df-e21477c2-6e73-4c6e-9a86-1e5027b4c17f');\n",
       "          const dataTable =\n",
       "            await google.colab.kernel.invokeFunction('convertToInteractive',\n",
       "                                                     [key], {});\n",
       "          if (!dataTable) return;\n",
       "\n",
       "          const docLinkHtml = 'Like what you see? Visit the ' +\n",
       "            '<a target=\"_blank\" href=https://colab.research.google.com/notebooks/data_table.ipynb>data table notebook</a>'\n",
       "            + ' to learn more about interactive tables.';\n",
       "          element.innerHTML = '';\n",
       "          dataTable['output_type'] = 'display_data';\n",
       "          await google.colab.output.renderOutput(dataTable, element);\n",
       "          const docLink = document.createElement('div');\n",
       "          docLink.innerHTML = docLinkHtml;\n",
       "          element.appendChild(docLink);\n",
       "        }\n",
       "      </script>\n",
       "    </div>\n",
       "  </div>\n",
       "  "
      ],
      "text/plain": [
       "               f0        f1        f2   product\n",
       "f0       1.000000  0.182287 -0.001777 -0.030491\n",
       "f1       0.182287  1.000000 -0.002595 -0.010155\n",
       "f2      -0.001777 -0.002595  1.000000  0.999397\n",
       "product -0.030491 -0.010155  0.999397  1.000000"
      ]
     },
     "execution_count": 7,
     "metadata": {},
     "output_type": "execute_result"
    }
   ],
   "source": [
    "data_1.corr()"
   ]
  },
  {
   "cell_type": "code",
   "execution_count": 8,
   "metadata": {
    "colab": {
     "base_uri": "https://localhost:8080/",
     "height": 175
    },
    "executionInfo": {
     "elapsed": 10,
     "status": "ok",
     "timestamp": 1675080746547,
     "user": {
      "displayName": "yak ss",
      "userId": "06029463836352548104"
     },
     "user_tz": -300
    },
    "id": "XN_LdiMxjshU",
    "outputId": "a495833f-2541-4aa3-dba5-e23239c982a0"
   },
   "outputs": [
    {
     "data": {
      "text/html": [
       "\n",
       "  <div id=\"df-032ca817-845b-41dd-ae44-bbc74cb1b7a9\">\n",
       "    <div class=\"colab-df-container\">\n",
       "      <div>\n",
       "<style scoped>\n",
       "    .dataframe tbody tr th:only-of-type {\n",
       "        vertical-align: middle;\n",
       "    }\n",
       "\n",
       "    .dataframe tbody tr th {\n",
       "        vertical-align: top;\n",
       "    }\n",
       "\n",
       "    .dataframe thead th {\n",
       "        text-align: right;\n",
       "    }\n",
       "</style>\n",
       "<table border=\"1\" class=\"dataframe\">\n",
       "  <thead>\n",
       "    <tr style=\"text-align: right;\">\n",
       "      <th></th>\n",
       "      <th>f0</th>\n",
       "      <th>f1</th>\n",
       "      <th>f2</th>\n",
       "      <th>product</th>\n",
       "    </tr>\n",
       "  </thead>\n",
       "  <tbody>\n",
       "    <tr>\n",
       "      <th>f0</th>\n",
       "      <td>1.000000</td>\n",
       "      <td>0.000528</td>\n",
       "      <td>-0.000448</td>\n",
       "      <td>-0.001987</td>\n",
       "    </tr>\n",
       "    <tr>\n",
       "      <th>f1</th>\n",
       "      <td>0.000528</td>\n",
       "      <td>1.000000</td>\n",
       "      <td>0.000779</td>\n",
       "      <td>-0.001012</td>\n",
       "    </tr>\n",
       "    <tr>\n",
       "      <th>f2</th>\n",
       "      <td>-0.000448</td>\n",
       "      <td>0.000779</td>\n",
       "      <td>1.000000</td>\n",
       "      <td>0.445871</td>\n",
       "    </tr>\n",
       "    <tr>\n",
       "      <th>product</th>\n",
       "      <td>-0.001987</td>\n",
       "      <td>-0.001012</td>\n",
       "      <td>0.445871</td>\n",
       "      <td>1.000000</td>\n",
       "    </tr>\n",
       "  </tbody>\n",
       "</table>\n",
       "</div>\n",
       "      <button class=\"colab-df-convert\" onclick=\"convertToInteractive('df-032ca817-845b-41dd-ae44-bbc74cb1b7a9')\"\n",
       "              title=\"Convert this dataframe to an interactive table.\"\n",
       "              style=\"display:none;\">\n",
       "        \n",
       "  <svg xmlns=\"http://www.w3.org/2000/svg\" height=\"24px\"viewBox=\"0 0 24 24\"\n",
       "       width=\"24px\">\n",
       "    <path d=\"M0 0h24v24H0V0z\" fill=\"none\"/>\n",
       "    <path d=\"M18.56 5.44l.94 2.06.94-2.06 2.06-.94-2.06-.94-.94-2.06-.94 2.06-2.06.94zm-11 1L8.5 8.5l.94-2.06 2.06-.94-2.06-.94L8.5 2.5l-.94 2.06-2.06.94zm10 10l.94 2.06.94-2.06 2.06-.94-2.06-.94-.94-2.06-.94 2.06-2.06.94z\"/><path d=\"M17.41 7.96l-1.37-1.37c-.4-.4-.92-.59-1.43-.59-.52 0-1.04.2-1.43.59L10.3 9.45l-7.72 7.72c-.78.78-.78 2.05 0 2.83L4 21.41c.39.39.9.59 1.41.59.51 0 1.02-.2 1.41-.59l7.78-7.78 2.81-2.81c.8-.78.8-2.07 0-2.86zM5.41 20L4 18.59l7.72-7.72 1.47 1.35L5.41 20z\"/>\n",
       "  </svg>\n",
       "      </button>\n",
       "      \n",
       "  <style>\n",
       "    .colab-df-container {\n",
       "      display:flex;\n",
       "      flex-wrap:wrap;\n",
       "      gap: 12px;\n",
       "    }\n",
       "\n",
       "    .colab-df-convert {\n",
       "      background-color: #E8F0FE;\n",
       "      border: none;\n",
       "      border-radius: 50%;\n",
       "      cursor: pointer;\n",
       "      display: none;\n",
       "      fill: #1967D2;\n",
       "      height: 32px;\n",
       "      padding: 0 0 0 0;\n",
       "      width: 32px;\n",
       "    }\n",
       "\n",
       "    .colab-df-convert:hover {\n",
       "      background-color: #E2EBFA;\n",
       "      box-shadow: 0px 1px 2px rgba(60, 64, 67, 0.3), 0px 1px 3px 1px rgba(60, 64, 67, 0.15);\n",
       "      fill: #174EA6;\n",
       "    }\n",
       "\n",
       "    [theme=dark] .colab-df-convert {\n",
       "      background-color: #3B4455;\n",
       "      fill: #D2E3FC;\n",
       "    }\n",
       "\n",
       "    [theme=dark] .colab-df-convert:hover {\n",
       "      background-color: #434B5C;\n",
       "      box-shadow: 0px 1px 3px 1px rgba(0, 0, 0, 0.15);\n",
       "      filter: drop-shadow(0px 1px 2px rgba(0, 0, 0, 0.3));\n",
       "      fill: #FFFFFF;\n",
       "    }\n",
       "  </style>\n",
       "\n",
       "      <script>\n",
       "        const buttonEl =\n",
       "          document.querySelector('#df-032ca817-845b-41dd-ae44-bbc74cb1b7a9 button.colab-df-convert');\n",
       "        buttonEl.style.display =\n",
       "          google.colab.kernel.accessAllowed ? 'block' : 'none';\n",
       "\n",
       "        async function convertToInteractive(key) {\n",
       "          const element = document.querySelector('#df-032ca817-845b-41dd-ae44-bbc74cb1b7a9');\n",
       "          const dataTable =\n",
       "            await google.colab.kernel.invokeFunction('convertToInteractive',\n",
       "                                                     [key], {});\n",
       "          if (!dataTable) return;\n",
       "\n",
       "          const docLinkHtml = 'Like what you see? Visit the ' +\n",
       "            '<a target=\"_blank\" href=https://colab.research.google.com/notebooks/data_table.ipynb>data table notebook</a>'\n",
       "            + ' to learn more about interactive tables.';\n",
       "          element.innerHTML = '';\n",
       "          dataTable['output_type'] = 'display_data';\n",
       "          await google.colab.output.renderOutput(dataTable, element);\n",
       "          const docLink = document.createElement('div');\n",
       "          docLink.innerHTML = docLinkHtml;\n",
       "          element.appendChild(docLink);\n",
       "        }\n",
       "      </script>\n",
       "    </div>\n",
       "  </div>\n",
       "  "
      ],
      "text/plain": [
       "               f0        f1        f2   product\n",
       "f0       1.000000  0.000528 -0.000448 -0.001987\n",
       "f1       0.000528  1.000000  0.000779 -0.001012\n",
       "f2      -0.000448  0.000779  1.000000  0.445871\n",
       "product -0.001987 -0.001012  0.445871  1.000000"
      ]
     },
     "execution_count": 8,
     "metadata": {},
     "output_type": "execute_result"
    }
   ],
   "source": [
    "data_2.corr()"
   ]
  },
  {
   "cell_type": "markdown",
   "metadata": {
    "id": "bbbLGx12jshU"
   },
   "source": [
    "Больше всего  с таргетом коррелирует f2    \n",
    "      \n",
    "Смотрим распределение данных  на гистограммах   "
   ]
  },
  {
   "cell_type": "code",
   "execution_count": 9,
   "metadata": {
    "colab": {
     "base_uri": "https://localhost:8080/",
     "height": 444
    },
    "executionInfo": {
     "elapsed": 1296,
     "status": "ok",
     "timestamp": 1675080750688,
     "user": {
      "displayName": "yak ss",
      "userId": "06029463836352548104"
     },
     "user_tz": -300
    },
    "id": "26TSAxnGjshU",
    "outputId": "3e99bd8a-b271-443c-edb0-0bda8c2fe025"
   },
   "outputs": [
    {
     "data": {
      "image/png": "[encoded data removed]",
      "text/plain": [
       "<Figure size 504x504 with 4 Axes>"
      ]
     },
     "metadata": {
      "needs_background": "light"
     },
     "output_type": "display_data"
    }
   ],
   "source": [
    "data_0.hist(bins=100, figsize=(7,7))\n",
    "plt.show()"
   ]
  },
  {
   "cell_type": "code",
   "execution_count": 10,
   "metadata": {
    "colab": {
     "base_uri": "https://localhost:8080/",
     "height": 444
    },
    "executionInfo": {
     "elapsed": 1440,
     "status": "ok",
     "timestamp": 1675080753587,
     "user": {
      "displayName": "yak ss",
      "userId": "06029463836352548104"
     },
     "user_tz": -300
    },
    "id": "bC_tyG5QjshU",
    "outputId": "e5223167-a7e7-47fd-91f6-41688426b230"
   },
   "outputs": [
    {
     "data": {
      "image/png": "[encoded data removed]",
      "text/plain": [
       "<Figure size 504x504 with 4 Axes>"
      ]
     },
     "metadata": {
      "needs_background": "light"
     },
     "output_type": "display_data"
    }
   ],
   "source": [
    "data_1.hist(bins=100, figsize=(7,7))\n",
    "plt.show()"
   ]
  },
  {
   "cell_type": "code",
   "execution_count": 11,
   "metadata": {
    "colab": {
     "base_uri": "https://localhost:8080/",
     "height": 444
    },
    "executionInfo": {
     "elapsed": 1289,
     "status": "ok",
     "timestamp": 1675080755900,
     "user": {
      "displayName": "yak ss",
      "userId": "06029463836352548104"
     },
     "user_tz": -300
    },
    "id": "N-aA3bHkjshV",
    "outputId": "dd33da4d-0fec-4e96-f780-a99269849f5b"
   },
   "outputs": [
    {
     "data": {
      "image/png": "[encoded data removed]",
      "text/plain": [
       "<Figure size 504x504 with 4 Axes>"
      ]
     },
     "metadata": {
      "needs_background": "light"
     },
     "output_type": "display_data"
    }
   ],
   "source": [
    "data_2.hist(bins=100, figsize=(7,7))\n",
    "plt.show()"
   ]
  },
  {
   "cell_type": "markdown",
   "metadata": {
    "id": "Wgr_qcDbjshV"
   },
   "source": [
    "Распределения некоторые нормльные , некотрые выглядят как несколько нормальных наложеных друг на друга.    \n",
    "ЧТо от не так с data_1  f2 и product.\n",
    "    \n",
    "  "
   ]
  },
  {
   "cell_type": "markdown",
   "metadata": {
    "id": "eXG-3rgAjshV"
   },
   "source": [
    "### Разбираемся с данными ,котрые выглядят плохо (data_1 ['f2','product'] )\n",
    "\n",
    "Посмотрим данные, используя describe()  "
   ]
  },
  {
   "cell_type": "code",
   "execution_count": 12,
   "metadata": {
    "colab": {
     "base_uri": "https://localhost:8080/",
     "height": 300
    },
    "executionInfo": {
     "elapsed": 283,
     "status": "ok",
     "timestamp": 1675080760410,
     "user": {
      "displayName": "yak ss",
      "userId": "06029463836352548104"
     },
     "user_tz": -300
    },
    "id": "xZkSNChnjshV",
    "outputId": "d6f246df-7340-4d10-f933-de07fe98a1e0"
   },
   "outputs": [
    {
     "data": {
      "text/html": [
       "\n",
       "  <div id=\"df-8a2ea282-058f-4f10-a409-ec5a3d6c3af8\">\n",
       "    <div class=\"colab-df-container\">\n",
       "      <div>\n",
       "<style scoped>\n",
       "    .dataframe tbody tr th:only-of-type {\n",
       "        vertical-align: middle;\n",
       "    }\n",
       "\n",
       "    .dataframe tbody tr th {\n",
       "        vertical-align: top;\n",
       "    }\n",
       "\n",
       "    .dataframe thead th {\n",
       "        text-align: right;\n",
       "    }\n",
       "</style>\n",
       "<table border=\"1\" class=\"dataframe\">\n",
       "  <thead>\n",
       "    <tr style=\"text-align: right;\">\n",
       "      <th></th>\n",
       "      <th>f0</th>\n",
       "      <th>f1</th>\n",
       "      <th>f2</th>\n",
       "      <th>product</th>\n",
       "    </tr>\n",
       "  </thead>\n",
       "  <tbody>\n",
       "    <tr>\n",
       "      <th>count</th>\n",
       "      <td>100000.000000</td>\n",
       "      <td>100000.000000</td>\n",
       "      <td>100000.000000</td>\n",
       "      <td>100000.000000</td>\n",
       "    </tr>\n",
       "    <tr>\n",
       "      <th>mean</th>\n",
       "      <td>0.500419</td>\n",
       "      <td>0.250143</td>\n",
       "      <td>2.502647</td>\n",
       "      <td>92.500000</td>\n",
       "    </tr>\n",
       "    <tr>\n",
       "      <th>std</th>\n",
       "      <td>0.871832</td>\n",
       "      <td>0.504433</td>\n",
       "      <td>3.248248</td>\n",
       "      <td>44.288691</td>\n",
       "    </tr>\n",
       "    <tr>\n",
       "      <th>min</th>\n",
       "      <td>-1.408605</td>\n",
       "      <td>-0.848218</td>\n",
       "      <td>-12.088328</td>\n",
       "      <td>0.000000</td>\n",
       "    </tr>\n",
       "    <tr>\n",
       "      <th>25%</th>\n",
       "      <td>-0.072580</td>\n",
       "      <td>-0.200881</td>\n",
       "      <td>0.287748</td>\n",
       "      <td>56.497507</td>\n",
       "    </tr>\n",
       "    <tr>\n",
       "      <th>50%</th>\n",
       "      <td>0.502360</td>\n",
       "      <td>0.250252</td>\n",
       "      <td>2.515969</td>\n",
       "      <td>91.849972</td>\n",
       "    </tr>\n",
       "    <tr>\n",
       "      <th>75%</th>\n",
       "      <td>1.073581</td>\n",
       "      <td>0.700646</td>\n",
       "      <td>4.715088</td>\n",
       "      <td>128.564089</td>\n",
       "    </tr>\n",
       "    <tr>\n",
       "      <th>max</th>\n",
       "      <td>2.362331</td>\n",
       "      <td>1.343769</td>\n",
       "      <td>16.003790</td>\n",
       "      <td>185.364347</td>\n",
       "    </tr>\n",
       "  </tbody>\n",
       "</table>\n",
       "</div>\n",
       "      <button class=\"colab-df-convert\" onclick=\"convertToInteractive('df-8a2ea282-058f-4f10-a409-ec5a3d6c3af8')\"\n",
       "              title=\"Convert this dataframe to an interactive table.\"\n",
       "              style=\"display:none;\">\n",
       "        \n",
       "  <svg xmlns=\"http://www.w3.org/2000/svg\" height=\"24px\"viewBox=\"0 0 24 24\"\n",
       "       width=\"24px\">\n",
       "    <path d=\"M0 0h24v24H0V0z\" fill=\"none\"/>\n",
       "    <path d=\"M18.56 5.44l.94 2.06.94-2.06 2.06-.94-2.06-.94-.94-2.06-.94 2.06-2.06.94zm-11 1L8.5 8.5l.94-2.06 2.06-.94-2.06-.94L8.5 2.5l-.94 2.06-2.06.94zm10 10l.94 2.06.94-2.06 2.06-.94-2.06-.94-.94-2.06-.94 2.06-2.06.94z\"/><path d=\"M17.41 7.96l-1.37-1.37c-.4-.4-.92-.59-1.43-.59-.52 0-1.04.2-1.43.59L10.3 9.45l-7.72 7.72c-.78.78-.78 2.05 0 2.83L4 21.41c.39.39.9.59 1.41.59.51 0 1.02-.2 1.41-.59l7.78-7.78 2.81-2.81c.8-.78.8-2.07 0-2.86zM5.41 20L4 18.59l7.72-7.72 1.47 1.35L5.41 20z\"/>\n",
       "  </svg>\n",
       "      </button>\n",
       "      \n",
       "  <style>\n",
       "    .colab-df-container {\n",
       "      display:flex;\n",
       "      flex-wrap:wrap;\n",
       "      gap: 12px;\n",
       "    }\n",
       "\n",
       "    .colab-df-convert {\n",
       "      background-color: #E8F0FE;\n",
       "      border: none;\n",
       "      border-radius: 50%;\n",
       "      cursor: pointer;\n",
       "      display: none;\n",
       "      fill: #1967D2;\n",
       "      height: 32px;\n",
       "      padding: 0 0 0 0;\n",
       "      width: 32px;\n",
       "    }\n",
       "\n",
       "    .colab-df-convert:hover {\n",
       "      background-color: #E2EBFA;\n",
       "      box-shadow: 0px 1px 2px rgba(60, 64, 67, 0.3), 0px 1px 3px 1px rgba(60, 64, 67, 0.15);\n",
       "      fill: #174EA6;\n",
       "    }\n",
       "\n",
       "    [theme=dark] .colab-df-convert {\n",
       "      background-color: #3B4455;\n",
       "      fill: #D2E3FC;\n",
       "    }\n",
       "\n",
       "    [theme=dark] .colab-df-convert:hover {\n",
       "      background-color: #434B5C;\n",
       "      box-shadow: 0px 1px 3px 1px rgba(0, 0, 0, 0.15);\n",
       "      filter: drop-shadow(0px 1px 2px rgba(0, 0, 0, 0.3));\n",
       "      fill: #FFFFFF;\n",
       "    }\n",
       "  </style>\n",
       "\n",
       "      <script>\n",
       "        const buttonEl =\n",
       "          document.querySelector('#df-8a2ea282-058f-4f10-a409-ec5a3d6c3af8 button.colab-df-convert');\n",
       "        buttonEl.style.display =\n",
       "          google.colab.kernel.accessAllowed ? 'block' : 'none';\n",
       "\n",
       "        async function convertToInteractive(key) {\n",
       "          const element = document.querySelector('#df-8a2ea282-058f-4f10-a409-ec5a3d6c3af8');\n",
       "          const dataTable =\n",
       "            await google.colab.kernel.invokeFunction('convertToInteractive',\n",
       "                                                     [key], {});\n",
       "          if (!dataTable) return;\n",
       "\n",
       "          const docLinkHtml = 'Like what you see? Visit the ' +\n",
       "            '<a target=\"_blank\" href=https://colab.research.google.com/notebooks/data_table.ipynb>data table notebook</a>'\n",
       "            + ' to learn more about interactive tables.';\n",
       "          element.innerHTML = '';\n",
       "          dataTable['output_type'] = 'display_data';\n",
       "          await google.colab.output.renderOutput(dataTable, element);\n",
       "          const docLink = document.createElement('div');\n",
       "          docLink.innerHTML = docLinkHtml;\n",
       "          element.appendChild(docLink);\n",
       "        }\n",
       "      </script>\n",
       "    </div>\n",
       "  </div>\n",
       "  "
      ],
      "text/plain": [
       "                  f0             f1             f2        product\n",
       "count  100000.000000  100000.000000  100000.000000  100000.000000\n",
       "mean        0.500419       0.250143       2.502647      92.500000\n",
       "std         0.871832       0.504433       3.248248      44.288691\n",
       "min        -1.408605      -0.848218     -12.088328       0.000000\n",
       "25%        -0.072580      -0.200881       0.287748      56.497507\n",
       "50%         0.502360       0.250252       2.515969      91.849972\n",
       "75%         1.073581       0.700646       4.715088     128.564089\n",
       "max         2.362331       1.343769      16.003790     185.364347"
      ]
     },
     "execution_count": 12,
     "metadata": {},
     "output_type": "execute_result"
    }
   ],
   "source": [
    "data_0.describe()"
   ]
  },
  {
   "cell_type": "code",
   "execution_count": 13,
   "metadata": {
    "colab": {
     "base_uri": "https://localhost:8080/",
     "height": 300
    },
    "executionInfo": {
     "elapsed": 306,
     "status": "ok",
     "timestamp": 1675080762145,
     "user": {
      "displayName": "yak ss",
      "userId": "06029463836352548104"
     },
     "user_tz": -300
    },
    "id": "eyA3f2iOjshW",
    "outputId": "d17c817d-b99b-4fd3-fff4-dabb7a487872"
   },
   "outputs": [
    {
     "data": {
      "text/html": [
       "\n",
       "  <div id=\"df-9724f3ae-b64f-4004-a68d-7aba0cbccc66\">\n",
       "    <div class=\"colab-df-container\">\n",
       "      <div>\n",
       "<style scoped>\n",
       "    .dataframe tbody tr th:only-of-type {\n",
       "        vertical-align: middle;\n",
       "    }\n",
       "\n",
       "    .dataframe tbody tr th {\n",
       "        vertical-align: top;\n",
       "    }\n",
       "\n",
       "    .dataframe thead th {\n",
       "        text-align: right;\n",
       "    }\n",
       "</style>\n",
       "<table border=\"1\" class=\"dataframe\">\n",
       "  <thead>\n",
       "    <tr style=\"text-align: right;\">\n",
       "      <th></th>\n",
       "      <th>f0</th>\n",
       "      <th>f1</th>\n",
       "      <th>f2</th>\n",
       "      <th>product</th>\n",
       "    </tr>\n",
       "  </thead>\n",
       "  <tbody>\n",
       "    <tr>\n",
       "      <th>count</th>\n",
       "      <td>100000.000000</td>\n",
       "      <td>100000.000000</td>\n",
       "      <td>100000.000000</td>\n",
       "      <td>100000.000000</td>\n",
       "    </tr>\n",
       "    <tr>\n",
       "      <th>mean</th>\n",
       "      <td>1.141296</td>\n",
       "      <td>-4.796579</td>\n",
       "      <td>2.494541</td>\n",
       "      <td>68.825000</td>\n",
       "    </tr>\n",
       "    <tr>\n",
       "      <th>std</th>\n",
       "      <td>8.965932</td>\n",
       "      <td>5.119872</td>\n",
       "      <td>1.703572</td>\n",
       "      <td>45.944423</td>\n",
       "    </tr>\n",
       "    <tr>\n",
       "      <th>min</th>\n",
       "      <td>-31.609576</td>\n",
       "      <td>-26.358598</td>\n",
       "      <td>-0.018144</td>\n",
       "      <td>0.000000</td>\n",
       "    </tr>\n",
       "    <tr>\n",
       "      <th>25%</th>\n",
       "      <td>-6.298551</td>\n",
       "      <td>-8.267985</td>\n",
       "      <td>1.000021</td>\n",
       "      <td>26.953261</td>\n",
       "    </tr>\n",
       "    <tr>\n",
       "      <th>50%</th>\n",
       "      <td>1.153055</td>\n",
       "      <td>-4.813172</td>\n",
       "      <td>2.011479</td>\n",
       "      <td>57.085625</td>\n",
       "    </tr>\n",
       "    <tr>\n",
       "      <th>75%</th>\n",
       "      <td>8.621015</td>\n",
       "      <td>-1.332816</td>\n",
       "      <td>3.999904</td>\n",
       "      <td>107.813044</td>\n",
       "    </tr>\n",
       "    <tr>\n",
       "      <th>max</th>\n",
       "      <td>29.421755</td>\n",
       "      <td>18.734063</td>\n",
       "      <td>5.019721</td>\n",
       "      <td>137.945408</td>\n",
       "    </tr>\n",
       "  </tbody>\n",
       "</table>\n",
       "</div>\n",
       "      <button class=\"colab-df-convert\" onclick=\"convertToInteractive('df-9724f3ae-b64f-4004-a68d-7aba0cbccc66')\"\n",
       "              title=\"Convert this dataframe to an interactive table.\"\n",
       "              style=\"display:none;\">\n",
       "        \n",
       "  <svg xmlns=\"http://www.w3.org/2000/svg\" height=\"24px\"viewBox=\"0 0 24 24\"\n",
       "       width=\"24px\">\n",
       "    <path d=\"M0 0h24v24H0V0z\" fill=\"none\"/>\n",
       "    <path d=\"M18.56 5.44l.94 2.06.94-2.06 2.06-.94-2.06-.94-.94-2.06-.94 2.06-2.06.94zm-11 1L8.5 8.5l.94-2.06 2.06-.94-2.06-.94L8.5 2.5l-.94 2.06-2.06.94zm10 10l.94 2.06.94-2.06 2.06-.94-2.06-.94-.94-2.06-.94 2.06-2.06.94z\"/><path d=\"M17.41 7.96l-1.37-1.37c-.4-.4-.92-.59-1.43-.59-.52 0-1.04.2-1.43.59L10.3 9.45l-7.72 7.72c-.78.78-.78 2.05 0 2.83L4 21.41c.39.39.9.59 1.41.59.51 0 1.02-.2 1.41-.59l7.78-7.78 2.81-2.81c.8-.78.8-2.07 0-2.86zM5.41 20L4 18.59l7.72-7.72 1.47 1.35L5.41 20z\"/>\n",
       "  </svg>\n",
       "      </button>\n",
       "      \n",
       "  <style>\n",
       "    .colab-df-container {\n",
       "      display:flex;\n",
       "      flex-wrap:wrap;\n",
       "      gap: 12px;\n",
       "    }\n",
       "\n",
       "    .colab-df-convert {\n",
       "      background-color: #E8F0FE;\n",
       "      border: none;\n",
       "      border-radius: 50%;\n",
       "      cursor: pointer;\n",
       "      display: none;\n",
       "      fill: #1967D2;\n",
       "      height: 32px;\n",
       "      padding: 0 0 0 0;\n",
       "      width: 32px;\n",
       "    }\n",
       "\n",
       "    .colab-df-convert:hover {\n",
       "      background-color: #E2EBFA;\n",
       "      box-shadow: 0px 1px 2px rgba(60, 64, 67, 0.3), 0px 1px 3px 1px rgba(60, 64, 67, 0.15);\n",
       "      fill: #174EA6;\n",
       "    }\n",
       "\n",
       "    [theme=dark] .colab-df-convert {\n",
       "      background-color: #3B4455;\n",
       "      fill: #D2E3FC;\n",
       "    }\n",
       "\n",
       "    [theme=dark] .colab-df-convert:hover {\n",
       "      background-color: #434B5C;\n",
       "      box-shadow: 0px 1px 3px 1px rgba(0, 0, 0, 0.15);\n",
       "      filter: drop-shadow(0px 1px 2px rgba(0, 0, 0, 0.3));\n",
       "      fill: #FFFFFF;\n",
       "    }\n",
       "  </style>\n",
       "\n",
       "      <script>\n",
       "        const buttonEl =\n",
       "          document.querySelector('#df-9724f3ae-b64f-4004-a68d-7aba0cbccc66 button.colab-df-convert');\n",
       "        buttonEl.style.display =\n",
       "          google.colab.kernel.accessAllowed ? 'block' : 'none';\n",
       "\n",
       "        async function convertToInteractive(key) {\n",
       "          const element = document.querySelector('#df-9724f3ae-b64f-4004-a68d-7aba0cbccc66');\n",
       "          const dataTable =\n",
       "            await google.colab.kernel.invokeFunction('convertToInteractive',\n",
       "                                                     [key], {});\n",
       "          if (!dataTable) return;\n",
       "\n",
       "          const docLinkHtml = 'Like what you see? Visit the ' +\n",
       "            '<a target=\"_blank\" href=https://colab.research.google.com/notebooks/data_table.ipynb>data table notebook</a>'\n",
       "            + ' to learn more about interactive tables.';\n",
       "          element.innerHTML = '';\n",
       "          dataTable['output_type'] = 'display_data';\n",
       "          await google.colab.output.renderOutput(dataTable, element);\n",
       "          const docLink = document.createElement('div');\n",
       "          docLink.innerHTML = docLinkHtml;\n",
       "          element.appendChild(docLink);\n",
       "        }\n",
       "      </script>\n",
       "    </div>\n",
       "  </div>\n",
       "  "
      ],
      "text/plain": [
       "                  f0             f1             f2        product\n",
       "count  100000.000000  100000.000000  100000.000000  100000.000000\n",
       "mean        1.141296      -4.796579       2.494541      68.825000\n",
       "std         8.965932       5.119872       1.703572      45.944423\n",
       "min       -31.609576     -26.358598      -0.018144       0.000000\n",
       "25%        -6.298551      -8.267985       1.000021      26.953261\n",
       "50%         1.153055      -4.813172       2.011479      57.085625\n",
       "75%         8.621015      -1.332816       3.999904     107.813044\n",
       "max        29.421755      18.734063       5.019721     137.945408"
      ]
     },
     "execution_count": 13,
     "metadata": {},
     "output_type": "execute_result"
    }
   ],
   "source": [
    "data_1.describe()"
   ]
  },
  {
   "cell_type": "code",
   "execution_count": 14,
   "metadata": {
    "colab": {
     "base_uri": "https://localhost:8080/",
     "height": 300
    },
    "executionInfo": {
     "elapsed": 256,
     "status": "ok",
     "timestamp": 1675080763497,
     "user": {
      "displayName": "yak ss",
      "userId": "06029463836352548104"
     },
     "user_tz": -300
    },
    "id": "gqXdl4jZjshW",
    "outputId": "1d4059a3-43ee-4297-a580-b96944b3a079"
   },
   "outputs": [
    {
     "data": {
      "text/html": [
       "\n",
       "  <div id=\"df-b7d8625b-9b39-4dd7-8176-4dbbf2d1d0fc\">\n",
       "    <div class=\"colab-df-container\">\n",
       "      <div>\n",
       "<style scoped>\n",
       "    .dataframe tbody tr th:only-of-type {\n",
       "        vertical-align: middle;\n",
       "    }\n",
       "\n",
       "    .dataframe tbody tr th {\n",
       "        vertical-align: top;\n",
       "    }\n",
       "\n",
       "    .dataframe thead th {\n",
       "        text-align: right;\n",
       "    }\n",
       "</style>\n",
       "<table border=\"1\" class=\"dataframe\">\n",
       "  <thead>\n",
       "    <tr style=\"text-align: right;\">\n",
       "      <th></th>\n",
       "      <th>f0</th>\n",
       "      <th>f1</th>\n",
       "      <th>f2</th>\n",
       "      <th>product</th>\n",
       "    </tr>\n",
       "  </thead>\n",
       "  <tbody>\n",
       "    <tr>\n",
       "      <th>count</th>\n",
       "      <td>100000.000000</td>\n",
       "      <td>100000.000000</td>\n",
       "      <td>100000.000000</td>\n",
       "      <td>100000.000000</td>\n",
       "    </tr>\n",
       "    <tr>\n",
       "      <th>mean</th>\n",
       "      <td>0.002023</td>\n",
       "      <td>-0.002081</td>\n",
       "      <td>2.495128</td>\n",
       "      <td>95.000000</td>\n",
       "    </tr>\n",
       "    <tr>\n",
       "      <th>std</th>\n",
       "      <td>1.732045</td>\n",
       "      <td>1.730417</td>\n",
       "      <td>3.473445</td>\n",
       "      <td>44.749921</td>\n",
       "    </tr>\n",
       "    <tr>\n",
       "      <th>min</th>\n",
       "      <td>-8.760004</td>\n",
       "      <td>-7.084020</td>\n",
       "      <td>-11.970335</td>\n",
       "      <td>0.000000</td>\n",
       "    </tr>\n",
       "    <tr>\n",
       "      <th>25%</th>\n",
       "      <td>-1.162288</td>\n",
       "      <td>-1.174820</td>\n",
       "      <td>0.130359</td>\n",
       "      <td>59.450441</td>\n",
       "    </tr>\n",
       "    <tr>\n",
       "      <th>50%</th>\n",
       "      <td>0.009424</td>\n",
       "      <td>-0.009482</td>\n",
       "      <td>2.484236</td>\n",
       "      <td>94.925613</td>\n",
       "    </tr>\n",
       "    <tr>\n",
       "      <th>75%</th>\n",
       "      <td>1.158535</td>\n",
       "      <td>1.163678</td>\n",
       "      <td>4.858794</td>\n",
       "      <td>130.595027</td>\n",
       "    </tr>\n",
       "    <tr>\n",
       "      <th>max</th>\n",
       "      <td>7.238262</td>\n",
       "      <td>7.844801</td>\n",
       "      <td>16.739402</td>\n",
       "      <td>190.029838</td>\n",
       "    </tr>\n",
       "  </tbody>\n",
       "</table>\n",
       "</div>\n",
       "      <button class=\"colab-df-convert\" onclick=\"convertToInteractive('df-b7d8625b-9b39-4dd7-8176-4dbbf2d1d0fc')\"\n",
       "              title=\"Convert this dataframe to an interactive table.\"\n",
       "              style=\"display:none;\">\n",
       "        \n",
       "  <svg xmlns=\"http://www.w3.org/2000/svg\" height=\"24px\"viewBox=\"0 0 24 24\"\n",
       "       width=\"24px\">\n",
       "    <path d=\"M0 0h24v24H0V0z\" fill=\"none\"/>\n",
       "    <path d=\"M18.56 5.44l.94 2.06.94-2.06 2.06-.94-2.06-.94-.94-2.06-.94 2.06-2.06.94zm-11 1L8.5 8.5l.94-2.06 2.06-.94-2.06-.94L8.5 2.5l-.94 2.06-2.06.94zm10 10l.94 2.06.94-2.06 2.06-.94-2.06-.94-.94-2.06-.94 2.06-2.06.94z\"/><path d=\"M17.41 7.96l-1.37-1.37c-.4-.4-.92-.59-1.43-.59-.52 0-1.04.2-1.43.59L10.3 9.45l-7.72 7.72c-.78.78-.78 2.05 0 2.83L4 21.41c.39.39.9.59 1.41.59.51 0 1.02-.2 1.41-.59l7.78-7.78 2.81-2.81c.8-.78.8-2.07 0-2.86zM5.41 20L4 18.59l7.72-7.72 1.47 1.35L5.41 20z\"/>\n",
       "  </svg>\n",
       "      </button>\n",
       "      \n",
       "  <style>\n",
       "    .colab-df-container {\n",
       "      display:flex;\n",
       "      flex-wrap:wrap;\n",
       "      gap: 12px;\n",
       "    }\n",
       "\n",
       "    .colab-df-convert {\n",
       "      background-color: #E8F0FE;\n",
       "      border: none;\n",
       "      border-radius: 50%;\n",
       "      cursor: pointer;\n",
       "      display: none;\n",
       "      fill: #1967D2;\n",
       "      height: 32px;\n",
       "      padding: 0 0 0 0;\n",
       "      width: 32px;\n",
       "    }\n",
       "\n",
       "    .colab-df-convert:hover {\n",
       "      background-color: #E2EBFA;\n",
       "      box-shadow: 0px 1px 2px rgba(60, 64, 67, 0.3), 0px 1px 3px 1px rgba(60, 64, 67, 0.15);\n",
       "      fill: #174EA6;\n",
       "    }\n",
       "\n",
       "    [theme=dark] .colab-df-convert {\n",
       "      background-color: #3B4455;\n",
       "      fill: #D2E3FC;\n",
       "    }\n",
       "\n",
       "    [theme=dark] .colab-df-convert:hover {\n",
       "      background-color: #434B5C;\n",
       "      box-shadow: 0px 1px 3px 1px rgba(0, 0, 0, 0.15);\n",
       "      filter: drop-shadow(0px 1px 2px rgba(0, 0, 0, 0.3));\n",
       "      fill: #FFFFFF;\n",
       "    }\n",
       "  </style>\n",
       "\n",
       "      <script>\n",
       "        const buttonEl =\n",
       "          document.querySelector('#df-b7d8625b-9b39-4dd7-8176-4dbbf2d1d0fc button.colab-df-convert');\n",
       "        buttonEl.style.display =\n",
       "          google.colab.kernel.accessAllowed ? 'block' : 'none';\n",
       "\n",
       "        async function convertToInteractive(key) {\n",
       "          const element = document.querySelector('#df-b7d8625b-9b39-4dd7-8176-4dbbf2d1d0fc');\n",
       "          const dataTable =\n",
       "            await google.colab.kernel.invokeFunction('convertToInteractive',\n",
       "                                                     [key], {});\n",
       "          if (!dataTable) return;\n",
       "\n",
       "          const docLinkHtml = 'Like what you see? Visit the ' +\n",
       "            '<a target=\"_blank\" href=https://colab.research.google.com/notebooks/data_table.ipynb>data table notebook</a>'\n",
       "            + ' to learn more about interactive tables.';\n",
       "          element.innerHTML = '';\n",
       "          dataTable['output_type'] = 'display_data';\n",
       "          await google.colab.output.renderOutput(dataTable, element);\n",
       "          const docLink = document.createElement('div');\n",
       "          docLink.innerHTML = docLinkHtml;\n",
       "          element.appendChild(docLink);\n",
       "        }\n",
       "      </script>\n",
       "    </div>\n",
       "  </div>\n",
       "  "
      ],
      "text/plain": [
       "                  f0             f1             f2        product\n",
       "count  100000.000000  100000.000000  100000.000000  100000.000000\n",
       "mean        0.002023      -0.002081       2.495128      95.000000\n",
       "std         1.732045       1.730417       3.473445      44.749921\n",
       "min        -8.760004      -7.084020     -11.970335       0.000000\n",
       "25%        -1.162288      -1.174820       0.130359      59.450441\n",
       "50%         0.009424      -0.009482       2.484236      94.925613\n",
       "75%         1.158535       1.163678       4.858794     130.595027\n",
       "max         7.238262       7.844801      16.739402     190.029838"
      ]
     },
     "execution_count": 14,
     "metadata": {},
     "output_type": "execute_result"
    }
   ],
   "source": [
    "data_2.describe()"
   ]
  },
  {
   "cell_type": "markdown",
   "metadata": {
    "id": "_09afieIjshW"
   },
   "source": [
    "describe()  ничего плохого не видно , в трех дата сетах все примерно одинаково...     \n",
    "Но почему же тогда в data1  f2 & product  так выглядят на гистограмме ??  \n",
    "       \n",
    "Посомтрим кол-во уникальных значений через  nunique()       "
   ]
  },
  {
   "cell_type": "code",
   "execution_count": 15,
   "metadata": {
    "colab": {
     "base_uri": "https://localhost:8080/"
    },
    "executionInfo": {
     "elapsed": 264,
     "status": "ok",
     "timestamp": 1675080766748,
     "user": {
      "displayName": "yak ss",
      "userId": "06029463836352548104"
     },
     "user_tz": -300
    },
    "id": "ip5j_AMvjshW",
    "outputId": "e2adaa08-aaa4-483e-d487-e9b75ec1508e"
   },
   "outputs": [
    {
     "name": "stdout",
     "output_type": "stream",
     "text": [
      "data_0['product'].nunique() =  100000\n",
      "data_1['product'].nunique() =  12\n",
      "data_2['product'].nunique() =  100000\n"
     ]
    }
   ],
   "source": [
    "# кол-во уникальных значений для 3х дата сетов для 'product'\n",
    "print (\"data_0['product'].nunique() = \" , data_0['product'].nunique())\n",
    "print (\"data_1['product'].nunique() = \" , data_1['product'].nunique())\n",
    "print (\"data_2['product'].nunique() = \" , data_2['product'].nunique())"
   ]
  },
  {
   "cell_type": "code",
   "execution_count": 16,
   "metadata": {
    "colab": {
     "base_uri": "https://localhost:8080/"
    },
    "executionInfo": {
     "elapsed": 6,
     "status": "ok",
     "timestamp": 1675080767938,
     "user": {
      "displayName": "yak ss",
      "userId": "06029463836352548104"
     },
     "user_tz": -300
    },
    "id": "aiNMHoNojshX",
    "outputId": "ff765c94-fe88-47d3-9dd5-beda189c65b0"
   },
   "outputs": [
    {
     "name": "stdout",
     "output_type": "stream",
     "text": [
      "data_0['f2'].nunique() =  100000\n",
      "data_1['f2'].nunique() =  100000\n",
      "data_2['f2'].nunique() =  100000\n"
     ]
    }
   ],
   "source": [
    "# кол-во уникальных значений для 3х дата сетов для 'f2'\n",
    "print (\"data_0['f2'].nunique() = \" , data_0['f2'].nunique())\n",
    "print (\"data_1['f2'].nunique() = \" , data_1['f2'].nunique())\n",
    "print (\"data_2['f2'].nunique() = \" , data_2['f2'].nunique())"
   ]
  },
  {
   "cell_type": "markdown",
   "metadata": {
    "id": "dAhM8HmyjshX"
   },
   "source": [
    "Теперь видно, что почему  для региона_#2( data_1) уникальных значений таргетов('product') всего 12    \n",
    "f2 везде одинаково по 100 000 уник знач, но почему такая гистограмма?  Построим отдельно диаграмму рассеивания.   \n"
   ]
  },
  {
   "cell_type": "code",
   "execution_count": 17,
   "metadata": {
    "colab": {
     "base_uri": "https://localhost:8080/",
     "height": 351
    },
    "executionInfo": {
     "elapsed": 404,
     "status": "ok",
     "timestamp": 1675080770676,
     "user": {
      "displayName": "yak ss",
      "userId": "06029463836352548104"
     },
     "user_tz": -300
    },
    "id": "Zowl1kgPjshX",
    "outputId": "06c258e5-389e-41e5-845e-eef76a568322"
   },
   "outputs": [
    {
     "data": {
      "text/plain": [
       "<matplotlib.axes._subplots.AxesSubplot at 0x7fd933f1d610>"
      ]
     },
     "execution_count": 17,
     "metadata": {},
     "output_type": "execute_result"
    },
    {
     "data": {
      "image/png": "[encoded data removed]",
      "text/plain": [
       "<Figure size 360x360 with 1 Axes>"
      ]
     },
     "metadata": {
      "needs_background": "light"
     },
     "output_type": "display_data"
    }
   ],
   "source": [
    "#диаграмма рассеивания f2  к product\n",
    "data_1.plot( x='f2', y='product', kind='scatter', alpha=0.1,figsize=(5, 5), color='#73A9AD')"
   ]
  },
  {
   "cell_type": "code",
   "execution_count": 18,
   "metadata": {
    "colab": {
     "base_uri": "https://localhost:8080/",
     "height": 337
    },
    "executionInfo": {
     "elapsed": 543,
     "status": "ok",
     "timestamp": 1675080772218,
     "user": {
      "displayName": "yak ss",
      "userId": "06029463836352548104"
     },
     "user_tz": -300
    },
    "id": "jSfd1gQ8jshX",
    "outputId": "9ec08f2d-89d6-4fc6-a0ee-420f54f43d85"
   },
   "outputs": [
    {
     "data": {
      "text/plain": [
       "<matplotlib.axes._subplots.AxesSubplot at 0x7fd9345e63a0>"
      ]
     },
     "execution_count": 18,
     "metadata": {},
     "output_type": "execute_result"
    },
    {
     "data": {
      "image/png": "[encoded data removed]",
      "text/plain": [
       "<Figure size 360x360 with 1 Axes>"
      ]
     },
     "metadata": {
      "needs_background": "light"
     },
     "output_type": "display_data"
    }
   ],
   "source": [
    "# теперь глянем в близи одной точки\n",
    "data_1['f2'].plot(kind='hist', figsize=(5, 5), color='#73A9AD', range=(1.98, 2.02), bins=100)"
   ]
  },
  {
   "cell_type": "markdown",
   "metadata": {
    "id": "GZ926mn6jshX"
   },
   "source": [
    "В итоге все прояснилось.  Если в data_0, data_2  признак f2 имеем нормальное распределение, то в data_1  имеем 6 шт очень узких нормальных распределений, которые \"порождают\"   всего 12шт  уник значений таргета.  Почему такие данные  , сложно сказать.     \n",
    "Как это повлияет на ML пока не ясно на данном этапе. Но в любом случае что то сделать с данными невозможно."
   ]
  },
  {
   "cell_type": "markdown",
   "metadata": {
    "id": "YWVurS2hjshY"
   },
   "source": [
    "### Подготовка данных к ML\n",
    "Для каждого набора данных:    \n",
    "Откинем лишние  признаки (ID не понадобится в ML).  \n",
    "Разобьем датасеты на фьючи и таргет.   \n",
    "Разобьем выборки на тренир и валидационную.\n",
    "Проведем масштабирование.\n",
    "Категориальных переменных здесь нет, OHE не  понадобится.\n"
   ]
  },
  {
   "cell_type": "code",
   "execution_count": 19,
   "metadata": {
    "colab": {
     "base_uri": "https://localhost:8080/",
     "height": 206
    },
    "executionInfo": {
     "elapsed": 267,
     "status": "ok",
     "timestamp": 1675080776152,
     "user": {
      "displayName": "yak ss",
      "userId": "06029463836352548104"
     },
     "user_tz": -300
    },
    "id": "80xvQo45jshY",
    "outputId": "6ae05363-8b82-438a-8fe6-7b8e9406cb0e"
   },
   "outputs": [
    {
     "data": {
      "text/html": [
       "\n",
       "  <div id=\"df-1244ce46-fe62-4377-9fd4-44f6015814e3\">\n",
       "    <div class=\"colab-df-container\">\n",
       "      <div>\n",
       "<style scoped>\n",
       "    .dataframe tbody tr th:only-of-type {\n",
       "        vertical-align: middle;\n",
       "    }\n",
       "\n",
       "    .dataframe tbody tr th {\n",
       "        vertical-align: top;\n",
       "    }\n",
       "\n",
       "    .dataframe thead th {\n",
       "        text-align: right;\n",
       "    }\n",
       "</style>\n",
       "<table border=\"1\" class=\"dataframe\">\n",
       "  <thead>\n",
       "    <tr style=\"text-align: right;\">\n",
       "      <th></th>\n",
       "      <th>id</th>\n",
       "      <th>f0</th>\n",
       "      <th>f1</th>\n",
       "      <th>f2</th>\n",
       "      <th>product</th>\n",
       "    </tr>\n",
       "  </thead>\n",
       "  <tbody>\n",
       "    <tr>\n",
       "      <th>0</th>\n",
       "      <td>kBEdx</td>\n",
       "      <td>-15.001348</td>\n",
       "      <td>-8.276000</td>\n",
       "      <td>-0.005876</td>\n",
       "      <td>3.179103</td>\n",
       "    </tr>\n",
       "    <tr>\n",
       "      <th>1</th>\n",
       "      <td>62mP7</td>\n",
       "      <td>14.272088</td>\n",
       "      <td>-3.475083</td>\n",
       "      <td>0.999183</td>\n",
       "      <td>26.953261</td>\n",
       "    </tr>\n",
       "    <tr>\n",
       "      <th>2</th>\n",
       "      <td>vyE1P</td>\n",
       "      <td>6.263187</td>\n",
       "      <td>-5.948386</td>\n",
       "      <td>5.001160</td>\n",
       "      <td>134.766305</td>\n",
       "    </tr>\n",
       "    <tr>\n",
       "      <th>3</th>\n",
       "      <td>KcrkZ</td>\n",
       "      <td>-13.081196</td>\n",
       "      <td>-11.506057</td>\n",
       "      <td>4.999415</td>\n",
       "      <td>137.945408</td>\n",
       "    </tr>\n",
       "    <tr>\n",
       "      <th>4</th>\n",
       "      <td>AHL4O</td>\n",
       "      <td>12.702195</td>\n",
       "      <td>-8.147433</td>\n",
       "      <td>5.004363</td>\n",
       "      <td>134.766305</td>\n",
       "    </tr>\n",
       "  </tbody>\n",
       "</table>\n",
       "</div>\n",
       "      <button class=\"colab-df-convert\" onclick=\"convertToInteractive('df-1244ce46-fe62-4377-9fd4-44f6015814e3')\"\n",
       "              title=\"Convert this dataframe to an interactive table.\"\n",
       "              style=\"display:none;\">\n",
       "        \n",
       "  <svg xmlns=\"http://www.w3.org/2000/svg\" height=\"24px\"viewBox=\"0 0 24 24\"\n",
       "       width=\"24px\">\n",
       "    <path d=\"M0 0h24v24H0V0z\" fill=\"none\"/>\n",
       "    <path d=\"M18.56 5.44l.94 2.06.94-2.06 2.06-.94-2.06-.94-.94-2.06-.94 2.06-2.06.94zm-11 1L8.5 8.5l.94-2.06 2.06-.94-2.06-.94L8.5 2.5l-.94 2.06-2.06.94zm10 10l.94 2.06.94-2.06 2.06-.94-2.06-.94-.94-2.06-.94 2.06-2.06.94z\"/><path d=\"M17.41 7.96l-1.37-1.37c-.4-.4-.92-.59-1.43-.59-.52 0-1.04.2-1.43.59L10.3 9.45l-7.72 7.72c-.78.78-.78 2.05 0 2.83L4 21.41c.39.39.9.59 1.41.59.51 0 1.02-.2 1.41-.59l7.78-7.78 2.81-2.81c.8-.78.8-2.07 0-2.86zM5.41 20L4 18.59l7.72-7.72 1.47 1.35L5.41 20z\"/>\n",
       "  </svg>\n",
       "      </button>\n",
       "      \n",
       "  <style>\n",
       "    .colab-df-container {\n",
       "      display:flex;\n",
       "      flex-wrap:wrap;\n",
       "      gap: 12px;\n",
       "    }\n",
       "\n",
       "    .colab-df-convert {\n",
       "      background-color: #E8F0FE;\n",
       "      border: none;\n",
       "      border-radius: 50%;\n",
       "      cursor: pointer;\n",
       "      display: none;\n",
       "      fill: #1967D2;\n",
       "      height: 32px;\n",
       "      padding: 0 0 0 0;\n",
       "      width: 32px;\n",
       "    }\n",
       "\n",
       "    .colab-df-convert:hover {\n",
       "      background-color: #E2EBFA;\n",
       "      box-shadow: 0px 1px 2px rgba(60, 64, 67, 0.3), 0px 1px 3px 1px rgba(60, 64, 67, 0.15);\n",
       "      fill: #174EA6;\n",
       "    }\n",
       "\n",
       "    [theme=dark] .colab-df-convert {\n",
       "      background-color: #3B4455;\n",
       "      fill: #D2E3FC;\n",
       "    }\n",
       "\n",
       "    [theme=dark] .colab-df-convert:hover {\n",
       "      background-color: #434B5C;\n",
       "      box-shadow: 0px 1px 3px 1px rgba(0, 0, 0, 0.15);\n",
       "      filter: drop-shadow(0px 1px 2px rgba(0, 0, 0, 0.3));\n",
       "      fill: #FFFFFF;\n",
       "    }\n",
       "  </style>\n",
       "\n",
       "      <script>\n",
       "        const buttonEl =\n",
       "          document.querySelector('#df-1244ce46-fe62-4377-9fd4-44f6015814e3 button.colab-df-convert');\n",
       "        buttonEl.style.display =\n",
       "          google.colab.kernel.accessAllowed ? 'block' : 'none';\n",
       "\n",
       "        async function convertToInteractive(key) {\n",
       "          const element = document.querySelector('#df-1244ce46-fe62-4377-9fd4-44f6015814e3');\n",
       "          const dataTable =\n",
       "            await google.colab.kernel.invokeFunction('convertToInteractive',\n",
       "                                                     [key], {});\n",
       "          if (!dataTable) return;\n",
       "\n",
       "          const docLinkHtml = 'Like what you see? Visit the ' +\n",
       "            '<a target=\"_blank\" href=https://colab.research.google.com/notebooks/data_table.ipynb>data table notebook</a>'\n",
       "            + ' to learn more about interactive tables.';\n",
       "          element.innerHTML = '';\n",
       "          dataTable['output_type'] = 'display_data';\n",
       "          await google.colab.output.renderOutput(dataTable, element);\n",
       "          const docLink = document.createElement('div');\n",
       "          docLink.innerHTML = docLinkHtml;\n",
       "          element.appendChild(docLink);\n",
       "        }\n",
       "      </script>\n",
       "    </div>\n",
       "  </div>\n",
       "  "
      ],
      "text/plain": [
       "      id         f0         f1        f2     product\n",
       "0  kBEdx -15.001348  -8.276000 -0.005876    3.179103\n",
       "1  62mP7  14.272088  -3.475083  0.999183   26.953261\n",
       "2  vyE1P   6.263187  -5.948386  5.001160  134.766305\n",
       "3  KcrkZ -13.081196 -11.506057  4.999415  137.945408\n",
       "4  AHL4O  12.702195  -8.147433  5.004363  134.766305"
      ]
     },
     "execution_count": 19,
     "metadata": {},
     "output_type": "execute_result"
    }
   ],
   "source": [
    "data_1.head()"
   ]
  },
  {
   "cell_type": "code",
   "execution_count": 20,
   "metadata": {
    "executionInfo": {
     "elapsed": 2,
     "status": "ok",
     "timestamp": 1675080777290,
     "user": {
      "displayName": "yak ss",
      "userId": "06029463836352548104"
     },
     "user_tz": -300
    },
    "id": "u1jFDFpyjshY"
   },
   "outputs": [],
   "source": [
    "# дропаем колонку с id\n",
    "data_0 = data_0.drop(columns='id')\n",
    "data_1 = data_1.drop(columns='id')\n",
    "data_2 = data_2.drop(columns='id')"
   ]
  },
  {
   "cell_type": "code",
   "execution_count": 21,
   "metadata": {
    "executionInfo": {
     "elapsed": 1,
     "status": "ok",
     "timestamp": 1675080777566,
     "user": {
      "displayName": "yak ss",
      "userId": "06029463836352548104"
     },
     "user_tz": -300
    },
    "id": "0iMXLzP1jshY"
   },
   "outputs": [],
   "source": [
    "# разбиваем на фьючи и таргет\n",
    "\n",
    "features_0 = data_0.drop(columns='product')\n",
    "target_0 = data_0['product']\n",
    "\n",
    "features_1 = data_1.drop(columns='product')\n",
    "target_1 = data_1['product']\n",
    "\n",
    "features_2 = data_2.drop(columns='product')\n",
    "target_2 = data_2['product']\n",
    "\n",
    "#разбиваем на трен и валид\n",
    "\n"
   ]
  },
  {
   "cell_type": "code",
   "execution_count": 22,
   "metadata": {
    "colab": {
     "base_uri": "https://localhost:8080/"
    },
    "executionInfo": {
     "elapsed": 267,
     "status": "ok",
     "timestamp": 1675080779172,
     "user": {
      "displayName": "yak ss",
      "userId": "06029463836352548104"
     },
     "user_tz": -300
    },
    "id": "IJWJPKP_jshY",
    "outputId": "ffe5d773-543a-4d4f-ae84-6850aab07634"
   },
   "outputs": [
    {
     "name": "stdout",
     "output_type": "stream",
     "text": [
      "features_0_train.shape= (75000, 3)\n",
      "features_0_valid.shape= (25000, 3)\n"
     ]
    }
   ],
   "source": [
    "#разбиваем на трен и валид\n",
    "\n",
    "features_0_train, features_0_valid, target_0_train , target_0_valid = \\\n",
    "                                    train_test_split(features_0 ,target_0, test_size=0.25, random_state=333)\n",
    "\n",
    "features_1_train, features_1_valid, target_1_train , target_1_valid = \\\n",
    "                                    train_test_split(features_1 ,target_1, test_size=0.25, random_state=333)\n",
    "\n",
    "features_2_train, features_2_valid, target_2_train , target_2_valid = \\\n",
    "                                    train_test_split(features_2 ,target_2, test_size=0.25, random_state=333)\n",
    "\n",
    "#првоерим размерности\n",
    "print ('features_0_train.shape=' ,features_0_train.shape)\n",
    "print ('features_0_valid.shape=' ,features_0_valid.shape)"
   ]
  },
  {
   "cell_type": "code",
   "execution_count": 23,
   "metadata": {
    "colab": {
     "base_uri": "https://localhost:8080/",
     "height": 206
    },
    "executionInfo": {
     "elapsed": 3,
     "status": "ok",
     "timestamp": 1675080779434,
     "user": {
      "displayName": "yak ss",
      "userId": "06029463836352548104"
     },
     "user_tz": -300
    },
    "id": "NwlSTbELjshZ",
    "outputId": "7ad85d62-c30a-48be-b5e7-e8e1568bbd5f"
   },
   "outputs": [
    {
     "data": {
      "text/html": [
       "\n",
       "  <div id=\"df-ebb05a04-cbdc-45dd-8b58-4523c760051a\">\n",
       "    <div class=\"colab-df-container\">\n",
       "      <div>\n",
       "<style scoped>\n",
       "    .dataframe tbody tr th:only-of-type {\n",
       "        vertical-align: middle;\n",
       "    }\n",
       "\n",
       "    .dataframe tbody tr th {\n",
       "        vertical-align: top;\n",
       "    }\n",
       "\n",
       "    .dataframe thead th {\n",
       "        text-align: right;\n",
       "    }\n",
       "</style>\n",
       "<table border=\"1\" class=\"dataframe\">\n",
       "  <thead>\n",
       "    <tr style=\"text-align: right;\">\n",
       "      <th></th>\n",
       "      <th>f0</th>\n",
       "      <th>f1</th>\n",
       "      <th>f2</th>\n",
       "    </tr>\n",
       "  </thead>\n",
       "  <tbody>\n",
       "    <tr>\n",
       "      <th>9428</th>\n",
       "      <td>-1.909812</td>\n",
       "      <td>-0.156743</td>\n",
       "      <td>1.466282</td>\n",
       "    </tr>\n",
       "    <tr>\n",
       "      <th>78798</th>\n",
       "      <td>-1.040373</td>\n",
       "      <td>1.090883</td>\n",
       "      <td>-0.878989</td>\n",
       "    </tr>\n",
       "    <tr>\n",
       "      <th>98024</th>\n",
       "      <td>0.312766</td>\n",
       "      <td>0.348320</td>\n",
       "      <td>0.877821</td>\n",
       "    </tr>\n",
       "    <tr>\n",
       "      <th>71098</th>\n",
       "      <td>-0.894723</td>\n",
       "      <td>0.120802</td>\n",
       "      <td>-0.296121</td>\n",
       "    </tr>\n",
       "    <tr>\n",
       "      <th>64564</th>\n",
       "      <td>-0.357926</td>\n",
       "      <td>-0.926255</td>\n",
       "      <td>0.879970</td>\n",
       "    </tr>\n",
       "  </tbody>\n",
       "</table>\n",
       "</div>\n",
       "      <button class=\"colab-df-convert\" onclick=\"convertToInteractive('df-ebb05a04-cbdc-45dd-8b58-4523c760051a')\"\n",
       "              title=\"Convert this dataframe to an interactive table.\"\n",
       "              style=\"display:none;\">\n",
       "        \n",
       "  <svg xmlns=\"http://www.w3.org/2000/svg\" height=\"24px\"viewBox=\"0 0 24 24\"\n",
       "       width=\"24px\">\n",
       "    <path d=\"M0 0h24v24H0V0z\" fill=\"none\"/>\n",
       "    <path d=\"M18.56 5.44l.94 2.06.94-2.06 2.06-.94-2.06-.94-.94-2.06-.94 2.06-2.06.94zm-11 1L8.5 8.5l.94-2.06 2.06-.94-2.06-.94L8.5 2.5l-.94 2.06-2.06.94zm10 10l.94 2.06.94-2.06 2.06-.94-2.06-.94-.94-2.06-.94 2.06-2.06.94z\"/><path d=\"M17.41 7.96l-1.37-1.37c-.4-.4-.92-.59-1.43-.59-.52 0-1.04.2-1.43.59L10.3 9.45l-7.72 7.72c-.78.78-.78 2.05 0 2.83L4 21.41c.39.39.9.59 1.41.59.51 0 1.02-.2 1.41-.59l7.78-7.78 2.81-2.81c.8-.78.8-2.07 0-2.86zM5.41 20L4 18.59l7.72-7.72 1.47 1.35L5.41 20z\"/>\n",
       "  </svg>\n",
       "      </button>\n",
       "      \n",
       "  <style>\n",
       "    .colab-df-container {\n",
       "      display:flex;\n",
       "      flex-wrap:wrap;\n",
       "      gap: 12px;\n",
       "    }\n",
       "\n",
       "    .colab-df-convert {\n",
       "      background-color: #E8F0FE;\n",
       "      border: none;\n",
       "      border-radius: 50%;\n",
       "      cursor: pointer;\n",
       "      display: none;\n",
       "      fill: #1967D2;\n",
       "      height: 32px;\n",
       "      padding: 0 0 0 0;\n",
       "      width: 32px;\n",
       "    }\n",
       "\n",
       "    .colab-df-convert:hover {\n",
       "      background-color: #E2EBFA;\n",
       "      box-shadow: 0px 1px 2px rgba(60, 64, 67, 0.3), 0px 1px 3px 1px rgba(60, 64, 67, 0.15);\n",
       "      fill: #174EA6;\n",
       "    }\n",
       "\n",
       "    [theme=dark] .colab-df-convert {\n",
       "      background-color: #3B4455;\n",
       "      fill: #D2E3FC;\n",
       "    }\n",
       "\n",
       "    [theme=dark] .colab-df-convert:hover {\n",
       "      background-color: #434B5C;\n",
       "      box-shadow: 0px 1px 3px 1px rgba(0, 0, 0, 0.15);\n",
       "      filter: drop-shadow(0px 1px 2px rgba(0, 0, 0, 0.3));\n",
       "      fill: #FFFFFF;\n",
       "    }\n",
       "  </style>\n",
       "\n",
       "      <script>\n",
       "        const buttonEl =\n",
       "          document.querySelector('#df-ebb05a04-cbdc-45dd-8b58-4523c760051a button.colab-df-convert');\n",
       "        buttonEl.style.display =\n",
       "          google.colab.kernel.accessAllowed ? 'block' : 'none';\n",
       "\n",
       "        async function convertToInteractive(key) {\n",
       "          const element = document.querySelector('#df-ebb05a04-cbdc-45dd-8b58-4523c760051a');\n",
       "          const dataTable =\n",
       "            await google.colab.kernel.invokeFunction('convertToInteractive',\n",
       "                                                     [key], {});\n",
       "          if (!dataTable) return;\n",
       "\n",
       "          const docLinkHtml = 'Like what you see? Visit the ' +\n",
       "            '<a target=\"_blank\" href=https://colab.research.google.com/notebooks/data_table.ipynb>data table notebook</a>'\n",
       "            + ' to learn more about interactive tables.';\n",
       "          element.innerHTML = '';\n",
       "          dataTable['output_type'] = 'display_data';\n",
       "          await google.colab.output.renderOutput(dataTable, element);\n",
       "          const docLink = document.createElement('div');\n",
       "          docLink.innerHTML = docLinkHtml;\n",
       "          element.appendChild(docLink);\n",
       "        }\n",
       "      </script>\n",
       "    </div>\n",
       "  </div>\n",
       "  "
      ],
      "text/plain": [
       "             f0        f1        f2\n",
       "9428  -1.909812 -0.156743  1.466282\n",
       "78798 -1.040373  1.090883 -0.878989\n",
       "98024  0.312766  0.348320  0.877821\n",
       "71098 -0.894723  0.120802 -0.296121\n",
       "64564 -0.357926 -0.926255  0.879970"
      ]
     },
     "execution_count": 23,
     "metadata": {},
     "output_type": "execute_result"
    }
   ],
   "source": [
    "#масштабирование\n",
    "# создаём скелер ,  в датасетах все признаки численные \n",
    "scaler = StandardScaler()\n",
    "scaler_features = features_0.select_dtypes(exclude='object').columns.to_list()\n",
    "# обучаем скелер на численных признаках тренировочной выборки\n",
    "scaler.fit(features_0_train)\n",
    "\n",
    "#масштабируем все выборки\n",
    "features_0_train[scaler_features] = scaler.transform(features_0_train[scaler_features])\n",
    "features_0_valid[scaler_features] = scaler.transform(features_0_valid[scaler_features])\n",
    "\n",
    "#повторяем для данных _1\n",
    "scaler = StandardScaler()\n",
    "scaler.fit(features_1_train)\n",
    "features_1_train[scaler_features] = scaler.transform(features_1_train[scaler_features])\n",
    "features_1_valid[scaler_features] = scaler.transform(features_1_valid[scaler_features])\n",
    "\n",
    "#повторяем для данных _2\n",
    "scaler = StandardScaler()\n",
    "scaler.fit(features_2_train)\n",
    "features_2_train[scaler_features] = scaler.transform(features_2_train[scaler_features])\n",
    "features_2_valid[scaler_features] = scaler.transform(features_2_valid[scaler_features])\n",
    "\n",
    "# проверяем\n",
    "features_1_train.head()"
   ]
  },
  {
   "cell_type": "markdown",
   "metadata": {
    "id": "aOQsN8_0jshZ"
   },
   "source": [
    "**Вывод** данные готовы к ML,выборки разбиты, выполнено масштабирвоание."
   ]
  },
  {
   "cell_type": "markdown",
   "metadata": {
    "id": "VXr1E-KajshZ"
   },
   "source": [
    "## Обучение и проверка модели"
   ]
  },
  {
   "cell_type": "code",
   "execution_count": 24,
   "metadata": {
    "colab": {
     "base_uri": "https://localhost:8080/"
    },
    "executionInfo": {
     "elapsed": 263,
     "status": "ok",
     "timestamp": 1675080785800,
     "user": {
      "displayName": "yak ss",
      "userId": "06029463836352548104"
     },
     "user_tz": -300
    },
    "id": "_r41AxKNjshZ",
    "outputId": "577d50f8-70cf-41a7-e5fc-169a6e584380"
   },
   "outputs": [
    {
     "data": {
      "text/plain": [
       "LinearRegression()"
      ]
     },
     "execution_count": 24,
     "metadata": {},
     "output_type": "execute_result"
    }
   ],
   "source": [
    "# обучение моделей\n",
    "model_0 = LinearRegression()\n",
    "model_1 = LinearRegression()\n",
    "model_2 = LinearRegression()\n",
    "\n",
    "model_0.fit(features_0_train, target_0_train)\n",
    "model_1.fit(features_1_train, target_1_train)\n",
    "model_2.fit(features_2_train, target_2_train)"
   ]
  },
  {
   "cell_type": "code",
   "execution_count": 25,
   "metadata": {
    "executionInfo": {
     "elapsed": 1,
     "status": "ok",
     "timestamp": 1675080786818,
     "user": {
      "displayName": "yak ss",
      "userId": "06029463836352548104"
     },
     "user_tz": -300
    },
    "id": "bBSUY5Y1jshZ"
   },
   "outputs": [],
   "source": [
    "#получение предсказаний на валидац выборке\n",
    "predict_0_valid = model_0.predict(features_0_valid)\n",
    "predict_1_valid = model_1.predict(features_1_valid)\n",
    "predict_2_valid = model_2.predict(features_2_valid)"
   ]
  },
  {
   "cell_type": "code",
   "execution_count": 26,
   "metadata": {
    "colab": {
     "base_uri": "https://localhost:8080/"
    },
    "executionInfo": {
     "elapsed": 6,
     "status": "ok",
     "timestamp": 1675080787863,
     "user": {
      "displayName": "yak ss",
      "userId": "06029463836352548104"
     },
     "user_tz": -300
    },
    "id": "ZbFU63EIjshZ",
    "outputId": "62aec8f5-7053-4d67-b8f6-dc4dd159081d",
    "scrolled": true
   },
   "outputs": [
    {
     "name": "stdout",
     "output_type": "stream",
     "text": [
      "Средний запас предск. сырья первого региона =  92.25413811475417 ,  rmse= 37.596877500413\n",
      "Средний запас предск. сырья второго региона =  68.4687776046565 ,   rmse= 0.8847944517244745\n",
      "Средний запас предск. сырья третьего региона =  95.12352664262353 , rmse= 39.844211967707004\n"
     ]
    }
   ],
   "source": [
    "#средний запас предсказанного сырья \n",
    "\n",
    "predict_0_mean = predict_0_valid.mean()\n",
    "predict_1_mean = predict_1_valid.mean()\n",
    "predict_2_mean = predict_2_valid.mean()\n",
    "\n",
    "#и RMSE моделей\n",
    "rmse_0 = mean_squared_error(target_0_valid, predict_0_valid)**0.5\n",
    "rmse_1 = mean_squared_error(target_1_valid, predict_1_valid)**0.5\n",
    "rmse_2 = mean_squared_error(target_2_valid, predict_2_valid)**0.5\n",
    "\n",
    "print ('Средний запас предск. сырья первого региона = ',predict_0_mean,',  rmse=',rmse_0 )\n",
    "print ('Средний запас предск. сырья второго региона = ', predict_1_mean,',   rmse=',rmse_1  )\n",
    "print ('Средний запас предск. сырья третьего региона = ', predict_2_mean,', rmse=',rmse_2  )\n",
    "\n"
   ]
  },
  {
   "cell_type": "markdown",
   "metadata": {
    "id": "dB8R2TxTjsha"
   },
   "source": [
    "**Вывод** во втором регионе предсказания получились очень точные, из за осбоенностей данных."
   ]
  },
  {
   "cell_type": "markdown",
   "metadata": {
    "id": "VGd6WBIYjsha"
   },
   "source": [
    "## Подготовка к расчёту прибыли"
   ]
  },
  {
   "cell_type": "markdown",
   "metadata": {
    "id": "s8JgDazkjsha"
   },
   "source": [
    "Рассчитайте достаточный объём сырья для безубыточной разработки новой скважины. Сравните полученный объём сырья со средним запасом в каждом регионе. "
   ]
  },
  {
   "cell_type": "code",
   "execution_count": 27,
   "metadata": {
    "executionInfo": {
     "elapsed": 312,
     "status": "ok",
     "timestamp": 1675080792016,
     "user": {
      "displayName": "yak ss",
      "userId": "06029463836352548104"
     },
     "user_tz": -300
    },
    "id": "48Tle5FSjshb"
   },
   "outputs": [],
   "source": [
    "# все ключевые значения для расчетов\n",
    "\n",
    "INVESTMENT = 10_000_000_000    #инвестиции в разработку\n",
    "NUMBER_OF_WELL = 200   # кол-во скважин в разработку\n",
    "INCOME_ONE_RESOURCE = 450_000  # доход с одного ресурса (1000 баралей нефти)"
   ]
  },
  {
   "cell_type": "code",
   "execution_count": 28,
   "metadata": {
    "colab": {
     "base_uri": "https://localhost:8080/"
    },
    "executionInfo": {
     "elapsed": 5,
     "status": "ok",
     "timestamp": 1675080793064,
     "user": {
      "displayName": "yak ss",
      "userId": "06029463836352548104"
     },
     "user_tz": -300
    },
    "id": "1xBoMHfqjshb",
    "outputId": "ee812aab-5303-4016-8c21-acf9df73ddc2"
   },
   "outputs": [
    {
     "name": "stdout",
     "output_type": "stream",
     "text": [
      "средний достаточный обьем сырья для без убыточной разработки скважины 111.11111111111111\n",
      "средний запас в первом регионе 92.50000000000001\n",
      "средний запас в 2м регионе 68.82500000000002\n",
      "средний запас в 3м регионе 95.00000000000004\n"
     ]
    }
   ],
   "source": [
    "#200 скважин под разработку , 450 к руб c единицы сырья,  и должно быть больше 10 ккк руб\n",
    "\n",
    "# средний достаточный обьем сюрья для без убыточной разработки скважины\n",
    "payback_mean = INVESTMENT /NUMBER_OF_WELL/ INCOME_ONE_RESOURCE\n",
    "\n",
    "print ('средний достаточный обьем сырья для без убыточной разработки скважины' , payback_mean)\n",
    "print ('средний запас в первом регионе' ,target_0.mean())\n",
    "print ('средний запас в 2м регионе' ,target_1.mean())\n",
    "print ('средний запас в 3м регионе' ,target_2.mean())"
   ]
  },
  {
   "cell_type": "markdown",
   "metadata": {
    "id": "xXaSbfq3jshb"
   },
   "source": [
    "**Вывод** Как видно потенциальные регионы это первый и третий. Там средние запас сырья близок к с среднедостаточному для без убыточной добычи.   \n",
    "Интересно, что средний запас реальный(таргет) и предсказанный почти равны."
   ]
  },
  {
   "cell_type": "markdown",
   "metadata": {
    "id": "ZcuoMsmUjshb"
   },
   "source": [
    "## Расчёт прибыли и рисков "
   ]
  },
  {
   "cell_type": "markdown",
   "metadata": {
    "id": "ma1Xmqlujshb"
   },
   "source": [
    "Напишите функцию для расчёта прибыли по выбранным скважинам и предсказаниям модели:\n",
    " 4.1. Выберите скважины с максимальными значениями предсказаний. \n",
    " 4.2. Просуммируйте целевое значение объёма сырья, соответствующее этим предсказаниям.\n",
    " 4.3. Рассчитайте прибыль для полученного объёма сырья."
   ]
  },
  {
   "cell_type": "code",
   "execution_count": 29,
   "metadata": {
    "executionInfo": {
     "elapsed": 261,
     "status": "ok",
     "timestamp": 1675080799217,
     "user": {
      "displayName": "yak ss",
      "userId": "06029463836352548104"
     },
     "user_tz": -300
    },
    "id": "hU0SppFBjshb"
   },
   "outputs": [],
   "source": [
    "# функция расчета прибыли передаем в нее предсказания  и таргет\n",
    "\n",
    "# а возвращает она прибыль с топ 200 скважин по предсказаниям  ,но по таргет данных\n",
    "def profit (target_valid, predict_valid):\n",
    "    \n",
    "    #для удобство в сериес превратим\n",
    "    predict_valid =  pd.Series(predict_valid)\n",
    "    \n",
    "    # выбираем макс топ 200 скважин по сырью на предсказаниях и сохряняем их индекс(для читаемости кода)\n",
    "    index_top200 = predict_valid.sort_values(ascending=False).head(NUMBER_OF_WELL).index\n",
    "    \n",
    "    # считаем прибыль по этим 200 строкам по таргету\n",
    "    profit = target_valid.reset_index(drop=True)[index_top200].sum()*INCOME_ONE_RESOURCE - INVESTMENT\n",
    "    \n",
    "    return profit"
   ]
  },
  {
   "cell_type": "code",
   "execution_count": 30,
   "metadata": {
    "executionInfo": {
     "elapsed": 4,
     "status": "ok",
     "timestamp": 1675080799498,
     "user": {
      "displayName": "yak ss",
      "userId": "06029463836352548104"
     },
     "user_tz": -300
    },
    "id": "R6YfDUhmjshc"
   },
   "outputs": [],
   "source": [
    "#протестим функцию\n",
    "#profit(target_2_valid , predict_2_valid.sample(500))/10**9\n"
   ]
  },
  {
   "cell_type": "markdown",
   "metadata": {
    "id": "tH4y9S1Vjshc"
   },
   "source": [
    "## Посчитайте риски и прибыль для каждого региона:\n",
    " 5.1. Примените технику Bootstrap с 1000 выборок, чтобы найти распределение прибыли.\n",
    " 5.2. Найдите среднюю прибыль, 95%-й доверительный интервал и риск убытков. Убыток — это отрицательная прибыль.\n",
    " 5.3. Напишите выводы: предложите регион для разработки скважин и обоснуйте выбор."
   ]
  },
  {
   "cell_type": "code",
   "execution_count": 31,
   "metadata": {
    "executionInfo": {
     "elapsed": 270,
     "status": "ok",
     "timestamp": 1675080802042,
     "user": {
      "displayName": "yak ss",
      "userId": "06029463836352548104"
     },
     "user_tz": -300
    },
    "id": "PQoWBP1Djshc"
   },
   "outputs": [],
   "source": [
    "#функ пвседорандома\n",
    "state = RandomState(12345) \n",
    "\n",
    "#Создадим дф для записи результатов\n",
    "colum_res = ['Сред_прибыль /млрд','0.975 вквантиль/млрд','0.025 квантиль','Риск_убыт/%' ]\n",
    "index_res = ['region_0','region_1', 'region_2']\n",
    "results_df = pd.DataFrame(columns=colum_res, index=index_res)\n",
    "#results_df"
   ]
  },
  {
   "cell_type": "markdown",
   "metadata": {
    "id": "Xa1Cbdarjshc"
   },
   "source": [
    "### Регион первый , расчет с применением Bootstrap"
   ]
  },
  {
   "cell_type": "code",
   "execution_count": 32,
   "metadata": {
    "colab": {
     "base_uri": "https://localhost:8080/"
    },
    "executionInfo": {
     "elapsed": 1372,
     "status": "ok",
     "timestamp": 1675080805299,
     "user": {
      "displayName": "yak ss",
      "userId": "06029463836352548104"
     },
     "user_tz": -300
    },
    "id": "ZY9mrzvEjshc",
    "outputId": "901fffe7-ad41-48b8-d336-99fad18a7678"
   },
   "outputs": [
    {
     "name": "stdout",
     "output_type": "stream",
     "text": [
      "Средняя прибыль первого региона =  0.04 млрд. руб\n",
      "0,975 кванитиль=  0.08 млрд. руб\n",
      "0.025 квантиль=  -0.005 млрд. руб\n",
      "Риск убытков=  7.5 %\n"
     ]
    }
   ],
   "source": [
    "#первый регион\n",
    "#переменная для записи выручки, она временная\n",
    "profit_value= []\n",
    "#для удобство в сериес превратим\n",
    "predict_0_valid =  pd.Series(predict_0_valid)\n",
    "#задаем цикл\n",
    "for i in range(1000):\n",
    "    \n",
    "    #рандом выбираем 500 шт скважин из predict\n",
    "    subsample = predict_0_valid.sample(500, replace=True, random_state=state)\n",
    "           \n",
    "    #добавляем расчет выручки, с пом. функции\n",
    "    profit_value.append(profit(target_0_valid,subsample))\n",
    "    \n",
    "\n",
    "profit_value = pd.Series(profit_value)\n",
    "\n",
    "print('Средняя прибыль первого региона = ',round ((profit_value.mean() / INVESTMENT ) , 3) ,'млрд. руб')\n",
    "print('0,975 кванитиль= ', round(profit_value.quantile(0.95)/ INVESTMENT, 3 ), 'млрд. руб' )\n",
    "print('0.025 квантиль= ', round(profit_value.quantile(0.05)/ INVESTMENT, 3 ), 'млрд. руб' )\n",
    "print('Риск убытков= ', profit_value[profit_value < 0].count() / profit_value.count() * 100, '%' )\n",
    "\n",
    "#запись в дф\n",
    "results_df.loc[index_res[0], colum_res[0]] = round ((profit_value.mean() / 10**9 ) , 3)\n",
    "results_df.loc[index_res[0], colum_res[1]] = round(profit_value.quantile(0.975)/ 10**9 , 3 )\n",
    "results_df.loc[index_res[0], colum_res[2]] = round(profit_value.quantile(0.025)/ 10**9 , 3 )\n",
    "results_df.loc[index_res[0], colum_res[3]] = profit_value[profit_value < 0].count() / profit_value.count() * 100\n"
   ]
  },
  {
   "cell_type": "markdown",
   "metadata": {
    "id": "ZehXBExBjshd"
   },
   "source": [
    "### Регион второй , расчет с применением Bootstrap"
   ]
  },
  {
   "cell_type": "code",
   "execution_count": 33,
   "metadata": {
    "colab": {
     "base_uri": "https://localhost:8080/"
    },
    "executionInfo": {
     "elapsed": 914,
     "status": "ok",
     "timestamp": 1675080808218,
     "user": {
      "displayName": "yak ss",
      "userId": "06029463836352548104"
     },
     "user_tz": -300
    },
    "id": "0ZgkQoemjshd",
    "outputId": "4993ca2b-f863-4670-ed3e-3241e78ab1b4"
   },
   "outputs": [
    {
     "name": "stdout",
     "output_type": "stream",
     "text": [
      "Средняя прибыль второго региона =  0.042 млрд. руб\n",
      "0,975 кванитиль=  0.076 млрд. руб\n",
      "0.025 квантиль=  0.008 млрд. руб\n",
      "Риск убытков=  1.7000000000000002 %\n"
     ]
    }
   ],
   "source": [
    "#переменная для записи выручки, она временная\n",
    "profit_value= []\n",
    "\n",
    "#для удобство в сериес превратим\n",
    "predict_1_valid =  pd.Series(predict_1_valid)\n",
    "#задаем цикл\n",
    "for i in range(1000):\n",
    "    \n",
    "    #рандом выбираем 500 шт скважин из predict\n",
    "    subsample = predict_1_valid.sample(500, replace=True, random_state=state)\n",
    "      \n",
    "    #добавляем расчет выручки, с пом. функции\n",
    "    profit_value.append(profit(target_1_valid, subsample))\n",
    "\n",
    "profit_value = pd.Series(profit_value)\n",
    "\n",
    "print('Средняя прибыль второго региона = ',round ((profit_value.mean() / INVESTMENT ) , 3) ,'млрд. руб')\n",
    "print('0,975 кванитиль= ', round(profit_value.quantile(0.95)/ INVESTMENT, 3 ), 'млрд. руб' )\n",
    "print('0.025 квантиль= ', round(profit_value.quantile(0.05)/ INVESTMENT, 3 ), 'млрд. руб' )\n",
    "print('Риск убытков= ', profit_value[profit_value < 0].count() / profit_value.count() * 100, '%' )\n",
    "\n",
    "#запись в дф\n",
    "results_df.loc[index_res[1], colum_res[0]] = round ((profit_value.mean() / 10**9 ) , 3)\n",
    "results_df.loc[index_res[1], colum_res[1]] = round(profit_value.quantile(0.95)/ 10**9 , 3 )\n",
    "results_df.loc[index_res[1], colum_res[2]] = round(profit_value.quantile(0.05)/ 10**9 , 3 )\n",
    "results_df.loc[index_res[1], colum_res[3]] = profit_value[profit_value < 0].count() / profit_value.count() * 100\n",
    "\n"
   ]
  },
  {
   "cell_type": "markdown",
   "metadata": {
    "id": "5oyZzodZjshe"
   },
   "source": [
    "### Регион третий, расчет с применением Bootstrap"
   ]
  },
  {
   "cell_type": "code",
   "execution_count": 34,
   "metadata": {
    "colab": {
     "base_uri": "https://localhost:8080/"
    },
    "executionInfo": {
     "elapsed": 1007,
     "status": "ok",
     "timestamp": 1675080810050,
     "user": {
      "displayName": "yak ss",
      "userId": "06029463836352548104"
     },
     "user_tz": -300
    },
    "id": "W8_no6_Fjshe",
    "outputId": "24668f5e-4a93-417b-a2e4-b5185be3f475"
   },
   "outputs": [
    {
     "name": "stdout",
     "output_type": "stream",
     "text": [
      "Средняя прибыль третьего региона =  0.036 млрд. руб\n",
      "0,975 кванитиль=  0.081 млрд. руб\n",
      "0.025 квантиль=  -0.009 млрд. руб\n",
      "Риск убытков=  10.2 %\n"
     ]
    }
   ],
   "source": [
    "#переменная для записи выручки, она временная\n",
    "profit_value= []\n",
    "\n",
    "#для удобство в сериес превратим\n",
    "predict_2_valid =  pd.Series(predict_2_valid)\n",
    "#задаем цикл\n",
    "for i in range(1000):\n",
    "    \n",
    "    #рандом выбираем 500 шт скважин из predict\n",
    "    subsample = predict_2_valid.sample(500, replace=True, random_state=state)\n",
    "      \n",
    "    #добавляем расчет выручки, с пом. функции\n",
    "    profit_value.append(profit(target_2_valid, subsample))\n",
    "\n",
    "profit_value = pd.Series(profit_value)\n",
    "\n",
    "print('Средняя прибыль третьего региона = ',round ((profit_value.mean() / INVESTMENT ) , 3) ,'млрд. руб')\n",
    "print('0,975 кванитиль= ', round(profit_value.quantile(0.95)/ INVESTMENT, 3 ), 'млрд. руб' )\n",
    "print('0.025 квантиль= ', round(profit_value.quantile(0.05)/ INVESTMENT, 3 ), 'млрд. руб' )\n",
    "print('Риск убытков= ', profit_value[profit_value < 0].count() / profit_value.count() * 100, '%' )\n",
    "\n",
    "#запись в дф\n",
    "results_df.loc[index_res[2], colum_res[0]] = round ((profit_value.mean() / INVESTMENT ) , 3)\n",
    "results_df.loc[index_res[2], colum_res[1]] = round(profit_value.quantile(0.95)/ INVESTMENT , 3 )\n",
    "results_df.loc[index_res[2], colum_res[2]] = round(profit_value.quantile(0.05)/ INVESTMENT , 3 )\n",
    "results_df.loc[index_res[2], colum_res[3]] = profit_value[profit_value < 0].count() / profit_value.count() * 100"
   ]
  },
  {
   "cell_type": "markdown",
   "metadata": {
    "id": "lOB4jYipjshe"
   },
   "source": [
    "### Смотрим результаты"
   ]
  },
  {
   "cell_type": "code",
   "execution_count": 35,
   "metadata": {
    "colab": {
     "base_uri": "https://localhost:8080/",
     "height": 143
    },
    "executionInfo": {
     "elapsed": 6,
     "status": "ok",
     "timestamp": 1675080811213,
     "user": {
      "displayName": "yak ss",
      "userId": "06029463836352548104"
     },
     "user_tz": -300
    },
    "id": "LZ8snG2Jjshe",
    "outputId": "c599e58d-bd0c-48f0-88f7-5c28636c9048"
   },
   "outputs": [
    {
     "data": {
      "text/html": [
       "\n",
       "  <div id=\"df-fd6de259-d0fb-4e15-b24a-b84d91ca00f3\">\n",
       "    <div class=\"colab-df-container\">\n",
       "      <div>\n",
       "<style scoped>\n",
       "    .dataframe tbody tr th:only-of-type {\n",
       "        vertical-align: middle;\n",
       "    }\n",
       "\n",
       "    .dataframe tbody tr th {\n",
       "        vertical-align: top;\n",
       "    }\n",
       "\n",
       "    .dataframe thead th {\n",
       "        text-align: right;\n",
       "    }\n",
       "</style>\n",
       "<table border=\"1\" class=\"dataframe\">\n",
       "  <thead>\n",
       "    <tr style=\"text-align: right;\">\n",
       "      <th></th>\n",
       "      <th>Сред_прибыль /млрд</th>\n",
       "      <th>0.975 вквантиль/млрд</th>\n",
       "      <th>0.025 квантиль</th>\n",
       "      <th>Риск_убыт/%</th>\n",
       "    </tr>\n",
       "  </thead>\n",
       "  <tbody>\n",
       "    <tr>\n",
       "      <th>region_0</th>\n",
       "      <td>0.396</td>\n",
       "      <td>0.863</td>\n",
       "      <td>-0.132</td>\n",
       "      <td>7.5</td>\n",
       "    </tr>\n",
       "    <tr>\n",
       "      <th>region_1</th>\n",
       "      <td>0.416</td>\n",
       "      <td>0.759</td>\n",
       "      <td>0.082</td>\n",
       "      <td>1.7</td>\n",
       "    </tr>\n",
       "    <tr>\n",
       "      <th>region_2</th>\n",
       "      <td>0.036</td>\n",
       "      <td>0.081</td>\n",
       "      <td>-0.009</td>\n",
       "      <td>10.2</td>\n",
       "    </tr>\n",
       "  </tbody>\n",
       "</table>\n",
       "</div>\n",
       "      <button class=\"colab-df-convert\" onclick=\"convertToInteractive('df-fd6de259-d0fb-4e15-b24a-b84d91ca00f3')\"\n",
       "              title=\"Convert this dataframe to an interactive table.\"\n",
       "              style=\"display:none;\">\n",
       "        \n",
       "  <svg xmlns=\"http://www.w3.org/2000/svg\" height=\"24px\"viewBox=\"0 0 24 24\"\n",
       "       width=\"24px\">\n",
       "    <path d=\"M0 0h24v24H0V0z\" fill=\"none\"/>\n",
       "    <path d=\"M18.56 5.44l.94 2.06.94-2.06 2.06-.94-2.06-.94-.94-2.06-.94 2.06-2.06.94zm-11 1L8.5 8.5l.94-2.06 2.06-.94-2.06-.94L8.5 2.5l-.94 2.06-2.06.94zm10 10l.94 2.06.94-2.06 2.06-.94-2.06-.94-.94-2.06-.94 2.06-2.06.94z\"/><path d=\"M17.41 7.96l-1.37-1.37c-.4-.4-.92-.59-1.43-.59-.52 0-1.04.2-1.43.59L10.3 9.45l-7.72 7.72c-.78.78-.78 2.05 0 2.83L4 21.41c.39.39.9.59 1.41.59.51 0 1.02-.2 1.41-.59l7.78-7.78 2.81-2.81c.8-.78.8-2.07 0-2.86zM5.41 20L4 18.59l7.72-7.72 1.47 1.35L5.41 20z\"/>\n",
       "  </svg>\n",
       "      </button>\n",
       "      \n",
       "  <style>\n",
       "    .colab-df-container {\n",
       "      display:flex;\n",
       "      flex-wrap:wrap;\n",
       "      gap: 12px;\n",
       "    }\n",
       "\n",
       "    .colab-df-convert {\n",
       "      background-color: #E8F0FE;\n",
       "      border: none;\n",
       "      border-radius: 50%;\n",
       "      cursor: pointer;\n",
       "      display: none;\n",
       "      fill: #1967D2;\n",
       "      height: 32px;\n",
       "      padding: 0 0 0 0;\n",
       "      width: 32px;\n",
       "    }\n",
       "\n",
       "    .colab-df-convert:hover {\n",
       "      background-color: #E2EBFA;\n",
       "      box-shadow: 0px 1px 2px rgba(60, 64, 67, 0.3), 0px 1px 3px 1px rgba(60, 64, 67, 0.15);\n",
       "      fill: #174EA6;\n",
       "    }\n",
       "\n",
       "    [theme=dark] .colab-df-convert {\n",
       "      background-color: #3B4455;\n",
       "      fill: #D2E3FC;\n",
       "    }\n",
       "\n",
       "    [theme=dark] .colab-df-convert:hover {\n",
       "      background-color: #434B5C;\n",
       "      box-shadow: 0px 1px 3px 1px rgba(0, 0, 0, 0.15);\n",
       "      filter: drop-shadow(0px 1px 2px rgba(0, 0, 0, 0.3));\n",
       "      fill: #FFFFFF;\n",
       "    }\n",
       "  </style>\n",
       "\n",
       "      <script>\n",
       "        const buttonEl =\n",
       "          document.querySelector('#df-fd6de259-d0fb-4e15-b24a-b84d91ca00f3 button.colab-df-convert');\n",
       "        buttonEl.style.display =\n",
       "          google.colab.kernel.accessAllowed ? 'block' : 'none';\n",
       "\n",
       "        async function convertToInteractive(key) {\n",
       "          const element = document.querySelector('#df-fd6de259-d0fb-4e15-b24a-b84d91ca00f3');\n",
       "          const dataTable =\n",
       "            await google.colab.kernel.invokeFunction('convertToInteractive',\n",
       "                                                     [key], {});\n",
       "          if (!dataTable) return;\n",
       "\n",
       "          const docLinkHtml = 'Like what you see? Visit the ' +\n",
       "            '<a target=\"_blank\" href=https://colab.research.google.com/notebooks/data_table.ipynb>data table notebook</a>'\n",
       "            + ' to learn more about interactive tables.';\n",
       "          element.innerHTML = '';\n",
       "          dataTable['output_type'] = 'display_data';\n",
       "          await google.colab.output.renderOutput(dataTable, element);\n",
       "          const docLink = document.createElement('div');\n",
       "          docLink.innerHTML = docLinkHtml;\n",
       "          element.appendChild(docLink);\n",
       "        }\n",
       "      </script>\n",
       "    </div>\n",
       "  </div>\n",
       "  "
      ],
      "text/plain": [
       "         Сред_прибыль /млрд 0.975 вквантиль/млрд 0.025 квантиль Риск_убыт/%\n",
       "region_0              0.396                0.863         -0.132         7.5\n",
       "region_1              0.416                0.759          0.082         1.7\n",
       "region_2              0.036                0.081         -0.009        10.2"
      ]
     },
     "execution_count": 35,
     "metadata": {},
     "output_type": "execute_result"
    }
   ],
   "source": [
    "results_df"
   ]
  },
  {
   "cell_type": "markdown",
   "metadata": {
    "id": "6404Do0Jjshe"
   },
   "source": [
    "### Вывод по регионам   \n",
    "\n",
    "Риск убытков меньше всего во второом регионе, та мже срднеяя прибыль самая хорошая.  Выбираем второй регион."
   ]
  },
  {
   "cell_type": "markdown",
   "metadata": {
    "id": "b2eZ6znGjshe"
   },
   "source": [
    "## Общий вывод.\n",
    " Данные были проанализированы. Данные со второго региона выглядят подозрительными.    \n",
    " Данные были подготовлены к ML(разбивка, масштабирвоание)      \n",
    " Обучена модель ЛинейнаяРегрессия и получены предсказания для каждого региона.    \n",
    " Проведены расчеты по прибыли, написана функция по расчету прибыли.  \n",
    " Методикой Bootstrap найдено распределение прибыли по регионам.   \n",
    " Выбран оптимальный ВТОРОЙ регион для разработки. Т к при небольших рисках, лучший показатель прибыльности."
   ]
  },
  {
   "cell_type": "markdown",
   "metadata": {
    "id": "aidsTATwjshf"
   },
   "source": [
    "## доп пункт сравним RMSE на CatBoost"
   ]
  },
  {
   "cell_type": "code",
   "execution_count": 37,
   "metadata": {
    "colab": {
     "base_uri": "https://localhost:8080/"
    },
    "executionInfo": {
     "elapsed": 8559,
     "status": "ok",
     "timestamp": 1675080876495,
     "user": {
      "displayName": "yak ss",
      "userId": "06029463836352548104"
     },
     "user_tz": -300
    },
    "id": "jJwExWbDjshf",
    "outputId": "b67fd672-95e8-427d-c9db-77211ee1fd88"
   },
   "outputs": [
    {
     "name": "stdout",
     "output_type": "stream",
     "text": [
      "Looking in indexes: https://pypi.org/simple, https://us-python.pkg.dev/colab-wheels/public/simple/\n",
      "Collecting catboost\n",
      "  Downloading catboost-1.1.1-cp38-none-manylinux1_x86_64.whl (76.6 MB)\n",
      "\u001b[2K     \u001b[90m━━━━━━━━━━━━━━━━━━━━━━━━━━━━━━━━━━━━━━━━\u001b[0m \u001b[32m76.6/76.6 MB\u001b[0m \u001b[31m12.2 MB/s\u001b[0m eta \u001b[36m0:00:00\u001b[0m\n",
      "\u001b[?25hRequirement already satisfied: matplotlib in /usr/local/lib/python3.8/dist-packages (from catboost) (3.2.2)\n",
      "Requirement already satisfied: scipy in /usr/local/lib/python3.8/dist-packages (from catboost) (1.7.3)\n",
      "Requirement already satisfied: six in /usr/local/lib/python3.8/dist-packages (from catboost) (1.15.0)\n",
      "Requirement already satisfied: pandas>=0.24.0 in /usr/local/lib/python3.8/dist-packages (from catboost) (1.3.5)\n",
      "Requirement already satisfied: graphviz in /usr/local/lib/python3.8/dist-packages (from catboost) (0.10.1)\n",
      "Requirement already satisfied: plotly in /usr/local/lib/python3.8/dist-packages (from catboost) (5.5.0)\n",
      "Requirement already satisfied: numpy>=1.16.0 in /usr/local/lib/python3.8/dist-packages (from catboost) (1.21.6)\n",
      "Requirement already satisfied: pytz>=2017.3 in /usr/local/lib/python3.8/dist-packages (from pandas>=0.24.0->catboost) (2022.7)\n",
      "Requirement already satisfied: python-dateutil>=2.7.3 in /usr/local/lib/python3.8/dist-packages (from pandas>=0.24.0->catboost) (2.8.2)\n",
      "Requirement already satisfied: pyparsing!=2.0.4,!=2.1.2,!=2.1.6,>=2.0.1 in /usr/local/lib/python3.8/dist-packages (from matplotlib->catboost) (3.0.9)\n",
      "Requirement already satisfied: kiwisolver>=1.0.1 in /usr/local/lib/python3.8/dist-packages (from matplotlib->catboost) (1.4.4)\n",
      "Requirement already satisfied: cycler>=0.10 in /usr/local/lib/python3.8/dist-packages (from matplotlib->catboost) (0.11.0)\n",
      "Requirement already satisfied: tenacity>=6.2.0 in /usr/local/lib/python3.8/dist-packages (from plotly->catboost) (8.1.0)\n",
      "Installing collected packages: catboost\n",
      "Successfully installed catboost-1.1.1\n"
     ]
    }
   ],
   "source": [
    "#импорт\n",
    "#instal catboost\n",
    "!pip install catboost\n",
    "from catboost import CatBoostRegressor"
   ]
  },
  {
   "cell_type": "code",
   "execution_count": 38,
   "metadata": {
    "colab": {
     "base_uri": "https://localhost:8080/"
    },
    "executionInfo": {
     "elapsed": 42730,
     "status": "ok",
     "timestamp": 1675080926746,
     "user": {
      "displayName": "yak ss",
      "userId": "06029463836352548104"
     },
     "user_tz": -300
    },
    "id": "UYwbqwFUjshf",
    "outputId": "086ced76-c807-48e0-a8f7-57503cc06453"
   },
   "outputs": [
    {
     "name": "stdout",
     "output_type": "stream",
     "text": [
      "cat_0 rmse= 37.08220061241541\n",
      "cat_1  rmse= 1.8136629200805234\n",
      " cat_2 rmse= 37.355458608275484\n",
      " LinearRegression rmse_0= 37.596877500413\n",
      "LinearRegression rmse_0= 0.8847944517244745\n",
      "LinearRegression rmse_0= 39.844211967707004\n",
      "CPU times: user 57.6 s, sys: 5.51 s, total: 1min 3s\n",
      "Wall time: 42.5 s\n"
     ]
    }
   ],
   "source": [
    "%%time\n",
    "# назначаем\n",
    "cat_0 = CatBoostRegressor()\n",
    "cat_1 = CatBoostRegressor()\n",
    "cat_2 = CatBoostRegressor()\n",
    "\n",
    "# обучение моделей , категориальных признаков нет, масштабир не нужно кэтбуст, но и не помешает, если сделано.\n",
    "cat_0.fit(features_0_train, target_0_train,silent=True)\n",
    "cat_1.fit(features_1_train, target_1_train,silent=True)\n",
    "cat_2.fit(features_2_train, target_2_train,silent=True)\n",
    "\n",
    "#получение предсказаний на валидац выборке\n",
    "predict_0_cat = cat_0.predict(features_0_valid)\n",
    "predict_1_cat = cat_1.predict(features_1_valid)\n",
    "predict_2_cat = cat_2.predict(features_2_valid)\n",
    "\n",
    "#и RMSE моделей смотрим\n",
    "\n",
    "print ('cat_0 rmse=',mean_squared_error(target_0_valid, predict_0_cat)**0.5 )\n",
    "print ('cat_1  rmse=',mean_squared_error(target_1_valid, predict_1_cat)**0.5  )\n",
    "print (' cat_2 rmse=',mean_squared_error(target_2_valid, predict_2_cat)**0.5  )\n",
    "\n",
    "print (' LinearRegression rmse_0=',rmse_0 )\n",
    "print ('LinearRegression rmse_0=',rmse_1  )\n",
    "print ('LinearRegression rmse_0=',rmse_2  )"
   ]
  },
  {
   "cell_type": "markdown",
   "metadata": {
    "id": "yaq_pmC_jshf"
   },
   "source": [
    "**Вывод**  КэтБуст чуть полушче показал результат, кроме сомнительных данных со второго региона. Но ЛинРегг обучается моментально,а  кэт 33 сек. "
   ]
  }
 ],
 "metadata": {
  "ExecuteTimeLog": [
   {
    "duration": 68,
    "start_time": "2023-01-23T04:35:33.361Z"
   },
   {
    "duration": 409,
    "start_time": "2023-01-23T04:35:36.975Z"
   },
   {
    "duration": 1276,
    "start_time": "2023-01-23T04:35:38.432Z"
   },
   {
    "duration": 975,
    "start_time": "2023-01-23T04:36:11.456Z"
   },
   {
    "duration": 16,
    "start_time": "2023-01-23T04:36:57.664Z"
   },
   {
    "duration": 9,
    "start_time": "2023-01-23T04:37:19.678Z"
   },
   {
    "duration": 9,
    "start_time": "2023-01-23T04:37:25.681Z"
   },
   {
    "duration": 14,
    "start_time": "2023-01-23T04:38:23.937Z"
   },
   {
    "duration": 26,
    "start_time": "2023-01-23T04:39:00.219Z"
   },
   {
    "duration": 25,
    "start_time": "2023-01-23T04:39:05.305Z"
   },
   {
    "duration": 15,
    "start_time": "2023-01-23T04:39:15.058Z"
   },
   {
    "duration": 20,
    "start_time": "2023-01-23T04:39:42.201Z"
   },
   {
    "duration": 19,
    "start_time": "2023-01-23T04:39:59.290Z"
   },
   {
    "duration": 16,
    "start_time": "2023-01-23T04:40:17.914Z"
   },
   {
    "duration": 9,
    "start_time": "2023-01-23T04:41:30.332Z"
   },
   {
    "duration": 39,
    "start_time": "2023-01-23T04:45:16.812Z"
   },
   {
    "duration": 783,
    "start_time": "2023-01-23T04:46:08.584Z"
   },
   {
    "duration": 889,
    "start_time": "2023-01-23T04:46:28.391Z"
   },
   {
    "duration": 3,
    "start_time": "2023-01-23T04:47:29.945Z"
   },
   {
    "duration": 899,
    "start_time": "2023-01-23T04:47:49.833Z"
   },
   {
    "duration": 1094,
    "start_time": "2023-01-23T04:48:56.717Z"
   },
   {
    "duration": 1027,
    "start_time": "2023-01-23T04:49:31.002Z"
   },
   {
    "duration": 1159,
    "start_time": "2023-01-23T04:49:38.918Z"
   },
   {
    "duration": 593,
    "start_time": "2023-01-23T04:50:48.217Z"
   },
   {
    "duration": 1149,
    "start_time": "2023-01-23T04:50:57.724Z"
   },
   {
    "duration": 1012,
    "start_time": "2023-01-23T04:51:13.519Z"
   },
   {
    "duration": 1212,
    "start_time": "2023-01-23T04:51:24.822Z"
   },
   {
    "duration": 458,
    "start_time": "2023-01-23T04:53:57.053Z"
   },
   {
    "duration": 37,
    "start_time": "2023-01-23T04:55:13.723Z"
   },
   {
    "duration": 10,
    "start_time": "2023-01-23T04:55:26.942Z"
   },
   {
    "duration": 9,
    "start_time": "2023-01-23T04:55:31.279Z"
   },
   {
    "duration": 7,
    "start_time": "2023-01-23T04:55:42.086Z"
   },
   {
    "duration": 8,
    "start_time": "2023-01-23T04:55:53.254Z"
   },
   {
    "duration": 227,
    "start_time": "2023-01-23T04:55:58.321Z"
   },
   {
    "duration": 9,
    "start_time": "2023-01-23T04:56:11.656Z"
   },
   {
    "duration": 43,
    "start_time": "2023-01-23T04:56:21.647Z"
   },
   {
    "duration": 271,
    "start_time": "2023-01-23T04:56:25.551Z"
   },
   {
    "duration": 502,
    "start_time": "2023-01-23T04:56:33.567Z"
   },
   {
    "duration": 0,
    "start_time": "2023-01-23T04:58:33.221Z"
   },
   {
    "duration": 681,
    "start_time": "2023-01-23T04:58:39.870Z"
   },
   {
    "duration": 405,
    "start_time": "2023-01-23T04:58:40.553Z"
   },
   {
    "duration": 16,
    "start_time": "2023-01-23T04:58:40.960Z"
   },
   {
    "duration": 32,
    "start_time": "2023-01-23T04:58:40.979Z"
   },
   {
    "duration": 19,
    "start_time": "2023-01-23T04:58:41.018Z"
   },
   {
    "duration": 14,
    "start_time": "2023-01-23T04:58:41.038Z"
   },
   {
    "duration": 15,
    "start_time": "2023-01-23T04:58:41.054Z"
   },
   {
    "duration": 1094,
    "start_time": "2023-01-23T04:58:41.070Z"
   },
   {
    "duration": 1069,
    "start_time": "2023-01-23T04:58:42.166Z"
   },
   {
    "duration": 1131,
    "start_time": "2023-01-23T04:58:43.239Z"
   },
   {
    "duration": 54,
    "start_time": "2023-01-23T04:58:44.372Z"
   },
   {
    "duration": 43,
    "start_time": "2023-01-23T05:00:34.379Z"
   },
   {
    "duration": 15,
    "start_time": "2023-01-23T05:03:46.390Z"
   },
   {
    "duration": 71,
    "start_time": "2023-01-23T05:04:39.365Z"
   },
   {
    "duration": 7,
    "start_time": "2023-01-23T05:05:03.223Z"
   },
   {
    "duration": 36,
    "start_time": "2023-01-23T05:06:00.438Z"
   },
   {
    "duration": 20,
    "start_time": "2023-01-23T05:09:20.017Z"
   },
   {
    "duration": 18,
    "start_time": "2023-01-23T05:10:41.017Z"
   },
   {
    "duration": 25,
    "start_time": "2023-01-23T05:12:09.371Z"
   },
   {
    "duration": 169,
    "start_time": "2023-01-23T05:18:14.120Z"
   },
   {
    "duration": 196,
    "start_time": "2023-01-23T05:18:35.720Z"
   },
   {
    "duration": 1737,
    "start_time": "2023-01-23T05:18:43.264Z"
   },
   {
    "duration": 388,
    "start_time": "2023-01-23T05:18:56.280Z"
   },
   {
    "duration": 558,
    "start_time": "2023-01-23T05:19:15.444Z"
   },
   {
    "duration": 219,
    "start_time": "2023-01-23T05:19:27.945Z"
   },
   {
    "duration": 518,
    "start_time": "2023-01-23T05:19:38.289Z"
   },
   {
    "duration": 188,
    "start_time": "2023-01-23T05:22:05.284Z"
   },
   {
    "duration": 230,
    "start_time": "2023-01-23T05:22:46.476Z"
   },
   {
    "duration": 488,
    "start_time": "2023-01-23T05:22:54.917Z"
   },
   {
    "duration": 245,
    "start_time": "2023-01-23T05:24:58.917Z"
   },
   {
    "duration": 151,
    "start_time": "2023-01-23T05:25:34.017Z"
   },
   {
    "duration": 209,
    "start_time": "2023-01-23T05:25:47.574Z"
   },
   {
    "duration": 555,
    "start_time": "2023-01-23T05:27:59.554Z"
   },
   {
    "duration": 570,
    "start_time": "2023-01-23T05:31:07.666Z"
   },
   {
    "duration": 633,
    "start_time": "2023-01-23T05:31:21.987Z"
   },
   {
    "duration": 823,
    "start_time": "2023-01-23T05:31:39.021Z"
   },
   {
    "duration": 717,
    "start_time": "2023-01-23T05:31:55.453Z"
   },
   {
    "duration": 9,
    "start_time": "2023-01-23T05:34:36.022Z"
   },
   {
    "duration": 12,
    "start_time": "2023-01-23T05:34:53.303Z"
   },
   {
    "duration": 18,
    "start_time": "2023-01-23T05:35:14.342Z"
   },
   {
    "duration": 12,
    "start_time": "2023-01-23T05:35:42.176Z"
   },
   {
    "duration": 365,
    "start_time": "2023-01-23T05:36:36.121Z"
   },
   {
    "duration": 12,
    "start_time": "2023-01-23T05:39:02.985Z"
   },
   {
    "duration": 3,
    "start_time": "2023-01-23T05:39:39.009Z"
   },
   {
    "duration": 11,
    "start_time": "2023-01-23T05:39:49.433Z"
   },
   {
    "duration": 386,
    "start_time": "2023-01-23T05:41:47.119Z"
   },
   {
    "duration": 373,
    "start_time": "2023-01-23T05:42:03.753Z"
   },
   {
    "duration": 339,
    "start_time": "2023-01-23T05:42:18.763Z"
   },
   {
    "duration": 1843,
    "start_time": "2023-01-23T05:43:02.987Z"
   },
   {
    "duration": 623,
    "start_time": "2023-01-23T05:43:17.916Z"
   },
   {
    "duration": 78,
    "start_time": "2023-01-23T05:44:55.142Z"
   },
   {
    "duration": 195,
    "start_time": "2023-01-23T05:45:44.621Z"
   },
   {
    "duration": 74,
    "start_time": "2023-01-23T05:46:38.403Z"
   },
   {
    "duration": 254,
    "start_time": "2023-01-23T05:46:43.582Z"
   },
   {
    "duration": 480,
    "start_time": "2023-01-23T05:46:56.359Z"
   },
   {
    "duration": 397,
    "start_time": "2023-01-23T05:49:53.859Z"
   },
   {
    "duration": 444,
    "start_time": "2023-01-23T06:05:03.283Z"
   },
   {
    "duration": 1337,
    "start_time": "2023-01-23T06:27:34.130Z"
   },
   {
    "duration": 1310,
    "start_time": "2023-01-23T06:27:44.719Z"
   },
   {
    "duration": 1471,
    "start_time": "2023-01-23T06:27:56.249Z"
   },
   {
    "duration": 4,
    "start_time": "2023-01-23T07:34:49.553Z"
   },
   {
    "duration": 22,
    "start_time": "2023-01-23T07:34:52.616Z"
   },
   {
    "duration": 422,
    "start_time": "2023-01-23T07:35:22.414Z"
   },
   {
    "duration": 17,
    "start_time": "2023-01-23T07:35:28.328Z"
   },
   {
    "duration": 379,
    "start_time": "2023-01-23T07:35:58.449Z"
   },
   {
    "duration": 16,
    "start_time": "2023-01-23T07:36:02.177Z"
   },
   {
    "duration": 8,
    "start_time": "2023-01-23T07:36:24.281Z"
   },
   {
    "duration": 17,
    "start_time": "2023-01-23T07:36:29.865Z"
   },
   {
    "duration": 23,
    "start_time": "2023-01-23T07:36:47.185Z"
   },
   {
    "duration": 12,
    "start_time": "2023-01-23T07:37:07.057Z"
   },
   {
    "duration": 8,
    "start_time": "2023-01-23T07:43:11.361Z"
   },
   {
    "duration": 20,
    "start_time": "2023-01-23T07:43:28.486Z"
   },
   {
    "duration": 9,
    "start_time": "2023-01-23T07:45:16.768Z"
   },
   {
    "duration": 3,
    "start_time": "2023-01-23T07:47:23.805Z"
   },
   {
    "duration": 4,
    "start_time": "2023-01-23T07:47:28.553Z"
   },
   {
    "duration": 12,
    "start_time": "2023-01-23T07:48:30.416Z"
   },
   {
    "duration": 8,
    "start_time": "2023-01-23T07:48:53.970Z"
   },
   {
    "duration": 7,
    "start_time": "2023-01-23T07:51:15.613Z"
   },
   {
    "duration": 84,
    "start_time": "2023-01-23T07:52:29.533Z"
   },
   {
    "duration": 3,
    "start_time": "2023-01-23T07:52:46.174Z"
   },
   {
    "duration": 15,
    "start_time": "2023-01-23T07:53:08.885Z"
   },
   {
    "duration": 11,
    "start_time": "2023-01-23T07:53:16.808Z"
   },
   {
    "duration": 9,
    "start_time": "2023-01-23T07:53:23.566Z"
   },
   {
    "duration": 10,
    "start_time": "2023-01-23T07:53:27.704Z"
   },
   {
    "duration": 9,
    "start_time": "2023-01-23T07:53:34.456Z"
   },
   {
    "duration": 4,
    "start_time": "2023-01-23T07:54:46.472Z"
   },
   {
    "duration": 4,
    "start_time": "2023-01-23T07:55:04.927Z"
   },
   {
    "duration": 5,
    "start_time": "2023-01-23T07:55:24.367Z"
   },
   {
    "duration": 59,
    "start_time": "2023-01-23T07:57:10.752Z"
   },
   {
    "duration": 106,
    "start_time": "2023-01-23T07:58:04.329Z"
   },
   {
    "duration": 9,
    "start_time": "2023-01-23T07:58:13.841Z"
   },
   {
    "duration": 11,
    "start_time": "2023-01-23T07:58:37.380Z"
   },
   {
    "duration": 12,
    "start_time": "2023-01-23T07:58:58.723Z"
   },
   {
    "duration": 8,
    "start_time": "2023-01-23T08:00:13.059Z"
   },
   {
    "duration": 95,
    "start_time": "2023-01-23T08:04:41.776Z"
   },
   {
    "duration": 11,
    "start_time": "2023-01-23T08:04:45.678Z"
   },
   {
    "duration": 3,
    "start_time": "2023-01-23T08:05:05.517Z"
   },
   {
    "duration": 10,
    "start_time": "2023-01-23T08:05:06.271Z"
   },
   {
    "duration": 3,
    "start_time": "2023-01-23T08:05:32.351Z"
   },
   {
    "duration": 7,
    "start_time": "2023-01-23T08:05:33.160Z"
   },
   {
    "duration": 3,
    "start_time": "2023-01-23T08:08:37.329Z"
   },
   {
    "duration": 13,
    "start_time": "2023-01-23T08:08:39.197Z"
   },
   {
    "duration": 9,
    "start_time": "2023-01-23T08:08:59.369Z"
   },
   {
    "duration": 10,
    "start_time": "2023-01-23T08:12:56.149Z"
   },
   {
    "duration": 23,
    "start_time": "2023-01-23T08:13:26.189Z"
   },
   {
    "duration": 11,
    "start_time": "2023-01-23T08:14:22.837Z"
   },
   {
    "duration": 155,
    "start_time": "2023-01-23T08:14:39.821Z"
   },
   {
    "duration": 5,
    "start_time": "2023-01-23T08:14:44.950Z"
   },
   {
    "duration": 6,
    "start_time": "2023-01-23T08:15:11.031Z"
   },
   {
    "duration": 4,
    "start_time": "2023-01-23T08:19:03.569Z"
   },
   {
    "duration": 12,
    "start_time": "2023-01-23T08:19:11.489Z"
   },
   {
    "duration": 6,
    "start_time": "2023-01-23T08:19:23.256Z"
   },
   {
    "duration": 33,
    "start_time": "2023-01-23T08:23:58.694Z"
   },
   {
    "duration": 45,
    "start_time": "2023-01-23T08:26:38.487Z"
   },
   {
    "duration": 47,
    "start_time": "2023-01-23T08:26:53.871Z"
   },
   {
    "duration": 46,
    "start_time": "2023-01-23T08:27:11.671Z"
   },
   {
    "duration": 24,
    "start_time": "2023-01-23T08:27:22.108Z"
   },
   {
    "duration": 27,
    "start_time": "2023-01-23T08:27:29.852Z"
   },
   {
    "duration": 12,
    "start_time": "2023-01-23T08:28:40.217Z"
   },
   {
    "duration": 12,
    "start_time": "2023-01-23T08:28:51.706Z"
   },
   {
    "duration": 13,
    "start_time": "2023-01-23T08:29:59.689Z"
   },
   {
    "duration": 26,
    "start_time": "2023-01-23T08:30:41.010Z"
   },
   {
    "duration": 9,
    "start_time": "2023-01-23T08:31:02.460Z"
   },
   {
    "duration": 5,
    "start_time": "2023-01-23T08:38:23.431Z"
   },
   {
    "duration": 9,
    "start_time": "2023-01-23T08:38:53.353Z"
   },
   {
    "duration": 940,
    "start_time": "2023-01-23T08:40:45.057Z"
   },
   {
    "duration": 3,
    "start_time": "2023-01-23T08:40:51.463Z"
   },
   {
    "duration": 30,
    "start_time": "2023-01-23T08:46:37.977Z"
   },
   {
    "duration": 9,
    "start_time": "2023-01-23T08:50:14.056Z"
   },
   {
    "duration": 4,
    "start_time": "2023-01-23T08:50:55.462Z"
   },
   {
    "duration": 4,
    "start_time": "2023-01-23T08:51:03.312Z"
   },
   {
    "duration": 15,
    "start_time": "2023-01-23T08:51:09.273Z"
   },
   {
    "duration": 29,
    "start_time": "2023-01-23T08:53:55.656Z"
   },
   {
    "duration": 40,
    "start_time": "2023-01-23T08:59:07.934Z"
   },
   {
    "duration": 1475,
    "start_time": "2023-01-23T08:59:34.909Z"
   },
   {
    "duration": 410,
    "start_time": "2023-01-23T08:59:36.387Z"
   },
   {
    "duration": 19,
    "start_time": "2023-01-23T08:59:36.798Z"
   },
   {
    "duration": 24,
    "start_time": "2023-01-23T08:59:36.820Z"
   },
   {
    "duration": 17,
    "start_time": "2023-01-23T08:59:36.846Z"
   },
   {
    "duration": 43,
    "start_time": "2023-01-23T08:59:36.865Z"
   },
   {
    "duration": 15,
    "start_time": "2023-01-23T08:59:36.910Z"
   },
   {
    "duration": 1041,
    "start_time": "2023-01-23T08:59:36.927Z"
   },
   {
    "duration": 933,
    "start_time": "2023-01-23T08:59:37.970Z"
   },
   {
    "duration": 1032,
    "start_time": "2023-01-23T08:59:38.905Z"
   },
   {
    "duration": 37,
    "start_time": "2023-01-23T08:59:39.939Z"
   },
   {
    "duration": 43,
    "start_time": "2023-01-23T08:59:39.991Z"
   },
   {
    "duration": 37,
    "start_time": "2023-01-23T08:59:40.036Z"
   },
   {
    "duration": 21,
    "start_time": "2023-01-23T08:59:40.091Z"
   },
   {
    "duration": 28,
    "start_time": "2023-01-23T08:59:40.115Z"
   },
   {
    "duration": 309,
    "start_time": "2023-01-23T08:59:40.145Z"
   },
   {
    "duration": 282,
    "start_time": "2023-01-23T08:59:40.456Z"
   },
   {
    "duration": 9,
    "start_time": "2023-01-23T08:59:40.740Z"
   },
   {
    "duration": 23,
    "start_time": "2023-01-23T08:59:40.750Z"
   },
   {
    "duration": 21,
    "start_time": "2023-01-23T08:59:40.776Z"
   },
   {
    "duration": 37,
    "start_time": "2023-01-23T08:59:40.802Z"
   },
   {
    "duration": 139,
    "start_time": "2023-01-23T08:59:40.841Z"
   },
   {
    "duration": 0,
    "start_time": "2023-01-23T08:59:40.982Z"
   },
   {
    "duration": 0,
    "start_time": "2023-01-23T08:59:40.984Z"
   },
   {
    "duration": 31,
    "start_time": "2023-01-23T09:00:07.393Z"
   },
   {
    "duration": 19,
    "start_time": "2023-01-23T09:00:23.110Z"
   },
   {
    "duration": 32,
    "start_time": "2023-01-23T09:01:30.112Z"
   },
   {
    "duration": 12,
    "start_time": "2023-01-23T09:04:23.914Z"
   },
   {
    "duration": 12,
    "start_time": "2023-01-23T09:04:38.577Z"
   },
   {
    "duration": 31,
    "start_time": "2023-01-23T09:04:53.318Z"
   },
   {
    "duration": 36,
    "start_time": "2023-01-23T09:05:17.292Z"
   },
   {
    "duration": 26,
    "start_time": "2023-01-23T09:06:16.609Z"
   },
   {
    "duration": 43,
    "start_time": "2023-01-23T09:06:18.212Z"
   },
   {
    "duration": 36,
    "start_time": "2023-01-23T09:07:02.373Z"
   },
   {
    "duration": 17,
    "start_time": "2023-01-23T09:07:24.972Z"
   },
   {
    "duration": 13,
    "start_time": "2023-01-23T09:07:54.813Z"
   },
   {
    "duration": 14,
    "start_time": "2023-01-23T09:08:27.908Z"
   },
   {
    "duration": 35,
    "start_time": "2023-01-23T09:08:34.279Z"
   },
   {
    "duration": 58,
    "start_time": "2023-01-23T09:08:38.877Z"
   },
   {
    "duration": 27,
    "start_time": "2023-01-23T09:10:09.261Z"
   },
   {
    "duration": 45,
    "start_time": "2023-01-23T09:10:11.005Z"
   },
   {
    "duration": 35,
    "start_time": "2023-01-23T09:11:21.416Z"
   },
   {
    "duration": 30,
    "start_time": "2023-01-23T09:11:27.231Z"
   },
   {
    "duration": 48,
    "start_time": "2023-01-23T09:11:27.736Z"
   },
   {
    "duration": 11,
    "start_time": "2023-01-23T09:14:12.577Z"
   },
   {
    "duration": 11,
    "start_time": "2023-01-23T09:14:43.314Z"
   },
   {
    "duration": 4,
    "start_time": "2023-01-23T09:14:51.434Z"
   },
   {
    "duration": 56,
    "start_time": "2023-01-23T09:15:19.057Z"
   },
   {
    "duration": 13,
    "start_time": "2023-01-23T09:23:33.800Z"
   },
   {
    "duration": 10,
    "start_time": "2023-01-23T09:23:55.145Z"
   },
   {
    "duration": 15,
    "start_time": "2023-01-23T09:24:06.414Z"
   },
   {
    "duration": 19,
    "start_time": "2023-01-23T09:24:11.289Z"
   },
   {
    "duration": 14,
    "start_time": "2023-01-23T09:24:21.224Z"
   },
   {
    "duration": 11,
    "start_time": "2023-01-23T09:24:25.824Z"
   },
   {
    "duration": 19,
    "start_time": "2023-01-23T09:24:29.785Z"
   },
   {
    "duration": 2,
    "start_time": "2023-01-23T09:30:45.621Z"
   },
   {
    "duration": 11,
    "start_time": "2023-01-23T09:32:20.566Z"
   },
   {
    "duration": 3,
    "start_time": "2023-01-23T09:32:29.639Z"
   },
   {
    "duration": 3,
    "start_time": "2023-01-23T09:32:45.774Z"
   },
   {
    "duration": 13,
    "start_time": "2023-01-23T09:33:27.306Z"
   },
   {
    "duration": 23,
    "start_time": "2023-01-23T09:33:45.704Z"
   },
   {
    "duration": 7,
    "start_time": "2023-01-23T09:36:34.209Z"
   },
   {
    "duration": 8,
    "start_time": "2023-01-23T09:36:40.449Z"
   },
   {
    "duration": 12,
    "start_time": "2023-01-23T09:37:06.314Z"
   },
   {
    "duration": 4,
    "start_time": "2023-01-23T09:39:42.219Z"
   },
   {
    "duration": 5,
    "start_time": "2023-01-23T09:41:46.653Z"
   },
   {
    "duration": 3,
    "start_time": "2023-01-23T09:47:44.809Z"
   },
   {
    "duration": 11,
    "start_time": "2023-01-23T09:50:31.763Z"
   },
   {
    "duration": 10,
    "start_time": "2023-01-23T09:51:22.011Z"
   },
   {
    "duration": 11,
    "start_time": "2023-01-23T09:51:24.971Z"
   },
   {
    "duration": 12,
    "start_time": "2023-01-23T09:52:23.476Z"
   },
   {
    "duration": 5,
    "start_time": "2023-01-23T09:52:34.180Z"
   },
   {
    "duration": 8,
    "start_time": "2023-01-23T09:52:42.019Z"
   },
   {
    "duration": 9,
    "start_time": "2023-01-23T09:54:22.981Z"
   },
   {
    "duration": 13,
    "start_time": "2023-01-23T09:54:48.429Z"
   },
   {
    "duration": 10,
    "start_time": "2023-01-23T09:55:08.493Z"
   },
   {
    "duration": 10,
    "start_time": "2023-01-23T09:55:18.701Z"
   },
   {
    "duration": 10,
    "start_time": "2023-01-23T09:55:23.053Z"
   },
   {
    "duration": 14,
    "start_time": "2023-01-23T09:55:29.358Z"
   },
   {
    "duration": 11,
    "start_time": "2023-01-23T09:55:43.645Z"
   },
   {
    "duration": 9,
    "start_time": "2023-01-23T09:55:59.045Z"
   },
   {
    "duration": 4,
    "start_time": "2023-01-23T10:04:37.275Z"
   },
   {
    "duration": 4,
    "start_time": "2023-01-23T10:05:20.771Z"
   },
   {
    "duration": 4,
    "start_time": "2023-01-23T10:11:30.791Z"
   },
   {
    "duration": 5,
    "start_time": "2023-01-23T10:12:18.951Z"
   },
   {
    "duration": 4,
    "start_time": "2023-01-23T10:12:24.433Z"
   },
   {
    "duration": 4,
    "start_time": "2023-01-23T10:12:28.400Z"
   },
   {
    "duration": 4,
    "start_time": "2023-01-23T10:12:39.525Z"
   },
   {
    "duration": 4,
    "start_time": "2023-01-23T10:13:09.118Z"
   },
   {
    "duration": 5,
    "start_time": "2023-01-23T10:14:00.281Z"
   },
   {
    "duration": 4,
    "start_time": "2023-01-23T10:14:13.977Z"
   },
   {
    "duration": 4,
    "start_time": "2023-01-23T10:18:35.752Z"
   },
   {
    "duration": 4,
    "start_time": "2023-01-23T10:18:46.604Z"
   },
   {
    "duration": 4,
    "start_time": "2023-01-23T10:24:25.904Z"
   },
   {
    "duration": 6,
    "start_time": "2023-01-23T10:24:59.098Z"
   },
   {
    "duration": 1542,
    "start_time": "2023-01-24T14:36:13.246Z"
   },
   {
    "duration": 2073,
    "start_time": "2023-01-24T14:36:14.791Z"
   },
   {
    "duration": 14,
    "start_time": "2023-01-24T14:36:16.866Z"
   },
   {
    "duration": 25,
    "start_time": "2023-01-24T14:36:16.882Z"
   },
   {
    "duration": 30,
    "start_time": "2023-01-24T14:36:16.909Z"
   },
   {
    "duration": 16,
    "start_time": "2023-01-24T14:36:16.941Z"
   },
   {
    "duration": 23,
    "start_time": "2023-01-24T14:36:16.959Z"
   },
   {
    "duration": 898,
    "start_time": "2023-01-24T14:36:16.983Z"
   },
   {
    "duration": 876,
    "start_time": "2023-01-24T14:36:17.883Z"
   },
   {
    "duration": 968,
    "start_time": "2023-01-24T14:36:18.760Z"
   },
   {
    "duration": 34,
    "start_time": "2023-01-24T14:36:19.730Z"
   },
   {
    "duration": 48,
    "start_time": "2023-01-24T14:36:19.766Z"
   },
   {
    "duration": 36,
    "start_time": "2023-01-24T14:36:19.816Z"
   },
   {
    "duration": 36,
    "start_time": "2023-01-24T14:36:19.856Z"
   },
   {
    "duration": 33,
    "start_time": "2023-01-24T14:36:19.894Z"
   },
   {
    "duration": 288,
    "start_time": "2023-01-24T14:36:19.929Z"
   },
   {
    "duration": 281,
    "start_time": "2023-01-24T14:36:20.219Z"
   },
   {
    "duration": 9,
    "start_time": "2023-01-24T14:36:20.502Z"
   },
   {
    "duration": 29,
    "start_time": "2023-01-24T14:36:20.513Z"
   },
   {
    "duration": 45,
    "start_time": "2023-01-24T14:36:20.544Z"
   },
   {
    "duration": 68,
    "start_time": "2023-01-24T14:36:20.591Z"
   },
   {
    "duration": 70,
    "start_time": "2023-01-24T14:36:20.661Z"
   },
   {
    "duration": 24,
    "start_time": "2023-01-24T14:36:20.732Z"
   },
   {
    "duration": 124,
    "start_time": "2023-01-24T14:36:20.758Z"
   },
   {
    "duration": 102,
    "start_time": "2023-01-24T14:36:20.884Z"
   },
   {
    "duration": 28,
    "start_time": "2023-01-24T14:36:20.987Z"
   },
   {
    "duration": 4,
    "start_time": "2023-01-24T14:40:37.287Z"
   },
   {
    "duration": 4,
    "start_time": "2023-01-24T14:40:57.433Z"
   },
   {
    "duration": 111,
    "start_time": "2023-01-24T14:41:25.353Z"
   },
   {
    "duration": 9,
    "start_time": "2023-01-24T14:43:00.295Z"
   },
   {
    "duration": 8,
    "start_time": "2023-01-24T14:44:08.815Z"
   },
   {
    "duration": 10,
    "start_time": "2023-01-24T14:44:13.805Z"
   },
   {
    "duration": 3,
    "start_time": "2023-01-24T14:44:54.862Z"
   },
   {
    "duration": 4,
    "start_time": "2023-01-24T14:45:04.222Z"
   },
   {
    "duration": 11,
    "start_time": "2023-01-24T14:46:05.062Z"
   },
   {
    "duration": 9,
    "start_time": "2023-01-24T14:46:37.357Z"
   },
   {
    "duration": 8,
    "start_time": "2023-01-24T14:46:46.357Z"
   },
   {
    "duration": 4,
    "start_time": "2023-01-24T14:46:50.246Z"
   },
   {
    "duration": 99,
    "start_time": "2023-01-24T14:47:11.956Z"
   },
   {
    "duration": 9,
    "start_time": "2023-01-24T14:47:15.525Z"
   },
   {
    "duration": 3,
    "start_time": "2023-01-24T14:49:34.677Z"
   },
   {
    "duration": 5,
    "start_time": "2023-01-24T14:49:36.724Z"
   },
   {
    "duration": 9,
    "start_time": "2023-01-24T14:54:12.545Z"
   },
   {
    "duration": 10,
    "start_time": "2023-01-24T14:54:36.403Z"
   },
   {
    "duration": 8,
    "start_time": "2023-01-24T14:54:44.281Z"
   },
   {
    "duration": 9,
    "start_time": "2023-01-24T14:55:29.792Z"
   },
   {
    "duration": 7,
    "start_time": "2023-01-24T14:55:35.972Z"
   },
   {
    "duration": 8,
    "start_time": "2023-01-24T14:56:01.304Z"
   },
   {
    "duration": 10,
    "start_time": "2023-01-24T15:00:32.500Z"
   },
   {
    "duration": 4,
    "start_time": "2023-01-24T15:00:45.069Z"
   },
   {
    "duration": 7,
    "start_time": "2023-01-24T15:00:47.020Z"
   },
   {
    "duration": 3,
    "start_time": "2023-01-24T15:01:17.909Z"
   },
   {
    "duration": 7,
    "start_time": "2023-01-24T15:01:19.772Z"
   },
   {
    "duration": 8,
    "start_time": "2023-01-24T15:01:23.384Z"
   },
   {
    "duration": 4,
    "start_time": "2023-01-24T15:05:29.643Z"
   },
   {
    "duration": 8,
    "start_time": "2023-01-24T15:05:34.306Z"
   },
   {
    "duration": 3,
    "start_time": "2023-01-24T15:07:48.864Z"
   },
   {
    "duration": 3,
    "start_time": "2023-01-24T15:29:06.454Z"
   },
   {
    "duration": 19,
    "start_time": "2023-01-24T15:35:32.803Z"
   },
   {
    "duration": 5,
    "start_time": "2023-01-24T15:36:44.679Z"
   },
   {
    "duration": 16,
    "start_time": "2023-01-24T15:36:53.199Z"
   },
   {
    "duration": 5,
    "start_time": "2023-01-24T15:38:58.181Z"
   },
   {
    "duration": 5,
    "start_time": "2023-01-24T15:39:21.036Z"
   },
   {
    "duration": 6,
    "start_time": "2023-01-24T15:40:32.004Z"
   },
   {
    "duration": 21,
    "start_time": "2023-01-24T15:41:29.213Z"
   },
   {
    "duration": 5,
    "start_time": "2023-01-24T15:41:52.060Z"
   },
   {
    "duration": 6,
    "start_time": "2023-01-24T15:42:01.284Z"
   },
   {
    "duration": 3,
    "start_time": "2023-01-24T15:42:20.898Z"
   },
   {
    "duration": 6,
    "start_time": "2023-01-24T15:42:26.246Z"
   },
   {
    "duration": 2926,
    "start_time": "2023-01-24T15:42:30.315Z"
   },
   {
    "duration": 3036,
    "start_time": "2023-01-24T15:42:55.579Z"
   },
   {
    "duration": 2957,
    "start_time": "2023-01-24T15:45:33.289Z"
   },
   {
    "duration": 4,
    "start_time": "2023-01-24T15:46:59.999Z"
   },
   {
    "duration": 4,
    "start_time": "2023-01-24T15:47:10.103Z"
   },
   {
    "duration": 4,
    "start_time": "2023-01-24T15:47:19.368Z"
   },
   {
    "duration": 11,
    "start_time": "2023-01-24T15:47:33.472Z"
   },
   {
    "duration": 2947,
    "start_time": "2023-01-24T15:47:40.537Z"
   },
   {
    "duration": 3036,
    "start_time": "2023-01-24T15:48:04.953Z"
   },
   {
    "duration": 7,
    "start_time": "2023-01-24T15:48:32.643Z"
   },
   {
    "duration": 3,
    "start_time": "2023-01-24T15:48:57.855Z"
   },
   {
    "duration": 4,
    "start_time": "2023-01-24T15:49:08.254Z"
   },
   {
    "duration": 2967,
    "start_time": "2023-01-24T15:49:15.679Z"
   },
   {
    "duration": 3,
    "start_time": "2023-01-24T15:49:39.399Z"
   },
   {
    "duration": 8,
    "start_time": "2023-01-24T15:49:41.462Z"
   },
   {
    "duration": 2869,
    "start_time": "2023-01-24T15:49:58.774Z"
   },
   {
    "duration": 3004,
    "start_time": "2023-01-24T15:51:01.335Z"
   },
   {
    "duration": 3007,
    "start_time": "2023-01-24T15:51:18.453Z"
   },
   {
    "duration": 2977,
    "start_time": "2023-01-24T15:51:36.365Z"
   },
   {
    "duration": 3023,
    "start_time": "2023-01-24T15:53:35.854Z"
   },
   {
    "duration": 6,
    "start_time": "2023-01-24T15:54:19.091Z"
   },
   {
    "duration": 25,
    "start_time": "2023-01-24T15:54:40.555Z"
   },
   {
    "duration": 13,
    "start_time": "2023-01-24T15:55:34.867Z"
   },
   {
    "duration": 13,
    "start_time": "2023-01-24T15:59:42.434Z"
   },
   {
    "duration": 14,
    "start_time": "2023-01-24T15:59:58.457Z"
   },
   {
    "duration": 6,
    "start_time": "2023-01-24T16:01:21.601Z"
   },
   {
    "duration": 5,
    "start_time": "2023-01-24T16:01:34.905Z"
   },
   {
    "duration": 6,
    "start_time": "2023-01-24T16:01:50.827Z"
   },
   {
    "duration": 6,
    "start_time": "2023-01-24T16:02:19.889Z"
   },
   {
    "duration": 762,
    "start_time": "2023-01-24T16:03:00.761Z"
   },
   {
    "duration": 6,
    "start_time": "2023-01-24T16:03:25.689Z"
   },
   {
    "duration": 6,
    "start_time": "2023-01-24T16:03:49.329Z"
   },
   {
    "duration": 6,
    "start_time": "2023-01-24T16:04:04.416Z"
   },
   {
    "duration": 5,
    "start_time": "2023-01-24T16:04:12.287Z"
   },
   {
    "duration": 727,
    "start_time": "2023-01-24T16:04:35.065Z"
   },
   {
    "duration": 954,
    "start_time": "2023-01-24T16:05:15.944Z"
   },
   {
    "duration": 728,
    "start_time": "2023-01-24T16:05:24.322Z"
   },
   {
    "duration": 748,
    "start_time": "2023-01-24T16:05:32.442Z"
   },
   {
    "duration": 7,
    "start_time": "2023-01-24T16:05:43.192Z"
   },
   {
    "duration": 3,
    "start_time": "2023-01-24T16:11:38.183Z"
   },
   {
    "duration": 3,
    "start_time": "2023-01-24T16:13:00.229Z"
   },
   {
    "duration": 6,
    "start_time": "2023-01-24T16:14:02.716Z"
   },
   {
    "duration": 10,
    "start_time": "2023-01-24T16:14:11.868Z"
   },
   {
    "duration": 5,
    "start_time": "2023-01-24T16:15:48.569Z"
   },
   {
    "duration": 11,
    "start_time": "2023-01-24T16:15:54.460Z"
   },
   {
    "duration": 780,
    "start_time": "2023-01-24T16:18:20.362Z"
   },
   {
    "duration": 9,
    "start_time": "2023-01-24T16:18:28.722Z"
   },
   {
    "duration": 749,
    "start_time": "2023-01-24T16:20:30.681Z"
   },
   {
    "duration": 8,
    "start_time": "2023-01-24T16:20:34.330Z"
   },
   {
    "duration": 736,
    "start_time": "2023-01-24T16:24:26.766Z"
   },
   {
    "duration": 652,
    "start_time": "2023-01-24T16:25:26.334Z"
   },
   {
    "duration": 570,
    "start_time": "2023-01-24T16:26:44.208Z"
   },
   {
    "duration": 8,
    "start_time": "2023-01-24T16:27:43.142Z"
   },
   {
    "duration": 717,
    "start_time": "2023-01-24T16:28:28.693Z"
   },
   {
    "duration": 529,
    "start_time": "2023-01-24T16:28:32.004Z"
   },
   {
    "duration": 545,
    "start_time": "2023-01-24T16:28:35.189Z"
   },
   {
    "duration": 10,
    "start_time": "2023-01-24T16:28:40.011Z"
   },
   {
    "duration": 69,
    "start_time": "2023-01-24T16:48:18.706Z"
   },
   {
    "duration": 32593,
    "start_time": "2023-01-24T16:55:49.128Z"
   },
   {
    "duration": 9,
    "start_time": "2023-01-24T17:02:06.997Z"
   },
   {
    "duration": 33291,
    "start_time": "2023-01-24T17:02:16.756Z"
   },
   {
    "duration": 1625,
    "start_time": "2023-01-25T09:29:21.690Z"
   },
   {
    "duration": 917,
    "start_time": "2023-01-25T09:29:23.317Z"
   },
   {
    "duration": 17,
    "start_time": "2023-01-25T09:29:24.236Z"
   },
   {
    "duration": 16,
    "start_time": "2023-01-25T09:29:24.255Z"
   },
   {
    "duration": 18,
    "start_time": "2023-01-25T09:29:24.284Z"
   },
   {
    "duration": 16,
    "start_time": "2023-01-25T09:29:24.304Z"
   },
   {
    "duration": 17,
    "start_time": "2023-01-25T09:29:24.322Z"
   },
   {
    "duration": 1064,
    "start_time": "2023-01-25T09:29:24.341Z"
   },
   {
    "duration": 896,
    "start_time": "2023-01-25T09:29:25.407Z"
   },
   {
    "duration": 1011,
    "start_time": "2023-01-25T09:29:26.306Z"
   },
   {
    "duration": 37,
    "start_time": "2023-01-25T09:29:27.319Z"
   },
   {
    "duration": 48,
    "start_time": "2023-01-25T09:29:27.358Z"
   },
   {
    "duration": 35,
    "start_time": "2023-01-25T09:29:27.408Z"
   },
   {
    "duration": 17,
    "start_time": "2023-01-25T09:29:27.445Z"
   },
   {
    "duration": 21,
    "start_time": "2023-01-25T09:29:27.483Z"
   },
   {
    "duration": 318,
    "start_time": "2023-01-25T09:29:27.506Z"
   },
   {
    "duration": 289,
    "start_time": "2023-01-25T09:29:27.826Z"
   },
   {
    "duration": 10,
    "start_time": "2023-01-25T09:29:28.117Z"
   },
   {
    "duration": 19,
    "start_time": "2023-01-25T09:29:28.128Z"
   },
   {
    "duration": 20,
    "start_time": "2023-01-25T09:29:28.149Z"
   },
   {
    "duration": 51,
    "start_time": "2023-01-25T09:29:28.170Z"
   },
   {
    "duration": 52,
    "start_time": "2023-01-25T09:29:28.223Z"
   },
   {
    "duration": 29,
    "start_time": "2023-01-25T09:29:28.277Z"
   },
   {
    "duration": 81,
    "start_time": "2023-01-25T09:29:28.308Z"
   },
   {
    "duration": 98,
    "start_time": "2023-01-25T09:29:28.391Z"
   },
   {
    "duration": 94,
    "start_time": "2023-01-25T09:29:28.492Z"
   },
   {
    "duration": 6,
    "start_time": "2023-01-25T09:29:28.587Z"
   },
   {
    "duration": 11,
    "start_time": "2023-01-25T09:29:28.597Z"
   },
   {
    "duration": 122,
    "start_time": "2023-01-25T09:29:28.609Z"
   },
   {
    "duration": 0,
    "start_time": "2023-01-25T09:29:28.733Z"
   },
   {
    "duration": 0,
    "start_time": "2023-01-25T09:29:28.735Z"
   },
   {
    "duration": 0,
    "start_time": "2023-01-25T09:29:28.736Z"
   },
   {
    "duration": 0,
    "start_time": "2023-01-25T09:29:28.737Z"
   },
   {
    "duration": 0,
    "start_time": "2023-01-25T09:29:28.738Z"
   },
   {
    "duration": 0,
    "start_time": "2023-01-25T09:29:28.739Z"
   },
   {
    "duration": 0,
    "start_time": "2023-01-25T09:29:28.739Z"
   },
   {
    "duration": 0,
    "start_time": "2023-01-25T09:29:28.740Z"
   },
   {
    "duration": 1974,
    "start_time": "2023-01-26T09:42:03.795Z"
   },
   {
    "duration": 1923,
    "start_time": "2023-01-26T09:42:05.776Z"
   },
   {
    "duration": 17,
    "start_time": "2023-01-26T09:42:07.701Z"
   },
   {
    "duration": 38,
    "start_time": "2023-01-26T09:42:07.720Z"
   },
   {
    "duration": 23,
    "start_time": "2023-01-26T09:42:07.761Z"
   },
   {
    "duration": 18,
    "start_time": "2023-01-26T09:42:07.786Z"
   },
   {
    "duration": 17,
    "start_time": "2023-01-26T09:42:07.806Z"
   },
   {
    "duration": 1263,
    "start_time": "2023-01-26T09:42:07.825Z"
   },
   {
    "duration": 1044,
    "start_time": "2023-01-26T09:42:09.090Z"
   },
   {
    "duration": 1269,
    "start_time": "2023-01-26T09:42:10.137Z"
   },
   {
    "duration": 72,
    "start_time": "2023-01-26T09:42:11.408Z"
   },
   {
    "duration": 62,
    "start_time": "2023-01-26T09:42:11.482Z"
   },
   {
    "duration": 71,
    "start_time": "2023-01-26T09:42:11.559Z"
   },
   {
    "duration": 36,
    "start_time": "2023-01-26T09:42:11.632Z"
   },
   {
    "duration": 43,
    "start_time": "2023-01-26T09:42:11.670Z"
   },
   {
    "duration": 352,
    "start_time": "2023-01-26T09:42:11.717Z"
   },
   {
    "duration": 335,
    "start_time": "2023-01-26T09:42:12.071Z"
   },
   {
    "duration": 12,
    "start_time": "2023-01-26T09:42:12.408Z"
   },
   {
    "duration": 58,
    "start_time": "2023-01-26T09:42:12.422Z"
   },
   {
    "duration": 21,
    "start_time": "2023-01-26T09:42:12.483Z"
   },
   {
    "duration": 57,
    "start_time": "2023-01-26T09:42:12.505Z"
   },
   {
    "duration": 61,
    "start_time": "2023-01-26T09:42:12.564Z"
   },
   {
    "duration": 47,
    "start_time": "2023-01-26T09:42:12.627Z"
   },
   {
    "duration": 64,
    "start_time": "2023-01-26T09:42:12.676Z"
   },
   {
    "duration": 128,
    "start_time": "2023-01-26T09:42:12.742Z"
   },
   {
    "duration": 20,
    "start_time": "2023-01-26T09:42:12.872Z"
   },
   {
    "duration": 6,
    "start_time": "2023-01-26T09:42:12.894Z"
   },
   {
    "duration": 15,
    "start_time": "2023-01-26T09:42:12.904Z"
   },
   {
    "duration": 147,
    "start_time": "2023-01-26T09:42:12.921Z"
   },
   {
    "duration": 0,
    "start_time": "2023-01-26T09:42:13.070Z"
   },
   {
    "duration": 0,
    "start_time": "2023-01-26T09:42:13.072Z"
   },
   {
    "duration": 0,
    "start_time": "2023-01-26T09:42:13.073Z"
   },
   {
    "duration": 0,
    "start_time": "2023-01-26T09:42:13.074Z"
   },
   {
    "duration": 0,
    "start_time": "2023-01-26T09:42:13.075Z"
   },
   {
    "duration": 0,
    "start_time": "2023-01-26T09:42:13.076Z"
   },
   {
    "duration": 0,
    "start_time": "2023-01-26T09:42:13.077Z"
   },
   {
    "duration": 0,
    "start_time": "2023-01-26T09:42:13.078Z"
   },
   {
    "duration": 13,
    "start_time": "2023-01-26T09:44:50.547Z"
   },
   {
    "duration": 2,
    "start_time": "2023-01-26T09:52:28.281Z"
   },
   {
    "duration": 15,
    "start_time": "2023-01-26T09:58:02.565Z"
   },
   {
    "duration": 3,
    "start_time": "2023-01-26T09:58:07.503Z"
   },
   {
    "duration": 9,
    "start_time": "2023-01-26T09:58:09.223Z"
   },
   {
    "duration": 7,
    "start_time": "2023-01-26T10:08:22.464Z"
   },
   {
    "duration": 10,
    "start_time": "2023-01-26T10:13:37.638Z"
   },
   {
    "duration": 19,
    "start_time": "2023-01-26T10:13:39.563Z"
   },
   {
    "duration": 10,
    "start_time": "2023-01-26T10:14:51.496Z"
   },
   {
    "duration": 10,
    "start_time": "2023-01-26T10:15:03.598Z"
   },
   {
    "duration": 18,
    "start_time": "2023-01-26T10:15:17.577Z"
   },
   {
    "duration": 13,
    "start_time": "2023-01-26T10:15:27.702Z"
   },
   {
    "duration": 16,
    "start_time": "2023-01-26T10:19:23.565Z"
   },
   {
    "duration": 18,
    "start_time": "2023-01-26T10:19:33.446Z"
   },
   {
    "duration": 12,
    "start_time": "2023-01-26T10:19:45.338Z"
   },
   {
    "duration": 37,
    "start_time": "2023-01-26T10:20:56.662Z"
   },
   {
    "duration": 29,
    "start_time": "2023-01-26T10:21:40.567Z"
   },
   {
    "duration": 19,
    "start_time": "2023-01-26T10:22:24.990Z"
   },
   {
    "duration": 20,
    "start_time": "2023-01-26T10:22:34.796Z"
   },
   {
    "duration": 16,
    "start_time": "2023-01-26T10:23:24.584Z"
   },
   {
    "duration": 11,
    "start_time": "2023-01-26T10:23:41.388Z"
   },
   {
    "duration": 51,
    "start_time": "2023-01-26T10:23:49.934Z"
   },
   {
    "duration": 12,
    "start_time": "2023-01-26T10:24:42.483Z"
   },
   {
    "duration": 18,
    "start_time": "2023-01-26T10:24:59.875Z"
   },
   {
    "duration": 14,
    "start_time": "2023-01-26T10:25:39.193Z"
   },
   {
    "duration": 17,
    "start_time": "2023-01-26T10:26:03.691Z"
   },
   {
    "duration": 17,
    "start_time": "2023-01-26T10:27:31.201Z"
   },
   {
    "duration": 4,
    "start_time": "2023-01-26T10:28:50.722Z"
   },
   {
    "duration": 23,
    "start_time": "2023-01-26T10:28:54.465Z"
   },
   {
    "duration": 10,
    "start_time": "2023-01-26T10:29:06.670Z"
   },
   {
    "duration": 3974,
    "start_time": "2023-01-26T10:29:13.155Z"
   },
   {
    "duration": 12,
    "start_time": "2023-01-26T10:30:46.858Z"
   },
   {
    "duration": 17,
    "start_time": "2023-01-26T10:31:07.884Z"
   },
   {
    "duration": 4,
    "start_time": "2023-01-26T10:31:58.916Z"
   },
   {
    "duration": 20,
    "start_time": "2023-01-26T10:32:01.684Z"
   },
   {
    "duration": 10,
    "start_time": "2023-01-26T10:32:03.797Z"
   },
   {
    "duration": 4,
    "start_time": "2023-01-26T10:32:24.693Z"
   },
   {
    "duration": 9,
    "start_time": "2023-01-26T10:32:27.570Z"
   },
   {
    "duration": 6,
    "start_time": "2023-01-26T10:34:28.474Z"
   },
   {
    "duration": 17,
    "start_time": "2023-01-26T10:34:31.214Z"
   },
   {
    "duration": 5,
    "start_time": "2023-01-26T10:36:40.667Z"
   },
   {
    "duration": 10,
    "start_time": "2023-01-26T10:36:55.263Z"
   },
   {
    "duration": 120,
    "start_time": "2023-01-26T10:38:03.402Z"
   },
   {
    "duration": 4,
    "start_time": "2023-01-26T10:38:30.226Z"
   },
   {
    "duration": 5,
    "start_time": "2023-01-26T10:38:48.922Z"
   },
   {
    "duration": 11,
    "start_time": "2023-01-26T10:38:53.164Z"
   },
   {
    "duration": 5,
    "start_time": "2023-01-26T10:39:18.379Z"
   },
   {
    "duration": 13,
    "start_time": "2023-01-26T10:39:20.864Z"
   },
   {
    "duration": 30,
    "start_time": "2023-01-26T10:39:54.133Z"
   },
   {
    "duration": 1359,
    "start_time": "2023-01-26T10:42:11.990Z"
   },
   {
    "duration": 22,
    "start_time": "2023-01-26T10:44:28.767Z"
   },
   {
    "duration": 1252,
    "start_time": "2023-01-26T10:45:05.672Z"
   },
   {
    "duration": 1309,
    "start_time": "2023-01-26T10:46:03.986Z"
   },
   {
    "duration": 7,
    "start_time": "2023-01-26T10:47:22.773Z"
   },
   {
    "duration": 1148,
    "start_time": "2023-01-26T10:48:21.880Z"
   },
   {
    "duration": 1076,
    "start_time": "2023-01-26T10:48:35.470Z"
   },
   {
    "duration": 1083,
    "start_time": "2023-01-26T10:49:26.972Z"
   },
   {
    "duration": 1081,
    "start_time": "2023-01-26T10:49:35.170Z"
   },
   {
    "duration": 1257,
    "start_time": "2023-01-26T10:49:44.755Z"
   },
   {
    "duration": 8,
    "start_time": "2023-01-26T10:57:46.307Z"
   },
   {
    "duration": 8,
    "start_time": "2023-01-26T10:57:49.587Z"
   },
   {
    "duration": 13,
    "start_time": "2023-01-26T10:58:01.064Z"
   },
   {
    "duration": 13,
    "start_time": "2023-01-26T10:58:22.156Z"
   },
   {
    "duration": 1341,
    "start_time": "2023-01-26T10:59:27.486Z"
   },
   {
    "duration": 1187,
    "start_time": "2023-01-26T11:00:02.451Z"
   },
   {
    "duration": 1147,
    "start_time": "2023-01-26T11:00:39.931Z"
   },
   {
    "duration": 1149,
    "start_time": "2023-01-26T11:01:02.510Z"
   },
   {
    "duration": 11,
    "start_time": "2023-01-26T11:01:22.967Z"
   },
   {
    "duration": 1519,
    "start_time": "2023-01-26T11:01:31.689Z"
   },
   {
    "duration": 451,
    "start_time": "2023-01-26T11:01:33.210Z"
   },
   {
    "duration": 21,
    "start_time": "2023-01-26T11:01:33.671Z"
   },
   {
    "duration": 17,
    "start_time": "2023-01-26T11:01:33.695Z"
   },
   {
    "duration": 38,
    "start_time": "2023-01-26T11:01:33.714Z"
   },
   {
    "duration": 25,
    "start_time": "2023-01-26T11:01:33.753Z"
   },
   {
    "duration": 18,
    "start_time": "2023-01-26T11:01:33.780Z"
   },
   {
    "duration": 1351,
    "start_time": "2023-01-26T11:01:33.800Z"
   },
   {
    "duration": 1046,
    "start_time": "2023-01-26T11:01:35.165Z"
   },
   {
    "duration": 1185,
    "start_time": "2023-01-26T11:01:36.215Z"
   },
   {
    "duration": 57,
    "start_time": "2023-01-26T11:01:37.402Z"
   },
   {
    "duration": 43,
    "start_time": "2023-01-26T11:01:37.462Z"
   },
   {
    "duration": 60,
    "start_time": "2023-01-26T11:01:37.507Z"
   },
   {
    "duration": 26,
    "start_time": "2023-01-26T11:01:37.570Z"
   },
   {
    "duration": 42,
    "start_time": "2023-01-26T11:01:37.599Z"
   },
   {
    "duration": 348,
    "start_time": "2023-01-26T11:01:37.651Z"
   },
   {
    "duration": 309,
    "start_time": "2023-01-26T11:01:38.001Z"
   },
   {
    "duration": 14,
    "start_time": "2023-01-26T11:01:38.311Z"
   },
   {
    "duration": 69,
    "start_time": "2023-01-26T11:01:38.329Z"
   },
   {
    "duration": 83,
    "start_time": "2023-01-26T11:01:38.400Z"
   },
   {
    "duration": 122,
    "start_time": "2023-01-26T11:01:38.486Z"
   },
   {
    "duration": 90,
    "start_time": "2023-01-26T11:01:38.610Z"
   },
   {
    "duration": 56,
    "start_time": "2023-01-26T11:01:38.702Z"
   },
   {
    "duration": 48,
    "start_time": "2023-01-26T11:01:38.762Z"
   },
   {
    "duration": 107,
    "start_time": "2023-01-26T11:01:38.840Z"
   },
   {
    "duration": 43,
    "start_time": "2023-01-26T11:01:38.952Z"
   },
   {
    "duration": 10,
    "start_time": "2023-01-26T11:01:38.997Z"
   },
   {
    "duration": 5,
    "start_time": "2023-01-26T11:01:39.011Z"
   },
   {
    "duration": 23,
    "start_time": "2023-01-26T11:01:39.017Z"
   },
   {
    "duration": 145,
    "start_time": "2023-01-26T11:01:39.042Z"
   },
   {
    "duration": 0,
    "start_time": "2023-01-26T11:01:39.190Z"
   },
   {
    "duration": 0,
    "start_time": "2023-01-26T11:01:39.191Z"
   },
   {
    "duration": 0,
    "start_time": "2023-01-26T11:01:39.193Z"
   },
   {
    "duration": 0,
    "start_time": "2023-01-26T11:01:39.194Z"
   },
   {
    "duration": 0,
    "start_time": "2023-01-26T11:01:39.195Z"
   },
   {
    "duration": 0,
    "start_time": "2023-01-26T11:01:39.197Z"
   },
   {
    "duration": 0,
    "start_time": "2023-01-26T11:01:39.198Z"
   },
   {
    "duration": 0,
    "start_time": "2023-01-26T11:01:39.199Z"
   },
   {
    "duration": 14,
    "start_time": "2023-01-26T11:02:18.369Z"
   },
   {
    "duration": 9,
    "start_time": "2023-01-26T11:03:07.660Z"
   },
   {
    "duration": 10,
    "start_time": "2023-01-26T11:03:13.704Z"
   },
   {
    "duration": 1662,
    "start_time": "2023-01-26T11:05:21.823Z"
   },
   {
    "duration": 514,
    "start_time": "2023-01-26T11:05:23.488Z"
   },
   {
    "duration": 19,
    "start_time": "2023-01-26T11:05:24.004Z"
   },
   {
    "duration": 96,
    "start_time": "2023-01-26T11:05:24.037Z"
   },
   {
    "duration": 103,
    "start_time": "2023-01-26T11:05:24.136Z"
   },
   {
    "duration": 64,
    "start_time": "2023-01-26T11:05:24.243Z"
   },
   {
    "duration": 59,
    "start_time": "2023-01-26T11:05:24.309Z"
   },
   {
    "duration": 1307,
    "start_time": "2023-01-26T11:05:24.371Z"
   },
   {
    "duration": 1041,
    "start_time": "2023-01-26T11:05:25.683Z"
   },
   {
    "duration": 1207,
    "start_time": "2023-01-26T11:05:26.727Z"
   },
   {
    "duration": 54,
    "start_time": "2023-01-26T11:05:27.940Z"
   },
   {
    "duration": 62,
    "start_time": "2023-01-26T11:05:27.997Z"
   },
   {
    "duration": 52,
    "start_time": "2023-01-26T11:05:28.061Z"
   },
   {
    "duration": 48,
    "start_time": "2023-01-26T11:05:28.115Z"
   },
   {
    "duration": 50,
    "start_time": "2023-01-26T11:05:28.171Z"
   },
   {
    "duration": 392,
    "start_time": "2023-01-26T11:05:28.223Z"
   },
   {
    "duration": 395,
    "start_time": "2023-01-26T11:05:28.620Z"
   },
   {
    "duration": 30,
    "start_time": "2023-01-26T11:05:29.019Z"
   },
   {
    "duration": 44,
    "start_time": "2023-01-26T11:05:29.051Z"
   },
   {
    "duration": 15,
    "start_time": "2023-01-26T11:05:29.097Z"
   },
   {
    "duration": 46,
    "start_time": "2023-01-26T11:05:29.114Z"
   },
   {
    "duration": 60,
    "start_time": "2023-01-26T11:05:29.162Z"
   },
   {
    "duration": 36,
    "start_time": "2023-01-26T11:05:29.224Z"
   },
   {
    "duration": 84,
    "start_time": "2023-01-26T11:05:29.265Z"
   },
   {
    "duration": 98,
    "start_time": "2023-01-26T11:05:29.353Z"
   },
   {
    "duration": 37,
    "start_time": "2023-01-26T11:05:29.454Z"
   },
   {
    "duration": 11,
    "start_time": "2023-01-26T11:05:29.493Z"
   },
   {
    "duration": 9,
    "start_time": "2023-01-26T11:05:29.545Z"
   },
   {
    "duration": 90,
    "start_time": "2023-01-26T11:05:29.555Z"
   },
   {
    "duration": 0,
    "start_time": "2023-01-26T11:05:29.648Z"
   },
   {
    "duration": 0,
    "start_time": "2023-01-26T11:05:29.649Z"
   },
   {
    "duration": 0,
    "start_time": "2023-01-26T11:05:29.650Z"
   },
   {
    "duration": 0,
    "start_time": "2023-01-26T11:05:29.652Z"
   },
   {
    "duration": 0,
    "start_time": "2023-01-26T11:05:29.655Z"
   },
   {
    "duration": 0,
    "start_time": "2023-01-26T11:05:29.656Z"
   },
   {
    "duration": 0,
    "start_time": "2023-01-26T11:05:29.658Z"
   },
   {
    "duration": 0,
    "start_time": "2023-01-26T11:05:29.659Z"
   },
   {
    "duration": 0,
    "start_time": "2023-01-26T11:05:29.660Z"
   },
   {
    "duration": 1804,
    "start_time": "2023-01-26T11:05:54.926Z"
   },
   {
    "duration": 465,
    "start_time": "2023-01-26T11:05:56.735Z"
   },
   {
    "duration": 16,
    "start_time": "2023-01-26T11:05:57.201Z"
   },
   {
    "duration": 26,
    "start_time": "2023-01-26T11:05:57.220Z"
   },
   {
    "duration": 38,
    "start_time": "2023-01-26T11:05:57.248Z"
   },
   {
    "duration": 27,
    "start_time": "2023-01-26T11:05:57.289Z"
   },
   {
    "duration": 23,
    "start_time": "2023-01-26T11:05:57.319Z"
   },
   {
    "duration": 1217,
    "start_time": "2023-01-26T11:05:57.344Z"
   },
   {
    "duration": 1135,
    "start_time": "2023-01-26T11:05:58.563Z"
   },
   {
    "duration": 1230,
    "start_time": "2023-01-26T11:05:59.703Z"
   },
   {
    "duration": 46,
    "start_time": "2023-01-26T11:06:00.936Z"
   },
   {
    "duration": 79,
    "start_time": "2023-01-26T11:06:00.985Z"
   },
   {
    "duration": 55,
    "start_time": "2023-01-26T11:06:01.066Z"
   },
   {
    "duration": 30,
    "start_time": "2023-01-26T11:06:01.122Z"
   },
   {
    "duration": 63,
    "start_time": "2023-01-26T11:06:01.154Z"
   },
   {
    "duration": 381,
    "start_time": "2023-01-26T11:06:01.220Z"
   },
   {
    "duration": 364,
    "start_time": "2023-01-26T11:06:01.604Z"
   },
   {
    "duration": 13,
    "start_time": "2023-01-26T11:06:01.975Z"
   },
   {
    "duration": 22,
    "start_time": "2023-01-26T11:06:01.991Z"
   },
   {
    "duration": 76,
    "start_time": "2023-01-26T11:06:02.018Z"
   },
   {
    "duration": 48,
    "start_time": "2023-01-26T11:06:02.096Z"
   },
   {
    "duration": 64,
    "start_time": "2023-01-26T11:06:02.146Z"
   },
   {
    "duration": 46,
    "start_time": "2023-01-26T11:06:02.212Z"
   },
   {
    "duration": 82,
    "start_time": "2023-01-26T11:06:02.262Z"
   },
   {
    "duration": 132,
    "start_time": "2023-01-26T11:06:02.347Z"
   },
   {
    "duration": 11,
    "start_time": "2023-01-26T11:06:02.482Z"
   },
   {
    "duration": 17,
    "start_time": "2023-01-26T11:06:02.496Z"
   },
   {
    "duration": 13,
    "start_time": "2023-01-26T11:06:02.517Z"
   },
   {
    "duration": 48,
    "start_time": "2023-01-26T11:06:02.532Z"
   },
   {
    "duration": 17,
    "start_time": "2023-01-26T11:06:02.582Z"
   },
   {
    "duration": 1228,
    "start_time": "2023-01-26T11:06:02.602Z"
   },
   {
    "duration": 1105,
    "start_time": "2023-01-26T11:06:03.842Z"
   },
   {
    "duration": 1100,
    "start_time": "2023-01-26T11:06:04.948Z"
   },
   {
    "duration": 21,
    "start_time": "2023-01-26T11:06:06.056Z"
   },
   {
    "duration": 24,
    "start_time": "2023-01-26T11:06:06.082Z"
   },
   {
    "duration": 108,
    "start_time": "2023-01-26T11:06:06.109Z"
   },
   {
    "duration": 40797,
    "start_time": "2023-01-26T11:06:06.219Z"
   },
   {
    "duration": 1041,
    "start_time": "2023-01-26T11:06:56.988Z"
   },
   {
    "duration": 5,
    "start_time": "2023-01-26T11:07:36.729Z"
   },
   {
    "duration": 126,
    "start_time": "2023-01-26T11:10:45.381Z"
   },
   {
    "duration": 1084,
    "start_time": "2023-01-26T11:11:03.632Z"
   },
   {
    "duration": 1129,
    "start_time": "2023-01-26T11:13:47.801Z"
   },
   {
    "duration": 1091,
    "start_time": "2023-01-26T11:13:54.973Z"
   },
   {
    "duration": 1081,
    "start_time": "2023-01-26T11:14:10.618Z"
   },
   {
    "duration": 1144,
    "start_time": "2023-01-26T11:14:14.968Z"
   },
   {
    "duration": 143,
    "start_time": "2023-01-26T11:19:32.134Z"
   },
   {
    "duration": 19,
    "start_time": "2023-01-26T11:20:47.669Z"
   },
   {
    "duration": 1057,
    "start_time": "2023-01-26T11:21:00.173Z"
   },
   {
    "duration": 1033,
    "start_time": "2023-01-26T11:21:31.720Z"
   },
   {
    "duration": 916,
    "start_time": "2023-01-26T11:22:42.098Z"
   },
   {
    "duration": 1008,
    "start_time": "2023-01-26T11:26:20.664Z"
   },
   {
    "duration": 1225,
    "start_time": "2023-01-26T11:27:30.798Z"
   },
   {
    "duration": 960,
    "start_time": "2023-01-26T11:29:36.464Z"
   },
   {
    "duration": 1097,
    "start_time": "2023-01-26T11:30:18.526Z"
   },
   {
    "duration": 1044,
    "start_time": "2023-01-26T11:31:28.555Z"
   },
   {
    "duration": 958,
    "start_time": "2023-01-26T11:31:40.837Z"
   },
   {
    "duration": 1525,
    "start_time": "2023-01-26T11:32:07.595Z"
   },
   {
    "duration": 476,
    "start_time": "2023-01-26T11:32:09.123Z"
   },
   {
    "duration": 16,
    "start_time": "2023-01-26T11:32:09.601Z"
   },
   {
    "duration": 70,
    "start_time": "2023-01-26T11:32:09.619Z"
   },
   {
    "duration": 37,
    "start_time": "2023-01-26T11:32:09.691Z"
   },
   {
    "duration": 22,
    "start_time": "2023-01-26T11:32:09.730Z"
   },
   {
    "duration": 39,
    "start_time": "2023-01-26T11:32:09.754Z"
   },
   {
    "duration": 1131,
    "start_time": "2023-01-26T11:32:09.795Z"
   },
   {
    "duration": 1013,
    "start_time": "2023-01-26T11:32:10.928Z"
   },
   {
    "duration": 1146,
    "start_time": "2023-01-26T11:32:11.951Z"
   },
   {
    "duration": 60,
    "start_time": "2023-01-26T11:32:13.099Z"
   },
   {
    "duration": 40,
    "start_time": "2023-01-26T11:32:13.163Z"
   },
   {
    "duration": 57,
    "start_time": "2023-01-26T11:32:13.205Z"
   },
   {
    "duration": 22,
    "start_time": "2023-01-26T11:32:13.264Z"
   },
   {
    "duration": 36,
    "start_time": "2023-01-26T11:32:13.288Z"
   },
   {
    "duration": 353,
    "start_time": "2023-01-26T11:32:13.326Z"
   },
   {
    "duration": 306,
    "start_time": "2023-01-26T11:32:13.682Z"
   },
   {
    "duration": 9,
    "start_time": "2023-01-26T11:32:13.990Z"
   },
   {
    "duration": 29,
    "start_time": "2023-01-26T11:32:14.001Z"
   },
   {
    "duration": 47,
    "start_time": "2023-01-26T11:32:14.032Z"
   },
   {
    "duration": 37,
    "start_time": "2023-01-26T11:32:14.081Z"
   },
   {
    "duration": 65,
    "start_time": "2023-01-26T11:32:14.121Z"
   },
   {
    "duration": 25,
    "start_time": "2023-01-26T11:32:14.188Z"
   },
   {
    "duration": 49,
    "start_time": "2023-01-26T11:32:14.215Z"
   },
   {
    "duration": 190,
    "start_time": "2023-01-26T11:32:14.271Z"
   },
   {
    "duration": 9,
    "start_time": "2023-01-26T11:32:14.467Z"
   },
   {
    "duration": 10,
    "start_time": "2023-01-26T11:32:14.479Z"
   },
   {
    "duration": 10,
    "start_time": "2023-01-26T11:32:14.494Z"
   },
   {
    "duration": 12,
    "start_time": "2023-01-26T11:32:14.506Z"
   },
   {
    "duration": 6,
    "start_time": "2023-01-26T11:32:14.520Z"
   },
   {
    "duration": 994,
    "start_time": "2023-01-26T11:32:14.528Z"
   },
   {
    "duration": 922,
    "start_time": "2023-01-26T11:32:15.524Z"
   },
   {
    "duration": 961,
    "start_time": "2023-01-26T11:32:16.450Z"
   },
   {
    "duration": 8,
    "start_time": "2023-01-26T11:32:17.413Z"
   },
   {
    "duration": 23,
    "start_time": "2023-01-26T11:32:17.423Z"
   },
   {
    "duration": 80,
    "start_time": "2023-01-26T11:32:17.447Z"
   },
   {
    "duration": 37331,
    "start_time": "2023-01-26T11:32:17.528Z"
   },
   {
    "duration": 941,
    "start_time": "2023-01-26T11:33:57.509Z"
   },
   {
    "duration": 945,
    "start_time": "2023-01-26T11:34:05.483Z"
   },
   {
    "duration": 1006,
    "start_time": "2023-01-26T11:34:24.166Z"
   },
   {
    "duration": 1096,
    "start_time": "2023-01-26T11:34:28.667Z"
   },
   {
    "duration": 1106,
    "start_time": "2023-01-26T11:34:34.211Z"
   },
   {
    "duration": 1041,
    "start_time": "2023-01-26T11:34:38.687Z"
   },
   {
    "duration": 9,
    "start_time": "2023-01-26T11:53:45.828Z"
   },
   {
    "duration": 31,
    "start_time": "2023-01-26T11:55:10.269Z"
   },
   {
    "duration": 4,
    "start_time": "2023-01-26T11:56:24.909Z"
   },
   {
    "duration": 7,
    "start_time": "2023-01-26T11:56:31.077Z"
   },
   {
    "duration": 7,
    "start_time": "2023-01-26T11:56:38.048Z"
   },
   {
    "duration": 14,
    "start_time": "2023-01-26T11:56:41.836Z"
   },
   {
    "duration": 7,
    "start_time": "2023-01-26T11:56:53.965Z"
   },
   {
    "duration": 7,
    "start_time": "2023-01-26T11:56:56.869Z"
   },
   {
    "duration": 897,
    "start_time": "2023-01-26T11:57:32.152Z"
   },
   {
    "duration": 9155,
    "start_time": "2023-01-26T11:57:40.933Z"
   },
   {
    "duration": 956,
    "start_time": "2023-01-26T11:58:00.166Z"
   },
   {
    "duration": 933,
    "start_time": "2023-01-26T11:58:04.719Z"
   },
   {
    "duration": 9,
    "start_time": "2023-01-26T12:09:54.348Z"
   },
   {
    "duration": 4,
    "start_time": "2023-01-26T12:13:26.110Z"
   },
   {
    "duration": 856,
    "start_time": "2023-01-26T12:13:44.231Z"
   },
   {
    "duration": 5,
    "start_time": "2023-01-26T12:14:10.134Z"
   },
   {
    "duration": 84,
    "start_time": "2023-01-26T12:14:25.567Z"
   },
   {
    "duration": 78,
    "start_time": "2023-01-26T12:15:25.927Z"
   },
   {
    "duration": 86,
    "start_time": "2023-01-26T12:15:35.007Z"
   },
   {
    "duration": 69,
    "start_time": "2023-01-26T12:17:34.929Z"
   },
   {
    "duration": 77,
    "start_time": "2023-01-26T12:19:19.986Z"
   },
   {
    "duration": 78,
    "start_time": "2023-01-26T12:19:57.353Z"
   },
   {
    "duration": 4,
    "start_time": "2023-01-26T12:20:10.914Z"
   },
   {
    "duration": 857,
    "start_time": "2023-01-26T12:21:43.228Z"
   },
   {
    "duration": 114,
    "start_time": "2023-01-26T12:31:30.651Z"
   },
   {
    "duration": 71,
    "start_time": "2023-01-26T12:34:20.211Z"
   },
   {
    "duration": 111,
    "start_time": "2023-01-26T12:34:43.388Z"
   },
   {
    "duration": 72,
    "start_time": "2023-01-26T12:35:10.949Z"
   },
   {
    "duration": 5,
    "start_time": "2023-01-26T12:38:33.809Z"
   },
   {
    "duration": 874,
    "start_time": "2023-01-26T12:38:35.968Z"
   },
   {
    "duration": 867,
    "start_time": "2023-01-26T12:38:56.144Z"
   },
   {
    "duration": 894,
    "start_time": "2023-01-26T12:39:00.001Z"
   },
   {
    "duration": 891,
    "start_time": "2023-01-26T12:39:31.007Z"
   },
   {
    "duration": 876,
    "start_time": "2023-01-26T12:39:32.232Z"
   },
   {
    "duration": 10,
    "start_time": "2023-01-26T12:39:35.992Z"
   },
   {
    "duration": 869,
    "start_time": "2023-01-26T12:43:13.321Z"
   },
   {
    "duration": 9,
    "start_time": "2023-01-26T12:43:19.987Z"
   },
   {
    "duration": 1399,
    "start_time": "2023-01-26T12:43:35.577Z"
   },
   {
    "duration": 403,
    "start_time": "2023-01-26T12:43:36.978Z"
   },
   {
    "duration": 17,
    "start_time": "2023-01-26T12:43:37.384Z"
   },
   {
    "duration": 15,
    "start_time": "2023-01-26T12:43:37.404Z"
   },
   {
    "duration": 20,
    "start_time": "2023-01-26T12:43:37.437Z"
   },
   {
    "duration": 16,
    "start_time": "2023-01-26T12:43:37.458Z"
   },
   {
    "duration": 15,
    "start_time": "2023-01-26T12:43:37.476Z"
   },
   {
    "duration": 1090,
    "start_time": "2023-01-26T12:43:37.493Z"
   },
   {
    "duration": 967,
    "start_time": "2023-01-26T12:43:38.586Z"
   },
   {
    "duration": 1066,
    "start_time": "2023-01-26T12:43:39.556Z"
   },
   {
    "duration": 44,
    "start_time": "2023-01-26T12:43:40.624Z"
   },
   {
    "duration": 36,
    "start_time": "2023-01-26T12:43:40.670Z"
   },
   {
    "duration": 56,
    "start_time": "2023-01-26T12:43:40.708Z"
   },
   {
    "duration": 18,
    "start_time": "2023-01-26T12:43:40.766Z"
   },
   {
    "duration": 21,
    "start_time": "2023-01-26T12:43:40.786Z"
   },
   {
    "duration": 344,
    "start_time": "2023-01-26T12:43:40.809Z"
   },
   {
    "duration": 298,
    "start_time": "2023-01-26T12:43:41.155Z"
   },
   {
    "duration": 11,
    "start_time": "2023-01-26T12:43:41.455Z"
   },
   {
    "duration": 17,
    "start_time": "2023-01-26T12:43:41.468Z"
   },
   {
    "duration": 17,
    "start_time": "2023-01-26T12:43:41.487Z"
   },
   {
    "duration": 61,
    "start_time": "2023-01-26T12:43:41.506Z"
   },
   {
    "duration": 67,
    "start_time": "2023-01-26T12:43:41.569Z"
   },
   {
    "duration": 29,
    "start_time": "2023-01-26T12:43:41.639Z"
   },
   {
    "duration": 70,
    "start_time": "2023-01-26T12:43:41.670Z"
   },
   {
    "duration": 93,
    "start_time": "2023-01-26T12:43:41.744Z"
   },
   {
    "duration": 3,
    "start_time": "2023-01-26T12:43:41.840Z"
   },
   {
    "duration": 96,
    "start_time": "2023-01-26T12:43:41.845Z"
   },
   {
    "duration": 13,
    "start_time": "2023-01-26T12:43:41.944Z"
   },
   {
    "duration": 112,
    "start_time": "2023-01-26T12:43:41.959Z"
   },
   {
    "duration": 0,
    "start_time": "2023-01-26T12:43:42.073Z"
   },
   {
    "duration": 0,
    "start_time": "2023-01-26T12:43:42.074Z"
   },
   {
    "duration": 0,
    "start_time": "2023-01-26T12:43:42.075Z"
   },
   {
    "duration": 0,
    "start_time": "2023-01-26T12:43:42.077Z"
   },
   {
    "duration": 0,
    "start_time": "2023-01-26T12:43:42.078Z"
   },
   {
    "duration": 0,
    "start_time": "2023-01-26T12:43:42.079Z"
   },
   {
    "duration": 0,
    "start_time": "2023-01-26T12:43:42.080Z"
   },
   {
    "duration": 0,
    "start_time": "2023-01-26T12:43:42.081Z"
   },
   {
    "duration": 3,
    "start_time": "2023-01-26T12:44:28.636Z"
   },
   {
    "duration": 1494,
    "start_time": "2023-01-26T12:44:58.110Z"
   },
   {
    "duration": 395,
    "start_time": "2023-01-26T12:44:59.607Z"
   },
   {
    "duration": 16,
    "start_time": "2023-01-26T12:45:00.004Z"
   },
   {
    "duration": 25,
    "start_time": "2023-01-26T12:45:00.022Z"
   },
   {
    "duration": 32,
    "start_time": "2023-01-26T12:45:00.049Z"
   },
   {
    "duration": 17,
    "start_time": "2023-01-26T12:45:00.082Z"
   },
   {
    "duration": 24,
    "start_time": "2023-01-26T12:45:00.100Z"
   },
   {
    "duration": 1069,
    "start_time": "2023-01-26T12:45:00.125Z"
   },
   {
    "duration": 925,
    "start_time": "2023-01-26T12:45:01.195Z"
   },
   {
    "duration": 1052,
    "start_time": "2023-01-26T12:45:02.123Z"
   },
   {
    "duration": 39,
    "start_time": "2023-01-26T12:45:03.176Z"
   },
   {
    "duration": 52,
    "start_time": "2023-01-26T12:45:03.216Z"
   },
   {
    "duration": 38,
    "start_time": "2023-01-26T12:45:03.270Z"
   },
   {
    "duration": 33,
    "start_time": "2023-01-26T12:45:03.310Z"
   },
   {
    "duration": 25,
    "start_time": "2023-01-26T12:45:03.345Z"
   },
   {
    "duration": 328,
    "start_time": "2023-01-26T12:45:03.372Z"
   },
   {
    "duration": 293,
    "start_time": "2023-01-26T12:45:03.702Z"
   },
   {
    "duration": 10,
    "start_time": "2023-01-26T12:45:03.997Z"
   },
   {
    "duration": 43,
    "start_time": "2023-01-26T12:45:04.010Z"
   },
   {
    "duration": 37,
    "start_time": "2023-01-26T12:45:04.055Z"
   },
   {
    "duration": 78,
    "start_time": "2023-01-26T12:45:04.094Z"
   },
   {
    "duration": 65,
    "start_time": "2023-01-26T12:45:04.174Z"
   },
   {
    "duration": 27,
    "start_time": "2023-01-26T12:45:04.240Z"
   },
   {
    "duration": 25,
    "start_time": "2023-01-26T12:45:04.269Z"
   },
   {
    "duration": 105,
    "start_time": "2023-01-26T12:45:04.338Z"
   },
   {
    "duration": 45,
    "start_time": "2023-01-26T12:45:04.445Z"
   },
   {
    "duration": 18,
    "start_time": "2023-01-26T12:45:04.493Z"
   },
   {
    "duration": 17,
    "start_time": "2023-01-26T12:45:04.514Z"
   },
   {
    "duration": 39,
    "start_time": "2023-01-26T12:45:04.533Z"
   },
   {
    "duration": 17,
    "start_time": "2023-01-26T12:45:04.574Z"
   },
   {
    "duration": 939,
    "start_time": "2023-01-26T12:45:04.593Z"
   },
   {
    "duration": 891,
    "start_time": "2023-01-26T12:45:05.536Z"
   },
   {
    "duration": 898,
    "start_time": "2023-01-26T12:45:06.429Z"
   },
   {
    "duration": 11,
    "start_time": "2023-01-26T12:45:07.329Z"
   },
   {
    "duration": 39,
    "start_time": "2023-01-26T12:45:07.342Z"
   },
   {
    "duration": 62,
    "start_time": "2023-01-26T12:45:07.383Z"
   },
   {
    "duration": 33540,
    "start_time": "2023-01-26T12:45:07.447Z"
   }
  ],
  "colab": {
   "provenance": []
  },
  "kernelspec": {
   "display_name": "Python 3 (ipykernel)",
   "language": "python",
   "name": "python3"
  },
  "language_info": {
   "codemirror_mode": {
    "name": "ipython",
    "version": 3
   },
   "file_extension": ".py",
   "mimetype": "text/x-python",
   "name": "python",
   "nbconvert_exporter": "python",
   "pygments_lexer": "ipython3",
   "version": "3.9.13"
  },
  "toc": {
   "base_numbering": 1,
   "nav_menu": {},
   "number_sections": true,
   "sideBar": true,
   "skip_h1_title": true,
   "title_cell": "Table of Contents",
   "title_sidebar": "Contents",
   "toc_cell": false,
   "toc_position": {
    "height": "calc(100% - 180px)",
    "left": "10px",
    "top": "150px",
    "width": "366.188px"
   },
   "toc_section_display": true,
   "toc_window_display": true
  }
 },
 "nbformat": 4,
 "nbformat_minor": 1
}
