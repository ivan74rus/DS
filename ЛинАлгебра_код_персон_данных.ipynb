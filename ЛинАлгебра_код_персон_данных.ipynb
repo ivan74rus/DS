{
  "cells": [
    {
      "cell_type": "markdown",
      "metadata": {
        "id": "view-in-github",
        "colab_type": "text"
      },
      "source": [
        "<a href=\"https://colab.research.google.com/github/ivan74rus/DS/blob/main/%D0%9B%D0%B8%D0%BD%D0%90%D0%BB%D0%B3%D0%B5%D0%B1%D1%80%D0%B0_%D0%BA%D0%BE%D0%B4_%D0%BF%D0%B5%D1%80%D1%81%D0%BE%D0%BD_%D0%B4%D0%B0%D0%BD%D0%BD%D1%8B%D1%85.ipynb\" target=\"_parent\"><img src=\"https://colab.research.google.com/assets/colab-badge.svg\" alt=\"Open In Colab\"/></a>"
      ]
    },
    {
      "cell_type": "markdown",
      "metadata": {
        "toc": true,
        "id": "V9-INkvifL_V"
      },
      "source": [
        "<h1>Содержание<span class=\"tocSkip\"></span></h1>\n",
        "<div class=\"toc\"><ul class=\"toc-item\"><li><span><a href=\"#Загрузка-данных\" data-toc-modified-id=\"Загрузка-данных-1\"><span class=\"toc-item-num\">1&nbsp;&nbsp;</span>Загрузка данных</a></span></li><li><span><a href=\"#Умножение-матриц\" data-toc-modified-id=\"Умножение-матриц-2\"><span class=\"toc-item-num\">2&nbsp;&nbsp;</span>Умножение матриц</a></span></li><li><span><a href=\"#Алгоритм-преобразования\" data-toc-modified-id=\"Алгоритм-преобразования-3\"><span class=\"toc-item-num\">3&nbsp;&nbsp;</span>Алгоритм преобразования</a></span></li><li><span><a href=\"#Проверка-алгоритма\" data-toc-modified-id=\"Проверка-алгоритма-4\"><span class=\"toc-item-num\">4&nbsp;&nbsp;</span>Проверка алгоритма</a></span></li><li><span><a href=\"#Чек-лист-проверки\" data-toc-modified-id=\"Чек-лист-проверки-5\"><span class=\"toc-item-num\">5&nbsp;&nbsp;</span>Чек-лист проверки</a></span></li></ul></div>"
      ]
    },
    {
      "cell_type": "markdown",
      "metadata": {
        "id": "yE3KZjmyfL_V"
      },
      "source": [
        "# Защита персональных данных клиентов"
      ]
    },
    {
      "cell_type": "markdown",
      "metadata": {
        "id": "lwd-GOXrfL_W"
      },
      "source": [
        "Вам нужно защитить данные клиентов страховой компании «Хоть потоп». Разработайте такой метод преобразования данных, чтобы по ним было сложно восстановить персональную информацию. Обоснуйте корректность его работы.\n",
        "\n",
        "Нужно защитить данные, чтобы при преобразовании качество моделей машинного обучения не ухудшилось. Подбирать наилучшую модель не требуется."
      ]
    },
    {
      "cell_type": "code",
      "source": [
        "#подключить гугл диск\n",
        "from google.colab import drive\n",
        "drive.mount('/content/drive')"
      ],
      "metadata": {
        "colab": {
          "base_uri": "https://localhost:8080/"
        },
        "id": "6hX0kpWigV8y",
        "outputId": "7cfa68f7-03d6-450c-ba5e-21f16f8d07dd"
      },
      "execution_count": 1,
      "outputs": [
        {
          "output_type": "stream",
          "name": "stdout",
          "text": [
            "Mounted at /content/drive\n"
          ]
        }
      ]
    },
    {
      "cell_type": "code",
      "execution_count": 2,
      "metadata": {
        "id": "JIGFEZ77fL_X"
      },
      "outputs": [],
      "source": [
        "# импорты\n",
        "import pandas as pd\n",
        "import numpy as np\n",
        "\n",
        "from sklearn.linear_model import LinearRegression\n",
        "from sklearn.metrics import r2_score"
      ]
    },
    {
      "cell_type": "code",
      "execution_count": 3,
      "metadata": {
        "id": "DbzaAKyffL_Z"
      },
      "outputs": [],
      "source": [
        "# константы\n",
        "LOCAL_DATA_PATH = '/content/drive/MyDrive/DS/' \n",
        "DATA_FILE = 'insurance.csv'"
      ]
    },
    {
      "cell_type": "markdown",
      "metadata": {
        "id": "KpEAQFDifL_Z"
      },
      "source": [
        "## Загрузка данных"
      ]
    },
    {
      "cell_type": "code",
      "execution_count": 4,
      "metadata": {
        "colab": {
          "base_uri": "https://localhost:8080/"
        },
        "id": "qmrOmAotfL_Z",
        "outputId": "ef57ce57-a940-47af-f649-a3c9386fe7cb"
      },
      "outputs": [
        {
          "output_type": "stream",
          "name": "stdout",
          "text": [
            "<class 'pandas.core.frame.DataFrame'>\n",
            "RangeIndex: 5000 entries, 0 to 4999\n",
            "Data columns (total 5 columns):\n",
            " #   Column             Non-Null Count  Dtype  \n",
            "---  ------             --------------  -----  \n",
            " 0   Пол                5000 non-null   int64  \n",
            " 1   Возраст            5000 non-null   float64\n",
            " 2   Зарплата           5000 non-null   float64\n",
            " 3   Члены семьи        5000 non-null   int64  \n",
            " 4   Страховые выплаты  5000 non-null   int64  \n",
            "dtypes: float64(2), int64(3)\n",
            "memory usage: 195.4 KB\n"
          ]
        }
      ],
      "source": [
        "df = pd.read_csv(f'{LOCAL_DATA_PATH}/{DATA_FILE}')\n",
        "df.info()"
      ]
    },
    {
      "cell_type": "code",
      "execution_count": 5,
      "metadata": {
        "colab": {
          "base_uri": "https://localhost:8080/",
          "height": 206
        },
        "id": "Al1OJ4BIfL_a",
        "outputId": "af47da5e-d2fe-46d7-8481-46ff352f72a9"
      },
      "outputs": [
        {
          "output_type": "execute_result",
          "data": {
            "text/plain": [
              "   Пол  Возраст  Зарплата  Члены семьи  Страховые выплаты\n",
              "0    1     41.0   49600.0            1                  0\n",
              "1    0     46.0   38000.0            1                  1\n",
              "2    0     29.0   21000.0            0                  0\n",
              "3    0     21.0   41700.0            2                  0\n",
              "4    1     28.0   26100.0            0                  0"
            ],
            "text/html": [
              "\n",
              "  <div id=\"df-93a492fc-2c4b-4aeb-b466-1d8bf6814097\">\n",
              "    <div class=\"colab-df-container\">\n",
              "      <div>\n",
              "<style scoped>\n",
              "    .dataframe tbody tr th:only-of-type {\n",
              "        vertical-align: middle;\n",
              "    }\n",
              "\n",
              "    .dataframe tbody tr th {\n",
              "        vertical-align: top;\n",
              "    }\n",
              "\n",
              "    .dataframe thead th {\n",
              "        text-align: right;\n",
              "    }\n",
              "</style>\n",
              "<table border=\"1\" class=\"dataframe\">\n",
              "  <thead>\n",
              "    <tr style=\"text-align: right;\">\n",
              "      <th></th>\n",
              "      <th>Пол</th>\n",
              "      <th>Возраст</th>\n",
              "      <th>Зарплата</th>\n",
              "      <th>Члены семьи</th>\n",
              "      <th>Страховые выплаты</th>\n",
              "    </tr>\n",
              "  </thead>\n",
              "  <tbody>\n",
              "    <tr>\n",
              "      <th>0</th>\n",
              "      <td>1</td>\n",
              "      <td>41.0</td>\n",
              "      <td>49600.0</td>\n",
              "      <td>1</td>\n",
              "      <td>0</td>\n",
              "    </tr>\n",
              "    <tr>\n",
              "      <th>1</th>\n",
              "      <td>0</td>\n",
              "      <td>46.0</td>\n",
              "      <td>38000.0</td>\n",
              "      <td>1</td>\n",
              "      <td>1</td>\n",
              "    </tr>\n",
              "    <tr>\n",
              "      <th>2</th>\n",
              "      <td>0</td>\n",
              "      <td>29.0</td>\n",
              "      <td>21000.0</td>\n",
              "      <td>0</td>\n",
              "      <td>0</td>\n",
              "    </tr>\n",
              "    <tr>\n",
              "      <th>3</th>\n",
              "      <td>0</td>\n",
              "      <td>21.0</td>\n",
              "      <td>41700.0</td>\n",
              "      <td>2</td>\n",
              "      <td>0</td>\n",
              "    </tr>\n",
              "    <tr>\n",
              "      <th>4</th>\n",
              "      <td>1</td>\n",
              "      <td>28.0</td>\n",
              "      <td>26100.0</td>\n",
              "      <td>0</td>\n",
              "      <td>0</td>\n",
              "    </tr>\n",
              "  </tbody>\n",
              "</table>\n",
              "</div>\n",
              "      <button class=\"colab-df-convert\" onclick=\"convertToInteractive('df-93a492fc-2c4b-4aeb-b466-1d8bf6814097')\"\n",
              "              title=\"Convert this dataframe to an interactive table.\"\n",
              "              style=\"display:none;\">\n",
              "        \n",
              "  <svg xmlns=\"http://www.w3.org/2000/svg\" height=\"24px\"viewBox=\"0 0 24 24\"\n",
              "       width=\"24px\">\n",
              "    <path d=\"M0 0h24v24H0V0z\" fill=\"none\"/>\n",
              "    <path d=\"M18.56 5.44l.94 2.06.94-2.06 2.06-.94-2.06-.94-.94-2.06-.94 2.06-2.06.94zm-11 1L8.5 8.5l.94-2.06 2.06-.94-2.06-.94L8.5 2.5l-.94 2.06-2.06.94zm10 10l.94 2.06.94-2.06 2.06-.94-2.06-.94-.94-2.06-.94 2.06-2.06.94z\"/><path d=\"M17.41 7.96l-1.37-1.37c-.4-.4-.92-.59-1.43-.59-.52 0-1.04.2-1.43.59L10.3 9.45l-7.72 7.72c-.78.78-.78 2.05 0 2.83L4 21.41c.39.39.9.59 1.41.59.51 0 1.02-.2 1.41-.59l7.78-7.78 2.81-2.81c.8-.78.8-2.07 0-2.86zM5.41 20L4 18.59l7.72-7.72 1.47 1.35L5.41 20z\"/>\n",
              "  </svg>\n",
              "      </button>\n",
              "      \n",
              "  <style>\n",
              "    .colab-df-container {\n",
              "      display:flex;\n",
              "      flex-wrap:wrap;\n",
              "      gap: 12px;\n",
              "    }\n",
              "\n",
              "    .colab-df-convert {\n",
              "      background-color: #E8F0FE;\n",
              "      border: none;\n",
              "      border-radius: 50%;\n",
              "      cursor: pointer;\n",
              "      display: none;\n",
              "      fill: #1967D2;\n",
              "      height: 32px;\n",
              "      padding: 0 0 0 0;\n",
              "      width: 32px;\n",
              "    }\n",
              "\n",
              "    .colab-df-convert:hover {\n",
              "      background-color: #E2EBFA;\n",
              "      box-shadow: 0px 1px 2px rgba(60, 64, 67, 0.3), 0px 1px 3px 1px rgba(60, 64, 67, 0.15);\n",
              "      fill: #174EA6;\n",
              "    }\n",
              "\n",
              "    [theme=dark] .colab-df-convert {\n",
              "      background-color: #3B4455;\n",
              "      fill: #D2E3FC;\n",
              "    }\n",
              "\n",
              "    [theme=dark] .colab-df-convert:hover {\n",
              "      background-color: #434B5C;\n",
              "      box-shadow: 0px 1px 3px 1px rgba(0, 0, 0, 0.15);\n",
              "      filter: drop-shadow(0px 1px 2px rgba(0, 0, 0, 0.3));\n",
              "      fill: #FFFFFF;\n",
              "    }\n",
              "  </style>\n",
              "\n",
              "      <script>\n",
              "        const buttonEl =\n",
              "          document.querySelector('#df-93a492fc-2c4b-4aeb-b466-1d8bf6814097 button.colab-df-convert');\n",
              "        buttonEl.style.display =\n",
              "          google.colab.kernel.accessAllowed ? 'block' : 'none';\n",
              "\n",
              "        async function convertToInteractive(key) {\n",
              "          const element = document.querySelector('#df-93a492fc-2c4b-4aeb-b466-1d8bf6814097');\n",
              "          const dataTable =\n",
              "            await google.colab.kernel.invokeFunction('convertToInteractive',\n",
              "                                                     [key], {});\n",
              "          if (!dataTable) return;\n",
              "\n",
              "          const docLinkHtml = 'Like what you see? Visit the ' +\n",
              "            '<a target=\"_blank\" href=https://colab.research.google.com/notebooks/data_table.ipynb>data table notebook</a>'\n",
              "            + ' to learn more about interactive tables.';\n",
              "          element.innerHTML = '';\n",
              "          dataTable['output_type'] = 'display_data';\n",
              "          await google.colab.output.renderOutput(dataTable, element);\n",
              "          const docLink = document.createElement('div');\n",
              "          docLink.innerHTML = docLinkHtml;\n",
              "          element.appendChild(docLink);\n",
              "        }\n",
              "      </script>\n",
              "    </div>\n",
              "  </div>\n",
              "  "
            ]
          },
          "metadata": {},
          "execution_count": 5
        }
      ],
      "source": [
        "df.head(5)"
      ]
    },
    {
      "cell_type": "code",
      "execution_count": 6,
      "metadata": {
        "colab": {
          "base_uri": "https://localhost:8080/"
        },
        "id": "p8Mrts6JfL_a",
        "outputId": "15499c47-8fbd-4f7c-f944-252ce9f402da"
      },
      "outputs": [
        {
          "output_type": "execute_result",
          "data": {
            "text/plain": [
              "array([0, 1, 2, 3, 5, 4])"
            ]
          },
          "metadata": {},
          "execution_count": 6
        }
      ],
      "source": [
        "df['Страховые выплаты'].unique()"
      ]
    },
    {
      "cell_type": "markdown",
      "metadata": {
        "id": "mToFmifofL_b"
      },
      "source": [
        "## Умножение матриц"
      ]
    },
    {
      "cell_type": "markdown",
      "metadata": {
        "id": "j_K0y5SwfL_b"
      },
      "source": [
        "В этом задании вы можете записывать формулы в *Jupyter Notebook.*\n",
        "\n",
        "Чтобы записать формулу внутри текста, окружите её символами доллара \\\\$; если снаружи —  двойными символами \\\\$\\\\$. Эти формулы записываются на языке вёрстки *LaTeX.* \n",
        "\n",
        "Для примера мы записали формулы линейной регрессии. Можете их скопировать и отредактировать, чтобы решить задачу.\n",
        "\n",
        "Работать в *LaTeX* необязательно."
      ]
    },
    {
      "cell_type": "markdown",
      "metadata": {
        "id": "uYk5ihElfL_b"
      },
      "source": [
        "Обозначения:\n",
        "\n",
        "- $X$ — матрица признаков (нулевой столбец состоит из единиц)\n",
        "\n",
        "- $y$ — вектор целевого признака\n",
        "\n",
        "- $P$ — матрица, на которую умножаются признаки\n",
        "\n",
        "- $w$ — вектор весов линейной регрессии (нулевой элемент равен сдвигу)"
      ]
    },
    {
      "cell_type": "markdown",
      "metadata": {
        "id": "21TFLEyTfL_b"
      },
      "source": [
        "Предсказания:\n",
        "\n",
        "$$\n",
        "a = Xw\n",
        "$$\n",
        "\n",
        "Задача обучения:\n",
        "\n",
        "$$\n",
        "w = \\arg\\min_w MSE(Xw, y)\n",
        "$$\n",
        "\n",
        "Формула обучения:\n",
        "\n",
        "$$\n",
        "w = (X^T X)^{-1} X^T y\n",
        "$$"
      ]
    },
    {
      "cell_type": "markdown",
      "metadata": {
        "id": "0I5HO7JbfL_c"
      },
      "source": [
        "**Ответ:** Качество линейной регрессии не дошло ухудшиться.\n",
        "\n",
        "**Обоснование:**      \n",
        "Имеем  $X_1 = X * P$, где P квадратная обратимая матрица для кодировки данных.    \n",
        "\n",
        "Нужно доказать:      \n",
        "$X_1w_1 = Xw$.               \n",
        "$XPw_1 = Xw$                        \n",
        "$w_1 = P^{-1}w $                    \n",
        "$w_1 =P^{-1} * (X^T X)^{-1} X^T y $  , это исходная формула \n",
        "\n",
        "Доказательство.\n",
        " \n",
        "$w_1 = ((X_1)^T X_1)^{-1} (X_1)^T y$ , ставим $X_1 = XP$     \n",
        "$w_1 = ((XP)^T (XP))^{-1} (XP)^T y$  ,   применяем $(AB)^T = B^T A^T$       \n",
        "$w_1 = (P^TX^TXP)^{-1}  P^TX^T y$   , выделим  $X^TX$ как отдельную  \n",
        "$w_1 = (P^T(X^TX)P)^{-1}  P^TX^T y$ , используем  $(ABC)^{-1} = (C)^{-1} (AB)^{-1}$ для выноса $P$   \n",
        "$w_1 = P^{-1}(P^T(X^TX))^{-1}  P^TX^T y$, используем  $(AB)^{-1} = B^{-1} A^{-1}$ для выноса $P^T$     \n",
        "$w_1 = P^{-1}((X^TX))^{-1}(P^T)^{-1}  P^TX^T y$, используем  $A A^{-1} = E$    \n",
        "$w_1 = P^{-1}((X^TX))^{-1}EX^T y$ , произведение единичной матрицы на любую дают эту любую   \n",
        "$w_1 = P^{-1} * ((X^TX))^{-1}X^T y$ получили исходное значение $w_1$, что было выше\n",
        "\n"
      ]
    },
    {
      "cell_type": "markdown",
      "metadata": {
        "id": "LC8dilqxfL_c"
      },
      "source": [
        "## Алгоритм преобразования"
      ]
    },
    {
      "cell_type": "markdown",
      "metadata": {
        "id": "T1Iw7gB3fL_d"
      },
      "source": [
        "**Алгоритм**\n",
        "\n",
        "1. Сгенерим рандом матрицу R 4х4 , пусть будет целочисленные значения.    \n",
        "2. Проверим ее на обратимость   и найдем обратную $R^{-1}$.\n",
        "3. Умножаем признаки на матрицу R , получаем закодированы персональные данные.\n",
        "4. Умножаем закодированые признаки на обратную матрицу и  получаем исходные данные."
      ]
    },
    {
      "cell_type": "markdown",
      "metadata": {
        "id": "6Eb2C6dVfL_d"
      },
      "source": [
        "**Обоснование**\n",
        "\n",
        "Потому как при умножении матрицу на обратной получаем единичную матрицу. А произведение любой мтарицы на единичную дает исходную матрицу."
      ]
    },
    {
      "cell_type": "markdown",
      "metadata": {
        "id": "s8nDjxI5fL_d"
      },
      "source": [
        "## Проверка алгоритма"
      ]
    },
    {
      "cell_type": "code",
      "execution_count": 7,
      "metadata": {
        "colab": {
          "base_uri": "https://localhost:8080/"
        },
        "id": "3AYI9VK_fL_e",
        "outputId": "1f0bf399-9266-4f60-94f6-cf3721b3a7aa"
      },
      "outputs": [
        {
          "output_type": "execute_result",
          "data": {
            "text/plain": [
              "array([[-0.42630319,  1.20146019,  0.25560372, -0.90515311],\n",
              "       [ 0.14632067,  0.44045408, -0.49482745, -0.09435681],\n",
              "       [-2.80745701, -0.32174476,  0.60064408,  0.18065464],\n",
              "       [ 1.61996045, -0.52555787,  0.12789027, -0.48211269]])"
            ]
          },
          "metadata": {},
          "execution_count": 7
        }
      ],
      "source": [
        "# генерация рандом матрицы (пусть будет  1 и 0)\n",
        "#R = np.random.randint(10, size=(4,4))\n",
        "R = np.random.normal(size=(4,4))\n",
        "R"
      ]
    },
    {
      "cell_type": "code",
      "execution_count": 8,
      "metadata": {
        "colab": {
          "base_uri": "https://localhost:8080/"
        },
        "id": "dCGuoB1XfL_e",
        "outputId": "b4b23060-659c-4dbd-85a4-4a799b5bfc05"
      },
      "outputs": [
        {
          "output_type": "execute_result",
          "data": {
            "text/plain": [
              "array([[ 0.03338317, -0.57586848, -0.46238407, -0.12323176],\n",
              "       [ 0.50623643, -0.89371713, -0.72845099, -1.04849186],\n",
              "       [ 0.51811447, -2.66852081, -0.60946407, -0.67885025],\n",
              "       [-0.30224328, -1.66861806, -0.92124784, -1.52538147]])"
            ]
          },
          "metadata": {},
          "execution_count": 8
        }
      ],
      "source": [
        "# проверяем и находим обратную\n",
        "R_1 = np.linalg.inv(R)\n",
        "R_1"
      ]
    },
    {
      "cell_type": "code",
      "execution_count": 9,
      "metadata": {
        "id": "k1aRUvRLfL_e"
      },
      "outputs": [],
      "source": [
        "#разбивка на фьючи и таргет\n",
        "features = df.drop(columns='Страховые выплаты')\n",
        "target = df['Страховые выплаты']"
      ]
    },
    {
      "cell_type": "code",
      "execution_count": 10,
      "metadata": {
        "colab": {
          "base_uri": "https://localhost:8080/"
        },
        "id": "aqyMbSPwfL_e",
        "outputId": "ff323254-41a4-41ba-dd8c-6aed342a4285"
      },
      "outputs": [
        {
          "output_type": "execute_result",
          "data": {
            "text/plain": [
              "0.42494550286668"
            ]
          },
          "metadata": {},
          "execution_count": 10
        }
      ],
      "source": [
        "# обучение модели на исходных данных и проверка r2_score\n",
        "model = LinearRegression()\n",
        "model.fit(features, target)\n",
        "r2_score (target , model.predict(features))"
      ]
    },
    {
      "cell_type": "code",
      "execution_count": 11,
      "metadata": {
        "colab": {
          "base_uri": "https://localhost:8080/"
        },
        "id": "W1bAWzBafL_e",
        "outputId": "c77f9dc7-4f13-4af4-8115-bd8d87a1d9e2"
      },
      "outputs": [
        {
          "output_type": "execute_result",
          "data": {
            "text/plain": [
              "(5000, 4)"
            ]
          },
          "metadata": {},
          "execution_count": 11
        }
      ],
      "source": [
        "#кодируем фичи\n",
        "features_encoded = features.values @ R\n",
        "features_encoded.shape"
      ]
    },
    {
      "cell_type": "code",
      "execution_count": 12,
      "metadata": {
        "colab": {
          "base_uri": "https://localhost:8080/"
        },
        "id": "A7C2c_gQfL_f",
        "outputId": "be5162d6-349b-4e1a-cf9c-8f8a9e1a588f"
      },
      "outputs": [
        {
          "output_type": "execute_result",
          "data": {
            "text/plain": [
              "(5000,)"
            ]
          },
          "metadata": {},
          "execution_count": 12
        }
      ],
      "source": [
        "#таргет остается прежним\n",
        "target_encoded = target\n",
        "target_encoded.shape"
      ]
    },
    {
      "cell_type": "code",
      "execution_count": 13,
      "metadata": {
        "colab": {
          "base_uri": "https://localhost:8080/"
        },
        "id": "ebLFg6l4fL_f",
        "outputId": "0fc630b3-4f8a-4c1b-f43a-da46d9fe35ca"
      },
      "outputs": [
        {
          "output_type": "execute_result",
          "data": {
            "text/plain": [
              "0.4249455028666772"
            ]
          },
          "metadata": {},
          "execution_count": 13
        }
      ],
      "source": [
        "#заново обучам модель и находим r2_score\n",
        "model = LinearRegression()\n",
        "model.fit(features_encoded, target_encoded)\n",
        "r2_score(target_encoded , model.predict(features_encoded))"
      ]
    },
    {
      "cell_type": "markdown",
      "metadata": {
        "id": "0EDEmw8bfL_f"
      },
      "source": [
        "**Как видим r2_score остался прежним.**"
      ]
    },
    {
      "cell_type": "code",
      "execution_count": 14,
      "metadata": {
        "id": "z6Uit_bEfL_g"
      },
      "outputs": [],
      "source": [
        "# разкодируем личные данные\n",
        "features_decoded = features_encoded @ R_1"
      ]
    },
    {
      "cell_type": "code",
      "execution_count": 15,
      "metadata": {
        "scrolled": true,
        "colab": {
          "base_uri": "https://localhost:8080/",
          "height": 424
        },
        "id": "W4vglGlEfL_g",
        "outputId": "0611c15a-4c8a-4fa0-db6c-44db01a62818"
      },
      "outputs": [
        {
          "output_type": "execute_result",
          "data": {
            "text/plain": [
              "      Пол  Возраст  Зарплата  Члены семьи\n",
              "0       1       41     49600            1\n",
              "1       0       46     38000            1\n",
              "2       0       29     21000            0\n",
              "3       0       21     41700            2\n",
              "4       1       28     26100            0\n",
              "...   ...      ...       ...          ...\n",
              "4995    0       28     35700            2\n",
              "4996    0       34     52400            1\n",
              "4997    0       20     33900            2\n",
              "4998    1       22     32700            3\n",
              "4999    1       28     40600            1\n",
              "\n",
              "[5000 rows x 4 columns]"
            ],
            "text/html": [
              "\n",
              "  <div id=\"df-e563d18c-51e7-44f5-a7cc-e300daf88cdd\">\n",
              "    <div class=\"colab-df-container\">\n",
              "      <div>\n",
              "<style scoped>\n",
              "    .dataframe tbody tr th:only-of-type {\n",
              "        vertical-align: middle;\n",
              "    }\n",
              "\n",
              "    .dataframe tbody tr th {\n",
              "        vertical-align: top;\n",
              "    }\n",
              "\n",
              "    .dataframe thead th {\n",
              "        text-align: right;\n",
              "    }\n",
              "</style>\n",
              "<table border=\"1\" class=\"dataframe\">\n",
              "  <thead>\n",
              "    <tr style=\"text-align: right;\">\n",
              "      <th></th>\n",
              "      <th>Пол</th>\n",
              "      <th>Возраст</th>\n",
              "      <th>Зарплата</th>\n",
              "      <th>Члены семьи</th>\n",
              "    </tr>\n",
              "  </thead>\n",
              "  <tbody>\n",
              "    <tr>\n",
              "      <th>0</th>\n",
              "      <td>1</td>\n",
              "      <td>41</td>\n",
              "      <td>49600</td>\n",
              "      <td>1</td>\n",
              "    </tr>\n",
              "    <tr>\n",
              "      <th>1</th>\n",
              "      <td>0</td>\n",
              "      <td>46</td>\n",
              "      <td>38000</td>\n",
              "      <td>1</td>\n",
              "    </tr>\n",
              "    <tr>\n",
              "      <th>2</th>\n",
              "      <td>0</td>\n",
              "      <td>29</td>\n",
              "      <td>21000</td>\n",
              "      <td>0</td>\n",
              "    </tr>\n",
              "    <tr>\n",
              "      <th>3</th>\n",
              "      <td>0</td>\n",
              "      <td>21</td>\n",
              "      <td>41700</td>\n",
              "      <td>2</td>\n",
              "    </tr>\n",
              "    <tr>\n",
              "      <th>4</th>\n",
              "      <td>1</td>\n",
              "      <td>28</td>\n",
              "      <td>26100</td>\n",
              "      <td>0</td>\n",
              "    </tr>\n",
              "    <tr>\n",
              "      <th>...</th>\n",
              "      <td>...</td>\n",
              "      <td>...</td>\n",
              "      <td>...</td>\n",
              "      <td>...</td>\n",
              "    </tr>\n",
              "    <tr>\n",
              "      <th>4995</th>\n",
              "      <td>0</td>\n",
              "      <td>28</td>\n",
              "      <td>35700</td>\n",
              "      <td>2</td>\n",
              "    </tr>\n",
              "    <tr>\n",
              "      <th>4996</th>\n",
              "      <td>0</td>\n",
              "      <td>34</td>\n",
              "      <td>52400</td>\n",
              "      <td>1</td>\n",
              "    </tr>\n",
              "    <tr>\n",
              "      <th>4997</th>\n",
              "      <td>0</td>\n",
              "      <td>20</td>\n",
              "      <td>33900</td>\n",
              "      <td>2</td>\n",
              "    </tr>\n",
              "    <tr>\n",
              "      <th>4998</th>\n",
              "      <td>1</td>\n",
              "      <td>22</td>\n",
              "      <td>32700</td>\n",
              "      <td>3</td>\n",
              "    </tr>\n",
              "    <tr>\n",
              "      <th>4999</th>\n",
              "      <td>1</td>\n",
              "      <td>28</td>\n",
              "      <td>40600</td>\n",
              "      <td>1</td>\n",
              "    </tr>\n",
              "  </tbody>\n",
              "</table>\n",
              "<p>5000 rows × 4 columns</p>\n",
              "</div>\n",
              "      <button class=\"colab-df-convert\" onclick=\"convertToInteractive('df-e563d18c-51e7-44f5-a7cc-e300daf88cdd')\"\n",
              "              title=\"Convert this dataframe to an interactive table.\"\n",
              "              style=\"display:none;\">\n",
              "        \n",
              "  <svg xmlns=\"http://www.w3.org/2000/svg\" height=\"24px\"viewBox=\"0 0 24 24\"\n",
              "       width=\"24px\">\n",
              "    <path d=\"M0 0h24v24H0V0z\" fill=\"none\"/>\n",
              "    <path d=\"M18.56 5.44l.94 2.06.94-2.06 2.06-.94-2.06-.94-.94-2.06-.94 2.06-2.06.94zm-11 1L8.5 8.5l.94-2.06 2.06-.94-2.06-.94L8.5 2.5l-.94 2.06-2.06.94zm10 10l.94 2.06.94-2.06 2.06-.94-2.06-.94-.94-2.06-.94 2.06-2.06.94z\"/><path d=\"M17.41 7.96l-1.37-1.37c-.4-.4-.92-.59-1.43-.59-.52 0-1.04.2-1.43.59L10.3 9.45l-7.72 7.72c-.78.78-.78 2.05 0 2.83L4 21.41c.39.39.9.59 1.41.59.51 0 1.02-.2 1.41-.59l7.78-7.78 2.81-2.81c.8-.78.8-2.07 0-2.86zM5.41 20L4 18.59l7.72-7.72 1.47 1.35L5.41 20z\"/>\n",
              "  </svg>\n",
              "      </button>\n",
              "      \n",
              "  <style>\n",
              "    .colab-df-container {\n",
              "      display:flex;\n",
              "      flex-wrap:wrap;\n",
              "      gap: 12px;\n",
              "    }\n",
              "\n",
              "    .colab-df-convert {\n",
              "      background-color: #E8F0FE;\n",
              "      border: none;\n",
              "      border-radius: 50%;\n",
              "      cursor: pointer;\n",
              "      display: none;\n",
              "      fill: #1967D2;\n",
              "      height: 32px;\n",
              "      padding: 0 0 0 0;\n",
              "      width: 32px;\n",
              "    }\n",
              "\n",
              "    .colab-df-convert:hover {\n",
              "      background-color: #E2EBFA;\n",
              "      box-shadow: 0px 1px 2px rgba(60, 64, 67, 0.3), 0px 1px 3px 1px rgba(60, 64, 67, 0.15);\n",
              "      fill: #174EA6;\n",
              "    }\n",
              "\n",
              "    [theme=dark] .colab-df-convert {\n",
              "      background-color: #3B4455;\n",
              "      fill: #D2E3FC;\n",
              "    }\n",
              "\n",
              "    [theme=dark] .colab-df-convert:hover {\n",
              "      background-color: #434B5C;\n",
              "      box-shadow: 0px 1px 3px 1px rgba(0, 0, 0, 0.15);\n",
              "      filter: drop-shadow(0px 1px 2px rgba(0, 0, 0, 0.3));\n",
              "      fill: #FFFFFF;\n",
              "    }\n",
              "  </style>\n",
              "\n",
              "      <script>\n",
              "        const buttonEl =\n",
              "          document.querySelector('#df-e563d18c-51e7-44f5-a7cc-e300daf88cdd button.colab-df-convert');\n",
              "        buttonEl.style.display =\n",
              "          google.colab.kernel.accessAllowed ? 'block' : 'none';\n",
              "\n",
              "        async function convertToInteractive(key) {\n",
              "          const element = document.querySelector('#df-e563d18c-51e7-44f5-a7cc-e300daf88cdd');\n",
              "          const dataTable =\n",
              "            await google.colab.kernel.invokeFunction('convertToInteractive',\n",
              "                                                     [key], {});\n",
              "          if (!dataTable) return;\n",
              "\n",
              "          const docLinkHtml = 'Like what you see? Visit the ' +\n",
              "            '<a target=\"_blank\" href=https://colab.research.google.com/notebooks/data_table.ipynb>data table notebook</a>'\n",
              "            + ' to learn more about interactive tables.';\n",
              "          element.innerHTML = '';\n",
              "          dataTable['output_type'] = 'display_data';\n",
              "          await google.colab.output.renderOutput(dataTable, element);\n",
              "          const docLink = document.createElement('div');\n",
              "          docLink.innerHTML = docLinkHtml;\n",
              "          element.appendChild(docLink);\n",
              "        }\n",
              "      </script>\n",
              "    </div>\n",
              "  </div>\n",
              "  "
            ]
          },
          "metadata": {},
          "execution_count": 15
        }
      ],
      "source": [
        "# разкодированные персональные данный\n",
        "pd.DataFrame (features_decoded,  columns=features.columns).apply(np.round).astype(int)"
      ]
    },
    {
      "cell_type": "code",
      "execution_count": 16,
      "metadata": {
        "colab": {
          "base_uri": "https://localhost:8080/",
          "height": 424
        },
        "id": "ugN0kvKMfL_g",
        "outputId": "ee165e9c-6e73-4f57-9da9-3f2c9932ced7"
      },
      "outputs": [
        {
          "output_type": "execute_result",
          "data": {
            "text/plain": [
              "      Пол  Возраст  Зарплата  Члены семьи\n",
              "0       1     41.0   49600.0            1\n",
              "1       0     46.0   38000.0            1\n",
              "2       0     29.0   21000.0            0\n",
              "3       0     21.0   41700.0            2\n",
              "4       1     28.0   26100.0            0\n",
              "...   ...      ...       ...          ...\n",
              "4995    0     28.0   35700.0            2\n",
              "4996    0     34.0   52400.0            1\n",
              "4997    0     20.0   33900.0            2\n",
              "4998    1     22.0   32700.0            3\n",
              "4999    1     28.0   40600.0            1\n",
              "\n",
              "[5000 rows x 4 columns]"
            ],
            "text/html": [
              "\n",
              "  <div id=\"df-e82573c0-952f-48fd-b2ea-1b10c597f7f1\">\n",
              "    <div class=\"colab-df-container\">\n",
              "      <div>\n",
              "<style scoped>\n",
              "    .dataframe tbody tr th:only-of-type {\n",
              "        vertical-align: middle;\n",
              "    }\n",
              "\n",
              "    .dataframe tbody tr th {\n",
              "        vertical-align: top;\n",
              "    }\n",
              "\n",
              "    .dataframe thead th {\n",
              "        text-align: right;\n",
              "    }\n",
              "</style>\n",
              "<table border=\"1\" class=\"dataframe\">\n",
              "  <thead>\n",
              "    <tr style=\"text-align: right;\">\n",
              "      <th></th>\n",
              "      <th>Пол</th>\n",
              "      <th>Возраст</th>\n",
              "      <th>Зарплата</th>\n",
              "      <th>Члены семьи</th>\n",
              "    </tr>\n",
              "  </thead>\n",
              "  <tbody>\n",
              "    <tr>\n",
              "      <th>0</th>\n",
              "      <td>1</td>\n",
              "      <td>41.0</td>\n",
              "      <td>49600.0</td>\n",
              "      <td>1</td>\n",
              "    </tr>\n",
              "    <tr>\n",
              "      <th>1</th>\n",
              "      <td>0</td>\n",
              "      <td>46.0</td>\n",
              "      <td>38000.0</td>\n",
              "      <td>1</td>\n",
              "    </tr>\n",
              "    <tr>\n",
              "      <th>2</th>\n",
              "      <td>0</td>\n",
              "      <td>29.0</td>\n",
              "      <td>21000.0</td>\n",
              "      <td>0</td>\n",
              "    </tr>\n",
              "    <tr>\n",
              "      <th>3</th>\n",
              "      <td>0</td>\n",
              "      <td>21.0</td>\n",
              "      <td>41700.0</td>\n",
              "      <td>2</td>\n",
              "    </tr>\n",
              "    <tr>\n",
              "      <th>4</th>\n",
              "      <td>1</td>\n",
              "      <td>28.0</td>\n",
              "      <td>26100.0</td>\n",
              "      <td>0</td>\n",
              "    </tr>\n",
              "    <tr>\n",
              "      <th>...</th>\n",
              "      <td>...</td>\n",
              "      <td>...</td>\n",
              "      <td>...</td>\n",
              "      <td>...</td>\n",
              "    </tr>\n",
              "    <tr>\n",
              "      <th>4995</th>\n",
              "      <td>0</td>\n",
              "      <td>28.0</td>\n",
              "      <td>35700.0</td>\n",
              "      <td>2</td>\n",
              "    </tr>\n",
              "    <tr>\n",
              "      <th>4996</th>\n",
              "      <td>0</td>\n",
              "      <td>34.0</td>\n",
              "      <td>52400.0</td>\n",
              "      <td>1</td>\n",
              "    </tr>\n",
              "    <tr>\n",
              "      <th>4997</th>\n",
              "      <td>0</td>\n",
              "      <td>20.0</td>\n",
              "      <td>33900.0</td>\n",
              "      <td>2</td>\n",
              "    </tr>\n",
              "    <tr>\n",
              "      <th>4998</th>\n",
              "      <td>1</td>\n",
              "      <td>22.0</td>\n",
              "      <td>32700.0</td>\n",
              "      <td>3</td>\n",
              "    </tr>\n",
              "    <tr>\n",
              "      <th>4999</th>\n",
              "      <td>1</td>\n",
              "      <td>28.0</td>\n",
              "      <td>40600.0</td>\n",
              "      <td>1</td>\n",
              "    </tr>\n",
              "  </tbody>\n",
              "</table>\n",
              "<p>5000 rows × 4 columns</p>\n",
              "</div>\n",
              "      <button class=\"colab-df-convert\" onclick=\"convertToInteractive('df-e82573c0-952f-48fd-b2ea-1b10c597f7f1')\"\n",
              "              title=\"Convert this dataframe to an interactive table.\"\n",
              "              style=\"display:none;\">\n",
              "        \n",
              "  <svg xmlns=\"http://www.w3.org/2000/svg\" height=\"24px\"viewBox=\"0 0 24 24\"\n",
              "       width=\"24px\">\n",
              "    <path d=\"M0 0h24v24H0V0z\" fill=\"none\"/>\n",
              "    <path d=\"M18.56 5.44l.94 2.06.94-2.06 2.06-.94-2.06-.94-.94-2.06-.94 2.06-2.06.94zm-11 1L8.5 8.5l.94-2.06 2.06-.94-2.06-.94L8.5 2.5l-.94 2.06-2.06.94zm10 10l.94 2.06.94-2.06 2.06-.94-2.06-.94-.94-2.06-.94 2.06-2.06.94z\"/><path d=\"M17.41 7.96l-1.37-1.37c-.4-.4-.92-.59-1.43-.59-.52 0-1.04.2-1.43.59L10.3 9.45l-7.72 7.72c-.78.78-.78 2.05 0 2.83L4 21.41c.39.39.9.59 1.41.59.51 0 1.02-.2 1.41-.59l7.78-7.78 2.81-2.81c.8-.78.8-2.07 0-2.86zM5.41 20L4 18.59l7.72-7.72 1.47 1.35L5.41 20z\"/>\n",
              "  </svg>\n",
              "      </button>\n",
              "      \n",
              "  <style>\n",
              "    .colab-df-container {\n",
              "      display:flex;\n",
              "      flex-wrap:wrap;\n",
              "      gap: 12px;\n",
              "    }\n",
              "\n",
              "    .colab-df-convert {\n",
              "      background-color: #E8F0FE;\n",
              "      border: none;\n",
              "      border-radius: 50%;\n",
              "      cursor: pointer;\n",
              "      display: none;\n",
              "      fill: #1967D2;\n",
              "      height: 32px;\n",
              "      padding: 0 0 0 0;\n",
              "      width: 32px;\n",
              "    }\n",
              "\n",
              "    .colab-df-convert:hover {\n",
              "      background-color: #E2EBFA;\n",
              "      box-shadow: 0px 1px 2px rgba(60, 64, 67, 0.3), 0px 1px 3px 1px rgba(60, 64, 67, 0.15);\n",
              "      fill: #174EA6;\n",
              "    }\n",
              "\n",
              "    [theme=dark] .colab-df-convert {\n",
              "      background-color: #3B4455;\n",
              "      fill: #D2E3FC;\n",
              "    }\n",
              "\n",
              "    [theme=dark] .colab-df-convert:hover {\n",
              "      background-color: #434B5C;\n",
              "      box-shadow: 0px 1px 3px 1px rgba(0, 0, 0, 0.15);\n",
              "      filter: drop-shadow(0px 1px 2px rgba(0, 0, 0, 0.3));\n",
              "      fill: #FFFFFF;\n",
              "    }\n",
              "  </style>\n",
              "\n",
              "      <script>\n",
              "        const buttonEl =\n",
              "          document.querySelector('#df-e82573c0-952f-48fd-b2ea-1b10c597f7f1 button.colab-df-convert');\n",
              "        buttonEl.style.display =\n",
              "          google.colab.kernel.accessAllowed ? 'block' : 'none';\n",
              "\n",
              "        async function convertToInteractive(key) {\n",
              "          const element = document.querySelector('#df-e82573c0-952f-48fd-b2ea-1b10c597f7f1');\n",
              "          const dataTable =\n",
              "            await google.colab.kernel.invokeFunction('convertToInteractive',\n",
              "                                                     [key], {});\n",
              "          if (!dataTable) return;\n",
              "\n",
              "          const docLinkHtml = 'Like what you see? Visit the ' +\n",
              "            '<a target=\"_blank\" href=https://colab.research.google.com/notebooks/data_table.ipynb>data table notebook</a>'\n",
              "            + ' to learn more about interactive tables.';\n",
              "          element.innerHTML = '';\n",
              "          dataTable['output_type'] = 'display_data';\n",
              "          await google.colab.output.renderOutput(dataTable, element);\n",
              "          const docLink = document.createElement('div');\n",
              "          docLink.innerHTML = docLinkHtml;\n",
              "          element.appendChild(docLink);\n",
              "        }\n",
              "      </script>\n",
              "    </div>\n",
              "  </div>\n",
              "  "
            ]
          },
          "metadata": {},
          "execution_count": 16
        }
      ],
      "source": [
        "#сравним с исходными данными\n",
        "features"
      ]
    },
    {
      "cell_type": "markdown",
      "metadata": {
        "id": "VBvHzrNCfL_g"
      },
      "source": [
        "**Общий вывод:**      \n",
        "Применно кодирование  персональных данных с помощью умножения  признаков на квадратную обратимую матрицу.  Воостановить данные можно умножив на обратную матрицу.    \n",
        "Качество линейной регрессии при умножениии признаков на обратимую матрицу не меняется."
      ]
    },
    {
      "cell_type": "markdown",
      "metadata": {
        "id": "QbeoQlMyfL_h"
      },
      "source": [
        "## Чек-лист проверки"
      ]
    },
    {
      "cell_type": "markdown",
      "metadata": {
        "id": "Z6DIAryFfL_h"
      },
      "source": [
        "Поставьте 'x' в выполненных пунктах. Далее нажмите Shift+Enter."
      ]
    },
    {
      "cell_type": "markdown",
      "metadata": {
        "id": "sEutpA1VfL_h"
      },
      "source": [
        "- [x]  Jupyter Notebook открыт\n",
        "- [x]  Весь код выполняется без ошибок\n",
        "- [x]  Ячейки с кодом расположены в порядке исполнения\n",
        "- [x]  Выполнен шаг 1: данные загружены\n",
        "- [x]  Выполнен шаг 2: получен ответ на вопрос об умножении матриц\n",
        "    - [x]  Указан правильный вариант ответа\n",
        "    - [x]  Вариант обоснован\n",
        "- [x]  Выполнен шаг 3: предложен алгоритм преобразования\n",
        "    - [x]  Алгоритм описан\n",
        "    - [x]  Алгоритм обоснован\n",
        "- [x]  Выполнен шаг 4: алгоритм проверен\n",
        "    - [x]  Алгоритм реализован\n",
        "    - [x]  Проведено сравнение качества моделей до и после преобразования"
      ]
    },
    {
      "cell_type": "code",
      "execution_count": 16,
      "metadata": {
        "id": "eb47JQ7qfL_h"
      },
      "outputs": [],
      "source": []
    }
  ],
  "metadata": {
    "ExecuteTimeLog": [
      {
        "duration": 48,
        "start_time": "2023-02-19T14:13:02.273Z"
      },
      {
        "duration": 398,
        "start_time": "2023-02-19T14:13:06.685Z"
      },
      {
        "duration": 2,
        "start_time": "2023-02-19T14:13:07.390Z"
      },
      {
        "duration": 43,
        "start_time": "2023-02-19T14:13:09.430Z"
      },
      {
        "duration": 9,
        "start_time": "2023-02-19T14:13:28.982Z"
      },
      {
        "duration": 111,
        "start_time": "2023-02-19T14:13:45.686Z"
      },
      {
        "duration": 11,
        "start_time": "2023-02-19T14:16:58.365Z"
      },
      {
        "duration": 24,
        "start_time": "2023-02-19T14:17:06.634Z"
      },
      {
        "duration": 10,
        "start_time": "2023-02-19T14:17:22.026Z"
      },
      {
        "duration": 10,
        "start_time": "2023-02-19T14:17:25.100Z"
      },
      {
        "duration": 8,
        "start_time": "2023-02-19T15:53:39.764Z"
      },
      {
        "duration": 6,
        "start_time": "2023-02-19T15:54:10.558Z"
      },
      {
        "duration": 4,
        "start_time": "2023-02-19T15:54:14.374Z"
      },
      {
        "duration": 5,
        "start_time": "2023-02-19T15:54:31.983Z"
      },
      {
        "duration": 3,
        "start_time": "2023-02-19T15:54:58.894Z"
      },
      {
        "duration": 4,
        "start_time": "2023-02-19T15:55:09.439Z"
      },
      {
        "duration": 7,
        "start_time": "2023-02-19T15:56:30.126Z"
      },
      {
        "duration": 3,
        "start_time": "2023-02-19T15:56:40.377Z"
      },
      {
        "duration": 4,
        "start_time": "2023-02-19T15:56:40.781Z"
      },
      {
        "duration": 6,
        "start_time": "2023-02-19T15:56:42.558Z"
      },
      {
        "duration": 4,
        "start_time": "2023-02-19T15:56:49.909Z"
      },
      {
        "duration": 4,
        "start_time": "2023-02-19T16:01:37.571Z"
      },
      {
        "duration": 4,
        "start_time": "2023-02-19T16:03:46.434Z"
      },
      {
        "duration": 4,
        "start_time": "2023-02-19T16:04:33.529Z"
      },
      {
        "duration": 4,
        "start_time": "2023-02-19T16:05:18.195Z"
      },
      {
        "duration": 4,
        "start_time": "2023-02-19T16:05:26.565Z"
      },
      {
        "duration": 9,
        "start_time": "2023-02-19T16:07:06.644Z"
      },
      {
        "duration": 3,
        "start_time": "2023-02-19T16:07:13.163Z"
      },
      {
        "duration": 77,
        "start_time": "2023-02-19T16:07:39.618Z"
      },
      {
        "duration": 4,
        "start_time": "2023-02-19T16:07:43.570Z"
      },
      {
        "duration": 312,
        "start_time": "2023-02-19T16:12:19.172Z"
      },
      {
        "duration": 298,
        "start_time": "2023-02-19T16:13:40.314Z"
      },
      {
        "duration": 668,
        "start_time": "2023-02-19T16:14:34.777Z"
      },
      {
        "duration": 5,
        "start_time": "2023-02-19T16:15:12.873Z"
      },
      {
        "duration": 4,
        "start_time": "2023-02-19T16:15:28.176Z"
      },
      {
        "duration": 5,
        "start_time": "2023-02-19T16:15:43.568Z"
      },
      {
        "duration": 6,
        "start_time": "2023-02-19T16:15:52.017Z"
      },
      {
        "duration": 5,
        "start_time": "2023-02-19T16:16:10.584Z"
      },
      {
        "duration": 4,
        "start_time": "2023-02-19T16:16:24.129Z"
      },
      {
        "duration": 9,
        "start_time": "2023-02-19T16:16:25.809Z"
      },
      {
        "duration": 5,
        "start_time": "2023-02-19T16:16:26.784Z"
      },
      {
        "duration": 4,
        "start_time": "2023-02-19T16:16:56.463Z"
      },
      {
        "duration": 7,
        "start_time": "2023-02-19T16:16:57.966Z"
      },
      {
        "duration": 5,
        "start_time": "2023-02-19T16:17:00.016Z"
      },
      {
        "duration": 4,
        "start_time": "2023-02-19T16:20:29.991Z"
      },
      {
        "duration": 464,
        "start_time": "2023-02-20T05:28:47.449Z"
      },
      {
        "duration": 3,
        "start_time": "2023-02-20T05:28:47.926Z"
      },
      {
        "duration": 105,
        "start_time": "2023-02-20T05:28:49.991Z"
      },
      {
        "duration": 20,
        "start_time": "2023-02-20T05:28:56.137Z"
      },
      {
        "duration": 4,
        "start_time": "2023-02-20T05:28:57.951Z"
      },
      {
        "duration": 5,
        "start_time": "2023-02-20T05:43:17.609Z"
      },
      {
        "duration": 4,
        "start_time": "2023-02-20T05:54:10.617Z"
      },
      {
        "duration": 5,
        "start_time": "2023-02-20T05:54:21.519Z"
      },
      {
        "duration": 79,
        "start_time": "2023-02-20T05:55:18.235Z"
      },
      {
        "duration": 114,
        "start_time": "2023-02-20T05:55:25.082Z"
      },
      {
        "duration": 5,
        "start_time": "2023-02-20T05:55:34.621Z"
      },
      {
        "duration": 87,
        "start_time": "2023-02-20T05:55:37.396Z"
      },
      {
        "duration": 5,
        "start_time": "2023-02-20T05:55:46.778Z"
      },
      {
        "duration": 7,
        "start_time": "2023-02-20T05:55:50.018Z"
      },
      {
        "duration": 4,
        "start_time": "2023-02-20T05:56:50.676Z"
      },
      {
        "duration": 14,
        "start_time": "2023-02-20T05:59:19.541Z"
      },
      {
        "duration": 6,
        "start_time": "2023-02-20T05:59:56.075Z"
      },
      {
        "duration": 8,
        "start_time": "2023-02-20T06:03:17.968Z"
      },
      {
        "duration": 916,
        "start_time": "2023-02-20T06:03:26.221Z"
      },
      {
        "duration": 25,
        "start_time": "2023-02-20T06:03:43.716Z"
      },
      {
        "duration": 3,
        "start_time": "2023-02-20T06:07:38.131Z"
      },
      {
        "duration": 7,
        "start_time": "2023-02-20T06:07:44.835Z"
      },
      {
        "duration": 5,
        "start_time": "2023-02-20T06:10:38.424Z"
      },
      {
        "duration": 105,
        "start_time": "2023-02-20T06:10:51.376Z"
      },
      {
        "duration": 5,
        "start_time": "2023-02-20T06:10:58.869Z"
      },
      {
        "duration": 4,
        "start_time": "2023-02-20T06:11:05.869Z"
      },
      {
        "duration": 4,
        "start_time": "2023-02-20T06:12:26.270Z"
      },
      {
        "duration": 4,
        "start_time": "2023-02-20T06:13:02.447Z"
      },
      {
        "duration": 42,
        "start_time": "2023-02-20T06:13:43.526Z"
      },
      {
        "duration": 5,
        "start_time": "2023-02-20T06:13:53.916Z"
      },
      {
        "duration": 4,
        "start_time": "2023-02-20T06:14:03.143Z"
      },
      {
        "duration": 6,
        "start_time": "2023-02-20T06:14:45.819Z"
      },
      {
        "duration": 4,
        "start_time": "2023-02-20T06:15:15.143Z"
      },
      {
        "duration": 68,
        "start_time": "2023-02-20T06:15:51.933Z"
      },
      {
        "duration": 12,
        "start_time": "2023-02-20T06:16:10.569Z"
      },
      {
        "duration": 10,
        "start_time": "2023-02-20T06:16:39.020Z"
      },
      {
        "duration": 12,
        "start_time": "2023-02-20T06:16:42.092Z"
      },
      {
        "duration": 4,
        "start_time": "2023-02-20T06:17:10.170Z"
      },
      {
        "duration": 6,
        "start_time": "2023-02-20T06:17:13.889Z"
      },
      {
        "duration": 11,
        "start_time": "2023-02-20T06:17:25.442Z"
      },
      {
        "duration": 3,
        "start_time": "2023-02-20T06:17:28.153Z"
      },
      {
        "duration": 4,
        "start_time": "2023-02-20T06:17:30.465Z"
      },
      {
        "duration": 7,
        "start_time": "2023-02-20T06:17:31.889Z"
      },
      {
        "duration": 16,
        "start_time": "2023-02-20T06:17:33.233Z"
      },
      {
        "duration": 5,
        "start_time": "2023-02-20T06:19:45.043Z"
      },
      {
        "duration": 82,
        "start_time": "2023-02-20T06:19:49.827Z"
      },
      {
        "duration": 4,
        "start_time": "2023-02-20T06:19:52.387Z"
      },
      {
        "duration": 97,
        "start_time": "2023-02-20T06:19:54.434Z"
      },
      {
        "duration": 5,
        "start_time": "2023-02-20T06:19:56.947Z"
      },
      {
        "duration": 6,
        "start_time": "2023-02-20T06:19:58.956Z"
      },
      {
        "duration": 5,
        "start_time": "2023-02-20T06:21:34.644Z"
      },
      {
        "duration": 3,
        "start_time": "2023-02-20T06:21:47.261Z"
      },
      {
        "duration": 9,
        "start_time": "2023-02-20T06:21:49.644Z"
      },
      {
        "duration": 4,
        "start_time": "2023-02-20T06:23:01.322Z"
      },
      {
        "duration": 6,
        "start_time": "2023-02-20T06:23:12.119Z"
      },
      {
        "duration": 9,
        "start_time": "2023-02-20T06:28:42.777Z"
      },
      {
        "duration": 11,
        "start_time": "2023-02-20T06:29:10.177Z"
      },
      {
        "duration": 7,
        "start_time": "2023-02-20T06:29:28.414Z"
      },
      {
        "duration": 5,
        "start_time": "2023-02-20T06:29:30.752Z"
      },
      {
        "duration": 15,
        "start_time": "2023-02-20T06:30:21.910Z"
      },
      {
        "duration": 14,
        "start_time": "2023-02-20T06:31:14.793Z"
      },
      {
        "duration": 4,
        "start_time": "2023-02-20T06:32:30.472Z"
      },
      {
        "duration": 5,
        "start_time": "2023-02-20T06:32:32.515Z"
      },
      {
        "duration": 4,
        "start_time": "2023-02-20T06:32:47.432Z"
      },
      {
        "duration": 3,
        "start_time": "2023-02-20T06:32:58.102Z"
      },
      {
        "duration": 13,
        "start_time": "2023-02-20T06:33:00.457Z"
      },
      {
        "duration": 20,
        "start_time": "2023-02-20T06:33:54.384Z"
      },
      {
        "duration": 3,
        "start_time": "2023-02-20T07:24:48.567Z"
      },
      {
        "duration": 13,
        "start_time": "2023-02-20T07:25:16.515Z"
      },
      {
        "duration": 13,
        "start_time": "2023-02-20T07:25:52.287Z"
      },
      {
        "duration": 1716,
        "start_time": "2023-02-21T03:14:31.170Z"
      },
      {
        "duration": 2,
        "start_time": "2023-02-21T03:14:32.889Z"
      },
      {
        "duration": 40,
        "start_time": "2023-02-21T03:14:32.893Z"
      },
      {
        "duration": 15,
        "start_time": "2023-02-21T03:14:32.936Z"
      },
      {
        "duration": 9,
        "start_time": "2023-02-21T03:14:32.953Z"
      },
      {
        "duration": 7,
        "start_time": "2023-02-21T03:14:32.965Z"
      },
      {
        "duration": 8,
        "start_time": "2023-02-21T03:14:32.974Z"
      },
      {
        "duration": 8,
        "start_time": "2023-02-21T03:14:32.984Z"
      },
      {
        "duration": 54,
        "start_time": "2023-02-21T03:14:32.994Z"
      },
      {
        "duration": 206,
        "start_time": "2023-02-21T03:14:33.052Z"
      },
      {
        "duration": 5,
        "start_time": "2023-02-21T03:14:33.345Z"
      },
      {
        "duration": 25,
        "start_time": "2023-02-21T03:14:33.352Z"
      },
      {
        "duration": 67,
        "start_time": "2023-02-21T03:14:33.379Z"
      },
      {
        "duration": 104,
        "start_time": "2023-02-21T03:14:33.450Z"
      },
      {
        "duration": 22,
        "start_time": "2023-02-21T03:14:33.556Z"
      },
      {
        "duration": 21,
        "start_time": "2023-02-21T03:14:33.580Z"
      },
      {
        "duration": 1123,
        "start_time": "2023-02-22T05:25:18.988Z"
      },
      {
        "duration": 2,
        "start_time": "2023-02-22T05:25:20.113Z"
      },
      {
        "duration": 116,
        "start_time": "2023-02-22T05:25:20.117Z"
      },
      {
        "duration": 15,
        "start_time": "2023-02-22T05:25:20.235Z"
      },
      {
        "duration": 13,
        "start_time": "2023-02-22T05:25:20.252Z"
      },
      {
        "duration": 9,
        "start_time": "2023-02-22T05:25:20.266Z"
      },
      {
        "duration": 6,
        "start_time": "2023-02-22T05:25:20.277Z"
      },
      {
        "duration": 25,
        "start_time": "2023-02-22T05:25:20.285Z"
      },
      {
        "duration": 11,
        "start_time": "2023-02-22T05:25:20.312Z"
      },
      {
        "duration": 86,
        "start_time": "2023-02-22T05:25:20.326Z"
      },
      {
        "duration": 88,
        "start_time": "2023-02-22T05:25:20.415Z"
      },
      {
        "duration": 111,
        "start_time": "2023-02-22T05:25:20.505Z"
      },
      {
        "duration": 17,
        "start_time": "2023-02-22T05:25:20.618Z"
      },
      {
        "duration": 170,
        "start_time": "2023-02-22T05:25:20.637Z"
      },
      {
        "duration": 34,
        "start_time": "2023-02-22T05:25:20.809Z"
      },
      {
        "duration": 20,
        "start_time": "2023-02-22T05:25:20.845Z"
      },
      {
        "duration": 1104,
        "start_time": "2023-02-22T05:26:07.576Z"
      },
      {
        "duration": 2,
        "start_time": "2023-02-22T05:26:08.682Z"
      },
      {
        "duration": 42,
        "start_time": "2023-02-22T05:26:08.685Z"
      },
      {
        "duration": 14,
        "start_time": "2023-02-22T05:26:08.730Z"
      },
      {
        "duration": 7,
        "start_time": "2023-02-22T05:26:08.746Z"
      },
      {
        "duration": 8,
        "start_time": "2023-02-22T05:26:08.754Z"
      },
      {
        "duration": 11,
        "start_time": "2023-02-22T05:26:08.764Z"
      },
      {
        "duration": 22,
        "start_time": "2023-02-22T05:26:08.777Z"
      },
      {
        "duration": 191,
        "start_time": "2023-02-22T05:26:08.802Z"
      },
      {
        "duration": 8,
        "start_time": "2023-02-22T05:26:09.002Z"
      },
      {
        "duration": 7,
        "start_time": "2023-02-22T05:26:09.012Z"
      },
      {
        "duration": 79,
        "start_time": "2023-02-22T05:26:09.021Z"
      },
      {
        "duration": 110,
        "start_time": "2023-02-22T05:26:09.102Z"
      },
      {
        "duration": 20,
        "start_time": "2023-02-22T05:26:09.214Z"
      },
      {
        "duration": 13,
        "start_time": "2023-02-22T05:26:09.236Z"
      },
      {
        "duration": 11,
        "start_time": "2023-02-22T05:36:06.429Z"
      },
      {
        "duration": 21,
        "start_time": "2023-02-22T05:39:07.390Z"
      },
      {
        "duration": 12,
        "start_time": "2023-02-22T05:39:58.093Z"
      },
      {
        "duration": 15,
        "start_time": "2023-02-22T05:40:05.101Z"
      },
      {
        "duration": 5,
        "start_time": "2023-02-22T05:45:22.445Z"
      },
      {
        "duration": 119,
        "start_time": "2023-02-22T05:45:41.141Z"
      },
      {
        "duration": 18,
        "start_time": "2023-02-22T05:45:59.811Z"
      },
      {
        "duration": 5,
        "start_time": "2023-02-22T05:47:50.075Z"
      },
      {
        "duration": 6,
        "start_time": "2023-02-22T05:47:55.235Z"
      },
      {
        "duration": 5,
        "start_time": "2023-02-22T05:47:55.435Z"
      },
      {
        "duration": 100,
        "start_time": "2023-02-22T05:47:55.615Z"
      },
      {
        "duration": 11,
        "start_time": "2023-02-22T05:47:55.797Z"
      },
      {
        "duration": 9,
        "start_time": "2023-02-22T05:47:55.910Z"
      },
      {
        "duration": 37,
        "start_time": "2023-02-22T05:47:56.058Z"
      },
      {
        "duration": 7,
        "start_time": "2023-02-22T05:47:56.524Z"
      },
      {
        "duration": 19,
        "start_time": "2023-02-22T05:47:56.688Z"
      },
      {
        "duration": 16,
        "start_time": "2023-02-22T05:47:57.015Z"
      },
      {
        "duration": 14,
        "start_time": "2023-02-22T05:48:11.467Z"
      },
      {
        "duration": 1146,
        "start_time": "2023-02-22T10:08:22.555Z"
      },
      {
        "duration": 2,
        "start_time": "2023-02-22T10:08:23.703Z"
      },
      {
        "duration": 48,
        "start_time": "2023-02-22T10:08:23.707Z"
      },
      {
        "duration": 17,
        "start_time": "2023-02-22T10:08:23.756Z"
      },
      {
        "duration": 8,
        "start_time": "2023-02-22T10:08:23.774Z"
      },
      {
        "duration": 6,
        "start_time": "2023-02-22T10:08:23.784Z"
      },
      {
        "duration": 18,
        "start_time": "2023-02-22T10:08:23.791Z"
      },
      {
        "duration": 6,
        "start_time": "2023-02-22T10:08:23.811Z"
      },
      {
        "duration": 80,
        "start_time": "2023-02-22T10:08:23.820Z"
      },
      {
        "duration": 94,
        "start_time": "2023-02-22T10:08:23.903Z"
      },
      {
        "duration": 95,
        "start_time": "2023-02-22T10:08:23.999Z"
      },
      {
        "duration": 27,
        "start_time": "2023-02-22T10:08:24.096Z"
      },
      {
        "duration": 81,
        "start_time": "2023-02-22T10:08:24.125Z"
      },
      {
        "duration": 24,
        "start_time": "2023-02-22T10:08:24.294Z"
      },
      {
        "duration": 18,
        "start_time": "2023-02-22T10:08:24.320Z"
      },
      {
        "duration": 970,
        "start_time": "2023-02-22T18:47:12.900Z"
      },
      {
        "duration": 3,
        "start_time": "2023-02-22T18:47:13.872Z"
      },
      {
        "duration": 106,
        "start_time": "2023-02-22T18:47:13.877Z"
      },
      {
        "duration": 21,
        "start_time": "2023-02-22T18:47:13.986Z"
      },
      {
        "duration": 6,
        "start_time": "2023-02-22T18:47:14.009Z"
      },
      {
        "duration": 9,
        "start_time": "2023-02-22T18:47:14.017Z"
      },
      {
        "duration": 11,
        "start_time": "2023-02-22T18:47:14.028Z"
      },
      {
        "duration": 18,
        "start_time": "2023-02-22T18:47:14.044Z"
      },
      {
        "duration": 105,
        "start_time": "2023-02-22T18:47:14.128Z"
      },
      {
        "duration": 92,
        "start_time": "2023-02-22T18:47:14.236Z"
      },
      {
        "duration": 106,
        "start_time": "2023-02-22T18:47:14.330Z"
      },
      {
        "duration": 14,
        "start_time": "2023-02-22T18:47:14.438Z"
      },
      {
        "duration": 77,
        "start_time": "2023-02-22T18:47:14.454Z"
      },
      {
        "duration": 116,
        "start_time": "2023-02-22T18:47:14.534Z"
      },
      {
        "duration": 46,
        "start_time": "2023-02-22T18:47:14.653Z"
      },
      {
        "duration": 99,
        "start_time": "2023-02-22T18:47:29.599Z"
      },
      {
        "duration": 12,
        "start_time": "2023-02-22T18:47:32.742Z"
      },
      {
        "duration": 3,
        "start_time": "2023-02-22T18:47:56.800Z"
      },
      {
        "duration": 7,
        "start_time": "2023-02-22T18:48:02.215Z"
      },
      {
        "duration": 13,
        "start_time": "2023-02-22T18:48:13.232Z"
      },
      {
        "duration": 10,
        "start_time": "2023-02-22T18:48:21.435Z"
      },
      {
        "duration": 6,
        "start_time": "2023-02-22T18:48:27.408Z"
      },
      {
        "duration": 882,
        "start_time": "2023-02-22T18:48:50.751Z"
      },
      {
        "duration": 3,
        "start_time": "2023-02-22T18:48:51.635Z"
      },
      {
        "duration": 33,
        "start_time": "2023-02-22T18:48:51.640Z"
      },
      {
        "duration": 16,
        "start_time": "2023-02-22T18:48:51.675Z"
      },
      {
        "duration": 7,
        "start_time": "2023-02-22T18:48:51.692Z"
      },
      {
        "duration": 8,
        "start_time": "2023-02-22T18:48:51.700Z"
      },
      {
        "duration": 23,
        "start_time": "2023-02-22T18:48:51.709Z"
      },
      {
        "duration": 12,
        "start_time": "2023-02-22T18:48:51.734Z"
      },
      {
        "duration": 181,
        "start_time": "2023-02-22T18:48:51.748Z"
      },
      {
        "duration": 6,
        "start_time": "2023-02-22T18:48:51.932Z"
      },
      {
        "duration": 29,
        "start_time": "2023-02-22T18:48:52.027Z"
      },
      {
        "duration": 10,
        "start_time": "2023-02-22T18:48:52.058Z"
      },
      {
        "duration": 160,
        "start_time": "2023-02-22T18:48:52.070Z"
      },
      {
        "duration": 14,
        "start_time": "2023-02-22T18:48:52.232Z"
      },
      {
        "duration": 14,
        "start_time": "2023-02-22T18:48:52.248Z"
      },
      {
        "duration": 4,
        "start_time": "2023-02-22T18:48:52.264Z"
      },
      {
        "duration": 15,
        "start_time": "2023-02-22T18:48:52.269Z"
      },
      {
        "duration": 12,
        "start_time": "2023-02-22T18:48:52.285Z"
      },
      {
        "duration": 4,
        "start_time": "2023-02-22T18:49:18.218Z"
      },
      {
        "duration": 4,
        "start_time": "2023-02-22T18:49:47.265Z"
      },
      {
        "duration": 11,
        "start_time": "2023-02-22T18:49:50.565Z"
      },
      {
        "duration": 2,
        "start_time": "2023-02-22T18:50:13.531Z"
      },
      {
        "duration": 15,
        "start_time": "2023-02-22T18:50:14.074Z"
      },
      {
        "duration": 4,
        "start_time": "2023-02-22T18:50:24.612Z"
      },
      {
        "duration": 14,
        "start_time": "2023-02-22T18:50:25.470Z"
      },
      {
        "duration": 73,
        "start_time": "2023-02-22T18:50:56.076Z"
      },
      {
        "duration": 7,
        "start_time": "2023-02-22T18:51:00.406Z"
      },
      {
        "duration": 11,
        "start_time": "2023-02-22T18:51:05.674Z"
      },
      {
        "duration": 3,
        "start_time": "2023-02-22T18:52:36.609Z"
      },
      {
        "duration": 13,
        "start_time": "2023-02-22T18:52:50.352Z"
      },
      {
        "duration": 3,
        "start_time": "2023-02-22T18:54:34.162Z"
      },
      {
        "duration": 21,
        "start_time": "2023-02-22T18:54:34.662Z"
      },
      {
        "duration": 3,
        "start_time": "2023-02-22T18:54:45.774Z"
      },
      {
        "duration": 12,
        "start_time": "2023-02-22T18:54:46.028Z"
      },
      {
        "duration": 1076,
        "start_time": "2023-02-23T07:15:20.316Z"
      },
      {
        "duration": 3,
        "start_time": "2023-02-23T07:15:21.394Z"
      },
      {
        "duration": 110,
        "start_time": "2023-02-23T07:15:21.399Z"
      },
      {
        "duration": 17,
        "start_time": "2023-02-23T07:15:21.512Z"
      },
      {
        "duration": 5,
        "start_time": "2023-02-23T07:15:21.531Z"
      },
      {
        "duration": 23,
        "start_time": "2023-02-23T07:15:21.538Z"
      },
      {
        "duration": 7,
        "start_time": "2023-02-23T07:15:21.563Z"
      },
      {
        "duration": 71,
        "start_time": "2023-02-23T07:15:21.572Z"
      },
      {
        "duration": 99,
        "start_time": "2023-02-23T07:15:21.646Z"
      },
      {
        "duration": 96,
        "start_time": "2023-02-23T07:15:21.748Z"
      },
      {
        "duration": 97,
        "start_time": "2023-02-23T07:15:21.847Z"
      },
      {
        "duration": 11,
        "start_time": "2023-02-23T07:15:21.945Z"
      },
      {
        "duration": 178,
        "start_time": "2023-02-23T07:15:21.960Z"
      },
      {
        "duration": 17,
        "start_time": "2023-02-23T07:15:22.140Z"
      },
      {
        "duration": 11,
        "start_time": "2023-02-23T07:15:22.159Z"
      }
    ],
    "kernelspec": {
      "display_name": "Python 3 (ipykernel)",
      "language": "python",
      "name": "python3"
    },
    "language_info": {
      "codemirror_mode": {
        "name": "ipython",
        "version": 3
      },
      "file_extension": ".py",
      "mimetype": "text/x-python",
      "name": "python",
      "nbconvert_exporter": "python",
      "pygments_lexer": "ipython3",
      "version": "3.9.5"
    },
    "toc": {
      "base_numbering": 1,
      "nav_menu": {},
      "number_sections": true,
      "sideBar": true,
      "skip_h1_title": true,
      "title_cell": "Содержание",
      "title_sidebar": "Contents",
      "toc_cell": true,
      "toc_position": {
        "height": "calc(100% - 180px)",
        "left": "10px",
        "top": "150px",
        "width": "165px"
      },
      "toc_section_display": true,
      "toc_window_display": true
    },
    "colab": {
      "provenance": [],
      "include_colab_link": true
    }
  },
  "nbformat": 4,
  "nbformat_minor": 0
}