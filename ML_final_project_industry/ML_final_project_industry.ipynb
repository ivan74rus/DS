{
 "cells": [
  {
   "cell_type": "markdown",
   "id": "f022aebe",
   "metadata": {
    "colab_type": "text",
    "id": "view-in-github"
   },
   "source": [
    "<a href=\"https://colab.research.google.com/github/ivan74rus/DS/blob/main/%D0%9A%D0%BE%D0%BF%D0%B8%D1%8F_%D0%B1%D0%BB%D0%BE%D0%BA%D0%BD%D0%BE%D1%82%D0%B0_%22%D0%92%D1%8B%D0%BF%D1%83%D1%81%D0%BA%D0%BD%D0%BE%D0%B9_ML_%D0%B2_%D0%BF%D1%80%D0%BE%D0%BC%D1%8B%D1%88%D0%BB%D0%B5%D0%BD%D0%BD%D0%BE%D1%81%D1%82%D0%B8_%D0%B3%D0%BE%D1%82%D0%BE%D0%B2%D1%8B%D0%B9_ipynb%22.ipynb\" target=\"_parent\"><img src=\"https://colab.research.google.com/assets/colab-badge.svg\" alt=\"Open In Colab\"/></a>"
   ]
  },
  {
   "cell_type": "markdown",
   "id": "5741a524",
   "metadata": {
    "id": "5741a524"
   },
   "source": [
    "**Вводные данные**    \n",
    "Промышленность — задача проекта\n",
    "\n",
    "Чтобы оптимизировать производственные расходы, металлургический комбинат ООО «Так закаляем сталь» решил уменьшить потребление электроэнергии на этапе обработки стали. Вам предстоит построить модель, которая предскажет температуру стали.\n",
    "\n",
    "### Описание этапа обработки\n",
    "\n",
    "Сталь обрабатывают в металлическом ковше вместимостью около 100 тонн. Чтобы ковш выдерживал высокие температуры, изнутри его облицовывают огнеупорным кирпичом. Расплавленную сталь заливают в ковш и подогревают до нужной температуры графитовыми электродами. Они установлены в крышке ковша. \n",
    "\n",
    "Из сплава выводится сера (десульфурация), добавлением примесей корректируется химический состав и отбираются пробы. Сталь легируют — изменяют её состав — подавая куски сплава из бункера для сыпучих материалов или проволоку через специальный трайб-аппарат (англ. tribe, «масса»).\n",
    "\n",
    "Перед тем как первый раз ввести легирующие добавки, измеряют температуру стали и производят её химический анализ. Потом температуру на несколько минут повышают, добавляют легирующие материалы и продувают сплав инертным газом. Затем его перемешивают и снова проводят измерения. Такой цикл повторяется до достижения целевого химического состава и оптимальной температуры плавки.\n",
    "\n",
    "Тогда расплавленная сталь отправляется на доводку металла или поступает в машину непрерывной разливки. Оттуда готовый продукт выходит в виде заготовок-слябов (англ. *slab*, «плита»).\n",
    "\n",
    "### Описание данных\n",
    "\n",
    "Данные состоят из файлов, полученных из разных источников:\n",
    "\n",
    "- `data_arc_new.csv` — данные об электродах;\n",
    "- `data_bulk_new.csv` — данные о подаче сыпучих материалов (объём);\n",
    "- `data_bulk_time_new.csv` *—* данные о подаче сыпучих материалов (время);\n",
    "- `data_gas_new.csv` — данные о продувке сплава газом;\n",
    "- `data_temp_new.csv` — результаты измерения температуры;\n",
    "- `data_wire_new.csv` — данные о проволочных материалах (объём);\n",
    "- `data_wire_time_new.csv` — данные о проволочных материалах (время).\n",
    "\n",
    "Во всех файлах столбец `key` содержит номер партии. В файлах может быть несколько строк с одинаковым значением `key`: они соответствуют разным итерациям обработки."
   ]
  },
  {
   "cell_type": "code",
   "execution_count": null,
   "id": "55dcf880",
   "metadata": {
    "id": "55dcf880",
    "outputId": "d5eaf503-82cb-431a-e9f6-c5939a6016c8"
   },
   "outputs": [
    {
     "name": "stdout",
     "output_type": "stream",
     "text": [
      "pandas=1.2.4\n"
     ]
    }
   ],
   "source": [
    "import os\n",
    "\n",
    "import pandas as pd\n",
    "import numpy as np\n",
    "import matplotlib.pyplot as plt\n",
    "\n",
    "from sklearn.metrics import make_scorer, mean_absolute_error, r2_score\n",
    "from sklearn.preprocessing import StandardScaler\n",
    "\n",
    "from sklearn.model_selection import train_test_split\n",
    "from sklearn.model_selection import cross_val_score\n",
    "from sklearn.model_selection import GridSearchCV\n",
    "\n",
    "\n",
    "\n",
    "from sklearn.dummy import DummyRegressor\n",
    "from sklearn.linear_model import LinearRegression\n",
    "\n",
    "from catboost import CatBoostRegressor\n",
    "from catboost import cv\n",
    "from catboost import Pool\n",
    "\n",
    "\n",
    "print(f'pandas={pd.__version__}')\n"
   ]
  },
  {
   "cell_type": "code",
   "execution_count": null,
   "id": "4e8f0896",
   "metadata": {
    "id": "4e8f0896"
   },
   "outputs": [],
   "source": [
    "LOCAL_DATA_PATH = 'C:\\\\ds/data_sets/final_project/'\n",
    "RANDOM_SEED = 220523"
   ]
  },
  {
   "cell_type": "markdown",
   "id": "38a07297",
   "metadata": {
    "id": "38a07297"
   },
   "source": [
    "# Загрузка данных и анализ.      \n",
    "Загрузим все датасеты."
   ]
  },
  {
   "cell_type": "code",
   "execution_count": null,
   "id": "aa81e871",
   "metadata": {
    "id": "aa81e871"
   },
   "outputs": [],
   "source": [
    "try:\n",
    "    data_arc = pd.read_csv(f'{LOCAL_DATA_PATH}data_arc_new.csv')\n",
    "    data_bulk = pd.read_csv(f'{LOCAL_DATA_PATH}data_bulk_new.csv')\n",
    "    data_bulk_time = pd.read_csv(f'{LOCAL_DATA_PATH}data_bulk_time_new.csv')\n",
    "    data_gas = pd.read_csv(f'{LOCAL_DATA_PATH}data_gas_new.csv')\n",
    "    data_temp = pd.read_csv(f'{LOCAL_DATA_PATH}data_temp_new.csv')\n",
    "    data_wire = pd.read_csv(f'{LOCAL_DATA_PATH}data_wire_new.csv')\n",
    "    data_wire_time = pd.read_csv(f'{LOCAL_DATA_PATH}data_wire_time_new.csv')\n",
    "    \n",
    "except:\n",
    "    data_arc = pd.read_csv('/datasets/data_arc_new.csv')\n",
    "    data_bulk = pd.read_csv('/datasets/data_bulk_new.csv')\n",
    "    data_bulk_time = pd.read_csv('/datasets/data_bulk_time_new.csv')\n",
    "    data_gas = pd.read_csv('/datasets/data_gas_new.csv')\n",
    "    data_temp = pd.read_csv('/datasets/data_temp_new.csv')\n",
    "    data_wire = pd.read_csv('/datasets/data_wire_new.csv')\n",
    "    data_wire_time = pd.read_csv('/datasets/data_wire_time_new.csv')"
   ]
  },
  {
   "cell_type": "markdown",
   "id": "8ec398e7",
   "metadata": {
    "id": "8ec398e7"
   },
   "source": [
    "###  data_arc   данные об электродах."
   ]
  },
  {
   "cell_type": "code",
   "execution_count": null,
   "id": "186221d1",
   "metadata": {
    "id": "186221d1",
    "outputId": "d3108b22-0f61-4183-a81c-6d7e03c465ca"
   },
   "outputs": [
    {
     "data": {
      "text/html": [
       "<div>\n",
       "<style scoped>\n",
       "    .dataframe tbody tr th:only-of-type {\n",
       "        vertical-align: middle;\n",
       "    }\n",
       "\n",
       "    .dataframe tbody tr th {\n",
       "        vertical-align: top;\n",
       "    }\n",
       "\n",
       "    .dataframe thead th {\n",
       "        text-align: right;\n",
       "    }\n",
       "</style>\n",
       "<table border=\"1\" class=\"dataframe\">\n",
       "  <thead>\n",
       "    <tr style=\"text-align: right;\">\n",
       "      <th></th>\n",
       "      <th>key</th>\n",
       "      <th>Начало нагрева дугой</th>\n",
       "      <th>Конец нагрева дугой</th>\n",
       "      <th>Активная мощность</th>\n",
       "      <th>Реактивная мощность</th>\n",
       "    </tr>\n",
       "  </thead>\n",
       "  <tbody>\n",
       "    <tr>\n",
       "      <th>0</th>\n",
       "      <td>1</td>\n",
       "      <td>2019-05-03 11:02:14</td>\n",
       "      <td>2019-05-03 11:06:02</td>\n",
       "      <td>0.305130</td>\n",
       "      <td>0.211253</td>\n",
       "    </tr>\n",
       "    <tr>\n",
       "      <th>1</th>\n",
       "      <td>1</td>\n",
       "      <td>2019-05-03 11:07:28</td>\n",
       "      <td>2019-05-03 11:10:33</td>\n",
       "      <td>0.765658</td>\n",
       "      <td>0.477438</td>\n",
       "    </tr>\n",
       "    <tr>\n",
       "      <th>2</th>\n",
       "      <td>1</td>\n",
       "      <td>2019-05-03 11:11:44</td>\n",
       "      <td>2019-05-03 11:14:36</td>\n",
       "      <td>0.580313</td>\n",
       "      <td>0.430460</td>\n",
       "    </tr>\n",
       "    <tr>\n",
       "      <th>3</th>\n",
       "      <td>1</td>\n",
       "      <td>2019-05-03 11:18:14</td>\n",
       "      <td>2019-05-03 11:24:19</td>\n",
       "      <td>0.518496</td>\n",
       "      <td>0.379979</td>\n",
       "    </tr>\n",
       "    <tr>\n",
       "      <th>4</th>\n",
       "      <td>1</td>\n",
       "      <td>2019-05-03 11:26:09</td>\n",
       "      <td>2019-05-03 11:28:37</td>\n",
       "      <td>0.867133</td>\n",
       "      <td>0.643691</td>\n",
       "    </tr>\n",
       "    <tr>\n",
       "      <th>...</th>\n",
       "      <td>...</td>\n",
       "      <td>...</td>\n",
       "      <td>...</td>\n",
       "      <td>...</td>\n",
       "      <td>...</td>\n",
       "    </tr>\n",
       "    <tr>\n",
       "      <th>14871</th>\n",
       "      <td>3241</td>\n",
       "      <td>2019-09-06 16:49:05</td>\n",
       "      <td>2019-09-06 16:51:42</td>\n",
       "      <td>0.439735</td>\n",
       "      <td>0.299579</td>\n",
       "    </tr>\n",
       "    <tr>\n",
       "      <th>14872</th>\n",
       "      <td>3241</td>\n",
       "      <td>2019-09-06 16:55:11</td>\n",
       "      <td>2019-09-06 16:58:11</td>\n",
       "      <td>0.646498</td>\n",
       "      <td>0.458240</td>\n",
       "    </tr>\n",
       "    <tr>\n",
       "      <th>14873</th>\n",
       "      <td>3241</td>\n",
       "      <td>2019-09-06 17:06:48</td>\n",
       "      <td>2019-09-06 17:09:52</td>\n",
       "      <td>1.039726</td>\n",
       "      <td>0.769302</td>\n",
       "    </tr>\n",
       "    <tr>\n",
       "      <th>14874</th>\n",
       "      <td>3241</td>\n",
       "      <td>2019-09-06 17:21:58</td>\n",
       "      <td>2019-09-06 17:22:55</td>\n",
       "      <td>0.530267</td>\n",
       "      <td>0.361543</td>\n",
       "    </tr>\n",
       "    <tr>\n",
       "      <th>14875</th>\n",
       "      <td>3241</td>\n",
       "      <td>2019-09-06 17:24:54</td>\n",
       "      <td>2019-09-06 17:26:15</td>\n",
       "      <td>0.389057</td>\n",
       "      <td>0.251347</td>\n",
       "    </tr>\n",
       "  </tbody>\n",
       "</table>\n",
       "<p>14876 rows × 5 columns</p>\n",
       "</div>"
      ],
      "text/plain": [
       "        key Начало нагрева дугой  Конец нагрева дугой  Активная мощность  \\\n",
       "0         1  2019-05-03 11:02:14  2019-05-03 11:06:02           0.305130   \n",
       "1         1  2019-05-03 11:07:28  2019-05-03 11:10:33           0.765658   \n",
       "2         1  2019-05-03 11:11:44  2019-05-03 11:14:36           0.580313   \n",
       "3         1  2019-05-03 11:18:14  2019-05-03 11:24:19           0.518496   \n",
       "4         1  2019-05-03 11:26:09  2019-05-03 11:28:37           0.867133   \n",
       "...     ...                  ...                  ...                ...   \n",
       "14871  3241  2019-09-06 16:49:05  2019-09-06 16:51:42           0.439735   \n",
       "14872  3241  2019-09-06 16:55:11  2019-09-06 16:58:11           0.646498   \n",
       "14873  3241  2019-09-06 17:06:48  2019-09-06 17:09:52           1.039726   \n",
       "14874  3241  2019-09-06 17:21:58  2019-09-06 17:22:55           0.530267   \n",
       "14875  3241  2019-09-06 17:24:54  2019-09-06 17:26:15           0.389057   \n",
       "\n",
       "       Реактивная мощность  \n",
       "0                 0.211253  \n",
       "1                 0.477438  \n",
       "2                 0.430460  \n",
       "3                 0.379979  \n",
       "4                 0.643691  \n",
       "...                    ...  \n",
       "14871             0.299579  \n",
       "14872             0.458240  \n",
       "14873             0.769302  \n",
       "14874             0.361543  \n",
       "14875             0.251347  \n",
       "\n",
       "[14876 rows x 5 columns]"
      ]
     },
     "execution_count": 15,
     "metadata": {},
     "output_type": "execute_result"
    }
   ],
   "source": [
    "data_arc"
   ]
  },
  {
   "cell_type": "code",
   "execution_count": null,
   "id": "74e13118",
   "metadata": {
    "id": "74e13118",
    "outputId": "69c2073a-af40-4d18-b638-2ded5bd52d53"
   },
   "outputs": [
    {
     "name": "stdout",
     "output_type": "stream",
     "text": [
      "<class 'pandas.core.frame.DataFrame'>\n",
      "RangeIndex: 14876 entries, 0 to 14875\n",
      "Data columns (total 5 columns):\n",
      " #   Column                Non-Null Count  Dtype  \n",
      "---  ------                --------------  -----  \n",
      " 0   key                   14876 non-null  int64  \n",
      " 1   Начало нагрева дугой  14876 non-null  object \n",
      " 2   Конец нагрева дугой   14876 non-null  object \n",
      " 3   Активная мощность     14876 non-null  float64\n",
      " 4   Реактивная мощность   14876 non-null  float64\n",
      "dtypes: float64(2), int64(1), object(2)\n",
      "memory usage: 581.2+ KB\n"
     ]
    }
   ],
   "source": [
    "data_arc.info()"
   ]
  },
  {
   "cell_type": "code",
   "execution_count": null,
   "id": "a60dd1be",
   "metadata": {
    "id": "a60dd1be",
    "outputId": "13f21387-c283-47ab-fefd-26f5200378d8"
   },
   "outputs": [
    {
     "data": {
      "text/plain": [
       "<AxesSubplot:>"
      ]
     },
     "execution_count": 17,
     "metadata": {},
     "output_type": "execute_result"
    },
    {
     "data": {
      "image/png": "[encoded data removed]",
      "text/plain": [
       "<Figure size 432x288 with 1 Axes>"
      ]
     },
     "metadata": {
      "needs_background": "light"
     },
     "output_type": "display_data"
    }
   ],
   "source": [
    "data_arc['Активная мощность'].hist(bins=100)"
   ]
  },
  {
   "cell_type": "markdown",
   "id": "c7b568d1",
   "metadata": {
    "id": "c7b568d1"
   },
   "source": [
    "Тут все ок с данными"
   ]
  },
  {
   "cell_type": "code",
   "execution_count": null,
   "id": "2f9134d8",
   "metadata": {
    "id": "2f9134d8",
    "outputId": "ebe5573b-b2a4-4706-a23e-5c993a493a72"
   },
   "outputs": [
    {
     "data": {
      "text/plain": [
       "<AxesSubplot:>"
      ]
     },
     "execution_count": 18,
     "metadata": {},
     "output_type": "execute_result"
    },
    {
     "data": {
      "image/png": "[encoded data removed]",
      "text/plain": [
       "<Figure size 432x288 with 1 Axes>"
      ]
     },
     "metadata": {
      "needs_background": "light"
     },
     "output_type": "display_data"
    }
   ],
   "source": [
    "data_arc['Реактивная мощность'].hist(bins=100)"
   ]
  },
  {
   "cell_type": "markdown",
   "id": "9125ffc9",
   "metadata": {
    "id": "9125ffc9"
   },
   "source": [
    "Тут какие то выборосы идут."
   ]
  },
  {
   "cell_type": "code",
   "execution_count": null,
   "id": "7119e48f",
   "metadata": {
    "id": "7119e48f",
    "outputId": "1975f4e2-43ac-4283-8b94-7d81af1b5a71"
   },
   "outputs": [
    {
     "data": {
      "text/plain": [
       "count    14876.000000\n",
       "mean         0.438986\n",
       "std          5.873485\n",
       "min       -715.479924\n",
       "25%          0.337175\n",
       "50%          0.441639\n",
       "75%          0.608201\n",
       "max          1.270284\n",
       "Name: Реактивная мощность, dtype: float64"
      ]
     },
     "execution_count": 19,
     "metadata": {},
     "output_type": "execute_result"
    }
   ],
   "source": [
    "data_arc['Реактивная мощность'].describe()"
   ]
  },
  {
   "cell_type": "code",
   "execution_count": null,
   "id": "b818345a",
   "metadata": {
    "id": "b818345a",
    "outputId": "5bd75ff4-78a1-4ad7-d212-ef0e9a09f3fa"
   },
   "outputs": [
    {
     "data": {
      "text/html": [
       "<div>\n",
       "<style scoped>\n",
       "    .dataframe tbody tr th:only-of-type {\n",
       "        vertical-align: middle;\n",
       "    }\n",
       "\n",
       "    .dataframe tbody tr th {\n",
       "        vertical-align: top;\n",
       "    }\n",
       "\n",
       "    .dataframe thead th {\n",
       "        text-align: right;\n",
       "    }\n",
       "</style>\n",
       "<table border=\"1\" class=\"dataframe\">\n",
       "  <thead>\n",
       "    <tr style=\"text-align: right;\">\n",
       "      <th></th>\n",
       "      <th>key</th>\n",
       "      <th>Начало нагрева дугой</th>\n",
       "      <th>Конец нагрева дугой</th>\n",
       "      <th>Активная мощность</th>\n",
       "      <th>Реактивная мощность</th>\n",
       "    </tr>\n",
       "  </thead>\n",
       "  <tbody>\n",
       "    <tr>\n",
       "      <th>9780</th>\n",
       "      <td>2116</td>\n",
       "      <td>2019-07-28 02:22:08</td>\n",
       "      <td>2019-07-28 02:23:57</td>\n",
       "      <td>0.705344</td>\n",
       "      <td>-715.479924</td>\n",
       "    </tr>\n",
       "  </tbody>\n",
       "</table>\n",
       "</div>"
      ],
      "text/plain": [
       "       key Начало нагрева дугой  Конец нагрева дугой  Активная мощность  \\\n",
       "9780  2116  2019-07-28 02:22:08  2019-07-28 02:23:57           0.705344   \n",
       "\n",
       "      Реактивная мощность  \n",
       "9780          -715.479924  "
      ]
     },
     "execution_count": 20,
     "metadata": {},
     "output_type": "execute_result"
    }
   ],
   "source": [
    "data_arc[data_arc['Реактивная мощность'] < 0]"
   ]
  },
  {
   "cell_type": "markdown",
   "id": "00d5b05e",
   "metadata": {
    "id": "00d5b05e"
   },
   "source": [
    "Дропнем выброс и сохраним дата сет. По ТЗ заказчика  нужно удалить ключ(партию) с отрицателbьной мощностью. key = 2116"
   ]
  },
  {
   "cell_type": "code",
   "execution_count": null,
   "id": "d99a3148",
   "metadata": {
    "id": "d99a3148",
    "outputId": "9128a2bb-c131-4624-9de8-b96bc1145d59"
   },
   "outputs": [
    {
     "data": {
      "text/plain": [
       "array([2116])"
      ]
     },
     "execution_count": 21,
     "metadata": {},
     "output_type": "execute_result"
    }
   ],
   "source": [
    "# номера ключей с  отрицательной рекативной мощностью\n",
    "key_for_drop = data_arc[data_arc['Реактивная мощность'] < 0]['key'].values\n",
    "key_for_drop"
   ]
  },
  {
   "cell_type": "code",
   "execution_count": null,
   "id": "e980e42d",
   "metadata": {
    "id": "e980e42d"
   },
   "outputs": [],
   "source": [
    "#дроп строк с ключами не нужными\n",
    "data_arc = data_arc.query('key not in @key_for_drop')"
   ]
  },
  {
   "cell_type": "code",
   "execution_count": null,
   "id": "0459f51d",
   "metadata": {
    "id": "0459f51d",
    "outputId": "aaef84d1-76b1-437a-d020-4026442f7998"
   },
   "outputs": [
    {
     "data": {
      "text/html": [
       "<div>\n",
       "<style scoped>\n",
       "    .dataframe tbody tr th:only-of-type {\n",
       "        vertical-align: middle;\n",
       "    }\n",
       "\n",
       "    .dataframe tbody tr th {\n",
       "        vertical-align: top;\n",
       "    }\n",
       "\n",
       "    .dataframe thead th {\n",
       "        text-align: right;\n",
       "    }\n",
       "</style>\n",
       "<table border=\"1\" class=\"dataframe\">\n",
       "  <thead>\n",
       "    <tr style=\"text-align: right;\">\n",
       "      <th></th>\n",
       "      <th>key</th>\n",
       "      <th>Начало нагрева дугой</th>\n",
       "      <th>Конец нагрева дугой</th>\n",
       "      <th>Активная мощность</th>\n",
       "      <th>Реактивная мощность</th>\n",
       "    </tr>\n",
       "  </thead>\n",
       "  <tbody>\n",
       "  </tbody>\n",
       "</table>\n",
       "</div>"
      ],
      "text/plain": [
       "Empty DataFrame\n",
       "Columns: [key, Начало нагрева дугой, Конец нагрева дугой, Активная мощность, Реактивная мощность]\n",
       "Index: []"
      ]
     },
     "execution_count": 23,
     "metadata": {},
     "output_type": "execute_result"
    }
   ],
   "source": [
    "#проверка\n",
    "data_arc[data_arc['Реактивная мощность'] < 0]"
   ]
  },
  {
   "cell_type": "code",
   "execution_count": null,
   "id": "8d1d5b0e",
   "metadata": {
    "id": "8d1d5b0e",
    "outputId": "75e49b72-9354-4d29-f893-1a5be64b057f"
   },
   "outputs": [
    {
     "data": {
      "text/plain": [
       "<AxesSubplot:>"
      ]
     },
     "execution_count": 24,
     "metadata": {},
     "output_type": "execute_result"
    },
    {
     "data": {
      "image/png": "[encoded data removed]",
      "text/plain": [
       "<Figure size 432x288 with 1 Axes>"
      ]
     },
     "metadata": {
      "needs_background": "light"
     },
     "output_type": "display_data"
    }
   ],
   "source": [
    "data_arc['Реактивная мощность'].hist(bins=100)"
   ]
  },
  {
   "cell_type": "markdown",
   "id": "7e9fbb43",
   "metadata": {
    "id": "7e9fbb43"
   },
   "source": [
    "**Вывод** : Пропусков нет. Выброс дропнут. Можно рабоать."
   ]
  },
  {
   "cell_type": "markdown",
   "id": "4490a168",
   "metadata": {
    "id": "4490a168"
   },
   "source": [
    "### data_bulk_new.csv — данные о подаче сыпучих материалов (объём);"
   ]
  },
  {
   "cell_type": "code",
   "execution_count": null,
   "id": "5dd2a163",
   "metadata": {
    "id": "5dd2a163",
    "outputId": "b084f184-91e9-4f76-f8a4-039393b89a9a"
   },
   "outputs": [
    {
     "data": {
      "text/html": [
       "<div>\n",
       "<style scoped>\n",
       "    .dataframe tbody tr th:only-of-type {\n",
       "        vertical-align: middle;\n",
       "    }\n",
       "\n",
       "    .dataframe tbody tr th {\n",
       "        vertical-align: top;\n",
       "    }\n",
       "\n",
       "    .dataframe thead th {\n",
       "        text-align: right;\n",
       "    }\n",
       "</style>\n",
       "<table border=\"1\" class=\"dataframe\">\n",
       "  <thead>\n",
       "    <tr style=\"text-align: right;\">\n",
       "      <th></th>\n",
       "      <th>key</th>\n",
       "      <th>Bulk 1</th>\n",
       "      <th>Bulk 2</th>\n",
       "      <th>Bulk 3</th>\n",
       "      <th>Bulk 4</th>\n",
       "      <th>Bulk 5</th>\n",
       "      <th>Bulk 6</th>\n",
       "      <th>Bulk 7</th>\n",
       "      <th>Bulk 8</th>\n",
       "      <th>Bulk 9</th>\n",
       "      <th>Bulk 10</th>\n",
       "      <th>Bulk 11</th>\n",
       "      <th>Bulk 12</th>\n",
       "      <th>Bulk 13</th>\n",
       "      <th>Bulk 14</th>\n",
       "      <th>Bulk 15</th>\n",
       "    </tr>\n",
       "  </thead>\n",
       "  <tbody>\n",
       "    <tr>\n",
       "      <th>0</th>\n",
       "      <td>1</td>\n",
       "      <td>NaN</td>\n",
       "      <td>NaN</td>\n",
       "      <td>NaN</td>\n",
       "      <td>43.0</td>\n",
       "      <td>NaN</td>\n",
       "      <td>NaN</td>\n",
       "      <td>NaN</td>\n",
       "      <td>NaN</td>\n",
       "      <td>NaN</td>\n",
       "      <td>NaN</td>\n",
       "      <td>NaN</td>\n",
       "      <td>206.0</td>\n",
       "      <td>NaN</td>\n",
       "      <td>150.0</td>\n",
       "      <td>154.0</td>\n",
       "    </tr>\n",
       "    <tr>\n",
       "      <th>1</th>\n",
       "      <td>2</td>\n",
       "      <td>NaN</td>\n",
       "      <td>NaN</td>\n",
       "      <td>NaN</td>\n",
       "      <td>73.0</td>\n",
       "      <td>NaN</td>\n",
       "      <td>NaN</td>\n",
       "      <td>NaN</td>\n",
       "      <td>NaN</td>\n",
       "      <td>NaN</td>\n",
       "      <td>NaN</td>\n",
       "      <td>NaN</td>\n",
       "      <td>206.0</td>\n",
       "      <td>NaN</td>\n",
       "      <td>149.0</td>\n",
       "      <td>154.0</td>\n",
       "    </tr>\n",
       "    <tr>\n",
       "      <th>2</th>\n",
       "      <td>3</td>\n",
       "      <td>NaN</td>\n",
       "      <td>NaN</td>\n",
       "      <td>NaN</td>\n",
       "      <td>34.0</td>\n",
       "      <td>NaN</td>\n",
       "      <td>NaN</td>\n",
       "      <td>NaN</td>\n",
       "      <td>NaN</td>\n",
       "      <td>NaN</td>\n",
       "      <td>NaN</td>\n",
       "      <td>NaN</td>\n",
       "      <td>205.0</td>\n",
       "      <td>NaN</td>\n",
       "      <td>152.0</td>\n",
       "      <td>153.0</td>\n",
       "    </tr>\n",
       "  </tbody>\n",
       "</table>\n",
       "</div>"
      ],
      "text/plain": [
       "   key  Bulk 1  Bulk 2  Bulk 3  Bulk 4  Bulk 5  Bulk 6  Bulk 7  Bulk 8  \\\n",
       "0    1     NaN     NaN     NaN    43.0     NaN     NaN     NaN     NaN   \n",
       "1    2     NaN     NaN     NaN    73.0     NaN     NaN     NaN     NaN   \n",
       "2    3     NaN     NaN     NaN    34.0     NaN     NaN     NaN     NaN   \n",
       "\n",
       "   Bulk 9  Bulk 10  Bulk 11  Bulk 12  Bulk 13  Bulk 14  Bulk 15  \n",
       "0     NaN      NaN      NaN    206.0      NaN    150.0    154.0  \n",
       "1     NaN      NaN      NaN    206.0      NaN    149.0    154.0  \n",
       "2     NaN      NaN      NaN    205.0      NaN    152.0    153.0  "
      ]
     },
     "execution_count": 25,
     "metadata": {},
     "output_type": "execute_result"
    }
   ],
   "source": [
    "data_bulk.head(3)"
   ]
  },
  {
   "cell_type": "code",
   "execution_count": null,
   "id": "5f3bc011",
   "metadata": {
    "id": "5f3bc011",
    "outputId": "34c6ef14-d866-47cd-8011-51d1e383171d"
   },
   "outputs": [
    {
     "name": "stdout",
     "output_type": "stream",
     "text": [
      "<class 'pandas.core.frame.DataFrame'>\n",
      "RangeIndex: 3129 entries, 0 to 3128\n",
      "Data columns (total 16 columns):\n",
      " #   Column   Non-Null Count  Dtype  \n",
      "---  ------   --------------  -----  \n",
      " 0   key      3129 non-null   int64  \n",
      " 1   Bulk 1   252 non-null    float64\n",
      " 2   Bulk 2   22 non-null     float64\n",
      " 3   Bulk 3   1298 non-null   float64\n",
      " 4   Bulk 4   1014 non-null   float64\n",
      " 5   Bulk 5   77 non-null     float64\n",
      " 6   Bulk 6   576 non-null    float64\n",
      " 7   Bulk 7   25 non-null     float64\n",
      " 8   Bulk 8   1 non-null      float64\n",
      " 9   Bulk 9   19 non-null     float64\n",
      " 10  Bulk 10  176 non-null    float64\n",
      " 11  Bulk 11  177 non-null    float64\n",
      " 12  Bulk 12  2450 non-null   float64\n",
      " 13  Bulk 13  18 non-null     float64\n",
      " 14  Bulk 14  2806 non-null   float64\n",
      " 15  Bulk 15  2248 non-null   float64\n",
      "dtypes: float64(15), int64(1)\n",
      "memory usage: 391.2 KB\n"
     ]
    }
   ],
   "source": [
    "data_bulk.info()"
   ]
  },
  {
   "cell_type": "markdown",
   "id": "2b1ddfcf",
   "metadata": {
    "id": "2b1ddfcf"
   },
   "source": [
    "**Вывод** пропусков много. По разному сыпучие материалы подавались. Пока ничего делать не нужно"
   ]
  },
  {
   "cell_type": "markdown",
   "id": "0861b3d1",
   "metadata": {
    "id": "0861b3d1"
   },
   "source": [
    "### data_bulk_time_new.csv — данные о подаче сыпучих материалов (время);"
   ]
  },
  {
   "cell_type": "code",
   "execution_count": null,
   "id": "274c94ef",
   "metadata": {
    "id": "274c94ef",
    "outputId": "1903d927-20c1-4fce-b43e-1953373cbdd3"
   },
   "outputs": [
    {
     "data": {
      "text/html": [
       "<div>\n",
       "<style scoped>\n",
       "    .dataframe tbody tr th:only-of-type {\n",
       "        vertical-align: middle;\n",
       "    }\n",
       "\n",
       "    .dataframe tbody tr th {\n",
       "        vertical-align: top;\n",
       "    }\n",
       "\n",
       "    .dataframe thead th {\n",
       "        text-align: right;\n",
       "    }\n",
       "</style>\n",
       "<table border=\"1\" class=\"dataframe\">\n",
       "  <thead>\n",
       "    <tr style=\"text-align: right;\">\n",
       "      <th></th>\n",
       "      <th>key</th>\n",
       "      <th>Bulk 1</th>\n",
       "      <th>Bulk 2</th>\n",
       "      <th>Bulk 3</th>\n",
       "      <th>Bulk 4</th>\n",
       "      <th>Bulk 5</th>\n",
       "      <th>Bulk 6</th>\n",
       "      <th>Bulk 7</th>\n",
       "      <th>Bulk 8</th>\n",
       "      <th>Bulk 9</th>\n",
       "      <th>Bulk 10</th>\n",
       "      <th>Bulk 11</th>\n",
       "      <th>Bulk 12</th>\n",
       "      <th>Bulk 13</th>\n",
       "      <th>Bulk 14</th>\n",
       "      <th>Bulk 15</th>\n",
       "    </tr>\n",
       "  </thead>\n",
       "  <tbody>\n",
       "    <tr>\n",
       "      <th>0</th>\n",
       "      <td>1</td>\n",
       "      <td>NaN</td>\n",
       "      <td>NaN</td>\n",
       "      <td>NaN</td>\n",
       "      <td>2019-05-03 11:28:48</td>\n",
       "      <td>NaN</td>\n",
       "      <td>NaN</td>\n",
       "      <td>NaN</td>\n",
       "      <td>NaN</td>\n",
       "      <td>NaN</td>\n",
       "      <td>NaN</td>\n",
       "      <td>NaN</td>\n",
       "      <td>2019-05-03 11:24:31</td>\n",
       "      <td>NaN</td>\n",
       "      <td>2019-05-03 11:14:50</td>\n",
       "      <td>2019-05-03 11:10:43</td>\n",
       "    </tr>\n",
       "    <tr>\n",
       "      <th>1</th>\n",
       "      <td>2</td>\n",
       "      <td>NaN</td>\n",
       "      <td>NaN</td>\n",
       "      <td>NaN</td>\n",
       "      <td>2019-05-03 11:36:50</td>\n",
       "      <td>NaN</td>\n",
       "      <td>NaN</td>\n",
       "      <td>NaN</td>\n",
       "      <td>NaN</td>\n",
       "      <td>NaN</td>\n",
       "      <td>NaN</td>\n",
       "      <td>NaN</td>\n",
       "      <td>2019-05-03 11:53:30</td>\n",
       "      <td>NaN</td>\n",
       "      <td>2019-05-03 11:48:37</td>\n",
       "      <td>2019-05-03 11:44:39</td>\n",
       "    </tr>\n",
       "    <tr>\n",
       "      <th>2</th>\n",
       "      <td>3</td>\n",
       "      <td>NaN</td>\n",
       "      <td>NaN</td>\n",
       "      <td>NaN</td>\n",
       "      <td>2019-05-03 12:32:39</td>\n",
       "      <td>NaN</td>\n",
       "      <td>NaN</td>\n",
       "      <td>NaN</td>\n",
       "      <td>NaN</td>\n",
       "      <td>NaN</td>\n",
       "      <td>NaN</td>\n",
       "      <td>NaN</td>\n",
       "      <td>2019-05-03 12:27:13</td>\n",
       "      <td>NaN</td>\n",
       "      <td>2019-05-03 12:21:01</td>\n",
       "      <td>2019-05-03 12:16:16</td>\n",
       "    </tr>\n",
       "    <tr>\n",
       "      <th>3</th>\n",
       "      <td>4</td>\n",
       "      <td>NaN</td>\n",
       "      <td>NaN</td>\n",
       "      <td>NaN</td>\n",
       "      <td>2019-05-03 12:43:22</td>\n",
       "      <td>NaN</td>\n",
       "      <td>NaN</td>\n",
       "      <td>NaN</td>\n",
       "      <td>NaN</td>\n",
       "      <td>NaN</td>\n",
       "      <td>NaN</td>\n",
       "      <td>NaN</td>\n",
       "      <td>2019-05-03 12:58:00</td>\n",
       "      <td>NaN</td>\n",
       "      <td>2019-05-03 12:51:11</td>\n",
       "      <td>2019-05-03 12:46:36</td>\n",
       "    </tr>\n",
       "    <tr>\n",
       "      <th>4</th>\n",
       "      <td>5</td>\n",
       "      <td>NaN</td>\n",
       "      <td>NaN</td>\n",
       "      <td>NaN</td>\n",
       "      <td>2019-05-03 13:30:47</td>\n",
       "      <td>NaN</td>\n",
       "      <td>NaN</td>\n",
       "      <td>NaN</td>\n",
       "      <td>NaN</td>\n",
       "      <td>NaN</td>\n",
       "      <td>NaN</td>\n",
       "      <td>NaN</td>\n",
       "      <td>2019-05-03 13:30:47</td>\n",
       "      <td>NaN</td>\n",
       "      <td>2019-05-03 13:34:12</td>\n",
       "      <td>2019-05-03 13:30:47</td>\n",
       "    </tr>\n",
       "    <tr>\n",
       "      <th>...</th>\n",
       "      <td>...</td>\n",
       "      <td>...</td>\n",
       "      <td>...</td>\n",
       "      <td>...</td>\n",
       "      <td>...</td>\n",
       "      <td>...</td>\n",
       "      <td>...</td>\n",
       "      <td>...</td>\n",
       "      <td>...</td>\n",
       "      <td>...</td>\n",
       "      <td>...</td>\n",
       "      <td>...</td>\n",
       "      <td>...</td>\n",
       "      <td>...</td>\n",
       "      <td>...</td>\n",
       "      <td>...</td>\n",
       "    </tr>\n",
       "    <tr>\n",
       "      <th>3124</th>\n",
       "      <td>3237</td>\n",
       "      <td>NaN</td>\n",
       "      <td>NaN</td>\n",
       "      <td>2019-09-06 11:54:15</td>\n",
       "      <td>NaN</td>\n",
       "      <td>NaN</td>\n",
       "      <td>NaN</td>\n",
       "      <td>NaN</td>\n",
       "      <td>NaN</td>\n",
       "      <td>NaN</td>\n",
       "      <td>NaN</td>\n",
       "      <td>NaN</td>\n",
       "      <td>2019-09-06 11:49:45</td>\n",
       "      <td>NaN</td>\n",
       "      <td>2019-09-06 11:45:22</td>\n",
       "      <td>2019-09-06 11:40:06</td>\n",
       "    </tr>\n",
       "    <tr>\n",
       "      <th>3125</th>\n",
       "      <td>3238</td>\n",
       "      <td>NaN</td>\n",
       "      <td>NaN</td>\n",
       "      <td>2019-09-06 12:26:52</td>\n",
       "      <td>NaN</td>\n",
       "      <td>NaN</td>\n",
       "      <td>NaN</td>\n",
       "      <td>NaN</td>\n",
       "      <td>NaN</td>\n",
       "      <td>NaN</td>\n",
       "      <td>NaN</td>\n",
       "      <td>NaN</td>\n",
       "      <td>2019-09-06 12:18:35</td>\n",
       "      <td>NaN</td>\n",
       "      <td>2019-09-06 12:31:49</td>\n",
       "      <td>2019-09-06 12:26:52</td>\n",
       "    </tr>\n",
       "    <tr>\n",
       "      <th>3126</th>\n",
       "      <td>3239</td>\n",
       "      <td>NaN</td>\n",
       "      <td>NaN</td>\n",
       "      <td>NaN</td>\n",
       "      <td>NaN</td>\n",
       "      <td>NaN</td>\n",
       "      <td>2019-09-06 15:06:00</td>\n",
       "      <td>NaN</td>\n",
       "      <td>NaN</td>\n",
       "      <td>NaN</td>\n",
       "      <td>NaN</td>\n",
       "      <td>NaN</td>\n",
       "      <td>2019-09-06 15:01:44</td>\n",
       "      <td>NaN</td>\n",
       "      <td>2019-09-06 14:58:15</td>\n",
       "      <td>2019-09-06 14:48:06</td>\n",
       "    </tr>\n",
       "    <tr>\n",
       "      <th>3127</th>\n",
       "      <td>3240</td>\n",
       "      <td>NaN</td>\n",
       "      <td>NaN</td>\n",
       "      <td>NaN</td>\n",
       "      <td>NaN</td>\n",
       "      <td>NaN</td>\n",
       "      <td>2019-09-06 16:24:28</td>\n",
       "      <td>NaN</td>\n",
       "      <td>NaN</td>\n",
       "      <td>NaN</td>\n",
       "      <td>NaN</td>\n",
       "      <td>NaN</td>\n",
       "      <td>NaN</td>\n",
       "      <td>NaN</td>\n",
       "      <td>2019-09-06 16:07:29</td>\n",
       "      <td>2019-09-06 16:01:34</td>\n",
       "    </tr>\n",
       "    <tr>\n",
       "      <th>3128</th>\n",
       "      <td>3241</td>\n",
       "      <td>NaN</td>\n",
       "      <td>NaN</td>\n",
       "      <td>NaN</td>\n",
       "      <td>NaN</td>\n",
       "      <td>NaN</td>\n",
       "      <td>NaN</td>\n",
       "      <td>NaN</td>\n",
       "      <td>NaN</td>\n",
       "      <td>NaN</td>\n",
       "      <td>NaN</td>\n",
       "      <td>NaN</td>\n",
       "      <td>NaN</td>\n",
       "      <td>NaN</td>\n",
       "      <td>2019-09-06 17:26:33</td>\n",
       "      <td>2019-09-06 17:23:15</td>\n",
       "    </tr>\n",
       "  </tbody>\n",
       "</table>\n",
       "<p>3129 rows × 16 columns</p>\n",
       "</div>"
      ],
      "text/plain": [
       "       key Bulk 1 Bulk 2               Bulk 3               Bulk 4 Bulk 5  \\\n",
       "0        1    NaN    NaN                  NaN  2019-05-03 11:28:48    NaN   \n",
       "1        2    NaN    NaN                  NaN  2019-05-03 11:36:50    NaN   \n",
       "2        3    NaN    NaN                  NaN  2019-05-03 12:32:39    NaN   \n",
       "3        4    NaN    NaN                  NaN  2019-05-03 12:43:22    NaN   \n",
       "4        5    NaN    NaN                  NaN  2019-05-03 13:30:47    NaN   \n",
       "...    ...    ...    ...                  ...                  ...    ...   \n",
       "3124  3237    NaN    NaN  2019-09-06 11:54:15                  NaN    NaN   \n",
       "3125  3238    NaN    NaN  2019-09-06 12:26:52                  NaN    NaN   \n",
       "3126  3239    NaN    NaN                  NaN                  NaN    NaN   \n",
       "3127  3240    NaN    NaN                  NaN                  NaN    NaN   \n",
       "3128  3241    NaN    NaN                  NaN                  NaN    NaN   \n",
       "\n",
       "                   Bulk 6 Bulk 7 Bulk 8 Bulk 9 Bulk 10 Bulk 11  \\\n",
       "0                     NaN    NaN    NaN    NaN     NaN     NaN   \n",
       "1                     NaN    NaN    NaN    NaN     NaN     NaN   \n",
       "2                     NaN    NaN    NaN    NaN     NaN     NaN   \n",
       "3                     NaN    NaN    NaN    NaN     NaN     NaN   \n",
       "4                     NaN    NaN    NaN    NaN     NaN     NaN   \n",
       "...                   ...    ...    ...    ...     ...     ...   \n",
       "3124                  NaN    NaN    NaN    NaN     NaN     NaN   \n",
       "3125                  NaN    NaN    NaN    NaN     NaN     NaN   \n",
       "3126  2019-09-06 15:06:00    NaN    NaN    NaN     NaN     NaN   \n",
       "3127  2019-09-06 16:24:28    NaN    NaN    NaN     NaN     NaN   \n",
       "3128                  NaN    NaN    NaN    NaN     NaN     NaN   \n",
       "\n",
       "                  Bulk 12 Bulk 13              Bulk 14              Bulk 15  \n",
       "0     2019-05-03 11:24:31     NaN  2019-05-03 11:14:50  2019-05-03 11:10:43  \n",
       "1     2019-05-03 11:53:30     NaN  2019-05-03 11:48:37  2019-05-03 11:44:39  \n",
       "2     2019-05-03 12:27:13     NaN  2019-05-03 12:21:01  2019-05-03 12:16:16  \n",
       "3     2019-05-03 12:58:00     NaN  2019-05-03 12:51:11  2019-05-03 12:46:36  \n",
       "4     2019-05-03 13:30:47     NaN  2019-05-03 13:34:12  2019-05-03 13:30:47  \n",
       "...                   ...     ...                  ...                  ...  \n",
       "3124  2019-09-06 11:49:45     NaN  2019-09-06 11:45:22  2019-09-06 11:40:06  \n",
       "3125  2019-09-06 12:18:35     NaN  2019-09-06 12:31:49  2019-09-06 12:26:52  \n",
       "3126  2019-09-06 15:01:44     NaN  2019-09-06 14:58:15  2019-09-06 14:48:06  \n",
       "3127                  NaN     NaN  2019-09-06 16:07:29  2019-09-06 16:01:34  \n",
       "3128                  NaN     NaN  2019-09-06 17:26:33  2019-09-06 17:23:15  \n",
       "\n",
       "[3129 rows x 16 columns]"
      ]
     },
     "execution_count": 27,
     "metadata": {},
     "output_type": "execute_result"
    }
   ],
   "source": [
    "data_bulk_time"
   ]
  },
  {
   "cell_type": "markdown",
   "id": "bb819447",
   "metadata": {
    "id": "bb819447"
   },
   "source": [
    "**Вывод** Тут тоже разряженная таблица. Что логично из предыдущей"
   ]
  },
  {
   "cell_type": "markdown",
   "id": "db1a386a",
   "metadata": {
    "id": "db1a386a"
   },
   "source": [
    "### data_gas_new.csv — данные о продувке сплава газом"
   ]
  },
  {
   "cell_type": "code",
   "execution_count": null,
   "id": "b5f3b5dd",
   "metadata": {
    "id": "b5f3b5dd",
    "outputId": "1515543d-60bf-4dd4-9492-2d8194ddf2d4"
   },
   "outputs": [
    {
     "data": {
      "text/html": [
       "<div>\n",
       "<style scoped>\n",
       "    .dataframe tbody tr th:only-of-type {\n",
       "        vertical-align: middle;\n",
       "    }\n",
       "\n",
       "    .dataframe tbody tr th {\n",
       "        vertical-align: top;\n",
       "    }\n",
       "\n",
       "    .dataframe thead th {\n",
       "        text-align: right;\n",
       "    }\n",
       "</style>\n",
       "<table border=\"1\" class=\"dataframe\">\n",
       "  <thead>\n",
       "    <tr style=\"text-align: right;\">\n",
       "      <th></th>\n",
       "      <th>key</th>\n",
       "      <th>Газ 1</th>\n",
       "    </tr>\n",
       "  </thead>\n",
       "  <tbody>\n",
       "    <tr>\n",
       "      <th>0</th>\n",
       "      <td>1</td>\n",
       "      <td>29.749986</td>\n",
       "    </tr>\n",
       "    <tr>\n",
       "      <th>1</th>\n",
       "      <td>2</td>\n",
       "      <td>12.555561</td>\n",
       "    </tr>\n",
       "    <tr>\n",
       "      <th>2</th>\n",
       "      <td>3</td>\n",
       "      <td>28.554793</td>\n",
       "    </tr>\n",
       "    <tr>\n",
       "      <th>3</th>\n",
       "      <td>4</td>\n",
       "      <td>18.841219</td>\n",
       "    </tr>\n",
       "    <tr>\n",
       "      <th>4</th>\n",
       "      <td>5</td>\n",
       "      <td>5.413692</td>\n",
       "    </tr>\n",
       "    <tr>\n",
       "      <th>...</th>\n",
       "      <td>...</td>\n",
       "      <td>...</td>\n",
       "    </tr>\n",
       "    <tr>\n",
       "      <th>3234</th>\n",
       "      <td>3237</td>\n",
       "      <td>5.543905</td>\n",
       "    </tr>\n",
       "    <tr>\n",
       "      <th>3235</th>\n",
       "      <td>3238</td>\n",
       "      <td>6.745669</td>\n",
       "    </tr>\n",
       "    <tr>\n",
       "      <th>3236</th>\n",
       "      <td>3239</td>\n",
       "      <td>16.023518</td>\n",
       "    </tr>\n",
       "    <tr>\n",
       "      <th>3237</th>\n",
       "      <td>3240</td>\n",
       "      <td>11.863103</td>\n",
       "    </tr>\n",
       "    <tr>\n",
       "      <th>3238</th>\n",
       "      <td>3241</td>\n",
       "      <td>12.680959</td>\n",
       "    </tr>\n",
       "  </tbody>\n",
       "</table>\n",
       "<p>3239 rows × 2 columns</p>\n",
       "</div>"
      ],
      "text/plain": [
       "       key      Газ 1\n",
       "0        1  29.749986\n",
       "1        2  12.555561\n",
       "2        3  28.554793\n",
       "3        4  18.841219\n",
       "4        5   5.413692\n",
       "...    ...        ...\n",
       "3234  3237   5.543905\n",
       "3235  3238   6.745669\n",
       "3236  3239  16.023518\n",
       "3237  3240  11.863103\n",
       "3238  3241  12.680959\n",
       "\n",
       "[3239 rows x 2 columns]"
      ]
     },
     "execution_count": 28,
     "metadata": {},
     "output_type": "execute_result"
    }
   ],
   "source": [
    "data_gas"
   ]
  },
  {
   "cell_type": "code",
   "execution_count": null,
   "id": "738eaa3a",
   "metadata": {
    "id": "738eaa3a",
    "outputId": "318e5a4f-a698-40dc-abf7-09c5a431fd37"
   },
   "outputs": [
    {
     "name": "stdout",
     "output_type": "stream",
     "text": [
      "<class 'pandas.core.frame.DataFrame'>\n",
      "RangeIndex: 3239 entries, 0 to 3238\n",
      "Data columns (total 2 columns):\n",
      " #   Column  Non-Null Count  Dtype  \n",
      "---  ------  --------------  -----  \n",
      " 0   key     3239 non-null   int64  \n",
      " 1   Газ 1   3239 non-null   float64\n",
      "dtypes: float64(1), int64(1)\n",
      "memory usage: 50.7 KB\n"
     ]
    }
   ],
   "source": [
    "data_gas.info()"
   ]
  },
  {
   "cell_type": "code",
   "execution_count": null,
   "id": "b63c950c",
   "metadata": {
    "id": "b63c950c",
    "outputId": "a3f9c066-b791-4f2f-f213-71368afabc02"
   },
   "outputs": [
    {
     "data": {
      "text/plain": [
       "<AxesSubplot:>"
      ]
     },
     "execution_count": 30,
     "metadata": {},
     "output_type": "execute_result"
    },
    {
     "data": {
      "image/png": "[encoded data removed]",
      "text/plain": [
       "<Figure size 432x288 with 1 Axes>"
      ]
     },
     "metadata": {
      "needs_background": "light"
     },
     "output_type": "display_data"
    }
   ],
   "source": [
    "data_gas['Газ 1'].hist(bins=100)"
   ]
  },
  {
   "cell_type": "code",
   "execution_count": null,
   "id": "4d384d25",
   "metadata": {
    "id": "4d384d25",
    "outputId": "036e8814-8387-4a0e-eb44-dbbc9d0a43c8"
   },
   "outputs": [
    {
     "data": {
      "text/plain": [
       "count    3239.000000\n",
       "mean       11.002062\n",
       "std         6.220327\n",
       "min         0.008399\n",
       "25%         7.043089\n",
       "50%         9.836267\n",
       "75%        13.769915\n",
       "max        77.995040\n",
       "Name: Газ 1, dtype: float64"
      ]
     },
     "execution_count": 31,
     "metadata": {},
     "output_type": "execute_result"
    }
   ],
   "source": [
    "data_gas['Газ 1'].describe()"
   ]
  },
  {
   "cell_type": "markdown",
   "id": "682fb911",
   "metadata": {
    "id": "682fb911"
   },
   "source": [
    "**Вывод** Пропусков нет, на каждой партии продувается газом. Выбросы есть , но это скорее всего технологический процесс такой, а не ошибки в даных."
   ]
  },
  {
   "cell_type": "markdown",
   "id": "f579a0be",
   "metadata": {
    "id": "f579a0be"
   },
   "source": [
    "### data_temp_new.csv — результаты измерения температуры"
   ]
  },
  {
   "cell_type": "code",
   "execution_count": null,
   "id": "7588d3b1",
   "metadata": {
    "id": "7588d3b1",
    "outputId": "119abc7a-b390-41cf-f522-f3da08980e5a"
   },
   "outputs": [
    {
     "data": {
      "text/html": [
       "<div>\n",
       "<style scoped>\n",
       "    .dataframe tbody tr th:only-of-type {\n",
       "        vertical-align: middle;\n",
       "    }\n",
       "\n",
       "    .dataframe tbody tr th {\n",
       "        vertical-align: top;\n",
       "    }\n",
       "\n",
       "    .dataframe thead th {\n",
       "        text-align: right;\n",
       "    }\n",
       "</style>\n",
       "<table border=\"1\" class=\"dataframe\">\n",
       "  <thead>\n",
       "    <tr style=\"text-align: right;\">\n",
       "      <th></th>\n",
       "      <th>key</th>\n",
       "      <th>Время замера</th>\n",
       "      <th>Температура</th>\n",
       "    </tr>\n",
       "  </thead>\n",
       "  <tbody>\n",
       "    <tr>\n",
       "      <th>0</th>\n",
       "      <td>1</td>\n",
       "      <td>2019-05-03 11:02:04</td>\n",
       "      <td>1571.0</td>\n",
       "    </tr>\n",
       "    <tr>\n",
       "      <th>1</th>\n",
       "      <td>1</td>\n",
       "      <td>2019-05-03 11:07:18</td>\n",
       "      <td>1604.0</td>\n",
       "    </tr>\n",
       "    <tr>\n",
       "      <th>2</th>\n",
       "      <td>1</td>\n",
       "      <td>2019-05-03 11:11:34</td>\n",
       "      <td>1618.0</td>\n",
       "    </tr>\n",
       "    <tr>\n",
       "      <th>3</th>\n",
       "      <td>1</td>\n",
       "      <td>2019-05-03 11:18:04</td>\n",
       "      <td>1601.0</td>\n",
       "    </tr>\n",
       "    <tr>\n",
       "      <th>4</th>\n",
       "      <td>1</td>\n",
       "      <td>2019-05-03 11:25:59</td>\n",
       "      <td>1606.0</td>\n",
       "    </tr>\n",
       "    <tr>\n",
       "      <th>...</th>\n",
       "      <td>...</td>\n",
       "      <td>...</td>\n",
       "      <td>...</td>\n",
       "    </tr>\n",
       "    <tr>\n",
       "      <th>18087</th>\n",
       "      <td>3241</td>\n",
       "      <td>2019-09-06 16:55:01</td>\n",
       "      <td>NaN</td>\n",
       "    </tr>\n",
       "    <tr>\n",
       "      <th>18088</th>\n",
       "      <td>3241</td>\n",
       "      <td>2019-09-06 17:06:38</td>\n",
       "      <td>NaN</td>\n",
       "    </tr>\n",
       "    <tr>\n",
       "      <th>18089</th>\n",
       "      <td>3241</td>\n",
       "      <td>2019-09-06 17:21:48</td>\n",
       "      <td>NaN</td>\n",
       "    </tr>\n",
       "    <tr>\n",
       "      <th>18090</th>\n",
       "      <td>3241</td>\n",
       "      <td>2019-09-06 17:24:44</td>\n",
       "      <td>NaN</td>\n",
       "    </tr>\n",
       "    <tr>\n",
       "      <th>18091</th>\n",
       "      <td>3241</td>\n",
       "      <td>2019-09-06 17:30:05</td>\n",
       "      <td>NaN</td>\n",
       "    </tr>\n",
       "  </tbody>\n",
       "</table>\n",
       "<p>18092 rows × 3 columns</p>\n",
       "</div>"
      ],
      "text/plain": [
       "        key         Время замера  Температура\n",
       "0         1  2019-05-03 11:02:04       1571.0\n",
       "1         1  2019-05-03 11:07:18       1604.0\n",
       "2         1  2019-05-03 11:11:34       1618.0\n",
       "3         1  2019-05-03 11:18:04       1601.0\n",
       "4         1  2019-05-03 11:25:59       1606.0\n",
       "...     ...                  ...          ...\n",
       "18087  3241  2019-09-06 16:55:01          NaN\n",
       "18088  3241  2019-09-06 17:06:38          NaN\n",
       "18089  3241  2019-09-06 17:21:48          NaN\n",
       "18090  3241  2019-09-06 17:24:44          NaN\n",
       "18091  3241  2019-09-06 17:30:05          NaN\n",
       "\n",
       "[18092 rows x 3 columns]"
      ]
     },
     "execution_count": 32,
     "metadata": {},
     "output_type": "execute_result"
    }
   ],
   "source": [
    "data_temp"
   ]
  },
  {
   "cell_type": "code",
   "execution_count": null,
   "id": "b5e67bb0",
   "metadata": {
    "id": "b5e67bb0",
    "outputId": "6c276b4c-d3ea-4298-d8dc-71f357cad05e"
   },
   "outputs": [
    {
     "name": "stdout",
     "output_type": "stream",
     "text": [
      "<class 'pandas.core.frame.DataFrame'>\n",
      "RangeIndex: 18092 entries, 0 to 18091\n",
      "Data columns (total 3 columns):\n",
      " #   Column        Non-Null Count  Dtype  \n",
      "---  ------        --------------  -----  \n",
      " 0   key           18092 non-null  int64  \n",
      " 1   Время замера  18092 non-null  object \n",
      " 2   Температура   14665 non-null  float64\n",
      "dtypes: float64(1), int64(1), object(1)\n",
      "memory usage: 424.2+ KB\n"
     ]
    }
   ],
   "source": [
    "data_temp.info()"
   ]
  },
  {
   "cell_type": "code",
   "execution_count": null,
   "id": "a2d343e5",
   "metadata": {
    "id": "a2d343e5",
    "outputId": "1d543783-fd18-4263-a916-299a529c9aa1"
   },
   "outputs": [
    {
     "data": {
      "text/plain": [
       "<AxesSubplot:>"
      ]
     },
     "execution_count": 34,
     "metadata": {},
     "output_type": "execute_result"
    },
    {
     "data": {
      "image/png": "[encoded data removed]",
      "text/plain": [
       "<Figure size 432x288 with 1 Axes>"
      ]
     },
     "metadata": {
      "needs_background": "light"
     },
     "output_type": "display_data"
    }
   ],
   "source": [
    "data_temp['Температура'].hist(bins=100)"
   ]
  },
  {
   "cell_type": "markdown",
   "id": "9ea71798",
   "metadata": {
    "id": "9ea71798"
   },
   "source": [
    "**Вывод** .По части данных нет температуры. Скорее всего или они бесполезны и будут в дальнейшем откинуты"
   ]
  },
  {
   "cell_type": "markdown",
   "id": "1ae828e2",
   "metadata": {
    "id": "1ae828e2"
   },
   "source": [
    "### data_wire_new.csv — данные о проволочных материалах (объём)\n"
   ]
  },
  {
   "cell_type": "code",
   "execution_count": null,
   "id": "5aac0ff2",
   "metadata": {
    "id": "5aac0ff2",
    "outputId": "d6bb4840-a267-4c48-89b8-274bedab7915"
   },
   "outputs": [
    {
     "data": {
      "text/html": [
       "<div>\n",
       "<style scoped>\n",
       "    .dataframe tbody tr th:only-of-type {\n",
       "        vertical-align: middle;\n",
       "    }\n",
       "\n",
       "    .dataframe tbody tr th {\n",
       "        vertical-align: top;\n",
       "    }\n",
       "\n",
       "    .dataframe thead th {\n",
       "        text-align: right;\n",
       "    }\n",
       "</style>\n",
       "<table border=\"1\" class=\"dataframe\">\n",
       "  <thead>\n",
       "    <tr style=\"text-align: right;\">\n",
       "      <th></th>\n",
       "      <th>key</th>\n",
       "      <th>Wire 1</th>\n",
       "      <th>Wire 2</th>\n",
       "      <th>Wire 3</th>\n",
       "      <th>Wire 4</th>\n",
       "      <th>Wire 5</th>\n",
       "      <th>Wire 6</th>\n",
       "      <th>Wire 7</th>\n",
       "      <th>Wire 8</th>\n",
       "      <th>Wire 9</th>\n",
       "    </tr>\n",
       "  </thead>\n",
       "  <tbody>\n",
       "    <tr>\n",
       "      <th>0</th>\n",
       "      <td>1</td>\n",
       "      <td>60.059998</td>\n",
       "      <td>NaN</td>\n",
       "      <td>NaN</td>\n",
       "      <td>NaN</td>\n",
       "      <td>NaN</td>\n",
       "      <td>NaN</td>\n",
       "      <td>NaN</td>\n",
       "      <td>NaN</td>\n",
       "      <td>NaN</td>\n",
       "    </tr>\n",
       "    <tr>\n",
       "      <th>1</th>\n",
       "      <td>2</td>\n",
       "      <td>96.052315</td>\n",
       "      <td>NaN</td>\n",
       "      <td>NaN</td>\n",
       "      <td>NaN</td>\n",
       "      <td>NaN</td>\n",
       "      <td>NaN</td>\n",
       "      <td>NaN</td>\n",
       "      <td>NaN</td>\n",
       "      <td>NaN</td>\n",
       "    </tr>\n",
       "    <tr>\n",
       "      <th>2</th>\n",
       "      <td>3</td>\n",
       "      <td>91.160157</td>\n",
       "      <td>NaN</td>\n",
       "      <td>NaN</td>\n",
       "      <td>NaN</td>\n",
       "      <td>NaN</td>\n",
       "      <td>NaN</td>\n",
       "      <td>NaN</td>\n",
       "      <td>NaN</td>\n",
       "      <td>NaN</td>\n",
       "    </tr>\n",
       "    <tr>\n",
       "      <th>3</th>\n",
       "      <td>4</td>\n",
       "      <td>89.063515</td>\n",
       "      <td>NaN</td>\n",
       "      <td>NaN</td>\n",
       "      <td>NaN</td>\n",
       "      <td>NaN</td>\n",
       "      <td>NaN</td>\n",
       "      <td>NaN</td>\n",
       "      <td>NaN</td>\n",
       "      <td>NaN</td>\n",
       "    </tr>\n",
       "    <tr>\n",
       "      <th>4</th>\n",
       "      <td>5</td>\n",
       "      <td>89.238236</td>\n",
       "      <td>9.11456</td>\n",
       "      <td>NaN</td>\n",
       "      <td>NaN</td>\n",
       "      <td>NaN</td>\n",
       "      <td>NaN</td>\n",
       "      <td>NaN</td>\n",
       "      <td>NaN</td>\n",
       "      <td>NaN</td>\n",
       "    </tr>\n",
       "    <tr>\n",
       "      <th>...</th>\n",
       "      <td>...</td>\n",
       "      <td>...</td>\n",
       "      <td>...</td>\n",
       "      <td>...</td>\n",
       "      <td>...</td>\n",
       "      <td>...</td>\n",
       "      <td>...</td>\n",
       "      <td>...</td>\n",
       "      <td>...</td>\n",
       "      <td>...</td>\n",
       "    </tr>\n",
       "    <tr>\n",
       "      <th>3076</th>\n",
       "      <td>3237</td>\n",
       "      <td>38.088959</td>\n",
       "      <td>NaN</td>\n",
       "      <td>NaN</td>\n",
       "      <td>NaN</td>\n",
       "      <td>NaN</td>\n",
       "      <td>NaN</td>\n",
       "      <td>NaN</td>\n",
       "      <td>NaN</td>\n",
       "      <td>NaN</td>\n",
       "    </tr>\n",
       "    <tr>\n",
       "      <th>3077</th>\n",
       "      <td>3238</td>\n",
       "      <td>56.128799</td>\n",
       "      <td>NaN</td>\n",
       "      <td>NaN</td>\n",
       "      <td>NaN</td>\n",
       "      <td>NaN</td>\n",
       "      <td>NaN</td>\n",
       "      <td>NaN</td>\n",
       "      <td>NaN</td>\n",
       "      <td>NaN</td>\n",
       "    </tr>\n",
       "    <tr>\n",
       "      <th>3078</th>\n",
       "      <td>3239</td>\n",
       "      <td>143.357761</td>\n",
       "      <td>NaN</td>\n",
       "      <td>NaN</td>\n",
       "      <td>NaN</td>\n",
       "      <td>NaN</td>\n",
       "      <td>NaN</td>\n",
       "      <td>NaN</td>\n",
       "      <td>NaN</td>\n",
       "      <td>NaN</td>\n",
       "    </tr>\n",
       "    <tr>\n",
       "      <th>3079</th>\n",
       "      <td>3240</td>\n",
       "      <td>34.070400</td>\n",
       "      <td>NaN</td>\n",
       "      <td>NaN</td>\n",
       "      <td>NaN</td>\n",
       "      <td>NaN</td>\n",
       "      <td>NaN</td>\n",
       "      <td>NaN</td>\n",
       "      <td>NaN</td>\n",
       "      <td>NaN</td>\n",
       "    </tr>\n",
       "    <tr>\n",
       "      <th>3080</th>\n",
       "      <td>3241</td>\n",
       "      <td>63.117595</td>\n",
       "      <td>NaN</td>\n",
       "      <td>NaN</td>\n",
       "      <td>NaN</td>\n",
       "      <td>NaN</td>\n",
       "      <td>NaN</td>\n",
       "      <td>NaN</td>\n",
       "      <td>NaN</td>\n",
       "      <td>NaN</td>\n",
       "    </tr>\n",
       "  </tbody>\n",
       "</table>\n",
       "<p>3081 rows × 10 columns</p>\n",
       "</div>"
      ],
      "text/plain": [
       "       key      Wire 1   Wire 2  Wire 3  Wire 4  Wire 5  Wire 6  Wire 7  \\\n",
       "0        1   60.059998      NaN     NaN     NaN     NaN     NaN     NaN   \n",
       "1        2   96.052315      NaN     NaN     NaN     NaN     NaN     NaN   \n",
       "2        3   91.160157      NaN     NaN     NaN     NaN     NaN     NaN   \n",
       "3        4   89.063515      NaN     NaN     NaN     NaN     NaN     NaN   \n",
       "4        5   89.238236  9.11456     NaN     NaN     NaN     NaN     NaN   \n",
       "...    ...         ...      ...     ...     ...     ...     ...     ...   \n",
       "3076  3237   38.088959      NaN     NaN     NaN     NaN     NaN     NaN   \n",
       "3077  3238   56.128799      NaN     NaN     NaN     NaN     NaN     NaN   \n",
       "3078  3239  143.357761      NaN     NaN     NaN     NaN     NaN     NaN   \n",
       "3079  3240   34.070400      NaN     NaN     NaN     NaN     NaN     NaN   \n",
       "3080  3241   63.117595      NaN     NaN     NaN     NaN     NaN     NaN   \n",
       "\n",
       "      Wire 8  Wire 9  \n",
       "0        NaN     NaN  \n",
       "1        NaN     NaN  \n",
       "2        NaN     NaN  \n",
       "3        NaN     NaN  \n",
       "4        NaN     NaN  \n",
       "...      ...     ...  \n",
       "3076     NaN     NaN  \n",
       "3077     NaN     NaN  \n",
       "3078     NaN     NaN  \n",
       "3079     NaN     NaN  \n",
       "3080     NaN     NaN  \n",
       "\n",
       "[3081 rows x 10 columns]"
      ]
     },
     "execution_count": 35,
     "metadata": {},
     "output_type": "execute_result"
    }
   ],
   "source": [
    "data_wire"
   ]
  },
  {
   "cell_type": "code",
   "execution_count": null,
   "id": "62ac15ad",
   "metadata": {
    "id": "62ac15ad",
    "outputId": "f885ab00-51e4-45a0-8a6b-c4507a7f5c63"
   },
   "outputs": [
    {
     "name": "stdout",
     "output_type": "stream",
     "text": [
      "<class 'pandas.core.frame.DataFrame'>\n",
      "RangeIndex: 3081 entries, 0 to 3080\n",
      "Data columns (total 10 columns):\n",
      " #   Column  Non-Null Count  Dtype  \n",
      "---  ------  --------------  -----  \n",
      " 0   key     3081 non-null   int64  \n",
      " 1   Wire 1  3055 non-null   float64\n",
      " 2   Wire 2  1079 non-null   float64\n",
      " 3   Wire 3  63 non-null     float64\n",
      " 4   Wire 4  14 non-null     float64\n",
      " 5   Wire 5  1 non-null      float64\n",
      " 6   Wire 6  73 non-null     float64\n",
      " 7   Wire 7  11 non-null     float64\n",
      " 8   Wire 8  19 non-null     float64\n",
      " 9   Wire 9  29 non-null     float64\n",
      "dtypes: float64(9), int64(1)\n",
      "memory usage: 240.8 KB\n"
     ]
    }
   ],
   "source": [
    "data_wire.info()"
   ]
  },
  {
   "cell_type": "markdown",
   "id": "4a2c5b94",
   "metadata": {
    "id": "4a2c5b94"
   },
   "source": [
    "**Вывод** данные разрежены в силу технологических процессов"
   ]
  },
  {
   "cell_type": "markdown",
   "id": "54c83b7e",
   "metadata": {
    "id": "54c83b7e"
   },
   "source": [
    "### data_wire_time_new.csv — данные о проволочных материалах (время)"
   ]
  },
  {
   "cell_type": "code",
   "execution_count": null,
   "id": "784b72ab",
   "metadata": {
    "id": "784b72ab",
    "outputId": "13b2827f-410a-4a44-9d14-5f11c5c056c2"
   },
   "outputs": [
    {
     "data": {
      "text/html": [
       "<div>\n",
       "<style scoped>\n",
       "    .dataframe tbody tr th:only-of-type {\n",
       "        vertical-align: middle;\n",
       "    }\n",
       "\n",
       "    .dataframe tbody tr th {\n",
       "        vertical-align: top;\n",
       "    }\n",
       "\n",
       "    .dataframe thead th {\n",
       "        text-align: right;\n",
       "    }\n",
       "</style>\n",
       "<table border=\"1\" class=\"dataframe\">\n",
       "  <thead>\n",
       "    <tr style=\"text-align: right;\">\n",
       "      <th></th>\n",
       "      <th>key</th>\n",
       "      <th>Wire 1</th>\n",
       "      <th>Wire 2</th>\n",
       "      <th>Wire 3</th>\n",
       "      <th>Wire 4</th>\n",
       "      <th>Wire 5</th>\n",
       "      <th>Wire 6</th>\n",
       "      <th>Wire 7</th>\n",
       "      <th>Wire 8</th>\n",
       "      <th>Wire 9</th>\n",
       "    </tr>\n",
       "  </thead>\n",
       "  <tbody>\n",
       "    <tr>\n",
       "      <th>0</th>\n",
       "      <td>1</td>\n",
       "      <td>2019-05-03 11:06:19</td>\n",
       "      <td>NaN</td>\n",
       "      <td>NaN</td>\n",
       "      <td>NaN</td>\n",
       "      <td>NaN</td>\n",
       "      <td>NaN</td>\n",
       "      <td>NaN</td>\n",
       "      <td>NaN</td>\n",
       "      <td>NaN</td>\n",
       "    </tr>\n",
       "    <tr>\n",
       "      <th>1</th>\n",
       "      <td>2</td>\n",
       "      <td>2019-05-03 11:36:50</td>\n",
       "      <td>NaN</td>\n",
       "      <td>NaN</td>\n",
       "      <td>NaN</td>\n",
       "      <td>NaN</td>\n",
       "      <td>NaN</td>\n",
       "      <td>NaN</td>\n",
       "      <td>NaN</td>\n",
       "      <td>NaN</td>\n",
       "    </tr>\n",
       "    <tr>\n",
       "      <th>2</th>\n",
       "      <td>3</td>\n",
       "      <td>2019-05-03 12:11:46</td>\n",
       "      <td>NaN</td>\n",
       "      <td>NaN</td>\n",
       "      <td>NaN</td>\n",
       "      <td>NaN</td>\n",
       "      <td>NaN</td>\n",
       "      <td>NaN</td>\n",
       "      <td>NaN</td>\n",
       "      <td>NaN</td>\n",
       "    </tr>\n",
       "    <tr>\n",
       "      <th>3</th>\n",
       "      <td>4</td>\n",
       "      <td>2019-05-03 12:43:22</td>\n",
       "      <td>NaN</td>\n",
       "      <td>NaN</td>\n",
       "      <td>NaN</td>\n",
       "      <td>NaN</td>\n",
       "      <td>NaN</td>\n",
       "      <td>NaN</td>\n",
       "      <td>NaN</td>\n",
       "      <td>NaN</td>\n",
       "    </tr>\n",
       "    <tr>\n",
       "      <th>4</th>\n",
       "      <td>5</td>\n",
       "      <td>2019-05-03 13:20:44</td>\n",
       "      <td>2019-05-03 13:15:34</td>\n",
       "      <td>NaN</td>\n",
       "      <td>NaN</td>\n",
       "      <td>NaN</td>\n",
       "      <td>NaN</td>\n",
       "      <td>NaN</td>\n",
       "      <td>NaN</td>\n",
       "      <td>NaN</td>\n",
       "    </tr>\n",
       "    <tr>\n",
       "      <th>5</th>\n",
       "      <td>6</td>\n",
       "      <td>2019-05-03 13:57:27</td>\n",
       "      <td>2019-05-03 13:48:52</td>\n",
       "      <td>NaN</td>\n",
       "      <td>NaN</td>\n",
       "      <td>NaN</td>\n",
       "      <td>NaN</td>\n",
       "      <td>NaN</td>\n",
       "      <td>NaN</td>\n",
       "      <td>NaN</td>\n",
       "    </tr>\n",
       "    <tr>\n",
       "      <th>6</th>\n",
       "      <td>7</td>\n",
       "      <td>2019-05-03 14:18:58</td>\n",
       "      <td>NaN</td>\n",
       "      <td>NaN</td>\n",
       "      <td>NaN</td>\n",
       "      <td>NaN</td>\n",
       "      <td>NaN</td>\n",
       "      <td>NaN</td>\n",
       "      <td>NaN</td>\n",
       "      <td>NaN</td>\n",
       "    </tr>\n",
       "    <tr>\n",
       "      <th>7</th>\n",
       "      <td>8</td>\n",
       "      <td>2019-05-03 15:01:30</td>\n",
       "      <td>NaN</td>\n",
       "      <td>NaN</td>\n",
       "      <td>NaN</td>\n",
       "      <td>NaN</td>\n",
       "      <td>NaN</td>\n",
       "      <td>NaN</td>\n",
       "      <td>NaN</td>\n",
       "      <td>NaN</td>\n",
       "    </tr>\n",
       "    <tr>\n",
       "      <th>8</th>\n",
       "      <td>9</td>\n",
       "      <td>2019-05-03 15:45:44</td>\n",
       "      <td>2019-05-03 15:39:37</td>\n",
       "      <td>NaN</td>\n",
       "      <td>NaN</td>\n",
       "      <td>NaN</td>\n",
       "      <td>NaN</td>\n",
       "      <td>NaN</td>\n",
       "      <td>NaN</td>\n",
       "      <td>NaN</td>\n",
       "    </tr>\n",
       "    <tr>\n",
       "      <th>9</th>\n",
       "      <td>10</td>\n",
       "      <td>2019-05-03 16:27:00</td>\n",
       "      <td>2019-05-03 16:22:36</td>\n",
       "      <td>NaN</td>\n",
       "      <td>NaN</td>\n",
       "      <td>NaN</td>\n",
       "      <td>NaN</td>\n",
       "      <td>NaN</td>\n",
       "      <td>NaN</td>\n",
       "      <td>NaN</td>\n",
       "    </tr>\n",
       "  </tbody>\n",
       "</table>\n",
       "</div>"
      ],
      "text/plain": [
       "   key               Wire 1               Wire 2 Wire 3 Wire 4 Wire 5 Wire 6  \\\n",
       "0    1  2019-05-03 11:06:19                  NaN    NaN    NaN    NaN    NaN   \n",
       "1    2  2019-05-03 11:36:50                  NaN    NaN    NaN    NaN    NaN   \n",
       "2    3  2019-05-03 12:11:46                  NaN    NaN    NaN    NaN    NaN   \n",
       "3    4  2019-05-03 12:43:22                  NaN    NaN    NaN    NaN    NaN   \n",
       "4    5  2019-05-03 13:20:44  2019-05-03 13:15:34    NaN    NaN    NaN    NaN   \n",
       "5    6  2019-05-03 13:57:27  2019-05-03 13:48:52    NaN    NaN    NaN    NaN   \n",
       "6    7  2019-05-03 14:18:58                  NaN    NaN    NaN    NaN    NaN   \n",
       "7    8  2019-05-03 15:01:30                  NaN    NaN    NaN    NaN    NaN   \n",
       "8    9  2019-05-03 15:45:44  2019-05-03 15:39:37    NaN    NaN    NaN    NaN   \n",
       "9   10  2019-05-03 16:27:00  2019-05-03 16:22:36    NaN    NaN    NaN    NaN   \n",
       "\n",
       "  Wire 7 Wire 8 Wire 9  \n",
       "0    NaN    NaN    NaN  \n",
       "1    NaN    NaN    NaN  \n",
       "2    NaN    NaN    NaN  \n",
       "3    NaN    NaN    NaN  \n",
       "4    NaN    NaN    NaN  \n",
       "5    NaN    NaN    NaN  \n",
       "6    NaN    NaN    NaN  \n",
       "7    NaN    NaN    NaN  \n",
       "8    NaN    NaN    NaN  \n",
       "9    NaN    NaN    NaN  "
      ]
     },
     "execution_count": 37,
     "metadata": {},
     "output_type": "execute_result"
    }
   ],
   "source": [
    "data_wire_time.head(10)"
   ]
  },
  {
   "cell_type": "code",
   "execution_count": null,
   "id": "5f875f7d",
   "metadata": {
    "id": "5f875f7d",
    "outputId": "3b38b6d5-c555-421d-d392-7b84b972b5d4"
   },
   "outputs": [
    {
     "name": "stdout",
     "output_type": "stream",
     "text": [
      "<class 'pandas.core.frame.DataFrame'>\n",
      "RangeIndex: 3081 entries, 0 to 3080\n",
      "Data columns (total 10 columns):\n",
      " #   Column  Non-Null Count  Dtype \n",
      "---  ------  --------------  ----- \n",
      " 0   key     3081 non-null   int64 \n",
      " 1   Wire 1  3055 non-null   object\n",
      " 2   Wire 2  1079 non-null   object\n",
      " 3   Wire 3  63 non-null     object\n",
      " 4   Wire 4  14 non-null     object\n",
      " 5   Wire 5  1 non-null      object\n",
      " 6   Wire 6  73 non-null     object\n",
      " 7   Wire 7  11 non-null     object\n",
      " 8   Wire 8  19 non-null     object\n",
      " 9   Wire 9  29 non-null     object\n",
      "dtypes: int64(1), object(9)\n",
      "memory usage: 240.8+ KB\n"
     ]
    }
   ],
   "source": [
    "data_wire_time.info()"
   ]
  },
  {
   "cell_type": "markdown",
   "id": "cdfea6cd",
   "metadata": {
    "id": "cdfea6cd"
   },
   "source": [
    "**Вывод** Данные так же разяржены. \n"
   ]
  },
  {
   "cell_type": "markdown",
   "id": "5736580e",
   "metadata": {
    "id": "5736580e"
   },
   "source": [
    "## План\n",
    "\n",
    "Проведите исследовательский анализ данных.  В конце Jupyter Notebook напишите:         \n",
    "Список уточняющих вопросов.             \n",
    "Примерный план решения задачи. Пропишите 3–5 основных шагов, каждый поясните не более двумя предложениями.            \n",
    "Цель проекта          "
   ]
  },
  {
   "cell_type": "markdown",
   "id": "c60c408f",
   "metadata": {
    "id": "c60c408f"
   },
   "source": [
    "**План:**\n",
    "1) Загрузка и анализ данных.   \n",
    "2) Подготовка дата_сета к ML. Объединение таблиц, генерация дополнительных фичей, пред обработка данных.   \n",
    "3) Обучение  моделей на кросс валидации, подоб гипер параметров, выбор лучшей.       \n",
    "4) Применение лучшей модели на тест  данных, анализ важности признаков.       \n",
    "5) Общий вывод по проекту         \n",
    "   \n",
    "\n"
   ]
  },
  {
   "cell_type": "markdown",
   "id": "e01b69a3",
   "metadata": {
    "id": "e01b69a3"
   },
   "source": [
    "# Подготовка   и объеденение данных для ML.     \n",
    "Для каждого ключа(партии) нужно выделить первую и последнию температуру. Это будет первая таблица с которрой будем остальные объеденять.      \n",
    "Последняя температура будет являться таргетом.    \n",
    "Нужно дропнуть ключи(все строки):     \n",
    " - где температура ниже 1500.\n",
    " - где нет первой и последней температуры .\n",
    " - где один замер температры\n",
    " - где отриц активная мощность(уже сделано в обработке данных).         \n",
    "\n",
    "\n",
    "Пропуски в подачи материалов нужно заполнить нулями. "
   ]
  },
  {
   "cell_type": "markdown",
   "id": "919bd4e5",
   "metadata": {
    "id": "919bd4e5"
   },
   "source": [
    "## Температура"
   ]
  },
  {
   "cell_type": "markdown",
   "id": "e2958919",
   "metadata": {
    "id": "e2958919"
   },
   "source": [
    "### Дроп с темп ниже 1500"
   ]
  },
  {
   "cell_type": "code",
   "execution_count": null,
   "id": "55ba6e0e",
   "metadata": {
    "id": "55ba6e0e",
    "outputId": "15460893-399c-4a8f-8e80-4e7ae003958d"
   },
   "outputs": [
    {
     "data": {
      "text/plain": [
       "(5, 3)"
      ]
     },
     "execution_count": 39,
     "metadata": {},
     "output_type": "execute_result"
    }
   ],
   "source": [
    "data_temp[ data_temp['Температура'] < 1500 ].shape"
   ]
  },
  {
   "cell_type": "code",
   "execution_count": null,
   "id": "ba76cab1",
   "metadata": {
    "id": "ba76cab1",
    "outputId": "557d4314-1ddd-433c-e1b1-c4f6d277af63"
   },
   "outputs": [
    {
     "data": {
      "text/plain": [
       "(5,)"
      ]
     },
     "execution_count": 40,
     "metadata": {},
     "output_type": "execute_result"
    }
   ],
   "source": [
    "# кллючи для дропа\n",
    "key_for_drop = data_temp[ data_temp['Температура'] < 1500 ]['key'].values\n",
    "key_for_drop.shape"
   ]
  },
  {
   "cell_type": "code",
   "execution_count": null,
   "id": "af712926",
   "metadata": {
    "id": "af712926",
    "outputId": "4802e2e8-94b0-44d1-d578-3a54fb79e8fb"
   },
   "outputs": [
    {
     "data": {
      "text/plain": [
       "(0, 3)"
      ]
     },
     "execution_count": 41,
     "metadata": {},
     "output_type": "execute_result"
    }
   ],
   "source": [
    "#дроп\n",
    "data_temp = data_temp.query('key not in @key_for_drop')\n",
    "#проверка\n",
    "data_temp[ data_temp['Температура'] < 1500 ].shape"
   ]
  },
  {
   "cell_type": "markdown",
   "id": "fab0a366",
   "metadata": {
    "id": "fab0a366"
   },
   "source": [
    "### дроп с темпер   NAN"
   ]
  },
  {
   "cell_type": "code",
   "execution_count": null,
   "id": "b45cab96",
   "metadata": {
    "id": "b45cab96",
    "outputId": "fdad4435-ca28-4a8c-e582-85027a9ed9d0"
   },
   "outputs": [
    {
     "data": {
      "text/plain": [
       "3211"
      ]
     },
     "execution_count": 42,
     "metadata": {},
     "output_type": "execute_result"
    }
   ],
   "source": [
    "# было ключей\n",
    "data_temp[data_temp['Температура'].notna()]['key'].nunique()"
   ]
  },
  {
   "cell_type": "code",
   "execution_count": null,
   "id": "67f7c770",
   "metadata": {
    "id": "67f7c770",
    "outputId": "dae156e9-cfc3-4c19-e78d-372b304efa5b"
   },
   "outputs": [
    {
     "name": "stdout",
     "output_type": "stream",
     "text": [
      "key_for_drop.shape (738,)\n"
     ]
    }
   ],
   "source": [
    "# ключи для дропа\n",
    "key_for_drop = data_temp[data_temp['Температура'].isna()]['key'].unique()\n",
    "print ('key_for_drop.shape',key_for_drop.shape)\n",
    "#дроп\n",
    "data_temp = data_temp.query('key not in @key_for_drop')"
   ]
  },
  {
   "cell_type": "code",
   "execution_count": null,
   "id": "3184b94f",
   "metadata": {
    "id": "3184b94f",
    "outputId": "abcb32b7-7f50-4bdf-f86e-2c572f0e2343"
   },
   "outputs": [
    {
     "data": {
      "text/plain": [
       "2473"
      ]
     },
     "execution_count": 44,
     "metadata": {},
     "output_type": "execute_result"
    }
   ],
   "source": [
    "# стало ключей\n",
    "data_temp['key'].nunique()"
   ]
  },
  {
   "cell_type": "markdown",
   "id": "9900d738",
   "metadata": {
    "id": "9900d738"
   },
   "source": [
    "### Подготовка дата сета с температурой"
   ]
  },
  {
   "cell_type": "code",
   "execution_count": null,
   "id": "303467c7",
   "metadata": {
    "id": "303467c7",
    "outputId": "70ad150d-db00-4302-8758-0ab74f9c6069",
    "scrolled": false
   },
   "outputs": [
    {
     "data": {
      "text/html": [
       "<div>\n",
       "<style scoped>\n",
       "    .dataframe tbody tr th:only-of-type {\n",
       "        vertical-align: middle;\n",
       "    }\n",
       "\n",
       "    .dataframe tbody tr th {\n",
       "        vertical-align: top;\n",
       "    }\n",
       "\n",
       "    .dataframe thead th {\n",
       "        text-align: right;\n",
       "    }\n",
       "</style>\n",
       "<table border=\"1\" class=\"dataframe\">\n",
       "  <thead>\n",
       "    <tr style=\"text-align: right;\">\n",
       "      <th></th>\n",
       "      <th>key</th>\n",
       "      <th>count</th>\n",
       "      <th>first</th>\n",
       "      <th>last</th>\n",
       "    </tr>\n",
       "  </thead>\n",
       "  <tbody>\n",
       "    <tr>\n",
       "      <th>0</th>\n",
       "      <td>1</td>\n",
       "      <td>6</td>\n",
       "      <td>1571.0</td>\n",
       "      <td>1613.0</td>\n",
       "    </tr>\n",
       "    <tr>\n",
       "      <th>1</th>\n",
       "      <td>2</td>\n",
       "      <td>5</td>\n",
       "      <td>1581.0</td>\n",
       "      <td>1602.0</td>\n",
       "    </tr>\n",
       "    <tr>\n",
       "      <th>2</th>\n",
       "      <td>3</td>\n",
       "      <td>6</td>\n",
       "      <td>1596.0</td>\n",
       "      <td>1599.0</td>\n",
       "    </tr>\n",
       "    <tr>\n",
       "      <th>3</th>\n",
       "      <td>4</td>\n",
       "      <td>5</td>\n",
       "      <td>1601.0</td>\n",
       "      <td>1625.0</td>\n",
       "    </tr>\n",
       "    <tr>\n",
       "      <th>4</th>\n",
       "      <td>5</td>\n",
       "      <td>5</td>\n",
       "      <td>1576.0</td>\n",
       "      <td>1602.0</td>\n",
       "    </tr>\n",
       "    <tr>\n",
       "      <th>...</th>\n",
       "      <td>...</td>\n",
       "      <td>...</td>\n",
       "      <td>...</td>\n",
       "      <td>...</td>\n",
       "    </tr>\n",
       "    <tr>\n",
       "      <th>2468</th>\n",
       "      <td>2495</td>\n",
       "      <td>5</td>\n",
       "      <td>1570.0</td>\n",
       "      <td>1591.0</td>\n",
       "    </tr>\n",
       "    <tr>\n",
       "      <th>2469</th>\n",
       "      <td>2496</td>\n",
       "      <td>7</td>\n",
       "      <td>1554.0</td>\n",
       "      <td>1591.0</td>\n",
       "    </tr>\n",
       "    <tr>\n",
       "      <th>2470</th>\n",
       "      <td>2497</td>\n",
       "      <td>4</td>\n",
       "      <td>1571.0</td>\n",
       "      <td>1589.0</td>\n",
       "    </tr>\n",
       "    <tr>\n",
       "      <th>2471</th>\n",
       "      <td>2498</td>\n",
       "      <td>6</td>\n",
       "      <td>1591.0</td>\n",
       "      <td>1594.0</td>\n",
       "    </tr>\n",
       "    <tr>\n",
       "      <th>2472</th>\n",
       "      <td>2499</td>\n",
       "      <td>5</td>\n",
       "      <td>1569.0</td>\n",
       "      <td>1603.0</td>\n",
       "    </tr>\n",
       "  </tbody>\n",
       "</table>\n",
       "<p>2473 rows × 4 columns</p>\n",
       "</div>"
      ],
      "text/plain": [
       "       key  count   first    last\n",
       "0        1      6  1571.0  1613.0\n",
       "1        2      5  1581.0  1602.0\n",
       "2        3      6  1596.0  1599.0\n",
       "3        4      5  1601.0  1625.0\n",
       "4        5      5  1576.0  1602.0\n",
       "...    ...    ...     ...     ...\n",
       "2468  2495      5  1570.0  1591.0\n",
       "2469  2496      7  1554.0  1591.0\n",
       "2470  2497      4  1571.0  1589.0\n",
       "2471  2498      6  1591.0  1594.0\n",
       "2472  2499      5  1569.0  1603.0\n",
       "\n",
       "[2473 rows x 4 columns]"
      ]
     },
     "execution_count": 45,
     "metadata": {},
     "output_type": "execute_result"
    }
   ],
   "source": [
    "#агрегация\n",
    "df_temp = data_temp.pivot_table(values='Температура',index='key', aggfunc=('first', 'last','count')).reset_index()\n",
    "df_temp "
   ]
  },
  {
   "cell_type": "code",
   "execution_count": null,
   "id": "62096c87",
   "metadata": {
    "id": "62096c87"
   },
   "outputs": [],
   "source": [
    "#выбросим ключи где одно измерение\n",
    "df_temp = df_temp[df_temp['count'] > 1]\n",
    "\n",
    "#выбросим ненужную колонку count\n",
    "df_temp = df_temp.drop('count',axis=1)\n",
    "\n",
    "# переименуем столбы \n",
    "df_temp = df_temp.rename(columns={'first':'first_temp', 'last':'last_temp'})"
   ]
  },
  {
   "cell_type": "code",
   "execution_count": null,
   "id": "96b16ebc",
   "metadata": {
    "id": "96b16ebc",
    "outputId": "6da45cc2-3d12-44c8-fd5a-0edffa9e1f9d",
    "scrolled": false
   },
   "outputs": [
    {
     "data": {
      "text/html": [
       "<div>\n",
       "<style scoped>\n",
       "    .dataframe tbody tr th:only-of-type {\n",
       "        vertical-align: middle;\n",
       "    }\n",
       "\n",
       "    .dataframe tbody tr th {\n",
       "        vertical-align: top;\n",
       "    }\n",
       "\n",
       "    .dataframe thead th {\n",
       "        text-align: right;\n",
       "    }\n",
       "</style>\n",
       "<table border=\"1\" class=\"dataframe\">\n",
       "  <thead>\n",
       "    <tr style=\"text-align: right;\">\n",
       "      <th></th>\n",
       "      <th>key</th>\n",
       "      <th>first_temp</th>\n",
       "      <th>last_temp</th>\n",
       "    </tr>\n",
       "  </thead>\n",
       "  <tbody>\n",
       "    <tr>\n",
       "      <th>0</th>\n",
       "      <td>1</td>\n",
       "      <td>1571.0</td>\n",
       "      <td>1613.0</td>\n",
       "    </tr>\n",
       "    <tr>\n",
       "      <th>1</th>\n",
       "      <td>2</td>\n",
       "      <td>1581.0</td>\n",
       "      <td>1602.0</td>\n",
       "    </tr>\n",
       "    <tr>\n",
       "      <th>2</th>\n",
       "      <td>3</td>\n",
       "      <td>1596.0</td>\n",
       "      <td>1599.0</td>\n",
       "    </tr>\n",
       "    <tr>\n",
       "      <th>3</th>\n",
       "      <td>4</td>\n",
       "      <td>1601.0</td>\n",
       "      <td>1625.0</td>\n",
       "    </tr>\n",
       "    <tr>\n",
       "      <th>4</th>\n",
       "      <td>5</td>\n",
       "      <td>1576.0</td>\n",
       "      <td>1602.0</td>\n",
       "    </tr>\n",
       "    <tr>\n",
       "      <th>...</th>\n",
       "      <td>...</td>\n",
       "      <td>...</td>\n",
       "      <td>...</td>\n",
       "    </tr>\n",
       "    <tr>\n",
       "      <th>2468</th>\n",
       "      <td>2495</td>\n",
       "      <td>1570.0</td>\n",
       "      <td>1591.0</td>\n",
       "    </tr>\n",
       "    <tr>\n",
       "      <th>2469</th>\n",
       "      <td>2496</td>\n",
       "      <td>1554.0</td>\n",
       "      <td>1591.0</td>\n",
       "    </tr>\n",
       "    <tr>\n",
       "      <th>2470</th>\n",
       "      <td>2497</td>\n",
       "      <td>1571.0</td>\n",
       "      <td>1589.0</td>\n",
       "    </tr>\n",
       "    <tr>\n",
       "      <th>2471</th>\n",
       "      <td>2498</td>\n",
       "      <td>1591.0</td>\n",
       "      <td>1594.0</td>\n",
       "    </tr>\n",
       "    <tr>\n",
       "      <th>2472</th>\n",
       "      <td>2499</td>\n",
       "      <td>1569.0</td>\n",
       "      <td>1603.0</td>\n",
       "    </tr>\n",
       "  </tbody>\n",
       "</table>\n",
       "<p>2471 rows × 3 columns</p>\n",
       "</div>"
      ],
      "text/plain": [
       "       key  first_temp  last_temp\n",
       "0        1      1571.0     1613.0\n",
       "1        2      1581.0     1602.0\n",
       "2        3      1596.0     1599.0\n",
       "3        4      1601.0     1625.0\n",
       "4        5      1576.0     1602.0\n",
       "...    ...         ...        ...\n",
       "2468  2495      1570.0     1591.0\n",
       "2469  2496      1554.0     1591.0\n",
       "2470  2497      1571.0     1589.0\n",
       "2471  2498      1591.0     1594.0\n",
       "2472  2499      1569.0     1603.0\n",
       "\n",
       "[2471 rows x 3 columns]"
      ]
     },
     "execution_count": 47,
     "metadata": {},
     "output_type": "execute_result"
    }
   ],
   "source": [
    "df_temp"
   ]
  },
  {
   "cell_type": "markdown",
   "id": "5e3493f8",
   "metadata": {
    "id": "5e3493f8"
   },
   "source": [
    "**Получили готовый датасетс  темпреатурами, далее к нему будем присоеденять остальные**"
   ]
  },
  {
   "cell_type": "markdown",
   "id": "abca556f",
   "metadata": {
    "id": "abca556f"
   },
   "source": [
    "## arc данные об электродах.    \n",
    "Добавим: \n",
    "- полную мощностьS = √ (P^2 + Q^2) , для каждого ключа возьмем средн , медиану,макс и  мин   \n",
    "-  время нагрева\n",
    "- работу  A = P*t. ПРосуммировав роботу на каждой итерации.Время в секундах берем.\n",
    " "
   ]
  },
  {
   "cell_type": "code",
   "execution_count": null,
   "id": "d915276e",
   "metadata": {
    "id": "d915276e",
    "outputId": "6ab374f5-6aa5-488d-b1f9-eb1a00cf6cc8"
   },
   "outputs": [
    {
     "name": "stdout",
     "output_type": "stream",
     "text": [
      "<class 'pandas.core.frame.DataFrame'>\n",
      "Int64Index: 14872 entries, 0 to 14875\n",
      "Data columns (total 5 columns):\n",
      " #   Column                Non-Null Count  Dtype  \n",
      "---  ------                --------------  -----  \n",
      " 0   key                   14872 non-null  int64  \n",
      " 1   Начало нагрева дугой  14872 non-null  object \n",
      " 2   Конец нагрева дугой   14872 non-null  object \n",
      " 3   Активная мощность     14872 non-null  float64\n",
      " 4   Реактивная мощность   14872 non-null  float64\n",
      "dtypes: float64(2), int64(1), object(2)\n",
      "memory usage: 697.1+ KB\n"
     ]
    }
   ],
   "source": [
    "data_arc.info()"
   ]
  },
  {
   "cell_type": "code",
   "execution_count": null,
   "id": "c0588173",
   "metadata": {
    "id": "c0588173",
    "outputId": "89fd4613-342a-44bb-9bf4-589d0e788aca"
   },
   "outputs": [
    {
     "name": "stderr",
     "output_type": "stream",
     "text": [
      "/opt/conda/lib/python3.9/site-packages/pandas/core/indexing.py:1676: SettingWithCopyWarning: \n",
      "A value is trying to be set on a copy of a slice from a DataFrame.\n",
      "Try using .loc[row_indexer,col_indexer] = value instead\n",
      "\n",
      "See the caveats in the documentation: https://pandas.pydata.org/pandas-docs/stable/user_guide/indexing.html#returning-a-view-versus-a-copy\n",
      "  self._setitem_single_column(ilocs[0], value, pi)\n"
     ]
    }
   ],
   "source": [
    "#для подсчета времени переведем в формат дата тайм\n",
    "data_arc.loc[:,'Начало нагрева дугой'] = data_arc['Начало нагрева дугой'].astype('datetime64')\n",
    "data_arc.loc[:,'Конец нагрева дугой'] = data_arc['Конец нагрева дугой'].astype('datetime64')\n"
   ]
  },
  {
   "cell_type": "code",
   "execution_count": null,
   "id": "797d8c25",
   "metadata": {
    "id": "797d8c25"
   },
   "outputs": [],
   "source": [
    "data_arc.loc[:,'Начало нагрева дугой'] = data_arc['Начало нагрева дугой'].astype('datetime64[ns]')\n",
    "data_arc.loc[:,'Конец нагрева дугой'] = data_arc['Конец нагрева дугой'].astype('datetime64[ns]')"
   ]
  },
  {
   "cell_type": "code",
   "execution_count": null,
   "id": "194e409c",
   "metadata": {
    "id": "194e409c",
    "outputId": "21baf750-bb56-4208-c348-bfd6ff8547e2"
   },
   "outputs": [
    {
     "name": "stdout",
     "output_type": "stream",
     "text": [
      "<class 'pandas.core.frame.DataFrame'>\n",
      "Int64Index: 14872 entries, 0 to 14875\n",
      "Data columns (total 5 columns):\n",
      " #   Column                Non-Null Count  Dtype         \n",
      "---  ------                --------------  -----         \n",
      " 0   key                   14872 non-null  int64         \n",
      " 1   Начало нагрева дугой  14872 non-null  datetime64[ns]\n",
      " 2   Конец нагрева дугой   14872 non-null  datetime64[ns]\n",
      " 3   Активная мощность     14872 non-null  float64       \n",
      " 4   Реактивная мощность   14872 non-null  float64       \n",
      "dtypes: datetime64[ns](2), float64(2), int64(1)\n",
      "memory usage: 697.1 KB\n"
     ]
    }
   ],
   "source": [
    "data_arc.info()"
   ]
  },
  {
   "cell_type": "code",
   "execution_count": null,
   "id": "8a3230a8",
   "metadata": {
    "id": "8a3230a8",
    "outputId": "54d8c39e-32c0-43e7-b672-5ab767ba7f2c"
   },
   "outputs": [
    {
     "name": "stderr",
     "output_type": "stream",
     "text": [
      "/opt/conda/lib/python3.9/site-packages/pandas/core/indexing.py:1597: SettingWithCopyWarning: \n",
      "A value is trying to be set on a copy of a slice from a DataFrame.\n",
      "Try using .loc[row_indexer,col_indexer] = value instead\n",
      "\n",
      "See the caveats in the documentation: https://pandas.pydata.org/pandas-docs/stable/user_guide/indexing.html#returning-a-view-versus-a-copy\n",
      "  self.obj[key] = value\n"
     ]
    }
   ],
   "source": [
    "#мощность\n",
    "data_arc.loc[:,'мощность_полная'] = (data_arc['Активная мощность']**2 + data_arc['Реактивная мощность']**2)**0.5"
   ]
  },
  {
   "cell_type": "code",
   "execution_count": null,
   "id": "bcc616a7",
   "metadata": {
    "id": "bcc616a7"
   },
   "outputs": [],
   "source": [
    "#время нагрева в секундах\n",
    "data_arc.loc[:,'время_нагрева_сек'] = (data_arc['Конец нагрева дугой'] - data_arc['Начало нагрева дугой'] ).dt.total_seconds()\n",
    "#работа на каждой итераци\n",
    "data_arc.loc[:,'работа'] = data_arc['время_нагрева_сек'] * data_arc['мощность_полная']"
   ]
  },
  {
   "cell_type": "code",
   "execution_count": null,
   "id": "c4454173",
   "metadata": {
    "id": "c4454173",
    "outputId": "e5cba466-f838-4ad8-9928-405c42a4a903"
   },
   "outputs": [
    {
     "data": {
      "text/html": [
       "<div>\n",
       "<style scoped>\n",
       "    .dataframe tbody tr th:only-of-type {\n",
       "        vertical-align: middle;\n",
       "    }\n",
       "\n",
       "    .dataframe tbody tr th {\n",
       "        vertical-align: top;\n",
       "    }\n",
       "\n",
       "    .dataframe thead th {\n",
       "        text-align: right;\n",
       "    }\n",
       "</style>\n",
       "<table border=\"1\" class=\"dataframe\">\n",
       "  <thead>\n",
       "    <tr style=\"text-align: right;\">\n",
       "      <th></th>\n",
       "      <th>key</th>\n",
       "      <th>Начало нагрева дугой</th>\n",
       "      <th>Конец нагрева дугой</th>\n",
       "      <th>Активная мощность</th>\n",
       "      <th>Реактивная мощность</th>\n",
       "      <th>мощность_полная</th>\n",
       "      <th>время_нагрева_сек</th>\n",
       "      <th>работа</th>\n",
       "    </tr>\n",
       "  </thead>\n",
       "  <tbody>\n",
       "    <tr>\n",
       "      <th>0</th>\n",
       "      <td>1</td>\n",
       "      <td>2019-05-03 11:02:14</td>\n",
       "      <td>2019-05-03 11:06:02</td>\n",
       "      <td>0.305130</td>\n",
       "      <td>0.211253</td>\n",
       "      <td>0.371123</td>\n",
       "      <td>228.0</td>\n",
       "      <td>84.616003</td>\n",
       "    </tr>\n",
       "    <tr>\n",
       "      <th>1</th>\n",
       "      <td>1</td>\n",
       "      <td>2019-05-03 11:07:28</td>\n",
       "      <td>2019-05-03 11:10:33</td>\n",
       "      <td>0.765658</td>\n",
       "      <td>0.477438</td>\n",
       "      <td>0.902319</td>\n",
       "      <td>185.0</td>\n",
       "      <td>166.928978</td>\n",
       "    </tr>\n",
       "    <tr>\n",
       "      <th>2</th>\n",
       "      <td>1</td>\n",
       "      <td>2019-05-03 11:11:44</td>\n",
       "      <td>2019-05-03 11:14:36</td>\n",
       "      <td>0.580313</td>\n",
       "      <td>0.430460</td>\n",
       "      <td>0.722536</td>\n",
       "      <td>172.0</td>\n",
       "      <td>124.276277</td>\n",
       "    </tr>\n",
       "    <tr>\n",
       "      <th>3</th>\n",
       "      <td>1</td>\n",
       "      <td>2019-05-03 11:18:14</td>\n",
       "      <td>2019-05-03 11:24:19</td>\n",
       "      <td>0.518496</td>\n",
       "      <td>0.379979</td>\n",
       "      <td>0.642824</td>\n",
       "      <td>365.0</td>\n",
       "      <td>234.630603</td>\n",
       "    </tr>\n",
       "    <tr>\n",
       "      <th>4</th>\n",
       "      <td>1</td>\n",
       "      <td>2019-05-03 11:26:09</td>\n",
       "      <td>2019-05-03 11:28:37</td>\n",
       "      <td>0.867133</td>\n",
       "      <td>0.643691</td>\n",
       "      <td>1.079934</td>\n",
       "      <td>148.0</td>\n",
       "      <td>159.830252</td>\n",
       "    </tr>\n",
       "    <tr>\n",
       "      <th>...</th>\n",
       "      <td>...</td>\n",
       "      <td>...</td>\n",
       "      <td>...</td>\n",
       "      <td>...</td>\n",
       "      <td>...</td>\n",
       "      <td>...</td>\n",
       "      <td>...</td>\n",
       "      <td>...</td>\n",
       "    </tr>\n",
       "    <tr>\n",
       "      <th>14871</th>\n",
       "      <td>3241</td>\n",
       "      <td>2019-09-06 16:49:05</td>\n",
       "      <td>2019-09-06 16:51:42</td>\n",
       "      <td>0.439735</td>\n",
       "      <td>0.299579</td>\n",
       "      <td>0.532085</td>\n",
       "      <td>157.0</td>\n",
       "      <td>83.537345</td>\n",
       "    </tr>\n",
       "    <tr>\n",
       "      <th>14872</th>\n",
       "      <td>3241</td>\n",
       "      <td>2019-09-06 16:55:11</td>\n",
       "      <td>2019-09-06 16:58:11</td>\n",
       "      <td>0.646498</td>\n",
       "      <td>0.458240</td>\n",
       "      <td>0.792429</td>\n",
       "      <td>180.0</td>\n",
       "      <td>142.637202</td>\n",
       "    </tr>\n",
       "    <tr>\n",
       "      <th>14873</th>\n",
       "      <td>3241</td>\n",
       "      <td>2019-09-06 17:06:48</td>\n",
       "      <td>2019-09-06 17:09:52</td>\n",
       "      <td>1.039726</td>\n",
       "      <td>0.769302</td>\n",
       "      <td>1.293389</td>\n",
       "      <td>184.0</td>\n",
       "      <td>237.983620</td>\n",
       "    </tr>\n",
       "    <tr>\n",
       "      <th>14874</th>\n",
       "      <td>3241</td>\n",
       "      <td>2019-09-06 17:21:58</td>\n",
       "      <td>2019-09-06 17:22:55</td>\n",
       "      <td>0.530267</td>\n",
       "      <td>0.361543</td>\n",
       "      <td>0.641792</td>\n",
       "      <td>57.0</td>\n",
       "      <td>36.582120</td>\n",
       "    </tr>\n",
       "    <tr>\n",
       "      <th>14875</th>\n",
       "      <td>3241</td>\n",
       "      <td>2019-09-06 17:24:54</td>\n",
       "      <td>2019-09-06 17:26:15</td>\n",
       "      <td>0.389057</td>\n",
       "      <td>0.251347</td>\n",
       "      <td>0.463185</td>\n",
       "      <td>81.0</td>\n",
       "      <td>37.518013</td>\n",
       "    </tr>\n",
       "  </tbody>\n",
       "</table>\n",
       "<p>14872 rows × 8 columns</p>\n",
       "</div>"
      ],
      "text/plain": [
       "        key Начало нагрева дугой Конец нагрева дугой  Активная мощность  \\\n",
       "0         1  2019-05-03 11:02:14 2019-05-03 11:06:02           0.305130   \n",
       "1         1  2019-05-03 11:07:28 2019-05-03 11:10:33           0.765658   \n",
       "2         1  2019-05-03 11:11:44 2019-05-03 11:14:36           0.580313   \n",
       "3         1  2019-05-03 11:18:14 2019-05-03 11:24:19           0.518496   \n",
       "4         1  2019-05-03 11:26:09 2019-05-03 11:28:37           0.867133   \n",
       "...     ...                  ...                 ...                ...   \n",
       "14871  3241  2019-09-06 16:49:05 2019-09-06 16:51:42           0.439735   \n",
       "14872  3241  2019-09-06 16:55:11 2019-09-06 16:58:11           0.646498   \n",
       "14873  3241  2019-09-06 17:06:48 2019-09-06 17:09:52           1.039726   \n",
       "14874  3241  2019-09-06 17:21:58 2019-09-06 17:22:55           0.530267   \n",
       "14875  3241  2019-09-06 17:24:54 2019-09-06 17:26:15           0.389057   \n",
       "\n",
       "       Реактивная мощность  мощность_полная  время_нагрева_сек      работа  \n",
       "0                 0.211253         0.371123              228.0   84.616003  \n",
       "1                 0.477438         0.902319              185.0  166.928978  \n",
       "2                 0.430460         0.722536              172.0  124.276277  \n",
       "3                 0.379979         0.642824              365.0  234.630603  \n",
       "4                 0.643691         1.079934              148.0  159.830252  \n",
       "...                    ...              ...                ...         ...  \n",
       "14871             0.299579         0.532085              157.0   83.537345  \n",
       "14872             0.458240         0.792429              180.0  142.637202  \n",
       "14873             0.769302         1.293389              184.0  237.983620  \n",
       "14874             0.361543         0.641792               57.0   36.582120  \n",
       "14875             0.251347         0.463185               81.0   37.518013  \n",
       "\n",
       "[14872 rows x 8 columns]"
      ]
     },
     "execution_count": 54,
     "metadata": {},
     "output_type": "execute_result"
    }
   ],
   "source": [
    "data_arc"
   ]
  },
  {
   "cell_type": "code",
   "execution_count": null,
   "id": "3e71f4a8",
   "metadata": {
    "id": "3e71f4a8",
    "outputId": "ebfec8c4-c567-4ce9-e6ce-8571692cb97f"
   },
   "outputs": [
    {
     "data": {
      "text/html": [
       "<div>\n",
       "<style scoped>\n",
       "    .dataframe tbody tr th:only-of-type {\n",
       "        vertical-align: middle;\n",
       "    }\n",
       "\n",
       "    .dataframe tbody tr th {\n",
       "        vertical-align: top;\n",
       "    }\n",
       "\n",
       "    .dataframe thead tr th {\n",
       "        text-align: left;\n",
       "    }\n",
       "</style>\n",
       "<table border=\"1\" class=\"dataframe\">\n",
       "  <thead>\n",
       "    <tr>\n",
       "      <th></th>\n",
       "      <th>key</th>\n",
       "      <th>Конец нагрева дугой</th>\n",
       "      <th>Начало нагрева дугой</th>\n",
       "      <th colspan=\"5\" halign=\"left\">время_нагрева_сек</th>\n",
       "      <th colspan=\"3\" halign=\"left\">мощность_полная</th>\n",
       "      <th colspan=\"2\" halign=\"left\">работа</th>\n",
       "    </tr>\n",
       "    <tr>\n",
       "      <th></th>\n",
       "      <th></th>\n",
       "      <th>max</th>\n",
       "      <th>min</th>\n",
       "      <th>count</th>\n",
       "      <th>max</th>\n",
       "      <th>mean</th>\n",
       "      <th>min</th>\n",
       "      <th>sum</th>\n",
       "      <th>max</th>\n",
       "      <th>mean</th>\n",
       "      <th>min</th>\n",
       "      <th>mean</th>\n",
       "      <th>sum</th>\n",
       "    </tr>\n",
       "  </thead>\n",
       "  <tbody>\n",
       "    <tr>\n",
       "      <th>0</th>\n",
       "      <td>1</td>\n",
       "      <td>2019-05-03 11:28:37</td>\n",
       "      <td>2019-05-03 11:02:14</td>\n",
       "      <td>5</td>\n",
       "      <td>365.0</td>\n",
       "      <td>219.60</td>\n",
       "      <td>148.0</td>\n",
       "      <td>1098.0</td>\n",
       "      <td>1.079934</td>\n",
       "      <td>0.743747</td>\n",
       "      <td>0.371123</td>\n",
       "      <td>154.056423</td>\n",
       "      <td>770.282114</td>\n",
       "    </tr>\n",
       "    <tr>\n",
       "      <th>1</th>\n",
       "      <td>2</td>\n",
       "      <td>2019-05-03 11:53:18</td>\n",
       "      <td>2019-05-03 11:34:14</td>\n",
       "      <td>4</td>\n",
       "      <td>338.0</td>\n",
       "      <td>202.75</td>\n",
       "      <td>126.0</td>\n",
       "      <td>811.0</td>\n",
       "      <td>0.955315</td>\n",
       "      <td>0.647087</td>\n",
       "      <td>0.332731</td>\n",
       "      <td>120.440001</td>\n",
       "      <td>481.760005</td>\n",
       "    </tr>\n",
       "    <tr>\n",
       "      <th>2</th>\n",
       "      <td>3</td>\n",
       "      <td>2019-05-03 12:32:19</td>\n",
       "      <td>2019-05-03 12:06:54</td>\n",
       "      <td>5</td>\n",
       "      <td>280.0</td>\n",
       "      <td>131.00</td>\n",
       "      <td>65.0</td>\n",
       "      <td>655.0</td>\n",
       "      <td>1.497189</td>\n",
       "      <td>1.003845</td>\n",
       "      <td>0.502111</td>\n",
       "      <td>144.567534</td>\n",
       "      <td>722.837668</td>\n",
       "    </tr>\n",
       "  </tbody>\n",
       "</table>\n",
       "</div>"
      ],
      "text/plain": [
       "  key Конец нагрева дугой Начало нагрева дугой время_нагрева_сек         \\\n",
       "                      max                  min             count    max   \n",
       "0   1 2019-05-03 11:28:37  2019-05-03 11:02:14                 5  365.0   \n",
       "1   2 2019-05-03 11:53:18  2019-05-03 11:34:14                 4  338.0   \n",
       "2   3 2019-05-03 12:32:19  2019-05-03 12:06:54                 5  280.0   \n",
       "\n",
       "                         мощность_полная                          работа  \\\n",
       "     mean    min     sum             max      mean       min        mean   \n",
       "0  219.60  148.0  1098.0        1.079934  0.743747  0.371123  154.056423   \n",
       "1  202.75  126.0   811.0        0.955315  0.647087  0.332731  120.440001   \n",
       "2  131.00   65.0   655.0        1.497189  1.003845  0.502111  144.567534   \n",
       "\n",
       "               \n",
       "          sum  \n",
       "0  770.282114  \n",
       "1  481.760005  \n",
       "2  722.837668  "
      ]
     },
     "execution_count": 55,
     "metadata": {},
     "output_type": "execute_result"
    }
   ],
   "source": [
    "df_arc = data_arc.pivot_table(index='key', values=['время_нагрева_сек',\n",
    "                                                   'мощность_полная','работа','Начало нагрева дугой', 'Конец нагрева дугой' ],\n",
    "                              aggfunc={'время_нагрева_сек': ['sum', 'count','min','max','mean'],\n",
    "                                       'мощность_полная':  ['min','max', 'mean'],\n",
    "                                       'работа': ['sum','mean'],\n",
    "                                      'Начало нагрева дугой': 'min',\n",
    "                                       'Конец нагрева дугой': 'max',\n",
    "                                      }).reset_index()\n",
    "df_arc.head(3)"
   ]
  },
  {
   "cell_type": "markdown",
   "id": "d19d6715",
   "metadata": {
    "id": "d19d6715"
   },
   "source": [
    "Переименуем столбцы"
   ]
  },
  {
   "cell_type": "code",
   "execution_count": null,
   "id": "1073db67",
   "metadata": {
    "id": "1073db67"
   },
   "outputs": [],
   "source": [
    "# Новые имена для колонок\n",
    "new_columns = ['key','конец','начало','arc_count',\n",
    "               'arc_time_max','arc_time_mean','arc_time_min','arc_time_sum',\n",
    "               'мощн_max','мощн_mean', 'мощн_min',\n",
    "               'работа_sum','работа_mean']\n",
    "df_arc.columns = new_columns"
   ]
  },
  {
   "cell_type": "code",
   "execution_count": null,
   "id": "645d93df",
   "metadata": {
    "id": "645d93df",
    "outputId": "f05c2ecd-447d-4f2e-d8e9-8bad95838c9f"
   },
   "outputs": [
    {
     "data": {
      "text/html": [
       "<div>\n",
       "<style scoped>\n",
       "    .dataframe tbody tr th:only-of-type {\n",
       "        vertical-align: middle;\n",
       "    }\n",
       "\n",
       "    .dataframe tbody tr th {\n",
       "        vertical-align: top;\n",
       "    }\n",
       "\n",
       "    .dataframe thead th {\n",
       "        text-align: right;\n",
       "    }\n",
       "</style>\n",
       "<table border=\"1\" class=\"dataframe\">\n",
       "  <thead>\n",
       "    <tr style=\"text-align: right;\">\n",
       "      <th></th>\n",
       "      <th>key</th>\n",
       "      <th>конец</th>\n",
       "      <th>начало</th>\n",
       "      <th>arc_count</th>\n",
       "      <th>arc_time_max</th>\n",
       "      <th>arc_time_mean</th>\n",
       "      <th>arc_time_min</th>\n",
       "      <th>arc_time_sum</th>\n",
       "      <th>мощн_max</th>\n",
       "      <th>мощн_mean</th>\n",
       "      <th>мощн_min</th>\n",
       "      <th>работа_sum</th>\n",
       "      <th>работа_mean</th>\n",
       "    </tr>\n",
       "  </thead>\n",
       "  <tbody>\n",
       "    <tr>\n",
       "      <th>0</th>\n",
       "      <td>1</td>\n",
       "      <td>2019-05-03 11:28:37</td>\n",
       "      <td>2019-05-03 11:02:14</td>\n",
       "      <td>5</td>\n",
       "      <td>365.0</td>\n",
       "      <td>219.60</td>\n",
       "      <td>148.0</td>\n",
       "      <td>1098.0</td>\n",
       "      <td>1.079934</td>\n",
       "      <td>0.743747</td>\n",
       "      <td>0.371123</td>\n",
       "      <td>154.056423</td>\n",
       "      <td>770.282114</td>\n",
       "    </tr>\n",
       "    <tr>\n",
       "      <th>1</th>\n",
       "      <td>2</td>\n",
       "      <td>2019-05-03 11:53:18</td>\n",
       "      <td>2019-05-03 11:34:14</td>\n",
       "      <td>4</td>\n",
       "      <td>338.0</td>\n",
       "      <td>202.75</td>\n",
       "      <td>126.0</td>\n",
       "      <td>811.0</td>\n",
       "      <td>0.955315</td>\n",
       "      <td>0.647087</td>\n",
       "      <td>0.332731</td>\n",
       "      <td>120.440001</td>\n",
       "      <td>481.760005</td>\n",
       "    </tr>\n",
       "  </tbody>\n",
       "</table>\n",
       "</div>"
      ],
      "text/plain": [
       "   key               конец              начало  arc_count  arc_time_max  \\\n",
       "0    1 2019-05-03 11:28:37 2019-05-03 11:02:14          5         365.0   \n",
       "1    2 2019-05-03 11:53:18 2019-05-03 11:34:14          4         338.0   \n",
       "\n",
       "   arc_time_mean  arc_time_min  arc_time_sum  мощн_max  мощн_mean  мощн_min  \\\n",
       "0         219.60         148.0        1098.0  1.079934   0.743747  0.371123   \n",
       "1         202.75         126.0         811.0  0.955315   0.647087  0.332731   \n",
       "\n",
       "   работа_sum  работа_mean  \n",
       "0  154.056423   770.282114  \n",
       "1  120.440001   481.760005  "
      ]
     },
     "execution_count": 57,
     "metadata": {},
     "output_type": "execute_result"
    }
   ],
   "source": [
    "df_arc.head(2)"
   ]
  },
  {
   "cell_type": "code",
   "execution_count": null,
   "id": "cc435373",
   "metadata": {
    "id": "cc435373"
   },
   "outputs": [],
   "source": [
    "#общее время итерации\n",
    "# надо взять мин начала  и вычесть макс конца\n",
    "df_arc['arc_duration'] = (df_arc['конец'] - df_arc['начало']).dt.total_seconds()\n",
    "\n",
    "# дроп лишних столбцов с временем\n",
    "df_arc = df_arc.drop(['конец','начало'], axis=1)"
   ]
  },
  {
   "cell_type": "code",
   "execution_count": null,
   "id": "5c64218f",
   "metadata": {
    "id": "5c64218f",
    "outputId": "09b0ecbe-6d05-4115-f5a2-df3877734bbf"
   },
   "outputs": [
    {
     "data": {
      "text/html": [
       "<div>\n",
       "<style scoped>\n",
       "    .dataframe tbody tr th:only-of-type {\n",
       "        vertical-align: middle;\n",
       "    }\n",
       "\n",
       "    .dataframe tbody tr th {\n",
       "        vertical-align: top;\n",
       "    }\n",
       "\n",
       "    .dataframe thead th {\n",
       "        text-align: right;\n",
       "    }\n",
       "</style>\n",
       "<table border=\"1\" class=\"dataframe\">\n",
       "  <thead>\n",
       "    <tr style=\"text-align: right;\">\n",
       "      <th></th>\n",
       "      <th>key</th>\n",
       "      <th>arc_count</th>\n",
       "      <th>arc_time_max</th>\n",
       "      <th>arc_time_mean</th>\n",
       "      <th>arc_time_min</th>\n",
       "      <th>arc_time_sum</th>\n",
       "      <th>мощн_max</th>\n",
       "      <th>мощн_mean</th>\n",
       "      <th>мощн_min</th>\n",
       "      <th>работа_sum</th>\n",
       "      <th>работа_mean</th>\n",
       "      <th>arc_duration</th>\n",
       "    </tr>\n",
       "  </thead>\n",
       "  <tbody>\n",
       "    <tr>\n",
       "      <th>0</th>\n",
       "      <td>1</td>\n",
       "      <td>5</td>\n",
       "      <td>365.0</td>\n",
       "      <td>219.60</td>\n",
       "      <td>148.0</td>\n",
       "      <td>1098.0</td>\n",
       "      <td>1.079934</td>\n",
       "      <td>0.743747</td>\n",
       "      <td>0.371123</td>\n",
       "      <td>154.056423</td>\n",
       "      <td>770.282114</td>\n",
       "      <td>1583.0</td>\n",
       "    </tr>\n",
       "    <tr>\n",
       "      <th>1</th>\n",
       "      <td>2</td>\n",
       "      <td>4</td>\n",
       "      <td>338.0</td>\n",
       "      <td>202.75</td>\n",
       "      <td>126.0</td>\n",
       "      <td>811.0</td>\n",
       "      <td>0.955315</td>\n",
       "      <td>0.647087</td>\n",
       "      <td>0.332731</td>\n",
       "      <td>120.440001</td>\n",
       "      <td>481.760005</td>\n",
       "      <td>1144.0</td>\n",
       "    </tr>\n",
       "    <tr>\n",
       "      <th>2</th>\n",
       "      <td>3</td>\n",
       "      <td>5</td>\n",
       "      <td>280.0</td>\n",
       "      <td>131.00</td>\n",
       "      <td>65.0</td>\n",
       "      <td>655.0</td>\n",
       "      <td>1.497189</td>\n",
       "      <td>1.003845</td>\n",
       "      <td>0.502111</td>\n",
       "      <td>144.567534</td>\n",
       "      <td>722.837668</td>\n",
       "      <td>1525.0</td>\n",
       "    </tr>\n",
       "    <tr>\n",
       "      <th>3</th>\n",
       "      <td>4</td>\n",
       "      <td>4</td>\n",
       "      <td>278.0</td>\n",
       "      <td>185.25</td>\n",
       "      <td>99.0</td>\n",
       "      <td>741.0</td>\n",
       "      <td>1.097105</td>\n",
       "      <td>0.850010</td>\n",
       "      <td>0.393685</td>\n",
       "      <td>170.863899</td>\n",
       "      <td>683.455597</td>\n",
       "      <td>1093.0</td>\n",
       "    </tr>\n",
       "    <tr>\n",
       "      <th>4</th>\n",
       "      <td>5</td>\n",
       "      <td>4</td>\n",
       "      <td>415.0</td>\n",
       "      <td>217.25</td>\n",
       "      <td>71.0</td>\n",
       "      <td>869.0</td>\n",
       "      <td>1.110873</td>\n",
       "      <td>0.704245</td>\n",
       "      <td>0.428064</td>\n",
       "      <td>128.042484</td>\n",
       "      <td>512.169934</td>\n",
       "      <td>1362.0</td>\n",
       "    </tr>\n",
       "  </tbody>\n",
       "</table>\n",
       "</div>"
      ],
      "text/plain": [
       "   key  arc_count  arc_time_max  arc_time_mean  arc_time_min  arc_time_sum  \\\n",
       "0    1          5         365.0         219.60         148.0        1098.0   \n",
       "1    2          4         338.0         202.75         126.0         811.0   \n",
       "2    3          5         280.0         131.00          65.0         655.0   \n",
       "3    4          4         278.0         185.25          99.0         741.0   \n",
       "4    5          4         415.0         217.25          71.0         869.0   \n",
       "\n",
       "   мощн_max  мощн_mean  мощн_min  работа_sum  работа_mean  arc_duration  \n",
       "0  1.079934   0.743747  0.371123  154.056423   770.282114        1583.0  \n",
       "1  0.955315   0.647087  0.332731  120.440001   481.760005        1144.0  \n",
       "2  1.497189   1.003845  0.502111  144.567534   722.837668        1525.0  \n",
       "3  1.097105   0.850010  0.393685  170.863899   683.455597        1093.0  \n",
       "4  1.110873   0.704245  0.428064  128.042484   512.169934        1362.0  "
      ]
     },
     "execution_count": 59,
     "metadata": {},
     "output_type": "execute_result"
    }
   ],
   "source": [
    "df_arc.head(5)"
   ]
  },
  {
   "cell_type": "markdown",
   "id": "f1134835",
   "metadata": {
    "id": "f1134835"
   },
   "source": [
    "Датасет готов для объеденения"
   ]
  },
  {
   "cell_type": "markdown",
   "id": "975fe3ad",
   "metadata": {
    "id": "975fe3ad"
   },
   "source": [
    "## bulk  данные о подаче сыпучих материалов.      \n",
    "Для каждого ключа просуммируем все материалы"
   ]
  },
  {
   "cell_type": "code",
   "execution_count": null,
   "id": "56b8d79a",
   "metadata": {
    "id": "56b8d79a",
    "outputId": "5010533f-318f-4419-c395-39d2899b67b6"
   },
   "outputs": [
    {
     "data": {
      "text/html": [
       "<div>\n",
       "<style scoped>\n",
       "    .dataframe tbody tr th:only-of-type {\n",
       "        vertical-align: middle;\n",
       "    }\n",
       "\n",
       "    .dataframe tbody tr th {\n",
       "        vertical-align: top;\n",
       "    }\n",
       "\n",
       "    .dataframe thead th {\n",
       "        text-align: right;\n",
       "    }\n",
       "</style>\n",
       "<table border=\"1\" class=\"dataframe\">\n",
       "  <thead>\n",
       "    <tr style=\"text-align: right;\">\n",
       "      <th></th>\n",
       "      <th>key</th>\n",
       "      <th>Bulk 1</th>\n",
       "      <th>Bulk 2</th>\n",
       "      <th>Bulk 3</th>\n",
       "      <th>Bulk 4</th>\n",
       "      <th>Bulk 5</th>\n",
       "      <th>Bulk 6</th>\n",
       "      <th>Bulk 7</th>\n",
       "      <th>Bulk 8</th>\n",
       "      <th>Bulk 9</th>\n",
       "      <th>Bulk 10</th>\n",
       "      <th>Bulk 11</th>\n",
       "      <th>Bulk 12</th>\n",
       "      <th>Bulk 13</th>\n",
       "      <th>Bulk 14</th>\n",
       "      <th>Bulk 15</th>\n",
       "    </tr>\n",
       "  </thead>\n",
       "  <tbody>\n",
       "    <tr>\n",
       "      <th>0</th>\n",
       "      <td>1</td>\n",
       "      <td>NaN</td>\n",
       "      <td>NaN</td>\n",
       "      <td>NaN</td>\n",
       "      <td>43.0</td>\n",
       "      <td>NaN</td>\n",
       "      <td>NaN</td>\n",
       "      <td>NaN</td>\n",
       "      <td>NaN</td>\n",
       "      <td>NaN</td>\n",
       "      <td>NaN</td>\n",
       "      <td>NaN</td>\n",
       "      <td>206.0</td>\n",
       "      <td>NaN</td>\n",
       "      <td>150.0</td>\n",
       "      <td>154.0</td>\n",
       "    </tr>\n",
       "    <tr>\n",
       "      <th>1</th>\n",
       "      <td>2</td>\n",
       "      <td>NaN</td>\n",
       "      <td>NaN</td>\n",
       "      <td>NaN</td>\n",
       "      <td>73.0</td>\n",
       "      <td>NaN</td>\n",
       "      <td>NaN</td>\n",
       "      <td>NaN</td>\n",
       "      <td>NaN</td>\n",
       "      <td>NaN</td>\n",
       "      <td>NaN</td>\n",
       "      <td>NaN</td>\n",
       "      <td>206.0</td>\n",
       "      <td>NaN</td>\n",
       "      <td>149.0</td>\n",
       "      <td>154.0</td>\n",
       "    </tr>\n",
       "    <tr>\n",
       "      <th>2</th>\n",
       "      <td>3</td>\n",
       "      <td>NaN</td>\n",
       "      <td>NaN</td>\n",
       "      <td>NaN</td>\n",
       "      <td>34.0</td>\n",
       "      <td>NaN</td>\n",
       "      <td>NaN</td>\n",
       "      <td>NaN</td>\n",
       "      <td>NaN</td>\n",
       "      <td>NaN</td>\n",
       "      <td>NaN</td>\n",
       "      <td>NaN</td>\n",
       "      <td>205.0</td>\n",
       "      <td>NaN</td>\n",
       "      <td>152.0</td>\n",
       "      <td>153.0</td>\n",
       "    </tr>\n",
       "    <tr>\n",
       "      <th>3</th>\n",
       "      <td>4</td>\n",
       "      <td>NaN</td>\n",
       "      <td>NaN</td>\n",
       "      <td>NaN</td>\n",
       "      <td>81.0</td>\n",
       "      <td>NaN</td>\n",
       "      <td>NaN</td>\n",
       "      <td>NaN</td>\n",
       "      <td>NaN</td>\n",
       "      <td>NaN</td>\n",
       "      <td>NaN</td>\n",
       "      <td>NaN</td>\n",
       "      <td>207.0</td>\n",
       "      <td>NaN</td>\n",
       "      <td>153.0</td>\n",
       "      <td>154.0</td>\n",
       "    </tr>\n",
       "    <tr>\n",
       "      <th>4</th>\n",
       "      <td>5</td>\n",
       "      <td>NaN</td>\n",
       "      <td>NaN</td>\n",
       "      <td>NaN</td>\n",
       "      <td>78.0</td>\n",
       "      <td>NaN</td>\n",
       "      <td>NaN</td>\n",
       "      <td>NaN</td>\n",
       "      <td>NaN</td>\n",
       "      <td>NaN</td>\n",
       "      <td>NaN</td>\n",
       "      <td>NaN</td>\n",
       "      <td>203.0</td>\n",
       "      <td>NaN</td>\n",
       "      <td>151.0</td>\n",
       "      <td>152.0</td>\n",
       "    </tr>\n",
       "    <tr>\n",
       "      <th>...</th>\n",
       "      <td>...</td>\n",
       "      <td>...</td>\n",
       "      <td>...</td>\n",
       "      <td>...</td>\n",
       "      <td>...</td>\n",
       "      <td>...</td>\n",
       "      <td>...</td>\n",
       "      <td>...</td>\n",
       "      <td>...</td>\n",
       "      <td>...</td>\n",
       "      <td>...</td>\n",
       "      <td>...</td>\n",
       "      <td>...</td>\n",
       "      <td>...</td>\n",
       "      <td>...</td>\n",
       "      <td>...</td>\n",
       "    </tr>\n",
       "    <tr>\n",
       "      <th>3124</th>\n",
       "      <td>3237</td>\n",
       "      <td>NaN</td>\n",
       "      <td>NaN</td>\n",
       "      <td>170.0</td>\n",
       "      <td>NaN</td>\n",
       "      <td>NaN</td>\n",
       "      <td>NaN</td>\n",
       "      <td>NaN</td>\n",
       "      <td>NaN</td>\n",
       "      <td>NaN</td>\n",
       "      <td>NaN</td>\n",
       "      <td>NaN</td>\n",
       "      <td>252.0</td>\n",
       "      <td>NaN</td>\n",
       "      <td>130.0</td>\n",
       "      <td>206.0</td>\n",
       "    </tr>\n",
       "    <tr>\n",
       "      <th>3125</th>\n",
       "      <td>3238</td>\n",
       "      <td>NaN</td>\n",
       "      <td>NaN</td>\n",
       "      <td>126.0</td>\n",
       "      <td>NaN</td>\n",
       "      <td>NaN</td>\n",
       "      <td>NaN</td>\n",
       "      <td>NaN</td>\n",
       "      <td>NaN</td>\n",
       "      <td>NaN</td>\n",
       "      <td>NaN</td>\n",
       "      <td>NaN</td>\n",
       "      <td>254.0</td>\n",
       "      <td>NaN</td>\n",
       "      <td>108.0</td>\n",
       "      <td>106.0</td>\n",
       "    </tr>\n",
       "    <tr>\n",
       "      <th>3126</th>\n",
       "      <td>3239</td>\n",
       "      <td>NaN</td>\n",
       "      <td>NaN</td>\n",
       "      <td>NaN</td>\n",
       "      <td>NaN</td>\n",
       "      <td>NaN</td>\n",
       "      <td>114.0</td>\n",
       "      <td>NaN</td>\n",
       "      <td>NaN</td>\n",
       "      <td>NaN</td>\n",
       "      <td>NaN</td>\n",
       "      <td>NaN</td>\n",
       "      <td>158.0</td>\n",
       "      <td>NaN</td>\n",
       "      <td>270.0</td>\n",
       "      <td>88.0</td>\n",
       "    </tr>\n",
       "    <tr>\n",
       "      <th>3127</th>\n",
       "      <td>3240</td>\n",
       "      <td>NaN</td>\n",
       "      <td>NaN</td>\n",
       "      <td>NaN</td>\n",
       "      <td>NaN</td>\n",
       "      <td>NaN</td>\n",
       "      <td>26.0</td>\n",
       "      <td>NaN</td>\n",
       "      <td>NaN</td>\n",
       "      <td>NaN</td>\n",
       "      <td>NaN</td>\n",
       "      <td>NaN</td>\n",
       "      <td>NaN</td>\n",
       "      <td>NaN</td>\n",
       "      <td>192.0</td>\n",
       "      <td>54.0</td>\n",
       "    </tr>\n",
       "    <tr>\n",
       "      <th>3128</th>\n",
       "      <td>3241</td>\n",
       "      <td>NaN</td>\n",
       "      <td>NaN</td>\n",
       "      <td>NaN</td>\n",
       "      <td>NaN</td>\n",
       "      <td>NaN</td>\n",
       "      <td>NaN</td>\n",
       "      <td>NaN</td>\n",
       "      <td>NaN</td>\n",
       "      <td>NaN</td>\n",
       "      <td>NaN</td>\n",
       "      <td>NaN</td>\n",
       "      <td>NaN</td>\n",
       "      <td>NaN</td>\n",
       "      <td>180.0</td>\n",
       "      <td>52.0</td>\n",
       "    </tr>\n",
       "  </tbody>\n",
       "</table>\n",
       "<p>3129 rows × 16 columns</p>\n",
       "</div>"
      ],
      "text/plain": [
       "       key  Bulk 1  Bulk 2  Bulk 3  Bulk 4  Bulk 5  Bulk 6  Bulk 7  Bulk 8  \\\n",
       "0        1     NaN     NaN     NaN    43.0     NaN     NaN     NaN     NaN   \n",
       "1        2     NaN     NaN     NaN    73.0     NaN     NaN     NaN     NaN   \n",
       "2        3     NaN     NaN     NaN    34.0     NaN     NaN     NaN     NaN   \n",
       "3        4     NaN     NaN     NaN    81.0     NaN     NaN     NaN     NaN   \n",
       "4        5     NaN     NaN     NaN    78.0     NaN     NaN     NaN     NaN   \n",
       "...    ...     ...     ...     ...     ...     ...     ...     ...     ...   \n",
       "3124  3237     NaN     NaN   170.0     NaN     NaN     NaN     NaN     NaN   \n",
       "3125  3238     NaN     NaN   126.0     NaN     NaN     NaN     NaN     NaN   \n",
       "3126  3239     NaN     NaN     NaN     NaN     NaN   114.0     NaN     NaN   \n",
       "3127  3240     NaN     NaN     NaN     NaN     NaN    26.0     NaN     NaN   \n",
       "3128  3241     NaN     NaN     NaN     NaN     NaN     NaN     NaN     NaN   \n",
       "\n",
       "      Bulk 9  Bulk 10  Bulk 11  Bulk 12  Bulk 13  Bulk 14  Bulk 15  \n",
       "0        NaN      NaN      NaN    206.0      NaN    150.0    154.0  \n",
       "1        NaN      NaN      NaN    206.0      NaN    149.0    154.0  \n",
       "2        NaN      NaN      NaN    205.0      NaN    152.0    153.0  \n",
       "3        NaN      NaN      NaN    207.0      NaN    153.0    154.0  \n",
       "4        NaN      NaN      NaN    203.0      NaN    151.0    152.0  \n",
       "...      ...      ...      ...      ...      ...      ...      ...  \n",
       "3124     NaN      NaN      NaN    252.0      NaN    130.0    206.0  \n",
       "3125     NaN      NaN      NaN    254.0      NaN    108.0    106.0  \n",
       "3126     NaN      NaN      NaN    158.0      NaN    270.0     88.0  \n",
       "3127     NaN      NaN      NaN      NaN      NaN    192.0     54.0  \n",
       "3128     NaN      NaN      NaN      NaN      NaN    180.0     52.0  \n",
       "\n",
       "[3129 rows x 16 columns]"
      ]
     },
     "execution_count": 60,
     "metadata": {},
     "output_type": "execute_result"
    }
   ],
   "source": [
    "data_bulk"
   ]
  },
  {
   "cell_type": "code",
   "execution_count": null,
   "id": "5daed985",
   "metadata": {
    "id": "5daed985",
    "outputId": "da420743-474b-4621-feb1-5d6c36ecfe96",
    "scrolled": false
   },
   "outputs": [
    {
     "data": {
      "text/html": [
       "<div>\n",
       "<style scoped>\n",
       "    .dataframe tbody tr th:only-of-type {\n",
       "        vertical-align: middle;\n",
       "    }\n",
       "\n",
       "    .dataframe tbody tr th {\n",
       "        vertical-align: top;\n",
       "    }\n",
       "\n",
       "    .dataframe thead th {\n",
       "        text-align: right;\n",
       "    }\n",
       "</style>\n",
       "<table border=\"1\" class=\"dataframe\">\n",
       "  <thead>\n",
       "    <tr style=\"text-align: right;\">\n",
       "      <th></th>\n",
       "      <th>key</th>\n",
       "      <th>bulk_sum</th>\n",
       "      <th>bulk_count</th>\n",
       "    </tr>\n",
       "  </thead>\n",
       "  <tbody>\n",
       "    <tr>\n",
       "      <th>0</th>\n",
       "      <td>1</td>\n",
       "      <td>553.0</td>\n",
       "      <td>4</td>\n",
       "    </tr>\n",
       "    <tr>\n",
       "      <th>1</th>\n",
       "      <td>2</td>\n",
       "      <td>582.0</td>\n",
       "      <td>4</td>\n",
       "    </tr>\n",
       "    <tr>\n",
       "      <th>2</th>\n",
       "      <td>3</td>\n",
       "      <td>544.0</td>\n",
       "      <td>4</td>\n",
       "    </tr>\n",
       "    <tr>\n",
       "      <th>3</th>\n",
       "      <td>4</td>\n",
       "      <td>595.0</td>\n",
       "      <td>4</td>\n",
       "    </tr>\n",
       "    <tr>\n",
       "      <th>4</th>\n",
       "      <td>5</td>\n",
       "      <td>584.0</td>\n",
       "      <td>4</td>\n",
       "    </tr>\n",
       "  </tbody>\n",
       "</table>\n",
       "</div>"
      ],
      "text/plain": [
       "   key  bulk_sum  bulk_count\n",
       "0    1     553.0           4\n",
       "1    2     582.0           4\n",
       "2    3     544.0           4\n",
       "3    4     595.0           4\n",
       "4    5     584.0           4"
      ]
     },
     "execution_count": 61,
     "metadata": {},
     "output_type": "execute_result"
    }
   ],
   "source": [
    "df_bulk = pd.DataFrame(data_bulk['key'], index=data_bulk.index)\n",
    "df_bulk['bulk_sum'] = data_bulk.drop('key',axis=1).sum(axis=1)\n",
    "df_bulk['bulk_count'] = data_bulk.drop('key',axis=1).count(axis=1)\n",
    "df_bulk.head()"
   ]
  },
  {
   "cell_type": "markdown",
   "id": "50939cc1",
   "metadata": {
    "id": "50939cc1"
   },
   "source": [
    "Обработаем bulk_time"
   ]
  },
  {
   "cell_type": "code",
   "execution_count": null,
   "id": "b2914ace",
   "metadata": {
    "id": "b2914ace",
    "outputId": "c5ab6db5-f016-4ce9-8786-161b720ab3a2"
   },
   "outputs": [
    {
     "data": {
      "text/html": [
       "<div>\n",
       "<style scoped>\n",
       "    .dataframe tbody tr th:only-of-type {\n",
       "        vertical-align: middle;\n",
       "    }\n",
       "\n",
       "    .dataframe tbody tr th {\n",
       "        vertical-align: top;\n",
       "    }\n",
       "\n",
       "    .dataframe thead th {\n",
       "        text-align: right;\n",
       "    }\n",
       "</style>\n",
       "<table border=\"1\" class=\"dataframe\">\n",
       "  <thead>\n",
       "    <tr style=\"text-align: right;\">\n",
       "      <th></th>\n",
       "      <th>key</th>\n",
       "      <th>Bulk 1</th>\n",
       "      <th>Bulk 2</th>\n",
       "      <th>Bulk 3</th>\n",
       "      <th>Bulk 4</th>\n",
       "      <th>Bulk 5</th>\n",
       "      <th>Bulk 6</th>\n",
       "      <th>Bulk 7</th>\n",
       "      <th>Bulk 8</th>\n",
       "      <th>Bulk 9</th>\n",
       "      <th>Bulk 10</th>\n",
       "      <th>Bulk 11</th>\n",
       "      <th>Bulk 12</th>\n",
       "      <th>Bulk 13</th>\n",
       "      <th>Bulk 14</th>\n",
       "      <th>Bulk 15</th>\n",
       "    </tr>\n",
       "  </thead>\n",
       "  <tbody>\n",
       "    <tr>\n",
       "      <th>0</th>\n",
       "      <td>1</td>\n",
       "      <td>NaN</td>\n",
       "      <td>NaN</td>\n",
       "      <td>NaN</td>\n",
       "      <td>2019-05-03 11:28:48</td>\n",
       "      <td>NaN</td>\n",
       "      <td>NaN</td>\n",
       "      <td>NaN</td>\n",
       "      <td>NaN</td>\n",
       "      <td>NaN</td>\n",
       "      <td>NaN</td>\n",
       "      <td>NaN</td>\n",
       "      <td>2019-05-03 11:24:31</td>\n",
       "      <td>NaN</td>\n",
       "      <td>2019-05-03 11:14:50</td>\n",
       "      <td>2019-05-03 11:10:43</td>\n",
       "    </tr>\n",
       "    <tr>\n",
       "      <th>1</th>\n",
       "      <td>2</td>\n",
       "      <td>NaN</td>\n",
       "      <td>NaN</td>\n",
       "      <td>NaN</td>\n",
       "      <td>2019-05-03 11:36:50</td>\n",
       "      <td>NaN</td>\n",
       "      <td>NaN</td>\n",
       "      <td>NaN</td>\n",
       "      <td>NaN</td>\n",
       "      <td>NaN</td>\n",
       "      <td>NaN</td>\n",
       "      <td>NaN</td>\n",
       "      <td>2019-05-03 11:53:30</td>\n",
       "      <td>NaN</td>\n",
       "      <td>2019-05-03 11:48:37</td>\n",
       "      <td>2019-05-03 11:44:39</td>\n",
       "    </tr>\n",
       "  </tbody>\n",
       "</table>\n",
       "</div>"
      ],
      "text/plain": [
       "   key Bulk 1 Bulk 2 Bulk 3               Bulk 4 Bulk 5 Bulk 6 Bulk 7 Bulk 8  \\\n",
       "0    1    NaN    NaN    NaN  2019-05-03 11:28:48    NaN    NaN    NaN    NaN   \n",
       "1    2    NaN    NaN    NaN  2019-05-03 11:36:50    NaN    NaN    NaN    NaN   \n",
       "\n",
       "  Bulk 9 Bulk 10 Bulk 11              Bulk 12 Bulk 13              Bulk 14  \\\n",
       "0    NaN     NaN     NaN  2019-05-03 11:24:31     NaN  2019-05-03 11:14:50   \n",
       "1    NaN     NaN     NaN  2019-05-03 11:53:30     NaN  2019-05-03 11:48:37   \n",
       "\n",
       "               Bulk 15  \n",
       "0  2019-05-03 11:10:43  \n",
       "1  2019-05-03 11:44:39  "
      ]
     },
     "execution_count": 62,
     "metadata": {},
     "output_type": "execute_result"
    }
   ],
   "source": [
    "data_bulk_time.head(2)"
   ]
  },
  {
   "cell_type": "code",
   "execution_count": null,
   "id": "36d24274",
   "metadata": {
    "id": "36d24274"
   },
   "outputs": [],
   "source": [
    "#превратим в дата тайм\n",
    "for i in data_bulk_time.drop('key',axis=1).columns.to_list():\n",
    "    data_bulk_time[i] = data_bulk_time[i].astype('datetime64[ns]')\n",
    "    "
   ]
  },
  {
   "cell_type": "code",
   "execution_count": null,
   "id": "fc9a4968",
   "metadata": {
    "id": "fc9a4968",
    "outputId": "499427ef-2961-43ee-d09e-a7dfae0b4341"
   },
   "outputs": [
    {
     "data": {
      "text/html": [
       "<div>\n",
       "<style scoped>\n",
       "    .dataframe tbody tr th:only-of-type {\n",
       "        vertical-align: middle;\n",
       "    }\n",
       "\n",
       "    .dataframe tbody tr th {\n",
       "        vertical-align: top;\n",
       "    }\n",
       "\n",
       "    .dataframe thead th {\n",
       "        text-align: right;\n",
       "    }\n",
       "</style>\n",
       "<table border=\"1\" class=\"dataframe\">\n",
       "  <thead>\n",
       "    <tr style=\"text-align: right;\">\n",
       "      <th></th>\n",
       "      <th>key</th>\n",
       "      <th>bulk_sum</th>\n",
       "      <th>bulk_count</th>\n",
       "      <th>bulk_time</th>\n",
       "    </tr>\n",
       "  </thead>\n",
       "  <tbody>\n",
       "    <tr>\n",
       "      <th>0</th>\n",
       "      <td>1</td>\n",
       "      <td>553.0</td>\n",
       "      <td>4</td>\n",
       "      <td>1085.0</td>\n",
       "    </tr>\n",
       "    <tr>\n",
       "      <th>1</th>\n",
       "      <td>2</td>\n",
       "      <td>582.0</td>\n",
       "      <td>4</td>\n",
       "      <td>1000.0</td>\n",
       "    </tr>\n",
       "    <tr>\n",
       "      <th>2</th>\n",
       "      <td>3</td>\n",
       "      <td>544.0</td>\n",
       "      <td>4</td>\n",
       "      <td>983.0</td>\n",
       "    </tr>\n",
       "    <tr>\n",
       "      <th>3</th>\n",
       "      <td>4</td>\n",
       "      <td>595.0</td>\n",
       "      <td>4</td>\n",
       "      <td>878.0</td>\n",
       "    </tr>\n",
       "    <tr>\n",
       "      <th>4</th>\n",
       "      <td>5</td>\n",
       "      <td>584.0</td>\n",
       "      <td>4</td>\n",
       "      <td>205.0</td>\n",
       "    </tr>\n",
       "  </tbody>\n",
       "</table>\n",
       "</div>"
      ],
      "text/plain": [
       "   key  bulk_sum  bulk_count  bulk_time\n",
       "0    1     553.0           4     1085.0\n",
       "1    2     582.0           4     1000.0\n",
       "2    3     544.0           4      983.0\n",
       "3    4     595.0           4      878.0\n",
       "4    5     584.0           4      205.0"
      ]
     },
     "execution_count": 64,
     "metadata": {},
     "output_type": "execute_result"
    }
   ],
   "source": [
    "#создадим фичу: продолжительность подачи материала от первой к последней \n",
    "df_bulk['bulk_time'] = (data_bulk_time.drop('key',axis=1).max(axis=1) - \\\n",
    "                        data_bulk_time.drop('key',axis=1).min(axis=1)).dt.total_seconds()\n",
    "df_bulk.head()"
   ]
  },
  {
   "cell_type": "markdown",
   "id": "f615ba8a",
   "metadata": {
    "id": "f615ba8a"
   },
   "source": [
    "## gas— данные о продувке сплава газом\n",
    "Тут все готово для объеденения"
   ]
  },
  {
   "cell_type": "code",
   "execution_count": null,
   "id": "38c7bafc",
   "metadata": {
    "id": "38c7bafc",
    "outputId": "f9652ed2-cf68-4274-c002-22861264e539"
   },
   "outputs": [
    {
     "data": {
      "text/html": [
       "<div>\n",
       "<style scoped>\n",
       "    .dataframe tbody tr th:only-of-type {\n",
       "        vertical-align: middle;\n",
       "    }\n",
       "\n",
       "    .dataframe tbody tr th {\n",
       "        vertical-align: top;\n",
       "    }\n",
       "\n",
       "    .dataframe thead th {\n",
       "        text-align: right;\n",
       "    }\n",
       "</style>\n",
       "<table border=\"1\" class=\"dataframe\">\n",
       "  <thead>\n",
       "    <tr style=\"text-align: right;\">\n",
       "      <th></th>\n",
       "      <th>key</th>\n",
       "      <th>Газ 1</th>\n",
       "    </tr>\n",
       "  </thead>\n",
       "  <tbody>\n",
       "    <tr>\n",
       "      <th>0</th>\n",
       "      <td>1</td>\n",
       "      <td>29.749986</td>\n",
       "    </tr>\n",
       "    <tr>\n",
       "      <th>1</th>\n",
       "      <td>2</td>\n",
       "      <td>12.555561</td>\n",
       "    </tr>\n",
       "    <tr>\n",
       "      <th>2</th>\n",
       "      <td>3</td>\n",
       "      <td>28.554793</td>\n",
       "    </tr>\n",
       "    <tr>\n",
       "      <th>3</th>\n",
       "      <td>4</td>\n",
       "      <td>18.841219</td>\n",
       "    </tr>\n",
       "    <tr>\n",
       "      <th>4</th>\n",
       "      <td>5</td>\n",
       "      <td>5.413692</td>\n",
       "    </tr>\n",
       "    <tr>\n",
       "      <th>...</th>\n",
       "      <td>...</td>\n",
       "      <td>...</td>\n",
       "    </tr>\n",
       "    <tr>\n",
       "      <th>3234</th>\n",
       "      <td>3237</td>\n",
       "      <td>5.543905</td>\n",
       "    </tr>\n",
       "    <tr>\n",
       "      <th>3235</th>\n",
       "      <td>3238</td>\n",
       "      <td>6.745669</td>\n",
       "    </tr>\n",
       "    <tr>\n",
       "      <th>3236</th>\n",
       "      <td>3239</td>\n",
       "      <td>16.023518</td>\n",
       "    </tr>\n",
       "    <tr>\n",
       "      <th>3237</th>\n",
       "      <td>3240</td>\n",
       "      <td>11.863103</td>\n",
       "    </tr>\n",
       "    <tr>\n",
       "      <th>3238</th>\n",
       "      <td>3241</td>\n",
       "      <td>12.680959</td>\n",
       "    </tr>\n",
       "  </tbody>\n",
       "</table>\n",
       "<p>3239 rows × 2 columns</p>\n",
       "</div>"
      ],
      "text/plain": [
       "       key      Газ 1\n",
       "0        1  29.749986\n",
       "1        2  12.555561\n",
       "2        3  28.554793\n",
       "3        4  18.841219\n",
       "4        5   5.413692\n",
       "...    ...        ...\n",
       "3234  3237   5.543905\n",
       "3235  3238   6.745669\n",
       "3236  3239  16.023518\n",
       "3237  3240  11.863103\n",
       "3238  3241  12.680959\n",
       "\n",
       "[3239 rows x 2 columns]"
      ]
     },
     "execution_count": 65,
     "metadata": {},
     "output_type": "execute_result"
    }
   ],
   "source": [
    "df_gas = data_gas\n",
    "df_gas"
   ]
  },
  {
   "cell_type": "markdown",
   "id": "2e5669ed",
   "metadata": {
    "id": "2e5669ed"
   },
   "source": [
    "## wire - данные о проволочных материалах     \n",
    "просуммируем для каждого ключа так же как и с сыпучими материалами"
   ]
  },
  {
   "cell_type": "code",
   "execution_count": null,
   "id": "8e02cc3d",
   "metadata": {
    "id": "8e02cc3d",
    "outputId": "5abbdcd5-ff49-47e6-9b95-252aee720504",
    "scrolled": true
   },
   "outputs": [
    {
     "data": {
      "text/html": [
       "<div>\n",
       "<style scoped>\n",
       "    .dataframe tbody tr th:only-of-type {\n",
       "        vertical-align: middle;\n",
       "    }\n",
       "\n",
       "    .dataframe tbody tr th {\n",
       "        vertical-align: top;\n",
       "    }\n",
       "\n",
       "    .dataframe thead th {\n",
       "        text-align: right;\n",
       "    }\n",
       "</style>\n",
       "<table border=\"1\" class=\"dataframe\">\n",
       "  <thead>\n",
       "    <tr style=\"text-align: right;\">\n",
       "      <th></th>\n",
       "      <th>key</th>\n",
       "      <th>Wire 1</th>\n",
       "      <th>Wire 2</th>\n",
       "      <th>Wire 3</th>\n",
       "      <th>Wire 4</th>\n",
       "      <th>Wire 5</th>\n",
       "      <th>Wire 6</th>\n",
       "      <th>Wire 7</th>\n",
       "      <th>Wire 8</th>\n",
       "      <th>Wire 9</th>\n",
       "    </tr>\n",
       "  </thead>\n",
       "  <tbody>\n",
       "    <tr>\n",
       "      <th>0</th>\n",
       "      <td>1</td>\n",
       "      <td>60.059998</td>\n",
       "      <td>NaN</td>\n",
       "      <td>NaN</td>\n",
       "      <td>NaN</td>\n",
       "      <td>NaN</td>\n",
       "      <td>NaN</td>\n",
       "      <td>NaN</td>\n",
       "      <td>NaN</td>\n",
       "      <td>NaN</td>\n",
       "    </tr>\n",
       "    <tr>\n",
       "      <th>1</th>\n",
       "      <td>2</td>\n",
       "      <td>96.052315</td>\n",
       "      <td>NaN</td>\n",
       "      <td>NaN</td>\n",
       "      <td>NaN</td>\n",
       "      <td>NaN</td>\n",
       "      <td>NaN</td>\n",
       "      <td>NaN</td>\n",
       "      <td>NaN</td>\n",
       "      <td>NaN</td>\n",
       "    </tr>\n",
       "    <tr>\n",
       "      <th>2</th>\n",
       "      <td>3</td>\n",
       "      <td>91.160157</td>\n",
       "      <td>NaN</td>\n",
       "      <td>NaN</td>\n",
       "      <td>NaN</td>\n",
       "      <td>NaN</td>\n",
       "      <td>NaN</td>\n",
       "      <td>NaN</td>\n",
       "      <td>NaN</td>\n",
       "      <td>NaN</td>\n",
       "    </tr>\n",
       "    <tr>\n",
       "      <th>3</th>\n",
       "      <td>4</td>\n",
       "      <td>89.063515</td>\n",
       "      <td>NaN</td>\n",
       "      <td>NaN</td>\n",
       "      <td>NaN</td>\n",
       "      <td>NaN</td>\n",
       "      <td>NaN</td>\n",
       "      <td>NaN</td>\n",
       "      <td>NaN</td>\n",
       "      <td>NaN</td>\n",
       "    </tr>\n",
       "    <tr>\n",
       "      <th>4</th>\n",
       "      <td>5</td>\n",
       "      <td>89.238236</td>\n",
       "      <td>9.11456</td>\n",
       "      <td>NaN</td>\n",
       "      <td>NaN</td>\n",
       "      <td>NaN</td>\n",
       "      <td>NaN</td>\n",
       "      <td>NaN</td>\n",
       "      <td>NaN</td>\n",
       "      <td>NaN</td>\n",
       "    </tr>\n",
       "  </tbody>\n",
       "</table>\n",
       "</div>"
      ],
      "text/plain": [
       "   key     Wire 1   Wire 2  Wire 3  Wire 4  Wire 5  Wire 6  Wire 7  Wire 8  \\\n",
       "0    1  60.059998      NaN     NaN     NaN     NaN     NaN     NaN     NaN   \n",
       "1    2  96.052315      NaN     NaN     NaN     NaN     NaN     NaN     NaN   \n",
       "2    3  91.160157      NaN     NaN     NaN     NaN     NaN     NaN     NaN   \n",
       "3    4  89.063515      NaN     NaN     NaN     NaN     NaN     NaN     NaN   \n",
       "4    5  89.238236  9.11456     NaN     NaN     NaN     NaN     NaN     NaN   \n",
       "\n",
       "   Wire 9  \n",
       "0     NaN  \n",
       "1     NaN  \n",
       "2     NaN  \n",
       "3     NaN  \n",
       "4     NaN  "
      ]
     },
     "execution_count": 66,
     "metadata": {},
     "output_type": "execute_result"
    }
   ],
   "source": [
    "data_wire.head()"
   ]
  },
  {
   "cell_type": "code",
   "execution_count": null,
   "id": "fdd54fbb",
   "metadata": {
    "id": "fdd54fbb",
    "outputId": "bc8dac65-53d7-42a5-a644-681c08ea5647",
    "scrolled": true
   },
   "outputs": [
    {
     "data": {
      "text/html": [
       "<div>\n",
       "<style scoped>\n",
       "    .dataframe tbody tr th:only-of-type {\n",
       "        vertical-align: middle;\n",
       "    }\n",
       "\n",
       "    .dataframe tbody tr th {\n",
       "        vertical-align: top;\n",
       "    }\n",
       "\n",
       "    .dataframe thead th {\n",
       "        text-align: right;\n",
       "    }\n",
       "</style>\n",
       "<table border=\"1\" class=\"dataframe\">\n",
       "  <thead>\n",
       "    <tr style=\"text-align: right;\">\n",
       "      <th></th>\n",
       "      <th>key</th>\n",
       "      <th>wire_sum</th>\n",
       "      <th>wire_count</th>\n",
       "    </tr>\n",
       "  </thead>\n",
       "  <tbody>\n",
       "    <tr>\n",
       "      <th>0</th>\n",
       "      <td>1</td>\n",
       "      <td>60.059998</td>\n",
       "      <td>1</td>\n",
       "    </tr>\n",
       "    <tr>\n",
       "      <th>1</th>\n",
       "      <td>2</td>\n",
       "      <td>96.052315</td>\n",
       "      <td>1</td>\n",
       "    </tr>\n",
       "    <tr>\n",
       "      <th>2</th>\n",
       "      <td>3</td>\n",
       "      <td>91.160157</td>\n",
       "      <td>1</td>\n",
       "    </tr>\n",
       "    <tr>\n",
       "      <th>3</th>\n",
       "      <td>4</td>\n",
       "      <td>89.063515</td>\n",
       "      <td>1</td>\n",
       "    </tr>\n",
       "    <tr>\n",
       "      <th>4</th>\n",
       "      <td>5</td>\n",
       "      <td>98.352796</td>\n",
       "      <td>2</td>\n",
       "    </tr>\n",
       "  </tbody>\n",
       "</table>\n",
       "</div>"
      ],
      "text/plain": [
       "   key   wire_sum  wire_count\n",
       "0    1  60.059998           1\n",
       "1    2  96.052315           1\n",
       "2    3  91.160157           1\n",
       "3    4  89.063515           1\n",
       "4    5  98.352796           2"
      ]
     },
     "execution_count": 67,
     "metadata": {},
     "output_type": "execute_result"
    }
   ],
   "source": [
    "df_wire = pd.DataFrame(data_wire['key'], index=data_wire.index)\n",
    "df_wire['wire_sum'] = data_wire.drop('key',axis=1).sum(axis=1)\n",
    "df_wire['wire_count'] = data_wire.drop('key',axis=1).count(axis=1)\n",
    "df_wire.head()"
   ]
  },
  {
   "cell_type": "markdown",
   "id": "709adb0e",
   "metadata": {
    "id": "709adb0e"
   },
   "source": [
    "Обработаем data_wire_time, создадим признак по аналогии  с bulk"
   ]
  },
  {
   "cell_type": "code",
   "execution_count": null,
   "id": "395f42fd",
   "metadata": {
    "id": "395f42fd",
    "outputId": "3ced6dba-5791-4b1f-f875-f167299a92c5"
   },
   "outputs": [
    {
     "data": {
      "text/html": [
       "<div>\n",
       "<style scoped>\n",
       "    .dataframe tbody tr th:only-of-type {\n",
       "        vertical-align: middle;\n",
       "    }\n",
       "\n",
       "    .dataframe tbody tr th {\n",
       "        vertical-align: top;\n",
       "    }\n",
       "\n",
       "    .dataframe thead th {\n",
       "        text-align: right;\n",
       "    }\n",
       "</style>\n",
       "<table border=\"1\" class=\"dataframe\">\n",
       "  <thead>\n",
       "    <tr style=\"text-align: right;\">\n",
       "      <th></th>\n",
       "      <th>key</th>\n",
       "      <th>Wire 1</th>\n",
       "      <th>Wire 2</th>\n",
       "      <th>Wire 3</th>\n",
       "      <th>Wire 4</th>\n",
       "      <th>Wire 5</th>\n",
       "      <th>Wire 6</th>\n",
       "      <th>Wire 7</th>\n",
       "      <th>Wire 8</th>\n",
       "      <th>Wire 9</th>\n",
       "    </tr>\n",
       "  </thead>\n",
       "  <tbody>\n",
       "    <tr>\n",
       "      <th>0</th>\n",
       "      <td>1</td>\n",
       "      <td>2019-05-03 11:06:19</td>\n",
       "      <td>NaN</td>\n",
       "      <td>NaN</td>\n",
       "      <td>NaN</td>\n",
       "      <td>NaN</td>\n",
       "      <td>NaN</td>\n",
       "      <td>NaN</td>\n",
       "      <td>NaN</td>\n",
       "      <td>NaN</td>\n",
       "    </tr>\n",
       "    <tr>\n",
       "      <th>1</th>\n",
       "      <td>2</td>\n",
       "      <td>2019-05-03 11:36:50</td>\n",
       "      <td>NaN</td>\n",
       "      <td>NaN</td>\n",
       "      <td>NaN</td>\n",
       "      <td>NaN</td>\n",
       "      <td>NaN</td>\n",
       "      <td>NaN</td>\n",
       "      <td>NaN</td>\n",
       "      <td>NaN</td>\n",
       "    </tr>\n",
       "    <tr>\n",
       "      <th>2</th>\n",
       "      <td>3</td>\n",
       "      <td>2019-05-03 12:11:46</td>\n",
       "      <td>NaN</td>\n",
       "      <td>NaN</td>\n",
       "      <td>NaN</td>\n",
       "      <td>NaN</td>\n",
       "      <td>NaN</td>\n",
       "      <td>NaN</td>\n",
       "      <td>NaN</td>\n",
       "      <td>NaN</td>\n",
       "    </tr>\n",
       "    <tr>\n",
       "      <th>3</th>\n",
       "      <td>4</td>\n",
       "      <td>2019-05-03 12:43:22</td>\n",
       "      <td>NaN</td>\n",
       "      <td>NaN</td>\n",
       "      <td>NaN</td>\n",
       "      <td>NaN</td>\n",
       "      <td>NaN</td>\n",
       "      <td>NaN</td>\n",
       "      <td>NaN</td>\n",
       "      <td>NaN</td>\n",
       "    </tr>\n",
       "    <tr>\n",
       "      <th>4</th>\n",
       "      <td>5</td>\n",
       "      <td>2019-05-03 13:20:44</td>\n",
       "      <td>2019-05-03 13:15:34</td>\n",
       "      <td>NaN</td>\n",
       "      <td>NaN</td>\n",
       "      <td>NaN</td>\n",
       "      <td>NaN</td>\n",
       "      <td>NaN</td>\n",
       "      <td>NaN</td>\n",
       "      <td>NaN</td>\n",
       "    </tr>\n",
       "  </tbody>\n",
       "</table>\n",
       "</div>"
      ],
      "text/plain": [
       "   key               Wire 1               Wire 2 Wire 3 Wire 4 Wire 5 Wire 6  \\\n",
       "0    1  2019-05-03 11:06:19                  NaN    NaN    NaN    NaN    NaN   \n",
       "1    2  2019-05-03 11:36:50                  NaN    NaN    NaN    NaN    NaN   \n",
       "2    3  2019-05-03 12:11:46                  NaN    NaN    NaN    NaN    NaN   \n",
       "3    4  2019-05-03 12:43:22                  NaN    NaN    NaN    NaN    NaN   \n",
       "4    5  2019-05-03 13:20:44  2019-05-03 13:15:34    NaN    NaN    NaN    NaN   \n",
       "\n",
       "  Wire 7 Wire 8 Wire 9  \n",
       "0    NaN    NaN    NaN  \n",
       "1    NaN    NaN    NaN  \n",
       "2    NaN    NaN    NaN  \n",
       "3    NaN    NaN    NaN  \n",
       "4    NaN    NaN    NaN  "
      ]
     },
     "execution_count": 68,
     "metadata": {},
     "output_type": "execute_result"
    }
   ],
   "source": [
    "data_wire_time.head()"
   ]
  },
  {
   "cell_type": "code",
   "execution_count": null,
   "id": "b5a53f6d",
   "metadata": {
    "id": "b5a53f6d",
    "outputId": "6302c727-a262-4819-aadc-4a5dcb85d2cf"
   },
   "outputs": [
    {
     "data": {
      "text/html": [
       "<div>\n",
       "<style scoped>\n",
       "    .dataframe tbody tr th:only-of-type {\n",
       "        vertical-align: middle;\n",
       "    }\n",
       "\n",
       "    .dataframe tbody tr th {\n",
       "        vertical-align: top;\n",
       "    }\n",
       "\n",
       "    .dataframe thead th {\n",
       "        text-align: right;\n",
       "    }\n",
       "</style>\n",
       "<table border=\"1\" class=\"dataframe\">\n",
       "  <thead>\n",
       "    <tr style=\"text-align: right;\">\n",
       "      <th></th>\n",
       "      <th>key</th>\n",
       "      <th>wire_sum</th>\n",
       "      <th>wire_count</th>\n",
       "      <th>wire_time</th>\n",
       "    </tr>\n",
       "  </thead>\n",
       "  <tbody>\n",
       "    <tr>\n",
       "      <th>0</th>\n",
       "      <td>1</td>\n",
       "      <td>60.059998</td>\n",
       "      <td>1</td>\n",
       "      <td>0.0</td>\n",
       "    </tr>\n",
       "    <tr>\n",
       "      <th>1</th>\n",
       "      <td>2</td>\n",
       "      <td>96.052315</td>\n",
       "      <td>1</td>\n",
       "      <td>0.0</td>\n",
       "    </tr>\n",
       "    <tr>\n",
       "      <th>2</th>\n",
       "      <td>3</td>\n",
       "      <td>91.160157</td>\n",
       "      <td>1</td>\n",
       "      <td>0.0</td>\n",
       "    </tr>\n",
       "    <tr>\n",
       "      <th>3</th>\n",
       "      <td>4</td>\n",
       "      <td>89.063515</td>\n",
       "      <td>1</td>\n",
       "      <td>0.0</td>\n",
       "    </tr>\n",
       "    <tr>\n",
       "      <th>4</th>\n",
       "      <td>5</td>\n",
       "      <td>98.352796</td>\n",
       "      <td>2</td>\n",
       "      <td>310.0</td>\n",
       "    </tr>\n",
       "  </tbody>\n",
       "</table>\n",
       "</div>"
      ],
      "text/plain": [
       "   key   wire_sum  wire_count  wire_time\n",
       "0    1  60.059998           1        0.0\n",
       "1    2  96.052315           1        0.0\n",
       "2    3  91.160157           1        0.0\n",
       "3    4  89.063515           1        0.0\n",
       "4    5  98.352796           2      310.0"
      ]
     },
     "execution_count": 69,
     "metadata": {},
     "output_type": "execute_result"
    }
   ],
   "source": [
    "#превратим в дата тайм\n",
    "for i in data_wire_time.drop('key',axis=1).columns.to_list():\n",
    "    data_wire_time[i] = data_wire_time[i].astype('datetime64[ns]')\n",
    "\n",
    "    #создадим фичу: продолжительность подачи проволоки от первой к последней \n",
    "df_wire['wire_time'] = (data_wire_time.drop('key',axis=1).max(axis=1) - \\\n",
    "                        data_wire_time.drop('key',axis=1).min(axis=1)).dt.total_seconds()\n",
    "df_wire.head()    "
   ]
  },
  {
   "cell_type": "markdown",
   "id": "c926cd5c",
   "metadata": {
    "id": "c926cd5c"
   },
   "source": [
    "## Объеденение всех таблиц и анализ полученного дата сета     \n",
    "Начинаем с   df_temp, используем  merge(how='inner') "
   ]
  },
  {
   "cell_type": "code",
   "execution_count": null,
   "id": "f8602d2a",
   "metadata": {
    "id": "f8602d2a"
   },
   "outputs": [],
   "source": [
    "#merge\n",
    "df_list = [df_arc, df_bulk, df_gas, df_wire]\n",
    "df = df_temp\n",
    "for data_frame in df_list:\n",
    "    df = df.merge(data_frame,how='inner', on='key' )\n",
    "\n",
    "    \n",
    "#дроп ненужного столбца с номером парти\n",
    "df = df.drop('key',axis=1)    "
   ]
  },
  {
   "cell_type": "code",
   "execution_count": null,
   "id": "fb889bd0",
   "metadata": {
    "id": "fb889bd0",
    "outputId": "3380da05-97cc-478f-f48d-7771457eb1ba",
    "scrolled": true
   },
   "outputs": [
    {
     "name": "stdout",
     "output_type": "stream",
     "text": [
      "<class 'pandas.core.frame.DataFrame'>\n",
      "Int64Index: 2324 entries, 0 to 2323\n",
      "Data columns (total 20 columns):\n",
      " #   Column         Non-Null Count  Dtype  \n",
      "---  ------         --------------  -----  \n",
      " 0   first_temp     2324 non-null   float64\n",
      " 1   last_temp      2324 non-null   float64\n",
      " 2   arc_count      2324 non-null   int64  \n",
      " 3   arc_time_max   2324 non-null   float64\n",
      " 4   arc_time_mean  2324 non-null   float64\n",
      " 5   arc_time_min   2324 non-null   float64\n",
      " 6   arc_time_sum   2324 non-null   float64\n",
      " 7   мощн_max       2324 non-null   float64\n",
      " 8   мощн_mean      2324 non-null   float64\n",
      " 9   мощн_min       2324 non-null   float64\n",
      " 10  работа_sum     2324 non-null   float64\n",
      " 11  работа_mean    2324 non-null   float64\n",
      " 12  arc_duration   2324 non-null   float64\n",
      " 13  bulk_sum       2324 non-null   float64\n",
      " 14  bulk_count     2324 non-null   int64  \n",
      " 15  bulk_time      2324 non-null   float64\n",
      " 16  Газ 1          2324 non-null   float64\n",
      " 17  wire_sum       2324 non-null   float64\n",
      " 18  wire_count     2324 non-null   int64  \n",
      " 19  wire_time      2324 non-null   float64\n",
      "dtypes: float64(17), int64(3)\n",
      "memory usage: 381.3 KB\n"
     ]
    }
   ],
   "source": [
    "df.info()"
   ]
  },
  {
   "cell_type": "code",
   "execution_count": null,
   "id": "e9d8f10d",
   "metadata": {
    "id": "e9d8f10d",
    "outputId": "6d8c9e4a-928a-4916-9f48-0f95e6555f0e"
   },
   "outputs": [
    {
     "data": {
      "text/html": [
       "<div>\n",
       "<style scoped>\n",
       "    .dataframe tbody tr th:only-of-type {\n",
       "        vertical-align: middle;\n",
       "    }\n",
       "\n",
       "    .dataframe tbody tr th {\n",
       "        vertical-align: top;\n",
       "    }\n",
       "\n",
       "    .dataframe thead th {\n",
       "        text-align: right;\n",
       "    }\n",
       "</style>\n",
       "<table border=\"1\" class=\"dataframe\">\n",
       "  <thead>\n",
       "    <tr style=\"text-align: right;\">\n",
       "      <th></th>\n",
       "      <th>first_temp</th>\n",
       "      <th>last_temp</th>\n",
       "      <th>arc_count</th>\n",
       "      <th>arc_time_max</th>\n",
       "      <th>arc_time_mean</th>\n",
       "      <th>arc_time_min</th>\n",
       "      <th>arc_time_sum</th>\n",
       "      <th>мощн_max</th>\n",
       "      <th>мощн_mean</th>\n",
       "      <th>мощн_min</th>\n",
       "      <th>работа_sum</th>\n",
       "      <th>работа_mean</th>\n",
       "      <th>arc_duration</th>\n",
       "      <th>bulk_sum</th>\n",
       "      <th>bulk_count</th>\n",
       "      <th>bulk_time</th>\n",
       "      <th>Газ 1</th>\n",
       "      <th>wire_sum</th>\n",
       "      <th>wire_count</th>\n",
       "      <th>wire_time</th>\n",
       "    </tr>\n",
       "  </thead>\n",
       "  <tbody>\n",
       "    <tr>\n",
       "      <th>0</th>\n",
       "      <td>1571.0</td>\n",
       "      <td>1613.0</td>\n",
       "      <td>5</td>\n",
       "      <td>365.0</td>\n",
       "      <td>219.60</td>\n",
       "      <td>148.0</td>\n",
       "      <td>1098.0</td>\n",
       "      <td>1.079934</td>\n",
       "      <td>0.743747</td>\n",
       "      <td>0.371123</td>\n",
       "      <td>154.056423</td>\n",
       "      <td>770.282114</td>\n",
       "      <td>1583.0</td>\n",
       "      <td>553.0</td>\n",
       "      <td>4</td>\n",
       "      <td>1085.0</td>\n",
       "      <td>29.749986</td>\n",
       "      <td>60.059998</td>\n",
       "      <td>1</td>\n",
       "      <td>0.0</td>\n",
       "    </tr>\n",
       "    <tr>\n",
       "      <th>1</th>\n",
       "      <td>1581.0</td>\n",
       "      <td>1602.0</td>\n",
       "      <td>4</td>\n",
       "      <td>338.0</td>\n",
       "      <td>202.75</td>\n",
       "      <td>126.0</td>\n",
       "      <td>811.0</td>\n",
       "      <td>0.955315</td>\n",
       "      <td>0.647087</td>\n",
       "      <td>0.332731</td>\n",
       "      <td>120.440001</td>\n",
       "      <td>481.760005</td>\n",
       "      <td>1144.0</td>\n",
       "      <td>582.0</td>\n",
       "      <td>4</td>\n",
       "      <td>1000.0</td>\n",
       "      <td>12.555561</td>\n",
       "      <td>96.052315</td>\n",
       "      <td>1</td>\n",
       "      <td>0.0</td>\n",
       "    </tr>\n",
       "    <tr>\n",
       "      <th>2</th>\n",
       "      <td>1596.0</td>\n",
       "      <td>1599.0</td>\n",
       "      <td>5</td>\n",
       "      <td>280.0</td>\n",
       "      <td>131.00</td>\n",
       "      <td>65.0</td>\n",
       "      <td>655.0</td>\n",
       "      <td>1.497189</td>\n",
       "      <td>1.003845</td>\n",
       "      <td>0.502111</td>\n",
       "      <td>144.567534</td>\n",
       "      <td>722.837668</td>\n",
       "      <td>1525.0</td>\n",
       "      <td>544.0</td>\n",
       "      <td>4</td>\n",
       "      <td>983.0</td>\n",
       "      <td>28.554793</td>\n",
       "      <td>91.160157</td>\n",
       "      <td>1</td>\n",
       "      <td>0.0</td>\n",
       "    </tr>\n",
       "    <tr>\n",
       "      <th>3</th>\n",
       "      <td>1601.0</td>\n",
       "      <td>1625.0</td>\n",
       "      <td>4</td>\n",
       "      <td>278.0</td>\n",
       "      <td>185.25</td>\n",
       "      <td>99.0</td>\n",
       "      <td>741.0</td>\n",
       "      <td>1.097105</td>\n",
       "      <td>0.850010</td>\n",
       "      <td>0.393685</td>\n",
       "      <td>170.863899</td>\n",
       "      <td>683.455597</td>\n",
       "      <td>1093.0</td>\n",
       "      <td>595.0</td>\n",
       "      <td>4</td>\n",
       "      <td>878.0</td>\n",
       "      <td>18.841219</td>\n",
       "      <td>89.063515</td>\n",
       "      <td>1</td>\n",
       "      <td>0.0</td>\n",
       "    </tr>\n",
       "    <tr>\n",
       "      <th>4</th>\n",
       "      <td>1576.0</td>\n",
       "      <td>1602.0</td>\n",
       "      <td>4</td>\n",
       "      <td>415.0</td>\n",
       "      <td>217.25</td>\n",
       "      <td>71.0</td>\n",
       "      <td>869.0</td>\n",
       "      <td>1.110873</td>\n",
       "      <td>0.704245</td>\n",
       "      <td>0.428064</td>\n",
       "      <td>128.042484</td>\n",
       "      <td>512.169934</td>\n",
       "      <td>1362.0</td>\n",
       "      <td>584.0</td>\n",
       "      <td>4</td>\n",
       "      <td>205.0</td>\n",
       "      <td>5.413692</td>\n",
       "      <td>98.352796</td>\n",
       "      <td>2</td>\n",
       "      <td>310.0</td>\n",
       "    </tr>\n",
       "  </tbody>\n",
       "</table>\n",
       "</div>"
      ],
      "text/plain": [
       "   first_temp  last_temp  arc_count  arc_time_max  arc_time_mean  \\\n",
       "0      1571.0     1613.0          5         365.0         219.60   \n",
       "1      1581.0     1602.0          4         338.0         202.75   \n",
       "2      1596.0     1599.0          5         280.0         131.00   \n",
       "3      1601.0     1625.0          4         278.0         185.25   \n",
       "4      1576.0     1602.0          4         415.0         217.25   \n",
       "\n",
       "   arc_time_min  arc_time_sum  мощн_max  мощн_mean  мощн_min  работа_sum  \\\n",
       "0         148.0        1098.0  1.079934   0.743747  0.371123  154.056423   \n",
       "1         126.0         811.0  0.955315   0.647087  0.332731  120.440001   \n",
       "2          65.0         655.0  1.497189   1.003845  0.502111  144.567534   \n",
       "3          99.0         741.0  1.097105   0.850010  0.393685  170.863899   \n",
       "4          71.0         869.0  1.110873   0.704245  0.428064  128.042484   \n",
       "\n",
       "   работа_mean  arc_duration  bulk_sum  bulk_count  bulk_time      Газ 1  \\\n",
       "0   770.282114        1583.0     553.0           4     1085.0  29.749986   \n",
       "1   481.760005        1144.0     582.0           4     1000.0  12.555561   \n",
       "2   722.837668        1525.0     544.0           4      983.0  28.554793   \n",
       "3   683.455597        1093.0     595.0           4      878.0  18.841219   \n",
       "4   512.169934        1362.0     584.0           4      205.0   5.413692   \n",
       "\n",
       "    wire_sum  wire_count  wire_time  \n",
       "0  60.059998           1        0.0  \n",
       "1  96.052315           1        0.0  \n",
       "2  91.160157           1        0.0  \n",
       "3  89.063515           1        0.0  \n",
       "4  98.352796           2      310.0  "
      ]
     },
     "execution_count": 72,
     "metadata": {},
     "output_type": "execute_result"
    }
   ],
   "source": [
    "df.head()"
   ]
  },
  {
   "cell_type": "code",
   "execution_count": null,
   "id": "8920aea1",
   "metadata": {
    "id": "8920aea1",
    "outputId": "294f04bc-d892-43f8-8622-4bacbb593b2b"
   },
   "outputs": [
    {
     "data": {
      "text/html": [
       "<div>\n",
       "<style scoped>\n",
       "    .dataframe tbody tr th:only-of-type {\n",
       "        vertical-align: middle;\n",
       "    }\n",
       "\n",
       "    .dataframe tbody tr th {\n",
       "        vertical-align: top;\n",
       "    }\n",
       "\n",
       "    .dataframe thead th {\n",
       "        text-align: right;\n",
       "    }\n",
       "</style>\n",
       "<table border=\"1\" class=\"dataframe\">\n",
       "  <thead>\n",
       "    <tr style=\"text-align: right;\">\n",
       "      <th></th>\n",
       "      <th>first_temp</th>\n",
       "      <th>last_temp</th>\n",
       "      <th>arc_count</th>\n",
       "      <th>arc_time_max</th>\n",
       "      <th>arc_time_mean</th>\n",
       "      <th>arc_time_min</th>\n",
       "      <th>arc_time_sum</th>\n",
       "      <th>мощн_max</th>\n",
       "      <th>мощн_mean</th>\n",
       "      <th>мощн_min</th>\n",
       "      <th>работа_sum</th>\n",
       "      <th>работа_mean</th>\n",
       "      <th>arc_duration</th>\n",
       "      <th>bulk_sum</th>\n",
       "      <th>bulk_count</th>\n",
       "      <th>bulk_time</th>\n",
       "      <th>Газ 1</th>\n",
       "      <th>wire_sum</th>\n",
       "      <th>wire_count</th>\n",
       "      <th>wire_time</th>\n",
       "    </tr>\n",
       "  </thead>\n",
       "  <tbody>\n",
       "    <tr>\n",
       "      <th>2319</th>\n",
       "      <td>1570.0</td>\n",
       "      <td>1591.0</td>\n",
       "      <td>4</td>\n",
       "      <td>234.0</td>\n",
       "      <td>180.750000</td>\n",
       "      <td>99.0</td>\n",
       "      <td>723.0</td>\n",
       "      <td>1.255374</td>\n",
       "      <td>0.967180</td>\n",
       "      <td>0.561225</td>\n",
       "      <td>173.544332</td>\n",
       "      <td>694.177326</td>\n",
       "      <td>1208.0</td>\n",
       "      <td>719.0</td>\n",
       "      <td>5</td>\n",
       "      <td>1002.0</td>\n",
       "      <td>7.125735</td>\n",
       "      <td>89.150879</td>\n",
       "      <td>1</td>\n",
       "      <td>0.0</td>\n",
       "    </tr>\n",
       "    <tr>\n",
       "      <th>2320</th>\n",
       "      <td>1554.0</td>\n",
       "      <td>1591.0</td>\n",
       "      <td>6</td>\n",
       "      <td>228.0</td>\n",
       "      <td>156.666667</td>\n",
       "      <td>104.0</td>\n",
       "      <td>940.0</td>\n",
       "      <td>1.547188</td>\n",
       "      <td>0.845053</td>\n",
       "      <td>0.392868</td>\n",
       "      <td>135.969756</td>\n",
       "      <td>815.818538</td>\n",
       "      <td>1569.0</td>\n",
       "      <td>796.0</td>\n",
       "      <td>5</td>\n",
       "      <td>1171.0</td>\n",
       "      <td>9.412616</td>\n",
       "      <td>114.179527</td>\n",
       "      <td>1</td>\n",
       "      <td>0.0</td>\n",
       "    </tr>\n",
       "    <tr>\n",
       "      <th>2321</th>\n",
       "      <td>1571.0</td>\n",
       "      <td>1589.0</td>\n",
       "      <td>3</td>\n",
       "      <td>207.0</td>\n",
       "      <td>189.666667</td>\n",
       "      <td>156.0</td>\n",
       "      <td>569.0</td>\n",
       "      <td>1.560949</td>\n",
       "      <td>1.453639</td>\n",
       "      <td>1.268037</td>\n",
       "      <td>274.340173</td>\n",
       "      <td>823.020520</td>\n",
       "      <td>824.0</td>\n",
       "      <td>665.0</td>\n",
       "      <td>4</td>\n",
       "      <td>668.0</td>\n",
       "      <td>6.271699</td>\n",
       "      <td>103.134723</td>\n",
       "      <td>2</td>\n",
       "      <td>340.0</td>\n",
       "    </tr>\n",
       "    <tr>\n",
       "      <th>2322</th>\n",
       "      <td>1591.0</td>\n",
       "      <td>1594.0</td>\n",
       "      <td>5</td>\n",
       "      <td>256.0</td>\n",
       "      <td>150.000000</td>\n",
       "      <td>41.0</td>\n",
       "      <td>750.0</td>\n",
       "      <td>1.190819</td>\n",
       "      <td>0.781983</td>\n",
       "      <td>0.512900</td>\n",
       "      <td>116.362148</td>\n",
       "      <td>581.810739</td>\n",
       "      <td>1358.0</td>\n",
       "      <td>733.0</td>\n",
       "      <td>5</td>\n",
       "      <td>820.0</td>\n",
       "      <td>14.953657</td>\n",
       "      <td>118.110717</td>\n",
       "      <td>1</td>\n",
       "      <td>0.0</td>\n",
       "    </tr>\n",
       "    <tr>\n",
       "      <th>2323</th>\n",
       "      <td>1569.0</td>\n",
       "      <td>1603.0</td>\n",
       "      <td>4</td>\n",
       "      <td>312.0</td>\n",
       "      <td>220.750000</td>\n",
       "      <td>71.0</td>\n",
       "      <td>883.0</td>\n",
       "      <td>0.881433</td>\n",
       "      <td>0.542313</td>\n",
       "      <td>0.374585</td>\n",
       "      <td>133.096546</td>\n",
       "      <td>532.386183</td>\n",
       "      <td>1366.0</td>\n",
       "      <td>633.0</td>\n",
       "      <td>4</td>\n",
       "      <td>292.0</td>\n",
       "      <td>11.336151</td>\n",
       "      <td>160.166238</td>\n",
       "      <td>2</td>\n",
       "      <td>390.0</td>\n",
       "    </tr>\n",
       "  </tbody>\n",
       "</table>\n",
       "</div>"
      ],
      "text/plain": [
       "      first_temp  last_temp  arc_count  arc_time_max  arc_time_mean  \\\n",
       "2319      1570.0     1591.0          4         234.0     180.750000   \n",
       "2320      1554.0     1591.0          6         228.0     156.666667   \n",
       "2321      1571.0     1589.0          3         207.0     189.666667   \n",
       "2322      1591.0     1594.0          5         256.0     150.000000   \n",
       "2323      1569.0     1603.0          4         312.0     220.750000   \n",
       "\n",
       "      arc_time_min  arc_time_sum  мощн_max  мощн_mean  мощн_min  работа_sum  \\\n",
       "2319          99.0         723.0  1.255374   0.967180  0.561225  173.544332   \n",
       "2320         104.0         940.0  1.547188   0.845053  0.392868  135.969756   \n",
       "2321         156.0         569.0  1.560949   1.453639  1.268037  274.340173   \n",
       "2322          41.0         750.0  1.190819   0.781983  0.512900  116.362148   \n",
       "2323          71.0         883.0  0.881433   0.542313  0.374585  133.096546   \n",
       "\n",
       "      работа_mean  arc_duration  bulk_sum  bulk_count  bulk_time      Газ 1  \\\n",
       "2319   694.177326        1208.0     719.0           5     1002.0   7.125735   \n",
       "2320   815.818538        1569.0     796.0           5     1171.0   9.412616   \n",
       "2321   823.020520         824.0     665.0           4      668.0   6.271699   \n",
       "2322   581.810739        1358.0     733.0           5      820.0  14.953657   \n",
       "2323   532.386183        1366.0     633.0           4      292.0  11.336151   \n",
       "\n",
       "        wire_sum  wire_count  wire_time  \n",
       "2319   89.150879           1        0.0  \n",
       "2320  114.179527           1        0.0  \n",
       "2321  103.134723           2      340.0  \n",
       "2322  118.110717           1        0.0  \n",
       "2323  160.166238           2      390.0  "
      ]
     },
     "execution_count": 73,
     "metadata": {},
     "output_type": "execute_result"
    }
   ],
   "source": [
    "#требование заказчика вывести df.tail()\n",
    "df.tail()"
   ]
  },
  {
   "cell_type": "markdown",
   "id": "19c26370",
   "metadata": {
    "id": "19c26370"
   },
   "source": [
    "### Анализ дата сета"
   ]
  },
  {
   "cell_type": "code",
   "execution_count": null,
   "id": "ff47bef0",
   "metadata": {
    "id": "ff47bef0",
    "outputId": "29f13378-ca88-40b3-a2b1-00966acafcff"
   },
   "outputs": [
    {
     "data": {
      "text/html": [
       "<div>\n",
       "<style scoped>\n",
       "    .dataframe tbody tr th:only-of-type {\n",
       "        vertical-align: middle;\n",
       "    }\n",
       "\n",
       "    .dataframe tbody tr th {\n",
       "        vertical-align: top;\n",
       "    }\n",
       "\n",
       "    .dataframe thead th {\n",
       "        text-align: right;\n",
       "    }\n",
       "</style>\n",
       "<table border=\"1\" class=\"dataframe\">\n",
       "  <thead>\n",
       "    <tr style=\"text-align: right;\">\n",
       "      <th></th>\n",
       "      <th>first_temp</th>\n",
       "      <th>last_temp</th>\n",
       "      <th>arc_count</th>\n",
       "      <th>arc_time_max</th>\n",
       "      <th>arc_time_mean</th>\n",
       "      <th>arc_time_min</th>\n",
       "      <th>arc_time_sum</th>\n",
       "      <th>мощн_max</th>\n",
       "      <th>мощн_mean</th>\n",
       "      <th>мощн_min</th>\n",
       "      <th>работа_sum</th>\n",
       "      <th>работа_mean</th>\n",
       "      <th>arc_duration</th>\n",
       "      <th>bulk_sum</th>\n",
       "      <th>bulk_count</th>\n",
       "      <th>bulk_time</th>\n",
       "      <th>Газ 1</th>\n",
       "      <th>wire_sum</th>\n",
       "      <th>wire_count</th>\n",
       "      <th>wire_time</th>\n",
       "    </tr>\n",
       "  </thead>\n",
       "  <tbody>\n",
       "    <tr>\n",
       "      <th>first_temp</th>\n",
       "      <td>1.000000</td>\n",
       "      <td>0.301882</td>\n",
       "      <td>-0.176861</td>\n",
       "      <td>-0.401302</td>\n",
       "      <td>-0.438062</td>\n",
       "      <td>-0.109499</td>\n",
       "      <td>-0.383939</td>\n",
       "      <td>-0.062397</td>\n",
       "      <td>-0.005643</td>\n",
       "      <td>0.073722</td>\n",
       "      <td>-0.344972</td>\n",
       "      <td>-0.345598</td>\n",
       "      <td>0.125422</td>\n",
       "      <td>-0.110817</td>\n",
       "      <td>-0.068333</td>\n",
       "      <td>0.090983</td>\n",
       "      <td>0.036736</td>\n",
       "      <td>0.131581</td>\n",
       "      <td>-0.058649</td>\n",
       "      <td>0.040609</td>\n",
       "    </tr>\n",
       "    <tr>\n",
       "      <th>last_temp</th>\n",
       "      <td>0.301882</td>\n",
       "      <td>1.000000</td>\n",
       "      <td>0.180276</td>\n",
       "      <td>0.229896</td>\n",
       "      <td>0.193524</td>\n",
       "      <td>0.010558</td>\n",
       "      <td>0.277953</td>\n",
       "      <td>0.064388</td>\n",
       "      <td>0.037525</td>\n",
       "      <td>-0.024765</td>\n",
       "      <td>0.163045</td>\n",
       "      <td>0.255918</td>\n",
       "      <td>0.114053</td>\n",
       "      <td>0.222069</td>\n",
       "      <td>0.108454</td>\n",
       "      <td>0.111225</td>\n",
       "      <td>0.059079</td>\n",
       "      <td>0.060496</td>\n",
       "      <td>-0.201582</td>\n",
       "      <td>-0.158748</td>\n",
       "    </tr>\n",
       "    <tr>\n",
       "      <th>arc_count</th>\n",
       "      <td>-0.176861</td>\n",
       "      <td>0.180276</td>\n",
       "      <td>1.000000</td>\n",
       "      <td>0.335374</td>\n",
       "      <td>-0.002575</td>\n",
       "      <td>-0.419058</td>\n",
       "      <td>0.798800</td>\n",
       "      <td>0.308403</td>\n",
       "      <td>0.032622</td>\n",
       "      <td>-0.321237</td>\n",
       "      <td>0.015947</td>\n",
       "      <td>0.711713</td>\n",
       "      <td>0.683832</td>\n",
       "      <td>0.414841</td>\n",
       "      <td>0.302660</td>\n",
       "      <td>0.430853</td>\n",
       "      <td>0.404053</td>\n",
       "      <td>0.177600</td>\n",
       "      <td>0.071681</td>\n",
       "      <td>0.092397</td>\n",
       "    </tr>\n",
       "    <tr>\n",
       "      <th>arc_time_max</th>\n",
       "      <td>-0.401302</td>\n",
       "      <td>0.229896</td>\n",
       "      <td>0.335374</td>\n",
       "      <td>1.000000</td>\n",
       "      <td>0.749103</td>\n",
       "      <td>0.047955</td>\n",
       "      <td>0.713890</td>\n",
       "      <td>0.096718</td>\n",
       "      <td>0.034848</td>\n",
       "      <td>-0.083454</td>\n",
       "      <td>0.579242</td>\n",
       "      <td>0.641673</td>\n",
       "      <td>0.330846</td>\n",
       "      <td>0.490148</td>\n",
       "      <td>0.287575</td>\n",
       "      <td>0.250465</td>\n",
       "      <td>0.235825</td>\n",
       "      <td>-0.045397</td>\n",
       "      <td>-0.040081</td>\n",
       "      <td>0.023598</td>\n",
       "    </tr>\n",
       "    <tr>\n",
       "      <th>arc_time_mean</th>\n",
       "      <td>-0.438062</td>\n",
       "      <td>0.193524</td>\n",
       "      <td>-0.002575</td>\n",
       "      <td>0.749103</td>\n",
       "      <td>1.000000</td>\n",
       "      <td>0.542710</td>\n",
       "      <td>0.560478</td>\n",
       "      <td>-0.005552</td>\n",
       "      <td>0.030202</td>\n",
       "      <td>0.037829</td>\n",
       "      <td>0.763370</td>\n",
       "      <td>0.504642</td>\n",
       "      <td>0.102316</td>\n",
       "      <td>0.378678</td>\n",
       "      <td>0.216892</td>\n",
       "      <td>0.151205</td>\n",
       "      <td>0.101484</td>\n",
       "      <td>-0.086109</td>\n",
       "      <td>-0.043514</td>\n",
       "      <td>-0.006576</td>\n",
       "    </tr>\n",
       "    <tr>\n",
       "      <th>arc_time_min</th>\n",
       "      <td>-0.109499</td>\n",
       "      <td>0.010558</td>\n",
       "      <td>-0.419058</td>\n",
       "      <td>0.047955</td>\n",
       "      <td>0.542710</td>\n",
       "      <td>1.000000</td>\n",
       "      <td>-0.048353</td>\n",
       "      <td>-0.135148</td>\n",
       "      <td>0.008279</td>\n",
       "      <td>0.195571</td>\n",
       "      <td>0.406275</td>\n",
       "      <td>-0.036408</td>\n",
       "      <td>-0.202831</td>\n",
       "      <td>-0.011527</td>\n",
       "      <td>-0.022500</td>\n",
       "      <td>-0.077241</td>\n",
       "      <td>-0.137083</td>\n",
       "      <td>-0.108200</td>\n",
       "      <td>-0.026664</td>\n",
       "      <td>-0.033761</td>\n",
       "    </tr>\n",
       "    <tr>\n",
       "      <th>arc_time_sum</th>\n",
       "      <td>-0.383939</td>\n",
       "      <td>0.277953</td>\n",
       "      <td>0.798800</td>\n",
       "      <td>0.713890</td>\n",
       "      <td>0.560478</td>\n",
       "      <td>-0.048353</td>\n",
       "      <td>1.000000</td>\n",
       "      <td>0.240289</td>\n",
       "      <td>0.047007</td>\n",
       "      <td>-0.230050</td>\n",
       "      <td>0.449739</td>\n",
       "      <td>0.900403</td>\n",
       "      <td>0.653306</td>\n",
       "      <td>0.550833</td>\n",
       "      <td>0.344395</td>\n",
       "      <td>0.443920</td>\n",
       "      <td>0.396207</td>\n",
       "      <td>0.091815</td>\n",
       "      <td>0.029057</td>\n",
       "      <td>0.071552</td>\n",
       "    </tr>\n",
       "    <tr>\n",
       "      <th>мощн_max</th>\n",
       "      <td>-0.062397</td>\n",
       "      <td>0.064388</td>\n",
       "      <td>0.308403</td>\n",
       "      <td>0.096718</td>\n",
       "      <td>-0.005552</td>\n",
       "      <td>-0.135148</td>\n",
       "      <td>0.240289</td>\n",
       "      <td>1.000000</td>\n",
       "      <td>0.762306</td>\n",
       "      <td>0.118517</td>\n",
       "      <td>0.430874</td>\n",
       "      <td>0.484423</td>\n",
       "      <td>0.185421</td>\n",
       "      <td>0.149976</td>\n",
       "      <td>0.131949</td>\n",
       "      <td>0.158853</td>\n",
       "      <td>0.125178</td>\n",
       "      <td>0.067461</td>\n",
       "      <td>0.013680</td>\n",
       "      <td>0.016180</td>\n",
       "    </tr>\n",
       "    <tr>\n",
       "      <th>мощн_mean</th>\n",
       "      <td>-0.005643</td>\n",
       "      <td>0.037525</td>\n",
       "      <td>0.032622</td>\n",
       "      <td>0.034848</td>\n",
       "      <td>0.030202</td>\n",
       "      <td>0.008279</td>\n",
       "      <td>0.047007</td>\n",
       "      <td>0.762306</td>\n",
       "      <td>1.000000</td>\n",
       "      <td>0.579613</td>\n",
       "      <td>0.594820</td>\n",
       "      <td>0.396816</td>\n",
       "      <td>0.027838</td>\n",
       "      <td>0.051551</td>\n",
       "      <td>0.053331</td>\n",
       "      <td>0.043338</td>\n",
       "      <td>0.040410</td>\n",
       "      <td>0.028148</td>\n",
       "      <td>-0.020250</td>\n",
       "      <td>-0.016309</td>\n",
       "    </tr>\n",
       "    <tr>\n",
       "      <th>мощн_min</th>\n",
       "      <td>0.073722</td>\n",
       "      <td>-0.024765</td>\n",
       "      <td>-0.321237</td>\n",
       "      <td>-0.083454</td>\n",
       "      <td>0.037829</td>\n",
       "      <td>0.195571</td>\n",
       "      <td>-0.230050</td>\n",
       "      <td>0.118517</td>\n",
       "      <td>0.579613</td>\n",
       "      <td>1.000000</td>\n",
       "      <td>0.362158</td>\n",
       "      <td>-0.008911</td>\n",
       "      <td>-0.195469</td>\n",
       "      <td>-0.118477</td>\n",
       "      <td>-0.084933</td>\n",
       "      <td>-0.138197</td>\n",
       "      <td>-0.103297</td>\n",
       "      <td>-0.021335</td>\n",
       "      <td>-0.025024</td>\n",
       "      <td>-0.037560</td>\n",
       "    </tr>\n",
       "    <tr>\n",
       "      <th>работа_sum</th>\n",
       "      <td>-0.344972</td>\n",
       "      <td>0.163045</td>\n",
       "      <td>0.015947</td>\n",
       "      <td>0.579242</td>\n",
       "      <td>0.763370</td>\n",
       "      <td>0.406275</td>\n",
       "      <td>0.449739</td>\n",
       "      <td>0.430874</td>\n",
       "      <td>0.594820</td>\n",
       "      <td>0.362158</td>\n",
       "      <td>1.000000</td>\n",
       "      <td>0.668744</td>\n",
       "      <td>0.086300</td>\n",
       "      <td>0.310237</td>\n",
       "      <td>0.186759</td>\n",
       "      <td>0.123907</td>\n",
       "      <td>0.089591</td>\n",
       "      <td>-0.047998</td>\n",
       "      <td>-0.036589</td>\n",
       "      <td>-0.013191</td>\n",
       "    </tr>\n",
       "    <tr>\n",
       "      <th>работа_mean</th>\n",
       "      <td>-0.345598</td>\n",
       "      <td>0.255918</td>\n",
       "      <td>0.711713</td>\n",
       "      <td>0.641673</td>\n",
       "      <td>0.504642</td>\n",
       "      <td>-0.036408</td>\n",
       "      <td>0.900403</td>\n",
       "      <td>0.484423</td>\n",
       "      <td>0.396816</td>\n",
       "      <td>-0.008911</td>\n",
       "      <td>0.668744</td>\n",
       "      <td>1.000000</td>\n",
       "      <td>0.588296</td>\n",
       "      <td>0.500803</td>\n",
       "      <td>0.316353</td>\n",
       "      <td>0.390798</td>\n",
       "      <td>0.354231</td>\n",
       "      <td>0.092837</td>\n",
       "      <td>0.020719</td>\n",
       "      <td>0.055073</td>\n",
       "    </tr>\n",
       "    <tr>\n",
       "      <th>arc_duration</th>\n",
       "      <td>0.125422</td>\n",
       "      <td>0.114053</td>\n",
       "      <td>0.683832</td>\n",
       "      <td>0.330846</td>\n",
       "      <td>0.102316</td>\n",
       "      <td>-0.202831</td>\n",
       "      <td>0.653306</td>\n",
       "      <td>0.185421</td>\n",
       "      <td>0.027838</td>\n",
       "      <td>-0.195469</td>\n",
       "      <td>0.086300</td>\n",
       "      <td>0.588296</td>\n",
       "      <td>1.000000</td>\n",
       "      <td>0.354609</td>\n",
       "      <td>0.236189</td>\n",
       "      <td>0.625553</td>\n",
       "      <td>0.450136</td>\n",
       "      <td>0.199645</td>\n",
       "      <td>0.109133</td>\n",
       "      <td>0.250275</td>\n",
       "    </tr>\n",
       "    <tr>\n",
       "      <th>bulk_sum</th>\n",
       "      <td>-0.110817</td>\n",
       "      <td>0.222069</td>\n",
       "      <td>0.414841</td>\n",
       "      <td>0.490148</td>\n",
       "      <td>0.378678</td>\n",
       "      <td>-0.011527</td>\n",
       "      <td>0.550833</td>\n",
       "      <td>0.149976</td>\n",
       "      <td>0.051551</td>\n",
       "      <td>-0.118477</td>\n",
       "      <td>0.310237</td>\n",
       "      <td>0.500803</td>\n",
       "      <td>0.354609</td>\n",
       "      <td>1.000000</td>\n",
       "      <td>0.768711</td>\n",
       "      <td>0.531761</td>\n",
       "      <td>0.313561</td>\n",
       "      <td>0.007350</td>\n",
       "      <td>-0.088059</td>\n",
       "      <td>-0.028086</td>\n",
       "    </tr>\n",
       "    <tr>\n",
       "      <th>bulk_count</th>\n",
       "      <td>-0.068333</td>\n",
       "      <td>0.108454</td>\n",
       "      <td>0.302660</td>\n",
       "      <td>0.287575</td>\n",
       "      <td>0.216892</td>\n",
       "      <td>-0.022500</td>\n",
       "      <td>0.344395</td>\n",
       "      <td>0.131949</td>\n",
       "      <td>0.053331</td>\n",
       "      <td>-0.084933</td>\n",
       "      <td>0.186759</td>\n",
       "      <td>0.316353</td>\n",
       "      <td>0.236189</td>\n",
       "      <td>0.768711</td>\n",
       "      <td>1.000000</td>\n",
       "      <td>0.576466</td>\n",
       "      <td>0.223562</td>\n",
       "      <td>-0.031667</td>\n",
       "      <td>-0.082776</td>\n",
       "      <td>-0.034646</td>\n",
       "    </tr>\n",
       "    <tr>\n",
       "      <th>bulk_time</th>\n",
       "      <td>0.090983</td>\n",
       "      <td>0.111225</td>\n",
       "      <td>0.430853</td>\n",
       "      <td>0.250465</td>\n",
       "      <td>0.151205</td>\n",
       "      <td>-0.077241</td>\n",
       "      <td>0.443920</td>\n",
       "      <td>0.158853</td>\n",
       "      <td>0.043338</td>\n",
       "      <td>-0.138197</td>\n",
       "      <td>0.123907</td>\n",
       "      <td>0.390798</td>\n",
       "      <td>0.625553</td>\n",
       "      <td>0.531761</td>\n",
       "      <td>0.576466</td>\n",
       "      <td>1.000000</td>\n",
       "      <td>0.347676</td>\n",
       "      <td>0.092044</td>\n",
       "      <td>-0.027159</td>\n",
       "      <td>0.061108</td>\n",
       "    </tr>\n",
       "    <tr>\n",
       "      <th>Газ 1</th>\n",
       "      <td>0.036736</td>\n",
       "      <td>0.059079</td>\n",
       "      <td>0.404053</td>\n",
       "      <td>0.235825</td>\n",
       "      <td>0.101484</td>\n",
       "      <td>-0.137083</td>\n",
       "      <td>0.396207</td>\n",
       "      <td>0.125178</td>\n",
       "      <td>0.040410</td>\n",
       "      <td>-0.103297</td>\n",
       "      <td>0.089591</td>\n",
       "      <td>0.354231</td>\n",
       "      <td>0.450136</td>\n",
       "      <td>0.313561</td>\n",
       "      <td>0.223562</td>\n",
       "      <td>0.347676</td>\n",
       "      <td>1.000000</td>\n",
       "      <td>0.216310</td>\n",
       "      <td>0.130522</td>\n",
       "      <td>0.207033</td>\n",
       "    </tr>\n",
       "    <tr>\n",
       "      <th>wire_sum</th>\n",
       "      <td>0.131581</td>\n",
       "      <td>0.060496</td>\n",
       "      <td>0.177600</td>\n",
       "      <td>-0.045397</td>\n",
       "      <td>-0.086109</td>\n",
       "      <td>-0.108200</td>\n",
       "      <td>0.091815</td>\n",
       "      <td>0.067461</td>\n",
       "      <td>0.028148</td>\n",
       "      <td>-0.021335</td>\n",
       "      <td>-0.047998</td>\n",
       "      <td>0.092837</td>\n",
       "      <td>0.199645</td>\n",
       "      <td>0.007350</td>\n",
       "      <td>-0.031667</td>\n",
       "      <td>0.092044</td>\n",
       "      <td>0.216310</td>\n",
       "      <td>1.000000</td>\n",
       "      <td>0.520873</td>\n",
       "      <td>0.437136</td>\n",
       "    </tr>\n",
       "    <tr>\n",
       "      <th>wire_count</th>\n",
       "      <td>-0.058649</td>\n",
       "      <td>-0.201582</td>\n",
       "      <td>0.071681</td>\n",
       "      <td>-0.040081</td>\n",
       "      <td>-0.043514</td>\n",
       "      <td>-0.026664</td>\n",
       "      <td>0.029057</td>\n",
       "      <td>0.013680</td>\n",
       "      <td>-0.020250</td>\n",
       "      <td>-0.025024</td>\n",
       "      <td>-0.036589</td>\n",
       "      <td>0.020719</td>\n",
       "      <td>0.109133</td>\n",
       "      <td>-0.088059</td>\n",
       "      <td>-0.082776</td>\n",
       "      <td>-0.027159</td>\n",
       "      <td>0.130522</td>\n",
       "      <td>0.520873</td>\n",
       "      <td>1.000000</td>\n",
       "      <td>0.834368</td>\n",
       "    </tr>\n",
       "    <tr>\n",
       "      <th>wire_time</th>\n",
       "      <td>0.040609</td>\n",
       "      <td>-0.158748</td>\n",
       "      <td>0.092397</td>\n",
       "      <td>0.023598</td>\n",
       "      <td>-0.006576</td>\n",
       "      <td>-0.033761</td>\n",
       "      <td>0.071552</td>\n",
       "      <td>0.016180</td>\n",
       "      <td>-0.016309</td>\n",
       "      <td>-0.037560</td>\n",
       "      <td>-0.013191</td>\n",
       "      <td>0.055073</td>\n",
       "      <td>0.250275</td>\n",
       "      <td>-0.028086</td>\n",
       "      <td>-0.034646</td>\n",
       "      <td>0.061108</td>\n",
       "      <td>0.207033</td>\n",
       "      <td>0.437136</td>\n",
       "      <td>0.834368</td>\n",
       "      <td>1.000000</td>\n",
       "    </tr>\n",
       "  </tbody>\n",
       "</table>\n",
       "</div>"
      ],
      "text/plain": [
       "               first_temp  last_temp  arc_count  arc_time_max  arc_time_mean  \\\n",
       "first_temp       1.000000   0.301882  -0.176861     -0.401302      -0.438062   \n",
       "last_temp        0.301882   1.000000   0.180276      0.229896       0.193524   \n",
       "arc_count       -0.176861   0.180276   1.000000      0.335374      -0.002575   \n",
       "arc_time_max    -0.401302   0.229896   0.335374      1.000000       0.749103   \n",
       "arc_time_mean   -0.438062   0.193524  -0.002575      0.749103       1.000000   \n",
       "arc_time_min    -0.109499   0.010558  -0.419058      0.047955       0.542710   \n",
       "arc_time_sum    -0.383939   0.277953   0.798800      0.713890       0.560478   \n",
       "мощн_max        -0.062397   0.064388   0.308403      0.096718      -0.005552   \n",
       "мощн_mean       -0.005643   0.037525   0.032622      0.034848       0.030202   \n",
       "мощн_min         0.073722  -0.024765  -0.321237     -0.083454       0.037829   \n",
       "работа_sum      -0.344972   0.163045   0.015947      0.579242       0.763370   \n",
       "работа_mean     -0.345598   0.255918   0.711713      0.641673       0.504642   \n",
       "arc_duration     0.125422   0.114053   0.683832      0.330846       0.102316   \n",
       "bulk_sum        -0.110817   0.222069   0.414841      0.490148       0.378678   \n",
       "bulk_count      -0.068333   0.108454   0.302660      0.287575       0.216892   \n",
       "bulk_time        0.090983   0.111225   0.430853      0.250465       0.151205   \n",
       "Газ 1            0.036736   0.059079   0.404053      0.235825       0.101484   \n",
       "wire_sum         0.131581   0.060496   0.177600     -0.045397      -0.086109   \n",
       "wire_count      -0.058649  -0.201582   0.071681     -0.040081      -0.043514   \n",
       "wire_time        0.040609  -0.158748   0.092397      0.023598      -0.006576   \n",
       "\n",
       "               arc_time_min  arc_time_sum  мощн_max  мощн_mean  мощн_min  \\\n",
       "first_temp        -0.109499     -0.383939 -0.062397  -0.005643  0.073722   \n",
       "last_temp          0.010558      0.277953  0.064388   0.037525 -0.024765   \n",
       "arc_count         -0.419058      0.798800  0.308403   0.032622 -0.321237   \n",
       "arc_time_max       0.047955      0.713890  0.096718   0.034848 -0.083454   \n",
       "arc_time_mean      0.542710      0.560478 -0.005552   0.030202  0.037829   \n",
       "arc_time_min       1.000000     -0.048353 -0.135148   0.008279  0.195571   \n",
       "arc_time_sum      -0.048353      1.000000  0.240289   0.047007 -0.230050   \n",
       "мощн_max          -0.135148      0.240289  1.000000   0.762306  0.118517   \n",
       "мощн_mean          0.008279      0.047007  0.762306   1.000000  0.579613   \n",
       "мощн_min           0.195571     -0.230050  0.118517   0.579613  1.000000   \n",
       "работа_sum         0.406275      0.449739  0.430874   0.594820  0.362158   \n",
       "работа_mean       -0.036408      0.900403  0.484423   0.396816 -0.008911   \n",
       "arc_duration      -0.202831      0.653306  0.185421   0.027838 -0.195469   \n",
       "bulk_sum          -0.011527      0.550833  0.149976   0.051551 -0.118477   \n",
       "bulk_count        -0.022500      0.344395  0.131949   0.053331 -0.084933   \n",
       "bulk_time         -0.077241      0.443920  0.158853   0.043338 -0.138197   \n",
       "Газ 1             -0.137083      0.396207  0.125178   0.040410 -0.103297   \n",
       "wire_sum          -0.108200      0.091815  0.067461   0.028148 -0.021335   \n",
       "wire_count        -0.026664      0.029057  0.013680  -0.020250 -0.025024   \n",
       "wire_time         -0.033761      0.071552  0.016180  -0.016309 -0.037560   \n",
       "\n",
       "               работа_sum  работа_mean  arc_duration  bulk_sum  bulk_count  \\\n",
       "first_temp      -0.344972    -0.345598      0.125422 -0.110817   -0.068333   \n",
       "last_temp        0.163045     0.255918      0.114053  0.222069    0.108454   \n",
       "arc_count        0.015947     0.711713      0.683832  0.414841    0.302660   \n",
       "arc_time_max     0.579242     0.641673      0.330846  0.490148    0.287575   \n",
       "arc_time_mean    0.763370     0.504642      0.102316  0.378678    0.216892   \n",
       "arc_time_min     0.406275    -0.036408     -0.202831 -0.011527   -0.022500   \n",
       "arc_time_sum     0.449739     0.900403      0.653306  0.550833    0.344395   \n",
       "мощн_max         0.430874     0.484423      0.185421  0.149976    0.131949   \n",
       "мощн_mean        0.594820     0.396816      0.027838  0.051551    0.053331   \n",
       "мощн_min         0.362158    -0.008911     -0.195469 -0.118477   -0.084933   \n",
       "работа_sum       1.000000     0.668744      0.086300  0.310237    0.186759   \n",
       "работа_mean      0.668744     1.000000      0.588296  0.500803    0.316353   \n",
       "arc_duration     0.086300     0.588296      1.000000  0.354609    0.236189   \n",
       "bulk_sum         0.310237     0.500803      0.354609  1.000000    0.768711   \n",
       "bulk_count       0.186759     0.316353      0.236189  0.768711    1.000000   \n",
       "bulk_time        0.123907     0.390798      0.625553  0.531761    0.576466   \n",
       "Газ 1            0.089591     0.354231      0.450136  0.313561    0.223562   \n",
       "wire_sum        -0.047998     0.092837      0.199645  0.007350   -0.031667   \n",
       "wire_count      -0.036589     0.020719      0.109133 -0.088059   -0.082776   \n",
       "wire_time       -0.013191     0.055073      0.250275 -0.028086   -0.034646   \n",
       "\n",
       "               bulk_time     Газ 1  wire_sum  wire_count  wire_time  \n",
       "first_temp      0.090983  0.036736  0.131581   -0.058649   0.040609  \n",
       "last_temp       0.111225  0.059079  0.060496   -0.201582  -0.158748  \n",
       "arc_count       0.430853  0.404053  0.177600    0.071681   0.092397  \n",
       "arc_time_max    0.250465  0.235825 -0.045397   -0.040081   0.023598  \n",
       "arc_time_mean   0.151205  0.101484 -0.086109   -0.043514  -0.006576  \n",
       "arc_time_min   -0.077241 -0.137083 -0.108200   -0.026664  -0.033761  \n",
       "arc_time_sum    0.443920  0.396207  0.091815    0.029057   0.071552  \n",
       "мощн_max        0.158853  0.125178  0.067461    0.013680   0.016180  \n",
       "мощн_mean       0.043338  0.040410  0.028148   -0.020250  -0.016309  \n",
       "мощн_min       -0.138197 -0.103297 -0.021335   -0.025024  -0.037560  \n",
       "работа_sum      0.123907  0.089591 -0.047998   -0.036589  -0.013191  \n",
       "работа_mean     0.390798  0.354231  0.092837    0.020719   0.055073  \n",
       "arc_duration    0.625553  0.450136  0.199645    0.109133   0.250275  \n",
       "bulk_sum        0.531761  0.313561  0.007350   -0.088059  -0.028086  \n",
       "bulk_count      0.576466  0.223562 -0.031667   -0.082776  -0.034646  \n",
       "bulk_time       1.000000  0.347676  0.092044   -0.027159   0.061108  \n",
       "Газ 1           0.347676  1.000000  0.216310    0.130522   0.207033  \n",
       "wire_sum        0.092044  0.216310  1.000000    0.520873   0.437136  \n",
       "wire_count     -0.027159  0.130522  0.520873    1.000000   0.834368  \n",
       "wire_time       0.061108  0.207033  0.437136    0.834368   1.000000  "
      ]
     },
     "execution_count": 74,
     "metadata": {},
     "output_type": "execute_result"
    }
   ],
   "source": [
    "df.corr()"
   ]
  },
  {
   "cell_type": "markdown",
   "id": "92534ffc",
   "metadata": {
    "id": "92534ffc"
   },
   "source": [
    "Сильно коррелируют работа и  время, что логично.   \n",
    "По требованию заказчика  для лин регресси высоко коррелир признаки нужно удалить.    \n",
    "arc_time_sum  и работа_mean  коррелирует 0.9      \n",
    "столбец с arc_time_sum  будем дропать "
   ]
  },
  {
   "cell_type": "markdown",
   "id": "71cbe0b6",
   "metadata": {
    "id": "71cbe0b6"
   },
   "source": [
    "Поостроим диаграмы для каждого признака"
   ]
  },
  {
   "cell_type": "code",
   "execution_count": null,
   "id": "d03bc15e",
   "metadata": {
    "id": "d03bc15e",
    "outputId": "dc2d9048-478e-4b93-b75f-1a60f5145eea"
   },
   "outputs": [
    {
     "data": {
      "image/png": "[encoded data removed]",
      "text/plain": [
       "<Figure size 432x288 with 1 Axes>"
      ]
     },
     "metadata": {
      "needs_background": "light"
     },
     "output_type": "display_data"
    },
    {
     "data": {
      "image/png": "[encoded data removed]",
      "text/plain": [
       "<Figure size 432x288 with 1 Axes>"
      ]
     },
     "metadata": {
      "needs_background": "light"
     },
     "output_type": "display_data"
    },
    {
     "data": {
      "image/png": "[encoded data removed]",
      "text/plain": [
       "<Figure size 432x288 with 1 Axes>"
      ]
     },
     "metadata": {
      "needs_background": "light"
     },
     "output_type": "display_data"
    },
    {
     "data": {
      "image/png": "[encoded data removed]",
      "text/plain": [
       "<Figure size 432x288 with 1 Axes>"
      ]
     },
     "metadata": {
      "needs_background": "light"
     },
     "output_type": "display_data"
    },
    {
     "data": {
      "image/png": "[encoded data removed]",
      "text/plain": [
       "<Figure size 432x288 with 1 Axes>"
      ]
     },
     "metadata": {
      "needs_background": "light"
     },
     "output_type": "display_data"
    },
    {
     "data": {
      "image/png": "[encoded data removed]",
      "text/plain": [
       "<Figure size 432x288 with 1 Axes>"
      ]
     },
     "metadata": {
      "needs_background": "light"
     },
     "output_type": "display_data"
    },
    {
     "data": {
      "image/png": "[encoded data removed]",
      "text/plain": [
       "<Figure size 432x288 with 1 Axes>"
      ]
     },
     "metadata": {
      "needs_background": "light"
     },
     "output_type": "display_data"
    },
    {
     "data": {
      "image/png": "[encoded data removed]",
      "text/plain": [
       "<Figure size 432x288 with 1 Axes>"
      ]
     },
     "metadata": {
      "needs_background": "light"
     },
     "output_type": "display_data"
    },
    {
     "data": {
      "image/png": "[encoded data removed]",
      "text/plain": [
       "<Figure size 432x288 with 1 Axes>"
      ]
     },
     "metadata": {
      "needs_background": "light"
     },
     "output_type": "display_data"
    },
    {
     "data": {
      "image/png": "[encoded data removed]",
      "text/plain": [
       "<Figure size 432x288 with 1 Axes>"
      ]
     },
     "metadata": {
      "needs_background": "light"
     },
     "output_type": "display_data"
    },
    {
     "data": {
      "image/png": "[encoded data removed]",
      "text/plain": [
       "<Figure size 432x288 with 1 Axes>"
      ]
     },
     "metadata": {
      "needs_background": "light"
     },
     "output_type": "display_data"
    },
    {
     "data": {
      "image/png": "[encoded data removed]",
      "text/plain": [
       "<Figure size 432x288 with 1 Axes>"
      ]
     },
     "metadata": {
      "needs_background": "light"
     },
     "output_type": "display_data"
    },
    {
     "data": {
      "image/png": "[encoded data removed]",
      "text/plain": [
       "<Figure size 432x288 with 1 Axes>"
      ]
     },
     "metadata": {
      "needs_background": "light"
     },
     "output_type": "display_data"
    },
    {
     "data": {
      "image/png": "[encoded data removed]",
      "text/plain": [
       "<Figure size 432x288 with 1 Axes>"
      ]
     },
     "metadata": {
      "needs_background": "light"
     },
     "output_type": "display_data"
    },
    {
     "data": {
      "image/png": "[encoded data removed]",
      "text/plain": [
       "<Figure size 432x288 with 1 Axes>"
      ]
     },
     "metadata": {
      "needs_background": "light"
     },
     "output_type": "display_data"
    },
    {
     "data": {
      "image/png": "[encoded data removed]",
      "text/plain": [
       "<Figure size 432x288 with 1 Axes>"
      ]
     },
     "metadata": {
      "needs_background": "light"
     },
     "output_type": "display_data"
    },
    {
     "data": {
      "image/png": "[encoded data removed]",
      "text/plain": [
       "<Figure size 432x288 with 1 Axes>"
      ]
     },
     "metadata": {
      "needs_background": "light"
     },
     "output_type": "display_data"
    },
    {
     "data": {
      "image/png": "[encoded data removed]",
      "text/plain": [
       "<Figure size 432x288 with 1 Axes>"
      ]
     },
     "metadata": {
      "needs_background": "light"
     },
     "output_type": "display_data"
    },
    {
     "data": {
      "image/png": "[encoded data removed]",
      "text/plain": [
       "<Figure size 432x288 with 1 Axes>"
      ]
     },
     "metadata": {
      "needs_background": "light"
     },
     "output_type": "display_data"
    },
    {
     "data": {
      "image/png": "[encoded data removed]",
      "text/plain": [
       "<Figure size 432x288 with 1 Axes>"
      ]
     },
     "metadata": {
      "needs_background": "light"
     },
     "output_type": "display_data"
    }
   ],
   "source": [
    "for i in df.columns.to_list() :\n",
    "    plt.title(f'гисторамма распределения   {i}')\n",
    "    plt.ylabel('count')\n",
    "    df[i].hist(bins=50)\n",
    "    plt.show()"
   ]
  },
  {
   "cell_type": "markdown",
   "id": "45dca266",
   "metadata": {
    "id": "45dca266"
   },
   "source": [
    "**Вывод** Видим что для сыпучих материалов, проволоки и  газа есть экстремальные значения- выбросы.   \n",
    "Возможно это связано с процессом производстенным.\n",
    "Пока их не удаляем.    \n",
    "В дальнейщем если не удасться добиться метрики, можно пробовать удалять. "
   ]
  },
  {
   "cell_type": "markdown",
   "id": "931dcea8",
   "metadata": {
    "id": "931dcea8"
   },
   "source": [
    "# ML       \n",
    "Выберем ЛинРегресию и CatBoost.     \n",
    "Обучение нужно проводить с использолванием кросс валдиации.  \n",
    "Отметим , что  данных крайне мало для ML"
   ]
  },
  {
   "cell_type": "markdown",
   "id": "aff92295",
   "metadata": {
    "id": "aff92295"
   },
   "source": [
    "## Линейная регрессия"
   ]
  },
  {
   "cell_type": "markdown",
   "id": "9157d425",
   "metadata": {
    "id": "9157d425"
   },
   "source": [
    "### Подготовка датасета к ЛинРег    \n",
    "- делим датасет на тест и трейн выборки.    \n",
    "- дроп arc_time_sum из-за корреляций по требованию заказчика\n",
    "- проводим масштабирование признаков по требованию заказчика\n",
    "- OHE не требуется, все признаки численные"
   ]
  },
  {
   "cell_type": "code",
   "execution_count": null,
   "id": "ee535719",
   "metadata": {
    "id": "ee535719",
    "outputId": "361f2192-2e76-446d-9018-fbba73c45de7"
   },
   "outputs": [
    {
     "name": "stdout",
     "output_type": "stream",
     "text": [
      "X_train.shape=  (1743, 18)\n",
      "X_test.shape (581, 18)\n"
     ]
    }
   ],
   "source": [
    "X = df.drop(['last_temp', 'arc_time_sum'], axis=1)\n",
    "y = df['last_temp']\n",
    "X_train, X_test, y_train, y_test = train_test_split(X, y, test_size=0.25, random_state=RANDOM_SEED)\n",
    "print('X_train.shape= ',X_train.shape)\n",
    "print('X_test.shape',X_test.shape)\n"
   ]
  },
  {
   "cell_type": "code",
   "execution_count": null,
   "id": "b6d178d4",
   "metadata": {
    "id": "b6d178d4"
   },
   "outputs": [],
   "source": [
    "# создаём скелер ,  в датасетах все признаки численные \n",
    "scaler = StandardScaler()\n",
    "# обучаем скелер на численных признаках тренировочной выборки\n",
    "scaler.fit(X_train)\n",
    "#масштабируем все выборки\n",
    "X_train = scaler.transform(X_train)\n",
    "X_test = scaler.transform(X_test)"
   ]
  },
  {
   "cell_type": "code",
   "execution_count": null,
   "id": "9bc74ed6",
   "metadata": {
    "id": "9bc74ed6"
   },
   "outputs": [],
   "source": [
    "X_train"
   ]
  },
  {
   "cell_type": "markdown",
   "id": "add935da",
   "metadata": {
    "id": "add935da"
   },
   "source": [
    "### Обучение модели ЛинРег  с кроссвалидацией"
   ]
  },
  {
   "cell_type": "code",
   "execution_count": null,
   "id": "9bfad1dc",
   "metadata": {
    "id": "9bfad1dc",
    "outputId": "cd2ef3ad-a623-4aa0-df92-c8d424018d47"
   },
   "outputs": [
    {
     "data": {
      "text/plain": [
       "6.544966782329055"
      ]
     },
     "execution_count": 79,
     "metadata": {},
     "output_type": "execute_result"
    }
   ],
   "source": [
    "model = LinearRegression()\n",
    "# Кросс-валидация с помощью cross_val_score\n",
    "scoring = make_scorer(mean_absolute_error)\n",
    "scores = cross_val_score(model, X_train, y_train, cv=5,scoring=scoring)\n",
    "scores.mean()"
   ]
  },
  {
   "cell_type": "code",
   "execution_count": null,
   "id": "dccc8852",
   "metadata": {
    "id": "dccc8852",
    "outputId": "2cfead6a-376a-4907-fa08-f5f2c4ead13b"
   },
   "outputs": [
    {
     "data": {
      "text/plain": [
       "0.24332268989415154"
      ]
     },
     "execution_count": 361,
     "metadata": {},
     "output_type": "execute_result"
    }
   ],
   "source": [
    "scores.std()"
   ]
  },
  {
   "cell_type": "markdown",
   "id": "2d087906",
   "metadata": {
    "id": "2d087906"
   },
   "source": [
    "**Вывод по обучению ЛинРег**.  Результат не плохой. На тест выборке будет еще лучше, т к данных мало и после того как обучим на все Трейн выборке метрика улучшится."
   ]
  },
  {
   "cell_type": "markdown",
   "id": "9d4b3e84",
   "metadata": {
    "id": "9d4b3e84"
   },
   "source": [
    "### Features important for LinRegression    \n",
    "Обучим модель на всех трейн выборке.    \n",
    "Посмотрим важность фичей. Попробуем исключить самые не важные.   \n",
    "Затем проверим метрику на кросс валидации. \n"
   ]
  },
  {
   "cell_type": "code",
   "execution_count": null,
   "id": "b781b66d",
   "metadata": {
    "id": "b781b66d",
    "outputId": "3735dfe3-d026-4a7b-bfaa-b5d1ab5e7e16"
   },
   "outputs": [
    {
     "data": {
      "text/plain": [
       "first_temp       8.207273\n",
       "работа_mean      6.881984\n",
       "arc_time_mean    5.801283\n",
       "arc_duration     5.352479\n",
       "работа_sum       4.172364\n",
       "arc_count        2.526583\n",
       "wire_count       1.493202\n",
       "wire_sum         1.181106\n",
       "Газ 1            0.955565\n",
       "wire_time        0.854146\n",
       "arc_time_max     0.727145\n",
       "bulk_count       0.570057\n",
       "arc_time_min     0.400675\n",
       "мощн_mean        0.293257\n",
       "мощн_min         0.267716\n",
       "bulk_sum         0.255902\n",
       "мощн_max         0.044325\n",
       "bulk_time        0.025140\n",
       "dtype: float64"
      ]
     },
     "execution_count": 362,
     "metadata": {},
     "output_type": "execute_result"
    }
   ],
   "source": [
    "model = LinearRegression()\n",
    "model.fit(X_train, y_train)\n",
    "pd.Series(model.coef_ , index=X.columns ).abs().sort_values(ascending=False)"
   ]
  },
  {
   "cell_type": "markdown",
   "id": "13300864",
   "metadata": {
    "id": "13300864"
   },
   "source": [
    "**Вывод**.  Самые важные фичи для ЛинРег это температура и дале работа , время и продолжительность нагрева электродами.     \n"
   ]
  },
  {
   "cell_type": "markdown",
   "id": "1cb8cb1a",
   "metadata": {
    "id": "1cb8cb1a"
   },
   "source": [
    "Создадим цикл и в нем будем исключать по 1,2,3 и до 10  фичи и проверять метрику"
   ]
  },
  {
   "cell_type": "code",
   "execution_count": null,
   "id": "fb2d2c25",
   "metadata": {
    "id": "fb2d2c25",
    "outputId": "477601d2-0870-4fd3-9b93-994a52c74f90"
   },
   "outputs": [
    {
     "data": {
      "text/plain": [
       "['bulk_time',\n",
       " 'мощн_max',\n",
       " 'bulk_sum',\n",
       " 'мощн_min',\n",
       " 'мощн_mean',\n",
       " 'arc_time_min',\n",
       " 'bulk_count',\n",
       " 'arc_time_max',\n",
       " 'wire_time',\n",
       " 'Газ 1']"
      ]
     },
     "execution_count": 363,
     "metadata": {},
     "output_type": "execute_result"
    }
   ],
   "source": [
    "# формируем список самых не важных фичей на первом месте в списке самая не важная\n",
    "list_features_important = pd.Series(model.coef_ , index=X.columns ).abs().\\\n",
    "                          sort_values(ascending=True).reset_index()['index'].head(10).to_list()\n",
    "list_features_important"
   ]
  },
  {
   "cell_type": "code",
   "execution_count": null,
   "id": "36acf054",
   "metadata": {
    "id": "36acf054",
    "outputId": "8d0ba0fb-c9b4-46e2-ddf0-a2fb27d9eacd"
   },
   "outputs": [
    {
     "data": {
      "text/plain": [
       "{'bulk_time': 6.543110046055557,\n",
       " 'мощн_max': 6.537524436626134,\n",
       " 'bulk_sum': 6.527150122319355,\n",
       " 'мощн_min': 6.520540214969468,\n",
       " 'мощн_mean': 6.5146014458994,\n",
       " 'arc_time_min': 6.511423333796981,\n",
       " 'bulk_count': 6.505063486122952,\n",
       " 'arc_time_max': 6.516110715971273,\n",
       " 'wire_time': 6.510547956926233,\n",
       " 'Газ 1': 6.536795901839959}"
      ]
     },
     "execution_count": 384,
     "metadata": {},
     "output_type": "execute_result"
    }
   ],
   "source": [
    "# цикл дропа по фичей и оценка метрики\n",
    "mae_linreg ={}\n",
    "scoring = make_scorer(mean_absolute_error)\n",
    "X = df.drop(['last_temp', 'arc_time_sum'], axis=1)\n",
    "y = df['last_temp']\n",
    "\n",
    "for  i in list_features_important:\n",
    "    #дропаем по одной фиче\n",
    "    X = X.drop(i, axis=1)     #y остаеться прежним всегда \n",
    "    \n",
    "    # делим выборку\n",
    "    X_train, X_test, y_train, y_test = train_test_split(X, y, test_size=0.25, random_state=RANDOM_SEED)\n",
    "    \n",
    "    #масштабируем \n",
    "    scaler = StandardScaler()\n",
    "    scaler.fit(X_train)\n",
    "    X_train = scaler.transform(X_train)\n",
    "    X_test = scaler.transform(X_test)\n",
    "    \n",
    "    #кроссвал\n",
    "    model = LinearRegression()\n",
    "    scores = cross_val_score(model, X_train, y_train, cv=5,scoring=scoring )\n",
    "    # результат в словарь\n",
    "    mae_linreg[i] = scores.mean()\n",
    "mae_linreg    "
   ]
  },
  {
   "cell_type": "code",
   "execution_count": null,
   "id": "a80c5884",
   "metadata": {
    "id": "a80c5884",
    "outputId": "6a9bad2c-6d6f-4688-bc1b-a36ce2b01dce"
   },
   "outputs": [
    {
     "data": {
      "image/png": "[encoded data removed]",
      "text/plain": [
       "<Figure size 640x480 with 1 Axes>"
      ]
     },
     "metadata": {},
     "output_type": "display_data"
    }
   ],
   "source": [
    "plt.title('График метрики MАЕ после каждого дропа признака')\n",
    "plt.plot(mae_linreg.keys(), mae_linreg.values())\n",
    "plt.ylabel('MAE')\n",
    "plt.xticks(rotation=45);"
   ]
  },
  {
   "cell_type": "markdown",
   "id": "4e2c844e",
   "metadata": {
    "id": "4e2c844e"
   },
   "source": [
    "Как видно минимальное значение достигается при дропе до 'bulk_count', те  7 шт дропов.\n"
   ]
  },
  {
   "cell_type": "markdown",
   "id": "0a8b8ca6",
   "metadata": {
    "id": "0a8b8ca6"
   },
   "source": [
    "#### финальное тестирование LinReg на лучших фичах после отсева\n"
   ]
  },
  {
   "cell_type": "code",
   "execution_count": null,
   "id": "c6a66879",
   "metadata": {
    "id": "c6a66879",
    "outputId": "f5deb952-8b80-47ac-880d-6c44d5365ee7"
   },
   "outputs": [
    {
     "name": "stdout",
     "output_type": "stream",
     "text": [
      "лучшая метрика Лин Рег на кросс валидации с лучшими фичами: 6.505063486122952\n"
     ]
    }
   ],
   "source": [
    "X = df.drop(['last_temp', 'arc_time_sum'], axis=1)\n",
    "y = df['last_temp']\n",
    "X = X.drop(list_features_important[:7], axis=1)\n",
    "# делим выборку\n",
    "X_train, X_test, y_train, y_test = train_test_split(X, y, test_size=0.25, random_state=RANDOM_SEED)\n",
    "#масштабируем \n",
    "scaler = StandardScaler()\n",
    "scaler.fit(X_train)\n",
    "X_train = scaler.transform(X_train)\n",
    "X_test = scaler.transform(X_test)\n",
    "#кроссвал\n",
    "model = LinearRegression()\n",
    "scores = cross_val_score(model, X_train, y_train, cv=5,scoring=scoring )\n",
    "# результат \n",
    "print ('лучшая метрика Лин Рег на кросс валидации с лучшими фичами:',scores.mean())\n",
    "#сохраняем лучшие фичи фичи\n",
    "model.fit(X_train, y_train)\n",
    "best_features_linreg = pd.Series(model.coef_ , index=X.columns ).abs().sort_values(ascending=False)\\\n",
    "                                                                .reset_index()['index'].to_list()\n"
   ]
  },
  {
   "cell_type": "markdown",
   "id": "0b7cf26b",
   "metadata": {
    "id": "0b7cf26b"
   },
   "source": [
    "**Вывод** Получили  итоговый список фичей для ЛинРег, который дает лучшию метрику.Список можно использовать на тест данных.  "
   ]
  },
  {
   "cell_type": "markdown",
   "id": "742e8f75",
   "metadata": {
    "id": "742e8f75"
   },
   "source": [
    "## CatBoost   \n",
    "Для кэтбуст не требуется заказчиком мастштабирвоание, и дроп коррел признаков.    \n",
    "Проведя различные тесты, с фич импотант и др. КэТбуст показал лучшие метрики с cat_features для признаков ххх_count.\n",
    "На всех этапах стабильно лучше метрика с cat_features.     \n",
    "Но это т параметр сильно увеличивает время расчетов. В подборах гиперпараметров и других долгих расчетах он может сниматься для ускорения вычислений. На резултаты с ним или без не влияет.Поверено."
   ]
  },
  {
   "cell_type": "code",
   "execution_count": null,
   "id": "668c925c",
   "metadata": {
    "id": "668c925c",
    "outputId": "b0956e56-4be0-4581-d2da-4dc136c27635"
   },
   "outputs": [
    {
     "name": "stdout",
     "output_type": "stream",
     "text": [
      "X_train.shape=  (1743, 19)\n",
      "X_test.shape (581, 19)\n"
     ]
    }
   ],
   "source": [
    "#делим датасет\n",
    "X = df.drop('last_temp', axis=1)\n",
    "y = df['last_temp']\n",
    "X_train, X_test, y_train, y_test = train_test_split(X, y, test_size=0.25, random_state=RANDOM_SEED)\n",
    "print('X_train.shape= ',X_train.shape)\n",
    "print('X_test.shape',X_test.shape)\n",
    "\n",
    "#категор фичи\n",
    "cat_features = ('arc_count', 'bulk_count', 'wire_count')"
   ]
  },
  {
   "cell_type": "markdown",
   "id": "a6650529",
   "metadata": {
    "id": "a6650529"
   },
   "source": [
    "### Кросс валидация на дефолтных параметрах.\n",
    "Укажем сразу loss_function='MAE' это улучшает метрику(испытано).    \n",
    "Укажем катег фичи, это тоже улучшает метрику (испытано)"
   ]
  },
  {
   "cell_type": "code",
   "execution_count": null,
   "id": "12726ce1",
   "metadata": {
    "id": "12726ce1",
    "outputId": "c7f2c4ff-8af6-42e0-a326-a45ab653ad26"
   },
   "outputs": [
    {
     "name": "stdout",
     "output_type": "stream",
     "text": [
      "CPU times: user 34.5 s, sys: 1.1 s, total: 35.6 s\n",
      "Wall time: 42.6 s\n"
     ]
    },
    {
     "data": {
      "text/plain": [
       "6.411523417333415"
      ]
     },
     "execution_count": 81,
     "metadata": {},
     "output_type": "execute_result"
    }
   ],
   "source": [
    "%%time\n",
    "model = CatBoostRegressor(cat_features=cat_features, loss_function='MAE', verbose=False)\n",
    "scores = cross_val_score(model, X_train, y_train, cv=5,scoring=scoring )\n",
    "scores.mean()"
   ]
  },
  {
   "cell_type": "markdown",
   "id": "b497d35a",
   "metadata": {
    "id": "b497d35a"
   },
   "source": [
    "Метрика  хорошая. Попроьбуем подобрать гиперпараметры и улучшить ее."
   ]
  },
  {
   "cell_type": "markdown",
   "id": "c17c2a53",
   "metadata": {
    "id": "c17c2a53"
   },
   "source": [
    "### Подбор гиперпараметров для catboost с использованием кроссвалидации   \n",
    "Здесь после нескольких тестов были выявлены оптимальные параметры и поиск ведется рядом с ними."
   ]
  },
  {
   "cell_type": "code",
   "execution_count": null,
   "id": "0ee982d5",
   "metadata": {
    "id": "0ee982d5",
    "outputId": "2d1a0883-798a-44f9-98db-516ac08ef28b"
   },
   "outputs": [
    {
     "name": "stderr",
     "output_type": "stream",
     "text": [
      "Custom logger is already specified. Specify more than one logger at same time is not thread safe."
     ]
    },
    {
     "name": "stdout",
     "output_type": "stream",
     "text": [
      "Лучшие параметры: {'depth': 6, 'learning_rate': 0.04}\n",
      "Лучшая MAE: 6.389139590360409\n",
      "CPU times: user 5min 2s, sys: 6.94 s, total: 5min 8s\n",
      "Wall time: 6min 6s\n"
     ]
    }
   ],
   "source": [
    "%%time\n",
    "# Подбор гиперпараметров с помощью GridSearch\n",
    "model = CatBoostRegressor(loss_function='MAE', verbose=False, cat_features=cat_features) # для усокрения снять cat_feat\n",
    "\n",
    "# Определение сетки параметров для поиска\n",
    "param_grid = {\n",
    "    'learning_rate': [0.03, 0.04, 0.05],\n",
    "    'depth': [6,7]\n",
    "    \n",
    "}\n",
    "\n",
    "# Создание объекта GridSearchCV для выполнения поиска\n",
    "grid_search = GridSearchCV(estimator=model, param_grid=param_grid, scoring='neg_mean_absolute_error', cv=5)\n",
    "\n",
    "# Обучение модели с использованием поиска по сетке\n",
    "grid_search.fit(X_train, y_train)\n",
    "\n",
    "# Вывод лучших параметров и соответствующей метрики MAE\n",
    "print(\"Лучшие параметры:\", grid_search.best_params_)\n",
    "print(\"Лучшая MAE:\", -grid_search.best_score_)"
   ]
  },
  {
   "cell_type": "code",
   "execution_count": null,
   "id": "9d000856",
   "metadata": {
    "id": "9d000856"
   },
   "outputs": [],
   "source": []
  },
  {
   "cell_type": "markdown",
   "id": "71782456",
   "metadata": {
    "id": "71782456"
   },
   "source": [
    "Результаты тестов лучших с cat_features:   \n",
    "depth = 6 , l_r = 0.04  mae= 6.38    \n"
   ]
  },
  {
   "cell_type": "markdown",
   "id": "74de74c7",
   "metadata": {
    "id": "74de74c7"
   },
   "source": [
    "Итого лучшая метрика на depth = 6 , l_r = 0.040 mae= 6.38  \n",
    "Будем эти гиперпараметры использовать."
   ]
  },
  {
   "cell_type": "markdown",
   "id": "aeff0eed",
   "metadata": {
    "id": "aeff0eed"
   },
   "source": [
    "### Features important for CatBoost\n",
    "Обучим на всей трейн выборке .    \n",
    "Проверим важность фичей, попробуем по аналогии с ЛинРег повыбрасывать лишние .  "
   ]
  },
  {
   "cell_type": "code",
   "execution_count": null,
   "id": "8ee4986a",
   "metadata": {
    "id": "8ee4986a",
    "outputId": "711859d1-b1ce-48f1-ce6a-5970d9c93dcd"
   },
   "outputs": [
    {
     "data": {
      "text/plain": [
       "<catboost.core.CatBoostRegressor at 0x14d56fa1a00>"
      ]
     },
     "execution_count": 397,
     "metadata": {},
     "output_type": "execute_result"
    }
   ],
   "source": [
    "X = df.drop('last_temp', axis=1)\n",
    "y = df['last_temp']\n",
    "X_train, X_test, y_train, y_test = train_test_split(X, y, test_size=0.25, random_state=RANDOM_SEED)\n",
    "cat_features = ('arc_count', 'bulk_count', 'wire_count')\n",
    "model = CatBoostRegressor(cat_features=cat_features )\n",
    "model.set_params(depth=6, learning_rate=0.04, loss_function='MAE',verbose=False,random_seed=RANDOM_SEED)\n",
    "model.fit(X_train, y_train)\n"
   ]
  },
  {
   "cell_type": "code",
   "execution_count": null,
   "id": "7e7bb662",
   "metadata": {
    "id": "7e7bb662",
    "outputId": "bb19e050-e770-4b28-a764-d942dcb5b5e0",
    "scrolled": true
   },
   "outputs": [
    {
     "data": {
      "text/plain": [
       "first_temp       19.254216\n",
       "arc_time_sum     11.909724\n",
       "wire_count        6.357435\n",
       "wire_sum          5.851273\n",
       "arc_duration      5.729504\n",
       "bulk_count        5.228729\n",
       "Газ 1             4.734228\n",
       "работа_mean       4.667831\n",
       "arc_time_mean     4.483566\n",
       "bulk_sum          4.327755\n",
       "мощн_max          3.990528\n",
       "arc_time_max      3.527766\n",
       "bulk_time         3.400329\n",
       "arc_count         3.305027\n",
       "arc_time_min      3.294176\n",
       "мощн_min          2.675885\n",
       "работа_sum        2.639758\n",
       "мощн_mean         2.362690\n",
       "wire_time         2.259580\n",
       "dtype: float64"
      ]
     },
     "execution_count": 304,
     "metadata": {},
     "output_type": "execute_result"
    }
   ],
   "source": [
    "feature_importances = pd.Series(model.feature_importances_, index=model.feature_names_).sort_values(ascending=False)\n",
    "feature_importances"
   ]
  },
  {
   "cell_type": "markdown",
   "id": "4377f8a4",
   "metadata": {
    "id": "4377f8a4"
   },
   "source": [
    "**Вывод**:    \n",
    "Самые значимые фичи это первая температура и время работы электродов нагревательных.  Что логично. Так как финальная температура зависит от первой и времени нагрева сплава электродами."
   ]
  },
  {
   "cell_type": "code",
   "execution_count": null,
   "id": "e4aabd79",
   "metadata": {
    "id": "e4aabd79",
    "outputId": "8e7e91ca-cebd-4758-fedc-8a20827866b8"
   },
   "outputs": [
    {
     "data": {
      "text/plain": [
       "['wire_time',\n",
       " 'мощн_mean',\n",
       " 'работа_sum',\n",
       " 'мощн_min',\n",
       " 'arc_time_min',\n",
       " 'arc_count',\n",
       " 'bulk_time',\n",
       " 'arc_time_max',\n",
       " 'мощн_max',\n",
       " 'bulk_sum']"
      ]
     },
     "execution_count": 398,
     "metadata": {},
     "output_type": "execute_result"
    }
   ],
   "source": [
    "# формируем список самых НЕ важных фичей ,на первом месте в списке самая не важная\n",
    "list_features_important = pd.Series(model.feature_importances_, index=model.feature_names_).\\\n",
    "                          sort_values(ascending=True).reset_index()['index'].head(10).to_list()\n",
    "list_features_important"
   ]
  },
  {
   "cell_type": "code",
   "execution_count": null,
   "id": "7e4bb337",
   "metadata": {
    "id": "7e4bb337",
    "outputId": "5bae02ba-1368-408e-a984-60f638a72acb"
   },
   "outputs": [
    {
     "name": "stdout",
     "output_type": "stream",
     "text": [
      "mae после дропа wire_time =  6.462528749727218\n",
      "mae после дропа мощн_mean =  6.395770837230851\n",
      "mae после дропа работа_sum =  6.372801238376488\n",
      "mae после дропа мощн_min =  6.420751561073265\n",
      "mae после дропа arc_time_min =  6.360918039576325\n",
      "mae после дропа arc_count =  6.363342919634148\n",
      "mae после дропа bulk_time =  6.360877804829238\n",
      "mae после дропа arc_time_max =  6.332963904299254\n",
      "mae после дропа мощн_max =  6.327612241161904\n",
      "mae после дропа bulk_sum =  6.33263281111595\n",
      "Wall time: 1min 12s\n"
     ]
    }
   ],
   "source": [
    "%%time\n",
    "# цикл дропа  фичей и оценка метрики\n",
    "mae_cat ={}\n",
    "scoring = make_scorer(mean_absolute_error)\n",
    "X = df.drop('last_temp', axis=1)\n",
    "y = df['last_temp']\n",
    "\n",
    "\n",
    "for  i in list_features_important:\n",
    "    #дропаем по одной фиче\n",
    "    X = X.drop(i, axis=1)     #y остаеться прежним всегда \n",
    "    \n",
    "    # делим выборку\n",
    "    X_train, X_test, y_train, y_test = train_test_split(X, y, test_size=0.25, random_state=RANDOM_SEED)\n",
    "    \n",
    "    #кроссвал\n",
    "    \n",
    "    model = CatBoostRegressor()  ##cat_features  убрано,что бы быстрее\n",
    "    model.set_params(depth=6, learning_rate=0.040, loss_function='MAE',verbose=False,random_seed=RANDOM_SEED)\n",
    "    scores = cross_val_score(model, X_train, y_train, cv=5,scoring=scoring )\n",
    "    # результат в словарь\n",
    "    mae_cat[i] = scores.mean()\n",
    "    print('mae после дропа', i,'= ',mae_cat[i])\n"
   ]
  },
  {
   "cell_type": "code",
   "execution_count": null,
   "id": "24118e02",
   "metadata": {
    "id": "24118e02",
    "outputId": "85c41c75-e190-44e7-c651-96f166d96199"
   },
   "outputs": [
    {
     "data": {
      "image/png": "[encoded data removed]",
      "text/plain": [
       "<Figure size 640x480 with 1 Axes>"
      ]
     },
     "metadata": {},
     "output_type": "display_data"
    }
   ],
   "source": [
    "plt.title('График значений метрики MAE после каждого дропа признака')\n",
    "plt.ylabel('МАЕ')\n",
    "plt.plot(mae_cat.keys(), mae_cat.values())\n",
    "plt.xticks(rotation=45);"
   ]
  },
  {
   "cell_type": "markdown",
   "id": "06b81a2e",
   "metadata": {
    "id": "06b81a2e"
   },
   "source": [
    "Интересно, что  лушая метрика после 9 дропов.  \n",
    "**В целом можно сделать вывод, что фичей нагенерировали избыточно. Как для cat так и для LinReg**   \n"
   ]
  },
  {
   "cell_type": "markdown",
   "id": "4e1b2941",
   "metadata": {
    "id": "4e1b2941"
   },
   "source": [
    "####  финал тестирование catboostregresor на лучших фичах после отсева"
   ]
  },
  {
   "cell_type": "code",
   "execution_count": null,
   "id": "a301f415",
   "metadata": {
    "id": "a301f415",
    "outputId": "d296eea8-1b7d-4660-b22d-2f885e037055"
   },
   "outputs": [
    {
     "name": "stdout",
     "output_type": "stream",
     "text": [
      "Итоговая лучшая метрика ан кросс валл на трейн выборке=  6.349722008717026\n"
     ]
    },
    {
     "data": {
      "text/plain": [
       "['first_temp',\n",
       " 'arc_time_sum',\n",
       " 'wire_count',\n",
       " 'arc_duration',\n",
       " 'wire_sum',\n",
       " 'работа_mean',\n",
       " 'arc_time_mean',\n",
       " 'bulk_count',\n",
       " 'bulk_sum',\n",
       " 'Газ 1']"
      ]
     },
     "execution_count": 402,
     "metadata": {},
     "output_type": "execute_result"
    }
   ],
   "source": [
    "#обрезаем датасет,выкидываем лишние фичи\n",
    "X = df.drop(['last_temp'], axis=1)\n",
    "y = df['last_temp']\n",
    "X = X.drop(list_features_important[:9], axis=1)\n",
    "\n",
    "# делим выборку\n",
    "X_train, X_test, y_train, y_test = train_test_split(X, y, test_size=0.25, random_state=RANDOM_SEED)\n",
    "\n",
    "#кроссвал\n",
    "cat_features = ('bulk_count', 'wire_count') # уменьшено кол-во cat_features, т к arc_count будем дропать\n",
    "model = CatBoostRegressor(cat_features=cat_features ) # убрано для ускорения\n",
    "model.set_params(depth=6, learning_rate=0.040, loss_function='MAE',verbose=False, random_seed=RANDOM_SEED)\n",
    "\n",
    "scores = cross_val_score(model, X_train, y_train, cv=5,scoring=scoring )\n",
    "print ('Итоговая лучшая метрика ан кросс валл на трейн выборке= ',scores.mean())\n",
    "\n",
    "    \n",
    "#сохраняем лучшие фиичи\n",
    "model.fit(X_train, y_train)\n",
    "best_features_cat = pd.Series(model.feature_importances_, index=model.feature_names_).sort_values(ascending=False)\\\n",
    ".reset_index()['index'].to_list()\n",
    "best_features_cat\n"
   ]
  },
  {
   "cell_type": "markdown",
   "id": "e3bf968c",
   "metadata": {
    "id": "e3bf968c"
   },
   "source": [
    "## Выбор лучше модели."
   ]
  },
  {
   "cell_type": "markdown",
   "id": "be713b03",
   "metadata": {
    "id": "be713b03"
   },
   "source": [
    "- linreg показала 6.505063486122952 на отобраных фичах.     \n",
    "- catboost показал 6.327612241161904 с подобранными гиперпараметрами и отобранными фичами.    \n",
    "- **Выбираем catboost.**     \n",
    "Но если заказчику нужна ЛинРег для интрепритации результатов, она тоже хорошие метрики получила."
   ]
  },
  {
   "cell_type": "markdown",
   "id": "97cf29b5",
   "metadata": {
    "id": "97cf29b5"
   },
   "source": [
    "# Применение лучшей модели на тест данных"
   ]
  },
  {
   "cell_type": "code",
   "execution_count": null,
   "id": "c20a4777",
   "metadata": {
    "id": "c20a4777",
    "outputId": "9de0fc7d-c6e1-459d-adfa-27459d50838f"
   },
   "outputs": [
    {
     "name": "stdout",
     "output_type": "stream",
     "text": [
      "Итоговая метрика MAE на тест данных : 5.9424045697541015\n",
      "Метрика R2 на тест данных: 0.4481605794711835\n"
     ]
    }
   ],
   "source": [
    "cat_features = ('bulk_count', 'wire_count')\n",
    "# берем лучшие фичи\n",
    "X = df[best_features_cat]\n",
    "y = df['last_temp']\n",
    "# делим выборку\n",
    "X_train, X_test, y_train, y_test = train_test_split(X, y, test_size=0.25, random_state=RANDOM_SEED)\n",
    "\n",
    "#обучаем\n",
    "model = CatBoostRegressor(cat_features=cat_features )\n",
    "model.set_params(depth=6, learning_rate=0.04, loss_function='MAE',verbose=False)\n",
    "model.fit(X_train, y_train)\n",
    "# метрика на тестовой\n",
    "print ('Итоговая метрика MAE на тест данных :', mean_absolute_error(y_test, model.predict(X_test)))\n",
    "print ('Метрика R2 на тест данных:', r2_score (y_test, model.predict(X_test)))"
   ]
  },
  {
   "cell_type": "markdown",
   "id": "8105225f",
   "metadata": {
    "id": "8105225f"
   },
   "source": [
    "оценим распределения таргета и предсказаний\n"
   ]
  },
  {
   "cell_type": "code",
   "execution_count": null,
   "id": "48f97a14",
   "metadata": {
    "id": "48f97a14",
    "outputId": "7832b166-b260-42a7-baeb-242aaf7027ff"
   },
   "outputs": [
    {
     "data": {
      "image/png": "[encoded data removed]",
      "text/plain": [
       "<Figure size 640x480 with 1 Axes>"
      ]
     },
     "metadata": {},
     "output_type": "display_data"
    }
   ],
   "source": [
    "plt.title('Распределение таргета на тест данных')\n",
    "plt.ylabel('count')\n",
    "plt.xlabel('temerature')\n",
    "y_test.hist(bins=100);"
   ]
  },
  {
   "cell_type": "code",
   "execution_count": null,
   "id": "23c7251a",
   "metadata": {
    "id": "23c7251a",
    "outputId": "fa31d23d-c214-49c4-d3ac-101523496587"
   },
   "outputs": [
    {
     "data": {
      "image/png": "[encoded data removed]",
      "text/plain": [
       "<Figure size 640x480 with 1 Axes>"
      ]
     },
     "metadata": {},
     "output_type": "display_data"
    }
   ],
   "source": [
    "plt.title('Распределение предсказания на тест данных')\n",
    "plt.ylabel('count')\n",
    "plt.xlabel('temerature')\n",
    "pd.Series(model.predict(X_test)).hist(bins=100);"
   ]
  },
  {
   "cell_type": "markdown",
   "id": "454efbe8",
   "metadata": {
    "id": "454efbe8"
   },
   "source": [
    "### Тестирование с моделью конст.\n",
    "Сранвим полчученные результаты с dummy моделью."
   ]
  },
  {
   "cell_type": "code",
   "execution_count": null,
   "id": "c500c6d8",
   "metadata": {
    "id": "c500c6d8",
    "outputId": "145629a4-72cb-46cf-c2a9-beb827595b2a"
   },
   "outputs": [
    {
     "data": {
      "text/plain": [
       "7.915491817281423"
      ]
     },
     "execution_count": 407,
     "metadata": {},
     "output_type": "execute_result"
    }
   ],
   "source": [
    "model = DummyRegressor(strategy = 'mean' )\n",
    "model.fit(X_train, y_train)\n",
    "mean_absolute_error(y_test, model.predict(X_test))"
   ]
  },
  {
   "cell_type": "markdown",
   "id": "a793f805",
   "metadata": {
    "id": "a793f805"
   },
   "source": [
    "#### Доп. пункт. Блэндинг моделей кэтбуст и линрег\n",
    "Для получения возможно лучших  результатов на тест выборке попробуеем блэндинг моделей ЛинРег и Кэт. \n"
   ]
  },
  {
   "cell_type": "code",
   "execution_count": null,
   "id": "2429060a",
   "metadata": {
    "id": "2429060a",
    "outputId": "798f3356-f5c8-49b4-df1f-aee4997aef1d"
   },
   "outputs": [
    {
     "name": "stdout",
     "output_type": "stream",
     "text": [
      "Метрика R2 на тест данных: 0.4481605794711835\n"
     ]
    },
    {
     "data": {
      "text/plain": [
       "5.9424045697541015"
      ]
     },
     "execution_count": 416,
     "metadata": {},
     "output_type": "execute_result"
    }
   ],
   "source": [
    "#cat\n",
    "at_features = ('bulk_count', 'wire_count')\n",
    "#\n",
    "X = df[best_features_cat]\n",
    "y = df['last_temp']\n",
    "# делим выборку\n",
    "X_train, X_test, y_train, y_test = train_test_split(X, y, test_size=0.25, random_state=RANDOM_SEED)\n",
    "\n",
    "#обучаем\n",
    "model = CatBoostRegressor(cat_features=cat_features )\n",
    "model.set_params(depth=6, learning_rate=0.04, loss_function='MAE',verbose=False)\n",
    "model.fit(X_train, y_train)\n",
    "\n",
    "cat_predict = model.predict(X_test)\n",
    "print ('Метрика R2 на тест данных:', r2_score (y_test, model.predict(X_test)))\n",
    "mean_absolute_error(y_test, model.predict(X_test))"
   ]
  },
  {
   "cell_type": "code",
   "execution_count": null,
   "id": "7408a252",
   "metadata": {
    "id": "7408a252",
    "outputId": "24ea54c1-0e07-4bdc-d01c-ab2311cf7d1b"
   },
   "outputs": [
    {
     "data": {
      "text/plain": [
       "6.489198371966052"
      ]
     },
     "execution_count": 419,
     "metadata": {},
     "output_type": "execute_result"
    }
   ],
   "source": [
    "#linreg\n",
    "model = LinearRegression()\n",
    "X = df[best_features_linreg]\n",
    "y = df['last_temp']\n",
    "X_train, X_test, y_train, y_test = train_test_split(X, y, test_size=0.25, random_state=RANDOM_SEED)\n",
    "\n",
    "model.fit(X_train, y_train)\n",
    "lin_reg_predict = model.predict(X_test)\n",
    "mean_absolute_error(y_test, model.predict(X_test))"
   ]
  },
  {
   "cell_type": "code",
   "execution_count": null,
   "id": "6134b0b6",
   "metadata": {
    "id": "6134b0b6",
    "outputId": "09b3b685-ca43-4c65-f06e-e0501481d895"
   },
   "outputs": [
    {
     "data": {
      "text/plain": [
       "6.015318031888503"
      ]
     },
     "execution_count": 412,
     "metadata": {},
     "output_type": "execute_result"
    }
   ],
   "source": [
    "blended_predict = (cat_predict + lin_reg_predict ) / 2\n",
    "mean_absolute_error (y_test, blended_predict)                "
   ]
  },
  {
   "cell_type": "markdown",
   "id": "4f9b2091",
   "metadata": {
    "id": "4f9b2091"
   },
   "source": [
    "Не удалось получить лучший результат. Скорее всего нужно модель с близким значением метрики к catboost использовать"
   ]
  },
  {
   "cell_type": "markdown",
   "id": "af6a452e",
   "metadata": {
    "id": "af6a452e"
   },
   "source": [
    "**ОБЩИЙ Вывод:**     \n",
    "Метрика MAE на тест данных получилась отличная(относительно тех задания).   \n",
    "**Итоговая метрика MAE на тест данных : 5.9424045697541015**        \n",
    "Распределение таргета и предсказаний похожи.    \n",
    "Дамми модель показывает худший результат, хотя и не критично прям.  \n",
    "В целом данных очень мало.   \n",
    "Метрика R2 показывает насколько хорошо модель соответствует данным, и измеряет объясненную долю дисперсии в целевой переменной.   \n",
    "R2 = 0.448160 у нас модель не особо соотвествует данным."
   ]
  }
 ],
 "metadata": {
  "ExecuteTimeLog": [
   {
    "duration": 429,
    "start_time": "2023-05-23T09:35:04.378Z"
   },
   {
    "duration": 3,
    "start_time": "2023-05-23T09:35:04.809Z"
   },
   {
    "duration": 117,
    "start_time": "2023-05-23T09:35:04.813Z"
   },
   {
    "duration": 0,
    "start_time": "2023-05-23T09:35:04.932Z"
   },
   {
    "duration": 0,
    "start_time": "2023-05-23T09:35:04.933Z"
   },
   {
    "duration": 0,
    "start_time": "2023-05-23T09:35:04.934Z"
   },
   {
    "duration": 0,
    "start_time": "2023-05-23T09:35:04.935Z"
   },
   {
    "duration": 0,
    "start_time": "2023-05-23T09:35:04.935Z"
   },
   {
    "duration": 0,
    "start_time": "2023-05-23T09:35:04.936Z"
   },
   {
    "duration": 0,
    "start_time": "2023-05-23T09:35:04.937Z"
   },
   {
    "duration": 0,
    "start_time": "2023-05-23T09:35:04.938Z"
   },
   {
    "duration": 0,
    "start_time": "2023-05-23T09:35:04.939Z"
   },
   {
    "duration": 0,
    "start_time": "2023-05-23T09:35:04.941Z"
   },
   {
    "duration": 0,
    "start_time": "2023-05-23T09:35:04.942Z"
   },
   {
    "duration": 0,
    "start_time": "2023-05-23T09:35:04.943Z"
   },
   {
    "duration": 0,
    "start_time": "2023-05-23T09:35:04.944Z"
   },
   {
    "duration": 0,
    "start_time": "2023-05-23T09:35:04.945Z"
   },
   {
    "duration": 0,
    "start_time": "2023-05-23T09:35:04.946Z"
   },
   {
    "duration": 0,
    "start_time": "2023-05-23T09:35:04.948Z"
   },
   {
    "duration": 0,
    "start_time": "2023-05-23T09:35:04.949Z"
   },
   {
    "duration": 0,
    "start_time": "2023-05-23T09:35:04.950Z"
   },
   {
    "duration": 0,
    "start_time": "2023-05-23T09:35:04.951Z"
   },
   {
    "duration": 0,
    "start_time": "2023-05-23T09:35:04.988Z"
   },
   {
    "duration": 0,
    "start_time": "2023-05-23T09:35:04.989Z"
   },
   {
    "duration": 0,
    "start_time": "2023-05-23T09:35:04.990Z"
   },
   {
    "duration": 374,
    "start_time": "2023-05-24T06:40:57.612Z"
   },
   {
    "duration": 3,
    "start_time": "2023-05-24T06:40:57.987Z"
   },
   {
    "duration": 121,
    "start_time": "2023-05-24T06:47:55.061Z"
   },
   {
    "duration": 25,
    "start_time": "2023-05-24T06:48:03.957Z"
   },
   {
    "duration": 3,
    "start_time": "2023-05-24T06:54:33.299Z"
   },
   {
    "duration": 542,
    "start_time": "2023-05-24T06:55:58.507Z"
   },
   {
    "duration": 16,
    "start_time": "2023-05-24T06:57:47.193Z"
   },
   {
    "duration": 15,
    "start_time": "2023-05-24T06:57:55.661Z"
   },
   {
    "duration": 731,
    "start_time": "2023-05-24T06:58:00.993Z"
   },
   {
    "duration": 255,
    "start_time": "2023-05-24T06:58:08.271Z"
   },
   {
    "duration": 9,
    "start_time": "2023-05-24T06:58:30.721Z"
   },
   {
    "duration": 73,
    "start_time": "2023-05-24T06:58:35.993Z"
   },
   {
    "duration": 13,
    "start_time": "2023-05-24T06:58:41.861Z"
   },
   {
    "duration": 81,
    "start_time": "2023-05-24T07:02:27.065Z"
   },
   {
    "duration": 5,
    "start_time": "2023-05-24T07:02:34.265Z"
   },
   {
    "duration": 6,
    "start_time": "2023-05-24T07:02:56.415Z"
   },
   {
    "duration": 5,
    "start_time": "2023-05-24T07:04:26.294Z"
   },
   {
    "duration": 12,
    "start_time": "2023-05-24T07:04:38.582Z"
   },
   {
    "duration": 4,
    "start_time": "2023-05-24T07:05:08.157Z"
   },
   {
    "duration": 7,
    "start_time": "2023-05-24T07:05:17.512Z"
   },
   {
    "duration": 19,
    "start_time": "2023-05-24T07:05:49.953Z"
   },
   {
    "duration": 9,
    "start_time": "2023-05-24T07:06:04.600Z"
   },
   {
    "duration": 4,
    "start_time": "2023-05-24T07:06:08.157Z"
   },
   {
    "duration": 7,
    "start_time": "2023-05-24T07:07:31.561Z"
   },
   {
    "duration": 220,
    "start_time": "2023-05-24T07:07:42.856Z"
   },
   {
    "duration": 15,
    "start_time": "2023-05-24T07:08:54.009Z"
   },
   {
    "duration": 11,
    "start_time": "2023-05-24T07:09:05.056Z"
   },
   {
    "duration": 16,
    "start_time": "2023-05-24T07:09:19.749Z"
   },
   {
    "duration": 15,
    "start_time": "2023-05-24T07:09:41.998Z"
   },
   {
    "duration": 10,
    "start_time": "2023-05-24T07:09:47.763Z"
   },
   {
    "duration": 278,
    "start_time": "2023-05-24T07:09:52.492Z"
   },
   {
    "duration": 9,
    "start_time": "2023-05-24T07:09:58.411Z"
   },
   {
    "duration": 11,
    "start_time": "2023-05-24T07:10:41.220Z"
   },
   {
    "duration": 11,
    "start_time": "2023-05-24T07:10:42.566Z"
   },
   {
    "duration": 227,
    "start_time": "2023-05-24T07:10:45.560Z"
   },
   {
    "duration": 14,
    "start_time": "2023-05-24T07:11:23.464Z"
   },
   {
    "duration": 10,
    "start_time": "2023-05-24T07:11:29.084Z"
   },
   {
    "duration": 12,
    "start_time": "2023-05-24T07:11:43.364Z"
   },
   {
    "duration": 11,
    "start_time": "2023-05-24T07:11:45.723Z"
   },
   {
    "duration": 412,
    "start_time": "2023-05-24T07:25:02.889Z"
   },
   {
    "duration": 3,
    "start_time": "2023-05-24T07:25:03.306Z"
   },
   {
    "duration": 414,
    "start_time": "2023-05-24T07:25:03.311Z"
   },
   {
    "duration": 17,
    "start_time": "2023-05-24T07:25:03.726Z"
   },
   {
    "duration": 11,
    "start_time": "2023-05-24T07:25:03.745Z"
   },
   {
    "duration": 641,
    "start_time": "2023-05-24T07:25:03.757Z"
   },
   {
    "duration": 282,
    "start_time": "2023-05-24T07:25:04.400Z"
   },
   {
    "duration": 20,
    "start_time": "2023-05-24T07:25:04.684Z"
   },
   {
    "duration": 23,
    "start_time": "2023-05-24T07:25:04.706Z"
   },
   {
    "duration": 5,
    "start_time": "2023-05-24T07:25:04.731Z"
   },
   {
    "duration": 18,
    "start_time": "2023-05-24T07:25:04.738Z"
   },
   {
    "duration": 16,
    "start_time": "2023-05-24T07:25:04.758Z"
   },
   {
    "duration": 289,
    "start_time": "2023-05-24T07:25:04.776Z"
   },
   {
    "duration": 14,
    "start_time": "2023-05-24T07:25:05.067Z"
   },
   {
    "duration": 21,
    "start_time": "2023-05-24T07:25:05.082Z"
   },
   {
    "duration": 27,
    "start_time": "2023-05-24T07:25:05.105Z"
   },
   {
    "duration": 10,
    "start_time": "2023-05-24T07:25:05.134Z"
   },
   {
    "duration": 12,
    "start_time": "2023-05-24T07:25:05.146Z"
   },
   {
    "duration": 246,
    "start_time": "2023-05-24T07:25:05.160Z"
   },
   {
    "duration": 8,
    "start_time": "2023-05-24T07:25:05.408Z"
   },
   {
    "duration": 23,
    "start_time": "2023-05-24T07:25:05.417Z"
   },
   {
    "duration": 33,
    "start_time": "2023-05-24T07:25:05.441Z"
   },
   {
    "duration": 248,
    "start_time": "2023-05-24T07:25:05.476Z"
   },
   {
    "duration": 15,
    "start_time": "2023-05-24T07:25:05.725Z"
   },
   {
    "duration": 28,
    "start_time": "2023-05-24T07:25:05.741Z"
   },
   {
    "duration": 34,
    "start_time": "2023-05-24T07:25:05.771Z"
   },
   {
    "duration": 36,
    "start_time": "2023-05-24T07:25:05.807Z"
   },
   {
    "duration": 49,
    "start_time": "2023-05-24T11:35:40.079Z"
   },
   {
    "duration": 467,
    "start_time": "2023-05-24T11:37:34.254Z"
   },
   {
    "duration": 2,
    "start_time": "2023-05-24T11:37:34.724Z"
   },
   {
    "duration": 665,
    "start_time": "2023-05-24T11:37:34.727Z"
   },
   {
    "duration": 20,
    "start_time": "2023-05-24T11:37:35.394Z"
   },
   {
    "duration": 40,
    "start_time": "2023-05-24T11:37:35.417Z"
   },
   {
    "duration": 777,
    "start_time": "2023-05-24T11:37:35.458Z"
   },
   {
    "duration": 284,
    "start_time": "2023-05-24T11:37:36.237Z"
   },
   {
    "duration": 9,
    "start_time": "2023-05-24T11:37:36.523Z"
   },
   {
    "duration": 11,
    "start_time": "2023-05-24T11:37:36.545Z"
   },
   {
    "duration": 7,
    "start_time": "2023-05-24T11:37:36.558Z"
   },
   {
    "duration": 82,
    "start_time": "2023-05-24T11:37:36.566Z"
   },
   {
    "duration": 10,
    "start_time": "2023-05-24T11:37:36.649Z"
   },
   {
    "duration": 259,
    "start_time": "2023-05-24T11:37:36.661Z"
   },
   {
    "duration": 25,
    "start_time": "2023-05-24T11:37:36.923Z"
   },
   {
    "duration": 69,
    "start_time": "2023-05-24T11:37:36.949Z"
   },
   {
    "duration": 26,
    "start_time": "2023-05-24T11:37:37.020Z"
   },
   {
    "duration": 12,
    "start_time": "2023-05-24T11:37:37.048Z"
   },
   {
    "duration": 16,
    "start_time": "2023-05-24T11:37:37.061Z"
   },
   {
    "duration": 273,
    "start_time": "2023-05-24T11:37:37.079Z"
   },
   {
    "duration": 8,
    "start_time": "2023-05-24T11:37:37.354Z"
   },
   {
    "duration": 21,
    "start_time": "2023-05-24T11:37:37.364Z"
   },
   {
    "duration": 22,
    "start_time": "2023-05-24T11:37:37.387Z"
   },
   {
    "duration": 254,
    "start_time": "2023-05-24T11:37:37.411Z"
   },
   {
    "duration": 17,
    "start_time": "2023-05-24T11:37:37.667Z"
   },
   {
    "duration": 14,
    "start_time": "2023-05-24T11:37:37.685Z"
   },
   {
    "duration": 16,
    "start_time": "2023-05-24T11:37:37.701Z"
   },
   {
    "duration": 35,
    "start_time": "2023-05-24T11:37:37.718Z"
   },
   {
    "duration": 5,
    "start_time": "2023-05-24T11:37:37.754Z"
   },
   {
    "duration": 19,
    "start_time": "2023-05-24T11:37:37.761Z"
   },
   {
    "duration": 16,
    "start_time": "2023-05-24T11:37:37.782Z"
   },
   {
    "duration": 35,
    "start_time": "2023-05-24T11:37:37.800Z"
   },
   {
    "duration": 8,
    "start_time": "2023-05-24T11:37:37.837Z"
   },
   {
    "duration": 27,
    "start_time": "2023-05-24T11:37:37.848Z"
   },
   {
    "duration": 38,
    "start_time": "2023-05-24T11:37:37.877Z"
   },
   {
    "duration": 8,
    "start_time": "2023-05-24T11:37:37.917Z"
   },
   {
    "duration": 27,
    "start_time": "2023-05-24T11:37:37.926Z"
   },
   {
    "duration": 42,
    "start_time": "2023-05-24T11:37:37.955Z"
   },
   {
    "duration": 34,
    "start_time": "2023-05-24T11:38:33.021Z"
   },
   {
    "duration": 7,
    "start_time": "2023-05-24T11:38:36.570Z"
   },
   {
    "duration": 11,
    "start_time": "2023-05-24T11:38:37.461Z"
   },
   {
    "duration": 14,
    "start_time": "2023-05-24T11:46:49.450Z"
   },
   {
    "duration": 16,
    "start_time": "2023-05-24T11:53:03.269Z"
   },
   {
    "duration": 14,
    "start_time": "2023-05-24T11:54:10.452Z"
   },
   {
    "duration": 93,
    "start_time": "2023-05-24T11:59:48.819Z"
   },
   {
    "duration": 27,
    "start_time": "2023-05-24T12:00:01.174Z"
   },
   {
    "duration": 8,
    "start_time": "2023-05-24T12:00:43.266Z"
   },
   {
    "duration": 92,
    "start_time": "2023-05-24T12:00:58.025Z"
   },
   {
    "duration": 97,
    "start_time": "2023-05-24T12:01:03.592Z"
   },
   {
    "duration": 7,
    "start_time": "2023-05-24T12:01:08.570Z"
   },
   {
    "duration": 6,
    "start_time": "2023-05-24T12:01:18.808Z"
   },
   {
    "duration": 19,
    "start_time": "2023-05-24T12:01:24.744Z"
   },
   {
    "duration": 9,
    "start_time": "2023-05-24T12:03:45.673Z"
   },
   {
    "duration": 7,
    "start_time": "2023-05-24T12:04:00.375Z"
   },
   {
    "duration": 17,
    "start_time": "2023-05-24T12:04:04.911Z"
   },
   {
    "duration": 6,
    "start_time": "2023-05-24T12:09:34.717Z"
   },
   {
    "duration": 17,
    "start_time": "2023-05-24T12:09:42.981Z"
   },
   {
    "duration": 7,
    "start_time": "2023-05-24T12:10:12.293Z"
   },
   {
    "duration": 19,
    "start_time": "2023-05-24T12:10:29.815Z"
   },
   {
    "duration": 11,
    "start_time": "2023-05-24T12:10:46.375Z"
   },
   {
    "duration": 5,
    "start_time": "2023-05-24T12:11:06.723Z"
   },
   {
    "duration": 17,
    "start_time": "2023-05-24T12:11:13.271Z"
   },
   {
    "duration": 6,
    "start_time": "2023-05-24T12:11:43.604Z"
   },
   {
    "duration": 19,
    "start_time": "2023-05-24T12:11:46.078Z"
   },
   {
    "duration": 8,
    "start_time": "2023-05-24T12:12:35.020Z"
   },
   {
    "duration": 8,
    "start_time": "2023-05-24T12:12:50.811Z"
   },
   {
    "duration": 7,
    "start_time": "2023-05-24T12:13:20.723Z"
   },
   {
    "duration": 17,
    "start_time": "2023-05-24T12:13:25.691Z"
   },
   {
    "duration": 17,
    "start_time": "2023-05-24T12:14:08.368Z"
   },
   {
    "duration": 7,
    "start_time": "2023-05-24T12:14:11.386Z"
   },
   {
    "duration": 19,
    "start_time": "2023-05-24T12:14:17.522Z"
   },
   {
    "duration": 31,
    "start_time": "2023-05-24T12:24:42.709Z"
   },
   {
    "duration": 81,
    "start_time": "2023-05-24T12:24:57.501Z"
   },
   {
    "duration": 60,
    "start_time": "2023-05-24T12:26:04.872Z"
   },
   {
    "duration": 78,
    "start_time": "2023-05-24T12:28:15.492Z"
   },
   {
    "duration": 72,
    "start_time": "2023-05-24T12:29:07.766Z"
   },
   {
    "duration": 5,
    "start_time": "2023-05-24T12:30:16.314Z"
   },
   {
    "duration": 33,
    "start_time": "2023-05-24T12:33:50.072Z"
   },
   {
    "duration": 31,
    "start_time": "2023-05-24T12:34:08.808Z"
   },
   {
    "duration": 41,
    "start_time": "2023-05-24T12:34:25.342Z"
   },
   {
    "duration": 224,
    "start_time": "2023-05-24T12:42:23.661Z"
   },
   {
    "duration": 103,
    "start_time": "2023-05-24T12:42:37.772Z"
   },
   {
    "duration": 68,
    "start_time": "2023-05-24T12:43:16.960Z"
   },
   {
    "duration": 64,
    "start_time": "2023-05-24T12:43:34.380Z"
   },
   {
    "duration": 48,
    "start_time": "2023-05-24T12:44:09.692Z"
   },
   {
    "duration": 50,
    "start_time": "2023-05-24T12:44:34.956Z"
   },
   {
    "duration": 48,
    "start_time": "2023-05-24T12:44:50.283Z"
   },
   {
    "duration": 59,
    "start_time": "2023-05-24T12:45:29.603Z"
   },
   {
    "duration": 25,
    "start_time": "2023-05-24T12:46:33.385Z"
   },
   {
    "duration": 27,
    "start_time": "2023-05-24T12:47:08.774Z"
   },
   {
    "duration": 8,
    "start_time": "2023-05-24T12:47:34.290Z"
   },
   {
    "duration": 12,
    "start_time": "2023-05-24T12:47:42.552Z"
   },
   {
    "duration": 4,
    "start_time": "2023-05-24T12:49:40.216Z"
   },
   {
    "duration": 10,
    "start_time": "2023-05-24T12:53:48.668Z"
   },
   {
    "duration": 9,
    "start_time": "2023-05-24T12:53:53.588Z"
   },
   {
    "duration": 9,
    "start_time": "2023-05-24T12:53:56.310Z"
   },
   {
    "duration": 4,
    "start_time": "2023-05-24T12:54:07.572Z"
   },
   {
    "duration": 501,
    "start_time": "2023-05-24T13:00:31.796Z"
   },
   {
    "duration": 142,
    "start_time": "2023-05-24T13:01:33.473Z"
   },
   {
    "duration": 107,
    "start_time": "2023-05-24T13:01:41.906Z"
   },
   {
    "duration": 188,
    "start_time": "2023-05-24T13:02:02.307Z"
   },
   {
    "duration": 108,
    "start_time": "2023-05-24T13:03:31.297Z"
   },
   {
    "duration": 180,
    "start_time": "2023-05-24T13:03:52.582Z"
   },
   {
    "duration": 84,
    "start_time": "2023-05-24T13:04:50.463Z"
   },
   {
    "duration": 29,
    "start_time": "2023-05-24T13:06:08.216Z"
   },
   {
    "duration": 23,
    "start_time": "2023-05-24T13:06:46.468Z"
   },
   {
    "duration": 141,
    "start_time": "2023-05-24T13:07:12.174Z"
   },
   {
    "duration": 164,
    "start_time": "2023-05-24T13:07:42.012Z"
   },
   {
    "duration": 237,
    "start_time": "2023-05-24T13:08:32.567Z"
   },
   {
    "duration": 186,
    "start_time": "2023-05-24T13:08:39.794Z"
   },
   {
    "duration": 34,
    "start_time": "2023-05-24T13:11:25.197Z"
   },
   {
    "duration": 47,
    "start_time": "2023-05-24T13:12:22.947Z"
   },
   {
    "duration": 21,
    "start_time": "2023-05-24T13:13:02.768Z"
   },
   {
    "duration": 44,
    "start_time": "2023-05-24T13:13:12.967Z"
   },
   {
    "duration": 32,
    "start_time": "2023-05-24T13:17:40.185Z"
   },
   {
    "duration": 19,
    "start_time": "2023-05-24T13:18:56.791Z"
   },
   {
    "duration": 8,
    "start_time": "2023-05-24T13:19:14.066Z"
   },
   {
    "duration": 8,
    "start_time": "2023-05-24T13:19:20.011Z"
   },
   {
    "duration": 14,
    "start_time": "2023-05-24T13:19:37.402Z"
   },
   {
    "duration": 5,
    "start_time": "2023-05-24T13:19:47.743Z"
   },
   {
    "duration": 9,
    "start_time": "2023-05-24T13:20:24.477Z"
   },
   {
    "duration": 9,
    "start_time": "2023-05-24T13:20:52.809Z"
   },
   {
    "duration": 33,
    "start_time": "2023-05-24T13:21:21.897Z"
   },
   {
    "duration": 15,
    "start_time": "2023-05-24T13:21:39.679Z"
   },
   {
    "duration": 16,
    "start_time": "2023-05-24T13:21:44.096Z"
   },
   {
    "duration": 23,
    "start_time": "2023-05-24T13:21:57.504Z"
   },
   {
    "duration": 11,
    "start_time": "2023-05-24T13:22:00.767Z"
   },
   {
    "duration": 16,
    "start_time": "2023-05-24T13:22:06.463Z"
   },
   {
    "duration": 5,
    "start_time": "2023-05-24T13:22:16.016Z"
   },
   {
    "duration": 10,
    "start_time": "2023-05-24T13:25:01.960Z"
   },
   {
    "duration": 363,
    "start_time": "2023-05-24T13:25:19.000Z"
   },
   {
    "duration": 375,
    "start_time": "2023-05-24T13:29:19.702Z"
   },
   {
    "duration": 3,
    "start_time": "2023-05-24T13:30:12.213Z"
   },
   {
    "duration": 14,
    "start_time": "2023-05-24T13:30:18.084Z"
   },
   {
    "duration": 11,
    "start_time": "2023-05-24T13:37:52.619Z"
   },
   {
    "duration": 21,
    "start_time": "2023-05-24T13:37:58.218Z"
   },
   {
    "duration": 4,
    "start_time": "2023-05-24T13:39:15.695Z"
   },
   {
    "duration": 7,
    "start_time": "2023-05-24T13:39:20.765Z"
   },
   {
    "duration": 24,
    "start_time": "2023-05-24T13:40:18.065Z"
   },
   {
    "duration": 11,
    "start_time": "2023-05-24T13:40:22.384Z"
   },
   {
    "duration": 2085,
    "start_time": "2023-05-24T13:40:31.305Z"
   },
   {
    "duration": 8,
    "start_time": "2023-05-24T13:41:14.385Z"
   },
   {
    "duration": 6,
    "start_time": "2023-05-24T13:41:46.057Z"
   },
   {
    "duration": 25,
    "start_time": "2023-05-24T13:41:59.905Z"
   },
   {
    "duration": 4,
    "start_time": "2023-05-24T13:45:28.173Z"
   },
   {
    "duration": 10,
    "start_time": "2023-05-24T13:45:36.574Z"
   },
   {
    "duration": 10,
    "start_time": "2023-05-24T13:47:45.879Z"
   },
   {
    "duration": 13,
    "start_time": "2023-05-24T13:49:31.672Z"
   },
   {
    "duration": 16,
    "start_time": "2023-05-24T13:50:05.657Z"
   },
   {
    "duration": 14,
    "start_time": "2023-05-24T13:50:56.876Z"
   },
   {
    "duration": 2,
    "start_time": "2023-05-24T13:57:04.418Z"
   },
   {
    "duration": 113,
    "start_time": "2023-05-24T14:01:30.296Z"
   },
   {
    "duration": 9,
    "start_time": "2023-05-24T14:01:37.984Z"
   },
   {
    "duration": 17,
    "start_time": "2023-05-24T14:01:50.061Z"
   },
   {
    "duration": 22,
    "start_time": "2023-05-24T14:01:56.553Z"
   },
   {
    "duration": 12,
    "start_time": "2023-05-24T14:02:06.049Z"
   },
   {
    "duration": 18,
    "start_time": "2023-05-24T14:04:52.362Z"
   },
   {
    "duration": 23,
    "start_time": "2023-05-24T14:18:30.768Z"
   },
   {
    "duration": 9,
    "start_time": "2023-05-24T14:18:55.865Z"
   },
   {
    "duration": 23,
    "start_time": "2023-05-24T14:19:07.783Z"
   },
   {
    "duration": 4,
    "start_time": "2023-05-24T14:19:27.165Z"
   },
   {
    "duration": 26,
    "start_time": "2023-05-24T14:19:36.183Z"
   },
   {
    "duration": 15,
    "start_time": "2023-05-24T14:19:43.363Z"
   },
   {
    "duration": 22,
    "start_time": "2023-05-24T14:19:46.366Z"
   },
   {
    "duration": 17,
    "start_time": "2023-05-24T14:19:55.767Z"
   },
   {
    "duration": 33,
    "start_time": "2023-05-24T14:19:56.471Z"
   },
   {
    "duration": 16,
    "start_time": "2023-05-24T14:20:03.598Z"
   },
   {
    "duration": 23,
    "start_time": "2023-05-24T14:20:06.896Z"
   },
   {
    "duration": 17,
    "start_time": "2023-05-24T14:20:22.183Z"
   },
   {
    "duration": 11,
    "start_time": "2023-05-24T14:21:41.503Z"
   },
   {
    "duration": 21,
    "start_time": "2023-05-24T14:22:00.365Z"
   },
   {
    "duration": 8,
    "start_time": "2023-05-24T14:22:11.570Z"
   },
   {
    "duration": 10,
    "start_time": "2023-05-24T14:22:19.561Z"
   },
   {
    "duration": 964,
    "start_time": "2023-05-24T14:22:23.971Z"
   },
   {
    "duration": 80,
    "start_time": "2023-05-24T14:23:07.575Z"
   },
   {
    "duration": 84,
    "start_time": "2023-05-24T14:23:17.500Z"
   },
   {
    "duration": 11,
    "start_time": "2023-05-24T14:23:28.070Z"
   },
   {
    "duration": 2,
    "start_time": "2023-05-24T14:24:10.274Z"
   },
   {
    "duration": 10,
    "start_time": "2023-05-24T14:24:14.368Z"
   },
   {
    "duration": 2285,
    "start_time": "2023-05-24T14:25:29.382Z"
   },
   {
    "duration": 2297,
    "start_time": "2023-05-24T14:26:03.773Z"
   },
   {
    "duration": 68,
    "start_time": "2023-05-24T14:29:27.665Z"
   },
   {
    "duration": 22,
    "start_time": "2023-05-24T14:30:13.713Z"
   },
   {
    "duration": 18,
    "start_time": "2023-05-24T14:30:16.795Z"
   },
   {
    "duration": 17,
    "start_time": "2023-05-24T14:30:31.464Z"
   },
   {
    "duration": 2300,
    "start_time": "2023-05-24T14:30:37.954Z"
   },
   {
    "duration": 2559,
    "start_time": "2023-05-24T14:34:52.647Z"
   },
   {
    "duration": 2525,
    "start_time": "2023-05-24T14:34:58.032Z"
   },
   {
    "duration": 1381,
    "start_time": "2023-05-24T14:44:39.083Z"
   },
   {
    "duration": 50,
    "start_time": "2023-05-24T14:48:30.385Z"
   },
   {
    "duration": 10,
    "start_time": "2023-05-24T14:49:26.970Z"
   },
   {
    "duration": 7,
    "start_time": "2023-05-24T14:49:43.673Z"
   },
   {
    "duration": 20,
    "start_time": "2023-05-24T14:50:21.192Z"
   },
   {
    "duration": 3,
    "start_time": "2023-05-24T14:53:54.457Z"
   },
   {
    "duration": 3,
    "start_time": "2023-05-24T14:54:02.841Z"
   },
   {
    "duration": 27,
    "start_time": "2023-05-24T14:56:15.545Z"
   },
   {
    "duration": 5002,
    "start_time": "2023-05-24T14:56:20.962Z"
   },
   {
    "duration": 11,
    "start_time": "2023-05-24T14:56:28.059Z"
   },
   {
    "duration": 2004,
    "start_time": "2023-05-27T12:27:40.318Z"
   },
   {
    "duration": 0,
    "start_time": "2023-05-27T12:27:42.327Z"
   },
   {
    "duration": 0,
    "start_time": "2023-05-27T12:27:42.328Z"
   },
   {
    "duration": 0,
    "start_time": "2023-05-27T12:27:42.329Z"
   },
   {
    "duration": 0,
    "start_time": "2023-05-27T12:27:42.330Z"
   },
   {
    "duration": 0,
    "start_time": "2023-05-27T12:27:42.330Z"
   },
   {
    "duration": 0,
    "start_time": "2023-05-27T12:27:42.332Z"
   },
   {
    "duration": 0,
    "start_time": "2023-05-27T12:27:42.333Z"
   },
   {
    "duration": 0,
    "start_time": "2023-05-27T12:27:42.334Z"
   },
   {
    "duration": 0,
    "start_time": "2023-05-27T12:27:42.336Z"
   },
   {
    "duration": 0,
    "start_time": "2023-05-27T12:27:42.338Z"
   },
   {
    "duration": 0,
    "start_time": "2023-05-27T12:27:42.340Z"
   },
   {
    "duration": 0,
    "start_time": "2023-05-27T12:27:42.342Z"
   },
   {
    "duration": 0,
    "start_time": "2023-05-27T12:27:42.343Z"
   },
   {
    "duration": 0,
    "start_time": "2023-05-27T12:27:42.344Z"
   },
   {
    "duration": 0,
    "start_time": "2023-05-27T12:27:42.345Z"
   },
   {
    "duration": 0,
    "start_time": "2023-05-27T12:27:42.346Z"
   },
   {
    "duration": 0,
    "start_time": "2023-05-27T12:27:42.375Z"
   },
   {
    "duration": 0,
    "start_time": "2023-05-27T12:27:42.376Z"
   },
   {
    "duration": 0,
    "start_time": "2023-05-27T12:27:42.377Z"
   },
   {
    "duration": 0,
    "start_time": "2023-05-27T12:27:42.379Z"
   },
   {
    "duration": 0,
    "start_time": "2023-05-27T12:27:42.381Z"
   },
   {
    "duration": 0,
    "start_time": "2023-05-27T12:27:42.384Z"
   },
   {
    "duration": 0,
    "start_time": "2023-05-27T12:27:42.386Z"
   },
   {
    "duration": 0,
    "start_time": "2023-05-27T12:27:42.388Z"
   },
   {
    "duration": 0,
    "start_time": "2023-05-27T12:27:42.392Z"
   },
   {
    "duration": 0,
    "start_time": "2023-05-27T12:27:42.395Z"
   },
   {
    "duration": 0,
    "start_time": "2023-05-27T12:27:42.397Z"
   },
   {
    "duration": 0,
    "start_time": "2023-05-27T12:27:42.401Z"
   },
   {
    "duration": 0,
    "start_time": "2023-05-27T12:27:42.404Z"
   },
   {
    "duration": 0,
    "start_time": "2023-05-27T12:27:42.407Z"
   },
   {
    "duration": 0,
    "start_time": "2023-05-27T12:27:42.409Z"
   },
   {
    "duration": 0,
    "start_time": "2023-05-27T12:27:42.412Z"
   },
   {
    "duration": 0,
    "start_time": "2023-05-27T12:27:42.414Z"
   },
   {
    "duration": 0,
    "start_time": "2023-05-27T12:27:42.415Z"
   },
   {
    "duration": 0,
    "start_time": "2023-05-27T12:27:42.416Z"
   },
   {
    "duration": 0,
    "start_time": "2023-05-27T12:27:42.418Z"
   },
   {
    "duration": 0,
    "start_time": "2023-05-27T12:27:42.419Z"
   },
   {
    "duration": 0,
    "start_time": "2023-05-27T12:27:42.423Z"
   },
   {
    "duration": 0,
    "start_time": "2023-05-27T12:27:42.423Z"
   },
   {
    "duration": 0,
    "start_time": "2023-05-27T12:27:42.424Z"
   },
   {
    "duration": 0,
    "start_time": "2023-05-27T12:27:42.425Z"
   },
   {
    "duration": 0,
    "start_time": "2023-05-27T12:27:42.428Z"
   },
   {
    "duration": 0,
    "start_time": "2023-05-27T12:27:42.430Z"
   },
   {
    "duration": 0,
    "start_time": "2023-05-27T12:27:42.432Z"
   },
   {
    "duration": 0,
    "start_time": "2023-05-27T12:27:42.433Z"
   },
   {
    "duration": 0,
    "start_time": "2023-05-27T12:27:42.435Z"
   },
   {
    "duration": 0,
    "start_time": "2023-05-27T12:27:42.436Z"
   },
   {
    "duration": 0,
    "start_time": "2023-05-27T12:27:42.438Z"
   },
   {
    "duration": 0,
    "start_time": "2023-05-27T12:27:42.439Z"
   },
   {
    "duration": 0,
    "start_time": "2023-05-27T12:27:42.440Z"
   },
   {
    "duration": 0,
    "start_time": "2023-05-27T12:27:42.442Z"
   },
   {
    "duration": 0,
    "start_time": "2023-05-27T12:27:42.476Z"
   },
   {
    "duration": 0,
    "start_time": "2023-05-27T12:27:42.477Z"
   },
   {
    "duration": 0,
    "start_time": "2023-05-27T12:27:42.478Z"
   },
   {
    "duration": 0,
    "start_time": "2023-05-27T12:27:42.479Z"
   },
   {
    "duration": 0,
    "start_time": "2023-05-27T12:27:42.484Z"
   },
   {
    "duration": 0,
    "start_time": "2023-05-27T12:27:42.485Z"
   },
   {
    "duration": 0,
    "start_time": "2023-05-27T12:27:42.488Z"
   },
   {
    "duration": 0,
    "start_time": "2023-05-27T12:27:42.489Z"
   },
   {
    "duration": 0,
    "start_time": "2023-05-27T12:27:42.490Z"
   },
   {
    "duration": 0,
    "start_time": "2023-05-27T12:27:42.491Z"
   },
   {
    "duration": 0,
    "start_time": "2023-05-27T12:27:42.493Z"
   },
   {
    "duration": 0,
    "start_time": "2023-05-27T12:27:42.494Z"
   },
   {
    "duration": 0,
    "start_time": "2023-05-27T12:27:42.496Z"
   },
   {
    "duration": 0,
    "start_time": "2023-05-27T12:27:42.499Z"
   },
   {
    "duration": 0,
    "start_time": "2023-05-27T12:27:42.501Z"
   },
   {
    "duration": 13,
    "start_time": "2023-05-27T12:28:09.549Z"
   },
   {
    "duration": 10,
    "start_time": "2023-05-27T12:28:15.945Z"
   },
   {
    "duration": 24,
    "start_time": "2023-05-27T12:28:21.871Z"
   },
   {
    "duration": 0,
    "start_time": "2023-05-27T12:28:21.896Z"
   },
   {
    "duration": 0,
    "start_time": "2023-05-27T12:28:21.897Z"
   },
   {
    "duration": 0,
    "start_time": "2023-05-27T12:28:21.901Z"
   },
   {
    "duration": 0,
    "start_time": "2023-05-27T12:28:21.902Z"
   },
   {
    "duration": 18,
    "start_time": "2023-05-27T12:28:21.904Z"
   },
   {
    "duration": 0,
    "start_time": "2023-05-27T12:28:21.925Z"
   },
   {
    "duration": 0,
    "start_time": "2023-05-27T12:28:21.927Z"
   },
   {
    "duration": 0,
    "start_time": "2023-05-27T12:28:21.928Z"
   },
   {
    "duration": 0,
    "start_time": "2023-05-27T12:28:21.930Z"
   },
   {
    "duration": 0,
    "start_time": "2023-05-27T12:28:21.931Z"
   },
   {
    "duration": 1,
    "start_time": "2023-05-27T12:28:21.932Z"
   },
   {
    "duration": 0,
    "start_time": "2023-05-27T12:28:21.934Z"
   },
   {
    "duration": 0,
    "start_time": "2023-05-27T12:28:21.935Z"
   },
   {
    "duration": 0,
    "start_time": "2023-05-27T12:28:21.936Z"
   },
   {
    "duration": 0,
    "start_time": "2023-05-27T12:28:21.938Z"
   },
   {
    "duration": 0,
    "start_time": "2023-05-27T12:28:21.939Z"
   },
   {
    "duration": 0,
    "start_time": "2023-05-27T12:28:21.940Z"
   },
   {
    "duration": 0,
    "start_time": "2023-05-27T12:28:21.941Z"
   },
   {
    "duration": 0,
    "start_time": "2023-05-27T12:28:21.943Z"
   },
   {
    "duration": 0,
    "start_time": "2023-05-27T12:28:21.944Z"
   },
   {
    "duration": 0,
    "start_time": "2023-05-27T12:28:21.945Z"
   },
   {
    "duration": 0,
    "start_time": "2023-05-27T12:28:21.946Z"
   },
   {
    "duration": 0,
    "start_time": "2023-05-27T12:28:21.947Z"
   },
   {
    "duration": 0,
    "start_time": "2023-05-27T12:28:21.949Z"
   },
   {
    "duration": 0,
    "start_time": "2023-05-27T12:28:21.949Z"
   },
   {
    "duration": 0,
    "start_time": "2023-05-27T12:28:21.950Z"
   },
   {
    "duration": 36,
    "start_time": "2023-05-27T12:28:21.951Z"
   },
   {
    "duration": 0,
    "start_time": "2023-05-27T12:28:21.990Z"
   },
   {
    "duration": 0,
    "start_time": "2023-05-27T12:28:21.993Z"
   },
   {
    "duration": 0,
    "start_time": "2023-05-27T12:28:21.995Z"
   },
   {
    "duration": 0,
    "start_time": "2023-05-27T12:28:21.996Z"
   },
   {
    "duration": 0,
    "start_time": "2023-05-27T12:28:22.000Z"
   },
   {
    "duration": 0,
    "start_time": "2023-05-27T12:28:22.001Z"
   },
   {
    "duration": 0,
    "start_time": "2023-05-27T12:28:22.003Z"
   },
   {
    "duration": 0,
    "start_time": "2023-05-27T12:28:22.005Z"
   },
   {
    "duration": 0,
    "start_time": "2023-05-27T12:28:22.007Z"
   },
   {
    "duration": 0,
    "start_time": "2023-05-27T12:28:22.010Z"
   },
   {
    "duration": 0,
    "start_time": "2023-05-27T12:28:22.012Z"
   },
   {
    "duration": 0,
    "start_time": "2023-05-27T12:28:22.013Z"
   },
   {
    "duration": 0,
    "start_time": "2023-05-27T12:28:22.015Z"
   },
   {
    "duration": 0,
    "start_time": "2023-05-27T12:28:22.016Z"
   },
   {
    "duration": 0,
    "start_time": "2023-05-27T12:28:22.018Z"
   },
   {
    "duration": 0,
    "start_time": "2023-05-27T12:28:22.021Z"
   },
   {
    "duration": 0,
    "start_time": "2023-05-27T12:28:22.023Z"
   },
   {
    "duration": 0,
    "start_time": "2023-05-27T12:28:22.025Z"
   },
   {
    "duration": 0,
    "start_time": "2023-05-27T12:28:22.026Z"
   },
   {
    "duration": 0,
    "start_time": "2023-05-27T12:28:22.028Z"
   },
   {
    "duration": 0,
    "start_time": "2023-05-27T12:28:22.029Z"
   },
   {
    "duration": 77,
    "start_time": "2023-05-27T12:28:22.036Z"
   },
   {
    "duration": 1,
    "start_time": "2023-05-27T12:28:22.114Z"
   },
   {
    "duration": 0,
    "start_time": "2023-05-27T12:28:22.115Z"
   },
   {
    "duration": 0,
    "start_time": "2023-05-27T12:28:22.117Z"
   },
   {
    "duration": 0,
    "start_time": "2023-05-27T12:28:22.118Z"
   },
   {
    "duration": 0,
    "start_time": "2023-05-27T12:28:22.120Z"
   },
   {
    "duration": 0,
    "start_time": "2023-05-27T12:28:22.121Z"
   },
   {
    "duration": 0,
    "start_time": "2023-05-27T12:28:22.122Z"
   },
   {
    "duration": 0,
    "start_time": "2023-05-27T12:28:22.123Z"
   },
   {
    "duration": 0,
    "start_time": "2023-05-27T12:28:22.124Z"
   },
   {
    "duration": 0,
    "start_time": "2023-05-27T12:28:22.125Z"
   },
   {
    "duration": 0,
    "start_time": "2023-05-27T12:28:22.126Z"
   },
   {
    "duration": 0,
    "start_time": "2023-05-27T12:28:22.127Z"
   },
   {
    "duration": 0,
    "start_time": "2023-05-27T12:28:22.128Z"
   },
   {
    "duration": 0,
    "start_time": "2023-05-27T12:28:22.129Z"
   },
   {
    "duration": 0,
    "start_time": "2023-05-27T12:28:22.130Z"
   },
   {
    "duration": 0,
    "start_time": "2023-05-27T12:28:22.131Z"
   },
   {
    "duration": 14,
    "start_time": "2023-05-27T12:28:26.202Z"
   },
   {
    "duration": 18,
    "start_time": "2023-05-27T12:28:46.210Z"
   },
   {
    "duration": 0,
    "start_time": "2023-05-27T12:28:46.232Z"
   },
   {
    "duration": 0,
    "start_time": "2023-05-27T12:28:46.233Z"
   },
   {
    "duration": 20,
    "start_time": "2023-05-27T12:28:55.298Z"
   },
   {
    "duration": 7,
    "start_time": "2023-05-27T12:29:03.299Z"
   },
   {
    "duration": 8,
    "start_time": "2023-05-27T12:29:13.278Z"
   },
   {
    "duration": 7,
    "start_time": "2023-05-27T12:29:13.288Z"
   },
   {
    "duration": 944,
    "start_time": "2023-05-27T12:29:13.299Z"
   },
   {
    "duration": 20,
    "start_time": "2023-05-27T12:29:14.245Z"
   },
   {
    "duration": 14,
    "start_time": "2023-05-27T12:29:14.266Z"
   },
   {
    "duration": 451,
    "start_time": "2023-05-27T12:29:14.282Z"
   },
   {
    "duration": 385,
    "start_time": "2023-05-27T12:29:14.735Z"
   },
   {
    "duration": 9,
    "start_time": "2023-05-27T12:29:15.127Z"
   },
   {
    "duration": 12,
    "start_time": "2023-05-27T12:29:15.138Z"
   },
   {
    "duration": 7,
    "start_time": "2023-05-27T12:29:15.152Z"
   },
   {
    "duration": 106,
    "start_time": "2023-05-27T12:29:15.160Z"
   },
   {
    "duration": 19,
    "start_time": "2023-05-27T12:29:15.268Z"
   },
   {
    "duration": 335,
    "start_time": "2023-05-27T12:29:15.290Z"
   },
   {
    "duration": 20,
    "start_time": "2023-05-27T12:29:15.630Z"
   },
   {
    "duration": 16,
    "start_time": "2023-05-27T12:29:15.652Z"
   },
   {
    "duration": 25,
    "start_time": "2023-05-27T12:29:15.670Z"
   },
   {
    "duration": 14,
    "start_time": "2023-05-27T12:29:15.696Z"
   },
   {
    "duration": 13,
    "start_time": "2023-05-27T12:29:15.712Z"
   },
   {
    "duration": 328,
    "start_time": "2023-05-27T12:29:15.728Z"
   },
   {
    "duration": 11,
    "start_time": "2023-05-27T12:29:16.060Z"
   },
   {
    "duration": 30,
    "start_time": "2023-05-27T12:29:16.073Z"
   },
   {
    "duration": 39,
    "start_time": "2023-05-27T12:29:16.107Z"
   },
   {
    "duration": 366,
    "start_time": "2023-05-27T12:29:16.148Z"
   },
   {
    "duration": 28,
    "start_time": "2023-05-27T12:29:16.516Z"
   },
   {
    "duration": 13,
    "start_time": "2023-05-27T12:29:16.546Z"
   },
   {
    "duration": 22,
    "start_time": "2023-05-27T12:29:16.561Z"
   },
   {
    "duration": 20,
    "start_time": "2023-05-27T12:29:16.585Z"
   },
   {
    "duration": 7,
    "start_time": "2023-05-27T12:29:16.606Z"
   },
   {
    "duration": 6,
    "start_time": "2023-05-27T12:29:16.615Z"
   },
   {
    "duration": 10,
    "start_time": "2023-05-27T12:29:16.623Z"
   },
   {
    "duration": 12,
    "start_time": "2023-05-27T12:29:16.634Z"
   },
   {
    "duration": 45,
    "start_time": "2023-05-27T12:29:16.647Z"
   },
   {
    "duration": 7,
    "start_time": "2023-05-27T12:29:16.693Z"
   },
   {
    "duration": 39,
    "start_time": "2023-05-27T12:29:16.702Z"
   },
   {
    "duration": 7,
    "start_time": "2023-05-27T12:29:16.743Z"
   },
   {
    "duration": 11,
    "start_time": "2023-05-27T12:29:16.751Z"
   },
   {
    "duration": 32,
    "start_time": "2023-05-27T12:29:16.763Z"
   },
   {
    "duration": 36,
    "start_time": "2023-05-27T12:29:16.797Z"
   },
   {
    "duration": 6,
    "start_time": "2023-05-27T12:29:16.835Z"
   },
   {
    "duration": 10,
    "start_time": "2023-05-27T12:29:16.843Z"
   },
   {
    "duration": 6,
    "start_time": "2023-05-27T12:29:16.855Z"
   },
   {
    "duration": 20,
    "start_time": "2023-05-27T12:29:16.863Z"
   },
   {
    "duration": 32,
    "start_time": "2023-05-27T12:29:16.885Z"
   },
   {
    "duration": 60,
    "start_time": "2023-05-27T12:29:16.924Z"
   },
   {
    "duration": 4,
    "start_time": "2023-05-27T12:29:16.986Z"
   },
   {
    "duration": 19,
    "start_time": "2023-05-27T12:29:16.992Z"
   },
   {
    "duration": 9,
    "start_time": "2023-05-27T12:29:17.013Z"
   },
   {
    "duration": 19,
    "start_time": "2023-05-27T12:29:17.023Z"
   },
   {
    "duration": 67,
    "start_time": "2023-05-27T12:29:17.043Z"
   },
   {
    "duration": 19,
    "start_time": "2023-05-27T12:29:17.112Z"
   },
   {
    "duration": 18,
    "start_time": "2023-05-27T12:29:17.132Z"
   },
   {
    "duration": 61,
    "start_time": "2023-05-27T12:29:17.152Z"
   },
   {
    "duration": 21,
    "start_time": "2023-05-27T12:29:17.215Z"
   },
   {
    "duration": 10,
    "start_time": "2023-05-27T12:29:17.238Z"
   },
   {
    "duration": 18,
    "start_time": "2023-05-27T12:29:17.249Z"
   },
   {
    "duration": 24,
    "start_time": "2023-05-27T12:29:17.271Z"
   },
   {
    "duration": 20,
    "start_time": "2023-05-27T12:29:17.300Z"
   },
   {
    "duration": 47,
    "start_time": "2023-05-27T12:29:17.322Z"
   },
   {
    "duration": 39,
    "start_time": "2023-05-27T12:29:17.372Z"
   },
   {
    "duration": 18,
    "start_time": "2023-05-27T12:29:17.414Z"
   },
   {
    "duration": 32,
    "start_time": "2023-05-27T12:29:17.436Z"
   },
   {
    "duration": 37,
    "start_time": "2023-05-27T12:29:17.484Z"
   },
   {
    "duration": 41,
    "start_time": "2023-05-27T12:29:17.522Z"
   },
   {
    "duration": 4955,
    "start_time": "2023-05-27T12:29:17.564Z"
   },
   {
    "duration": 10,
    "start_time": "2023-05-27T12:29:24.454Z"
   },
   {
    "duration": 15,
    "start_time": "2023-05-27T12:29:24.530Z"
   },
   {
    "duration": 19,
    "start_time": "2023-05-27T12:29:29.898Z"
   },
   {
    "duration": 26,
    "start_time": "2023-05-27T12:32:23.153Z"
   },
   {
    "duration": 27,
    "start_time": "2023-05-27T12:33:49.994Z"
   },
   {
    "duration": 42626,
    "start_time": "2023-05-27T12:33:50.902Z"
   },
   {
    "duration": 102,
    "start_time": "2023-05-27T12:35:49.849Z"
   },
   {
    "duration": 102,
    "start_time": "2023-05-27T12:35:53.748Z"
   },
   {
    "duration": 174,
    "start_time": "2023-05-27T12:36:14.295Z"
   },
   {
    "duration": 88,
    "start_time": "2023-05-27T12:37:48.801Z"
   },
   {
    "duration": 366129,
    "start_time": "2023-05-27T12:40:27.072Z"
   },
   {
    "duration": 87,
    "start_time": "2023-05-27T13:04:03.669Z"
   },
   {
    "duration": 504,
    "start_time": "2023-05-29T11:50:44.301Z"
   }
  ],
  "colab": {
   "include_colab_link": true,
   "provenance": []
  },
  "kernelspec": {
   "display_name": "Python 3 (ipykernel)",
   "language": "python",
   "name": "python3"
  },
  "language_info": {
   "codemirror_mode": {
    "name": "ipython",
    "version": 3
   },
   "file_extension": ".py",
   "mimetype": "text/x-python",
   "name": "python",
   "nbconvert_exporter": "python",
   "pygments_lexer": "ipython3",
   "version": "3.9.13"
  },
  "toc": {
   "base_numbering": 1,
   "nav_menu": {},
   "number_sections": true,
   "sideBar": true,
   "skip_h1_title": false,
   "title_cell": "Table of Contents",
   "title_sidebar": "Contents",
   "toc_cell": false,
   "toc_position": {
    "height": "calc(100% - 180px)",
    "left": "10px",
    "top": "150px",
    "width": "264.594px"
   },
   "toc_section_display": true,
   "toc_window_display": true
  }
 },
 "nbformat": 4,
 "nbformat_minor": 5
}
