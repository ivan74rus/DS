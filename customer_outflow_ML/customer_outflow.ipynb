{
  "cells": [
    {
      "cell_type": "markdown",
      "metadata": {
        "id": "view-in-github",
        "colab_type": "text"
      },
      "source": [
        "<a href=\"https://colab.research.google.com/github/ivan74rus/DS/blob/main/ML_analis_klientov_banka.ipynb\" target=\"_parent\"><img src=\"https://colab.research.google.com/assets/colab-badge.svg\" alt=\"Open In Colab\"/></a>"
      ]
    },
    {
      "cell_type": "markdown",
      "metadata": {
        "toc": true,
        "id": "iWyvE1uVKmZ1"
      },
      "source": [
        "<h1>Содержание<span class=\"tocSkip\"></span></h1>\n",
        "<div class=\"toc\"><ul class=\"toc-item\"><li><span><a href=\"#Подготовка-данных\" data-toc-modified-id=\"Подготовка-данных-1\"><span class=\"toc-item-num\">1&nbsp;&nbsp;</span>Подготовка данных</a></span><ul class=\"toc-item\"><li><span><a href=\"#Чтение-и-обработка-данных\" data-toc-modified-id=\"Чтение-и-обработка-данных-1.1\"><span class=\"toc-item-num\">1.1&nbsp;&nbsp;</span>Чтение и обработка данных</a></span></li><li><span><a href=\"#Подготовка-даных-к-ML\" data-toc-modified-id=\"Подготовка-даных-к-ML-1.2\"><span class=\"toc-item-num\">1.2&nbsp;&nbsp;</span>Подготовка даных к ML</a></span></li><li><span><a href=\"#разбивка-выборок-на-трен-обуч-и-тестовую\" data-toc-modified-id=\"разбивка-выборок-на-трен-обуч-и-тестовую-1.3\"><span class=\"toc-item-num\">1.3&nbsp;&nbsp;</span>разбивка выборок на трен обуч и тестовую</a></span></li><li><span><a href=\"#Применяем-методику-OHE-как-класс-из-sklearn\" data-toc-modified-id=\"Применяем-методику-OHE-как-класс-из-sklearn-1.4\"><span class=\"toc-item-num\">1.4&nbsp;&nbsp;</span>Применяем методику OHE как класс из sklearn</a></span></li><li><span><a href=\"#Масштабирование\" data-toc-modified-id=\"Масштабирование-1.5\"><span class=\"toc-item-num\">1.5&nbsp;&nbsp;</span>Масштабирование</a></span></li></ul></li><li><span><a href=\"#Исследование-задачи\" data-toc-modified-id=\"Исследование-задачи-2\"><span class=\"toc-item-num\">2&nbsp;&nbsp;</span>Исследование задачи</a></span><ul class=\"toc-item\"><li><span><a href=\"#Обучение-моделей-без-учета-баланса-классов\" data-toc-modified-id=\"Обучение-моделей-без-учета-баланса-классов-2.1\"><span class=\"toc-item-num\">2.1&nbsp;&nbsp;</span>Обучение моделей без учета баланса классов</a></span></li></ul></li><li><span><a href=\"#Борьба-с-дисбалансом\" data-toc-modified-id=\"Борьба-с-дисбалансом-3\"><span class=\"toc-item-num\">3&nbsp;&nbsp;</span>Борьба с дисбалансом</a></span><ul class=\"toc-item\"><li><span><a href=\"#Используем-гипер-параметр--class_weight='balanced'\" data-toc-modified-id=\"Используем-гипер-параметр--class_weight='balanced'-3.1\"><span class=\"toc-item-num\">3.1&nbsp;&nbsp;</span>Используем гипер параметр  class_weight='balanced'</a></span></li><li><span><a href=\"#Увеличение-выборки-upsampling\" data-toc-modified-id=\"Увеличение-выборки-upsampling-3.2\"><span class=\"toc-item-num\">3.2&nbsp;&nbsp;</span>Увеличение выборки upsampling</a></span></li></ul></li><li><span><a href=\"#Тестирование-модели\" data-toc-modified-id=\"Тестирование-модели-4\"><span class=\"toc-item-num\">4&nbsp;&nbsp;</span>Тестирование модели</a></span></li><li><span><a href=\"#Дополнительный-пункт.\" data-toc-modified-id=\"Дополнительный-пункт.-5\"><span class=\"toc-item-num\">5&nbsp;&nbsp;</span>Дополнительный пункт.</a></span></li></ul></div>"
      ]
    },
    {
      "cell_type": "markdown",
      "metadata": {
        "id": "8xLR-LXPKmZ1"
      },
      "source": [
        "# Отток клиентов"
      ]
    },
    {
      "cell_type": "markdown",
      "metadata": {
        "id": "UWBkoeueKmZ2"
      },
      "source": [
        "Из «Бета-Банка» стали уходить клиенты. Каждый месяц. Немного, но заметно. Банковские маркетологи посчитали: сохранять текущих клиентов дешевле, чем привлекать новых.\n",
        "\n",
        "Нужно спрогнозировать, уйдёт клиент из банка в ближайшее время или нет. Вам предоставлены исторические данные о поведении клиентов и расторжении договоров с банком. \n",
        "\n",
        "Постройте модель с предельно большим значением *F1*-меры. Чтобы сдать проект успешно, нужно довести метрику до 0.59. Проверьте *F1*-меру на тестовой выборке самостоятельно.\n",
        "\n",
        "Дополнительно измеряйте *AUC-ROC*, сравнивайте её значение с *F1*-мерой.\n",
        "\n",
        "Источник данных: [https://www.kaggle.com/barelydedicated/bank-customer-churn-modeling](https://www.kaggle.com/barelydedicated/bank-customer-churn-modeling)"
      ]
    },
    {
      "cell_type": "code",
      "execution_count": null,
      "metadata": {
        "id": "opm_ru3xKmZ3"
      },
      "outputs": [],
      "source": [
        "#устн нов версии , для колаба не нужно\n",
        "#!pip install scikit-learn==1.1.3"
      ]
    },
    {
      "cell_type": "code",
      "source": [
        "#подключить гугл диск\n",
        "from google.colab import drive\n",
        "drive.mount('/content/drive')"
      ],
      "metadata": {
        "colab": {
          "base_uri": "https://localhost:8080/"
        },
        "id": "UFhsBFv_L-4F",
        "outputId": "055c4c5d-7660-44c6-eea6-7486e28693a5"
      },
      "execution_count": null,
      "outputs": [
        {
          "output_type": "stream",
          "name": "stdout",
          "text": [
            "Mounted at /content/drive\n"
          ]
        }
      ]
    },
    {
      "cell_type": "code",
      "execution_count": null,
      "metadata": {
        "id": "FmsjeEGsKmZ4"
      },
      "outputs": [],
      "source": [
        "# импорты\n",
        "import pandas as pd\n",
        "\n",
        "from sklearn.model_selection import train_test_split\n",
        "from sklearn.linear_model import LogisticRegression\n",
        "from sklearn.tree import DecisionTreeClassifier\n",
        "from sklearn.ensemble import RandomForestClassifier\n",
        "\n",
        "from sklearn.metrics import ( \n",
        "    f1_score,\n",
        "    roc_auc_score,\n",
        "    recall_score,\n",
        "    precision_score\n",
        ")\n",
        "precision_score   \n",
        "from sklearn.utils import shuffle\n",
        "from sklearn.preprocessing import StandardScaler\n",
        "from sklearn.preprocessing import OneHotEncoder\n"
      ]
    },
    {
      "cell_type": "markdown",
      "metadata": {
        "id": "g0CDGH2qKmZ6"
      },
      "source": [
        "## Подготовка данных"
      ]
    },
    {
      "cell_type": "markdown",
      "metadata": {
        "id": "iZsTBrG7KmZ6"
      },
      "source": [
        "### Чтение и обработка данных"
      ]
    },
    {
      "cell_type": "code",
      "execution_count": null,
      "metadata": {
        "colab": {
          "base_uri": "https://localhost:8080/",
          "height": 143
        },
        "id": "cPdYdMBwKmZ6",
        "outputId": "8ba21ff7-4a96-4637-e3f0-1c129fc10e0e"
      },
      "outputs": [
        {
          "output_type": "execute_result",
          "data": {
            "text/plain": [
              "   RowNumber  CustomerId   Surname  CreditScore Geography  Gender  Age  \\\n",
              "0          1    15634602  Hargrave          619    France  Female   42   \n",
              "1          2    15647311      Hill          608     Spain  Female   41   \n",
              "2          3    15619304      Onio          502    France  Female   42   \n",
              "\n",
              "   Tenure    Balance  NumOfProducts  HasCrCard  IsActiveMember  \\\n",
              "0     2.0       0.00              1          1               1   \n",
              "1     1.0   83807.86              1          0               1   \n",
              "2     8.0  159660.80              3          1               0   \n",
              "\n",
              "   EstimatedSalary  Exited  \n",
              "0        101348.88       1  \n",
              "1        112542.58       0  \n",
              "2        113931.57       1  "
            ],
            "text/html": [
              "\n",
              "  <div id=\"df-51f811a1-888e-4d62-8e0f-2febf17d959f\">\n",
              "    <div class=\"colab-df-container\">\n",
              "      <div>\n",
              "<style scoped>\n",
              "    .dataframe tbody tr th:only-of-type {\n",
              "        vertical-align: middle;\n",
              "    }\n",
              "\n",
              "    .dataframe tbody tr th {\n",
              "        vertical-align: top;\n",
              "    }\n",
              "\n",
              "    .dataframe thead th {\n",
              "        text-align: right;\n",
              "    }\n",
              "</style>\n",
              "<table border=\"1\" class=\"dataframe\">\n",
              "  <thead>\n",
              "    <tr style=\"text-align: right;\">\n",
              "      <th></th>\n",
              "      <th>RowNumber</th>\n",
              "      <th>CustomerId</th>\n",
              "      <th>Surname</th>\n",
              "      <th>CreditScore</th>\n",
              "      <th>Geography</th>\n",
              "      <th>Gender</th>\n",
              "      <th>Age</th>\n",
              "      <th>Tenure</th>\n",
              "      <th>Balance</th>\n",
              "      <th>NumOfProducts</th>\n",
              "      <th>HasCrCard</th>\n",
              "      <th>IsActiveMember</th>\n",
              "      <th>EstimatedSalary</th>\n",
              "      <th>Exited</th>\n",
              "    </tr>\n",
              "  </thead>\n",
              "  <tbody>\n",
              "    <tr>\n",
              "      <th>0</th>\n",
              "      <td>1</td>\n",
              "      <td>15634602</td>\n",
              "      <td>Hargrave</td>\n",
              "      <td>619</td>\n",
              "      <td>France</td>\n",
              "      <td>Female</td>\n",
              "      <td>42</td>\n",
              "      <td>2.0</td>\n",
              "      <td>0.00</td>\n",
              "      <td>1</td>\n",
              "      <td>1</td>\n",
              "      <td>1</td>\n",
              "      <td>101348.88</td>\n",
              "      <td>1</td>\n",
              "    </tr>\n",
              "    <tr>\n",
              "      <th>1</th>\n",
              "      <td>2</td>\n",
              "      <td>15647311</td>\n",
              "      <td>Hill</td>\n",
              "      <td>608</td>\n",
              "      <td>Spain</td>\n",
              "      <td>Female</td>\n",
              "      <td>41</td>\n",
              "      <td>1.0</td>\n",
              "      <td>83807.86</td>\n",
              "      <td>1</td>\n",
              "      <td>0</td>\n",
              "      <td>1</td>\n",
              "      <td>112542.58</td>\n",
              "      <td>0</td>\n",
              "    </tr>\n",
              "    <tr>\n",
              "      <th>2</th>\n",
              "      <td>3</td>\n",
              "      <td>15619304</td>\n",
              "      <td>Onio</td>\n",
              "      <td>502</td>\n",
              "      <td>France</td>\n",
              "      <td>Female</td>\n",
              "      <td>42</td>\n",
              "      <td>8.0</td>\n",
              "      <td>159660.80</td>\n",
              "      <td>3</td>\n",
              "      <td>1</td>\n",
              "      <td>0</td>\n",
              "      <td>113931.57</td>\n",
              "      <td>1</td>\n",
              "    </tr>\n",
              "  </tbody>\n",
              "</table>\n",
              "</div>\n",
              "      <button class=\"colab-df-convert\" onclick=\"convertToInteractive('df-51f811a1-888e-4d62-8e0f-2febf17d959f')\"\n",
              "              title=\"Convert this dataframe to an interactive table.\"\n",
              "              style=\"display:none;\">\n",
              "        \n",
              "  <svg xmlns=\"http://www.w3.org/2000/svg\" height=\"24px\"viewBox=\"0 0 24 24\"\n",
              "       width=\"24px\">\n",
              "    <path d=\"M0 0h24v24H0V0z\" fill=\"none\"/>\n",
              "    <path d=\"M18.56 5.44l.94 2.06.94-2.06 2.06-.94-2.06-.94-.94-2.06-.94 2.06-2.06.94zm-11 1L8.5 8.5l.94-2.06 2.06-.94-2.06-.94L8.5 2.5l-.94 2.06-2.06.94zm10 10l.94 2.06.94-2.06 2.06-.94-2.06-.94-.94-2.06-.94 2.06-2.06.94z\"/><path d=\"M17.41 7.96l-1.37-1.37c-.4-.4-.92-.59-1.43-.59-.52 0-1.04.2-1.43.59L10.3 9.45l-7.72 7.72c-.78.78-.78 2.05 0 2.83L4 21.41c.39.39.9.59 1.41.59.51 0 1.02-.2 1.41-.59l7.78-7.78 2.81-2.81c.8-.78.8-2.07 0-2.86zM5.41 20L4 18.59l7.72-7.72 1.47 1.35L5.41 20z\"/>\n",
              "  </svg>\n",
              "      </button>\n",
              "      \n",
              "  <style>\n",
              "    .colab-df-container {\n",
              "      display:flex;\n",
              "      flex-wrap:wrap;\n",
              "      gap: 12px;\n",
              "    }\n",
              "\n",
              "    .colab-df-convert {\n",
              "      background-color: #E8F0FE;\n",
              "      border: none;\n",
              "      border-radius: 50%;\n",
              "      cursor: pointer;\n",
              "      display: none;\n",
              "      fill: #1967D2;\n",
              "      height: 32px;\n",
              "      padding: 0 0 0 0;\n",
              "      width: 32px;\n",
              "    }\n",
              "\n",
              "    .colab-df-convert:hover {\n",
              "      background-color: #E2EBFA;\n",
              "      box-shadow: 0px 1px 2px rgba(60, 64, 67, 0.3), 0px 1px 3px 1px rgba(60, 64, 67, 0.15);\n",
              "      fill: #174EA6;\n",
              "    }\n",
              "\n",
              "    [theme=dark] .colab-df-convert {\n",
              "      background-color: #3B4455;\n",
              "      fill: #D2E3FC;\n",
              "    }\n",
              "\n",
              "    [theme=dark] .colab-df-convert:hover {\n",
              "      background-color: #434B5C;\n",
              "      box-shadow: 0px 1px 3px 1px rgba(0, 0, 0, 0.15);\n",
              "      filter: drop-shadow(0px 1px 2px rgba(0, 0, 0, 0.3));\n",
              "      fill: #FFFFFF;\n",
              "    }\n",
              "  </style>\n",
              "\n",
              "      <script>\n",
              "        const buttonEl =\n",
              "          document.querySelector('#df-51f811a1-888e-4d62-8e0f-2febf17d959f button.colab-df-convert');\n",
              "        buttonEl.style.display =\n",
              "          google.colab.kernel.accessAllowed ? 'block' : 'none';\n",
              "\n",
              "        async function convertToInteractive(key) {\n",
              "          const element = document.querySelector('#df-51f811a1-888e-4d62-8e0f-2febf17d959f');\n",
              "          const dataTable =\n",
              "            await google.colab.kernel.invokeFunction('convertToInteractive',\n",
              "                                                     [key], {});\n",
              "          if (!dataTable) return;\n",
              "\n",
              "          const docLinkHtml = 'Like what you see? Visit the ' +\n",
              "            '<a target=\"_blank\" href=https://colab.research.google.com/notebooks/data_table.ipynb>data table notebook</a>'\n",
              "            + ' to learn more about interactive tables.';\n",
              "          element.innerHTML = '';\n",
              "          dataTable['output_type'] = 'display_data';\n",
              "          await google.colab.output.renderOutput(dataTable, element);\n",
              "          const docLink = document.createElement('div');\n",
              "          docLink.innerHTML = docLinkHtml;\n",
              "          element.appendChild(docLink);\n",
              "        }\n",
              "      </script>\n",
              "    </div>\n",
              "  </div>\n",
              "  "
            ]
          },
          "metadata": {},
          "execution_count": 6
        }
      ],
      "source": [
        "#чтение файла и анализ\n",
        "df =pd.read_csv('/content/drive/MyDrive/DS/Churn.csv' )\n",
        "df.head(3)"
      ]
    },
    {
      "cell_type": "code",
      "execution_count": null,
      "metadata": {
        "colab": {
          "base_uri": "https://localhost:8080/"
        },
        "id": "Ba2L4unXKmZ6",
        "outputId": "0dbd5d98-1058-4d44-ab05-87f2968a88ae"
      },
      "outputs": [
        {
          "output_type": "stream",
          "name": "stdout",
          "text": [
            "<class 'pandas.core.frame.DataFrame'>\n",
            "RangeIndex: 10000 entries, 0 to 9999\n",
            "Data columns (total 14 columns):\n",
            " #   Column           Non-Null Count  Dtype  \n",
            "---  ------           --------------  -----  \n",
            " 0   RowNumber        10000 non-null  int64  \n",
            " 1   CustomerId       10000 non-null  int64  \n",
            " 2   Surname          10000 non-null  object \n",
            " 3   CreditScore      10000 non-null  int64  \n",
            " 4   Geography        10000 non-null  object \n",
            " 5   Gender           10000 non-null  object \n",
            " 6   Age              10000 non-null  int64  \n",
            " 7   Tenure           9091 non-null   float64\n",
            " 8   Balance          10000 non-null  float64\n",
            " 9   NumOfProducts    10000 non-null  int64  \n",
            " 10  HasCrCard        10000 non-null  int64  \n",
            " 11  IsActiveMember   10000 non-null  int64  \n",
            " 12  EstimatedSalary  10000 non-null  float64\n",
            " 13  Exited           10000 non-null  int64  \n",
            "dtypes: float64(3), int64(8), object(3)\n",
            "memory usage: 1.1+ MB\n"
          ]
        }
      ],
      "source": [
        "df.info()"
      ]
    },
    {
      "cell_type": "markdown",
      "metadata": {
        "id": "tM2CwKhaKmZ7"
      },
      "source": [
        "Как видно,есть пропуске в столбце 'Tenure' - сколько лет человек является клиентом банка.     \n",
        "Прежде чем обработать пропуски, посмотрим баланс класссов в целевом признаке по всему даатасету и по датасету с с пропусками.\n",
        "Посмотрим корреляции."
      ]
    },
    {
      "cell_type": "code",
      "execution_count": null,
      "metadata": {
        "colab": {
          "base_uri": "https://localhost:8080/"
        },
        "id": "mE0exKAaKmZ7",
        "outputId": "e26d4439-8c2e-4476-8853-996fbec31e14"
      },
      "outputs": [
        {
          "output_type": "execute_result",
          "data": {
            "text/plain": [
              "0.2037"
            ]
          },
          "metadata": {},
          "execution_count": 8
        }
      ],
      "source": [
        "#баланс классов в целевом признаке в целом по дата сету\n",
        "df['Exited'].mean()"
      ]
    },
    {
      "cell_type": "code",
      "execution_count": null,
      "metadata": {
        "colab": {
          "base_uri": "https://localhost:8080/"
        },
        "id": "0cT-BnYPKmZ7",
        "outputId": "cf82b255-9608-459c-eb57-c957c76df46c"
      },
      "outputs": [
        {
          "output_type": "execute_result",
          "data": {
            "text/plain": [
              "0.20132013201320131"
            ]
          },
          "metadata": {},
          "execution_count": 9
        }
      ],
      "source": [
        "# баланс классов в целевом признаке в строках с пропусками по колонке 'Tenure'\n",
        "df[df['Tenure'].isna()]['Exited'].mean()\n"
      ]
    },
    {
      "cell_type": "code",
      "execution_count": null,
      "metadata": {
        "colab": {
          "base_uri": "https://localhost:8080/"
        },
        "id": "NRZxd6cfKmZ8",
        "outputId": "f889c0f4-3789-4a02-ac01-f887f0c2c949"
      },
      "outputs": [
        {
          "output_type": "execute_result",
          "data": {
            "text/plain": [
              "array([ 2.,  1.,  8.,  7.,  4.,  6.,  3., 10.,  5.,  9.,  0., nan])"
            ]
          },
          "metadata": {},
          "execution_count": 10
        }
      ],
      "source": [
        "#посмотрим значения в колонке с пропусками\n",
        "df['Tenure'].unique()"
      ]
    },
    {
      "cell_type": "code",
      "execution_count": null,
      "metadata": {
        "colab": {
          "base_uri": "https://localhost:8080/",
          "height": 394
        },
        "id": "DUcSMnldKmZ8",
        "outputId": "995fb362-dff5-4362-c6d0-cb4cf96f95c7"
      },
      "outputs": [
        {
          "output_type": "execute_result",
          "data": {
            "text/plain": [
              "                 RowNumber  CustomerId  CreditScore       Age    Tenure  \\\n",
              "RowNumber         1.000000    0.004202     0.005840  0.000783 -0.007322   \n",
              "CustomerId        0.004202    1.000000     0.005308  0.009497 -0.021418   \n",
              "CreditScore       0.005840    0.005308     1.000000 -0.003965 -0.000062   \n",
              "Age               0.000783    0.009497    -0.003965  1.000000 -0.013134   \n",
              "Tenure           -0.007322   -0.021418    -0.000062 -0.013134  1.000000   \n",
              "Balance          -0.009067   -0.012419     0.006268  0.028308 -0.007911   \n",
              "NumOfProducts     0.007246    0.016972     0.012238 -0.030680  0.011979   \n",
              "HasCrCard         0.000599   -0.014025    -0.005458 -0.011721  0.027232   \n",
              "IsActiveMember    0.012044    0.001665     0.025651  0.085472 -0.032178   \n",
              "EstimatedSalary  -0.005988    0.015271    -0.001384 -0.007201  0.010520   \n",
              "Exited           -0.016571   -0.006248    -0.027094  0.285323 -0.016761   \n",
              "\n",
              "                  Balance  NumOfProducts  HasCrCard  IsActiveMember  \\\n",
              "RowNumber       -0.009067       0.007246   0.000599        0.012044   \n",
              "CustomerId      -0.012419       0.016972  -0.014025        0.001665   \n",
              "CreditScore      0.006268       0.012238  -0.005458        0.025651   \n",
              "Age              0.028308      -0.030680  -0.011721        0.085472   \n",
              "Tenure          -0.007911       0.011979   0.027232       -0.032178   \n",
              "Balance          1.000000      -0.304180  -0.014858       -0.010084   \n",
              "NumOfProducts   -0.304180       1.000000   0.003183        0.009612   \n",
              "HasCrCard       -0.014858       0.003183   1.000000       -0.011866   \n",
              "IsActiveMember  -0.010084       0.009612  -0.011866        1.000000   \n",
              "EstimatedSalary  0.012797       0.014204  -0.009933       -0.011421   \n",
              "Exited           0.118533      -0.047820  -0.007138       -0.156128   \n",
              "\n",
              "                 EstimatedSalary    Exited  \n",
              "RowNumber              -0.005988 -0.016571  \n",
              "CustomerId              0.015271 -0.006248  \n",
              "CreditScore            -0.001384 -0.027094  \n",
              "Age                    -0.007201  0.285323  \n",
              "Tenure                  0.010520 -0.016761  \n",
              "Balance                 0.012797  0.118533  \n",
              "NumOfProducts           0.014204 -0.047820  \n",
              "HasCrCard              -0.009933 -0.007138  \n",
              "IsActiveMember         -0.011421 -0.156128  \n",
              "EstimatedSalary         1.000000  0.012097  \n",
              "Exited                  0.012097  1.000000  "
            ],
            "text/html": [
              "\n",
              "  <div id=\"df-37230b74-571a-4030-880c-892bc4180c55\">\n",
              "    <div class=\"colab-df-container\">\n",
              "      <div>\n",
              "<style scoped>\n",
              "    .dataframe tbody tr th:only-of-type {\n",
              "        vertical-align: middle;\n",
              "    }\n",
              "\n",
              "    .dataframe tbody tr th {\n",
              "        vertical-align: top;\n",
              "    }\n",
              "\n",
              "    .dataframe thead th {\n",
              "        text-align: right;\n",
              "    }\n",
              "</style>\n",
              "<table border=\"1\" class=\"dataframe\">\n",
              "  <thead>\n",
              "    <tr style=\"text-align: right;\">\n",
              "      <th></th>\n",
              "      <th>RowNumber</th>\n",
              "      <th>CustomerId</th>\n",
              "      <th>CreditScore</th>\n",
              "      <th>Age</th>\n",
              "      <th>Tenure</th>\n",
              "      <th>Balance</th>\n",
              "      <th>NumOfProducts</th>\n",
              "      <th>HasCrCard</th>\n",
              "      <th>IsActiveMember</th>\n",
              "      <th>EstimatedSalary</th>\n",
              "      <th>Exited</th>\n",
              "    </tr>\n",
              "  </thead>\n",
              "  <tbody>\n",
              "    <tr>\n",
              "      <th>RowNumber</th>\n",
              "      <td>1.000000</td>\n",
              "      <td>0.004202</td>\n",
              "      <td>0.005840</td>\n",
              "      <td>0.000783</td>\n",
              "      <td>-0.007322</td>\n",
              "      <td>-0.009067</td>\n",
              "      <td>0.007246</td>\n",
              "      <td>0.000599</td>\n",
              "      <td>0.012044</td>\n",
              "      <td>-0.005988</td>\n",
              "      <td>-0.016571</td>\n",
              "    </tr>\n",
              "    <tr>\n",
              "      <th>CustomerId</th>\n",
              "      <td>0.004202</td>\n",
              "      <td>1.000000</td>\n",
              "      <td>0.005308</td>\n",
              "      <td>0.009497</td>\n",
              "      <td>-0.021418</td>\n",
              "      <td>-0.012419</td>\n",
              "      <td>0.016972</td>\n",
              "      <td>-0.014025</td>\n",
              "      <td>0.001665</td>\n",
              "      <td>0.015271</td>\n",
              "      <td>-0.006248</td>\n",
              "    </tr>\n",
              "    <tr>\n",
              "      <th>CreditScore</th>\n",
              "      <td>0.005840</td>\n",
              "      <td>0.005308</td>\n",
              "      <td>1.000000</td>\n",
              "      <td>-0.003965</td>\n",
              "      <td>-0.000062</td>\n",
              "      <td>0.006268</td>\n",
              "      <td>0.012238</td>\n",
              "      <td>-0.005458</td>\n",
              "      <td>0.025651</td>\n",
              "      <td>-0.001384</td>\n",
              "      <td>-0.027094</td>\n",
              "    </tr>\n",
              "    <tr>\n",
              "      <th>Age</th>\n",
              "      <td>0.000783</td>\n",
              "      <td>0.009497</td>\n",
              "      <td>-0.003965</td>\n",
              "      <td>1.000000</td>\n",
              "      <td>-0.013134</td>\n",
              "      <td>0.028308</td>\n",
              "      <td>-0.030680</td>\n",
              "      <td>-0.011721</td>\n",
              "      <td>0.085472</td>\n",
              "      <td>-0.007201</td>\n",
              "      <td>0.285323</td>\n",
              "    </tr>\n",
              "    <tr>\n",
              "      <th>Tenure</th>\n",
              "      <td>-0.007322</td>\n",
              "      <td>-0.021418</td>\n",
              "      <td>-0.000062</td>\n",
              "      <td>-0.013134</td>\n",
              "      <td>1.000000</td>\n",
              "      <td>-0.007911</td>\n",
              "      <td>0.011979</td>\n",
              "      <td>0.027232</td>\n",
              "      <td>-0.032178</td>\n",
              "      <td>0.010520</td>\n",
              "      <td>-0.016761</td>\n",
              "    </tr>\n",
              "    <tr>\n",
              "      <th>Balance</th>\n",
              "      <td>-0.009067</td>\n",
              "      <td>-0.012419</td>\n",
              "      <td>0.006268</td>\n",
              "      <td>0.028308</td>\n",
              "      <td>-0.007911</td>\n",
              "      <td>1.000000</td>\n",
              "      <td>-0.304180</td>\n",
              "      <td>-0.014858</td>\n",
              "      <td>-0.010084</td>\n",
              "      <td>0.012797</td>\n",
              "      <td>0.118533</td>\n",
              "    </tr>\n",
              "    <tr>\n",
              "      <th>NumOfProducts</th>\n",
              "      <td>0.007246</td>\n",
              "      <td>0.016972</td>\n",
              "      <td>0.012238</td>\n",
              "      <td>-0.030680</td>\n",
              "      <td>0.011979</td>\n",
              "      <td>-0.304180</td>\n",
              "      <td>1.000000</td>\n",
              "      <td>0.003183</td>\n",
              "      <td>0.009612</td>\n",
              "      <td>0.014204</td>\n",
              "      <td>-0.047820</td>\n",
              "    </tr>\n",
              "    <tr>\n",
              "      <th>HasCrCard</th>\n",
              "      <td>0.000599</td>\n",
              "      <td>-0.014025</td>\n",
              "      <td>-0.005458</td>\n",
              "      <td>-0.011721</td>\n",
              "      <td>0.027232</td>\n",
              "      <td>-0.014858</td>\n",
              "      <td>0.003183</td>\n",
              "      <td>1.000000</td>\n",
              "      <td>-0.011866</td>\n",
              "      <td>-0.009933</td>\n",
              "      <td>-0.007138</td>\n",
              "    </tr>\n",
              "    <tr>\n",
              "      <th>IsActiveMember</th>\n",
              "      <td>0.012044</td>\n",
              "      <td>0.001665</td>\n",
              "      <td>0.025651</td>\n",
              "      <td>0.085472</td>\n",
              "      <td>-0.032178</td>\n",
              "      <td>-0.010084</td>\n",
              "      <td>0.009612</td>\n",
              "      <td>-0.011866</td>\n",
              "      <td>1.000000</td>\n",
              "      <td>-0.011421</td>\n",
              "      <td>-0.156128</td>\n",
              "    </tr>\n",
              "    <tr>\n",
              "      <th>EstimatedSalary</th>\n",
              "      <td>-0.005988</td>\n",
              "      <td>0.015271</td>\n",
              "      <td>-0.001384</td>\n",
              "      <td>-0.007201</td>\n",
              "      <td>0.010520</td>\n",
              "      <td>0.012797</td>\n",
              "      <td>0.014204</td>\n",
              "      <td>-0.009933</td>\n",
              "      <td>-0.011421</td>\n",
              "      <td>1.000000</td>\n",
              "      <td>0.012097</td>\n",
              "    </tr>\n",
              "    <tr>\n",
              "      <th>Exited</th>\n",
              "      <td>-0.016571</td>\n",
              "      <td>-0.006248</td>\n",
              "      <td>-0.027094</td>\n",
              "      <td>0.285323</td>\n",
              "      <td>-0.016761</td>\n",
              "      <td>0.118533</td>\n",
              "      <td>-0.047820</td>\n",
              "      <td>-0.007138</td>\n",
              "      <td>-0.156128</td>\n",
              "      <td>0.012097</td>\n",
              "      <td>1.000000</td>\n",
              "    </tr>\n",
              "  </tbody>\n",
              "</table>\n",
              "</div>\n",
              "      <button class=\"colab-df-convert\" onclick=\"convertToInteractive('df-37230b74-571a-4030-880c-892bc4180c55')\"\n",
              "              title=\"Convert this dataframe to an interactive table.\"\n",
              "              style=\"display:none;\">\n",
              "        \n",
              "  <svg xmlns=\"http://www.w3.org/2000/svg\" height=\"24px\"viewBox=\"0 0 24 24\"\n",
              "       width=\"24px\">\n",
              "    <path d=\"M0 0h24v24H0V0z\" fill=\"none\"/>\n",
              "    <path d=\"M18.56 5.44l.94 2.06.94-2.06 2.06-.94-2.06-.94-.94-2.06-.94 2.06-2.06.94zm-11 1L8.5 8.5l.94-2.06 2.06-.94-2.06-.94L8.5 2.5l-.94 2.06-2.06.94zm10 10l.94 2.06.94-2.06 2.06-.94-2.06-.94-.94-2.06-.94 2.06-2.06.94z\"/><path d=\"M17.41 7.96l-1.37-1.37c-.4-.4-.92-.59-1.43-.59-.52 0-1.04.2-1.43.59L10.3 9.45l-7.72 7.72c-.78.78-.78 2.05 0 2.83L4 21.41c.39.39.9.59 1.41.59.51 0 1.02-.2 1.41-.59l7.78-7.78 2.81-2.81c.8-.78.8-2.07 0-2.86zM5.41 20L4 18.59l7.72-7.72 1.47 1.35L5.41 20z\"/>\n",
              "  </svg>\n",
              "      </button>\n",
              "      \n",
              "  <style>\n",
              "    .colab-df-container {\n",
              "      display:flex;\n",
              "      flex-wrap:wrap;\n",
              "      gap: 12px;\n",
              "    }\n",
              "\n",
              "    .colab-df-convert {\n",
              "      background-color: #E8F0FE;\n",
              "      border: none;\n",
              "      border-radius: 50%;\n",
              "      cursor: pointer;\n",
              "      display: none;\n",
              "      fill: #1967D2;\n",
              "      height: 32px;\n",
              "      padding: 0 0 0 0;\n",
              "      width: 32px;\n",
              "    }\n",
              "\n",
              "    .colab-df-convert:hover {\n",
              "      background-color: #E2EBFA;\n",
              "      box-shadow: 0px 1px 2px rgba(60, 64, 67, 0.3), 0px 1px 3px 1px rgba(60, 64, 67, 0.15);\n",
              "      fill: #174EA6;\n",
              "    }\n",
              "\n",
              "    [theme=dark] .colab-df-convert {\n",
              "      background-color: #3B4455;\n",
              "      fill: #D2E3FC;\n",
              "    }\n",
              "\n",
              "    [theme=dark] .colab-df-convert:hover {\n",
              "      background-color: #434B5C;\n",
              "      box-shadow: 0px 1px 3px 1px rgba(0, 0, 0, 0.15);\n",
              "      filter: drop-shadow(0px 1px 2px rgba(0, 0, 0, 0.3));\n",
              "      fill: #FFFFFF;\n",
              "    }\n",
              "  </style>\n",
              "\n",
              "      <script>\n",
              "        const buttonEl =\n",
              "          document.querySelector('#df-37230b74-571a-4030-880c-892bc4180c55 button.colab-df-convert');\n",
              "        buttonEl.style.display =\n",
              "          google.colab.kernel.accessAllowed ? 'block' : 'none';\n",
              "\n",
              "        async function convertToInteractive(key) {\n",
              "          const element = document.querySelector('#df-37230b74-571a-4030-880c-892bc4180c55');\n",
              "          const dataTable =\n",
              "            await google.colab.kernel.invokeFunction('convertToInteractive',\n",
              "                                                     [key], {});\n",
              "          if (!dataTable) return;\n",
              "\n",
              "          const docLinkHtml = 'Like what you see? Visit the ' +\n",
              "            '<a target=\"_blank\" href=https://colab.research.google.com/notebooks/data_table.ipynb>data table notebook</a>'\n",
              "            + ' to learn more about interactive tables.';\n",
              "          element.innerHTML = '';\n",
              "          dataTable['output_type'] = 'display_data';\n",
              "          await google.colab.output.renderOutput(dataTable, element);\n",
              "          const docLink = document.createElement('div');\n",
              "          docLink.innerHTML = docLinkHtml;\n",
              "          element.appendChild(docLink);\n",
              "        }\n",
              "      </script>\n",
              "    </div>\n",
              "  </div>\n",
              "  "
            ]
          },
          "metadata": {},
          "execution_count": 11
        }
      ],
      "source": [
        "# кореляции\n",
        "df.corr()"
      ]
    },
    {
      "cell_type": "markdown",
      "metadata": {
        "id": "SALU2NziKmZ8"
      },
      "source": [
        "Баланс классов одинаковый, те наличие пропуска в колонке никак не влияет на уход/не уход клиента.    \n",
        "Корреляция нулевая между Tenure и Exited\n",
        "Пути решения:      \n",
        "1) дропнуть эти строки и лишится 10% датасета для нашего исследования.     \n",
        "2) заменить чем то  пропуски. Как вариант среднее/медиан.    \n",
        "3) вобще выкинуть столбец этот.\n",
        "\n",
        "Выбираем путь #2  с заменой пропусков медианой, т к лишаться на пустом месте 10% датасета для построения модели не хочется."
      ]
    },
    {
      "cell_type": "code",
      "execution_count": null,
      "metadata": {
        "colab": {
          "base_uri": "https://localhost:8080/"
        },
        "id": "8NZ8yxRiKmZ8",
        "outputId": "37fd4ab6-33e6-4e1b-ec76-233cce459a14"
      },
      "outputs": [
        {
          "output_type": "stream",
          "name": "stdout",
          "text": [
            "медиана по столбцу \"Tenure\"  5.0\n",
            "среднее по столбцу \"Tenure\"  4.997690023099769\n"
          ]
        }
      ],
      "source": [
        "# смотрим медианы и среднее\n",
        "print ('медиана по столбцу \"Tenure\" ', df['Tenure'].median())\n",
        "print ('среднее по столбцу \"Tenure\" ',df['Tenure'].mean())"
      ]
    },
    {
      "cell_type": "markdown",
      "metadata": {
        "id": "wxPSVRxvKmZ9"
      },
      "source": [
        "Медиана и среднее равны, это говрит о том ,ч то нет каких то выбросов в данных.  Смело меняем пропуски на медиану.    \n",
        "Затем еще приведем  к целочисленному типу."
      ]
    },
    {
      "cell_type": "code",
      "execution_count": null,
      "metadata": {
        "id": "ISXNmUyHKmZ9"
      },
      "outputs": [],
      "source": [
        "#замена NaN на медиану df['Tenure'].median()\n",
        "df.loc[df['Tenure'].isna(),'Tenure'] = df['Tenure'].median()"
      ]
    },
    {
      "cell_type": "code",
      "execution_count": null,
      "metadata": {
        "colab": {
          "base_uri": "https://localhost:8080/"
        },
        "id": "RRNTFHVmKmZ9",
        "outputId": "b908d7cf-96f9-4948-b67a-9710862c3ea6"
      },
      "outputs": [
        {
          "output_type": "execute_result",
          "data": {
            "text/plain": [
              "0    2\n",
              "1    1\n",
              "2    8\n",
              "Name: Tenure, dtype: int64"
            ]
          },
          "metadata": {},
          "execution_count": 14
        }
      ],
      "source": [
        "#изменения на целочисленный тип данн\n",
        "df['Tenure'] = df['Tenure'].astype(int)\n",
        "#проверка\n",
        "df['Tenure'].head(3)"
      ]
    },
    {
      "cell_type": "markdown",
      "metadata": {
        "id": "DRNekZzyKmZ9"
      },
      "source": [
        "### Подготовка даных к ML\n",
        "1.Дропнем колонку с с индексом строки, именами клиентов и id клиента, они ничем не помогут  в ML     \n",
        "2. Разобьем выборки на трен, валид и тестову 60/20/20%       \n",
        "3.Применим технику кодирования One-Hot Encoding для преобразования категориальных признаков в численные.      \n",
        "4. Мастштабируем численные признаки     \n",
        " \n"
      ]
    },
    {
      "cell_type": "code",
      "execution_count": null,
      "metadata": {
        "id": "ElNXHa5wKmZ-"
      },
      "outputs": [],
      "source": [
        "# дроп колонки с индексом строки, именами клиентов и id клиента\n",
        "df = df.drop(columns=['RowNumber','CustomerId','Surname'])"
      ]
    },
    {
      "cell_type": "markdown",
      "metadata": {
        "id": "Yw9FfP8AKmZ-"
      },
      "source": [
        "### разбивка выборок на трен обуч и тестовую\n"
      ]
    },
    {
      "cell_type": "code",
      "execution_count": null,
      "metadata": {
        "colab": {
          "base_uri": "https://localhost:8080/"
        },
        "id": "f73-4vPUKmZ-",
        "outputId": "4f013d18-9844-4045-af79-8e3a75070408"
      },
      "outputs": [
        {
          "output_type": "execute_result",
          "data": {
            "text/plain": [
              "(10000, 10)"
            ]
          },
          "metadata": {},
          "execution_count": 16
        }
      ],
      "source": [
        "# бьем на таргет и фьючи\n",
        "target = df['Exited']\n",
        "features = df.drop(columns='Exited')\n",
        "target.shape\n",
        "features.shape"
      ]
    },
    {
      "cell_type": "code",
      "execution_count": null,
      "metadata": {
        "scrolled": false,
        "colab": {
          "base_uri": "https://localhost:8080/"
        },
        "id": "52dT-bafKmZ-",
        "outputId": "2562d659-60f1-4fc9-80cb-a2bc0af8c211"
      },
      "outputs": [
        {
          "output_type": "stream",
          "name": "stdout",
          "text": [
            "features_train.shape (6000, 10)\n",
            "features_valid.shape (2000, 10)\n",
            "features_test.shape (2000, 10)\n"
          ]
        }
      ],
      "source": [
        "# разбиваем выборк на трен, (валид + тест)\n",
        "features_train, features_valid_test, target_train, target_valid_test =\\\n",
        "             train_test_split(features, target, test_size=0.4, random_state=12345)\n",
        "# разбиваем выборк на валид  и  тест\n",
        "features_valid, features_test, target_valid, target_test =\\\n",
        "             train_test_split(features_valid_test, target_valid_test, test_size=0.5, random_state=12345)\n",
        "# проверяем размерности\n",
        "print (\"features_train.shape\", features_train.shape)\n",
        "print (\"features_valid.shape\", features_valid.shape)\n",
        "print (\"features_test.shape\", features_test.shape)"
      ]
    },
    {
      "cell_type": "code",
      "execution_count": null,
      "metadata": {
        "scrolled": true,
        "colab": {
          "base_uri": "https://localhost:8080/"
        },
        "id": "oPLMzL24KmZ_",
        "outputId": "6990d5fb-d947-4118-9b16-02cb1b6dec43"
      },
      "outputs": [
        {
          "output_type": "stream",
          "name": "stdout",
          "text": [
            "target_train.mean 0.19933333333333333\n",
            "target_valid.mean 0.209\n",
            "target_test.mean 0.2115\n"
          ]
        }
      ],
      "source": [
        "#проверим баланс классов. должен быть таким же как в исходном датасете\n",
        "print ('target_train.mean', target_train.mean())\n",
        "print ('target_valid.mean', target_valid.mean())\n",
        "print ('target_test.mean', target_test.mean())"
      ]
    },
    {
      "cell_type": "markdown",
      "metadata": {
        "id": "3mKT8PbUKmZ_"
      },
      "source": [
        "Все ок,  баланас классов соблюден.   \n",
        " Дисбаланс классов будет оказывать влияние на качество модели, хотя и не сильно критично.\n"
      ]
    },
    {
      "cell_type": "markdown",
      "metadata": {
        "id": "qhahoxTdKmZ_"
      },
      "source": [
        "### Применяем методику OHE как класс из sklearn"
      ]
    },
    {
      "cell_type": "code",
      "execution_count": null,
      "metadata": {
        "colab": {
          "base_uri": "https://localhost:8080/"
        },
        "id": "Yk7KFJoyKmZ_",
        "outputId": "43c54523-854d-42b2-c953-e73929bf0a5d"
      },
      "outputs": [
        {
          "output_type": "stream",
          "name": "stdout",
          "text": [
            "Признаки для OHE кодировки ['Geography', 'Gender']\n"
          ]
        }
      ],
      "source": [
        "#категориальные признаки для OHE кодирования\n",
        "\n",
        "ohe_features = features_train.select_dtypes(include='object').columns.to_list()\n",
        "\n",
        "print('Признаки для OHE кодировки',ohe_features)"
      ]
    },
    {
      "cell_type": "code",
      "execution_count": null,
      "metadata": {
        "colab": {
          "base_uri": "https://localhost:8080/"
        },
        "id": "KmI405fPKmaA",
        "outputId": "860dfee9-462a-4a5c-abd3-a9ded07f8d13"
      },
      "outputs": [
        {
          "output_type": "stream",
          "name": "stdout",
          "text": [
            "features_train.columns    Index(['CreditScore', 'Age', 'Tenure', 'Balance', 'NumOfProducts', 'HasCrCard',\n",
            "       'IsActiveMember', 'EstimatedSalary', 'Geography_Germany',\n",
            "       'Geography_Spain', 'Gender_Male'],\n",
            "      dtype='object')\n",
            "features_train.shape (6000, 11)\n",
            "features_valid.shape (2000, 11)\n",
            "features_test.shape (2000, 11)\n"
          ]
        }
      ],
      "source": [
        "# игнорируется ранее невстречающиеся значения признака (при transform)\n",
        "encoder_ohe = OneHotEncoder(drop='first', handle_unknown='ignore', sparse=False)\n",
        "\n",
        "# обучаем энкодер на заданных категориальных признаках тренировочной выборки\n",
        "encoder_ohe.fit(features_train[ohe_features])\n",
        "\n",
        "# добавляем закодированные признаки в features_train, valid, test\n",
        "# encoder_ohe.get_feature_names_out() позволяет получить названия колонок\n",
        "features_train[encoder_ohe.get_feature_names_out()] = encoder_ohe.transform(features_train[ohe_features])\n",
        "features_valid[encoder_ohe.get_feature_names_out()] = encoder_ohe.transform(features_valid[ohe_features])\n",
        "features_test[encoder_ohe.get_feature_names_out()] = encoder_ohe.transform(features_test[ohe_features])\n",
        "\n",
        "# удаляем незакодированные категориальные признаки (изначальные колонки)\n",
        "features_train = features_train.drop(ohe_features, axis=1)\n",
        "features_valid = features_valid.drop(ohe_features, axis=1)\n",
        "features_test = features_test.drop(ohe_features, axis=1)    \n",
        "    \n",
        "#проверям\n",
        "print ('features_train.columns   ' , features_train.columns) \n",
        "print ('features_train.shape' ,features_train.shape)\n",
        "print ('features_valid.shape' ,features_valid.shape)\n",
        "print ('features_test.shape' ,features_test.shape)"
      ]
    },
    {
      "cell_type": "markdown",
      "metadata": {
        "id": "SQdbpn8-KmaA"
      },
      "source": [
        "### Масштабирование"
      ]
    },
    {
      "cell_type": "code",
      "execution_count": null,
      "metadata": {
        "colab": {
          "base_uri": "https://localhost:8080/",
          "height": 112
        },
        "id": "3Zz3TaV1KmaB",
        "outputId": "7331481b-d56e-4719-e1c4-e501b13a3aa0"
      },
      "outputs": [
        {
          "output_type": "execute_result",
          "data": {
            "text/plain": [
              "      CreditScore       Age    Tenure   Balance  NumOfProducts  HasCrCard  \\\n",
              "7479    -0.886751 -0.373192  1.082277  1.232271       -0.89156   0.642466   \n",
              "3411     0.608663 -0.183385  1.082277  0.600563       -0.89156  -1.556504   \n",
              "\n",
              "      IsActiveMember  EstimatedSalary  Geography_Germany  Geography_Spain  \\\n",
              "7479       -1.055187        -0.187705          -0.572475         1.728977   \n",
              "3411       -1.055187        -0.333945          -0.572475        -0.578377   \n",
              "\n",
              "      Gender_Male  \n",
              "7479     0.907278  \n",
              "3411    -1.102198  "
            ],
            "text/html": [
              "\n",
              "  <div id=\"df-6ed5e337-6115-4aa7-bb74-2aa89d05bf62\">\n",
              "    <div class=\"colab-df-container\">\n",
              "      <div>\n",
              "<style scoped>\n",
              "    .dataframe tbody tr th:only-of-type {\n",
              "        vertical-align: middle;\n",
              "    }\n",
              "\n",
              "    .dataframe tbody tr th {\n",
              "        vertical-align: top;\n",
              "    }\n",
              "\n",
              "    .dataframe thead th {\n",
              "        text-align: right;\n",
              "    }\n",
              "</style>\n",
              "<table border=\"1\" class=\"dataframe\">\n",
              "  <thead>\n",
              "    <tr style=\"text-align: right;\">\n",
              "      <th></th>\n",
              "      <th>CreditScore</th>\n",
              "      <th>Age</th>\n",
              "      <th>Tenure</th>\n",
              "      <th>Balance</th>\n",
              "      <th>NumOfProducts</th>\n",
              "      <th>HasCrCard</th>\n",
              "      <th>IsActiveMember</th>\n",
              "      <th>EstimatedSalary</th>\n",
              "      <th>Geography_Germany</th>\n",
              "      <th>Geography_Spain</th>\n",
              "      <th>Gender_Male</th>\n",
              "    </tr>\n",
              "  </thead>\n",
              "  <tbody>\n",
              "    <tr>\n",
              "      <th>7479</th>\n",
              "      <td>-0.886751</td>\n",
              "      <td>-0.373192</td>\n",
              "      <td>1.082277</td>\n",
              "      <td>1.232271</td>\n",
              "      <td>-0.89156</td>\n",
              "      <td>0.642466</td>\n",
              "      <td>-1.055187</td>\n",
              "      <td>-0.187705</td>\n",
              "      <td>-0.572475</td>\n",
              "      <td>1.728977</td>\n",
              "      <td>0.907278</td>\n",
              "    </tr>\n",
              "    <tr>\n",
              "      <th>3411</th>\n",
              "      <td>0.608663</td>\n",
              "      <td>-0.183385</td>\n",
              "      <td>1.082277</td>\n",
              "      <td>0.600563</td>\n",
              "      <td>-0.89156</td>\n",
              "      <td>-1.556504</td>\n",
              "      <td>-1.055187</td>\n",
              "      <td>-0.333945</td>\n",
              "      <td>-0.572475</td>\n",
              "      <td>-0.578377</td>\n",
              "      <td>-1.102198</td>\n",
              "    </tr>\n",
              "  </tbody>\n",
              "</table>\n",
              "</div>\n",
              "      <button class=\"colab-df-convert\" onclick=\"convertToInteractive('df-6ed5e337-6115-4aa7-bb74-2aa89d05bf62')\"\n",
              "              title=\"Convert this dataframe to an interactive table.\"\n",
              "              style=\"display:none;\">\n",
              "        \n",
              "  <svg xmlns=\"http://www.w3.org/2000/svg\" height=\"24px\"viewBox=\"0 0 24 24\"\n",
              "       width=\"24px\">\n",
              "    <path d=\"M0 0h24v24H0V0z\" fill=\"none\"/>\n",
              "    <path d=\"M18.56 5.44l.94 2.06.94-2.06 2.06-.94-2.06-.94-.94-2.06-.94 2.06-2.06.94zm-11 1L8.5 8.5l.94-2.06 2.06-.94-2.06-.94L8.5 2.5l-.94 2.06-2.06.94zm10 10l.94 2.06.94-2.06 2.06-.94-2.06-.94-.94-2.06-.94 2.06-2.06.94z\"/><path d=\"M17.41 7.96l-1.37-1.37c-.4-.4-.92-.59-1.43-.59-.52 0-1.04.2-1.43.59L10.3 9.45l-7.72 7.72c-.78.78-.78 2.05 0 2.83L4 21.41c.39.39.9.59 1.41.59.51 0 1.02-.2 1.41-.59l7.78-7.78 2.81-2.81c.8-.78.8-2.07 0-2.86zM5.41 20L4 18.59l7.72-7.72 1.47 1.35L5.41 20z\"/>\n",
              "  </svg>\n",
              "      </button>\n",
              "      \n",
              "  <style>\n",
              "    .colab-df-container {\n",
              "      display:flex;\n",
              "      flex-wrap:wrap;\n",
              "      gap: 12px;\n",
              "    }\n",
              "\n",
              "    .colab-df-convert {\n",
              "      background-color: #E8F0FE;\n",
              "      border: none;\n",
              "      border-radius: 50%;\n",
              "      cursor: pointer;\n",
              "      display: none;\n",
              "      fill: #1967D2;\n",
              "      height: 32px;\n",
              "      padding: 0 0 0 0;\n",
              "      width: 32px;\n",
              "    }\n",
              "\n",
              "    .colab-df-convert:hover {\n",
              "      background-color: #E2EBFA;\n",
              "      box-shadow: 0px 1px 2px rgba(60, 64, 67, 0.3), 0px 1px 3px 1px rgba(60, 64, 67, 0.15);\n",
              "      fill: #174EA6;\n",
              "    }\n",
              "\n",
              "    [theme=dark] .colab-df-convert {\n",
              "      background-color: #3B4455;\n",
              "      fill: #D2E3FC;\n",
              "    }\n",
              "\n",
              "    [theme=dark] .colab-df-convert:hover {\n",
              "      background-color: #434B5C;\n",
              "      box-shadow: 0px 1px 3px 1px rgba(0, 0, 0, 0.15);\n",
              "      filter: drop-shadow(0px 1px 2px rgba(0, 0, 0, 0.3));\n",
              "      fill: #FFFFFF;\n",
              "    }\n",
              "  </style>\n",
              "\n",
              "      <script>\n",
              "        const buttonEl =\n",
              "          document.querySelector('#df-6ed5e337-6115-4aa7-bb74-2aa89d05bf62 button.colab-df-convert');\n",
              "        buttonEl.style.display =\n",
              "          google.colab.kernel.accessAllowed ? 'block' : 'none';\n",
              "\n",
              "        async function convertToInteractive(key) {\n",
              "          const element = document.querySelector('#df-6ed5e337-6115-4aa7-bb74-2aa89d05bf62');\n",
              "          const dataTable =\n",
              "            await google.colab.kernel.invokeFunction('convertToInteractive',\n",
              "                                                     [key], {});\n",
              "          if (!dataTable) return;\n",
              "\n",
              "          const docLinkHtml = 'Like what you see? Visit the ' +\n",
              "            '<a target=\"_blank\" href=https://colab.research.google.com/notebooks/data_table.ipynb>data table notebook</a>'\n",
              "            + ' to learn more about interactive tables.';\n",
              "          element.innerHTML = '';\n",
              "          dataTable['output_type'] = 'display_data';\n",
              "          await google.colab.output.renderOutput(dataTable, element);\n",
              "          const docLink = document.createElement('div');\n",
              "          docLink.innerHTML = docLinkHtml;\n",
              "          element.appendChild(docLink);\n",
              "        }\n",
              "      </script>\n",
              "    </div>\n",
              "  </div>\n",
              "  "
            ]
          },
          "metadata": {},
          "execution_count": 21
        }
      ],
      "source": [
        "# создаём скелер\n",
        "scaler = StandardScaler()\n",
        "\n",
        "#задаем численные признаки для масштабирования\n",
        "#???HasCrCard   IsActiveMembe категориальный бинарный признак ,  не трансофрмируем  ???\n",
        "#scaler_features = ['CreditScore', 'Age','Tenure','Balance','NumOfProducts', 'EstimatedSalary']\n",
        "\n",
        "scaler_features = features_train.select_dtypes(exclude='object').columns.to_list()\n",
        "\n",
        "# обучаем его на численных признаках тренировочной выборки\n",
        "scaler.fit(features_train[scaler_features])\n",
        "\n",
        "#масштабируем все выборки\n",
        "features_train[scaler_features] = scaler.transform(features_train[scaler_features])\n",
        "features_valid[scaler_features] = scaler.transform(features_valid[scaler_features])\n",
        "features_test[scaler_features] = scaler.transform(features_test[scaler_features])\n",
        "\n",
        "# проверяем\n",
        "features_train.head(2)\n"
      ]
    },
    {
      "cell_type": "markdown",
      "metadata": {
        "id": "Hbm6Im8eKmaB"
      },
      "source": [
        "**Вывод по п1 Подготовка данных**:\n",
        "Данные были проанализированы.    \n",
        "В столбце Tenure  пропуски, составляющие 10% от датасета были заменены на медиану, для того чтобы не терять данные для ML.  \n",
        "Баланс классов целевого признака составляет 80/20 %, в дальнейшем придется с этим бороться.     \n",
        "При подготовке данных к ML были дропнуты лишние  колонки  с именами, индексами и ID.      \n",
        "Выборка разбита на обучающию и тестовую  в отношени60/20/20%.     \n",
        "Применено кодирование OHЕ.    \n",
        "И Мастштабирование  численных признаков.  \n"
      ]
    },
    {
      "cell_type": "markdown",
      "metadata": {
        "id": "ftCtGf_PKmaC"
      },
      "source": [
        "## Исследование задачи"
      ]
    },
    {
      "cell_type": "markdown",
      "metadata": {
        "id": "05lmPH4zKmaC"
      },
      "source": [
        "### Обучение моделей без учета баланса классов"
      ]
    },
    {
      "cell_type": "code",
      "execution_count": null,
      "metadata": {
        "colab": {
          "base_uri": "https://localhost:8080/",
          "height": 143
        },
        "id": "Hgd48ONVKmaC",
        "outputId": "55e2200e-c365-4769-92e3-be52af8245b4"
      },
      "outputs": [
        {
          "output_type": "execute_result",
          "data": {
            "text/plain": [
              "                           no_balanced  class_weight  upsampling\n",
              "LogisticRegression_F1                0             0           0\n",
              "DecisionTreeClassifier_F1            0             0           0\n",
              "RandomForestClassifier_F1            0             0           0"
            ],
            "text/html": [
              "\n",
              "  <div id=\"df-89d2b372-4f72-4439-8ee5-532454dc047d\">\n",
              "    <div class=\"colab-df-container\">\n",
              "      <div>\n",
              "<style scoped>\n",
              "    .dataframe tbody tr th:only-of-type {\n",
              "        vertical-align: middle;\n",
              "    }\n",
              "\n",
              "    .dataframe tbody tr th {\n",
              "        vertical-align: top;\n",
              "    }\n",
              "\n",
              "    .dataframe thead th {\n",
              "        text-align: right;\n",
              "    }\n",
              "</style>\n",
              "<table border=\"1\" class=\"dataframe\">\n",
              "  <thead>\n",
              "    <tr style=\"text-align: right;\">\n",
              "      <th></th>\n",
              "      <th>no_balanced</th>\n",
              "      <th>class_weight</th>\n",
              "      <th>upsampling</th>\n",
              "    </tr>\n",
              "  </thead>\n",
              "  <tbody>\n",
              "    <tr>\n",
              "      <th>LogisticRegression_F1</th>\n",
              "      <td>0</td>\n",
              "      <td>0</td>\n",
              "      <td>0</td>\n",
              "    </tr>\n",
              "    <tr>\n",
              "      <th>DecisionTreeClassifier_F1</th>\n",
              "      <td>0</td>\n",
              "      <td>0</td>\n",
              "      <td>0</td>\n",
              "    </tr>\n",
              "    <tr>\n",
              "      <th>RandomForestClassifier_F1</th>\n",
              "      <td>0</td>\n",
              "      <td>0</td>\n",
              "      <td>0</td>\n",
              "    </tr>\n",
              "  </tbody>\n",
              "</table>\n",
              "</div>\n",
              "      <button class=\"colab-df-convert\" onclick=\"convertToInteractive('df-89d2b372-4f72-4439-8ee5-532454dc047d')\"\n",
              "              title=\"Convert this dataframe to an interactive table.\"\n",
              "              style=\"display:none;\">\n",
              "        \n",
              "  <svg xmlns=\"http://www.w3.org/2000/svg\" height=\"24px\"viewBox=\"0 0 24 24\"\n",
              "       width=\"24px\">\n",
              "    <path d=\"M0 0h24v24H0V0z\" fill=\"none\"/>\n",
              "    <path d=\"M18.56 5.44l.94 2.06.94-2.06 2.06-.94-2.06-.94-.94-2.06-.94 2.06-2.06.94zm-11 1L8.5 8.5l.94-2.06 2.06-.94-2.06-.94L8.5 2.5l-.94 2.06-2.06.94zm10 10l.94 2.06.94-2.06 2.06-.94-2.06-.94-.94-2.06-.94 2.06-2.06.94z\"/><path d=\"M17.41 7.96l-1.37-1.37c-.4-.4-.92-.59-1.43-.59-.52 0-1.04.2-1.43.59L10.3 9.45l-7.72 7.72c-.78.78-.78 2.05 0 2.83L4 21.41c.39.39.9.59 1.41.59.51 0 1.02-.2 1.41-.59l7.78-7.78 2.81-2.81c.8-.78.8-2.07 0-2.86zM5.41 20L4 18.59l7.72-7.72 1.47 1.35L5.41 20z\"/>\n",
              "  </svg>\n",
              "      </button>\n",
              "      \n",
              "  <style>\n",
              "    .colab-df-container {\n",
              "      display:flex;\n",
              "      flex-wrap:wrap;\n",
              "      gap: 12px;\n",
              "    }\n",
              "\n",
              "    .colab-df-convert {\n",
              "      background-color: #E8F0FE;\n",
              "      border: none;\n",
              "      border-radius: 50%;\n",
              "      cursor: pointer;\n",
              "      display: none;\n",
              "      fill: #1967D2;\n",
              "      height: 32px;\n",
              "      padding: 0 0 0 0;\n",
              "      width: 32px;\n",
              "    }\n",
              "\n",
              "    .colab-df-convert:hover {\n",
              "      background-color: #E2EBFA;\n",
              "      box-shadow: 0px 1px 2px rgba(60, 64, 67, 0.3), 0px 1px 3px 1px rgba(60, 64, 67, 0.15);\n",
              "      fill: #174EA6;\n",
              "    }\n",
              "\n",
              "    [theme=dark] .colab-df-convert {\n",
              "      background-color: #3B4455;\n",
              "      fill: #D2E3FC;\n",
              "    }\n",
              "\n",
              "    [theme=dark] .colab-df-convert:hover {\n",
              "      background-color: #434B5C;\n",
              "      box-shadow: 0px 1px 3px 1px rgba(0, 0, 0, 0.15);\n",
              "      filter: drop-shadow(0px 1px 2px rgba(0, 0, 0, 0.3));\n",
              "      fill: #FFFFFF;\n",
              "    }\n",
              "  </style>\n",
              "\n",
              "      <script>\n",
              "        const buttonEl =\n",
              "          document.querySelector('#df-89d2b372-4f72-4439-8ee5-532454dc047d button.colab-df-convert');\n",
              "        buttonEl.style.display =\n",
              "          google.colab.kernel.accessAllowed ? 'block' : 'none';\n",
              "\n",
              "        async function convertToInteractive(key) {\n",
              "          const element = document.querySelector('#df-89d2b372-4f72-4439-8ee5-532454dc047d');\n",
              "          const dataTable =\n",
              "            await google.colab.kernel.invokeFunction('convertToInteractive',\n",
              "                                                     [key], {});\n",
              "          if (!dataTable) return;\n",
              "\n",
              "          const docLinkHtml = 'Like what you see? Visit the ' +\n",
              "            '<a target=\"_blank\" href=https://colab.research.google.com/notebooks/data_table.ipynb>data table notebook</a>'\n",
              "            + ' to learn more about interactive tables.';\n",
              "          element.innerHTML = '';\n",
              "          dataTable['output_type'] = 'display_data';\n",
              "          await google.colab.output.renderOutput(dataTable, element);\n",
              "          const docLink = document.createElement('div');\n",
              "          docLink.innerHTML = docLinkHtml;\n",
              "          element.appendChild(docLink);\n",
              "        }\n",
              "      </script>\n",
              "    </div>\n",
              "  </div>\n",
              "  "
            ]
          },
          "metadata": {},
          "execution_count": 22
        }
      ],
      "source": [
        "#создадим дата сет для записил результатов \n",
        "d = {'no_balanced': [0,0,0], 'class_weight': [0,0,0] , 'upsampling': [0,0,0]}\n",
        "result = pd.DataFrame(data=d, index=['LogisticRegression_F1', 'DecisionTreeClassifier_F1', 'RandomForestClassifier_F1'])\n",
        "result"
      ]
    },
    {
      "cell_type": "code",
      "execution_count": null,
      "metadata": {
        "colab": {
          "base_uri": "https://localhost:8080/"
        },
        "id": "_R_V4SSVKmaC",
        "outputId": "37233cc7-2cc1-429b-de4b-562ab8f906a9"
      },
      "outputs": [
        {
          "output_type": "stream",
          "name": "stdout",
          "text": [
            "F1: 0.33108108108108103\n",
            "AUC-ROC =  0.7586363333918061\n"
          ]
        }
      ],
      "source": [
        "# LogisticRegression\n",
        "model = LogisticRegression(random_state=12345, solver='liblinear')\n",
        "model.fit(features_train, target_train)\n",
        "predicted_valid = model.predict(features_valid)\n",
        "\n",
        "#F1 метрика\n",
        "print(\"F1:\", f1_score(target_valid, predicted_valid))\n",
        "#  AUC-ROC\n",
        "probabilities_one_valid = model.predict_proba(features_valid)[:, 1]   #вероятности \n",
        "print ('AUC-ROC = ',roc_auc_score(target_valid, probabilities_one_valid) )\n",
        "\n",
        "#сохраняем метрику F1  в табличку результатов\n",
        "result.loc['LogisticRegression_F1','no_balanced'] = f1_score(target_valid, predicted_valid) "
      ]
    },
    {
      "cell_type": "code",
      "execution_count": null,
      "metadata": {
        "colab": {
          "base_uri": "https://localhost:8080/"
        },
        "id": "ODpsSVF6KmaC",
        "outputId": "d6a45b81-5708-450b-e2c8-8443529014d3"
      },
      "outputs": [
        {
          "output_type": "stream",
          "name": "stdout",
          "text": [
            "F1 =  0.5658093797276854 при max_depth= 6\n",
            "\n",
            "AUC-ROC =  0.8155286143758429\n",
            "\n",
            "\n"
          ]
        }
      ],
      "source": [
        "#DecisionTreeClassifier\n",
        "f1=0\n",
        "for i in range (1,20):\n",
        "    model = DecisionTreeClassifier (max_depth=i)\n",
        "    model.fit(features_train, target_train)\n",
        "    predicted_valid = model.predict(features_valid)\n",
        "    if f1 < f1_score (target_valid, predicted_valid):\n",
        "            f1 = f1_score (target_valid, predicted_valid)\n",
        "            max_depth = i\n",
        "            best_model = model\n",
        "#метрика F1\n",
        "print ('F1 = ',f1 , 'при max_depth=', max_depth)\n",
        "print ()\n",
        "\n",
        "#  AUC-ROC\n",
        "probabilities_one_valid = best_model.predict_proba(features_valid)[:, 1]   #вероятности \n",
        "print ('AUC-ROC = ',roc_auc_score(target_valid, probabilities_one_valid) )\n",
        "print ()\n",
        "print ()\n",
        "\n",
        "#сохраняем метрику F1  в табличку результатов\n",
        "result.loc['DecisionTreeClassifier_F1','no_balanced'] = f1\n",
        "\n",
        "best_model_tree = best_model #для дальнейшего использования"
      ]
    },
    {
      "cell_type": "code",
      "execution_count": null,
      "metadata": {
        "colab": {
          "base_uri": "https://localhost:8080/"
        },
        "id": "CpFyX1LOKmaC",
        "outputId": "845aa515-33c6-4182-8f25-718d89a84e4a"
      },
      "outputs": [
        {
          "output_type": "stream",
          "name": "stdout",
          "text": [
            "F1 =  0.5896656534954408 при max_depth= 12 n_estimators= 90\n",
            "\n",
            "\n",
            "AUC-ROC =  0.8483976433440803\n",
            "CPU times: user 46.6 s, sys: 145 ms, total: 46.8 s\n",
            "Wall time: 47 s\n"
          ]
        }
      ],
      "source": [
        "%%time\n",
        "# RandomForestClassifier\n",
        "# сразу пройдемся циклом, поищем лучише гипер параметры\n",
        "\n",
        "\n",
        "f1 = 0\n",
        "for i in range(1,16,1):\n",
        "    for j in range (30,101,10):\n",
        "        model =  RandomForestClassifier(n_estimators=j,max_depth = i,random_state=12345)\n",
        "        model.fit(features_train, target_train)\n",
        "        predicted_valid = model.predict(features_valid)\n",
        "        if f1 < f1_score (target_valid, predicted_valid):\n",
        "            f1 = f1_score (target_valid, predicted_valid)\n",
        "            max_depth = i\n",
        "            n_estimators = j\n",
        "            best_model = model\n",
        "\n",
        "#метрика F1            \n",
        "print ('F1 = ',f1 , 'при max_depth=', max_depth, 'n_estimators=' , n_estimators)\n",
        "print ()\n",
        "print ()\n",
        "#  AUC-ROC\n",
        "probabilities_one_valid = best_model.predict_proba(features_valid)[:, 1]   #вероятности \n",
        "print ('AUC-ROC = ',roc_auc_score(target_valid, probabilities_one_valid) )\n",
        "\n",
        "#сохраняем метрику F1  в табличку результатов\n",
        "result.loc['RandomForestClassifier_F1','no_balanced'] = f1"
      ]
    },
    {
      "cell_type": "code",
      "execution_count": null,
      "metadata": {
        "colab": {
          "base_uri": "https://localhost:8080/",
          "height": 143
        },
        "id": "aSi0tFTNKmaD",
        "outputId": "3578415b-14e6-4324-9e0b-c0a8acb78878"
      },
      "outputs": [
        {
          "output_type": "execute_result",
          "data": {
            "text/plain": [
              "                           no_balanced  class_weight  upsampling\n",
              "LogisticRegression_F1         0.331081             0           0\n",
              "DecisionTreeClassifier_F1     0.565809             0           0\n",
              "RandomForestClassifier_F1     0.589666             0           0"
            ],
            "text/html": [
              "\n",
              "  <div id=\"df-6ca4c722-6394-4183-b381-4382bcfd6de0\">\n",
              "    <div class=\"colab-df-container\">\n",
              "      <div>\n",
              "<style scoped>\n",
              "    .dataframe tbody tr th:only-of-type {\n",
              "        vertical-align: middle;\n",
              "    }\n",
              "\n",
              "    .dataframe tbody tr th {\n",
              "        vertical-align: top;\n",
              "    }\n",
              "\n",
              "    .dataframe thead th {\n",
              "        text-align: right;\n",
              "    }\n",
              "</style>\n",
              "<table border=\"1\" class=\"dataframe\">\n",
              "  <thead>\n",
              "    <tr style=\"text-align: right;\">\n",
              "      <th></th>\n",
              "      <th>no_balanced</th>\n",
              "      <th>class_weight</th>\n",
              "      <th>upsampling</th>\n",
              "    </tr>\n",
              "  </thead>\n",
              "  <tbody>\n",
              "    <tr>\n",
              "      <th>LogisticRegression_F1</th>\n",
              "      <td>0.331081</td>\n",
              "      <td>0</td>\n",
              "      <td>0</td>\n",
              "    </tr>\n",
              "    <tr>\n",
              "      <th>DecisionTreeClassifier_F1</th>\n",
              "      <td>0.565809</td>\n",
              "      <td>0</td>\n",
              "      <td>0</td>\n",
              "    </tr>\n",
              "    <tr>\n",
              "      <th>RandomForestClassifier_F1</th>\n",
              "      <td>0.589666</td>\n",
              "      <td>0</td>\n",
              "      <td>0</td>\n",
              "    </tr>\n",
              "  </tbody>\n",
              "</table>\n",
              "</div>\n",
              "      <button class=\"colab-df-convert\" onclick=\"convertToInteractive('df-6ca4c722-6394-4183-b381-4382bcfd6de0')\"\n",
              "              title=\"Convert this dataframe to an interactive table.\"\n",
              "              style=\"display:none;\">\n",
              "        \n",
              "  <svg xmlns=\"http://www.w3.org/2000/svg\" height=\"24px\"viewBox=\"0 0 24 24\"\n",
              "       width=\"24px\">\n",
              "    <path d=\"M0 0h24v24H0V0z\" fill=\"none\"/>\n",
              "    <path d=\"M18.56 5.44l.94 2.06.94-2.06 2.06-.94-2.06-.94-.94-2.06-.94 2.06-2.06.94zm-11 1L8.5 8.5l.94-2.06 2.06-.94-2.06-.94L8.5 2.5l-.94 2.06-2.06.94zm10 10l.94 2.06.94-2.06 2.06-.94-2.06-.94-.94-2.06-.94 2.06-2.06.94z\"/><path d=\"M17.41 7.96l-1.37-1.37c-.4-.4-.92-.59-1.43-.59-.52 0-1.04.2-1.43.59L10.3 9.45l-7.72 7.72c-.78.78-.78 2.05 0 2.83L4 21.41c.39.39.9.59 1.41.59.51 0 1.02-.2 1.41-.59l7.78-7.78 2.81-2.81c.8-.78.8-2.07 0-2.86zM5.41 20L4 18.59l7.72-7.72 1.47 1.35L5.41 20z\"/>\n",
              "  </svg>\n",
              "      </button>\n",
              "      \n",
              "  <style>\n",
              "    .colab-df-container {\n",
              "      display:flex;\n",
              "      flex-wrap:wrap;\n",
              "      gap: 12px;\n",
              "    }\n",
              "\n",
              "    .colab-df-convert {\n",
              "      background-color: #E8F0FE;\n",
              "      border: none;\n",
              "      border-radius: 50%;\n",
              "      cursor: pointer;\n",
              "      display: none;\n",
              "      fill: #1967D2;\n",
              "      height: 32px;\n",
              "      padding: 0 0 0 0;\n",
              "      width: 32px;\n",
              "    }\n",
              "\n",
              "    .colab-df-convert:hover {\n",
              "      background-color: #E2EBFA;\n",
              "      box-shadow: 0px 1px 2px rgba(60, 64, 67, 0.3), 0px 1px 3px 1px rgba(60, 64, 67, 0.15);\n",
              "      fill: #174EA6;\n",
              "    }\n",
              "\n",
              "    [theme=dark] .colab-df-convert {\n",
              "      background-color: #3B4455;\n",
              "      fill: #D2E3FC;\n",
              "    }\n",
              "\n",
              "    [theme=dark] .colab-df-convert:hover {\n",
              "      background-color: #434B5C;\n",
              "      box-shadow: 0px 1px 3px 1px rgba(0, 0, 0, 0.15);\n",
              "      filter: drop-shadow(0px 1px 2px rgba(0, 0, 0, 0.3));\n",
              "      fill: #FFFFFF;\n",
              "    }\n",
              "  </style>\n",
              "\n",
              "      <script>\n",
              "        const buttonEl =\n",
              "          document.querySelector('#df-6ca4c722-6394-4183-b381-4382bcfd6de0 button.colab-df-convert');\n",
              "        buttonEl.style.display =\n",
              "          google.colab.kernel.accessAllowed ? 'block' : 'none';\n",
              "\n",
              "        async function convertToInteractive(key) {\n",
              "          const element = document.querySelector('#df-6ca4c722-6394-4183-b381-4382bcfd6de0');\n",
              "          const dataTable =\n",
              "            await google.colab.kernel.invokeFunction('convertToInteractive',\n",
              "                                                     [key], {});\n",
              "          if (!dataTable) return;\n",
              "\n",
              "          const docLinkHtml = 'Like what you see? Visit the ' +\n",
              "            '<a target=\"_blank\" href=https://colab.research.google.com/notebooks/data_table.ipynb>data table notebook</a>'\n",
              "            + ' to learn more about interactive tables.';\n",
              "          element.innerHTML = '';\n",
              "          dataTable['output_type'] = 'display_data';\n",
              "          await google.colab.output.renderOutput(dataTable, element);\n",
              "          const docLink = document.createElement('div');\n",
              "          docLink.innerHTML = docLinkHtml;\n",
              "          element.appendChild(docLink);\n",
              "        }\n",
              "      </script>\n",
              "    </div>\n",
              "  </div>\n",
              "  "
            ]
          },
          "metadata": {},
          "execution_count": 26
        }
      ],
      "source": [
        "#результат промежуточный\n",
        "result"
      ]
    },
    {
      "cell_type": "markdown",
      "metadata": {
        "id": "qs6Xh2xyKmaD"
      },
      "source": [
        "**Вывод:**  ДеревоРешений и Случайный лес показывает гораздо лучший результат , чем логическая регрессия. \n",
        "\n"
      ]
    },
    {
      "cell_type": "markdown",
      "metadata": {
        "id": "bbGosfABKmaD"
      },
      "source": [
        "## Борьба с дисбалансом"
      ]
    },
    {
      "cell_type": "markdown",
      "metadata": {
        "id": "kbakSX7tKmaD"
      },
      "source": [
        "### Используем гипер параметр  class_weight='balanced'"
      ]
    },
    {
      "cell_type": "code",
      "execution_count": null,
      "metadata": {
        "colab": {
          "base_uri": "https://localhost:8080/"
        },
        "id": "Ptxevd1pKmaD",
        "outputId": "18673369-a680-40a8-8955-954f5de6aec7"
      },
      "outputs": [
        {
          "output_type": "stream",
          "name": "stdout",
          "text": [
            "F1: 0.4888507718696398\n",
            "AUC-ROC =  0.7635692207187316\n"
          ]
        }
      ],
      "source": [
        "# LogisticRegression\n",
        "model = LogisticRegression(random_state=12345, solver='liblinear', class_weight='balanced')\n",
        "model.fit(features_train, target_train)\n",
        "predicted_valid = model.predict(features_valid)\n",
        "\n",
        "#метрика F1 \n",
        "print(\"F1:\", f1_score(target_valid, predicted_valid))\n",
        "\n",
        "#  AUC-ROC\n",
        "probabilities_one_valid = model.predict_proba(features_valid)[:, 1]   #вероятности \n",
        "print ('AUC-ROC = ',roc_auc_score(target_valid, probabilities_one_valid) )\n",
        "\n",
        "#сохраняем метрику F1  в табличку результатов\n",
        "result.loc['LogisticRegression_F1','class_weight'] = f1_score(target_valid, predicted_valid) "
      ]
    },
    {
      "cell_type": "code",
      "execution_count": null,
      "metadata": {
        "colab": {
          "base_uri": "https://localhost:8080/"
        },
        "id": "wbkAplc2KmaE",
        "outputId": "658e08ba-d813-4344-c18a-f327a2e32dfd"
      },
      "outputs": [
        {
          "output_type": "stream",
          "name": "stdout",
          "text": [
            "F1 =  0.5963791267305644 при max_depth= 5\n",
            "\n",
            "AUC-ROC =  0.8310244134068074\n",
            "\n",
            "\n"
          ]
        }
      ],
      "source": [
        "#DecisionTreeClassifier\n",
        "for i in range (1,20):\n",
        "    model = DecisionTreeClassifier (max_depth=i,class_weight='balanced')\n",
        "    model.fit(features_train, target_train)\n",
        "    predicted_valid = model.predict(features_valid)\n",
        "    if f1 < f1_score (target_valid, predicted_valid):\n",
        "            f1 = f1_score (target_valid, predicted_valid)\n",
        "            max_depth = i\n",
        "            best_model = model\n",
        "#метрика F1\n",
        "print ('F1 = ',f1 , 'при max_depth=', max_depth)\n",
        "print ()\n",
        "\n",
        "#  AUC-ROC\n",
        "probabilities_one_valid = best_model.predict_proba(features_valid)[:, 1]   #вероятности \n",
        "print ('AUC-ROC = ',roc_auc_score(target_valid, probabilities_one_valid) )\n",
        "print ()\n",
        "print ()\n",
        "\n",
        "#сохраняем метрику F1  в табличку результатов\n",
        "result.loc['DecisionTreeClassifier_F1','class_weight'] = f1\n",
        "\n",
        "best_model_tree_class_weight = best_model #для дальнейшего использования"
      ]
    },
    {
      "cell_type": "code",
      "execution_count": null,
      "metadata": {
        "colab": {
          "base_uri": "https://localhost:8080/"
        },
        "id": "dSB4ADqLKmaE",
        "outputId": "9d4a0ed2-b90f-420e-ee96-72553328093f"
      },
      "outputs": [
        {
          "output_type": "stream",
          "name": "stdout",
          "text": [
            "F1 =  0.6284403669724771 при max_depth= 9 n_estimators= 90\n",
            "\n",
            "AUC-ROC =  0.8539475196438401\n",
            "\n",
            "\n",
            "CPU times: user 48.4 s, sys: 171 ms, total: 48.6 s\n",
            "Wall time: 51.7 s\n"
          ]
        }
      ],
      "source": [
        "%%time\n",
        "#37 sec\n",
        "# RandomForestClassifier\n",
        "# пройдемся циклом по важнейшим гиперпараметрам и найдем лучшию модель\n",
        "f1 = 0\n",
        "for i in range(1,16,1):\n",
        "    for j in range (30,101,10):\n",
        "        model =  RandomForestClassifier(n_estimators=j,max_depth = i, class_weight='balanced', random_state=12345)\n",
        "        model.fit(features_train, target_train)\n",
        "        predicted_valid = model.predict(features_valid)\n",
        "        if f1 < f1_score (target_valid, predicted_valid):\n",
        "            f1 = f1_score (target_valid, predicted_valid)\n",
        "            max_depth = i\n",
        "            n_estimators = j\n",
        "            best_model = model\n",
        "\n",
        "\n",
        "# метрика F1\n",
        "print ('F1 = ',f1 , 'при max_depth=', max_depth, 'n_estimators=' , n_estimators)\n",
        "print ()\n",
        "\n",
        "#  AUC-ROC\n",
        "probabilities_one_valid = best_model.predict_proba(features_valid)[:, 1]   #вероятности \n",
        "print ('AUC-ROC = ',roc_auc_score(target_valid, probabilities_one_valid) )\n",
        "print ()\n",
        "print ()\n",
        "\n",
        "#сохраняем метрику F1  в табличку результатов\n",
        "result.loc['RandomForestClassifier_F1','class_weight'] = f1\n",
        "\n",
        "best_model_forest_class_weight = best_model #для дальнейшего испльзования"
      ]
    },
    {
      "cell_type": "code",
      "execution_count": null,
      "metadata": {
        "colab": {
          "base_uri": "https://localhost:8080/",
          "height": 143
        },
        "id": "LCZkIfZhKmaE",
        "outputId": "d042a3c3-c638-4703-8e08-4d4d4cfda2d5"
      },
      "outputs": [
        {
          "output_type": "execute_result",
          "data": {
            "text/plain": [
              "                           no_balanced  class_weight  upsampling\n",
              "LogisticRegression_F1         0.331081      0.488851           0\n",
              "DecisionTreeClassifier_F1     0.565809      0.596379           0\n",
              "RandomForestClassifier_F1     0.589666      0.628440           0"
            ],
            "text/html": [
              "\n",
              "  <div id=\"df-e460984f-7022-4adf-a761-db788991afd9\">\n",
              "    <div class=\"colab-df-container\">\n",
              "      <div>\n",
              "<style scoped>\n",
              "    .dataframe tbody tr th:only-of-type {\n",
              "        vertical-align: middle;\n",
              "    }\n",
              "\n",
              "    .dataframe tbody tr th {\n",
              "        vertical-align: top;\n",
              "    }\n",
              "\n",
              "    .dataframe thead th {\n",
              "        text-align: right;\n",
              "    }\n",
              "</style>\n",
              "<table border=\"1\" class=\"dataframe\">\n",
              "  <thead>\n",
              "    <tr style=\"text-align: right;\">\n",
              "      <th></th>\n",
              "      <th>no_balanced</th>\n",
              "      <th>class_weight</th>\n",
              "      <th>upsampling</th>\n",
              "    </tr>\n",
              "  </thead>\n",
              "  <tbody>\n",
              "    <tr>\n",
              "      <th>LogisticRegression_F1</th>\n",
              "      <td>0.331081</td>\n",
              "      <td>0.488851</td>\n",
              "      <td>0</td>\n",
              "    </tr>\n",
              "    <tr>\n",
              "      <th>DecisionTreeClassifier_F1</th>\n",
              "      <td>0.565809</td>\n",
              "      <td>0.596379</td>\n",
              "      <td>0</td>\n",
              "    </tr>\n",
              "    <tr>\n",
              "      <th>RandomForestClassifier_F1</th>\n",
              "      <td>0.589666</td>\n",
              "      <td>0.628440</td>\n",
              "      <td>0</td>\n",
              "    </tr>\n",
              "  </tbody>\n",
              "</table>\n",
              "</div>\n",
              "      <button class=\"colab-df-convert\" onclick=\"convertToInteractive('df-e460984f-7022-4adf-a761-db788991afd9')\"\n",
              "              title=\"Convert this dataframe to an interactive table.\"\n",
              "              style=\"display:none;\">\n",
              "        \n",
              "  <svg xmlns=\"http://www.w3.org/2000/svg\" height=\"24px\"viewBox=\"0 0 24 24\"\n",
              "       width=\"24px\">\n",
              "    <path d=\"M0 0h24v24H0V0z\" fill=\"none\"/>\n",
              "    <path d=\"M18.56 5.44l.94 2.06.94-2.06 2.06-.94-2.06-.94-.94-2.06-.94 2.06-2.06.94zm-11 1L8.5 8.5l.94-2.06 2.06-.94-2.06-.94L8.5 2.5l-.94 2.06-2.06.94zm10 10l.94 2.06.94-2.06 2.06-.94-2.06-.94-.94-2.06-.94 2.06-2.06.94z\"/><path d=\"M17.41 7.96l-1.37-1.37c-.4-.4-.92-.59-1.43-.59-.52 0-1.04.2-1.43.59L10.3 9.45l-7.72 7.72c-.78.78-.78 2.05 0 2.83L4 21.41c.39.39.9.59 1.41.59.51 0 1.02-.2 1.41-.59l7.78-7.78 2.81-2.81c.8-.78.8-2.07 0-2.86zM5.41 20L4 18.59l7.72-7.72 1.47 1.35L5.41 20z\"/>\n",
              "  </svg>\n",
              "      </button>\n",
              "      \n",
              "  <style>\n",
              "    .colab-df-container {\n",
              "      display:flex;\n",
              "      flex-wrap:wrap;\n",
              "      gap: 12px;\n",
              "    }\n",
              "\n",
              "    .colab-df-convert {\n",
              "      background-color: #E8F0FE;\n",
              "      border: none;\n",
              "      border-radius: 50%;\n",
              "      cursor: pointer;\n",
              "      display: none;\n",
              "      fill: #1967D2;\n",
              "      height: 32px;\n",
              "      padding: 0 0 0 0;\n",
              "      width: 32px;\n",
              "    }\n",
              "\n",
              "    .colab-df-convert:hover {\n",
              "      background-color: #E2EBFA;\n",
              "      box-shadow: 0px 1px 2px rgba(60, 64, 67, 0.3), 0px 1px 3px 1px rgba(60, 64, 67, 0.15);\n",
              "      fill: #174EA6;\n",
              "    }\n",
              "\n",
              "    [theme=dark] .colab-df-convert {\n",
              "      background-color: #3B4455;\n",
              "      fill: #D2E3FC;\n",
              "    }\n",
              "\n",
              "    [theme=dark] .colab-df-convert:hover {\n",
              "      background-color: #434B5C;\n",
              "      box-shadow: 0px 1px 3px 1px rgba(0, 0, 0, 0.15);\n",
              "      filter: drop-shadow(0px 1px 2px rgba(0, 0, 0, 0.3));\n",
              "      fill: #FFFFFF;\n",
              "    }\n",
              "  </style>\n",
              "\n",
              "      <script>\n",
              "        const buttonEl =\n",
              "          document.querySelector('#df-e460984f-7022-4adf-a761-db788991afd9 button.colab-df-convert');\n",
              "        buttonEl.style.display =\n",
              "          google.colab.kernel.accessAllowed ? 'block' : 'none';\n",
              "\n",
              "        async function convertToInteractive(key) {\n",
              "          const element = document.querySelector('#df-e460984f-7022-4adf-a761-db788991afd9');\n",
              "          const dataTable =\n",
              "            await google.colab.kernel.invokeFunction('convertToInteractive',\n",
              "                                                     [key], {});\n",
              "          if (!dataTable) return;\n",
              "\n",
              "          const docLinkHtml = 'Like what you see? Visit the ' +\n",
              "            '<a target=\"_blank\" href=https://colab.research.google.com/notebooks/data_table.ipynb>data table notebook</a>'\n",
              "            + ' to learn more about interactive tables.';\n",
              "          element.innerHTML = '';\n",
              "          dataTable['output_type'] = 'display_data';\n",
              "          await google.colab.output.renderOutput(dataTable, element);\n",
              "          const docLink = document.createElement('div');\n",
              "          docLink.innerHTML = docLinkHtml;\n",
              "          element.appendChild(docLink);\n",
              "        }\n",
              "      </script>\n",
              "    </div>\n",
              "  </div>\n",
              "  "
            ]
          },
          "metadata": {},
          "execution_count": 30
        }
      ],
      "source": [
        "# результаты промежуточные\n",
        "result"
      ]
    },
    {
      "cell_type": "markdown",
      "metadata": {
        "id": "CPNCs6KWKmaE"
      },
      "source": [
        "**Вывод**\n",
        "С гипер параметром  class_weight='balanced' Логическая регрессия показала уже удвол. результат. Случайный лес и дерево увеличили F1, добившись заданного порога больше 0.59 ."
      ]
    },
    {
      "cell_type": "markdown",
      "metadata": {
        "id": "jmS3CCVoKmaE"
      },
      "source": [
        "### Увеличение выборки upsampling\n",
        "Преобразование проходит в несколько этапов:     \n",
        "Разделить обучающую выборку на отрицательные и положительные объекты;     \n",
        "Скопировать несколько раз положительные объекты;    \n",
        "С учётом полученных данных создать новую обучающую выборку;    \n",
        "Перемешать данные: идущие друг за другом одинаковые вопросы не помогут обучению.     "
      ]
    },
    {
      "cell_type": "code",
      "execution_count": null,
      "metadata": {
        "id": "hjKsgsVsKmaF"
      },
      "outputs": [],
      "source": [
        "# напишем функцию\n",
        "def upsample(features, target, repeat):\n",
        "    features_zeros = features[target == 0]\n",
        "    features_ones = features[target == 1]\n",
        "    target_zeros = target[target == 0]\n",
        "    target_ones = target[target == 1]\n",
        "\n",
        "    features_upsampled = pd.concat([features_zeros] + [features_ones] * repeat)\n",
        "    target_upsampled = pd.concat([target_zeros] + [target_ones] * repeat)\n",
        "    \n",
        "    features_upsampled, target_upsampled = shuffle(features_upsampled, target_upsampled, random_state=12345)\n",
        "    \n",
        "    return features_upsampled, target_upsampled\n"
      ]
    },
    {
      "cell_type": "code",
      "execution_count": null,
      "metadata": {
        "colab": {
          "base_uri": "https://localhost:8080/"
        },
        "id": "kDrF1QaZKmaF",
        "outputId": "52c98515-0247-4215-809e-0ff2cb777df3"
      },
      "outputs": [
        {
          "output_type": "stream",
          "name": "stdout",
          "text": [
            "features_upsampled.shape (9588, 11)\n",
            "target_upsampled.shape (9588,)\n",
            "Баланс классов 0.49895702962035876\n"
          ]
        }
      ],
      "source": [
        "# применяем функцию, т к соотновшение  в таргете у нас примерно 80 к 20, \n",
        "# то нужно повторить умножение положительных ответов 4х раза, чтобы уровнять  выборки\n",
        "\n",
        "#получаем  новые датасеты\n",
        "features_upsampled, target_upsampled = upsample(features_train, target_train, 4)\n",
        "\n",
        "#проверяем размерность\n",
        "print ('features_upsampled.shape',features_upsampled.shape)\n",
        "print('target_upsampled.shape',target_upsampled.shape)\n",
        "\n",
        "#проверяем баланс классов\n",
        "print ('Баланс классов', target_upsampled.mean())"
      ]
    },
    {
      "cell_type": "code",
      "execution_count": null,
      "metadata": {
        "colab": {
          "base_uri": "https://localhost:8080/"
        },
        "id": "J2Z4NOcXKmaF",
        "outputId": "be4ad02c-d36a-47c9-df71-3b899a071fab"
      },
      "outputs": [
        {
          "output_type": "stream",
          "name": "stdout",
          "text": [
            "F1: 0.4888507718696398\n",
            "AUC-ROC =  0.763567708490857\n"
          ]
        }
      ],
      "source": [
        "# LogisticRegression обучаем на upsampled данных\n",
        "model = LogisticRegression(random_state=12345, solver='liblinear')\n",
        "model.fit(features_upsampled, target_upsampled)\n",
        "predicted_valid = model.predict(features_valid)\n",
        "\n",
        "# метрика F1\n",
        "print(\"F1:\", f1_score(target_valid, predicted_valid))\n",
        "\n",
        "#  AUC-ROC\n",
        "probabilities_one_valid = model.predict_proba(features_valid)[:, 1]   #вероятности \n",
        "print ('AUC-ROC = ',roc_auc_score(target_valid, probabilities_one_valid) )\n",
        "\n",
        "#сохраняем метрику F1  в табличку результатов\n",
        "result.loc['LogisticRegression_F1','upsampling'] = f1_score(target_valid, predicted_valid) "
      ]
    },
    {
      "cell_type": "code",
      "execution_count": null,
      "metadata": {
        "colab": {
          "base_uri": "https://localhost:8080/"
        },
        "id": "b9TLTxGgKmaF",
        "outputId": "c16aa33a-5ac4-4a39-cd71-f3985fe440ef"
      },
      "outputs": [
        {
          "output_type": "stream",
          "name": "stdout",
          "text": [
            "F1 =  0.6284403669724771 при max_depth= 9\n",
            "\n",
            "AUC-ROC =  0.8539475196438401\n",
            "\n"
          ]
        }
      ],
      "source": [
        "#DecisionTreeClassifier\n",
        "for i in range (1,20):\n",
        "    model = DecisionTreeClassifier (max_depth=i)\n",
        "    model.fit(features_train, target_train)\n",
        "    predicted_valid = model.predict(features_valid)\n",
        "    if f1 < f1_score (target_valid, predicted_valid):\n",
        "            f1 = f1_score (target_valid, predicted_valid)\n",
        "            max_depth = i\n",
        "           \n",
        "            best_model = model\n",
        "#метрика F1\n",
        "print ('F1 = ',f1 , 'при max_depth=', max_depth)\n",
        "print ()\n",
        "\n",
        "#  AUC-ROC\n",
        "probabilities_one_valid = best_model.predict_proba(features_valid)[:, 1]   #вероятности \n",
        "print ('AUC-ROC = ',roc_auc_score(target_valid, probabilities_one_valid) )\n",
        "print ()\n",
        "\n",
        "#сохраняем метрику F1  в табличку результатов\n",
        "result.loc['DecisionTreeClassifier_F1','upsampling'] = f1\n",
        "\n",
        "best_model_tree_upsampling = best_model"
      ]
    },
    {
      "cell_type": "code",
      "execution_count": null,
      "metadata": {
        "colab": {
          "base_uri": "https://localhost:8080/"
        },
        "id": "IJxhYEw5KmaG",
        "outputId": "52ba4683-21fa-4387-9d49-e91560f7b459"
      },
      "outputs": [
        {
          "output_type": "stream",
          "name": "stdout",
          "text": [
            "F1 =  0.6291179596174282 при max_depth= 9 n_estimators= 70\n",
            "\n",
            "AUC-ROC =  0.8526303691650686\n",
            "\n",
            "\n",
            "CPU times: user 1min 4s, sys: 214 ms, total: 1min 4s\n",
            "Wall time: 1min 5s\n"
          ]
        }
      ],
      "source": [
        "%%time\n",
        "#49sec\n",
        "# RandomForestClassifier обучим на upsampled данных\n",
        "# пройдемся циклом по важнейшим гиперпараметрам и найдем лучшию модель\n",
        "f1 = 0\n",
        "for i in range(1,16,1):\n",
        "    for j in range (30,101,10):\n",
        "        model =  RandomForestClassifier(n_estimators=j,max_depth = i, random_state=12345)\n",
        "        model.fit(features_upsampled, target_upsampled)\n",
        "        predicted_valid = model.predict(features_valid)\n",
        "        if f1 < f1_score (target_valid, predicted_valid):\n",
        "            f1 = f1_score (target_valid, predicted_valid)\n",
        "            max_depth = i\n",
        "            n_estimators = j\n",
        "            best_model = model\n",
        "\n",
        "\n",
        "            \n",
        "# метрика F1\n",
        "print ('F1 = ',f1 , 'при max_depth=', max_depth, 'n_estimators=' , n_estimators)\n",
        "print ()\n",
        "\n",
        "#  AUC-ROC\n",
        "probabilities_one_valid = best_model.predict_proba(features_valid)[:, 1]   #вероятности \n",
        "print ('AUC-ROC = ',roc_auc_score(target_valid, probabilities_one_valid) )\n",
        "print ()\n",
        "print ()\n",
        "\n",
        "#сохраняем метрику F1  в табличку результатов\n",
        "result.loc['RandomForestClassifier_F1','upsampling'] = f1\n",
        "\n",
        "\n",
        "best_model_forest_upsampling = best_model #для дальнейшего использования\n"
      ]
    },
    {
      "cell_type": "code",
      "execution_count": null,
      "metadata": {
        "colab": {
          "base_uri": "https://localhost:8080/",
          "height": 143
        },
        "id": "PP2hUOxTKmaG",
        "outputId": "935a85bd-7afe-4071-9c73-6c24bd329309"
      },
      "outputs": [
        {
          "output_type": "execute_result",
          "data": {
            "text/plain": [
              "                           no_balanced  class_weight  upsampling\n",
              "LogisticRegression_F1         0.331081      0.488851    0.488851\n",
              "DecisionTreeClassifier_F1     0.565809      0.596379    0.628440\n",
              "RandomForestClassifier_F1     0.589666      0.628440    0.629118"
            ],
            "text/html": [
              "\n",
              "  <div id=\"df-bd810388-57c4-43d2-84d7-c55e7b1df5ce\">\n",
              "    <div class=\"colab-df-container\">\n",
              "      <div>\n",
              "<style scoped>\n",
              "    .dataframe tbody tr th:only-of-type {\n",
              "        vertical-align: middle;\n",
              "    }\n",
              "\n",
              "    .dataframe tbody tr th {\n",
              "        vertical-align: top;\n",
              "    }\n",
              "\n",
              "    .dataframe thead th {\n",
              "        text-align: right;\n",
              "    }\n",
              "</style>\n",
              "<table border=\"1\" class=\"dataframe\">\n",
              "  <thead>\n",
              "    <tr style=\"text-align: right;\">\n",
              "      <th></th>\n",
              "      <th>no_balanced</th>\n",
              "      <th>class_weight</th>\n",
              "      <th>upsampling</th>\n",
              "    </tr>\n",
              "  </thead>\n",
              "  <tbody>\n",
              "    <tr>\n",
              "      <th>LogisticRegression_F1</th>\n",
              "      <td>0.331081</td>\n",
              "      <td>0.488851</td>\n",
              "      <td>0.488851</td>\n",
              "    </tr>\n",
              "    <tr>\n",
              "      <th>DecisionTreeClassifier_F1</th>\n",
              "      <td>0.565809</td>\n",
              "      <td>0.596379</td>\n",
              "      <td>0.628440</td>\n",
              "    </tr>\n",
              "    <tr>\n",
              "      <th>RandomForestClassifier_F1</th>\n",
              "      <td>0.589666</td>\n",
              "      <td>0.628440</td>\n",
              "      <td>0.629118</td>\n",
              "    </tr>\n",
              "  </tbody>\n",
              "</table>\n",
              "</div>\n",
              "      <button class=\"colab-df-convert\" onclick=\"convertToInteractive('df-bd810388-57c4-43d2-84d7-c55e7b1df5ce')\"\n",
              "              title=\"Convert this dataframe to an interactive table.\"\n",
              "              style=\"display:none;\">\n",
              "        \n",
              "  <svg xmlns=\"http://www.w3.org/2000/svg\" height=\"24px\"viewBox=\"0 0 24 24\"\n",
              "       width=\"24px\">\n",
              "    <path d=\"M0 0h24v24H0V0z\" fill=\"none\"/>\n",
              "    <path d=\"M18.56 5.44l.94 2.06.94-2.06 2.06-.94-2.06-.94-.94-2.06-.94 2.06-2.06.94zm-11 1L8.5 8.5l.94-2.06 2.06-.94-2.06-.94L8.5 2.5l-.94 2.06-2.06.94zm10 10l.94 2.06.94-2.06 2.06-.94-2.06-.94-.94-2.06-.94 2.06-2.06.94z\"/><path d=\"M17.41 7.96l-1.37-1.37c-.4-.4-.92-.59-1.43-.59-.52 0-1.04.2-1.43.59L10.3 9.45l-7.72 7.72c-.78.78-.78 2.05 0 2.83L4 21.41c.39.39.9.59 1.41.59.51 0 1.02-.2 1.41-.59l7.78-7.78 2.81-2.81c.8-.78.8-2.07 0-2.86zM5.41 20L4 18.59l7.72-7.72 1.47 1.35L5.41 20z\"/>\n",
              "  </svg>\n",
              "      </button>\n",
              "      \n",
              "  <style>\n",
              "    .colab-df-container {\n",
              "      display:flex;\n",
              "      flex-wrap:wrap;\n",
              "      gap: 12px;\n",
              "    }\n",
              "\n",
              "    .colab-df-convert {\n",
              "      background-color: #E8F0FE;\n",
              "      border: none;\n",
              "      border-radius: 50%;\n",
              "      cursor: pointer;\n",
              "      display: none;\n",
              "      fill: #1967D2;\n",
              "      height: 32px;\n",
              "      padding: 0 0 0 0;\n",
              "      width: 32px;\n",
              "    }\n",
              "\n",
              "    .colab-df-convert:hover {\n",
              "      background-color: #E2EBFA;\n",
              "      box-shadow: 0px 1px 2px rgba(60, 64, 67, 0.3), 0px 1px 3px 1px rgba(60, 64, 67, 0.15);\n",
              "      fill: #174EA6;\n",
              "    }\n",
              "\n",
              "    [theme=dark] .colab-df-convert {\n",
              "      background-color: #3B4455;\n",
              "      fill: #D2E3FC;\n",
              "    }\n",
              "\n",
              "    [theme=dark] .colab-df-convert:hover {\n",
              "      background-color: #434B5C;\n",
              "      box-shadow: 0px 1px 3px 1px rgba(0, 0, 0, 0.15);\n",
              "      filter: drop-shadow(0px 1px 2px rgba(0, 0, 0, 0.3));\n",
              "      fill: #FFFFFF;\n",
              "    }\n",
              "  </style>\n",
              "\n",
              "      <script>\n",
              "        const buttonEl =\n",
              "          document.querySelector('#df-bd810388-57c4-43d2-84d7-c55e7b1df5ce button.colab-df-convert');\n",
              "        buttonEl.style.display =\n",
              "          google.colab.kernel.accessAllowed ? 'block' : 'none';\n",
              "\n",
              "        async function convertToInteractive(key) {\n",
              "          const element = document.querySelector('#df-bd810388-57c4-43d2-84d7-c55e7b1df5ce');\n",
              "          const dataTable =\n",
              "            await google.colab.kernel.invokeFunction('convertToInteractive',\n",
              "                                                     [key], {});\n",
              "          if (!dataTable) return;\n",
              "\n",
              "          const docLinkHtml = 'Like what you see? Visit the ' +\n",
              "            '<a target=\"_blank\" href=https://colab.research.google.com/notebooks/data_table.ipynb>data table notebook</a>'\n",
              "            + ' to learn more about interactive tables.';\n",
              "          element.innerHTML = '';\n",
              "          dataTable['output_type'] = 'display_data';\n",
              "          await google.colab.output.renderOutput(dataTable, element);\n",
              "          const docLink = document.createElement('div');\n",
              "          docLink.innerHTML = docLinkHtml;\n",
              "          element.appendChild(docLink);\n",
              "        }\n",
              "      </script>\n",
              "    </div>\n",
              "  </div>\n",
              "  "
            ]
          },
          "metadata": {},
          "execution_count": 36
        }
      ],
      "source": [
        "# итоговый результат сведеный в таблицу\n",
        "result"
      ]
    },
    {
      "cell_type": "markdown",
      "metadata": {
        "id": "KGBDPh4fKmaG"
      },
      "source": [
        "**Вывод** модель случайного леса и дерева решений  гораздо лучше, против Логической регресии . Применение методов class_weight='balanced' и upsampling примерно равный результат дают.       \n",
        "Лучшие модели DecisionTreeClassifier(max_depth= 9), на upsampling выборке и     \n",
        "RandomForestClassifier(max_depth= 9 n_estimators= 70 , class_weigh='balanced')"
      ]
    },
    {
      "cell_type": "markdown",
      "metadata": {
        "id": "QCwUZGzSKmaG"
      },
      "source": [
        "## Тестирование модели\n"
      ]
    },
    {
      "cell_type": "code",
      "execution_count": null,
      "metadata": {
        "colab": {
          "base_uri": "https://localhost:8080/"
        },
        "id": "-jjVYD9iKmaG",
        "outputId": "6d04a89c-b989-47bf-ff95-5dc49f7f2556"
      },
      "outputs": [
        {
          "output_type": "stream",
          "name": "stdout",
          "text": [
            "F1 =  0.6101694915254237\n",
            "recall_score =  0.6382978723404256\n",
            "precision_score =  0.5844155844155844\n",
            "AUC-ROC =  0.8546751395278762\n"
          ]
        }
      ],
      "source": [
        "#применяем лучшию модель на тестовой выборке\n",
        "#best_model_forest_class_weight случ лес с гиперпараметром class_weight \n",
        "predicted_test = best_model_forest_class_weight.predict(features_test)\n",
        "\n",
        "#метрика f1\n",
        "print ('F1 = ',f1_score (target_test, predicted_test))\n",
        "\n",
        "#метрика recall (полнота)\n",
        "print('recall_score = ', recall_score(target_test, predicted_test) )\n",
        "\n",
        "#метрика точность precision, сколько нашла отриц ответов ,пока искала положит\n",
        "print ('precision_score = ', precision_score(target_test, predicted_test) )\n",
        "#AUC-ROC площадь под кривой\n",
        "probabilities_test = best_model_forest_class_weight.predict_proba(features_test)[:, 1]   \n",
        "\n",
        "print ('AUC-ROC = ',roc_auc_score(target_test, probabilities_test) )"
      ]
    },
    {
      "cell_type": "code",
      "execution_count": null,
      "metadata": {
        "colab": {
          "base_uri": "https://localhost:8080/"
        },
        "id": "-YzMronAKmaG",
        "outputId": "d18bc9a6-04d3-4869-cc30-5c9ecfcdc2d2"
      },
      "outputs": [
        {
          "output_type": "stream",
          "name": "stdout",
          "text": [
            "Все 1,  F1 =  0.3491539413949649\n",
            "Все 0,  F1 =  0.0\n"
          ]
        }
      ],
      "source": [
        "# проверка на адекватность, все предсказания 1 или 0\n",
        "predicted_const_1 = pd.Series(1, index=target_test.index)\n",
        "predicted_const_0 = pd.Series(0, index=target_test.index)\n",
        "\n",
        "#метрика f1\n",
        "print ('Все 1,  F1 = ',f1_score (target_test, predicted_const_1))\n",
        "print ('Все 0,  F1 = ',f1_score (target_test, predicted_const_0))\n"
      ]
    },
    {
      "cell_type": "markdown",
      "metadata": {
        "id": "E7QG012oKmaH"
      },
      "source": [
        "Как видно из теста, наша модель показывать хорошие резузльтаты, по сравнению с константантными"
      ]
    },
    {
      "cell_type": "markdown",
      "metadata": {
        "id": "XarkgX87KmaH"
      },
      "source": [
        "**Вывод** Результат достигнут. F1>0.59   F1 =  0.61504.    \n",
        "AUC-ROC  =  0.86096  говрит о том , что результат гораздо выше случайного (0.5)    \n",
        "recall_score =   0.6572   показывает долю положительных ответов , которые спрогнозировала модель, впринципе, неплохой результат.   \n",
        "\n"
      ]
    },
    {
      "cell_type": "markdown",
      "metadata": {
        "id": "SV98wpRrKmaH"
      },
      "source": [
        "**Общий вывод.**\n",
        "1. Данные были узучены, пропуски в колонке с Tenure — сколько лет человек является клиентом банка заменены на медианы, чтобы не терять 10%  данных.\n",
        "2. Баланс классов составляет 80/20. Корреляции слабые в датасете.   \n",
        "3. Выбока разбита на обучающию, валидац, тестовую в отшении 0.6/ 0.2 / 0.2    \n",
        "4. Обучены модели на обуч. выборке и применены на валидац ЛогРегресия, ДеревоРешений, СлучЛес. У дерева и Леса перебирались в цикле  важные гиперпараметры, для поиска наилучшей модели.Лучше всего себя показал случайны лес, ЛогРегрессия сильно хуже.\n",
        "5. Для учета баланса классов был применен гиперпараметр class_weight='balanced'  и метод увелеичения редкого(положительного) класса  \"upsampling\". Так же для СлучЛеса и ДереваРешений циклом пербирались и находились  лучшие гиперпараметры. Два эти метода показали  примерно схожие увелечения метрики моделей. СлучайныйЛес и ДеревоРешений показали оптяь значительно лучший результат, по сравнению с ЛогРегрессией.\n",
        "6. Была выбрана модель СлучайногоЛеса  с гипер параметр class_weight='balanced' и применена на тестовой выборке.   \n",
        "Достигнут необходимый результат F1>0.59     \n",
        "F1 =  0.61504.    \n",
        "AUC-ROC  =  0.86096  говрит о том , что результат гораздо выше случайного (0.5)    \n",
        "recall_score =   0.6572   показывает долю положительных ответов , которые спрогнозировала модель, впринципе хорошо.\n",
        "\n"
      ]
    },
    {
      "cell_type": "markdown",
      "metadata": {
        "id": "4k5Zg48eKmaH"
      },
      "source": [
        "## Дополнительный пункт.\n",
        "улучшение модели  с гиперпараметрами class_weight='balanced' с помощью обьединения train и valid выборок"
      ]
    },
    {
      "cell_type": "code",
      "execution_count": null,
      "metadata": {
        "colab": {
          "base_uri": "https://localhost:8080/"
        },
        "id": "N0hZP538KmaI",
        "outputId": "228b5283-883f-4603-ed6e-34b60a091ce6"
      },
      "outputs": [
        {
          "output_type": "stream",
          "name": "stdout",
          "text": [
            "F1 на=  0.7464324917672888\n",
            "AUC-ROC =  0.9372138108747331\n"
          ]
        }
      ],
      "source": [
        "# нашли лучшию модель ,в данном случае возьмем СлучайныйЛес с class_weight='balanced'  а теперь объеденим Трайн и Валид и обучим модель на них\n",
        "\n",
        "#объединение трайн и валид\n",
        "features_train_valid = pd.concat([features_train, features_valid], ignore_index=True)\n",
        "target_train_valid = pd.concat([target_train, target_valid], ignore_index=True)\n",
        "\n",
        "# обучаем лучшию модель на объеденнных данных, выберем случайный лес\n",
        "model =  best_model_forest_class_weight\n",
        "model.fit(features_train_valid, target_train_valid)\n",
        "predicted_valid = model.predict(features_valid)\n",
        "\n",
        "# метрики \n",
        "print ('F1 на= ',f1_score (target_valid, predicted_valid))\n",
        "\n",
        "probabilities_valid = model.predict_proba(features_valid)   #вероятности 1\n",
        "probabilities_one_valid = probabilities_valid[:, 1] \n",
        "print ('AUC-ROC = ',roc_auc_score(target_valid, probabilities_one_valid) )\n",
        "\n",
        "best_model_train_valid = model  # для дальнейшего использования\n"
      ]
    },
    {
      "cell_type": "code",
      "execution_count": null,
      "metadata": {
        "scrolled": true,
        "colab": {
          "base_uri": "https://localhost:8080/"
        },
        "id": "SIKoqqGnKmaI",
        "outputId": "6ce56b57-4da8-49b4-8d59-b062f09795d7"
      },
      "outputs": [
        {
          "output_type": "stream",
          "name": "stdout",
          "text": [
            "F1 =  0.6150442477876107\n",
            "AUC-ROC =  0.8609623263490693\n"
          ]
        }
      ],
      "source": [
        "#применяем лучшию модель на тестовой выборке\n",
        "\n",
        "predicted_test = best_model_train_valid.predict(features_test)\n",
        "\n",
        "#метрика f1\n",
        "print ('F1 = ',f1_score (target_test, predicted_test))\n",
        "\n",
        "#AUC-ROC площадь под кривой\n",
        "probabilities_test = best_model_train_valid.predict_proba(features_test)[:, 1]   \n",
        "\n",
        "print ('AUC-ROC = ',roc_auc_score(target_test, probabilities_test) )"
      ]
    },
    {
      "cell_type": "markdown",
      "metadata": {
        "id": "J7Mmben4KmaI"
      },
      "source": [
        "На тестовой выборке нельзя продолжать испытывать модели, но я сделал. И получил одинаковые результаты на Случайный лес с гиперпараметром  class_weight='balanced'  и лучшими гиперпараметрами , найденными в цикле , обученной на   объединененной выборке train и valid.\n",
        "\n",
        "И  на Дереве решений   обученным на upsampling выборкой с циклом для поиска лучших гипер параметров .\n",
        "\n",
        "\n"
      ]
    },
    {
      "cell_type": "markdown",
      "metadata": {
        "id": "5CPqk-L_KmaJ"
      },
      "source": [
        "прошлый лучший результат на  тестов выборке.\n",
        "F1 =  0.6037735849056605          \n",
        "F1 = 0.6203090507726269 без масштабир    \n",
        "F1 =  0.6150442477876107 масшт     "
      ]
    },
    {
      "cell_type": "code",
      "execution_count": null,
      "metadata": {
        "id": "MyFOnjeAKmaJ"
      },
      "outputs": [],
      "source": []
    }
  ],
  "metadata": {
    "ExecuteTimeLog": [
      {
        "duration": 382,
        "start_time": "2023-01-09T04:28:23.984Z"
      },
      {
        "duration": 94,
        "start_time": "2023-01-09T04:28:25.812Z"
      },
      {
        "duration": 65,
        "start_time": "2023-01-09T04:29:06.124Z"
      },
      {
        "duration": 158,
        "start_time": "2023-01-09T04:29:11.998Z"
      },
      {
        "duration": 52,
        "start_time": "2023-01-09T04:29:27.806Z"
      },
      {
        "duration": 56,
        "start_time": "2023-01-09T04:30:01.301Z"
      },
      {
        "duration": 51,
        "start_time": "2023-01-09T04:32:33.737Z"
      },
      {
        "duration": 13,
        "start_time": "2023-01-09T04:32:44.671Z"
      },
      {
        "duration": 11,
        "start_time": "2023-01-09T04:35:22.979Z"
      },
      {
        "duration": 8,
        "start_time": "2023-01-09T04:40:25.397Z"
      },
      {
        "duration": 27,
        "start_time": "2023-01-09T04:40:57.957Z"
      },
      {
        "duration": 5,
        "start_time": "2023-01-09T04:44:31.751Z"
      },
      {
        "duration": 6,
        "start_time": "2023-01-09T04:45:21.423Z"
      },
      {
        "duration": 6,
        "start_time": "2023-01-09T04:49:53.643Z"
      },
      {
        "duration": 5,
        "start_time": "2023-01-09T04:50:01.792Z"
      },
      {
        "duration": 28,
        "start_time": "2023-01-09T04:57:23.968Z"
      },
      {
        "duration": 8,
        "start_time": "2023-01-09T05:08:11.262Z"
      },
      {
        "duration": 14,
        "start_time": "2023-01-09T05:08:30.819Z"
      },
      {
        "duration": 10,
        "start_time": "2023-01-09T05:08:36.742Z"
      },
      {
        "duration": 975,
        "start_time": "2023-01-09T05:08:56.496Z"
      },
      {
        "duration": 5,
        "start_time": "2023-01-09T05:09:04.598Z"
      },
      {
        "duration": 74,
        "start_time": "2023-01-09T05:09:10.676Z"
      },
      {
        "duration": 6,
        "start_time": "2023-01-09T05:12:26.032Z"
      },
      {
        "duration": 10,
        "start_time": "2023-01-09T05:12:38.570Z"
      },
      {
        "duration": 93,
        "start_time": "2023-01-09T05:13:09.129Z"
      },
      {
        "duration": 36,
        "start_time": "2023-01-09T05:13:14.154Z"
      },
      {
        "duration": 15,
        "start_time": "2023-01-09T05:13:26.121Z"
      },
      {
        "duration": 14,
        "start_time": "2023-01-09T05:13:31.617Z"
      },
      {
        "duration": 73,
        "start_time": "2023-01-09T05:15:05.268Z"
      },
      {
        "duration": 2,
        "start_time": "2023-01-09T05:17:16.794Z"
      },
      {
        "duration": 7,
        "start_time": "2023-01-09T05:18:08.749Z"
      },
      {
        "duration": 84,
        "start_time": "2023-01-09T05:20:02.037Z"
      },
      {
        "duration": 6,
        "start_time": "2023-01-09T05:20:22.733Z"
      },
      {
        "duration": 9,
        "start_time": "2023-01-09T05:23:41.396Z"
      },
      {
        "duration": 13,
        "start_time": "2023-01-09T05:23:51.904Z"
      },
      {
        "duration": 13,
        "start_time": "2023-01-09T05:24:08.535Z"
      },
      {
        "duration": 19,
        "start_time": "2023-01-09T05:24:19.776Z"
      },
      {
        "duration": 10,
        "start_time": "2023-01-09T05:24:37.008Z"
      },
      {
        "duration": 14,
        "start_time": "2023-01-09T05:24:59.376Z"
      },
      {
        "duration": 6,
        "start_time": "2023-01-09T05:26:52.400Z"
      },
      {
        "duration": 20,
        "start_time": "2023-01-09T05:27:04.922Z"
      },
      {
        "duration": 9,
        "start_time": "2023-01-09T05:27:16.107Z"
      },
      {
        "duration": 447,
        "start_time": "2023-01-09T05:27:40.637Z"
      },
      {
        "duration": 57,
        "start_time": "2023-01-09T05:27:41.091Z"
      },
      {
        "duration": 17,
        "start_time": "2023-01-09T05:27:41.150Z"
      },
      {
        "duration": 7,
        "start_time": "2023-01-09T05:27:41.169Z"
      },
      {
        "duration": 25,
        "start_time": "2023-01-09T05:27:41.177Z"
      },
      {
        "duration": 12,
        "start_time": "2023-01-09T05:27:41.204Z"
      },
      {
        "duration": 28,
        "start_time": "2023-01-09T05:27:41.218Z"
      },
      {
        "duration": 7,
        "start_time": "2023-01-09T05:27:41.248Z"
      },
      {
        "duration": 13,
        "start_time": "2023-01-09T05:27:41.256Z"
      },
      {
        "duration": 20,
        "start_time": "2023-01-09T05:27:41.280Z"
      },
      {
        "duration": 2,
        "start_time": "2023-01-09T05:27:41.303Z"
      },
      {
        "duration": 9,
        "start_time": "2023-01-09T05:43:22.437Z"
      },
      {
        "duration": 10,
        "start_time": "2023-01-09T05:43:45.534Z"
      },
      {
        "duration": 9,
        "start_time": "2023-01-09T05:44:07.957Z"
      },
      {
        "duration": 13,
        "start_time": "2023-01-09T05:44:36.933Z"
      },
      {
        "duration": 11,
        "start_time": "2023-01-09T05:47:55.008Z"
      },
      {
        "duration": 11,
        "start_time": "2023-01-09T05:47:58.328Z"
      },
      {
        "duration": 5,
        "start_time": "2023-01-09T05:48:11.135Z"
      },
      {
        "duration": 10,
        "start_time": "2023-01-09T05:48:14.805Z"
      },
      {
        "duration": 64,
        "start_time": "2023-01-09T05:48:23.456Z"
      },
      {
        "duration": 10,
        "start_time": "2023-01-09T05:48:36.144Z"
      },
      {
        "duration": 393,
        "start_time": "2023-01-09T05:48:54.101Z"
      },
      {
        "duration": 53,
        "start_time": "2023-01-09T05:48:54.496Z"
      },
      {
        "duration": 12,
        "start_time": "2023-01-09T05:48:54.551Z"
      },
      {
        "duration": 5,
        "start_time": "2023-01-09T05:48:54.565Z"
      },
      {
        "duration": 15,
        "start_time": "2023-01-09T05:48:54.572Z"
      },
      {
        "duration": 18,
        "start_time": "2023-01-09T05:48:54.591Z"
      },
      {
        "duration": 24,
        "start_time": "2023-01-09T05:48:54.610Z"
      },
      {
        "duration": 5,
        "start_time": "2023-01-09T05:48:54.636Z"
      },
      {
        "duration": 14,
        "start_time": "2023-01-09T05:48:54.643Z"
      },
      {
        "duration": 16,
        "start_time": "2023-01-09T05:48:54.658Z"
      },
      {
        "duration": 27,
        "start_time": "2023-01-09T05:48:54.678Z"
      },
      {
        "duration": 13,
        "start_time": "2023-01-09T05:48:54.707Z"
      },
      {
        "duration": 12,
        "start_time": "2023-01-09T05:53:36.495Z"
      },
      {
        "duration": 67,
        "start_time": "2023-01-09T05:57:22.574Z"
      },
      {
        "duration": 9,
        "start_time": "2023-01-09T05:57:30.679Z"
      },
      {
        "duration": 5,
        "start_time": "2023-01-09T05:57:37.439Z"
      },
      {
        "duration": 6,
        "start_time": "2023-01-09T05:58:34.024Z"
      },
      {
        "duration": 12,
        "start_time": "2023-01-09T05:58:37.096Z"
      },
      {
        "duration": 12,
        "start_time": "2023-01-09T05:59:26.327Z"
      },
      {
        "duration": 6,
        "start_time": "2023-01-09T05:59:43.195Z"
      },
      {
        "duration": 12,
        "start_time": "2023-01-09T06:00:58.883Z"
      },
      {
        "duration": 11,
        "start_time": "2023-01-09T06:01:27.535Z"
      },
      {
        "duration": 11,
        "start_time": "2023-01-09T06:01:41.664Z"
      },
      {
        "duration": 19,
        "start_time": "2023-01-09T06:01:46.912Z"
      },
      {
        "duration": 19,
        "start_time": "2023-01-09T06:02:56.635Z"
      },
      {
        "duration": 5,
        "start_time": "2023-01-09T06:03:23.761Z"
      },
      {
        "duration": 6,
        "start_time": "2023-01-09T06:10:38.671Z"
      },
      {
        "duration": 6,
        "start_time": "2023-01-09T06:10:51.966Z"
      },
      {
        "duration": 6,
        "start_time": "2023-01-09T06:11:06.641Z"
      },
      {
        "duration": 796,
        "start_time": "2023-01-09T06:13:04.170Z"
      },
      {
        "duration": 14,
        "start_time": "2023-01-09T06:16:21.571Z"
      },
      {
        "duration": 10,
        "start_time": "2023-01-09T06:18:35.252Z"
      },
      {
        "duration": 9,
        "start_time": "2023-01-09T06:19:26.332Z"
      },
      {
        "duration": 10,
        "start_time": "2023-01-09T06:20:58.245Z"
      },
      {
        "duration": 5,
        "start_time": "2023-01-09T06:22:13.311Z"
      },
      {
        "duration": 7,
        "start_time": "2023-01-09T06:23:05.809Z"
      },
      {
        "duration": 5,
        "start_time": "2023-01-09T06:23:48.119Z"
      },
      {
        "duration": 42,
        "start_time": "2023-01-09T06:24:16.310Z"
      },
      {
        "duration": 5,
        "start_time": "2023-01-09T06:24:21.559Z"
      },
      {
        "duration": 6,
        "start_time": "2023-01-09T06:25:24.240Z"
      },
      {
        "duration": 26,
        "start_time": "2023-01-09T07:13:03.632Z"
      },
      {
        "duration": 9,
        "start_time": "2023-01-09T07:13:15.832Z"
      },
      {
        "duration": 7,
        "start_time": "2023-01-09T07:14:15.321Z"
      },
      {
        "duration": 7,
        "start_time": "2023-01-09T07:21:28.654Z"
      },
      {
        "duration": 27,
        "start_time": "2023-01-09T07:22:08.517Z"
      },
      {
        "duration": 16,
        "start_time": "2023-01-09T07:22:43.585Z"
      },
      {
        "duration": 20,
        "start_time": "2023-01-09T07:22:50.158Z"
      },
      {
        "duration": 5,
        "start_time": "2023-01-09T07:23:02.613Z"
      },
      {
        "duration": 70,
        "start_time": "2023-01-09T07:23:14.921Z"
      },
      {
        "duration": 17,
        "start_time": "2023-01-09T07:23:15.632Z"
      },
      {
        "duration": 5,
        "start_time": "2023-01-09T07:23:18.527Z"
      },
      {
        "duration": 5,
        "start_time": "2023-01-09T07:23:20.613Z"
      },
      {
        "duration": 47,
        "start_time": "2023-01-09T07:23:23.817Z"
      },
      {
        "duration": 6,
        "start_time": "2023-01-09T07:23:27.538Z"
      },
      {
        "duration": 5,
        "start_time": "2023-01-09T07:23:37.239Z"
      },
      {
        "duration": 5,
        "start_time": "2023-01-09T07:23:39.515Z"
      },
      {
        "duration": 5,
        "start_time": "2023-01-09T07:23:41.913Z"
      },
      {
        "duration": 4,
        "start_time": "2023-01-09T07:25:07.020Z"
      },
      {
        "duration": 16,
        "start_time": "2023-01-09T07:25:10.723Z"
      },
      {
        "duration": 18,
        "start_time": "2023-01-09T07:25:21.212Z"
      },
      {
        "duration": 8,
        "start_time": "2023-01-09T07:25:44.964Z"
      },
      {
        "duration": 27,
        "start_time": "2023-01-09T07:26:39.712Z"
      },
      {
        "duration": 6,
        "start_time": "2023-01-09T07:26:59.146Z"
      },
      {
        "duration": 15,
        "start_time": "2023-01-09T07:27:10.778Z"
      },
      {
        "duration": 5,
        "start_time": "2023-01-09T07:27:11.911Z"
      },
      {
        "duration": 13,
        "start_time": "2023-01-09T07:27:23.441Z"
      },
      {
        "duration": 14,
        "start_time": "2023-01-09T07:27:25.896Z"
      },
      {
        "duration": 10,
        "start_time": "2023-01-09T07:37:13.426Z"
      },
      {
        "duration": 30,
        "start_time": "2023-01-09T07:37:20.715Z"
      },
      {
        "duration": 24,
        "start_time": "2023-01-09T07:37:27.721Z"
      },
      {
        "duration": 17,
        "start_time": "2023-01-09T07:38:53.022Z"
      },
      {
        "duration": 1272,
        "start_time": "2023-01-09T07:39:06.025Z"
      },
      {
        "duration": 65,
        "start_time": "2023-01-09T07:39:07.305Z"
      },
      {
        "duration": 19,
        "start_time": "2023-01-09T07:39:07.371Z"
      },
      {
        "duration": 57,
        "start_time": "2023-01-09T07:39:07.392Z"
      },
      {
        "duration": 10,
        "start_time": "2023-01-09T07:39:07.452Z"
      },
      {
        "duration": 6,
        "start_time": "2023-01-09T07:39:07.464Z"
      },
      {
        "duration": 56,
        "start_time": "2023-01-09T07:39:07.472Z"
      },
      {
        "duration": 5,
        "start_time": "2023-01-09T07:39:07.530Z"
      },
      {
        "duration": 119,
        "start_time": "2023-01-09T07:39:07.537Z"
      },
      {
        "duration": 0,
        "start_time": "2023-01-09T07:39:07.659Z"
      },
      {
        "duration": 0,
        "start_time": "2023-01-09T07:39:07.660Z"
      },
      {
        "duration": 0,
        "start_time": "2023-01-09T07:39:07.661Z"
      },
      {
        "duration": 0,
        "start_time": "2023-01-09T07:39:07.663Z"
      },
      {
        "duration": 0,
        "start_time": "2023-01-09T07:39:07.664Z"
      },
      {
        "duration": 0,
        "start_time": "2023-01-09T07:39:07.665Z"
      },
      {
        "duration": 0,
        "start_time": "2023-01-09T07:39:07.688Z"
      },
      {
        "duration": 0,
        "start_time": "2023-01-09T07:39:07.689Z"
      },
      {
        "duration": 8,
        "start_time": "2023-01-09T07:41:06.052Z"
      },
      {
        "duration": 6,
        "start_time": "2023-01-09T07:41:13.452Z"
      },
      {
        "duration": 17,
        "start_time": "2023-01-09T07:41:16.637Z"
      },
      {
        "duration": 9,
        "start_time": "2023-01-09T07:41:31.140Z"
      },
      {
        "duration": 5,
        "start_time": "2023-01-09T07:42:16.756Z"
      },
      {
        "duration": 25,
        "start_time": "2023-01-09T07:42:28.973Z"
      },
      {
        "duration": 4,
        "start_time": "2023-01-09T07:42:55.044Z"
      },
      {
        "duration": 6,
        "start_time": "2023-01-09T07:42:57.622Z"
      },
      {
        "duration": 6,
        "start_time": "2023-01-09T07:43:02.629Z"
      },
      {
        "duration": 10,
        "start_time": "2023-01-09T07:43:13.014Z"
      },
      {
        "duration": 1202,
        "start_time": "2023-01-09T07:44:58.028Z"
      },
      {
        "duration": 65,
        "start_time": "2023-01-09T07:44:59.231Z"
      },
      {
        "duration": 16,
        "start_time": "2023-01-09T07:44:59.301Z"
      },
      {
        "duration": 23,
        "start_time": "2023-01-09T07:44:59.319Z"
      },
      {
        "duration": 20,
        "start_time": "2023-01-09T07:44:59.344Z"
      },
      {
        "duration": 10,
        "start_time": "2023-01-09T07:44:59.365Z"
      },
      {
        "duration": 69,
        "start_time": "2023-01-09T07:44:59.376Z"
      },
      {
        "duration": 5,
        "start_time": "2023-01-09T07:44:59.446Z"
      },
      {
        "duration": 11,
        "start_time": "2023-01-09T07:44:59.453Z"
      },
      {
        "duration": 9,
        "start_time": "2023-01-09T07:44:59.466Z"
      },
      {
        "duration": 55,
        "start_time": "2023-01-09T07:44:59.477Z"
      },
      {
        "duration": 27,
        "start_time": "2023-01-09T07:44:59.534Z"
      },
      {
        "duration": 5,
        "start_time": "2023-01-09T07:44:59.563Z"
      },
      {
        "duration": 44,
        "start_time": "2023-01-09T07:44:59.571Z"
      },
      {
        "duration": 28,
        "start_time": "2023-01-09T07:44:59.616Z"
      },
      {
        "duration": 26,
        "start_time": "2023-01-09T07:44:59.645Z"
      },
      {
        "duration": 51,
        "start_time": "2023-01-09T07:44:59.673Z"
      },
      {
        "duration": 35,
        "start_time": "2023-01-09T07:44:59.726Z"
      },
      {
        "duration": 4,
        "start_time": "2023-01-09T07:45:16.222Z"
      },
      {
        "duration": 55,
        "start_time": "2023-01-09T07:45:18.974Z"
      },
      {
        "duration": 20,
        "start_time": "2023-01-09T07:46:06.552Z"
      },
      {
        "duration": 47,
        "start_time": "2023-01-09T07:46:54.827Z"
      },
      {
        "duration": 4,
        "start_time": "2023-01-09T07:50:03.419Z"
      },
      {
        "duration": 63,
        "start_time": "2023-01-09T07:53:05.055Z"
      },
      {
        "duration": 10,
        "start_time": "2023-01-09T07:53:43.426Z"
      },
      {
        "duration": 4,
        "start_time": "2023-01-09T07:54:10.522Z"
      },
      {
        "duration": 4,
        "start_time": "2023-01-09T07:54:24.441Z"
      },
      {
        "duration": 6,
        "start_time": "2023-01-09T07:54:30.824Z"
      },
      {
        "duration": 53,
        "start_time": "2023-01-09T07:56:22.065Z"
      },
      {
        "duration": 60,
        "start_time": "2023-01-09T08:04:41.264Z"
      },
      {
        "duration": 10,
        "start_time": "2023-01-09T08:04:43.732Z"
      },
      {
        "duration": 49,
        "start_time": "2023-01-09T08:04:53.309Z"
      },
      {
        "duration": 16,
        "start_time": "2023-01-09T08:04:54.232Z"
      },
      {
        "duration": 25,
        "start_time": "2023-01-09T08:05:49.458Z"
      },
      {
        "duration": 938,
        "start_time": "2023-01-09T08:06:26.632Z"
      },
      {
        "duration": 81,
        "start_time": "2023-01-09T08:06:29.450Z"
      },
      {
        "duration": 842,
        "start_time": "2023-01-09T08:08:42.883Z"
      },
      {
        "duration": 62,
        "start_time": "2023-01-09T08:08:48.828Z"
      },
      {
        "duration": 322,
        "start_time": "2023-01-09T08:11:59.542Z"
      },
      {
        "duration": 10303,
        "start_time": "2023-01-09T08:12:13.332Z"
      },
      {
        "duration": 9539,
        "start_time": "2023-01-09T08:13:37.473Z"
      },
      {
        "duration": 53530,
        "start_time": "2023-01-09T08:18:28.715Z"
      },
      {
        "duration": 62,
        "start_time": "2023-01-09T08:19:53.630Z"
      },
      {
        "duration": 18,
        "start_time": "2023-01-09T08:27:41.573Z"
      },
      {
        "duration": 49012,
        "start_time": "2023-01-09T08:30:21.610Z"
      },
      {
        "duration": 38,
        "start_time": "2023-01-09T08:32:10.671Z"
      },
      {
        "duration": 16,
        "start_time": "2023-01-09T08:36:19.617Z"
      },
      {
        "duration": 35,
        "start_time": "2023-01-09T08:36:57.224Z"
      },
      {
        "duration": 92,
        "start_time": "2023-01-09T08:37:57.033Z"
      },
      {
        "duration": 67,
        "start_time": "2023-01-09T08:38:27.849Z"
      },
      {
        "duration": 60,
        "start_time": "2023-01-09T08:39:09.748Z"
      },
      {
        "duration": 403,
        "start_time": "2023-01-09T08:40:10.132Z"
      },
      {
        "duration": 526,
        "start_time": "2023-01-09T08:43:26.819Z"
      },
      {
        "duration": 593,
        "start_time": "2023-01-09T08:43:57.157Z"
      },
      {
        "duration": 56,
        "start_time": "2023-01-09T08:44:00.731Z"
      },
      {
        "duration": 563,
        "start_time": "2023-01-09T08:45:16.068Z"
      },
      {
        "duration": 54,
        "start_time": "2023-01-09T08:45:39.116Z"
      },
      {
        "duration": 52344,
        "start_time": "2023-01-09T09:40:04.679Z"
      },
      {
        "duration": 50888,
        "start_time": "2023-01-09T09:41:20.226Z"
      },
      {
        "duration": 47848,
        "start_time": "2023-01-09T09:47:19.343Z"
      },
      {
        "duration": 107,
        "start_time": "2023-01-09T09:50:00.176Z"
      },
      {
        "duration": 53,
        "start_time": "2023-01-09T09:52:20.009Z"
      },
      {
        "duration": 204,
        "start_time": "2023-01-09T09:52:41.698Z"
      },
      {
        "duration": 238,
        "start_time": "2023-01-09T09:52:58.970Z"
      },
      {
        "duration": 100,
        "start_time": "2023-01-09T09:53:10.512Z"
      },
      {
        "duration": 20,
        "start_time": "2023-01-09T09:53:15.007Z"
      },
      {
        "duration": 57,
        "start_time": "2023-01-09T09:54:21.955Z"
      },
      {
        "duration": 79,
        "start_time": "2023-01-09T09:55:57.357Z"
      },
      {
        "duration": 47260,
        "start_time": "2023-01-09T09:56:54.652Z"
      },
      {
        "duration": 79,
        "start_time": "2023-01-09T09:58:24.717Z"
      },
      {
        "duration": 110,
        "start_time": "2023-01-09T10:00:15.489Z"
      },
      {
        "duration": 69183,
        "start_time": "2023-01-09T10:06:26.012Z"
      },
      {
        "duration": 21,
        "start_time": "2023-01-09T10:13:57.576Z"
      },
      {
        "duration": 5,
        "start_time": "2023-01-09T10:14:00.544Z"
      },
      {
        "duration": 25,
        "start_time": "2023-01-09T10:14:02.744Z"
      },
      {
        "duration": 5,
        "start_time": "2023-01-09T10:14:08.544Z"
      },
      {
        "duration": 8,
        "start_time": "2023-01-09T10:14:15.291Z"
      },
      {
        "duration": 22,
        "start_time": "2023-01-09T10:14:16.960Z"
      },
      {
        "duration": 17,
        "start_time": "2023-01-09T10:16:37.241Z"
      },
      {
        "duration": 16,
        "start_time": "2023-01-09T10:17:04.335Z"
      },
      {
        "duration": 22,
        "start_time": "2023-01-09T10:19:05.197Z"
      },
      {
        "duration": 282,
        "start_time": "2023-01-09T10:20:42.116Z"
      },
      {
        "duration": 172,
        "start_time": "2023-01-09T10:22:20.214Z"
      },
      {
        "duration": 67405,
        "start_time": "2023-01-09T10:23:12.575Z"
      },
      {
        "duration": 93,
        "start_time": "2023-01-09T10:29:56.710Z"
      },
      {
        "duration": 782,
        "start_time": "2023-01-09T10:30:37.355Z"
      },
      {
        "duration": 73,
        "start_time": "2023-01-09T10:30:41.594Z"
      },
      {
        "duration": 104,
        "start_time": "2023-01-09T10:33:08.715Z"
      },
      {
        "duration": 46818,
        "start_time": "2023-01-09T10:37:52.936Z"
      },
      {
        "duration": 79,
        "start_time": "2023-01-09T10:39:43.450Z"
      },
      {
        "duration": 779,
        "start_time": "2023-01-09T10:40:13.324Z"
      },
      {
        "duration": 75,
        "start_time": "2023-01-09T10:40:16.660Z"
      },
      {
        "duration": 63506,
        "start_time": "2023-01-09T10:40:57.026Z"
      },
      {
        "duration": 88,
        "start_time": "2023-01-09T10:42:06.674Z"
      },
      {
        "duration": 19,
        "start_time": "2023-01-09T10:51:08.065Z"
      },
      {
        "duration": 45605,
        "start_time": "2023-01-09T10:51:15.233Z"
      },
      {
        "duration": 1210,
        "start_time": "2023-01-09T10:53:44.779Z"
      },
      {
        "duration": 100,
        "start_time": "2023-01-09T10:53:59.396Z"
      },
      {
        "duration": 45174,
        "start_time": "2023-01-09T10:54:57.726Z"
      },
      {
        "duration": 713,
        "start_time": "2023-01-09T10:55:59.300Z"
      },
      {
        "duration": 90,
        "start_time": "2023-01-09T10:56:02.364Z"
      },
      {
        "duration": 90,
        "start_time": "2023-01-09T11:01:55.575Z"
      },
      {
        "duration": 637,
        "start_time": "2023-01-09T11:02:10.728Z"
      },
      {
        "duration": 616,
        "start_time": "2023-01-09T11:03:08.833Z"
      },
      {
        "duration": 725,
        "start_time": "2023-01-09T11:04:12.570Z"
      },
      {
        "duration": 83,
        "start_time": "2023-01-09T11:04:23.923Z"
      },
      {
        "duration": 735,
        "start_time": "2023-01-09T11:04:52.459Z"
      },
      {
        "duration": 72,
        "start_time": "2023-01-09T11:04:55.357Z"
      },
      {
        "duration": 639,
        "start_time": "2023-01-09T11:07:25.297Z"
      },
      {
        "duration": 633,
        "start_time": "2023-01-09T11:07:58.557Z"
      },
      {
        "duration": 625,
        "start_time": "2023-01-09T11:08:11.261Z"
      },
      {
        "duration": 786,
        "start_time": "2023-01-09T11:08:18.477Z"
      },
      {
        "duration": 790,
        "start_time": "2023-01-09T11:09:15.406Z"
      },
      {
        "duration": 92,
        "start_time": "2023-01-09T11:09:19.902Z"
      },
      {
        "duration": 44482,
        "start_time": "2023-01-09T11:10:28.335Z"
      },
      {
        "duration": 684,
        "start_time": "2023-01-09T11:11:31.000Z"
      },
      {
        "duration": 70,
        "start_time": "2023-01-09T11:11:37.335Z"
      },
      {
        "duration": 74,
        "start_time": "2023-01-09T11:11:54.599Z"
      },
      {
        "duration": 11,
        "start_time": "2023-01-09T11:12:27.008Z"
      },
      {
        "duration": 689,
        "start_time": "2023-01-09T11:12:30.083Z"
      },
      {
        "duration": 72,
        "start_time": "2023-01-09T11:12:32.416Z"
      },
      {
        "duration": 45116,
        "start_time": "2023-01-09T11:13:14.882Z"
      },
      {
        "duration": 683,
        "start_time": "2023-01-09T11:14:24.457Z"
      },
      {
        "duration": 75,
        "start_time": "2023-01-09T11:14:33.163Z"
      },
      {
        "duration": 14,
        "start_time": "2023-01-09T11:15:01.107Z"
      },
      {
        "duration": 59913,
        "start_time": "2023-01-09T11:15:10.634Z"
      },
      {
        "duration": 75,
        "start_time": "2023-01-09T11:16:17.339Z"
      },
      {
        "duration": 72,
        "start_time": "2023-01-09T11:16:44.169Z"
      },
      {
        "duration": 611,
        "start_time": "2023-01-09T11:17:39.179Z"
      },
      {
        "duration": 85,
        "start_time": "2023-01-09T11:18:05.061Z"
      },
      {
        "duration": 750,
        "start_time": "2023-01-09T11:18:17.453Z"
      },
      {
        "duration": 65,
        "start_time": "2023-01-09T11:18:29.812Z"
      },
      {
        "duration": 69,
        "start_time": "2023-01-09T11:21:54.551Z"
      },
      {
        "duration": 806,
        "start_time": "2023-01-09T11:23:17.111Z"
      },
      {
        "duration": 81,
        "start_time": "2023-01-09T11:23:31.040Z"
      },
      {
        "duration": 77,
        "start_time": "2023-01-09T11:24:36.671Z"
      },
      {
        "duration": 79,
        "start_time": "2023-01-09T11:26:21.474Z"
      },
      {
        "duration": 68,
        "start_time": "2023-01-09T11:43:55.869Z"
      },
      {
        "duration": 72,
        "start_time": "2023-01-09T11:45:31.014Z"
      },
      {
        "duration": 623,
        "start_time": "2023-01-09T11:53:17.060Z"
      },
      {
        "duration": 25,
        "start_time": "2023-01-09T11:55:09.517Z"
      },
      {
        "duration": 590,
        "start_time": "2023-01-09T11:55:11.677Z"
      },
      {
        "duration": 10,
        "start_time": "2023-01-09T11:55:52.445Z"
      },
      {
        "duration": 607,
        "start_time": "2023-01-09T11:56:08.558Z"
      },
      {
        "duration": 80,
        "start_time": "2023-01-09T11:56:18.414Z"
      },
      {
        "duration": 43869,
        "start_time": "2023-01-09T11:57:21.448Z"
      },
      {
        "duration": 695,
        "start_time": "2023-01-09T11:58:53.993Z"
      },
      {
        "duration": 67,
        "start_time": "2023-01-09T11:59:37.681Z"
      },
      {
        "duration": 60,
        "start_time": "2023-01-09T11:59:51.824Z"
      },
      {
        "duration": 684,
        "start_time": "2023-01-09T12:01:28.075Z"
      },
      {
        "duration": 62,
        "start_time": "2023-01-09T12:01:32.730Z"
      },
      {
        "duration": 689,
        "start_time": "2023-01-09T12:01:54.610Z"
      },
      {
        "duration": 66,
        "start_time": "2023-01-09T12:02:00.323Z"
      },
      {
        "duration": 74,
        "start_time": "2023-01-09T12:02:19.771Z"
      },
      {
        "duration": 1211,
        "start_time": "2023-01-09T14:11:16.403Z"
      },
      {
        "duration": 222,
        "start_time": "2023-01-09T14:11:17.617Z"
      },
      {
        "duration": 12,
        "start_time": "2023-01-09T14:11:17.840Z"
      },
      {
        "duration": 4,
        "start_time": "2023-01-09T14:11:17.854Z"
      },
      {
        "duration": 9,
        "start_time": "2023-01-09T14:11:17.859Z"
      },
      {
        "duration": 5,
        "start_time": "2023-01-09T14:11:17.870Z"
      },
      {
        "duration": 39,
        "start_time": "2023-01-09T14:11:17.877Z"
      },
      {
        "duration": 7,
        "start_time": "2023-01-09T14:11:17.918Z"
      },
      {
        "duration": 14,
        "start_time": "2023-01-09T14:11:17.927Z"
      },
      {
        "duration": 7,
        "start_time": "2023-01-09T14:11:17.945Z"
      },
      {
        "duration": 11,
        "start_time": "2023-01-09T14:11:17.954Z"
      },
      {
        "duration": 19,
        "start_time": "2023-01-09T14:11:17.967Z"
      },
      {
        "duration": 5,
        "start_time": "2023-01-09T14:11:18.007Z"
      },
      {
        "duration": 13,
        "start_time": "2023-01-09T14:11:18.014Z"
      },
      {
        "duration": 11,
        "start_time": "2023-01-09T14:11:18.029Z"
      },
      {
        "duration": 5,
        "start_time": "2023-01-09T14:11:18.041Z"
      },
      {
        "duration": 65,
        "start_time": "2023-01-09T14:11:18.048Z"
      },
      {
        "duration": 307,
        "start_time": "2023-01-09T14:11:18.115Z"
      },
      {
        "duration": 0,
        "start_time": "2023-01-09T14:11:18.424Z"
      },
      {
        "duration": 0,
        "start_time": "2023-01-09T14:11:18.429Z"
      },
      {
        "duration": 0,
        "start_time": "2023-01-09T14:11:18.431Z"
      },
      {
        "duration": 0,
        "start_time": "2023-01-09T14:11:18.432Z"
      },
      {
        "duration": 0,
        "start_time": "2023-01-09T14:11:18.433Z"
      },
      {
        "duration": 0,
        "start_time": "2023-01-09T14:11:18.435Z"
      },
      {
        "duration": 0,
        "start_time": "2023-01-09T14:11:18.436Z"
      },
      {
        "duration": 0,
        "start_time": "2023-01-09T14:11:18.438Z"
      },
      {
        "duration": 0,
        "start_time": "2023-01-09T14:11:18.439Z"
      },
      {
        "duration": 0,
        "start_time": "2023-01-09T14:11:18.440Z"
      },
      {
        "duration": 0,
        "start_time": "2023-01-09T14:11:18.442Z"
      },
      {
        "duration": 666,
        "start_time": "2023-01-09T14:14:31.302Z"
      },
      {
        "duration": 1016,
        "start_time": "2023-01-10T08:45:58.759Z"
      },
      {
        "duration": 98,
        "start_time": "2023-01-10T08:45:59.777Z"
      },
      {
        "duration": 11,
        "start_time": "2023-01-10T08:45:59.877Z"
      },
      {
        "duration": 4,
        "start_time": "2023-01-10T08:45:59.890Z"
      },
      {
        "duration": 8,
        "start_time": "2023-01-10T08:45:59.895Z"
      },
      {
        "duration": 9,
        "start_time": "2023-01-10T08:45:59.904Z"
      },
      {
        "duration": 20,
        "start_time": "2023-01-10T08:45:59.914Z"
      },
      {
        "duration": 5,
        "start_time": "2023-01-10T08:45:59.935Z"
      },
      {
        "duration": 18,
        "start_time": "2023-01-10T08:45:59.942Z"
      },
      {
        "duration": 7,
        "start_time": "2023-01-10T08:45:59.963Z"
      },
      {
        "duration": 12,
        "start_time": "2023-01-10T08:45:59.971Z"
      },
      {
        "duration": 21,
        "start_time": "2023-01-10T08:45:59.985Z"
      },
      {
        "duration": 4,
        "start_time": "2023-01-10T08:46:00.008Z"
      },
      {
        "duration": 25,
        "start_time": "2023-01-10T08:46:00.013Z"
      },
      {
        "duration": 25,
        "start_time": "2023-01-10T08:46:00.040Z"
      },
      {
        "duration": 5,
        "start_time": "2023-01-10T08:46:00.066Z"
      },
      {
        "duration": 54,
        "start_time": "2023-01-10T08:46:00.072Z"
      },
      {
        "duration": 708,
        "start_time": "2023-01-10T08:46:00.128Z"
      },
      {
        "duration": 42136,
        "start_time": "2023-01-10T08:46:00.838Z"
      },
      {
        "duration": 54,
        "start_time": "2023-01-10T08:46:42.976Z"
      },
      {
        "duration": 670,
        "start_time": "2023-01-10T08:46:43.122Z"
      },
      {
        "duration": 41994,
        "start_time": "2023-01-10T08:46:43.794Z"
      },
      {
        "duration": 4,
        "start_time": "2023-01-10T08:47:25.789Z"
      },
      {
        "duration": 24,
        "start_time": "2023-01-10T08:47:25.794Z"
      },
      {
        "duration": 204,
        "start_time": "2023-01-10T08:47:25.821Z"
      },
      {
        "duration": 718,
        "start_time": "2023-01-10T08:47:26.028Z"
      },
      {
        "duration": 56389,
        "start_time": "2023-01-10T08:47:26.748Z"
      },
      {
        "duration": 719,
        "start_time": "2023-01-10T08:48:23.139Z"
      },
      {
        "duration": 76,
        "start_time": "2023-01-10T08:48:23.861Z"
      },
      {
        "duration": 11,
        "start_time": "2023-01-10T08:49:26.183Z"
      },
      {
        "duration": 4,
        "start_time": "2023-01-10T08:51:27.014Z"
      },
      {
        "duration": 46,
        "start_time": "2023-01-10T08:58:24.235Z"
      },
      {
        "duration": 100,
        "start_time": "2023-01-10T08:58:30.277Z"
      },
      {
        "duration": 12,
        "start_time": "2023-01-10T09:00:12.407Z"
      },
      {
        "duration": 1114,
        "start_time": "2023-01-10T09:00:38.098Z"
      },
      {
        "duration": 59,
        "start_time": "2023-01-10T09:00:39.214Z"
      },
      {
        "duration": 13,
        "start_time": "2023-01-10T09:00:39.276Z"
      },
      {
        "duration": 5,
        "start_time": "2023-01-10T09:00:39.291Z"
      },
      {
        "duration": 12,
        "start_time": "2023-01-10T09:00:39.298Z"
      },
      {
        "duration": 5,
        "start_time": "2023-01-10T09:00:39.312Z"
      },
      {
        "duration": 38,
        "start_time": "2023-01-10T09:00:39.319Z"
      },
      {
        "duration": 4,
        "start_time": "2023-01-10T09:00:39.359Z"
      },
      {
        "duration": 10,
        "start_time": "2023-01-10T09:00:39.365Z"
      },
      {
        "duration": 7,
        "start_time": "2023-01-10T09:00:39.377Z"
      },
      {
        "duration": 4,
        "start_time": "2023-01-10T09:00:39.385Z"
      },
      {
        "duration": 24,
        "start_time": "2023-01-10T09:00:39.390Z"
      },
      {
        "duration": 10,
        "start_time": "2023-01-10T09:00:39.415Z"
      },
      {
        "duration": 19,
        "start_time": "2023-01-10T09:00:39.427Z"
      },
      {
        "duration": 5,
        "start_time": "2023-01-10T09:00:39.447Z"
      },
      {
        "duration": 75,
        "start_time": "2023-01-10T09:00:39.453Z"
      },
      {
        "duration": 598,
        "start_time": "2023-01-10T09:00:39.530Z"
      },
      {
        "duration": 35652,
        "start_time": "2023-01-10T09:00:40.130Z"
      },
      {
        "duration": 42,
        "start_time": "2023-01-10T09:01:15.784Z"
      },
      {
        "duration": 608,
        "start_time": "2023-01-10T09:01:15.828Z"
      },
      {
        "duration": 35847,
        "start_time": "2023-01-10T09:01:16.437Z"
      },
      {
        "duration": 3,
        "start_time": "2023-01-10T09:01:52.286Z"
      },
      {
        "duration": 24,
        "start_time": "2023-01-10T09:01:52.291Z"
      },
      {
        "duration": 107,
        "start_time": "2023-01-10T09:01:52.317Z"
      },
      {
        "duration": 562,
        "start_time": "2023-01-10T09:01:52.427Z"
      },
      {
        "duration": 47762,
        "start_time": "2023-01-10T09:01:52.991Z"
      },
      {
        "duration": 606,
        "start_time": "2023-01-10T09:02:40.754Z"
      },
      {
        "duration": 75,
        "start_time": "2023-01-10T09:02:41.363Z"
      },
      {
        "duration": 10,
        "start_time": "2023-01-10T09:02:41.439Z"
      },
      {
        "duration": 24,
        "start_time": "2023-01-10T09:08:11.764Z"
      },
      {
        "duration": 12,
        "start_time": "2023-01-10T09:09:02.452Z"
      },
      {
        "duration": 1079,
        "start_time": "2023-01-10T09:09:23.306Z"
      },
      {
        "duration": 52,
        "start_time": "2023-01-10T09:09:24.387Z"
      },
      {
        "duration": 13,
        "start_time": "2023-01-10T09:09:24.440Z"
      },
      {
        "duration": 7,
        "start_time": "2023-01-10T09:09:24.455Z"
      },
      {
        "duration": 7,
        "start_time": "2023-01-10T09:09:24.463Z"
      },
      {
        "duration": 6,
        "start_time": "2023-01-10T09:09:24.472Z"
      },
      {
        "duration": 21,
        "start_time": "2023-01-10T09:09:24.480Z"
      },
      {
        "duration": 6,
        "start_time": "2023-01-10T09:09:24.521Z"
      },
      {
        "duration": 5,
        "start_time": "2023-01-10T09:09:24.528Z"
      },
      {
        "duration": 6,
        "start_time": "2023-01-10T09:09:24.536Z"
      },
      {
        "duration": 7,
        "start_time": "2023-01-10T09:09:24.544Z"
      },
      {
        "duration": 25,
        "start_time": "2023-01-10T09:09:24.552Z"
      },
      {
        "duration": 12,
        "start_time": "2023-01-10T09:09:24.580Z"
      },
      {
        "duration": 6,
        "start_time": "2023-01-10T09:09:24.622Z"
      },
      {
        "duration": 9,
        "start_time": "2023-01-10T09:09:24.630Z"
      },
      {
        "duration": 6,
        "start_time": "2023-01-10T09:09:24.641Z"
      },
      {
        "duration": 36,
        "start_time": "2023-01-10T09:09:24.648Z"
      },
      {
        "duration": 10,
        "start_time": "2023-01-10T09:09:24.685Z"
      },
      {
        "duration": 130,
        "start_time": "2023-01-10T09:09:24.697Z"
      },
      {
        "duration": 606,
        "start_time": "2023-01-10T09:09:24.829Z"
      },
      {
        "duration": 35428,
        "start_time": "2023-01-10T09:09:25.437Z"
      },
      {
        "duration": 161,
        "start_time": "2023-01-10T09:10:00.866Z"
      },
      {
        "duration": 539,
        "start_time": "2023-01-10T09:10:01.028Z"
      },
      {
        "duration": 35813,
        "start_time": "2023-01-10T09:10:01.569Z"
      },
      {
        "duration": 3,
        "start_time": "2023-01-10T09:10:37.384Z"
      },
      {
        "duration": 29,
        "start_time": "2023-01-10T09:10:37.389Z"
      },
      {
        "duration": 33,
        "start_time": "2023-01-10T09:10:37.419Z"
      },
      {
        "duration": 523,
        "start_time": "2023-01-10T09:10:37.525Z"
      },
      {
        "duration": 48017,
        "start_time": "2023-01-10T09:10:38.049Z"
      },
      {
        "duration": 629,
        "start_time": "2023-01-10T09:11:26.068Z"
      },
      {
        "duration": 61,
        "start_time": "2023-01-10T09:11:26.699Z"
      },
      {
        "duration": 1075,
        "start_time": "2023-01-10T09:16:21.111Z"
      },
      {
        "duration": 53,
        "start_time": "2023-01-10T09:16:22.188Z"
      },
      {
        "duration": 11,
        "start_time": "2023-01-10T09:16:22.243Z"
      },
      {
        "duration": 4,
        "start_time": "2023-01-10T09:16:22.256Z"
      },
      {
        "duration": 6,
        "start_time": "2023-01-10T09:16:22.261Z"
      },
      {
        "duration": 8,
        "start_time": "2023-01-10T09:16:22.269Z"
      },
      {
        "duration": 20,
        "start_time": "2023-01-10T09:16:22.278Z"
      },
      {
        "duration": 5,
        "start_time": "2023-01-10T09:16:22.321Z"
      },
      {
        "duration": 6,
        "start_time": "2023-01-10T09:16:22.327Z"
      },
      {
        "duration": 6,
        "start_time": "2023-01-10T09:16:22.335Z"
      },
      {
        "duration": 5,
        "start_time": "2023-01-10T09:16:22.343Z"
      },
      {
        "duration": 19,
        "start_time": "2023-01-10T09:16:22.350Z"
      },
      {
        "duration": 10,
        "start_time": "2023-01-10T09:16:22.370Z"
      },
      {
        "duration": 12,
        "start_time": "2023-01-10T09:16:22.381Z"
      },
      {
        "duration": 33,
        "start_time": "2023-01-10T09:16:22.394Z"
      },
      {
        "duration": 18,
        "start_time": "2023-01-10T09:16:22.428Z"
      },
      {
        "duration": 12,
        "start_time": "2023-01-10T09:16:22.447Z"
      },
      {
        "duration": 65,
        "start_time": "2023-01-10T09:16:22.461Z"
      },
      {
        "duration": 598,
        "start_time": "2023-01-10T09:16:22.530Z"
      },
      {
        "duration": 35599,
        "start_time": "2023-01-10T09:16:23.130Z"
      },
      {
        "duration": 93,
        "start_time": "2023-01-10T09:16:58.730Z"
      },
      {
        "duration": 509,
        "start_time": "2023-01-10T09:16:58.828Z"
      },
      {
        "duration": 35601,
        "start_time": "2023-01-10T09:16:59.339Z"
      },
      {
        "duration": 4,
        "start_time": "2023-01-10T09:17:34.942Z"
      },
      {
        "duration": 22,
        "start_time": "2023-01-10T09:17:34.947Z"
      },
      {
        "duration": 56,
        "start_time": "2023-01-10T09:17:34.970Z"
      },
      {
        "duration": 669,
        "start_time": "2023-01-10T09:17:35.028Z"
      },
      {
        "duration": 47655,
        "start_time": "2023-01-10T09:17:35.699Z"
      },
      {
        "duration": 657,
        "start_time": "2023-01-10T09:18:23.356Z"
      },
      {
        "duration": 72,
        "start_time": "2023-01-10T09:18:24.015Z"
      },
      {
        "duration": 9,
        "start_time": "2023-01-10T09:25:07.327Z"
      },
      {
        "duration": 8,
        "start_time": "2023-01-10T09:26:32.116Z"
      },
      {
        "duration": 8,
        "start_time": "2023-01-10T09:27:26.387Z"
      },
      {
        "duration": 94,
        "start_time": "2023-01-10T09:29:42.933Z"
      },
      {
        "duration": 8,
        "start_time": "2023-01-10T09:29:50.165Z"
      },
      {
        "duration": 403,
        "start_time": "2023-01-10T09:31:51.063Z"
      },
      {
        "duration": 7,
        "start_time": "2023-01-10T09:31:55.343Z"
      },
      {
        "duration": 7,
        "start_time": "2023-01-10T09:32:09.680Z"
      },
      {
        "duration": 35724,
        "start_time": "2023-01-10T09:33:57.353Z"
      },
      {
        "duration": 8,
        "start_time": "2023-01-10T09:35:04.633Z"
      },
      {
        "duration": 7,
        "start_time": "2023-01-10T09:36:24.826Z"
      },
      {
        "duration": 10,
        "start_time": "2023-01-10T09:37:01.483Z"
      },
      {
        "duration": 45,
        "start_time": "2023-01-10T09:37:53.276Z"
      },
      {
        "duration": 7,
        "start_time": "2023-01-10T09:37:56.963Z"
      },
      {
        "duration": 409,
        "start_time": "2023-01-10T09:38:37.091Z"
      },
      {
        "duration": 8,
        "start_time": "2023-01-10T09:38:41.852Z"
      },
      {
        "duration": 35422,
        "start_time": "2023-01-10T09:39:17.661Z"
      },
      {
        "duration": 7,
        "start_time": "2023-01-10T09:39:56.732Z"
      },
      {
        "duration": 102,
        "start_time": "2023-01-10T09:41:50.527Z"
      },
      {
        "duration": 7,
        "start_time": "2023-01-10T09:42:06.407Z"
      },
      {
        "duration": 427,
        "start_time": "2023-01-10T09:44:03.176Z"
      },
      {
        "duration": 8,
        "start_time": "2023-01-10T09:44:06.983Z"
      },
      {
        "duration": 47891,
        "start_time": "2023-01-10T09:44:52.841Z"
      },
      {
        "duration": 7,
        "start_time": "2023-01-10T09:45:52.521Z"
      },
      {
        "duration": 75,
        "start_time": "2023-01-10T09:54:58.874Z"
      },
      {
        "duration": 72,
        "start_time": "2023-01-10T10:01:22.574Z"
      },
      {
        "duration": 72,
        "start_time": "2023-01-10T10:01:26.982Z"
      },
      {
        "duration": 71,
        "start_time": "2023-01-10T10:01:34.767Z"
      },
      {
        "duration": 1098,
        "start_time": "2023-01-10T10:02:11.093Z"
      },
      {
        "duration": 53,
        "start_time": "2023-01-10T10:02:12.193Z"
      },
      {
        "duration": 12,
        "start_time": "2023-01-10T10:02:12.247Z"
      },
      {
        "duration": 32,
        "start_time": "2023-01-10T10:02:12.261Z"
      },
      {
        "duration": 17,
        "start_time": "2023-01-10T10:02:12.295Z"
      },
      {
        "duration": 31,
        "start_time": "2023-01-10T10:02:12.314Z"
      },
      {
        "duration": 36,
        "start_time": "2023-01-10T10:02:12.346Z"
      },
      {
        "duration": 19,
        "start_time": "2023-01-10T10:02:12.383Z"
      },
      {
        "duration": 29,
        "start_time": "2023-01-10T10:02:12.404Z"
      },
      {
        "duration": 14,
        "start_time": "2023-01-10T10:02:12.435Z"
      },
      {
        "duration": 34,
        "start_time": "2023-01-10T10:02:12.451Z"
      },
      {
        "duration": 31,
        "start_time": "2023-01-10T10:02:12.486Z"
      },
      {
        "duration": 13,
        "start_time": "2023-01-10T10:02:12.519Z"
      },
      {
        "duration": 20,
        "start_time": "2023-01-10T10:02:12.534Z"
      },
      {
        "duration": 44,
        "start_time": "2023-01-10T10:02:12.556Z"
      },
      {
        "duration": 32,
        "start_time": "2023-01-10T10:02:12.602Z"
      },
      {
        "duration": 18,
        "start_time": "2023-01-10T10:02:12.636Z"
      },
      {
        "duration": 51,
        "start_time": "2023-01-10T10:02:12.656Z"
      },
      {
        "duration": 115,
        "start_time": "2023-01-10T10:02:12.709Z"
      },
      {
        "duration": 502,
        "start_time": "2023-01-10T10:02:12.828Z"
      },
      {
        "duration": 35585,
        "start_time": "2023-01-10T10:02:13.332Z"
      },
      {
        "duration": 105,
        "start_time": "2023-01-10T10:02:48.921Z"
      },
      {
        "duration": 515,
        "start_time": "2023-01-10T10:02:49.027Z"
      },
      {
        "duration": 35925,
        "start_time": "2023-01-10T10:02:49.545Z"
      },
      {
        "duration": 7,
        "start_time": "2023-01-10T10:03:25.472Z"
      },
      {
        "duration": 12,
        "start_time": "2023-01-10T10:03:25.480Z"
      },
      {
        "duration": 40,
        "start_time": "2023-01-10T10:03:25.494Z"
      },
      {
        "duration": 93,
        "start_time": "2023-01-10T10:03:25.536Z"
      },
      {
        "duration": 478,
        "start_time": "2023-01-10T10:03:25.722Z"
      },
      {
        "duration": 47720,
        "start_time": "2023-01-10T10:03:26.201Z"
      },
      {
        "duration": 8,
        "start_time": "2023-01-10T10:04:13.923Z"
      },
      {
        "duration": 76,
        "start_time": "2023-01-10T10:04:13.932Z"
      },
      {
        "duration": 614,
        "start_time": "2023-01-10T10:04:14.009Z"
      },
      {
        "duration": 70,
        "start_time": "2023-01-10T10:04:14.625Z"
      },
      {
        "duration": 68,
        "start_time": "2023-01-10T10:05:42.481Z"
      },
      {
        "duration": 80,
        "start_time": "2023-01-10T10:05:50.337Z"
      },
      {
        "duration": 72,
        "start_time": "2023-01-10T10:05:57.576Z"
      },
      {
        "duration": 1011,
        "start_time": "2023-01-10T10:06:38.071Z"
      },
      {
        "duration": 52,
        "start_time": "2023-01-10T10:06:39.084Z"
      },
      {
        "duration": 11,
        "start_time": "2023-01-10T10:06:39.138Z"
      },
      {
        "duration": 15,
        "start_time": "2023-01-10T10:06:39.151Z"
      },
      {
        "duration": 18,
        "start_time": "2023-01-10T10:06:39.168Z"
      },
      {
        "duration": 23,
        "start_time": "2023-01-10T10:06:39.188Z"
      },
      {
        "duration": 28,
        "start_time": "2023-01-10T10:06:39.213Z"
      },
      {
        "duration": 7,
        "start_time": "2023-01-10T10:06:39.242Z"
      },
      {
        "duration": 18,
        "start_time": "2023-01-10T10:06:39.250Z"
      },
      {
        "duration": 20,
        "start_time": "2023-01-10T10:06:39.271Z"
      },
      {
        "duration": 10,
        "start_time": "2023-01-10T10:06:39.292Z"
      },
      {
        "duration": 25,
        "start_time": "2023-01-10T10:06:39.303Z"
      },
      {
        "duration": 10,
        "start_time": "2023-01-10T10:06:39.329Z"
      },
      {
        "duration": 19,
        "start_time": "2023-01-10T10:06:39.340Z"
      },
      {
        "duration": 17,
        "start_time": "2023-01-10T10:06:39.360Z"
      },
      {
        "duration": 19,
        "start_time": "2023-01-10T10:06:39.379Z"
      },
      {
        "duration": 18,
        "start_time": "2023-01-10T10:06:39.400Z"
      },
      {
        "duration": 22,
        "start_time": "2023-01-10T10:06:39.420Z"
      },
      {
        "duration": 81,
        "start_time": "2023-01-10T10:06:39.443Z"
      },
      {
        "duration": 496,
        "start_time": "2023-01-10T10:06:39.525Z"
      },
      {
        "duration": 35548,
        "start_time": "2023-01-10T10:06:40.022Z"
      },
      {
        "duration": 58,
        "start_time": "2023-01-10T10:07:15.572Z"
      },
      {
        "duration": 513,
        "start_time": "2023-01-10T10:07:15.723Z"
      },
      {
        "duration": 35576,
        "start_time": "2023-01-10T10:07:16.237Z"
      },
      {
        "duration": 11,
        "start_time": "2023-01-10T10:07:51.815Z"
      },
      {
        "duration": 7,
        "start_time": "2023-01-10T10:07:51.828Z"
      },
      {
        "duration": 31,
        "start_time": "2023-01-10T10:07:51.836Z"
      },
      {
        "duration": 154,
        "start_time": "2023-01-10T10:07:51.871Z"
      },
      {
        "duration": 532,
        "start_time": "2023-01-10T10:07:52.028Z"
      },
      {
        "duration": 47516,
        "start_time": "2023-01-10T10:07:52.561Z"
      },
      {
        "duration": 6,
        "start_time": "2023-01-10T10:08:40.079Z"
      },
      {
        "duration": 77,
        "start_time": "2023-01-10T10:08:40.087Z"
      },
      {
        "duration": 622,
        "start_time": "2023-01-10T10:08:40.165Z"
      },
      {
        "duration": 80,
        "start_time": "2023-01-10T10:08:40.788Z"
      },
      {
        "duration": 71,
        "start_time": "2023-01-10T10:09:56.836Z"
      },
      {
        "duration": 80,
        "start_time": "2023-01-10T10:10:19.051Z"
      },
      {
        "duration": 70,
        "start_time": "2023-01-10T10:10:24.252Z"
      },
      {
        "duration": 85,
        "start_time": "2023-01-10T10:11:16.372Z"
      },
      {
        "duration": 97,
        "start_time": "2023-01-10T10:11:25.437Z"
      },
      {
        "duration": 73,
        "start_time": "2023-01-10T10:11:39.405Z"
      },
      {
        "duration": 436,
        "start_time": "2023-01-10T10:12:39.413Z"
      },
      {
        "duration": 451,
        "start_time": "2023-01-10T10:13:04.742Z"
      },
      {
        "duration": 7,
        "start_time": "2023-01-10T10:13:12.723Z"
      },
      {
        "duration": 436,
        "start_time": "2023-01-10T10:13:49.438Z"
      },
      {
        "duration": 71,
        "start_time": "2023-01-10T10:14:10.831Z"
      },
      {
        "duration": 1002,
        "start_time": "2023-01-10T10:14:27.881Z"
      },
      {
        "duration": 53,
        "start_time": "2023-01-10T10:14:28.885Z"
      },
      {
        "duration": 13,
        "start_time": "2023-01-10T10:14:28.940Z"
      },
      {
        "duration": 3,
        "start_time": "2023-01-10T10:14:28.955Z"
      },
      {
        "duration": 6,
        "start_time": "2023-01-10T10:14:28.960Z"
      },
      {
        "duration": 4,
        "start_time": "2023-01-10T10:14:28.968Z"
      },
      {
        "duration": 23,
        "start_time": "2023-01-10T10:14:28.974Z"
      },
      {
        "duration": 25,
        "start_time": "2023-01-10T10:14:28.999Z"
      },
      {
        "duration": 5,
        "start_time": "2023-01-10T10:14:29.025Z"
      },
      {
        "duration": 28,
        "start_time": "2023-01-10T10:14:29.032Z"
      },
      {
        "duration": 7,
        "start_time": "2023-01-10T10:14:29.061Z"
      },
      {
        "duration": 22,
        "start_time": "2023-01-10T10:14:29.070Z"
      },
      {
        "duration": 15,
        "start_time": "2023-01-10T10:14:29.094Z"
      },
      {
        "duration": 25,
        "start_time": "2023-01-10T10:14:29.110Z"
      },
      {
        "duration": 12,
        "start_time": "2023-01-10T10:14:29.136Z"
      },
      {
        "duration": 7,
        "start_time": "2023-01-10T10:14:29.149Z"
      },
      {
        "duration": 11,
        "start_time": "2023-01-10T10:14:29.158Z"
      },
      {
        "duration": 38,
        "start_time": "2023-01-10T10:14:29.171Z"
      },
      {
        "duration": 112,
        "start_time": "2023-01-10T10:14:29.210Z"
      },
      {
        "duration": 501,
        "start_time": "2023-01-10T10:14:29.325Z"
      },
      {
        "duration": 35879,
        "start_time": "2023-01-10T10:14:29.827Z"
      },
      {
        "duration": 115,
        "start_time": "2023-01-10T10:15:05.707Z"
      },
      {
        "duration": 528,
        "start_time": "2023-01-10T10:15:05.824Z"
      },
      {
        "duration": 36647,
        "start_time": "2023-01-10T10:15:06.353Z"
      },
      {
        "duration": 6,
        "start_time": "2023-01-10T10:15:43.002Z"
      },
      {
        "duration": 26,
        "start_time": "2023-01-10T10:15:43.010Z"
      },
      {
        "duration": 40,
        "start_time": "2023-01-10T10:15:43.038Z"
      },
      {
        "duration": 149,
        "start_time": "2023-01-10T10:15:43.081Z"
      },
      {
        "duration": 444,
        "start_time": "2023-01-10T10:15:43.322Z"
      },
      {
        "duration": 48573,
        "start_time": "2023-01-10T10:15:43.768Z"
      },
      {
        "duration": 9,
        "start_time": "2023-01-10T10:16:32.343Z"
      },
      {
        "duration": 122,
        "start_time": "2023-01-10T10:16:32.353Z"
      },
      {
        "duration": 688,
        "start_time": "2023-01-10T10:16:32.476Z"
      },
      {
        "duration": 79,
        "start_time": "2023-01-10T10:16:33.166Z"
      },
      {
        "duration": 78,
        "start_time": "2023-01-10T10:16:39.449Z"
      },
      {
        "duration": 81,
        "start_time": "2023-01-10T10:16:43.857Z"
      },
      {
        "duration": 73,
        "start_time": "2023-01-10T10:16:47.633Z"
      },
      {
        "duration": 1010,
        "start_time": "2023-01-10T12:08:17.484Z"
      },
      {
        "duration": 53,
        "start_time": "2023-01-10T12:08:18.496Z"
      },
      {
        "duration": 12,
        "start_time": "2023-01-10T12:08:18.550Z"
      },
      {
        "duration": 10,
        "start_time": "2023-01-10T12:08:18.564Z"
      },
      {
        "duration": 12,
        "start_time": "2023-01-10T12:08:18.576Z"
      },
      {
        "duration": 7,
        "start_time": "2023-01-10T12:08:18.590Z"
      },
      {
        "duration": 33,
        "start_time": "2023-01-10T12:08:18.599Z"
      },
      {
        "duration": 6,
        "start_time": "2023-01-10T12:08:18.633Z"
      },
      {
        "duration": 10,
        "start_time": "2023-01-10T12:08:18.641Z"
      },
      {
        "duration": 18,
        "start_time": "2023-01-10T12:08:18.653Z"
      },
      {
        "duration": 9,
        "start_time": "2023-01-10T12:08:18.673Z"
      },
      {
        "duration": 21,
        "start_time": "2023-01-10T12:08:18.683Z"
      },
      {
        "duration": 20,
        "start_time": "2023-01-10T12:08:18.705Z"
      },
      {
        "duration": 12,
        "start_time": "2023-01-10T12:08:18.727Z"
      },
      {
        "duration": 12,
        "start_time": "2023-01-10T12:08:18.741Z"
      },
      {
        "duration": 11,
        "start_time": "2023-01-10T12:08:18.754Z"
      },
      {
        "duration": 23,
        "start_time": "2023-01-10T12:08:18.766Z"
      },
      {
        "duration": 12,
        "start_time": "2023-01-10T12:08:18.790Z"
      },
      {
        "duration": 118,
        "start_time": "2023-01-10T12:08:18.803Z"
      },
      {
        "duration": 518,
        "start_time": "2023-01-10T12:08:18.923Z"
      },
      {
        "duration": 35707,
        "start_time": "2023-01-10T12:08:19.443Z"
      },
      {
        "duration": 72,
        "start_time": "2023-01-10T12:08:55.152Z"
      },
      {
        "duration": 542,
        "start_time": "2023-01-10T12:08:55.228Z"
      },
      {
        "duration": 35649,
        "start_time": "2023-01-10T12:08:55.772Z"
      },
      {
        "duration": 7,
        "start_time": "2023-01-10T12:09:31.422Z"
      },
      {
        "duration": 18,
        "start_time": "2023-01-10T12:09:31.431Z"
      },
      {
        "duration": 20,
        "start_time": "2023-01-10T12:09:31.450Z"
      },
      {
        "duration": 57,
        "start_time": "2023-01-10T12:09:31.473Z"
      },
      {
        "duration": 525,
        "start_time": "2023-01-10T12:09:31.623Z"
      },
      {
        "duration": 47968,
        "start_time": "2023-01-10T12:09:32.150Z"
      },
      {
        "duration": 7,
        "start_time": "2023-01-10T12:10:20.120Z"
      },
      {
        "duration": 99,
        "start_time": "2023-01-10T12:10:20.129Z"
      },
      {
        "duration": 616,
        "start_time": "2023-01-10T12:10:20.230Z"
      },
      {
        "duration": 89,
        "start_time": "2023-01-10T12:10:20.847Z"
      },
      {
        "duration": 80,
        "start_time": "2023-01-10T12:12:20.326Z"
      },
      {
        "duration": 76,
        "start_time": "2023-01-10T12:12:51.374Z"
      },
      {
        "duration": 49,
        "start_time": "2023-01-10T16:54:41.863Z"
      },
      {
        "duration": 1120,
        "start_time": "2023-01-10T16:54:49.564Z"
      },
      {
        "duration": 117,
        "start_time": "2023-01-10T16:54:50.686Z"
      },
      {
        "duration": 13,
        "start_time": "2023-01-10T16:54:50.805Z"
      },
      {
        "duration": 15,
        "start_time": "2023-01-10T16:54:50.821Z"
      },
      {
        "duration": 6,
        "start_time": "2023-01-10T16:54:50.861Z"
      },
      {
        "duration": 5,
        "start_time": "2023-01-10T16:54:51.009Z"
      },
      {
        "duration": 20,
        "start_time": "2023-01-10T16:54:51.132Z"
      },
      {
        "duration": 6,
        "start_time": "2023-01-10T16:54:51.412Z"
      },
      {
        "duration": 5,
        "start_time": "2023-01-10T16:54:51.700Z"
      },
      {
        "duration": 8,
        "start_time": "2023-01-10T16:54:52.005Z"
      },
      {
        "duration": 5,
        "start_time": "2023-01-10T16:54:52.303Z"
      },
      {
        "duration": 6,
        "start_time": "2023-01-10T16:54:55.803Z"
      },
      {
        "duration": 10,
        "start_time": "2023-01-10T16:54:55.956Z"
      },
      {
        "duration": 5,
        "start_time": "2023-01-10T16:54:56.268Z"
      },
      {
        "duration": 13,
        "start_time": "2023-01-10T16:54:56.866Z"
      },
      {
        "duration": 19,
        "start_time": "2023-01-10T16:54:57.040Z"
      },
      {
        "duration": 67,
        "start_time": "2023-01-10T17:52:33.196Z"
      },
      {
        "duration": 809,
        "start_time": "2023-01-10T17:52:57.893Z"
      },
      {
        "duration": 17,
        "start_time": "2023-01-10T17:55:05.341Z"
      },
      {
        "duration": 808,
        "start_time": "2023-01-10T17:55:30.021Z"
      },
      {
        "duration": 953,
        "start_time": "2023-01-10T17:55:50.148Z"
      },
      {
        "duration": 5,
        "start_time": "2023-01-10T17:56:24.988Z"
      },
      {
        "duration": 13,
        "start_time": "2023-01-10T17:59:41.002Z"
      },
      {
        "duration": 7172,
        "start_time": "2023-01-10T18:00:24.123Z"
      },
      {
        "duration": 982,
        "start_time": "2023-01-10T18:00:31.297Z"
      },
      {
        "duration": 60,
        "start_time": "2023-01-10T18:00:32.280Z"
      },
      {
        "duration": 13,
        "start_time": "2023-01-10T18:00:32.342Z"
      },
      {
        "duration": 8,
        "start_time": "2023-01-10T18:00:32.357Z"
      },
      {
        "duration": 15,
        "start_time": "2023-01-10T18:00:32.366Z"
      },
      {
        "duration": 15,
        "start_time": "2023-01-10T18:00:32.383Z"
      },
      {
        "duration": 45,
        "start_time": "2023-01-10T18:00:32.401Z"
      },
      {
        "duration": 10,
        "start_time": "2023-01-10T18:00:32.448Z"
      },
      {
        "duration": 18,
        "start_time": "2023-01-10T18:00:32.462Z"
      },
      {
        "duration": 29,
        "start_time": "2023-01-10T18:00:32.483Z"
      },
      {
        "duration": 32,
        "start_time": "2023-01-10T18:00:32.514Z"
      },
      {
        "duration": 21,
        "start_time": "2023-01-10T18:00:32.549Z"
      },
      {
        "duration": 28,
        "start_time": "2023-01-10T18:00:32.572Z"
      },
      {
        "duration": 11,
        "start_time": "2023-01-10T18:00:32.603Z"
      },
      {
        "duration": 964,
        "start_time": "2023-01-10T18:00:32.616Z"
      },
      {
        "duration": 0,
        "start_time": "2023-01-10T18:00:33.582Z"
      },
      {
        "duration": 0,
        "start_time": "2023-01-10T18:00:33.583Z"
      },
      {
        "duration": 0,
        "start_time": "2023-01-10T18:00:33.584Z"
      },
      {
        "duration": 0,
        "start_time": "2023-01-10T18:00:33.586Z"
      },
      {
        "duration": 0,
        "start_time": "2023-01-10T18:00:33.587Z"
      },
      {
        "duration": 0,
        "start_time": "2023-01-10T18:00:33.589Z"
      },
      {
        "duration": 0,
        "start_time": "2023-01-10T18:00:33.590Z"
      },
      {
        "duration": 0,
        "start_time": "2023-01-10T18:00:33.592Z"
      },
      {
        "duration": 0,
        "start_time": "2023-01-10T18:00:33.596Z"
      },
      {
        "duration": 0,
        "start_time": "2023-01-10T18:00:33.597Z"
      },
      {
        "duration": 0,
        "start_time": "2023-01-10T18:00:33.600Z"
      },
      {
        "duration": 0,
        "start_time": "2023-01-10T18:00:33.601Z"
      },
      {
        "duration": 0,
        "start_time": "2023-01-10T18:00:33.603Z"
      },
      {
        "duration": 0,
        "start_time": "2023-01-10T18:00:33.604Z"
      },
      {
        "duration": 0,
        "start_time": "2023-01-10T18:00:33.606Z"
      },
      {
        "duration": 0,
        "start_time": "2023-01-10T18:00:33.608Z"
      },
      {
        "duration": 0,
        "start_time": "2023-01-10T18:00:33.608Z"
      },
      {
        "duration": 0,
        "start_time": "2023-01-10T18:00:33.610Z"
      },
      {
        "duration": 0,
        "start_time": "2023-01-10T18:00:33.611Z"
      },
      {
        "duration": 0,
        "start_time": "2023-01-10T18:00:33.612Z"
      },
      {
        "duration": 1135,
        "start_time": "2023-01-10T18:00:58.039Z"
      },
      {
        "duration": 1891,
        "start_time": "2023-01-10T18:01:26.431Z"
      },
      {
        "duration": 8,
        "start_time": "2023-01-10T18:02:03.030Z"
      },
      {
        "duration": 729,
        "start_time": "2023-01-10T18:02:54.366Z"
      },
      {
        "duration": 15,
        "start_time": "2023-01-10T18:03:33.480Z"
      },
      {
        "duration": 25,
        "start_time": "2023-01-10T18:04:06.703Z"
      },
      {
        "duration": 15,
        "start_time": "2023-01-10T18:04:18.599Z"
      },
      {
        "duration": 0,
        "start_time": "2023-01-10T18:06:33.222Z"
      },
      {
        "duration": 0,
        "start_time": "2023-01-10T18:06:33.223Z"
      },
      {
        "duration": 57,
        "start_time": "2023-01-10T18:06:37.794Z"
      },
      {
        "duration": 55,
        "start_time": "2023-01-10T18:07:04.456Z"
      },
      {
        "duration": 12,
        "start_time": "2023-01-10T18:07:36.639Z"
      },
      {
        "duration": 10,
        "start_time": "2023-01-10T18:09:58.877Z"
      },
      {
        "duration": 12,
        "start_time": "2023-01-10T18:10:23.701Z"
      },
      {
        "duration": 13,
        "start_time": "2023-01-10T18:11:11.509Z"
      },
      {
        "duration": 47,
        "start_time": "2023-01-10T18:11:26.896Z"
      },
      {
        "duration": 13,
        "start_time": "2023-01-10T18:11:27.091Z"
      },
      {
        "duration": 4,
        "start_time": "2023-01-10T18:11:27.402Z"
      },
      {
        "duration": 6,
        "start_time": "2023-01-10T18:11:27.524Z"
      },
      {
        "duration": 4,
        "start_time": "2023-01-10T18:11:27.676Z"
      },
      {
        "duration": 27,
        "start_time": "2023-01-10T18:11:27.819Z"
      },
      {
        "duration": 5,
        "start_time": "2023-01-10T18:11:28.101Z"
      },
      {
        "duration": 4,
        "start_time": "2023-01-10T18:11:28.391Z"
      },
      {
        "duration": 5,
        "start_time": "2023-01-10T18:11:28.668Z"
      },
      {
        "duration": 5,
        "start_time": "2023-01-10T18:11:28.971Z"
      },
      {
        "duration": 5,
        "start_time": "2023-01-10T18:11:32.196Z"
      },
      {
        "duration": 11,
        "start_time": "2023-01-10T18:11:32.428Z"
      },
      {
        "duration": 5,
        "start_time": "2023-01-10T18:11:33.748Z"
      },
      {
        "duration": 10,
        "start_time": "2023-01-10T18:11:40.051Z"
      },
      {
        "duration": 9,
        "start_time": "2023-01-10T18:12:46.000Z"
      },
      {
        "duration": 6,
        "start_time": "2023-01-10T18:13:00.332Z"
      },
      {
        "duration": 7,
        "start_time": "2023-01-10T18:13:12.566Z"
      },
      {
        "duration": 5,
        "start_time": "2023-01-10T18:13:34.707Z"
      },
      {
        "duration": 5,
        "start_time": "2023-01-10T18:14:06.219Z"
      },
      {
        "duration": 16,
        "start_time": "2023-01-10T18:14:32.074Z"
      },
      {
        "duration": 18,
        "start_time": "2023-01-10T18:14:53.676Z"
      },
      {
        "duration": 13,
        "start_time": "2023-01-10T18:17:17.056Z"
      },
      {
        "duration": 6,
        "start_time": "2023-01-10T18:17:44.784Z"
      },
      {
        "duration": 10,
        "start_time": "2023-01-10T18:17:45.071Z"
      },
      {
        "duration": 5,
        "start_time": "2023-01-10T18:17:46.028Z"
      },
      {
        "duration": 7,
        "start_time": "2023-01-10T18:17:49.231Z"
      },
      {
        "duration": 17,
        "start_time": "2023-01-10T18:17:50.464Z"
      },
      {
        "duration": 7,
        "start_time": "2023-01-10T18:18:05.944Z"
      },
      {
        "duration": 9,
        "start_time": "2023-01-10T18:18:06.203Z"
      },
      {
        "duration": 5,
        "start_time": "2023-01-10T18:18:06.607Z"
      },
      {
        "duration": 6,
        "start_time": "2023-01-10T18:18:07.335Z"
      },
      {
        "duration": 17,
        "start_time": "2023-01-10T18:18:08.194Z"
      },
      {
        "duration": 23,
        "start_time": "2023-01-10T18:19:22.589Z"
      },
      {
        "duration": 7,
        "start_time": "2023-01-10T18:27:22.973Z"
      },
      {
        "duration": 13,
        "start_time": "2023-01-10T18:27:23.153Z"
      },
      {
        "duration": 6,
        "start_time": "2023-01-10T18:27:23.490Z"
      },
      {
        "duration": 7,
        "start_time": "2023-01-10T18:27:28.083Z"
      },
      {
        "duration": 68,
        "start_time": "2023-01-10T18:27:31.202Z"
      },
      {
        "duration": 12,
        "start_time": "2023-01-10T18:27:38.493Z"
      },
      {
        "duration": 17,
        "start_time": "2023-01-10T18:30:44.146Z"
      },
      {
        "duration": 29,
        "start_time": "2023-01-10T18:36:09.887Z"
      },
      {
        "duration": 22,
        "start_time": "2023-01-10T18:37:29.438Z"
      },
      {
        "duration": 9,
        "start_time": "2023-01-10T18:37:37.531Z"
      },
      {
        "duration": 9,
        "start_time": "2023-01-10T18:37:37.690Z"
      },
      {
        "duration": 6,
        "start_time": "2023-01-10T18:37:37.974Z"
      },
      {
        "duration": 8,
        "start_time": "2023-01-10T18:37:40.221Z"
      },
      {
        "duration": 31,
        "start_time": "2023-01-10T18:37:41.173Z"
      },
      {
        "duration": 6,
        "start_time": "2023-01-10T18:38:13.709Z"
      },
      {
        "duration": 10,
        "start_time": "2023-01-10T18:38:13.869Z"
      },
      {
        "duration": 5,
        "start_time": "2023-01-10T18:38:14.173Z"
      },
      {
        "duration": 6,
        "start_time": "2023-01-10T18:38:15.764Z"
      },
      {
        "duration": 30,
        "start_time": "2023-01-10T18:38:16.453Z"
      },
      {
        "duration": 16,
        "start_time": "2023-01-10T18:42:08.116Z"
      },
      {
        "duration": 7,
        "start_time": "2023-01-10T18:42:11.532Z"
      },
      {
        "duration": 12,
        "start_time": "2023-01-10T18:42:11.691Z"
      },
      {
        "duration": 4,
        "start_time": "2023-01-10T18:42:11.964Z"
      },
      {
        "duration": 7,
        "start_time": "2023-01-10T18:42:12.798Z"
      },
      {
        "duration": 46,
        "start_time": "2023-01-10T18:42:13.093Z"
      },
      {
        "duration": 16,
        "start_time": "2023-01-10T18:45:02.459Z"
      },
      {
        "duration": 43,
        "start_time": "2023-01-10T18:57:16.860Z"
      },
      {
        "duration": 9,
        "start_time": "2023-01-10T18:57:43.356Z"
      },
      {
        "duration": 12,
        "start_time": "2023-01-10T18:57:43.594Z"
      },
      {
        "duration": 6,
        "start_time": "2023-01-10T18:57:43.955Z"
      },
      {
        "duration": 5,
        "start_time": "2023-01-10T18:57:44.601Z"
      },
      {
        "duration": 37,
        "start_time": "2023-01-10T18:57:44.769Z"
      },
      {
        "duration": 28,
        "start_time": "2023-01-10T18:57:46.697Z"
      },
      {
        "duration": 5,
        "start_time": "2023-01-10T19:00:41.167Z"
      },
      {
        "duration": 142,
        "start_time": "2023-01-10T19:00:57.728Z"
      },
      {
        "duration": 5,
        "start_time": "2023-01-10T19:01:03.328Z"
      },
      {
        "duration": 7,
        "start_time": "2023-01-10T19:03:10.299Z"
      },
      {
        "duration": 12,
        "start_time": "2023-01-10T19:03:10.462Z"
      },
      {
        "duration": 6,
        "start_time": "2023-01-10T19:03:10.725Z"
      },
      {
        "duration": 7,
        "start_time": "2023-01-10T19:03:11.296Z"
      },
      {
        "duration": 48,
        "start_time": "2023-01-10T19:03:11.431Z"
      },
      {
        "duration": 50,
        "start_time": "2023-01-10T19:03:14.002Z"
      },
      {
        "duration": 50,
        "start_time": "2023-01-10T19:09:52.258Z"
      },
      {
        "duration": 5,
        "start_time": "2023-01-10T19:15:52.642Z"
      },
      {
        "duration": 70,
        "start_time": "2023-01-10T19:15:54.110Z"
      },
      {
        "duration": 20,
        "start_time": "2023-01-10T19:15:54.481Z"
      },
      {
        "duration": 6,
        "start_time": "2023-01-10T19:15:55.314Z"
      },
      {
        "duration": 8,
        "start_time": "2023-01-10T19:15:55.673Z"
      },
      {
        "duration": 6,
        "start_time": "2023-01-10T19:15:55.957Z"
      },
      {
        "duration": 24,
        "start_time": "2023-01-10T19:15:56.156Z"
      },
      {
        "duration": 9,
        "start_time": "2023-01-10T19:15:56.729Z"
      },
      {
        "duration": 5,
        "start_time": "2023-01-10T19:15:57.762Z"
      },
      {
        "duration": 7,
        "start_time": "2023-01-10T19:15:59.482Z"
      },
      {
        "duration": 5,
        "start_time": "2023-01-10T19:16:01.977Z"
      },
      {
        "duration": 7,
        "start_time": "2023-01-10T19:16:48.601Z"
      },
      {
        "duration": 13,
        "start_time": "2023-01-10T19:16:49.514Z"
      },
      {
        "duration": 60,
        "start_time": "2023-01-10T19:17:01.659Z"
      },
      {
        "duration": 9,
        "start_time": "2023-01-10T19:17:11.897Z"
      },
      {
        "duration": 180,
        "start_time": "2023-01-10T19:17:16.257Z"
      },
      {
        "duration": 615,
        "start_time": "2023-01-10T19:17:18.244Z"
      },
      {
        "duration": 49500,
        "start_time": "2023-01-10T19:17:34.520Z"
      },
      {
        "duration": 10,
        "start_time": "2023-01-10T19:18:37.081Z"
      },
      {
        "duration": 249,
        "start_time": "2023-01-10T19:20:46.687Z"
      },
      {
        "duration": 566,
        "start_time": "2023-01-10T19:20:52.392Z"
      },
      {
        "duration": 7,
        "start_time": "2023-01-10T19:22:22.975Z"
      },
      {
        "duration": 43957,
        "start_time": "2023-01-10T19:22:26.813Z"
      },
      {
        "duration": 9,
        "start_time": "2023-01-10T19:23:48.883Z"
      },
      {
        "duration": 4,
        "start_time": "2023-01-10T19:23:58.726Z"
      },
      {
        "duration": 26,
        "start_time": "2023-01-10T19:24:00.190Z"
      },
      {
        "duration": 80,
        "start_time": "2023-01-10T19:24:03.664Z"
      },
      {
        "duration": 540,
        "start_time": "2023-01-10T19:24:04.853Z"
      },
      {
        "duration": 12,
        "start_time": "2023-01-10T19:24:22.133Z"
      },
      {
        "duration": 58820,
        "start_time": "2023-01-10T19:24:25.328Z"
      },
      {
        "duration": 8,
        "start_time": "2023-01-10T19:26:32.262Z"
      },
      {
        "duration": 2718,
        "start_time": "2023-01-10T19:32:32.479Z"
      },
      {
        "duration": 1054,
        "start_time": "2023-01-10T19:32:35.200Z"
      },
      {
        "duration": 68,
        "start_time": "2023-01-10T19:32:36.256Z"
      },
      {
        "duration": 19,
        "start_time": "2023-01-10T19:32:36.326Z"
      },
      {
        "duration": 49,
        "start_time": "2023-01-10T19:32:36.348Z"
      },
      {
        "duration": 14,
        "start_time": "2023-01-10T19:32:36.399Z"
      },
      {
        "duration": 6,
        "start_time": "2023-01-10T19:32:36.415Z"
      },
      {
        "duration": 32,
        "start_time": "2023-01-10T19:32:36.422Z"
      },
      {
        "duration": 20,
        "start_time": "2023-01-10T19:32:36.456Z"
      },
      {
        "duration": 25,
        "start_time": "2023-01-10T19:32:36.477Z"
      },
      {
        "duration": 15,
        "start_time": "2023-01-10T19:32:36.504Z"
      },
      {
        "duration": 12,
        "start_time": "2023-01-10T19:32:36.521Z"
      },
      {
        "duration": 46,
        "start_time": "2023-01-10T19:32:36.536Z"
      },
      {
        "duration": 13,
        "start_time": "2023-01-10T19:32:36.587Z"
      },
      {
        "duration": 19,
        "start_time": "2023-01-10T19:32:36.603Z"
      },
      {
        "duration": 69,
        "start_time": "2023-01-10T19:32:36.623Z"
      },
      {
        "duration": 34,
        "start_time": "2023-01-10T19:32:36.694Z"
      },
      {
        "duration": 18,
        "start_time": "2023-01-10T19:32:36.730Z"
      },
      {
        "duration": 209,
        "start_time": "2023-01-10T19:32:36.750Z"
      },
      {
        "duration": 682,
        "start_time": "2023-01-10T19:32:36.961Z"
      },
      {
        "duration": 44840,
        "start_time": "2023-01-10T19:32:37.645Z"
      },
      {
        "duration": 9,
        "start_time": "2023-01-10T19:33:22.487Z"
      },
      {
        "duration": 146,
        "start_time": "2023-01-10T19:33:22.501Z"
      },
      {
        "duration": 629,
        "start_time": "2023-01-10T19:33:22.650Z"
      },
      {
        "duration": 44994,
        "start_time": "2023-01-10T19:33:23.280Z"
      },
      {
        "duration": 7,
        "start_time": "2023-01-10T19:34:08.276Z"
      },
      {
        "duration": 13,
        "start_time": "2023-01-10T19:34:08.285Z"
      },
      {
        "duration": 21,
        "start_time": "2023-01-10T19:34:08.300Z"
      },
      {
        "duration": 137,
        "start_time": "2023-01-10T19:34:08.322Z"
      },
      {
        "duration": 652,
        "start_time": "2023-01-10T19:34:08.461Z"
      },
      {
        "duration": 63184,
        "start_time": "2023-01-10T19:34:09.115Z"
      },
      {
        "duration": 7,
        "start_time": "2023-01-10T19:35:12.301Z"
      },
      {
        "duration": 108,
        "start_time": "2023-01-10T19:35:12.310Z"
      },
      {
        "duration": 820,
        "start_time": "2023-01-10T19:35:12.420Z"
      },
      {
        "duration": 87,
        "start_time": "2023-01-10T19:35:13.248Z"
      },
      {
        "duration": 8048,
        "start_time": "2023-01-11T04:44:15.269Z"
      },
      {
        "duration": 963,
        "start_time": "2023-01-11T04:44:23.320Z"
      },
      {
        "duration": 195,
        "start_time": "2023-01-11T04:44:24.285Z"
      },
      {
        "duration": 15,
        "start_time": "2023-01-11T04:44:24.481Z"
      },
      {
        "duration": 4,
        "start_time": "2023-01-11T04:44:24.498Z"
      },
      {
        "duration": 14,
        "start_time": "2023-01-11T04:44:24.504Z"
      },
      {
        "duration": 6,
        "start_time": "2023-01-11T04:44:24.520Z"
      },
      {
        "duration": 25,
        "start_time": "2023-01-11T04:44:24.528Z"
      },
      {
        "duration": 26,
        "start_time": "2023-01-11T04:44:24.555Z"
      },
      {
        "duration": 5,
        "start_time": "2023-01-11T04:44:24.584Z"
      },
      {
        "duration": 7,
        "start_time": "2023-01-11T04:44:24.591Z"
      },
      {
        "duration": 6,
        "start_time": "2023-01-11T04:44:24.600Z"
      },
      {
        "duration": 11,
        "start_time": "2023-01-11T04:44:24.608Z"
      },
      {
        "duration": 17,
        "start_time": "2023-01-11T04:44:24.624Z"
      },
      {
        "duration": 40,
        "start_time": "2023-01-11T04:44:24.642Z"
      },
      {
        "duration": 14,
        "start_time": "2023-01-11T04:44:24.684Z"
      },
      {
        "duration": 50,
        "start_time": "2023-01-11T04:44:24.701Z"
      },
      {
        "duration": 65,
        "start_time": "2023-01-11T04:44:24.753Z"
      },
      {
        "duration": 9,
        "start_time": "2023-01-11T04:44:24.820Z"
      },
      {
        "duration": 58,
        "start_time": "2023-01-11T04:44:24.830Z"
      },
      {
        "duration": 539,
        "start_time": "2023-01-11T04:44:24.980Z"
      },
      {
        "duration": 35626,
        "start_time": "2023-01-11T04:44:25.521Z"
      },
      {
        "duration": 7,
        "start_time": "2023-01-11T04:45:01.148Z"
      },
      {
        "duration": 120,
        "start_time": "2023-01-11T04:45:01.158Z"
      },
      {
        "duration": 507,
        "start_time": "2023-01-11T04:45:01.280Z"
      },
      {
        "duration": 36839,
        "start_time": "2023-01-11T04:45:01.788Z"
      },
      {
        "duration": 7,
        "start_time": "2023-01-11T04:45:38.629Z"
      },
      {
        "duration": 14,
        "start_time": "2023-01-11T04:45:38.638Z"
      },
      {
        "duration": 28,
        "start_time": "2023-01-11T04:45:38.654Z"
      },
      {
        "duration": 100,
        "start_time": "2023-01-11T04:45:38.684Z"
      },
      {
        "duration": 553,
        "start_time": "2023-01-11T04:45:38.789Z"
      },
      {
        "duration": 49172,
        "start_time": "2023-01-11T04:45:39.344Z"
      },
      {
        "duration": 8,
        "start_time": "2023-01-11T04:46:28.517Z"
      },
      {
        "duration": 82,
        "start_time": "2023-01-11T04:46:28.527Z"
      },
      {
        "duration": 651,
        "start_time": "2023-01-11T04:46:28.611Z"
      },
      {
        "duration": 88,
        "start_time": "2023-01-11T04:46:29.264Z"
      },
      {
        "duration": 75,
        "start_time": "2023-01-11T04:50:08.224Z"
      },
      {
        "duration": 76,
        "start_time": "2023-01-11T04:50:20.090Z"
      },
      {
        "duration": 80,
        "start_time": "2023-01-11T04:51:27.075Z"
      },
      {
        "duration": 71,
        "start_time": "2023-01-11T04:51:36.315Z"
      },
      {
        "duration": 31,
        "start_time": "2023-01-11T04:52:11.805Z"
      },
      {
        "duration": 11,
        "start_time": "2023-01-11T04:52:15.308Z"
      },
      {
        "duration": 101,
        "start_time": "2023-01-11T04:52:36.701Z"
      },
      {
        "duration": 622,
        "start_time": "2023-01-11T04:52:41.884Z"
      },
      {
        "duration": 78,
        "start_time": "2023-01-11T04:52:44.801Z"
      },
      {
        "duration": 8,
        "start_time": "2023-01-11T05:02:23.608Z"
      },
      {
        "duration": 12,
        "start_time": "2023-01-11T05:02:24.035Z"
      },
      {
        "duration": 6,
        "start_time": "2023-01-11T05:02:24.555Z"
      },
      {
        "duration": 7,
        "start_time": "2023-01-11T05:02:25.403Z"
      },
      {
        "duration": 27,
        "start_time": "2023-01-11T05:02:26.043Z"
      },
      {
        "duration": 47,
        "start_time": "2023-01-11T05:02:30.280Z"
      },
      {
        "duration": 8,
        "start_time": "2023-01-11T05:02:54.802Z"
      },
      {
        "duration": 100,
        "start_time": "2023-01-11T05:02:55.684Z"
      },
      {
        "duration": 386,
        "start_time": "2023-01-11T05:02:56.692Z"
      },
      {
        "duration": 36219,
        "start_time": "2023-01-11T05:03:00.298Z"
      },
      {
        "duration": 441,
        "start_time": "2023-01-11T05:03:54.340Z"
      },
      {
        "duration": 36832,
        "start_time": "2023-01-11T05:03:54.783Z"
      },
      {
        "duration": 8,
        "start_time": "2023-01-11T05:04:31.616Z"
      },
      {
        "duration": 152,
        "start_time": "2023-01-11T05:04:31.626Z"
      },
      {
        "duration": 506,
        "start_time": "2023-01-11T05:04:31.781Z"
      },
      {
        "duration": 36482,
        "start_time": "2023-01-11T05:04:32.288Z"
      },
      {
        "duration": 11,
        "start_time": "2023-01-11T05:05:08.771Z"
      },
      {
        "duration": 5,
        "start_time": "2023-01-11T05:05:08.784Z"
      },
      {
        "duration": 15,
        "start_time": "2023-01-11T05:05:08.791Z"
      },
      {
        "duration": 174,
        "start_time": "2023-01-11T05:05:08.808Z"
      },
      {
        "duration": 531,
        "start_time": "2023-01-11T05:05:08.985Z"
      },
      {
        "duration": 48656,
        "start_time": "2023-01-11T05:05:09.518Z"
      },
      {
        "duration": 7,
        "start_time": "2023-01-11T05:05:58.178Z"
      },
      {
        "duration": 77,
        "start_time": "2023-01-11T05:05:58.187Z"
      },
      {
        "duration": 619,
        "start_time": "2023-01-11T05:05:58.265Z"
      },
      {
        "duration": 77,
        "start_time": "2023-01-11T05:05:58.885Z"
      },
      {
        "duration": 74,
        "start_time": "2023-01-11T05:06:13.182Z"
      },
      {
        "duration": 42,
        "start_time": "2023-01-11T05:07:07.880Z"
      },
      {
        "duration": 82,
        "start_time": "2023-01-11T05:07:25.799Z"
      },
      {
        "duration": 81,
        "start_time": "2023-01-11T05:07:49.034Z"
      },
      {
        "duration": 90,
        "start_time": "2023-01-11T05:09:49.258Z"
      },
      {
        "duration": 48,
        "start_time": "2023-01-11T05:27:34.598Z"
      },
      {
        "duration": 3,
        "start_time": "2023-01-11T05:27:41.438Z"
      },
      {
        "duration": 86,
        "start_time": "2023-01-11T05:27:49.877Z"
      },
      {
        "duration": 6,
        "start_time": "2023-01-11T05:29:39.160Z"
      },
      {
        "duration": 6,
        "start_time": "2023-01-11T05:29:50.128Z"
      },
      {
        "duration": 6,
        "start_time": "2023-01-11T05:30:08.223Z"
      },
      {
        "duration": 8,
        "start_time": "2023-01-11T05:31:34.681Z"
      },
      {
        "duration": 14,
        "start_time": "2023-01-11T05:32:15.483Z"
      }
    ],
    "kernelspec": {
      "display_name": "Python 3 (ipykernel)",
      "language": "python",
      "name": "python3"
    },
    "language_info": {
      "codemirror_mode": {
        "name": "ipython",
        "version": 3
      },
      "file_extension": ".py",
      "mimetype": "text/x-python",
      "name": "python",
      "nbconvert_exporter": "python",
      "pygments_lexer": "ipython3",
      "version": "3.9.5"
    },
    "toc": {
      "base_numbering": 1,
      "nav_menu": {},
      "number_sections": true,
      "sideBar": true,
      "skip_h1_title": true,
      "title_cell": "Содержание",
      "title_sidebar": "Contents",
      "toc_cell": true,
      "toc_position": {},
      "toc_section_display": true,
      "toc_window_display": false
    },
    "colab": {
      "provenance": [],
      "toc_visible": true,
      "include_colab_link": true
    }
  },
  "nbformat": 4,
  "nbformat_minor": 0
}