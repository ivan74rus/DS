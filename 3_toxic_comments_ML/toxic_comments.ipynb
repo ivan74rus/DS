{
 "cells": [
  {
   "cell_type": "markdown",
   "metadata": {
    "colab_type": "text",
    "id": "view-in-github"
   },
   "source": [
    "<a href=\"https://colab.research.google.com/github/ivan74rus/DS/blob/main/ML_%D0%BE%D0%B1%D1%80%D0%B0%D0%B1%D0%BE%D1%82%D0%BA%D0%B0_%D1%82%D0%B5%D0%BA%D1%81%D1%82%D0%B0_%D0%B1%D0%B5%D0%B7_%D0%BD%D0%B5%D0%B9%D1%80%D0%BE%D0%BD%D0%BE%D0%BA.ipynb\" target=\"_parent\"><img src=\"https://colab.research.google.com/assets/colab-badge.svg\" alt=\"Open In Colab\"/></a>"
   ]
  },
  {
   "cell_type": "markdown",
   "metadata": {
    "id": "-FtjQv6VZbjU"
   },
   "source": [
    "**Описание проекта**     \n",
    " Интернет Магазину нужен инструмент, который будет искать токсичные комментарии и отправлять их на модерацию. \n",
    "Необходимо обучить модель классифицировать комментарии на позитивные и негативные. В распоряжении набор данных с разметкой о токсичности правок.\n",
    "Необходимо построить  модель со значением метрики качества F1 не меньше 0.75. "
   ]
  },
  {
   "cell_type": "markdown",
   "metadata": {
    "id": "WBDyJA5dwBKh"
   },
   "source": [
    "## Импорты"
   ]
  },
  {
   "cell_type": "code",
   "execution_count": null,
   "metadata": {
    "colab": {
     "base_uri": "https://localhost:8080/"
    },
    "id": "2fF0yPfYwkp0",
    "outputId": "900eb7f7-4b0b-4ba4-806d-52ede2b9b941"
   },
   "outputs": [
    {
     "name": "stdout",
     "output_type": "stream",
     "text": [
      "pandas=1.2.4\n"
     ]
    }
   ],
   "source": [
    "import re\n",
    "import os\n",
    "import pandas as pd\n",
    "import spacy\n",
    "import joblib\n",
    "import nltk\n",
    "from nltk.corpus import stopwords as nltk_stopwords\n",
    "\n",
    "from sklearn.feature_extraction.text import TfidfVectorizer \n",
    "\n",
    "from sklearn.metrics import f1_score\n",
    "from sklearn.metrics import make_scorer\n",
    "\n",
    "from sklearn.model_selection import train_test_split\n",
    "from sklearn.model_selection import cross_val_score\n",
    "\n",
    "from sklearn.linear_model import LogisticRegression\n",
    "\n",
    "from catboost import CatBoostClassifier \n",
    "\n",
    "\n",
    "print(f'pandas={pd.__version__}')"
   ]
  },
  {
   "cell_type": "code",
   "execution_count": null,
   "metadata": {
    "id": "iXey7gZVZ9hy"
   },
   "outputs": [],
   "source": [
    "# настройки и константы\n",
    "#warnings.filterwarnings(\"ignore\")\n",
    "LOCAL_DATA_PATH = '/datasets/'"
   ]
  },
  {
   "cell_type": "markdown",
   "metadata": {
    "id": "zroWfKXDbFBc"
   },
   "source": [
    "# Загрузка и подготовка  данных."
   ]
  },
  {
   "cell_type": "code",
   "execution_count": null,
   "metadata": {
    "id": "jd1G7FCuZ99r"
   },
   "outputs": [],
   "source": [
    "try:\n",
    "    df = pd.read_csv(f'{LOCAL_DATA_PATH}toxic_comments.csv')\n",
    "except:\n",
    "    df = pd.read_csv(f'{os.getcwd()}/toxic_comments.csv')\n",
    "\n"
   ]
  },
  {
   "cell_type": "code",
   "execution_count": null,
   "metadata": {
    "colab": {
     "base_uri": "https://localhost:8080/",
     "height": 206
    },
    "id": "Nkjz_s9RZ-AS",
    "outputId": "ec0e5870-24a0-4e08-d218-7628ad566baa"
   },
   "outputs": [
    {
     "data": {
      "text/html": [
       "<div>\n",
       "<style scoped>\n",
       "    .dataframe tbody tr th:only-of-type {\n",
       "        vertical-align: middle;\n",
       "    }\n",
       "\n",
       "    .dataframe tbody tr th {\n",
       "        vertical-align: top;\n",
       "    }\n",
       "\n",
       "    .dataframe thead th {\n",
       "        text-align: right;\n",
       "    }\n",
       "</style>\n",
       "<table border=\"1\" class=\"dataframe\">\n",
       "  <thead>\n",
       "    <tr style=\"text-align: right;\">\n",
       "      <th></th>\n",
       "      <th>Unnamed: 0</th>\n",
       "      <th>text</th>\n",
       "      <th>toxic</th>\n",
       "    </tr>\n",
       "  </thead>\n",
       "  <tbody>\n",
       "    <tr>\n",
       "      <th>0</th>\n",
       "      <td>0</td>\n",
       "      <td>Explanation\\nWhy the edits made under my usern...</td>\n",
       "      <td>0</td>\n",
       "    </tr>\n",
       "    <tr>\n",
       "      <th>1</th>\n",
       "      <td>1</td>\n",
       "      <td>D'aww! He matches this background colour I'm s...</td>\n",
       "      <td>0</td>\n",
       "    </tr>\n",
       "    <tr>\n",
       "      <th>2</th>\n",
       "      <td>2</td>\n",
       "      <td>Hey man, I'm really not trying to edit war. It...</td>\n",
       "      <td>0</td>\n",
       "    </tr>\n",
       "    <tr>\n",
       "      <th>3</th>\n",
       "      <td>3</td>\n",
       "      <td>\"\\nMore\\nI can't make any real suggestions on ...</td>\n",
       "      <td>0</td>\n",
       "    </tr>\n",
       "    <tr>\n",
       "      <th>4</th>\n",
       "      <td>4</td>\n",
       "      <td>You, sir, are my hero. Any chance you remember...</td>\n",
       "      <td>0</td>\n",
       "    </tr>\n",
       "  </tbody>\n",
       "</table>\n",
       "</div>"
      ],
      "text/plain": [
       "   Unnamed: 0                                               text  toxic\n",
       "0           0  Explanation\\nWhy the edits made under my usern...      0\n",
       "1           1  D'aww! He matches this background colour I'm s...      0\n",
       "2           2  Hey man, I'm really not trying to edit war. It...      0\n",
       "3           3  \"\\nMore\\nI can't make any real suggestions on ...      0\n",
       "4           4  You, sir, are my hero. Any chance you remember...      0"
      ]
     },
     "execution_count": 4,
     "metadata": {},
     "output_type": "execute_result"
    }
   ],
   "source": [
    "df.head()"
   ]
  },
  {
   "cell_type": "code",
   "execution_count": null,
   "metadata": {
    "colab": {
     "base_uri": "https://localhost:8080/"
    },
    "id": "4y7Ef657Z-Cp",
    "outputId": "f698e1f9-78e0-40dd-f9bb-41ffd00cc92b"
   },
   "outputs": [
    {
     "name": "stdout",
     "output_type": "stream",
     "text": [
      "<class 'pandas.core.frame.DataFrame'>\n",
      "RangeIndex: 159292 entries, 0 to 159291\n",
      "Data columns (total 3 columns):\n",
      " #   Column      Non-Null Count   Dtype \n",
      "---  ------      --------------   ----- \n",
      " 0   Unnamed: 0  159292 non-null  int64 \n",
      " 1   text        159292 non-null  object\n",
      " 2   toxic       159292 non-null  int64 \n",
      "dtypes: int64(2), object(1)\n",
      "memory usage: 3.6+ MB\n"
     ]
    }
   ],
   "source": [
    "df.info()"
   ]
  },
  {
   "cell_type": "code",
   "execution_count": null,
   "metadata": {
    "id": "WxvFW2r7fcGQ"
   },
   "outputs": [],
   "source": [
    "df = df.drop(['Unnamed: 0'],axis=1)"
   ]
  },
  {
   "cell_type": "code",
   "execution_count": null,
   "metadata": {
    "colab": {
     "base_uri": "https://localhost:8080/",
     "height": 206
    },
    "id": "BjZCqSvKf0GI",
    "outputId": "08e0c1f7-3794-44ef-d7d9-0b94fa3c2b10"
   },
   "outputs": [
    {
     "data": {
      "text/html": [
       "<div>\n",
       "<style scoped>\n",
       "    .dataframe tbody tr th:only-of-type {\n",
       "        vertical-align: middle;\n",
       "    }\n",
       "\n",
       "    .dataframe tbody tr th {\n",
       "        vertical-align: top;\n",
       "    }\n",
       "\n",
       "    .dataframe thead th {\n",
       "        text-align: right;\n",
       "    }\n",
       "</style>\n",
       "<table border=\"1\" class=\"dataframe\">\n",
       "  <thead>\n",
       "    <tr style=\"text-align: right;\">\n",
       "      <th></th>\n",
       "      <th>text</th>\n",
       "      <th>toxic</th>\n",
       "    </tr>\n",
       "  </thead>\n",
       "  <tbody>\n",
       "    <tr>\n",
       "      <th>0</th>\n",
       "      <td>Explanation\\nWhy the edits made under my usern...</td>\n",
       "      <td>0</td>\n",
       "    </tr>\n",
       "    <tr>\n",
       "      <th>1</th>\n",
       "      <td>D'aww! He matches this background colour I'm s...</td>\n",
       "      <td>0</td>\n",
       "    </tr>\n",
       "    <tr>\n",
       "      <th>2</th>\n",
       "      <td>Hey man, I'm really not trying to edit war. It...</td>\n",
       "      <td>0</td>\n",
       "    </tr>\n",
       "    <tr>\n",
       "      <th>3</th>\n",
       "      <td>\"\\nMore\\nI can't make any real suggestions on ...</td>\n",
       "      <td>0</td>\n",
       "    </tr>\n",
       "    <tr>\n",
       "      <th>4</th>\n",
       "      <td>You, sir, are my hero. Any chance you remember...</td>\n",
       "      <td>0</td>\n",
       "    </tr>\n",
       "  </tbody>\n",
       "</table>\n",
       "</div>"
      ],
      "text/plain": [
       "                                                text  toxic\n",
       "0  Explanation\\nWhy the edits made under my usern...      0\n",
       "1  D'aww! He matches this background colour I'm s...      0\n",
       "2  Hey man, I'm really not trying to edit war. It...      0\n",
       "3  \"\\nMore\\nI can't make any real suggestions on ...      0\n",
       "4  You, sir, are my hero. Any chance you remember...      0"
      ]
     },
     "execution_count": 14,
     "metadata": {},
     "output_type": "execute_result"
    }
   ],
   "source": [
    "df.head()"
   ]
  },
  {
   "cell_type": "code",
   "execution_count": null,
   "metadata": {
    "colab": {
     "base_uri": "https://localhost:8080/"
    },
    "id": "cPVbX_idZ-FC",
    "outputId": "46379323-e590-41f4-fff2-c6848888d09c",
    "scrolled": true
   },
   "outputs": [
    {
     "data": {
      "text/plain": [
       "0    0.898388\n",
       "1    0.101612\n",
       "Name: toxic, dtype: float64"
      ]
     },
     "execution_count": 15,
     "metadata": {},
     "output_type": "execute_result"
    }
   ],
   "source": [
    "df['toxic'].value_counts(normalize=True)"
   ]
  },
  {
   "cell_type": "markdown",
   "metadata": {
    "id": "-SJsnjprZ-Hc"
   },
   "source": [
    "Данные загружены и обработаны.   \n",
    "Пропусков нет.    \n",
    "Налицо дисбаланс классов.  "
   ]
  },
  {
   "cell_type": "markdown",
   "metadata": {
    "id": "lTJcWW7Hw3wW"
   },
   "source": [
    "## Регулярные выражения(очистка от  лишних символов)"
   ]
  },
  {
   "cell_type": "code",
   "execution_count": null,
   "metadata": {
    "id": "_olES23ABtO3"
   },
   "outputs": [],
   "source": [
    "#функц \n",
    "def clear_text(text):\n",
    "    return \" \".join(re.sub(r'[^a-zA-Z]', ' ', text).split() )"
   ]
  },
  {
   "cell_type": "code",
   "execution_count": null,
   "metadata": {
    "colab": {
     "base_uri": "https://localhost:8080/",
     "height": 35
    },
    "id": "igt_TIs95Wrs",
    "outputId": "ab888b27-a5be-4114-cd5a-3abc98aba7ea"
   },
   "outputs": [
    {
     "data": {
      "text/plain": [
       "'Daww He matches a this background colour I'"
      ]
     },
     "execution_count": 21,
     "metadata": {},
     "output_type": "execute_result"
    }
   ],
   "source": [
    "clear_text ('Daww! He matches 545654 a@ this background colour I.')"
   ]
  },
  {
   "cell_type": "code",
   "execution_count": null,
   "metadata": {
    "id": "XGPFrsQj4N3m"
   },
   "outputs": [],
   "source": [
    "df['re_text'] = df['text'].map(clear_text)"
   ]
  },
  {
   "cell_type": "code",
   "execution_count": null,
   "metadata": {
    "colab": {
     "base_uri": "https://localhost:8080/",
     "height": 206
    },
    "id": "3pikf7VA_row",
    "outputId": "63686217-66fd-4f43-b90c-d4ebb754a9a6",
    "scrolled": true
   },
   "outputs": [
    {
     "data": {
      "text/html": [
       "<div>\n",
       "<style scoped>\n",
       "    .dataframe tbody tr th:only-of-type {\n",
       "        vertical-align: middle;\n",
       "    }\n",
       "\n",
       "    .dataframe tbody tr th {\n",
       "        vertical-align: top;\n",
       "    }\n",
       "\n",
       "    .dataframe thead th {\n",
       "        text-align: right;\n",
       "    }\n",
       "</style>\n",
       "<table border=\"1\" class=\"dataframe\">\n",
       "  <thead>\n",
       "    <tr style=\"text-align: right;\">\n",
       "      <th></th>\n",
       "      <th>text</th>\n",
       "      <th>toxic</th>\n",
       "      <th>re_text</th>\n",
       "    </tr>\n",
       "  </thead>\n",
       "  <tbody>\n",
       "    <tr>\n",
       "      <th>0</th>\n",
       "      <td>Explanation\\nWhy the edits made under my usern...</td>\n",
       "      <td>0</td>\n",
       "      <td>Explanation Why the edits made under my userna...</td>\n",
       "    </tr>\n",
       "    <tr>\n",
       "      <th>1</th>\n",
       "      <td>D'aww! He matches this background colour I'm s...</td>\n",
       "      <td>0</td>\n",
       "      <td>D aww He matches this background colour I m se...</td>\n",
       "    </tr>\n",
       "    <tr>\n",
       "      <th>2</th>\n",
       "      <td>Hey man, I'm really not trying to edit war. It...</td>\n",
       "      <td>0</td>\n",
       "      <td>Hey man I m really not trying to edit war It s...</td>\n",
       "    </tr>\n",
       "    <tr>\n",
       "      <th>3</th>\n",
       "      <td>\"\\nMore\\nI can't make any real suggestions on ...</td>\n",
       "      <td>0</td>\n",
       "      <td>More I can t make any real suggestions on impr...</td>\n",
       "    </tr>\n",
       "    <tr>\n",
       "      <th>4</th>\n",
       "      <td>You, sir, are my hero. Any chance you remember...</td>\n",
       "      <td>0</td>\n",
       "      <td>You sir are my hero Any chance you remember wh...</td>\n",
       "    </tr>\n",
       "  </tbody>\n",
       "</table>\n",
       "</div>"
      ],
      "text/plain": [
       "                                                text  toxic  \\\n",
       "0  Explanation\\nWhy the edits made under my usern...      0   \n",
       "1  D'aww! He matches this background colour I'm s...      0   \n",
       "2  Hey man, I'm really not trying to edit war. It...      0   \n",
       "3  \"\\nMore\\nI can't make any real suggestions on ...      0   \n",
       "4  You, sir, are my hero. Any chance you remember...      0   \n",
       "\n",
       "                                             re_text  \n",
       "0  Explanation Why the edits made under my userna...  \n",
       "1  D aww He matches this background colour I m se...  \n",
       "2  Hey man I m really not trying to edit war It s...  \n",
       "3  More I can t make any real suggestions on impr...  \n",
       "4  You sir are my hero Any chance you remember wh...  "
      ]
     },
     "execution_count": 23,
     "metadata": {},
     "output_type": "execute_result"
    }
   ],
   "source": [
    "df.head()"
   ]
  },
  {
   "cell_type": "markdown",
   "metadata": {
    "id": "ZGvwylr38CHs"
   },
   "source": [
    "## Лемматизация текста"
   ]
  },
  {
   "cell_type": "code",
   "execution_count": null,
   "metadata": {
    "id": "qTci4as-r35n"
   },
   "outputs": [],
   "source": [
    "nlp = spacy.load(\"en_core_web_sm\")"
   ]
  },
  {
   "cell_type": "code",
   "execution_count": null,
   "metadata": {
    "id": "Hi2ZQI3HsG9n"
   },
   "outputs": [],
   "source": [
    "# функц для лематиз текста\n",
    "def lemma_text(text):\n",
    "    doc = nlp(text)\n",
    "    return ' '.join([token.lemma_ for token in doc])"
   ]
  },
  {
   "cell_type": "code",
   "execution_count": null,
   "metadata": {
    "id": "x-KxdMJswXg1",
    "outputId": "eee9d52a-2af5-4f69-f627-12de4b5a63cd"
   },
   "outputs": [
    {
     "name": "stdout",
     "output_type": "stream",
     "text": [
      "CPU times: user 33min 35s, sys: 3.12 s, total: 33min 38s\n",
      "Wall time: 33min 42s\n"
     ]
    }
   ],
   "source": [
    "%%time\n",
    "#лемматизируем текст\n",
    "df['lemma_text'] = df['re_text'].map(lemma_text)"
   ]
  },
  {
   "cell_type": "code",
   "execution_count": null,
   "metadata": {
    "colab": {
     "base_uri": "https://localhost:8080/",
     "height": 424
    },
    "id": "YmWja9gi8a8B",
    "outputId": "358d47ff-a69d-4bc7-b6ef-44c5a646e03f"
   },
   "outputs": [
    {
     "data": {
      "text/html": [
       "<div>\n",
       "<style scoped>\n",
       "    .dataframe tbody tr th:only-of-type {\n",
       "        vertical-align: middle;\n",
       "    }\n",
       "\n",
       "    .dataframe tbody tr th {\n",
       "        vertical-align: top;\n",
       "    }\n",
       "\n",
       "    .dataframe thead th {\n",
       "        text-align: right;\n",
       "    }\n",
       "</style>\n",
       "<table border=\"1\" class=\"dataframe\">\n",
       "  <thead>\n",
       "    <tr style=\"text-align: right;\">\n",
       "      <th></th>\n",
       "      <th>text</th>\n",
       "      <th>toxic</th>\n",
       "      <th>re_text</th>\n",
       "      <th>lemma_text</th>\n",
       "    </tr>\n",
       "  </thead>\n",
       "  <tbody>\n",
       "    <tr>\n",
       "      <th>0</th>\n",
       "      <td>Explanation\\nWhy the edits made under my usern...</td>\n",
       "      <td>0</td>\n",
       "      <td>Explanation Why the edits made under my userna...</td>\n",
       "      <td>explanation why the edit make under my usernam...</td>\n",
       "    </tr>\n",
       "    <tr>\n",
       "      <th>1</th>\n",
       "      <td>D'aww! He matches this background colour I'm s...</td>\n",
       "      <td>0</td>\n",
       "      <td>D aww He matches this background colour I m se...</td>\n",
       "      <td>d aww he match this background colour I m seem...</td>\n",
       "    </tr>\n",
       "    <tr>\n",
       "      <th>2</th>\n",
       "      <td>Hey man, I'm really not trying to edit war. It...</td>\n",
       "      <td>0</td>\n",
       "      <td>Hey man I m really not trying to edit war It s...</td>\n",
       "      <td>hey man I m really not try to edit war it s ju...</td>\n",
       "    </tr>\n",
       "    <tr>\n",
       "      <th>3</th>\n",
       "      <td>\"\\nMore\\nI can't make any real suggestions on ...</td>\n",
       "      <td>0</td>\n",
       "      <td>More I can t make any real suggestions on impr...</td>\n",
       "      <td>More I can t make any real suggestion on impro...</td>\n",
       "    </tr>\n",
       "    <tr>\n",
       "      <th>4</th>\n",
       "      <td>You, sir, are my hero. Any chance you remember...</td>\n",
       "      <td>0</td>\n",
       "      <td>You sir are my hero Any chance you remember wh...</td>\n",
       "      <td>you sir be my hero any chance you remember wha...</td>\n",
       "    </tr>\n",
       "    <tr>\n",
       "      <th>...</th>\n",
       "      <td>...</td>\n",
       "      <td>...</td>\n",
       "      <td>...</td>\n",
       "      <td>...</td>\n",
       "    </tr>\n",
       "    <tr>\n",
       "      <th>159287</th>\n",
       "      <td>\":::::And for the second time of asking, when ...</td>\n",
       "      <td>0</td>\n",
       "      <td>And for the second time of asking when your vi...</td>\n",
       "      <td>and for the second time of ask when your view ...</td>\n",
       "    </tr>\n",
       "    <tr>\n",
       "      <th>159288</th>\n",
       "      <td>You should be ashamed of yourself \\n\\nThat is ...</td>\n",
       "      <td>0</td>\n",
       "      <td>You should be ashamed of yourself That is a ho...</td>\n",
       "      <td>you should be ashamed of yourself that be a ho...</td>\n",
       "    </tr>\n",
       "    <tr>\n",
       "      <th>159289</th>\n",
       "      <td>Spitzer \\n\\nUmm, theres no actual article for ...</td>\n",
       "      <td>0</td>\n",
       "      <td>Spitzer Umm theres no actual article for prost...</td>\n",
       "      <td>Spitzer Umm there s no actual article for pros...</td>\n",
       "    </tr>\n",
       "    <tr>\n",
       "      <th>159290</th>\n",
       "      <td>And it looks like it was actually you who put ...</td>\n",
       "      <td>0</td>\n",
       "      <td>And it looks like it was actually you who put ...</td>\n",
       "      <td>and it look like it be actually you who put on...</td>\n",
       "    </tr>\n",
       "    <tr>\n",
       "      <th>159291</th>\n",
       "      <td>\"\\nAnd ... I really don't think you understand...</td>\n",
       "      <td>0</td>\n",
       "      <td>And I really don t think you understand I came...</td>\n",
       "      <td>and I really don t think you understand I come...</td>\n",
       "    </tr>\n",
       "  </tbody>\n",
       "</table>\n",
       "<p>159292 rows × 4 columns</p>\n",
       "</div>"
      ],
      "text/plain": [
       "                                                     text  toxic  \\\n",
       "0       Explanation\\nWhy the edits made under my usern...      0   \n",
       "1       D'aww! He matches this background colour I'm s...      0   \n",
       "2       Hey man, I'm really not trying to edit war. It...      0   \n",
       "3       \"\\nMore\\nI can't make any real suggestions on ...      0   \n",
       "4       You, sir, are my hero. Any chance you remember...      0   \n",
       "...                                                   ...    ...   \n",
       "159287  \":::::And for the second time of asking, when ...      0   \n",
       "159288  You should be ashamed of yourself \\n\\nThat is ...      0   \n",
       "159289  Spitzer \\n\\nUmm, theres no actual article for ...      0   \n",
       "159290  And it looks like it was actually you who put ...      0   \n",
       "159291  \"\\nAnd ... I really don't think you understand...      0   \n",
       "\n",
       "                                                  re_text  \\\n",
       "0       Explanation Why the edits made under my userna...   \n",
       "1       D aww He matches this background colour I m se...   \n",
       "2       Hey man I m really not trying to edit war It s...   \n",
       "3       More I can t make any real suggestions on impr...   \n",
       "4       You sir are my hero Any chance you remember wh...   \n",
       "...                                                   ...   \n",
       "159287  And for the second time of asking when your vi...   \n",
       "159288  You should be ashamed of yourself That is a ho...   \n",
       "159289  Spitzer Umm theres no actual article for prost...   \n",
       "159290  And it looks like it was actually you who put ...   \n",
       "159291  And I really don t think you understand I came...   \n",
       "\n",
       "                                               lemma_text  \n",
       "0       explanation why the edit make under my usernam...  \n",
       "1       d aww he match this background colour I m seem...  \n",
       "2       hey man I m really not try to edit war it s ju...  \n",
       "3       More I can t make any real suggestion on impro...  \n",
       "4       you sir be my hero any chance you remember wha...  \n",
       "...                                                   ...  \n",
       "159287  and for the second time of ask when your view ...  \n",
       "159288  you should be ashamed of yourself that be a ho...  \n",
       "159289  Spitzer Umm there s no actual article for pros...  \n",
       "159290  and it look like it be actually you who put on...  \n",
       "159291  and I really don t think you understand I come...  \n",
       "\n",
       "[159292 rows x 4 columns]"
      ]
     },
     "execution_count": 27,
     "metadata": {},
     "output_type": "execute_result"
    }
   ],
   "source": [
    "df"
   ]
  },
  {
   "cell_type": "markdown",
   "metadata": {
    "id": "FMkrc2kEGKhR"
   },
   "source": [
    "### Сохраняем датасет с обработанным текстом"
   ]
  },
  {
   "cell_type": "code",
   "execution_count": null,
   "metadata": {
    "id": "tzlvFSePGKhS"
   },
   "outputs": [],
   "source": [
    "df.to_feather(f'{os.getcwd()}/lemm_comments.feather')"
   ]
  },
  {
   "cell_type": "markdown",
   "metadata": {
    "id": "5umddSgqgAJn"
   },
   "source": [
    "# Подготовка данных к ML    \n",
    "\n"
   ]
  },
  {
   "cell_type": "markdown",
   "metadata": {
    "id": "f1ViqADOCUxp"
   },
   "source": [
    "## Разбивка на train, test."
   ]
  },
  {
   "cell_type": "code",
   "execution_count": null,
   "metadata": {
    "id": "Pq3MeErjsBDE"
   },
   "outputs": [],
   "source": [
    "# загрузка DF с лемматизир и исходными тексами\n",
    "df = pd.read_feather(f'{os.getcwd()}/lemm_comments.feather')"
   ]
  },
  {
   "cell_type": "code",
   "execution_count": null,
   "metadata": {
    "id": "4bun4AUVZ-J2"
   },
   "outputs": [],
   "source": [
    "X_train, x_test, Y_train, y_test = train_test_split(df['lemma_text'], df['toxic'], test_size=0.33)\n"
   ]
  },
  {
   "cell_type": "markdown",
   "metadata": {
    "id": "YSVEBslvrB4I"
   },
   "source": [
    "Проверка на баланс классов после разбивки"
   ]
  },
  {
   "cell_type": "code",
   "execution_count": null,
   "metadata": {
    "colab": {
     "base_uri": "https://localhost:8080/"
    },
    "id": "AZncbXv0pzAh",
    "outputId": "6d604fae-7c0f-4d18-df03-fe2d9e730307"
   },
   "outputs": [
    {
     "data": {
      "text/plain": [
       "0.10215975638322793"
      ]
     },
     "execution_count": 5,
     "metadata": {},
     "output_type": "execute_result"
    }
   ],
   "source": [
    "Y_train.mean()"
   ]
  },
  {
   "cell_type": "code",
   "execution_count": null,
   "metadata": {
    "colab": {
     "base_uri": "https://localhost:8080/"
    },
    "id": "YId-5yn6pzDo",
    "outputId": "0b22efeb-f13e-435f-c747-21ecc166cd9d",
    "scrolled": true
   },
   "outputs": [
    {
     "data": {
      "text/plain": [
       "0.10050031388513707"
      ]
     },
     "execution_count": 6,
     "metadata": {},
     "output_type": "execute_result"
    }
   ],
   "source": [
    "y_test.mean()"
   ]
  },
  {
   "cell_type": "markdown",
   "metadata": {
    "id": "w9a6I4TJzB-f"
   },
   "source": [
    "## TF-IDF    \n",
    "векторизуем текст"
   ]
  },
  {
   "cell_type": "code",
   "execution_count": null,
   "metadata": {
    "colab": {
     "base_uri": "https://localhost:8080/"
    },
    "id": "cx44ltDzBtRt",
    "outputId": "d99e9749-ca2d-444a-9db1-e74bf8af09a0"
   },
   "outputs": [
    {
     "name": "stderr",
     "output_type": "stream",
     "text": [
      "[nltk_data] Downloading package stopwords to /home/jovyan/nltk_data...\n",
      "[nltk_data]   Package stopwords is already up-to-date!\n"
     ]
    }
   ],
   "source": [
    "nltk.download('stopwords')\n",
    "stopwords = list(nltk_stopwords.words('english'))\n",
    "count_tf_idf = TfidfVectorizer(stop_words=stopwords) \n"
   ]
  },
  {
   "cell_type": "code",
   "execution_count": null,
   "metadata": {
    "colab": {
     "base_uri": "https://localhost:8080/"
    },
    "id": "Xhy_5IU0C1js",
    "outputId": "fb4d2cbf-b4b0-4a1e-82f1-aca53b259bcf"
   },
   "outputs": [
    {
     "data": {
      "text/plain": [
       "(106725, 123761)"
      ]
     },
     "execution_count": 8,
     "metadata": {},
     "output_type": "execute_result"
    }
   ],
   "source": [
    "#трайн выборка \n",
    "X_train_tf_idf = count_tf_idf.fit_transform(X_train.values)\n",
    "X_train_tf_idf.shape"
   ]
  },
  {
   "cell_type": "code",
   "execution_count": null,
   "metadata": {
    "colab": {
     "base_uri": "https://localhost:8080/"
    },
    "id": "9YaQy1DpDTy-",
    "outputId": "9b7964aa-1ae3-4918-d651-293d3e2200d5"
   },
   "outputs": [
    {
     "data": {
      "text/plain": [
       "(52567, 123761)"
      ]
     },
     "execution_count": 9,
     "metadata": {},
     "output_type": "execute_result"
    }
   ],
   "source": [
    "# тест выборка\n",
    "x_test_tf_idf = count_tf_idf.transform(x_test.values)\n",
    "x_test_tf_idf.shape"
   ]
  },
  {
   "cell_type": "markdown",
   "metadata": {
    "id": "Vqg2XO1OFJO9"
   },
   "source": [
    "## ML"
   ]
  },
  {
   "cell_type": "markdown",
   "metadata": {
    "id": "Z1XTUUlgFeXz"
   },
   "source": [
    "### LogisticRegression"
   ]
  },
  {
   "cell_type": "code",
   "execution_count": null,
   "metadata": {
    "colab": {
     "base_uri": "https://localhost:8080/",
     "height": 109
    },
    "id": "JnyERSZKFmLA",
    "outputId": "508e7c57-e019-48b8-f514-219fb4b0f58a"
   },
   "outputs": [
    {
     "name": "stdout",
     "output_type": "stream",
     "text": [
      "CPU times: user 10 µs, sys: 11 µs, total: 21 µs\n",
      "Wall time: 25 µs\n"
     ]
    }
   ],
   "source": [
    "lr = LogisticRegression()"
   ]
  },
  {
   "cell_type": "code",
   "execution_count": null,
   "metadata": {
    "id": "EQLYX1CWGKhU",
    "outputId": "d4ced449-c015-423b-ccb2-42e5ccefc0a0"
   },
   "outputs": [
    {
     "name": "stdout",
     "output_type": "stream",
     "text": [
      "CPU times: user 32.9 s, sys: 41.2 s, total: 1min 14s\n",
      "Wall time: 1min 14s\n"
     ]
    }
   ],
   "source": [
    "%%time\n",
    "lr_f1_score = cross_val_score(lr, X_train_tf_idf, Y_train, cv=3 , scoring=make_scorer(f1_score) )"
   ]
  },
  {
   "cell_type": "code",
   "execution_count": null,
   "metadata": {
    "id": "SMXtRbZOGKhV",
    "outputId": "f05423c3-0eee-4270-a259-6b3948d913e7"
   },
   "outputs": [
    {
     "data": {
      "text/plain": [
       "array([0.69130661, 0.70636833, 0.70347437])"
      ]
     },
     "execution_count": 29,
     "metadata": {},
     "output_type": "execute_result"
    }
   ],
   "source": [
    "lr_f1_score"
   ]
  },
  {
   "cell_type": "code",
   "execution_count": null,
   "metadata": {
    "id": "AEWH5NMsGKhV",
    "outputId": "a6fc3a1e-f833-4e41-c5df-28ef3525a932"
   },
   "outputs": [
    {
     "data": {
      "text/plain": [
       "0.7003831046032566"
      ]
     },
     "execution_count": 30,
     "metadata": {},
     "output_type": "execute_result"
    }
   ],
   "source": [
    "lr_f1_score.mean()"
   ]
  },
  {
   "cell_type": "markdown",
   "metadata": {
    "id": "73UfJrAAF1P-"
   },
   "source": [
    "Метрика немного не дотягивает до необходимого порога "
   ]
  },
  {
   "cell_type": "markdown",
   "metadata": {
    "id": "QkOmPrY_go11"
   },
   "source": [
    "### CatBoostClassifier\n"
   ]
  },
  {
   "cell_type": "code",
   "execution_count": null,
   "metadata": {
    "colab": {
     "base_uri": "https://localhost:8080/"
    },
    "id": "jOGiIGHXZ-MO",
    "outputId": "71ffddcb-81c2-424c-f089-91610bab7048"
   },
   "outputs": [
    {
     "name": "stdout",
     "output_type": "stream",
     "text": [
      "CPU times: user 50 µs, sys: 56 µs, total: 106 µs\n",
      "Wall time: 109 µs\n"
     ]
    }
   ],
   "source": [
    "cat = CatBoostClassifier(verbose=False)"
   ]
  },
  {
   "cell_type": "code",
   "execution_count": null,
   "metadata": {
    "colab": {
     "base_uri": "https://localhost:8080/"
    },
    "id": "QCDN06e5g4GM",
    "outputId": "f2fe6344-91ce-4435-9d70-277b123f876f"
   },
   "outputs": [
    {
     "name": "stdout",
     "output_type": "stream",
     "text": [
      "CPU times: user 1h 10min 4s, sys: 34.9 s, total: 1h 10min 39s\n",
      "Wall time: 1h 11min 10s\n"
     ]
    }
   ],
   "source": [
    "%%time\n",
    "cat_f1_score = cross_val_score(cat, X_train_tf_idf, Y_train, cv=3 , scoring=make_scorer(f1_score) )"
   ]
  },
  {
   "cell_type": "code",
   "execution_count": null,
   "metadata": {
    "id": "tsm2w4UBGKhW",
    "outputId": "d426f67e-e92a-437f-84ea-3ce2b0e21504"
   },
   "outputs": [
    {
     "data": {
      "text/plain": [
       "array([0.73663561, 0.75197932, 0.7411151 ])"
      ]
     },
     "execution_count": 35,
     "metadata": {},
     "output_type": "execute_result"
    }
   ],
   "source": [
    "cat_f1_score"
   ]
  },
  {
   "cell_type": "code",
   "execution_count": null,
   "metadata": {
    "id": "GqQxGXrYGKhW",
    "outputId": "c9917d24-3e38-458c-8a59-80d64a1b28bc"
   },
   "outputs": [
    {
     "data": {
      "text/plain": [
       "0.7432433400064523"
      ]
     },
     "execution_count": 36,
     "metadata": {},
     "output_type": "execute_result"
    }
   ],
   "source": [
    "cat_f1_score.mean()"
   ]
  },
  {
   "cell_type": "markdown",
   "metadata": {
    "id": "RK4_jJ2eg4LS"
   },
   "source": [
    "Катбуст долго обучался , скор улучшился почти до заданного в условиях проекта."
   ]
  },
  {
   "cell_type": "markdown",
   "metadata": {
    "id": "5hcwLW2UuCOK"
   },
   "source": [
    "### CatBoost  text_features.\n",
    "Передадаим catboost лемматизированный и очищенный текст с помощью параметра text_features.  \n",
    "Сравним метрики."
   ]
  },
  {
   "cell_type": "code",
   "execution_count": null,
   "metadata": {
    "id": "Q9bAtpYP1QVl"
   },
   "outputs": [],
   "source": [
    "features_train = pd.DataFrame(X_train)\n",
    "features_test = pd.DataFrame(x_test)"
   ]
  },
  {
   "cell_type": "code",
   "execution_count": null,
   "metadata": {
    "id": "dL-UKaGkuJ5x"
   },
   "outputs": [],
   "source": [
    "text_features= ['lemma_text']\n",
    "cat_text = CatBoostClassifier(verbose=False, text_features=['lemma_text'])"
   ]
  },
  {
   "cell_type": "code",
   "execution_count": null,
   "metadata": {
    "colab": {
     "base_uri": "https://localhost:8080/"
    },
    "id": "S-_VO2ABuJ_A",
    "outputId": "8880b558-a438-458f-b047-d9854bceceb6"
   },
   "outputs": [
    {
     "name": "stdout",
     "output_type": "stream",
     "text": [
      "CPU times: user 18min 22s, sys: 2min 50s, total: 21min 13s\n",
      "Wall time: 21min 26s\n"
     ]
    }
   ],
   "source": [
    "%%time\n",
    "cat_text_f1_score = cross_val_score(cat_text, features_train, Y_train, cv=3 , scoring=make_scorer(f1_score) )"
   ]
  },
  {
   "cell_type": "code",
   "execution_count": null,
   "metadata": {
    "id": "1kJmocwWGKhX",
    "outputId": "8c4bfb98-732e-4d63-bbee-f2ed7ec5678a"
   },
   "outputs": [
    {
     "data": {
      "text/plain": [
       "array([0.77390259, 0.77451423, 0.77089448])"
      ]
     },
     "execution_count": 50,
     "metadata": {},
     "output_type": "execute_result"
    }
   ],
   "source": [
    "cat_text_f1_score"
   ]
  },
  {
   "cell_type": "code",
   "execution_count": null,
   "metadata": {
    "id": "yLxkCmoxGKhX",
    "outputId": "6af5f46d-a633-43db-bec8-11ee2df78b44"
   },
   "outputs": [
    {
     "data": {
      "text/plain": [
       "0.773103768180952"
      ]
     },
     "execution_count": 51,
     "metadata": {},
     "output_type": "execute_result"
    }
   ],
   "source": [
    "cat_text_f1_score.mean()"
   ]
  },
  {
   "cell_type": "markdown",
   "metadata": {
    "id": "0HwNY5RT5i6d"
   },
   "source": [
    "Итого получили лучший скор и меньшее время обучения модели по сравнению с TF_IDF.     Лучше использовать cat_boost с text_features"
   ]
  },
  {
   "cell_type": "markdown",
   "metadata": {
    "id": "-Rswv-2qGKhX"
   },
   "source": [
    "### Подбор гиперпараметров модели   \n",
    "Поробуем улучшить метрику, подбором гиперпараметров модели, показавшей лучший результат.   \n",
    "В нашем случае это catboost  с текстовыми фичами.   "
   ]
  },
  {
   "cell_type": "code",
   "execution_count": null,
   "metadata": {
    "id": "15b-xjX_GKhX"
   },
   "outputs": [],
   "source": [
    "model = CatBoostClassifier(verbose=False, text_features=['lemma_text'], iterations= 100)"
   ]
  },
  {
   "cell_type": "code",
   "execution_count": null,
   "metadata": {
    "id": "_kRiIuscGKhX",
    "outputId": "a7ea39e5-1389-401c-981b-43296b5d9761",
    "scrolled": true
   },
   "outputs": [
    {
     "name": "stderr",
     "output_type": "stream",
     "text": [
      "Custom logger is already specified. Specify more than one logger at same time is not thread safe."
     ]
    },
    {
     "name": "stdout",
     "output_type": "stream",
     "text": [
      "f1_best =  0.7690972009191883  при : learning_rate =  0.15 depth =  10\n",
      "CPU times: user 1h 11min 23s, sys: 2min 33s, total: 1h 13min 56s\n",
      "Wall time: 1h 14min 13s\n"
     ]
    }
   ],
   "source": [
    "%%time\n",
    "f1_best = 0\n",
    "for i in [0.1, 0.12, 0.15]:\n",
    "    for j in[5, 7, 10]:\n",
    "        model = CatBoostClassifier(iterations= 100,\n",
    "                                   verbose=False,\n",
    "                                   text_features=['lemma_text'], \n",
    "                                   learning_rate=i,\n",
    "                                   depth=j \n",
    "                                  )\n",
    "        f1  =  ( cross_val_score(model, features_train, Y_train, cv=3 , scoring=make_scorer(f1_score) )).mean()\n",
    "        if f1_best <= f1 :\n",
    "            f1_best = f1\n",
    "            learning_rate = i\n",
    "            depth = j\n",
    "             \n",
    "print ( 'f1_best = ', f1_best , ' при : learning_rate = ',learning_rate , \\\n",
    "           'depth = ',depth)"
   ]
  },
  {
   "cell_type": "markdown",
   "metadata": {
    "id": "WM61xQSbGKhX"
   },
   "source": [
    "Метрику не удалось улчшить."
   ]
  },
  {
   "cell_type": "markdown",
   "metadata": {
    "id": "DfJovcN1GKhY"
   },
   "source": [
    "## Применяем лучшию модель.      \n",
    "Самый лучший результат на CatBoost с текст фич на дефлотных параметрах.   \n",
    "Берем всю трайн выборку, на ней обучаем модель и применяем результат на тесте.   "
   ]
  },
  {
   "cell_type": "code",
   "execution_count": null,
   "metadata": {
    "id": "2GLmpDf4GKhY"
   },
   "outputs": [],
   "source": [
    "cat_text = CatBoostClassifier(verbose=False, text_features=['lemma_text'])"
   ]
  },
  {
   "cell_type": "code",
   "execution_count": null,
   "metadata": {
    "id": "la6MwfBIGKhY",
    "outputId": "7273363a-9af8-4dc2-8d37-27f1f74cd98c"
   },
   "outputs": [
    {
     "name": "stdout",
     "output_type": "stream",
     "text": [
      "CPU times: user 6min 23s, sys: 54.1 s, total: 7min 17s\n",
      "Wall time: 7min 20s\n"
     ]
    },
    {
     "data": {
      "text/plain": [
       "<catboost.core.CatBoostClassifier at 0x7f79cf4bb6d0>"
      ]
     },
     "execution_count": 12,
     "metadata": {},
     "output_type": "execute_result"
    }
   ],
   "source": [
    "%%time\n",
    "cat_text.fit(features_train, Y_train)"
   ]
  },
  {
   "cell_type": "code",
   "execution_count": null,
   "metadata": {
    "id": "725e3ByXGKhY",
    "outputId": "8ab64e64-1489-4846-f8b2-f83122b16af5"
   },
   "outputs": [
    {
     "data": {
      "text/plain": [
       "['/home/jovyan/work/cat_text.pkl']"
      ]
     },
     "execution_count": 19,
     "metadata": {},
     "output_type": "execute_result"
    }
   ],
   "source": [
    "# сохраняем модель для испольования дальнейшенго\n",
    "joblib.dump(cat_text, f'{os.getcwd()}/cat_text.pkl')"
   ]
  },
  {
   "cell_type": "code",
   "execution_count": null,
   "metadata": {
    "id": "sI9a1b-oGKhY",
    "outputId": "1ec44c53-def7-4f75-a858-7d6471b1803c"
   },
   "outputs": [
    {
     "data": {
      "text/plain": [
       "0.7826810990840967"
      ]
     },
     "execution_count": 20,
     "metadata": {},
     "output_type": "execute_result"
    }
   ],
   "source": [
    "f1_score(y_test , cat_text.predict(features_test))"
   ]
  },
  {
   "cell_type": "markdown",
   "metadata": {
    "id": "zJgNDXbtGKhY"
   },
   "source": [
    "Хороший результат и быстрое время обучения и без TF-IDF. КатБуст показал себя. Лучше только нейронки."
   ]
  },
  {
   "cell_type": "markdown",
   "metadata": {
    "id": "dZZ5YxwRGKhY"
   },
   "source": [
    "## Общий вывод."
   ]
  },
  {
   "cell_type": "markdown",
   "metadata": {
    "id": "T3zS_hPUGKhZ"
   },
   "source": [
    "1. Данные  загружены. Пропусков нет, какая то предобраюотка не требуется.    \n",
    "2. Текст  был очищен от от лишних символов.    \n",
    "3. Текст лемматизирован. Процес довольно долгий. Датасет с исходным и обработанным текстом был сохранен на диск. Чтобы  можно было пожгружать и дальше работать.   \n",
    "4. Выборка разбита на трейн и тест. На трайне проверяем модели с помощью кросс валидации.     \n",
    "5. С помощь TF-IDF текст был векторизован.     \n",
    "6. Проверены модели ЛинРегрессия и градиентный бустинг CatBoost.  А так же CatBosst  со встроенным модулем работы с текстовыми фичяами - text_features  на лемматизированом тексте без обработки/векторизации TF-IDF .  \n",
    "7. Лучший результат на CatBoost с текст фичами, так же скорость в несколько раз быстрее обучения, кроме того не требуется TF-IDF.   \n",
    "8. На данной модели был выпоплнен подбор гипер параметров, результат не уличшился по сравнеию с дефлот.    \n",
    "9. Была определена лучшая модель - CatBoost(text_features) , обучена на всей трайн выборке  и применнена на тест. \n",
    "10. Резултат достигнут. Метрика f1 > 0.75 на тест выборке."
   ]
  }
 ],
 "metadata": {
  "ExecuteTimeLog": [
   {
    "duration": 5110,
    "start_time": "2023-03-30T12:00:57.360Z"
   },
   {
    "duration": 2,
    "start_time": "2023-03-30T12:01:04.893Z"
   },
   {
    "duration": 396,
    "start_time": "2023-03-30T12:01:06.700Z"
   },
   {
    "duration": 22,
    "start_time": "2023-03-30T12:01:18.852Z"
   },
   {
    "duration": 49,
    "start_time": "2023-03-30T12:03:12.680Z"
   },
   {
    "duration": 84,
    "start_time": "2023-03-30T12:13:52.603Z"
   },
   {
    "duration": 53,
    "start_time": "2023-03-30T12:17:18.486Z"
   },
   {
    "duration": 5792,
    "start_time": "2023-03-30T12:17:25.917Z"
   },
   {
    "duration": 3,
    "start_time": "2023-03-30T12:17:35.546Z"
   },
   {
    "duration": 343,
    "start_time": "2023-03-30T12:17:37.538Z"
   },
   {
    "duration": 53,
    "start_time": "2023-03-31T04:30:14.642Z"
   },
   {
    "duration": 3871,
    "start_time": "2023-03-31T04:30:42.857Z"
   },
   {
    "duration": 319,
    "start_time": "2023-03-31T04:31:13.161Z"
   },
   {
    "duration": 3,
    "start_time": "2023-03-31T04:31:20.408Z"
   },
   {
    "duration": 42,
    "start_time": "2023-03-31T04:31:25.305Z"
   },
   {
    "duration": 38,
    "start_time": "2023-03-31T04:32:10.178Z"
   },
   {
    "duration": 71,
    "start_time": "2023-03-31T04:32:15.994Z"
   },
   {
    "duration": 65,
    "start_time": "2023-03-31T04:34:02.716Z"
   },
   {
    "duration": 3,
    "start_time": "2023-03-31T04:35:04.299Z"
   },
   {
    "duration": 3456,
    "start_time": "2023-03-31T04:35:06.043Z"
   },
   {
    "duration": 15,
    "start_time": "2023-03-31T04:36:33.811Z"
   },
   {
    "duration": 33,
    "start_time": "2023-03-31T04:36:34.979Z"
   },
   {
    "duration": 9,
    "start_time": "2023-03-31T04:36:37.347Z"
   },
   {
    "duration": 6,
    "start_time": "2023-03-31T04:36:37.780Z"
   },
   {
    "duration": 10,
    "start_time": "2023-03-31T04:36:41.740Z"
   },
   {
    "duration": 615,
    "start_time": "2023-03-31T04:37:39.669Z"
   },
   {
    "duration": 3,
    "start_time": "2023-03-31T04:41:18.278Z"
   },
   {
    "duration": 5,
    "start_time": "2023-03-31T04:42:38.537Z"
   },
   {
    "duration": 897,
    "start_time": "2023-03-31T04:42:40.081Z"
   },
   {
    "duration": 3,
    "start_time": "2023-03-31T04:42:49.639Z"
   },
   {
    "duration": 4,
    "start_time": "2023-03-31T04:42:51.633Z"
   },
   {
    "duration": 3775,
    "start_time": "2023-03-31T04:43:17.841Z"
   },
   {
    "duration": 7,
    "start_time": "2023-03-31T04:43:23.342Z"
   },
   {
    "duration": 420,
    "start_time": "2023-03-31T04:44:26.994Z"
   },
   {
    "duration": 3,
    "start_time": "2023-03-31T04:44:29.297Z"
   },
   {
    "duration": 2022457,
    "start_time": "2023-03-31T04:45:46.258Z"
   },
   {
    "duration": 24,
    "start_time": "2023-03-31T05:19:28.717Z"
   },
   {
    "duration": 3505,
    "start_time": "2023-03-31T05:23:09.838Z"
   },
   {
    "duration": 1666,
    "start_time": "2023-03-31T07:23:42.173Z"
   },
   {
    "duration": 17,
    "start_time": "2023-03-31T07:23:48.863Z"
   },
   {
    "duration": 1016,
    "start_time": "2023-03-31T07:23:56.963Z"
   },
   {
    "duration": 20,
    "start_time": "2023-03-31T07:24:08.891Z"
   },
   {
    "duration": 208,
    "start_time": "2023-03-31T07:32:54.675Z"
   },
   {
    "duration": 4899,
    "start_time": "2023-03-31T07:32:58.299Z"
   },
   {
    "duration": 51,
    "start_time": "2023-04-01T10:20:46.360Z"
   },
   {
    "duration": 4321,
    "start_time": "2023-04-01T12:19:25.050Z"
   },
   {
    "duration": 5,
    "start_time": "2023-04-01T12:19:47.149Z"
   },
   {
    "duration": 3929,
    "start_time": "2023-04-02T10:08:16.529Z"
   },
   {
    "duration": 3,
    "start_time": "2023-04-02T10:08:33.591Z"
   },
   {
    "duration": 3158,
    "start_time": "2023-04-02T10:08:34.760Z"
   },
   {
    "duration": 14,
    "start_time": "2023-04-02T10:08:37.920Z"
   },
   {
    "duration": 34,
    "start_time": "2023-04-02T10:08:38.174Z"
   },
   {
    "duration": 2522,
    "start_time": "2023-04-02T10:09:45.758Z"
   },
   {
    "duration": 30,
    "start_time": "2023-04-02T10:09:54.110Z"
   },
   {
    "duration": 4,
    "start_time": "2023-04-02T10:09:55.806Z"
   },
   {
    "duration": 5,
    "start_time": "2023-04-02T10:09:56.845Z"
   },
   {
    "duration": 143,
    "start_time": "2023-04-02T10:10:48.582Z"
   },
   {
    "duration": 4385,
    "start_time": "2023-04-02T10:10:50.517Z"
   },
   {
    "duration": 2114,
    "start_time": "2023-04-02T10:10:54.904Z"
   },
   {
    "duration": 44549,
    "start_time": "2023-04-02T10:12:39.418Z"
   },
   {
    "duration": 102,
    "start_time": "2023-04-02T10:13:23.970Z"
   },
   {
    "duration": 21,
    "start_time": "2023-04-02T10:13:24.074Z"
   },
   {
    "duration": 328,
    "start_time": "2023-04-02T10:18:29.287Z"
   },
   {
    "duration": 4,
    "start_time": "2023-04-02T10:18:46.505Z"
   },
   {
    "duration": 25,
    "start_time": "2023-04-02T10:19:33.393Z"
   },
   {
    "duration": 45,
    "start_time": "2023-04-02T10:20:56.096Z"
   },
   {
    "duration": 69,
    "start_time": "2023-04-02T10:21:39.608Z"
   },
   {
    "duration": 72228,
    "start_time": "2023-04-02T10:22:36.945Z"
   },
   {
    "duration": 19,
    "start_time": "2023-04-02T10:26:28.845Z"
   },
   {
    "duration": 19,
    "start_time": "2023-04-02T10:26:35.918Z"
   },
   {
    "duration": 19,
    "start_time": "2023-04-02T10:26:56.614Z"
   },
   {
    "duration": 5,
    "start_time": "2023-04-02T10:28:31.357Z"
   },
   {
    "duration": 75908,
    "start_time": "2023-04-02T10:29:09.068Z"
   },
   {
    "duration": 5,
    "start_time": "2023-04-02T10:34:19.937Z"
   },
   {
    "duration": 74201,
    "start_time": "2023-04-02T10:34:23.162Z"
   },
   {
    "duration": 4,
    "start_time": "2023-04-02T10:37:06.961Z"
   },
   {
    "duration": 4,
    "start_time": "2023-04-02T10:37:09.896Z"
   },
   {
    "duration": 31,
    "start_time": "2023-04-02T10:37:35.809Z"
   },
   {
    "duration": 2,
    "start_time": "2023-04-02T10:43:21.927Z"
   },
   {
    "duration": 4,
    "start_time": "2023-04-02T10:45:51.293Z"
   },
   {
    "duration": 4270881,
    "start_time": "2023-04-02T10:46:04.575Z"
   },
   {
    "duration": 7,
    "start_time": "2023-04-02T11:57:15.461Z"
   },
   {
    "duration": 10,
    "start_time": "2023-04-02T11:57:15.471Z"
   },
   {
    "duration": 11,
    "start_time": "2023-04-02T12:00:35.313Z"
   },
   {
    "duration": 3,
    "start_time": "2023-04-02T12:00:38.681Z"
   },
   {
    "duration": 2,
    "start_time": "2023-04-02T12:02:13.785Z"
   },
   {
    "duration": 54,
    "start_time": "2023-04-02T12:02:44.665Z"
   },
   {
    "duration": 10,
    "start_time": "2023-04-02T12:03:52.487Z"
   },
   {
    "duration": 79,
    "start_time": "2023-04-02T12:05:57.127Z"
   },
   {
    "duration": 83,
    "start_time": "2023-04-02T12:20:15.856Z"
   },
   {
    "duration": 5,
    "start_time": "2023-04-02T12:23:08.038Z"
   },
   {
    "duration": 4,
    "start_time": "2023-04-02T12:29:32.131Z"
   },
   {
    "duration": 22,
    "start_time": "2023-04-02T13:06:18.992Z"
   },
   {
    "duration": 11,
    "start_time": "2023-04-02T13:06:55.984Z"
   },
   {
    "duration": 3,
    "start_time": "2023-04-02T13:06:56.398Z"
   },
   {
    "duration": 1286456,
    "start_time": "2023-04-02T13:07:17.727Z"
   },
   {
    "duration": 10,
    "start_time": "2023-04-02T13:28:44.193Z"
   },
   {
    "duration": 4,
    "start_time": "2023-04-02T13:28:44.206Z"
   },
   {
    "duration": 7,
    "start_time": "2023-04-02T13:28:44.212Z"
   },
   {
    "duration": 15,
    "start_time": "2023-04-02T13:55:31.065Z"
   },
   {
    "duration": 59,
    "start_time": "2023-04-02T13:55:35.489Z"
   },
   {
    "duration": 89,
    "start_time": "2023-04-02T13:55:43.844Z"
   },
   {
    "duration": 89,
    "start_time": "2023-04-02T13:56:02.133Z"
   },
   {
    "duration": 78,
    "start_time": "2023-04-02T13:56:29.390Z"
   },
   {
    "duration": 313,
    "start_time": "2023-04-02T13:56:41.204Z"
   },
   {
    "duration": 20,
    "start_time": "2023-04-02T15:04:37.247Z"
   },
   {
    "duration": 20,
    "start_time": "2023-04-02T15:04:46.809Z"
   },
   {
    "duration": 4,
    "start_time": "2023-04-02T15:05:21.367Z"
   },
   {
    "duration": 18,
    "start_time": "2023-04-02T15:06:51.399Z"
   },
   {
    "duration": 25,
    "start_time": "2023-04-02T15:06:56.526Z"
   },
   {
    "duration": 18,
    "start_time": "2023-04-02T15:07:27.318Z"
   },
   {
    "duration": 8,
    "start_time": "2023-04-02T15:07:48.046Z"
   },
   {
    "duration": 25,
    "start_time": "2023-04-02T15:07:55.046Z"
   },
   {
    "duration": 3,
    "start_time": "2023-04-02T15:08:09.053Z"
   },
   {
    "duration": 4534,
    "start_time": "2023-04-02T15:08:12.886Z"
   },
   {
    "duration": 71079,
    "start_time": "2023-04-02T15:08:22.725Z"
   },
   {
    "duration": 3108862,
    "start_time": "2023-04-02T15:09:37.429Z"
   },
   {
    "duration": 150632,
    "start_time": "2023-04-02T16:01:29.290Z"
   },
   {
    "duration": 4,
    "start_time": "2023-04-02T16:12:05.491Z"
   },
   {
    "duration": 82,
    "start_time": "2023-04-02T16:12:19.546Z"
   },
   {
    "duration": 35283,
    "start_time": "2023-04-02T16:16:49.617Z"
   },
   {
    "duration": 75,
    "start_time": "2023-04-02T16:17:43.688Z"
   },
   {
    "duration": 2,
    "start_time": "2023-04-02T16:17:52.609Z"
   },
   {
    "duration": 153004,
    "start_time": "2023-04-02T16:17:56.394Z"
   },
   {
    "duration": 12,
    "start_time": "2023-04-02T16:20:29.400Z"
   },
   {
    "duration": 33,
    "start_time": "2023-04-02T16:20:58.047Z"
   },
   {
    "duration": 113,
    "start_time": "2023-04-02T16:21:09.361Z"
   },
   {
    "duration": 16,
    "start_time": "2023-04-02T16:44:14.457Z"
   },
   {
    "duration": 3276903,
    "start_time": "2023-04-02T16:44:29.118Z"
   },
   {
    "duration": 31,
    "start_time": "2023-04-02T18:25:55.678Z"
   },
   {
    "duration": 11332,
    "start_time": "2023-04-02T18:26:33.197Z"
   },
   {
    "duration": 4453561,
    "start_time": "2023-04-02T18:27:22.638Z"
   },
   {
    "duration": 28,
    "start_time": "2023-04-02T19:57:46.484Z"
   },
   {
    "duration": 6269,
    "start_time": "2023-04-02T19:58:23.037Z"
   },
   {
    "duration": 5732,
    "start_time": "2023-04-02T19:58:56.941Z"
   },
   {
    "duration": 67,
    "start_time": "2023-04-02T20:02:20.227Z"
   },
   {
    "duration": 163562,
    "start_time": "2023-04-02T20:02:41.795Z"
   },
   {
    "duration": 6,
    "start_time": "2023-04-02T20:05:25.360Z"
   },
   {
    "duration": 3724,
    "start_time": "2023-04-03T04:09:44.197Z"
   },
   {
    "duration": 2,
    "start_time": "2023-04-03T04:09:47.923Z"
   },
   {
    "duration": 2471,
    "start_time": "2023-04-03T04:10:03.040Z"
   },
   {
    "duration": 35,
    "start_time": "2023-04-03T04:10:05.513Z"
   },
   {
    "duration": 8,
    "start_time": "2023-04-03T04:10:06.423Z"
   },
   {
    "duration": 4,
    "start_time": "2023-04-03T04:10:06.832Z"
   },
   {
    "duration": 338,
    "start_time": "2023-04-03T04:10:13.424Z"
   },
   {
    "duration": 4232,
    "start_time": "2023-04-03T04:10:15.527Z"
   },
   {
    "duration": 1854,
    "start_time": "2023-04-03T04:10:19.760Z"
   },
   {
    "duration": 10,
    "start_time": "2023-04-03T04:12:23.917Z"
   },
   {
    "duration": 2,
    "start_time": "2023-04-03T04:14:23.859Z"
   },
   {
    "duration": 440730,
    "start_time": "2023-04-03T04:14:24.650Z"
   },
   {
    "duration": 100,
    "start_time": "2023-04-03T04:21:45.382Z"
   },
   {
    "duration": 3463,
    "start_time": "2023-04-03T04:21:53.737Z"
   },
   {
    "duration": 17,
    "start_time": "2023-04-03T04:22:12.137Z"
   },
   {
    "duration": 6,
    "start_time": "2023-04-03T04:22:15.457Z"
   },
   {
    "duration": 4,
    "start_time": "2023-04-03T04:22:28.169Z"
   },
   {
    "duration": 3141,
    "start_time": "2023-04-03T04:22:48.210Z"
   },
   {
    "duration": 331,
    "start_time": "2023-04-03T04:25:07.284Z"
   },
   {
    "duration": 3963,
    "start_time": "2023-04-03T04:25:31.028Z"
   }
  ],
  "colab": {
   "include_colab_link": true,
   "provenance": [],
   "toc_visible": true
  },
  "gpuClass": "standard",
  "kernelspec": {
   "display_name": "Python 3 (ipykernel)",
   "language": "python",
   "name": "python3"
  },
  "language_info": {
   "codemirror_mode": {
    "name": "ipython",
    "version": 3
   },
   "file_extension": ".py",
   "mimetype": "text/x-python",
   "name": "python",
   "nbconvert_exporter": "python",
   "pygments_lexer": "ipython3",
   "version": "3.9.13"
  },
  "toc": {
   "base_numbering": 1,
   "nav_menu": {},
   "number_sections": true,
   "sideBar": true,
   "skip_h1_title": true,
   "title_cell": "Table of Contents",
   "title_sidebar": "Contents",
   "toc_cell": false,
   "toc_position": {
    "height": "calc(100% - 180px)",
    "left": "10px",
    "top": "150px",
    "width": "356.594px"
   },
   "toc_section_display": true,
   "toc_window_display": true
  }
 },
 "nbformat": 4,
 "nbformat_minor": 1
}
