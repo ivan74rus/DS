{
  "nbformat": 4,
  "nbformat_minor": 0,
  "metadata": {
    "colab": {
      "provenance": [],
      "mount_file_id": "1UffclFiH1TH8ti6cgVmCVJIlNh1lXjIx",
      "authorship_tag": "ABX9TyPf17ebZnp7nZivZanvGIV9",
      "include_colab_link": true
    },
    "kernelspec": {
      "name": "python3",
      "display_name": "Python 3"
    },
    "language_info": {
      "name": "python"
    }
  },
  "cells": [
    {
      "cell_type": "markdown",
      "metadata": {
        "id": "view-in-github",
        "colab_type": "text"
      },
      "source": [
        "<a href=\"https://colab.research.google.com/github/ivan74rus/DS/blob/main/forts_analyse_%D1%86%D0%B8%D0%BA%D0%BB_%D1%81%D0%BE%D0%B7%D0%B4_%D0%BE%D0%B1%D1%89%D0%B5%D0%B3%D0%BE_%D0%B4%D1%81_v2_ipynb%22%22.ipynb\" target=\"_parent\"><img src=\"https://colab.research.google.com/assets/colab-badge.svg\" alt=\"Open In Colab\"/></a>"
      ]
    },
    {
      "cell_type": "markdown",
      "source": [
        "Для автоматизации  \n",
        "Сделки берем с кул скальпа   , актив уже выбран     \n",
        "Создаем с pll файлы из csv   \n",
        "Сохраняем списк \n",
        "Далее  циклом клеим общий файл.     \n",
        "       \n",
        "Сливаем их в общий файл корректно, те выкидываем лишние строки и создаем таргеты    \n",
        "\n"
      ],
      "metadata": {
        "id": "NDFJ8YZgwOLp"
      }
    },
    {
      "cell_type": "markdown",
      "source": [],
      "metadata": {
        "id": "G_xOu4W7VnK2"
      }
    },
    {
      "cell_type": "code",
      "source": [
        "#подключить гугл диск\n",
        "from google.colab import drive\n",
        "drive.mount('/content/drive')"
      ],
      "metadata": {
        "id": "bfB7f6PGYJ8Z",
        "colab": {
          "base_uri": "https://localhost:8080/"
        },
        "outputId": "60aa4ed1-0ac8-46d0-b0e9-878cce9a6c01"
      },
      "execution_count": null,
      "outputs": [
        {
          "output_type": "stream",
          "name": "stdout",
          "text": [
            "Mounted at /content/drive\n"
          ]
        }
      ]
    },
    {
      "cell_type": "code",
      "source": [
        "import pandas as pd\n",
        "from datetime import datetime"
      ],
      "metadata": {
        "id": "_rFkNmInIuNH"
      },
      "execution_count": null,
      "outputs": []
    },
    {
      "cell_type": "markdown",
      "source": [
        "# 1.Лист с именами файлов для трансофрма в пикл.\n"
      ],
      "metadata": {
        "id": "tJ0mpsUBV1Fd"
      }
    },
    {
      "cell_type": "code",
      "source": [
        "list_data =['si_2022_12_15.csv', \n",
        "            'deals_31_10_22.xlsx',\n",
        "            'deals_01_11_22_day',\n",
        "            'deals_02_11_22_day.xlsx',\n",
        "            'deals_07_11_22_day.xlsx',\n",
        "            'deals_08_11_22_day.xlsx',\n",
        "            'deals_09_11_22_day.xlsx',\n",
        "            'deals_10_11_22_day.xlsx',\n",
        "            'deals_11_11_22_day.xlsx',\n",
        "            'deals_14_11_22_day.xlsx',\n",
        "            'deals_16_11_22_day.xlsx',\n",
        "            'deals_24.01.23.xlsx',\n",
        "            'deals_27.01.23.xlsx'\n",
        "    \n",
        "]"
      ],
      "metadata": {
        "id": "E4WUhA4pJUGy"
      },
      "execution_count": null,
      "outputs": []
    },
    {
      "cell_type": "code",
      "source": [
        "# лист с именами пикл фалов\n",
        "# в первых четырех  не оказалось цены\n",
        "pickle_list =['/content/drive/MyDrive/DS/deals/pickle/si_2022_12_15.pkl', \n",
        "            #'/content/drive/MyDrive/DS/deals/pickle/deals_31_10_22.pkl',\n",
        "            #'/content/drive/MyDrive/DS/deals/pickle/deals_01_11_22.pkl',\n",
        "            #'/content/drive/MyDrive/DS/deals/pickle/deals_02_11_22.pkl',\n",
        "            #'/content/drive/MyDrive/DS/deals/pickle/deals_07_11_22.pkl',\n",
        "            #'/content/drive/MyDrive/DS/deals/pickle/deals_08_11_22.pkl',\n",
        "            #'/content/drive/MyDrive/DS/deals/pickle/deals_09_11_22.pkl',\n",
        "            #'/content/drive/MyDrive/DS/deals/pickle/deals_10_11_22.pkl',\n",
        "            #'/content/drive/MyDrive/DS/deals/pickle/deals_11_11_22.pkl',\n",
        "            #'/content/drive/MyDrive/DS/deals/pickle/deals_14_11_22.pkl',\n",
        "            #'/content/drive/MyDrive/DS/deals/pickle/deals_16_11_22.pkl',\n",
        "            #'/content/drive/MyDrive/DS/deals/pickle/deals_24.01.23.pkl',\n",
        "            #'/content/drive/MyDrive/DS/deals/pickle/deals_27.01.23.pkl'\n",
        "\n",
        "    \n",
        "]"
      ],
      "metadata": {
        "id": "LepY7wBn_TT0"
      },
      "execution_count": null,
      "outputs": []
    },
    {
      "cell_type": "code",
      "source": [
        "# лист последнего дня( для тестов)\n",
        "#pickle_list =['/content/drive/MyDrive/DS/deals/pickle/deals_27.01.23.pkl']"
      ],
      "metadata": {
        "id": "-W12K1bd9joQ"
      },
      "execution_count": null,
      "outputs": []
    },
    {
      "cell_type": "code",
      "source": [
        "# читаем и переводим в пикл\n",
        "df =  pd.read_csv(\"/content/drive/MyDrive/DS/deals/si_2022_12_15.csv\", sep=';',names=('time1','server_time','deals_number', 'price','lot','deal_type', 'nan1', 'nan2'))\n",
        "df = df.drop(columns=(['deals_number','nan1', 'nan2']))\n",
        "\n",
        "#к нижнему регистру Buy Sell\n",
        "df['deal_type'] = df['deal_type'].str.lower()\n",
        "#номер часа\n",
        "df['hour'] = ((df['time1'] / 10000000) + 3).astype(int)\n",
        "# номер минуты\n",
        "df['minute'] = (df['time1'] / 100000).astype(int) - (df['time1'] / 10000000).astype(int) *100\n",
        "\n",
        "df.to_pickle('/content/drive/MyDrive/DS/deals/pickle/si_2022_12_15.pkl')\n"
      ],
      "metadata": {
        "id": "idm2g2mrtpv7"
      },
      "execution_count": null,
      "outputs": []
    },
    {
      "cell_type": "code",
      "source": [
        "a = pd.read_pickle('/content/drive/MyDrive/DS/deals/pickle/si_2022_12_15.pkl')\n"
      ],
      "metadata": {
        "id": "PtewPOC8O6X7"
      },
      "execution_count": null,
      "outputs": []
    },
    {
      "cell_type": "code",
      "source": [
        "a.info()"
      ],
      "metadata": {
        "colab": {
          "base_uri": "https://localhost:8080/"
        },
        "id": "OPxbVHov5PKH",
        "outputId": "9770f469-eb32-4aa2-e308-29b67183343d"
      },
      "execution_count": null,
      "outputs": [
        {
          "output_type": "stream",
          "name": "stdout",
          "text": [
            "<class 'pandas.core.frame.DataFrame'>\n",
            "RangeIndex: 285669 entries, 0 to 285668\n",
            "Data columns (total 7 columns):\n",
            " #   Column       Non-Null Count   Dtype \n",
            "---  ------       --------------   ----- \n",
            " 0   time1        285669 non-null  int64 \n",
            " 1   server_time  285669 non-null  object\n",
            " 2   price        285669 non-null  int64 \n",
            " 3   lot          285669 non-null  int64 \n",
            " 4   deal_type    285669 non-null  object\n",
            " 5   hour         285669 non-null  int64 \n",
            " 6   minute       285669 non-null  int64 \n",
            "dtypes: int64(5), object(2)\n",
            "memory usage: 15.3+ MB\n"
          ]
        }
      ]
    },
    {
      "cell_type": "code",
      "source": [
        "#df_temp = pd.read_pickle('/content/drive/MyDrive/DS/deals/pickle/deals_24.01.23.pkl')\n",
        "#df_temp.head()\n",
        "\n"
      ],
      "metadata": {
        "id": "-xC_iEfZyMmI"
      },
      "execution_count": null,
      "outputs": []
    },
    {
      "cell_type": "markdown",
      "source": [
        "# 2.Формируем циклом из всех пиклов готовый файл с заданными свечками и таргетами. Файлы корректно сшиваются."
      ],
      "metadata": {
        "id": "xrBMTLr4YHvq"
      }
    },
    {
      "cell_type": "code",
      "source": [
        "#функциф формирования табличной свечки\n",
        "# в нее передается временной кучочек дата сета \n",
        "# она готовит строку заполненоного нового дата сета\n",
        "# эту строку будем добавлять в цикле\n",
        "\n",
        "\n",
        "def candle (df_tmp):   \n",
        "    # код падает на отсутсвующих данный во время клиры, поэтому здесь осознано\n",
        "    try:\n",
        "\n",
        "       #создаем временный пусто дф внутри функции с колонками от основного\n",
        "       df_candle_row = pd.DataFrame(columns=df_candle.columns).astype(float)\n",
        "\n",
        "       # срезы купли и продаж(чтобы питон не ругался)\n",
        "       df_by = df_tmp.query('Операция == \"Купля\"')\n",
        "       df_sell = df_tmp.query('Операция == \"Продажа\"')\n",
        "        \n",
        "\n",
        "       # open=0\n",
        "       #df_candle_row.loc[0, 'open'] =  0\n",
        "       #close из клозе выч опен, если полож, знач рост на столько, отр знач падение\n",
        "       # так интуитивно понятно\n",
        "       df_candle_row.loc[0, 'close'] = (df_tmp['Цена'][df_tmp.index[-1]]) - (df_tmp['Цена'][df_tmp.index[0]])  \n",
        "\n",
        "       # хай = макс цена - опен\n",
        "       df_candle_row.loc[0, 'hight'] =  df_tmp['Цена'].max() - (df_tmp['Цена'][df_tmp.index[0]])\n",
        "       # лой  = мин цена - опен\n",
        "       df_candle_row.loc[0, 'low'] = df_tmp['Цена'].min() - (df_tmp['Цена'][df_tmp.index[0]])\n",
        "\n",
        "       #спреды через функц\n",
        "       #df_candle_row.loc[0, 'spread_mean_by'] = spread_mean( df_by['Цена'])\n",
        "       #df_candle_row.loc[0, 'spread_mean_sell'] = spread_mean( df_sell['Цена'])\n",
        "         \n",
        "       # различные метрики тут\n",
        "       df_candle_row.loc[0, 'count_buy'] = df_by['Кол-во'].count()\n",
        "       df_candle_row.loc[0, 'count_sell'] = df_sell['Кол-во'].count() \n",
        "    \n",
        "       df_candle_row.loc[0, 'mean_buy'] = df_by['Кол-во'].mean()\n",
        "       df_candle_row.loc[0 , 'mean_sell'] = df_sell['Кол-во'].mean()\n",
        "       \n",
        "       df_candle_row.loc[0, 'median_buy'] = df_by['Кол-во'].median()\n",
        "       df_candle_row.loc[0, 'median_sell'] = df_sell['Кол-во'].median()\n",
        "       \n",
        "\n",
        "       # возможно лишняя инф\n",
        "       df_candle_row.loc[0, 'volume_buy'] = df_by['Кол-во'].sum()\n",
        "       df_candle_row.loc[0, 'volume_sell'] = df_sell['Кол-во'].sum()\n",
        "      \n",
        "\n",
        "    except IndexError:\n",
        "       print (0)\n",
        "\n",
        "    return df_candle_row\n",
        "\n"
      ],
      "metadata": {
        "id": "0396F2ZDxlaM"
      },
      "execution_count": null,
      "outputs": []
    },
    {
      "cell_type": "code",
      "source": [
        "#Создаем нов дата сет по свечам\n",
        "features= ['close', 'hight', 'low', 'count_buy', 'count_sell', 'mean_buy','mean_sell','median_buy','median_sell', 'volume_buy' ,'volume_sell', 'target']\n",
        "df_candle = pd.DataFrame(columns=features).astype(float)\n"
      ],
      "metadata": {
        "id": "SNEWvxolwRrq"
      },
      "execution_count": null,
      "outputs": []
    },
    {
      "cell_type": "code",
      "source": [
        "#Списки активов,чтобы не править руками постоянно при сменах контрактов\n",
        "si = ['SiZ2' ,'SiH3']\n",
        "ri = ['RIZ2' ,'RIH3']\n",
        "sr = ['SRZ2','SRH3']\n",
        "br = ['BRG3']\n",
        "#выбираем аткив\n",
        "aktiv_list = ri\n"
      ],
      "metadata": {
        "id": "HZhKoqyTP7Mj"
      },
      "execution_count": null,
      "outputs": []
    },
    {
      "cell_type": "code",
      "source": [
        "#сборный дата сет\n",
        "\n",
        "df_candle_all = pd.DataFrame(columns=features)\n",
        "for pickle_df in pickle_list:\n",
        "  # обновляем дата сет в ячейке\n",
        "  #df_candle = pd.DataFrame(columns=features)\n",
        "  #обрабатываем датасет\n",
        "  df = pd.read_pickle(pickle_df)\n",
        "  #выбираем актив\n",
        "  df = df.query(' @aktiv_list in instrument')\n",
        "  #преобразование типа в формат времени\n",
        "  df['Время'] = df['Время'].astype(\"datetime64[ns]\")\n",
        "  #добавляем колонку с номером минуты\n",
        "  df['minute'] = df['Время'].dt.minute\n",
        "  df['hour'] = df ['Время'].dt.hour\n",
        "\n",
        "  #задаем условия  для цикла\n",
        "  start_hour = df['hour'].min()\n",
        "  close_hour = df['hour'].max()\n",
        "  #КОНТРОЛЬ исходного файла\n",
        "  print ('имя дата сета', pickle_df)\n",
        "  print ('df.shape', df.shape)\n",
        "\n",
        "  #цикл по заполнению , вызываем в нем функцию\n",
        "  #обновляем датасет  \n",
        "  df_candle = pd.DataFrame(columns=features)\n",
        "  #>>>>>>>>>>\n",
        "  #ТУТ ЗАДАЕМ ВРЕМЕННОЙ ИНТРЕВАЛ СВЕЧКИ\n",
        "  for i in range (start_hour, close_hour+1):\n",
        "    for j in range (0,60,5):\n",
        "       # 5 ,15 min ( не забывай менять range)\n",
        "       df_tmp = df[(df['hour'] == i)  & ((df['minute'] >= j) & (df['minute'] < 5+j ) ) ]\n",
        "       \n",
        "       #минутный ( не забывай менять range)\n",
        "       #df_tmp = df [(df['hour'] == i ) & (df['minute'] == j)]  \n",
        "       \n",
        "       #применяем функцию\n",
        "       df_candle = df_candle.append(candle(df_tmp), ignore_index=True)\n",
        "      \n",
        "       #контроль под цикла цикла\n",
        "       #print ('hour=',i, 'minute=', j)\n",
        "  #>>>>>>>>\n",
        "  #УСЛОВИЕ таргет класификатор на три 0- додж, падение и рост тела свечи\n",
        "  # тело свечи белое (close>0) &  модуль тело свечи  больше  УСЛОВИя   (candle_len)\n",
        "  candle_len = candle_median = df_candle['close'].abs().median() *2\n",
        "  df_candle.loc[((df_candle['close'] >= 0) & (df_candle['close'].abs() >= candle_len) ),'target'] = 1\n",
        "  df_candle.loc[((df_candle['close'] <= 0) & (df_candle['close'].abs() >= candle_len) ),'target'] = -1\n",
        "  df_candle.loc[df_candle['target'].isna(), 'target'] = 0\n",
        "\n",
        "  #смещение таргета   подниматем на одну , тем самым будущее в настоящее перенос\n",
        "  df_candle['target'] = df_candle['target'].shift(-1)\n",
        "  # дроп последней строки, которая  никого не предскажет\n",
        "  df_candle =  df_candle.drop(index=len(df_candle)-1)\n",
        "  \n",
        "  #КОНТРОЛЬ размера полученного файла\n",
        "  print ('df_candle.shape',df_candle.shape)\n",
        "  #сшиваем дата сеты\n",
        "  df_candle_all = pd.concat([df_candle_all, df_candle], ignore_index=True)\n",
        "print ('df_candle_all.shape = ',df_candle_all.shape)\n",
        "#переименуем обратно\n",
        "df_candle = df_candle_all"
      ],
      "metadata": {
        "colab": {
          "base_uri": "https://localhost:8080/"
        },
        "id": "LZhfpYgpPon_",
        "outputId": "8c35dc81-9edf-45ac-dd4e-a7b9bbcf6598"
      },
      "execution_count": null,
      "outputs": [
        {
          "output_type": "stream",
          "name": "stdout",
          "text": [
            "имя дата сета /content/drive/MyDrive/DS/deals/pickle/deals_07_11_22.pkl\n",
            "df.shape (75173, 9)\n",
            "0\n",
            "0\n",
            "0\n",
            "0\n",
            "0\n",
            "0\n",
            "0\n",
            "df_candle.shape (136, 12)\n",
            "имя дата сета /content/drive/MyDrive/DS/deals/pickle/deals_08_11_22.pkl\n",
            "df.shape (66770, 9)\n",
            "0\n",
            "0\n",
            "0\n",
            "df_candle.shape (116, 12)\n",
            "имя дата сета /content/drive/MyDrive/DS/deals/pickle/deals_09_11_22.pkl\n",
            "df.shape (87692, 9)\n",
            "0\n",
            "0\n",
            "0\n",
            "0\n",
            "0\n",
            "0\n",
            "0\n",
            "0\n",
            "0\n",
            "0\n",
            "0\n",
            "0\n",
            "0\n",
            "df_candle.shape (142, 12)\n",
            "имя дата сета /content/drive/MyDrive/DS/deals/pickle/deals_10_11_22.pkl\n",
            "df.shape (85537, 9)\n",
            "0\n",
            "0\n",
            "0\n",
            "0\n",
            "0\n",
            "0\n",
            "0\n",
            "df_candle.shape (124, 12)\n",
            "имя дата сета /content/drive/MyDrive/DS/deals/pickle/deals_11_11_22.pkl\n",
            "df.shape (76220, 9)\n",
            "0\n",
            "0\n",
            "0\n",
            "0\n",
            "0\n",
            "0\n",
            "df_candle.shape (173, 12)\n",
            "имя дата сета /content/drive/MyDrive/DS/deals/pickle/deals_14_11_22.pkl\n",
            "df.shape (60551, 9)\n",
            "0\n",
            "0\n",
            "0\n",
            "df_candle.shape (116, 12)\n",
            "имя дата сета /content/drive/MyDrive/DS/deals/pickle/deals_16_11_22.pkl\n",
            "df.shape (74289, 9)\n",
            "0\n",
            "0\n",
            "0\n",
            "0\n",
            "0\n",
            "0\n",
            "0\n",
            "0\n",
            "0\n",
            "0\n",
            "0\n",
            "0\n",
            "0\n",
            "df_candle.shape (130, 12)\n",
            "имя дата сета /content/drive/MyDrive/DS/deals/pickle/deals_24.01.23.pkl\n",
            "df.shape (55056, 9)\n",
            "0\n",
            "0\n",
            "0\n",
            "0\n",
            "0\n",
            "0\n",
            "df_candle.shape (137, 12)\n",
            "df_candle_all.shape =  (1074, 12)\n"
          ]
        }
      ]
    },
    {
      "cell_type": "code",
      "source": [
        "df_candle.info()"
      ],
      "metadata": {
        "colab": {
          "base_uri": "https://localhost:8080/"
        },
        "id": "0Rj1zFO_XB-J",
        "outputId": "7b5ca7b7-78df-4e22-b17e-414281dbdc11"
      },
      "execution_count": null,
      "outputs": [
        {
          "output_type": "stream",
          "name": "stdout",
          "text": [
            "<class 'pandas.core.frame.DataFrame'>\n",
            "RangeIndex: 1074 entries, 0 to 1073\n",
            "Data columns (total 12 columns):\n",
            " #   Column       Non-Null Count  Dtype  \n",
            "---  ------       --------------  -----  \n",
            " 0   close        1074 non-null   float64\n",
            " 1   hight        1074 non-null   float64\n",
            " 2   low          1074 non-null   float64\n",
            " 3   count_buy    1074 non-null   float64\n",
            " 4   count_sell   1074 non-null   float64\n",
            " 5   mean_buy     1074 non-null   float64\n",
            " 6   mean_sell    1074 non-null   float64\n",
            " 7   median_buy   1074 non-null   float64\n",
            " 8   median_sell  1074 non-null   float64\n",
            " 9   volume_buy   1074 non-null   float64\n",
            " 10  volume_sell  1074 non-null   float64\n",
            " 11  target       1074 non-null   float64\n",
            "dtypes: float64(12)\n",
            "memory usage: 100.8 KB\n"
          ]
        }
      ]
    },
    {
      "cell_type": "code",
      "source": [
        "#баланс классов\n",
        "df_candle['target'].value_counts(normalize=True)"
      ],
      "metadata": {
        "colab": {
          "base_uri": "https://localhost:8080/"
        },
        "id": "3Rj-xOqqcCbq",
        "outputId": "b68781c8-de87-4186-8e2e-61c7c0c547ea"
      },
      "execution_count": null,
      "outputs": [
        {
          "output_type": "execute_result",
          "data": {
            "text/plain": [
              " 0.0    0.747672\n",
              " 1.0    0.137803\n",
              "-1.0    0.114525\n",
              "Name: target, dtype: float64"
            ]
          },
          "metadata": {},
          "execution_count": 176
        }
      ]
    },
    {
      "cell_type": "code",
      "source": [
        "#переименовываем\n",
        "#df_candle_si = df_candle\n",
        "#сохраняем\n",
        "df_candle.to_pickle('/content/drive/MyDrive/DS/deals/pickle/ri_5min_until_27.01.23.pkl')\n"
      ],
      "metadata": {
        "id": "iYUOrMIDdZ9e"
      },
      "execution_count": null,
      "outputs": []
    },
    {
      "cell_type": "code",
      "source": [],
      "metadata": {
        "id": "NIt6yQAbd-Ch"
      },
      "execution_count": null,
      "outputs": []
    },
    {
      "cell_type": "markdown",
      "source": [
        "#ML"
      ],
      "metadata": {
        "id": "0UeR4uwWeCoY"
      }
    },
    {
      "cell_type": "code",
      "source": [],
      "metadata": {
        "id": "xUx3DSPfeEKp"
      },
      "execution_count": null,
      "outputs": []
    }
  ]
}