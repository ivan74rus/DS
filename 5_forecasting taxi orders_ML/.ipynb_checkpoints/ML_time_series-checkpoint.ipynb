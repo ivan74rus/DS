{
 "cells": [
  {
   "cell_type": "markdown",
   "metadata": {
    "colab_type": "text",
    "id": "view-in-github"
   },
   "source": [
    "<a href=\"https://colab.research.google.com/github/ivan74rus/DS/blob/main/ML_%D0%B2%D1%80%D0%B5%D0%BC%D0%B5%D0%BD%D0%BD%D1%8B%D0%B5_%D1%80%D1%8F%D0%B4%D1%8B_%D0%B3%D0%BE%D1%82%D0%BE%D0%B2%D1%8B%D0%B9.ipynb\" target=\"_parent\"><img src=\"https://colab.research.google.com/assets/colab-badge.svg\" alt=\"Open In Colab\"/></a>"
   ]
  },
  {
   "cell_type": "markdown",
   "metadata": {
    "id": "gjRQuBhkH4Se",
    "toc": true
   },
   "source": [
    "<h1>Содержание<span class=\"tocSkip\"></span></h1>\n",
    "<div class=\"toc\"><ul class=\"toc-item\"><li><span><a href=\"#Подготовка\" data-toc-modified-id=\"Подготовка-1\"><span class=\"toc-item-num\">1&nbsp;&nbsp;</span>Подготовка</a></span></li><li><span><a href=\"#Анализ\" data-toc-modified-id=\"Анализ-2\"><span class=\"toc-item-num\">2&nbsp;&nbsp;</span>Анализ</a></span></li><li><span><a href=\"#ML\" data-toc-modified-id=\"ML-3\"><span class=\"toc-item-num\">3&nbsp;&nbsp;</span>ML</a></span><ul class=\"toc-item\"><li><span><a href=\"#Отделим-тестовые(будущее)-последние-10%\" data-toc-modified-id=\"Отделим-тестовые(будущее)-последние-10%-3.1\"><span class=\"toc-item-num\">3.1&nbsp;&nbsp;</span>Отделим тестовые(будущее) последние 10%</a></span></li><li><span><a href=\"#Подготовка-данных-к-обучение---создание-признаков.\" data-toc-modified-id=\"Подготовка-данных-к-обучение---создание-признаков.-3.2\"><span class=\"toc-item-num\">3.2&nbsp;&nbsp;</span>Подготовка данных к обучение - создание признаков.</a></span></li><li><span><a href=\"#Обучение-моделей-на-выбранных-фичах.\" data-toc-modified-id=\"Обучение-моделей-на-выбранных-фичах.-3.3\"><span class=\"toc-item-num\">3.3&nbsp;&nbsp;</span>Обучение моделей на выбранных фичах.</a></span></li><li><span><a href=\"#Подбор-оптимальных-фичей-.\" data-toc-modified-id=\"Подбор-оптимальных-фичей-.-3.4\"><span class=\"toc-item-num\">3.4&nbsp;&nbsp;</span>Подбор оптимальных фичей .</a></span></li><li><span><a href=\"#Features-important\" data-toc-modified-id=\"Features-important-3.5\"><span class=\"toc-item-num\">3.5&nbsp;&nbsp;</span>Features important</a></span><ul class=\"toc-item\"><li><span><a href=\"#Для--ЛинРегресси\" data-toc-modified-id=\"Для--ЛинРегресси-3.5.1\"><span class=\"toc-item-num\">3.5.1&nbsp;&nbsp;</span>Для  ЛинРегресси</a></span></li><li><span><a href=\"#Для-CatBoost\" data-toc-modified-id=\"Для-CatBoost-3.5.2\"><span class=\"toc-item-num\">3.5.2&nbsp;&nbsp;</span>Для CatBoost</a></span></li></ul></li><li><span><a href=\"#Подбор-гиперпараметров.\" data-toc-modified-id=\"Подбор-гиперпараметров.-3.6\"><span class=\"toc-item-num\">3.6&nbsp;&nbsp;</span>Подбор гиперпараметров.</a></span><ul class=\"toc-item\"><li><span><a href=\"#RandomForestRegressor-подбор-гиперпараметров.\" data-toc-modified-id=\"RandomForestRegressor-подбор-гиперпараметров.-3.6.1\"><span class=\"toc-item-num\">3.6.1&nbsp;&nbsp;</span>RandomForestRegressor подбор гиперпараметров.</a></span></li><li><span><a href=\"#CatBoostRegressor-подбор-гиперпараметров\" data-toc-modified-id=\"CatBoostRegressor-подбор-гиперпараметров-3.6.2\"><span class=\"toc-item-num\">3.6.2&nbsp;&nbsp;</span>CatBoostRegressor подбор гиперпараметров</a></span></li></ul></li></ul></li><li><span><a href=\"#Тестирование\" data-toc-modified-id=\"Тестирование-4\"><span class=\"toc-item-num\">4&nbsp;&nbsp;</span>Тестирование</a></span><ul class=\"toc-item\"><li><span><a href=\"#Виализируем-финальные-предсказания-и--график-предсказанных-рядов\" data-toc-modified-id=\"Виализируем-финальные-предсказания-и--график-предсказанных-рядов-4.1\"><span class=\"toc-item-num\">4.1&nbsp;&nbsp;</span>Виализируем финальные предсказания и  график предсказанных рядов</a></span></li></ul></li><li><span><a href=\"#Общий-вывод.\" data-toc-modified-id=\"Общий-вывод.-5\"><span class=\"toc-item-num\">5&nbsp;&nbsp;</span>Общий вывод.</a></span></li></ul></div>"
   ]
  },
  {
   "cell_type": "markdown",
   "metadata": {
    "id": "hn1OyoyzH4Sf"
   },
   "source": [
    "#  Прогнозирование заказов такси"
   ]
  },
  {
   "cell_type": "markdown",
   "metadata": {
    "id": "n1Kk2d2sH4Sf"
   },
   "source": [
    "**Вводные данные:**     \n",
    "Заказчик - компания такси - собрал исторические данные о заказах такси в аэропортах. Чтобы привлекать больше водителей в период пиковой нагрузки, нужно спрогнозировать количество заказов такси на следующий час. Надо построить модель для такого предсказания.\n",
    "\n",
    "Значение метрики RMSE на тестовой выборке должно быть не больше 48."
   ]
  },
  {
   "cell_type": "code",
   "execution_count": null,
   "metadata": {
    "id": "jiJYt8peH4Sg"
   },
   "outputs": [],
   "source": [
    "# импорты из стандартной библиотеки\n",
    "import os\n",
    "from copy import deepcopy\n",
    "\n",
    "import pandas as pd\n",
    "import matplotlib.pyplot as plt\n",
    "import numpy as np \n",
    "\n",
    "from statsmodels.tsa.seasonal import seasonal_decompose\n",
    "from sklearn.metrics import mean_squared_error\n",
    "from sklearn.model_selection import train_test_split\n",
    "from sklearn.model_selection import TimeSeriesSplit\n",
    "from sklearn.model_selection import GridSearchCV\n",
    "\n",
    "from sklearn.linear_model import LinearRegression\n",
    "from lightgbm import LGBMRegressor\n",
    "from catboost import CatBoostRegressor\n",
    "from sklearn.ensemble import RandomForestRegressor\n",
    "from sklearn.dummy import DummyRegressor\n"
   ]
  },
  {
   "cell_type": "code",
   "execution_count": null,
   "metadata": {
    "id": "Vd1nWXOoH4Sh"
   },
   "outputs": [],
   "source": [
    "# настройки и константы\n",
    "LOCAL_DATA_PATH = '/datasets/'"
   ]
  },
  {
   "cell_type": "markdown",
   "metadata": {
    "id": "q_xgx9xWH4Sh"
   },
   "source": [
    "## Подготовка"
   ]
  },
  {
   "cell_type": "code",
   "execution_count": null,
   "metadata": {
    "id": "9HfZXfCSH4Si"
   },
   "outputs": [],
   "source": [
    "try:\n",
    "    df = pd.read_csv(f'{LOCAL_DATA_PATH}taxi.csv')\n",
    "except:\n",
    "    df = pd.read_csv(f'{os.getcwd()}taxi.csv')"
   ]
  },
  {
   "cell_type": "code",
   "execution_count": null,
   "metadata": {
    "id": "u9gaIXaaH4Si",
    "outputId": "2f675def-d417-42a4-9ba0-e8543d2c1aaf"
   },
   "outputs": [
    {
     "name": "stdout",
     "output_type": "stream",
     "text": [
      "<class 'pandas.core.frame.DataFrame'>\n",
      "RangeIndex: 26496 entries, 0 to 26495\n",
      "Data columns (total 2 columns):\n",
      " #   Column      Non-Null Count  Dtype \n",
      "---  ------      --------------  ----- \n",
      " 0   datetime    26496 non-null  object\n",
      " 1   num_orders  26496 non-null  int64 \n",
      "dtypes: int64(1), object(1)\n",
      "memory usage: 414.1+ KB\n"
     ]
    }
   ],
   "source": [
    "df.info()"
   ]
  },
  {
   "cell_type": "code",
   "execution_count": null,
   "metadata": {
    "id": "Ze6Zr-EHH4Sj",
    "outputId": "3852ecc9-d680-4924-8c6f-79506eba86fd"
   },
   "outputs": [
    {
     "data": {
      "text/html": [
       "<div>\n",
       "<style scoped>\n",
       "    .dataframe tbody tr th:only-of-type {\n",
       "        vertical-align: middle;\n",
       "    }\n",
       "\n",
       "    .dataframe tbody tr th {\n",
       "        vertical-align: top;\n",
       "    }\n",
       "\n",
       "    .dataframe thead th {\n",
       "        text-align: right;\n",
       "    }\n",
       "</style>\n",
       "<table border=\"1\" class=\"dataframe\">\n",
       "  <thead>\n",
       "    <tr style=\"text-align: right;\">\n",
       "      <th></th>\n",
       "      <th>datetime</th>\n",
       "      <th>num_orders</th>\n",
       "    </tr>\n",
       "  </thead>\n",
       "  <tbody>\n",
       "    <tr>\n",
       "      <th>0</th>\n",
       "      <td>2018-03-01 00:00:00</td>\n",
       "      <td>9</td>\n",
       "    </tr>\n",
       "    <tr>\n",
       "      <th>1</th>\n",
       "      <td>2018-03-01 00:10:00</td>\n",
       "      <td>14</td>\n",
       "    </tr>\n",
       "    <tr>\n",
       "      <th>2</th>\n",
       "      <td>2018-03-01 00:20:00</td>\n",
       "      <td>28</td>\n",
       "    </tr>\n",
       "  </tbody>\n",
       "</table>\n",
       "</div>"
      ],
      "text/plain": [
       "              datetime  num_orders\n",
       "0  2018-03-01 00:00:00           9\n",
       "1  2018-03-01 00:10:00          14\n",
       "2  2018-03-01 00:20:00          28"
      ]
     },
     "execution_count": 5,
     "metadata": {},
     "output_type": "execute_result"
    }
   ],
   "source": [
    "df.head(3)"
   ]
  },
  {
   "cell_type": "code",
   "execution_count": null,
   "metadata": {
    "id": "BRr0uTTuH4Sj"
   },
   "outputs": [],
   "source": [
    "#меняем тип данных на дататайм\n",
    "df['datetime'] = df['datetime'].astype('datetime64')"
   ]
  },
  {
   "cell_type": "code",
   "execution_count": null,
   "metadata": {
    "id": "VeDeVHk0H4Sj"
   },
   "outputs": [],
   "source": [
    "#сделаем индексами время\n",
    "df = df.set_index(df['datetime']).drop(['datetime'],axis=1)\n"
   ]
  },
  {
   "cell_type": "code",
   "execution_count": null,
   "metadata": {
    "id": "RMWrJECkH4Sj",
    "outputId": "62eaf750-b72d-46de-ab1d-d63e532c34e1"
   },
   "outputs": [
    {
     "name": "stdout",
     "output_type": "stream",
     "text": [
      "<class 'pandas.core.frame.DataFrame'>\n",
      "DatetimeIndex: 26496 entries, 2018-03-01 00:00:00 to 2018-08-31 23:50:00\n",
      "Data columns (total 1 columns):\n",
      " #   Column      Non-Null Count  Dtype\n",
      "---  ------      --------------  -----\n",
      " 0   num_orders  26496 non-null  int64\n",
      "dtypes: int64(1)\n",
      "memory usage: 414.0 KB\n"
     ]
    },
    {
     "data": {
      "text/html": [
       "<div>\n",
       "<style scoped>\n",
       "    .dataframe tbody tr th:only-of-type {\n",
       "        vertical-align: middle;\n",
       "    }\n",
       "\n",
       "    .dataframe tbody tr th {\n",
       "        vertical-align: top;\n",
       "    }\n",
       "\n",
       "    .dataframe thead th {\n",
       "        text-align: right;\n",
       "    }\n",
       "</style>\n",
       "<table border=\"1\" class=\"dataframe\">\n",
       "  <thead>\n",
       "    <tr style=\"text-align: right;\">\n",
       "      <th></th>\n",
       "      <th>num_orders</th>\n",
       "    </tr>\n",
       "    <tr>\n",
       "      <th>datetime</th>\n",
       "      <th></th>\n",
       "    </tr>\n",
       "  </thead>\n",
       "  <tbody>\n",
       "    <tr>\n",
       "      <th>2018-03-01 00:00:00</th>\n",
       "      <td>9</td>\n",
       "    </tr>\n",
       "    <tr>\n",
       "      <th>2018-03-01 00:10:00</th>\n",
       "      <td>14</td>\n",
       "    </tr>\n",
       "    <tr>\n",
       "      <th>2018-03-01 00:20:00</th>\n",
       "      <td>28</td>\n",
       "    </tr>\n",
       "  </tbody>\n",
       "</table>\n",
       "</div>"
      ],
      "text/plain": [
       "                     num_orders\n",
       "datetime                       \n",
       "2018-03-01 00:00:00           9\n",
       "2018-03-01 00:10:00          14\n",
       "2018-03-01 00:20:00          28"
      ]
     },
     "execution_count": 41,
     "metadata": {},
     "output_type": "execute_result"
    }
   ],
   "source": [
    "df.info()\n",
    "df.head(3)"
   ]
  },
  {
   "cell_type": "code",
   "execution_count": null,
   "metadata": {
    "id": "6s6rZHbMH4Sk",
    "outputId": "0f85411d-5e8c-4420-b3e6-6c82ffa310c3"
   },
   "outputs": [
    {
     "data": {
      "text/html": [
       "<div>\n",
       "<style scoped>\n",
       "    .dataframe tbody tr th:only-of-type {\n",
       "        vertical-align: middle;\n",
       "    }\n",
       "\n",
       "    .dataframe tbody tr th {\n",
       "        vertical-align: top;\n",
       "    }\n",
       "\n",
       "    .dataframe thead th {\n",
       "        text-align: right;\n",
       "    }\n",
       "</style>\n",
       "<table border=\"1\" class=\"dataframe\">\n",
       "  <thead>\n",
       "    <tr style=\"text-align: right;\">\n",
       "      <th></th>\n",
       "      <th>num_orders</th>\n",
       "    </tr>\n",
       "    <tr>\n",
       "      <th>datetime</th>\n",
       "      <th></th>\n",
       "    </tr>\n",
       "  </thead>\n",
       "  <tbody>\n",
       "    <tr>\n",
       "      <th>2018-03-01 00:00:00</th>\n",
       "      <td>124</td>\n",
       "    </tr>\n",
       "    <tr>\n",
       "      <th>2018-03-01 01:00:00</th>\n",
       "      <td>85</td>\n",
       "    </tr>\n",
       "    <tr>\n",
       "      <th>2018-03-01 02:00:00</th>\n",
       "      <td>71</td>\n",
       "    </tr>\n",
       "    <tr>\n",
       "      <th>2018-03-01 03:00:00</th>\n",
       "      <td>66</td>\n",
       "    </tr>\n",
       "    <tr>\n",
       "      <th>2018-03-01 04:00:00</th>\n",
       "      <td>43</td>\n",
       "    </tr>\n",
       "    <tr>\n",
       "      <th>...</th>\n",
       "      <td>...</td>\n",
       "    </tr>\n",
       "    <tr>\n",
       "      <th>2018-08-31 19:00:00</th>\n",
       "      <td>136</td>\n",
       "    </tr>\n",
       "    <tr>\n",
       "      <th>2018-08-31 20:00:00</th>\n",
       "      <td>154</td>\n",
       "    </tr>\n",
       "    <tr>\n",
       "      <th>2018-08-31 21:00:00</th>\n",
       "      <td>159</td>\n",
       "    </tr>\n",
       "    <tr>\n",
       "      <th>2018-08-31 22:00:00</th>\n",
       "      <td>223</td>\n",
       "    </tr>\n",
       "    <tr>\n",
       "      <th>2018-08-31 23:00:00</th>\n",
       "      <td>205</td>\n",
       "    </tr>\n",
       "  </tbody>\n",
       "</table>\n",
       "<p>4416 rows × 1 columns</p>\n",
       "</div>"
      ],
      "text/plain": [
       "                     num_orders\n",
       "datetime                       \n",
       "2018-03-01 00:00:00         124\n",
       "2018-03-01 01:00:00          85\n",
       "2018-03-01 02:00:00          71\n",
       "2018-03-01 03:00:00          66\n",
       "2018-03-01 04:00:00          43\n",
       "...                         ...\n",
       "2018-08-31 19:00:00         136\n",
       "2018-08-31 20:00:00         154\n",
       "2018-08-31 21:00:00         159\n",
       "2018-08-31 22:00:00         223\n",
       "2018-08-31 23:00:00         205\n",
       "\n",
       "[4416 rows x 1 columns]"
      ]
     },
     "execution_count": 42,
     "metadata": {},
     "output_type": "execute_result"
    }
   ],
   "source": [
    "#ресеплирование по 1 часу\n",
    "df = df.resample('1H').sum()\n",
    "df"
   ]
  },
  {
   "cell_type": "markdown",
   "metadata": {
    "id": "U43MI7-VH4Sk"
   },
   "source": [
    "## Анализ   \n"
   ]
  },
  {
   "cell_type": "code",
   "execution_count": null,
   "metadata": {
    "id": "JGmohHQGH4Sk",
    "outputId": "f06d035f-6e6d-4cf5-8650-93ba4f0d8465"
   },
   "outputs": [
    {
     "data": {
      "text/plain": [
       "Timestamp('2018-08-31 23:00:00', freq='H')"
      ]
     },
     "execution_count": 43,
     "metadata": {},
     "output_type": "execute_result"
    }
   ],
   "source": [
    "df.index.max()"
   ]
  },
  {
   "cell_type": "code",
   "execution_count": null,
   "metadata": {
    "id": "1ZA3Pt_5H4Sl",
    "outputId": "aa230919-6867-481f-872d-84d62cd9d1e9"
   },
   "outputs": [
    {
     "data": {
      "text/plain": [
       "Timestamp('2018-03-01 00:00:00', freq='H')"
      ]
     },
     "execution_count": 44,
     "metadata": {},
     "output_type": "execute_result"
    }
   ],
   "source": [
    "df.index.min()"
   ]
  },
  {
   "cell_type": "markdown",
   "metadata": {
    "id": "iVWN0pIaH4Sl"
   },
   "source": [
    "Проанализируем данные на сезонность и трендовость."
   ]
  },
  {
   "cell_type": "code",
   "execution_count": null,
   "metadata": {
    "id": "m77XK-7MH4Sl",
    "outputId": "43d3ad39-2bf5-4ec7-e753-3bb1b5496667",
    "scrolled": true
   },
   "outputs": [
    {
     "data": {
      "image/png": "[encoded data removed]",
      "text/plain": [
       "<Figure size 432x864 with 3 Axes>"
      ]
     },
     "metadata": {
      "needs_background": "light"
     },
     "output_type": "display_data"
    }
   ],
   "source": [
    "decomposed_df = seasonal_decompose(df)\n",
    "plt.figure(figsize=(6, 12))\n",
    "plt.subplot(311)\n",
    "decomposed_df.trend.plot(ax=plt.gca())\n",
    "plt.title('Trend')\n",
    "plt.subplot(312)\n",
    "decomposed_df.seasonal.plot(ax=plt.gca())\n",
    "plt.title('Seasonality')\n",
    "plt.subplot(313)\n",
    "decomposed_df.resid.plot(ax=plt.gca())\n",
    "plt.title('Residuals')\n",
    "plt.tight_layout()\n"
   ]
  },
  {
   "cell_type": "markdown",
   "metadata": {
    "id": "3Tix3aywH4Sl"
   },
   "source": [
    "Видим тренд на рост кол-ва заявок.    \n",
    "Сеззоность нужно уменьшить интервал( укрупнить), чтобы рассмотреть.   \n",
    "Возьмем интеревал  неделю середине диапазона- в июне.\n"
   ]
  },
  {
   "cell_type": "code",
   "execution_count": null,
   "metadata": {
    "id": "VzCBbrPHH4Sl",
    "outputId": "7e6e3e31-9a16-49ec-8ae4-967a3491bc17",
    "scrolled": true
   },
   "outputs": [
    {
     "data": {
      "image/png": "[encoded data removed]",
      "text/plain": [
       "<Figure size 432x288 with 1 Axes>"
      ]
     },
     "metadata": {
      "needs_background": "light"
     },
     "output_type": "display_data"
    }
   ],
   "source": [
    "plt.title('Seasonality in one week')\n",
    "decomposed_df.seasonal['2018-06-01' : '2018-06-07'].plot()\n",
    "plt.show()"
   ]
  },
  {
   "cell_type": "code",
   "execution_count": null,
   "metadata": {
    "id": "aUrUwdTWH4Sm",
    "outputId": "83995c9d-7930-4def-b65a-3deb53a5e397"
   },
   "outputs": [
    {
     "data": {
      "image/png": "[encoded data removed]",
      "text/plain": [
       "<Figure size 432x288 with 1 Axes>"
      ]
     },
     "metadata": {
      "needs_background": "light"
     },
     "output_type": "display_data"
    }
   ],
   "source": [
    "plt.title('Seasonality in one day')\n",
    "decomposed_df.seasonal['2018-06-01' : '2018-06-02'].plot()\n",
    "plt.show()"
   ]
  },
  {
   "cell_type": "markdown",
   "metadata": {
    "id": "mAz3I5R5H4Sm"
   },
   "source": [
    "Ярко выраженные колебания сезонности  внутри дня по часам. Минимум в 6 утра, максимум в 12 ночи.\n"
   ]
  },
  {
   "cell_type": "code",
   "execution_count": null,
   "metadata": {
    "id": "qzEwzzx9H4Sm"
   },
   "outputs": [],
   "source": [
    "# сохраним базовый датасет df_base, \n",
    "df_basic = deepcopy(df)"
   ]
  },
  {
   "cell_type": "markdown",
   "metadata": {
    "id": "nwaPMTWbH4Sn"
   },
   "source": [
    "##  ML"
   ]
  },
  {
   "cell_type": "markdown",
   "metadata": {
    "id": "_apFrw4SH4Sn"
   },
   "source": [
    "### Отделим тестовые(будущее) последние 10%   \n",
    "которые мы как бы сейчас не видим , это и будут данные бизнеса"
   ]
  },
  {
   "cell_type": "code",
   "execution_count": null,
   "metadata": {
    "id": "j3bVvr80H4Sn"
   },
   "outputs": [],
   "source": [
    "df = df_basic.iloc[0:int(len(df_basic)*0.9)]\n",
    "df_for_submit = df_basic.iloc[int(len(df_basic)*0.9): ]"
   ]
  },
  {
   "cell_type": "code",
   "execution_count": null,
   "metadata": {
    "id": "c0iYQe35H4Sn",
    "outputId": "847bc5c2-f191-4a14-d55b-f8ff0ed1a14c"
   },
   "outputs": [
    {
     "data": {
      "text/plain": [
       "(3974, 1)"
      ]
     },
     "execution_count": 50,
     "metadata": {},
     "output_type": "execute_result"
    }
   ],
   "source": [
    "df.shape"
   ]
  },
  {
   "cell_type": "code",
   "execution_count": null,
   "metadata": {
    "id": "b3HBq7RxH4Sn",
    "outputId": "0627dfad-c1a7-4dcf-ff48-1a9d29a3be25"
   },
   "outputs": [
    {
     "data": {
      "text/plain": [
       "(442, 1)"
      ]
     },
     "execution_count": 51,
     "metadata": {},
     "output_type": "execute_result"
    }
   ],
   "source": [
    "df_for_submit.shape"
   ]
  },
  {
   "cell_type": "markdown",
   "metadata": {
    "id": "aP7K0B6mH4Sn"
   },
   "source": [
    "### Подготовка данных к обучение - создание признаков.     \n",
    "Функция для задания фич и таргета  и разбивки трайн/тест test_size = 0.1  \n",
    "1. Фичи это:    \n",
    "  - месяц, день, день недели,    \n",
    "  - num_orders прошлых дни (.shift+),    \n",
    "  -  и средняя сдвинутая на 1,чтобы не попали данные\n",
    "сегодняшненго.     \n",
    "2. Таргет - это значения \"завтрашенго\" (следуещего дня) , т е .shift(-1). \n",
    "3. Обрезка NAN вследсвии сдвигов .  \n",
    "4. Разбивка на тест /сплит.\n",
    "\n"
   ]
  },
  {
   "cell_type": "code",
   "execution_count": null,
   "metadata": {
    "id": "YuFZcIXNH4Su"
   },
   "outputs": [],
   "source": [
    "# \n",
    "def prepare(df, max_lag, rolling_mean_size):\n",
    "    #даты\n",
    "    data = deepcopy(df)\n",
    "    data['month'] = data.index.month\n",
    "    data['day'] = data.index.day\n",
    "    data['dayofweek'] = data.index.dayofweek\n",
    "    data['hour'] = data.index.hour\n",
    "    \n",
    "    #сдвиг прошлых дней\n",
    "    for i in range(1, max_lag + 1):\n",
    "        data[f'lag_{i}'] = data['num_orders'].shift(i)\n",
    "        \n",
    "    #среднее за период  сдвинутое ,чтобы исключить взятие текущего значения\n",
    "    data['rolling_mean'] = data['num_orders'].shift().rolling(rolling_mean_size).mean()\n",
    "    #таргет\n",
    "    data['target'] = data['num_orders'].shift(-1)\n",
    "    #дроп нанов\n",
    "    data.dropna(how='any', inplace=True)\n",
    "\n",
    "    #разбивка на тест сплит,без перемешивания\n",
    "    X_train, x_test ,Y_train, y_test = \\\n",
    "    train_test_split (data.drop(['target'],axis=1),  data['target'], test_size=0.15, shuffle=False)\n",
    "       \n",
    "    return X_train, x_test ,Y_train, y_test"
   ]
  },
  {
   "cell_type": "code",
   "execution_count": null,
   "metadata": {
    "id": "Ux20giA6H4Su",
    "outputId": "de07a247-7ce5-4166-f9bb-0814b0247611"
   },
   "outputs": [
    {
     "name": "stdout",
     "output_type": "stream",
     "text": [
      "(3369, 15)\n",
      "(595, 15)\n",
      "(3369,)\n",
      "(595,)\n"
     ]
    },
    {
     "data": {
      "text/html": [
       "<div>\n",
       "<style scoped>\n",
       "    .dataframe tbody tr th:only-of-type {\n",
       "        vertical-align: middle;\n",
       "    }\n",
       "\n",
       "    .dataframe tbody tr th {\n",
       "        vertical-align: top;\n",
       "    }\n",
       "\n",
       "    .dataframe thead th {\n",
       "        text-align: right;\n",
       "    }\n",
       "</style>\n",
       "<table border=\"1\" class=\"dataframe\">\n",
       "  <thead>\n",
       "    <tr style=\"text-align: right;\">\n",
       "      <th></th>\n",
       "      <th>num_orders</th>\n",
       "      <th>month</th>\n",
       "      <th>day</th>\n",
       "      <th>dayofweek</th>\n",
       "      <th>hour</th>\n",
       "      <th>lag_1</th>\n",
       "      <th>lag_2</th>\n",
       "      <th>lag_3</th>\n",
       "      <th>lag_4</th>\n",
       "      <th>lag_5</th>\n",
       "      <th>lag_6</th>\n",
       "      <th>lag_7</th>\n",
       "      <th>lag_8</th>\n",
       "      <th>lag_9</th>\n",
       "      <th>rolling_mean</th>\n",
       "    </tr>\n",
       "    <tr>\n",
       "      <th>datetime</th>\n",
       "      <th></th>\n",
       "      <th></th>\n",
       "      <th></th>\n",
       "      <th></th>\n",
       "      <th></th>\n",
       "      <th></th>\n",
       "      <th></th>\n",
       "      <th></th>\n",
       "      <th></th>\n",
       "      <th></th>\n",
       "      <th></th>\n",
       "      <th></th>\n",
       "      <th></th>\n",
       "      <th></th>\n",
       "      <th></th>\n",
       "    </tr>\n",
       "  </thead>\n",
       "  <tbody>\n",
       "    <tr>\n",
       "      <th>2018-03-01 09:00:00</th>\n",
       "      <td>69</td>\n",
       "      <td>3</td>\n",
       "      <td>1</td>\n",
       "      <td>3</td>\n",
       "      <td>9</td>\n",
       "      <td>34.0</td>\n",
       "      <td>15.0</td>\n",
       "      <td>12.0</td>\n",
       "      <td>6.0</td>\n",
       "      <td>43.0</td>\n",
       "      <td>66.0</td>\n",
       "      <td>71.0</td>\n",
       "      <td>85.0</td>\n",
       "      <td>124.0</td>\n",
       "      <td>50.666667</td>\n",
       "    </tr>\n",
       "    <tr>\n",
       "      <th>2018-03-01 10:00:00</th>\n",
       "      <td>64</td>\n",
       "      <td>3</td>\n",
       "      <td>1</td>\n",
       "      <td>3</td>\n",
       "      <td>10</td>\n",
       "      <td>69.0</td>\n",
       "      <td>34.0</td>\n",
       "      <td>15.0</td>\n",
       "      <td>12.0</td>\n",
       "      <td>6.0</td>\n",
       "      <td>43.0</td>\n",
       "      <td>66.0</td>\n",
       "      <td>71.0</td>\n",
       "      <td>85.0</td>\n",
       "      <td>44.555556</td>\n",
       "    </tr>\n",
       "    <tr>\n",
       "      <th>2018-03-01 11:00:00</th>\n",
       "      <td>96</td>\n",
       "      <td>3</td>\n",
       "      <td>1</td>\n",
       "      <td>3</td>\n",
       "      <td>11</td>\n",
       "      <td>64.0</td>\n",
       "      <td>69.0</td>\n",
       "      <td>34.0</td>\n",
       "      <td>15.0</td>\n",
       "      <td>12.0</td>\n",
       "      <td>6.0</td>\n",
       "      <td>43.0</td>\n",
       "      <td>66.0</td>\n",
       "      <td>71.0</td>\n",
       "      <td>42.222222</td>\n",
       "    </tr>\n",
       "    <tr>\n",
       "      <th>2018-03-01 12:00:00</th>\n",
       "      <td>30</td>\n",
       "      <td>3</td>\n",
       "      <td>1</td>\n",
       "      <td>3</td>\n",
       "      <td>12</td>\n",
       "      <td>96.0</td>\n",
       "      <td>64.0</td>\n",
       "      <td>69.0</td>\n",
       "      <td>34.0</td>\n",
       "      <td>15.0</td>\n",
       "      <td>12.0</td>\n",
       "      <td>6.0</td>\n",
       "      <td>43.0</td>\n",
       "      <td>66.0</td>\n",
       "      <td>45.000000</td>\n",
       "    </tr>\n",
       "    <tr>\n",
       "      <th>2018-03-01 13:00:00</th>\n",
       "      <td>32</td>\n",
       "      <td>3</td>\n",
       "      <td>1</td>\n",
       "      <td>3</td>\n",
       "      <td>13</td>\n",
       "      <td>30.0</td>\n",
       "      <td>96.0</td>\n",
       "      <td>64.0</td>\n",
       "      <td>69.0</td>\n",
       "      <td>34.0</td>\n",
       "      <td>15.0</td>\n",
       "      <td>12.0</td>\n",
       "      <td>6.0</td>\n",
       "      <td>43.0</td>\n",
       "      <td>41.000000</td>\n",
       "    </tr>\n",
       "  </tbody>\n",
       "</table>\n",
       "</div>"
      ],
      "text/plain": [
       "                     num_orders  month  day  dayofweek  hour  lag_1  lag_2  \\\n",
       "datetime                                                                     \n",
       "2018-03-01 09:00:00          69      3    1          3     9   34.0   15.0   \n",
       "2018-03-01 10:00:00          64      3    1          3    10   69.0   34.0   \n",
       "2018-03-01 11:00:00          96      3    1          3    11   64.0   69.0   \n",
       "2018-03-01 12:00:00          30      3    1          3    12   96.0   64.0   \n",
       "2018-03-01 13:00:00          32      3    1          3    13   30.0   96.0   \n",
       "\n",
       "                     lag_3  lag_4  lag_5  lag_6  lag_7  lag_8  lag_9  \\\n",
       "datetime                                                               \n",
       "2018-03-01 09:00:00   12.0    6.0   43.0   66.0   71.0   85.0  124.0   \n",
       "2018-03-01 10:00:00   15.0   12.0    6.0   43.0   66.0   71.0   85.0   \n",
       "2018-03-01 11:00:00   34.0   15.0   12.0    6.0   43.0   66.0   71.0   \n",
       "2018-03-01 12:00:00   69.0   34.0   15.0   12.0    6.0   43.0   66.0   \n",
       "2018-03-01 13:00:00   64.0   69.0   34.0   15.0   12.0    6.0   43.0   \n",
       "\n",
       "                     rolling_mean  \n",
       "datetime                           \n",
       "2018-03-01 09:00:00     50.666667  \n",
       "2018-03-01 10:00:00     44.555556  \n",
       "2018-03-01 11:00:00     42.222222  \n",
       "2018-03-01 12:00:00     45.000000  \n",
       "2018-03-01 13:00:00     41.000000  "
      ]
     },
     "execution_count": 53,
     "metadata": {},
     "output_type": "execute_result"
    }
   ],
   "source": [
    "#првоерка функции\n",
    "X_train, x_test ,Y_train, y_test = prepare(df,9,9)\n",
    "print(X_train.shape)\n",
    "print (x_test.shape)\n",
    "print (Y_train.shape)\n",
    "print (y_test.shape)\n",
    "X_train.head()"
   ]
  },
  {
   "cell_type": "code",
   "execution_count": null,
   "metadata": {
    "id": "jiWJtlmKH4Sv"
   },
   "outputs": [],
   "source": [
    "#та же функция без разбивки, возвращет дата сет с фичами.\n",
    "def prepare_no_split(df, max_lag, rolling_mean_size):\n",
    "    #даты\n",
    "    data = deepcopy(df)\n",
    "    data['month'] = data.index.month\n",
    "    data['day'] = data.index.day\n",
    "    data['dayofweek'] = data.index.dayofweek\n",
    "    data['hour'] = data.index.hour\n",
    "    \n",
    "    #сдвиг прошлых дней\n",
    "    for i in range(1, max_lag + 1):\n",
    "        data[f'lag_{i}'] = data['num_orders'].shift(i)\n",
    "        \n",
    "    #среднее за период  сдвинутое ,чтобы исключить взятие текущего значения\n",
    "    data['rolling_mean'] = data['num_orders'].shift().rolling(rolling_mean_size).mean()\n",
    "    #таргет\n",
    "    data['target'] = data['num_orders'].shift(-1)\n",
    "    #дроп нанов\n",
    "    data.dropna(how='any', inplace=True)\n",
    "    return data"
   ]
  },
  {
   "cell_type": "code",
   "execution_count": null,
   "metadata": {
    "id": "T3ZruqgbH4Sv",
    "outputId": "db8028a0-8cc3-4701-d48b-89ea58d0b523"
   },
   "outputs": [
    {
     "data": {
      "text/html": [
       "<div>\n",
       "<style scoped>\n",
       "    .dataframe tbody tr th:only-of-type {\n",
       "        vertical-align: middle;\n",
       "    }\n",
       "\n",
       "    .dataframe tbody tr th {\n",
       "        vertical-align: top;\n",
       "    }\n",
       "\n",
       "    .dataframe thead th {\n",
       "        text-align: right;\n",
       "    }\n",
       "</style>\n",
       "<table border=\"1\" class=\"dataframe\">\n",
       "  <thead>\n",
       "    <tr style=\"text-align: right;\">\n",
       "      <th></th>\n",
       "      <th>num_orders</th>\n",
       "      <th>month</th>\n",
       "      <th>day</th>\n",
       "      <th>dayofweek</th>\n",
       "      <th>hour</th>\n",
       "      <th>lag_1</th>\n",
       "      <th>lag_2</th>\n",
       "      <th>rolling_mean</th>\n",
       "      <th>target</th>\n",
       "    </tr>\n",
       "    <tr>\n",
       "      <th>datetime</th>\n",
       "      <th></th>\n",
       "      <th></th>\n",
       "      <th></th>\n",
       "      <th></th>\n",
       "      <th></th>\n",
       "      <th></th>\n",
       "      <th></th>\n",
       "      <th></th>\n",
       "      <th></th>\n",
       "    </tr>\n",
       "  </thead>\n",
       "  <tbody>\n",
       "    <tr>\n",
       "      <th>2018-03-01 02:00:00</th>\n",
       "      <td>71</td>\n",
       "      <td>3</td>\n",
       "      <td>1</td>\n",
       "      <td>3</td>\n",
       "      <td>2</td>\n",
       "      <td>85.0</td>\n",
       "      <td>124.0</td>\n",
       "      <td>104.5</td>\n",
       "      <td>66.0</td>\n",
       "    </tr>\n",
       "    <tr>\n",
       "      <th>2018-03-01 03:00:00</th>\n",
       "      <td>66</td>\n",
       "      <td>3</td>\n",
       "      <td>1</td>\n",
       "      <td>3</td>\n",
       "      <td>3</td>\n",
       "      <td>71.0</td>\n",
       "      <td>85.0</td>\n",
       "      <td>78.0</td>\n",
       "      <td>43.0</td>\n",
       "    </tr>\n",
       "    <tr>\n",
       "      <th>2018-03-01 04:00:00</th>\n",
       "      <td>43</td>\n",
       "      <td>3</td>\n",
       "      <td>1</td>\n",
       "      <td>3</td>\n",
       "      <td>4</td>\n",
       "      <td>66.0</td>\n",
       "      <td>71.0</td>\n",
       "      <td>68.5</td>\n",
       "      <td>6.0</td>\n",
       "    </tr>\n",
       "    <tr>\n",
       "      <th>2018-03-01 05:00:00</th>\n",
       "      <td>6</td>\n",
       "      <td>3</td>\n",
       "      <td>1</td>\n",
       "      <td>3</td>\n",
       "      <td>5</td>\n",
       "      <td>43.0</td>\n",
       "      <td>66.0</td>\n",
       "      <td>54.5</td>\n",
       "      <td>12.0</td>\n",
       "    </tr>\n",
       "    <tr>\n",
       "      <th>2018-03-01 06:00:00</th>\n",
       "      <td>12</td>\n",
       "      <td>3</td>\n",
       "      <td>1</td>\n",
       "      <td>3</td>\n",
       "      <td>6</td>\n",
       "      <td>6.0</td>\n",
       "      <td>43.0</td>\n",
       "      <td>24.5</td>\n",
       "      <td>15.0</td>\n",
       "    </tr>\n",
       "    <tr>\n",
       "      <th>...</th>\n",
       "      <td>...</td>\n",
       "      <td>...</td>\n",
       "      <td>...</td>\n",
       "      <td>...</td>\n",
       "      <td>...</td>\n",
       "      <td>...</td>\n",
       "      <td>...</td>\n",
       "      <td>...</td>\n",
       "      <td>...</td>\n",
       "    </tr>\n",
       "    <tr>\n",
       "      <th>2018-08-13 08:00:00</th>\n",
       "      <td>91</td>\n",
       "      <td>8</td>\n",
       "      <td>13</td>\n",
       "      <td>0</td>\n",
       "      <td>8</td>\n",
       "      <td>39.0</td>\n",
       "      <td>66.0</td>\n",
       "      <td>52.5</td>\n",
       "      <td>137.0</td>\n",
       "    </tr>\n",
       "    <tr>\n",
       "      <th>2018-08-13 09:00:00</th>\n",
       "      <td>137</td>\n",
       "      <td>8</td>\n",
       "      <td>13</td>\n",
       "      <td>0</td>\n",
       "      <td>9</td>\n",
       "      <td>91.0</td>\n",
       "      <td>39.0</td>\n",
       "      <td>65.0</td>\n",
       "      <td>156.0</td>\n",
       "    </tr>\n",
       "    <tr>\n",
       "      <th>2018-08-13 10:00:00</th>\n",
       "      <td>156</td>\n",
       "      <td>8</td>\n",
       "      <td>13</td>\n",
       "      <td>0</td>\n",
       "      <td>10</td>\n",
       "      <td>137.0</td>\n",
       "      <td>91.0</td>\n",
       "      <td>114.0</td>\n",
       "      <td>144.0</td>\n",
       "    </tr>\n",
       "    <tr>\n",
       "      <th>2018-08-13 11:00:00</th>\n",
       "      <td>144</td>\n",
       "      <td>8</td>\n",
       "      <td>13</td>\n",
       "      <td>0</td>\n",
       "      <td>11</td>\n",
       "      <td>156.0</td>\n",
       "      <td>137.0</td>\n",
       "      <td>146.5</td>\n",
       "      <td>92.0</td>\n",
       "    </tr>\n",
       "    <tr>\n",
       "      <th>2018-08-13 12:00:00</th>\n",
       "      <td>92</td>\n",
       "      <td>8</td>\n",
       "      <td>13</td>\n",
       "      <td>0</td>\n",
       "      <td>12</td>\n",
       "      <td>144.0</td>\n",
       "      <td>156.0</td>\n",
       "      <td>150.0</td>\n",
       "      <td>119.0</td>\n",
       "    </tr>\n",
       "  </tbody>\n",
       "</table>\n",
       "<p>3971 rows × 9 columns</p>\n",
       "</div>"
      ],
      "text/plain": [
       "                     num_orders  month  day  dayofweek  hour  lag_1  lag_2  \\\n",
       "datetime                                                                     \n",
       "2018-03-01 02:00:00          71      3    1          3     2   85.0  124.0   \n",
       "2018-03-01 03:00:00          66      3    1          3     3   71.0   85.0   \n",
       "2018-03-01 04:00:00          43      3    1          3     4   66.0   71.0   \n",
       "2018-03-01 05:00:00           6      3    1          3     5   43.0   66.0   \n",
       "2018-03-01 06:00:00          12      3    1          3     6    6.0   43.0   \n",
       "...                         ...    ...  ...        ...   ...    ...    ...   \n",
       "2018-08-13 08:00:00          91      8   13          0     8   39.0   66.0   \n",
       "2018-08-13 09:00:00         137      8   13          0     9   91.0   39.0   \n",
       "2018-08-13 10:00:00         156      8   13          0    10  137.0   91.0   \n",
       "2018-08-13 11:00:00         144      8   13          0    11  156.0  137.0   \n",
       "2018-08-13 12:00:00          92      8   13          0    12  144.0  156.0   \n",
       "\n",
       "                     rolling_mean  target  \n",
       "datetime                                   \n",
       "2018-03-01 02:00:00         104.5    66.0  \n",
       "2018-03-01 03:00:00          78.0    43.0  \n",
       "2018-03-01 04:00:00          68.5     6.0  \n",
       "2018-03-01 05:00:00          54.5    12.0  \n",
       "2018-03-01 06:00:00          24.5    15.0  \n",
       "...                           ...     ...  \n",
       "2018-08-13 08:00:00          52.5   137.0  \n",
       "2018-08-13 09:00:00          65.0   156.0  \n",
       "2018-08-13 10:00:00         114.0   144.0  \n",
       "2018-08-13 11:00:00         146.5    92.0  \n",
       "2018-08-13 12:00:00         150.0   119.0  \n",
       "\n",
       "[3971 rows x 9 columns]"
      ]
     },
     "execution_count": 55,
     "metadata": {},
     "output_type": "execute_result"
    }
   ],
   "source": [
    "# тест функции\n",
    "prepare_no_split(df, 2, 2)"
   ]
  },
  {
   "cell_type": "markdown",
   "metadata": {
    "id": "GXSki-gSH4Sv"
   },
   "source": [
    "### Обучение моделей на выбранных фичах.     \n",
    "Обучим на конкретно выбранных фичах(тех что функцию тестирвали) lag_max = 9 & rolling_mean = 9, оценим метрикку RMSE"
   ]
  },
  {
   "cell_type": "code",
   "execution_count": null,
   "metadata": {
    "id": "vseDviriH4Sw",
    "outputId": "5e1d31fe-9772-47d5-d3df-f2850012d86f"
   },
   "outputs": [
    {
     "name": "stdout",
     "output_type": "stream",
     "text": [
      "RMSE на тест выборке =  38.714613765276354\n"
     ]
    }
   ],
   "source": [
    "#ЛинРег\n",
    "model =  LinearRegression()\n",
    "model.fit(X_train, Y_train)\n",
    "#print ('RMSE на трайн выборке = ' , mean_squared_error(Y_train, model.predict(X_train))**0.5 )\n",
    "print ('RMSE на тест выборке = ' , mean_squared_error(y_test, model.predict(x_test))**0.5   ) "
   ]
  },
  {
   "cell_type": "code",
   "execution_count": null,
   "metadata": {
    "id": "J5WC5X6OH4Sw",
    "outputId": "ead961b1-4e77-4df2-beb4-2ff02a8954d5"
   },
   "outputs": [
    {
     "name": "stdout",
     "output_type": "stream",
     "text": [
      "RMSE на тест выборке =  32.09323945133898\n",
      "CPU times: user 13.6 s, sys: 317 ms, total: 13.9 s\n",
      "Wall time: 15.1 s\n"
     ]
    }
   ],
   "source": [
    "%%time\n",
    "#CatBoost\n",
    "cat_features = ['day', 'month', 'dayofweek', 'hour']\n",
    "model =  CatBoostRegressor(silent=True, cat_features=cat_features)\n",
    "model.fit(X_train, Y_train)\n",
    "#print ('RMSE на трайн выборке = ' , mean_squared_error(Y_train, model.predict(X_train))**0.5 )\n",
    "print ('RMSE на тест выборке = ' , mean_squared_error(y_test, model.predict(x_test))**0.5   ) "
   ]
  },
  {
   "cell_type": "code",
   "execution_count": null,
   "metadata": {
    "id": "KGJ_rbEyH4Sx",
    "outputId": "a9cb5468-c63d-40f8-ad71-8635fda4ee3d"
   },
   "outputs": [
    {
     "name": "stdout",
     "output_type": "stream",
     "text": [
      "RMSE на тест выборке =  30.47750655551167\n",
      "CPU times: user 54 s, sys: 614 ms, total: 54.6 s\n",
      "Wall time: 54.9 s\n"
     ]
    }
   ],
   "source": [
    "%%time\n",
    "#\n",
    "model =  LGBMRegressor()\n",
    "model.fit(X_train, Y_train)\n",
    "#print ('RMSE на трайн выборке = ' , mean_squared_error(Y_train, model.predict(X_train))**0.5 )\n",
    "print ('RMSE на тест выборке = ' , mean_squared_error(y_test, model.predict(x_test))**0.5   ) "
   ]
  },
  {
   "cell_type": "markdown",
   "metadata": {
    "id": "9dpSQbLFH4Sx"
   },
   "source": [
    "CatBoost показал хороший результат за быстрое время оубчения. Поробуем поработать  с фичами, подобрать оптимальное соотношение lag_max  и roling_mean"
   ]
  },
  {
   "cell_type": "markdown",
   "metadata": {
    "id": "B_c2WuggH4Sx"
   },
   "source": [
    "### Подбор оптимальных фичей .   \n",
    "Пройдемся циклом и подбеерм оптимальные фичи,берем ЛинРег и КэтБуст"
   ]
  },
  {
   "cell_type": "code",
   "execution_count": null,
   "metadata": {
    "id": "3KibaNvPH4Sx",
    "outputId": "87ee29c6-ef18-459f-a40b-24a16831ed21",
    "scrolled": true
   },
   "outputs": [
    {
     "name": "stdout",
     "output_type": "stream",
     "text": [
      "model =  LinearRegression() rmse_best =  32.77319887752279 при lag_max =  26 rolling_mean =  6\n",
      "LinearRegression()\n",
      "model =  <catboost.core.CatBoostRegressor object at 0x7f76e4577280> rmse_best =  31.125333194885954 при lag_max =  28 rolling_mean =  6\n",
      "<catboost.core.CatBoostRegressor object at 0x7f76e4577280>\n",
      "CPU times: user 13min 2s, sys: 30.5 s, total: 13min 33s\n",
      "Wall time: 14min 43s\n"
     ]
    }
   ],
   "source": [
    "%%time\n",
    "# i lag\n",
    "# j rolling_mean\n",
    "\n",
    "rmse_best = 100\n",
    "cat_features = ['day', 'month', 'dayofweek', 'hour']\n",
    "for model_name in [LinearRegression(), CatBoostRegressor(silent=True,cat_features=cat_features)]:\n",
    "    for i in range (2,31,2):\n",
    "        for j in range (4,13,2):\n",
    "            X_train, x_test ,Y_train, y_test = prepare(df,i,j)\n",
    "            model = model_name\n",
    "            model.fit(X_train, Y_train)\n",
    "            rmse  =  mean_squared_error(y_test, model.predict(x_test))**0.5 \n",
    "            if rmse_best > rmse :\n",
    "                rmse_best = rmse\n",
    "                lag_max = i\n",
    "                rolling_mean = j\n",
    "    \n",
    "    \n",
    "    print ('model = ', model_name, 'rmse_best = ', rmse_best , 'при lag_max = ',lag_max , 'rolling_mean = ',rolling_mean )\n",
    "    print(model_name)\n",
    "   \n"
   ]
  },
  {
   "cell_type": "code",
   "execution_count": null,
   "metadata": {
    "id": "NjwOttGhH4Sx"
   },
   "outputs": [],
   "source": [
    "lag_max_cat = 28\n",
    "rolling_mean_cat = 6"
   ]
  },
  {
   "cell_type": "markdown",
   "metadata": {
    "id": "SzL3cGFhH4Sy"
   },
   "source": [
    "**LinearRegression()** rmse_best =  32.773 при lag_max =  26 rolling_mean =  6     \n",
    "**CatBoostRegressor** rmse_best =  31.125 при lag_max =  28 rolling_mean =  6  \n",
    "\n",
    "Необходимый таргет для преокта в rmse < 48 выполнен с запасом."
   ]
  },
  {
   "cell_type": "markdown",
   "metadata": {
    "id": "LYEsRqfwH4Sy"
   },
   "source": [
    "### Features important   \n"
   ]
  },
  {
   "cell_type": "markdown",
   "metadata": {
    "id": "1RMcPFh5H4Sy"
   },
   "source": [
    "#### Для  ЛинРегресси"
   ]
  },
  {
   "cell_type": "code",
   "execution_count": null,
   "metadata": {
    "id": "5j8h4fgsH4Sy"
   },
   "outputs": [],
   "source": [
    "X_train, x_test ,Y_train, y_test = prepare(df,26,6)"
   ]
  },
  {
   "cell_type": "code",
   "execution_count": null,
   "metadata": {
    "id": "TuNkrDeDH4Sy",
    "outputId": "73398246-f8c2-46e6-992c-b77e62211280"
   },
   "outputs": [
    {
     "name": "stdout",
     "output_type": "stream",
     "text": [
      "RMSE на тест выборке =  32.77319887752279\n"
     ]
    }
   ],
   "source": [
    "model =  LinearRegression()\n",
    "model.fit(X_train, Y_train)\n",
    "print ('RMSE на тест выборке = ' , mean_squared_error(y_test, model.predict(x_test))**0.5   ) "
   ]
  },
  {
   "cell_type": "code",
   "execution_count": null,
   "metadata": {
    "id": "6Yqou3IiH4Sy",
    "outputId": "72429cf3-5453-43ba-ffb4-ec3073a6bd8b"
   },
   "outputs": [
    {
     "data": {
      "image/png": "[encoded data removed]",
      "text/plain": [
       "<Figure size 1080x720 with 1 Axes>"
      ]
     },
     "metadata": {
      "needs_background": "light"
     },
     "output_type": "display_data"
    }
   ],
   "source": [
    "pd.Series(model.coef_, index=X_train.columns).abs().sort_values(ascending=False)\\\n",
    "                            .plot(kind='bar',grid=True, title='Важность признаков LinearRegression() ', figsize=(15,10))\n",
    "plt.show()\n"
   ]
  },
  {
   "cell_type": "markdown",
   "metadata": {
    "id": "j9sG0hBsH4Sz"
   },
   "source": [
    "#### Для CatBoost"
   ]
  },
  {
   "cell_type": "code",
   "execution_count": null,
   "metadata": {
    "id": "PMTGb2z7H4Sz"
   },
   "outputs": [],
   "source": [
    "X_train, x_test ,Y_train, y_test = prepare(df,lag_max_cat,rolling_mean_cat)"
   ]
  },
  {
   "cell_type": "code",
   "execution_count": null,
   "metadata": {
    "id": "Eqku1GmLH4Sz",
    "outputId": "eb6b853b-8aed-45da-eea0-979e2d22165a"
   },
   "outputs": [
    {
     "name": "stdout",
     "output_type": "stream",
     "text": [
      "RMSE на тест выборке =  31.125333194885954\n"
     ]
    }
   ],
   "source": [
    "model =  CatBoostRegressor(silent=True, cat_features=cat_features)\n",
    "model.fit(X_train, Y_train)\n",
    "#print ('RMSE на трайн выборке = ' , mean_squared_error(Y_train, model.predict(X_train))**0.5 )\n",
    "print ('RMSE на тест выборке = ' , mean_squared_error(y_test, model.predict(x_test))**0.5   ) \n"
   ]
  },
  {
   "cell_type": "code",
   "execution_count": null,
   "metadata": {
    "id": "egY19LvqH4Sz",
    "outputId": "b76bf289-41e4-4d9d-c6e7-c756485f47a1"
   },
   "outputs": [
    {
     "data": {
      "image/png": "[encoded data removed]",
      "text/plain": [
       "<Figure size 1080x720 with 1 Axes>"
      ]
     },
     "metadata": {
      "needs_background": "light"
     },
     "output_type": "display_data"
    }
   ],
   "source": [
    "pd.Series(model.feature_importances_, index=model.feature_names_).sort_values(ascending=False)\\\n",
    "                                      .plot(kind='bar',grid=True, title='Важность признаков CatBoost',figsize=(15,10))\n",
    "plt.show()\n"
   ]
  },
  {
   "cell_type": "markdown",
   "metadata": {
    "id": "bkNl2ir8H4Sz"
   },
   "source": [
    "**Вывод** Как видим у КэтБуста и ЛинРег различаются топы значимых признаков."
   ]
  },
  {
   "cell_type": "markdown",
   "metadata": {
    "id": "6_z9-8WoH4Sz"
   },
   "source": [
    "### Подбор гиперпараметров.   \n",
    "Возмем RandomForestRegressor для подобраных оптимальных фичей(для КэтБуста) и подберем оптимальные гиперпараметры, посомтрим на rmse.   \n",
    "Так же для CatBoost выполним подбор гиперпараметров на оптимальных фичах и попытаемся улучшить метрику.   \n",
    "При подборе нельзя использовать кроссвалидацию."
   ]
  },
  {
   "cell_type": "code",
   "execution_count": null,
   "metadata": {
    "id": "fnTZYecwH4S0"
   },
   "outputs": [],
   "source": [
    "X_train, x_test ,Y_train, y_test = prepare(df,lag_max_cat,rolling_mean_cat)"
   ]
  },
  {
   "cell_type": "markdown",
   "metadata": {
    "id": "1d0FRMfcH4S0"
   },
   "source": [
    "#### RandomForestRegressor подбор гиперпараметров.\n"
   ]
  },
  {
   "cell_type": "code",
   "execution_count": null,
   "metadata": {
    "id": "CE5QQ7gIH4S0",
    "outputId": "1e7e6ccf-155e-43b6-994d-a4a1d31a79e9"
   },
   "outputs": [
    {
     "name": "stdout",
     "output_type": "stream",
     "text": [
      "rmse_best =  31.42527630061424  при : n_estimators =  100 max_depth =  20\n",
      "CPU times: user 1min 59s, sys: 622 ms, total: 2min\n",
      "Wall time: 2min\n"
     ]
    }
   ],
   "source": [
    "%%time\n",
    "rmse_best = 100\n",
    "for i in range(100,200,20):\n",
    "    for j in [20,25,30]:\n",
    "        model = RandomForestRegressor(n_estimators=i,max_depth=j )\n",
    "        model.fit(X_train, Y_train)\n",
    "        rmse  =  mean_squared_error(y_test, model.predict(x_test))**0.5 \n",
    "        if rmse_best >= rmse :\n",
    "            rmse_best = rmse\n",
    "            n_estimators = i\n",
    "            max_depth = j\n",
    "             \n",
    "print ( 'rmse_best = ', rmse_best , ' при : n_estimators = ',n_estimators , \\\n",
    "           'max_depth = ',max_depth)\n"
   ]
  },
  {
   "cell_type": "markdown",
   "metadata": {
    "id": "mC4MIEPSH4S0"
   },
   "source": [
    "Получен хороший результат, чуть похуже кэтбуста на дефолтах.   \n",
    "Можно поискать рядом с этими значениями , используя GridSearchCV + TimeSeriesSplit\n"
   ]
  },
  {
   "cell_type": "code",
   "execution_count": null,
   "metadata": {
    "id": "uP7IkB2jH4S0"
   },
   "outputs": [],
   "source": [
    "tscv = TimeSeriesSplit(n_splits=3 )\n",
    "df_train = prepare_no_split(df, lag_max_cat, rolling_mean_cat)\n",
    "\n",
    "model = RandomForestRegressor()\n",
    "parametrs = { 'n_estimators': range (95,120,5),\n",
    "              'max_depth' : [18,20,22,24]  }\n",
    "\n",
    "tscv = TimeSeriesSplit(n_splits=2)\n"
   ]
  },
  {
   "cell_type": "code",
   "execution_count": null,
   "metadata": {
    "id": "G04mMC3uH4S0",
    "outputId": "7c33cb62-f597-438c-c2b6-7314595ea2d4"
   },
   "outputs": [
    {
     "name": "stdout",
     "output_type": "stream",
     "text": [
      "Best hyperparameters are:  {'max_depth': 20, 'n_estimators': 95}\n",
      "Best score is:  27.250765298143666\n"
     ]
    }
   ],
   "source": [
    "grid = GridSearchCV(model , parametrs, cv=tscv , scoring='neg_mean_squared_error')\n",
    "grid.fit( df_train.drop(['target'],axis=1) , df_train['target'] )\n",
    "print('Best hyperparameters are: ',grid.best_params_)\n",
    "print('Best score is: ',(-1 * grid.best_score_)**0.5)"
   ]
  },
  {
   "cell_type": "markdown",
   "metadata": {
    "id": "W5XGxuzIH4S1"
   },
   "source": [
    "Получили результат даже лучше КэтБуст"
   ]
  },
  {
   "cell_type": "markdown",
   "metadata": {
    "id": "K1Lh9nePH4S1"
   },
   "source": [
    "#### CatBoostRegressor подбор гиперпараметров    \n",
    "Поробуем улучшить скор , чем на дефолных настройках, хоят это маловероятно.\n"
   ]
  },
  {
   "cell_type": "code",
   "execution_count": null,
   "metadata": {
    "id": "DFXguLO-H4S1",
    "outputId": "4890fb6e-652d-48a6-c9b7-16f705495595"
   },
   "outputs": [
    {
     "name": "stdout",
     "output_type": "stream",
     "text": [
      "rmse_best =  31.463038208416638  при : learning_rate =  0.04 depth =  6\n",
      "CPU times: user 3min 2s, sys: 56.5 s, total: 3min 59s\n",
      "Wall time: 4min 7s\n"
     ]
    }
   ],
   "source": [
    "%%time\n",
    "rmse_best = 100\n",
    "for i in [0.04, 0.05, 0.06,]:\n",
    "    for j in[6, 7, 8]:\n",
    "        model = model = CatBoostRegressor(silent=True,cat_features=cat_features, learning_rate=i,depth=j )\n",
    "        model.fit(X_train, Y_train)\n",
    "        rmse  =  mean_squared_error(y_test, model.predict(x_test))**0.5 \n",
    "        if rmse_best >= rmse :\n",
    "            rmse_best = rmse\n",
    "            learning_rate = i\n",
    "            depth = j\n",
    "             \n",
    "print ( 'rmse_best = ', rmse_best , ' при : learning_rate = ',learning_rate , \\\n",
    "           'depth = ',depth)"
   ]
  },
  {
   "cell_type": "markdown",
   "metadata": {
    "id": "y5bjfBa1H4S1"
   },
   "source": [
    "Дефлотный кэтбуст не удалось победить ), но подошли близко."
   ]
  },
  {
   "cell_type": "markdown",
   "metadata": {
    "id": "wR-qWO60H4S2"
   },
   "source": [
    "## Тестирование   \n",
    "Выбираем лучшию модель на лучших ф подобранных фичах. CatBoost(дефолт)    lag_max =  12 rolling_mean =  10    \n",
    "Объединяем  трейн и валид, точнее берем всю выборку , кроме последних 10%. это у нас df    \n",
    "Обучаем на ней модель и смотрим результат метрики на df_for_submit (10%)   "
   ]
  },
  {
   "cell_type": "code",
   "execution_count": null,
   "metadata": {
    "id": "dGg81T24H4S2",
    "outputId": "a91b471f-69ab-4d8b-b8da-df0417b80fbc"
   },
   "outputs": [
    {
     "data": {
      "text/html": [
       "<div>\n",
       "<style scoped>\n",
       "    .dataframe tbody tr th:only-of-type {\n",
       "        vertical-align: middle;\n",
       "    }\n",
       "\n",
       "    .dataframe tbody tr th {\n",
       "        vertical-align: top;\n",
       "    }\n",
       "\n",
       "    .dataframe thead th {\n",
       "        text-align: right;\n",
       "    }\n",
       "</style>\n",
       "<table border=\"1\" class=\"dataframe\">\n",
       "  <thead>\n",
       "    <tr style=\"text-align: right;\">\n",
       "      <th></th>\n",
       "      <th>num_orders</th>\n",
       "      <th>month</th>\n",
       "      <th>day</th>\n",
       "      <th>dayofweek</th>\n",
       "      <th>hour</th>\n",
       "      <th>lag_1</th>\n",
       "      <th>lag_2</th>\n",
       "      <th>lag_3</th>\n",
       "      <th>lag_4</th>\n",
       "      <th>lag_5</th>\n",
       "      <th>...</th>\n",
       "      <th>lag_21</th>\n",
       "      <th>lag_22</th>\n",
       "      <th>lag_23</th>\n",
       "      <th>lag_24</th>\n",
       "      <th>lag_25</th>\n",
       "      <th>lag_26</th>\n",
       "      <th>lag_27</th>\n",
       "      <th>lag_28</th>\n",
       "      <th>rolling_mean</th>\n",
       "      <th>target</th>\n",
       "    </tr>\n",
       "    <tr>\n",
       "      <th>datetime</th>\n",
       "      <th></th>\n",
       "      <th></th>\n",
       "      <th></th>\n",
       "      <th></th>\n",
       "      <th></th>\n",
       "      <th></th>\n",
       "      <th></th>\n",
       "      <th></th>\n",
       "      <th></th>\n",
       "      <th></th>\n",
       "      <th></th>\n",
       "      <th></th>\n",
       "      <th></th>\n",
       "      <th></th>\n",
       "      <th></th>\n",
       "      <th></th>\n",
       "      <th></th>\n",
       "      <th></th>\n",
       "      <th></th>\n",
       "      <th></th>\n",
       "      <th></th>\n",
       "    </tr>\n",
       "  </thead>\n",
       "  <tbody>\n",
       "    <tr>\n",
       "      <th>2018-03-02 04:00:00</th>\n",
       "      <td>20</td>\n",
       "      <td>3</td>\n",
       "      <td>2</td>\n",
       "      <td>4</td>\n",
       "      <td>4</td>\n",
       "      <td>64.0</td>\n",
       "      <td>75.0</td>\n",
       "      <td>120.0</td>\n",
       "      <td>90.0</td>\n",
       "      <td>58.0</td>\n",
       "      <td>...</td>\n",
       "      <td>15.0</td>\n",
       "      <td>12.0</td>\n",
       "      <td>6.0</td>\n",
       "      <td>43.0</td>\n",
       "      <td>66.0</td>\n",
       "      <td>71.0</td>\n",
       "      <td>85.0</td>\n",
       "      <td>124.0</td>\n",
       "      <td>86.666667</td>\n",
       "      <td>11.0</td>\n",
       "    </tr>\n",
       "    <tr>\n",
       "      <th>2018-03-02 05:00:00</th>\n",
       "      <td>11</td>\n",
       "      <td>3</td>\n",
       "      <td>2</td>\n",
       "      <td>4</td>\n",
       "      <td>5</td>\n",
       "      <td>20.0</td>\n",
       "      <td>64.0</td>\n",
       "      <td>75.0</td>\n",
       "      <td>120.0</td>\n",
       "      <td>90.0</td>\n",
       "      <td>...</td>\n",
       "      <td>34.0</td>\n",
       "      <td>15.0</td>\n",
       "      <td>12.0</td>\n",
       "      <td>6.0</td>\n",
       "      <td>43.0</td>\n",
       "      <td>66.0</td>\n",
       "      <td>71.0</td>\n",
       "      <td>85.0</td>\n",
       "      <td>71.166667</td>\n",
       "      <td>11.0</td>\n",
       "    </tr>\n",
       "  </tbody>\n",
       "</table>\n",
       "<p>2 rows × 35 columns</p>\n",
       "</div>"
      ],
      "text/plain": [
       "                     num_orders  month  day  dayofweek  hour  lag_1  lag_2  \\\n",
       "datetime                                                                     \n",
       "2018-03-02 04:00:00          20      3    2          4     4   64.0   75.0   \n",
       "2018-03-02 05:00:00          11      3    2          4     5   20.0   64.0   \n",
       "\n",
       "                     lag_3  lag_4  lag_5  ...  lag_21  lag_22  lag_23  lag_24  \\\n",
       "datetime                                  ...                                   \n",
       "2018-03-02 04:00:00  120.0   90.0   58.0  ...    15.0    12.0     6.0    43.0   \n",
       "2018-03-02 05:00:00   75.0  120.0   90.0  ...    34.0    15.0    12.0     6.0   \n",
       "\n",
       "                     lag_25  lag_26  lag_27  lag_28  rolling_mean  target  \n",
       "datetime                                                                   \n",
       "2018-03-02 04:00:00    66.0    71.0    85.0   124.0     86.666667    11.0  \n",
       "2018-03-02 05:00:00    43.0    66.0    71.0    85.0     71.166667    11.0  \n",
       "\n",
       "[2 rows x 35 columns]"
      ]
     },
     "execution_count": 153,
     "metadata": {},
     "output_type": "execute_result"
    }
   ],
   "source": [
    "#создаем фичи\n",
    "df_train = prepare_no_split(df, lag_max_cat, rolling_mean_cat)\n",
    "df_train.head(2)"
   ]
  },
  {
   "cell_type": "code",
   "execution_count": null,
   "metadata": {
    "id": "pLEmwdZdH4S2",
    "outputId": "0407c351-b7a0-4a00-d5c4-a408cdefddad"
   },
   "outputs": [
    {
     "data": {
      "text/html": [
       "<div>\n",
       "<style scoped>\n",
       "    .dataframe tbody tr th:only-of-type {\n",
       "        vertical-align: middle;\n",
       "    }\n",
       "\n",
       "    .dataframe tbody tr th {\n",
       "        vertical-align: top;\n",
       "    }\n",
       "\n",
       "    .dataframe thead th {\n",
       "        text-align: right;\n",
       "    }\n",
       "</style>\n",
       "<table border=\"1\" class=\"dataframe\">\n",
       "  <thead>\n",
       "    <tr style=\"text-align: right;\">\n",
       "      <th></th>\n",
       "      <th>num_orders</th>\n",
       "      <th>month</th>\n",
       "      <th>day</th>\n",
       "      <th>dayofweek</th>\n",
       "      <th>hour</th>\n",
       "      <th>lag_1</th>\n",
       "      <th>lag_2</th>\n",
       "      <th>lag_3</th>\n",
       "      <th>lag_4</th>\n",
       "      <th>lag_5</th>\n",
       "      <th>...</th>\n",
       "      <th>lag_21</th>\n",
       "      <th>lag_22</th>\n",
       "      <th>lag_23</th>\n",
       "      <th>lag_24</th>\n",
       "      <th>lag_25</th>\n",
       "      <th>lag_26</th>\n",
       "      <th>lag_27</th>\n",
       "      <th>lag_28</th>\n",
       "      <th>rolling_mean</th>\n",
       "      <th>target</th>\n",
       "    </tr>\n",
       "    <tr>\n",
       "      <th>datetime</th>\n",
       "      <th></th>\n",
       "      <th></th>\n",
       "      <th></th>\n",
       "      <th></th>\n",
       "      <th></th>\n",
       "      <th></th>\n",
       "      <th></th>\n",
       "      <th></th>\n",
       "      <th></th>\n",
       "      <th></th>\n",
       "      <th></th>\n",
       "      <th></th>\n",
       "      <th></th>\n",
       "      <th></th>\n",
       "      <th></th>\n",
       "      <th></th>\n",
       "      <th></th>\n",
       "      <th></th>\n",
       "      <th></th>\n",
       "      <th></th>\n",
       "      <th></th>\n",
       "    </tr>\n",
       "  </thead>\n",
       "  <tbody>\n",
       "    <tr>\n",
       "      <th>2018-08-14 18:00:00</th>\n",
       "      <td>98</td>\n",
       "      <td>8</td>\n",
       "      <td>14</td>\n",
       "      <td>1</td>\n",
       "      <td>18</td>\n",
       "      <td>152.0</td>\n",
       "      <td>111.0</td>\n",
       "      <td>116.0</td>\n",
       "      <td>112.0</td>\n",
       "      <td>64.0</td>\n",
       "      <td>...</td>\n",
       "      <td>160.0</td>\n",
       "      <td>82.0</td>\n",
       "      <td>91.0</td>\n",
       "      <td>104.0</td>\n",
       "      <td>152.0</td>\n",
       "      <td>144.0</td>\n",
       "      <td>175.0</td>\n",
       "      <td>102.0</td>\n",
       "      <td>111.500000</td>\n",
       "      <td>109.0</td>\n",
       "    </tr>\n",
       "    <tr>\n",
       "      <th>2018-08-14 19:00:00</th>\n",
       "      <td>109</td>\n",
       "      <td>8</td>\n",
       "      <td>14</td>\n",
       "      <td>1</td>\n",
       "      <td>19</td>\n",
       "      <td>98.0</td>\n",
       "      <td>152.0</td>\n",
       "      <td>111.0</td>\n",
       "      <td>116.0</td>\n",
       "      <td>112.0</td>\n",
       "      <td>...</td>\n",
       "      <td>104.0</td>\n",
       "      <td>160.0</td>\n",
       "      <td>82.0</td>\n",
       "      <td>91.0</td>\n",
       "      <td>104.0</td>\n",
       "      <td>152.0</td>\n",
       "      <td>144.0</td>\n",
       "      <td>175.0</td>\n",
       "      <td>108.833333</td>\n",
       "      <td>84.0</td>\n",
       "    </tr>\n",
       "  </tbody>\n",
       "</table>\n",
       "<p>2 rows × 35 columns</p>\n",
       "</div>"
      ],
      "text/plain": [
       "                     num_orders  month  day  dayofweek  hour  lag_1  lag_2  \\\n",
       "datetime                                                                     \n",
       "2018-08-14 18:00:00          98      8   14          1    18  152.0  111.0   \n",
       "2018-08-14 19:00:00         109      8   14          1    19   98.0  152.0   \n",
       "\n",
       "                     lag_3  lag_4  lag_5  ...  lag_21  lag_22  lag_23  lag_24  \\\n",
       "datetime                                  ...                                   \n",
       "2018-08-14 18:00:00  116.0  112.0   64.0  ...   160.0    82.0    91.0   104.0   \n",
       "2018-08-14 19:00:00  111.0  116.0  112.0  ...   104.0   160.0    82.0    91.0   \n",
       "\n",
       "                     lag_25  lag_26  lag_27  lag_28  rolling_mean  target  \n",
       "datetime                                                                   \n",
       "2018-08-14 18:00:00   152.0   144.0   175.0   102.0    111.500000   109.0  \n",
       "2018-08-14 19:00:00   104.0   152.0   144.0   175.0    108.833333    84.0  \n",
       "\n",
       "[2 rows x 35 columns]"
      ]
     },
     "execution_count": 154,
     "metadata": {},
     "output_type": "execute_result"
    }
   ],
   "source": [
    "df_test = prepare_no_split(df_for_submit,lag_max_cat, rolling_mean_cat)\n",
    "df_test.head(2)"
   ]
  },
  {
   "cell_type": "code",
   "execution_count": null,
   "metadata": {
    "id": "drIDSumfH4S2",
    "outputId": "fa2ad1dc-d2ee-40e2-82e9-6801dde06606"
   },
   "outputs": [
    {
     "name": "stdout",
     "output_type": "stream",
     "text": [
      "RMSE на бизнесс_тест выборке =  38.82685316091465\n"
     ]
    }
   ],
   "source": [
    "model = CatBoostRegressor(silent=True)\n",
    "cat_features = ['day', 'month', 'dayofweek', 'hour']\n",
    "model.fit (df_train.drop(['target'],axis=1) , df_train['target'], cat_features)\n",
    "print ('RMSE на бизнесс_тест выборке = ' , mean_squared_error(df_test['target'],\\\n",
    "                                                    model.predict(df_test.drop(['target'],axis=1) ))**0.5   )          "
   ]
  },
  {
   "cell_type": "markdown",
   "metadata": {
    "id": "3gjLELGCH4S2"
   },
   "source": [
    "### Виализируем финальные предсказания и  график предсказанных рядов"
   ]
  },
  {
   "cell_type": "code",
   "execution_count": null,
   "metadata": {
    "id": "BAlC6c6VH4S3",
    "outputId": "5b3e2adc-524f-4c45-d969-197fcc2f1e17"
   },
   "outputs": [
    {
     "data": {
      "image/png": "[encoded data removed]",
      "text/plain": [
       "<Figure size 720x720 with 1 Axes>"
      ]
     },
     "metadata": {
      "needs_background": "light"
     },
     "output_type": "display_data"
    }
   ],
   "source": [
    "# Таргет\n",
    "plt.title(\"таргет num_orders на тест интервале\")\n",
    "df_test['target'].plot(figsize=(10,10))\n",
    "plt.show()"
   ]
  },
  {
   "cell_type": "code",
   "execution_count": null,
   "metadata": {
    "id": "K0jPPnKVH4S3",
    "outputId": "8d08aab5-a664-4291-c675-77afe65562cc"
   },
   "outputs": [
    {
     "data": {
      "image/png": "[encoded data removed]",
      "text/plain": [
       "<Figure size 720x720 with 1 Axes>"
      ]
     },
     "metadata": {
      "needs_background": "light"
     },
     "output_type": "display_data"
    }
   ],
   "source": [
    "#предикт\n",
    "df_test['predict'] = model.predict(df_test.drop(['target'],axis=1))\n",
    "plt.title('Предсказания num_orders  на тест интервале')\n",
    "df_test['predict'].plot(figsize=(10,10))\n",
    "plt.show()"
   ]
  },
  {
   "cell_type": "markdown",
   "metadata": {
    "id": "E32JoyYtH4S3"
   },
   "source": [
    "**Вывод** визуально видно, что модель смогла уловить/спрогнозировать зависимости/сезонность. В реальном графике конечно больше шума/случайных колебаний."
   ]
  },
  {
   "cell_type": "markdown",
   "metadata": {
    "id": "BE_3HWKPH4S3"
   },
   "source": [
    "Результат получен. rmse < 48   \n",
    "     \n",
    "Оценим модель на адекватнсоть.\n"
   ]
  },
  {
   "cell_type": "code",
   "execution_count": null,
   "metadata": {
    "id": "7w7wjP-pH4S4",
    "outputId": "671cb392-d5b1-4a71-a738-802d23a85f03"
   },
   "outputs": [
    {
     "name": "stdout",
     "output_type": "stream",
     "text": [
      "RMSE на бизнесс_тест выборке на DummyRegressor =  86.10976225791768\n"
     ]
    }
   ],
   "source": [
    "model = DummyRegressor(strategy = 'mean' )\n",
    "model.fit (df_train.drop(['target'],axis=1) , df_train['target'])\n",
    "print ('RMSE на бизнесс_тест выборке на DummyRegressor = ' , mean_squared_error(df_test['target'],\\\n",
    "                                                    model.predict(df_test.drop(['target'],axis=1) ))**0.5   )     "
   ]
  },
  {
   "cell_type": "markdown",
   "metadata": {
    "id": "32ZI5VD8H4S4"
   },
   "source": [
    "Наша модель адекватна. "
   ]
  },
  {
   "cell_type": "markdown",
   "metadata": {
    "id": "_Sy3XnJ6H4S4"
   },
   "source": [
    "## Общий вывод.   \n",
    "1. Данные были подготовлены. Время-даты переведены в datatime формат и выставлены индексами. Проведено ресепплирование по 1 часу.    \n",
    "2. Определены треновые и сезонные составляющие.  Явно выделяется внутри суток сезонность по часам.  \n",
    "3. От исходного датасета отделана 10% тестовая(бизнес) выборка, соблюдая последовательность во времени.       \n",
    "4. Подготовлены функция для создания фичей с разбивкой и без на трайн-тест.  Далее идет работа с трайн-валид выборкой.    \n",
    "5. Обучено несколко моделей на дефолтах на оринетировачных наборах фичей.   \n",
    "6. Подобраны оптимальные фичи для ЛинРег и КэтБуст. КэТБуст показывает лучший результат\n",
    "7. Рассмотерны важность фичей для ЛинРег и КэтБуст, видно , что есть отличия  в оценке важности фичей  у разных алгоритмсов.    8. На оптимальных фичах для КэтБуста подобррнаы гиперпараметры для СлучайногоЛеса и КэтБуста. ПОлучены метрики близкие к КэтБуст на дефолтах, однако определить Кэт на дефолтах не удалось. Алгоритм Кэт на дефлтах выбран как оптимальный.  \n",
    "9. Проведено тестирование на бизнес(тест) части выборки, получен скро 38.82,что  удволетворяет ТЗ заказчика. Так же проверена оценка модели на адекватность. "
   ]
  }
 ],
 "metadata": {
  "ExecuteTimeLog": [
   {
    "duration": 68,
    "start_time": "2023-03-15T08:49:16.693Z"
   },
   {
    "duration": 8,
    "start_time": "2023-03-15T08:49:18.767Z"
   },
   {
    "duration": 6,
    "start_time": "2023-03-15T08:49:19.135Z"
   },
   {
    "duration": 1622,
    "start_time": "2023-03-15T08:49:23.117Z"
   },
   {
    "duration": 3,
    "start_time": "2023-03-15T08:49:24.740Z"
   },
   {
    "duration": 119,
    "start_time": "2023-03-15T08:49:25.948Z"
   },
   {
    "duration": 87,
    "start_time": "2023-03-15T08:49:26.440Z"
   },
   {
    "duration": 13,
    "start_time": "2023-03-15T08:49:33.256Z"
   },
   {
    "duration": 18,
    "start_time": "2023-03-15T08:54:50.089Z"
   },
   {
    "duration": 8,
    "start_time": "2023-03-15T08:57:20.232Z"
   },
   {
    "duration": 8,
    "start_time": "2023-03-15T08:57:28.125Z"
   },
   {
    "duration": 8,
    "start_time": "2023-03-15T08:57:54.018Z"
   },
   {
    "duration": 37,
    "start_time": "2023-03-15T08:58:12.976Z"
   },
   {
    "duration": 9,
    "start_time": "2023-03-15T08:58:13.825Z"
   },
   {
    "duration": 8,
    "start_time": "2023-03-15T08:58:15.473Z"
   },
   {
    "duration": 9,
    "start_time": "2023-03-15T08:58:18.842Z"
   },
   {
    "duration": 235,
    "start_time": "2023-03-15T08:59:19.446Z"
   },
   {
    "duration": 19,
    "start_time": "2023-03-15T08:59:25.883Z"
   },
   {
    "duration": 13,
    "start_time": "2023-03-15T08:59:47.526Z"
   },
   {
    "duration": 9,
    "start_time": "2023-03-15T08:59:58.858Z"
   },
   {
    "duration": 3,
    "start_time": "2023-03-15T09:00:15.153Z"
   },
   {
    "duration": 10,
    "start_time": "2023-03-15T09:00:22.918Z"
   },
   {
    "duration": 6,
    "start_time": "2023-03-15T09:01:04.905Z"
   },
   {
    "duration": 9,
    "start_time": "2023-03-15T09:01:05.406Z"
   },
   {
    "duration": 7,
    "start_time": "2023-03-15T09:01:12.755Z"
   },
   {
    "duration": 9,
    "start_time": "2023-03-15T09:01:41.548Z"
   },
   {
    "duration": 17,
    "start_time": "2023-03-15T09:01:59.711Z"
   },
   {
    "duration": 18,
    "start_time": "2023-03-15T09:02:25.045Z"
   },
   {
    "duration": 12,
    "start_time": "2023-03-15T09:02:36.749Z"
   },
   {
    "duration": 12,
    "start_time": "2023-03-15T09:02:44.720Z"
   },
   {
    "duration": 31,
    "start_time": "2023-03-15T09:06:12.459Z"
   },
   {
    "duration": 118,
    "start_time": "2023-03-15T09:13:55.036Z"
   },
   {
    "duration": 746,
    "start_time": "2023-03-15T09:14:15.031Z"
   },
   {
    "duration": 6,
    "start_time": "2023-03-15T09:14:41.565Z"
   },
   {
    "duration": 5,
    "start_time": "2023-03-15T09:14:50.828Z"
   },
   {
    "duration": 4,
    "start_time": "2023-03-15T09:15:16.847Z"
   },
   {
    "duration": 755,
    "start_time": "2023-03-15T09:15:48.423Z"
   },
   {
    "duration": 621,
    "start_time": "2023-03-15T09:16:40.663Z"
   },
   {
    "duration": 191,
    "start_time": "2023-03-15T09:20:15.871Z"
   },
   {
    "duration": 149,
    "start_time": "2023-03-15T09:20:27.545Z"
   },
   {
    "duration": 238,
    "start_time": "2023-03-15T09:20:35.532Z"
   },
   {
    "duration": 119,
    "start_time": "2023-03-15T09:22:08.354Z"
   },
   {
    "duration": 4,
    "start_time": "2023-03-15T09:34:11.236Z"
   },
   {
    "duration": 11,
    "start_time": "2023-03-15T09:34:23.691Z"
   },
   {
    "duration": 12,
    "start_time": "2023-03-15T09:34:27.040Z"
   },
   {
    "duration": 4,
    "start_time": "2023-03-15T09:35:46.955Z"
   },
   {
    "duration": 15,
    "start_time": "2023-03-15T09:35:47.791Z"
   },
   {
    "duration": 12,
    "start_time": "2023-03-15T09:35:58.314Z"
   },
   {
    "duration": 5,
    "start_time": "2023-03-15T09:36:05.739Z"
   },
   {
    "duration": 12,
    "start_time": "2023-03-15T09:36:07.844Z"
   },
   {
    "duration": 4,
    "start_time": "2023-03-15T09:36:56.882Z"
   },
   {
    "duration": 15,
    "start_time": "2023-03-15T09:36:57.526Z"
   },
   {
    "duration": 4,
    "start_time": "2023-03-15T09:37:14.726Z"
   },
   {
    "duration": 7,
    "start_time": "2023-03-15T09:37:15.245Z"
   },
   {
    "duration": 15,
    "start_time": "2023-03-15T09:37:18.637Z"
   },
   {
    "duration": 4,
    "start_time": "2023-03-15T09:37:31.848Z"
   },
   {
    "duration": 45,
    "start_time": "2023-03-15T09:37:31.854Z"
   },
   {
    "duration": 50,
    "start_time": "2023-03-15T09:37:31.901Z"
   },
   {
    "duration": 9,
    "start_time": "2023-03-15T09:37:31.953Z"
   },
   {
    "duration": 28,
    "start_time": "2023-03-15T09:37:31.964Z"
   },
   {
    "duration": 52,
    "start_time": "2023-03-15T09:37:31.993Z"
   },
   {
    "duration": 48,
    "start_time": "2023-03-15T09:37:32.047Z"
   },
   {
    "duration": 20,
    "start_time": "2023-03-15T09:37:32.097Z"
   },
   {
    "duration": 42,
    "start_time": "2023-03-15T09:37:32.119Z"
   },
   {
    "duration": 12,
    "start_time": "2023-03-15T09:37:32.163Z"
   },
   {
    "duration": 725,
    "start_time": "2023-03-15T09:37:32.177Z"
   },
   {
    "duration": 142,
    "start_time": "2023-03-15T09:37:32.904Z"
   },
   {
    "duration": 8,
    "start_time": "2023-03-15T09:37:47.214Z"
   },
   {
    "duration": 5,
    "start_time": "2023-03-15T09:37:49.234Z"
   },
   {
    "duration": 8,
    "start_time": "2023-03-15T09:37:49.793Z"
   },
   {
    "duration": 17,
    "start_time": "2023-03-15T09:37:50.668Z"
   },
   {
    "duration": 4,
    "start_time": "2023-03-15T09:38:38.494Z"
   },
   {
    "duration": 59,
    "start_time": "2023-03-15T09:38:38.500Z"
   },
   {
    "duration": 39,
    "start_time": "2023-03-15T09:38:38.560Z"
   },
   {
    "duration": 10,
    "start_time": "2023-03-15T09:38:38.600Z"
   },
   {
    "duration": 8,
    "start_time": "2023-03-15T09:38:38.612Z"
   },
   {
    "duration": 6,
    "start_time": "2023-03-15T09:38:38.621Z"
   },
   {
    "duration": 15,
    "start_time": "2023-03-15T09:38:38.629Z"
   },
   {
    "duration": 10,
    "start_time": "2023-03-15T09:38:38.646Z"
   },
   {
    "duration": 8,
    "start_time": "2023-03-15T09:38:38.679Z"
   },
   {
    "duration": 9,
    "start_time": "2023-03-15T09:38:38.690Z"
   },
   {
    "duration": 686,
    "start_time": "2023-03-15T09:38:38.700Z"
   },
   {
    "duration": 206,
    "start_time": "2023-03-15T09:38:39.388Z"
   },
   {
    "duration": 9,
    "start_time": "2023-03-15T09:38:42.819Z"
   },
   {
    "duration": 9,
    "start_time": "2023-03-15T09:38:45.181Z"
   },
   {
    "duration": 16,
    "start_time": "2023-03-15T09:38:47.246Z"
   },
   {
    "duration": 4,
    "start_time": "2023-03-15T09:41:20.859Z"
   },
   {
    "duration": 13,
    "start_time": "2023-03-15T09:41:20.865Z"
   },
   {
    "duration": 59,
    "start_time": "2023-03-15T09:41:20.879Z"
   },
   {
    "duration": 12,
    "start_time": "2023-03-15T09:41:20.940Z"
   },
   {
    "duration": 33,
    "start_time": "2023-03-15T09:41:20.955Z"
   },
   {
    "duration": 25,
    "start_time": "2023-03-15T09:41:20.990Z"
   },
   {
    "duration": 23,
    "start_time": "2023-03-15T09:41:21.017Z"
   },
   {
    "duration": 30,
    "start_time": "2023-03-15T09:41:21.041Z"
   },
   {
    "duration": 5,
    "start_time": "2023-03-15T09:41:21.073Z"
   },
   {
    "duration": 16,
    "start_time": "2023-03-15T09:41:21.080Z"
   },
   {
    "duration": 706,
    "start_time": "2023-03-15T09:41:21.098Z"
   },
   {
    "duration": 139,
    "start_time": "2023-03-15T09:41:21.805Z"
   },
   {
    "duration": 5,
    "start_time": "2023-03-15T09:41:24.913Z"
   },
   {
    "duration": 12,
    "start_time": "2023-03-15T09:41:32.806Z"
   },
   {
    "duration": 5,
    "start_time": "2023-03-15T09:41:44.918Z"
   },
   {
    "duration": 12,
    "start_time": "2023-03-15T09:41:47.642Z"
   },
   {
    "duration": 16,
    "start_time": "2023-03-15T09:41:50.465Z"
   },
   {
    "duration": 15,
    "start_time": "2023-03-15T09:41:57.730Z"
   },
   {
    "duration": 4,
    "start_time": "2023-03-15T09:42:46.475Z"
   },
   {
    "duration": 12,
    "start_time": "2023-03-15T09:42:46.481Z"
   },
   {
    "duration": 47,
    "start_time": "2023-03-15T09:42:46.495Z"
   },
   {
    "duration": 10,
    "start_time": "2023-03-15T09:42:46.545Z"
   },
   {
    "duration": 26,
    "start_time": "2023-03-15T09:42:46.557Z"
   },
   {
    "duration": 15,
    "start_time": "2023-03-15T09:42:46.584Z"
   },
   {
    "duration": 28,
    "start_time": "2023-03-15T09:42:46.601Z"
   },
   {
    "duration": 12,
    "start_time": "2023-03-15T09:42:46.631Z"
   },
   {
    "duration": 7,
    "start_time": "2023-03-15T09:42:46.645Z"
   },
   {
    "duration": 5,
    "start_time": "2023-03-15T09:42:46.655Z"
   },
   {
    "duration": 783,
    "start_time": "2023-03-15T09:42:46.662Z"
   },
   {
    "duration": 133,
    "start_time": "2023-03-15T09:42:47.447Z"
   },
   {
    "duration": 23,
    "start_time": "2023-03-15T09:44:30.875Z"
   },
   {
    "duration": 17,
    "start_time": "2023-03-15T09:44:34.625Z"
   },
   {
    "duration": 9,
    "start_time": "2023-03-15T09:44:38.029Z"
   },
   {
    "duration": 4,
    "start_time": "2023-03-15T09:46:55.615Z"
   },
   {
    "duration": 12,
    "start_time": "2023-03-15T09:46:55.621Z"
   },
   {
    "duration": 42,
    "start_time": "2023-03-15T09:46:55.634Z"
   },
   {
    "duration": 11,
    "start_time": "2023-03-15T09:46:55.677Z"
   },
   {
    "duration": 14,
    "start_time": "2023-03-15T09:46:55.690Z"
   },
   {
    "duration": 12,
    "start_time": "2023-03-15T09:46:55.705Z"
   },
   {
    "duration": 13,
    "start_time": "2023-03-15T09:46:55.718Z"
   },
   {
    "duration": 94,
    "start_time": "2023-03-15T09:46:55.732Z"
   },
   {
    "duration": 4,
    "start_time": "2023-03-15T09:46:55.828Z"
   },
   {
    "duration": 10,
    "start_time": "2023-03-15T09:46:55.833Z"
   },
   {
    "duration": 696,
    "start_time": "2023-03-15T09:46:55.844Z"
   },
   {
    "duration": 130,
    "start_time": "2023-03-15T09:46:56.542Z"
   },
   {
    "duration": 12,
    "start_time": "2023-03-15T09:47:03.741Z"
   },
   {
    "duration": 2,
    "start_time": "2023-03-15T09:47:05.819Z"
   },
   {
    "duration": 8,
    "start_time": "2023-03-15T09:47:08.437Z"
   },
   {
    "duration": 22,
    "start_time": "2023-03-15T09:47:57.846Z"
   },
   {
    "duration": 21,
    "start_time": "2023-03-15T09:48:00.329Z"
   },
   {
    "duration": 9,
    "start_time": "2023-03-15T09:48:16.855Z"
   },
   {
    "duration": 19,
    "start_time": "2023-03-15T09:49:50.281Z"
   },
   {
    "duration": 12,
    "start_time": "2023-03-15T09:51:15.883Z"
   },
   {
    "duration": 14,
    "start_time": "2023-03-15T09:51:20.354Z"
   },
   {
    "duration": 4,
    "start_time": "2023-03-15T09:52:53.406Z"
   },
   {
    "duration": 4,
    "start_time": "2023-03-15T09:53:02.095Z"
   },
   {
    "duration": 6,
    "start_time": "2023-03-15T09:53:08.536Z"
   },
   {
    "duration": 4,
    "start_time": "2023-03-15T09:53:10.617Z"
   },
   {
    "duration": 4,
    "start_time": "2023-03-15T09:54:02.540Z"
   },
   {
    "duration": 7,
    "start_time": "2023-03-15T09:55:08.862Z"
   },
   {
    "duration": 6,
    "start_time": "2023-03-15T09:55:19.935Z"
   },
   {
    "duration": 16,
    "start_time": "2023-03-15T09:55:24.218Z"
   },
   {
    "duration": 4,
    "start_time": "2023-03-15T10:11:06.287Z"
   },
   {
    "duration": 8,
    "start_time": "2023-03-15T10:11:21.695Z"
   },
   {
    "duration": 2,
    "start_time": "2023-03-15T10:11:29.936Z"
   },
   {
    "duration": 4,
    "start_time": "2023-03-15T10:11:38.071Z"
   },
   {
    "duration": 12,
    "start_time": "2023-03-15T10:11:40.387Z"
   },
   {
    "duration": 3,
    "start_time": "2023-03-15T10:11:53.833Z"
   },
   {
    "duration": 3,
    "start_time": "2023-03-15T10:11:56.647Z"
   },
   {
    "duration": 4,
    "start_time": "2023-03-15T10:12:09.332Z"
   },
   {
    "duration": 14,
    "start_time": "2023-03-15T10:12:12.512Z"
   },
   {
    "duration": 4,
    "start_time": "2023-03-15T10:12:48.132Z"
   },
   {
    "duration": 15,
    "start_time": "2023-03-15T10:12:54.392Z"
   },
   {
    "duration": 3,
    "start_time": "2023-03-15T10:13:36.453Z"
   },
   {
    "duration": 2,
    "start_time": "2023-03-15T10:13:40.977Z"
   },
   {
    "duration": 4,
    "start_time": "2023-03-15T10:13:50.385Z"
   },
   {
    "duration": 13,
    "start_time": "2023-03-15T10:13:51.873Z"
   },
   {
    "duration": 18,
    "start_time": "2023-03-15T10:14:06.633Z"
   },
   {
    "duration": 2,
    "start_time": "2023-03-15T10:14:34.170Z"
   },
   {
    "duration": 4,
    "start_time": "2023-03-15T10:14:36.332Z"
   },
   {
    "duration": 14,
    "start_time": "2023-03-15T10:14:37.058Z"
   },
   {
    "duration": 16,
    "start_time": "2023-03-15T10:14:47.851Z"
   },
   {
    "duration": 4,
    "start_time": "2023-03-15T10:14:54.850Z"
   },
   {
    "duration": 3,
    "start_time": "2023-03-15T10:15:00.838Z"
   },
   {
    "duration": 4,
    "start_time": "2023-03-15T10:15:06.250Z"
   },
   {
    "duration": 19,
    "start_time": "2023-03-15T10:15:07.291Z"
   },
   {
    "duration": 4,
    "start_time": "2023-03-15T10:15:25.362Z"
   },
   {
    "duration": 3,
    "start_time": "2023-03-15T10:15:28.840Z"
   },
   {
    "duration": 4,
    "start_time": "2023-03-15T10:15:31.133Z"
   },
   {
    "duration": 4,
    "start_time": "2023-03-15T10:15:37.637Z"
   },
   {
    "duration": 2,
    "start_time": "2023-03-15T10:15:40.059Z"
   },
   {
    "duration": 16,
    "start_time": "2023-03-15T10:15:43.883Z"
   },
   {
    "duration": 3,
    "start_time": "2023-03-15T10:16:23.988Z"
   },
   {
    "duration": 2,
    "start_time": "2023-03-15T10:16:37.333Z"
   },
   {
    "duration": 4,
    "start_time": "2023-03-15T10:16:37.683Z"
   },
   {
    "duration": 29,
    "start_time": "2023-03-15T10:16:39.676Z"
   },
   {
    "duration": 3,
    "start_time": "2023-03-15T10:16:51.404Z"
   },
   {
    "duration": 5,
    "start_time": "2023-03-15T10:16:51.934Z"
   },
   {
    "duration": 18,
    "start_time": "2023-03-15T10:16:54.734Z"
   },
   {
    "duration": 2,
    "start_time": "2023-03-15T10:17:27.333Z"
   },
   {
    "duration": 4,
    "start_time": "2023-03-15T10:17:27.965Z"
   },
   {
    "duration": 20,
    "start_time": "2023-03-15T10:17:32.773Z"
   },
   {
    "duration": 16,
    "start_time": "2023-03-15T10:17:58.333Z"
   },
   {
    "duration": 6,
    "start_time": "2023-03-15T10:18:10.921Z"
   },
   {
    "duration": 15,
    "start_time": "2023-03-15T10:18:13.453Z"
   },
   {
    "duration": 2,
    "start_time": "2023-03-15T10:18:56.925Z"
   },
   {
    "duration": 4,
    "start_time": "2023-03-15T10:18:58.121Z"
   },
   {
    "duration": 19,
    "start_time": "2023-03-15T10:19:00.837Z"
   },
   {
    "duration": 3,
    "start_time": "2023-03-15T10:19:08.646Z"
   },
   {
    "duration": 17,
    "start_time": "2023-03-15T10:19:11.847Z"
   },
   {
    "duration": 15,
    "start_time": "2023-03-15T10:19:29.726Z"
   },
   {
    "duration": 17,
    "start_time": "2023-03-15T10:19:33.023Z"
   },
   {
    "duration": 4,
    "start_time": "2023-03-15T10:19:51.830Z"
   },
   {
    "duration": 16,
    "start_time": "2023-03-15T10:19:52.417Z"
   },
   {
    "duration": 4,
    "start_time": "2023-03-15T10:20:02.057Z"
   },
   {
    "duration": 44,
    "start_time": "2023-03-15T10:20:02.063Z"
   },
   {
    "duration": 79,
    "start_time": "2023-03-15T10:20:02.109Z"
   },
   {
    "duration": 46,
    "start_time": "2023-03-15T10:20:02.190Z"
   },
   {
    "duration": 55,
    "start_time": "2023-03-15T10:20:02.238Z"
   },
   {
    "duration": 43,
    "start_time": "2023-03-15T10:20:02.294Z"
   },
   {
    "duration": 44,
    "start_time": "2023-03-15T10:20:02.339Z"
   },
   {
    "duration": 96,
    "start_time": "2023-03-15T10:20:02.384Z"
   },
   {
    "duration": 37,
    "start_time": "2023-03-15T10:20:02.481Z"
   },
   {
    "duration": 30,
    "start_time": "2023-03-15T10:20:02.520Z"
   },
   {
    "duration": 725,
    "start_time": "2023-03-15T10:20:02.551Z"
   },
   {
    "duration": 126,
    "start_time": "2023-03-15T10:20:03.278Z"
   },
   {
    "duration": 2,
    "start_time": "2023-03-15T10:20:03.406Z"
   },
   {
    "duration": 7,
    "start_time": "2023-03-15T10:20:07.239Z"
   },
   {
    "duration": 9,
    "start_time": "2023-03-15T10:20:13.887Z"
   },
   {
    "duration": 4,
    "start_time": "2023-03-15T10:20:20.271Z"
   },
   {
    "duration": 20,
    "start_time": "2023-03-15T10:20:22.671Z"
   },
   {
    "duration": 15,
    "start_time": "2023-03-15T10:20:51.487Z"
   },
   {
    "duration": 8,
    "start_time": "2023-03-15T10:21:04.967Z"
   },
   {
    "duration": 2,
    "start_time": "2023-03-15T10:21:08.872Z"
   },
   {
    "duration": 8,
    "start_time": "2023-03-15T10:21:12.391Z"
   },
   {
    "duration": 7,
    "start_time": "2023-03-15T10:21:14.733Z"
   },
   {
    "duration": 4,
    "start_time": "2023-03-15T10:21:18.775Z"
   },
   {
    "duration": 9,
    "start_time": "2023-03-15T10:21:25.528Z"
   },
   {
    "duration": 17,
    "start_time": "2023-03-15T10:21:28.544Z"
   },
   {
    "duration": 2,
    "start_time": "2023-03-15T10:22:51.143Z"
   },
   {
    "duration": 14,
    "start_time": "2023-03-15T10:22:53.223Z"
   },
   {
    "duration": 5,
    "start_time": "2023-03-15T10:23:01.066Z"
   },
   {
    "duration": 51,
    "start_time": "2023-03-15T10:23:01.073Z"
   },
   {
    "duration": 73,
    "start_time": "2023-03-15T10:23:01.126Z"
   },
   {
    "duration": 12,
    "start_time": "2023-03-15T10:23:01.201Z"
   },
   {
    "duration": 49,
    "start_time": "2023-03-15T10:23:01.215Z"
   },
   {
    "duration": 37,
    "start_time": "2023-03-15T10:23:01.266Z"
   },
   {
    "duration": 49,
    "start_time": "2023-03-15T10:23:01.305Z"
   },
   {
    "duration": 36,
    "start_time": "2023-03-15T10:23:01.355Z"
   },
   {
    "duration": 30,
    "start_time": "2023-03-15T10:23:01.392Z"
   },
   {
    "duration": 40,
    "start_time": "2023-03-15T10:23:01.424Z"
   },
   {
    "duration": 851,
    "start_time": "2023-03-15T10:23:01.466Z"
   },
   {
    "duration": 142,
    "start_time": "2023-03-15T10:23:02.318Z"
   },
   {
    "duration": 2,
    "start_time": "2023-03-15T10:23:07.123Z"
   },
   {
    "duration": 8,
    "start_time": "2023-03-15T10:23:20.640Z"
   },
   {
    "duration": 69,
    "start_time": "2023-03-15T10:23:51.222Z"
   },
   {
    "duration": 19,
    "start_time": "2023-03-15T10:24:03.035Z"
   },
   {
    "duration": 23,
    "start_time": "2023-03-15T10:24:14.118Z"
   },
   {
    "duration": 7,
    "start_time": "2023-03-15T10:24:40.080Z"
   },
   {
    "duration": 21,
    "start_time": "2023-03-15T10:25:28.425Z"
   },
   {
    "duration": 21,
    "start_time": "2023-03-15T10:29:29.919Z"
   },
   {
    "duration": 22,
    "start_time": "2023-03-15T10:29:52.241Z"
   },
   {
    "duration": 31,
    "start_time": "2023-03-15T10:35:00.372Z"
   },
   {
    "duration": 18,
    "start_time": "2023-03-15T10:35:17.476Z"
   },
   {
    "duration": 27,
    "start_time": "2023-03-15T10:35:24.610Z"
   },
   {
    "duration": 20,
    "start_time": "2023-03-15T10:36:32.629Z"
   },
   {
    "duration": 44,
    "start_time": "2023-03-15T10:36:41.614Z"
   },
   {
    "duration": 12,
    "start_time": "2023-03-15T10:37:05.565Z"
   },
   {
    "duration": 10,
    "start_time": "2023-03-15T10:37:47.420Z"
   },
   {
    "duration": 5,
    "start_time": "2023-03-15T10:38:00.721Z"
   },
   {
    "duration": 4,
    "start_time": "2023-03-15T10:43:24.346Z"
   },
   {
    "duration": 8,
    "start_time": "2023-03-15T10:43:40.109Z"
   },
   {
    "duration": 3,
    "start_time": "2023-03-15T10:44:54.719Z"
   },
   {
    "duration": 8,
    "start_time": "2023-03-15T10:45:10.851Z"
   },
   {
    "duration": 3,
    "start_time": "2023-03-15T10:45:17.015Z"
   },
   {
    "duration": 9,
    "start_time": "2023-03-15T10:45:24.861Z"
   },
   {
    "duration": 15,
    "start_time": "2023-03-15T10:45:35.452Z"
   },
   {
    "duration": 5,
    "start_time": "2023-03-15T10:46:07.917Z"
   },
   {
    "duration": 14,
    "start_time": "2023-03-15T10:46:11.644Z"
   },
   {
    "duration": 4,
    "start_time": "2023-03-15T10:46:12.824Z"
   },
   {
    "duration": 20,
    "start_time": "2023-03-15T10:46:19.035Z"
   },
   {
    "duration": 14,
    "start_time": "2023-03-15T10:46:35.209Z"
   },
   {
    "duration": 14,
    "start_time": "2023-03-15T10:47:12.253Z"
   },
   {
    "duration": 3,
    "start_time": "2023-03-15T10:47:29.437Z"
   },
   {
    "duration": 16,
    "start_time": "2023-03-15T10:47:36.740Z"
   },
   {
    "duration": 4,
    "start_time": "2023-03-15T10:48:20.207Z"
   },
   {
    "duration": 6,
    "start_time": "2023-03-15T10:48:20.213Z"
   },
   {
    "duration": 38,
    "start_time": "2023-03-15T10:48:20.221Z"
   },
   {
    "duration": 10,
    "start_time": "2023-03-15T10:48:20.260Z"
   },
   {
    "duration": 15,
    "start_time": "2023-03-15T10:48:20.273Z"
   },
   {
    "duration": 12,
    "start_time": "2023-03-15T10:48:20.290Z"
   },
   {
    "duration": 16,
    "start_time": "2023-03-15T10:48:20.303Z"
   },
   {
    "duration": 12,
    "start_time": "2023-03-15T10:48:20.321Z"
   },
   {
    "duration": 11,
    "start_time": "2023-03-15T10:48:20.334Z"
   },
   {
    "duration": 14,
    "start_time": "2023-03-15T10:48:20.346Z"
   },
   {
    "duration": 759,
    "start_time": "2023-03-15T10:48:20.362Z"
   },
   {
    "duration": 124,
    "start_time": "2023-03-15T10:48:21.123Z"
   },
   {
    "duration": 3,
    "start_time": "2023-03-15T10:48:21.248Z"
   },
   {
    "duration": 7,
    "start_time": "2023-03-15T10:48:28.313Z"
   },
   {
    "duration": 7,
    "start_time": "2023-03-15T10:48:32.405Z"
   },
   {
    "duration": 11,
    "start_time": "2023-03-15T10:48:37.477Z"
   },
   {
    "duration": 18,
    "start_time": "2023-03-15T10:48:40.417Z"
   },
   {
    "duration": 4,
    "start_time": "2023-03-15T10:48:41.818Z"
   },
   {
    "duration": 23,
    "start_time": "2023-03-15T10:48:43.709Z"
   },
   {
    "duration": 16,
    "start_time": "2023-03-15T10:49:32.031Z"
   },
   {
    "duration": 8,
    "start_time": "2023-03-15T10:49:35.750Z"
   },
   {
    "duration": 2,
    "start_time": "2023-03-15T10:49:51.114Z"
   },
   {
    "duration": 8,
    "start_time": "2023-03-15T10:49:55.416Z"
   },
   {
    "duration": 4,
    "start_time": "2023-03-15T10:49:58.048Z"
   },
   {
    "duration": 12,
    "start_time": "2023-03-15T10:50:01.230Z"
   },
   {
    "duration": 3,
    "start_time": "2023-03-15T10:50:03.032Z"
   },
   {
    "duration": 14,
    "start_time": "2023-03-15T10:50:06.422Z"
   },
   {
    "duration": 4,
    "start_time": "2023-03-15T10:50:35.418Z"
   },
   {
    "duration": 17,
    "start_time": "2023-03-15T10:50:35.424Z"
   },
   {
    "duration": 69,
    "start_time": "2023-03-15T10:50:35.443Z"
   },
   {
    "duration": 10,
    "start_time": "2023-03-15T10:50:35.514Z"
   },
   {
    "duration": 35,
    "start_time": "2023-03-15T10:50:35.526Z"
   },
   {
    "duration": 13,
    "start_time": "2023-03-15T10:50:35.563Z"
   },
   {
    "duration": 30,
    "start_time": "2023-03-15T10:50:35.578Z"
   },
   {
    "duration": 19,
    "start_time": "2023-03-15T10:50:35.611Z"
   },
   {
    "duration": 4,
    "start_time": "2023-03-15T10:50:35.632Z"
   },
   {
    "duration": 6,
    "start_time": "2023-03-15T10:50:35.638Z"
   },
   {
    "duration": 800,
    "start_time": "2023-03-15T10:50:35.646Z"
   },
   {
    "duration": 140,
    "start_time": "2023-03-15T10:50:36.448Z"
   },
   {
    "duration": 2,
    "start_time": "2023-03-15T10:50:36.590Z"
   },
   {
    "duration": 8,
    "start_time": "2023-03-15T10:50:42.319Z"
   },
   {
    "duration": 79,
    "start_time": "2023-03-15T10:50:46.352Z"
   },
   {
    "duration": 5,
    "start_time": "2023-03-15T10:51:12.920Z"
   },
   {
    "duration": 17,
    "start_time": "2023-03-15T10:51:22.055Z"
   },
   {
    "duration": 4,
    "start_time": "2023-03-15T10:51:24.004Z"
   },
   {
    "duration": 8,
    "start_time": "2023-03-15T10:51:27.007Z"
   },
   {
    "duration": 23,
    "start_time": "2023-03-15T10:51:46.116Z"
   },
   {
    "duration": 5,
    "start_time": "2023-03-15T10:51:52.708Z"
   },
   {
    "duration": 17,
    "start_time": "2023-03-15T10:53:38.537Z"
   },
   {
    "duration": 27,
    "start_time": "2023-03-15T10:53:58.825Z"
   },
   {
    "duration": 8,
    "start_time": "2023-03-15T10:54:16.113Z"
   },
   {
    "duration": 10,
    "start_time": "2023-03-15T11:05:47.042Z"
   },
   {
    "duration": 10,
    "start_time": "2023-03-15T11:06:28.843Z"
   },
   {
    "duration": 3,
    "start_time": "2023-03-15T11:11:32.903Z"
   },
   {
    "duration": 3559,
    "start_time": "2023-03-15T11:18:02.470Z"
   },
   {
    "duration": 3205,
    "start_time": "2023-03-15T11:18:17.740Z"
   },
   {
    "duration": 3355,
    "start_time": "2023-03-15T11:24:01.647Z"
   },
   {
    "duration": 117,
    "start_time": "2023-03-15T11:27:17.371Z"
   },
   {
    "duration": 3065,
    "start_time": "2023-03-15T11:27:37.816Z"
   },
   {
    "duration": 2727,
    "start_time": "2023-03-15T11:28:09.354Z"
   },
   {
    "duration": 110,
    "start_time": "2023-03-15T11:30:03.854Z"
   },
   {
    "duration": 2834,
    "start_time": "2023-03-15T11:30:10.252Z"
   },
   {
    "duration": 10,
    "start_time": "2023-03-15T11:31:15.430Z"
   },
   {
    "duration": 3177,
    "start_time": "2023-03-15T11:32:29.410Z"
   },
   {
    "duration": 3288,
    "start_time": "2023-03-15T11:33:04.400Z"
   },
   {
    "duration": 3088,
    "start_time": "2023-03-15T11:33:13.009Z"
   },
   {
    "duration": 3276,
    "start_time": "2023-03-15T11:33:30.817Z"
   },
   {
    "duration": 2883,
    "start_time": "2023-03-15T11:33:44.506Z"
   },
   {
    "duration": 3061,
    "start_time": "2023-03-15T11:34:03.322Z"
   },
   {
    "duration": 169289,
    "start_time": "2023-03-15T11:34:39.802Z"
   },
   {
    "duration": 7,
    "start_time": "2023-03-15T11:37:44.948Z"
   },
   {
    "duration": 28,
    "start_time": "2023-03-15T11:37:46.435Z"
   },
   {
    "duration": 6,
    "start_time": "2023-03-15T11:38:11.915Z"
   },
   {
    "duration": 27,
    "start_time": "2023-03-15T11:38:13.913Z"
   },
   {
    "duration": 75,
    "start_time": "2023-03-15T11:38:21.814Z"
   },
   {
    "duration": 3114,
    "start_time": "2023-03-15T11:38:26.053Z"
   },
   {
    "duration": 18,
    "start_time": "2023-03-15T11:39:33.088Z"
   },
   {
    "duration": 3174,
    "start_time": "2023-03-15T11:39:35.006Z"
   },
   {
    "duration": 42,
    "start_time": "2023-03-15T11:40:35.602Z"
   },
   {
    "duration": 22282,
    "start_time": "2023-03-15T11:40:43.227Z"
   },
   {
    "duration": 148507,
    "start_time": "2023-03-15T11:41:36.029Z"
   },
   {
    "duration": 12670,
    "start_time": "2023-03-15T11:44:13.198Z"
   },
   {
    "duration": 190528,
    "start_time": "2023-03-15T11:44:56.306Z"
   },
   {
    "duration": 4,
    "start_time": "2023-03-15T11:51:35.515Z"
   },
   {
    "duration": 7,
    "start_time": "2023-03-15T11:51:47.751Z"
   },
   {
    "duration": 8,
    "start_time": "2023-03-15T11:52:16.910Z"
   },
   {
    "duration": 38,
    "start_time": "2023-03-15T11:57:44.494Z"
   },
   {
    "duration": 13747,
    "start_time": "2023-03-15T11:58:09.828Z"
   },
   {
    "duration": 8,
    "start_time": "2023-03-15T11:58:31.413Z"
   },
   {
    "duration": 177772,
    "start_time": "2023-03-15T11:59:26.499Z"
   },
   {
    "duration": 8,
    "start_time": "2023-03-15T12:02:24.273Z"
   },
   {
    "duration": 266787,
    "start_time": "2023-03-15T12:03:07.055Z"
   },
   {
    "duration": 10,
    "start_time": "2023-03-15T12:07:33.844Z"
   },
   {
    "duration": 7838,
    "start_time": "2023-03-15T12:09:07.143Z"
   },
   {
    "duration": 8180,
    "start_time": "2023-03-15T12:10:38.102Z"
   },
   {
    "duration": 7,
    "start_time": "2023-03-15T12:11:53.352Z"
   },
   {
    "duration": 28747,
    "start_time": "2023-03-15T12:13:13.217Z"
   },
   {
    "duration": 29,
    "start_time": "2023-03-15T12:13:42.040Z"
   },
   {
    "duration": 3189,
    "start_time": "2023-03-15T12:13:49.449Z"
   },
   {
    "duration": 175,
    "start_time": "2023-03-15T12:14:13.005Z"
   },
   {
    "duration": 3574,
    "start_time": "2023-03-15T12:14:15.985Z"
   },
   {
    "duration": 161423,
    "start_time": "2023-03-15T12:14:21.857Z"
   },
   {
    "duration": 191598,
    "start_time": "2023-03-15T12:22:23.705Z"
   },
   {
    "duration": 190325,
    "start_time": "2023-03-15T12:27:19.874Z"
   },
   {
    "duration": 201574,
    "start_time": "2023-03-15T12:30:30.201Z"
   },
   {
    "duration": 1533,
    "start_time": "2023-03-15T17:17:50.209Z"
   },
   {
    "duration": 128,
    "start_time": "2023-03-15T17:17:51.744Z"
   },
   {
    "duration": 0,
    "start_time": "2023-03-15T17:17:51.874Z"
   },
   {
    "duration": 0,
    "start_time": "2023-03-15T17:17:51.875Z"
   },
   {
    "duration": 0,
    "start_time": "2023-03-15T17:17:51.876Z"
   },
   {
    "duration": 0,
    "start_time": "2023-03-15T17:17:51.877Z"
   },
   {
    "duration": 0,
    "start_time": "2023-03-15T17:17:51.878Z"
   },
   {
    "duration": 0,
    "start_time": "2023-03-15T17:17:51.879Z"
   },
   {
    "duration": 0,
    "start_time": "2023-03-15T17:17:51.879Z"
   },
   {
    "duration": 0,
    "start_time": "2023-03-15T17:17:51.880Z"
   },
   {
    "duration": 0,
    "start_time": "2023-03-15T17:17:51.881Z"
   },
   {
    "duration": 0,
    "start_time": "2023-03-15T17:17:51.882Z"
   },
   {
    "duration": 0,
    "start_time": "2023-03-15T17:17:51.883Z"
   },
   {
    "duration": 0,
    "start_time": "2023-03-15T17:17:51.884Z"
   },
   {
    "duration": 0,
    "start_time": "2023-03-15T17:17:51.885Z"
   },
   {
    "duration": 0,
    "start_time": "2023-03-15T17:17:51.886Z"
   },
   {
    "duration": 0,
    "start_time": "2023-03-15T17:17:51.887Z"
   },
   {
    "duration": 0,
    "start_time": "2023-03-15T17:17:51.888Z"
   },
   {
    "duration": 10,
    "start_time": "2023-03-15T17:22:12.505Z"
   },
   {
    "duration": 4,
    "start_time": "2023-03-15T17:22:19.363Z"
   },
   {
    "duration": 5,
    "start_time": "2023-03-15T17:22:47.921Z"
   },
   {
    "duration": 11,
    "start_time": "2023-03-15T17:22:47.928Z"
   },
   {
    "duration": 159,
    "start_time": "2023-03-15T17:22:47.940Z"
   },
   {
    "duration": 11,
    "start_time": "2023-03-15T17:22:48.101Z"
   },
   {
    "duration": 10,
    "start_time": "2023-03-15T17:22:48.114Z"
   },
   {
    "duration": 4,
    "start_time": "2023-03-15T17:22:48.125Z"
   },
   {
    "duration": 17,
    "start_time": "2023-03-15T17:22:48.130Z"
   },
   {
    "duration": 12,
    "start_time": "2023-03-15T17:22:48.148Z"
   },
   {
    "duration": 4,
    "start_time": "2023-03-15T17:22:48.161Z"
   },
   {
    "duration": 13,
    "start_time": "2023-03-15T17:22:48.166Z"
   },
   {
    "duration": 844,
    "start_time": "2023-03-15T17:22:48.181Z"
   },
   {
    "duration": 131,
    "start_time": "2023-03-15T17:22:49.027Z"
   },
   {
    "duration": 3,
    "start_time": "2023-03-15T17:22:49.159Z"
   },
   {
    "duration": 5,
    "start_time": "2023-03-15T17:22:49.164Z"
   },
   {
    "duration": 6,
    "start_time": "2023-03-15T17:22:49.170Z"
   },
   {
    "duration": 32,
    "start_time": "2023-03-15T17:22:49.178Z"
   },
   {
    "duration": 144,
    "start_time": "2023-03-15T17:22:49.212Z"
   },
   {
    "duration": 3407,
    "start_time": "2023-03-15T17:22:49.358Z"
   },
   {
    "duration": 25,
    "start_time": "2023-03-15T17:22:57.797Z"
   },
   {
    "duration": 160,
    "start_time": "2023-03-15T17:23:15.301Z"
   },
   {
    "duration": 4,
    "start_time": "2023-03-15T17:24:13.043Z"
   },
   {
    "duration": 10,
    "start_time": "2023-03-15T17:25:06.155Z"
   },
   {
    "duration": 5,
    "start_time": "2023-03-15T17:25:27.993Z"
   },
   {
    "duration": 6,
    "start_time": "2023-03-15T17:26:07.209Z"
   },
   {
    "duration": 219,
    "start_time": "2023-03-15T17:26:53.005Z"
   },
   {
    "duration": 22,
    "start_time": "2023-03-15T17:27:29.074Z"
   },
   {
    "duration": 4642,
    "start_time": "2023-03-15T17:27:36.297Z"
   },
   {
    "duration": 9,
    "start_time": "2023-03-15T17:27:40.941Z"
   },
   {
    "duration": 9,
    "start_time": "2023-03-15T17:28:28.570Z"
   },
   {
    "duration": 205,
    "start_time": "2023-03-15T17:28:38.538Z"
   },
   {
    "duration": 111,
    "start_time": "2023-03-15T17:29:52.913Z"
   },
   {
    "duration": 247,
    "start_time": "2023-03-15T17:30:35.161Z"
   },
   {
    "duration": 10,
    "start_time": "2023-03-15T17:30:49.945Z"
   },
   {
    "duration": 24,
    "start_time": "2023-03-15T17:30:58.085Z"
   },
   {
    "duration": 201,
    "start_time": "2023-03-15T17:30:58.456Z"
   },
   {
    "duration": 261,
    "start_time": "2023-03-15T17:31:01.011Z"
   },
   {
    "duration": 235,
    "start_time": "2023-03-15T17:31:24.116Z"
   },
   {
    "duration": 22,
    "start_time": "2023-03-15T17:31:29.297Z"
   },
   {
    "duration": 4776,
    "start_time": "2023-03-15T17:31:31.320Z"
   },
   {
    "duration": 235,
    "start_time": "2023-03-15T17:31:53.672Z"
   },
   {
    "duration": 27,
    "start_time": "2023-03-15T17:39:28.001Z"
   },
   {
    "duration": 3,
    "start_time": "2023-03-15T17:59:11.499Z"
   },
   {
    "duration": 18,
    "start_time": "2023-03-15T17:59:19.267Z"
   },
   {
    "duration": 9,
    "start_time": "2023-03-15T18:00:03.468Z"
   },
   {
    "duration": 9,
    "start_time": "2023-03-15T18:02:10.712Z"
   },
   {
    "duration": 3,
    "start_time": "2023-03-15T18:02:13.154Z"
   },
   {
    "duration": 0,
    "start_time": "2023-03-15T18:02:37.124Z"
   },
   {
    "duration": 0,
    "start_time": "2023-03-15T18:02:37.125Z"
   },
   {
    "duration": 3,
    "start_time": "2023-03-15T18:04:32.118Z"
   },
   {
    "duration": 34265,
    "start_time": "2023-03-15T18:04:32.122Z"
   },
   {
    "duration": 36,
    "start_time": "2023-03-15T18:12:41.747Z"
   },
   {
    "duration": 108,
    "start_time": "2023-03-15T18:13:25.357Z"
   },
   {
    "duration": 24479,
    "start_time": "2023-03-15T18:14:15.948Z"
   },
   {
    "duration": 14735,
    "start_time": "2023-03-15T18:15:17.399Z"
   },
   {
    "duration": 118559,
    "start_time": "2023-03-15T18:15:46.803Z"
   },
   {
    "duration": 235741,
    "start_time": "2023-03-15T18:18:54.441Z"
   },
   {
    "duration": 135117,
    "start_time": "2023-03-15T18:22:57.151Z"
   },
   {
    "duration": 121998,
    "start_time": "2023-03-15T18:25:46.734Z"
   },
   {
    "duration": 145245,
    "start_time": "2023-03-15T18:28:23.852Z"
   },
   {
    "duration": 94949,
    "start_time": "2023-03-15T18:30:50.323Z"
   },
   {
    "duration": 385597,
    "start_time": "2023-03-15T18:34:36.890Z"
   },
   {
    "duration": 27,
    "start_time": "2023-03-15T18:46:26.412Z"
   },
   {
    "duration": 128,
    "start_time": "2023-03-15T18:46:27.227Z"
   },
   {
    "duration": 272,
    "start_time": "2023-03-15T18:46:38.092Z"
   },
   {
    "duration": 37,
    "start_time": "2023-03-15T18:46:57.188Z"
   },
   {
    "duration": 6445,
    "start_time": "2023-03-15T18:46:59.987Z"
   },
   {
    "duration": 284,
    "start_time": "2023-03-15T18:47:06.434Z"
   },
   {
    "duration": 119418,
    "start_time": "2023-03-15T18:48:12.866Z"
   },
   {
    "duration": 1585,
    "start_time": "2023-03-16T04:43:41.846Z"
   },
   {
    "duration": 2,
    "start_time": "2023-03-16T04:43:43.433Z"
   },
   {
    "duration": 90,
    "start_time": "2023-03-16T04:43:43.436Z"
   },
   {
    "duration": 12,
    "start_time": "2023-03-16T04:43:43.527Z"
   },
   {
    "duration": 9,
    "start_time": "2023-03-16T04:43:43.541Z"
   },
   {
    "duration": 9,
    "start_time": "2023-03-16T04:43:43.551Z"
   },
   {
    "duration": 18,
    "start_time": "2023-03-16T04:43:43.561Z"
   },
   {
    "duration": 12,
    "start_time": "2023-03-16T04:43:43.581Z"
   },
   {
    "duration": 4,
    "start_time": "2023-03-16T04:43:43.595Z"
   },
   {
    "duration": 11,
    "start_time": "2023-03-16T04:43:43.600Z"
   },
   {
    "duration": 948,
    "start_time": "2023-03-16T04:43:43.630Z"
   },
   {
    "duration": 129,
    "start_time": "2023-03-16T04:43:44.580Z"
   },
   {
    "duration": 3,
    "start_time": "2023-03-16T04:43:44.710Z"
   },
   {
    "duration": 4,
    "start_time": "2023-03-16T04:43:44.716Z"
   },
   {
    "duration": 10,
    "start_time": "2023-03-16T04:43:44.722Z"
   },
   {
    "duration": 212,
    "start_time": "2023-03-16T04:46:48.305Z"
   },
   {
    "duration": 33,
    "start_time": "2023-03-16T04:47:01.292Z"
   },
   {
    "duration": 107869,
    "start_time": "2023-03-16T04:47:03.147Z"
   },
   {
    "duration": 4,
    "start_time": "2023-03-16T04:52:27.719Z"
   },
   {
    "duration": 4,
    "start_time": "2023-03-16T04:53:52.119Z"
   },
   {
    "duration": 3,
    "start_time": "2023-03-16T04:54:03.856Z"
   },
   {
    "duration": 5,
    "start_time": "2023-03-16T04:54:21.119Z"
   },
   {
    "duration": 3,
    "start_time": "2023-03-16T04:54:46.482Z"
   },
   {
    "duration": 3,
    "start_time": "2023-03-16T04:55:36.137Z"
   },
   {
    "duration": 4,
    "start_time": "2023-03-16T04:55:47.937Z"
   },
   {
    "duration": 4,
    "start_time": "2023-03-16T04:55:57.338Z"
   },
   {
    "duration": 4,
    "start_time": "2023-03-16T04:56:17.825Z"
   },
   {
    "duration": 4,
    "start_time": "2023-03-16T04:56:41.746Z"
   },
   {
    "duration": 4,
    "start_time": "2023-03-16T04:57:17.123Z"
   },
   {
    "duration": 4,
    "start_time": "2023-03-16T04:57:28.698Z"
   },
   {
    "duration": 4,
    "start_time": "2023-03-16T04:57:39.539Z"
   },
   {
    "duration": 4,
    "start_time": "2023-03-16T04:58:25.094Z"
   },
   {
    "duration": 6,
    "start_time": "2023-03-16T04:58:26.518Z"
   },
   {
    "duration": 4,
    "start_time": "2023-03-16T04:58:28.286Z"
   },
   {
    "duration": 4,
    "start_time": "2023-03-16T04:58:30.002Z"
   },
   {
    "duration": 3,
    "start_time": "2023-03-16T04:59:08.556Z"
   },
   {
    "duration": 5,
    "start_time": "2023-03-16T04:59:10.050Z"
   },
   {
    "duration": 3,
    "start_time": "2023-03-16T04:59:11.035Z"
   },
   {
    "duration": 4,
    "start_time": "2023-03-16T04:59:12.098Z"
   },
   {
    "duration": 10,
    "start_time": "2023-03-16T05:03:59.214Z"
   },
   {
    "duration": 4,
    "start_time": "2023-03-16T05:04:09.415Z"
   },
   {
    "duration": 4,
    "start_time": "2023-03-16T05:04:11.935Z"
   },
   {
    "duration": 3,
    "start_time": "2023-03-16T05:04:20.582Z"
   },
   {
    "duration": 9,
    "start_time": "2023-03-16T05:04:27.486Z"
   },
   {
    "duration": 9,
    "start_time": "2023-03-16T05:06:29.090Z"
   },
   {
    "duration": 5,
    "start_time": "2023-03-16T05:06:54.323Z"
   },
   {
    "duration": 5,
    "start_time": "2023-03-16T05:07:05.498Z"
   },
   {
    "duration": 4,
    "start_time": "2023-03-16T05:10:47.911Z"
   },
   {
    "duration": 3,
    "start_time": "2023-03-16T05:10:48.494Z"
   },
   {
    "duration": 4,
    "start_time": "2023-03-16T05:10:49.744Z"
   },
   {
    "duration": 4,
    "start_time": "2023-03-16T05:10:51.451Z"
   },
   {
    "duration": 3,
    "start_time": "2023-03-16T05:11:47.182Z"
   },
   {
    "duration": 4,
    "start_time": "2023-03-16T05:11:47.690Z"
   },
   {
    "duration": 4,
    "start_time": "2023-03-16T05:11:48.445Z"
   },
   {
    "duration": 3,
    "start_time": "2023-03-16T05:11:49.810Z"
   },
   {
    "duration": 6,
    "start_time": "2023-03-16T05:18:08.710Z"
   },
   {
    "duration": 33,
    "start_time": "2023-03-16T05:18:12.726Z"
   },
   {
    "duration": 110,
    "start_time": "2023-03-16T05:18:18.828Z"
   },
   {
    "duration": 3364,
    "start_time": "2023-03-16T05:18:26.567Z"
   },
   {
    "duration": 376023,
    "start_time": "2023-03-16T05:21:50.726Z"
   },
   {
    "duration": 4,
    "start_time": "2023-03-16T05:31:11.572Z"
   },
   {
    "duration": 11,
    "start_time": "2023-03-16T05:31:11.579Z"
   },
   {
    "duration": 47,
    "start_time": "2023-03-16T05:31:11.592Z"
   },
   {
    "duration": 13,
    "start_time": "2023-03-16T05:31:11.641Z"
   },
   {
    "duration": 15,
    "start_time": "2023-03-16T05:31:11.657Z"
   },
   {
    "duration": 7,
    "start_time": "2023-03-16T05:31:11.674Z"
   },
   {
    "duration": 20,
    "start_time": "2023-03-16T05:31:11.682Z"
   },
   {
    "duration": 33,
    "start_time": "2023-03-16T05:31:11.703Z"
   },
   {
    "duration": 5,
    "start_time": "2023-03-16T05:31:11.738Z"
   },
   {
    "duration": 7,
    "start_time": "2023-03-16T05:31:11.744Z"
   },
   {
    "duration": 861,
    "start_time": "2023-03-16T05:31:11.752Z"
   },
   {
    "duration": 152,
    "start_time": "2023-03-16T05:31:12.615Z"
   },
   {
    "duration": 3,
    "start_time": "2023-03-16T05:31:12.770Z"
   },
   {
    "duration": 12,
    "start_time": "2023-03-16T05:31:16.807Z"
   },
   {
    "duration": 35,
    "start_time": "2023-03-16T05:31:17.956Z"
   },
   {
    "duration": 191,
    "start_time": "2023-03-16T05:31:23.740Z"
   },
   {
    "duration": 4581,
    "start_time": "2023-03-16T05:31:24.851Z"
   },
   {
    "duration": 493425,
    "start_time": "2023-03-16T05:31:37.391Z"
   },
   {
    "duration": 91,
    "start_time": "2023-03-16T05:41:53.462Z"
   },
   {
    "duration": 19,
    "start_time": "2023-03-16T05:42:15.422Z"
   },
   {
    "duration": 47,
    "start_time": "2023-03-16T05:42:22.127Z"
   },
   {
    "duration": 11,
    "start_time": "2023-03-16T05:43:12.410Z"
   },
   {
    "duration": 14,
    "start_time": "2023-03-16T05:43:37.554Z"
   },
   {
    "duration": 14,
    "start_time": "2023-03-16T05:44:22.090Z"
   },
   {
    "duration": 10398,
    "start_time": "2023-03-16T05:45:10.035Z"
   },
   {
    "duration": 29,
    "start_time": "2023-03-16T05:45:39.695Z"
   },
   {
    "duration": 7815,
    "start_time": "2023-03-16T05:45:41.752Z"
   },
   {
    "duration": 7812,
    "start_time": "2023-03-16T05:46:13.103Z"
   },
   {
    "duration": 320,
    "start_time": "2023-03-16T05:46:32.883Z"
   },
   {
    "duration": 487983,
    "start_time": "2023-03-16T05:47:25.214Z"
   },
   {
    "duration": 2,
    "start_time": "2023-03-16T05:57:06.987Z"
   },
   {
    "duration": 6,
    "start_time": "2023-03-16T05:58:23.132Z"
   },
   {
    "duration": 11,
    "start_time": "2023-03-16T05:58:23.146Z"
   },
   {
    "duration": 52,
    "start_time": "2023-03-16T05:58:23.158Z"
   },
   {
    "duration": 11,
    "start_time": "2023-03-16T05:58:23.212Z"
   },
   {
    "duration": 20,
    "start_time": "2023-03-16T05:58:23.224Z"
   },
   {
    "duration": 17,
    "start_time": "2023-03-16T05:58:23.245Z"
   },
   {
    "duration": 15,
    "start_time": "2023-03-16T05:58:23.264Z"
   },
   {
    "duration": 28,
    "start_time": "2023-03-16T05:58:23.281Z"
   },
   {
    "duration": 6,
    "start_time": "2023-03-16T05:58:23.311Z"
   },
   {
    "duration": 6,
    "start_time": "2023-03-16T05:58:23.319Z"
   },
   {
    "duration": 814,
    "start_time": "2023-03-16T05:58:23.326Z"
   },
   {
    "duration": 156,
    "start_time": "2023-03-16T05:58:24.141Z"
   },
   {
    "duration": 3,
    "start_time": "2023-03-16T05:58:24.299Z"
   },
   {
    "duration": 3,
    "start_time": "2023-03-16T05:58:54.086Z"
   },
   {
    "duration": 4,
    "start_time": "2023-03-16T05:59:09.287Z"
   },
   {
    "duration": 13,
    "start_time": "2023-03-16T05:59:23.387Z"
   },
   {
    "duration": 4,
    "start_time": "2023-03-16T05:59:28.525Z"
   },
   {
    "duration": 6,
    "start_time": "2023-03-16T05:59:42.599Z"
   },
   {
    "duration": 40,
    "start_time": "2023-03-16T05:59:43.387Z"
   },
   {
    "duration": 4,
    "start_time": "2023-03-16T06:01:11.787Z"
   },
   {
    "duration": 23,
    "start_time": "2023-03-16T06:01:11.794Z"
   },
   {
    "duration": 84,
    "start_time": "2023-03-16T06:01:11.819Z"
   },
   {
    "duration": 14,
    "start_time": "2023-03-16T06:01:11.905Z"
   },
   {
    "duration": 42,
    "start_time": "2023-03-16T06:01:11.921Z"
   },
   {
    "duration": 14,
    "start_time": "2023-03-16T06:01:11.964Z"
   },
   {
    "duration": 21,
    "start_time": "2023-03-16T06:01:11.980Z"
   },
   {
    "duration": 23,
    "start_time": "2023-03-16T06:01:12.004Z"
   },
   {
    "duration": 31,
    "start_time": "2023-03-16T06:01:12.035Z"
   },
   {
    "duration": 18,
    "start_time": "2023-03-16T06:01:12.069Z"
   },
   {
    "duration": 934,
    "start_time": "2023-03-16T06:01:12.090Z"
   },
   {
    "duration": 160,
    "start_time": "2023-03-16T06:01:13.026Z"
   },
   {
    "duration": 2,
    "start_time": "2023-03-16T06:01:13.188Z"
   },
   {
    "duration": 11,
    "start_time": "2023-03-16T06:03:46.429Z"
   },
   {
    "duration": 4,
    "start_time": "2023-03-16T06:03:48.804Z"
   },
   {
    "duration": 5,
    "start_time": "2023-03-16T06:03:49.298Z"
   },
   {
    "duration": 5,
    "start_time": "2023-03-16T06:03:50.057Z"
   },
   {
    "duration": 8,
    "start_time": "2023-03-16T06:03:53.403Z"
   },
   {
    "duration": 38,
    "start_time": "2023-03-16T06:03:53.787Z"
   },
   {
    "duration": 44,
    "start_time": "2023-03-16T06:04:10.117Z"
   },
   {
    "duration": 4575,
    "start_time": "2023-03-16T06:04:14.192Z"
   },
   {
    "duration": 54890,
    "start_time": "2023-03-16T06:04:18.770Z"
   },
   {
    "duration": 448516,
    "start_time": "2023-03-16T06:06:10.352Z"
   },
   {
    "duration": 5,
    "start_time": "2023-03-16T06:13:38.870Z"
   },
   {
    "duration": 11,
    "start_time": "2023-03-16T06:20:42.099Z"
   },
   {
    "duration": 26,
    "start_time": "2023-03-16T06:21:27.903Z"
   },
   {
    "duration": 10,
    "start_time": "2023-03-16T06:27:21.118Z"
   },
   {
    "duration": 8,
    "start_time": "2023-03-16T06:35:46.556Z"
   },
   {
    "duration": 181,
    "start_time": "2023-03-16T06:37:32.852Z"
   },
   {
    "duration": 8536,
    "start_time": "2023-03-16T06:37:43.157Z"
   },
   {
    "duration": 48,
    "start_time": "2023-03-16T06:37:57.608Z"
   },
   {
    "duration": 13,
    "start_time": "2023-03-16T06:38:05.262Z"
   },
   {
    "duration": 4263,
    "start_time": "2023-03-16T06:38:10.406Z"
   },
   {
    "duration": 37,
    "start_time": "2023-03-16T06:39:04.238Z"
   },
   {
    "duration": 33,
    "start_time": "2023-03-16T06:39:19.061Z"
   },
   {
    "duration": 166,
    "start_time": "2023-03-16T06:39:19.887Z"
   },
   {
    "duration": 41,
    "start_time": "2023-03-16T06:39:29.194Z"
   },
   {
    "duration": 382,
    "start_time": "2023-03-16T06:39:33.923Z"
   },
   {
    "duration": 22,
    "start_time": "2023-03-16T06:39:53.778Z"
   },
   {
    "duration": 4749,
    "start_time": "2023-03-16T06:39:55.111Z"
   },
   {
    "duration": 258,
    "start_time": "2023-03-16T06:39:59.863Z"
   },
   {
    "duration": 82,
    "start_time": "2023-03-16T06:40:24.278Z"
   },
   {
    "duration": 4754,
    "start_time": "2023-03-16T06:40:37.648Z"
   },
   {
    "duration": 259,
    "start_time": "2023-03-16T06:40:42.405Z"
   },
   {
    "duration": 24,
    "start_time": "2023-03-16T07:15:00.519Z"
   },
   {
    "duration": 61198,
    "start_time": "2023-03-16T07:15:01.724Z"
   },
   {
    "duration": 136264,
    "start_time": "2023-03-16T07:19:09.920Z"
   },
   {
    "duration": 42,
    "start_time": "2023-03-16T07:22:10.732Z"
   },
   {
    "duration": 223766,
    "start_time": "2023-03-16T07:22:17.441Z"
   },
   {
    "duration": 65692,
    "start_time": "2023-03-16T07:26:37.307Z"
   },
   {
    "duration": 56514,
    "start_time": "2023-03-16T07:30:00.131Z"
   },
   {
    "duration": 99103,
    "start_time": "2023-03-16T07:31:36.545Z"
   },
   {
    "duration": 77147,
    "start_time": "2023-03-16T07:34:26.263Z"
   },
   {
    "duration": 5,
    "start_time": "2023-03-16T07:36:30.599Z"
   },
   {
    "duration": 63,
    "start_time": "2023-03-16T07:45:23.542Z"
   },
   {
    "duration": 13578,
    "start_time": "2023-03-16T07:45:51.275Z"
   },
   {
    "duration": 457693,
    "start_time": "2023-03-16T07:46:27.519Z"
   },
   {
    "duration": 10,
    "start_time": "2023-03-16T07:55:32.560Z"
   },
   {
    "duration": 43661,
    "start_time": "2023-03-16T07:56:16.068Z"
   },
   {
    "duration": 10,
    "start_time": "2023-03-16T07:57:03.162Z"
   },
   {
    "duration": 4,
    "start_time": "2023-03-16T07:58:50.085Z"
   },
   {
    "duration": 10,
    "start_time": "2023-03-16T07:59:12.790Z"
   },
   {
    "duration": 10,
    "start_time": "2023-03-16T07:59:51.402Z"
   },
   {
    "duration": 55,
    "start_time": "2023-03-16T08:00:22.682Z"
   },
   {
    "duration": 23819,
    "start_time": "2023-03-16T08:00:33.626Z"
   },
   {
    "duration": 21,
    "start_time": "2023-03-16T08:01:00.526Z"
   },
   {
    "duration": 4,
    "start_time": "2023-03-16T08:01:08.863Z"
   },
   {
    "duration": 20600,
    "start_time": "2023-03-16T08:02:01.250Z"
   },
   {
    "duration": 15,
    "start_time": "2023-03-16T08:02:22.660Z"
   },
   {
    "duration": 21,
    "start_time": "2023-03-16T08:02:26.942Z"
   },
   {
    "duration": 44,
    "start_time": "2023-03-16T08:02:50.970Z"
   },
   {
    "duration": 22791,
    "start_time": "2023-03-16T08:03:03.692Z"
   },
   {
    "duration": 20,
    "start_time": "2023-03-16T08:03:27.020Z"
   },
   {
    "duration": 3,
    "start_time": "2023-03-16T08:03:54.089Z"
   },
   {
    "duration": 494539,
    "start_time": "2023-03-16T08:04:34.952Z"
   },
   {
    "duration": 41,
    "start_time": "2023-03-16T08:13:20.054Z"
   },
   {
    "duration": 48,
    "start_time": "2023-03-16T08:13:34.770Z"
   },
   {
    "duration": 6506,
    "start_time": "2023-03-16T08:13:47.666Z"
   },
   {
    "duration": 87,
    "start_time": "2023-03-16T08:15:11.902Z"
   },
   {
    "duration": 10552,
    "start_time": "2023-03-16T08:15:51.138Z"
   },
   {
    "duration": 32,
    "start_time": "2023-03-16T08:16:24.726Z"
   },
   {
    "duration": 5165,
    "start_time": "2023-03-16T08:16:34.798Z"
   },
   {
    "duration": 3999,
    "start_time": "2023-03-16T08:18:17.886Z"
   },
   {
    "duration": 8,
    "start_time": "2023-03-16T08:20:24.354Z"
   },
   {
    "duration": 8,
    "start_time": "2023-03-16T08:20:33.087Z"
   },
   {
    "duration": 125,
    "start_time": "2023-03-16T08:21:04.945Z"
   },
   {
    "duration": 8,
    "start_time": "2023-03-16T08:21:15.803Z"
   },
   {
    "duration": 1729,
    "start_time": "2023-03-17T05:16:32.227Z"
   },
   {
    "duration": 3,
    "start_time": "2023-03-17T05:16:33.958Z"
   },
   {
    "duration": 207,
    "start_time": "2023-03-17T05:16:33.962Z"
   },
   {
    "duration": 13,
    "start_time": "2023-03-17T05:16:34.171Z"
   },
   {
    "duration": 22,
    "start_time": "2023-03-17T05:16:34.186Z"
   },
   {
    "duration": 8,
    "start_time": "2023-03-17T05:16:34.209Z"
   },
   {
    "duration": 29,
    "start_time": "2023-03-17T05:16:34.219Z"
   },
   {
    "duration": 52,
    "start_time": "2023-03-17T05:16:34.250Z"
   },
   {
    "duration": 22,
    "start_time": "2023-03-17T05:16:34.304Z"
   },
   {
    "duration": 46,
    "start_time": "2023-03-17T05:16:34.329Z"
   },
   {
    "duration": 961,
    "start_time": "2023-03-17T05:16:34.377Z"
   },
   {
    "duration": 137,
    "start_time": "2023-03-17T05:16:35.340Z"
   },
   {
    "duration": 135,
    "start_time": "2023-03-17T05:16:55.866Z"
   },
   {
    "duration": 145,
    "start_time": "2023-03-17T05:18:01.709Z"
   },
   {
    "duration": 190,
    "start_time": "2023-03-17T05:19:01.470Z"
   },
   {
    "duration": 162,
    "start_time": "2023-03-17T05:19:07.614Z"
   },
   {
    "duration": 54,
    "start_time": "2023-03-17T05:20:55.792Z"
   },
   {
    "duration": 7,
    "start_time": "2023-03-17T05:30:36.991Z"
   },
   {
    "duration": 11,
    "start_time": "2023-03-17T05:30:37.000Z"
   },
   {
    "duration": 58,
    "start_time": "2023-03-17T05:30:37.013Z"
   },
   {
    "duration": 17,
    "start_time": "2023-03-17T05:30:37.073Z"
   },
   {
    "duration": 14,
    "start_time": "2023-03-17T05:30:37.093Z"
   },
   {
    "duration": 21,
    "start_time": "2023-03-17T05:30:37.109Z"
   },
   {
    "duration": 31,
    "start_time": "2023-03-17T05:30:37.132Z"
   },
   {
    "duration": 25,
    "start_time": "2023-03-17T05:30:37.165Z"
   },
   {
    "duration": 6,
    "start_time": "2023-03-17T05:30:37.192Z"
   },
   {
    "duration": 10,
    "start_time": "2023-03-17T05:30:37.200Z"
   },
   {
    "duration": 1078,
    "start_time": "2023-03-17T05:30:37.212Z"
   },
   {
    "duration": 292,
    "start_time": "2023-03-17T05:30:38.292Z"
   },
   {
    "duration": 218,
    "start_time": "2023-03-17T05:30:38.590Z"
   },
   {
    "duration": 6,
    "start_time": "2023-03-17T05:30:38.812Z"
   },
   {
    "duration": 6,
    "start_time": "2023-03-17T05:30:38.820Z"
   },
   {
    "duration": 8,
    "start_time": "2023-03-17T05:30:38.829Z"
   },
   {
    "duration": 8,
    "start_time": "2023-03-17T05:30:38.839Z"
   },
   {
    "duration": 6,
    "start_time": "2023-03-17T05:31:37.198Z"
   },
   {
    "duration": 6,
    "start_time": "2023-03-17T05:31:37.207Z"
   },
   {
    "duration": 45,
    "start_time": "2023-03-17T05:31:37.214Z"
   },
   {
    "duration": 14,
    "start_time": "2023-03-17T05:31:37.262Z"
   },
   {
    "duration": 12,
    "start_time": "2023-03-17T05:31:37.289Z"
   },
   {
    "duration": 8,
    "start_time": "2023-03-17T05:31:37.303Z"
   },
   {
    "duration": 25,
    "start_time": "2023-03-17T05:31:37.314Z"
   },
   {
    "duration": 51,
    "start_time": "2023-03-17T05:31:37.343Z"
   },
   {
    "duration": 6,
    "start_time": "2023-03-17T05:31:37.398Z"
   },
   {
    "duration": 6,
    "start_time": "2023-03-17T05:31:37.408Z"
   },
   {
    "duration": 1050,
    "start_time": "2023-03-17T05:31:37.416Z"
   },
   {
    "duration": 271,
    "start_time": "2023-03-17T05:31:38.469Z"
   },
   {
    "duration": 191,
    "start_time": "2023-03-17T05:31:38.743Z"
   },
   {
    "duration": 3,
    "start_time": "2023-03-17T05:31:38.937Z"
   },
   {
    "duration": 36,
    "start_time": "2023-03-17T05:31:38.943Z"
   },
   {
    "duration": 47,
    "start_time": "2023-03-17T05:31:38.980Z"
   },
   {
    "duration": 41,
    "start_time": "2023-03-17T05:31:39.030Z"
   },
   {
    "duration": 32,
    "start_time": "2023-03-17T05:31:39.073Z"
   },
   {
    "duration": 60,
    "start_time": "2023-03-17T05:31:39.107Z"
   },
   {
    "duration": 6,
    "start_time": "2023-03-17T05:31:39.169Z"
   },
   {
    "duration": 38,
    "start_time": "2023-03-17T05:31:39.177Z"
   },
   {
    "duration": 32,
    "start_time": "2023-03-17T05:31:55.397Z"
   },
   {
    "duration": 57,
    "start_time": "2023-03-17T05:32:17.346Z"
   },
   {
    "duration": 54,
    "start_time": "2023-03-17T05:32:18.401Z"
   },
   {
    "duration": 5784,
    "start_time": "2023-03-17T05:32:23.584Z"
   },
   {
    "duration": 3,
    "start_time": "2023-03-17T05:33:27.988Z"
   },
   {
    "duration": 264,
    "start_time": "2023-03-17T05:36:40.828Z"
   },
   {
    "duration": 304,
    "start_time": "2023-03-17T05:36:59.579Z"
   },
   {
    "duration": 49,
    "start_time": "2023-03-17T05:37:55.444Z"
   },
   {
    "duration": 127,
    "start_time": "2023-03-17T05:38:15.948Z"
   },
   {
    "duration": 26,
    "start_time": "2023-03-17T05:38:56.189Z"
   },
   {
    "duration": 24,
    "start_time": "2023-03-17T05:39:55.662Z"
   },
   {
    "duration": 10,
    "start_time": "2023-03-17T05:40:12.398Z"
   },
   {
    "duration": 18,
    "start_time": "2023-03-17T05:40:17.606Z"
   },
   {
    "duration": 8,
    "start_time": "2023-03-17T05:40:36.639Z"
   },
   {
    "duration": 8,
    "start_time": "2023-03-17T05:40:51.950Z"
   },
   {
    "duration": 6,
    "start_time": "2023-03-17T05:41:41.639Z"
   },
   {
    "duration": 10,
    "start_time": "2023-03-17T05:42:47.282Z"
   },
   {
    "duration": 241,
    "start_time": "2023-03-17T05:42:57.881Z"
   },
   {
    "duration": 350,
    "start_time": "2023-03-17T05:43:16.632Z"
   },
   {
    "duration": 265,
    "start_time": "2023-03-17T05:44:07.689Z"
   },
   {
    "duration": 241,
    "start_time": "2023-03-17T05:44:50.658Z"
   },
   {
    "duration": 251,
    "start_time": "2023-03-17T05:45:00.874Z"
   },
   {
    "duration": 252,
    "start_time": "2023-03-17T05:46:40.683Z"
   },
   {
    "duration": 46,
    "start_time": "2023-03-17T07:07:15.442Z"
   },
   {
    "duration": 52,
    "start_time": "2023-03-17T07:07:23.350Z"
   },
   {
    "duration": 8080,
    "start_time": "2023-03-17T07:07:26.204Z"
   },
   {
    "duration": 62,
    "start_time": "2023-03-17T07:08:20.792Z"
   },
   {
    "duration": 52,
    "start_time": "2023-03-17T07:08:24.959Z"
   },
   {
    "duration": 48,
    "start_time": "2023-03-17T07:19:03.660Z"
   },
   {
    "duration": 39,
    "start_time": "2023-03-17T07:19:04.247Z"
   },
   {
    "duration": 5736,
    "start_time": "2023-03-17T07:19:05.007Z"
   },
   {
    "duration": 36,
    "start_time": "2023-03-17T07:19:20.047Z"
   },
   {
    "duration": 41,
    "start_time": "2023-03-17T07:19:20.942Z"
   },
   {
    "duration": 5368,
    "start_time": "2023-03-17T07:19:21.806Z"
   },
   {
    "duration": 4883,
    "start_time": "2023-03-17T07:22:58.969Z"
   },
   {
    "duration": 6370,
    "start_time": "2023-03-17T07:23:34.186Z"
   },
   {
    "duration": 9276,
    "start_time": "2023-03-17T07:24:15.196Z"
   },
   {
    "duration": 260,
    "start_time": "2023-03-17T07:25:52.252Z"
   },
   {
    "duration": 185820,
    "start_time": "2023-03-17T07:27:10.692Z"
   },
   {
    "duration": 26,
    "start_time": "2023-03-17T07:30:31.504Z"
   },
   {
    "duration": 27,
    "start_time": "2023-03-17T07:30:55.031Z"
   },
   {
    "duration": 29,
    "start_time": "2023-03-17T07:31:54.186Z"
   },
   {
    "duration": 39,
    "start_time": "2023-03-17T07:32:17.521Z"
   },
   {
    "duration": 857107,
    "start_time": "2023-03-17T07:32:28.177Z"
   },
   {
    "duration": 68,
    "start_time": "2023-03-17T07:47:43.571Z"
   },
   {
    "duration": 83,
    "start_time": "2023-03-17T07:47:44.348Z"
   },
   {
    "duration": 18256,
    "start_time": "2023-03-17T07:47:47.414Z"
   },
   {
    "duration": 15065,
    "start_time": "2023-03-17T07:50:47.576Z"
   },
   {
    "duration": 883612,
    "start_time": "2023-03-17T07:51:57.517Z"
   },
   {
    "duration": 6,
    "start_time": "2023-03-17T08:07:54.548Z"
   },
   {
    "duration": 3,
    "start_time": "2023-03-17T08:08:43.524Z"
   },
   {
    "duration": 39,
    "start_time": "2023-03-17T08:09:15.900Z"
   },
   {
    "duration": 165,
    "start_time": "2023-03-17T08:09:16.628Z"
   },
   {
    "duration": 342,
    "start_time": "2023-03-17T08:09:24.213Z"
   },
   {
    "duration": 40,
    "start_time": "2023-03-17T08:10:24.709Z"
   },
   {
    "duration": 14023,
    "start_time": "2023-03-17T08:10:25.398Z"
   },
   {
    "duration": 546,
    "start_time": "2023-03-17T08:10:39.424Z"
   },
   {
    "duration": 34,
    "start_time": "2023-03-17T08:10:55.926Z"
   },
   {
    "duration": 120433,
    "start_time": "2023-03-17T08:10:58.214Z"
   },
   {
    "duration": 152668,
    "start_time": "2023-03-17T08:13:45.865Z"
   },
   {
    "duration": 247557,
    "start_time": "2023-03-17T08:17:06.379Z"
   },
   {
    "duration": 69,
    "start_time": "2023-03-17T08:33:22.901Z"
   },
   {
    "duration": 62,
    "start_time": "2023-03-17T08:33:24.080Z"
   },
   {
    "duration": 76,
    "start_time": "2023-03-17T08:33:35.969Z"
   },
   {
    "duration": 18793,
    "start_time": "2023-03-17T08:33:39.232Z"
   },
   {
    "duration": 268,
    "start_time": "2023-03-17T08:34:02.993Z"
   },
   {
    "duration": 355,
    "start_time": "2023-03-17T08:34:06.801Z"
   },
   {
    "duration": 12,
    "start_time": "2023-03-17T08:34:13.522Z"
   },
   {
    "duration": 4,
    "start_time": "2023-03-17T10:02:36.368Z"
   },
   {
    "duration": 71,
    "start_time": "2023-03-17T10:07:58.149Z"
   },
   {
    "duration": 3,
    "start_time": "2023-03-17T10:08:06.852Z"
   },
   {
    "duration": 89,
    "start_time": "2023-03-17T10:12:59.489Z"
   },
   {
    "duration": 91,
    "start_time": "2023-03-17T10:13:03.905Z"
   },
   {
    "duration": 121,
    "start_time": "2023-03-17T10:14:44.972Z"
   },
   {
    "duration": 109,
    "start_time": "2023-03-17T10:14:56.070Z"
   },
   {
    "duration": 117,
    "start_time": "2023-03-17T10:16:14.145Z"
   },
   {
    "duration": 107,
    "start_time": "2023-03-17T10:17:07.744Z"
   },
   {
    "duration": 180,
    "start_time": "2023-03-17T10:17:22.708Z"
   },
   {
    "duration": 99,
    "start_time": "2023-03-17T10:18:07.684Z"
   },
   {
    "duration": 91,
    "start_time": "2023-03-17T10:20:03.829Z"
   },
   {
    "duration": 124,
    "start_time": "2023-03-17T10:20:51.118Z"
   },
   {
    "duration": 3,
    "start_time": "2023-03-17T10:21:39.662Z"
   },
   {
    "duration": 81,
    "start_time": "2023-03-17T10:21:45.247Z"
   },
   {
    "duration": 139,
    "start_time": "2023-03-17T10:22:03.946Z"
   },
   {
    "duration": 3,
    "start_time": "2023-03-17T10:22:15.878Z"
   },
   {
    "duration": 93,
    "start_time": "2023-03-17T10:22:16.489Z"
   },
   {
    "duration": 22,
    "start_time": "2023-03-17T10:23:22.727Z"
   },
   {
    "duration": 3,
    "start_time": "2023-03-17T10:23:34.449Z"
   },
   {
    "duration": 6,
    "start_time": "2023-03-17T10:23:56.134Z"
   },
   {
    "duration": 91,
    "start_time": "2023-03-17T10:23:59.169Z"
   },
   {
    "duration": 101,
    "start_time": "2023-03-17T10:24:25.012Z"
   },
   {
    "duration": 5,
    "start_time": "2023-03-17T10:24:27.544Z"
   },
   {
    "duration": 5,
    "start_time": "2023-03-17T10:25:26.329Z"
   },
   {
    "duration": 181348,
    "start_time": "2023-03-17T10:25:26.874Z"
   },
   {
    "duration": 12,
    "start_time": "2023-03-17T10:28:28.227Z"
   },
   {
    "duration": 97,
    "start_time": "2023-03-17T10:30:39.822Z"
   },
   {
    "duration": 80,
    "start_time": "2023-03-17T10:30:40.970Z"
   },
   {
    "duration": 83,
    "start_time": "2023-03-17T10:30:43.860Z"
   },
   {
    "duration": 81,
    "start_time": "2023-03-17T10:30:46.861Z"
   },
   {
    "duration": 39,
    "start_time": "2023-03-17T10:30:50.475Z"
   },
   {
    "duration": 10384,
    "start_time": "2023-03-17T10:30:59.812Z"
   },
   {
    "duration": 174218,
    "start_time": "2023-03-17T10:32:09.010Z"
   },
   {
    "duration": 63,
    "start_time": "2023-03-17T10:39:36.272Z"
   },
   {
    "duration": 51,
    "start_time": "2023-03-17T10:39:49.968Z"
   },
   {
    "duration": 71,
    "start_time": "2023-03-17T10:40:15.974Z"
   },
   {
    "duration": 26,
    "start_time": "2023-03-17T10:40:50.238Z"
   },
   {
    "duration": 43,
    "start_time": "2023-03-17T10:41:08.050Z"
   },
   {
    "duration": 104,
    "start_time": "2023-03-17T10:41:43.181Z"
   },
   {
    "duration": 53,
    "start_time": "2023-03-17T10:42:00.971Z"
   },
   {
    "duration": 97,
    "start_time": "2023-03-17T10:42:04.048Z"
   },
   {
    "duration": 12,
    "start_time": "2023-03-17T10:42:35.964Z"
   },
   {
    "duration": 16,
    "start_time": "2023-03-17T10:42:57.013Z"
   },
   {
    "duration": 10,
    "start_time": "2023-03-17T10:44:33.068Z"
   },
   {
    "duration": 15,
    "start_time": "2023-03-17T10:45:13.442Z"
   },
   {
    "duration": 13,
    "start_time": "2023-03-17T10:45:38.471Z"
   },
   {
    "duration": 83,
    "start_time": "2023-03-17T10:56:01.479Z"
   },
   {
    "duration": 1625,
    "start_time": "2023-03-19T16:08:10.129Z"
   },
   {
    "duration": 3,
    "start_time": "2023-03-19T16:08:11.757Z"
   },
   {
    "duration": 96,
    "start_time": "2023-03-19T16:08:12.589Z"
   },
   {
    "duration": 13,
    "start_time": "2023-03-19T16:08:13.724Z"
   },
   {
    "duration": 11,
    "start_time": "2023-03-19T16:08:26.933Z"
   }
  ],
  "colab": {
   "include_colab_link": true,
   "provenance": []
  },
  "kernelspec": {
   "display_name": "Python 3 (ipykernel)",
   "language": "python",
   "name": "python3"
  },
  "language_info": {
   "codemirror_mode": {
    "name": "ipython",
    "version": 3
   },
   "file_extension": ".py",
   "mimetype": "text/x-python",
   "name": "python",
   "nbconvert_exporter": "python",
   "pygments_lexer": "ipython3",
   "version": "3.9.13"
  },
  "toc": {
   "base_numbering": 1,
   "nav_menu": {},
   "number_sections": true,
   "sideBar": true,
   "skip_h1_title": true,
   "title_cell": "Содержание",
   "title_sidebar": "Contents",
   "toc_cell": true,
   "toc_position": {
    "height": "calc(100% - 180px)",
    "left": "10px",
    "top": "150px",
    "width": "408.889px"
   },
   "toc_section_display": true,
   "toc_window_display": true
  }
 },
 "nbformat": 4,
 "nbformat_minor": 1
}
